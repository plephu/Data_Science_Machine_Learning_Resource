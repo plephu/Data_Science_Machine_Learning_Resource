{
 "cells": [
  {
   "cell_type": "markdown",
   "id": "vulnerable-procurement",
   "metadata": {},
   "source": [
    "# Bài tập 2: Ma trận"
   ]
  },
  {
   "cell_type": "code",
   "execution_count": 1,
   "id": "initial-snapshot",
   "metadata": {},
   "outputs": [],
   "source": [
    "import numpy as np"
   ]
  },
  {
   "cell_type": "markdown",
   "id": "usual-consultation",
   "metadata": {},
   "source": [
    "## Yêu cầu 1: Tạo ma trận\n",
    "- Tạo ma trận A: [[2,5,4], [3,6,1]]\n",
    "- Tạo ma trận B: [[3,2], [1,4], [5,7]]\n",
    "- Nhân 2 ma trận: C = A.B"
   ]
  },
  {
   "cell_type": "code",
   "execution_count": 3,
   "id": "native-second",
   "metadata": {},
   "outputs": [
    {
     "data": {
      "text/plain": [
       "array([[2, 5, 4],\n",
       "       [3, 6, 1]])"
      ]
     },
     "execution_count": 3,
     "metadata": {},
     "output_type": "execute_result"
    }
   ],
   "source": [
    "# Tạo ma trận A\n",
    "A = np.array([[2,5,4], [3,6,1]])\n",
    "A"
   ]
  },
  {
   "cell_type": "code",
   "execution_count": 4,
   "id": "genetic-accordance",
   "metadata": {},
   "outputs": [
    {
     "data": {
      "text/plain": [
       "array([[3, 2],\n",
       "       [1, 4],\n",
       "       [5, 7]])"
      ]
     },
     "execution_count": 4,
     "metadata": {},
     "output_type": "execute_result"
    }
   ],
   "source": [
    "# Tạo ma trận B\n",
    "B = np.array([[3,2], [1,4], [5,7]])\n",
    "B"
   ]
  },
  {
   "cell_type": "code",
   "execution_count": 5,
   "id": "wound-albany",
   "metadata": {},
   "outputs": [
    {
     "data": {
      "text/plain": [
       "array([[31, 52],\n",
       "       [20, 37]])"
      ]
     },
     "execution_count": 5,
     "metadata": {},
     "output_type": "execute_result"
    }
   ],
   "source": [
    "# nhân 2 ma trận\n",
    "# C = A.B\n",
    "C=A.dot(B)\n",
    "C"
   ]
  },
  {
   "cell_type": "code",
   "execution_count": 6,
   "id": "weighted-times",
   "metadata": {},
   "outputs": [
    {
     "name": "stdout",
     "output_type": "stream",
     "text": [
      "Ma trận A:\n",
      " [[2 5 4]\n",
      " [3 6 1]]\n",
      "Ma trận B:\n",
      " [[3 2]\n",
      " [1 4]\n",
      " [5 7]]\n",
      "Ma trận C = A.B:\n",
      " [[31 52]\n",
      " [20 37]]\n"
     ]
    }
   ],
   "source": [
    "print('Ma trận A:\\n', A)\n",
    "print('Ma trận B:\\n', B)\n",
    "print('Ma trận C = A.B:\\n', C)"
   ]
  },
  {
   "cell_type": "markdown",
   "id": "egyptian-still",
   "metadata": {},
   "source": [
    "## Yêu cầu 2: Nhân ma trận với vector\n",
    "- Tạo ma trận A: [[2,4,6], [1,3,5], [4,1,2]]\n",
    "- Tạo vector v: [1,2,3]\n",
    "- Nhân A với v : c = A.v"
   ]
  },
  {
   "cell_type": "code",
   "execution_count": 8,
   "id": "sustained-cylinder",
   "metadata": {},
   "outputs": [],
   "source": [
    "# Tạo ma trận A\n",
    "A=np.array([[2,4,6], [1,3,5], [4,1,2]])\n",
    "# Tạo vector v\n",
    "v=np.array([1,2,3])"
   ]
  },
  {
   "cell_type": "code",
   "execution_count": 10,
   "id": "hungry-cisco",
   "metadata": {},
   "outputs": [
    {
     "data": {
      "text/plain": [
       "array([28, 22, 12])"
      ]
     },
     "execution_count": 10,
     "metadata": {},
     "output_type": "execute_result"
    }
   ],
   "source": [
    "# c = A.v\n",
    "c=A.dot(v)\n",
    "c"
   ]
  },
  {
   "cell_type": "code",
   "execution_count": 11,
   "id": "minute-adrian",
   "metadata": {},
   "outputs": [
    {
     "name": "stdout",
     "output_type": "stream",
     "text": [
      "Ma trận A:\n",
      " [[2 4 6]\n",
      " [1 3 5]\n",
      " [4 1 2]]\n",
      "Vector v:\n",
      " [1 2 3]\n",
      "Vector c = A.v:\n",
      " [28 22 12]\n"
     ]
    }
   ],
   "source": [
    "print('Ma trận A:\\n', A)\n",
    "print('Vector v:\\n', v)\n",
    "print('Vector c = A.v:\\n', c)"
   ]
  },
  {
   "cell_type": "markdown",
   "id": "chubby-wedding",
   "metadata": {},
   "source": [
    "## Yêu cầu 3: Tìm ma trận chuyển vị của ma trận A, với A: [[1,2,3], [4,5,6]]"
   ]
  },
  {
   "cell_type": "code",
   "execution_count": 10,
   "id": "reasonable-difference",
   "metadata": {},
   "outputs": [
    {
     "data": {
      "text/plain": [
       "array([[1, 4],\n",
       "       [2, 5],\n",
       "       [3, 6]])"
      ]
     },
     "execution_count": 10,
     "metadata": {},
     "output_type": "execute_result"
    }
   ],
   "source": [
    "# ma trận chuyển vị\n"
   ]
  },
  {
   "cell_type": "code",
   "execution_count": 12,
   "id": "147173f0",
   "metadata": {},
   "outputs": [
    {
     "data": {
      "text/plain": [
       "array([[1, 4],\n",
       "       [2, 5],\n",
       "       [3, 6]])"
      ]
     },
     "execution_count": 12,
     "metadata": {},
     "output_type": "execute_result"
    }
   ],
   "source": [
    "A = np.array([[1,2,3], [4,5,6]])\n",
    "A.T"
   ]
  },
  {
   "cell_type": "markdown",
   "id": "julian-gauge",
   "metadata": {},
   "source": [
    "## Yêu cầu 4: Tìm ma trận nghịch đảo của ma trận A, với A: [[1,2,3], [4,5,6], [3,2,4]]"
   ]
  },
  {
   "cell_type": "code",
   "execution_count": 18,
   "id": "clear-robin",
   "metadata": {},
   "outputs": [],
   "source": [
    "from numpy.linalg import inv"
   ]
  },
  {
   "cell_type": "code",
   "execution_count": 19,
   "id": "valuable-handling",
   "metadata": {},
   "outputs": [],
   "source": [
    "# ma trận nghịch đảo\n"
   ]
  },
  {
   "cell_type": "code",
   "execution_count": 25,
   "id": "3170a2cd",
   "metadata": {},
   "outputs": [
    {
     "data": {
      "text/plain": [
       "array([[-0.88888889,  0.22222222,  0.33333333],\n",
       "       [-0.22222222,  0.55555556, -0.66666667],\n",
       "       [ 0.77777778, -0.44444444,  0.33333333]])"
      ]
     },
     "execution_count": 25,
     "metadata": {},
     "output_type": "execute_result"
    }
   ],
   "source": [
    "A= np.array([[1,2,3], [4,5,6], [3,2,4]])\n",
    "B=inv(A)\n",
    "B"
   ]
  },
  {
   "cell_type": "code",
   "execution_count": null,
   "id": "9c66d289",
   "metadata": {},
   "outputs": [],
   "source": []
  }
 ],
 "metadata": {
  "kernelspec": {
   "display_name": "Python 3 (ipykernel)",
   "language": "python",
   "name": "python3"
  },
  "language_info": {
   "codemirror_mode": {
    "name": "ipython",
    "version": 3
   },
   "file_extension": ".py",
   "mimetype": "text/x-python",
   "name": "python",
   "nbconvert_exporter": "python",
   "pygments_lexer": "ipython3",
   "version": "3.9.13"
  }
 },
 "nbformat": 4,
 "nbformat_minor": 5
}
