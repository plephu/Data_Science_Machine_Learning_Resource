{
 "cells": [
  {
   "cell_type": "markdown",
   "id": "every-property",
   "metadata": {},
   "source": [
    "# Bài tập 3: Hệ PT tuyến tính"
   ]
  },
  {
   "cell_type": "code",
   "execution_count": 3,
   "id": "dangerous-quarter",
   "metadata": {},
   "outputs": [],
   "source": [
    "import numpy as np\n",
    "from numpy.linalg import inv\n",
    "\n",
    "%config Completer.use_jedi = False"
   ]
  },
  {
   "cell_type": "markdown",
   "id": "confused-concrete",
   "metadata": {},
   "source": [
    "## Yêu cầu 1: Giải hệ PT tuyến tính: Ax = b\n",
    "- Giả sử A là ma trận vuông và định thức A khác 0\n",
    "- Ma trận A: [[1, -2], [0, 4]]\n",
    "- Vector b: [1, -2]"
   ]
  },
  {
   "cell_type": "markdown",
   "id": "gross-mainland",
   "metadata": {},
   "source": [
    "# $ Ax = b => x = A^{-1}.b $"
   ]
  },
  {
   "cell_type": "markdown",
   "id": "dress-spyware",
   "metadata": {},
   "source": [
    "## Yêu cầu 2: Giải hệ PT tuyến tính\n",
    "### 2x - 2y + z = -3\n",
    "### x + 3y - 2z = 1\n",
    "### 3x - y - z = 2"
   ]
  },
  {
   "cell_type": "code",
   "execution_count": 8,
   "id": "f6940688",
   "metadata": {},
   "outputs": [],
   "source": [
    "A=np.array([[2,-2,1], [1,3,-2], [3,-1,-1]])\n",
    "b=np.array([-3,1,2])"
   ]
  },
  {
   "cell_type": "code",
   "execution_count": 10,
   "id": "c38f3028",
   "metadata": {},
   "outputs": [
    {
     "data": {
      "text/plain": [
       "array([-1.4, -2. , -4.2])"
      ]
     },
     "execution_count": 10,
     "metadata": {},
     "output_type": "execute_result"
    }
   ],
   "source": [
    "x=inv(A).dot(b)\n",
    "x"
   ]
  }
 ],
 "metadata": {
  "kernelspec": {
   "display_name": "Python 3 (ipykernel)",
   "language": "python",
   "name": "python3"
  },
  "language_info": {
   "codemirror_mode": {
    "name": "ipython",
    "version": 3
   },
   "file_extension": ".py",
   "mimetype": "text/x-python",
   "name": "python",
   "nbconvert_exporter": "python",
   "pygments_lexer": "ipython3",
   "version": "3.9.12"
  }
 },
 "nbformat": 4,
 "nbformat_minor": 5
}
