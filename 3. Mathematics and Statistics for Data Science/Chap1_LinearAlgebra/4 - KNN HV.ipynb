{
 "cells": [
  {
   "cell_type": "markdown",
   "id": "sexual-maintenance",
   "metadata": {},
   "source": [
    "# Bài tập 4: Tìm k người hàng xóm gần nhất (k-nearest neighbors)"
   ]
  },
  {
   "cell_type": "code",
   "execution_count": 1,
   "id": "material-ownership",
   "metadata": {},
   "outputs": [],
   "source": [
    "import numpy as np\n",
    "from numpy.linalg import norm\n",
    "import pandas as pd\n",
    "\n",
    "%config Completer.use_jedi = False"
   ]
  },
  {
   "cell_type": "markdown",
   "id": "blocked-israeli",
   "metadata": {},
   "source": [
    "## Ví dụ: Tính khoảng cách từ vector v đến ma trận A"
   ]
  },
  {
   "cell_type": "code",
   "execution_count": 2,
   "id": "lightweight-tribune",
   "metadata": {},
   "outputs": [],
   "source": [
    "# đọc tập tin iris.csv\n",
    "df = pd.read_csv('data/iris.csv')"
   ]
  },
  {
   "cell_type": "code",
   "execution_count": 3,
   "id": "powered-eight",
   "metadata": {},
   "outputs": [],
   "source": [
    "# tạo ma trận A\n",
    "A = np.array(df[['sepal_length','sepal_width','petal_length','petal_width']])"
   ]
  },
  {
   "cell_type": "code",
   "execution_count": 4,
   "id": "charitable-darkness",
   "metadata": {},
   "outputs": [
    {
     "data": {
      "text/plain": [
       "(150, 4)"
      ]
     },
     "execution_count": 4,
     "metadata": {},
     "output_type": "execute_result"
    }
   ],
   "source": [
    "A.shape"
   ]
  },
  {
   "cell_type": "code",
   "execution_count": 5,
   "id": "increasing-swaziland",
   "metadata": {},
   "outputs": [
    {
     "data": {
      "text/plain": [
       "array([[5.1, 3.5, 1.4, 0.2],\n",
       "       [4.9, 3. , 1.4, 0.2],\n",
       "       [4.7, 3.2, 1.3, 0.2],\n",
       "       [4.6, 3.1, 1.5, 0.2],\n",
       "       [5. , 3.6, 1.4, 0.2]])"
      ]
     },
     "execution_count": 5,
     "metadata": {},
     "output_type": "execute_result"
    }
   ],
   "source": [
    "A[:5]"
   ]
  },
  {
   "cell_type": "code",
   "execution_count": 6,
   "id": "crucial-burlington",
   "metadata": {},
   "outputs": [],
   "source": [
    "# tạo vector v\n",
    "v = np.array([5.2,3.2,1.3,0.1])"
   ]
  },
  {
   "cell_type": "code",
   "execution_count": 7,
   "id": "behavioral-memphis",
   "metadata": {},
   "outputs": [],
   "source": [
    "# tính khoảng cách từ vector v đến ma trận A (khoảng cách của A-v)\n",
    "A_v = A - v\n",
    "distances = []\n",
    "for i in range(A_v.shape[0]):\n",
    "    distances.append(norm(A_v[i,:])) # norm 2\n",
    "result = np.array(distances)    "
   ]
  },
  {
   "cell_type": "code",
   "execution_count": 8,
   "id": "seven-jefferson",
   "metadata": {},
   "outputs": [
    {
     "data": {
      "text/plain": [
       "(150,)"
      ]
     },
     "execution_count": 8,
     "metadata": {},
     "output_type": "execute_result"
    }
   ],
   "source": [
    "result.shape"
   ]
  },
  {
   "cell_type": "code",
   "execution_count": 9,
   "id": "wound-lucas",
   "metadata": {},
   "outputs": [
    {
     "data": {
      "text/plain": [
       "array([0.34641016, 0.38729833, 0.50990195, 0.64807407, 0.46904158])"
      ]
     },
     "execution_count": 9,
     "metadata": {},
     "output_type": "execute_result"
    }
   ],
   "source": [
    "result[:5]"
   ]
  },
  {
   "cell_type": "markdown",
   "id": "loose-donna",
   "metadata": {},
   "source": [
    "## Yêu cầu 1:\n",
    "- Viết hàm Distance(A, v) để tính khoảng cách từ vector v đến ma trận A\n",
    "- Hàm trả về vector là các khoảng cách (tính theo norm 2)"
   ]
  },
  {
   "cell_type": "code",
   "execution_count": 10,
   "id": "consolidated-denver",
   "metadata": {},
   "outputs": [],
   "source": [
    "def Distance(A, v):\n",
    "    A_v = A - v\n",
    "    distances = []\n",
    "    for i in range(A_v.shape[0]):\n",
    "        distances.append(norm(A_v[i,:])) # norm 2\n",
    "    result = np.array(distances) \n",
    "    return result\n",
    "    #pass"
   ]
  },
  {
   "cell_type": "code",
   "execution_count": 11,
   "id": "adult-heaven",
   "metadata": {},
   "outputs": [],
   "source": [
    "# gọi hàm: result = Distance(A, v)"
   ]
  },
  {
   "cell_type": "markdown",
   "id": "latest-elimination",
   "metadata": {},
   "source": [
    "## Yêu cầu 2: Viết hàm KNN(A, v, k=3) truyền vào ma trận A, vector v và số k mặc định là 3\n",
    "- Hàm gọi đến hàm Distance để tính khoảng cách từ vector v đến ma trận A\n",
    "- Sau đó tạo ma trận có 2 cột: cột index (bắt đầu từ 0) và cột các khoảng cách\n",
    "- Sắp xếp ma trận trên tăng dần khoảng cách và chọn ra k phần tử có khoảng cách nhỏ nhất\n",
    "- Hàm trả về 2 array: index và distance"
   ]
  },
  {
   "cell_type": "code",
   "execution_count": 12,
   "id": "proper-converter",
   "metadata": {},
   "outputs": [],
   "source": [
    "# ma trận A, vector v, mặc định k=3\n",
    "def KNN(A, v, k=3):\n",
    "    distance = Distance(A, v)\n",
    "    knn=pd.DataFrame(distance, columns =['distance']).sort_values(by='distance').head(k)\n",
    "    return knn.index, knn.values\n",
    "    #pass"
   ]
  },
  {
   "cell_type": "markdown",
   "id": "concerned-acceptance",
   "metadata": {},
   "source": [
    "## Yêu cầu 3: \n",
    "- Đọc tập tin iris.csv ra dataframe df\n",
    "- Từ dataframe df hãy tạo ma trận A với các thuộc tính 'sepal_length','sepal_width','petal_length','petal_width'\n",
    "- Tạo vector v có các phần tử: 5.2, 3.2, 1.3, 0.1\n",
    "- Gọi hàm: ind, dis = KNN(A, v, 3)\n",
    "- In ra ind và dis\n",
    "- In ra df.iloc[ind] và cho nhận xét"
   ]
  },
  {
   "cell_type": "code",
   "execution_count": 13,
   "id": "committed-denial",
   "metadata": {},
   "outputs": [],
   "source": [
    "# đọc tập tin iris.csv\n",
    "df = pd.read_csv('data/iris.csv')"
   ]
  },
  {
   "cell_type": "code",
   "execution_count": 14,
   "id": "5d54ae4d",
   "metadata": {},
   "outputs": [],
   "source": [
    "# tạo ma trận A\n",
    "A = np.array(df[['sepal_length','sepal_width','petal_length','petal_width']])"
   ]
  },
  {
   "cell_type": "code",
   "execution_count": 15,
   "id": "34ca67da",
   "metadata": {},
   "outputs": [],
   "source": [
    "v =np.array([5.2, 3.2, 1.3, 0.1])\n"
   ]
  },
  {
   "cell_type": "code",
   "execution_count": 16,
   "id": "e6d384e9",
   "metadata": {},
   "outputs": [],
   "source": [
    "ind,dis = KNN(A, v, 3)"
   ]
  },
  {
   "cell_type": "code",
   "execution_count": 17,
   "id": "a2b29c1a",
   "metadata": {},
   "outputs": [
    {
     "data": {
      "text/plain": [
       "Int64Index([28, 35, 49], dtype='int64')"
      ]
     },
     "execution_count": 17,
     "metadata": {},
     "output_type": "execute_result"
    }
   ],
   "source": [
    "ind"
   ]
  },
  {
   "cell_type": "code",
   "execution_count": 18,
   "id": "95a96377",
   "metadata": {},
   "outputs": [
    {
     "data": {
      "text/plain": [
       "array([[0.24494897],\n",
       "       [0.24494897],\n",
       "       [0.26457513]])"
      ]
     },
     "execution_count": 18,
     "metadata": {},
     "output_type": "execute_result"
    }
   ],
   "source": [
    "dis"
   ]
  },
  {
   "cell_type": "code",
   "execution_count": 19,
   "id": "ace09c73",
   "metadata": {},
   "outputs": [
    {
     "data": {
      "text/html": [
       "<div>\n",
       "<style scoped>\n",
       "    .dataframe tbody tr th:only-of-type {\n",
       "        vertical-align: middle;\n",
       "    }\n",
       "\n",
       "    .dataframe tbody tr th {\n",
       "        vertical-align: top;\n",
       "    }\n",
       "\n",
       "    .dataframe thead th {\n",
       "        text-align: right;\n",
       "    }\n",
       "</style>\n",
       "<table border=\"1\" class=\"dataframe\">\n",
       "  <thead>\n",
       "    <tr style=\"text-align: right;\">\n",
       "      <th></th>\n",
       "      <th>sepal_length</th>\n",
       "      <th>sepal_width</th>\n",
       "      <th>petal_length</th>\n",
       "      <th>petal_width</th>\n",
       "      <th>species</th>\n",
       "    </tr>\n",
       "  </thead>\n",
       "  <tbody>\n",
       "    <tr>\n",
       "      <th>28</th>\n",
       "      <td>5.2</td>\n",
       "      <td>3.4</td>\n",
       "      <td>1.4</td>\n",
       "      <td>0.2</td>\n",
       "      <td>setosa</td>\n",
       "    </tr>\n",
       "    <tr>\n",
       "      <th>35</th>\n",
       "      <td>5.0</td>\n",
       "      <td>3.2</td>\n",
       "      <td>1.2</td>\n",
       "      <td>0.2</td>\n",
       "      <td>setosa</td>\n",
       "    </tr>\n",
       "    <tr>\n",
       "      <th>49</th>\n",
       "      <td>5.0</td>\n",
       "      <td>3.3</td>\n",
       "      <td>1.4</td>\n",
       "      <td>0.2</td>\n",
       "      <td>setosa</td>\n",
       "    </tr>\n",
       "  </tbody>\n",
       "</table>\n",
       "</div>"
      ],
      "text/plain": [
       "    sepal_length  sepal_width  petal_length  petal_width species\n",
       "28           5.2          3.4           1.4          0.2  setosa\n",
       "35           5.0          3.2           1.2          0.2  setosa\n",
       "49           5.0          3.3           1.4          0.2  setosa"
      ]
     },
     "execution_count": 19,
     "metadata": {},
     "output_type": "execute_result"
    }
   ],
   "source": [
    "df.iloc[ind]"
   ]
  },
  {
   "cell_type": "code",
   "execution_count": null,
   "id": "61950947",
   "metadata": {},
   "outputs": [],
   "source": []
  }
 ],
 "metadata": {
  "kernelspec": {
   "display_name": "Python 3 (ipykernel)",
   "language": "python",
   "name": "python3"
  },
  "language_info": {
   "codemirror_mode": {
    "name": "ipython",
    "version": 3
   },
   "file_extension": ".py",
   "mimetype": "text/x-python",
   "name": "python",
   "nbconvert_exporter": "python",
   "pygments_lexer": "ipython3",
   "version": "3.9.13"
  }
 },
 "nbformat": 4,
 "nbformat_minor": 5
}
