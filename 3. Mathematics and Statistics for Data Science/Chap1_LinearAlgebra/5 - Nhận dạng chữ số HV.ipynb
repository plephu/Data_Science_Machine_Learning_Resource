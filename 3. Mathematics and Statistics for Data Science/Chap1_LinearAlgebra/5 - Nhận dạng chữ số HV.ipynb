{
 "cells": [
  {
   "cell_type": "markdown",
   "id": "stunning-column",
   "metadata": {},
   "source": [
    "# Bài tập 5: Nhận dạng số"
   ]
  },
  {
   "cell_type": "code",
   "execution_count": 16,
   "id": "upper-verse",
   "metadata": {},
   "outputs": [],
   "source": [
    "import numpy as np\n",
    "from numpy.linalg import norm\n",
    "from sklearn import datasets\n",
    "import matplotlib.pyplot as plt"
   ]
  },
  {
   "cell_type": "markdown",
   "id": "flying-apparel",
   "metadata": {},
   "source": [
    "## Đọc dữ liệu hình"
   ]
  },
  {
   "cell_type": "code",
   "execution_count": 17,
   "id": "promotional-immune",
   "metadata": {},
   "outputs": [],
   "source": [
    "data = datasets.load_digits()\n",
    "images = data.images # dữ liệu các hình\n",
    "labels = data.target # nhãn các hình"
   ]
  },
  {
   "cell_type": "code",
   "execution_count": 18,
   "id": "aging-trigger",
   "metadata": {},
   "outputs": [
    {
     "data": {
      "image/png": "[encoded data removed]",
      "text/plain": [
       "<Figure size 432x288 with 1 Axes>"
      ]
     },
     "metadata": {
      "needs_background": "light"
     },
     "output_type": "display_data"
    },
    {
     "name": "stdout",
     "output_type": "stream",
     "text": [
      "Hình của số 0\n"
     ]
    }
   ],
   "source": [
    "# vẽ một hình đầu tiên\n",
    "img = images[0]\n",
    "plt.imshow(img, cmap=plt.cm.gray_r)\n",
    "plt.show()\n",
    "print('Hình của số', labels[0])"
   ]
  },
  {
   "cell_type": "code",
   "execution_count": 19,
   "id": "selective-print",
   "metadata": {},
   "outputs": [
    {
     "data": {
      "text/plain": [
       "(1797,)"
      ]
     },
     "execution_count": 19,
     "metadata": {},
     "output_type": "execute_result"
    }
   ],
   "source": [
    "labels.shape"
   ]
  },
  {
   "cell_type": "code",
   "execution_count": 20,
   "id": "simplified-celebrity",
   "metadata": {},
   "outputs": [
    {
     "data": {
      "text/plain": [
       "(1797, 8, 8)"
      ]
     },
     "execution_count": 20,
     "metadata": {},
     "output_type": "execute_result"
    }
   ],
   "source": [
    "images.shape # 1797 hình, kích thước 8 x 8"
   ]
  },
  {
   "cell_type": "code",
   "execution_count": 21,
   "id": "hearing-shelter",
   "metadata": {},
   "outputs": [
    {
     "data": {
      "text/plain": [
       "array([[ 0.,  0.,  5., 13.,  9.,  1.,  0.,  0.],\n",
       "       [ 0.,  0., 13., 15., 10., 15.,  5.,  0.],\n",
       "       [ 0.,  3., 15.,  2.,  0., 11.,  8.,  0.],\n",
       "       [ 0.,  4., 12.,  0.,  0.,  8.,  8.,  0.],\n",
       "       [ 0.,  5.,  8.,  0.,  0.,  9.,  8.,  0.],\n",
       "       [ 0.,  4., 11.,  0.,  1., 12.,  7.,  0.],\n",
       "       [ 0.,  2., 14.,  5., 10., 12.,  0.,  0.],\n",
       "       [ 0.,  0.,  6., 13., 10.,  0.,  0.,  0.]])"
      ]
     },
     "execution_count": 21,
     "metadata": {},
     "output_type": "execute_result"
    }
   ],
   "source": [
    "images[0]"
   ]
  },
  {
   "cell_type": "markdown",
   "id": "controversial-drink",
   "metadata": {},
   "source": [
    "## Yêu cầu 1: Tạo ma trận A, có các dòng là vector (có 64 phần tử = 8 x 8)"
   ]
  },
  {
   "cell_type": "code",
   "execution_count": 31,
   "id": "arabic-transition",
   "metadata": {},
   "outputs": [],
   "source": [
    "# Tạo ma trận A\n"
   ]
  },
  {
   "cell_type": "markdown",
   "id": "editorial-empire",
   "metadata": {},
   "source": [
    "## Yêu cầu 2: \n",
    "- Tạo vector v là hình tại vị trí 4 (index=4), vector v kích thước 64\n",
    "- Gọi hàm: ind, dis = KNN(A, v) với A là ma trận vừa tạo\n",
    "- In ra ind và dis\n",
    "- In ra labels[ind] và cho nhận xét"
   ]
  },
  {
   "cell_type": "code",
   "execution_count": 34,
   "id": "advanced-particle",
   "metadata": {},
   "outputs": [],
   "source": [
    "# Tạo vector v là hình tại vị trí 4 (index=4), vector v kích thước 64\n",
    "image = images[4]\n",
    "v = image.reshape(image.size)"
   ]
  },
  {
   "cell_type": "code",
   "execution_count": 35,
   "id": "referenced-panic",
   "metadata": {},
   "outputs": [],
   "source": [
    "# Gọi hàm: ind, dis = KNN(A, v)\n"
   ]
  },
  {
   "cell_type": "code",
   "execution_count": 36,
   "id": "disturbed-circle",
   "metadata": {},
   "outputs": [],
   "source": [
    "# In ra ind và dis\n"
   ]
  },
  {
   "cell_type": "code",
   "execution_count": null,
   "id": "prescribed-assignment",
   "metadata": {},
   "outputs": [],
   "source": [
    "# In ra labels[ind] và cho nhận xét\n"
   ]
  }
 ],
 "metadata": {
  "kernelspec": {
   "display_name": "Python 3",
   "language": "python",
   "name": "python3"
  },
  "language_info": {
   "codemirror_mode": {
    "name": "ipython",
    "version": 3
   },
   "file_extension": ".py",
   "mimetype": "text/x-python",
   "name": "python",
   "nbconvert_exporter": "python",
   "pygments_lexer": "ipython3",
   "version": "3.6.8"
  }
 },
 "nbformat": 4,
 "nbformat_minor": 5
}
