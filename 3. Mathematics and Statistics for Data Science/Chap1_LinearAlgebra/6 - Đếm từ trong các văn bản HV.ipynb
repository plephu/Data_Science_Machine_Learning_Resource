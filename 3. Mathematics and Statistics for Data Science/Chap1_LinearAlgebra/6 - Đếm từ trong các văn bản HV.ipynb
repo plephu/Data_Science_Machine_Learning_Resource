{
 "cells": [
  {
   "cell_type": "markdown",
   "id": "viral-oklahoma",
   "metadata": {},
   "source": [
    "# Bài tập 6: Đếm các từ trong các văn bản\n",
    "- Cho các chuỗi văn bản. Ví dụ:\n",
    "    - s1: \"Tôi đi học\"\n",
    "    - s2: \"Học nữa học mãi\"\n",
    "    - s3: \"Học xong đi chơi\"\n",
    "- Hãy tạo một ma trận thưa với các dòng là các chuỗi văn bản, các cột là các từ và giá trị là số từ xuất hiện\n",
    "- Ví dụ: \n",
    "    - dòng s1 ==> tôi: 1; đi: 1; học: 1\n",
    "    - dòng s2 ==> học: 2; nữa: 1; mãi: 1\n",
    "    - dòng s3 ==> học:1; xong: 1; đi: 1; chơi: 1"
   ]
  },
  {
   "cell_type": "code",
   "execution_count": 9,
   "id": "loving-decline",
   "metadata": {},
   "outputs": [
    {
     "data": {
      "text/html": [
       "<div>\n",
       "<style scoped>\n",
       "    .dataframe tbody tr th:only-of-type {\n",
       "        vertical-align: middle;\n",
       "    }\n",
       "\n",
       "    .dataframe tbody tr th {\n",
       "        vertical-align: top;\n",
       "    }\n",
       "\n",
       "    .dataframe thead th {\n",
       "        text-align: right;\n",
       "    }\n",
       "</style>\n",
       "<table border=\"1\" class=\"dataframe\">\n",
       "  <thead>\n",
       "    <tr style=\"text-align: right;\">\n",
       "      <th></th>\n",
       "      <th>chuoi</th>\n",
       "      <th>chơi</th>\n",
       "      <th>học</th>\n",
       "      <th>mãi</th>\n",
       "      <th>nữa</th>\n",
       "      <th>tôi</th>\n",
       "      <th>xong</th>\n",
       "      <th>đi</th>\n",
       "    </tr>\n",
       "  </thead>\n",
       "  <tbody>\n",
       "    <tr>\n",
       "      <th>0</th>\n",
       "      <td>Tôi đi học</td>\n",
       "      <td>0</td>\n",
       "      <td>1</td>\n",
       "      <td>0</td>\n",
       "      <td>0</td>\n",
       "      <td>1</td>\n",
       "      <td>0</td>\n",
       "      <td>1</td>\n",
       "    </tr>\n",
       "    <tr>\n",
       "      <th>1</th>\n",
       "      <td>Học nữa học mãi</td>\n",
       "      <td>0</td>\n",
       "      <td>2</td>\n",
       "      <td>1</td>\n",
       "      <td>1</td>\n",
       "      <td>0</td>\n",
       "      <td>0</td>\n",
       "      <td>0</td>\n",
       "    </tr>\n",
       "    <tr>\n",
       "      <th>2</th>\n",
       "      <td>Học xong đi chơi</td>\n",
       "      <td>1</td>\n",
       "      <td>1</td>\n",
       "      <td>0</td>\n",
       "      <td>0</td>\n",
       "      <td>0</td>\n",
       "      <td>1</td>\n",
       "      <td>1</td>\n",
       "    </tr>\n",
       "  </tbody>\n",
       "</table>\n",
       "</div>"
      ],
      "text/plain": [
       "              chuoi  chơi  học  mãi  nữa  tôi  xong  đi\n",
       "0        Tôi đi học     0    1    0    0    1     0   1\n",
       "1   Học nữa học mãi     0    2    1    1    0     0   0\n",
       "2  Học xong đi chơi     1    1    0    0    0     1   1"
      ]
     },
     "execution_count": 9,
     "metadata": {},
     "output_type": "execute_result"
    }
   ],
   "source": [
    "# tạo một ma trận thưa với các dòng là các chuỗi văn bản, các cột là các từ và giá trị là số từ xuất hiện"
   ]
  },
  {
   "cell_type": "code",
   "execution_count": null,
   "id": "eleven-style",
   "metadata": {},
   "outputs": [],
   "source": []
  }
 ],
 "metadata": {
  "kernelspec": {
   "display_name": "Python 3",
   "language": "python",
   "name": "python3"
  },
  "language_info": {
   "codemirror_mode": {
    "name": "ipython",
    "version": 3
   },
   "file_extension": ".py",
   "mimetype": "text/x-python",
   "name": "python",
   "nbconvert_exporter": "python",
   "pygments_lexer": "ipython3",
   "version": "3.6.8"
  }
 },
 "nbformat": 4,
 "nbformat_minor": 5
}
