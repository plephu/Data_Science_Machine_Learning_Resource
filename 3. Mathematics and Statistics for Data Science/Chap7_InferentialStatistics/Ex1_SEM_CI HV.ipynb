{
 "cells": [
  {
   "cell_type": "markdown",
   "metadata": {
    "id": "CnlJGgPP6GXg"
   },
   "source": [
    "# Ex1: SEM, CI"
   ]
  },
  {
   "cell_type": "markdown",
   "metadata": {
    "id": "RoaErUOn6GXi"
   },
   "source": [
    "## Câu 1: SEM\n",
    "1. Tính SEM của sample distribution với standard deviation = 38 và sample size là 45.\n",
    "2. Tính SEM của dữ liệu sau: 14, 8, 11, 12, 16, 10\n",
    "3. Một số điểm IQ như sau: 96, 104, 126, 134, 140. Tính SEM."
   ]
  },
  {
   "cell_type": "code",
   "execution_count": null,
   "metadata": {},
   "outputs": [],
   "source": []
  },
  {
   "cell_type": "code",
   "execution_count": null,
   "metadata": {},
   "outputs": [],
   "source": []
  },
  {
   "cell_type": "markdown",
   "metadata": {
    "id": "cMihdYmv6GXj"
   },
   "source": [
    "## Câu 2: Confidence Interval và Levels\n",
    "1.  Lấy mẫu ngẫu nhiên 100 cây giống có chiều cao trung bình là 7.5 inch, độ lệch chuẩn 2.3 inch. Với mức độ tin cậy 95%, thì CI sẽ nằm trong khoảng nào? Vẽ histogram thể hiện sự phân phối.\n",
    "2. Cho dữ liệu Normtemp.txt chứa nhiệt độ, giới tính, nhịp tim của 130 người từ Journal of Statistics Education (Shoemaker 1996). Đọc dữ liệu từ tập tin nói trên, lấy toàn bộ cột Tempt. Với mức độ tin cậy 95%, thì CI sẽ nằm trong khoảng nào?"
   ]
  },
  {
   "cell_type": "code",
   "execution_count": null,
   "metadata": {},
   "outputs": [],
   "source": [
    "# Câu 1\n",
    "mu = 7.5\n",
    "stdev = 2.3\n",
    "n = 100\n",
    "while True:\n",
    "    heights = np.random.normal(mu, stdev, n)\n",
    "    if abs(mu - np.mean(heights)) < 0.01:\n",
    "        break"
   ]
  },
  {
   "cell_type": "code",
   "execution_count": null,
   "metadata": {},
   "outputs": [],
   "source": []
  },
  {
   "cell_type": "code",
   "execution_count": null,
   "metadata": {},
   "outputs": [],
   "source": [
    "# Câu 2\n",
    "data = pd.read_csv('data/Normtemp.txt', header=None, sep='\\s+')\n",
    "data.head()"
   ]
  },
  {
   "cell_type": "code",
   "execution_count": null,
   "metadata": {},
   "outputs": [],
   "source": []
  }
 ],
 "metadata": {
  "colab": {
   "collapsed_sections": [],
   "provenance": []
  },
  "kernelspec": {
   "display_name": "Python 3",
   "language": "python",
   "name": "python3"
  },
  "language_info": {
   "codemirror_mode": {
    "name": "ipython",
    "version": 3
   },
   "file_extension": ".py",
   "mimetype": "text/x-python",
   "name": "python",
   "nbconvert_exporter": "python",
   "pygments_lexer": "ipython3",
   "version": "3.6.8"
  }
 },
 "nbformat": 4,
 "nbformat_minor": 1
}
