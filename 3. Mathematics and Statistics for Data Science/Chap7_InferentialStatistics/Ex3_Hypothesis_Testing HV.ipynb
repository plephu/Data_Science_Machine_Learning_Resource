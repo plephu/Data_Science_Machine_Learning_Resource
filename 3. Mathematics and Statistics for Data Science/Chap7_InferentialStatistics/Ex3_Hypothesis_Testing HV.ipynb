{
 "cells": [
  {
   "cell_type": "markdown",
   "metadata": {
    "id": "l5S8CGYV8QIt"
   },
   "source": [
    "# Ex3: Hypothesis Testing"
   ]
  },
  {
   "cell_type": "code",
   "execution_count": null,
   "metadata": {},
   "outputs": [],
   "source": []
  },
  {
   "cell_type": "markdown",
   "metadata": {
    "id": "j8Ar8czY8QIx"
   },
   "source": [
    "## Câu 1: Cross Validation và K-fold\n",
    "#### Cho dữ liệu fruit_data_with_colors.txt\n",
    "1. Đọc dữ liệu vào dataframe\n",
    "2. In thông tin shape, info, head\n",
    "3. Bỏ 2 cột là  fruit_name và fruit_subtype trong dataframe. Tạo X (chứa các cột giá trị), y (là cột fruit_label)\n",
    "3. Áp dụng train/test split cho dữ liệu X, y theo tỷ lệ 70:30. In các index của mỗi bộ\n",
    "4. Áp dụng k-fold với n_splits = 10. In các index của mỗi bộ"
   ]
  },
  {
   "cell_type": "code",
   "execution_count": null,
   "metadata": {},
   "outputs": [],
   "source": []
  },
  {
   "cell_type": "code",
   "execution_count": null,
   "metadata": {},
   "outputs": [],
   "source": []
  },
  {
   "cell_type": "markdown",
   "metadata": {
    "id": "4_wrY8w68QIy"
   },
   "source": [
    "## Câu 2: P-test và T-test\n",
    "#### Cho 2 bộ dữ liệu Pin đã làm quen ở chapter 2. Hai bộ dữ liệu này độc lập nhau.\n",
    "1. Đọc dữ liệu và gán cho 2 biến là life1_array và life2_array\n",
    "2. Áp dụng t-test, cho biết sẽ accept/reject null hypothesis: 'the mean are equal'. Với alpha = 0.05"
   ]
  },
  {
   "cell_type": "code",
   "execution_count": null,
   "metadata": {},
   "outputs": [],
   "source": [
    "# Tạo life1_array từ nội dung tập tin.\n",
    "f=open(\"data/life_batteries.txt\", \"r\")\n",
    "content = f.read()\n",
    "f.close()\n",
    "life1 = content.split()\n",
    "life1 = list(map(int, life1))\n",
    "life1_array = np.array(life1)\n",
    "life1_array"
   ]
  },
  {
   "cell_type": "code",
   "execution_count": null,
   "metadata": {},
   "outputs": [],
   "source": []
  },
  {
   "cell_type": "code",
   "execution_count": null,
   "metadata": {},
   "outputs": [],
   "source": []
  },
  {
   "cell_type": "markdown",
   "metadata": {
    "id": "dYjksiln8QIy"
   },
   "source": [
    "## Câu 3: P-test và T-test\n",
    "#### Cho 2 bộ dữ liệu phụ thuộc nhau như sau:\n",
    "> np.random.seed(11) <br/>\n",
    "> before=stats.norm.rvs(scale=30,loc=250,size=100) <br/>\n",
    "> after=before+stats.norm.rvs(scale=5,loc=-1.25,size=100) <br/>\n",
    "#### Yêu cầu:\n",
    "1. Tạo dataframe chứa before, after, và change = after - before. In kết quả\n",
    "2. Áp dụng t-test, cho biết sẽ accept/reject null hypothesis: 'the mean are equal'. Với alpha = 0.05"
   ]
  },
  {
   "cell_type": "code",
   "execution_count": null,
   "metadata": {},
   "outputs": [],
   "source": []
  },
  {
   "cell_type": "code",
   "execution_count": null,
   "metadata": {},
   "outputs": [],
   "source": []
  },
  {
   "cell_type": "markdown",
   "metadata": {
    "id": "8jjCJrc68QIz"
   },
   "source": [
    "## Câu 4: Chi-squared test\n",
    "- Giả sử có 105 bệnh nhân, thông tin như bảng dưới. Câu hỏi đặt ra là \"Sự quan tâm đến “improvement” có phụ thuộc vào \"treatment\" hay không?\""
   ]
  },
  {
   "cell_type": "markdown",
   "metadata": {
    "id": "AnpJetmV-Pwy"
   },
   "source": [
    "![image.png](data:image/png;base64,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)"
   ]
  },
  {
   "cell_type": "code",
   "execution_count": null,
   "metadata": {
    "executionInfo": {
     "elapsed": 21,
     "status": "ok",
     "timestamp": 1666062199494,
     "user": {
      "displayName": "Phuong Khuat Thuy",
      "userId": "16807426118474640783"
     },
     "user_tz": -420
    },
    "id": "xWn2fGTV8QI9"
   },
   "outputs": [],
   "source": [
    "# chi-squared test with similar proportions\n",
    "from scipy.stats import chi2_contingency\n",
    "from scipy.stats import chi2"
   ]
  },
  {
   "cell_type": "code",
   "execution_count": null,
   "metadata": {
    "colab": {
     "base_uri": "https://localhost:8080/"
    },
    "executionInfo": {
     "elapsed": 21,
     "status": "ok",
     "timestamp": 1666062199494,
     "user": {
      "displayName": "Phuong Khuat Thuy",
      "userId": "16807426118474640783"
     },
     "user_tz": -420
    },
    "id": "M4fWm43e8QI9",
    "outputId": "d3360a93-c301-4e5d-f213-c57d3517d01d"
   },
   "outputs": [],
   "source": [
    "# contingency table\n",
    "table = [[26, 29], [35,15]]\n",
    "table"
   ]
  },
  {
   "cell_type": "code",
   "execution_count": null,
   "metadata": {
    "executionInfo": {
     "elapsed": 17,
     "status": "ok",
     "timestamp": 1666062199495,
     "user": {
      "displayName": "Phuong Khuat Thuy",
      "userId": "16807426118474640783"
     },
     "user_tz": -420
    },
    "id": "6TpGpEJD8QI-"
   },
   "outputs": [],
   "source": []
  }
 ],
 "metadata": {
  "colab": {
   "collapsed_sections": [],
   "provenance": []
  },
  "kernelspec": {
   "display_name": "Python 3",
   "language": "python",
   "name": "python3"
  },
  "language_info": {
   "codemirror_mode": {
    "name": "ipython",
    "version": 3
   },
   "file_extension": ".py",
   "mimetype": "text/x-python",
   "name": "python",
   "nbconvert_exporter": "python",
   "pygments_lexer": "ipython3",
   "version": "3.6.8"
  }
 },
 "nbformat": 4,
 "nbformat_minor": 1
}
