{
 "cells": [
  {
   "cell_type": "markdown",
   "metadata": {
    "id": "WgPNJYgE7hBB"
   },
   "source": [
    "# Ex2: Correlation - Master"
   ]
  },
  {
   "cell_type": "markdown",
   "metadata": {
    "id": "NhGpqc9X7hBF"
   },
   "source": [
    "#### Cho dữ liệu baseball (bóng chày) trong tập tin Master.csv. \n",
    "- Đọc tập tin vào df => tạo hw từ df chỉ lấy 2 cột height và weight. Bỏ các dòng có dữ liệu null\n",
    "- Vẽ biểu đồ để xem xét tính tương quan.\n",
    "- Vẽ boxplot để tìm outliers. Loại bỏ các outliers.\n",
    "- Tính correlation của height và weight theo 2 cách Pearson và Spearsman"
   ]
  },
  {
   "cell_type": "code",
   "execution_count": 1,
   "metadata": {
    "executionInfo": {
     "elapsed": 857,
     "status": "ok",
     "timestamp": 1666062108317,
     "user": {
      "displayName": "Phuong Khuat Thuy",
      "userId": "16807426118474640783"
     },
     "user_tz": -420
    },
    "id": "riDcHRqI7hBG"
   },
   "outputs": [],
   "source": [
    "import numpy as np\n",
    "import pandas as pd\n",
    "import matplotlib.pyplot as plt\n",
    "import seaborn as sns\n",
    "from scipy import stats"
   ]
  },
  {
   "cell_type": "code",
   "execution_count": null,
   "metadata": {
    "executionInfo": {
     "elapsed": 10,
     "status": "ok",
     "timestamp": 1666062110981,
     "user": {
      "displayName": "Phuong Khuat Thuy",
      "userId": "16807426118474640783"
     },
     "user_tz": -420
    },
    "id": "xsygtfvy7hBP"
   },
   "outputs": [],
   "source": []
  }
 ],
 "metadata": {
  "colab": {
   "collapsed_sections": [],
   "provenance": []
  },
  "kernelspec": {
   "display_name": "Python 3",
   "language": "python",
   "name": "python3"
  },
  "language_info": {
   "codemirror_mode": {
    "name": "ipython",
    "version": 3
   },
   "file_extension": ".py",
   "mimetype": "text/x-python",
   "name": "python",
   "nbconvert_exporter": "python",
   "pygments_lexer": "ipython3",
   "version": "3.6.8"
  }
 },
 "nbformat": 4,
 "nbformat_minor": 1
}
