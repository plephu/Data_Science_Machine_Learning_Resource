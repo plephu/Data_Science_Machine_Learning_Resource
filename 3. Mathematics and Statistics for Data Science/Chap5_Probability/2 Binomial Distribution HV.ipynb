{
 "cells": [
  {
   "cell_type": "markdown",
   "metadata": {
    "id": "1woDGI9IzpqS"
   },
   "source": [
    "# Ex2: Binomial Distribution"
   ]
  },
  {
   "cell_type": "markdown",
   "metadata": {
    "id": "H63uyQk3yCtX"
   },
   "source": [
    "## Bài tập 1: Xét thí nghiệm gồm 2 lần phép thử Bernoulli có p = 0.4\n",
    "- 1. Tính xác suất 1 lần thành công\n",
    "- 2. Tính xác suất không lần nào thành công\n",
    "- 3. Tính xác suất 2 lần thành công\n",
    "- 4. Xác suất tối thiểu 1 lần thành công\n",
    "- 5. Tính kỳ vọng, phương sai, độ lệch chuẩn"
   ]
  },
  {
   "cell_type": "code",
   "execution_count": null,
   "metadata": {
    "id": "t-RrjJ0syCta"
   },
   "outputs": [],
   "source": []
  },
  {
   "cell_type": "code",
   "execution_count": null,
   "metadata": {
    "colab": {
     "base_uri": "https://localhost:8080/"
    },
    "executionInfo": {
     "elapsed": 670,
     "status": "ok",
     "timestamp": 1665974347300,
     "user": {
      "displayName": "Phuong Khuat Thuy",
      "userId": "16807426118474640783"
     },
     "user_tz": -420
    },
    "id": "YcoA_-F1yCtc",
    "outputId": "26dc8cdd-0c7a-47be-be89-7ffc3686dce1"
   },
   "outputs": [],
   "source": [
    "# 1. Tính xác suất 1 lần thành công\n",
    "\n",
    "\n",
    "\n",
    "## 0.48"
   ]
  },
  {
   "cell_type": "code",
   "execution_count": null,
   "metadata": {
    "colab": {
     "base_uri": "https://localhost:8080/"
    },
    "executionInfo": {
     "elapsed": 19,
     "status": "ok",
     "timestamp": 1665974347300,
     "user": {
      "displayName": "Phuong Khuat Thuy",
      "userId": "16807426118474640783"
     },
     "user_tz": -420
    },
    "id": "zCDJdDARyCtd",
    "outputId": "a9a64f27-dac0-40db-e802-6f817890c341"
   },
   "outputs": [],
   "source": [
    "# 2. Tính xác suất không lần nào thành công\n",
    "\n",
    "\n",
    "\n",
    "## 0.36"
   ]
  },
  {
   "cell_type": "code",
   "execution_count": null,
   "metadata": {
    "colab": {
     "base_uri": "https://localhost:8080/"
    },
    "executionInfo": {
     "elapsed": 17,
     "status": "ok",
     "timestamp": 1665974347300,
     "user": {
      "displayName": "Phuong Khuat Thuy",
      "userId": "16807426118474640783"
     },
     "user_tz": -420
    },
    "id": "wYRan0uDyCte",
    "outputId": "8c841aca-1cbd-4a32-83d4-63059f103a57"
   },
   "outputs": [],
   "source": [
    "# 3. Tính xác suất 2 lần thành công\n",
    "\n",
    "\n",
    "\n",
    "## 0.16"
   ]
  },
  {
   "cell_type": "code",
   "execution_count": null,
   "metadata": {
    "colab": {
     "base_uri": "https://localhost:8080/"
    },
    "executionInfo": {
     "elapsed": 15,
     "status": "ok",
     "timestamp": 1665974347301,
     "user": {
      "displayName": "Phuong Khuat Thuy",
      "userId": "16807426118474640783"
     },
     "user_tz": -420
    },
    "id": "swjbb0vdyCte",
    "outputId": "e151244e-d2e3-4d14-e6e1-bbeae1c11f90"
   },
   "outputs": [],
   "source": [
    "# 4. Xác suất tối thiểu 1 lần thành công: P(1 =< X) = 1 – P(X<1) = 1 – f(0)\n",
    "\n",
    "\n",
    "\n",
    "## 0.64"
   ]
  },
  {
   "cell_type": "code",
   "execution_count": null,
   "metadata": {
    "id": "MIKKda-DyCtf"
   },
   "outputs": [],
   "source": [
    "# 5. Tính kỳ vọng, phương sai, độ lệch chuẩn\n",
    "\n",
    "\n",
    "\n",
    "## E= 0.8\n",
    "## V= 0.48\n",
    "## S= 0.6928203230275509"
   ]
  },
  {
   "cell_type": "markdown",
   "metadata": {
    "id": "oUxoaWvXyCtg"
   },
   "source": [
    "## Bài tập 2: Xét thí nghiệm gồm 10 lần phép thử Bernoulli có p = 0.1\n",
    "- 1. Tính xác suất tối thiểu 1 lần thành công\n",
    "- 2. Tính xác suất tối đa 2 lần thành công\n",
    "- 3. Tính kỳ vọng, phương sai, độ lệch chuẩn"
   ]
  },
  {
   "cell_type": "code",
   "execution_count": null,
   "metadata": {
    "id": "_1oH3E-DyCth"
   },
   "outputs": [],
   "source": []
  },
  {
   "cell_type": "code",
   "execution_count": null,
   "metadata": {
    "colab": {
     "base_uri": "https://localhost:8080/"
    },
    "executionInfo": {
     "elapsed": 12,
     "status": "ok",
     "timestamp": 1665974347302,
     "user": {
      "displayName": "Phuong Khuat Thuy",
      "userId": "16807426118474640783"
     },
     "user_tz": -420
    },
    "id": "wNMbdluKyCth",
    "outputId": "3ef5db89-02d6-41ee-d95f-40f8863cf498"
   },
   "outputs": [],
   "source": [
    "# 1. Tính xác suất tối thiểu 1 lần thành công: P(1 =< X) = 1 – P(X<1) = 1 – f(0)\n",
    "\n",
    "\n",
    "\n",
    "## 0.6513215599"
   ]
  },
  {
   "cell_type": "code",
   "execution_count": null,
   "metadata": {
    "colab": {
     "base_uri": "https://localhost:8080/"
    },
    "executionInfo": {
     "elapsed": 10,
     "status": "ok",
     "timestamp": 1665974347302,
     "user": {
      "displayName": "Phuong Khuat Thuy",
      "userId": "16807426118474640783"
     },
     "user_tz": -420
    },
    "id": "ltUwjNwiyCth",
    "outputId": "10d90634-d290-49a2-8302-c074ccd07956"
   },
   "outputs": [],
   "source": [
    "# 2. Tính xác suất tối đa 2 lần thành công: P(X <= 2)\n",
    "\n",
    "\n",
    "\n",
    "## 0.9298091736"
   ]
  },
  {
   "cell_type": "code",
   "execution_count": null,
   "metadata": {
    "id": "s8GeMAvhyCti"
   },
   "outputs": [],
   "source": [
    "# 3. Tính kỳ vọng, phương sai, độ lệch chuẩn\n",
    "\n",
    "\n",
    "\n",
    "## E= 1.0\n",
    "## V= 0.9\n",
    "## S= 0.9486832980505138"
   ]
  },
  {
   "cell_type": "markdown",
   "metadata": {
    "id": "4dVRCy6ByCtj"
   },
   "source": [
    "## Bài tập 3:\n",
    "- Xét lớp học có 10 HS, 4 nam và 6 nữ. Với 3 lần chọn (chọn ra 2 bạn) thì xác suất để có 2 bạn nữ là bao nhiêu?"
   ]
  },
  {
   "cell_type": "code",
   "execution_count": null,
   "metadata": {
    "id": "6rz6GL5YyCtj"
   },
   "outputs": [],
   "source": [
    "\n",
    "\n",
    "\n",
    "## 0.432"
   ]
  },
  {
   "cell_type": "markdown",
   "metadata": {
    "id": "RAYN38YyyCtj"
   },
   "source": [
    "## Bài tập 4: Một nhân viên tiếp thị mỹ phẩm gọi điện để tư vấn bán hàng cho 5 khách hàng. \n",
    "- Thành công nếu bán được hàng, thất bại nếu không bán được hàng\n",
    "- Trong quá khứ xác suất để khách hàng mua ngẫu nhiên là 0.3\n",
    "- Cho biết xác suất để có 2 khách hàng mua hàng?"
   ]
  },
  {
   "cell_type": "code",
   "execution_count": null,
   "metadata": {
    "id": "x3-67XtMyCtk"
   },
   "outputs": [],
   "source": [
    "\n",
    "\n",
    "\n",
    "## 0.3087"
   ]
  },
  {
   "cell_type": "markdown",
   "metadata": {
    "id": "G-XssFu9yCtk"
   },
   "source": [
    "## Bài tập 5:\n",
    "- Trong một quần thể biết có khoảng 20% người mắc bệnh cao huyết áp. Tiến hành chọn mẫu 1000 lần, mỗi lần chọn 20 người trong quần thể đó một cách ngẫu nhiên\n",
    "- 1. Tạo bộ dữ liệu ngẫu nhiên tuân theo luật phân phối Binomial\n",
    "- 2. Vẽ biểu đồ histogram và biểu đồ KDE. Cho nhận xét về biểu đồ bằng cách so sánh với mode (giá trị lặp lại nhiều nhất)\n",
    "- 3. Tính trung bình, trung vị, phương sai và độ lệch chuẩn\n",
    "- 4. Gọi k là số bệnh nhân trong mỗi lần thử (k=0-9). Cho biết xác suất của mỗi k (ví dụ: k=4, xác suất để có 4 bệnh nhân là 0.2181\n",
    "- 5. Vẽ biểu đồ bar với trục x là các k và trục y là các xác suất tương ứng"
   ]
  },
  {
   "cell_type": "code",
   "execution_count": null,
   "metadata": {
    "id": "pt6DrnGHyCtl"
   },
   "outputs": [],
   "source": [
    "# 1. Tạo bộ dữ liệu ngẫu nhiên tuân theo luật phân phối Binomial\n",
    "# n: số mẫu thử nghiệm, p: xác suất thành công (bị bệnh là 20% = 0.2), size: số lần lặp lại các thử nghiệm.\n"
   ]
  },
  {
   "cell_type": "code",
   "execution_count": null,
   "metadata": {
    "colab": {
     "base_uri": "https://localhost:8080/",
     "height": 265
    },
    "executionInfo": {
     "elapsed": 746,
     "status": "ok",
     "timestamp": 1665974348588,
     "user": {
      "displayName": "Phuong Khuat Thuy",
      "userId": "16807426118474640783"
     },
     "user_tz": -420
    },
    "id": "8EQCHqlyyCtm",
    "outputId": "47cabeb6-efe8-4703-c5c3-0334e60ae633"
   },
   "outputs": [],
   "source": [
    "# 2. Vẽ biểu đồ histogram và biểu đồ KDE. Cho nhận xét về biểu đồ bằng cách so sánh với mode (giá trị lặp lại nhiều nhất)\n"
   ]
  },
  {
   "cell_type": "code",
   "execution_count": null,
   "metadata": {
    "id": "iINwb7mkyCtm"
   },
   "outputs": [],
   "source": [
    "# nhận xét:\n",
    "# - biểu đồ có dạng hình chuông\n",
    "# - số lần chọn mẫu để có 2 bệnh nhân cao huyết áp là gần 150 lần\n",
    "# - số lần chọn mẫu để có 3 bệnh nhân cao huyết áp là gần 200 lần"
   ]
  },
  {
   "cell_type": "code",
   "execution_count": null,
   "metadata": {
    "colab": {
     "base_uri": "https://localhost:8080/"
    },
    "executionInfo": {
     "elapsed": 22,
     "status": "ok",
     "timestamp": 1665974348589,
     "user": {
      "displayName": "Phuong Khuat Thuy",
      "userId": "16807426118474640783"
     },
     "user_tz": -420
    },
    "id": "n5EfS5kVyCtm",
    "outputId": "01a5b39a-a4dd-4efe-90e5-936c8c71df2c"
   },
   "outputs": [],
   "source": [
    "# tính mode\n",
    "from scipy.stats import mode\n",
    "\n",
    "# số lần chọn mẫu để có 4 bệnh nhân cao huyết áp là 230 lần (cao nhất) ==> đúng như trên biểu đồ"
   ]
  },
  {
   "cell_type": "code",
   "execution_count": null,
   "metadata": {
    "colab": {
     "base_uri": "https://localhost:8080/"
    },
    "executionInfo": {
     "elapsed": 19,
     "status": "ok",
     "timestamp": 1665974348589,
     "user": {
      "displayName": "Phuong Khuat Thuy",
      "userId": "16807426118474640783"
     },
     "user_tz": -420
    },
    "id": "l9ZcfPJmyCtm",
    "outputId": "e78e42c5-c087-4e8a-e4e4-cdd863170229"
   },
   "outputs": [],
   "source": [
    "# 3. Tính trung bình, trung vị, phương sai và độ lệch chuẩn\n"
   ]
  },
  {
   "cell_type": "code",
   "execution_count": null,
   "metadata": {
    "colab": {
     "base_uri": "https://localhost:8080/"
    },
    "executionInfo": {
     "elapsed": 17,
     "status": "ok",
     "timestamp": 1665974348590,
     "user": {
      "displayName": "Phuong Khuat Thuy",
      "userId": "16807426118474640783"
     },
     "user_tz": -420
    },
    "id": "yN1FntVuyCtn",
    "outputId": "1a666501-1e99-4a59-f367-882d75faae0c"
   },
   "outputs": [],
   "source": [
    "# 4. Gọi k là số bệnh nhân trong mỗi lần thử (k=0-9). Cho biết xác suất của mỗi k\n",
    "for k in range(10):\n",
    "    print('k=',k,'--> xác suất:',str(round(binom.pmf(k,n,p,loc=0),4)*100)+'%')"
   ]
  },
  {
   "cell_type": "code",
   "execution_count": null,
   "metadata": {
    "colab": {
     "base_uri": "https://localhost:8080/",
     "height": 265
    },
    "executionInfo": {
     "elapsed": 15,
     "status": "ok",
     "timestamp": 1665974348590,
     "user": {
      "displayName": "Phuong Khuat Thuy",
      "userId": "16807426118474640783"
     },
     "user_tz": -420
    },
    "id": "7DlvoIwLyCtn",
    "outputId": "adaef6e1-adcf-4128-9206-e267635f5710"
   },
   "outputs": [],
   "source": [
    "# 5. Vẽ biểu đồ bar với trục x là các k và trục y là các xác suất tương ứng\n",
    "x = np.arange(10)\n",
    "y = binom.pmf(x,n,p,loc=0)\n",
    "sns.barplot(x,y)\n",
    "sns.lineplot(x,y)\n",
    "plt.show()"
   ]
  },
  {
   "cell_type": "code",
   "execution_count": null,
   "metadata": {
    "id": "TbD1bAJMyCtn"
   },
   "outputs": [],
   "source": []
  }
 ],
 "metadata": {
  "colab": {
   "provenance": []
  },
  "kernelspec": {
   "display_name": "Python 3",
   "language": "python",
   "name": "python3"
  },
  "language_info": {
   "codemirror_mode": {
    "name": "ipython",
    "version": 3
   },
   "file_extension": ".py",
   "mimetype": "text/x-python",
   "name": "python",
   "nbconvert_exporter": "python",
   "pygments_lexer": "ipython3",
   "version": "3.6.8"
  }
 },
 "nbformat": 4,
 "nbformat_minor": 1
}
