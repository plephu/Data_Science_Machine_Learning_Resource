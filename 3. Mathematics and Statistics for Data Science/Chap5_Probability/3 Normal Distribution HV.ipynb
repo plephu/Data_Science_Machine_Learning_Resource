{
 "cells": [
  {
   "cell_type": "code",
   "execution_count": null,
   "metadata": {
    "id": "P1G7jOWycOm-"
   },
   "outputs": [],
   "source": [
    "import numpy as np\n",
    "import pandas as pd\n",
    "import matplotlib.pyplot as plt\n",
    "import seaborn as sns"
   ]
  },
  {
   "cell_type": "markdown",
   "metadata": {
    "id": "pVoxQnBIcOnA"
   },
   "source": [
    "### Bài tập 1:\n",
    "- Chiều cao trung bình ở phụ nữ Việt Nam là 156.2 cm, với độ lệch chuẩn là 4.6 cm . Giả sử phân phối là phân phối chuẩn\n",
    "- 1. Vẽ hàm mật độ phân phối - PDF (Probability Density Function) (với $\\pm 3$ độ lệch chuẩn)\n",
    "- 2. Cho biết xác suất phụ nữ Việt Nam có chiều cao = 160 cm?\n",
    "- 3. Cho biết xác suất phụ nữ Việt Nam có chiều cao <= 150 cm?\n",
    "- 4. Cho biết xác suất phụ nữ Việt Nam có chiều cao >= 165 cm?\n",
    "- 5. Cho biết xác suất phụ nữ Việt Nam có chiều cao từ 150 cm đến 165 cm?\n",
    "- 6. Áp dụng quy tắc thực nghiệm (68-95-99.7) để in ra các khoảng chiều cao tương ứng với phần trăm quan sát"
   ]
  },
  {
   "cell_type": "code",
   "execution_count": null,
   "metadata": {
    "id": "5XvAx2EvcOnC",
    "outputId": "921c233e-d9dd-447b-edab-04ddd4a00b4a"
   },
   "outputs": [],
   "source": [
    "# 1. Vẽ hàm mật độ phân phối - PDF (Probability Density Function)\n",
    "import scipy.stats as stats\n",
    "\n",
    "mu = 156.2\n",
    "sigma = 4.6\n",
    "x = np.arange(mu - 3*sigma, mu + 3*sigma, 0.01)\n",
    "plt.plot(x, stats.norm.pdf(x, mu, sigma))\n",
    "plt.show()"
   ]
  },
  {
   "cell_type": "code",
   "execution_count": null,
   "metadata": {
    "id": "oxgMhtShcOnD",
    "outputId": "b523b0f7-839c-4b98-f897-ed1feedf1c2e"
   },
   "outputs": [],
   "source": [
    "# 2. Cho biết xác suất phụ nữ Việt Nam có chiều cao = 160 cm?\n",
    "# tính P(X = 160)\n",
    "\n",
    "\n",
    "## 0.06165477083447822"
   ]
  },
  {
   "cell_type": "code",
   "execution_count": null,
   "metadata": {
    "id": "W0aiW8IDcOnD",
    "outputId": "e66a1355-24e7-42d3-90cc-f3a9d90993f0"
   },
   "outputs": [],
   "source": [
    "# 3. Cho biết xác suất phụ nữ Việt Nam có chiều cao <= 150 cm? \n",
    "# tính P(X <= 150)\n",
    "# hàm tích lũy xác suất phân phối chuẩn - CDF (Cummulative Density Function)\n",
    "\n",
    "\n",
    "## 0.08885716269008848"
   ]
  },
  {
   "cell_type": "code",
   "execution_count": null,
   "metadata": {
    "id": "LRJ0K5qKcOnD",
    "outputId": "80b0a7c0-f70d-47b8-8739-f020ab48e5cf"
   },
   "outputs": [],
   "source": [
    "# 4. Cho biết xác suất phụ nữ Việt Nam có chiều cao >= 165 cm?\n",
    "# tính P(X >= 165) = 1 - P(X <= 165)\n",
    "\n",
    "\n",
    "## 0.02787124331787172"
   ]
  },
  {
   "cell_type": "code",
   "execution_count": null,
   "metadata": {
    "id": "OgZ20UOhcOnE",
    "outputId": "304012dc-69c3-41ea-e235-4ffaf232f5d9"
   },
   "outputs": [],
   "source": [
    "# 5. Cho biết xác suất phụ nữ Việt Nam có chiều cao từ 150 cm đến 165 cm?\n",
    "# tính P(150 <= X <= 165) = P(X <= 165) - P(X <= 150)\n",
    "\n",
    "\n",
    "## 0.8832715939920398"
   ]
  },
  {
   "cell_type": "code",
   "execution_count": null,
   "metadata": {
    "id": "2yS4OmBPcOnE"
   },
   "outputs": [],
   "source": [
    "# 6. Áp dụng quy tắc thực nghiệm (68-95-99.7) để in ra các khoảng chiều cao tương ứng với phần trăm quan sát\n",
    "# quy tắc thực nghiệm (68-95-99.7)\n",
    "# P(mu - 1*sigma <= X <= mu + 1*sigma) ~ 0.6827\n",
    "# P(mu - 2*sigma <= X <= mu + 2*sigma) ~ 0.9545\n",
    "# P(mu - 3*sigma <= X <= mu + 3*sigma) ~ 0.9973"
   ]
  },
  {
   "cell_type": "code",
   "execution_count": null,
   "metadata": {
    "id": "6fi1008bcOnF",
    "outputId": "f13bd885-c7e2-49a2-955f-122868e0f2d9"
   },
   "outputs": [],
   "source": [
    "# phát biểu quy tắc thực nghiệm\n",
    "a, b = mu - 1*sigma, mu + 1*sigma\n",
    "print('Chiếu cao từ',round(a),'đến',round(b),'--> có 68.27% các quan sát')\n",
    "\n",
    "a, b = mu - 2*sigma, mu + 2*sigma\n",
    "print('Chiếu cao từ',round(a),'đến',round(b),'--> có 95.45% các quan sát')\n",
    "\n",
    "a, b = mu - 3*sigma, mu + 3*sigma\n",
    "print('Chiếu cao từ',round(a),'đến',round(b),'--> có 99.73% các quan sát')"
   ]
  },
  {
   "cell_type": "code",
   "execution_count": null,
   "metadata": {
    "id": "2Sy51bwUcOnF",
    "outputId": "cb4f9c60-9765-491b-face-62bc2bcfb948"
   },
   "outputs": [],
   "source": [
    "# tính toán xác suất\n",
    "a, b = mu - 1*sigma, mu + 1*sigma\n",
    "print('Chiếu cao từ',round(a),'đến',round(b),'--> có', \n",
    "      round((stats.norm.cdf(b, mu, sigma) - stats.norm.cdf(a, mu, sigma))*100,2),'% các quan sát')\n",
    "\n",
    "a, b = mu - 2*sigma, mu + 2*sigma\n",
    "print('Chiếu cao từ',round(a),'đến',round(b),'--> có', \n",
    "      round((stats.norm.cdf(b, mu, sigma) - stats.norm.cdf(a, mu, sigma))*100,2),'% các quan sát')\n",
    "\n",
    "a, b = mu - 3*sigma, mu + 3*sigma\n",
    "print('Chiếu cao từ',round(a),'đến',round(b),'--> có', \n",
    "      round((stats.norm.cdf(b, mu, sigma) - stats.norm.cdf(a, mu, sigma))*100,2),'% các quan sát')"
   ]
  },
  {
   "cell_type": "markdown",
   "metadata": {
    "id": "_fYe0ok2cOnF"
   },
   "source": [
    "### Bài tập 2:\n",
    "- Chiều cao trung bình ở phụ nữ Việt Nam là 156.2 cm, với độ lệch chuẩn là 4.6 cm . Giả sử phân phối là phân phối chuẩn\n",
    "- 1. Phát sinh bộ dữ liệu tuân theo luật phân phối chuẩn (gồm 1000 chiều cao)\n",
    "- 2. Trên bộ dữ liệu mới phát sinh, tính trung bình, trung vị và độ lệch chuẩn\n",
    "- 3. Vẽ biểu đồ histogram và biểu đồ KDE"
   ]
  },
  {
   "cell_type": "code",
   "execution_count": null,
   "metadata": {
    "id": "ZTB7M6QrcOnG",
    "outputId": "df6b5477-e671-4d4a-bbd7-490bf9e0f32d"
   },
   "outputs": [],
   "source": [
    "# 1. Phát sinh bộ dữ liệu tuân theo luật phân phối chuẩn (gồm 1000 chiều cao)\n"
   ]
  },
  {
   "cell_type": "code",
   "execution_count": null,
   "metadata": {
    "id": "Uu4XOlbIcOnG",
    "outputId": "ed5c9dc3-3448-4f1f-a972-e75b9345859e"
   },
   "outputs": [],
   "source": [
    "# 2. Trên bộ dữ liệu mới phát sinh, tính trung bình, trung vị và độ lệch chuẩn\n"
   ]
  },
  {
   "cell_type": "code",
   "execution_count": null,
   "metadata": {
    "id": "nGl6c3D0cOnG",
    "outputId": "c0a224fa-5d68-44ca-cb04-3a8b27b2b18a"
   },
   "outputs": [],
   "source": [
    "# 3. Vẽ biểu đồ histogram và biểu đồ KDE\n"
   ]
  },
  {
   "cell_type": "markdown",
   "metadata": {
    "id": "o81WhpgYcOnH"
   },
   "source": [
    "### Bài tập 3:\n",
    "- 1. Từ bộ dữ liệu của bài tập 2 hãy <b>chuyển về phân phối chuẩn tắc</b>\n",
    "- 2. Vẽ biểu đồ histogram và biểu đồ KDE\n",
    "- 3. Cho biết xác suất phụ nữ Việt Nam có chiều cao từ 150 cm đến 165 cm?\n",
    "- 4. Phát hiện các ngoại lệ (outliers) trong bộ dữ liệu rvs?"
   ]
  },
  {
   "cell_type": "code",
   "execution_count": null,
   "metadata": {
    "id": "vuF2zmGRcOnH",
    "outputId": "438ff98b-d072-4a99-9eda-ce89e0dbcb53"
   },
   "outputs": [],
   "source": [
    "# 1. Từ bộ dữ liệu của bài tập 2 hãy chuyển về phân phối chuẩn tắc\n",
    "# z-score có phân phối chuẩn tắc (mean=0, std=1)\n"
   ]
  },
  {
   "cell_type": "code",
   "execution_count": null,
   "metadata": {
    "id": "Q-ejmsrkcOnH",
    "outputId": "07a22bb3-34fb-4fcc-d5c4-14cd17327e51"
   },
   "outputs": [],
   "source": [
    "# 2. Vẽ biểu đồ histogram và biểu đồ KDE\n"
   ]
  },
  {
   "cell_type": "code",
   "execution_count": null,
   "metadata": {
    "id": "qImkahh_cOnH",
    "outputId": "46c3b9bc-07b0-49a1-fb16-a2ca031cf5fa"
   },
   "outputs": [],
   "source": [
    "# 3. Cho biết xác suất phụ nữ Việt Nam có chiều cao từ 150 cm đến 165 cm?\n",
    "z_150 = (150-mu)/sigma\n",
    "z_165 = (165-mu)/sigma\n",
    "stats.norm.cdf(z_165) - stats.norm.cdf(z_150)"
   ]
  },
  {
   "cell_type": "code",
   "execution_count": null,
   "metadata": {
    "id": "sjA79RXmcOnH",
    "outputId": "938942e2-0a7c-4f9c-c756-3f67a6fddafe"
   },
   "outputs": [],
   "source": [
    "# 4. Phát hiện và xóa các dữ liệu ngoại lệ (outliers) trong bộ dữ liệu rvs?\n",
    "## vẽ boxplot với dữ liệu gốc\n"
   ]
  },
  {
   "cell_type": "code",
   "execution_count": null,
   "metadata": {
    "id": "fMVZmgCJcOnI",
    "outputId": "a11a9e32-1097-4b43-813b-b28e0eb936f4"
   },
   "outputs": [],
   "source": [
    "## vẽ boxplot với dữ liệu chuẩn hoá\n"
   ]
  },
  {
   "cell_type": "code",
   "execution_count": null,
   "metadata": {
    "id": "w5BkpdmrcOnI"
   },
   "outputs": [],
   "source": [
    "# tạo dataframe df có 2 cột: dữ liệu gốc và dữ liệu chuẩn hoá\n"
   ]
  },
  {
   "cell_type": "code",
   "execution_count": null,
   "metadata": {
    "id": "VhOsu3WxcOnJ",
    "outputId": "9d776587-8e33-490e-dd7c-7a8b9d5d99ba"
   },
   "outputs": [],
   "source": [
    "# phát hiện các outlier: những giá trị nằm ngoài +- 3 sigma\n",
    "# bỏ những dòng có dữ liệu chuẩn hoá nằm ngoài khoảng (-3;3)\n"
   ]
  },
  {
   "cell_type": "code",
   "execution_count": null,
   "metadata": {
    "id": "PQ-H_KzUcOnJ"
   },
   "outputs": [],
   "source": []
  }
 ],
 "metadata": {
  "colab": {
   "provenance": []
  },
  "kernelspec": {
   "display_name": "Python 3",
   "language": "python",
   "name": "python3"
  },
  "language_info": {
   "codemirror_mode": {
    "name": "ipython",
    "version": 3
   },
   "file_extension": ".py",
   "mimetype": "text/x-python",
   "name": "python",
   "nbconvert_exporter": "python",
   "pygments_lexer": "ipython3",
   "version": "3.6.8"
  }
 },
 "nbformat": 4,
 "nbformat_minor": 1
}
