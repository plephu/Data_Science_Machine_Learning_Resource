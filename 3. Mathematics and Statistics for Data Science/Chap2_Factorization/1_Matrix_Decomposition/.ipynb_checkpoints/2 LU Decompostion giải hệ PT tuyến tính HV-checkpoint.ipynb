{
 "cells": [
  {
   "cell_type": "code",
   "execution_count": 4,
   "metadata": {},
   "outputs": [],
   "source": [
    "import numpy as np\n",
    "import scipy.linalg as linalg \n",
    "\n",
    "%config Completer.use_jedi = False"
   ]
  },
  {
   "cell_type": "markdown",
   "metadata": {},
   "source": [
    "## Bài tập 2: Hãy dùng LU Decomposition để giải hệ PT tuyến tính sau:\n",
    "- Cho: <br/>\n",
    "    2a + b  + c = 4<br/> \n",
    "     a + 3b + 2c = 5<br/>\n",
    "     a          = 6<br/>   \n",
    "- Giải hệ PT tuyến tính trên với $x = A^{-1} b$ và so sánh kết quả nghiệm"
   ]
  },
  {
   "cell_type": "code",
   "execution_count": 5,
   "metadata": {},
   "outputs": [],
   "source": [
    "A = np.array([[2,1,1],[1,3,2],[1,0,0]])\n",
    "b = np.array([4,5,6])"
   ]
  },
  {
   "cell_type": "markdown",
   "metadata": {},
   "source": [
    "### Giải hệ PT tuyến tính $Ax = b$ bằng cách dùng LU"
   ]
  },
  {
   "cell_type": "code",
   "execution_count": 6,
   "metadata": {},
   "outputs": [
    {
     "data": {
      "text/plain": [
       "(array([[ 2. ,  1. ,  1. ],\n",
       "        [ 0.5,  2.5,  1.5],\n",
       "        [ 0.5, -0.2, -0.2]]),\n",
       " array([0, 1, 2], dtype=int32))"
      ]
     },
     "execution_count": 6,
     "metadata": {},
     "output_type": "execute_result"
    }
   ],
   "source": [
    "# Giải hệ PT tuyến tính Ax = b bằng cách dùng LU\n",
    "LU = linalg.lu_factor(A) \n",
    "LU"
   ]
  },
  {
   "cell_type": "code",
   "execution_count": 7,
   "metadata": {},
   "outputs": [
    {
     "data": {
      "text/plain": [
       "array([  6.,  15., -23.])"
      ]
     },
     "execution_count": 7,
     "metadata": {},
     "output_type": "execute_result"
    }
   ],
   "source": [
    "x = linalg.lu_solve(LU, b) \n",
    "x"
   ]
  },
  {
   "cell_type": "markdown",
   "metadata": {},
   "source": [
    "### Giải hệ PT tuyến tính $Ax = b \\Rightarrow x = A^{-1}b$"
   ]
  },
  {
   "cell_type": "code",
   "execution_count": 28,
   "metadata": {},
   "outputs": [],
   "source": [
    "# Giải hệ PT tuyến tính trên với x = A_1.B\n"
   ]
  }
 ],
 "metadata": {
  "kernelspec": {
   "display_name": "Python 3 (ipykernel)",
   "language": "python",
   "name": "python3"
  },
  "language_info": {
   "codemirror_mode": {
    "name": "ipython",
    "version": 3
   },
   "file_extension": ".py",
   "mimetype": "text/x-python",
   "name": "python",
   "nbconvert_exporter": "python",
   "pygments_lexer": "ipython3",
   "version": "3.9.12"
  }
 },
 "nbformat": 4,
 "nbformat_minor": 2
}
