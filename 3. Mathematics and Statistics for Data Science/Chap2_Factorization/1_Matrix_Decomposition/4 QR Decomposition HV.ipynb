{
 "cells": [
  {
   "cell_type": "code",
   "execution_count": 2,
   "metadata": {},
   "outputs": [],
   "source": [
    "import numpy as np\n",
    "from numpy.linalg import qr\n",
    "\n",
    "%config Completer.use_jedi = False"
   ]
  },
  {
   "cell_type": "markdown",
   "metadata": {},
   "source": [
    "## Bài tập 4: QR Decomposition\n",
    "- Tạo ma trận C(4x5) chứa các giá trị ngẫu nhiên trong khoảng 5 - 10\n",
    "- Phân tích thành các thành phần Q, R. In kết quả\n",
    "- Tái tạo ma trận D từ các thành phần Q, R. "
   ]
  },
  {
   "cell_type": "code",
   "execution_count": 9,
   "metadata": {},
   "outputs": [
    {
     "data": {
      "text/plain": [
       "array([[5, 9, 5, 7, 8],\n",
       "       [7, 6, 7, 5, 9],\n",
       "       [9, 8, 6, 6, 8],\n",
       "       [9, 6, 8, 7, 5]])"
      ]
     },
     "execution_count": 9,
     "metadata": {},
     "output_type": "execute_result"
    }
   ],
   "source": [
    "# Tạo ma trận C(4,5) với các giá trị ngẫu nhiên từ 5 đến 10\n"
   ]
  },
  {
   "cell_type": "code",
   "execution_count": 3,
   "metadata": {},
   "outputs": [
    {
     "data": {
      "text/plain": [
       "array([[ 4,  2,  5,  2,  5],\n",
       "       [ 7,  4,  2,  1,  8],\n",
       "       [ 6, 10,  7,  1, 10],\n",
       "       [ 6,  2, 10,  3,  7]])"
      ]
     },
     "execution_count": 3,
     "metadata": {},
     "output_type": "execute_result"
    }
   ],
   "source": [
    "C =np.random.randint(low=1,high=11,size=(4,5))\n",
    "C"
   ]
  },
  {
   "cell_type": "code",
   "execution_count": 4,
   "metadata": {},
   "outputs": [],
   "source": [
    "# Phân rã QR\n",
    "# C = Q.R\n",
    "# C là ma trận mxn\n",
    "# Q là ma trận mxm\n",
    "# R là ma trận tam giác trên mxn"
   ]
  },
  {
   "cell_type": "code",
   "execution_count": 6,
   "metadata": {},
   "outputs": [],
   "source": [
    "Q,R = qr(C,'complete')"
   ]
  },
  {
   "cell_type": "code",
   "execution_count": 11,
   "metadata": {},
   "outputs": [],
   "source": [
    "# Phân tích thành các thành phần Q, R. In kết quả\n"
   ]
  },
  {
   "cell_type": "code",
   "execution_count": 7,
   "metadata": {},
   "outputs": [
    {
     "data": {
      "text/plain": [
       "array([[-0.34174306, -0.18500258,  0.16056227, -0.90730672],\n",
       "       [-0.59805036, -0.2435477 , -0.75020744,  0.14215866],\n",
       "       [-0.51261459,  0.84539153,  0.14291303,  0.04599251],\n",
       "       [-0.51261459, -0.43791749,  0.62528747,  0.39302687]])"
      ]
     },
     "execution_count": 7,
     "metadata": {},
     "output_type": "execute_result"
    }
   ],
   "source": [
    "# In ra ma trận Q\n",
    "Q"
   ]
  },
  {
   "cell_type": "code",
   "execution_count": 8,
   "metadata": {},
   "outputs": [
    {
     "data": {
      "text/plain": [
       "array([[-11.70469991,  -9.2270627 , -11.61926414,  -3.33199487,\n",
       "        -15.20756631],\n",
       "       [  0.        ,   6.23388433,   0.12645746,  -1.08191381,\n",
       "          2.51509834],\n",
       "       [  0.        ,   0.        ,   6.55566238,   1.58969254,\n",
       "          0.60729441],\n",
       "       [  0.        ,   0.        ,   0.        ,  -0.44738165,\n",
       "         -0.18815116]])"
      ]
     },
     "execution_count": 8,
     "metadata": {},
     "output_type": "execute_result"
    }
   ],
   "source": [
    "# In ra ma trận R\n",
    "R"
   ]
  },
  {
   "cell_type": "code",
   "execution_count": 9,
   "metadata": {},
   "outputs": [],
   "source": [
    "# Tái tạo ma trận D từ các thành phần Q, R\n"
   ]
  },
  {
   "cell_type": "code",
   "execution_count": 10,
   "metadata": {},
   "outputs": [
    {
     "data": {
      "text/plain": [
       "array([[ 4.,  2.,  5.,  2.,  5.],\n",
       "       [ 7.,  4.,  2.,  1.,  8.],\n",
       "       [ 6., 10.,  7.,  1., 10.],\n",
       "       [ 6.,  2., 10.,  3.,  7.]])"
      ]
     },
     "execution_count": 10,
     "metadata": {},
     "output_type": "execute_result"
    }
   ],
   "source": [
    "D=Q.dot(R)\n",
    "D"
   ]
  }
 ],
 "metadata": {
  "kernelspec": {
   "display_name": "Python 3 (ipykernel)",
   "language": "python",
   "name": "python3"
  },
  "language_info": {
   "codemirror_mode": {
    "name": "ipython",
    "version": 3
   },
   "file_extension": ".py",
   "mimetype": "text/x-python",
   "name": "python",
   "nbconvert_exporter": "python",
   "pygments_lexer": "ipython3",
   "version": "3.9.12"
  }
 },
 "nbformat": 4,
 "nbformat_minor": 2
}
