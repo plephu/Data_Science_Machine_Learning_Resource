{
 "cells": [
  {
   "cell_type": "code",
   "execution_count": 1,
   "metadata": {
    "id": "GyGUwVnvzlYp"
   },
   "outputs": [],
   "source": [
    "import numpy as np\n",
    "\n",
    "%config Completer.use_jedi = False"
   ]
  },
  {
   "cell_type": "markdown",
   "metadata": {
    "id": "CevhuCt7zlYq"
   },
   "source": [
    "## Bài tập 3: Hãy dùng LU Decomposition để giải hệ PT tuyến tính sau:\n",
    "- Cho: <br/>\n",
    "    a + 2b  + 4c = 3<br/> \n",
    "     3a + 8b + 14c = 13<br/>\n",
    "     2a + 6b + 13c = 4<br/>   \n",
    "- Giải hệ PT tuyến tính trên bằng LU Decomposition"
   ]
  },
  {
   "cell_type": "markdown",
   "metadata": {
    "id": "SIJ18VDezlYs"
   },
   "source": [
    "# Lý thuyết\n",
    "\n",
    "Phân rã LU cho ma trận vuông $A$ là $$A = P \\cdot L \\cdot U,$$\n",
    "trong đó $P$ là ma trận hoán vị, $L$ là ma trận tam giác dưới và $U$ là ma trận tam giác trên.\n",
    "\n",
    "Ta có\n",
    "\\begin{align}\n",
    "    Ax &= b \\\\\n",
    "    \\Leftrightarrow P^{-1} Ax &= P^{-1} b \\\\\n",
    "    \\Leftrightarrow LUx &= P^{-1} b\n",
    "\\end{align}\n",
    "\n",
    "Đặt $Ux = y$ thì ta có $Ly = P^{-1} b$.\n",
    "\n",
    "Ta cần\n",
    "1. Giải $Ly = P^{-1} b$ để tìm $y$\n",
    "2. Giải $Ux = y$ để tìm $x$"
   ]
  },
  {
   "cell_type": "code",
   "execution_count": 2,
   "metadata": {
    "id": "fYdFWzrrzlYs",
    "outputId": "7124833f-81cb-44d2-deb3-5e9b03ffe70c"
   },
   "outputs": [
    {
     "data": {
      "text/plain": [
       "array([[ 1,  2,  4],\n",
       "       [ 3,  8, 14],\n",
       "       [ 2,  6, 13]])"
      ]
     },
     "execution_count": 2,
     "metadata": {},
     "output_type": "execute_result"
    }
   ],
   "source": [
    "# tạo ma trận A\n",
    "A = np.array([[1,2,4],[3,8,14],[2,6,13]])\n",
    "A"
   ]
  },
  {
   "cell_type": "code",
   "execution_count": 3,
   "metadata": {
    "id": "1pRQAtWezlYt",
    "outputId": "17e611c8-3164-4e42-82e5-0eca524218fc"
   },
   "outputs": [
    {
     "data": {
      "text/plain": [
       "array([ 3, 13,  4])"
      ]
     },
     "execution_count": 3,
     "metadata": {},
     "output_type": "execute_result"
    }
   ],
   "source": [
    "b = np.array([3,13,4])\n",
    "b"
   ]
  },
  {
   "cell_type": "code",
   "execution_count": 12,
   "metadata": {
    "id": "IHe9D_CyzlYu"
   },
   "outputs": [],
   "source": [
    "# Phân rã A thành các ma trận P, L, U\n",
    "import scipy\n",
    "\n",
    "from scipy.linalg import inv\n",
    "\n",
    "from scipy.linalg import lu\n"
   ]
  },
  {
   "cell_type": "code",
   "execution_count": 5,
   "metadata": {},
   "outputs": [],
   "source": [
    "P, L, U = lu (A)"
   ]
  },
  {
   "cell_type": "code",
   "execution_count": null,
   "metadata": {
    "id": "EK8l8DZ8zlYu"
   },
   "outputs": [],
   "source": [
    "# In ma trận hoán vị P\n"
   ]
  },
  {
   "cell_type": "code",
   "execution_count": 15,
   "metadata": {},
   "outputs": [
    {
     "data": {
      "text/plain": [
       "array([[0., 0., 1.],\n",
       "       [1., 0., 0.],\n",
       "       [0., 1., 0.]])"
      ]
     },
     "execution_count": 15,
     "metadata": {},
     "output_type": "execute_result"
    }
   ],
   "source": [
    "P"
   ]
  },
  {
   "cell_type": "code",
   "execution_count": null,
   "metadata": {
    "id": "3luvSJHizlYu"
   },
   "outputs": [],
   "source": [
    "# In ma trận tam giác dưới L\n"
   ]
  },
  {
   "cell_type": "code",
   "execution_count": 7,
   "metadata": {},
   "outputs": [
    {
     "data": {
      "text/plain": [
       "array([[ 1.        ,  0.        ,  0.        ],\n",
       "       [ 0.66666667,  1.        ,  0.        ],\n",
       "       [ 0.33333333, -1.        ,  1.        ]])"
      ]
     },
     "execution_count": 7,
     "metadata": {},
     "output_type": "execute_result"
    }
   ],
   "source": [
    "L"
   ]
  },
  {
   "cell_type": "code",
   "execution_count": null,
   "metadata": {
    "id": "eIo9pjffzlYv"
   },
   "outputs": [],
   "source": [
    "# In ma trận tam giác trên U\n"
   ]
  },
  {
   "cell_type": "code",
   "execution_count": 8,
   "metadata": {},
   "outputs": [
    {
     "data": {
      "text/plain": [
       "array([[ 3.        ,  8.        , 14.        ],\n",
       "       [ 0.        ,  0.66666667,  3.66666667],\n",
       "       [ 0.        ,  0.        ,  3.        ]])"
      ]
     },
     "execution_count": 8,
     "metadata": {},
     "output_type": "execute_result"
    }
   ],
   "source": [
    "U"
   ]
  },
  {
   "cell_type": "code",
   "execution_count": null,
   "metadata": {
    "id": "xB3eS3uhzlYv"
   },
   "outputs": [],
   "source": [
    "# 1. Tính B_ = P_1.B\n"
   ]
  },
  {
   "cell_type": "code",
   "execution_count": 28,
   "metadata": {},
   "outputs": [
    {
     "data": {
      "text/plain": [
       "array([13.,  4.,  3.])"
      ]
     },
     "execution_count": 28,
     "metadata": {},
     "output_type": "execute_result"
    }
   ],
   "source": [
    "B_ =inv(P).dot(b)\n",
    "B_"
   ]
  },
  {
   "cell_type": "code",
   "execution_count": 29,
   "metadata": {
    "id": "m_bZmrQ9zlYw"
   },
   "outputs": [],
   "source": [
    "# 2. Giải LY = B_ (2) --> Y = L_1.B_\n",
    "from numpy.linalg import inv\n"
   ]
  },
  {
   "cell_type": "code",
   "execution_count": 30,
   "metadata": {},
   "outputs": [
    {
     "data": {
      "text/plain": [
       "array([13.        , -4.66666667, -6.        ])"
      ]
     },
     "execution_count": 30,
     "metadata": {},
     "output_type": "execute_result"
    }
   ],
   "source": [
    "Y = inv(L).dot(B_)\n",
    "Y"
   ]
  },
  {
   "cell_type": "code",
   "execution_count": 31,
   "metadata": {
    "id": "rwX4pIq0zlYw"
   },
   "outputs": [],
   "source": [
    "# 3. Giải UX = Y (3) --> X = U_1.Y\n"
   ]
  },
  {
   "cell_type": "code",
   "execution_count": 32,
   "metadata": {},
   "outputs": [
    {
     "data": {
      "text/plain": [
       "array([ 3.,  4., -2.])"
      ]
     },
     "execution_count": 32,
     "metadata": {},
     "output_type": "execute_result"
    }
   ],
   "source": [
    "x=inv(U).dot(Y)\n",
    "x"
   ]
  },
  {
   "cell_type": "code",
   "execution_count": 26,
   "metadata": {},
   "outputs": [
    {
     "data": {
      "text/plain": [
       "array([ 3.,  4., -2.])"
      ]
     },
     "execution_count": 26,
     "metadata": {},
     "output_type": "execute_result"
    }
   ],
   "source": [
    "x=inv(A).dot(b)\n",
    "x"
   ]
  }
 ],
 "metadata": {
  "colab": {
   "provenance": []
  },
  "kernelspec": {
   "display_name": "Python 3 (ipykernel)",
   "language": "python",
   "name": "python3"
  },
  "language_info": {
   "codemirror_mode": {
    "name": "ipython",
    "version": 3
   },
   "file_extension": ".py",
   "mimetype": "text/x-python",
   "name": "python",
   "nbconvert_exporter": "python",
   "pygments_lexer": "ipython3",
   "version": "3.9.12"
  }
 },
 "nbformat": 4,
 "nbformat_minor": 1
}
