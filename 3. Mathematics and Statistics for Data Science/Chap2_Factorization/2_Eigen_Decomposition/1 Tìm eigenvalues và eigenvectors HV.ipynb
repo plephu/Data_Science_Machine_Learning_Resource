{
 "cells": [
  {
   "cell_type": "code",
   "execution_count": 30,
   "metadata": {},
   "outputs": [],
   "source": [
    "import numpy as np\n",
    "from numpy.linalg import eig\n",
    "from numpy.linalg import inv\n",
    "\n",
    "from numpy import diag\n",
    "\n",
    "%config Completer.use_jedi = False"
   ]
  },
  {
   "cell_type": "markdown",
   "metadata": {},
   "source": [
    "## Bài tập 1: \n",
    "- Tạo ma trận A(4x4) với các giá trị ngẫu nhiên từ 1 đến 10\n",
    "- Phân tích ma trận A thành eigenvalues và eigenvectors \n",
    "- Xác nhận eigenvector đầu tiên theo A.v = lambda.v có bằng nhau?\n",
    "- Nếu bằng nhau thi tái cấu trúc A từ các eigenvector và eigenvalue"
   ]
  },
  {
   "cell_type": "code",
   "execution_count": 17,
   "metadata": {},
   "outputs": [],
   "source": [
    "# Tạo ma trận A(4,4) với các giá trị ngẫu nhiên từ 1 đến 10\n",
    "import random\n",
    "random.seed(5)\n"
   ]
  },
  {
   "cell_type": "code",
   "execution_count": 18,
   "metadata": {},
   "outputs": [
    {
     "data": {
      "text/plain": [
       "array([[10,  5,  6,  9],\n",
       "       [ 1,  8,  4,  1],\n",
       "       [ 3,  2,  6,  8],\n",
       "       [ 4,  7,  9,  2]])"
      ]
     },
     "execution_count": 18,
     "metadata": {},
     "output_type": "execute_result"
    }
   ],
   "source": [
    "\n",
    "#A =np.random.randint(low=1,high=11,size=(4,4))\n",
    "A= np.array([[10,  5,  6,  9],\n",
    "       [ 1,  8,  4,  1],\n",
    "       [ 3,  2,  6,  8],\n",
    "       [ 4,  7,  9,  2]])\n",
    "A"
   ]
  },
  {
   "cell_type": "code",
   "execution_count": 19,
   "metadata": {},
   "outputs": [],
   "source": [
    "# Phân tích ma trận A thành eigenvalues và eigenvectors\n"
   ]
  },
  {
   "cell_type": "code",
   "execution_count": 20,
   "metadata": {},
   "outputs": [],
   "source": [
    "eigenvalues, eigenvectors =eig(A)"
   ]
  },
  {
   "cell_type": "code",
   "execution_count": 21,
   "metadata": {},
   "outputs": [],
   "source": [
    "# in eigenvalues\n"
   ]
  },
  {
   "cell_type": "code",
   "execution_count": 22,
   "metadata": {},
   "outputs": [
    {
     "data": {
      "text/plain": [
       "array([20.61734964, -4.52030498,  4.09781659,  5.80513874])"
      ]
     },
     "execution_count": 22,
     "metadata": {},
     "output_type": "execute_result"
    }
   ],
   "source": [
    "eigenvalues"
   ]
  },
  {
   "cell_type": "code",
   "execution_count": 23,
   "metadata": {},
   "outputs": [],
   "source": [
    "# in eigenvectors\n"
   ]
  },
  {
   "cell_type": "code",
   "execution_count": 24,
   "metadata": {},
   "outputs": [
    {
     "data": {
      "text/plain": [
       "array([[ 0.74137195,  0.30950834, -0.33856498,  0.63592262],\n",
       "       [ 0.23242156, -0.13155338, -0.64034316, -0.72565014],\n",
       "       [ 0.4337084 ,  0.52915364,  0.67785748,  0.25501218],\n",
       "       [ 0.45633855, -0.77903449,  0.1258715 , -0.06326995]])"
      ]
     },
     "execution_count": 24,
     "metadata": {},
     "output_type": "execute_result"
    }
   ],
   "source": [
    "eigenvectors"
   ]
  },
  {
   "cell_type": "code",
   "execution_count": 25,
   "metadata": {},
   "outputs": [],
   "source": [
    "# Xác nhận eigenvector đầu tiên theo dot và theo eigenvalue có bằng nhau?\n",
    "# xét một giá trị riêng thứ nhất lambda và một vector riêng thứ nhất v\n",
    "# so sánh A.v = lambda.v \n"
   ]
  },
  {
   "cell_type": "code",
   "execution_count": 26,
   "metadata": {},
   "outputs": [
    {
     "data": {
      "text/plain": [
       "array([15.28512467,  4.79191661,  8.9419178 ,  9.40849146])"
      ]
     },
     "execution_count": 26,
     "metadata": {},
     "output_type": "execute_result"
    }
   ],
   "source": [
    "B = A.dot(eigenvectors[:,0])\n",
    "B"
   ]
  },
  {
   "cell_type": "code",
   "execution_count": 27,
   "metadata": {},
   "outputs": [
    {
     "data": {
      "text/plain": [
       "array([15.28512467,  4.79191661,  8.9419178 ,  9.40849146])"
      ]
     },
     "execution_count": 27,
     "metadata": {},
     "output_type": "execute_result"
    }
   ],
   "source": [
    "C=eigenvectors[:,0].dot(eigenvalues[0])\n",
    "C"
   ]
  },
  {
   "cell_type": "code",
   "execution_count": 28,
   "metadata": {},
   "outputs": [],
   "source": [
    "# Tái cấu trúc A từ các eigenvector và eigenvalue \n",
    "# A = P.L.P_1\n"
   ]
  },
  {
   "cell_type": "code",
   "execution_count": 31,
   "metadata": {},
   "outputs": [
    {
     "data": {
      "text/plain": [
       "array([[10.,  5.,  6.,  9.],\n",
       "       [ 1.,  8.,  4.,  1.],\n",
       "       [ 3.,  2.,  6.,  8.],\n",
       "       [ 4.,  7.,  9.,  2.]])"
      ]
     },
     "execution_count": 31,
     "metadata": {},
     "output_type": "execute_result"
    }
   ],
   "source": [
    "Q = eigenvectors\n",
    "R = inv(Q)\n",
    "L = diag(eigenvalues)\n",
    "A1= Q.dot(L).dot(R)\n",
    "A1"
   ]
  },
  {
   "cell_type": "code",
   "execution_count": null,
   "metadata": {},
   "outputs": [],
   "source": []
  }
 ],
 "metadata": {
  "kernelspec": {
   "display_name": "Python 3 (ipykernel)",
   "language": "python",
   "name": "python3"
  },
  "language_info": {
   "codemirror_mode": {
    "name": "ipython",
    "version": 3
   },
   "file_extension": ".py",
   "mimetype": "text/x-python",
   "name": "python",
   "nbconvert_exporter": "python",
   "pygments_lexer": "ipython3",
   "version": "3.9.12"
  }
 },
 "nbformat": 4,
 "nbformat_minor": 2
}
