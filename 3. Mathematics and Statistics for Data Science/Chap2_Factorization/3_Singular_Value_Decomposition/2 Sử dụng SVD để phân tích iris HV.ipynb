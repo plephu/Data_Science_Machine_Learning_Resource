{
 "cells": [
  {
   "cell_type": "code",
   "execution_count": null,
   "metadata": {
    "id": "oSQ1hgEgf4xp"
   },
   "outputs": [],
   "source": [
    "import pandas as pd\n",
    "import numpy as np"
   ]
  },
  {
   "cell_type": "markdown",
   "metadata": {
    "id": "jSKJIPBcf4xr"
   },
   "source": [
    "## Bài tập 2: Gợi ý\n",
    "- Cho tập tin iris.csv, đọc dữ liệu ra dataframe và chỉ lấy 4 cột đầu\n",
    "- Từ datafarme, sử dụng SVD để phân tích thành các thành phần U, s, VT\n",
    "- Tạo dataframe mới từ các thành phần đã phân tích, nhưng có nhận xét và rút thành phần nếu có thể. \n",
    "- Tìm error nếu có rút thành phần\n",
    "- Tái cấu trúc dataframe theo U, s, VT (giữ nguyên tất cả các thành phần)"
   ]
  },
  {
   "cell_type": "code",
   "execution_count": null,
   "metadata": {
    "id": "tBacNDnEf4xs"
   },
   "outputs": [],
   "source": [
    "iris = pd.read_csv(\"data/iris.csv\")"
   ]
  },
  {
   "cell_type": "code",
   "execution_count": null,
   "metadata": {
    "id": "TBSimj1Of4xt"
   },
   "outputs": [],
   "source": [
    "X = iris[['sepal_length','sepal_width','petal_length','petal_width']]"
   ]
  },
  {
   "cell_type": "code",
   "execution_count": null,
   "metadata": {
    "id": "qBphveQaf4xt"
   },
   "outputs": [],
   "source": [
    "# Decomposition\n",
    "U, s, VT = np.linalg.svd(X)"
   ]
  },
  {
   "cell_type": "code",
   "execution_count": null,
   "metadata": {
    "id": "6vtuzsHmf4xt",
    "outputId": "745d3e3c-7f81-4c52-a7a8-ee9d2094b90c",
    "scrolled": true
   },
   "outputs": [
    {
     "data": {
      "text/plain": [
       "array([95.95066751, 17.72295328,  3.46929666,  1.87891236])"
      ]
     },
     "execution_count": 6,
     "metadata": {},
     "output_type": "execute_result"
    }
   ],
   "source": [
    "s"
   ]
  },
  {
   "cell_type": "markdown",
   "metadata": {
    "id": "Dv2d5sTnf4xu"
   },
   "source": [
    "- Vì $\\sigma_1$ và $\\sigma_2$ (các giá trị đơn trong s) có cường độ lớn hơn $\\sigma_3$ và $\\sigma_4$, nên hai hàng đầu tiên của V quan trọng hơn nhiều so với hai hàng còn lại.\n",
    "\n",
    "- Trong thực tế, ta có thể tái tạo df chỉ bằng hai hàng đầu tiên của V và hai cột đầu tiên của U."
   ]
  },
  {
   "cell_type": "code",
   "execution_count": null,
   "metadata": {
    "id": "ESBZUW-Qf4xu",
    "outputId": "be8529cf-736a-4530-8859-856add9cfe42"
   },
   "outputs": [
    {
     "data": {
      "text/plain": [
       "matrix([[5.09945346, 3.50050812, 1.40094556, 0.19840569],\n",
       "        [4.74974728, 3.19172985, 1.46006954, 0.25494146],\n",
       "        [4.69047924, 3.2108907 , 1.30863935, 0.1915549 ],\n",
       "        [4.61834831, 3.08439659, 1.46266616, 0.26731753],\n",
       "        [5.07896131, 3.5005194 , 1.36352353, 0.18323972]])"
      ]
     },
     "execution_count": 24,
     "metadata": {},
     "output_type": "execute_result"
    }
   ],
   "source": [
    "# rút 2 thành phần đầu tiên\n",
    "X1 = np.matrix(U[:, :2]) * np.diag(s[:2]) * np.matrix(VT[:2, :])\n",
    "X1[0:5]"
   ]
  },
  {
   "cell_type": "code",
   "execution_count": null,
   "metadata": {
    "id": "2w5Tsn-3f4xv",
    "outputId": "86e7b6e2-f370-46b7-e95a-af71d2dba8b7"
   },
   "outputs": [
    {
     "name": "stdout",
     "output_type": "stream",
     "text": [
      "A calculated using only the first two components: \n",
      "\n",
      "   sepal_length  sepal_width  petal_length  petal_width\n",
      "0      5.099453     3.500508      1.400946     0.198406\n",
      "1      4.749747     3.191730      1.460070     0.254941\n",
      "2      4.690479     3.210891      1.308639     0.191555\n",
      "3      4.618348     3.084397      1.462666     0.267318\n",
      "4      5.078961     3.500519      1.363524     0.183240\n"
     ]
    }
   ],
   "source": [
    "print(\"A calculated using only the first two components: \\n\")\n",
    "Xnew = pd.DataFrame(X1, index = X.index, columns=X.columns)\n",
    "print(Xnew.head())"
   ]
  },
  {
   "cell_type": "code",
   "execution_count": null,
   "metadata": {
    "id": "yFizTLs2f4xv",
    "outputId": "f319aa52-5612-464b-fcef-7cd0329e53ce"
   },
   "outputs": [
    {
     "name": "stdout",
     "output_type": "stream",
     "text": [
      "\n",
      " Error from actual value: \n",
      "\n",
      "   sepal_length  sepal_width  petal_length  petal_width\n",
      "0      0.000547    -0.000508     -0.000946     0.001594\n",
      "1      0.150253    -0.191730     -0.060070    -0.054941\n",
      "2      0.009521    -0.010891     -0.008639     0.008445\n",
      "3     -0.018348     0.015603      0.037334    -0.067318\n",
      "4     -0.078961     0.099481      0.036476     0.016760\n"
     ]
    }
   ],
   "source": [
    "# Tìm error nếu có rút thành phần\n",
    "print(\"\\n Error from actual value: \\n\")\n",
    "print((X - X1).head())"
   ]
  },
  {
   "cell_type": "code",
   "execution_count": null,
   "metadata": {
    "id": "eFLsQVAGf4xv"
   },
   "outputs": [],
   "source": []
  }
 ],
 "metadata": {
  "colab": {
   "provenance": []
  },
  "kernelspec": {
   "display_name": "Python 3 (ipykernel)",
   "language": "python",
   "name": "python3"
  },
  "language_info": {
   "codemirror_mode": {
    "name": "ipython",
    "version": 3
   },
   "file_extension": ".py",
   "mimetype": "text/x-python",
   "name": "python",
   "nbconvert_exporter": "python",
   "pygments_lexer": "ipython3",
   "version": "3.9.13"
  }
 },
 "nbformat": 4,
 "nbformat_minor": 1
}
