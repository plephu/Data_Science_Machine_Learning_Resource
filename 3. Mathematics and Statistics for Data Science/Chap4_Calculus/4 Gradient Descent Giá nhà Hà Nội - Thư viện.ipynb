{
 "cells": [
  {
   "cell_type": "markdown",
   "metadata": {},
   "source": [
    "# Bài tập 4: Gradient Descent Giá nhà\n",
    "#### Cho dữ liệu giá nhà Hà Nội\n",
    "- Tạo dataframe từ dữ liệu giá nhà ở Hà Nội\n",
    "- Chọn X = df[['Diện tích (mét vuông)', 'Số phòng', 'Tuổi căn nhà', 'Số bếp lửa']] # 4 biến\n",
    "- Chọn y = df['Giá (nghìn đôla)']\n",
    "- Sử dụng linear_model.LinearRegression() để tính $y = w_0 + w_1x_1 + w_2x_2 + w_3x_3 + w_4x_4$\n",
    "- Với x_1 là 'Diện tích (mét vuông)', x_2 là 'Số phòng', x_3 là 'Tuổi căn nhà' và x_4 là 'Số bếp lửa'\n",
    "- In ra $w_0$, $w_1$, $w_2$, $w_3$ và $w_4$\n",
    "- Dự đoán giá nhà cho $x_1=159, x_2=7, x_3=37, x_4=0$\n",
    "- Dự đoán giá nhà cho $x_1=205, x_2=10, x_3=20, x_4=1$\n",
    "- Dự đoán giá nhà cho $x_1=110, x_2=5, x_3=50, x_4=0$"
   ]
  },
  {
   "cell_type": "code",
   "execution_count": 8,
   "metadata": {},
   "outputs": [],
   "source": [
    "import numpy as np\n",
    "import pandas as pd\n",
    "from sklearn import linear_model\n",
    "import warnings\n",
    "warnings.filterwarnings('ignore')"
   ]
  },
  {
   "cell_type": "code",
   "execution_count": 9,
   "metadata": {},
   "outputs": [],
   "source": [
    "df = pd.DataFrame([[100, 7, 42, 0], [150, 7, 62, 0], [118, 6, 40, 0], [123, 6, 54, 0], [112, 6, 42, 0],\n",
    " [99, 6, 56, 0], [124, 7, 51, 1], [150, 6, 32, 0], [342, 10, 42, 1], [300, 9, 14, 1],\n",
    " [123, 6, 32, 0], [155, 6, 30, 0], [98, 5, 30, 0], [112, 6, 32, 0], [102, 5, 46, 1],\n",
    " [150, 6, 32, 0], [166, 8, 50, 0], [149, 7, 22, 1], [138, 6, 17, 0], [150, 7, 23, 0]],\n",
    "                 columns=['Diện tích (mét vuông)', 'Số phòng', 'Tuổi căn nhà', 'Số bếp lửa'])\n",
    "df['Giá (nghìn đôla)'] = [259, 295, 279, 259, 299, 299, 309, 289, 849, 829, 359, 315, 310, 309, 300, 289, 369, 419, 405, 439]"
   ]
  },
  {
   "cell_type": "code",
   "execution_count": 10,
   "metadata": {},
   "outputs": [
    {
     "data": {
      "text/html": [
       "<div>\n",
       "<style scoped>\n",
       "    .dataframe tbody tr th:only-of-type {\n",
       "        vertical-align: middle;\n",
       "    }\n",
       "\n",
       "    .dataframe tbody tr th {\n",
       "        vertical-align: top;\n",
       "    }\n",
       "\n",
       "    .dataframe thead th {\n",
       "        text-align: right;\n",
       "    }\n",
       "</style>\n",
       "<table border=\"1\" class=\"dataframe\">\n",
       "  <thead>\n",
       "    <tr style=\"text-align: right;\">\n",
       "      <th></th>\n",
       "      <th>Diện tích (mét vuông)</th>\n",
       "      <th>Số phòng</th>\n",
       "      <th>Tuổi căn nhà</th>\n",
       "      <th>Số bếp lửa</th>\n",
       "      <th>Giá (nghìn đôla)</th>\n",
       "    </tr>\n",
       "  </thead>\n",
       "  <tbody>\n",
       "    <tr>\n",
       "      <th>0</th>\n",
       "      <td>100</td>\n",
       "      <td>7</td>\n",
       "      <td>42</td>\n",
       "      <td>0</td>\n",
       "      <td>259</td>\n",
       "    </tr>\n",
       "    <tr>\n",
       "      <th>1</th>\n",
       "      <td>150</td>\n",
       "      <td>7</td>\n",
       "      <td>62</td>\n",
       "      <td>0</td>\n",
       "      <td>295</td>\n",
       "    </tr>\n",
       "    <tr>\n",
       "      <th>2</th>\n",
       "      <td>118</td>\n",
       "      <td>6</td>\n",
       "      <td>40</td>\n",
       "      <td>0</td>\n",
       "      <td>279</td>\n",
       "    </tr>\n",
       "    <tr>\n",
       "      <th>3</th>\n",
       "      <td>123</td>\n",
       "      <td>6</td>\n",
       "      <td>54</td>\n",
       "      <td>0</td>\n",
       "      <td>259</td>\n",
       "    </tr>\n",
       "    <tr>\n",
       "      <th>4</th>\n",
       "      <td>112</td>\n",
       "      <td>6</td>\n",
       "      <td>42</td>\n",
       "      <td>0</td>\n",
       "      <td>299</td>\n",
       "    </tr>\n",
       "  </tbody>\n",
       "</table>\n",
       "</div>"
      ],
      "text/plain": [
       "   Diện tích (mét vuông)  Số phòng  Tuổi căn nhà  Số bếp lửa  Giá (nghìn đôla)\n",
       "0                    100         7            42           0               259\n",
       "1                    150         7            62           0               295\n",
       "2                    118         6            40           0               279\n",
       "3                    123         6            54           0               259\n",
       "4                    112         6            42           0               299"
      ]
     },
     "execution_count": 10,
     "metadata": {},
     "output_type": "execute_result"
    }
   ],
   "source": [
    "df.head()"
   ]
  },
  {
   "cell_type": "code",
   "execution_count": 11,
   "metadata": {},
   "outputs": [
    {
     "data": {
      "text/plain": [
       "LinearRegression()"
      ]
     },
     "execution_count": 11,
     "metadata": {},
     "output_type": "execute_result"
    }
   ],
   "source": [
    "X = df[['Diện tích (mét vuông)', 'Số phòng', 'Tuổi căn nhà', 'Số bếp lửa']] # 4 biến\n",
    "y = df['Giá (nghìn đôla)']\n",
    " \n",
    "regr = linear_model.LinearRegression()\n",
    "regr.fit(X, y)"
   ]
  },
  {
   "cell_type": "code",
   "execution_count": 12,
   "metadata": {},
   "outputs": [
    {
     "name": "stdout",
     "output_type": "stream",
     "text": [
      "Intercept: \n",
      " 46.57608883979265\n",
      "Coefficients: \n",
      " [ 1.80877941 20.51647902 -2.38581452 54.29644678]\n"
     ]
    }
   ],
   "source": [
    "print('Intercept: \\n', regr.intercept_)\n",
    "print('Coefficients: \\n', regr.coef_) # slope"
   ]
  },
  {
   "cell_type": "code",
   "execution_count": 13,
   "metadata": {},
   "outputs": [
    {
     "name": "stdout",
     "output_type": "stream",
     "text": [
      "Giá căn nhà diện tích 159 mét vuông, 7 phòng, xây được 37 năm, không có bếp lửa là 390 nghìn đôla\n",
      "Giá căn nhà diện tích 205 mét vuông, 10 phòng, xây được 20 năm, có 1 bếp lửa là 629 nghìn đôla\n",
      "Giá căn nhà diện tích 110 mét vuông, 5 phòng, xây được 50 năm, không có bếp lửa là 229 nghìn đôla\n"
     ]
    }
   ],
   "source": [
    "print(\"Giá căn nhà diện tích 159 mét vuông, 7 phòng, xây được 37 năm, không có bếp lửa là\",\n",
    "      int(round(regr.predict([[159, 7, 37, 0]])[0],0)),\"nghìn đôla\")\n",
    "print(\"Giá căn nhà diện tích 205 mét vuông, 10 phòng, xây được 20 năm, có 1 bếp lửa là\",\n",
    "      int(round(regr.predict([[205, 10, 20, 1]])[0],0)),\"nghìn đôla\")\n",
    "print(\"Giá căn nhà diện tích 110 mét vuông, 5 phòng, xây được 50 năm, không có bếp lửa là\",\n",
    "      int(round(regr.predict([[110, 5, 50, 0]])[0],0)),\"nghìn đôla\")"
   ]
  },
  {
   "cell_type": "code",
   "execution_count": 14,
   "metadata": {},
   "outputs": [
    {
     "data": {
      "text/html": [
       "<div>\n",
       "<style scoped>\n",
       "    .dataframe tbody tr th:only-of-type {\n",
       "        vertical-align: middle;\n",
       "    }\n",
       "\n",
       "    .dataframe tbody tr th {\n",
       "        vertical-align: top;\n",
       "    }\n",
       "\n",
       "    .dataframe thead th {\n",
       "        text-align: right;\n",
       "    }\n",
       "</style>\n",
       "<table border=\"1\" class=\"dataframe\">\n",
       "  <thead>\n",
       "    <tr style=\"text-align: right;\">\n",
       "      <th></th>\n",
       "      <th>Diện tích (mét vuông)</th>\n",
       "      <th>Số phòng</th>\n",
       "      <th>Tuổi căn nhà</th>\n",
       "      <th>Số bếp lửa</th>\n",
       "      <th>Giá (nghìn đôla)</th>\n",
       "    </tr>\n",
       "  </thead>\n",
       "  <tbody>\n",
       "    <tr>\n",
       "      <th>Diện tích (mét vuông)</th>\n",
       "      <td>1.000000</td>\n",
       "      <td>0.877023</td>\n",
       "      <td>-0.258185</td>\n",
       "      <td>0.518848</td>\n",
       "      <td>0.941754</td>\n",
       "    </tr>\n",
       "    <tr>\n",
       "      <th>Số phòng</th>\n",
       "      <td>0.877023</td>\n",
       "      <td>1.000000</td>\n",
       "      <td>-0.049587</td>\n",
       "      <td>0.481125</td>\n",
       "      <td>0.831083</td>\n",
       "    </tr>\n",
       "    <tr>\n",
       "      <th>Tuổi căn nhà</th>\n",
       "      <td>-0.258185</td>\n",
       "      <td>-0.049587</td>\n",
       "      <td>1.000000</td>\n",
       "      <td>-0.109312</td>\n",
       "      <td>-0.389984</td>\n",
       "    </tr>\n",
       "    <tr>\n",
       "      <th>Số bếp lửa</th>\n",
       "      <td>0.518848</td>\n",
       "      <td>0.481125</td>\n",
       "      <td>-0.109312</td>\n",
       "      <td>1.000000</td>\n",
       "      <td>0.593541</td>\n",
       "    </tr>\n",
       "    <tr>\n",
       "      <th>Giá (nghìn đôla)</th>\n",
       "      <td>0.941754</td>\n",
       "      <td>0.831083</td>\n",
       "      <td>-0.389984</td>\n",
       "      <td>0.593541</td>\n",
       "      <td>1.000000</td>\n",
       "    </tr>\n",
       "  </tbody>\n",
       "</table>\n",
       "</div>"
      ],
      "text/plain": [
       "                       Diện tích (mét vuông)  Số phòng  Tuổi căn nhà  \\\n",
       "Diện tích (mét vuông)               1.000000  0.877023     -0.258185   \n",
       "Số phòng                            0.877023  1.000000     -0.049587   \n",
       "Tuổi căn nhà                       -0.258185 -0.049587      1.000000   \n",
       "Số bếp lửa                          0.518848  0.481125     -0.109312   \n",
       "Giá (nghìn đôla)                    0.941754  0.831083     -0.389984   \n",
       "\n",
       "                       Số bếp lửa  Giá (nghìn đôla)  \n",
       "Diện tích (mét vuông)    0.518848          0.941754  \n",
       "Số phòng                 0.481125          0.831083  \n",
       "Tuổi căn nhà            -0.109312         -0.389984  \n",
       "Số bếp lửa               1.000000          0.593541  \n",
       "Giá (nghìn đôla)         0.593541          1.000000  "
      ]
     },
     "execution_count": 14,
     "metadata": {},
     "output_type": "execute_result"
    }
   ],
   "source": [
    "df.corr()"
   ]
  },
  {
   "cell_type": "code",
   "execution_count": null,
   "metadata": {},
   "outputs": [],
   "source": []
  }
 ],
 "metadata": {
  "kernelspec": {
   "display_name": "Python 3",
   "language": "python",
   "name": "python3"
  },
  "language_info": {
   "codemirror_mode": {
    "name": "ipython",
    "version": 3
   },
   "file_extension": ".py",
   "mimetype": "text/x-python",
   "name": "python",
   "nbconvert_exporter": "python",
   "pygments_lexer": "ipython3",
   "version": "3.6.8"
  }
 },
 "nbformat": 4,
 "nbformat_minor": 2
}
