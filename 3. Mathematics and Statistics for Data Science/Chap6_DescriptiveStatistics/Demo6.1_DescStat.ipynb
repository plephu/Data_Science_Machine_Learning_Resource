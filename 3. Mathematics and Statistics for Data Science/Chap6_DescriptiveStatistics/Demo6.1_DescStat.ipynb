{
 "cells": [
  {
   "cell_type": "code",
   "execution_count": 12,
   "id": "ad33a170",
   "metadata": {},
   "outputs": [],
   "source": [
    "import numpy as np\n",
    "import matplotlib.pyplot as plt\n",
    "import pandas as pd\n",
    "import scipy.stats as st"
   ]
  },
  {
   "cell_type": "code",
   "execution_count": 2,
   "id": "ddb16177",
   "metadata": {},
   "outputs": [],
   "source": [
    "Y = np.array([12, 16, 4, 6, 22, 12])\n"
   ]
  },
  {
   "cell_type": "code",
   "execution_count": 3,
   "id": "aca2c9b4",
   "metadata": {},
   "outputs": [],
   "source": [
    "Z = np.array([80, 87, 95, 83, 92])\n"
   ]
  },
  {
   "cell_type": "code",
   "execution_count": 4,
   "id": "08cd4365",
   "metadata": {},
   "outputs": [],
   "source": [
    "scores = np.array([1, 3, 3, 3, 5, 6, 6, 9, 9, 9])\n",
    "# If there is more than one such value, only the smallest is returned.\n"
   ]
  },
  {
   "cell_type": "code",
   "execution_count": 5,
   "id": "4ecff46f",
   "metadata": {},
   "outputs": [],
   "source": [
    "ages = np.array([13, 13, 14, 14, 14, 15, 15, 15, 15, 16, 16, 16])\n"
   ]
  },
  {
   "cell_type": "code",
   "execution_count": 6,
   "id": "91beb226",
   "metadata": {},
   "outputs": [],
   "source": [
    "B = np.array([8, 9, 12, 14.5, 15.5, 17, 18])\n"
   ]
  },
  {
   "cell_type": "code",
   "execution_count": 7,
   "id": "99908415",
   "metadata": {},
   "outputs": [],
   "source": [
    "C = np.array([1, 3, 3, 4, 5, 6, 6, 7, 8, 8])\n"
   ]
  },
  {
   "cell_type": "code",
   "execution_count": 8,
   "id": "949dd4ae",
   "metadata": {},
   "outputs": [],
   "source": [
    "# variance\n",
    "X = np.array([17, 15, 23, 7, 9, 13])\n"
   ]
  },
  {
   "cell_type": "code",
   "execution_count": 9,
   "id": "88591592",
   "metadata": {},
   "outputs": [],
   "source": [
    "X = np.array([17, 15, 23, 7, 9, 13])\n"
   ]
  },
  {
   "cell_type": "code",
   "execution_count": 10,
   "id": "029664f2",
   "metadata": {},
   "outputs": [],
   "source": [
    "ages = np.array([13, 13, 14, 14, 14, 15, 15, 15, 15, 16, 16, 16])\n"
   ]
  },
  {
   "cell_type": "code",
   "execution_count": 13,
   "id": "50ad979c",
   "metadata": {},
   "outputs": [],
   "source": [
    "Ages = pd.Series(ages)"
   ]
  },
  {
   "cell_type": "code",
   "execution_count": null,
   "id": "02b8204f",
   "metadata": {},
   "outputs": [],
   "source": [
    "Ages.plot.kde()"
   ]
  },
  {
   "cell_type": "code",
   "execution_count": 14,
   "id": "c6445b0c",
   "metadata": {},
   "outputs": [],
   "source": [
    "ages = np.array([13, 13, 14, 14, 14, 15, 15, 15, 15, 16, 16, 16])"
   ]
  },
  {
   "cell_type": "code",
   "execution_count": null,
   "id": "5456628b",
   "metadata": {},
   "outputs": [],
   "source": [
    "import seaborn as sns\n",
    "sns.distplot(ages, hist=False)"
   ]
  },
  {
   "cell_type": "code",
   "execution_count": null,
   "id": "36505a55",
   "metadata": {},
   "outputs": [],
   "source": [
    "numbers = np.array([92, 19, 101, 58, 1053, 91, 26, 78, 10, 13, -40, 101, 86, 85, 15, 89, 89, 28, -5, 41])"
   ]
  },
  {
   "cell_type": "code",
   "execution_count": null,
   "id": "a81e03d7",
   "metadata": {},
   "outputs": [],
   "source": []
  },
  {
   "cell_type": "code",
   "execution_count": null,
   "id": "e8a9f696",
   "metadata": {},
   "outputs": [],
   "source": []
  },
  {
   "cell_type": "code",
   "execution_count": null,
   "id": "f7373911",
   "metadata": {},
   "outputs": [],
   "source": []
  }
 ],
 "metadata": {
  "kernelspec": {
   "display_name": "Python 3",
   "language": "python",
   "name": "python3"
  },
  "language_info": {
   "codemirror_mode": {
    "name": "ipython",
    "version": 3
   },
   "file_extension": ".py",
   "mimetype": "text/x-python",
   "name": "python",
   "nbconvert_exporter": "python",
   "pygments_lexer": "ipython3",
   "version": "3.6.8"
  }
 },
 "nbformat": 4,
 "nbformat_minor": 5
}
