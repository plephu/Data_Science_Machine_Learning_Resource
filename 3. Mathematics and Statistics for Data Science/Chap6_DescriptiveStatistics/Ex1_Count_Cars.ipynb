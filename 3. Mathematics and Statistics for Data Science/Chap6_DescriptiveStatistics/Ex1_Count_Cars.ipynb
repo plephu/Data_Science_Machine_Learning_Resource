{
 "cells": [
  {
   "cell_type": "markdown",
   "metadata": {
    "id": "B42BMmAQiMNV"
   },
   "source": [
    "# Bài tập 1: Descriptive Statistics - Count_Cars"
   ]
  },
  {
   "cell_type": "markdown",
   "metadata": {
    "id": "o-2wQPt9iMNY"
   },
   "source": [
    "### Bài toán: Một thanh tra giao thông đã đếm số lượng ô tô đi qua một điểm nhất định trong 100 khoảng thời gian (cách nhau 20 phút). Các quan sát được liệt kê trong tập tin count_cars.txt.\n",
    "1. Tạo cars_array từ nội dung tập tin.\n",
    "2. Vẽ biểu đồ phân phối tần suất của cars_array\n",
    "3. Thống kê cơ bản cho cars_array; mean, median, mode (gồm những giá trị nào? số lần là bao nhiêu?), max, min\n",
    "5. Tìm range\n",
    "5. Cho biết giá trị ở phân vị thứ [5, 15, 25, 50, 75, 90] của cars_array. Biểu diễn phân vị và giá trị tương ứng trên biểu đồ.\n",
    "6. Vẽ boxplot của cars_array. Dùng z-score để xác định outliers (những index nào? giá trị outliers tương ứng cho những index đó?)\n",
    "7. Tìm IQR cho car_arrays\n",
    "8. Tìm phương sai (variance) cùa cars_array\n",
    "9. Tìm độ lệch chuẩn Standard deviation của cars_array\n",
    "10. Tìm độ xiên (Skewness) của cars_array. Nhận xét kết quả.\n",
    "11. Tìm độ nhọn Kurtosis của cars_array. Nhận xét kết quả."
   ]
  },
  {
   "cell_type": "code",
   "execution_count": 3,
   "metadata": {
    "executionInfo": {
     "elapsed": 546,
     "status": "ok",
     "timestamp": 1666061474728,
     "user": {
      "displayName": "Phuong Khuat Thuy",
      "userId": "16807426118474640783"
     },
     "user_tz": -420
    },
    "id": "sNRJpDSGiMNZ"
   },
   "outputs": [],
   "source": [
    "import numpy as np\n",
    "from scipy import stats\n",
    "import warnings\n",
    "warnings.filterwarnings('ignore')"
   ]
  },
  {
   "cell_type": "code",
   "execution_count": 4,
   "metadata": {
    "executionInfo": {
     "elapsed": 3,
     "status": "ok",
     "timestamp": 1666061474728,
     "user": {
      "displayName": "Phuong Khuat Thuy",
      "userId": "16807426118474640783"
     },
     "user_tz": -420
    },
    "id": "WJsb9jLqiMNa"
   },
   "outputs": [],
   "source": [
    "# Tạo cars_array từ nội dung tập tin.\n",
    "f=open(\"count_cars.txt\", \"r\")"
   ]
  },
  {
   "cell_type": "code",
   "execution_count": 5,
   "metadata": {
    "colab": {
     "base_uri": "https://localhost:8080/",
     "height": 53
    },
    "executionInfo": {
     "elapsed": 553,
     "status": "ok",
     "timestamp": 1666061475279,
     "user": {
      "displayName": "Phuong Khuat Thuy",
      "userId": "16807426118474640783"
     },
     "user_tz": -420
    },
    "id": "xU2PiMmuiMNa",
    "outputId": "ba1e4090-c3cc-4150-8b0b-30dbe1fa1f4f"
   },
   "outputs": [
    {
     "data": {
      "application/vnd.google.colaboratory.intrinsic+json": {
       "type": "string"
      },
      "text/plain": [
       "'23 20 16 18 30 22 26 15 5 18\\n14 17 11 37 21 6 10 20 22 25\\n19 19 19 20 12 23 24 17 18 16\\n27 16 28 26 15 29 19 35 20 17\\n12 30 21 22 20 15 18 16 23 24\\n15 24 28 19 24 22 17 19 8 18\\n17 18 23 21 25 19 20 22 21 21\\n16 20 19 11 23 17 23 13 17 26\\n26 14 15 16 27 18 21 24 33 20\\n21 27 18 22 17 20 14 21 22 19'"
      ]
     },
     "execution_count": 5,
     "metadata": {},
     "output_type": "execute_result"
    }
   ],
   "source": [
    "content = f.read()\n",
    "content"
   ]
  },
  {
   "cell_type": "code",
   "execution_count": 6,
   "metadata": {
    "colab": {
     "base_uri": "https://localhost:8080/"
    },
    "executionInfo": {
     "elapsed": 7,
     "status": "ok",
     "timestamp": 1666061475280,
     "user": {
      "displayName": "Phuong Khuat Thuy",
      "userId": "16807426118474640783"
     },
     "user_tz": -420
    },
    "id": "KUiMUGnjiMNb",
    "outputId": "f4f049fd-bd5c-4be3-c9d8-6da0e6ac33ee"
   },
   "outputs": [
    {
     "data": {
      "text/plain": [
       "array([23, 20, 16, 18, 30, 22, 26, 15,  5, 18, 14, 17, 11, 37, 21,  6, 10,\n",
       "       20, 22, 25, 19, 19, 19, 20, 12, 23, 24, 17, 18, 16, 27, 16, 28, 26,\n",
       "       15, 29, 19, 35, 20, 17, 12, 30, 21, 22, 20, 15, 18, 16, 23, 24, 15,\n",
       "       24, 28, 19, 24, 22, 17, 19,  8, 18, 17, 18, 23, 21, 25, 19, 20, 22,\n",
       "       21, 21, 16, 20, 19, 11, 23, 17, 23, 13, 17, 26, 26, 14, 15, 16, 27,\n",
       "       18, 21, 24, 33, 20, 21, 27, 18, 22, 17, 20, 14, 21, 22, 19])"
      ]
     },
     "execution_count": 6,
     "metadata": {},
     "output_type": "execute_result"
    }
   ],
   "source": [
    "cars = content.split()\n",
    "cars = list(map(int, cars))\n",
    "cars_array = np.array(cars)\n",
    "cars_array"
   ]
  },
  {
   "cell_type": "code",
   "execution_count": 7,
   "metadata": {
    "colab": {
     "base_uri": "https://localhost:8080/"
    },
    "executionInfo": {
     "elapsed": 5,
     "status": "ok",
     "timestamp": 1666061475280,
     "user": {
      "displayName": "Phuong Khuat Thuy",
      "userId": "16807426118474640783"
     },
     "user_tz": -420
    },
    "id": "5UBBQpH3iMNc",
    "outputId": "90df6e10-1945-4d27-f7d8-b76e9f17e02e"
   },
   "outputs": [
    {
     "data": {
      "text/plain": [
       "numpy.ndarray"
      ]
     },
     "execution_count": 7,
     "metadata": {},
     "output_type": "execute_result"
    }
   ],
   "source": [
    "type(cars_array)"
   ]
  },
  {
   "cell_type": "code",
   "execution_count": 8,
   "metadata": {
    "executionInfo": {
     "elapsed": 332,
     "status": "ok",
     "timestamp": 1666061475609,
     "user": {
      "displayName": "Phuong Khuat Thuy",
      "userId": "16807426118474640783"
     },
     "user_tz": -420
    },
    "id": "BTVU4vH-iMNc"
   },
   "outputs": [],
   "source": [
    "import matplotlib.pyplot as plt\n",
    "import seaborn as sns"
   ]
  },
  {
   "cell_type": "code",
   "execution_count": 9,
   "metadata": {
    "colab": {
     "base_uri": "https://localhost:8080/",
     "height": 299
    },
    "executionInfo": {
     "elapsed": 920,
     "status": "ok",
     "timestamp": 1666061476527,
     "user": {
      "displayName": "Phuong Khuat Thuy",
      "userId": "16807426118474640783"
     },
     "user_tz": -420
    },
    "id": "yXIgT14AiMNc",
    "outputId": "489e2c9c-b23e-47a7-b8f2-e906f91cdd02"
   },
   "outputs": [
    {
     "data": {
      "image/png": "[encoded data removed]",
      "text/plain": [
       "<Figure size 576x288 with 2 Axes>"
      ]
     },
     "metadata": {
      "needs_background": "light"
     },
     "output_type": "display_data"
    }
   ],
   "source": [
    "# Vẽ biểu đồ phân phối tần suất của cars_array\n",
    "plt.figure(figsize=(8,4))\n",
    "plt.subplot(1, 2, 1)\n",
    "plt.hist(cars_array)\n",
    "plt.subplot(1, 2, 2)\n",
    "sns.distplot(cars_array)\n",
    "plt.tight_layout(True)\n",
    "plt.show()"
   ]
  },
  {
   "cell_type": "code",
   "execution_count": 10,
   "metadata": {
    "colab": {
     "base_uri": "https://localhost:8080/"
    },
    "executionInfo": {
     "elapsed": 21,
     "status": "ok",
     "timestamp": 1666061476528,
     "user": {
      "displayName": "Phuong Khuat Thuy",
      "userId": "16807426118474640783"
     },
     "user_tz": -420
    },
    "id": "nM_eoc9GiMNc",
    "outputId": "0d5ab962-3f3d-4ba4-b2c4-a55b04e07aca"
   },
   "outputs": [
    {
     "data": {
      "text/plain": [
       "19.97"
      ]
     },
     "execution_count": 10,
     "metadata": {},
     "output_type": "execute_result"
    }
   ],
   "source": [
    "# Thống kê cơ bản cho cars_array; mean, median, mode (gồm những giá trị nào? số lần là bao nhiêu?), max, min\n",
    "cars_array.mean()"
   ]
  },
  {
   "cell_type": "code",
   "execution_count": 11,
   "metadata": {
    "colab": {
     "base_uri": "https://localhost:8080/"
    },
    "executionInfo": {
     "elapsed": 20,
     "status": "ok",
     "timestamp": 1666061476529,
     "user": {
      "displayName": "Phuong Khuat Thuy",
      "userId": "16807426118474640783"
     },
     "user_tz": -420
    },
    "id": "xHkuQzNmiMNd",
    "outputId": "6a9594ba-a02c-4498-82ff-ff4f8c94f5ae"
   },
   "outputs": [
    {
     "data": {
      "text/plain": [
       "37"
      ]
     },
     "execution_count": 11,
     "metadata": {},
     "output_type": "execute_result"
    }
   ],
   "source": [
    "cars_array.max()"
   ]
  },
  {
   "cell_type": "code",
   "execution_count": 12,
   "metadata": {
    "colab": {
     "base_uri": "https://localhost:8080/"
    },
    "executionInfo": {
     "elapsed": 18,
     "status": "ok",
     "timestamp": 1666061476529,
     "user": {
      "displayName": "Phuong Khuat Thuy",
      "userId": "16807426118474640783"
     },
     "user_tz": -420
    },
    "id": "gQEOxxDqiMNd",
    "outputId": "a7a50286-287f-4e92-86c3-eedaec20b070"
   },
   "outputs": [
    {
     "data": {
      "text/plain": [
       "5"
      ]
     },
     "execution_count": 12,
     "metadata": {},
     "output_type": "execute_result"
    }
   ],
   "source": [
    "cars_array.min()"
   ]
  },
  {
   "cell_type": "code",
   "execution_count": 13,
   "metadata": {
    "colab": {
     "base_uri": "https://localhost:8080/"
    },
    "executionInfo": {
     "elapsed": 18,
     "status": "ok",
     "timestamp": 1666061476530,
     "user": {
      "displayName": "Phuong Khuat Thuy",
      "userId": "16807426118474640783"
     },
     "user_tz": -420
    },
    "id": "SeF0CRjaiMNd",
    "outputId": "07c858ff-5e48-427e-a0bd-79edac19dd3d"
   },
   "outputs": [
    {
     "data": {
      "text/plain": [
       "ModeResult(mode=array([19]), count=array([9]))"
      ]
     },
     "execution_count": 13,
     "metadata": {},
     "output_type": "execute_result"
    }
   ],
   "source": [
    "cars_mode = stats.mode(cars_array)\n",
    "cars_mode"
   ]
  },
  {
   "cell_type": "code",
   "execution_count": 14,
   "metadata": {
    "colab": {
     "base_uri": "https://localhost:8080/"
    },
    "executionInfo": {
     "elapsed": 16,
     "status": "ok",
     "timestamp": 1666061476530,
     "user": {
      "displayName": "Phuong Khuat Thuy",
      "userId": "16807426118474640783"
     },
     "user_tz": -420
    },
    "id": "5S97EZhoiMNd",
    "outputId": "d93e91c7-2396-4970-a593-89766d742b04"
   },
   "outputs": [
    {
     "data": {
      "text/plain": [
       "19"
      ]
     },
     "execution_count": 14,
     "metadata": {},
     "output_type": "execute_result"
    }
   ],
   "source": [
    "cars_mode[0][0]"
   ]
  },
  {
   "cell_type": "code",
   "execution_count": 15,
   "metadata": {
    "colab": {
     "base_uri": "https://localhost:8080/"
    },
    "executionInfo": {
     "elapsed": 15,
     "status": "ok",
     "timestamp": 1666061476530,
     "user": {
      "displayName": "Phuong Khuat Thuy",
      "userId": "16807426118474640783"
     },
     "user_tz": -420
    },
    "id": "f9JJWv4MiMNe",
    "outputId": "8744a869-5607-4338-f990-e648d0c35f11"
   },
   "outputs": [
    {
     "data": {
      "text/plain": [
       "9"
      ]
     },
     "execution_count": 15,
     "metadata": {},
     "output_type": "execute_result"
    }
   ],
   "source": [
    "cars_mode[1][0]"
   ]
  },
  {
   "cell_type": "code",
   "execution_count": 16,
   "metadata": {
    "colab": {
     "base_uri": "https://localhost:8080/"
    },
    "executionInfo": {
     "elapsed": 14,
     "status": "ok",
     "timestamp": 1666061476531,
     "user": {
      "displayName": "Phuong Khuat Thuy",
      "userId": "16807426118474640783"
     },
     "user_tz": -420
    },
    "id": "iJGKpWkJiMNe",
    "outputId": "2d7852f9-b475-4bf5-bdd4-0ab85b0dfd51"
   },
   "outputs": [
    {
     "data": {
      "text/plain": [
       "32"
      ]
     },
     "execution_count": 16,
     "metadata": {},
     "output_type": "execute_result"
    }
   ],
   "source": [
    "# Tìm range\n",
    "range_cars = np.ptp(cars_array)\n",
    "range_cars"
   ]
  },
  {
   "cell_type": "code",
   "execution_count": 17,
   "metadata": {
    "colab": {
     "base_uri": "https://localhost:8080/"
    },
    "executionInfo": {
     "elapsed": 12,
     "status": "ok",
     "timestamp": 1666061476531,
     "user": {
      "displayName": "Phuong Khuat Thuy",
      "userId": "16807426118474640783"
     },
     "user_tz": -420
    },
    "id": "3yRunLxgiMNe",
    "outputId": "9899cf80-59d0-4ff5-c006-a6167cd3b3b6"
   },
   "outputs": [
    {
     "data": {
      "text/plain": [
       "array([11., 15., 17., 20., 23., 27.])"
      ]
     },
     "execution_count": 17,
     "metadata": {},
     "output_type": "execute_result"
    }
   ],
   "source": [
    "# Cho biết giá trị ở phân vị thứ [5, 15, 25, 50, 75, 90] của cars_array.\n",
    "percentiles = np.array([5, 15, 25, 50, 75, 90])\n",
    "x = np.percentile(cars_array, percentiles)\n",
    "x"
   ]
  },
  {
   "cell_type": "code",
   "execution_count": 18,
   "metadata": {
    "colab": {
     "base_uri": "https://localhost:8080/",
     "height": 265
    },
    "executionInfo": {
     "elapsed": 10,
     "status": "ok",
     "timestamp": 1666061476531,
     "user": {
      "displayName": "Phuong Khuat Thuy",
      "userId": "16807426118474640783"
     },
     "user_tz": -420
    },
    "id": "FPuBtg3diMNe",
    "outputId": "9637733a-6a5d-4edc-a2d5-63fe29c1eb89"
   },
   "outputs": [
    {
     "data": {
      "image/png": "[encoded data removed]",
      "text/plain": [
       "<Figure size 432x288 with 1 Axes>"
      ]
     },
     "metadata": {
      "needs_background": "light"
     },
     "output_type": "display_data"
    }
   ],
   "source": [
    "# Plot percentiles as red x's\n",
    "plt.plot(x, percentiles/100, marker='D', color='red',\n",
    "         linestyle='none')\n",
    "plt.show()"
   ]
  },
  {
   "cell_type": "code",
   "execution_count": 19,
   "metadata": {
    "colab": {
     "base_uri": "https://localhost:8080/",
     "height": 265
    },
    "executionInfo": {
     "elapsed": 838,
     "status": "ok",
     "timestamp": 1666061477360,
     "user": {
      "displayName": "Phuong Khuat Thuy",
      "userId": "16807426118474640783"
     },
     "user_tz": -420
    },
    "id": "_bUlq-GBiMNe",
    "outputId": "1867f58c-d827-4657-df20-460b1b70d785"
   },
   "outputs": [
    {
     "data": {
      "image/png": "[encoded data removed]",
      "text/plain": [
       "<Figure size 432x288 with 1 Axes>"
      ]
     },
     "metadata": {
      "needs_background": "light"
     },
     "output_type": "display_data"
    }
   ],
   "source": [
    "# Vẽ boxplot của cars_array\n",
    "sns.boxplot(cars_array);"
   ]
  },
  {
   "cell_type": "code",
   "execution_count": 20,
   "metadata": {
    "colab": {
     "base_uri": "https://localhost:8080/"
    },
    "executionInfo": {
     "elapsed": 15,
     "status": "ok",
     "timestamp": 1666061477361,
     "user": {
      "displayName": "Phuong Khuat Thuy",
      "userId": "16807426118474640783"
     },
     "user_tz": -420
    },
    "id": "1DA-cE92iMNf",
    "outputId": "e2115e63-81c9-4a13-85d3-a09db6f4de63"
   },
   "outputs": [
    {
     "name": "stdout",
     "output_type": "stream",
     "text": [
      "Indexes of outliers: [8, 13, 15, 37]\n",
      "Outlier values: [ 5 37  6 35]\n"
     ]
    }
   ],
   "source": [
    "# Dùng z-score để xác định outliers\n",
    "# Với ngưỡng là 2.5\n",
    "cars_z_score = stats.zscore(cars_array)\n",
    "outliers = cars_z_score[[(n <=-2.5)|(n>=2.5) for n in cars_z_score]]\n",
    "indexes = [cars_z_score.tolist().index(i) for i in outliers]\n",
    "print(\"Indexes of outliers:\",indexes)\n",
    "print(\"Outlier values:\", cars_array[indexes])"
   ]
  },
  {
   "cell_type": "code",
   "execution_count": 21,
   "metadata": {
    "colab": {
     "base_uri": "https://localhost:8080/"
    },
    "executionInfo": {
     "elapsed": 14,
     "status": "ok",
     "timestamp": 1666061477361,
     "user": {
      "displayName": "Phuong Khuat Thuy",
      "userId": "16807426118474640783"
     },
     "user_tz": -420
    },
    "id": "KTIXEsMyi5f6",
    "outputId": "fe1a0522-4ed6-4ff0-fbaf-339d8e01b64f"
   },
   "outputs": [
    {
     "name": "stdout",
     "output_type": "stream",
     "text": [
      "Indexes of outliers: [13]\n",
      "Outlier values: [37]\n"
     ]
    }
   ],
   "source": [
    "# Với ngưỡng là 3.0\n",
    "cars_z_score = stats.zscore(cars_array)\n",
    "outliers = cars_z_score[[(n <=-3.0)|(n>=3.0) for n in cars_z_score]]\n",
    "indexes = [cars_z_score.tolist().index(i) for i in outliers]\n",
    "print(\"Indexes of outliers:\",indexes)\n",
    "print(\"Outlier values:\", cars_array[indexes])"
   ]
  },
  {
   "cell_type": "code",
   "execution_count": 22,
   "metadata": {
    "colab": {
     "base_uri": "https://localhost:8080/"
    },
    "executionInfo": {
     "elapsed": 14,
     "status": "ok",
     "timestamp": 1666061477362,
     "user": {
      "displayName": "Phuong Khuat Thuy",
      "userId": "16807426118474640783"
     },
     "user_tz": -420
    },
    "id": "3CnQ6_OLiMNf",
    "outputId": "d9504739-1aac-4aca-ea75-0d0c7718605a"
   },
   "outputs": [
    {
     "data": {
      "text/plain": [
       "6.0"
      ]
     },
     "execution_count": 22,
     "metadata": {},
     "output_type": "execute_result"
    }
   ],
   "source": [
    "# IQR cho car_arrays\n",
    "IQR = stats.iqr(cars_array)\n",
    "IQR"
   ]
  },
  {
   "cell_type": "code",
   "execution_count": 23,
   "metadata": {
    "colab": {
     "base_uri": "https://localhost:8080/"
    },
    "executionInfo": {
     "elapsed": 12,
     "status": "ok",
     "timestamp": 1666061477362,
     "user": {
      "displayName": "Phuong Khuat Thuy",
      "userId": "16807426118474640783"
     },
     "user_tz": -420
    },
    "id": "IS13s_LWiMNf",
    "outputId": "e984ae74-9294-474c-a9f9-219f6be87f8a"
   },
   "outputs": [
    {
     "data": {
      "text/plain": [
       "30.489099999999993"
      ]
     },
     "execution_count": 23,
     "metadata": {},
     "output_type": "execute_result"
    }
   ],
   "source": [
    "# Tìm phương sai (variance) cùa cars_array\n",
    "var_cars = np.var(cars_array)\n",
    "var_cars"
   ]
  },
  {
   "cell_type": "code",
   "execution_count": 24,
   "metadata": {
    "colab": {
     "base_uri": "https://localhost:8080/"
    },
    "executionInfo": {
     "elapsed": 12,
     "status": "ok",
     "timestamp": 1666061477363,
     "user": {
      "displayName": "Phuong Khuat Thuy",
      "userId": "16807426118474640783"
     },
     "user_tz": -420
    },
    "id": "_IvKZGNtiMNf",
    "outputId": "5c6631c6-03d3-4eed-bf20-991b98795706"
   },
   "outputs": [
    {
     "data": {
      "text/plain": [
       "5.52169358077755"
      ]
     },
     "execution_count": 24,
     "metadata": {},
     "output_type": "execute_result"
    }
   ],
   "source": [
    "# Tìm độ lệch chuẩn Standard deviation của cars_array\n",
    "std_cars = np.std(cars_array)\n",
    "std_cars"
   ]
  },
  {
   "cell_type": "code",
   "execution_count": 25,
   "metadata": {
    "colab": {
     "base_uri": "https://localhost:8080/"
    },
    "executionInfo": {
     "elapsed": 11,
     "status": "ok",
     "timestamp": 1666061477363,
     "user": {
      "displayName": "Phuong Khuat Thuy",
      "userId": "16807426118474640783"
     },
     "user_tz": -420
    },
    "id": "T4wSSzGXiMNf",
    "outputId": "0c819f8e-7cc5-4ea2-e429-f0bc6952145a"
   },
   "outputs": [
    {
     "data": {
      "text/plain": [
       "0.21285259034645865"
      ]
     },
     "execution_count": 25,
     "metadata": {},
     "output_type": "execute_result"
    }
   ],
   "source": [
    "# Tìm độ xiên (Skewness) của cars_array. Nhận xét kết quả.\n",
    "skew_cars = stats.skew(cars_array)\n",
    "skew_cars"
   ]
  },
  {
   "cell_type": "markdown",
   "metadata": {
    "id": "vW971HwaiMNg"
   },
   "source": [
    "- Ta thấy skew_cras > 0 => phân phối lệch phải "
   ]
  },
  {
   "cell_type": "code",
   "execution_count": 26,
   "metadata": {
    "executionInfo": {
     "elapsed": 10,
     "status": "ok",
     "timestamp": 1666061477363,
     "user": {
      "displayName": "Phuong Khuat Thuy",
      "userId": "16807426118474640783"
     },
     "user_tz": -420
    },
    "id": "498zCOgiiMNg"
   },
   "outputs": [],
   "source": [
    "# Tìm độ nhọn Kurtosis của cars_array. Nhận xét kết quả."
   ]
  },
  {
   "cell_type": "code",
   "execution_count": 27,
   "metadata": {
    "colab": {
     "base_uri": "https://localhost:8080/"
    },
    "executionInfo": {
     "elapsed": 9,
     "status": "ok",
     "timestamp": 1666061477363,
     "user": {
      "displayName": "Phuong Khuat Thuy",
      "userId": "16807426118474640783"
     },
     "user_tz": -420
    },
    "id": "q60vOVPpiMNg",
    "outputId": "8d22f04a-5daa-4aaa-b2ee-2db0fa056eae"
   },
   "outputs": [
    {
     "data": {
      "text/plain": [
       "0.9396339028047"
      ]
     },
     "execution_count": 27,
     "metadata": {},
     "output_type": "execute_result"
    }
   ],
   "source": [
    "kur_cars = stats.kurtosis(cars_array) # mặc định Fisher = True  thì kur - 3\n",
    "kur_cars"
   ]
  },
  {
   "cell_type": "code",
   "execution_count": 28,
   "metadata": {
    "colab": {
     "base_uri": "https://localhost:8080/"
    },
    "executionInfo": {
     "elapsed": 9,
     "status": "ok",
     "timestamp": 1666061477364,
     "user": {
      "displayName": "Phuong Khuat Thuy",
      "userId": "16807426118474640783"
     },
     "user_tz": -420
    },
    "id": "pI9ZQRdfiMNg",
    "outputId": "3d21d9aa-9e8d-4267-9b3a-15cb362339b7"
   },
   "outputs": [
    {
     "data": {
      "text/plain": [
       "3.9396339028047"
      ]
     },
     "execution_count": 28,
     "metadata": {},
     "output_type": "execute_result"
    }
   ],
   "source": [
    "kur_cars = stats.kurtosis(cars_array, fisher=False) \n",
    "kur_cars"
   ]
  },
  {
   "cell_type": "markdown",
   "metadata": {
    "id": "nvaDdA-TiMNg"
   },
   "source": [
    "- Với độ nhọn = 3 (theo Pearson) hoặc = 0 (theo Kurtosis ) thì sẽ là phân phối chuẩn , ở đây độ nhọn > 3 (>0) => phân bố này nhọn hơn phân bố chuẩn"
   ]
  },
  {
   "cell_type": "code",
   "execution_count": 28,
   "metadata": {
    "executionInfo": {
     "elapsed": 8,
     "status": "ok",
     "timestamp": 1666061477364,
     "user": {
      "displayName": "Phuong Khuat Thuy",
      "userId": "16807426118474640783"
     },
     "user_tz": -420
    },
    "id": "WIqgsPmaiMNg"
   },
   "outputs": [],
   "source": []
  }
 ],
 "metadata": {
  "colab": {
   "collapsed_sections": [],
   "provenance": []
  },
  "kernelspec": {
   "display_name": "Python 3",
   "language": "python",
   "name": "python3"
  },
  "language_info": {
   "codemirror_mode": {
    "name": "ipython",
    "version": 3
   },
   "file_extension": ".py",
   "mimetype": "text/x-python",
   "name": "python",
   "nbconvert_exporter": "python",
   "pygments_lexer": "ipython3",
   "version": "3.6.8"
  }
 },
 "nbformat": 4,
 "nbformat_minor": 1
}
