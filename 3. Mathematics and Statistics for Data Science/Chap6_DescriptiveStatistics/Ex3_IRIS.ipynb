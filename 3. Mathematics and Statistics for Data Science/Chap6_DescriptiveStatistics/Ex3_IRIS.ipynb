{
 "cells": [
  {
   "cell_type": "markdown",
   "metadata": {
    "id": "561ANaj_iMfa"
   },
   "source": [
    "# Bài tập 3: Descriptive Statistics - Iris"
   ]
  },
  {
   "cell_type": "markdown",
   "metadata": {
    "id": "Bk241b9jiMfc"
   },
   "source": [
    "### Cho dữ liệu Iris.xls\n",
    "1. Đọc dữ liệu vào biến data\n",
    "2. Xem thông tin data: info, describe, head\n",
    "3. Tính chiều cao trung bình của petallength, loại hoa Iris versicolor\n",
    "4. Tạo array phần trăm percentiles chứa các phần trăm thứ 2.5, 25, 50, 75, 97.5. Tính percentiles của petal lengths từ các mẫu Iris versicolor.\n",
    "5. Vẽ percentiles với marker='D', color='red', x và y tương ứng là ptiles_vers và percentiles/100\n",
    "6. Tạo array differences: là khoảng khác biệt giữa petallength với mean petallength. Tính bình phương differences. Tính mean square difference và đặt tên là variance_explicit. \n",
    "7. Tính variance trên bằng cách sử dung np.var. So sánh kết quà\n",
    "8. Tính căn bậc hai của variance ở câu trên\n",
    "9. Tính độ lệch chuẩn của petallength\n",
    "10. Hãy vẽ biểu đồ thể hiện mối quan hệ của versicolor_petal_length, versicolor_petal_width\n",
    "11. Tìm covariance matrix của versicolor_petal_length, versicolor_petal_width. Trích xuất covariance của petallength và petalwidth từ covariance matrix và đặt tên là petal_cov\n",
    "12. Tìm correlation matrix của versicolor_petal_length, versicolor_petal_width. Trích xuất correlation của petallength và petalwidth từ correlation matrix và đặt tên là petal_corr\n",
    "13. Vẽ boxplot của pentallength cho toàn bộ data và vẽ boxplot của pentallength theo loại\n",
    "14. Dựa trên boxplot trên, hãy cho biết các loại có outlier không? Nếu có thì dùng z-score để tính và xác định các index của outlier theo từng loại (những index nào? giá trị outliers tương ứng cho những index đó?)"
   ]
  },
  {
   "cell_type": "markdown",
   "metadata": {
    "id": "3v9NEN-tiMfc"
   },
   "source": [
    "## Gợi ý"
   ]
  },
  {
   "cell_type": "code",
   "execution_count": 4,
   "metadata": {
    "executionInfo": {
     "elapsed": 1014,
     "status": "ok",
     "timestamp": 1666061585837,
     "user": {
      "displayName": "Phuong Khuat Thuy",
      "userId": "16807426118474640783"
     },
     "user_tz": -420
    },
    "id": "pwQ8c3G1iMfd"
   },
   "outputs": [],
   "source": [
    "import pandas as pd\n",
    "from scipy import stats\n",
    "import numpy as np"
   ]
  },
  {
   "cell_type": "code",
   "execution_count": 5,
   "metadata": {
    "colab": {
     "base_uri": "https://localhost:8080/",
     "height": 206
    },
    "executionInfo": {
     "elapsed": 399,
     "status": "ok",
     "timestamp": 1666061586234,
     "user": {
      "displayName": "Phuong Khuat Thuy",
      "userId": "16807426118474640783"
     },
     "user_tz": -420
    },
    "id": "W-tNgzOiiMfd",
    "outputId": "e36d9946-fce4-47f5-ffe1-81d3c39a6485"
   },
   "outputs": [
    {
     "data": {
      "text/html": [
       "\n",
       "  <div id=\"df-3353b7ae-2ae7-4f61-8078-a01963292f26\">\n",
       "    <div class=\"colab-df-container\">\n",
       "      <div>\n",
       "<style scoped>\n",
       "    .dataframe tbody tr th:only-of-type {\n",
       "        vertical-align: middle;\n",
       "    }\n",
       "\n",
       "    .dataframe tbody tr th {\n",
       "        vertical-align: top;\n",
       "    }\n",
       "\n",
       "    .dataframe thead th {\n",
       "        text-align: right;\n",
       "    }\n",
       "</style>\n",
       "<table border=\"1\" class=\"dataframe\">\n",
       "  <thead>\n",
       "    <tr style=\"text-align: right;\">\n",
       "      <th></th>\n",
       "      <th>sepallength</th>\n",
       "      <th>sepalwidth</th>\n",
       "      <th>petallength</th>\n",
       "      <th>petalwidth</th>\n",
       "      <th>iris</th>\n",
       "    </tr>\n",
       "  </thead>\n",
       "  <tbody>\n",
       "    <tr>\n",
       "      <th>0</th>\n",
       "      <td>5.1</td>\n",
       "      <td>3.5</td>\n",
       "      <td>1.4</td>\n",
       "      <td>0.2</td>\n",
       "      <td>Iris-setosa</td>\n",
       "    </tr>\n",
       "    <tr>\n",
       "      <th>1</th>\n",
       "      <td>4.9</td>\n",
       "      <td>3.0</td>\n",
       "      <td>1.4</td>\n",
       "      <td>0.2</td>\n",
       "      <td>Iris-setosa</td>\n",
       "    </tr>\n",
       "    <tr>\n",
       "      <th>2</th>\n",
       "      <td>4.7</td>\n",
       "      <td>3.2</td>\n",
       "      <td>1.3</td>\n",
       "      <td>0.2</td>\n",
       "      <td>Iris-setosa</td>\n",
       "    </tr>\n",
       "    <tr>\n",
       "      <th>3</th>\n",
       "      <td>4.6</td>\n",
       "      <td>3.1</td>\n",
       "      <td>1.5</td>\n",
       "      <td>0.2</td>\n",
       "      <td>Iris-setosa</td>\n",
       "    </tr>\n",
       "    <tr>\n",
       "      <th>4</th>\n",
       "      <td>5.0</td>\n",
       "      <td>3.6</td>\n",
       "      <td>1.4</td>\n",
       "      <td>0.2</td>\n",
       "      <td>Iris-setosa</td>\n",
       "    </tr>\n",
       "  </tbody>\n",
       "</table>\n",
       "</div>\n",
       "      <button class=\"colab-df-convert\" onclick=\"convertToInteractive('df-3353b7ae-2ae7-4f61-8078-a01963292f26')\"\n",
       "              title=\"Convert this dataframe to an interactive table.\"\n",
       "              style=\"display:none;\">\n",
       "        \n",
       "  <svg xmlns=\"http://www.w3.org/2000/svg\" height=\"24px\"viewBox=\"0 0 24 24\"\n",
       "       width=\"24px\">\n",
       "    <path d=\"M0 0h24v24H0V0z\" fill=\"none\"/>\n",
       "    <path d=\"M18.56 5.44l.94 2.06.94-2.06 2.06-.94-2.06-.94-.94-2.06-.94 2.06-2.06.94zm-11 1L8.5 8.5l.94-2.06 2.06-.94-2.06-.94L8.5 2.5l-.94 2.06-2.06.94zm10 10l.94 2.06.94-2.06 2.06-.94-2.06-.94-.94-2.06-.94 2.06-2.06.94z\"/><path d=\"M17.41 7.96l-1.37-1.37c-.4-.4-.92-.59-1.43-.59-.52 0-1.04.2-1.43.59L10.3 9.45l-7.72 7.72c-.78.78-.78 2.05 0 2.83L4 21.41c.39.39.9.59 1.41.59.51 0 1.02-.2 1.41-.59l7.78-7.78 2.81-2.81c.8-.78.8-2.07 0-2.86zM5.41 20L4 18.59l7.72-7.72 1.47 1.35L5.41 20z\"/>\n",
       "  </svg>\n",
       "      </button>\n",
       "      \n",
       "  <style>\n",
       "    .colab-df-container {\n",
       "      display:flex;\n",
       "      flex-wrap:wrap;\n",
       "      gap: 12px;\n",
       "    }\n",
       "\n",
       "    .colab-df-convert {\n",
       "      background-color: #E8F0FE;\n",
       "      border: none;\n",
       "      border-radius: 50%;\n",
       "      cursor: pointer;\n",
       "      display: none;\n",
       "      fill: #1967D2;\n",
       "      height: 32px;\n",
       "      padding: 0 0 0 0;\n",
       "      width: 32px;\n",
       "    }\n",
       "\n",
       "    .colab-df-convert:hover {\n",
       "      background-color: #E2EBFA;\n",
       "      box-shadow: 0px 1px 2px rgba(60, 64, 67, 0.3), 0px 1px 3px 1px rgba(60, 64, 67, 0.15);\n",
       "      fill: #174EA6;\n",
       "    }\n",
       "\n",
       "    [theme=dark] .colab-df-convert {\n",
       "      background-color: #3B4455;\n",
       "      fill: #D2E3FC;\n",
       "    }\n",
       "\n",
       "    [theme=dark] .colab-df-convert:hover {\n",
       "      background-color: #434B5C;\n",
       "      box-shadow: 0px 1px 3px 1px rgba(0, 0, 0, 0.15);\n",
       "      filter: drop-shadow(0px 1px 2px rgba(0, 0, 0, 0.3));\n",
       "      fill: #FFFFFF;\n",
       "    }\n",
       "  </style>\n",
       "\n",
       "      <script>\n",
       "        const buttonEl =\n",
       "          document.querySelector('#df-3353b7ae-2ae7-4f61-8078-a01963292f26 button.colab-df-convert');\n",
       "        buttonEl.style.display =\n",
       "          google.colab.kernel.accessAllowed ? 'block' : 'none';\n",
       "\n",
       "        async function convertToInteractive(key) {\n",
       "          const element = document.querySelector('#df-3353b7ae-2ae7-4f61-8078-a01963292f26');\n",
       "          const dataTable =\n",
       "            await google.colab.kernel.invokeFunction('convertToInteractive',\n",
       "                                                     [key], {});\n",
       "          if (!dataTable) return;\n",
       "\n",
       "          const docLinkHtml = 'Like what you see? Visit the ' +\n",
       "            '<a target=\"_blank\" href=https://colab.research.google.com/notebooks/data_table.ipynb>data table notebook</a>'\n",
       "            + ' to learn more about interactive tables.';\n",
       "          element.innerHTML = '';\n",
       "          dataTable['output_type'] = 'display_data';\n",
       "          await google.colab.output.renderOutput(dataTable, element);\n",
       "          const docLink = document.createElement('div');\n",
       "          docLink.innerHTML = docLinkHtml;\n",
       "          element.appendChild(docLink);\n",
       "        }\n",
       "      </script>\n",
       "    </div>\n",
       "  </div>\n",
       "  "
      ],
      "text/plain": [
       "   sepallength  sepalwidth  petallength  petalwidth         iris\n",
       "0          5.1         3.5          1.4         0.2  Iris-setosa\n",
       "1          4.9         3.0          1.4         0.2  Iris-setosa\n",
       "2          4.7         3.2          1.3         0.2  Iris-setosa\n",
       "3          4.6         3.1          1.5         0.2  Iris-setosa\n",
       "4          5.0         3.6          1.4         0.2  Iris-setosa"
      ]
     },
     "execution_count": 5,
     "metadata": {},
     "output_type": "execute_result"
    }
   ],
   "source": [
    "data = pd.read_excel(\"Iris.xls\")\n",
    "data.head()"
   ]
  },
  {
   "cell_type": "code",
   "execution_count": 6,
   "metadata": {
    "executionInfo": {
     "elapsed": 10,
     "status": "ok",
     "timestamp": 1666061586235,
     "user": {
      "displayName": "Phuong Khuat Thuy",
      "userId": "16807426118474640783"
     },
     "user_tz": -420
    },
    "id": "DJrW9i8-iMfe"
   },
   "outputs": [],
   "source": [
    "# Compute the mean petal length of Iris versicolor"
   ]
  },
  {
   "cell_type": "code",
   "execution_count": 7,
   "metadata": {
    "executionInfo": {
     "elapsed": 11,
     "status": "ok",
     "timestamp": 1666061586237,
     "user": {
      "displayName": "Phuong Khuat Thuy",
      "userId": "16807426118474640783"
     },
     "user_tz": -420
    },
    "id": "aMqRZQKViMfe"
   },
   "outputs": [],
   "source": [
    "pental_lenghth_Iris_versicolor = data[data.iris == \"Iris-versicolor\"]['petallength']"
   ]
  },
  {
   "cell_type": "code",
   "execution_count": 8,
   "metadata": {
    "colab": {
     "base_uri": "https://localhost:8080/"
    },
    "executionInfo": {
     "elapsed": 12,
     "status": "ok",
     "timestamp": 1666061586238,
     "user": {
      "displayName": "Phuong Khuat Thuy",
      "userId": "16807426118474640783"
     },
     "user_tz": -420
    },
    "id": "suuR7kIZiMfe",
    "outputId": "ce32b30d-aa98-48ab-bba7-1546726ce05f"
   },
   "outputs": [
    {
     "data": {
      "text/plain": [
       "4.26"
      ]
     },
     "execution_count": 8,
     "metadata": {},
     "output_type": "execute_result"
    }
   ],
   "source": [
    "mean_pental_lenghth = pental_lenghth_Iris_versicolor.mean()\n",
    "mean_pental_lenghth"
   ]
  },
  {
   "cell_type": "code",
   "execution_count": 9,
   "metadata": {
    "executionInfo": {
     "elapsed": 10,
     "status": "ok",
     "timestamp": 1666061586238,
     "user": {
      "displayName": "Phuong Khuat Thuy",
      "userId": "16807426118474640783"
     },
     "user_tz": -420
    },
    "id": "HMEzPN_LiMff"
   },
   "outputs": [],
   "source": [
    "# Percentiles, and box plots"
   ]
  },
  {
   "cell_type": "code",
   "execution_count": 10,
   "metadata": {
    "executionInfo": {
     "elapsed": 9,
     "status": "ok",
     "timestamp": 1666061586238,
     "user": {
      "displayName": "Phuong Khuat Thuy",
      "userId": "16807426118474640783"
     },
     "user_tz": -420
    },
    "id": "Mz0sZzcKiMff"
   },
   "outputs": [],
   "source": [
    "# percentiles\n",
    "percentiles = np.array([2.5, 25, 50, 75, 97.5])"
   ]
  },
  {
   "cell_type": "code",
   "execution_count": 11,
   "metadata": {
    "colab": {
     "base_uri": "https://localhost:8080/"
    },
    "executionInfo": {
     "elapsed": 10,
     "status": "ok",
     "timestamp": 1666061586239,
     "user": {
      "displayName": "Phuong Khuat Thuy",
      "userId": "16807426118474640783"
     },
     "user_tz": -420
    },
    "id": "w4bNzzv6iMff",
    "outputId": "beb0ec4c-ef7a-4c87-eb45-549258e7d9ba"
   },
   "outputs": [
    {
     "data": {
      "text/plain": [
       "array([3.3   , 4.    , 4.35  , 4.6   , 4.9775])"
      ]
     },
     "execution_count": 11,
     "metadata": {},
     "output_type": "execute_result"
    }
   ],
   "source": [
    "# Compute percentiles: ptiles_vers\n",
    "ptiles_vers = np.percentile(pental_lenghth_Iris_versicolor, percentiles)\n",
    "ptiles_vers"
   ]
  },
  {
   "cell_type": "code",
   "execution_count": 12,
   "metadata": {
    "executionInfo": {
     "elapsed": 9,
     "status": "ok",
     "timestamp": 1666061586239,
     "user": {
      "displayName": "Phuong Khuat Thuy",
      "userId": "16807426118474640783"
     },
     "user_tz": -420
    },
    "id": "gPPopWEviMff"
   },
   "outputs": [],
   "source": [
    "import matplotlib.pyplot as plt"
   ]
  },
  {
   "cell_type": "code",
   "execution_count": 13,
   "metadata": {
    "colab": {
     "base_uri": "https://localhost:8080/",
     "height": 265
    },
    "executionInfo": {
     "elapsed": 603,
     "status": "ok",
     "timestamp": 1666061586833,
     "user": {
      "displayName": "Phuong Khuat Thuy",
      "userId": "16807426118474640783"
     },
     "user_tz": -420
    },
    "id": "FdjdA-CQiMff",
    "outputId": "628b92a2-160f-4400-f658-53ea9926714f"
   },
   "outputs": [
    {
     "data": {
      "image/png": "[encoded data removed]",
      "text/plain": [
       "<Figure size 432x288 with 1 Axes>"
      ]
     },
     "metadata": {
      "needs_background": "light"
     },
     "output_type": "display_data"
    }
   ],
   "source": [
    "# Plot percentiles as red x's\n",
    "plt.plot(ptiles_vers, percentiles/100, marker='D', color='red',\n",
    "         linestyle='none')\n",
    "plt.show()"
   ]
  },
  {
   "cell_type": "code",
   "execution_count": 14,
   "metadata": {
    "executionInfo": {
     "elapsed": 15,
     "status": "ok",
     "timestamp": 1666061586833,
     "user": {
      "displayName": "Phuong Khuat Thuy",
      "userId": "16807426118474640783"
     },
     "user_tz": -420
    },
    "id": "dfYOnoYgiMfg"
   },
   "outputs": [],
   "source": [
    "# Variance and standard deviation"
   ]
  },
  {
   "cell_type": "code",
   "execution_count": 15,
   "metadata": {
    "colab": {
     "base_uri": "https://localhost:8080/"
    },
    "executionInfo": {
     "elapsed": 15,
     "status": "ok",
     "timestamp": 1666061586834,
     "user": {
      "displayName": "Phuong Khuat Thuy",
      "userId": "16807426118474640783"
     },
     "user_tz": -420
    },
    "id": "Cs4f6nzjiMfg",
    "outputId": "e94d2caf-38e6-4413-a53c-9004d1604de6"
   },
   "outputs": [
    {
     "data": {
      "text/plain": [
       "50    0.44\n",
       "51    0.24\n",
       "52    0.64\n",
       "53   -0.26\n",
       "54    0.34\n",
       "55    0.24\n",
       "56    0.44\n",
       "57   -0.96\n",
       "58    0.34\n",
       "59   -0.36\n",
       "Name: petallength, dtype: float64"
      ]
     },
     "execution_count": 15,
     "metadata": {},
     "output_type": "execute_result"
    }
   ],
   "source": [
    "# Array of differences to mean: differences\n",
    "differences = pental_lenghth_Iris_versicolor - mean_pental_lenghth\n",
    "differences[0:10]"
   ]
  },
  {
   "cell_type": "code",
   "execution_count": 16,
   "metadata": {
    "colab": {
     "base_uri": "https://localhost:8080/"
    },
    "executionInfo": {
     "elapsed": 13,
     "status": "ok",
     "timestamp": 1666061586835,
     "user": {
      "displayName": "Phuong Khuat Thuy",
      "userId": "16807426118474640783"
     },
     "user_tz": -420
    },
    "id": "Qk8vuETuiMfg",
    "outputId": "43c24471-cd80-49cf-ff4c-5f3a54249e07"
   },
   "outputs": [
    {
     "data": {
      "text/plain": [
       "50    0.1936\n",
       "51    0.0576\n",
       "52    0.4096\n",
       "53    0.0676\n",
       "54    0.1156\n",
       "55    0.0576\n",
       "56    0.1936\n",
       "57    0.9216\n",
       "58    0.1156\n",
       "59    0.1296\n",
       "Name: petallength, dtype: float64"
      ]
     },
     "execution_count": 16,
     "metadata": {},
     "output_type": "execute_result"
    }
   ],
   "source": [
    "# Square the differences: diff_sq\n",
    "diff_sq = differences**2\n",
    "diff_sq[0:10]"
   ]
  },
  {
   "cell_type": "code",
   "execution_count": 17,
   "metadata": {
    "colab": {
     "base_uri": "https://localhost:8080/"
    },
    "executionInfo": {
     "elapsed": 12,
     "status": "ok",
     "timestamp": 1666061586835,
     "user": {
      "displayName": "Phuong Khuat Thuy",
      "userId": "16807426118474640783"
     },
     "user_tz": -420
    },
    "id": "27uCIH00iMfg",
    "outputId": "2c19c958-6ad3-4401-ddbb-54858f9d3f79"
   },
   "outputs": [
    {
     "data": {
      "text/plain": [
       "0.21640000000000004"
      ]
     },
     "execution_count": 17,
     "metadata": {},
     "output_type": "execute_result"
    }
   ],
   "source": [
    "# Compute the mean square difference: variance_explicit\n",
    "variance_explicit = np.mean(diff_sq)\n",
    "variance_explicit"
   ]
  },
  {
   "cell_type": "code",
   "execution_count": 18,
   "metadata": {
    "colab": {
     "base_uri": "https://localhost:8080/"
    },
    "executionInfo": {
     "elapsed": 11,
     "status": "ok",
     "timestamp": 1666061586835,
     "user": {
      "displayName": "Phuong Khuat Thuy",
      "userId": "16807426118474640783"
     },
     "user_tz": -420
    },
    "id": "VShSaoxmiMfg",
    "outputId": "aa35a265-35b9-4463-9a42-938a78392528"
   },
   "outputs": [
    {
     "data": {
      "text/plain": [
       "0.21640000000000004"
      ]
     },
     "execution_count": 18,
     "metadata": {},
     "output_type": "execute_result"
    }
   ],
   "source": [
    "# Compute the variance using NumPy: variance_np\n",
    "variance_np = np.var(pental_lenghth_Iris_versicolor)\n",
    "variance_np"
   ]
  },
  {
   "cell_type": "code",
   "execution_count": 19,
   "metadata": {
    "colab": {
     "base_uri": "https://localhost:8080/"
    },
    "executionInfo": {
     "elapsed": 10,
     "status": "ok",
     "timestamp": 1666061586836,
     "user": {
      "displayName": "Phuong Khuat Thuy",
      "userId": "16807426118474640783"
     },
     "user_tz": -420
    },
    "id": "pqjBIXn6iMfh",
    "outputId": "201c1b54-1300-45fd-ad17-02006676fb3c"
   },
   "outputs": [
    {
     "name": "stdout",
     "output_type": "stream",
     "text": [
      "0.21640000000000004 0.21640000000000004\n"
     ]
    }
   ],
   "source": [
    "# Print the results\n",
    "print(variance_explicit, variance_np)"
   ]
  },
  {
   "cell_type": "code",
   "execution_count": 20,
   "metadata": {
    "colab": {
     "base_uri": "https://localhost:8080/"
    },
    "executionInfo": {
     "elapsed": 9,
     "status": "ok",
     "timestamp": 1666061586836,
     "user": {
      "displayName": "Phuong Khuat Thuy",
      "userId": "16807426118474640783"
     },
     "user_tz": -420
    },
    "id": "cngTYkRyiMfh",
    "outputId": "08d5dcc3-77e5-4e17-ef68-6977b5058305"
   },
   "outputs": [
    {
     "name": "stdout",
     "output_type": "stream",
     "text": [
      "0.4651881339845203\n"
     ]
    }
   ],
   "source": [
    "# Compute the variance: variance\n",
    "variance = np.var(pental_lenghth_Iris_versicolor)\n",
    "# Print the square root of the variance\n",
    "print(np.sqrt(variance))"
   ]
  },
  {
   "cell_type": "code",
   "execution_count": 21,
   "metadata": {
    "colab": {
     "base_uri": "https://localhost:8080/"
    },
    "executionInfo": {
     "elapsed": 9,
     "status": "ok",
     "timestamp": 1666061586837,
     "user": {
      "displayName": "Phuong Khuat Thuy",
      "userId": "16807426118474640783"
     },
     "user_tz": -420
    },
    "id": "6JFRqyFriMfh",
    "outputId": "cccdf4f9-cc5b-47ed-bfaa-4d8f4b36d6a8"
   },
   "outputs": [
    {
     "name": "stdout",
     "output_type": "stream",
     "text": [
      "0.4651881339845203\n"
     ]
    }
   ],
   "source": [
    "# Print the standard deviation\n",
    "print(np.std(pental_lenghth_Iris_versicolor))"
   ]
  },
  {
   "cell_type": "code",
   "execution_count": 22,
   "metadata": {
    "executionInfo": {
     "elapsed": 640,
     "status": "ok",
     "timestamp": 1666061587469,
     "user": {
      "displayName": "Phuong Khuat Thuy",
      "userId": "16807426118474640783"
     },
     "user_tz": -420
    },
    "id": "UL_cY9WxiMfh"
   },
   "outputs": [],
   "source": [
    "pental_width_Iris_versicolor = data[data.iris == \"Iris-versicolor\"]['petalwidth']"
   ]
  },
  {
   "cell_type": "code",
   "execution_count": 23,
   "metadata": {
    "colab": {
     "base_uri": "https://localhost:8080/",
     "height": 388
    },
    "executionInfo": {
     "elapsed": 12,
     "status": "ok",
     "timestamp": 1666061587470,
     "user": {
      "displayName": "Phuong Khuat Thuy",
      "userId": "16807426118474640783"
     },
     "user_tz": -420
    },
    "id": "ED5WWi6oiMfi",
    "outputId": "7c6374e4-8def-43ce-992c-9d7b677339df"
   },
   "outputs": [
    {
     "data": {
      "image/png": "[encoded data removed]",
      "text/plain": [
       "<Figure size 576x432 with 1 Axes>"
      ]
     },
     "metadata": {
      "needs_background": "light"
     },
     "output_type": "display_data"
    }
   ],
   "source": [
    "# Make a scatter plot\n",
    "plt.figure(figsize=(8, 6))\n",
    "plt.plot(pental_lenghth_Iris_versicolor, pental_width_Iris_versicolor,\n",
    "             marker='.', linestyle='none')\n",
    "# Label the axes\n",
    "plt.xlabel('petal length (cm)')\n",
    "plt.ylabel('petal width (cm)')\n",
    "\n",
    "# Show the result\n",
    "plt.show()"
   ]
  },
  {
   "cell_type": "code",
   "execution_count": 24,
   "metadata": {
    "executionInfo": {
     "elapsed": 12,
     "status": "ok",
     "timestamp": 1666061587471,
     "user": {
      "displayName": "Phuong Khuat Thuy",
      "userId": "16807426118474640783"
     },
     "user_tz": -420
    },
    "id": "EVtCUNJziMfi"
   },
   "outputs": [],
   "source": [
    "# covariance matrix"
   ]
  },
  {
   "cell_type": "code",
   "execution_count": 25,
   "metadata": {
    "colab": {
     "base_uri": "https://localhost:8080/"
    },
    "executionInfo": {
     "elapsed": 12,
     "status": "ok",
     "timestamp": 1666061587471,
     "user": {
      "displayName": "Phuong Khuat Thuy",
      "userId": "16807426118474640783"
     },
     "user_tz": -420
    },
    "id": "gqWnGfAxiMfi",
    "outputId": "640926a7-f287-441f-dfe6-9ba00dc9faa6"
   },
   "outputs": [
    {
     "name": "stdout",
     "output_type": "stream",
     "text": [
      "[[0.22081633 0.07310204]\n",
      " [0.07310204 0.03910612]]\n"
     ]
    }
   ],
   "source": [
    "# Compute the covariance matrix: covariance_matrix\n",
    "covariance_matrix = np.cov(pental_lenghth_Iris_versicolor, pental_width_Iris_versicolor)\n",
    "# Print covariance matrix\n",
    "print(covariance_matrix)"
   ]
  },
  {
   "cell_type": "code",
   "execution_count": 26,
   "metadata": {
    "colab": {
     "base_uri": "https://localhost:8080/"
    },
    "executionInfo": {
     "elapsed": 10,
     "status": "ok",
     "timestamp": 1666061587471,
     "user": {
      "displayName": "Phuong Khuat Thuy",
      "userId": "16807426118474640783"
     },
     "user_tz": -420
    },
    "id": "NGX-g6Y6iMfi",
    "outputId": "280f0f9b-7b5f-44d5-83c6-23080744a0f2"
   },
   "outputs": [
    {
     "name": "stdout",
     "output_type": "stream",
     "text": [
      "0.07310204081632653\n"
     ]
    }
   ],
   "source": [
    "# Extract covariance of length and width of petals: petal_cov\n",
    "petal_cov = covariance_matrix[0,1]\n",
    "# Print the length/width covariance\n",
    "print(petal_cov)"
   ]
  },
  {
   "cell_type": "code",
   "execution_count": 27,
   "metadata": {
    "colab": {
     "base_uri": "https://localhost:8080/"
    },
    "executionInfo": {
     "elapsed": 10,
     "status": "ok",
     "timestamp": 1666061587472,
     "user": {
      "displayName": "Phuong Khuat Thuy",
      "userId": "16807426118474640783"
     },
     "user_tz": -420
    },
    "id": "nRI_R1tHiMfi",
    "outputId": "78c4cbd8-f872-413a-cb36-6c509e7c9f8e"
   },
   "outputs": [
    {
     "data": {
      "text/plain": [
       "array([[1.        , 0.78666809],\n",
       "       [0.78666809, 1.        ]])"
      ]
     },
     "execution_count": 27,
     "metadata": {},
     "output_type": "execute_result"
    }
   ],
   "source": [
    "# Compute correlation matrix: corr_mat\n",
    "corr_matrix = np.corrcoef(pental_lenghth_Iris_versicolor, pental_width_Iris_versicolor)\n",
    "corr_matrix"
   ]
  },
  {
   "cell_type": "code",
   "execution_count": 28,
   "metadata": {
    "colab": {
     "base_uri": "https://localhost:8080/"
    },
    "executionInfo": {
     "elapsed": 9,
     "status": "ok",
     "timestamp": 1666061587472,
     "user": {
      "displayName": "Phuong Khuat Thuy",
      "userId": "16807426118474640783"
     },
     "user_tz": -420
    },
    "id": "yoxh-XDIiMfj",
    "outputId": "9dc8058a-142e-4749-fafa-9daa51d3b8a8"
   },
   "outputs": [
    {
     "name": "stdout",
     "output_type": "stream",
     "text": [
      "0.7866680885228169\n"
     ]
    }
   ],
   "source": [
    "# Extract correlation of length and width of petals: petal_corr\n",
    "petal_corr = corr_matrix[0,1]\n",
    "# Print the length/width correlation\n",
    "print(petal_corr)"
   ]
  },
  {
   "cell_type": "code",
   "execution_count": 29,
   "metadata": {
    "executionInfo": {
     "elapsed": 8,
     "status": "ok",
     "timestamp": 1666061587472,
     "user": {
      "displayName": "Phuong Khuat Thuy",
      "userId": "16807426118474640783"
     },
     "user_tz": -420
    },
    "id": "ID0IdAAmiMfj"
   },
   "outputs": [],
   "source": [
    "# box plot"
   ]
  },
  {
   "cell_type": "code",
   "execution_count": 30,
   "metadata": {
    "executionInfo": {
     "elapsed": 9,
     "status": "ok",
     "timestamp": 1666061587473,
     "user": {
      "displayName": "Phuong Khuat Thuy",
      "userId": "16807426118474640783"
     },
     "user_tz": -420
    },
    "id": "4q0Bhul0iMfj"
   },
   "outputs": [],
   "source": [
    "import seaborn as sns"
   ]
  },
  {
   "cell_type": "code",
   "execution_count": 31,
   "metadata": {
    "colab": {
     "base_uri": "https://localhost:8080/",
     "height": 388
    },
    "executionInfo": {
     "elapsed": 433,
     "status": "ok",
     "timestamp": 1666061587898,
     "user": {
      "displayName": "Phuong Khuat Thuy",
      "userId": "16807426118474640783"
     },
     "user_tz": -420
    },
    "id": "uM1Q8jgjiMfj",
    "outputId": "b0551154-aa4e-47eb-8c8e-4901426d064e"
   },
   "outputs": [
    {
     "data": {
      "image/png": "[encoded data removed]",
      "text/plain": [
       "<Figure size 576x432 with 1 Axes>"
      ]
     },
     "metadata": {
      "needs_background": "light"
     },
     "output_type": "display_data"
    }
   ],
   "source": [
    "# Create box plot with Seaborn's default settings\n",
    "plt.figure(figsize=(8,6))\n",
    "sns.boxplot(x='iris', y='petallength', data=data)\n",
    "\n",
    "# Label the axes\n",
    "plt.xlabel('species')\n",
    "plt.ylabel('petal length (cm)')\n",
    "\n",
    "# Show the plot\n",
    "plt.show()"
   ]
  },
  {
   "cell_type": "code",
   "execution_count": 32,
   "metadata": {
    "colab": {
     "base_uri": "https://localhost:8080/",
     "height": 374
    },
    "executionInfo": {
     "elapsed": 18,
     "status": "ok",
     "timestamp": 1666061587899,
     "user": {
      "displayName": "Phuong Khuat Thuy",
      "userId": "16807426118474640783"
     },
     "user_tz": -420
    },
    "id": "fXn01lFPiMfj",
    "outputId": "5b54a12c-a9ae-499f-e273-e96691c05c1c"
   },
   "outputs": [
    {
     "data": {
      "image/png": "[encoded data removed]",
      "text/plain": [
       "<Figure size 576x432 with 1 Axes>"
      ]
     },
     "metadata": {
      "needs_background": "light"
     },
     "output_type": "display_data"
    }
   ],
   "source": [
    "# Create box plot with Seaborn's default settings\n",
    "plt.figure(figsize=(8,6))\n",
    "plt.boxplot(data.petallength)\n",
    "# Label the axes\n",
    "plt.ylabel('petal length (cm)')\n",
    "# Show the plot\n",
    "plt.show()"
   ]
  },
  {
   "cell_type": "code",
   "execution_count": 33,
   "metadata": {
    "executionInfo": {
     "elapsed": 20,
     "status": "ok",
     "timestamp": 1666061587901,
     "user": {
      "displayName": "Phuong Khuat Thuy",
      "userId": "16807426118474640783"
     },
     "user_tz": -420
    },
    "id": "L8E8KZ3ViMfj"
   },
   "outputs": [],
   "source": [
    "# Nhận xét: Iris-virginica không có outliers\n",
    "# Iris-setosa và Iris-versicolor có outlier"
   ]
  },
  {
   "cell_type": "code",
   "execution_count": 34,
   "metadata": {
    "colab": {
     "base_uri": "https://localhost:8080/"
    },
    "executionInfo": {
     "elapsed": 19,
     "status": "ok",
     "timestamp": 1666061587901,
     "user": {
      "displayName": "Phuong Khuat Thuy",
      "userId": "16807426118474640783"
     },
     "user_tz": -420
    },
    "id": "LE4Mw341iMfk",
    "outputId": "7f966d20-db09-4b1b-b721-d22cf7b7d248"
   },
   "outputs": [
    {
     "data": {
      "text/plain": [
       "0    1.4\n",
       "1    1.4\n",
       "2    1.3\n",
       "3    1.5\n",
       "4    1.4\n",
       "Name: petallength, dtype: float64"
      ]
     },
     "execution_count": 34,
     "metadata": {},
     "output_type": "execute_result"
    }
   ],
   "source": [
    "# Ouliers of Iris-setosa\n",
    "pental_lenght_Iris_setosa = data[data.iris == \"Iris-setosa\"]['petallength']\n",
    "pental_lenght_Iris_setosa[0:5]"
   ]
  },
  {
   "cell_type": "code",
   "execution_count": 35,
   "metadata": {
    "colab": {
     "base_uri": "https://localhost:8080/"
    },
    "executionInfo": {
     "elapsed": 17,
     "status": "ok",
     "timestamp": 1666061587901,
     "user": {
      "displayName": "Phuong Khuat Thuy",
      "userId": "16807426118474640783"
     },
     "user_tz": -420
    },
    "id": "Fob5YD9eiMfk",
    "outputId": "f087180d-751a-4bca-e4ee-7d6e4010614b"
   },
   "outputs": [
    {
     "data": {
      "text/plain": [
       "0    -0.372597\n",
       "1    -0.372597\n",
       "2    -0.954780\n",
       "3     0.209586\n",
       "4    -0.372597\n",
       "5     1.373952\n",
       "6    -0.372597\n",
       "7     0.209586\n",
       "8    -0.372597\n",
       "9     0.209586\n",
       "10    0.209586\n",
       "11    0.791769\n",
       "12   -0.372597\n",
       "13   -2.119146\n",
       "14   -1.536963\n",
       "15    0.209586\n",
       "16   -0.954780\n",
       "17   -0.372597\n",
       "18    1.373952\n",
       "19    0.209586\n",
       "20    1.373952\n",
       "21    0.209586\n",
       "22   -2.701329\n",
       "23    1.373952\n",
       "24    2.538318\n",
       "25    0.791769\n",
       "26    0.791769\n",
       "27    0.209586\n",
       "28   -0.372597\n",
       "29    0.791769\n",
       "30    0.791769\n",
       "31    0.209586\n",
       "32    0.209586\n",
       "33   -0.372597\n",
       "34    0.209586\n",
       "35   -1.536963\n",
       "36   -0.954780\n",
       "37    0.209586\n",
       "38   -0.954780\n",
       "39    0.209586\n",
       "40   -0.954780\n",
       "41   -0.954780\n",
       "42   -0.954780\n",
       "43    0.791769\n",
       "44    2.538318\n",
       "45   -0.372597\n",
       "46    0.791769\n",
       "47   -0.372597\n",
       "48    0.209586\n",
       "49   -0.372597\n",
       "Name: petallength, dtype: float64"
      ]
     },
     "execution_count": 35,
     "metadata": {},
     "output_type": "execute_result"
    }
   ],
   "source": [
    "number_z_score_setosa = stats.zscore(pental_lenght_Iris_setosa)\n",
    "number_z_score_setosa"
   ]
  },
  {
   "cell_type": "code",
   "execution_count": 36,
   "metadata": {
    "colab": {
     "base_uri": "https://localhost:8080/"
    },
    "executionInfo": {
     "elapsed": 17,
     "status": "ok",
     "timestamp": 1666061587902,
     "user": {
      "displayName": "Phuong Khuat Thuy",
      "userId": "16807426118474640783"
     },
     "user_tz": -420
    },
    "id": "1u-YqN5wiMfk",
    "outputId": "c65e605e-3f51-4318-eded-693fb875fb66"
   },
   "outputs": [
    {
     "data": {
      "text/plain": [
       "Int64Index([ 0,  1,  2,  3,  4,  5,  6,  7,  8,  9, 10, 11, 12, 13, 14, 15, 16,\n",
       "            17, 18, 19, 20, 21, 22, 23, 24, 25, 26, 27, 28, 29, 30, 31, 32, 33,\n",
       "            34, 35, 36, 37, 38, 39, 40, 41, 42, 43, 44, 45, 46, 47, 48, 49],\n",
       "           dtype='int64')"
      ]
     },
     "execution_count": 36,
     "metadata": {},
     "output_type": "execute_result"
    }
   ],
   "source": [
    "pental_lenght_Iris_setosa.index"
   ]
  },
  {
   "cell_type": "code",
   "execution_count": 37,
   "metadata": {
    "colab": {
     "base_uri": "https://localhost:8080/"
    },
    "executionInfo": {
     "elapsed": 15,
     "status": "ok",
     "timestamp": 1666061587902,
     "user": {
      "displayName": "Phuong Khuat Thuy",
      "userId": "16807426118474640783"
     },
     "user_tz": -420
    },
    "id": "_0G3TnB2iMfk",
    "outputId": "d0c41066-f198-4e7d-86c1-f814727615b5"
   },
   "outputs": [
    {
     "name": "stdout",
     "output_type": "stream",
     "text": [
      "Indexes: [22, 24, 24]\n",
      "Outliers:\n",
      " 22    1.0\n",
      "24    1.9\n",
      "24    1.9\n",
      "Name: petallength, dtype: float64\n"
     ]
    }
   ],
   "source": [
    "# vì index của nhóm này là từ 0 nên không cần tính lại index\n",
    "# Ngưỡng 2.5\n",
    "outliers_setosa = number_z_score_setosa[[(n <=-2.5)|(n>=2.5) for n in number_z_score_setosa]]\n",
    "indexes_setosa = [number_z_score_setosa.tolist().index(i) for i in outliers_setosa]\n",
    "print(\"Indexes:\", indexes_setosa)\n",
    "print(\"Outliers:\\n\", pental_lenght_Iris_setosa[indexes_setosa])"
   ]
  },
  {
   "cell_type": "code",
   "execution_count": 38,
   "metadata": {
    "colab": {
     "base_uri": "https://localhost:8080/"
    },
    "executionInfo": {
     "elapsed": 13,
     "status": "ok",
     "timestamp": 1666061587902,
     "user": {
      "displayName": "Phuong Khuat Thuy",
      "userId": "16807426118474640783"
     },
     "user_tz": -420
    },
    "id": "cb9D6D-FlKRL",
    "outputId": "3ca2a33b-1d47-4fd8-a788-fa1f896cdefe"
   },
   "outputs": [
    {
     "name": "stdout",
     "output_type": "stream",
     "text": [
      "Indexes: []\n",
      "Outliers:\n",
      " Series([], Name: petallength, dtype: float64)\n"
     ]
    }
   ],
   "source": [
    "# Ngưỡng 3.0\n",
    "outliers_setosa = number_z_score_setosa[[(n <=-3.0)|(n>=3.0) for n in number_z_score_setosa]]\n",
    "indexes_setosa = [number_z_score_setosa.tolist().index(i) for i in outliers_setosa]\n",
    "print(\"Indexes:\", indexes_setosa)\n",
    "print(\"Outliers:\\n\", pental_lenght_Iris_setosa[indexes_setosa])"
   ]
  },
  {
   "cell_type": "code",
   "execution_count": 39,
   "metadata": {
    "colab": {
     "base_uri": "https://localhost:8080/"
    },
    "executionInfo": {
     "elapsed": 13,
     "status": "ok",
     "timestamp": 1666061587903,
     "user": {
      "displayName": "Phuong Khuat Thuy",
      "userId": "16807426118474640783"
     },
     "user_tz": -420
    },
    "id": "zxVWJXC6iMfk",
    "outputId": "dcfd4b47-f4f6-4776-b17f-389b255fed7c"
   },
   "outputs": [
    {
     "data": {
      "text/plain": [
       "50    0.945854\n",
       "51    0.515920\n",
       "52    1.375787\n",
       "53   -0.558914\n",
       "54    0.730887\n",
       "55    0.515920\n",
       "56    0.945854\n",
       "57   -2.063681\n",
       "58    0.730887\n",
       "59   -0.773880\n",
       "60   -1.633748\n",
       "61   -0.128980\n",
       "62   -0.558914\n",
       "63    0.945854\n",
       "64   -1.418781\n",
       "65    0.300954\n",
       "66    0.515920\n",
       "67   -0.343947\n",
       "68    0.515920\n",
       "69   -0.773880\n",
       "70    1.160821\n",
       "71   -0.558914\n",
       "72    1.375787\n",
       "73    0.945854\n",
       "74    0.085987\n",
       "75    0.300954\n",
       "76    1.160821\n",
       "77    1.590754\n",
       "78    0.515920\n",
       "79   -1.633748\n",
       "80   -0.988847\n",
       "81   -1.203814\n",
       "82   -0.773880\n",
       "83    1.805721\n",
       "84    0.515920\n",
       "85    0.515920\n",
       "86    0.945854\n",
       "87    0.300954\n",
       "88   -0.343947\n",
       "89   -0.558914\n",
       "90    0.300954\n",
       "91    0.730887\n",
       "92   -0.558914\n",
       "93   -2.063681\n",
       "94   -0.128980\n",
       "95   -0.128980\n",
       "96   -0.128980\n",
       "97    0.085987\n",
       "98   -2.708582\n",
       "99   -0.343947\n",
       "Name: petallength, dtype: float64"
      ]
     },
     "execution_count": 39,
     "metadata": {},
     "output_type": "execute_result"
    }
   ],
   "source": [
    "# Ouliers of Iris-versicolor\n",
    "number_z_score_versicolor = stats.zscore(pental_lenghth_Iris_versicolor)\n",
    "number_z_score_versicolor"
   ]
  },
  {
   "cell_type": "code",
   "execution_count": 40,
   "metadata": {
    "colab": {
     "base_uri": "https://localhost:8080/"
    },
    "executionInfo": {
     "elapsed": 11,
     "status": "ok",
     "timestamp": 1666061587903,
     "user": {
      "displayName": "Phuong Khuat Thuy",
      "userId": "16807426118474640783"
     },
     "user_tz": -420
    },
    "id": "Ultg_bf6iMfk",
    "outputId": "e4452c59-6572-4a6e-bac6-67d3fdd36b92"
   },
   "outputs": [
    {
     "data": {
      "text/plain": [
       "Int64Index([50, 51, 52, 53, 54, 55, 56, 57, 58, 59, 60, 61, 62, 63, 64, 65, 66,\n",
       "            67, 68, 69, 70, 71, 72, 73, 74, 75, 76, 77, 78, 79, 80, 81, 82, 83,\n",
       "            84, 85, 86, 87, 88, 89, 90, 91, 92, 93, 94, 95, 96, 97, 98, 99],\n",
       "           dtype='int64')"
      ]
     },
     "execution_count": 40,
     "metadata": {},
     "output_type": "execute_result"
    }
   ],
   "source": [
    "pental_lenghth_Iris_versicolor.index"
   ]
  },
  {
   "cell_type": "code",
   "execution_count": 41,
   "metadata": {
    "colab": {
     "base_uri": "https://localhost:8080/"
    },
    "executionInfo": {
     "elapsed": 363,
     "status": "ok",
     "timestamp": 1666061588256,
     "user": {
      "displayName": "Phuong Khuat Thuy",
      "userId": "16807426118474640783"
     },
     "user_tz": -420
    },
    "id": "4DYa2z-niMfl",
    "outputId": "84ba7ab6-bfa7-4046-9a0a-a67f6c0fddeb"
   },
   "outputs": [
    {
     "name": "stdout",
     "output_type": "stream",
     "text": [
      "Indexes: [98]\n",
      "Outliers:\n",
      " 98    3.0\n",
      "Name: petallength, dtype: float64\n"
     ]
    }
   ],
   "source": [
    "# vì index của nhóm này là từ 50 nên +50 để biết index chính xác\n",
    "# Ngưỡng 2.5\n",
    "outliers_versicolor = number_z_score_versicolor[[(n <=-2.5)|(n>=2.5) for n in number_z_score_versicolor]]\n",
    "indexes_versicolor = [number_z_score_versicolor.tolist().index(i) for i in outliers_versicolor]\n",
    "indexes_versicolor = [ value + 50 for value in indexes_versicolor]\n",
    "print(\"Indexes:\", indexes_versicolor)\n",
    "print(\"Outliers:\\n\", pental_lenghth_Iris_versicolor[indexes_versicolor])"
   ]
  },
  {
   "cell_type": "code",
   "execution_count": 42,
   "metadata": {
    "colab": {
     "base_uri": "https://localhost:8080/"
    },
    "executionInfo": {
     "elapsed": 9,
     "status": "ok",
     "timestamp": 1666061588257,
     "user": {
      "displayName": "Phuong Khuat Thuy",
      "userId": "16807426118474640783"
     },
     "user_tz": -420
    },
    "id": "YrONPHx9k95k",
    "outputId": "ce869313-101b-42dd-bae6-126e476f3360"
   },
   "outputs": [
    {
     "name": "stdout",
     "output_type": "stream",
     "text": [
      "Indexes: []\n",
      "Outliers:\n",
      " Series([], Name: petallength, dtype: float64)\n"
     ]
    }
   ],
   "source": [
    "# Ngưỡng 3.0\n",
    "outliers_versicolor = number_z_score_versicolor[[(n <=-3)|(n>=3) for n in number_z_score_versicolor]]\n",
    "indexes_versicolor = [number_z_score_versicolor.tolist().index(i) for i in outliers_versicolor]\n",
    "indexes_versicolor = [ value + 50 for value in indexes_versicolor]\n",
    "print(\"Indexes:\", indexes_versicolor)\n",
    "print(\"Outliers:\\n\", pental_lenghth_Iris_versicolor[indexes_versicolor])"
   ]
  }
 ],
 "metadata": {
  "colab": {
   "provenance": []
  },
  "kernelspec": {
   "display_name": "Python 3",
   "language": "python",
   "name": "python3"
  },
  "language_info": {
   "codemirror_mode": {
    "name": "ipython",
    "version": 3
   },
   "file_extension": ".py",
   "mimetype": "text/x-python",
   "name": "python",
   "nbconvert_exporter": "python",
   "pygments_lexer": "ipython3",
   "version": "3.6.8"
  }
 },
 "nbformat": 4,
 "nbformat_minor": 1
}
