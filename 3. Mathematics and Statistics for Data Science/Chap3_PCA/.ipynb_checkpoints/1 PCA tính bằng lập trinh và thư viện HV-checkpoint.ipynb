{
 "cells": [
  {
   "cell_type": "code",
   "execution_count": 112,
   "id": "bearing-chemistry",
   "metadata": {},
   "outputs": [],
   "source": [
    "import numpy as np\n",
    "import pandas as pd\n",
    "\n",
    "from numpy.linalg import eig\n",
    "import matplotlib.pyplot as plt\n",
    "\n",
    "%config Completer.use_jedi = False"
   ]
  },
  {
   "cell_type": "code",
   "execution_count": 113,
   "id": "heated-flight",
   "metadata": {},
   "outputs": [
    {
     "data": {
      "text/plain": [
       "array([[1, 2, 3],\n",
       "       [4, 5, 6],\n",
       "       [7, 8, 9],\n",
       "       [2, 3, 1],\n",
       "       [6, 3, 4],\n",
       "       [5, 2, 7]])"
      ]
     },
     "execution_count": 113,
     "metadata": {},
     "output_type": "execute_result"
    }
   ],
   "source": [
    "A = np.array([[1,2,3],[4,5,6],[7,8,9],[2,3,1],[6,3,4],[5,2,7]])\n",
    "A"
   ]
  },
  {
   "cell_type": "markdown",
   "id": "facial-granny",
   "metadata": {},
   "source": [
    "## 1. Lập trình:\n",
    "- Sử dụng PCA với ma trận A có 6 dòng, 3 cột\n",
    "- chọn ra các thành phần chính (có các giá trị riêng lớn nhất) để tính ra ma trận B là kết quả phép chiếu của ma trận A"
   ]
  },
  {
   "cell_type": "code",
   "execution_count": 114,
   "id": "collective-display",
   "metadata": {},
   "outputs": [],
   "source": [
    "### Step 1 ###\n",
    "# tính mean vector\n",
    "\n",
    "\n",
    "# dời dữ liệu về gốc toạ độ\n"
   ]
  },
  {
   "cell_type": "code",
   "execution_count": 131,
   "id": "efed1e5e",
   "metadata": {},
   "outputs": [
    {
     "data": {
      "text/plain": [
       "array([4.16666667, 3.83333333, 5.        ])"
      ]
     },
     "execution_count": 131,
     "metadata": {},
     "output_type": "execute_result"
    }
   ],
   "source": [
    "M  =np.mean(A.T, axis=1)\n",
    "M"
   ]
  },
  {
   "cell_type": "code",
   "execution_count": 132,
   "id": "f5cd20a9",
   "metadata": {},
   "outputs": [
    {
     "data": {
      "text/plain": [
       "array([[-3.16666667, -1.83333333, -2.        ],\n",
       "       [-0.16666667,  1.16666667,  1.        ],\n",
       "       [ 2.83333333,  4.16666667,  4.        ],\n",
       "       [-2.16666667, -0.83333333, -4.        ],\n",
       "       [ 1.83333333, -0.83333333, -1.        ],\n",
       "       [ 0.83333333, -1.83333333,  2.        ]])"
      ]
     },
     "execution_count": 132,
     "metadata": {},
     "output_type": "execute_result"
    }
   ],
   "source": [
    "C = A - M\n",
    "C"
   ]
  },
  {
   "cell_type": "code",
   "execution_count": 117,
   "id": "indonesian-shift",
   "metadata": {},
   "outputs": [],
   "source": [
    "### Step 2 ###\n",
    "# tính covariance matrix\n",
    "\n",
    "\n",
    "# phân rã eigen\n"
   ]
  },
  {
   "cell_type": "code",
   "execution_count": 118,
   "id": "e640f349",
   "metadata": {},
   "outputs": [
    {
     "data": {
      "text/plain": [
       "array([[5.36666667, 3.23333333, 5.2       ],\n",
       "       [3.23333333, 5.36666667, 4.4       ],\n",
       "       [5.2       , 4.4       , 8.4       ]])"
      ]
     },
     "execution_count": 118,
     "metadata": {},
     "output_type": "execute_result"
    }
   ],
   "source": [
    "V= np.cov(C.T)\n",
    "V"
   ]
  },
  {
   "cell_type": "code",
   "execution_count": 119,
   "id": "ec2ce797",
   "metadata": {},
   "outputs": [],
   "source": [
    "value, vector = eig(V)"
   ]
  },
  {
   "cell_type": "code",
   "execution_count": 120,
   "id": "50a962af",
   "metadata": {},
   "outputs": [
    {
     "data": {
      "text/plain": [
       "array([15.30094455,  1.46419594,  2.36819285])"
      ]
     },
     "execution_count": 120,
     "metadata": {},
     "output_type": "execute_result"
    }
   ],
   "source": [
    "\n",
    "value"
   ]
  },
  {
   "cell_type": "code",
   "execution_count": 121,
   "id": "3c922e6f",
   "metadata": {},
   "outputs": [
    {
     "data": {
      "text/plain": [
       "array([[ 0.52432669,  0.78493874,  0.33007983],\n",
       "       [ 0.48166461,  0.04626392, -0.87513362],\n",
       "       [ 0.70219707, -0.61784368,  0.35381981]])"
      ]
     },
     "execution_count": 121,
     "metadata": {},
     "output_type": "execute_result"
    }
   ],
   "source": [
    "vector"
   ]
  },
  {
   "cell_type": "code",
   "execution_count": 122,
   "id": "gothic-finder",
   "metadata": {},
   "outputs": [],
   "source": [
    "# sắp xếp lại các eigenvalues và eigenvectors\n",
    "# eigenvalues giảm dần\n",
    "# eigenvectors phải tương ứng\n",
    "\n"
   ]
  },
  {
   "cell_type": "code",
   "execution_count": 123,
   "id": "c5ee7ce1",
   "metadata": {},
   "outputs": [
    {
     "data": {
      "text/plain": [
       "array([15.30094455,  2.36819285,  1.46419594])"
      ]
     },
     "execution_count": 123,
     "metadata": {},
     "output_type": "execute_result"
    }
   ],
   "source": [
    "value.sort()\n",
    "value = np.flip(value)\n",
    "value"
   ]
  },
  {
   "cell_type": "code",
   "execution_count": 124,
   "id": "1c2adb20",
   "metadata": {},
   "outputs": [
    {
     "data": {
      "text/plain": [
       "array([0.79970093, 0.92347408, 1.        ])"
      ]
     },
     "execution_count": 124,
     "metadata": {},
     "output_type": "execute_result"
    }
   ],
   "source": [
    "np.cumsum(value)/sum(value)"
   ]
  },
  {
   "cell_type": "code",
   "execution_count": 125,
   "id": "a73521a4",
   "metadata": {},
   "outputs": [
    {
     "data": {
      "text/plain": [
       "array([[ 0.52432669,  0.33007983,  0.78493874],\n",
       "       [ 0.48166461, -0.87513362,  0.04626392],\n",
       "       [ 0.70219707,  0.35381981, -0.61784368]])"
      ]
     },
     "execution_count": 125,
     "metadata": {},
     "output_type": "execute_result"
    }
   ],
   "source": [
    "vector[:, [2, 1]] = vector[:, [1, 2]]\n",
    "\n",
    "vector"
   ]
  },
  {
   "cell_type": "code",
   "execution_count": 126,
   "id": "labeled-stomach",
   "metadata": {},
   "outputs": [],
   "source": [
    "### Step 3 ###\n",
    "# chọn k thành phần chính có giá trị riêng lớn nhất, dựa vào TỶ LỆ PHƯƠNG SAI TÍCH LUỸ và SCREE PLOT\n",
    "\n"
   ]
  },
  {
   "cell_type": "code",
   "execution_count": 127,
   "id": "6a1350a5",
   "metadata": {},
   "outputs": [
    {
     "data": {
      "image/png": "[encoded data removed]",
      "text/plain": [
       "<Figure size 640x480 with 1 Axes>"
      ]
     },
     "metadata": {},
     "output_type": "display_data"
    }
   ],
   "source": [
    "plt.plot(range(1,4),value)\n",
    "plt.title('Scree plot')\n",
    "plt.show()"
   ]
  },
  {
   "cell_type": "code",
   "execution_count": 128,
   "id": "c2af879d",
   "metadata": {},
   "outputs": [],
   "source": [
    "#step 4\n",
    "k =2\n"
   ]
  },
  {
   "cell_type": "code",
   "execution_count": 129,
   "id": "honey-miller",
   "metadata": {},
   "outputs": [],
   "source": [
    "### Step 4 ###\n",
    "# tính các thành phần chính\n"
   ]
  },
  {
   "cell_type": "code",
   "execution_count": 130,
   "id": "c184f426",
   "metadata": {},
   "outputs": [
    {
     "data": {
      "text/plain": [
       "array([[-3.94781377, -0.14848076],\n",
       "       [ 1.17675134, -0.72218272],\n",
       "       [ 6.30131644, -1.29588469],\n",
       "       [-4.34621662, -1.40117416],\n",
       "       [-0.14231865,  0.98060456],\n",
       "       [ 0.95828127,  2.58711777]])"
      ]
     },
     "execution_count": 130,
     "metadata": {},
     "output_type": "execute_result"
    }
   ],
   "source": [
    "B = vector[:,:k]\n",
    "PC= C.dot(B)\n",
    "PC"
   ]
  },
  {
   "cell_type": "markdown",
   "id": "coordinated-report",
   "metadata": {},
   "source": [
    "## 2. Thư viện sklearn\n",
    "- Sử dụng PCA của sklearn với ma trận A có 6 dòng, 3 cột\n",
    "- chọn ra 2 thành phần chính (có các giá trị riêng lớn nhất) để tính ra ma trận C là kết quả phép chiếu của ma trận A\n",
    "- So sánh kết quả B (lập trình) với kết quả C (thư viện)\n",
    "- Cho biết tỷ lệ nén trên mỗi thành phần chính và tổng tỷ lệ nén\n",
    "- In ra các vector của các thành phần chính\n",
    "- In ra các giá trị riêng"
   ]
  },
  {
   "cell_type": "code",
   "execution_count": 134,
   "id": "broad-conjunction",
   "metadata": {},
   "outputs": [],
   "source": [
    "from sklearn.decomposition import PCA"
   ]
  },
  {
   "cell_type": "code",
   "execution_count": 135,
   "id": "45180eee",
   "metadata": {},
   "outputs": [],
   "source": [
    "# khởi tạo PCA\n",
    "\n",
    "\n",
    "# fit dữ liệu\n",
    "\n",
    "\n",
    "# transform dữ liệu\n"
   ]
  },
  {
   "cell_type": "code",
   "execution_count": 136,
   "id": "f4a54be7",
   "metadata": {},
   "outputs": [
    {
     "data": {
      "text/html": [
       "<style>#sk-container-id-1 {color: black;background-color: white;}#sk-container-id-1 pre{padding: 0;}#sk-container-id-1 div.sk-toggleable {background-color: white;}#sk-container-id-1 label.sk-toggleable__label {cursor: pointer;display: block;width: 100%;margin-bottom: 0;padding: 0.3em;box-sizing: border-box;text-align: center;}#sk-container-id-1 label.sk-toggleable__label-arrow:before {content: \"▸\";float: left;margin-right: 0.25em;color: #696969;}#sk-container-id-1 label.sk-toggleable__label-arrow:hover:before {color: black;}#sk-container-id-1 div.sk-estimator:hover label.sk-toggleable__label-arrow:before {color: black;}#sk-container-id-1 div.sk-toggleable__content {max-height: 0;max-width: 0;overflow: hidden;text-align: left;background-color: #f0f8ff;}#sk-container-id-1 div.sk-toggleable__content pre {margin: 0.2em;color: black;border-radius: 0.25em;background-color: #f0f8ff;}#sk-container-id-1 input.sk-toggleable__control:checked~div.sk-toggleable__content {max-height: 200px;max-width: 100%;overflow: auto;}#sk-container-id-1 input.sk-toggleable__control:checked~label.sk-toggleable__label-arrow:before {content: \"▾\";}#sk-container-id-1 div.sk-estimator input.sk-toggleable__control:checked~label.sk-toggleable__label {background-color: #d4ebff;}#sk-container-id-1 div.sk-label input.sk-toggleable__control:checked~label.sk-toggleable__label {background-color: #d4ebff;}#sk-container-id-1 input.sk-hidden--visually {border: 0;clip: rect(1px 1px 1px 1px);clip: rect(1px, 1px, 1px, 1px);height: 1px;margin: -1px;overflow: hidden;padding: 0;position: absolute;width: 1px;}#sk-container-id-1 div.sk-estimator {font-family: monospace;background-color: #f0f8ff;border: 1px dotted black;border-radius: 0.25em;box-sizing: border-box;margin-bottom: 0.5em;}#sk-container-id-1 div.sk-estimator:hover {background-color: #d4ebff;}#sk-container-id-1 div.sk-parallel-item::after {content: \"\";width: 100%;border-bottom: 1px solid gray;flex-grow: 1;}#sk-container-id-1 div.sk-label:hover label.sk-toggleable__label {background-color: #d4ebff;}#sk-container-id-1 div.sk-serial::before {content: \"\";position: absolute;border-left: 1px solid gray;box-sizing: border-box;top: 0;bottom: 0;left: 50%;z-index: 0;}#sk-container-id-1 div.sk-serial {display: flex;flex-direction: column;align-items: center;background-color: white;padding-right: 0.2em;padding-left: 0.2em;position: relative;}#sk-container-id-1 div.sk-item {position: relative;z-index: 1;}#sk-container-id-1 div.sk-parallel {display: flex;align-items: stretch;justify-content: center;background-color: white;position: relative;}#sk-container-id-1 div.sk-item::before, #sk-container-id-1 div.sk-parallel-item::before {content: \"\";position: absolute;border-left: 1px solid gray;box-sizing: border-box;top: 0;bottom: 0;left: 50%;z-index: -1;}#sk-container-id-1 div.sk-parallel-item {display: flex;flex-direction: column;z-index: 1;position: relative;background-color: white;}#sk-container-id-1 div.sk-parallel-item:first-child::after {align-self: flex-end;width: 50%;}#sk-container-id-1 div.sk-parallel-item:last-child::after {align-self: flex-start;width: 50%;}#sk-container-id-1 div.sk-parallel-item:only-child::after {width: 0;}#sk-container-id-1 div.sk-dashed-wrapped {border: 1px dashed gray;margin: 0 0.4em 0.5em 0.4em;box-sizing: border-box;padding-bottom: 0.4em;background-color: white;}#sk-container-id-1 div.sk-label label {font-family: monospace;font-weight: bold;display: inline-block;line-height: 1.2em;}#sk-container-id-1 div.sk-label-container {text-align: center;}#sk-container-id-1 div.sk-container {/* jupyter's `normalize.less` sets `[hidden] { display: none; }` but bootstrap.min.css set `[hidden] { display: none !important; }` so we also need the `!important` here to be able to override the default hidden behavior on the sphinx rendered scikit-learn.org. See: https://github.com/scikit-learn/scikit-learn/issues/21755 */display: inline-block !important;position: relative;}#sk-container-id-1 div.sk-text-repr-fallback {display: none;}</style><div id=\"sk-container-id-1\" class=\"sk-top-container\"><div class=\"sk-text-repr-fallback\"><pre>PCA(n_components=2)</pre><b>In a Jupyter environment, please rerun this cell to show the HTML representation or trust the notebook. <br />On GitHub, the HTML representation is unable to render, please try loading this page with nbviewer.org.</b></div><div class=\"sk-container\" hidden><div class=\"sk-item\"><div class=\"sk-estimator sk-toggleable\"><input class=\"sk-toggleable__control sk-hidden--visually\" id=\"sk-estimator-id-1\" type=\"checkbox\" checked><label for=\"sk-estimator-id-1\" class=\"sk-toggleable__label sk-toggleable__label-arrow\">PCA</label><div class=\"sk-toggleable__content\"><pre>PCA(n_components=2)</pre></div></div></div></div></div>"
      ],
      "text/plain": [
       "PCA(n_components=2)"
      ]
     },
     "execution_count": 136,
     "metadata": {},
     "output_type": "execute_result"
    }
   ],
   "source": [
    "pca =PCA(2)\n",
    "pca.fit(A)\n"
   ]
  },
  {
   "cell_type": "code",
   "execution_count": 137,
   "id": "36de27f9",
   "metadata": {},
   "outputs": [
    {
     "data": {
      "text/plain": [
       "array([[-3.94781377, -0.14848076],\n",
       "       [ 1.17675134, -0.72218272],\n",
       "       [ 6.30131644, -1.29588469],\n",
       "       [-4.34621662, -1.40117416],\n",
       "       [-0.14231865,  0.98060456],\n",
       "       [ 0.95828127,  2.58711777]])"
      ]
     },
     "execution_count": 137,
     "metadata": {},
     "output_type": "execute_result"
    }
   ],
   "source": [
    "B = pca.transform(A)\n",
    "B"
   ]
  },
  {
   "cell_type": "code",
   "execution_count": 17,
   "id": "ignored-bruce",
   "metadata": {},
   "outputs": [],
   "source": [
    "# các phương sai (chính là các trị riêng)\n"
   ]
  },
  {
   "cell_type": "code",
   "execution_count": 138,
   "id": "0f35626e",
   "metadata": {},
   "outputs": [
    {
     "data": {
      "text/plain": [
       "array([[ 0.52432669,  0.48166461,  0.70219707],\n",
       "       [ 0.33007983, -0.87513362,  0.35381981]])"
      ]
     },
     "execution_count": 138,
     "metadata": {},
     "output_type": "execute_result"
    }
   ],
   "source": [
    "pca.components_"
   ]
  },
  {
   "cell_type": "code",
   "execution_count": 18,
   "id": "certified-diagram",
   "metadata": {},
   "outputs": [],
   "source": [
    "# tỷ lệ phương sai giải thích\n"
   ]
  },
  {
   "cell_type": "code",
   "execution_count": 140,
   "id": "9ffd000b",
   "metadata": {},
   "outputs": [
    {
     "data": {
      "text/plain": [
       "array([15.30094455,  2.36819285])"
      ]
     },
     "execution_count": 140,
     "metadata": {},
     "output_type": "execute_result"
    }
   ],
   "source": [
    "pca.explained_variance_"
   ]
  },
  {
   "cell_type": "code",
   "execution_count": 141,
   "id": "8951676f",
   "metadata": {},
   "outputs": [
    {
     "data": {
      "text/plain": [
       "array([0.79970093, 0.12377315])"
      ]
     },
     "execution_count": 141,
     "metadata": {},
     "output_type": "execute_result"
    }
   ],
   "source": [
    "pca.explained_variance_ratio_"
   ]
  },
  {
   "cell_type": "code",
   "execution_count": 19,
   "id": "honest-rescue",
   "metadata": {},
   "outputs": [],
   "source": [
    "# các eigenvectors dùng để tính thành phần chính\n"
   ]
  },
  {
   "cell_type": "code",
   "execution_count": null,
   "id": "happy-particle",
   "metadata": {},
   "outputs": [],
   "source": []
  }
 ],
 "metadata": {
  "kernelspec": {
   "display_name": "Python 3 (ipykernel)",
   "language": "python",
   "name": "python3"
  },
  "language_info": {
   "codemirror_mode": {
    "name": "ipython",
    "version": 3
   },
   "file_extension": ".py",
   "mimetype": "text/x-python",
   "name": "python",
   "nbconvert_exporter": "python",
   "pygments_lexer": "ipython3",
   "version": "3.9.13"
  }
 },
 "nbformat": 4,
 "nbformat_minor": 5
}
