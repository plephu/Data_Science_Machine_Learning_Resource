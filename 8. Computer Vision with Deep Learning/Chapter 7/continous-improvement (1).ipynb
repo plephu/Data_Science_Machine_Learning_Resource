{
 "cells": [
  {
   "cell_type": "code",
   "execution_count": 1,
   "id": "fefa8a60",
   "metadata": {
    "execution": {
     "iopub.execute_input": "2023-10-03T14:38:24.316782Z",
     "iopub.status.busy": "2023-10-03T14:38:24.316439Z",
     "iopub.status.idle": "2023-10-03T14:38:28.274204Z",
     "shell.execute_reply": "2023-10-03T14:38:28.273179Z"
    },
    "papermill": {
     "duration": 3.971329,
     "end_time": "2023-10-03T14:38:28.277776",
     "exception": false,
     "start_time": "2023-10-03T14:38:24.306447",
     "status": "completed"
    },
    "tags": []
   },
   "outputs": [],
   "source": [
    "from torchvision import transforms"
   ]
  },
  {
   "cell_type": "code",
   "execution_count": 2,
   "id": "0a915a34",
   "metadata": {
    "execution": {
     "iopub.execute_input": "2023-10-03T14:38:28.308565Z",
     "iopub.status.busy": "2023-10-03T14:38:28.308139Z",
     "iopub.status.idle": "2023-10-03T14:38:29.326645Z",
     "shell.execute_reply": "2023-10-03T14:38:29.325329Z"
    },
    "papermill": {
     "duration": 1.034798,
     "end_time": "2023-10-03T14:38:29.328934",
     "exception": false,
     "start_time": "2023-10-03T14:38:28.294136",
     "status": "completed"
    },
    "tags": []
   },
   "outputs": [
    {
     "name": "stderr",
     "output_type": "stream",
     "text": [
      "/opt/conda/lib/python3.10/site-packages/scipy/__init__.py:146: UserWarning: A NumPy version >=1.16.5 and <1.23.0 is required for this version of SciPy (detected version 1.23.5\n",
      "  warnings.warn(f\"A NumPy version >={np_minversion} and <{np_maxversion}\"\n"
     ]
    }
   ],
   "source": [
    "from sklearn.model_selection import train_test_split"
   ]
  },
  {
   "cell_type": "code",
   "execution_count": 3,
   "id": "9c0449f6",
   "metadata": {
    "execution": {
     "iopub.execute_input": "2023-10-03T14:38:29.347257Z",
     "iopub.status.busy": "2023-10-03T14:38:29.346940Z",
     "iopub.status.idle": "2023-10-03T14:38:29.357198Z",
     "shell.execute_reply": "2023-10-03T14:38:29.356170Z"
    },
    "papermill": {
     "duration": 0.021917,
     "end_time": "2023-10-03T14:38:29.359065",
     "exception": false,
     "start_time": "2023-10-03T14:38:29.337148",
     "status": "completed"
    },
    "tags": []
   },
   "outputs": [],
   "source": [
    "from PIL import Image\n",
    "import os\n",
    "import torch\n",
    "from sklearn.model_selection import train_test_split\n",
    "\n",
    "    \n",
    "# define a data class\n",
    "class ClassificationDataset:\n",
    "    def __init__(self, data, data_path, transform, training=True):\n",
    "        \"\"\"Define the dataset for classification problems\n",
    "\n",
    "        Args:\n",
    "            data ([dataframe]): [a dataframe that contain 2 columns: image name and label]\n",
    "            data_path ([str]): [path/to/folder that contains image file]\n",
    "            transform : [augmentation methods and transformation of images]\n",
    "            training (bool, optional): []. Defaults to True.\n",
    "        \"\"\"\n",
    "        self.data = data\n",
    "        self.imgs = data[\"path\"].unique().tolist()\n",
    "        self.data_path = data_path\n",
    "        self.training = training\n",
    "        self.transform = transform\n",
    "\n",
    "    def __getitem__(self, idx):\n",
    "        img = Image.open(os.path.join(self.data_path, self.data.iloc[idx, 0]))\n",
    "        if(self.training):\n",
    "            label = self.data.iloc[idx, 1]\n",
    "        if self.transform is not None:\n",
    "            img = self.transform(img)\n",
    "        if(self.training):\n",
    "            return img, label\n",
    "        else:\n",
    "            return img\n",
    "\n",
    "    def __len__(self):\n",
    "        return len(self.imgs)\n",
    "\n",
    "\n",
    "def make_loader(dataset, train_batch_size, validation_split=0.2):\n",
    "    \"\"\"make dataloader for pytorch training\n",
    "\n",
    "    Args:\n",
    "        dataset ([object]): [the dataset object]\n",
    "        train_batch_size ([int]): [training batch size]\n",
    "        validation_split (float, optional): [validation ratio]. Defaults to 0.2.\n",
    "\n",
    "    Returns:\n",
    "        [type]: [description]\n",
    "    \"\"\"\n",
    "    # number of samples in train and test set\n",
    "    train_len = int(len(dataset) * (1 - validation_split))\n",
    "    test_len = len(dataset) - train_len\n",
    "    train_set, test_set = torch.utils.data.random_split(dataset, [train_len, test_len])\n",
    "    # create train_loader\n",
    "    print(len(train_set))\n",
    "    train_loader = torch.utils.data.DataLoader(\n",
    "        train_set, batch_size=train_batch_size, shuffle=True,\n",
    "    )\n",
    "    # create test_loader\n",
    "    test_loader = torch.utils.data.DataLoader(test_set, batch_size=1, shuffle=False,)\n",
    "    return train_loader, test_loader\n",
    "\n",
    "\n",
    "def data_split(data, test_size):\n",
    "    x_train, x_test, y_train, y_test = train_test_split(\n",
    "        data, data[\"label\"], test_size=test_size, stratify = data.iloc[:,1]\n",
    "    )\n",
    "    return x_train, x_test, y_train, y_test"
   ]
  },
  {
   "cell_type": "code",
   "execution_count": 4,
   "id": "19954efe",
   "metadata": {
    "execution": {
     "iopub.execute_input": "2023-10-03T14:38:29.376815Z",
     "iopub.status.busy": "2023-10-03T14:38:29.375949Z",
     "iopub.status.idle": "2023-10-03T14:38:30.206604Z",
     "shell.execute_reply": "2023-10-03T14:38:30.205650Z"
    },
    "papermill": {
     "duration": 0.841575,
     "end_time": "2023-10-03T14:38:30.208760",
     "exception": false,
     "start_time": "2023-10-03T14:38:29.367185",
     "status": "completed"
    },
    "tags": []
   },
   "outputs": [],
   "source": [
    "import pandas as pd\n",
    "train = pd.read_csv('/kaggle/input/world-championship-2023-embryo-classification/hvwc23/train.csv')\n",
    "data_train = pd.DataFrame()\n",
    "data_train['path'] = '/kaggle/input/world-championship-2023-embryo-classification/hvwc23/train/' + train['Image']\n",
    "data_train['label'] = train['Class']"
   ]
  },
  {
   "cell_type": "code",
   "execution_count": 5,
   "id": "1ffb8ec4",
   "metadata": {
    "execution": {
     "iopub.execute_input": "2023-10-03T14:38:30.226511Z",
     "iopub.status.busy": "2023-10-03T14:38:30.225858Z",
     "iopub.status.idle": "2023-10-03T14:38:30.238789Z",
     "shell.execute_reply": "2023-10-03T14:38:30.237453Z"
    },
    "papermill": {
     "duration": 0.023667,
     "end_time": "2023-10-03T14:38:30.240651",
     "exception": false,
     "start_time": "2023-10-03T14:38:30.216984",
     "status": "completed"
    },
    "tags": []
   },
   "outputs": [],
   "source": [
    "import pandas as pd\n",
    "test = pd.read_csv('/kaggle/input/world-championship-2023-embryo-classification/hvwc23/test.csv')\n",
    "data_test = pd.DataFrame()\n",
    "data_test['path'] = '/kaggle/input/world-championship-2023-embryo-classification/hvwc23/test/' + test['Image']\n"
   ]
  },
  {
   "cell_type": "code",
   "execution_count": null,
   "id": "ef4134d3",
   "metadata": {
    "papermill": {
     "duration": 0.008083,
     "end_time": "2023-10-03T14:38:30.256777",
     "exception": false,
     "start_time": "2023-10-03T14:38:30.248694",
     "status": "completed"
    },
    "tags": []
   },
   "outputs": [],
   "source": []
  },
  {
   "cell_type": "markdown",
   "id": "efe65f77",
   "metadata": {
    "papermill": {
     "duration": 0.007952,
     "end_time": "2023-10-03T14:38:30.272720",
     "exception": false,
     "start_time": "2023-10-03T14:38:30.264768",
     "status": "completed"
    },
    "tags": []
   },
   "source": [
    "# 1. Define DataLoader"
   ]
  },
  {
   "cell_type": "code",
   "execution_count": 6,
   "id": "b1f1e69b",
   "metadata": {
    "execution": {
     "iopub.execute_input": "2023-10-03T14:38:30.290269Z",
     "iopub.status.busy": "2023-10-03T14:38:30.289811Z",
     "iopub.status.idle": "2023-10-03T14:38:30.294736Z",
     "shell.execute_reply": "2023-10-03T14:38:30.293605Z"
    },
    "papermill": {
     "duration": 0.015961,
     "end_time": "2023-10-03T14:38:30.296646",
     "exception": false,
     "start_time": "2023-10-03T14:38:30.280685",
     "status": "completed"
    },
    "tags": []
   },
   "outputs": [],
   "source": [
    "mean = (0.5, 0.5, 0.5)\n",
    "std = (0.5, 0.5, 0.5)"
   ]
  },
  {
   "cell_type": "code",
   "execution_count": 7,
   "id": "e553fdea",
   "metadata": {
    "execution": {
     "iopub.execute_input": "2023-10-03T14:38:30.315422Z",
     "iopub.status.busy": "2023-10-03T14:38:30.314623Z",
     "iopub.status.idle": "2023-10-03T14:38:30.320959Z",
     "shell.execute_reply": "2023-10-03T14:38:30.320091Z"
    },
    "papermill": {
     "duration": 0.017628,
     "end_time": "2023-10-03T14:38:30.322839",
     "exception": false,
     "start_time": "2023-10-03T14:38:30.305211",
     "status": "completed"
    },
    "tags": []
   },
   "outputs": [],
   "source": [
    "import torchvision\n",
    "transform = torchvision.transforms.Compose([torchvision.transforms.Resize((224, 224)),\n",
    "                                            torchvision.transforms.RandomHorizontalFlip(p=0.5),  # Randomly flip images left-right\n",
    "                            torchvision.transforms.RandomVerticalFlip(p=0.5),\n",
    "                            torchvision.transforms.RandomRotation(degrees=15),\n",
    "                                               torchvision.transforms.ToTensor(),\n",
    "                                               torchvision.transforms.Normalize(mean, std)])"
   ]
  },
  {
   "cell_type": "code",
   "execution_count": 8,
   "id": "3b518bda",
   "metadata": {
    "execution": {
     "iopub.execute_input": "2023-10-03T14:38:30.340423Z",
     "iopub.status.busy": "2023-10-03T14:38:30.340023Z",
     "iopub.status.idle": "2023-10-03T14:38:30.344604Z",
     "shell.execute_reply": "2023-10-03T14:38:30.343588Z"
    },
    "papermill": {
     "duration": 0.015202,
     "end_time": "2023-10-03T14:38:30.346426",
     "exception": false,
     "start_time": "2023-10-03T14:38:30.331224",
     "status": "completed"
    },
    "tags": []
   },
   "outputs": [],
   "source": [
    "test_transform = torchvision.transforms.Compose([torchvision.transforms.Resize((224, 224)),\n",
    "                                               torchvision.transforms.ToTensor(),\n",
    "                                               torchvision.transforms.Normalize(mean, std)])"
   ]
  },
  {
   "cell_type": "code",
   "execution_count": 9,
   "id": "b235130a",
   "metadata": {
    "execution": {
     "iopub.execute_input": "2023-10-03T14:38:30.363954Z",
     "iopub.status.busy": "2023-10-03T14:38:30.362842Z",
     "iopub.status.idle": "2023-10-03T14:38:30.367635Z",
     "shell.execute_reply": "2023-10-03T14:38:30.366757Z"
    },
    "papermill": {
     "duration": 0.015062,
     "end_time": "2023-10-03T14:38:30.369362",
     "exception": false,
     "start_time": "2023-10-03T14:38:30.354300",
     "status": "completed"
    },
    "tags": []
   },
   "outputs": [],
   "source": [
    "bs = 16 # batch size"
   ]
  },
  {
   "cell_type": "code",
   "execution_count": 10,
   "id": "8f0c1955",
   "metadata": {
    "execution": {
     "iopub.execute_input": "2023-10-03T14:38:30.386337Z",
     "iopub.status.busy": "2023-10-03T14:38:30.386054Z",
     "iopub.status.idle": "2023-10-03T14:38:30.414594Z",
     "shell.execute_reply": "2023-10-03T14:38:30.413279Z"
    },
    "papermill": {
     "duration": 0.039257,
     "end_time": "2023-10-03T14:38:30.416488",
     "exception": false,
     "start_time": "2023-10-03T14:38:30.377231",
     "status": "completed"
    },
    "tags": []
   },
   "outputs": [
    {
     "name": "stdout",
     "output_type": "stream",
     "text": [
      "672\n"
     ]
    }
   ],
   "source": [
    "dataset = ClassificationDataset(data_train,data_path = \"\",transform=transform,training=True)\n",
    "train_loader,val_loader = make_loader(dataset, train_batch_size=bs, validation_split=0.2)"
   ]
  },
  {
   "cell_type": "code",
   "execution_count": 11,
   "id": "395d6f9b",
   "metadata": {
    "execution": {
     "iopub.execute_input": "2023-10-03T14:38:30.477837Z",
     "iopub.status.busy": "2023-10-03T14:38:30.476881Z",
     "iopub.status.idle": "2023-10-03T14:38:30.489138Z",
     "shell.execute_reply": "2023-10-03T14:38:30.488287Z"
    },
    "papermill": {
     "duration": 0.023118,
     "end_time": "2023-10-03T14:38:30.491206",
     "exception": false,
     "start_time": "2023-10-03T14:38:30.468088",
     "status": "completed"
    },
    "tags": []
   },
   "outputs": [],
   "source": [
    " X_train, X_test, y_train, y_test = train_test_split(data_train, data_train['label'],stratify=data_train['label'], test_size=0.2, random_state=42)"
   ]
  },
  {
   "cell_type": "code",
   "execution_count": 12,
   "id": "2d5f2e94",
   "metadata": {
    "execution": {
     "iopub.execute_input": "2023-10-03T14:38:30.509328Z",
     "iopub.status.busy": "2023-10-03T14:38:30.508453Z",
     "iopub.status.idle": "2023-10-03T14:38:30.514405Z",
     "shell.execute_reply": "2023-10-03T14:38:30.513553Z"
    },
    "papermill": {
     "duration": 0.017026,
     "end_time": "2023-10-03T14:38:30.516197",
     "exception": false,
     "start_time": "2023-10-03T14:38:30.499171",
     "status": "completed"
    },
    "tags": []
   },
   "outputs": [],
   "source": [
    "train_dataset = ClassificationDataset(X_train,data_path = \"\",transform=transform,training=True)\n",
    "val_dataset = ClassificationDataset(X_test,data_path = \"\",transform=test_transform,training=True)"
   ]
  },
  {
   "cell_type": "code",
   "execution_count": 13,
   "id": "66916b41",
   "metadata": {
    "execution": {
     "iopub.execute_input": "2023-10-03T14:38:30.534745Z",
     "iopub.status.busy": "2023-10-03T14:38:30.533924Z",
     "iopub.status.idle": "2023-10-03T14:38:30.538995Z",
     "shell.execute_reply": "2023-10-03T14:38:30.538073Z"
    },
    "papermill": {
     "duration": 0.016383,
     "end_time": "2023-10-03T14:38:30.540883",
     "exception": false,
     "start_time": "2023-10-03T14:38:30.524500",
     "status": "completed"
    },
    "tags": []
   },
   "outputs": [],
   "source": [
    "train_loader = torch.utils.data.DataLoader(\n",
    "        train_dataset, batch_size=bs, shuffle=True,\n",
    "    )\n",
    "    # create test_loader\n",
    "val_loader = torch.utils.data.DataLoader(val_dataset, batch_size=1, shuffle=False)"
   ]
  },
  {
   "cell_type": "code",
   "execution_count": 14,
   "id": "422a3f41",
   "metadata": {
    "execution": {
     "iopub.execute_input": "2023-10-03T14:38:30.558272Z",
     "iopub.status.busy": "2023-10-03T14:38:30.557708Z",
     "iopub.status.idle": "2023-10-03T14:38:30.563436Z",
     "shell.execute_reply": "2023-10-03T14:38:30.562483Z"
    },
    "papermill": {
     "duration": 0.016548,
     "end_time": "2023-10-03T14:38:30.565355",
     "exception": false,
     "start_time": "2023-10-03T14:38:30.548807",
     "status": "completed"
    },
    "tags": []
   },
   "outputs": [],
   "source": [
    "testset = ClassificationDataset(data_test,data_path = \"\",transform=test_transform,training=False)\n",
    "test_loader = torch.utils.data.DataLoader(\n",
    "        testset, batch_size=1, shuffle=False,\n",
    "    )"
   ]
  },
  {
   "cell_type": "code",
   "execution_count": 15,
   "id": "4470cccf",
   "metadata": {
    "execution": {
     "iopub.execute_input": "2023-10-03T14:38:30.583714Z",
     "iopub.status.busy": "2023-10-03T14:38:30.583449Z",
     "iopub.status.idle": "2023-10-03T14:38:32.363123Z",
     "shell.execute_reply": "2023-10-03T14:38:32.361881Z"
    },
    "papermill": {
     "duration": 1.791664,
     "end_time": "2023-10-03T14:38:32.365945",
     "exception": false,
     "start_time": "2023-10-03T14:38:30.574281",
     "status": "completed"
    },
    "tags": []
   },
   "outputs": [
    {
     "name": "stderr",
     "output_type": "stream",
     "text": [
      "100%|██████████| 180/180 [00:01<00:00, 104.16it/s]\n"
     ]
    }
   ],
   "source": [
    "from tqdm import tqdm\n",
    "psum    = torch.tensor([0.0, 0.0, 0.0])\n",
    "psum_sq = torch.tensor([0.0, 0.0, 0.0])\n",
    "\n",
    "# loop through images\n",
    "for inputs in tqdm(test_loader):\n",
    "    psum    += inputs.sum(axis        = [0, 2, 3])\n",
    "    psum_sq += (inputs ** 2).sum(axis = [0, 2, 3])\n",
    "\n",
    "count = len(data_test) * 224 * 224\n",
    "\n",
    "# mean and std\n",
    "test_mean = psum / count\n",
    "test_var  = (psum_sq / count) - (test_mean ** 2)\n",
    "test_std  = torch.sqrt(test_var)"
   ]
  },
  {
   "cell_type": "code",
   "execution_count": 16,
   "id": "d051325f",
   "metadata": {
    "execution": {
     "iopub.execute_input": "2023-10-03T14:38:32.388383Z",
     "iopub.status.busy": "2023-10-03T14:38:32.388025Z",
     "iopub.status.idle": "2023-10-03T14:38:37.669520Z",
     "shell.execute_reply": "2023-10-03T14:38:37.668378Z"
    },
    "papermill": {
     "duration": 5.29539,
     "end_time": "2023-10-03T14:38:37.671597",
     "exception": false,
     "start_time": "2023-10-03T14:38:32.376207",
     "status": "completed"
    },
    "tags": []
   },
   "outputs": [
    {
     "name": "stderr",
     "output_type": "stream",
     "text": [
      "100%|██████████| 42/42 [00:05<00:00,  7.97it/s]\n"
     ]
    }
   ],
   "source": [
    "psum    = torch.tensor([0.0, 0.0, 0.0])\n",
    "psum_sq = torch.tensor([0.0, 0.0, 0.0])\n",
    "\n",
    "# loop through images\n",
    "for inputs,_ in tqdm(train_loader):\n",
    "    psum    += inputs.sum(axis        = [0, 2, 3])\n",
    "    psum_sq += (inputs ** 2).sum(axis = [0, 2, 3])\n",
    "\n",
    "count = len(train_loader) * 224 * 224\n",
    "\n",
    "# mean and std\n",
    "train_mean = psum / count\n",
    "train_var  = (psum_sq / count) - (train_mean ** 2)\n",
    "train_std  = torch.sqrt(train_var)"
   ]
  },
  {
   "cell_type": "code",
   "execution_count": 17,
   "id": "6fa01097",
   "metadata": {
    "execution": {
     "iopub.execute_input": "2023-10-03T14:38:37.697227Z",
     "iopub.status.busy": "2023-10-03T14:38:37.696311Z",
     "iopub.status.idle": "2023-10-03T14:38:37.701471Z",
     "shell.execute_reply": "2023-10-03T14:38:37.700576Z"
    },
    "papermill": {
     "duration": 0.020269,
     "end_time": "2023-10-03T14:38:37.703314",
     "exception": false,
     "start_time": "2023-10-03T14:38:37.683045",
     "status": "completed"
    },
    "tags": []
   },
   "outputs": [],
   "source": [
    "# test_transform = torchvision.transforms.Compose([torchvision.transforms.Resize((256, 256)),\n",
    "#                                                torchvision.transforms.ToTensor(),\n",
    "#                                                torchvision.transforms.Normalize(test_mean, test_std)])\n",
    "# testset = ClassificationDataset(data_test,data_path = \"\",transform=test_transform,training=False)\n",
    "# test_loader = torch.utils.data.DataLoader(\n",
    "#         testset, batch_size=1, shuffle=False,\n",
    "#     )"
   ]
  },
  {
   "cell_type": "code",
   "execution_count": 18,
   "id": "6a1315e2",
   "metadata": {
    "execution": {
     "iopub.execute_input": "2023-10-03T14:38:37.728207Z",
     "iopub.status.busy": "2023-10-03T14:38:37.727887Z",
     "iopub.status.idle": "2023-10-03T14:38:37.732166Z",
     "shell.execute_reply": "2023-10-03T14:38:37.731171Z"
    },
    "papermill": {
     "duration": 0.018432,
     "end_time": "2023-10-03T14:38:37.734066",
     "exception": false,
     "start_time": "2023-10-03T14:38:37.715634",
     "status": "completed"
    },
    "tags": []
   },
   "outputs": [],
   "source": [
    "# transform = torchvision.transforms.Compose([torchvision.transforms.Resize((256, 256)),\n",
    "#                                             torchvision.transforms.RandomHorizontalFlip(p=0.5),  # Randomly flip images left-right\n",
    "#                             torchvision.transforms.RandomVerticalFlip(p=0.5),\n",
    "#                             torchvision.transforms.RandomRotation(degrees=15),\n",
    "#                                                torchvision.transforms.ToTensor(),\n",
    "#                                                torchvision.transforms.Normalize(mean, std)])\n",
    "# dataset = ClassificationDataset(data_train,data_path = \"\",transform=transform,training=True)\n",
    "# train_loader,val_loader = make_loader(dataset, train_batch_size=16, validation_split=0.2)"
   ]
  },
  {
   "cell_type": "code",
   "execution_count": 19,
   "id": "a5339d20",
   "metadata": {
    "execution": {
     "iopub.execute_input": "2023-10-03T14:38:37.757521Z",
     "iopub.status.busy": "2023-10-03T14:38:37.757259Z",
     "iopub.status.idle": "2023-10-03T14:38:37.773630Z",
     "shell.execute_reply": "2023-10-03T14:38:37.772644Z"
    },
    "papermill": {
     "duration": 0.030213,
     "end_time": "2023-10-03T14:38:37.775730",
     "exception": false,
     "start_time": "2023-10-03T14:38:37.745517",
     "status": "completed"
    },
    "tags": []
   },
   "outputs": [
    {
     "data": {
      "text/html": [
       "<div>\n",
       "<style scoped>\n",
       "    .dataframe tbody tr th:only-of-type {\n",
       "        vertical-align: middle;\n",
       "    }\n",
       "\n",
       "    .dataframe tbody tr th {\n",
       "        vertical-align: top;\n",
       "    }\n",
       "\n",
       "    .dataframe thead th {\n",
       "        text-align: right;\n",
       "    }\n",
       "</style>\n",
       "<table border=\"1\" class=\"dataframe\">\n",
       "  <thead>\n",
       "    <tr style=\"text-align: right;\">\n",
       "      <th></th>\n",
       "      <th>path</th>\n",
       "      <th>label</th>\n",
       "    </tr>\n",
       "  </thead>\n",
       "  <tbody>\n",
       "    <tr>\n",
       "      <th>0</th>\n",
       "      <td>/kaggle/input/world-championship-2023-embryo-c...</td>\n",
       "      <td>0</td>\n",
       "    </tr>\n",
       "    <tr>\n",
       "      <th>1</th>\n",
       "      <td>/kaggle/input/world-championship-2023-embryo-c...</td>\n",
       "      <td>0</td>\n",
       "    </tr>\n",
       "    <tr>\n",
       "      <th>2</th>\n",
       "      <td>/kaggle/input/world-championship-2023-embryo-c...</td>\n",
       "      <td>0</td>\n",
       "    </tr>\n",
       "    <tr>\n",
       "      <th>3</th>\n",
       "      <td>/kaggle/input/world-championship-2023-embryo-c...</td>\n",
       "      <td>0</td>\n",
       "    </tr>\n",
       "    <tr>\n",
       "      <th>4</th>\n",
       "      <td>/kaggle/input/world-championship-2023-embryo-c...</td>\n",
       "      <td>0</td>\n",
       "    </tr>\n",
       "    <tr>\n",
       "      <th>...</th>\n",
       "      <td>...</td>\n",
       "      <td>...</td>\n",
       "    </tr>\n",
       "    <tr>\n",
       "      <th>835</th>\n",
       "      <td>/kaggle/input/world-championship-2023-embryo-c...</td>\n",
       "      <td>1</td>\n",
       "    </tr>\n",
       "    <tr>\n",
       "      <th>836</th>\n",
       "      <td>/kaggle/input/world-championship-2023-embryo-c...</td>\n",
       "      <td>0</td>\n",
       "    </tr>\n",
       "    <tr>\n",
       "      <th>837</th>\n",
       "      <td>/kaggle/input/world-championship-2023-embryo-c...</td>\n",
       "      <td>0</td>\n",
       "    </tr>\n",
       "    <tr>\n",
       "      <th>838</th>\n",
       "      <td>/kaggle/input/world-championship-2023-embryo-c...</td>\n",
       "      <td>1</td>\n",
       "    </tr>\n",
       "    <tr>\n",
       "      <th>839</th>\n",
       "      <td>/kaggle/input/world-championship-2023-embryo-c...</td>\n",
       "      <td>1</td>\n",
       "    </tr>\n",
       "  </tbody>\n",
       "</table>\n",
       "<p>840 rows × 2 columns</p>\n",
       "</div>"
      ],
      "text/plain": [
       "                                                  path  label\n",
       "0    /kaggle/input/world-championship-2023-embryo-c...      0\n",
       "1    /kaggle/input/world-championship-2023-embryo-c...      0\n",
       "2    /kaggle/input/world-championship-2023-embryo-c...      0\n",
       "3    /kaggle/input/world-championship-2023-embryo-c...      0\n",
       "4    /kaggle/input/world-championship-2023-embryo-c...      0\n",
       "..                                                 ...    ...\n",
       "835  /kaggle/input/world-championship-2023-embryo-c...      1\n",
       "836  /kaggle/input/world-championship-2023-embryo-c...      0\n",
       "837  /kaggle/input/world-championship-2023-embryo-c...      0\n",
       "838  /kaggle/input/world-championship-2023-embryo-c...      1\n",
       "839  /kaggle/input/world-championship-2023-embryo-c...      1\n",
       "\n",
       "[840 rows x 2 columns]"
      ]
     },
     "execution_count": 19,
     "metadata": {},
     "output_type": "execute_result"
    }
   ],
   "source": [
    "data_train"
   ]
  },
  {
   "cell_type": "code",
   "execution_count": 20,
   "id": "5324767f",
   "metadata": {
    "execution": {
     "iopub.execute_input": "2023-10-03T14:38:37.800837Z",
     "iopub.status.busy": "2023-10-03T14:38:37.800562Z",
     "iopub.status.idle": "2023-10-03T14:38:37.807756Z",
     "shell.execute_reply": "2023-10-03T14:38:37.806840Z"
    },
    "papermill": {
     "duration": 0.022136,
     "end_time": "2023-10-03T14:38:37.809677",
     "exception": false,
     "start_time": "2023-10-03T14:38:37.787541",
     "status": "completed"
    },
    "tags": []
   },
   "outputs": [],
   "source": [
    "from sklearn import metrics as skmetrics\n",
    "import numpy\n",
    "class Metrics:\n",
    "    def __init__(self, metric_names):\n",
    "        self.metric_names = metric_names\n",
    "        # initialize a metric dictionary\n",
    "        self.metric_dict = {metric_name: [0] for metric_name in self.metric_names}\n",
    "\n",
    "    def step(self, labels, preds):\n",
    "        for metric in self.metric_names:\n",
    "            # get the metric function\n",
    "            do_metric = getattr(\n",
    "                skmetrics, metric, \"The metric {} is not implemented\".format(metric)\n",
    "            )\n",
    "            # check if metric require average method, if yes set to 'micro' or 'macro' or 'None'\n",
    "            try:\n",
    "                self.metric_dict[metric].append(\n",
    "                    do_metric(labels, preds, average=\"macro\")\n",
    "                )\n",
    "            except:\n",
    "                self.metric_dict[metric].append(do_metric(labels, preds))\n",
    "\n",
    "    def epoch(self):\n",
    "        # calculate metrics for an entire epoch\n",
    "        avg = [sum(metric) / (len(metric) - 1) for metric in self.metric_dict.values()]\n",
    "        metric_as_dict = dict(zip(self.metric_names, avg))\n",
    "        return metric_as_dict\n",
    "\n",
    "    def last_step_metrics(self):\n",
    "        # return metrics of last steps\n",
    "        values = [self.metric_dict[metric][-1] for metric in self.metric_names]\n",
    "        metric_as_dict = dict(zip(self.metric_names, values))\n",
    "        return metric_as_dict"
   ]
  },
  {
   "cell_type": "code",
   "execution_count": 21,
   "id": "20e778a9",
   "metadata": {
    "execution": {
     "iopub.execute_input": "2023-10-03T14:38:37.833329Z",
     "iopub.status.busy": "2023-10-03T14:38:37.832507Z",
     "iopub.status.idle": "2023-10-03T14:38:37.836883Z",
     "shell.execute_reply": "2023-10-03T14:38:37.836012Z"
    },
    "papermill": {
     "duration": 0.017921,
     "end_time": "2023-10-03T14:38:37.838634",
     "exception": false,
     "start_time": "2023-10-03T14:38:37.820713",
     "status": "completed"
    },
    "tags": []
   },
   "outputs": [],
   "source": [
    "train_metrics = Metrics([\"accuracy_score\",\"f1_score\"])\n",
    "val_metrics = Metrics([\"accuracy_score\",\"f1_score\"])"
   ]
  },
  {
   "cell_type": "code",
   "execution_count": 22,
   "id": "d2a38546",
   "metadata": {
    "execution": {
     "iopub.execute_input": "2023-10-03T14:38:37.861470Z",
     "iopub.status.busy": "2023-10-03T14:38:37.860908Z",
     "iopub.status.idle": "2023-10-03T14:38:47.999216Z",
     "shell.execute_reply": "2023-10-03T14:38:47.998083Z"
    },
    "papermill": {
     "duration": 10.152327,
     "end_time": "2023-10-03T14:38:48.001512",
     "exception": false,
     "start_time": "2023-10-03T14:38:37.849185",
     "status": "completed"
    },
    "tags": []
   },
   "outputs": [
    {
     "name": "stdout",
     "output_type": "stream",
     "text": [
      "Collecting focal_loss_torch\r\n",
      "  Downloading focal_loss_torch-0.1.2-py3-none-any.whl (4.5 kB)\r\n",
      "Requirement already satisfied: torch in /opt/conda/lib/python3.10/site-packages (from focal_loss_torch) (2.0.0)\r\n",
      "Requirement already satisfied: numpy in /opt/conda/lib/python3.10/site-packages (from focal_loss_torch) (1.23.5)\r\n",
      "Requirement already satisfied: filelock in /opt/conda/lib/python3.10/site-packages (from torch->focal_loss_torch) (3.12.2)\r\n",
      "Requirement already satisfied: typing-extensions in /opt/conda/lib/python3.10/site-packages (from torch->focal_loss_torch) (4.6.3)\r\n",
      "Requirement already satisfied: sympy in /opt/conda/lib/python3.10/site-packages (from torch->focal_loss_torch) (1.12)\r\n",
      "Requirement already satisfied: networkx in /opt/conda/lib/python3.10/site-packages (from torch->focal_loss_torch) (3.1)\r\n",
      "Requirement already satisfied: jinja2 in /opt/conda/lib/python3.10/site-packages (from torch->focal_loss_torch) (3.1.2)\r\n",
      "Requirement already satisfied: MarkupSafe>=2.0 in /opt/conda/lib/python3.10/site-packages (from jinja2->torch->focal_loss_torch) (2.1.3)\r\n",
      "Requirement already satisfied: mpmath>=0.19 in /opt/conda/lib/python3.10/site-packages (from sympy->torch->focal_loss_torch) (1.3.0)\r\n",
      "Installing collected packages: focal_loss_torch\r\n",
      "Successfully installed focal_loss_torch-0.1.2\r\n"
     ]
    }
   ],
   "source": [
    "!pip install focal_loss_torch\n"
   ]
  },
  {
   "cell_type": "code",
   "execution_count": 23,
   "id": "5529cada",
   "metadata": {
    "execution": {
     "iopub.execute_input": "2023-10-03T14:38:48.029203Z",
     "iopub.status.busy": "2023-10-03T14:38:48.028833Z",
     "iopub.status.idle": "2023-10-03T14:38:48.036069Z",
     "shell.execute_reply": "2023-10-03T14:38:48.035070Z"
    },
    "papermill": {
     "duration": 0.022128,
     "end_time": "2023-10-03T14:38:48.038092",
     "exception": false,
     "start_time": "2023-10-03T14:38:48.015964",
     "status": "completed"
    },
    "tags": []
   },
   "outputs": [],
   "source": [
    "import torch.nn.functional as F\n",
    "import torch.nn as nn\n",
    "\n",
    "class LabelSmoothingLoss(nn.Module):\n",
    "    def __init__(self, smoothing=0.1, dim=-1):\n",
    "        super(LabelSmoothingLoss, self).__init__()\n",
    "        self.smoothing = smoothing\n",
    "        self.dim = dim\n",
    "\n",
    "    def forward(self, pred, target):\n",
    "        target = F.one_hot(target, num_classes=pred.size(-1))\n",
    "        target = target.float()\n",
    "        target = (1 - self.smoothing) * target + self.smoothing / pred.size(-1)\n",
    "        log_pred = F.log_softmax(pred, dim=self.dim)\n",
    "        loss = nn.KLDivLoss(reduction='batchmean')(log_pred, target)\n",
    "        return loss\n",
    "    \n",
    "criterion = LabelSmoothingLoss(smoothing=0.12)\n"
   ]
  },
  {
   "cell_type": "code",
   "execution_count": 24,
   "id": "3f94c62e",
   "metadata": {
    "execution": {
     "iopub.execute_input": "2023-10-03T14:38:48.062914Z",
     "iopub.status.busy": "2023-10-03T14:38:48.062608Z",
     "iopub.status.idle": "2023-10-03T14:38:48.074191Z",
     "shell.execute_reply": "2023-10-03T14:38:48.073289Z"
    },
    "papermill": {
     "duration": 0.026802,
     "end_time": "2023-10-03T14:38:48.076350",
     "exception": false,
     "start_time": "2023-10-03T14:38:48.049548",
     "status": "completed"
    },
    "tags": []
   },
   "outputs": [],
   "source": [
    "import torch.nn.functional as F\n",
    "\n",
    "\n",
    "class FocalLossWithSmoothing(nn.Module):\n",
    "    def __init__(\n",
    "            self,\n",
    "            num_classes: int,\n",
    "            gamma: int = 1,\n",
    "            lb_smooth: float = 0.1,\n",
    "            size_average: bool = True,\n",
    "            ignore_index: int = None,\n",
    "            alpha: float = None):\n",
    "        \"\"\"\n",
    "        :param gamma:\n",
    "        :param lb_smooth:\n",
    "        :param ignore_index:\n",
    "        :param size_average:\n",
    "        :param alpha:\n",
    "        \"\"\"\n",
    "        super(FocalLossWithSmoothing, self).__init__()\n",
    "        self._num_classes = num_classes\n",
    "        self._gamma = gamma\n",
    "        self._lb_smooth = lb_smooth\n",
    "        self._size_average = size_average\n",
    "        self._ignore_index = ignore_index\n",
    "        self._log_softmax = nn.LogSoftmax(dim=1)\n",
    "        self._alpha = alpha\n",
    "\n",
    "        if self._num_classes <= 1:\n",
    "            raise ValueError('The number of classes must be 2 or higher')\n",
    "        if self._gamma < 0:\n",
    "            raise ValueError('Gamma must be 0 or higher')\n",
    "        if self._alpha is not None:\n",
    "            if self._alpha <= 0 or self._alpha >= 1:\n",
    "                raise ValueError('Alpha must be 0 <= alpha <= 1')\n",
    "\n",
    "    def forward(self, logits, label):\n",
    "        \"\"\"\n",
    "        :param logits: (batch_size, class, height, width)\n",
    "        :param label:\n",
    "        :return:\n",
    "        \"\"\"\n",
    "        logits = logits.float()\n",
    "        difficulty_level = self._estimate_difficulty_level(logits, label)\n",
    "\n",
    "        with torch.no_grad():\n",
    "            label = label.clone().detach()\n",
    "            if self._ignore_index is not None:\n",
    "                ignore = label.eq(self._ignore_index)\n",
    "                label[ignore] = 0\n",
    "            lb_pos, lb_neg = 1. - self._lb_smooth, self._lb_smooth / (self._num_classes - 1)\n",
    "            lb_one_hot = torch.empty_like(logits).fill_(\n",
    "                lb_neg).scatter_(1, label.unsqueeze(1), lb_pos).detach()\n",
    "        logs = self._log_softmax(logits)\n",
    "        loss = -torch.sum(difficulty_level * logs * lb_one_hot, dim=1)\n",
    "        if self._ignore_index is not None:\n",
    "            loss[ignore] = 0\n",
    "        return loss.mean()\n",
    "\n",
    "    def _estimate_difficulty_level(self, logits, label):\n",
    "        \"\"\"\n",
    "        :param logits:\n",
    "        :param label:\n",
    "        :return:\n",
    "        \"\"\"\n",
    "        one_hot_key = torch.nn.functional.one_hot(label, num_classes=self._num_classes)\n",
    "        if len(one_hot_key.shape) == 4:\n",
    "            one_hot_key = one_hot_key.permute(0, 3, 1, 2)\n",
    "        if one_hot_key.device != logits.device:\n",
    "            one_hot_key = one_hot_key.to(logits.device)\n",
    "        pt = one_hot_key * F.softmax(logits)\n",
    "        difficulty_level = torch.pow(1 - pt, self._gamma)\n",
    "        return difficulty_level"
   ]
  },
  {
   "cell_type": "code",
   "execution_count": 25,
   "id": "9eca9153",
   "metadata": {
    "execution": {
     "iopub.execute_input": "2023-10-03T14:38:48.111521Z",
     "iopub.status.busy": "2023-10-03T14:38:48.111043Z",
     "iopub.status.idle": "2023-10-03T14:38:48.116129Z",
     "shell.execute_reply": "2023-10-03T14:38:48.114987Z"
    },
    "papermill": {
     "duration": 0.033165,
     "end_time": "2023-10-03T14:38:48.121098",
     "exception": false,
     "start_time": "2023-10-03T14:38:48.087933",
     "status": "completed"
    },
    "tags": []
   },
   "outputs": [],
   "source": [
    "# criterion = FocalLossWithSmoothing(num_classes=2,lb_smooth=0.12)"
   ]
  },
  {
   "cell_type": "markdown",
   "id": "578a3adc",
   "metadata": {
    "papermill": {
     "duration": 0.026891,
     "end_time": "2023-10-03T14:38:48.171240",
     "exception": false,
     "start_time": "2023-10-03T14:38:48.144349",
     "status": "completed"
    },
    "tags": []
   },
   "source": [
    "# 2. Model"
   ]
  },
  {
   "cell_type": "code",
   "execution_count": 26,
   "id": "4845a435",
   "metadata": {
    "execution": {
     "iopub.execute_input": "2023-10-03T14:38:48.209662Z",
     "iopub.status.busy": "2023-10-03T14:38:48.209335Z",
     "iopub.status.idle": "2023-10-03T14:38:48.214022Z",
     "shell.execute_reply": "2023-10-03T14:38:48.212986Z"
    },
    "papermill": {
     "duration": 0.018843,
     "end_time": "2023-10-03T14:38:48.216002",
     "exception": false,
     "start_time": "2023-10-03T14:38:48.197159",
     "status": "completed"
    },
    "tags": []
   },
   "outputs": [],
   "source": [
    "import torchvision\n"
   ]
  },
  {
   "cell_type": "code",
   "execution_count": 27,
   "id": "39d3bf15",
   "metadata": {
    "execution": {
     "iopub.execute_input": "2023-10-03T14:38:48.241218Z",
     "iopub.status.busy": "2023-10-03T14:38:48.240396Z",
     "iopub.status.idle": "2023-10-03T14:38:56.701960Z",
     "shell.execute_reply": "2023-10-03T14:38:56.700965Z"
    },
    "papermill": {
     "duration": 8.47628,
     "end_time": "2023-10-03T14:38:56.704161",
     "exception": false,
     "start_time": "2023-10-03T14:38:48.227881",
     "status": "completed"
    },
    "tags": []
   },
   "outputs": [
    {
     "name": "stderr",
     "output_type": "stream",
     "text": [
      "/opt/conda/lib/python3.10/site-packages/torchvision/models/_utils.py:208: UserWarning: The parameter 'pretrained' is deprecated since 0.13 and may be removed in the future, please use 'weights' instead.\n",
      "  warnings.warn(\n",
      "/opt/conda/lib/python3.10/site-packages/torchvision/models/_utils.py:223: UserWarning: Arguments other than a weight enum or `None` for 'weights' are deprecated since 0.13 and may be removed in the future. The current behavior is equivalent to passing `weights=EfficientNet_B5_Weights.IMAGENET1K_V1`. You can also use `weights=EfficientNet_B5_Weights.DEFAULT` to get the most up-to-date weights.\n",
      "  warnings.warn(msg)\n",
      "Downloading: \"https://download.pytorch.org/models/efficientnet_b5_lukemelas-b6417697.pth\" to /root/.cache/torch/hub/checkpoints/efficientnet_b5_lukemelas-b6417697.pth\n",
      "100%|██████████| 117M/117M [00:04<00:00, 30.1MB/s]\n"
     ]
    }
   ],
   "source": [
    "from torchvision import models\n",
    "from torch import nn\n",
    "model = models.efficientnet_b5(pretrained=True).cuda()\n",
    "for param in model.parameters():\n",
    "    param.requires_grad = False\n",
    "classifier = nn.Sequential(\n",
    "    nn.Linear(in_features=model.classifier[1].in_features, out_features=256,bias=True),\n",
    "    nn.Linear(in_features=256, out_features=128,bias=True),\n",
    "    nn.Dropout(0.2),\n",
    "    nn.Linear(in_features=128, out_features=64,bias=True),\n",
    "    nn.Dropout(0.2),\n",
    "    nn.Linear(in_features=64, out_features=2,bias=True),\n",
    "    \n",
    ")\n",
    "model.classifier  = classifier"
   ]
  },
  {
   "cell_type": "code",
   "execution_count": 28,
   "id": "c2d263bc",
   "metadata": {
    "execution": {
     "iopub.execute_input": "2023-10-03T14:38:56.732058Z",
     "iopub.status.busy": "2023-10-03T14:38:56.731357Z",
     "iopub.status.idle": "2023-10-03T14:39:02.093496Z",
     "shell.execute_reply": "2023-10-03T14:39:02.092518Z"
    },
    "papermill": {
     "duration": 5.378032,
     "end_time": "2023-10-03T14:39:02.095445",
     "exception": false,
     "start_time": "2023-10-03T14:38:56.717413",
     "status": "completed"
    },
    "tags": []
   },
   "outputs": [
    {
     "name": "stdout",
     "output_type": "stream",
     "text": [
      "torch.Size([1, 3, 224, 224])\n"
     ]
    },
    {
     "data": {
      "text/plain": [
       "tensor([[0.1097, 0.0952]], device='cuda:0', grad_fn=<AddmmBackward0>)"
      ]
     },
     "execution_count": 28,
     "metadata": {},
     "output_type": "execute_result"
    }
   ],
   "source": [
    "model = model.cuda()\n",
    "a= torch.zeros((1,3,224,224))\n",
    "print(a.shape)\n",
    "model(a.cuda())"
   ]
  },
  {
   "cell_type": "code",
   "execution_count": 29,
   "id": "3ca246d3",
   "metadata": {
    "execution": {
     "iopub.execute_input": "2023-10-03T14:39:02.124257Z",
     "iopub.status.busy": "2023-10-03T14:39:02.123918Z",
     "iopub.status.idle": "2023-10-03T14:39:02.129238Z",
     "shell.execute_reply": "2023-10-03T14:39:02.128143Z"
    },
    "papermill": {
     "duration": 0.022351,
     "end_time": "2023-10-03T14:39:02.131230",
     "exception": false,
     "start_time": "2023-10-03T14:39:02.108879",
     "status": "completed"
    },
    "tags": []
   },
   "outputs": [],
   "source": [
    "optimizer = torch.optim.Adam(model.classifier.parameters(), lr=0.001)\n",
    "scheduler = torch.optim.lr_scheduler.ReduceLROnPlateau(\n",
    "        optimizer, \"min\", patience=2, factor=0.5\n",
    "    )"
   ]
  },
  {
   "cell_type": "code",
   "execution_count": 30,
   "id": "06b29bad",
   "metadata": {
    "execution": {
     "iopub.execute_input": "2023-10-03T14:39:02.157703Z",
     "iopub.status.busy": "2023-10-03T14:39:02.157426Z",
     "iopub.status.idle": "2023-10-03T14:39:02.161546Z",
     "shell.execute_reply": "2023-10-03T14:39:02.160633Z"
    },
    "papermill": {
     "duration": 0.019743,
     "end_time": "2023-10-03T14:39:02.163344",
     "exception": false,
     "start_time": "2023-10-03T14:39:02.143601",
     "status": "completed"
    },
    "tags": []
   },
   "outputs": [],
   "source": [
    "device = torch.device(\"cuda\")"
   ]
  },
  {
   "cell_type": "code",
   "execution_count": 31,
   "id": "75f33295",
   "metadata": {
    "execution": {
     "iopub.execute_input": "2023-10-03T14:39:02.192014Z",
     "iopub.status.busy": "2023-10-03T14:39:02.191012Z",
     "iopub.status.idle": "2023-10-03T14:39:02.201353Z",
     "shell.execute_reply": "2023-10-03T14:39:02.200486Z"
    },
    "papermill": {
     "duration": 0.026678,
     "end_time": "2023-10-03T14:39:02.203072",
     "exception": false,
     "start_time": "2023-10-03T14:39:02.176394",
     "status": "completed"
    },
    "tags": []
   },
   "outputs": [],
   "source": [
    "model = model.to(device)\n"
   ]
  },
  {
   "cell_type": "markdown",
   "id": "fae5111a",
   "metadata": {
    "papermill": {
     "duration": 0.01265,
     "end_time": "2023-10-03T14:39:02.228198",
     "exception": false,
     "start_time": "2023-10-03T14:39:02.215548",
     "status": "completed"
    },
    "tags": []
   },
   "source": [
    "# training loop"
   ]
  },
  {
   "cell_type": "code",
   "execution_count": 32,
   "id": "89e0c32d",
   "metadata": {
    "execution": {
     "iopub.execute_input": "2023-10-03T14:39:02.256609Z",
     "iopub.status.busy": "2023-10-03T14:39:02.256325Z",
     "iopub.status.idle": "2023-10-03T14:39:02.265862Z",
     "shell.execute_reply": "2023-10-03T14:39:02.264974Z"
    },
    "papermill": {
     "duration": 0.026214,
     "end_time": "2023-10-03T14:39:02.267726",
     "exception": false,
     "start_time": "2023-10-03T14:39:02.241512",
     "status": "completed"
    },
    "tags": []
   },
   "outputs": [],
   "source": [
    "def train_one_epoch(\n",
    "    model,\n",
    "    train_loader,\n",
    "    test_loader,\n",
    "    device,\n",
    "    optimizer,\n",
    "    criterion,\n",
    "    train_metrics,\n",
    "    val_metrics,\n",
    "):\n",
    "\n",
    "    # training-the-model\n",
    "    train_loss = 0\n",
    "    valid_loss = 0\n",
    "    all_labels = []\n",
    "    all_preds = []\n",
    "    model.train()\n",
    "    for data, target in train_loader:\n",
    "        # move-tensors-to-GPU\n",
    "        data = data.type(torch.FloatTensor).to(device)\n",
    "        # target=torch.Tensor(target)\n",
    "        target = target.float().to(device)\n",
    "        # clear-the-gradients-of-all-optimized-variables\n",
    "        optimizer.zero_grad()\n",
    "        # forward-pass: compute-predicted-outputs-by-passing-inputs-to-the-model\n",
    "        output = model(data)\n",
    "        # get the prediction label and target label\n",
    "        output = model(data)\n",
    "        preds = torch.argmax(output, axis=1).cpu().detach().numpy()\n",
    "        labels = target.cpu().numpy()\n",
    "        # calculate-the-batch-loss\n",
    "        loss = criterion(output.type(torch.FloatTensor), target.type(torch.LongTensor))\n",
    "        # backward-pass: compute-gradient-of-the-loss-wrt-model-parameters\n",
    "        loss.backward()\n",
    "        # perform-a-ingle-optimization-step (parameter-update)\n",
    "        optimizer.step()\n",
    "        # update-training-loss\n",
    "        train_loss += loss.item() * data.size(0)\n",
    "        # calculate training metrics\n",
    "        all_labels.extend(labels)\n",
    "        all_preds.extend(preds)\n",
    "    \n",
    "    train_metrics.step(all_labels, all_preds)\n",
    "\n",
    "    # validate-the-model\n",
    "    model.eval()\n",
    "    all_labels = []\n",
    "    all_preds = []\n",
    "    with torch.no_grad():\n",
    "        for data, target in test_loader:\n",
    "            data = data.type(torch.FloatTensor).to(device)\n",
    "            target = target.to(device)\n",
    "            output = model(data)\n",
    "            preds = torch.argmax(output, axis=1).tolist()\n",
    "            labels = target.tolist()\n",
    "            all_labels.extend(labels)\n",
    "            all_preds.extend(preds)\n",
    "            loss = criterion(output, target)\n",
    "\n",
    "            # update-average-validation-loss\n",
    "            valid_loss += loss.item() * data.size(0)\n",
    "\n",
    "    val_metrics.step(all_labels, all_preds)\n",
    "    train_loss = train_loss / len(train_loader.sampler)\n",
    "    valid_loss = valid_loss / len(test_loader.sampler)\n",
    "\n",
    "    return (\n",
    "        train_loss,\n",
    "        valid_loss,\n",
    "        train_metrics.last_step_metrics(),\n",
    "        val_metrics.last_step_metrics(),\n",
    "    )"
   ]
  },
  {
   "cell_type": "code",
   "execution_count": 33,
   "id": "78bdcd45",
   "metadata": {
    "execution": {
     "iopub.execute_input": "2023-10-03T14:39:02.295642Z",
     "iopub.status.busy": "2023-10-03T14:39:02.295066Z",
     "iopub.status.idle": "2023-10-03T14:39:02.299471Z",
     "shell.execute_reply": "2023-10-03T14:39:02.298461Z"
    },
    "papermill": {
     "duration": 0.020464,
     "end_time": "2023-10-03T14:39:02.301164",
     "exception": false,
     "start_time": "2023-10-03T14:39:02.280700",
     "status": "completed"
    },
    "tags": []
   },
   "outputs": [],
   "source": [
    "from tqdm import tqdm\n",
    "from datetime import datetime\n",
    "time_str = str(datetime.now().strftime(\"%Y%m%d-%H%M\"))"
   ]
  },
  {
   "cell_type": "code",
   "execution_count": 34,
   "id": "1659ec04",
   "metadata": {
    "execution": {
     "iopub.execute_input": "2023-10-03T14:39:02.328297Z",
     "iopub.status.busy": "2023-10-03T14:39:02.327723Z",
     "iopub.status.idle": "2023-10-03T14:44:41.223770Z",
     "shell.execute_reply": "2023-10-03T14:44:41.222680Z"
    },
    "papermill": {
     "duration": 338.930855,
     "end_time": "2023-10-03T14:44:41.244999",
     "exception": false,
     "start_time": "2023-10-03T14:39:02.314144",
     "status": "completed"
    },
    "tags": []
   },
   "outputs": [
    {
     "name": "stdout",
     "output_type": "stream",
     "text": [
      "begin training process\n"
     ]
    },
    {
     "name": "stderr",
     "output_type": "stream",
     "text": [
      "  0%|          | 0/20 [00:00<?, ?it/s]"
     ]
    },
    {
     "name": "stdout",
     "output_type": "stream",
     "text": [
      "Epoch 1 / 20 \n",
      " Training loss: 0.29129293241671156 - Other training metrics: \n",
      "{'accuracy_score': 0.8556547619047619, 'f1_score': 0.7040091180303601}\n",
      " \n",
      " Validation loss : 0.24109940763030732 - Other validation metrics:\n",
      "{'accuracy_score': 0.8511904761904762, 'f1_score': 0.4598070739549839}\n",
      "\n",
      "\n",
      "Validation accuracy= 0.8511904761904762===> Save best epoch\n"
     ]
    },
    {
     "name": "stderr",
     "output_type": "stream",
     "text": [
      "  5%|▌         | 1/20 [00:19<06:04, 19.16s/it]"
     ]
    },
    {
     "name": "stdout",
     "output_type": "stream",
     "text": [
      "Epoch 2 / 20 \n",
      " Training loss: 0.17438733772862525 - Other training metrics: \n",
      "{'accuracy_score': 0.8943452380952381, 'f1_score': 0.7572637223429097}\n",
      " \n",
      " Validation loss : 0.19665855273515695 - Other validation metrics:\n",
      "{'accuracy_score': 0.8809523809523809, 'f1_score': 0.7569444444444444}\n",
      "\n",
      "\n",
      "Validation accuracy= 0.8809523809523809===> Save best epoch\n"
     ]
    },
    {
     "name": "stderr",
     "output_type": "stream",
     "text": [
      " 15%|█▌        | 3/20 [00:53<04:55, 17.38s/it]"
     ]
    },
    {
     "name": "stdout",
     "output_type": "stream",
     "text": [
      "Epoch 3 / 20 \n",
      " Training loss: 0.1488748202543883 - Other training metrics: \n",
      "{'accuracy_score': 0.9166666666666666, 'f1_score': 0.815148835838491}\n",
      " \n",
      " Validation loss : 0.2031631736927444 - Other validation metrics:\n",
      "{'accuracy_score': 0.875, 'f1_score': 0.7491289198606272}\n",
      "\n",
      "\n",
      "Validation accuracy= 0.875===> No saving\n"
     ]
    },
    {
     "name": "stderr",
     "output_type": "stream",
     "text": [
      " 20%|██        | 4/20 [01:09<04:34, 17.14s/it]"
     ]
    },
    {
     "name": "stdout",
     "output_type": "stream",
     "text": [
      "Epoch 4 / 20 \n",
      " Training loss: 0.125029661249192 - Other training metrics: \n",
      "{'accuracy_score': 0.9330357142857143, 'f1_score': 0.8614718614718615}\n",
      " \n",
      " Validation loss : 0.2162378169707067 - Other validation metrics:\n",
      "{'accuracy_score': 0.8630952380952381, 'f1_score': 0.7049255441008019}\n",
      "\n",
      "\n",
      "Validation accuracy= 0.8630952380952381===> No saving\n"
     ]
    },
    {
     "name": "stderr",
     "output_type": "stream",
     "text": [
      " 25%|██▌       | 5/20 [01:26<04:15, 17.02s/it]"
     ]
    },
    {
     "name": "stdout",
     "output_type": "stream",
     "text": [
      "Epoch 5 / 20 \n",
      " Training loss: 0.0972988120324555 - Other training metrics: \n",
      "{'accuracy_score': 0.9389880952380952, 'f1_score': 0.8703209500007061}\n",
      " \n",
      " Validation loss : 0.2474276504058036 - Other validation metrics:\n",
      "{'accuracy_score': 0.8452380952380952, 'f1_score': 0.7131599684791174}\n",
      "\n",
      "\n",
      "Validation accuracy= 0.8452380952380952===> No saving\n"
     ]
    },
    {
     "name": "stderr",
     "output_type": "stream",
     "text": [
      " 30%|███       | 6/20 [01:43<03:57, 16.96s/it]"
     ]
    },
    {
     "name": "stdout",
     "output_type": "stream",
     "text": [
      "Epoch 6 / 20 \n",
      " Training loss: 0.09272885903538693 - Other training metrics: \n",
      "{'accuracy_score': 0.9419642857142857, 'f1_score': 0.882021940821903}\n",
      " \n",
      " Validation loss : 0.2528716767583752 - Other validation metrics:\n",
      "{'accuracy_score': 0.8630952380952381, 'f1_score': 0.7423828255217014}\n",
      "\n",
      "\n",
      "Validation accuracy= 0.8630952380952381===> No saving\n"
     ]
    },
    {
     "name": "stderr",
     "output_type": "stream",
     "text": [
      " 35%|███▌      | 7/20 [02:00<03:39, 16.85s/it]"
     ]
    },
    {
     "name": "stdout",
     "output_type": "stream",
     "text": [
      "Epoch 7 / 20 \n",
      " Training loss: 0.08314273776930003 - Other training metrics: \n",
      "{'accuracy_score': 0.9672619047619048, 'f1_score': 0.9348458406050029}\n",
      " \n",
      " Validation loss : 0.24661552290698247 - Other validation metrics:\n",
      "{'accuracy_score': 0.8690476190476191, 'f1_score': 0.7326388888888888}\n",
      "\n",
      "\n",
      "Validation accuracy= 0.8690476190476191===> No saving\n"
     ]
    },
    {
     "name": "stderr",
     "output_type": "stream",
     "text": [
      " 40%|████      | 8/20 [02:16<03:22, 16.86s/it]"
     ]
    },
    {
     "name": "stdout",
     "output_type": "stream",
     "text": [
      "Epoch 8 / 20 \n",
      " Training loss: 0.07270566447238837 - Other training metrics: \n",
      "{'accuracy_score': 0.9657738095238095, 'f1_score': 0.9285631750932478}\n",
      " \n",
      " Validation loss : 0.26995899534917306 - Other validation metrics:\n",
      "{'accuracy_score': 0.8690476190476191, 'f1_score': 0.7415384615384616}\n",
      "\n",
      "\n",
      "Validation accuracy= 0.8690476190476191===> No saving\n"
     ]
    },
    {
     "name": "stderr",
     "output_type": "stream",
     "text": [
      " 45%|████▌     | 9/20 [02:33<03:04, 16.78s/it]"
     ]
    },
    {
     "name": "stdout",
     "output_type": "stream",
     "text": [
      "Epoch 9 / 20 \n",
      " Training loss: 0.07114516633252303 - Other training metrics: \n",
      "{'accuracy_score': 0.96875, 'f1_score': 0.9375461920082846}\n",
      " \n",
      " Validation loss : 0.2651310295332223 - Other validation metrics:\n",
      "{'accuracy_score': 0.8690476190476191, 'f1_score': 0.7415384615384616}\n",
      "\n",
      "\n",
      "Validation accuracy= 0.8690476190476191===> No saving\n"
     ]
    },
    {
     "name": "stderr",
     "output_type": "stream",
     "text": [
      " 50%|█████     | 10/20 [02:50<02:47, 16.72s/it]"
     ]
    },
    {
     "name": "stdout",
     "output_type": "stream",
     "text": [
      "Epoch 10 / 20 \n",
      " Training loss: 0.0595338356548122 - Other training metrics: \n",
      "{'accuracy_score': 0.9806547619047619, 'f1_score': 0.9606739802739677}\n",
      " \n",
      " Validation loss : 0.26408137049570324 - Other validation metrics:\n",
      "{'accuracy_score': 0.875, 'f1_score': 0.7572755417956657}\n",
      "\n",
      "\n",
      "Validation accuracy= 0.875===> No saving\n"
     ]
    },
    {
     "name": "stderr",
     "output_type": "stream",
     "text": [
      " 55%|█████▌    | 11/20 [03:06<02:30, 16.68s/it]"
     ]
    },
    {
     "name": "stdout",
     "output_type": "stream",
     "text": [
      "Epoch 11 / 20 \n",
      " Training loss: 0.05293155146674031 - Other training metrics: \n",
      "{'accuracy_score': 0.9747023809523809, 'f1_score': 0.9490125192475063}\n",
      " \n",
      " Validation loss : 0.2598368712213068 - Other validation metrics:\n",
      "{'accuracy_score': 0.8690476190476191, 'f1_score': 0.7415384615384616}\n",
      "\n",
      "\n",
      "Validation accuracy= 0.8690476190476191===> No saving\n"
     ]
    },
    {
     "name": "stderr",
     "output_type": "stream",
     "text": [
      " 60%|██████    | 12/20 [03:23<02:13, 16.66s/it]"
     ]
    },
    {
     "name": "stdout",
     "output_type": "stream",
     "text": [
      "Epoch 12 / 20 \n",
      " Training loss: 0.04366073087744769 - Other training metrics: \n",
      "{'accuracy_score': 0.9925595238095238, 'f1_score': 0.9852537798161111}\n",
      " \n",
      " Validation loss : 0.24968230214324735 - Other validation metrics:\n",
      "{'accuracy_score': 0.8630952380952381, 'f1_score': 0.7341589267285862}\n",
      "\n",
      "\n",
      "Validation accuracy= 0.8630952380952381===> No saving\n"
     ]
    },
    {
     "name": "stderr",
     "output_type": "stream",
     "text": [
      " 65%|██████▌   | 13/20 [03:40<01:56, 16.69s/it]"
     ]
    },
    {
     "name": "stdout",
     "output_type": "stream",
     "text": [
      "Epoch 13 / 20 \n",
      " Training loss: 0.05162079523627957 - Other training metrics: \n",
      "{'accuracy_score': 0.9791666666666666, 'f1_score': 0.9581881533101045}\n",
      " \n",
      " Validation loss : 0.2373816828864316 - Other validation metrics:\n",
      "{'accuracy_score': 0.8571428571428571, 'f1_score': 0.6977511244377812}\n",
      "\n",
      "\n",
      "Validation accuracy= 0.8571428571428571===> No saving\n"
     ]
    },
    {
     "name": "stderr",
     "output_type": "stream",
     "text": [
      " 70%|███████   | 14/20 [03:56<01:40, 16.73s/it]"
     ]
    },
    {
     "name": "stdout",
     "output_type": "stream",
     "text": [
      "Epoch 14 / 20 \n",
      " Training loss: 0.03647518036000076 - Other training metrics: \n",
      "{'accuracy_score': 0.9895833333333334, 'f1_score': 0.9793552917425556}\n",
      " \n",
      " Validation loss : 0.23657039896629395 - Other validation metrics:\n",
      "{'accuracy_score': 0.8869047619047619, 'f1_score': 0.7650003681071929}\n",
      "\n",
      "\n"
     ]
    },
    {
     "name": "stderr",
     "output_type": "stream",
     "text": [
      " 75%|███████▌  | 15/20 [04:13<01:23, 16.78s/it]"
     ]
    },
    {
     "name": "stdout",
     "output_type": "stream",
     "text": [
      "Epoch 15 / 20 \n",
      " Training loss: 0.040010227112188226 - Other training metrics: \n",
      "{'accuracy_score': 0.9851190476190477, 'f1_score': 0.9701343952215031}\n",
      " \n",
      " Validation loss : 0.2259907068219036 - Other validation metrics:\n",
      "{'accuracy_score': 0.8809523809523809, 'f1_score': 0.7569444444444444}\n",
      "\n",
      "\n",
      "Validation accuracy= 0.8809523809523809===> No saving\n"
     ]
    },
    {
     "name": "stderr",
     "output_type": "stream",
     "text": [
      " 80%|████████  | 16/20 [04:30<01:06, 16.75s/it]"
     ]
    },
    {
     "name": "stdout",
     "output_type": "stream",
     "text": [
      "Epoch 16 / 20 \n",
      " Training loss: 0.039454117561468764 - Other training metrics: \n",
      "{'accuracy_score': 0.9836309523809523, 'f1_score': 0.9672861005757682}\n",
      " \n",
      " Validation loss : 0.2409663473233758 - Other validation metrics:\n",
      "{'accuracy_score': 0.8630952380952381, 'f1_score': 0.7341589267285862}\n",
      "\n",
      "\n"
     ]
    },
    {
     "name": "stderr",
     "output_type": "stream",
     "text": [
      " 85%|████████▌ | 17/20 [04:47<00:50, 16.96s/it]"
     ]
    },
    {
     "name": "stdout",
     "output_type": "stream",
     "text": [
      "Epoch 17 / 20 \n",
      " Training loss: 0.028332256689845098 - Other training metrics: \n",
      "{'accuracy_score': 0.9880952380952381, 'f1_score': 0.9761075161772026}\n",
      " \n",
      " Validation loss : 0.21128957366038645 - Other validation metrics:\n",
      "{'accuracy_score': 0.8869047619047619, 'f1_score': 0.7562428407789232}\n",
      "\n",
      "\n"
     ]
    },
    {
     "name": "stderr",
     "output_type": "stream",
     "text": [
      " 90%|█████████ | 18/20 [05:04<00:33, 16.86s/it]"
     ]
    },
    {
     "name": "stdout",
     "output_type": "stream",
     "text": [
      "Epoch 18 / 20 \n",
      " Training loss: 0.04430315745550962 - Other training metrics: \n",
      "{'accuracy_score': 0.9806547619047619, 'f1_score': 0.9619749023909325}\n",
      " \n",
      " Validation loss : 0.22330758517741092 - Other validation metrics:\n",
      "{'accuracy_score': 0.875, 'f1_score': 0.7491289198606272}\n",
      "\n",
      "\n",
      "Validation accuracy= 0.875===> No saving\n"
     ]
    },
    {
     "name": "stderr",
     "output_type": "stream",
     "text": [
      " 95%|█████████▌| 19/20 [05:22<00:17, 17.05s/it]"
     ]
    },
    {
     "name": "stdout",
     "output_type": "stream",
     "text": [
      "Epoch 19 / 20 \n",
      " Training loss: 0.03379643883644825 - Other training metrics: \n",
      "{'accuracy_score': 0.9880952380952381, 'f1_score': 0.9761075161772026}\n",
      " \n",
      " Validation loss : 0.25099524244710447 - Other validation metrics:\n",
      "{'accuracy_score': 0.8690476190476191, 'f1_score': 0.7415384615384616}\n",
      "\n",
      "\n"
     ]
    },
    {
     "name": "stderr",
     "output_type": "stream",
     "text": [
      "100%|██████████| 20/20 [05:38<00:00, 16.94s/it]"
     ]
    },
    {
     "name": "stdout",
     "output_type": "stream",
     "text": [
      "Epoch 20 / 20 \n",
      " Training loss: 0.031761579415095706 - Other training metrics: \n",
      "{'accuracy_score': 0.9880952380952381, 'f1_score': 0.9763075784018191}\n",
      " \n",
      " Validation loss : 0.2261159933349561 - Other validation metrics:\n",
      "{'accuracy_score': 0.8809523809523809, 'f1_score': 0.7481259370314843}\n",
      "\n",
      "\n"
     ]
    },
    {
     "name": "stderr",
     "output_type": "stream",
     "text": [
      "\n"
     ]
    }
   ],
   "source": [
    "for param in model.parameters():\n",
    "    param.requires_grad = True\n",
    "optimizer = torch.optim.Adam(model.parameters(), lr=0.0001, betas=(0.9, 0.999), eps=1e-08, weight_decay=0)\n",
    "\n",
    "model = model.to(device)\n",
    "num_epoch = 20\n",
    "best_val_acc = 0.0\n",
    "import logging\n",
    "import numpy as np\n",
    "print(\"begin training process\")\n",
    "for i in tqdm(range(0, num_epoch)):\n",
    "    loss, val_loss, train_result, val_result = train_one_epoch(\n",
    "        model,\n",
    "        train_loader,\n",
    "        val_loader,\n",
    "        device,\n",
    "        optimizer,\n",
    "        criterion,\n",
    "        train_metrics,\n",
    "        val_metrics,\n",
    "    )\n",
    "\n",
    "    scheduler.step(val_loss)\n",
    "    print(\n",
    "        \"Epoch {} / {} \\n Training loss: {} - Other training metrics: \".format(\n",
    "            i + 1, num_epoch, loss\n",
    "        )\n",
    "    )\n",
    "    print(train_result)\n",
    "    print(\n",
    "        \" \\n Validation loss : {} - Other validation metrics:\".format(val_loss)\n",
    "    )\n",
    "    print(val_result)\n",
    "    print(\"\\n\")\n",
    "    # saving epoch with best validation accuracy\n",
    "    if (loss<0.04):\n",
    "        # no saving\n",
    "        continue\n",
    "    if best_val_acc < float(val_result[\"accuracy_score\"]):\n",
    "        print(\n",
    "            \"Validation accuracy= \"+\n",
    "            str(val_result[\"accuracy_score\"])+\n",
    "            \"===> Save best epoch\"\n",
    "        )\n",
    "        best_val_acc = val_result[\"accuracy_score\"]\n",
    "        torch.save(\n",
    "            model,\n",
    "            \"./\" +  \"best.pt\"\n",
    "        )\n",
    "    else:\n",
    "        print(\n",
    "            \"Validation accuracy= \"+ str(val_result[\"accuracy_score\"])+ \"===> No saving\"\n",
    "        )\n",
    "        continue"
   ]
  },
  {
   "cell_type": "code",
   "execution_count": 35,
   "id": "1f20d246",
   "metadata": {
    "execution": {
     "iopub.execute_input": "2023-10-03T14:44:41.276004Z",
     "iopub.status.busy": "2023-10-03T14:44:41.275656Z",
     "iopub.status.idle": "2023-10-03T14:44:50.590337Z",
     "shell.execute_reply": "2023-10-03T14:44:50.588989Z"
    },
    "papermill": {
     "duration": 9.333176,
     "end_time": "2023-10-03T14:44:50.593185",
     "exception": false,
     "start_time": "2023-10-03T14:44:41.260009",
     "status": "completed"
    },
    "tags": []
   },
   "outputs": [
    {
     "name": "stdout",
     "output_type": "stream",
     "text": [
      "Collecting lion-pytorch\r\n",
      "  Downloading lion_pytorch-0.1.2-py3-none-any.whl (4.4 kB)\r\n",
      "Requirement already satisfied: torch>=1.6 in /opt/conda/lib/python3.10/site-packages (from lion-pytorch) (2.0.0)\r\n",
      "Requirement already satisfied: filelock in /opt/conda/lib/python3.10/site-packages (from torch>=1.6->lion-pytorch) (3.12.2)\r\n",
      "Requirement already satisfied: typing-extensions in /opt/conda/lib/python3.10/site-packages (from torch>=1.6->lion-pytorch) (4.6.3)\r\n",
      "Requirement already satisfied: sympy in /opt/conda/lib/python3.10/site-packages (from torch>=1.6->lion-pytorch) (1.12)\r\n",
      "Requirement already satisfied: networkx in /opt/conda/lib/python3.10/site-packages (from torch>=1.6->lion-pytorch) (3.1)\r\n",
      "Requirement already satisfied: jinja2 in /opt/conda/lib/python3.10/site-packages (from torch>=1.6->lion-pytorch) (3.1.2)\r\n",
      "Requirement already satisfied: MarkupSafe>=2.0 in /opt/conda/lib/python3.10/site-packages (from jinja2->torch>=1.6->lion-pytorch) (2.1.3)\r\n",
      "Requirement already satisfied: mpmath>=0.19 in /opt/conda/lib/python3.10/site-packages (from sympy->torch>=1.6->lion-pytorch) (1.3.0)\r\n",
      "Installing collected packages: lion-pytorch\r\n",
      "Successfully installed lion-pytorch-0.1.2\r\n"
     ]
    }
   ],
   "source": [
    "!pip install lion-pytorch\n",
    "from lion_pytorch import Lion\n",
    "optimizer = Lion(model.parameters(), lr=1e-4, weight_decay=1e-2)\n"
   ]
  },
  {
   "cell_type": "code",
   "execution_count": 36,
   "id": "1d855482",
   "metadata": {
    "execution": {
     "iopub.execute_input": "2023-10-03T14:44:50.626473Z",
     "iopub.status.busy": "2023-10-03T14:44:50.625440Z",
     "iopub.status.idle": "2023-10-03T14:44:50.865159Z",
     "shell.execute_reply": "2023-10-03T14:44:50.864034Z"
    },
    "papermill": {
     "duration": 0.258396,
     "end_time": "2023-10-03T14:44:50.867422",
     "exception": false,
     "start_time": "2023-10-03T14:44:50.609026",
     "status": "completed"
    },
    "tags": []
   },
   "outputs": [],
   "source": [
    "import copy\n",
    "test_model = torch.load(\"/kaggle/working/best.pt\")\n",
    "test_model = test_model.to(device)"
   ]
  },
  {
   "cell_type": "code",
   "execution_count": 37,
   "id": "58f7fd6c",
   "metadata": {
    "execution": {
     "iopub.execute_input": "2023-10-03T14:44:50.901968Z",
     "iopub.status.busy": "2023-10-03T14:44:50.901610Z",
     "iopub.status.idle": "2023-10-03T14:44:50.908289Z",
     "shell.execute_reply": "2023-10-03T14:44:50.907182Z"
    },
    "papermill": {
     "duration": 0.026235,
     "end_time": "2023-10-03T14:44:50.910247",
     "exception": false,
     "start_time": "2023-10-03T14:44:50.884012",
     "status": "completed"
    },
    "tags": []
   },
   "outputs": [],
   "source": [
    "def test_result(model, test_loader, device,name='no_tta_prob.npy'):\n",
    "    # testing the model by turning model \"Eval\" mode\n",
    "    model.eval()\n",
    "    preds = []\n",
    "    aprobs = []\n",
    "    with torch.no_grad():\n",
    "        for data in test_loader:\n",
    "            # move-tensors-to-GPU\n",
    "            data = data.to(device)\n",
    "            # forward-pass: compute-predicted-outputs-by-passing-inputs-to-the-model\n",
    "            output = model(data)\n",
    "            prob = nn.Softmax(dim=1)\n",
    "            # applying Softmax to results\n",
    "            probs = prob(output)\n",
    "            aprobs.append(probs.cpu())\n",
    "            \n",
    "            preds.extend(torch.argmax(probs, axis=1).tolist())\n",
    "    aprobs = np.array(aprobs)\n",
    "    np.save(name,aprobs)\n",
    "    return preds"
   ]
  },
  {
   "cell_type": "code",
   "execution_count": 38,
   "id": "e83a68bd",
   "metadata": {
    "execution": {
     "iopub.execute_input": "2023-10-03T14:44:50.944802Z",
     "iopub.status.busy": "2023-10-03T14:44:50.943902Z",
     "iopub.status.idle": "2023-10-03T14:44:55.961546Z",
     "shell.execute_reply": "2023-10-03T14:44:55.960604Z"
    },
    "papermill": {
     "duration": 5.037205,
     "end_time": "2023-10-03T14:44:55.963829",
     "exception": false,
     "start_time": "2023-10-03T14:44:50.926624",
     "status": "completed"
    },
    "tags": []
   },
   "outputs": [
    {
     "name": "stderr",
     "output_type": "stream",
     "text": [
      "/tmp/ipykernel_23/1276390006.py:18: FutureWarning: The input object of type 'Tensor' is an array-like implementing one of the corresponding protocols (`__array__`, `__array_interface__` or `__array_struct__`); but not a sequence (or 0-D). In the future, this object will be coerced as if it was first converted using `np.array(obj)`. To retain the old behaviour, you have to either modify the type 'Tensor', or assign to an empty array created with `np.empty(correct_shape, dtype=object)`.\n",
      "  aprobs = np.array(aprobs)\n",
      "/tmp/ipykernel_23/1276390006.py:18: VisibleDeprecationWarning: Creating an ndarray from ragged nested sequences (which is a list-or-tuple of lists-or-tuples-or ndarrays with different lengths or shapes) is deprecated. If you meant to do this, you must specify 'dtype=object' when creating the ndarray.\n",
      "  aprobs = np.array(aprobs)\n"
     ]
    }
   ],
   "source": [
    "preds =test_result(test_model, test_loader, device)\n"
   ]
  },
  {
   "cell_type": "code",
   "execution_count": 39,
   "id": "6b2c7edd",
   "metadata": {
    "execution": {
     "iopub.execute_input": "2023-10-03T14:44:55.996224Z",
     "iopub.status.busy": "2023-10-03T14:44:55.995868Z",
     "iopub.status.idle": "2023-10-03T14:44:56.008249Z",
     "shell.execute_reply": "2023-10-03T14:44:56.007144Z"
    },
    "papermill": {
     "duration": 0.030998,
     "end_time": "2023-10-03T14:44:56.010349",
     "exception": false,
     "start_time": "2023-10-03T14:44:55.979351",
     "status": "completed"
    },
    "tags": []
   },
   "outputs": [
    {
     "data": {
      "text/html": [
       "<div>\n",
       "<style scoped>\n",
       "    .dataframe tbody tr th:only-of-type {\n",
       "        vertical-align: middle;\n",
       "    }\n",
       "\n",
       "    .dataframe tbody tr th {\n",
       "        vertical-align: top;\n",
       "    }\n",
       "\n",
       "    .dataframe thead th {\n",
       "        text-align: right;\n",
       "    }\n",
       "</style>\n",
       "<table border=\"1\" class=\"dataframe\">\n",
       "  <thead>\n",
       "    <tr style=\"text-align: right;\">\n",
       "      <th></th>\n",
       "      <th>ID</th>\n",
       "      <th>Image</th>\n",
       "    </tr>\n",
       "  </thead>\n",
       "  <tbody>\n",
       "    <tr>\n",
       "      <th>0</th>\n",
       "      <td>1</td>\n",
       "      <td>D3_693.jpg</td>\n",
       "    </tr>\n",
       "    <tr>\n",
       "      <th>1</th>\n",
       "      <td>2</td>\n",
       "      <td>D3_212.jpg</td>\n",
       "    </tr>\n",
       "    <tr>\n",
       "      <th>2</th>\n",
       "      <td>3</td>\n",
       "      <td>D3_724.jpg</td>\n",
       "    </tr>\n",
       "    <tr>\n",
       "      <th>3</th>\n",
       "      <td>4</td>\n",
       "      <td>D3_623.jpg</td>\n",
       "    </tr>\n",
       "    <tr>\n",
       "      <th>4</th>\n",
       "      <td>5</td>\n",
       "      <td>D3_210.jpg</td>\n",
       "    </tr>\n",
       "    <tr>\n",
       "      <th>...</th>\n",
       "      <td>...</td>\n",
       "      <td>...</td>\n",
       "    </tr>\n",
       "    <tr>\n",
       "      <th>175</th>\n",
       "      <td>176</td>\n",
       "      <td>D5_020.jpg</td>\n",
       "    </tr>\n",
       "    <tr>\n",
       "      <th>176</th>\n",
       "      <td>177</td>\n",
       "      <td>D5_133.jpg</td>\n",
       "    </tr>\n",
       "    <tr>\n",
       "      <th>177</th>\n",
       "      <td>178</td>\n",
       "      <td>D5_119.jpg</td>\n",
       "    </tr>\n",
       "    <tr>\n",
       "      <th>178</th>\n",
       "      <td>179</td>\n",
       "      <td>D5_322.jpg</td>\n",
       "    </tr>\n",
       "    <tr>\n",
       "      <th>179</th>\n",
       "      <td>180</td>\n",
       "      <td>D5_017.jpg</td>\n",
       "    </tr>\n",
       "  </tbody>\n",
       "</table>\n",
       "<p>180 rows × 2 columns</p>\n",
       "</div>"
      ],
      "text/plain": [
       "      ID       Image\n",
       "0      1  D3_693.jpg\n",
       "1      2  D3_212.jpg\n",
       "2      3  D3_724.jpg\n",
       "3      4  D3_623.jpg\n",
       "4      5  D3_210.jpg\n",
       "..   ...         ...\n",
       "175  176  D5_020.jpg\n",
       "176  177  D5_133.jpg\n",
       "177  178  D5_119.jpg\n",
       "178  179  D5_322.jpg\n",
       "179  180  D5_017.jpg\n",
       "\n",
       "[180 rows x 2 columns]"
      ]
     },
     "execution_count": 39,
     "metadata": {},
     "output_type": "execute_result"
    }
   ],
   "source": [
    "test"
   ]
  },
  {
   "cell_type": "code",
   "execution_count": 40,
   "id": "93a11e15",
   "metadata": {
    "execution": {
     "iopub.execute_input": "2023-10-03T14:44:56.045212Z",
     "iopub.status.busy": "2023-10-03T14:44:56.044553Z",
     "iopub.status.idle": "2023-10-03T14:44:56.057359Z",
     "shell.execute_reply": "2023-10-03T14:44:56.056482Z"
    },
    "papermill": {
     "duration": 0.031694,
     "end_time": "2023-10-03T14:44:56.059279",
     "exception": false,
     "start_time": "2023-10-03T14:44:56.027585",
     "status": "completed"
    },
    "tags": []
   },
   "outputs": [],
   "source": [
    "submission = pd.read_csv(\"/kaggle/input/world-championship-2023-embryo-classification/hvwc23/sample_submission.csv\")"
   ]
  },
  {
   "cell_type": "code",
   "execution_count": 41,
   "id": "ea8b4f32",
   "metadata": {
    "execution": {
     "iopub.execute_input": "2023-10-03T14:44:56.092886Z",
     "iopub.status.busy": "2023-10-03T14:44:56.092054Z",
     "iopub.status.idle": "2023-10-03T14:44:56.097516Z",
     "shell.execute_reply": "2023-10-03T14:44:56.096639Z"
    },
    "papermill": {
     "duration": 0.024246,
     "end_time": "2023-10-03T14:44:56.099259",
     "exception": false,
     "start_time": "2023-10-03T14:44:56.075013",
     "status": "completed"
    },
    "tags": []
   },
   "outputs": [],
   "source": [
    "submission['Class'] = preds"
   ]
  },
  {
   "cell_type": "code",
   "execution_count": 42,
   "id": "281e3924",
   "metadata": {
    "execution": {
     "iopub.execute_input": "2023-10-03T14:44:56.131326Z",
     "iopub.status.busy": "2023-10-03T14:44:56.131025Z",
     "iopub.status.idle": "2023-10-03T14:44:56.138571Z",
     "shell.execute_reply": "2023-10-03T14:44:56.137466Z"
    },
    "papermill": {
     "duration": 0.02612,
     "end_time": "2023-10-03T14:44:56.140479",
     "exception": false,
     "start_time": "2023-10-03T14:44:56.114359",
     "status": "completed"
    },
    "tags": []
   },
   "outputs": [],
   "source": [
    "submission.to_csv(\"submission_new.csv\",index=None)"
   ]
  },
  {
   "cell_type": "code",
   "execution_count": 43,
   "id": "77028bcf",
   "metadata": {
    "execution": {
     "iopub.execute_input": "2023-10-03T14:44:56.173344Z",
     "iopub.status.busy": "2023-10-03T14:44:56.172506Z",
     "iopub.status.idle": "2023-10-03T14:44:56.183296Z",
     "shell.execute_reply": "2023-10-03T14:44:56.182167Z"
    },
    "papermill": {
     "duration": 0.029147,
     "end_time": "2023-10-03T14:44:56.185456",
     "exception": false,
     "start_time": "2023-10-03T14:44:56.156309",
     "status": "completed"
    },
    "tags": []
   },
   "outputs": [
    {
     "data": {
      "text/html": [
       "<div>\n",
       "<style scoped>\n",
       "    .dataframe tbody tr th:only-of-type {\n",
       "        vertical-align: middle;\n",
       "    }\n",
       "\n",
       "    .dataframe tbody tr th {\n",
       "        vertical-align: top;\n",
       "    }\n",
       "\n",
       "    .dataframe thead th {\n",
       "        text-align: right;\n",
       "    }\n",
       "</style>\n",
       "<table border=\"1\" class=\"dataframe\">\n",
       "  <thead>\n",
       "    <tr style=\"text-align: right;\">\n",
       "      <th></th>\n",
       "      <th>ID</th>\n",
       "      <th>Class</th>\n",
       "    </tr>\n",
       "  </thead>\n",
       "  <tbody>\n",
       "    <tr>\n",
       "      <th>0</th>\n",
       "      <td>1</td>\n",
       "      <td>0</td>\n",
       "    </tr>\n",
       "    <tr>\n",
       "      <th>1</th>\n",
       "      <td>2</td>\n",
       "      <td>0</td>\n",
       "    </tr>\n",
       "    <tr>\n",
       "      <th>2</th>\n",
       "      <td>3</td>\n",
       "      <td>0</td>\n",
       "    </tr>\n",
       "    <tr>\n",
       "      <th>3</th>\n",
       "      <td>4</td>\n",
       "      <td>0</td>\n",
       "    </tr>\n",
       "    <tr>\n",
       "      <th>4</th>\n",
       "      <td>5</td>\n",
       "      <td>0</td>\n",
       "    </tr>\n",
       "    <tr>\n",
       "      <th>...</th>\n",
       "      <td>...</td>\n",
       "      <td>...</td>\n",
       "    </tr>\n",
       "    <tr>\n",
       "      <th>175</th>\n",
       "      <td>176</td>\n",
       "      <td>1</td>\n",
       "    </tr>\n",
       "    <tr>\n",
       "      <th>176</th>\n",
       "      <td>177</td>\n",
       "      <td>0</td>\n",
       "    </tr>\n",
       "    <tr>\n",
       "      <th>177</th>\n",
       "      <td>178</td>\n",
       "      <td>1</td>\n",
       "    </tr>\n",
       "    <tr>\n",
       "      <th>178</th>\n",
       "      <td>179</td>\n",
       "      <td>0</td>\n",
       "    </tr>\n",
       "    <tr>\n",
       "      <th>179</th>\n",
       "      <td>180</td>\n",
       "      <td>1</td>\n",
       "    </tr>\n",
       "  </tbody>\n",
       "</table>\n",
       "<p>180 rows × 2 columns</p>\n",
       "</div>"
      ],
      "text/plain": [
       "      ID  Class\n",
       "0      1      0\n",
       "1      2      0\n",
       "2      3      0\n",
       "3      4      0\n",
       "4      5      0\n",
       "..   ...    ...\n",
       "175  176      1\n",
       "176  177      0\n",
       "177  178      1\n",
       "178  179      0\n",
       "179  180      1\n",
       "\n",
       "[180 rows x 2 columns]"
      ]
     },
     "execution_count": 43,
     "metadata": {},
     "output_type": "execute_result"
    }
   ],
   "source": [
    "submission"
   ]
  },
  {
   "cell_type": "code",
   "execution_count": 44,
   "id": "5749293f",
   "metadata": {
    "execution": {
     "iopub.execute_input": "2023-10-03T14:44:56.221923Z",
     "iopub.status.busy": "2023-10-03T14:44:56.220966Z",
     "iopub.status.idle": "2023-10-03T14:45:05.712757Z",
     "shell.execute_reply": "2023-10-03T14:45:05.711524Z"
    },
    "papermill": {
     "duration": 9.512428,
     "end_time": "2023-10-03T14:45:05.715715",
     "exception": false,
     "start_time": "2023-10-03T14:44:56.203287",
     "status": "completed"
    },
    "tags": []
   },
   "outputs": [
    {
     "name": "stdout",
     "output_type": "stream",
     "text": [
      "Collecting ttach\r\n",
      "  Downloading ttach-0.0.3-py3-none-any.whl (9.8 kB)\r\n",
      "Installing collected packages: ttach\r\n",
      "Successfully installed ttach-0.0.3\r\n"
     ]
    }
   ],
   "source": [
    "!pip install ttach\n",
    "import ttach as tta\n",
    "test_model = torch.load(\"/kaggle/working/best.pt\")"
   ]
  },
  {
   "cell_type": "code",
   "execution_count": 45,
   "id": "4fae7226",
   "metadata": {
    "execution": {
     "iopub.execute_input": "2023-10-03T14:45:05.751219Z",
     "iopub.status.busy": "2023-10-03T14:45:05.750804Z",
     "iopub.status.idle": "2023-10-03T14:45:05.756122Z",
     "shell.execute_reply": "2023-10-03T14:45:05.755012Z"
    },
    "papermill": {
     "duration": 0.02531,
     "end_time": "2023-10-03T14:45:05.757982",
     "exception": false,
     "start_time": "2023-10-03T14:45:05.732672",
     "status": "completed"
    },
    "tags": []
   },
   "outputs": [],
   "source": [
    "transforms = tta.Compose(\n",
    "    [\n",
    "        tta.HorizontalFlip(),\n",
    "        tta.Rotate90(angles=[0, 180]),\n",
    "        tta.Multiply(factors=[0.9, 1, 1.1]),        \n",
    "    ]\n",
    ")\n",
    "\n",
    "tta_model = tta.ClassificationTTAWrapper(test_model, transforms)"
   ]
  },
  {
   "cell_type": "code",
   "execution_count": 46,
   "id": "6258192c",
   "metadata": {
    "execution": {
     "iopub.execute_input": "2023-10-03T14:45:05.792870Z",
     "iopub.status.busy": "2023-10-03T14:45:05.792306Z",
     "iopub.status.idle": "2023-10-03T14:45:05.798264Z",
     "shell.execute_reply": "2023-10-03T14:45:05.797337Z"
    },
    "papermill": {
     "duration": 0.025772,
     "end_time": "2023-10-03T14:45:05.800401",
     "exception": false,
     "start_time": "2023-10-03T14:45:05.774629",
     "status": "completed"
    },
    "tags": []
   },
   "outputs": [
    {
     "name": "stdout",
     "output_type": "stream",
     "text": [
      "18\n"
     ]
    }
   ],
   "source": [
    "print(submission['Class'].sum())"
   ]
  },
  {
   "cell_type": "code",
   "execution_count": 47,
   "id": "a8385a00",
   "metadata": {
    "execution": {
     "iopub.execute_input": "2023-10-03T14:45:05.834234Z",
     "iopub.status.busy": "2023-10-03T14:45:05.833429Z",
     "iopub.status.idle": "2023-10-03T14:45:51.985850Z",
     "shell.execute_reply": "2023-10-03T14:45:51.984832Z"
    },
    "papermill": {
     "duration": 46.188854,
     "end_time": "2023-10-03T14:45:52.005720",
     "exception": false,
     "start_time": "2023-10-03T14:45:05.816866",
     "status": "completed"
    },
    "tags": []
   },
   "outputs": [
    {
     "name": "stdout",
     "output_type": "stream",
     "text": [
      "19\n"
     ]
    },
    {
     "name": "stderr",
     "output_type": "stream",
     "text": [
      "/tmp/ipykernel_23/1276390006.py:18: FutureWarning: The input object of type 'Tensor' is an array-like implementing one of the corresponding protocols (`__array__`, `__array_interface__` or `__array_struct__`); but not a sequence (or 0-D). In the future, this object will be coerced as if it was first converted using `np.array(obj)`. To retain the old behaviour, you have to either modify the type 'Tensor', or assign to an empty array created with `np.empty(correct_shape, dtype=object)`.\n",
      "  aprobs = np.array(aprobs)\n",
      "/tmp/ipykernel_23/1276390006.py:18: VisibleDeprecationWarning: Creating an ndarray from ragged nested sequences (which is a list-or-tuple of lists-or-tuples-or ndarrays with different lengths or shapes) is deprecated. If you meant to do this, you must specify 'dtype=object' when creating the ndarray.\n",
      "  aprobs = np.array(aprobs)\n"
     ]
    }
   ],
   "source": [
    "preds =test_result(tta_model, test_loader, device,name='tta_prob.npy')\n",
    "submission['Class'] = preds\n",
    "submission.to_csv(\"submission_tta.csv\",index=None)\n",
    "print(submission['Class'].sum())"
   ]
  }
 ],
 "metadata": {
  "kernelspec": {
   "display_name": "Python 3",
   "language": "python",
   "name": "python3"
  },
  "language_info": {
   "codemirror_mode": {
    "name": "ipython",
    "version": 3
   },
   "file_extension": ".py",
   "mimetype": "text/x-python",
   "name": "python",
   "nbconvert_exporter": "python",
   "pygments_lexer": "ipython3",
   "version": "3.10.12"
  },
  "papermill": {
   "default_parameters": {},
   "duration": 453.770195,
   "end_time": "2023-10-03T14:45:54.773805",
   "environment_variables": {},
   "exception": null,
   "input_path": "__notebook__.ipynb",
   "output_path": "__notebook__.ipynb",
   "parameters": {},
   "start_time": "2023-10-03T14:38:21.003610",
   "version": "2.4.0"
  }
 },
 "nbformat": 4,
 "nbformat_minor": 5
}
