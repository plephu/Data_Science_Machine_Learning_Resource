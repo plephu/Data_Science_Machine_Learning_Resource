{
 "cells": [
  {
   "cell_type": "markdown",
   "metadata": {
    "editable": true,
    "slideshow": {
     "slide_type": ""
    },
    "tags": []
   },
   "source": [
    "# Giới thiệu\n",
    "### Bài toán: Dùng CNN để phân loại ảnh chó mèo\n",
    "### Yêu cầu:\n",
    "#### 1. Về cấu trúc model: phát triển 1 mô hình CNN phù hợp, sử dụng MaxPooling, Convolution layers, Dense layers, ReLU \n",
    "#### 2. chia train/val/test theo tỉ lệ 56/14/30\n",
    "#### 3. Áp dụng các kỹ thuật Augmentation, Adam Optimizer và LR Scheduler\n",
    "#### 4. Kiểm tra kết quả trên tập train/val/test bằng accuracy và F1\n",
    "\n"
   ]
  },
  {
   "cell_type": "code",
   "execution_count": 3,
   "metadata": {
    "scrolled": true
   },
   "outputs": [
    {
     "name": "stdout",
     "output_type": "stream",
     "text": [
      "Defaulting to user installation because normal site-packages is not writeable\n",
      "Requirement already satisfied: clearml in c:\\users\\aw\\appdata\\roaming\\python\\python39\\site-packages (1.13.1)\n",
      "Requirement already satisfied: requests>=2.20.0 in c:\\program files\\python39\\lib\\site-packages (from clearml) (2.31.0)\n",
      "Requirement already satisfied: python-dateutil>=2.6.1 in c:\\program files\\python39\\lib\\site-packages (from clearml) (2.8.2)\n",
      "Requirement already satisfied: numpy>=1.10 in c:\\program files\\python39\\lib\\site-packages (from clearml) (1.25.2)\n",
      "Requirement already satisfied: pathlib2>=2.3.0 in c:\\users\\aw\\appdata\\roaming\\python\\python39\\site-packages (from clearml) (2.3.7.post1)\n",
      "Requirement already satisfied: urllib3>=1.21.1 in c:\\program files\\python39\\lib\\site-packages (from clearml) (2.0.4)\n",
      "Requirement already satisfied: PyYAML>=3.12 in c:\\program files\\python39\\lib\\site-packages (from clearml) (6.0.1)\n",
      "Requirement already satisfied: Pillow>=4.1.1 in c:\\program files\\python39\\lib\\site-packages (from clearml) (10.0.0)\n",
      "Requirement already satisfied: psutil>=3.4.2 in c:\\program files\\python39\\lib\\site-packages (from clearml) (5.9.5)\n",
      "Requirement already satisfied: pyparsing>=2.0.3 in c:\\program files\\python39\\lib\\site-packages (from clearml) (3.0.9)\n",
      "Requirement already satisfied: attrs>=18.0 in c:\\program files\\python39\\lib\\site-packages (from clearml) (23.1.0)\n",
      "Requirement already satisfied: pyjwt<2.5.0,>=2.4.0 in c:\\users\\aw\\appdata\\roaming\\python\\python39\\site-packages (from clearml) (2.4.0)\n",
      "Requirement already satisfied: six>=1.13.0 in c:\\program files\\python39\\lib\\site-packages (from clearml) (1.16.0)\n",
      "Requirement already satisfied: furl>=2.0.0 in c:\\users\\aw\\appdata\\roaming\\python\\python39\\site-packages (from clearml) (2.1.3)\n",
      "Requirement already satisfied: jsonschema>=2.6.0 in c:\\program files\\python39\\lib\\site-packages (from clearml) (4.19.0)\n",
      "Requirement already satisfied: orderedmultidict>=1.0.1 in c:\\users\\aw\\appdata\\roaming\\python\\python39\\site-packages (from furl>=2.0.0->clearml) (1.0.1)\n",
      "Requirement already satisfied: jsonschema-specifications>=2023.03.6 in c:\\program files\\python39\\lib\\site-packages (from jsonschema>=2.6.0->clearml) (2023.7.1)\n",
      "Requirement already satisfied: rpds-py>=0.7.1 in c:\\program files\\python39\\lib\\site-packages (from jsonschema>=2.6.0->clearml) (0.9.2)\n",
      "Requirement already satisfied: referencing>=0.28.4 in c:\\program files\\python39\\lib\\site-packages (from jsonschema>=2.6.0->clearml) (0.30.2)\n",
      "Requirement already satisfied: certifi>=2017.4.17 in c:\\program files\\python39\\lib\\site-packages (from requests>=2.20.0->clearml) (2023.7.22)\n",
      "Requirement already satisfied: idna<4,>=2.5 in c:\\program files\\python39\\lib\\site-packages (from requests>=2.20.0->clearml) (3.4)\n",
      "Requirement already satisfied: charset-normalizer<4,>=2 in c:\\program files\\python39\\lib\\site-packages (from requests>=2.20.0->clearml) (3.2.0)\n"
     ]
    },
    {
     "name": "stderr",
     "output_type": "stream",
     "text": [
      "WARNING: You are using pip version 22.0.4; however, version 23.2.1 is available.\n",
      "You should consider upgrading via the 'C:\\Program Files\\Python39\\python.exe -m pip install --upgrade pip' command.\n"
     ]
    }
   ],
   "source": [
    "!pip install clearml\n"
   ]
  },
  {
   "cell_type": "code",
   "execution_count": 5,
   "metadata": {},
   "outputs": [
    {
     "ename": "ModuleNotFoundError",
     "evalue": "No module named 'clearml'",
     "output_type": "error",
     "traceback": [
      "\u001b[1;31m---------------------------------------------------------------------------\u001b[0m",
      "\u001b[1;31mModuleNotFoundError\u001b[0m                       Traceback (most recent call last)",
      "Cell \u001b[1;32mIn[5], line 1\u001b[0m\n\u001b[1;32m----> 1\u001b[0m \u001b[38;5;28;01mfrom\u001b[39;00m \u001b[38;5;21;01mclearml\u001b[39;00m \u001b[38;5;28;01mimport\u001b[39;00m Task\n",
      "\u001b[1;31mModuleNotFoundError\u001b[0m: No module named 'clearml'"
     ]
    }
   ],
   "source": [
    "from clearml import Task\n"
   ]
  },
  {
   "cell_type": "code",
   "execution_count": null,
   "metadata": {
    "execution": {
     "iopub.execute_input": "2023-09-29T04:38:09.79283Z",
     "iopub.status.busy": "2023-09-29T04:38:09.792043Z",
     "iopub.status.idle": "2023-09-29T04:38:09.901966Z",
     "shell.execute_reply": "2023-09-29T04:38:09.901002Z",
     "shell.execute_reply.started": "2023-09-29T04:38:09.792798Z"
    }
   },
   "outputs": [],
   "source": [
    "from tensorboardX import SummaryWriter"
   ]
  },
  {
   "cell_type": "code",
   "execution_count": null,
   "metadata": {
    "execution": {
     "iopub.execute_input": "2023-09-29T04:40:27.472263Z",
     "iopub.status.busy": "2023-09-29T04:40:27.471592Z",
     "iopub.status.idle": "2023-09-29T04:40:27.480099Z",
     "shell.execute_reply": "2023-09-29T04:40:27.479197Z",
     "shell.execute_reply.started": "2023-09-29T04:40:27.47223Z"
    }
   },
   "outputs": [],
   "source": [
    "%env CLEARML_WEB_HOST=https://app.clear.ml\n",
    "%env CLEARML_API_HOST=https://api.clear.ml\n",
    "%env CLEARML_FILES_HOST=https://files.clear.ml\n",
    "# kaggle\n",
    "%env CLEARML_API_ACCESS_KEY=0YZWWGF2QG4JX723MRO5\n",
    "%env CLEARML_API_SECRET_KEY=jLuecPIHXr2wVtvGHExy9eOnF5RnHXj4osTd6v3hHY5BR7o2Hb"
   ]
  },
  {
   "cell_type": "code",
   "execution_count": null,
   "metadata": {
    "execution": {
     "iopub.execute_input": "2023-09-29T04:40:29.916804Z",
     "iopub.status.busy": "2023-09-29T04:40:29.916304Z",
     "iopub.status.idle": "2023-09-29T04:40:43.111693Z",
     "shell.execute_reply": "2023-09-29T04:40:43.109996Z",
     "shell.execute_reply.started": "2023-09-29T04:40:29.916779Z"
    }
   },
   "outputs": [],
   "source": [
    "# init logger:\n",
    "task = Task.init(project_name='CatvsDog-CNN', task_name='PyTorch CatvsDog Simple CNN')\n",
    "writer = SummaryWriter('runs')"
   ]
  },
  {
   "cell_type": "markdown",
   "metadata": {},
   "source": [
    "## Flower Recognition Using Transfer Learning"
   ]
  },
  {
   "cell_type": "markdown",
   "metadata": {},
   "source": [
    "### 1. Let's first view the distribution of the data"
   ]
  },
  {
   "cell_type": "code",
   "execution_count": null,
   "metadata": {
    "execution": {
     "iopub.execute_input": "2023-09-29T04:45:05.912999Z",
     "iopub.status.busy": "2023-09-29T04:45:05.910733Z",
     "iopub.status.idle": "2023-09-29T04:45:06.732431Z",
     "shell.execute_reply": "2023-09-29T04:45:06.731454Z",
     "shell.execute_reply.started": "2023-09-29T04:45:05.912961Z"
    }
   },
   "outputs": [],
   "source": [
    "import os\n",
    "paths = []\n",
    "labels = []\n",
    "for animal in os.listdir(\"/kaggle/input/cat-and-dog/training_set/training_set\"):\n",
    "    path_data = os.listdir(os.path.join(\"/kaggle/input/cat-and-dog/training_set/training_set\",animal))\n",
    "    cur_path = os.path.join(\"/kaggle/input/cat-and-dog/training_set/training_set\",animal)\n",
    "    paths.extend([os.path.join(cur_path,img) for img in path_data])\n",
    "    labels.extend([animal]*len(path_data))"
   ]
  },
  {
   "cell_type": "code",
   "execution_count": null,
   "metadata": {
    "execution": {
     "iopub.execute_input": "2023-09-29T04:45:06.734886Z",
     "iopub.status.busy": "2023-09-29T04:45:06.734533Z",
     "iopub.status.idle": "2023-09-29T04:45:06.745561Z",
     "shell.execute_reply": "2023-09-29T04:45:06.744666Z",
     "shell.execute_reply.started": "2023-09-29T04:45:06.734855Z"
    }
   },
   "outputs": [],
   "source": [
    "import pandas as pd\n",
    "data = pd.DataFrame({\"path\":paths,\"label\":labels})"
   ]
  },
  {
   "cell_type": "code",
   "execution_count": null,
   "metadata": {
    "execution": {
     "iopub.execute_input": "2023-09-29T04:45:06.747897Z",
     "iopub.status.busy": "2023-09-29T04:45:06.747289Z",
     "iopub.status.idle": "2023-09-29T04:45:07.079678Z",
     "shell.execute_reply": "2023-09-29T04:45:07.078832Z",
     "shell.execute_reply.started": "2023-09-29T04:45:06.747865Z"
    }
   },
   "outputs": [],
   "source": [
    "data.label.hist()"
   ]
  },
  {
   "cell_type": "markdown",
   "metadata": {},
   "source": [
    "### Is the data imbalance?"
   ]
  },
  {
   "cell_type": "markdown",
   "metadata": {},
   "source": [
    "The data is not imbalanced!"
   ]
  },
  {
   "cell_type": "markdown",
   "metadata": {},
   "source": [
    "### 2. Data Loader and Custom Data Class"
   ]
  },
  {
   "cell_type": "markdown",
   "metadata": {},
   "source": [
    "## Trong Pytorch, có nhiều cách để tạo 1 dataset và dataloader. Tuy nhiên, cách linh hoạt nhất vẫn là tạo 1 custom dataset class\n",
    "## Một custom dataset class có cấu trúc như sau:\n",
    "### __init__(params) : Method dùng để khởi tạo dataset class với các cấu trúc cần thiết\n",
    "### __getitem__(idx): Method dùng để trả về 1 mẫu data (hình) + label có index là idx\n",
    "### __len__() : trả về số mẫu trong dataset"
   ]
  },
  {
   "cell_type": "code",
   "execution_count": null,
   "metadata": {
    "execution": {
     "iopub.execute_input": "2023-09-29T04:45:07.082955Z",
     "iopub.status.busy": "2023-09-29T04:45:07.082269Z",
     "iopub.status.idle": "2023-09-29T04:45:07.092321Z",
     "shell.execute_reply": "2023-09-29T04:45:07.091488Z",
     "shell.execute_reply.started": "2023-09-29T04:45:07.082921Z"
    }
   },
   "outputs": [],
   "source": [
    "from PIL import Image\n",
    "import os\n",
    "import torch\n",
    "from sklearn.model_selection import train_test_split\n",
    "\n",
    "# define a data class\n",
    "class ClassificationDataset:\n",
    "    def __init__(self, data, data_path, transform, training=True):\n",
    "        \"\"\"Define the dataset for classification problems\n",
    "\n",
    "        Args:\n",
    "            data ([dataframe]): [a dataframe that contain 2 columns: image name and label]\n",
    "            data_path ([str]): [path/to/folder that contains image file]\n",
    "            transform : [augmentation methods and transformation of images]\n",
    "            training (bool, optional): []. Defaults to True.\n",
    "        \"\"\"\n",
    "        self.data = data\n",
    "        self.imgs = data[\"path\"].unique().tolist()\n",
    "        self.data_path = data_path\n",
    "        self.training = training\n",
    "        self.transform = transform\n",
    "\n",
    "    def __getitem__(self, idx):\n",
    "        img = Image.open(os.path.join(self.data_path, self.data.iloc[idx, 0]))\n",
    "        label = self.data.iloc[idx, 1]\n",
    "        if self.transform is not None:\n",
    "            img = self.transform(img)\n",
    "        return img, label\n",
    "\n",
    "    def __len__(self):\n",
    "        return len(self.imgs)\n",
    "\n",
    "\n",
    "def make_loader(dataset, train_batch_size, validation_split=0.2):\n",
    "    \"\"\"make dataloader for pytorch training\n",
    "\n",
    "    Args:\n",
    "        dataset ([object]): [the dataset object]\n",
    "        train_batch_size ([int]): [training batch size]\n",
    "        validation_split (float, optional): [validation ratio]. Defaults to 0.2.\n",
    "\n",
    "    Returns:\n",
    "        [type]: [description]\n",
    "    \"\"\"\n",
    "    # number of samples in train and test set\n",
    "    train_len = int(len(dataset) * (1 - validation_split))\n",
    "    test_len = len(dataset) - train_len\n",
    "    train_set, test_set = torch.utils.data.random_split(dataset, [train_len, test_len])\n",
    "    # create train_loader\n",
    "    train_loader = torch.utils.data.DataLoader(\n",
    "        train_set, batch_size=train_batch_size, shuffle=True,\n",
    "    )\n",
    "    # create test_loader\n",
    "    test_loader = torch.utils.data.DataLoader(test_set, batch_size=1, shuffle=False,)\n",
    "    return train_loader, test_loader\n",
    "\n",
    "\n",
    "def data_split(data, test_size):\n",
    "    x_train, x_test, y_train, y_test = train_test_split(\n",
    "        data, data[\"label\"], test_size=test_size, stratify = data.iloc[:,1]\n",
    "    )\n",
    "    return x_train, x_test, y_train, y_test"
   ]
  },
  {
   "cell_type": "markdown",
   "metadata": {},
   "source": [
    "### Define Data Augmentation Strategy"
   ]
  },
  {
   "cell_type": "code",
   "execution_count": null,
   "metadata": {
    "execution": {
     "iopub.execute_input": "2023-09-29T04:45:07.094305Z",
     "iopub.status.busy": "2023-09-29T04:45:07.093562Z",
     "iopub.status.idle": "2023-09-29T04:45:07.795569Z",
     "shell.execute_reply": "2023-09-29T04:45:07.794656Z",
     "shell.execute_reply.started": "2023-09-29T04:45:07.094275Z"
    }
   },
   "outputs": [],
   "source": [
    "import torchvision.transforms as transform\n",
    "import torchvision\n",
    "transformer = transform.Compose([\n",
    "                           transform.Resize((224, 224)),\n",
    "                           transform.RandomRotation(5),\n",
    "                        transform.RandomHorizontalFlip(),\n",
    "                           transform.RandomAffine(degrees=11, translate=(0.1,0.1), scale=(0.8,0.8)),\n",
    "                           transform.ToTensor(),\n",
    "                            transform.Normalize([0.5, 0.5, 0.5], [0.5, 0.5, 0.5])\n",
    "])"
   ]
  },
  {
   "cell_type": "markdown",
   "metadata": {},
   "source": [
    "### Train test split"
   ]
  },
  {
   "cell_type": "code",
   "execution_count": null,
   "metadata": {
    "execution": {
     "iopub.execute_input": "2023-09-29T04:45:07.797392Z",
     "iopub.status.busy": "2023-09-29T04:45:07.796879Z",
     "iopub.status.idle": "2023-09-29T04:45:07.803073Z",
     "shell.execute_reply": "2023-09-29T04:45:07.801936Z",
     "shell.execute_reply.started": "2023-09-29T04:45:07.797362Z"
    }
   },
   "outputs": [],
   "source": [
    "x_train = data.copy()"
   ]
  },
  {
   "cell_type": "code",
   "execution_count": null,
   "metadata": {
    "execution": {
     "iopub.execute_input": "2023-09-29T04:45:07.805072Z",
     "iopub.status.busy": "2023-09-29T04:45:07.804272Z",
     "iopub.status.idle": "2023-09-29T04:45:08.707592Z",
     "shell.execute_reply": "2023-09-29T04:45:08.70648Z",
     "shell.execute_reply.started": "2023-09-29T04:45:07.805042Z"
    }
   },
   "outputs": [],
   "source": [
    "paths = []\n",
    "labels = []\n",
    "for animal in os.listdir(\"/kaggle/input/cat-and-dog/test_set/test_set\"):\n",
    "    path_data = os.listdir(os.path.join(\"/kaggle/input/cat-and-dog/test_set/test_set\",animal))\n",
    "    cur_path = os.path.join(\"/kaggle/input/cat-and-dog/test_set/test_set\",animal)\n",
    "    paths.extend([os.path.join(cur_path,img) for img in path_data])\n",
    "    labels.extend([animal]*len(path_data))\n",
    "x_test = pd.DataFrame({\"path\":paths,\"label\":labels})"
   ]
  },
  {
   "cell_type": "code",
   "execution_count": null,
   "metadata": {
    "execution": {
     "iopub.execute_input": "2023-09-29T04:45:08.710049Z",
     "iopub.status.busy": "2023-09-29T04:45:08.708972Z",
     "iopub.status.idle": "2023-09-29T04:45:08.725749Z",
     "shell.execute_reply": "2023-09-29T04:45:08.72469Z",
     "shell.execute_reply.started": "2023-09-29T04:45:08.710009Z"
    }
   },
   "outputs": [],
   "source": [
    "x_test"
   ]
  },
  {
   "cell_type": "code",
   "execution_count": null,
   "metadata": {
    "execution": {
     "iopub.execute_input": "2023-09-29T04:45:08.728222Z",
     "iopub.status.busy": "2023-09-29T04:45:08.727115Z",
     "iopub.status.idle": "2023-09-29T04:45:08.741486Z",
     "shell.execute_reply": "2023-09-29T04:45:08.740651Z",
     "shell.execute_reply.started": "2023-09-29T04:45:08.728188Z"
    }
   },
   "outputs": [],
   "source": [
    "x_test.label = x_test.label.map({'cats':0,'dogs':1})\n",
    "x_train.label = x_train.label.map({'cats':0,'dogs':1})"
   ]
  },
  {
   "cell_type": "code",
   "execution_count": null,
   "metadata": {
    "execution": {
     "iopub.execute_input": "2023-09-29T04:45:08.746865Z",
     "iopub.status.busy": "2023-09-29T04:45:08.746186Z",
     "iopub.status.idle": "2023-09-29T04:45:08.758598Z",
     "shell.execute_reply": "2023-09-29T04:45:08.757791Z",
     "shell.execute_reply.started": "2023-09-29T04:45:08.746833Z"
    }
   },
   "outputs": [],
   "source": [
    "x_test = x_test[x_test[\"path\"].str.contains(\"_DS_Store\")==False]\n",
    "x_train = x_train[x_train[\"path\"].str.contains(\"_DS_Store\")==False]"
   ]
  },
  {
   "cell_type": "markdown",
   "metadata": {},
   "source": [
    "## Implement data loaders for train/val/test"
   ]
  },
  {
   "cell_type": "markdown",
   "metadata": {},
   "source": [
    "## Data Loader: Tạo 1 loader với các đặc điểm:\n",
    "#### Cho phép iterate qua từng mẫu trong dataset\n",
    "#### tùy chỉnh sampler\n",
    "#### tùy chỉnh batch size\n",
    "#### tùy chỉnh collate_fn (sẽ học trong buổi 10)"
   ]
  },
  {
   "cell_type": "code",
   "execution_count": null,
   "metadata": {
    "execution": {
     "iopub.execute_input": "2023-09-29T04:45:08.760873Z",
     "iopub.status.busy": "2023-09-29T04:45:08.760099Z",
     "iopub.status.idle": "2023-09-29T04:45:08.789842Z",
     "shell.execute_reply": "2023-09-29T04:45:08.789041Z",
     "shell.execute_reply.started": "2023-09-29T04:45:08.760844Z"
    }
   },
   "outputs": [],
   "source": [
    "dataset = ClassificationDataset(x_train,data_path = \"\",transform=transformer,training=True)\n",
    "train_loader,val_loader = make_loader(dataset, train_batch_size=64, validation_split=0.2)"
   ]
  },
  {
   "cell_type": "code",
   "execution_count": null,
   "metadata": {
    "execution": {
     "iopub.execute_input": "2023-09-29T04:45:08.791612Z",
     "iopub.status.busy": "2023-09-29T04:45:08.791086Z",
     "iopub.status.idle": "2023-09-29T04:45:08.796424Z",
     "shell.execute_reply": "2023-09-29T04:45:08.795522Z",
     "shell.execute_reply.started": "2023-09-29T04:45:08.791581Z"
    }
   },
   "outputs": [],
   "source": [
    "test_transform = torchvision.transforms.Compose([torchvision.transforms.Resize((224, 224)),\n",
    "                                               torchvision.transforms.ToTensor(),\n",
    "                                               transform.Normalize([0.5, 0.5, 0.5], [0.5, 0.5, 0.5])])"
   ]
  },
  {
   "cell_type": "code",
   "execution_count": null,
   "metadata": {
    "execution": {
     "iopub.execute_input": "2023-09-29T04:45:08.798576Z",
     "iopub.status.busy": "2023-09-29T04:45:08.797664Z",
     "iopub.status.idle": "2023-09-29T04:45:08.807433Z",
     "shell.execute_reply": "2023-09-29T04:45:08.806664Z",
     "shell.execute_reply.started": "2023-09-29T04:45:08.798494Z"
    }
   },
   "outputs": [],
   "source": [
    "testset = ClassificationDataset(x_test,data_path = \"\",transform=test_transform,training=False)\n",
    "test_loader = torch.utils.data.DataLoader(\n",
    "        testset, batch_size=1, shuffle=False,\n",
    "    )"
   ]
  },
  {
   "cell_type": "markdown",
   "metadata": {},
   "source": [
    "## 3. Define Optimizers and Loss function"
   ]
  },
  {
   "cell_type": "code",
   "execution_count": null,
   "metadata": {
    "execution": {
     "iopub.execute_input": "2023-09-29T04:45:08.809132Z",
     "iopub.status.busy": "2023-09-29T04:45:08.808764Z",
     "iopub.status.idle": "2023-09-29T04:45:08.844362Z",
     "shell.execute_reply": "2023-09-29T04:45:08.843398Z",
     "shell.execute_reply.started": "2023-09-29T04:45:08.809105Z"
    }
   },
   "outputs": [],
   "source": [
    "import torch\n",
    "device = torch.device(\"cuda\" if torch.cuda.is_available() else \"cpu\")\n",
    "from torch import nn\n",
    "import torch.nn.functional as F\n",
    "criterion =  nn.CrossEntropyLoss()"
   ]
  },
  {
   "cell_type": "code",
   "execution_count": null,
   "metadata": {
    "execution": {
     "iopub.execute_input": "2023-09-29T04:45:08.845972Z",
     "iopub.status.busy": "2023-09-29T04:45:08.845343Z",
     "iopub.status.idle": "2023-09-29T04:45:08.860517Z",
     "shell.execute_reply": "2023-09-29T04:45:08.859504Z",
     "shell.execute_reply.started": "2023-09-29T04:45:08.845939Z"
    }
   },
   "outputs": [],
   "source": [
    "device"
   ]
  },
  {
   "cell_type": "markdown",
   "metadata": {},
   "source": [
    "## 4. Define the Model: Transfer Learning"
   ]
  },
  {
   "cell_type": "code",
   "execution_count": null,
   "metadata": {
    "execution": {
     "iopub.execute_input": "2023-09-29T04:45:08.862292Z",
     "iopub.status.busy": "2023-09-29T04:45:08.86197Z",
     "iopub.status.idle": "2023-09-29T04:45:08.873268Z",
     "shell.execute_reply": "2023-09-29T04:45:08.872365Z",
     "shell.execute_reply.started": "2023-09-29T04:45:08.862247Z"
    }
   },
   "outputs": [],
   "source": [
    "import torch.nn.functional as F\n",
    "import torch.nn as nn\n",
    "class SimpleCNN(nn.Module):\n",
    "    def __init__(self):\n",
    "        super(SimpleCNN, self).__init__()\n",
    "        self.conv1 = nn.Conv2d(3, 32, 3)\n",
    "        self.max_pool1 = nn.MaxPool2d(2)\n",
    "        self.conv2 = nn.Conv2d(32, 64, 3)\n",
    "        self.max_pool2 = nn.MaxPool2d(2)\n",
    "        self.conv3 = nn.Conv2d(64, 128, 3)\n",
    "        self.max_pool3 = nn.MaxPool2d(2)\n",
    "        self.conv4 = nn.Conv2d(128, 128, 3)\n",
    "        self.max_pool4 = nn.MaxPool2d(2)\n",
    "        self.fc1 = nn.Linear(128*12*12, 512)\n",
    "        self.fc2 = nn.Linear(512, 2)\n",
    "        \n",
    "    def forward(self, x):\n",
    "        in_size = x.size(0)\n",
    "        x = self.conv1(x)\n",
    "        x = F.relu(x)\n",
    "        x = self.max_pool1(x)\n",
    "        x = self.conv2(x)\n",
    "        x = F.relu(x)\n",
    "        x = self.max_pool2(x)\n",
    "        x = self.conv3(x)\n",
    "        x = F.relu(x)\n",
    "        x = self.max_pool3(x)\n",
    "        x = self.conv4(x)\n",
    "        x = F.relu(x)\n",
    "        x = self.max_pool4(x)\n",
    "        # Expand\n",
    "        x = x.view(-1, 128*12*12)\n",
    "        x = self.fc1(x)\n",
    "        x = F.relu(x)\n",
    "        x = self.fc2(x)\n",
    "        \n",
    "        return x"
   ]
  },
  {
   "cell_type": "code",
   "execution_count": null,
   "metadata": {
    "execution": {
     "iopub.execute_input": "2023-09-29T04:45:08.875475Z",
     "iopub.status.busy": "2023-09-29T04:45:08.874589Z",
     "iopub.status.idle": "2023-09-29T04:45:08.985832Z",
     "shell.execute_reply": "2023-09-29T04:45:08.984919Z",
     "shell.execute_reply.started": "2023-09-29T04:45:08.875445Z"
    }
   },
   "outputs": [],
   "source": [
    "from torchvision import models\n",
    "from torch import nn\n",
    "model = SimpleCNN()\n",
    "\n"
   ]
  },
  {
   "cell_type": "code",
   "execution_count": null,
   "metadata": {
    "execution": {
     "iopub.execute_input": "2023-09-29T04:45:08.987961Z",
     "iopub.status.busy": "2023-09-29T04:45:08.987345Z",
     "iopub.status.idle": "2023-09-29T04:45:20.041668Z",
     "shell.execute_reply": "2023-09-29T04:45:20.040638Z",
     "shell.execute_reply.started": "2023-09-29T04:45:08.987927Z"
    }
   },
   "outputs": [],
   "source": [
    "model = model.to(device)\n",
    "for data,t in train_loader:\n",
    "    data = data.to(device)\n",
    "    c = model(data)\n",
    "    print(c.shape)\n",
    "    break"
   ]
  },
  {
   "cell_type": "markdown",
   "metadata": {},
   "source": [
    "### Sử dụng scheduler"
   ]
  },
  {
   "cell_type": "markdown",
   "metadata": {},
   "source": [
    "#### Scheduler sẽ tự động giảm learning rate theo 1 hệ số (vd 0.5) khi val_loss không giảm / val_acc không tăng sau X epochs"
   ]
  },
  {
   "cell_type": "code",
   "execution_count": null,
   "metadata": {
    "execution": {
     "iopub.execute_input": "2023-09-29T04:45:20.043754Z",
     "iopub.status.busy": "2023-09-29T04:45:20.043229Z",
     "iopub.status.idle": "2023-09-29T04:45:20.049236Z",
     "shell.execute_reply": "2023-09-29T04:45:20.048277Z",
     "shell.execute_reply.started": "2023-09-29T04:45:20.043722Z"
    }
   },
   "outputs": [],
   "source": [
    "optimizer = torch.optim.Adam(model.parameters(), lr=0.0001)\n",
    "scheduler = torch.optim.lr_scheduler.ReduceLROnPlateau(\n",
    "        optimizer, \"min\", patience=2, factor=0.5\n",
    "    )"
   ]
  },
  {
   "cell_type": "markdown",
   "metadata": {},
   "source": [
    "## 5. Define a training epoch"
   ]
  },
  {
   "cell_type": "code",
   "execution_count": null,
   "metadata": {
    "execution": {
     "iopub.execute_input": "2023-09-29T04:45:20.050922Z",
     "iopub.status.busy": "2023-09-29T04:45:20.050584Z",
     "iopub.status.idle": "2023-09-29T04:45:20.060124Z",
     "shell.execute_reply": "2023-09-29T04:45:20.059169Z",
     "shell.execute_reply.started": "2023-09-29T04:45:20.050893Z"
    }
   },
   "outputs": [],
   "source": [
    "model = model.to(device)"
   ]
  },
  {
   "cell_type": "code",
   "execution_count": null,
   "metadata": {
    "execution": {
     "iopub.execute_input": "2023-09-29T04:45:20.062049Z",
     "iopub.status.busy": "2023-09-29T04:45:20.061455Z",
     "iopub.status.idle": "2023-09-29T04:45:20.073181Z",
     "shell.execute_reply": "2023-09-29T04:45:20.072238Z",
     "shell.execute_reply.started": "2023-09-29T04:45:20.062015Z"
    }
   },
   "outputs": [],
   "source": [
    "from sklearn.metrics import accuracy_score\n",
    "def train_one_epoch(\n",
    "    model,\n",
    "    train_loader,\n",
    "    test_loader,\n",
    "    device,\n",
    "    optimizer,\n",
    "    criterion\n",
    "):\n",
    "\n",
    "    # training-the-model\n",
    "    train_loss = 0\n",
    "    valid_loss = 0\n",
    "    all_labels = []\n",
    "    all_preds = []\n",
    "    model.train()\n",
    "    for data, target in train_loader:\n",
    "        # move-tensors-to-GPU\n",
    "        data = data.type(torch.FloatTensor).to(device)\n",
    "        # target=torch.Tensor(target)\n",
    "        target = target.float().to(device)\n",
    "        # clear-the-gradients-of-all-optimized-variables\n",
    "        optimizer.zero_grad()\n",
    "        # forward-pass: compute-predicted-outputs-by-passing-inputs-to-the-model\n",
    "        output = model(data)\n",
    "        # get the prediction label and target label\n",
    "        output = model(data)\n",
    "        preds = torch.argmax(output, axis=1).cpu().detach().numpy()\n",
    "        labels = target.cpu().numpy()\n",
    "        # calculate-the-batch-loss\n",
    "        loss = criterion(output.type(torch.FloatTensor), target.type(torch.LongTensor))\n",
    "        # backward-pass: compute-gradient-of-the-loss-wrt-model-parameters\n",
    "        loss.backward()\n",
    "        # perform-a-ingle-optimization-step (parameter-update)\n",
    "        optimizer.step()\n",
    "        # update-training-loss\n",
    "        train_loss += loss.item() * data.size(0)\n",
    "        # calculate training metrics\n",
    "        all_labels.extend(labels)\n",
    "        all_preds.extend(preds)\n",
    "    \n",
    "    acc = accuracy_score(all_labels, all_preds)\n",
    "\n",
    "    # validate-the-model\n",
    "    model.eval()\n",
    "    all_labels = []\n",
    "    all_preds = []\n",
    "    with torch.no_grad():\n",
    "        for data, target in test_loader:\n",
    "            data = data.type(torch.FloatTensor).to(device)\n",
    "            target = target.to(device)\n",
    "            output = model(data)\n",
    "            preds = torch.argmax(output, axis=1).tolist()\n",
    "            labels = target.tolist()\n",
    "            all_labels.extend(labels)\n",
    "            all_preds.extend(preds)\n",
    "            loss = criterion(output, target)\n",
    "\n",
    "            # update-average-validation-loss\n",
    "            valid_loss += loss.item() * data.size(0)\n",
    "\n",
    "    val_acc = accuracy_score(all_labels, all_preds)\n",
    "    train_loss = train_loss / len(train_loader.sampler)\n",
    "    valid_loss = valid_loss / len(test_loader.sampler)\n",
    "\n",
    "    return (\n",
    "        train_loss,\n",
    "        valid_loss,\n",
    "        acc,\n",
    "        val_acc,\n",
    "    )"
   ]
  },
  {
   "cell_type": "markdown",
   "metadata": {},
   "source": [
    "## 6. Begin Training"
   ]
  },
  {
   "cell_type": "code",
   "execution_count": null,
   "metadata": {
    "execution": {
     "iopub.execute_input": "2023-09-29T04:45:20.075081Z",
     "iopub.status.busy": "2023-09-29T04:45:20.074545Z",
     "iopub.status.idle": "2023-09-29T04:45:20.089062Z",
     "shell.execute_reply": "2023-09-29T04:45:20.08795Z",
     "shell.execute_reply.started": "2023-09-29T04:45:20.075052Z"
    }
   },
   "outputs": [],
   "source": [
    "from tqdm import tqdm"
   ]
  },
  {
   "cell_type": "code",
   "execution_count": null,
   "metadata": {
    "execution": {
     "iopub.execute_input": "2023-09-29T04:45:20.091379Z",
     "iopub.status.busy": "2023-09-29T04:45:20.090398Z",
     "iopub.status.idle": "2023-09-29T04:45:21.178042Z",
     "shell.execute_reply": "2023-09-29T04:45:21.176964Z",
     "shell.execute_reply.started": "2023-09-29T04:45:20.091349Z"
    }
   },
   "outputs": [],
   "source": [
    "!nvidia-smi"
   ]
  },
  {
   "cell_type": "code",
   "execution_count": null,
   "metadata": {
    "execution": {
     "iopub.execute_input": "2023-09-29T04:45:21.180331Z",
     "iopub.status.busy": "2023-09-29T04:45:21.179637Z",
     "iopub.status.idle": "2023-09-29T04:49:16.815465Z",
     "shell.execute_reply": "2023-09-29T04:49:16.813642Z",
     "shell.execute_reply.started": "2023-09-29T04:45:21.180283Z"
    }
   },
   "outputs": [],
   "source": [
    "num_epoch = 20\n",
    "best_val_acc = 0\n",
    "import logging\n",
    "import numpy as np\n",
    "print(\"begin training process\")\n",
    "for i in tqdm(range(0, num_epoch)):\n",
    "    loss, val_loss, train_result, val_result = train_one_epoch(\n",
    "        model,\n",
    "        train_loader,\n",
    "        val_loader,\n",
    "        device,\n",
    "        optimizer,\n",
    "        criterion,\n",
    "    )\n",
    "\n",
    "    scheduler.step(val_loss)\n",
    "    writer.add_scalar('Train/Loss', loss, i)\n",
    "    writer.add_scalar('Val/Loss', val_loss, i)\n",
    "    writer.add_scalar('Train/Acc', train_result, i)\n",
    "    writer.add_scalar('Val/Acc', train_result, i)\n",
    "    print(\n",
    "        \"Epoch {} / {} \\n Training loss: {} -  training acc: {}\".format(\n",
    "            i + 1, num_epoch, loss,train_result\n",
    "        )\n",
    "    )\n",
    "    print(\n",
    "        \" \\n Validation loss : {} -  validation acc: {}\".format(val_loss,val_result)\n",
    "    )\n",
    "    print(\"\\n\")\n",
    "    # saving epoch with best validation accuracy\n",
    "    if best_val_acc < float(val_result):\n",
    "        print(\n",
    "            \"Validation accuracy= \"+\n",
    "            str(val_result)+\n",
    "            \"===> Save best epoch\"\n",
    "        )\n",
    "        best_val_acc = val_result\n",
    "        torch.save(\n",
    "            model,\n",
    "            \"./\" +  \"best.pt\",\n",
    "        )\n",
    "    else:\n",
    "        print(\n",
    "            \"Validation accuracy= \"+ str(val_result)+ \"===> No saving\"\n",
    "        )\n",
    "        continue"
   ]
  },
  {
   "cell_type": "markdown",
   "metadata": {},
   "source": [
    "## Test the results"
   ]
  },
  {
   "cell_type": "code",
   "execution_count": null,
   "metadata": {
    "execution": {
     "iopub.status.busy": "2023-09-29T04:49:16.816584Z",
     "iopub.status.idle": "2023-09-29T04:49:16.817546Z",
     "shell.execute_reply": "2023-09-29T04:49:16.817309Z",
     "shell.execute_reply.started": "2023-09-29T04:49:16.817284Z"
    }
   },
   "outputs": [],
   "source": [
    "from sklearn.metrics import classification_report\n"
   ]
  },
  {
   "cell_type": "code",
   "execution_count": null,
   "metadata": {
    "execution": {
     "iopub.status.busy": "2023-09-29T04:49:16.819012Z",
     "iopub.status.idle": "2023-09-29T04:49:16.820004Z",
     "shell.execute_reply": "2023-09-29T04:49:16.819791Z",
     "shell.execute_reply.started": "2023-09-29T04:49:16.819769Z"
    }
   },
   "outputs": [],
   "source": [
    "import copy\n",
    "test_model = torch.load(\"/kaggle/working/best.pt\")\n",
    "test_model = test_model.to(device)"
   ]
  },
  {
   "cell_type": "code",
   "execution_count": null,
   "metadata": {
    "execution": {
     "iopub.status.busy": "2023-09-29T04:49:16.821138Z",
     "iopub.status.idle": "2023-09-29T04:49:16.822102Z",
     "shell.execute_reply": "2023-09-29T04:49:16.821903Z",
     "shell.execute_reply.started": "2023-09-29T04:49:16.821872Z"
    }
   },
   "outputs": [],
   "source": [
    "def test_result(model, test_loader, device):\n",
    "    # testing the model by turning model \"Eval\" mode\n",
    "    model.eval()\n",
    "    preds = []\n",
    "    labels = []\n",
    "    with torch.no_grad():\n",
    "        for data, target in test_loader:\n",
    "            # move-tensors-to-GPU\n",
    "            data = data.to(device)\n",
    "            target = target.to(device)\n",
    "            # forward-pass: compute-predicted-outputs-by-passing-inputs-to-the-model\n",
    "            output = model(data)\n",
    "            prob = nn.Softmax(dim=1)\n",
    "            # applying Softmax to results\n",
    "            probs = prob(output)\n",
    "            labels.extend(target.tolist())\n",
    "            preds.extend(torch.argmax(probs, axis=1).tolist())\n",
    "    return labels,preds\n"
   ]
  },
  {
   "cell_type": "code",
   "execution_count": null,
   "metadata": {
    "execution": {
     "iopub.status.busy": "2023-09-29T04:49:16.823251Z",
     "iopub.status.idle": "2023-09-29T04:49:16.824277Z",
     "shell.execute_reply": "2023-09-29T04:49:16.824062Z",
     "shell.execute_reply.started": "2023-09-29T04:49:16.824039Z"
    }
   },
   "outputs": [],
   "source": [
    "labels,preds =test_result(test_model, test_loader, device)"
   ]
  },
  {
   "cell_type": "code",
   "execution_count": null,
   "metadata": {
    "execution": {
     "iopub.status.busy": "2023-09-29T04:49:16.825446Z",
     "iopub.status.idle": "2023-09-29T04:49:16.826426Z",
     "shell.execute_reply": "2023-09-29T04:49:16.826225Z",
     "shell.execute_reply.started": "2023-09-29T04:49:16.826204Z"
    }
   },
   "outputs": [],
   "source": [
    "report = classification_report(labels, preds, digits=4,target_names=['cat','dog'])\n",
    "\n"
   ]
  },
  {
   "cell_type": "code",
   "execution_count": null,
   "metadata": {
    "execution": {
     "iopub.status.busy": "2023-09-29T04:49:16.827593Z",
     "iopub.status.idle": "2023-09-29T04:49:16.828559Z",
     "shell.execute_reply": "2023-09-29T04:49:16.828358Z",
     "shell.execute_reply.started": "2023-09-29T04:49:16.828336Z"
    }
   },
   "outputs": [],
   "source": [
    "print(report)"
   ]
  },
  {
   "cell_type": "code",
   "execution_count": null,
   "metadata": {},
   "outputs": [],
   "source": []
  }
 ],
 "metadata": {
  "kernelspec": {
   "display_name": "Python 3 (ipykernel)",
   "language": "python",
   "name": "python3"
  },
  "language_info": {
   "codemirror_mode": {
    "name": "ipython",
    "version": 3
   },
   "file_extension": ".py",
   "mimetype": "text/x-python",
   "name": "python",
   "nbconvert_exporter": "python",
   "pygments_lexer": "ipython3",
   "version": "3.9.12"
  }
 },
 "nbformat": 4,
 "nbformat_minor": 4
}
