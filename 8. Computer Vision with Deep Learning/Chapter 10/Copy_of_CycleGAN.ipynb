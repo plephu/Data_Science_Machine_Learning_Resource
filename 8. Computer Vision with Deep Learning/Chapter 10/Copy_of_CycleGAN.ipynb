{
 "cells": [
  {
   "cell_type": "markdown",
   "metadata": {
    "id": "5VIGyIus8Vr7"
   },
   "source": [
    "Take a look at the [repository](https://github.com/junyanz/pytorch-CycleGAN-and-pix2pix) for more information"
   ]
  },
  {
   "cell_type": "markdown",
   "metadata": {
    "id": "7wNjDKdQy35h"
   },
   "source": [
    "# Install"
   ]
  },
  {
   "cell_type": "code",
   "execution_count": 1,
   "metadata": {
    "colab": {
     "base_uri": "https://localhost:8080/"
    },
    "id": "TRm-USlsHgEV",
    "outputId": "e5ee29c6-0d10-4bcf-a539-424457861dec"
   },
   "outputs": [
    {
     "name": "stderr",
     "output_type": "stream",
     "text": [
      "Cloning into 'pytorch-CycleGAN-and-pix2pix'...\n"
     ]
    }
   ],
   "source": [
    "!git clone https://github.com/junyanz/pytorch-CycleGAN-and-pix2pix"
   ]
  },
  {
   "cell_type": "code",
   "execution_count": 2,
   "metadata": {
    "id": "Pt3igws3eiVp"
   },
   "outputs": [],
   "source": [
    "import os\n",
    "os.chdir('pytorch-CycleGAN-and-pix2pix/')"
   ]
  },
  {
   "cell_type": "code",
   "execution_count": 3,
   "metadata": {
    "colab": {
     "base_uri": "https://localhost:8080/"
    },
    "id": "z1EySlOXwwoa",
    "outputId": "1defbfc5-77ae-4769-e558-363c5922e25f"
   },
   "outputs": [
    {
     "name": "stdout",
     "output_type": "stream",
     "text": [
      "Defaulting to user installation because normal site-packages is not writeable\n",
      "Requirement already satisfied: torch>=1.4.0 in c:\\program files\\python39\\lib\\site-packages (from -r requirements.txt (line 1)) (2.1.0)\n",
      "Requirement already satisfied: torchvision>=0.5.0 in c:\\program files\\python39\\lib\\site-packages (from -r requirements.txt (line 2)) (0.16.0)\n",
      "Collecting dominate>=2.4.0 (from -r requirements.txt (line 3))\n",
      "  Downloading dominate-2.8.0-py2.py3-none-any.whl.metadata (13 kB)\n",
      "Collecting visdom>=0.1.8.8 (from -r requirements.txt (line 4))\n",
      "  Downloading visdom-0.2.4.tar.gz (1.4 MB)\n",
      "     ---------------------------------------- 1.4/1.4 MB 810.7 kB/s eta 0:00:00\n",
      "  Preparing metadata (setup.py): started\n",
      "  Preparing metadata (setup.py): finished with status 'done'\n",
      "Collecting wandb (from -r requirements.txt (line 5))\n",
      "  Downloading wandb-0.15.12-py3-none-any.whl.metadata (9.8 kB)\n",
      "Requirement already satisfied: filelock in c:\\program files\\python39\\lib\\site-packages (from torch>=1.4.0->-r requirements.txt (line 1)) (3.12.2)\n",
      "Requirement already satisfied: typing-extensions in c:\\users\\phamp\\appdata\\roaming\\python\\python39\\site-packages (from torch>=1.4.0->-r requirements.txt (line 1)) (4.5.0)\n",
      "Requirement already satisfied: sympy in c:\\program files\\python39\\lib\\site-packages (from torch>=1.4.0->-r requirements.txt (line 1)) (1.12)\n",
      "Requirement already satisfied: networkx in c:\\program files\\python39\\lib\\site-packages (from torch>=1.4.0->-r requirements.txt (line 1)) (3.0)\n",
      "Requirement already satisfied: jinja2 in c:\\program files\\python39\\lib\\site-packages (from torch>=1.4.0->-r requirements.txt (line 1)) (3.0.3)\n",
      "Requirement already satisfied: fsspec in c:\\program files\\python39\\lib\\site-packages (from torch>=1.4.0->-r requirements.txt (line 1)) (2023.3.0)\n",
      "Requirement already satisfied: numpy in c:\\users\\phamp\\appdata\\roaming\\python\\python39\\site-packages (from torchvision>=0.5.0->-r requirements.txt (line 2)) (1.26.1)\n",
      "Requirement already satisfied: requests in c:\\program files\\python39\\lib\\site-packages (from torchvision>=0.5.0->-r requirements.txt (line 2)) (2.28.1)\n",
      "Requirement already satisfied: pillow!=8.3.*,>=5.3.0 in c:\\program files\\python39\\lib\\site-packages (from torchvision>=0.5.0->-r requirements.txt (line 2)) (9.3.0)\n",
      "Requirement already satisfied: scipy in c:\\program files\\python39\\lib\\site-packages (from visdom>=0.1.8.8->-r requirements.txt (line 4)) (1.9.3)\n",
      "Requirement already satisfied: tornado in c:\\program files\\python39\\lib\\site-packages (from visdom>=0.1.8.8->-r requirements.txt (line 4)) (6.2)\n",
      "Requirement already satisfied: six in c:\\program files\\python39\\lib\\site-packages (from visdom>=0.1.8.8->-r requirements.txt (line 4)) (1.16.0)\n",
      "Collecting jsonpatch (from visdom>=0.1.8.8->-r requirements.txt (line 4))\n",
      "  Downloading jsonpatch-1.33-py2.py3-none-any.whl.metadata (3.0 kB)\n",
      "Requirement already satisfied: websocket-client in c:\\program files\\python39\\lib\\site-packages (from visdom>=0.1.8.8->-r requirements.txt (line 4)) (1.4.2)\n",
      "Requirement already satisfied: Click!=8.0.0,>=7.1 in c:\\program files\\python39\\lib\\site-packages (from wandb->-r requirements.txt (line 5)) (8.1.3)\n",
      "Requirement already satisfied: GitPython!=3.1.29,>=1.0.0 in c:\\program files\\python39\\lib\\site-packages (from wandb->-r requirements.txt (line 5)) (3.1.37)\n",
      "Requirement already satisfied: psutil>=5.0.0 in c:\\program files\\python39\\lib\\site-packages (from wandb->-r requirements.txt (line 5)) (5.9.4)\n",
      "Collecting sentry-sdk>=1.0.0 (from wandb->-r requirements.txt (line 5))\n",
      "  Downloading sentry_sdk-1.32.0-py2.py3-none-any.whl.metadata (9.8 kB)\n",
      "Collecting docker-pycreds>=0.4.0 (from wandb->-r requirements.txt (line 5))\n",
      "  Downloading docker_pycreds-0.4.0-py2.py3-none-any.whl (9.0 kB)\n",
      "Requirement already satisfied: PyYAML in c:\\program files\\python39\\lib\\site-packages (from wandb->-r requirements.txt (line 5)) (6.0)\n",
      "Collecting pathtools (from wandb->-r requirements.txt (line 5))\n",
      "  Downloading pathtools-0.1.2.tar.gz (11 kB)\n",
      "  Preparing metadata (setup.py): started\n",
      "  Preparing metadata (setup.py): finished with status 'done'\n",
      "Collecting setproctitle (from wandb->-r requirements.txt (line 5))\n",
      "  Downloading setproctitle-1.3.3-cp39-cp39-win_amd64.whl.metadata (10 kB)\n",
      "Requirement already satisfied: setuptools in c:\\program files\\python39\\lib\\site-packages (from wandb->-r requirements.txt (line 5)) (58.1.0)\n",
      "Requirement already satisfied: appdirs>=1.4.3 in c:\\users\\phamp\\appdata\\roaming\\python\\python39\\site-packages (from wandb->-r requirements.txt (line 5)) (1.4.4)\n",
      "Requirement already satisfied: protobuf!=4.21.0,<5,>=3.19.0 in c:\\program files\\python39\\lib\\site-packages (from wandb->-r requirements.txt (line 5)) (3.20.3)\n",
      "Requirement already satisfied: colorama in c:\\program files\\python39\\lib\\site-packages (from Click!=8.0.0,>=7.1->wandb->-r requirements.txt (line 5)) (0.4.6)\n",
      "Requirement already satisfied: gitdb<5,>=4.0.1 in c:\\program files\\python39\\lib\\site-packages (from GitPython!=3.1.29,>=1.0.0->wandb->-r requirements.txt (line 5)) (4.0.10)\n",
      "Requirement already satisfied: charset-normalizer<3,>=2 in c:\\program files\\python39\\lib\\site-packages (from requests->torchvision>=0.5.0->-r requirements.txt (line 2)) (2.1.1)\n",
      "Requirement already satisfied: idna<4,>=2.5 in c:\\program files\\python39\\lib\\site-packages (from requests->torchvision>=0.5.0->-r requirements.txt (line 2)) (3.4)\n",
      "Requirement already satisfied: urllib3<1.27,>=1.21.1 in c:\\program files\\python39\\lib\\site-packages (from requests->torchvision>=0.5.0->-r requirements.txt (line 2)) (1.26.12)\n",
      "Requirement already satisfied: certifi>=2017.4.17 in c:\\program files\\python39\\lib\\site-packages (from requests->torchvision>=0.5.0->-r requirements.txt (line 2)) (2022.9.24)\n",
      "Requirement already satisfied: MarkupSafe>=2.0 in c:\\program files\\python39\\lib\\site-packages (from jinja2->torch>=1.4.0->-r requirements.txt (line 1)) (2.1.1)\n",
      "Collecting jsonpointer>=1.9 (from jsonpatch->visdom>=0.1.8.8->-r requirements.txt (line 4))\n",
      "  Downloading jsonpointer-2.4-py2.py3-none-any.whl.metadata (2.5 kB)\n",
      "Collecting numpy (from torchvision>=0.5.0->-r requirements.txt (line 2))\n",
      "  Downloading numpy-1.25.2-cp39-cp39-win_amd64.whl.metadata (5.7 kB)\n",
      "Requirement already satisfied: mpmath>=0.19 in c:\\program files\\python39\\lib\\site-packages (from sympy->torch>=1.4.0->-r requirements.txt (line 1)) (1.3.0)\n",
      "Requirement already satisfied: smmap<6,>=3.0.1 in c:\\program files\\python39\\lib\\site-packages (from gitdb<5,>=4.0.1->GitPython!=3.1.29,>=1.0.0->wandb->-r requirements.txt (line 5)) (5.0.1)\n",
      "Downloading dominate-2.8.0-py2.py3-none-any.whl (29 kB)\n",
      "Downloading wandb-0.15.12-py3-none-any.whl (2.1 MB)\n",
      "   ---------------------------------------- 2.1/2.1 MB 2.5 MB/s eta 0:00:00\n",
      "Downloading sentry_sdk-1.32.0-py2.py3-none-any.whl (240 kB)\n",
      "   ---------------------------------------- 241.0/241.0 kB 3.0 MB/s eta 0:00:00\n",
      "Downloading jsonpatch-1.33-py2.py3-none-any.whl (12 kB)\n",
      "Downloading numpy-1.25.2-cp39-cp39-win_amd64.whl (15.6 MB)\n",
      "   ---------------------------------------- 15.6/15.6 MB 1.3 MB/s eta 0:00:00\n",
      "Downloading setproctitle-1.3.3-cp39-cp39-win_amd64.whl (11 kB)\n",
      "Downloading jsonpointer-2.4-py2.py3-none-any.whl (7.8 kB)\n",
      "Building wheels for collected packages: visdom, pathtools\n",
      "  Building wheel for visdom (setup.py): started\n",
      "  Building wheel for visdom (setup.py): finished with status 'done'\n",
      "  Created wheel for visdom: filename=visdom-0.2.4-py3-none-any.whl size=1408332 sha256=3242a829f5bef6dcaa6d4c252e1c8d19db966c38ac092e14cb6b9559c6ab79f1\n",
      "  Stored in directory: c:\\users\\phamp\\appdata\\local\\pip\\cache\\wheels\\58\\9e\\14\\30f7cc4dafdd4d602fb00ca33c6edd1424fc0f5df10a02e060\n",
      "  Building wheel for pathtools (setup.py): started\n",
      "  Building wheel for pathtools (setup.py): finished with status 'done'\n",
      "  Created wheel for pathtools: filename=pathtools-0.1.2-py3-none-any.whl size=8819 sha256=28d5ce26ea5628665cac449a2f7d50c0679619ac10cf1e31b1257aa9dba8d1b8\n",
      "  Stored in directory: c:\\users\\phamp\\appdata\\local\\pip\\cache\\wheels\\b7\\0a\\67\\ada2a22079218c75a88361c0782855cc72aebc4d18d0289d05\n",
      "Successfully built visdom pathtools\n",
      "Installing collected packages: pathtools, setproctitle, sentry-sdk, numpy, jsonpointer, dominate, docker-pycreds, jsonpatch, wandb, visdom\n",
      "  Attempting uninstall: numpy\n",
      "    Found existing installation: numpy 1.26.1\n",
      "    Uninstalling numpy-1.26.1:\n",
      "      Successfully uninstalled numpy-1.26.1\n",
      "Successfully installed docker-pycreds-0.4.0 dominate-2.8.0 jsonpatch-1.33 jsonpointer-2.4 numpy-1.25.2 pathtools-0.1.2 sentry-sdk-1.32.0 setproctitle-1.3.3 visdom-0.2.4 wandb-0.15.12\n"
     ]
    },
    {
     "name": "stderr",
     "output_type": "stream",
     "text": [
      "ERROR: pip's dependency resolver does not currently take into account all the packages that are installed. This behaviour is the source of the following dependency conflicts.\n",
      "ydata-profiling 4.1.2 requires numpy<1.24,>=1.16.0, but you have numpy 1.25.2 which is incompatible.\n",
      "WARNING: There was an error checking the latest version of pip.\n"
     ]
    }
   ],
   "source": [
    "!pip install -r requirements.txt"
   ]
  },
  {
   "cell_type": "markdown",
   "metadata": {
    "id": "8daqlgVhw29P"
   },
   "source": [
    "# Datasets\n",
    "\n",
    "Download one of the official datasets with:\n",
    "\n",
    "-   `bash ./datasets/download_cyclegan_dataset.sh [apple2orange, summer2winter_yosemite, horse2zebra, monet2photo, cezanne2photo, ukiyoe2photo, vangogh2photo, maps, cityscapes, facades, iphone2dslr_flower, ae_photos]`\n",
    "\n",
    "Or use your own dataset by creating the appropriate folders and adding in the images.\n",
    "\n",
    "-   Create a dataset folder under `/dataset` for your dataset.\n",
    "-   Create subfolders `testA`, `testB`, `trainA`, and `trainB` under your dataset's folder. Place any images you want to transform from a to b (cat2dog) in the `testA` folder, images you want to transform from b to a (dog2cat) in the `testB` folder, and do the same for the `trainA` and `trainB` folders."
   ]
  },
  {
   "cell_type": "code",
   "execution_count": 4,
   "metadata": {
    "colab": {
     "base_uri": "https://localhost:8080/"
    },
    "id": "vrdOettJxaCc",
    "outputId": "8de21354-88ed-464b-e93e-ebb64b8110e8"
   },
   "outputs": [
    {
     "name": "stderr",
     "output_type": "stream",
     "text": [
      "'bash' is not recognized as an internal or external command,\n",
      "operable program or batch file.\n"
     ]
    }
   ],
   "source": [
    "!bash ./datasets/download_cyclegan_dataset.sh horse2zebra"
   ]
  },
  {
   "cell_type": "markdown",
   "metadata": {
    "id": "gdUz4116xhpm"
   },
   "source": [
    "# Pretrained models\n",
    "\n",
    "Download one of the official pretrained models with:\n",
    "\n",
    "-   `bash ./scripts/download_cyclegan_model.sh [apple2orange, orange2apple, summer2winter_yosemite, winter2summer_yosemite, horse2zebra, zebra2horse, monet2photo, style_monet, style_cezanne, style_ukiyoe, style_vangogh, sat2map, map2sat, cityscapes_photo2label, cityscapes_label2photo, facades_photo2label, facades_label2photo, iphone2dslr_flower]`\n",
    "\n",
    "Or add your own pretrained model to `./checkpoints/{NAME}_pretrained/latest_net_G.pt`"
   ]
  },
  {
   "cell_type": "code",
   "execution_count": 5,
   "metadata": {
    "colab": {
     "base_uri": "https://localhost:8080/"
    },
    "id": "B75UqtKhxznS",
    "outputId": "40c1d5dc-1903-433b-909e-19d3794a4587"
   },
   "outputs": [
    {
     "name": "stderr",
     "output_type": "stream",
     "text": [
      "'bash' is not recognized as an internal or external command,\n",
      "operable program or batch file.\n"
     ]
    }
   ],
   "source": [
    "!bash ./scripts/download_cyclegan_model.sh horse2zebra"
   ]
  },
  {
   "cell_type": "markdown",
   "metadata": {
    "id": "yFw1kDQBx3LN"
   },
   "source": [
    "# Training\n",
    "\n",
    "-   `python train.py --dataroot ./datasets/horse2zebra --name horse2zebra --model cycle_gan`\n",
    "\n",
    "Change the `--dataroot` and `--name` to your own dataset's path and model's name. Use `--gpu_ids 0,1,..` to train on multiple GPUs and `--batch_size` to change the batch size. I've found that a batch size of 16 fits onto 4 V100s and can finish training an epoch in ~90s.\n",
    "\n",
    "Once your model has trained, copy over the last checkpoint to a format that the testing model can automatically detect:\n",
    "\n",
    "Use `cp ./checkpoints/horse2zebra/latest_net_G_A.pth ./checkpoints/horse2zebra/latest_net_G.pth` if you want to transform images from class A to class B and `cp ./checkpoints/horse2zebra/latest_net_G_B.pth ./checkpoints/horse2zebra/latest_net_G.pth` if you want to transform images from class B to class A.\n"
   ]
  },
  {
   "cell_type": "code",
   "execution_count": 6,
   "metadata": {
    "colab": {
     "base_uri": "https://localhost:8080/"
    },
    "id": "0sp7TCT2x9dB",
    "outputId": "44348252-e364-482a-c57d-933bc08815e9"
   },
   "outputs": [
    {
     "name": "stdout",
     "output_type": "stream",
     "text": [
      "----------------- Options ---------------\n",
      "               batch_size: 1                             \n",
      "                    beta1: 0.5                           \n",
      "          checkpoints_dir: ./checkpoints                 \n",
      "           continue_train: True                          \t[default: False]\n",
      "                crop_size: 256                           \n",
      "                 dataroot: ./datasets/horse2zebra        \t[default: None]\n",
      "             dataset_mode: unaligned                     \n",
      "                direction: AtoB                          \n",
      "              display_env: main                          \n",
      "             display_freq: 400                           \n",
      "               display_id: -1                            \t[default: 1]\n",
      "            display_ncols: 4                             \n",
      "             display_port: 8097                          \n",
      "           display_server: http://localhost              \n",
      "          display_winsize: 256                           \n",
      "                    epoch: latest                        \n",
      "              epoch_count: 1                             \n",
      "                 gan_mode: lsgan                         \n",
      "                  gpu_ids: 0                             \n",
      "                init_gain: 0.02                          \n",
      "                init_type: normal                        \n",
      "                 input_nc: 3                             \n",
      "                  isTrain: True                          \t[default: None]\n",
      "                 lambda_A: 10.0                          \n",
      "                 lambda_B: 10.0                          \n",
      "          lambda_identity: 0.5                           \n",
      "                load_iter: 0                             \t[default: 0]\n",
      "                load_size: 286                           \n",
      "                       lr: 0.0002                        \n",
      "           lr_decay_iters: 50                            \n",
      "                lr_policy: linear                        \n",
      "         max_dataset_size: inf                           \n",
      "                    model: cycle_gan                     \n",
      "                 n_epochs: 100                           \n",
      "           n_epochs_decay: 100                           \n",
      "               n_layers_D: 3                             \n",
      "                     name: horse2zebra                   \t[default: experiment_name]\n",
      "                      ndf: 64                            \n",
      "                     netD: basic                         \n",
      "                     netG: resnet_9blocks                \n",
      "                      ngf: 64                            \n",
      "               no_dropout: True                          \n",
      "                  no_flip: False                         \n",
      "                  no_html: False                         \n",
      "                     norm: instance                      \n",
      "              num_threads: 4                             \n",
      "                output_nc: 3                             \n",
      "                    phase: train                         \n",
      "                pool_size: 50                            \n",
      "               preprocess: resize_and_crop               \n",
      "               print_freq: 100                           \n",
      "             save_by_iter: False                         \n",
      "          save_epoch_freq: 3                             \t[default: 5]\n",
      "         save_latest_freq: 5000                          \n",
      "           serial_batches: False                         \n",
      "                   suffix:                               \n",
      "         update_html_freq: 1000                          \n",
      "                use_wandb: False                         \n",
      "                  verbose: False                         \n",
      "       wandb_project_name: CycleGAN-and-pix2pix          \n",
      "----------------- End -------------------\n"
     ]
    },
    {
     "name": "stderr",
     "output_type": "stream",
     "text": [
      "Traceback (most recent call last):\n",
      "  File \"C:\\Users\\phamp\\OneDrive\\Phu\\Python\\8. Computer Vision with Deep Learning\\BaiTap\\Chapter 10\\pytorch-CycleGAN-and-pix2pix\\train.py\", line 28, in <module>\n",
      "    opt = TrainOptions().parse()   # get training options\n",
      "  File \"C:\\Users\\phamp\\OneDrive\\Phu\\Python\\8. Computer Vision with Deep Learning\\BaiTap\\Chapter 10\\pytorch-CycleGAN-and-pix2pix\\options\\base_options.py\", line 136, in parse\n",
      "    torch.cuda.set_device(opt.gpu_ids[0])\n",
      "  File \"C:\\Program Files\\Python39\\lib\\site-packages\\torch\\cuda\\__init__.py\", line 404, in set_device\n",
      "    torch._C._cuda_setDevice(device)\n",
      "AttributeError: module 'torch._C' has no attribute '_cuda_setDevice'\n"
     ]
    }
   ],
   "source": [
    "!python train.py --dataroot ./datasets/horse2zebra --name horse2zebra --model cycle_gan --display_id -1 --save_epoch_freq 3 --continue_train"
   ]
  },
  {
   "cell_type": "code",
   "execution_count": 7,
   "metadata": {
    "colab": {
     "base_uri": "https://localhost:8080/"
    },
    "id": "4YIgHy-wAiJr",
    "outputId": "bd219a8d-79cc-4a0b-f2f5-4e2a69cd5df0"
   },
   "outputs": [
    {
     "name": "stdout",
     "output_type": "stream",
     "text": [
      "usage: train.py [-h] --dataroot DATAROOT [--name NAME] [--gpu_ids GPU_IDS]\n",
      "                [--checkpoints_dir CHECKPOINTS_DIR] [--model MODEL]\n",
      "                [--input_nc INPUT_NC] [--output_nc OUTPUT_NC] [--ngf NGF]\n",
      "                [--ndf NDF] [--netD NETD] [--netG NETG]\n",
      "                [--n_layers_D N_LAYERS_D] [--norm NORM]\n",
      "                [--init_type INIT_TYPE] [--init_gain INIT_GAIN] [--no_dropout]\n",
      "                [--dataset_mode DATASET_MODE] [--direction DIRECTION]\n",
      "                [--serial_batches] [--num_threads NUM_THREADS]\n",
      "                [--batch_size BATCH_SIZE] [--load_size LOAD_SIZE]\n",
      "                [--crop_size CROP_SIZE] [--max_dataset_size MAX_DATASET_SIZE]\n",
      "                [--preprocess PREPROCESS] [--no_flip]\n",
      "                [--display_winsize DISPLAY_WINSIZE] [--epoch EPOCH]\n",
      "                [--load_iter LOAD_ITER] [--verbose] [--suffix SUFFIX]\n",
      "                [--use_wandb] [--wandb_project_name WANDB_PROJECT_NAME]\n",
      "                [--display_freq DISPLAY_FREQ] [--display_ncols DISPLAY_NCOLS]\n",
      "                [--display_id DISPLAY_ID] [--display_server DISPLAY_SERVER]\n",
      "                [--display_env DISPLAY_ENV] [--display_port DISPLAY_PORT]\n",
      "                [--update_html_freq UPDATE_HTML_FREQ]\n",
      "                [--print_freq PRINT_FREQ] [--no_html]\n",
      "                [--save_latest_freq SAVE_LATEST_FREQ]\n",
      "                [--save_epoch_freq SAVE_EPOCH_FREQ] [--save_by_iter]\n",
      "                [--continue_train] [--epoch_count EPOCH_COUNT] [--phase PHASE]\n",
      "                [--n_epochs N_EPOCHS] [--n_epochs_decay N_EPOCHS_DECAY]\n",
      "                [--beta1 BETA1] [--lr LR] [--gan_mode GAN_MODE]\n",
      "                [--pool_size POOL_SIZE] [--lr_policy LR_POLICY]\n",
      "                [--lr_decay_iters LR_DECAY_ITERS]\n",
      "\n",
      "optional arguments:\n",
      "  -h, --help            show this help message and exit\n",
      "  --dataroot DATAROOT   path to images (should have subfolders trainA, trainB,\n",
      "                        valA, valB, etc) (default: None)\n",
      "  --name NAME           name of the experiment. It decides where to store\n",
      "                        samples and models (default: experiment_name)\n",
      "  --gpu_ids GPU_IDS     gpu ids: e.g. 0 0,1,2, 0,2. use -1 for CPU (default:\n",
      "                        0)\n",
      "  --checkpoints_dir CHECKPOINTS_DIR\n",
      "                        models are saved here (default: ./checkpoints)\n",
      "  --model MODEL         chooses which model to use. [cycle_gan | pix2pix |\n",
      "                        test | colorization] (default: cycle_gan)\n",
      "  --input_nc INPUT_NC   # of input image channels: 3 for RGB and 1 for\n",
      "                        grayscale (default: 3)\n",
      "  --output_nc OUTPUT_NC\n",
      "                        # of output image channels: 3 for RGB and 1 for\n",
      "                        grayscale (default: 3)\n",
      "  --ngf NGF             # of gen filters in the last conv layer (default: 64)\n",
      "  --ndf NDF             # of discrim filters in the first conv layer (default:\n",
      "                        64)\n",
      "  --netD NETD           specify discriminator architecture [basic | n_layers |\n",
      "                        pixel]. The basic model is a 70x70 PatchGAN. n_layers\n",
      "                        allows you to specify the layers in the discriminator\n",
      "                        (default: basic)\n",
      "  --netG NETG           specify generator architecture [resnet_9blocks |\n",
      "                        resnet_6blocks | unet_256 | unet_128] (default:\n",
      "                        resnet_9blocks)\n",
      "  --n_layers_D N_LAYERS_D\n",
      "                        only used if netD==n_layers (default: 3)\n",
      "  --norm NORM           instance normalization or batch normalization\n",
      "                        [instance | batch | none] (default: instance)\n",
      "  --init_type INIT_TYPE\n",
      "                        network initialization [normal | xavier | kaiming |\n",
      "                        orthogonal] (default: normal)\n",
      "  --init_gain INIT_GAIN\n",
      "                        scaling factor for normal, xavier and orthogonal.\n",
      "                        (default: 0.02)\n",
      "  --no_dropout          no dropout for the generator (default: False)\n",
      "  --dataset_mode DATASET_MODE\n",
      "                        chooses how datasets are loaded. [unaligned | aligned\n",
      "                        | single | colorization] (default: unaligned)\n",
      "  --direction DIRECTION\n",
      "                        AtoB or BtoA (default: AtoB)\n",
      "  --serial_batches      if true, takes images in order to make batches,\n",
      "                        otherwise takes them randomly (default: False)\n",
      "  --num_threads NUM_THREADS\n",
      "                        # threads for loading data (default: 4)\n",
      "  --batch_size BATCH_SIZE\n",
      "                        input batch size (default: 1)\n",
      "  --load_size LOAD_SIZE\n",
      "                        scale images to this size (default: 286)\n",
      "  --crop_size CROP_SIZE\n",
      "                        then crop to this size (default: 256)\n",
      "  --max_dataset_size MAX_DATASET_SIZE\n",
      "                        Maximum number of samples allowed per dataset. If the\n",
      "                        dataset directory contains more than max_dataset_size,\n",
      "                        only a subset is loaded. (default: inf)\n",
      "  --preprocess PREPROCESS\n",
      "                        scaling and cropping of images at load time\n",
      "                        [resize_and_crop | crop | scale_width |\n",
      "                        scale_width_and_crop | none] (default:\n",
      "                        resize_and_crop)\n",
      "  --no_flip             if specified, do not flip the images for data\n",
      "                        augmentation (default: False)\n",
      "  --display_winsize DISPLAY_WINSIZE\n",
      "                        display window size for both visdom and HTML (default:\n",
      "                        256)\n",
      "  --epoch EPOCH         which epoch to load? set to latest to use latest\n",
      "                        cached model (default: latest)\n",
      "  --load_iter LOAD_ITER\n",
      "                        which iteration to load? if load_iter > 0, the code\n",
      "                        will load models by iter_[load_iter]; otherwise, the\n",
      "                        code will load models by [epoch] (default: 0)\n",
      "  --verbose             if specified, print more debugging information\n",
      "                        (default: False)\n",
      "  --suffix SUFFIX       customized suffix: opt.name = opt.name + suffix: e.g.,\n",
      "                        {model}_{netG}_size{load_size} (default: )\n",
      "  --use_wandb           if specified, then init wandb logging (default: False)\n",
      "  --wandb_project_name WANDB_PROJECT_NAME\n",
      "                        specify wandb project name (default: CycleGAN-and-\n",
      "                        pix2pix)\n",
      "  --display_freq DISPLAY_FREQ\n",
      "                        frequency of showing training results on screen\n",
      "                        (default: 400)\n",
      "  --display_ncols DISPLAY_NCOLS\n",
      "                        if positive, display all images in a single visdom web\n",
      "                        panel with certain number of images per row. (default:\n",
      "                        4)\n",
      "  --display_id DISPLAY_ID\n",
      "                        window id of the web display (default: 1)\n",
      "  --display_server DISPLAY_SERVER\n",
      "                        visdom server of the web display (default:\n",
      "                        http://localhost)\n",
      "  --display_env DISPLAY_ENV\n",
      "                        visdom display environment name (default is \"main\")\n",
      "                        (default: main)\n",
      "  --display_port DISPLAY_PORT\n",
      "                        visdom port of the web display (default: 8097)\n",
      "  --update_html_freq UPDATE_HTML_FREQ\n",
      "                        frequency of saving training results to html (default:\n",
      "                        1000)\n",
      "  --print_freq PRINT_FREQ\n",
      "                        frequency of showing training results on console\n",
      "                        (default: 100)\n",
      "  --no_html             do not save intermediate training results to\n",
      "                        [opt.checkpoints_dir]/[opt.name]/web/ (default: False)\n",
      "  --save_latest_freq SAVE_LATEST_FREQ\n",
      "                        frequency of saving the latest results (default: 5000)\n",
      "  --save_epoch_freq SAVE_EPOCH_FREQ\n",
      "                        frequency of saving checkpoints at the end of epochs\n",
      "                        (default: 5)\n",
      "  --save_by_iter        whether saves model by iteration (default: False)\n",
      "  --continue_train      continue training: load the latest model (default:\n",
      "                        False)\n",
      "  --epoch_count EPOCH_COUNT\n",
      "                        the starting epoch count, we save the model by\n",
      "                        <epoch_count>, <epoch_count>+<save_latest_freq>, ...\n",
      "                        (default: 1)\n",
      "  --phase PHASE         train, val, test, etc (default: train)\n",
      "  --n_epochs N_EPOCHS   number of epochs with the initial learning rate\n",
      "                        (default: 100)\n",
      "  --n_epochs_decay N_EPOCHS_DECAY\n",
      "                        number of epochs to linearly decay learning rate to\n",
      "                        zero (default: 100)\n",
      "  --beta1 BETA1         momentum term of adam (default: 0.5)\n",
      "  --lr LR               initial learning rate for adam (default: 0.0002)\n",
      "  --gan_mode GAN_MODE   the type of GAN objective. [vanilla| lsgan | wgangp].\n",
      "                        vanilla GAN loss is the cross-entropy objective used\n",
      "                        in the original GAN paper. (default: lsgan)\n",
      "  --pool_size POOL_SIZE\n",
      "                        the size of image buffer that stores previously\n",
      "                        generated images (default: 50)\n",
      "  --lr_policy LR_POLICY\n",
      "                        learning rate policy. [linear | step | plateau |\n",
      "                        cosine] (default: linear)\n",
      "  --lr_decay_iters LR_DECAY_ITERS\n",
      "                        multiply by a gamma every lr_decay_iters iterations\n",
      "                        (default: 50)\n"
     ]
    }
   ],
   "source": [
    "!python train.py --help"
   ]
  },
  {
   "cell_type": "markdown",
   "metadata": {
    "id": "9UkcaFZiyASl"
   },
   "source": [
    "# Testing\n",
    "\n",
    "-   `python test.py --dataroot datasets/horse2zebra/testA --name horse2zebra_pretrained --model test --no_dropout`\n",
    "\n",
    "Change the `--dataroot` and `--name` to be consistent with your trained model's configuration.\n",
    "\n",
    "> from https://github.com/junyanz/pytorch-CycleGAN-and-pix2pix:\n",
    "> The option --model test is used for generating results of CycleGAN only for one side. This option will automatically set --dataset_mode single, which only loads the images from one set. On the contrary, using --model cycle_gan requires loading and generating results in both directions, which is sometimes unnecessary. The results will be saved at ./results/. Use --results_dir {directory_path_to_save_result} to specify the results directory.\n",
    "\n",
    "> For your own experiments, you might want to specify --netG, --norm, --no_dropout to match the generator architecture of the trained model."
   ]
  },
  {
   "cell_type": "code",
   "execution_count": null,
   "metadata": {
    "id": "h65F6o29vOj6"
   },
   "outputs": [],
   "source": []
  },
  {
   "cell_type": "code",
   "execution_count": 8,
   "metadata": {
    "colab": {
     "base_uri": "https://localhost:8080/"
    },
    "id": "uCsKkEq0yGh0",
    "outputId": "59bc9ef8-7c2b-4bef-ca09-ed0f2ad2fabb"
   },
   "outputs": [
    {
     "name": "stdout",
     "output_type": "stream",
     "text": [
      "----------------- Options ---------------\n",
      "             aspect_ratio: 1.0                           \n",
      "               batch_size: 1                             \n",
      "          checkpoints_dir: ./checkpoints                 \n",
      "                crop_size: 256                           \n",
      "                 dataroot: datasets/horse2zebra/testA    \t[default: None]\n",
      "             dataset_mode: single                        \n",
      "                direction: AtoB                          \n",
      "          display_winsize: 256                           \n",
      "                    epoch: latest                        \n",
      "                     eval: False                         \n",
      "                  gpu_ids: 0                             \n",
      "                init_gain: 0.02                          \n",
      "                init_type: normal                        \n",
      "                 input_nc: 3                             \n",
      "                  isTrain: False                         \t[default: None]\n",
      "                load_iter: 0                             \t[default: 0]\n",
      "                load_size: 256                           \n",
      "         max_dataset_size: inf                           \n",
      "                    model: test                          \n",
      "             model_suffix:                               \n",
      "               n_layers_D: 3                             \n",
      "                     name: horse2zebra_pretrained        \t[default: experiment_name]\n",
      "                      ndf: 64                            \n",
      "                     netD: basic                         \n",
      "                     netG: resnet_9blocks                \n",
      "                      ngf: 64                            \n",
      "               no_dropout: True                          \t[default: False]\n",
      "                  no_flip: False                         \n",
      "                     norm: instance                      \n",
      "                 num_test: 50                            \n",
      "              num_threads: 4                             \n",
      "                output_nc: 3                             \n",
      "                    phase: test                          \n",
      "               preprocess: resize_and_crop               \n",
      "              results_dir: ./results/                    \n",
      "           serial_batches: False                         \n",
      "                   suffix:                               \n",
      "                use_wandb: False                         \n",
      "                  verbose: False                         \n",
      "       wandb_project_name: CycleGAN-and-pix2pix          \n",
      "----------------- End -------------------\n"
     ]
    },
    {
     "name": "stderr",
     "output_type": "stream",
     "text": [
      "Traceback (most recent call last):\n",
      "  File \"C:\\Users\\phamp\\OneDrive\\Phu\\Python\\8. Computer Vision with Deep Learning\\BaiTap\\Chapter 10\\pytorch-CycleGAN-and-pix2pix\\test.py\", line 43, in <module>\n",
      "    opt = TestOptions().parse()  # get test options\n",
      "  File \"C:\\Users\\phamp\\OneDrive\\Phu\\Python\\8. Computer Vision with Deep Learning\\BaiTap\\Chapter 10\\pytorch-CycleGAN-and-pix2pix\\options\\base_options.py\", line 136, in parse\n",
      "    torch.cuda.set_device(opt.gpu_ids[0])\n",
      "  File \"C:\\Program Files\\Python39\\lib\\site-packages\\torch\\cuda\\__init__.py\", line 404, in set_device\n",
      "    torch._C._cuda_setDevice(device)\n",
      "AttributeError: module 'torch._C' has no attribute '_cuda_setDevice'\n"
     ]
    }
   ],
   "source": [
    "!python test.py --dataroot datasets/horse2zebra/testA --name horse2zebra_pretrained --model test --no_dropout"
   ]
  },
  {
   "cell_type": "markdown",
   "metadata": {
    "id": "OzSKIPUByfiN"
   },
   "source": [
    "# Visualize"
   ]
  },
  {
   "cell_type": "code",
   "execution_count": 9,
   "metadata": {
    "colab": {
     "base_uri": "https://localhost:8080/",
     "height": 453
    },
    "id": "9Mgg8raPyizq",
    "outputId": "3ca867fd-796f-409b-b802-d45979de928e"
   },
   "outputs": [
    {
     "ename": "FileNotFoundError",
     "evalue": "[Errno 2] No such file or directory: './results/horse2zebra_pretrained/test_latest/images/n02381460_1010_fake.png'",
     "output_type": "error",
     "traceback": [
      "\u001b[1;31m---------------------------------------------------------------------------\u001b[0m",
      "\u001b[1;31mFileNotFoundError\u001b[0m                         Traceback (most recent call last)",
      "Cell \u001b[1;32mIn [9], line 3\u001b[0m\n\u001b[0;32m      1\u001b[0m \u001b[38;5;28;01mimport\u001b[39;00m \u001b[38;5;21;01mmatplotlib\u001b[39;00m\u001b[38;5;21;01m.\u001b[39;00m\u001b[38;5;21;01mpyplot\u001b[39;00m \u001b[38;5;28;01mas\u001b[39;00m \u001b[38;5;21;01mplt\u001b[39;00m\n\u001b[1;32m----> 3\u001b[0m img \u001b[38;5;241m=\u001b[39m \u001b[43mplt\u001b[49m\u001b[38;5;241;43m.\u001b[39;49m\u001b[43mimread\u001b[49m\u001b[43m(\u001b[49m\u001b[38;5;124;43m'\u001b[39;49m\u001b[38;5;124;43m./results/horse2zebra_pretrained/test_latest/images/n02381460_1010_fake.png\u001b[39;49m\u001b[38;5;124;43m'\u001b[39;49m\u001b[43m)\u001b[49m\n\u001b[0;32m      4\u001b[0m plt\u001b[38;5;241m.\u001b[39mimshow(img)\n",
      "File \u001b[1;32mC:\\Program Files\\Python39\\lib\\site-packages\\matplotlib\\pyplot.py:2123\u001b[0m, in \u001b[0;36mimread\u001b[1;34m(fname, format)\u001b[0m\n\u001b[0;32m   2121\u001b[0m \u001b[38;5;129m@_copy_docstring_and_deprecators\u001b[39m(matplotlib\u001b[38;5;241m.\u001b[39mimage\u001b[38;5;241m.\u001b[39mimread)\n\u001b[0;32m   2122\u001b[0m \u001b[38;5;28;01mdef\u001b[39;00m \u001b[38;5;21mimread\u001b[39m(fname, \u001b[38;5;28mformat\u001b[39m\u001b[38;5;241m=\u001b[39m\u001b[38;5;28;01mNone\u001b[39;00m):\n\u001b[1;32m-> 2123\u001b[0m     \u001b[38;5;28;01mreturn\u001b[39;00m \u001b[43mmatplotlib\u001b[49m\u001b[38;5;241;43m.\u001b[39;49m\u001b[43mimage\u001b[49m\u001b[38;5;241;43m.\u001b[39;49m\u001b[43mimread\u001b[49m\u001b[43m(\u001b[49m\u001b[43mfname\u001b[49m\u001b[43m,\u001b[49m\u001b[43m \u001b[49m\u001b[38;5;28;43mformat\u001b[39;49m\u001b[43m)\u001b[49m\n",
      "File \u001b[1;32mC:\\Program Files\\Python39\\lib\\site-packages\\matplotlib\\image.py:1541\u001b[0m, in \u001b[0;36mimread\u001b[1;34m(fname, format)\u001b[0m\n\u001b[0;32m   1534\u001b[0m \u001b[38;5;28;01mif\u001b[39;00m \u001b[38;5;28misinstance\u001b[39m(fname, \u001b[38;5;28mstr\u001b[39m) \u001b[38;5;129;01mand\u001b[39;00m \u001b[38;5;28mlen\u001b[39m(parse\u001b[38;5;241m.\u001b[39murlparse(fname)\u001b[38;5;241m.\u001b[39mscheme) \u001b[38;5;241m>\u001b[39m \u001b[38;5;241m1\u001b[39m:\n\u001b[0;32m   1535\u001b[0m     \u001b[38;5;66;03m# Pillow doesn't handle URLs directly.\u001b[39;00m\n\u001b[0;32m   1536\u001b[0m     \u001b[38;5;28;01mraise\u001b[39;00m \u001b[38;5;167;01mValueError\u001b[39;00m(\n\u001b[0;32m   1537\u001b[0m         \u001b[38;5;124m\"\u001b[39m\u001b[38;5;124mPlease open the URL for reading and pass the \u001b[39m\u001b[38;5;124m\"\u001b[39m\n\u001b[0;32m   1538\u001b[0m         \u001b[38;5;124m\"\u001b[39m\u001b[38;5;124mresult to Pillow, e.g. with \u001b[39m\u001b[38;5;124m\"\u001b[39m\n\u001b[0;32m   1539\u001b[0m         \u001b[38;5;124m\"\u001b[39m\u001b[38;5;124m``np.array(PIL.Image.open(urllib.request.urlopen(url)))``.\u001b[39m\u001b[38;5;124m\"\u001b[39m\n\u001b[0;32m   1540\u001b[0m         )\n\u001b[1;32m-> 1541\u001b[0m \u001b[38;5;28;01mwith\u001b[39;00m \u001b[43mimg_open\u001b[49m\u001b[43m(\u001b[49m\u001b[43mfname\u001b[49m\u001b[43m)\u001b[49m \u001b[38;5;28;01mas\u001b[39;00m image:\n\u001b[0;32m   1542\u001b[0m     \u001b[38;5;28;01mreturn\u001b[39;00m (_pil_png_to_float_array(image)\n\u001b[0;32m   1543\u001b[0m             \u001b[38;5;28;01mif\u001b[39;00m \u001b[38;5;28misinstance\u001b[39m(image, PIL\u001b[38;5;241m.\u001b[39mPngImagePlugin\u001b[38;5;241m.\u001b[39mPngImageFile) \u001b[38;5;28;01melse\u001b[39;00m\n\u001b[0;32m   1544\u001b[0m             pil_to_array(image))\n",
      "File \u001b[1;32mC:\\Program Files\\Python39\\lib\\site-packages\\PIL\\ImageFile.py:104\u001b[0m, in \u001b[0;36mImageFile.__init__\u001b[1;34m(self, fp, filename)\u001b[0m\n\u001b[0;32m    100\u001b[0m \u001b[38;5;28mself\u001b[39m\u001b[38;5;241m.\u001b[39mdecodermaxblock \u001b[38;5;241m=\u001b[39m MAXBLOCK\n\u001b[0;32m    102\u001b[0m \u001b[38;5;28;01mif\u001b[39;00m is_path(fp):\n\u001b[0;32m    103\u001b[0m     \u001b[38;5;66;03m# filename\u001b[39;00m\n\u001b[1;32m--> 104\u001b[0m     \u001b[38;5;28mself\u001b[39m\u001b[38;5;241m.\u001b[39mfp \u001b[38;5;241m=\u001b[39m \u001b[38;5;28;43mopen\u001b[39;49m\u001b[43m(\u001b[49m\u001b[43mfp\u001b[49m\u001b[43m,\u001b[49m\u001b[43m \u001b[49m\u001b[38;5;124;43m\"\u001b[39;49m\u001b[38;5;124;43mrb\u001b[39;49m\u001b[38;5;124;43m\"\u001b[39;49m\u001b[43m)\u001b[49m\n\u001b[0;32m    105\u001b[0m     \u001b[38;5;28mself\u001b[39m\u001b[38;5;241m.\u001b[39mfilename \u001b[38;5;241m=\u001b[39m fp\n\u001b[0;32m    106\u001b[0m     \u001b[38;5;28mself\u001b[39m\u001b[38;5;241m.\u001b[39m_exclusive_fp \u001b[38;5;241m=\u001b[39m \u001b[38;5;28;01mTrue\u001b[39;00m\n",
      "\u001b[1;31mFileNotFoundError\u001b[0m: [Errno 2] No such file or directory: './results/horse2zebra_pretrained/test_latest/images/n02381460_1010_fake.png'"
     ]
    }
   ],
   "source": [
    "import matplotlib.pyplot as plt\n",
    "\n",
    "img = plt.imread('./results/horse2zebra_pretrained/test_latest/images/n02381460_1010_fake.png')\n",
    "plt.imshow(img)"
   ]
  },
  {
   "cell_type": "code",
   "execution_count": null,
   "metadata": {
    "colab": {
     "base_uri": "https://localhost:8080/",
     "height": 453
    },
    "id": "0G3oVH9DyqLQ",
    "outputId": "3d921f37-0914-46e2-d88f-05ef089c2772"
   },
   "outputs": [],
   "source": [
    "import matplotlib.pyplot as plt\n",
    "\n",
    "img = plt.imread('./results/horse2zebra/test_latest/images/n02381460_1010_real.png')\n",
    "plt.imshow(img)"
   ]
  },
  {
   "cell_type": "code",
   "execution_count": null,
   "metadata": {
    "id": "FYREbdKVepzk"
   },
   "outputs": [],
   "source": []
  }
 ],
 "metadata": {
  "accelerator": "GPU",
  "colab": {
   "gpuType": "V100",
   "machine_shape": "hm",
   "provenance": []
  },
  "environment": {
   "name": "tf2-gpu.2-3.m74",
   "type": "gcloud",
   "uri": "gcr.io/deeplearning-platform-release/tf2-gpu.2-3:m74"
  },
  "kernelspec": {
   "display_name": "Python 3 (ipykernel)",
   "language": "python",
   "name": "python3"
  },
  "language_info": {
   "codemirror_mode": {
    "name": "ipython",
    "version": 3
   },
   "file_extension": ".py",
   "mimetype": "text/x-python",
   "name": "python",
   "nbconvert_exporter": "python",
   "pygments_lexer": "ipython3",
   "version": "3.9.12"
  }
 },
 "nbformat": 4,
 "nbformat_minor": 4
}
