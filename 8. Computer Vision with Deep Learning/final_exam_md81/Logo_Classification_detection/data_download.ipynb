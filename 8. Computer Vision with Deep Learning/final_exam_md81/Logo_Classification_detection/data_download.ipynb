{
 "cells": [
  {
   "cell_type": "code",
   "execution_count": null,
   "metadata": {},
   "outputs": [],
   "source": [
    "import locale\n",
    "def getpreferredencoding(do_setlocale = True):\n",
    "    return \"UTF-8\"\n",
    "locale.getpreferredencoding = getpreferredencoding"
   ]
  },
  {
   "cell_type": "code",
   "execution_count": null,
   "id": "d36d55f6",
   "metadata": {},
   "outputs": [],
   "source": [
    "!wget http://image.ntua.gr/iva/datasets/flickr_logos/flickr_logos_27_dataset.tar.gz"
   ]
  },
  {
   "cell_type": "code",
   "execution_count": null,
   "id": "1997f63b",
   "metadata": {},
   "outputs": [],
   "source": [
    "import tarfile\n",
    "\n",
    "fname = 'flickr_logos_27_dataset.tar.gz'\n",
    "\n",
    "if fname.endswith(\"tar.gz\"):\n",
    "    tar = tarfile.open(fname, \"r:gz\")\n",
    "    tar.extractall()\n",
    "    tar.close()"
   ]
  },
  {
   "cell_type": "code",
   "execution_count": null,
   "id": "ad03f50c",
   "metadata": {},
   "outputs": [],
   "source": [
    "fname = 'flickr_logos_27_dataset/flickr_logos_27_dataset_images.tar.gz'\n",
    "\n",
    "if fname.endswith(\"tar.gz\"):\n",
    "    tar = tarfile.open(fname, \"r:gz\")\n",
    "    tar.extractall()\n",
    "    tar.close()"
   ]
  },
  {
   "cell_type": "code",
   "execution_count": null,
   "id": "a37de545",
   "metadata": {},
   "outputs": [],
   "source": [
    "import os\n",
    "src_dir = \"flickr_logos_27_dataset_images\"\n",
    "dest = \"LOGOS\"\n",
    "\n",
    "if not os.path.exists(dest):\n",
    "    os.makedirs(dest)"
   ]
  },
  {
   "cell_type": "code",
   "execution_count": null,
   "id": "742f4a57",
   "metadata": {},
   "outputs": [],
   "source": [
    "df = pd.read_csv(\"./flickr_logos_27_dataset/flickr_logos_27_dataset_training_set_annotation.txt\", sep='\\s+',header=None)"
   ]
  }
 ],
 "metadata": {
  "language_info": {
   "name": "python"
  }
 },
 "nbformat": 4,
 "nbformat_minor": 5
}
