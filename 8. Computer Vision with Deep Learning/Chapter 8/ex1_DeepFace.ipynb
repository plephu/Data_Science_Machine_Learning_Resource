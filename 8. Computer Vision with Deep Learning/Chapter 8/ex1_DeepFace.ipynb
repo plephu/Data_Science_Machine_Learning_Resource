{
 "cells": [
  {
   "cell_type": "markdown",
   "id": "048549cd-a1e7-4009-a2b3-e6e902e1004c",
   "metadata": {},
   "source": [
    "# A tutorial to deep face"
   ]
  },
  {
   "cell_type": "code",
   "execution_count": 1,
   "id": "42bd21aa",
   "metadata": {},
   "outputs": [
    {
     "name": "stdout",
     "output_type": "stream",
     "text": [
      "Defaulting to user installation because normal site-packages is not writeable\n",
      "Collecting deepface\n",
      "  Downloading deepface-0.0.79-py3-none-any.whl (49 kB)\n",
      "     -------------------------------------- 49.6/49.6 kB 634.4 kB/s eta 0:00:00\n",
      "Requirement already satisfied: numpy>=1.14.0 in c:\\users\\phamp\\appdata\\roaming\\python\\python39\\site-packages (from deepface) (1.26.1)\n",
      "Requirement already satisfied: pandas>=0.23.4 in c:\\program files\\python39\\lib\\site-packages (from deepface) (1.5.3)\n",
      "Requirement already satisfied: tqdm>=4.30.0 in c:\\program files\\python39\\lib\\site-packages (from deepface) (4.64.1)\n",
      "Collecting gdown>=3.10.1 (from deepface)\n",
      "  Downloading gdown-4.7.1-py3-none-any.whl (15 kB)\n",
      "Requirement already satisfied: Pillow>=5.2.0 in c:\\program files\\python39\\lib\\site-packages (from deepface) (9.3.0)\n",
      "Requirement already satisfied: opencv-python>=4.5.5.64 in c:\\program files\\python39\\lib\\site-packages (from deepface) (4.8.0.74)\n",
      "Requirement already satisfied: tensorflow>=1.9.0 in c:\\program files\\python39\\lib\\site-packages (from deepface) (2.14.0)\n",
      "Requirement already satisfied: keras>=2.2.0 in c:\\program files\\python39\\lib\\site-packages (from deepface) (2.14.0)\n",
      "Requirement already satisfied: Flask>=1.1.2 in c:\\program files\\python39\\lib\\site-packages (from deepface) (2.2.3)\n",
      "Collecting mtcnn>=0.1.0 (from deepface)\n",
      "  Downloading mtcnn-0.1.1-py3-none-any.whl (2.3 MB)\n",
      "     ---------------------------------------- 2.3/2.3 MB 7.2 MB/s eta 0:00:00\n",
      "Collecting retina-face>=0.0.1 (from deepface)\n",
      "  Downloading retina_face-0.0.13-py3-none-any.whl (16 kB)\n",
      "Collecting fire>=0.4.0 (from deepface)\n",
      "  Downloading fire-0.5.0.tar.gz (88 kB)\n",
      "     ---------------------------------------- 88.3/88.3 kB 4.9 MB/s eta 0:00:00\n",
      "  Preparing metadata (setup.py): started\n",
      "  Preparing metadata (setup.py): finished with status 'done'\n",
      "Collecting gunicorn>=20.1.0 (from deepface)\n",
      "  Downloading gunicorn-21.2.0-py3-none-any.whl.metadata (4.1 kB)\n",
      "Requirement already satisfied: six in c:\\program files\\python39\\lib\\site-packages (from fire>=0.4.0->deepface) (1.16.0)\n",
      "Requirement already satisfied: termcolor in c:\\users\\phamp\\appdata\\roaming\\python\\python39\\site-packages (from fire>=0.4.0->deepface) (2.3.0)\n",
      "Requirement already satisfied: Werkzeug>=2.2.2 in c:\\program files\\python39\\lib\\site-packages (from Flask>=1.1.2->deepface) (2.2.3)\n",
      "Requirement already satisfied: Jinja2>=3.0 in c:\\program files\\python39\\lib\\site-packages (from Flask>=1.1.2->deepface) (3.0.3)\n",
      "Requirement already satisfied: itsdangerous>=2.0 in c:\\program files\\python39\\lib\\site-packages (from Flask>=1.1.2->deepface) (2.1.2)\n",
      "Requirement already satisfied: click>=8.0 in c:\\program files\\python39\\lib\\site-packages (from Flask>=1.1.2->deepface) (8.1.3)\n",
      "Requirement already satisfied: importlib-metadata>=3.6.0 in c:\\program files\\python39\\lib\\site-packages (from Flask>=1.1.2->deepface) (5.0.0)\n",
      "Requirement already satisfied: filelock in c:\\program files\\python39\\lib\\site-packages (from gdown>=3.10.1->deepface) (3.12.2)\n",
      "Requirement already satisfied: requests[socks] in c:\\program files\\python39\\lib\\site-packages (from gdown>=3.10.1->deepface) (2.28.1)\n",
      "Requirement already satisfied: beautifulsoup4 in c:\\program files\\python39\\lib\\site-packages (from gdown>=3.10.1->deepface) (4.11.1)\n",
      "Requirement already satisfied: packaging in c:\\program files\\python39\\lib\\site-packages (from gunicorn>=20.1.0->deepface) (21.3)\n",
      "Requirement already satisfied: python-dateutil>=2.8.1 in c:\\program files\\python39\\lib\\site-packages (from pandas>=0.23.4->deepface) (2.8.2)\n",
      "Requirement already satisfied: pytz>=2020.1 in c:\\program files\\python39\\lib\\site-packages (from pandas>=0.23.4->deepface) (2022.6)\n",
      "Requirement already satisfied: tensorflow-intel==2.14.0 in c:\\program files\\python39\\lib\\site-packages (from tensorflow>=1.9.0->deepface) (2.14.0)\n",
      "Requirement already satisfied: absl-py>=1.0.0 in c:\\program files\\python39\\lib\\site-packages (from tensorflow-intel==2.14.0->tensorflow>=1.9.0->deepface) (2.0.0)\n",
      "Requirement already satisfied: astunparse>=1.6.0 in c:\\program files\\python39\\lib\\site-packages (from tensorflow-intel==2.14.0->tensorflow>=1.9.0->deepface) (1.6.3)\n",
      "Requirement already satisfied: flatbuffers>=23.5.26 in c:\\users\\phamp\\appdata\\roaming\\python\\python39\\site-packages (from tensorflow-intel==2.14.0->tensorflow>=1.9.0->deepface) (23.5.26)\n",
      "Requirement already satisfied: gast!=0.5.0,!=0.5.1,!=0.5.2,>=0.2.1 in c:\\program files\\python39\\lib\\site-packages (from tensorflow-intel==2.14.0->tensorflow>=1.9.0->deepface) (0.5.4)\n",
      "Requirement already satisfied: google-pasta>=0.1.1 in c:\\program files\\python39\\lib\\site-packages (from tensorflow-intel==2.14.0->tensorflow>=1.9.0->deepface) (0.2.0)\n",
      "Requirement already satisfied: h5py>=2.9.0 in c:\\program files\\python39\\lib\\site-packages (from tensorflow-intel==2.14.0->tensorflow>=1.9.0->deepface) (3.10.0)\n",
      "Requirement already satisfied: libclang>=13.0.0 in c:\\users\\phamp\\appdata\\roaming\\python\\python39\\site-packages (from tensorflow-intel==2.14.0->tensorflow>=1.9.0->deepface) (16.0.6)\n",
      "Requirement already satisfied: ml-dtypes==0.2.0 in c:\\program files\\python39\\lib\\site-packages (from tensorflow-intel==2.14.0->tensorflow>=1.9.0->deepface) (0.2.0)\n",
      "Requirement already satisfied: opt-einsum>=2.3.2 in c:\\program files\\python39\\lib\\site-packages (from tensorflow-intel==2.14.0->tensorflow>=1.9.0->deepface) (3.3.0)\n",
      "Requirement already satisfied: protobuf!=4.21.0,!=4.21.1,!=4.21.2,!=4.21.3,!=4.21.4,!=4.21.5,<5.0.0dev,>=3.20.3 in c:\\program files\\python39\\lib\\site-packages (from tensorflow-intel==2.14.0->tensorflow>=1.9.0->deepface) (3.20.3)\n",
      "Requirement already satisfied: setuptools in c:\\program files\\python39\\lib\\site-packages (from tensorflow-intel==2.14.0->tensorflow>=1.9.0->deepface) (58.1.0)\n",
      "Requirement already satisfied: typing-extensions>=3.6.6 in c:\\users\\phamp\\appdata\\roaming\\python\\python39\\site-packages (from tensorflow-intel==2.14.0->tensorflow>=1.9.0->deepface) (4.5.0)\n",
      "Requirement already satisfied: wrapt<1.15,>=1.11.0 in c:\\users\\phamp\\appdata\\roaming\\python\\python39\\site-packages (from tensorflow-intel==2.14.0->tensorflow>=1.9.0->deepface) (1.14.1)\n",
      "Requirement already satisfied: tensorflow-io-gcs-filesystem>=0.23.1 in c:\\users\\phamp\\appdata\\roaming\\python\\python39\\site-packages (from tensorflow-intel==2.14.0->tensorflow>=1.9.0->deepface) (0.31.0)\n",
      "Requirement already satisfied: grpcio<2.0,>=1.24.3 in c:\\program files\\python39\\lib\\site-packages (from tensorflow-intel==2.14.0->tensorflow>=1.9.0->deepface) (1.59.0)\n",
      "Requirement already satisfied: tensorboard<2.15,>=2.14 in c:\\program files\\python39\\lib\\site-packages (from tensorflow-intel==2.14.0->tensorflow>=1.9.0->deepface) (2.14.1)\n",
      "Requirement already satisfied: tensorflow-estimator<2.15,>=2.14.0 in c:\\users\\phamp\\appdata\\roaming\\python\\python39\\site-packages (from tensorflow-intel==2.14.0->tensorflow>=1.9.0->deepface) (2.14.0)\n",
      "Requirement already satisfied: colorama in c:\\program files\\python39\\lib\\site-packages (from tqdm>=4.30.0->deepface) (0.4.6)\n",
      "Requirement already satisfied: zipp>=0.5 in c:\\program files\\python39\\lib\\site-packages (from importlib-metadata>=3.6.0->Flask>=1.1.2->deepface) (3.10.0)\n",
      "Requirement already satisfied: MarkupSafe>=2.0 in c:\\program files\\python39\\lib\\site-packages (from Jinja2>=3.0->Flask>=1.1.2->deepface) (2.1.1)\n",
      "Requirement already satisfied: soupsieve>1.2 in c:\\program files\\python39\\lib\\site-packages (from beautifulsoup4->gdown>=3.10.1->deepface) (2.3.2.post1)\n",
      "Requirement already satisfied: pyparsing!=3.0.5,>=2.0.2 in c:\\program files\\python39\\lib\\site-packages (from packaging->gunicorn>=20.1.0->deepface) (3.0.9)\n",
      "Requirement already satisfied: charset-normalizer<3,>=2 in c:\\program files\\python39\\lib\\site-packages (from requests[socks]->gdown>=3.10.1->deepface) (2.1.1)\n",
      "Requirement already satisfied: idna<4,>=2.5 in c:\\program files\\python39\\lib\\site-packages (from requests[socks]->gdown>=3.10.1->deepface) (3.4)\n",
      "Requirement already satisfied: urllib3<1.27,>=1.21.1 in c:\\program files\\python39\\lib\\site-packages (from requests[socks]->gdown>=3.10.1->deepface) (1.26.12)\n",
      "Requirement already satisfied: certifi>=2017.4.17 in c:\\program files\\python39\\lib\\site-packages (from requests[socks]->gdown>=3.10.1->deepface) (2022.9.24)\n",
      "Requirement already satisfied: PySocks!=1.5.7,>=1.5.6 in c:\\program files\\python39\\lib\\site-packages (from requests[socks]->gdown>=3.10.1->deepface) (1.7.1)\n",
      "Requirement already satisfied: wheel<1.0,>=0.23.0 in c:\\users\\phamp\\appdata\\roaming\\python\\python39\\site-packages (from astunparse>=1.6.0->tensorflow-intel==2.14.0->tensorflow>=1.9.0->deepface) (0.41.2)\n",
      "Requirement already satisfied: google-auth<3,>=1.6.3 in c:\\program files\\python39\\lib\\site-packages (from tensorboard<2.15,>=2.14->tensorflow-intel==2.14.0->tensorflow>=1.9.0->deepface) (2.23.3)\n",
      "Requirement already satisfied: google-auth-oauthlib<1.1,>=0.5 in c:\\program files\\python39\\lib\\site-packages (from tensorboard<2.15,>=2.14->tensorflow-intel==2.14.0->tensorflow>=1.9.0->deepface) (1.0.0)\n",
      "Requirement already satisfied: markdown>=2.6.8 in c:\\program files\\python39\\lib\\site-packages (from tensorboard<2.15,>=2.14->tensorflow-intel==2.14.0->tensorflow>=1.9.0->deepface) (3.5)\n",
      "Requirement already satisfied: tensorboard-data-server<0.8.0,>=0.7.0 in c:\\users\\phamp\\appdata\\roaming\\python\\python39\\site-packages (from tensorboard<2.15,>=2.14->tensorflow-intel==2.14.0->tensorflow>=1.9.0->deepface) (0.7.1)\n",
      "Requirement already satisfied: cachetools<6.0,>=2.0.0 in c:\\program files\\python39\\lib\\site-packages (from google-auth<3,>=1.6.3->tensorboard<2.15,>=2.14->tensorflow-intel==2.14.0->tensorflow>=1.9.0->deepface) (5.3.1)\n",
      "Requirement already satisfied: pyasn1-modules>=0.2.1 in c:\\program files\\python39\\lib\\site-packages (from google-auth<3,>=1.6.3->tensorboard<2.15,>=2.14->tensorflow-intel==2.14.0->tensorflow>=1.9.0->deepface) (0.3.0)\n",
      "Requirement already satisfied: rsa<5,>=3.1.4 in c:\\program files\\python39\\lib\\site-packages (from google-auth<3,>=1.6.3->tensorboard<2.15,>=2.14->tensorflow-intel==2.14.0->tensorflow>=1.9.0->deepface) (4.9)\n",
      "Requirement already satisfied: requests-oauthlib>=0.7.0 in c:\\program files\\python39\\lib\\site-packages (from google-auth-oauthlib<1.1,>=0.5->tensorboard<2.15,>=2.14->tensorflow-intel==2.14.0->tensorflow>=1.9.0->deepface) (1.3.1)\n",
      "Requirement already satisfied: pyasn1<0.6.0,>=0.4.6 in c:\\users\\phamp\\appdata\\roaming\\python\\python39\\site-packages (from pyasn1-modules>=0.2.1->google-auth<3,>=1.6.3->tensorboard<2.15,>=2.14->tensorflow-intel==2.14.0->tensorflow>=1.9.0->deepface) (0.5.0)\n",
      "Requirement already satisfied: oauthlib>=3.0.0 in c:\\users\\phamp\\appdata\\roaming\\python\\python39\\site-packages (from requests-oauthlib>=0.7.0->google-auth-oauthlib<1.1,>=0.5->tensorboard<2.15,>=2.14->tensorflow-intel==2.14.0->tensorflow>=1.9.0->deepface) (3.2.2)\n",
      "Downloading gunicorn-21.2.0-py3-none-any.whl (80 kB)\n",
      "   ---------------------------------------- 80.2/80.2 kB 2.2 MB/s eta 0:00:00\n",
      "Building wheels for collected packages: fire\n",
      "  Building wheel for fire (setup.py): started\n",
      "  Building wheel for fire (setup.py): finished with status 'done'\n",
      "  Created wheel for fire: filename=fire-0.5.0-py2.py3-none-any.whl size=116967 sha256=cff2acf72c0ebbde3b0b9899f871dd707e39a02cf18d14e63d8ae624a01fcbd7\n",
      "  Stored in directory: c:\\users\\phamp\\appdata\\local\\pip\\cache\\wheels\\f7\\f1\\89\\b9ea2bf8f80ec027a88fef1d354b3816b4d3d29530988972f6\n",
      "Successfully built fire\n",
      "Installing collected packages: fire, mtcnn, gunicorn, gdown, retina-face, deepface\n",
      "Successfully installed deepface-0.0.79 fire-0.5.0 gdown-4.7.1 gunicorn-21.2.0 mtcnn-0.1.1 retina-face-0.0.13\n"
     ]
    },
    {
     "name": "stderr",
     "output_type": "stream",
     "text": [
      "WARNING: There was an error checking the latest version of pip.\n"
     ]
    }
   ],
   "source": [
    "!pip install deepface"
   ]
  },
  {
   "cell_type": "code",
   "execution_count": 2,
   "id": "2a16639a-5acb-4ce4-9dd8-900159b0e91c",
   "metadata": {},
   "outputs": [
    {
     "name": "stderr",
     "output_type": "stream",
     "text": [
      "C:\\Program Files\\Python39\\lib\\site-packages\\scipy\\__init__.py:177: UserWarning: A NumPy version >=1.18.5 and <1.26.0 is required for this version of SciPy (detected version 1.26.1\n",
      "  warnings.warn(f\"A NumPy version >={np_minversion} and <{np_maxversion}\"\n"
     ]
    },
    {
     "name": "stdout",
     "output_type": "stream",
     "text": [
      "Directory  C:\\Users\\phamp /.deepface created\n",
      "Directory  C:\\Users\\phamp /.deepface/weights created\n"
     ]
    }
   ],
   "source": [
    "from deepface import DeepFace"
   ]
  },
  {
   "cell_type": "code",
   "execution_count": 3,
   "id": "7f775aba-f6f3-4c9b-b2ed-08b6decde340",
   "metadata": {},
   "outputs": [
    {
     "ename": "ValueError",
     "evalue": "Confirm that raw_faces/van_dung.jpg exists",
     "output_type": "error",
     "traceback": [
      "\u001b[1;31m---------------------------------------------------------------------------\u001b[0m",
      "\u001b[1;31mValueError\u001b[0m                                Traceback (most recent call last)",
      "Cell \u001b[1;32mIn [3], line 11\u001b[0m\n\u001b[0;32m      1\u001b[0m backends \u001b[38;5;241m=\u001b[39m [\n\u001b[0;32m      2\u001b[0m   \u001b[38;5;124m'\u001b[39m\u001b[38;5;124mopencv\u001b[39m\u001b[38;5;124m'\u001b[39m, \n\u001b[0;32m      3\u001b[0m   \u001b[38;5;124m'\u001b[39m\u001b[38;5;124mssd\u001b[39m\u001b[38;5;124m'\u001b[39m, \n\u001b[1;32m   (...)\u001b[0m\n\u001b[0;32m      8\u001b[0m   \u001b[38;5;124m'\u001b[39m\u001b[38;5;124myunet\u001b[39m\u001b[38;5;124m'\u001b[39m,\n\u001b[0;32m      9\u001b[0m ]\n\u001b[0;32m     10\u001b[0m \u001b[38;5;66;03m# use retinaface\u001b[39;00m\n\u001b[1;32m---> 11\u001b[0m face_objs \u001b[38;5;241m=\u001b[39m \u001b[43mDeepFace\u001b[49m\u001b[38;5;241;43m.\u001b[39;49m\u001b[43mextract_faces\u001b[49m\u001b[43m(\u001b[49m\u001b[43mimg_path\u001b[49m\u001b[43m \u001b[49m\u001b[38;5;241;43m=\u001b[39;49m\u001b[43m \u001b[49m\u001b[38;5;124;43m\"\u001b[39;49m\u001b[38;5;124;43mraw_faces/van_dung.jpg\u001b[39;49m\u001b[38;5;124;43m\"\u001b[39;49m\u001b[43m,\u001b[49m\u001b[43m \u001b[49m\n\u001b[0;32m     12\u001b[0m \u001b[43m        \u001b[49m\u001b[43mtarget_size\u001b[49m\u001b[43m \u001b[49m\u001b[38;5;241;43m=\u001b[39;49m\u001b[43m \u001b[49m\u001b[43m(\u001b[49m\u001b[38;5;241;43m224\u001b[39;49m\u001b[43m,\u001b[49m\u001b[43m \u001b[49m\u001b[38;5;241;43m224\u001b[39;49m\u001b[43m)\u001b[49m\u001b[43m,\u001b[49m\u001b[43m \u001b[49m\n\u001b[0;32m     13\u001b[0m \u001b[43m        \u001b[49m\u001b[43mdetector_backend\u001b[49m\u001b[43m \u001b[49m\u001b[38;5;241;43m=\u001b[39;49m\u001b[43m \u001b[49m\u001b[43mbackends\u001b[49m\u001b[43m[\u001b[49m\u001b[38;5;241;43m4\u001b[39;49m\u001b[43m]\u001b[49m\n\u001b[0;32m     14\u001b[0m \u001b[43m)\u001b[49m\n",
      "File \u001b[1;32m~\\AppData\\Roaming\\Python\\Python39\\site-packages\\deepface\\DeepFace.py:787\u001b[0m, in \u001b[0;36mextract_faces\u001b[1;34m(img_path, target_size, detector_backend, enforce_detection, align, grayscale)\u001b[0m\n\u001b[0;32m    757\u001b[0m \u001b[38;5;124;03m\"\"\"\u001b[39;00m\n\u001b[0;32m    758\u001b[0m \u001b[38;5;124;03mThis function applies pre-processing stages of a face recognition pipeline\u001b[39;00m\n\u001b[0;32m    759\u001b[0m \u001b[38;5;124;03mincluding detection and alignment\u001b[39;00m\n\u001b[1;32m   (...)\u001b[0m\n\u001b[0;32m    783\u001b[0m \n\u001b[0;32m    784\u001b[0m \u001b[38;5;124;03m\"\"\"\u001b[39;00m\n\u001b[0;32m    786\u001b[0m resp_objs \u001b[38;5;241m=\u001b[39m []\n\u001b[1;32m--> 787\u001b[0m img_objs \u001b[38;5;241m=\u001b[39m \u001b[43mfunctions\u001b[49m\u001b[38;5;241;43m.\u001b[39;49m\u001b[43mextract_faces\u001b[49m\u001b[43m(\u001b[49m\n\u001b[0;32m    788\u001b[0m \u001b[43m    \u001b[49m\u001b[43mimg\u001b[49m\u001b[38;5;241;43m=\u001b[39;49m\u001b[43mimg_path\u001b[49m\u001b[43m,\u001b[49m\n\u001b[0;32m    789\u001b[0m \u001b[43m    \u001b[49m\u001b[43mtarget_size\u001b[49m\u001b[38;5;241;43m=\u001b[39;49m\u001b[43mtarget_size\u001b[49m\u001b[43m,\u001b[49m\n\u001b[0;32m    790\u001b[0m \u001b[43m    \u001b[49m\u001b[43mdetector_backend\u001b[49m\u001b[38;5;241;43m=\u001b[39;49m\u001b[43mdetector_backend\u001b[49m\u001b[43m,\u001b[49m\n\u001b[0;32m    791\u001b[0m \u001b[43m    \u001b[49m\u001b[43mgrayscale\u001b[49m\u001b[38;5;241;43m=\u001b[39;49m\u001b[43mgrayscale\u001b[49m\u001b[43m,\u001b[49m\n\u001b[0;32m    792\u001b[0m \u001b[43m    \u001b[49m\u001b[43menforce_detection\u001b[49m\u001b[38;5;241;43m=\u001b[39;49m\u001b[43menforce_detection\u001b[49m\u001b[43m,\u001b[49m\n\u001b[0;32m    793\u001b[0m \u001b[43m    \u001b[49m\u001b[43malign\u001b[49m\u001b[38;5;241;43m=\u001b[39;49m\u001b[43malign\u001b[49m\u001b[43m,\u001b[49m\n\u001b[0;32m    794\u001b[0m \u001b[43m\u001b[49m\u001b[43m)\u001b[49m\n\u001b[0;32m    796\u001b[0m \u001b[38;5;28;01mfor\u001b[39;00m img, region, confidence \u001b[38;5;129;01min\u001b[39;00m img_objs:\n\u001b[0;32m    797\u001b[0m     resp_obj \u001b[38;5;241m=\u001b[39m {}\n",
      "File \u001b[1;32m~\\AppData\\Roaming\\Python\\Python39\\site-packages\\deepface\\commons\\functions.py:104\u001b[0m, in \u001b[0;36mextract_faces\u001b[1;34m(img, target_size, detector_backend, grayscale, enforce_detection, align)\u001b[0m\n\u001b[0;32m    101\u001b[0m extracted_faces \u001b[38;5;241m=\u001b[39m []\n\u001b[0;32m    103\u001b[0m \u001b[38;5;66;03m# img might be path, base64 or numpy array. Convert it to numpy whatever it is.\u001b[39;00m\n\u001b[1;32m--> 104\u001b[0m img \u001b[38;5;241m=\u001b[39m \u001b[43mload_image\u001b[49m\u001b[43m(\u001b[49m\u001b[43mimg\u001b[49m\u001b[43m)\u001b[49m\n\u001b[0;32m    105\u001b[0m img_region \u001b[38;5;241m=\u001b[39m [\u001b[38;5;241m0\u001b[39m, \u001b[38;5;241m0\u001b[39m, img\u001b[38;5;241m.\u001b[39mshape[\u001b[38;5;241m1\u001b[39m], img\u001b[38;5;241m.\u001b[39mshape[\u001b[38;5;241m0\u001b[39m]]\n\u001b[0;32m    107\u001b[0m \u001b[38;5;28;01mif\u001b[39;00m detector_backend \u001b[38;5;241m==\u001b[39m \u001b[38;5;124m\"\u001b[39m\u001b[38;5;124mskip\u001b[39m\u001b[38;5;124m\"\u001b[39m:\n",
      "File \u001b[1;32m~\\AppData\\Roaming\\Python\\Python39\\site-packages\\deepface\\commons\\functions.py:81\u001b[0m, in \u001b[0;36mload_image\u001b[1;34m(img)\u001b[0m\n\u001b[0;32m     79\u001b[0m \u001b[38;5;28;01melif\u001b[39;00m exact_image \u001b[38;5;129;01mis\u001b[39;00m \u001b[38;5;129;01mnot\u001b[39;00m \u001b[38;5;28;01mTrue\u001b[39;00m:  \u001b[38;5;66;03m# image path passed as input\u001b[39;00m\n\u001b[0;32m     80\u001b[0m     \u001b[38;5;28;01mif\u001b[39;00m os\u001b[38;5;241m.\u001b[39mpath\u001b[38;5;241m.\u001b[39misfile(img) \u001b[38;5;129;01mis\u001b[39;00m \u001b[38;5;129;01mnot\u001b[39;00m \u001b[38;5;28;01mTrue\u001b[39;00m:\n\u001b[1;32m---> 81\u001b[0m         \u001b[38;5;28;01mraise\u001b[39;00m \u001b[38;5;167;01mValueError\u001b[39;00m(\u001b[38;5;124mf\u001b[39m\u001b[38;5;124m\"\u001b[39m\u001b[38;5;124mConfirm that \u001b[39m\u001b[38;5;132;01m{\u001b[39;00mimg\u001b[38;5;132;01m}\u001b[39;00m\u001b[38;5;124m exists\u001b[39m\u001b[38;5;124m\"\u001b[39m)\n\u001b[0;32m     83\u001b[0m     img \u001b[38;5;241m=\u001b[39m cv2\u001b[38;5;241m.\u001b[39mimread(img)\n\u001b[0;32m     85\u001b[0m \u001b[38;5;28;01mreturn\u001b[39;00m img\n",
      "\u001b[1;31mValueError\u001b[0m: Confirm that raw_faces/van_dung.jpg exists"
     ]
    }
   ],
   "source": [
    "backends = [\n",
    "  'opencv', \n",
    "  'ssd', \n",
    "  'dlib', \n",
    "  'mtcnn', \n",
    "  'retinaface', \n",
    "  'mediapipe',\n",
    "  'yunet',\n",
    "]\n",
    "# use retinaface\n",
    "face_objs = DeepFace.extract_faces(img_path = \"raw_faces/van_dung.jpg\", \n",
    "        target_size = (224, 224), \n",
    "        detector_backend = backends[4]\n",
    ")"
   ]
  },
  {
   "cell_type": "markdown",
   "id": "5865c4e1-cc58-4b1f-b7f0-64ea52af5b04",
   "metadata": {},
   "source": [
    "## Question 1: Face Crop (Detection) + Alignment Using Retina Face"
   ]
  },
  {
   "cell_type": "code",
   "execution_count": null,
   "id": "c9307ee8-5a8b-47f3-9fa4-52ab1275fbf9",
   "metadata": {},
   "outputs": [],
   "source": [
    "from matplotlib import pyplot as plt\n",
    "\n",
    "face = face_objs[0]['face']\n",
    "plt.imshow(face)\n",
    "plt.show()"
   ]
  },
  {
   "cell_type": "markdown",
   "id": "a8a61b13-b46d-4413-abe9-8813c5920a9d",
   "metadata": {},
   "source": [
    "## Question 2. Using DeepFace to visualize the results of object detection"
   ]
  },
  {
   "cell_type": "code",
   "execution_count": null,
   "id": "7ecb629f-1d32-45fe-998b-e12d86d3fcb4",
   "metadata": {},
   "outputs": [],
   "source": [
    "face_objs[0]['facial_area']"
   ]
  },
  {
   "cell_type": "code",
   "execution_count": null,
   "id": "1c07a315-884e-4835-a179-2c6875279c02",
   "metadata": {},
   "outputs": [],
   "source": [
    "# Load the image\n",
    "import cv2\n",
    "image_path = \"raw_faces/van_dung.jpg\"\n",
    "image = plt.imread(image_path)\n",
    "\n",
    "# Define the bounding box parameters\n",
    "bounding_box = face_objs[0]['facial_area']\n",
    "\n",
    "# Extract the coordinates from the bounding box dictionary\n",
    "x = bounding_box['x']\n",
    "y = bounding_box['y']\n",
    "w = bounding_box['w']\n",
    "h = bounding_box['h']\n",
    "\n",
    "# Draw the bounding box rectangle on the image\n",
    "cv2.rectangle(image, (x, y), (x + w, y + h), (0, 255, 0), 2)\n",
    "\n",
    "# Display the image with the bounding box\n",
    "plt.imshow( image)\n",
    "plt.show()"
   ]
  },
  {
   "cell_type": "markdown",
   "id": "bcb87696-377c-4dda-aea2-c6b966579080",
   "metadata": {},
   "source": [
    "## Question 3. Compare RetinaFace vs MTCNN vs SSD in tiny face detections?"
   ]
  },
  {
   "cell_type": "code",
   "execution_count": null,
   "id": "c698a08a-7a1d-42f0-abc2-de401695df23",
   "metadata": {},
   "outputs": [],
   "source": [
    "# Load the image\n",
    "import cv2\n",
    "image_path = \"crowded.jpg\"\n",
    "image = plt.imread(image_path)\n",
    "# use retinaface\n",
    "face_objs = DeepFace.extract_faces(img_path = image_path, \n",
    "        target_size = (224, 224), \n",
    "        detector_backend = backends[4]\n",
    ")\n",
    "# Define the bounding box parameters\n",
    "for i in range(len(face_objs)):\n",
    "    bounding_box = face_objs[i]['facial_area']\n",
    "    # Extract the coordinates from the bounding box dictionary\n",
    "    x = bounding_box['x']\n",
    "    y = bounding_box['y']\n",
    "    w = bounding_box['w']\n",
    "    h = bounding_box['h']\n",
    "\n",
    "    # Draw the bounding box rectangle on the image\n",
    "    cv2.rectangle(image, (x, y), (x + w, y + h), (0, 255, 0), 2)\n",
    "print(\"number of face detected : \",len(face_objs))\n",
    "# Display the image with the bounding box\n",
    "plt.imshow( image)\n",
    "plt.title('Result using RetinaFace')\n",
    "plt.show()"
   ]
  },
  {
   "cell_type": "code",
   "execution_count": null,
   "id": "bbb81c87-a695-4237-b0b1-9749d79d99ec",
   "metadata": {},
   "outputs": [],
   "source": [
    "# Load the image\n",
    "import cv2\n",
    "image_path = \"crowded.jpg\"\n",
    "image = plt.imread(image_path)\n",
    "# use yolov8\n",
    "face_objs = DeepFace.extract_faces(img_path = image_path, \n",
    "        target_size = (224, 224), \n",
    "        detector_backend = backends[3]\n",
    ")\n",
    "# Define the bounding box parameters\n",
    "for i in range(len(face_objs)):\n",
    "    bounding_box = face_objs[i]['facial_area']\n",
    "    # Extract the coordinates from the bounding box dictionary\n",
    "    x = bounding_box['x']\n",
    "    y = bounding_box['y']\n",
    "    w = bounding_box['w']\n",
    "    h = bounding_box['h']\n",
    "\n",
    "    # Draw the bounding box rectangle on the image\n",
    "    cv2.rectangle(image, (x, y), (x + w, y + h), (0, 255, 0), 2)\n",
    "print(\"number of face detected : \",len(face_objs))\n",
    "# Display the image with the bounding box\n",
    "plt.imshow( image)\n",
    "plt.title('Result using MTCNN')\n",
    "plt.show()"
   ]
  },
  {
   "cell_type": "code",
   "execution_count": null,
   "id": "ad6dd454-7eec-4858-99b6-8c66e4754b68",
   "metadata": {},
   "outputs": [],
   "source": [
    "# Load the image\n",
    "import cv2\n",
    "image_path = \"crowded.jpg\"\n",
    "image = plt.imread(image_path)\n",
    "# use yolov8\n",
    "face_objs = DeepFace.extract_faces(img_path = image_path, \n",
    "        target_size = (224, 224), \n",
    "        detector_backend = 'ssd'\n",
    ")\n",
    "# Define the bounding box parameters\n",
    "for i in range(len(face_objs)):\n",
    "    bounding_box = face_objs[i]['facial_area']\n",
    "    # Extract the coordinates from the bounding box dictionary\n",
    "    x = bounding_box['x']\n",
    "    y = bounding_box['y']\n",
    "    w = bounding_box['w']\n",
    "    h = bounding_box['h']\n",
    "\n",
    "    # Draw the bounding box rectangle on the image\n",
    "    cv2.rectangle(image, (x, y), (x + w, y + h), (0, 255, 0), 2)\n",
    "print(\"number of face detected : \",len(face_objs))\n",
    "# Display the image with the bounding box\n",
    "plt.imshow( image)\n",
    "plt.title('Result using SSD')\n",
    "plt.show()"
   ]
  },
  {
   "cell_type": "code",
   "execution_count": null,
   "id": "6bdc8a2a-9d03-4df5-962d-951a164c5a95",
   "metadata": {},
   "outputs": [],
   "source": []
  }
 ],
 "metadata": {
  "kernelspec": {
   "display_name": "Python 3 (ipykernel)",
   "language": "python",
   "name": "python3"
  },
  "language_info": {
   "codemirror_mode": {
    "name": "ipython",
    "version": 3
   },
   "file_extension": ".py",
   "mimetype": "text/x-python",
   "name": "python",
   "nbconvert_exporter": "python",
   "pygments_lexer": "ipython3",
   "version": "3.9.12"
  }
 },
 "nbformat": 4,
 "nbformat_minor": 5
}
