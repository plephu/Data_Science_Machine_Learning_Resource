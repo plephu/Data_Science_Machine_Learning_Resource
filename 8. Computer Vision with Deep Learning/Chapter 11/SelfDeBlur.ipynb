{
 "cells": [
  {
   "cell_type": "code",
   "execution_count": 1,
   "metadata": {
    "colab": {
     "base_uri": "https://localhost:8080/"
    },
    "id": "mtaL2pssC9_M",
    "outputId": "bae33a54-0118-4f9b-a4a2-b06efafa518d"
   },
   "outputs": [
    {
     "name": "stdout",
     "output_type": "stream",
     "text": [
      "Requirement already satisfied: scikit-image in /usr/local/lib/python3.10/dist-packages (0.19.3)\n",
      "Requirement already satisfied: numpy>=1.17.0 in /usr/local/lib/python3.10/dist-packages (from scikit-image) (1.23.5)\n",
      "Requirement already satisfied: scipy>=1.4.1 in /usr/local/lib/python3.10/dist-packages (from scikit-image) (1.11.3)\n",
      "Requirement already satisfied: networkx>=2.2 in /usr/local/lib/python3.10/dist-packages (from scikit-image) (3.1)\n",
      "Requirement already satisfied: pillow!=7.1.0,!=7.1.1,!=8.3.0,>=6.1.0 in /usr/local/lib/python3.10/dist-packages (from scikit-image) (9.4.0)\n",
      "Requirement already satisfied: imageio>=2.4.1 in /usr/local/lib/python3.10/dist-packages (from scikit-image) (2.31.5)\n",
      "Requirement already satisfied: tifffile>=2019.7.26 in /usr/local/lib/python3.10/dist-packages (from scikit-image) (2023.9.26)\n",
      "Requirement already satisfied: PyWavelets>=1.1.1 in /usr/local/lib/python3.10/dist-packages (from scikit-image) (1.4.1)\n",
      "Requirement already satisfied: packaging>=20.0 in /usr/local/lib/python3.10/dist-packages (from scikit-image) (23.2)\n"
     ]
    }
   ],
   "source": [
    "!pip install scikit-image"
   ]
  },
  {
   "cell_type": "markdown",
   "metadata": {
    "id": "NeSBF7oPDssZ"
   },
   "source": [
    "# 1. Cloning SelfDeblurring Tool"
   ]
  },
  {
   "cell_type": "code",
   "execution_count": 2,
   "metadata": {
    "colab": {
     "base_uri": "https://localhost:8080/"
    },
    "id": "1P0cGSxTDvhu",
    "outputId": "beeed6d6-b0da-4723-cf63-50782f67c822"
   },
   "outputs": [
    {
     "name": "stdout",
     "output_type": "stream",
     "text": [
      "Cloning into 'selfdeblur'...\n",
      "remote: Enumerating objects: 282, done.\u001b[K\n",
      "remote: Total 282 (delta 0), reused 0 (delta 0), pack-reused 282\u001b[K\n",
      "Receiving objects: 100% (282/282), 489.42 MiB | 37.60 MiB/s, done.\n",
      "Resolving deltas: 100% (105/105), done.\n"
     ]
    }
   ],
   "source": [
    "!git clone https://github.com/eric-le-12/selfdeblur.git"
   ]
  },
  {
   "cell_type": "markdown",
   "metadata": {
    "id": "prDPrnG1StKw"
   },
   "source": [
    "# 2. Run Inference"
   ]
  },
  {
   "cell_type": "code",
   "execution_count": 6,
   "metadata": {
    "id": "dLdttncBDxnc"
   },
   "outputs": [],
   "source": [
    "import os\n",
    "os.chdir(\"selfdeblur\")"
   ]
  },
  {
   "cell_type": "code",
   "execution_count": 7,
   "metadata": {
    "colab": {
     "base_uri": "https://localhost:8080/"
    },
    "id": "CZYvarLSFSWL",
    "outputId": "815fa714-dbe3-453b-a57f-588f829efe8b"
   },
   "outputs": [
    {
     "name": "stdout",
     "output_type": "stream",
     "text": [
      "Updating files: 100% (141/141), done.\n",
      "Branch 'master' set up to track remote branch 'master' from 'origin'.\n",
      "Switched to a new branch 'master'\n"
     ]
    }
   ],
   "source": [
    "!git checkout master"
   ]
  },
  {
   "cell_type": "code",
   "execution_count": 8,
   "metadata": {
    "id": "dNlICwRQZm1N"
   },
   "outputs": [],
   "source": [
    "!cp -r /content/drive/MyDrive/LDS8_new_content/b11_deconvolution/data ../deblur_dataset"
   ]
  },
  {
   "cell_type": "code",
   "execution_count": null,
   "metadata": {
    "id": "3Nu4C-JRcaL0"
   },
   "outputs": [],
   "source": []
  },
  {
   "cell_type": "code",
   "execution_count": 11,
   "metadata": {
    "id": "z3HGu7lDcaRD"
   },
   "outputs": [],
   "source": [
    "os.mkdir(\"../results\")"
   ]
  },
  {
   "cell_type": "code",
   "execution_count": 25,
   "metadata": {
    "colab": {
     "base_uri": "https://localhost:8080/"
    },
    "id": "eb_yzcMHPZip",
    "outputId": "e5fd5f55-8c5d-41b8-d208-523bbe65c537"
   },
   "outputs": [
    {
     "name": "stdout",
     "output_type": "stream",
     "text": [
      "../results/im2_kernel1_img_x.png\n",
      "5000\n",
      "im2_kernel1_img.png\n",
      "Sequential(\n",
      "  (0): ReflectionPad2d((0, 0, 0, 0))\n",
      "  (1): Conv2d(128, 1, kernel_size=(1, 1), stride=(1, 1))\n",
      ")\n",
      "Sigmoid()\n",
      "k shape:  torch.Size([200])\n",
      "0it [00:00, ?it/s]/usr/local/lib/python3.10/dist-packages/torch/nn/modules/container.py:217: UserWarning: Implicit dimension choice for softmax has been deprecated. Change the call to include dim=X as an argument.\n",
      "  input = module(input)\n",
      "5000it [04:39, 17.87it/s]\n"
     ]
    }
   ],
   "source": [
    "!python run.py --epoch 5000 --path_to_blur ../deblur_dataset/ --path_to_save ../results\n"
   ]
  },
  {
   "cell_type": "code",
   "execution_count": null,
   "metadata": {
    "colab": {
     "base_uri": "https://localhost:8080/"
    },
    "id": "6Zo9egYID3b5",
    "outputId": "3e716fd4-3612-49fb-815d-56fce0b69b9f"
   },
   "outputs": [
    {
     "name": "stdout",
     "output_type": "stream",
     "text": [
      "python3: can't open file '/content/selfdeblur/run.py': [Errno 2] No such file or directory\n"
     ]
    }
   ],
   "source": [
    "!python run.py --epoch 4000 --path_to_blur ../deblur_dataset/ --path_to_save ../results\n"
   ]
  },
  {
   "cell_type": "code",
   "execution_count": null,
   "metadata": {
    "colab": {
     "base_uri": "https://localhost:8080/"
    },
    "id": "nbJ_3lXCPebB",
    "outputId": "fdf673d4-23ae-413a-9682-833baaa1c6b3"
   },
   "outputs": [
    {
     "name": "stdout",
     "output_type": "stream",
     "text": [
      "python3: can't open file '/content/selfdeblur/run.py': [Errno 2] No such file or directory\n"
     ]
    }
   ],
   "source": [
    "!python run.py --epoch 2000 --path_to_blur ../deblur_dataset/ --path_to_save ../results\n"
   ]
  },
  {
   "cell_type": "code",
   "execution_count": null,
   "metadata": {
    "colab": {
     "base_uri": "https://localhost:8080/"
    },
    "id": "bJrnzNp7PgCa",
    "outputId": "07fcdd39-aa2e-4289-ba32-67014ac292d9"
   },
   "outputs": [
    {
     "name": "stdout",
     "output_type": "stream",
     "text": [
      "python3: can't open file '/content/selfdeblur/run.py': [Errno 2] No such file or directory\n"
     ]
    }
   ],
   "source": [
    "!python run.py --epoch 1000 --path_to_blur ../deblur_dataset/ --path_to_save ../results\n"
   ]
  },
  {
   "cell_type": "code",
   "execution_count": null,
   "metadata": {
    "colab": {
     "base_uri": "https://localhost:8080/"
    },
    "id": "-SRnEVoMPhkQ",
    "outputId": "d866c41c-7eb7-4437-bad7-b7f14a4ce7cc"
   },
   "outputs": [
    {
     "name": "stdout",
     "output_type": "stream",
     "text": [
      "python3: can't open file '/content/selfdeblur/run.py': [Errno 2] No such file or directory\n"
     ]
    }
   ],
   "source": [
    "!python run.py --epoch 500 --path_to_blur ../deblur_dataset/ --path_to_save ../results\n"
   ]
  },
  {
   "cell_type": "code",
   "execution_count": null,
   "metadata": {
    "id": "32IhksgkFPgS"
   },
   "outputs": [],
   "source": [
    "from matplotlib import pyplot as plt\n"
   ]
  },
  {
   "cell_type": "code",
   "execution_count": null,
   "metadata": {
    "colab": {
     "base_uri": "https://localhost:8080/",
     "height": 254
    },
    "id": "GgvJBFRfK-e1",
    "outputId": "8f2e5813-9011-46f3-8d68-55eb7766f073"
   },
   "outputs": [
    {
     "ename": "FileNotFoundError",
     "evalue": "ignored",
     "output_type": "error",
     "traceback": [
      "\u001b[0;31m---------------------------------------------------------------------------\u001b[0m",
      "\u001b[0;31mFileNotFoundError\u001b[0m                         Traceback (most recent call last)",
      "\u001b[0;32m<ipython-input-11-4b262748c530>\u001b[0m in \u001b[0;36m<cell line: 3>\u001b[0;34m()\u001b[0m\n\u001b[1;32m      1\u001b[0m \u001b[0mim1\u001b[0m \u001b[0;34m=\u001b[0m \u001b[0;34m[\u001b[0m\u001b[0;34m]\u001b[0m\u001b[0;34m\u001b[0m\u001b[0;34m\u001b[0m\u001b[0m\n\u001b[1;32m      2\u001b[0m \u001b[0mim2\u001b[0m \u001b[0;34m=\u001b[0m \u001b[0;34m[\u001b[0m\u001b[0;34m]\u001b[0m\u001b[0;34m\u001b[0m\u001b[0;34m\u001b[0m\u001b[0m\n\u001b[0;32m----> 3\u001b[0;31m \u001b[0;32mfor\u001b[0m \u001b[0mimg\u001b[0m \u001b[0;32min\u001b[0m \u001b[0mos\u001b[0m\u001b[0;34m.\u001b[0m\u001b[0mlistdir\u001b[0m\u001b[0;34m(\u001b[0m\u001b[0;34m\"../results\"\u001b[0m\u001b[0;34m)\u001b[0m\u001b[0;34m:\u001b[0m\u001b[0;34m\u001b[0m\u001b[0;34m\u001b[0m\u001b[0m\n\u001b[0m\u001b[1;32m      4\u001b[0m     \u001b[0mpath\u001b[0m \u001b[0;34m=\u001b[0m \u001b[0mos\u001b[0m\u001b[0;34m.\u001b[0m\u001b[0mpath\u001b[0m\u001b[0;34m.\u001b[0m\u001b[0mjoin\u001b[0m\u001b[0;34m(\u001b[0m\u001b[0;34m\"../results\"\u001b[0m\u001b[0;34m,\u001b[0m\u001b[0mimg\u001b[0m\u001b[0;34m)\u001b[0m\u001b[0;34m\u001b[0m\u001b[0;34m\u001b[0m\u001b[0m\n\u001b[1;32m      5\u001b[0m     \u001b[0;32mif\u001b[0m \u001b[0;34m\"im1\"\u001b[0m \u001b[0;32min\u001b[0m \u001b[0mimg\u001b[0m\u001b[0;34m:\u001b[0m\u001b[0;34m\u001b[0m\u001b[0;34m\u001b[0m\u001b[0m\n",
      "\u001b[0;31mFileNotFoundError\u001b[0m: [Errno 2] No such file or directory: '../results'"
     ]
    }
   ],
   "source": [
    "im1 = []\n",
    "im2 = []\n",
    "for img in os.listdir(\"../results\"):\n",
    "    path = os.path.join(\"../results\",img)\n",
    "    if \"im1\" in img:\n",
    "        im1.append(path)\n",
    "    else:\n",
    "        im2.append(path)\n",
    "    im1.sort()\n",
    "    im2.sort()"
   ]
  },
  {
   "cell_type": "code",
   "execution_count": null,
   "metadata": {
    "id": "QsF-bWBCLCrL"
   },
   "outputs": [],
   "source": [
    "im1"
   ]
  },
  {
   "cell_type": "code",
   "execution_count": null,
   "metadata": {
    "id": "87dKsgJsLGpP"
   },
   "outputs": [],
   "source": []
  }
 ],
 "metadata": {
  "accelerator": "GPU",
  "colab": {
   "gpuType": "T4",
   "provenance": []
  },
  "kernelspec": {
   "display_name": "Python 3 (ipykernel)",
   "language": "python",
   "name": "python3"
  },
  "language_info": {
   "codemirror_mode": {
    "name": "ipython",
    "version": 3
   },
   "file_extension": ".py",
   "mimetype": "text/x-python",
   "name": "python",
   "nbconvert_exporter": "python",
   "pygments_lexer": "ipython3",
   "version": "3.9.12"
  }
 },
 "nbformat": 4,
 "nbformat_minor": 4
}
