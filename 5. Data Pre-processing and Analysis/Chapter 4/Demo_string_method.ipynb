{
 "cells": [
  {
   "cell_type": "markdown",
   "id": "b7765421",
   "metadata": {},
   "source": [
    "#### RE technique"
   ]
  },
  {
   "cell_type": "code",
   "execution_count": 1,
   "id": "dcc44c79",
   "metadata": {},
   "outputs": [],
   "source": [
    "import re"
   ]
  },
  {
   "cell_type": "code",
   "execution_count": 4,
   "id": "33faac25",
   "metadata": {},
   "outputs": [],
   "source": [
    "pattern = '\\d{3}-\\d{3}-\\d{4}'\n",
    "matcher = re.compile(pattern)"
   ]
  },
  {
   "cell_type": "code",
   "execution_count": 5,
   "id": "028f479c",
   "metadata": {},
   "outputs": [
    {
     "data": {
      "text/plain": [
       "True"
      ]
     },
     "execution_count": 5,
     "metadata": {},
     "output_type": "execute_result"
    }
   ],
   "source": [
    "bool(matcher.match('123-456-78890'))"
   ]
  },
  {
   "cell_type": "code",
   "execution_count": 6,
   "id": "69991b82",
   "metadata": {},
   "outputs": [
    {
     "data": {
      "text/plain": [
       "False"
      ]
     },
     "execution_count": 6,
     "metadata": {},
     "output_type": "execute_result"
    }
   ],
   "source": [
    "bool(matcher.match('123-456x-78890'))"
   ]
  },
  {
   "cell_type": "code",
   "execution_count": 8,
   "id": "69afb147",
   "metadata": {},
   "outputs": [
    {
     "data": {
      "text/plain": [
       "<re.Match object; span=(0, 12), match='123-456-7889'>"
      ]
     },
     "execution_count": 8,
     "metadata": {},
     "output_type": "execute_result"
    }
   ],
   "source": [
    "matcher.match('123-456-78890')"
   ]
  },
  {
   "cell_type": "code",
   "execution_count": 9,
   "id": "af4e40cc",
   "metadata": {},
   "outputs": [
    {
     "data": {
      "text/plain": [
       "<re.Match object; span=(0, 7), match='$123.45'>"
      ]
     },
     "execution_count": 9,
     "metadata": {},
     "output_type": "execute_result"
    }
   ],
   "source": [
    "re.match(pattern='\\$\\d+\\.\\d{2}', string='$123.45')"
   ]
  },
  {
   "cell_type": "code",
   "execution_count": 10,
   "id": "fedb373a",
   "metadata": {},
   "outputs": [
    {
     "data": {
      "text/plain": [
       "<re.Match object; span=(0, 9), match='HoChiMinh'>"
      ]
     },
     "execution_count": 10,
     "metadata": {},
     "output_type": "execute_result"
    }
   ],
   "source": [
    "re.match(pattern='[A-Z]\\w+', string='HoChiMinh')"
   ]
  },
  {
   "cell_type": "code",
   "execution_count": 11,
   "id": "325b7213",
   "metadata": {},
   "outputs": [
    {
     "data": {
      "text/plain": [
       "['1', '2', '3']"
      ]
     },
     "execution_count": 11,
     "metadata": {},
     "output_type": "execute_result"
    }
   ],
   "source": [
    "re.findall(pattern='\\d+', string='1 a 2 b 3 c')"
   ]
  },
  {
   "cell_type": "markdown",
   "id": "5b23db2d",
   "metadata": {},
   "source": [
    "### Pandas technique"
   ]
  },
  {
   "cell_type": "code",
   "execution_count": 12,
   "id": "2ca6a84d",
   "metadata": {},
   "outputs": [],
   "source": [
    "import pandas as pd\n",
    "import numpy as np"
   ]
  },
  {
   "cell_type": "code",
   "execution_count": 13,
   "id": "861d9855",
   "metadata": {},
   "outputs": [],
   "source": [
    "df = pd.DataFrame({'Cap_bac_cong_viec':['Quản lý/ Trưởng phòng', \n",
    "                                                     'Trưởng nhóm/ Giám sát', \n",
    "                                                     'NV có kinh nghiệm', \n",
    "                                                     'Mới ra trường'], \n",
    "                             'Luong_trung_binh':['30.000.000 VNĐ', '20.000.000 đ', \n",
    "                                                 '15.600.000 vnđ', '7.500.000 VNĐ']})"
   ]
  },
  {
   "cell_type": "code",
   "execution_count": 14,
   "id": "8b1fc148",
   "metadata": {},
   "outputs": [
    {
     "data": {
      "text/html": [
       "<div>\n",
       "<style scoped>\n",
       "    .dataframe tbody tr th:only-of-type {\n",
       "        vertical-align: middle;\n",
       "    }\n",
       "\n",
       "    .dataframe tbody tr th {\n",
       "        vertical-align: top;\n",
       "    }\n",
       "\n",
       "    .dataframe thead th {\n",
       "        text-align: right;\n",
       "    }\n",
       "</style>\n",
       "<table border=\"1\" class=\"dataframe\">\n",
       "  <thead>\n",
       "    <tr style=\"text-align: right;\">\n",
       "      <th></th>\n",
       "      <th>Cap_bac_cong_viec</th>\n",
       "      <th>Luong_trung_binh</th>\n",
       "    </tr>\n",
       "  </thead>\n",
       "  <tbody>\n",
       "    <tr>\n",
       "      <th>0</th>\n",
       "      <td>Quản lý/ Trưởng phòng</td>\n",
       "      <td>30.000.000 VNĐ</td>\n",
       "    </tr>\n",
       "    <tr>\n",
       "      <th>1</th>\n",
       "      <td>Trưởng nhóm/ Giám sát</td>\n",
       "      <td>20.000.000 đ</td>\n",
       "    </tr>\n",
       "    <tr>\n",
       "      <th>2</th>\n",
       "      <td>NV có kinh nghiệm</td>\n",
       "      <td>15.600.000 vnđ</td>\n",
       "    </tr>\n",
       "    <tr>\n",
       "      <th>3</th>\n",
       "      <td>Mới ra trường</td>\n",
       "      <td>7.500.000 VNĐ</td>\n",
       "    </tr>\n",
       "  </tbody>\n",
       "</table>\n",
       "</div>"
      ],
      "text/plain": [
       "       Cap_bac_cong_viec Luong_trung_binh\n",
       "0  Quản lý/ Trưởng phòng   30.000.000 VNĐ\n",
       "1  Trưởng nhóm/ Giám sát     20.000.000 đ\n",
       "2      NV có kinh nghiệm   15.600.000 vnđ\n",
       "3          Mới ra trường    7.500.000 VNĐ"
      ]
     },
     "execution_count": 14,
     "metadata": {},
     "output_type": "execute_result"
    }
   ],
   "source": [
    "df"
   ]
  },
  {
   "cell_type": "code",
   "execution_count": 25,
   "id": "9a409fb3",
   "metadata": {},
   "outputs": [
    {
     "name": "stderr",
     "output_type": "stream",
     "text": [
      "C:\\Users\\AW\\AppData\\Local\\Temp\\ipykernel_27956\\276967422.py:1: FutureWarning: The default value of regex will change from True to False in a future version. In addition, single character regular expressions will *not* be treated as literal strings when regex=True.\n",
      "  df.Luong_trung_binh.str.lower().str.replace('vnđ','').str.replace('đ','').str.strip().str.replace('.','').astype(float)\n"
     ]
    },
    {
     "data": {
      "text/plain": [
       "0    30000000.0\n",
       "1    20000000.0\n",
       "2    15600000.0\n",
       "3     7500000.0\n",
       "Name: Luong_trung_binh, dtype: float64"
      ]
     },
     "execution_count": 25,
     "metadata": {},
     "output_type": "execute_result"
    }
   ],
   "source": [
    "df.Luong_trung_binh.str.lower().str.replace('vnđ','').str.replace('đ','').str.strip().str.replace('.','').astype(float)"
   ]
  },
  {
   "cell_type": "code",
   "execution_count": 28,
   "id": "0e78281d",
   "metadata": {},
   "outputs": [
    {
     "name": "stderr",
     "output_type": "stream",
     "text": [
      "C:\\Users\\AW\\AppData\\Local\\Temp\\ipykernel_27956\\1487358131.py:1: FutureWarning: The default value of regex will change from True to False in a future version. In addition, single character regular expressions will *not* be treated as literal strings when regex=True.\n",
      "  df.Luong_trung_binh.str.replace('.','').str.extract('(\\d+)')\n"
     ]
    },
    {
     "data": {
      "text/html": [
       "<div>\n",
       "<style scoped>\n",
       "    .dataframe tbody tr th:only-of-type {\n",
       "        vertical-align: middle;\n",
       "    }\n",
       "\n",
       "    .dataframe tbody tr th {\n",
       "        vertical-align: top;\n",
       "    }\n",
       "\n",
       "    .dataframe thead th {\n",
       "        text-align: right;\n",
       "    }\n",
       "</style>\n",
       "<table border=\"1\" class=\"dataframe\">\n",
       "  <thead>\n",
       "    <tr style=\"text-align: right;\">\n",
       "      <th></th>\n",
       "      <th>0</th>\n",
       "    </tr>\n",
       "  </thead>\n",
       "  <tbody>\n",
       "    <tr>\n",
       "      <th>0</th>\n",
       "      <td>30000000</td>\n",
       "    </tr>\n",
       "    <tr>\n",
       "      <th>1</th>\n",
       "      <td>20000000</td>\n",
       "    </tr>\n",
       "    <tr>\n",
       "      <th>2</th>\n",
       "      <td>15600000</td>\n",
       "    </tr>\n",
       "    <tr>\n",
       "      <th>3</th>\n",
       "      <td>7500000</td>\n",
       "    </tr>\n",
       "  </tbody>\n",
       "</table>\n",
       "</div>"
      ],
      "text/plain": [
       "          0\n",
       "0  30000000\n",
       "1  20000000\n",
       "2  15600000\n",
       "3   7500000"
      ]
     },
     "execution_count": 28,
     "metadata": {},
     "output_type": "execute_result"
    }
   ],
   "source": [
    "df.Luong_trung_binh.str.replace('.','').str.extract('(\\d+)')"
   ]
  },
  {
   "cell_type": "code",
   "execution_count": null,
   "id": "75e72fcc",
   "metadata": {},
   "outputs": [],
   "source": []
  }
 ],
 "metadata": {
  "kernelspec": {
   "display_name": "Python 3 (ipykernel)",
   "language": "python",
   "name": "python3"
  },
  "language_info": {
   "codemirror_mode": {
    "name": "ipython",
    "version": 3
   },
   "file_extension": ".py",
   "mimetype": "text/x-python",
   "name": "python",
   "nbconvert_exporter": "python",
   "pygments_lexer": "ipython3",
   "version": "3.9.13"
  }
 },
 "nbformat": 4,
 "nbformat_minor": 5
}
