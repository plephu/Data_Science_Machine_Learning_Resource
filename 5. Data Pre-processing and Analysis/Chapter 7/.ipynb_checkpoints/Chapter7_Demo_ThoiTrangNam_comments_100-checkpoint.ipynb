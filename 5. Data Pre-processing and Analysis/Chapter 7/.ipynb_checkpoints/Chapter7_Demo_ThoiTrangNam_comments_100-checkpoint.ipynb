{
 "cells": [
  {
   "cell_type": "markdown",
   "metadata": {
    "id": "GYQMDsTpoSp5"
   },
   "source": [
    "# Chapter 7: NLP - Pre Thời Trang Nam - Comments\n",
    "### 100 samples"
   ]
  },
  {
   "cell_type": "code",
   "execution_count": 38,
   "metadata": {
    "executionInfo": {
     "elapsed": 2258,
     "status": "ok",
     "timestamp": 1669171719165,
     "user": {
      "displayName": "Phuong Khuat Thuy",
      "userId": "16807426118474640783"
     },
     "user_tz": -420
    },
    "id": "0I9hICKboBoN"
   },
   "outputs": [],
   "source": [
    "import pandas as pd\n",
    "import numpy as np\n",
    "from underthesea import word_tokenize, pos_tag, sent_tokenize\n",
    "import regex\n",
    "import string\n",
    "\n",
    "from process.text_process import *\n"
   ]
  },
  {
   "cell_type": "code",
   "execution_count": 3,
   "metadata": {
    "executionInfo": {
     "elapsed": 691,
     "status": "ok",
     "timestamp": 1669171719853,
     "user": {
      "displayName": "Phuong Khuat Thuy",
      "userId": "16807426118474640783"
     },
     "user_tz": -420
    },
    "id": "YUP0d_ZYoBoO"
   },
   "outputs": [],
   "source": [
    "df = pd.read_csv('./input_data/data/Products_ThoiTrangNam_comments_20K.csv')"
   ]
  },
  {
   "cell_type": "code",
   "execution_count": 4,
   "metadata": {
    "colab": {
     "base_uri": "https://localhost:8080/",
     "height": 206
    },
    "executionInfo": {
     "elapsed": 10,
     "status": "ok",
     "timestamp": 1669171719853,
     "user": {
      "displayName": "Phuong Khuat Thuy",
      "userId": "16807426118474640783"
     },
     "user_tz": -420
    },
    "id": "sdtKTFH2oBoP",
    "outputId": "58841103-67da-474f-be4a-8ec5e70b9f64"
   },
   "outputs": [
    {
     "data": {
      "text/html": [
       "<div>\n",
       "<style scoped>\n",
       "    .dataframe tbody tr th:only-of-type {\n",
       "        vertical-align: middle;\n",
       "    }\n",
       "\n",
       "    .dataframe tbody tr th {\n",
       "        vertical-align: top;\n",
       "    }\n",
       "\n",
       "    .dataframe thead th {\n",
       "        text-align: right;\n",
       "    }\n",
       "</style>\n",
       "<table border=\"1\" class=\"dataframe\">\n",
       "  <thead>\n",
       "    <tr style=\"text-align: right;\">\n",
       "      <th></th>\n",
       "      <th>product_id</th>\n",
       "      <th>category</th>\n",
       "      <th>sub_category</th>\n",
       "      <th>user</th>\n",
       "      <th>rating</th>\n",
       "      <th>comment</th>\n",
       "    </tr>\n",
       "  </thead>\n",
       "  <tbody>\n",
       "    <tr>\n",
       "      <th>0</th>\n",
       "      <td>588</td>\n",
       "      <td>Thời Trang Nam</td>\n",
       "      <td>Quần jeans</td>\n",
       "      <td>quyenanh99x</td>\n",
       "      <td>5</td>\n",
       "      <td>chất lượng sản phẩm  tốt</td>\n",
       "    </tr>\n",
       "    <tr>\n",
       "      <th>1</th>\n",
       "      <td>1333</td>\n",
       "      <td>Thời Trang Nam</td>\n",
       "      <td>Đồ lót</td>\n",
       "      <td>hoai_anh2992</td>\n",
       "      <td>5</td>\n",
       "      <td>, Chất lượng sản phẩm tuyệt vời, Đóng gói sản ...</td>\n",
       "    </tr>\n",
       "    <tr>\n",
       "      <th>2</th>\n",
       "      <td>1671</td>\n",
       "      <td>Thời Trang Nam</td>\n",
       "      <td>Đồ Bộ</td>\n",
       "      <td>r*****5</td>\n",
       "      <td>5</td>\n",
       "      <td>, Chất lượng sản phẩm tuyệt vời</td>\n",
       "    </tr>\n",
       "    <tr>\n",
       "      <th>3</th>\n",
       "      <td>320</td>\n",
       "      <td>Thời Trang Nam</td>\n",
       "      <td>Áo</td>\n",
       "      <td>thanhvui.mt</td>\n",
       "      <td>5</td>\n",
       "      <td>Đóng gói giao hàng nhanh. Chất lượng tốt trong...</td>\n",
       "    </tr>\n",
       "    <tr>\n",
       "      <th>4</th>\n",
       "      <td>871</td>\n",
       "      <td>Thời Trang Nam</td>\n",
       "      <td>Đồ lót</td>\n",
       "      <td>t*****8</td>\n",
       "      <td>5</td>\n",
       "      <td>, Đóng gói sản phẩm rất đẹp và chắc chắn</td>\n",
       "    </tr>\n",
       "  </tbody>\n",
       "</table>\n",
       "</div>"
      ],
      "text/plain": [
       "   product_id        category sub_category          user  rating  \\\n",
       "0         588  Thời Trang Nam   Quần jeans   quyenanh99x       5   \n",
       "1        1333  Thời Trang Nam       Đồ lót  hoai_anh2992       5   \n",
       "2        1671  Thời Trang Nam        Đồ Bộ       r*****5       5   \n",
       "3         320  Thời Trang Nam           Áo   thanhvui.mt       5   \n",
       "4         871  Thời Trang Nam       Đồ lót       t*****8       5   \n",
       "\n",
       "                                             comment  \n",
       "0                           chất lượng sản phẩm  tốt  \n",
       "1  , Chất lượng sản phẩm tuyệt vời, Đóng gói sản ...  \n",
       "2                    , Chất lượng sản phẩm tuyệt vời  \n",
       "3  Đóng gói giao hàng nhanh. Chất lượng tốt trong...  \n",
       "4           , Đóng gói sản phẩm rất đẹp và chắc chắn  "
      ]
     },
     "execution_count": 4,
     "metadata": {},
     "output_type": "execute_result"
    }
   ],
   "source": [
    "df.head()"
   ]
  },
  {
   "cell_type": "code",
   "execution_count": 5,
   "metadata": {
    "colab": {
     "base_uri": "https://localhost:8080/"
    },
    "executionInfo": {
     "elapsed": 9,
     "status": "ok",
     "timestamp": 1669171719854,
     "user": {
      "displayName": "Phuong Khuat Thuy",
      "userId": "16807426118474640783"
     },
     "user_tz": -420
    },
    "id": "ZE-c_jGKoBoP",
    "outputId": "322a8988-dc5c-48e6-ac30-e25cf281c20f"
   },
   "outputs": [
    {
     "name": "stdout",
     "output_type": "stream",
     "text": [
      "<class 'pandas.core.frame.DataFrame'>\n",
      "RangeIndex: 20000 entries, 0 to 19999\n",
      "Data columns (total 6 columns):\n",
      " #   Column        Non-Null Count  Dtype \n",
      "---  ------        --------------  ----- \n",
      " 0   product_id    20000 non-null  int64 \n",
      " 1   category      20000 non-null  object\n",
      " 2   sub_category  20000 non-null  object\n",
      " 3   user          20000 non-null  object\n",
      " 4   rating        20000 non-null  int64 \n",
      " 5   comment       20000 non-null  object\n",
      "dtypes: int64(2), object(4)\n",
      "memory usage: 937.6+ KB\n"
     ]
    }
   ],
   "source": [
    "df.info()"
   ]
  },
  {
   "cell_type": "code",
   "execution_count": 6,
   "metadata": {
    "colab": {
     "base_uri": "https://localhost:8080/",
     "height": 206
    },
    "executionInfo": {
     "elapsed": 7,
     "status": "ok",
     "timestamp": 1669171719855,
     "user": {
      "displayName": "Phuong Khuat Thuy",
      "userId": "16807426118474640783"
     },
     "user_tz": -420
    },
    "id": "9X5jnrBo6Ctk",
    "outputId": "916fdc4f-efac-44e0-e7ec-66c877349284"
   },
   "outputs": [
    {
     "data": {
      "text/html": [
       "<div>\n",
       "<style scoped>\n",
       "    .dataframe tbody tr th:only-of-type {\n",
       "        vertical-align: middle;\n",
       "    }\n",
       "\n",
       "    .dataframe tbody tr th {\n",
       "        vertical-align: top;\n",
       "    }\n",
       "\n",
       "    .dataframe thead th {\n",
       "        text-align: right;\n",
       "    }\n",
       "</style>\n",
       "<table border=\"1\" class=\"dataframe\">\n",
       "  <thead>\n",
       "    <tr style=\"text-align: right;\">\n",
       "      <th></th>\n",
       "      <th>product_id</th>\n",
       "      <th>category</th>\n",
       "      <th>sub_category</th>\n",
       "      <th>user</th>\n",
       "      <th>rating</th>\n",
       "      <th>comment</th>\n",
       "    </tr>\n",
       "  </thead>\n",
       "  <tbody>\n",
       "    <tr>\n",
       "      <th>11456</th>\n",
       "      <td>112</td>\n",
       "      <td>Thời Trang Nam</td>\n",
       "      <td>Đồ Bộ</td>\n",
       "      <td>sonnm01</td>\n",
       "      <td>4</td>\n",
       "      <td>, Đáng đồng tiền</td>\n",
       "    </tr>\n",
       "    <tr>\n",
       "      <th>16528</th>\n",
       "      <td>7</td>\n",
       "      <td>Thời Trang Nam</td>\n",
       "      <td>Đồ lót</td>\n",
       "      <td>tranthuhuong_1</td>\n",
       "      <td>2</td>\n",
       "      <td>Đặt một đen một trắng lại ra 1 trắng kem và 1 ...</td>\n",
       "    </tr>\n",
       "    <tr>\n",
       "      <th>3253</th>\n",
       "      <td>696</td>\n",
       "      <td>Thời Trang Nam</td>\n",
       "      <td>Khác</td>\n",
       "      <td>x*****9</td>\n",
       "      <td>5</td>\n",
       "      <td>, Chất lượng sản phẩm tuyệt vời, Đóng gói sản ...</td>\n",
       "    </tr>\n",
       "    <tr>\n",
       "      <th>18614</th>\n",
       "      <td>7</td>\n",
       "      <td>Thời Trang Nam</td>\n",
       "      <td>Vớ/ Tất</td>\n",
       "      <td>o*****r</td>\n",
       "      <td>1</td>\n",
       "      <td>, Chất lượng sản phẩm rất kém, Shop phục vụ rấ...</td>\n",
       "    </tr>\n",
       "    <tr>\n",
       "      <th>1544</th>\n",
       "      <td>1169</td>\n",
       "      <td>Thời Trang Nam</td>\n",
       "      <td>Khác</td>\n",
       "      <td>linhphucduong</td>\n",
       "      <td>5</td>\n",
       "      <td>, Chất lượng sản phẩm tuyệt vời, Đóng gói sản ...</td>\n",
       "    </tr>\n",
       "  </tbody>\n",
       "</table>\n",
       "</div>"
      ],
      "text/plain": [
       "       product_id        category sub_category            user  rating  \\\n",
       "11456         112  Thời Trang Nam        Đồ Bộ         sonnm01       4   \n",
       "16528           7  Thời Trang Nam       Đồ lót  tranthuhuong_1       2   \n",
       "3253          696  Thời Trang Nam         Khác         x*****9       5   \n",
       "18614           7  Thời Trang Nam      Vớ/ Tất         o*****r       1   \n",
       "1544         1169  Thời Trang Nam         Khác   linhphucduong       5   \n",
       "\n",
       "                                                 comment  \n",
       "11456                                   , Đáng đồng tiền  \n",
       "16528  Đặt một đen một trắng lại ra 1 trắng kem và 1 ...  \n",
       "3253   , Chất lượng sản phẩm tuyệt vời, Đóng gói sản ...  \n",
       "18614  , Chất lượng sản phẩm rất kém, Shop phục vụ rấ...  \n",
       "1544   , Chất lượng sản phẩm tuyệt vời, Đóng gói sản ...  "
      ]
     },
     "execution_count": 6,
     "metadata": {},
     "output_type": "execute_result"
    }
   ],
   "source": [
    "data = df.sample(n=100, random_state=1)\n",
    "data.head()"
   ]
  },
  {
   "cell_type": "markdown",
   "metadata": {
    "id": "2T2DirUqoBoQ"
   },
   "source": [
    "# Làm sạch dữ liệu\n",
    "- Emojicon: ❤, 😍, 👍 …\n",
    "- Teencode: ko -> không, ks -> khách sạn…\n",
    "- Puntuations, Numbers : “”.!?#012"
   ]
  },
  {
   "cell_type": "code",
   "execution_count": 11,
   "metadata": {
    "executionInfo": {
     "elapsed": 2104,
     "status": "ok",
     "timestamp": 1669171721953,
     "user": {
      "displayName": "Phuong Khuat Thuy",
      "userId": "16807426118474640783"
     },
     "user_tz": -420
    },
    "id": "uwqHSRm6oBoR"
   },
   "outputs": [],
   "source": [
    "##LOAD EMOJICON\n",
    "file = open('./input_data/files/emojicon.txt', 'r', encoding=\"utf8\")\n",
    "emoji_lst = file.read().split('\\n')\n",
    "emoji_dict = {}\n",
    "for line in emoji_lst:\n",
    "    key, value = line.split('\\t')\n",
    "    emoji_dict[key] = str(value)\n",
    "#print(teen_dict)\n",
    "file.close()\n",
    "#################\n",
    "#LOAD TEENCODE\n",
    "file = open('./input_data/files/teencode.txt', 'r', encoding=\"utf8\")\n",
    "teen_lst = file.read().split('\\n')\n",
    "teen_dict = {}\n",
    "for line in teen_lst:\n",
    "    key, value = line.split('\\t')\n",
    "    teen_dict[key] = str(value)\n",
    "#print(teen_dict)\n",
    "file.close()\n",
    "###############\n",
    "#LOAD TRANSLATE ENGLISH -> VNMESE\n",
    "file = open('./input_data/files/english-vnmese.txt', 'r', encoding=\"utf8\")\n",
    "englist_lst = file.read().split('\\n')\n",
    "for line in englist_lst:\n",
    "    key, value = line.split('\\t')\n",
    "    teen_dict[key] = str(value)\n",
    "#print(teen_dict)\n",
    "file.close()\n",
    "################\n",
    "#LOAD wrong words\n",
    "file = open('./input_data/files/wrong-word.txt', 'r', encoding=\"utf8\")\n",
    "wrong_lst = file.read().split('\\n')\n",
    "file.close()\n",
    "#################\n",
    "#LOAD STOPWORDS\n",
    "file = open('./input_data/files/vietnamese-stopwords.txt', 'r', encoding=\"utf8\")\n",
    "stopwords_lst = file.read().split('\\n')\n",
    "file.close()"
   ]
  },
  {
   "cell_type": "code",
   "execution_count": 12,
   "metadata": {
    "colab": {
     "base_uri": "https://localhost:8080/"
    },
    "collapsed": true,
    "executionInfo": {
     "elapsed": 13,
     "status": "ok",
     "timestamp": 1669171721953,
     "user": {
      "displayName": "Phuong Khuat Thuy",
      "userId": "16807426118474640783"
     },
     "user_tz": -420
    },
    "id": "0nIUdFVxoBoS",
    "outputId": "35e37dad-3be7-4526-aec4-ae584049a60a"
   },
   "outputs": [
    {
     "data": {
      "text/plain": [
       "[('❤', 'yêu'),\n",
       " ('👍', 'thích'),\n",
       " ('😍', 'cười'),\n",
       " ('😊', 'cười'),\n",
       " ('😘', 'cười'),\n",
       " ('🥰', 'cười'),\n",
       " ('😁', 'cười'),\n",
       " ('👌', 'thích'),\n",
       " ('⭐', 'thích'),\n",
       " ('🌟', 'thích')]"
      ]
     },
     "execution_count": 12,
     "metadata": {},
     "output_type": "execute_result"
    }
   ],
   "source": [
    "list(emoji_dict.items())[:10]"
   ]
  },
  {
   "cell_type": "code",
   "execution_count": 13,
   "metadata": {
    "colab": {
     "base_uri": "https://localhost:8080/"
    },
    "collapsed": true,
    "executionInfo": {
     "elapsed": 13,
     "status": "ok",
     "timestamp": 1669171721954,
     "user": {
      "displayName": "Phuong Khuat Thuy",
      "userId": "16807426118474640783"
     },
     "user_tz": -420
    },
    "id": "fs8qGX5ToBoS",
    "outputId": "34148dd5-0155-4125-972c-8e22d45ef45d"
   },
   "outputs": [
    {
     "data": {
      "text/plain": [
       "[('ctrai', 'con trai'),\n",
       " ('khôg', 'không'),\n",
       " ('bme', 'bố mẹ'),\n",
       " ('cta', 'chúng ta'),\n",
       " ('mih', 'mình'),\n",
       " ('mqh', 'mối quan hệ'),\n",
       " ('cgai', 'con gái'),\n",
       " ('nhữg', 'những'),\n",
       " ('mng', 'mọi người'),\n",
       " ('svtn', 'sinh viên tình nguyện')]"
      ]
     },
     "execution_count": 13,
     "metadata": {},
     "output_type": "execute_result"
    }
   ],
   "source": [
    "list(teen_dict.items())[:10]"
   ]
  },
  {
   "cell_type": "code",
   "execution_count": 14,
   "metadata": {
    "colab": {
     "base_uri": "https://localhost:8080/"
    },
    "executionInfo": {
     "elapsed": 11,
     "status": "ok",
     "timestamp": 1669171721954,
     "user": {
      "displayName": "Phuong Khuat Thuy",
      "userId": "16807426118474640783"
     },
     "user_tz": -420
    },
    "id": "VbbbIHfxoBoS",
    "outputId": "0a05d993-c045-422a-d2d0-1e59fa7ecb58"
   },
   "outputs": [
    {
     "data": {
      "text/plain": [
       "['aud', 'se', 'gd', 'tz', 'voi', 'hoa', 'cca', 'bay', 'son', 'vtd']"
      ]
     },
     "execution_count": 14,
     "metadata": {},
     "output_type": "execute_result"
    }
   ],
   "source": [
    "wrong_lst[:10]"
   ]
  },
  {
   "cell_type": "code",
   "execution_count": 15,
   "metadata": {
    "colab": {
     "base_uri": "https://localhost:8080/"
    },
    "collapsed": true,
    "executionInfo": {
     "elapsed": 10,
     "status": "ok",
     "timestamp": 1669171721955,
     "user": {
      "displayName": "Phuong Khuat Thuy",
      "userId": "16807426118474640783"
     },
     "user_tz": -420
    },
    "id": "56hdfcVwoBoS",
    "outputId": "ceb55e97-2f68-48c7-9c1b-1f794fbbda6b"
   },
   "outputs": [
    {
     "data": {
      "text/plain": [
       "['a_lô',\n",
       " 'a_ha',\n",
       " 'ai',\n",
       " 'ai_ai',\n",
       " 'ai_nấy',\n",
       " 'ai_đó',\n",
       " 'alô',\n",
       " 'amen',\n",
       " 'anh',\n",
       " 'anh_ấy']"
      ]
     },
     "execution_count": 15,
     "metadata": {},
     "output_type": "execute_result"
    }
   ],
   "source": [
    "stopwords_lst[:10]"
   ]
  },
  {
   "cell_type": "code",
   "execution_count": 16,
   "metadata": {
    "colab": {
     "base_uri": "https://localhost:8080/"
    },
    "collapsed": true,
    "executionInfo": {
     "elapsed": 9,
     "status": "ok",
     "timestamp": 1669171721955,
     "user": {
      "displayName": "Phuong Khuat Thuy",
      "userId": "16807426118474640783"
     },
     "user_tz": -420
    },
    "id": "M7OUugZLoBoT",
    "outputId": "0c021e4f-3901-4cc3-ec57-aed47d7bd776"
   },
   "outputs": [
    {
     "name": "stdout",
     "output_type": "stream",
     "text": [
      "#######\n",
      ", Đáng đồng tiền\n",
      "#######\n",
      "Đặt một đen một trắng lại ra 1 trắng kem và 1 trắng tinh:)) giao hàng thì cũng ok vải tầm bt\n",
      "#######\n",
      ", Chất lượng sản phẩm tuyệt vời, Đóng gói sản phẩm rất đẹp và chắc chắn, Shop phục vụ rất tốt, Rất đáng tiền, Thời gian giao hàng rất nhanh\n",
      "#######\n",
      ", Chất lượng sản phẩm rất kém, Shop phục vụ rất kém, Rất không đáng tiền, Thời gian giao hàng rất chậm\n",
      "#######\n",
      ", Chất lượng sản phẩm tuyệt vời, Đóng gói sản phẩm rất đẹp và chắc chắn\n"
     ]
    }
   ],
   "source": [
    "for item in data['comment'].head():\n",
    "    print(\"#######\")\n",
    "    print(item)"
   ]
  },
  {
   "cell_type": "code",
   "execution_count": 17,
   "metadata": {
    "executionInfo": {
     "elapsed": 363,
     "status": "ok",
     "timestamp": 1669171722312,
     "user": {
      "displayName": "Phuong Khuat Thuy",
      "userId": "16807426118474640783"
     },
     "user_tz": -420
    },
    "id": "bFV4CXEloBoU"
   },
   "outputs": [],
   "source": [
    "data['comment'] = data['comment'].apply(lambda x: process_text(str(x), emoji_dict, teen_dict, wrong_lst))"
   ]
  },
  {
   "cell_type": "code",
   "execution_count": 18,
   "metadata": {
    "colab": {
     "base_uri": "https://localhost:8080/"
    },
    "executionInfo": {
     "elapsed": 8,
     "status": "ok",
     "timestamp": 1669171722312,
     "user": {
      "displayName": "Phuong Khuat Thuy",
      "userId": "16807426118474640783"
     },
     "user_tz": -420
    },
    "id": "t9aEU9_WoBoU",
    "outputId": "c027c311-0998-4152-f006-2dc73cca435b"
   },
   "outputs": [
    {
     "name": "stdout",
     "output_type": "stream",
     "text": [
      "#######\n",
      "đáng đồng tiền.\n",
      "#######\n",
      "đặt một đen một trắng lại trắng và trắng hàng thì cũng đồng ý vải tầm .\n",
      "#######\n",
      "chất lượng sản phẩm tuyệt vời đóng gói sản phẩm rất đẹp và chắc chắn cửa tiệm phục vụ rất tốt rất đáng tiền thời hàng rất chóng.\n",
      "#######\n",
      "chất lượng sản phẩm rất kém cửa tiệm phục vụ rất kém rất không đáng tiền thời hàng rất chậm.\n",
      "#######\n",
      "chất lượng sản phẩm tuyệt vời đóng gói sản phẩm rất đẹp và chắc chắn.\n"
     ]
    }
   ],
   "source": [
    "for item in data['comment'].head():\n",
    "    print(\"#######\")\n",
    "    print(item)"
   ]
  },
  {
   "cell_type": "markdown",
   "metadata": {
    "id": "pcxJkeNXoBoU"
   },
   "source": [
    "# Chuẩn hóa Unicode Tiếng Việt"
   ]
  },
  {
   "cell_type": "code",
   "execution_count": 19,
   "metadata": {
    "executionInfo": {
     "elapsed": 7,
     "status": "ok",
     "timestamp": 1669171722313,
     "user": {
      "displayName": "Phuong Khuat Thuy",
      "userId": "16807426118474640783"
     },
     "user_tz": -420
    },
    "id": "kEoLjvqQoBoV"
   },
   "outputs": [],
   "source": [
    "data['comment'] = data['comment'].apply(lambda x: covert_unicode(str(x)))"
   ]
  },
  {
   "cell_type": "code",
   "execution_count": 20,
   "metadata": {
    "colab": {
     "base_uri": "https://localhost:8080/"
    },
    "executionInfo": {
     "elapsed": 7,
     "status": "ok",
     "timestamp": 1669171722313,
     "user": {
      "displayName": "Phuong Khuat Thuy",
      "userId": "16807426118474640783"
     },
     "user_tz": -420
    },
    "id": "DyD5N6hNoBoV",
    "outputId": "9c5f9a56-0ccd-4ef2-f567-fc81f97edaac"
   },
   "outputs": [
    {
     "name": "stdout",
     "output_type": "stream",
     "text": [
      "#######\n",
      "đáng đồng tiền.\n",
      "#######\n",
      "đặt một đen một trắng lại trắng và trắng hàng thì cũng đồng ý vải tầm .\n",
      "#######\n",
      "chất lượng sản phẩm tuyệt vời đóng gói sản phẩm rất đẹp và chắc chắn cửa tiệm phục vụ rất tốt rất đáng tiền thời hàng rất chóng.\n",
      "#######\n",
      "chất lượng sản phẩm rất kém cửa tiệm phục vụ rất kém rất không đáng tiền thời hàng rất chậm.\n",
      "#######\n",
      "chất lượng sản phẩm tuyệt vời đóng gói sản phẩm rất đẹp và chắc chắn.\n"
     ]
    }
   ],
   "source": [
    "for item in data['comment'].head():\n",
    "    print(\"#######\")\n",
    "    print(item)"
   ]
  },
  {
   "cell_type": "markdown",
   "metadata": {
    "id": "38amR182oBoW"
   },
   "source": [
    "# process_postag_thesea"
   ]
  },
  {
   "cell_type": "code",
   "execution_count": 21,
   "metadata": {
    "executionInfo": {
     "elapsed": 805,
     "status": "ok",
     "timestamp": 1669171723114,
     "user": {
      "displayName": "Phuong Khuat Thuy",
      "userId": "16807426118474640783"
     },
     "user_tz": -420
    },
    "id": "fq20J7aroBoX"
   },
   "outputs": [],
   "source": [
    "data['comment_new'] = data['comment'].apply(lambda x: process_postag_thesea(str(x)))"
   ]
  },
  {
   "cell_type": "code",
   "execution_count": 22,
   "metadata": {
    "colab": {
     "base_uri": "https://localhost:8080/"
    },
    "executionInfo": {
     "elapsed": 4,
     "status": "ok",
     "timestamp": 1669171723114,
     "user": {
      "displayName": "Phuong Khuat Thuy",
      "userId": "16807426118474640783"
     },
     "user_tz": -420
    },
    "id": "-zEtAfcMoBoX",
    "outputId": "7483bdba-7281-4e6e-e14e-08bfd5226017"
   },
   "outputs": [
    {
     "name": "stdout",
     "output_type": "stream",
     "text": [
      "#######\n",
      "đáng đồng_tiền\n",
      "#######\n",
      "đặt đen trắng lại trắng trắng hàng cũng đồng_ý vải tầm\n",
      "#######\n",
      "chất_lượng sản_phẩm tuyệt_vời đóng_gói sản_phẩm rất đẹp chắc_chắn cửa tiệm phục_vụ rất tốt rất đáng tiền thời hàng rất chóng\n",
      "#######\n",
      "chất_lượng sản_phẩm rất kém cửa tiệm phục_vụ rất kém rất không_đáng tiền thời hàng rất chậm\n",
      "#######\n",
      "chất_lượng sản_phẩm tuyệt_vời đóng_gói sản_phẩm rất đẹp\n"
     ]
    }
   ],
   "source": [
    "for item in data['comment_new'].head():\n",
    "    print(\"#######\")\n",
    "    print(item)"
   ]
  },
  {
   "cell_type": "markdown",
   "metadata": {
    "id": "jL2zNk69oBoX"
   },
   "source": [
    "# Remove Stopword"
   ]
  },
  {
   "cell_type": "code",
   "execution_count": 23,
   "metadata": {
    "executionInfo": {
     "elapsed": 800,
     "status": "ok",
     "timestamp": 1669171723912,
     "user": {
      "displayName": "Phuong Khuat Thuy",
      "userId": "16807426118474640783"
     },
     "user_tz": -420
    },
    "id": "GqdG-IhpoBoY"
   },
   "outputs": [],
   "source": [
    "data['comment_new'] = data['comment_new'].apply(lambda x: remove_stopword(str(x), stopwords_lst))"
   ]
  },
  {
   "cell_type": "code",
   "execution_count": 24,
   "metadata": {
    "colab": {
     "base_uri": "https://localhost:8080/"
    },
    "executionInfo": {
     "elapsed": 4,
     "status": "ok",
     "timestamp": 1669171723912,
     "user": {
      "displayName": "Phuong Khuat Thuy",
      "userId": "16807426118474640783"
     },
     "user_tz": -420
    },
    "id": "ZHy8ZLDboBoY",
    "outputId": "33072525-2737-4c51-ee4f-262c3ac7f221"
   },
   "outputs": [
    {
     "name": "stdout",
     "output_type": "stream",
     "text": [
      "#######\n",
      "đồng_tiền\n",
      "#######\n",
      "đen trắng trắng trắng hàng đồng_ý vải tầm\n",
      "#######\n",
      "chất_lượng sản_phẩm tuyệt_vời đóng_gói sản_phẩm đẹp cửa tiệm phục_vụ tốt tiền thời hàng chóng\n",
      "#######\n",
      "chất_lượng sản_phẩm kém cửa tiệm phục_vụ kém không_đáng tiền thời hàng chậm\n",
      "#######\n",
      "chất_lượng sản_phẩm tuyệt_vời đóng_gói sản_phẩm đẹp\n"
     ]
    }
   ],
   "source": [
    "for item in data['comment_new'].head():\n",
    "    print(\"#######\")\n",
    "    print(item)"
   ]
  },
  {
   "cell_type": "code",
   "execution_count": null,
   "metadata": {
    "executionInfo": {
     "elapsed": 4,
     "status": "ok",
     "timestamp": 1669171723913,
     "user": {
      "displayName": "Phuong Khuat Thuy",
      "userId": "16807426118474640783"
     },
     "user_tz": -420
    },
    "id": "jwU3WE_koBoY"
   },
   "outputs": [],
   "source": []
  }
 ],
 "metadata": {
  "colab": {
   "provenance": []
  },
  "kernelspec": {
   "display_name": "Python 3 (ipykernel)",
   "language": "python",
   "name": "python3"
  },
  "language_info": {
   "codemirror_mode": {
    "name": "ipython",
    "version": 3
   },
   "file_extension": ".py",
   "mimetype": "text/x-python",
   "name": "python",
   "nbconvert_exporter": "python",
   "pygments_lexer": "ipython3",
   "version": "3.9.13"
  }
 },
 "nbformat": 4,
 "nbformat_minor": 1
}
