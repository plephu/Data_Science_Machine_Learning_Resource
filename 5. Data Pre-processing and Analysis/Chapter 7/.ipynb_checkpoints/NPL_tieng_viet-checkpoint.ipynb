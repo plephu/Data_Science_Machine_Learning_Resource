{
 "cells": [
  {
   "cell_type": "code",
   "execution_count": 1,
   "id": "0c762984",
   "metadata": {},
   "outputs": [],
   "source": [
    "import pandas as pd\n",
    "import numpy as np\n",
    "from underthesea import word_tokenize, pos_tag, sent_tokenize\n",
    "import regex\n",
    "import string\n",
    "\n"
   ]
  },
  {
   "cell_type": "markdown",
   "id": "a5e85ebe",
   "metadata": {},
   "source": [
    "### Read and overview"
   ]
  },
  {
   "cell_type": "code",
   "execution_count": 2,
   "id": "0836d74b",
   "metadata": {},
   "outputs": [],
   "source": [
    "df = pd.read_csv('./input_data/data/Products_ThoiTrangNam_comments_20K.csv')"
   ]
  },
  {
   "cell_type": "code",
   "execution_count": 3,
   "id": "d45090b2",
   "metadata": {},
   "outputs": [
    {
     "name": "stdout",
     "output_type": "stream",
     "text": [
      "<class 'pandas.core.frame.DataFrame'>\n",
      "RangeIndex: 20000 entries, 0 to 19999\n",
      "Data columns (total 6 columns):\n",
      " #   Column        Non-Null Count  Dtype \n",
      "---  ------        --------------  ----- \n",
      " 0   product_id    20000 non-null  int64 \n",
      " 1   category      20000 non-null  object\n",
      " 2   sub_category  20000 non-null  object\n",
      " 3   user          20000 non-null  object\n",
      " 4   rating        20000 non-null  int64 \n",
      " 5   comment       20000 non-null  object\n",
      "dtypes: int64(2), object(4)\n",
      "memory usage: 937.6+ KB\n"
     ]
    }
   ],
   "source": [
    "df.info()"
   ]
  },
  {
   "cell_type": "code",
   "execution_count": 4,
   "id": "096640ae",
   "metadata": {},
   "outputs": [],
   "source": [
    "### Preprocess data"
   ]
  },
  {
   "cell_type": "code",
   "execution_count": 5,
   "id": "4ed8f96b",
   "metadata": {},
   "outputs": [],
   "source": [
    "from mds5.analyzer.processor.text import TextProcessor"
   ]
  },
  {
   "cell_type": "code",
   "execution_count": 6,
   "id": "cb987691",
   "metadata": {},
   "outputs": [],
   "source": [
    "processor = TextProcessor()"
   ]
  },
  {
   "cell_type": "code",
   "execution_count": 7,
   "id": "941ca005",
   "metadata": {},
   "outputs": [],
   "source": [
    "df_negative = df[df.rating < 3].sample(n=1000)\n",
    "df_positive = df[df.rating > 4].sample(n=1000)\n",
    "df = pd.concat([df_negative, df_positive])"
   ]
  },
  {
   "cell_type": "markdown",
   "id": "0032fc1c",
   "metadata": {},
   "source": [
    "### Lower text"
   ]
  },
  {
   "cell_type": "code",
   "execution_count": 8,
   "id": "71643793",
   "metadata": {},
   "outputs": [],
   "source": [
    "df.comment = df.comment.str.lower()"
   ]
  },
  {
   "cell_type": "markdown",
   "id": "f97fe6ae",
   "metadata": {},
   "source": [
    "### Check duplicate"
   ]
  },
  {
   "cell_type": "code",
   "execution_count": 9,
   "id": "aa965559",
   "metadata": {},
   "outputs": [
    {
     "data": {
      "text/plain": [
       "491"
      ]
     },
     "execution_count": 9,
     "metadata": {},
     "output_type": "execute_result"
    }
   ],
   "source": [
    "df.comment.duplicated().sum()"
   ]
  },
  {
   "cell_type": "code",
   "execution_count": 10,
   "id": "912b0aef",
   "metadata": {},
   "outputs": [
    {
     "ename": "TypeError",
     "evalue": "drop_duplicates() got an unexpected keyword argument 'subset'",
     "output_type": "error",
     "traceback": [
      "\u001b[1;31m---------------------------------------------------------------------------\u001b[0m",
      "\u001b[1;31mTypeError\u001b[0m                                 Traceback (most recent call last)",
      "Cell \u001b[1;32mIn [10], line 2\u001b[0m\n\u001b[0;32m      1\u001b[0m df\u001b[38;5;241m.\u001b[39mdrop_duplicates(subset\u001b[38;5;241m=\u001b[39m\u001b[38;5;124m'\u001b[39m\u001b[38;5;124mcomment\u001b[39m\u001b[38;5;124m'\u001b[39m, inplace\u001b[38;5;241m=\u001b[39m\u001b[38;5;28;01mTrue\u001b[39;00m)\n\u001b[1;32m----> 2\u001b[0m \u001b[43mdf\u001b[49m\u001b[38;5;241;43m.\u001b[39;49m\u001b[43mcomment\u001b[49m\u001b[38;5;241;43m.\u001b[39;49m\u001b[43mdrop_duplicates\u001b[49m\u001b[43m(\u001b[49m\u001b[43msubset\u001b[49m\u001b[38;5;241;43m=\u001b[39;49m\u001b[38;5;124;43m'\u001b[39;49m\u001b[38;5;124;43mcomment\u001b[39;49m\u001b[38;5;124;43m'\u001b[39;49m\u001b[43m,\u001b[49m\u001b[43m \u001b[49m\u001b[43minplace\u001b[49m\u001b[38;5;241;43m=\u001b[39;49m\u001b[38;5;28;43;01mTrue\u001b[39;49;00m\u001b[43m)\u001b[49m\n",
      "File \u001b[1;32mC:\\Program Files\\Python39\\lib\\site-packages\\pandas\\util\\_decorators.py:331\u001b[0m, in \u001b[0;36mdeprecate_nonkeyword_arguments.<locals>.decorate.<locals>.wrapper\u001b[1;34m(*args, **kwargs)\u001b[0m\n\u001b[0;32m    325\u001b[0m \u001b[38;5;28;01mif\u001b[39;00m \u001b[38;5;28mlen\u001b[39m(args) \u001b[38;5;241m>\u001b[39m num_allow_args:\n\u001b[0;32m    326\u001b[0m     warnings\u001b[38;5;241m.\u001b[39mwarn(\n\u001b[0;32m    327\u001b[0m         msg\u001b[38;5;241m.\u001b[39mformat(arguments\u001b[38;5;241m=\u001b[39m_format_argument_list(allow_args)),\n\u001b[0;32m    328\u001b[0m         \u001b[38;5;167;01mFutureWarning\u001b[39;00m,\n\u001b[0;32m    329\u001b[0m         stacklevel\u001b[38;5;241m=\u001b[39mfind_stack_level(),\n\u001b[0;32m    330\u001b[0m     )\n\u001b[1;32m--> 331\u001b[0m \u001b[38;5;28;01mreturn\u001b[39;00m func(\u001b[38;5;241m*\u001b[39margs, \u001b[38;5;241m*\u001b[39m\u001b[38;5;241m*\u001b[39mkwargs)\n",
      "\u001b[1;31mTypeError\u001b[0m: drop_duplicates() got an unexpected keyword argument 'subset'"
     ]
    }
   ],
   "source": [
    "df.drop_duplicates(subset='comment', inplace=True)"
   ]
  },
  {
   "cell_type": "code",
   "execution_count": null,
   "id": "2930bb25",
   "metadata": {},
   "outputs": [],
   "source": [
    "df.info()"
   ]
  },
  {
   "cell_type": "code",
   "execution_count": null,
   "id": "b9e60af4",
   "metadata": {},
   "outputs": [],
   "source": [
    "df.reset_index(drop=True, inplace=True)"
   ]
  },
  {
   "cell_type": "code",
   "execution_count": null,
   "id": "bb9ad489",
   "metadata": {},
   "outputs": [],
   "source": [
    "df.head()"
   ]
  },
  {
   "cell_type": "markdown",
   "id": "7e079540",
   "metadata": {},
   "source": [
    "### Handle mising value"
   ]
  },
  {
   "cell_type": "code",
   "execution_count": null,
   "id": "4608cf7a",
   "metadata": {},
   "outputs": [],
   "source": [
    "df.info()"
   ]
  },
  {
   "cell_type": "markdown",
   "id": "d079a9fa",
   "metadata": {},
   "source": [
    "* No mising value"
   ]
  },
  {
   "cell_type": "markdown",
   "id": "e648a30f",
   "metadata": {},
   "source": [
    "### Remove `’` in text"
   ]
  },
  {
   "cell_type": "code",
   "execution_count": null,
   "id": "1a0aa4b6",
   "metadata": {},
   "outputs": [],
   "source": [
    "df.comment = df.comment.str.replace('’','')"
   ]
  },
  {
   "cell_type": "markdown",
   "id": "f19942e3",
   "metadata": {},
   "source": [
    "### Remove multiple dot to 1 dot"
   ]
  },
  {
   "cell_type": "code",
   "execution_count": null,
   "id": "6087c703",
   "metadata": {},
   "outputs": [],
   "source": [
    "df.comment = df.comment.apply(lambda x: regex.sub(r'\\.+','.',x))"
   ]
  },
  {
   "cell_type": "markdown",
   "id": "6bbb3b77",
   "metadata": {},
   "source": [
    "### Clean text"
   ]
  },
  {
   "cell_type": "code",
   "execution_count": null,
   "id": "4b2bf3c0",
   "metadata": {},
   "outputs": [],
   "source": [
    "df.comment = df.comment.apply(lambda x: processor.process_text(x))"
   ]
  },
  {
   "cell_type": "markdown",
   "id": "2652d37d",
   "metadata": {},
   "source": [
    "### Convert to unicode"
   ]
  },
  {
   "cell_type": "code",
   "execution_count": null,
   "id": "b4e510a8",
   "metadata": {},
   "outputs": [],
   "source": [
    "df.comment = df.comment.apply(lambda x: processor.covert_unicode(x))"
   ]
  },
  {
   "cell_type": "markdown",
   "id": "b1749b5d",
   "metadata": {},
   "source": [
    "## Filter postagging"
   ]
  },
  {
   "cell_type": "code",
   "execution_count": null,
   "id": "f5a06cd9",
   "metadata": {},
   "outputs": [],
   "source": [
    "df.comment = df.comment.apply(lambda x: processor.process_postag_thesea(x))"
   ]
  },
  {
   "cell_type": "markdown",
   "id": "1f0a0453",
   "metadata": {},
   "source": [
    "### Remove number"
   ]
  },
  {
   "cell_type": "code",
   "execution_count": 17,
   "id": "997f11b6",
   "metadata": {},
   "outputs": [],
   "source": [
    "df.comment = df.comment.apply(lambda x: regex.sub(r'\\d+','',x))"
   ]
  },
  {
   "cell_type": "markdown",
   "id": "88b925dc",
   "metadata": {},
   "source": [
    "### Feature Enginerring"
   ]
  },
  {
   "cell_type": "code",
   "execution_count": 31,
   "id": "7b682c07",
   "metadata": {},
   "outputs": [
    {
     "data": {
      "text/html": [
       "<div>\n",
       "<style scoped>\n",
       "    .dataframe tbody tr th:only-of-type {\n",
       "        vertical-align: middle;\n",
       "    }\n",
       "\n",
       "    .dataframe tbody tr th {\n",
       "        vertical-align: top;\n",
       "    }\n",
       "\n",
       "    .dataframe thead th {\n",
       "        text-align: right;\n",
       "    }\n",
       "</style>\n",
       "<table border=\"1\" class=\"dataframe\">\n",
       "  <thead>\n",
       "    <tr style=\"text-align: right;\">\n",
       "      <th></th>\n",
       "      <th>product_id</th>\n",
       "      <th>category</th>\n",
       "      <th>sub_category</th>\n",
       "      <th>user</th>\n",
       "      <th>rating</th>\n",
       "      <th>comment</th>\n",
       "    </tr>\n",
       "  </thead>\n",
       "  <tbody>\n",
       "    <tr>\n",
       "      <th>16870</th>\n",
       "      <td>554</td>\n",
       "      <td>Thời Trang Nam</td>\n",
       "      <td>Đồ Bộ</td>\n",
       "      <td>meo_moon12345</td>\n",
       "      <td>2</td>\n",
       "      <td>, chất lượng sản phẩm kém</td>\n",
       "    </tr>\n",
       "    <tr>\n",
       "      <th>19318</th>\n",
       "      <td>349</td>\n",
       "      <td>Thời Trang Nam</td>\n",
       "      <td>Áo Vest và Blazer</td>\n",
       "      <td>vungocnha12</td>\n",
       "      <td>1</td>\n",
       "      <td>chất lượng sản phẩm rất kém</td>\n",
       "    </tr>\n",
       "    <tr>\n",
       "      <th>18358</th>\n",
       "      <td>286</td>\n",
       "      <td>Thời Trang Nam</td>\n",
       "      <td>Vớ/ Tất</td>\n",
       "      <td>klt_80</td>\n",
       "      <td>1</td>\n",
       "      <td>, chất lượng sản phẩm rất kém</td>\n",
       "    </tr>\n",
       "    <tr>\n",
       "      <th>16582</th>\n",
       "      <td>45</td>\n",
       "      <td>Thời Trang Nam</td>\n",
       "      <td>Áo Hoodie, Áo Len &amp; Áo Nỉ</td>\n",
       "      <td>nakut3vn</td>\n",
       "      <td>2</td>\n",
       "      <td>đặt xanh dương gửi màu này. dẫu biết thực tế s...</td>\n",
       "    </tr>\n",
       "    <tr>\n",
       "      <th>18602</th>\n",
       "      <td>15</td>\n",
       "      <td>Thời Trang Nam</td>\n",
       "      <td>Áo</td>\n",
       "      <td>heopic</td>\n",
       "      <td>1</td>\n",
       "      <td>mua c đóng gói thành c , có cái bịch th cũng t...</td>\n",
       "    </tr>\n",
       "  </tbody>\n",
       "</table>\n",
       "</div>"
      ],
      "text/plain": [
       "       product_id        category               sub_category           user  \\\n",
       "16870         554  Thời Trang Nam                      Đồ Bộ  meo_moon12345   \n",
       "19318         349  Thời Trang Nam          Áo Vest và Blazer    vungocnha12   \n",
       "18358         286  Thời Trang Nam                    Vớ/ Tất         klt_80   \n",
       "16582          45  Thời Trang Nam  Áo Hoodie, Áo Len & Áo Nỉ       nakut3vn   \n",
       "18602          15  Thời Trang Nam                         Áo         heopic   \n",
       "\n",
       "       rating                                            comment  \n",
       "16870       2                          , chất lượng sản phẩm kém  \n",
       "19318       1                        chất lượng sản phẩm rất kém  \n",
       "18358       1                      , chất lượng sản phẩm rất kém  \n",
       "16582       2  đặt xanh dương gửi màu này. dẫu biết thực tế s...  \n",
       "18602       1  mua c đóng gói thành c , có cái bịch th cũng t...  "
      ]
     },
     "execution_count": 31,
     "metadata": {},
     "output_type": "execute_result"
    }
   ],
   "source": [
    "df.head()"
   ]
  },
  {
   "cell_type": "code",
   "execution_count": 32,
   "id": "63021518",
   "metadata": {},
   "outputs": [],
   "source": [
    "df['label'] = df.rating.apply(lambda x: 1 if x > 3 else 0)"
   ]
  },
  {
   "cell_type": "markdown",
   "id": "d6822927",
   "metadata": {},
   "source": [
    "### Visualize"
   ]
  },
  {
   "cell_type": "code",
   "execution_count": 33,
   "id": "daeb5dbf",
   "metadata": {},
   "outputs": [],
   "source": [
    "## Trực quan hóa cho label = 1 sử dụng wordcloud"
   ]
  },
  {
   "cell_type": "code",
   "execution_count": null,
   "id": "1edebd34",
   "metadata": {},
   "outputs": [],
   "source": [
    "## Trực quan hóa cho label = 0 sử dụng wordcloud"
   ]
  },
  {
   "cell_type": "markdown",
   "id": "b6951642",
   "metadata": {},
   "source": [
    "### Vectorize"
   ]
  },
  {
   "cell_type": "code",
   "execution_count": 18,
   "id": "ce1b0df3",
   "metadata": {},
   "outputs": [],
   "source": [
    "from sklearn.feature_extraction.text import TfidfVectorizer"
   ]
  },
  {
   "cell_type": "code",
   "execution_count": 19,
   "id": "48aa27d5",
   "metadata": {},
   "outputs": [],
   "source": [
    "vectorizer = TfidfVectorizer()\n"
   ]
  },
  {
   "cell_type": "code",
   "execution_count": 20,
   "id": "817e02cc",
   "metadata": {},
   "outputs": [],
   "source": [
    "vectorized_data = vectorizer.fit_transform(df['comment']).toarray()\n"
   ]
  },
  {
   "cell_type": "code",
   "execution_count": 21,
   "id": "99cb62aa",
   "metadata": {},
   "outputs": [
    {
     "data": {
      "text/plain": [
       "array(['_lúc', '_shop', '_đánh', ..., 'ủng', 'ức', 'ứng'], dtype=object)"
      ]
     },
     "execution_count": 21,
     "metadata": {},
     "output_type": "execute_result"
    }
   ],
   "source": [
    "vectorizer.get_feature_names_out()"
   ]
  },
  {
   "cell_type": "code",
   "execution_count": 22,
   "id": "62c582d3",
   "metadata": {},
   "outputs": [],
   "source": [
    "vectorizer_df = pd.DataFrame(vectorized_data, \n",
    "                             columns=vectorizer.get_feature_names_out())"
   ]
  },
  {
   "cell_type": "code",
   "execution_count": 23,
   "id": "2a0c5f4a",
   "metadata": {},
   "outputs": [
    {
     "data": {
      "text/html": [
       "<div>\n",
       "<style scoped>\n",
       "    .dataframe tbody tr th:only-of-type {\n",
       "        vertical-align: middle;\n",
       "    }\n",
       "\n",
       "    .dataframe tbody tr th {\n",
       "        vertical-align: top;\n",
       "    }\n",
       "\n",
       "    .dataframe thead th {\n",
       "        text-align: right;\n",
       "    }\n",
       "</style>\n",
       "<table border=\"1\" class=\"dataframe\">\n",
       "  <thead>\n",
       "    <tr style=\"text-align: right;\">\n",
       "      <th></th>\n",
       "      <th>_lúc</th>\n",
       "      <th>_shop</th>\n",
       "      <th>_đánh</th>\n",
       "      <th>aaaa</th>\n",
       "      <th>abcefghacvxhvghffyfjfhguhghfygugtyf</th>\n",
       "      <th>about</th>\n",
       "      <th>ace</th>\n",
       "      <th>actually</th>\n",
       "      <th>admin</th>\n",
       "      <th>ae</th>\n",
       "      <th>...</th>\n",
       "      <th>ốm</th>\n",
       "      <th>ống</th>\n",
       "      <th>ổn</th>\n",
       "      <th>ổng</th>\n",
       "      <th>ổnnn</th>\n",
       "      <th>ủa</th>\n",
       "      <th>ủi</th>\n",
       "      <th>ủng</th>\n",
       "      <th>ức</th>\n",
       "      <th>ứng</th>\n",
       "    </tr>\n",
       "  </thead>\n",
       "  <tbody>\n",
       "    <tr>\n",
       "      <th>0</th>\n",
       "      <td>0.0</td>\n",
       "      <td>0.0</td>\n",
       "      <td>0.0</td>\n",
       "      <td>0.0</td>\n",
       "      <td>0.0</td>\n",
       "      <td>0.0</td>\n",
       "      <td>0.0</td>\n",
       "      <td>0.0</td>\n",
       "      <td>0.0</td>\n",
       "      <td>0.000000</td>\n",
       "      <td>...</td>\n",
       "      <td>0.0</td>\n",
       "      <td>0.0</td>\n",
       "      <td>0.000000</td>\n",
       "      <td>0.0</td>\n",
       "      <td>0.0</td>\n",
       "      <td>0.0</td>\n",
       "      <td>0.0</td>\n",
       "      <td>0.000000</td>\n",
       "      <td>0.0</td>\n",
       "      <td>0.0</td>\n",
       "    </tr>\n",
       "    <tr>\n",
       "      <th>1</th>\n",
       "      <td>0.0</td>\n",
       "      <td>0.0</td>\n",
       "      <td>0.0</td>\n",
       "      <td>0.0</td>\n",
       "      <td>0.0</td>\n",
       "      <td>0.0</td>\n",
       "      <td>0.0</td>\n",
       "      <td>0.0</td>\n",
       "      <td>0.0</td>\n",
       "      <td>0.000000</td>\n",
       "      <td>...</td>\n",
       "      <td>0.0</td>\n",
       "      <td>0.0</td>\n",
       "      <td>0.000000</td>\n",
       "      <td>0.0</td>\n",
       "      <td>0.0</td>\n",
       "      <td>0.0</td>\n",
       "      <td>0.0</td>\n",
       "      <td>0.000000</td>\n",
       "      <td>0.0</td>\n",
       "      <td>0.0</td>\n",
       "    </tr>\n",
       "    <tr>\n",
       "      <th>2</th>\n",
       "      <td>0.0</td>\n",
       "      <td>0.0</td>\n",
       "      <td>0.0</td>\n",
       "      <td>0.0</td>\n",
       "      <td>0.0</td>\n",
       "      <td>0.0</td>\n",
       "      <td>0.0</td>\n",
       "      <td>0.0</td>\n",
       "      <td>0.0</td>\n",
       "      <td>0.000000</td>\n",
       "      <td>...</td>\n",
       "      <td>0.0</td>\n",
       "      <td>0.0</td>\n",
       "      <td>0.000000</td>\n",
       "      <td>0.0</td>\n",
       "      <td>0.0</td>\n",
       "      <td>0.0</td>\n",
       "      <td>0.0</td>\n",
       "      <td>0.000000</td>\n",
       "      <td>0.0</td>\n",
       "      <td>0.0</td>\n",
       "    </tr>\n",
       "    <tr>\n",
       "      <th>3</th>\n",
       "      <td>0.0</td>\n",
       "      <td>0.0</td>\n",
       "      <td>0.0</td>\n",
       "      <td>0.0</td>\n",
       "      <td>0.0</td>\n",
       "      <td>0.0</td>\n",
       "      <td>0.0</td>\n",
       "      <td>0.0</td>\n",
       "      <td>0.0</td>\n",
       "      <td>0.000000</td>\n",
       "      <td>...</td>\n",
       "      <td>0.0</td>\n",
       "      <td>0.0</td>\n",
       "      <td>0.000000</td>\n",
       "      <td>0.0</td>\n",
       "      <td>0.0</td>\n",
       "      <td>0.0</td>\n",
       "      <td>0.0</td>\n",
       "      <td>0.000000</td>\n",
       "      <td>0.0</td>\n",
       "      <td>0.0</td>\n",
       "    </tr>\n",
       "    <tr>\n",
       "      <th>4</th>\n",
       "      <td>0.0</td>\n",
       "      <td>0.0</td>\n",
       "      <td>0.0</td>\n",
       "      <td>0.0</td>\n",
       "      <td>0.0</td>\n",
       "      <td>0.0</td>\n",
       "      <td>0.0</td>\n",
       "      <td>0.0</td>\n",
       "      <td>0.0</td>\n",
       "      <td>0.000000</td>\n",
       "      <td>...</td>\n",
       "      <td>0.0</td>\n",
       "      <td>0.0</td>\n",
       "      <td>0.000000</td>\n",
       "      <td>0.0</td>\n",
       "      <td>0.0</td>\n",
       "      <td>0.0</td>\n",
       "      <td>0.0</td>\n",
       "      <td>0.000000</td>\n",
       "      <td>0.0</td>\n",
       "      <td>0.0</td>\n",
       "    </tr>\n",
       "    <tr>\n",
       "      <th>...</th>\n",
       "      <td>...</td>\n",
       "      <td>...</td>\n",
       "      <td>...</td>\n",
       "      <td>...</td>\n",
       "      <td>...</td>\n",
       "      <td>...</td>\n",
       "      <td>...</td>\n",
       "      <td>...</td>\n",
       "      <td>...</td>\n",
       "      <td>...</td>\n",
       "      <td>...</td>\n",
       "      <td>...</td>\n",
       "      <td>...</td>\n",
       "      <td>...</td>\n",
       "      <td>...</td>\n",
       "      <td>...</td>\n",
       "      <td>...</td>\n",
       "      <td>...</td>\n",
       "      <td>...</td>\n",
       "      <td>...</td>\n",
       "      <td>...</td>\n",
       "    </tr>\n",
       "    <tr>\n",
       "      <th>1504</th>\n",
       "      <td>0.0</td>\n",
       "      <td>0.0</td>\n",
       "      <td>0.0</td>\n",
       "      <td>0.0</td>\n",
       "      <td>0.0</td>\n",
       "      <td>0.0</td>\n",
       "      <td>0.0</td>\n",
       "      <td>0.0</td>\n",
       "      <td>0.0</td>\n",
       "      <td>0.000000</td>\n",
       "      <td>...</td>\n",
       "      <td>0.0</td>\n",
       "      <td>0.0</td>\n",
       "      <td>0.000000</td>\n",
       "      <td>0.0</td>\n",
       "      <td>0.0</td>\n",
       "      <td>0.0</td>\n",
       "      <td>0.0</td>\n",
       "      <td>0.000000</td>\n",
       "      <td>0.0</td>\n",
       "      <td>0.0</td>\n",
       "    </tr>\n",
       "    <tr>\n",
       "      <th>1505</th>\n",
       "      <td>0.0</td>\n",
       "      <td>0.0</td>\n",
       "      <td>0.0</td>\n",
       "      <td>0.0</td>\n",
       "      <td>0.0</td>\n",
       "      <td>0.0</td>\n",
       "      <td>0.0</td>\n",
       "      <td>0.0</td>\n",
       "      <td>0.0</td>\n",
       "      <td>0.000000</td>\n",
       "      <td>...</td>\n",
       "      <td>0.0</td>\n",
       "      <td>0.0</td>\n",
       "      <td>0.000000</td>\n",
       "      <td>0.0</td>\n",
       "      <td>0.0</td>\n",
       "      <td>0.0</td>\n",
       "      <td>0.0</td>\n",
       "      <td>0.267993</td>\n",
       "      <td>0.0</td>\n",
       "      <td>0.0</td>\n",
       "    </tr>\n",
       "    <tr>\n",
       "      <th>1506</th>\n",
       "      <td>0.0</td>\n",
       "      <td>0.0</td>\n",
       "      <td>0.0</td>\n",
       "      <td>0.0</td>\n",
       "      <td>0.0</td>\n",
       "      <td>0.0</td>\n",
       "      <td>0.0</td>\n",
       "      <td>0.0</td>\n",
       "      <td>0.0</td>\n",
       "      <td>0.173742</td>\n",
       "      <td>...</td>\n",
       "      <td>0.0</td>\n",
       "      <td>0.0</td>\n",
       "      <td>0.134385</td>\n",
       "      <td>0.0</td>\n",
       "      <td>0.0</td>\n",
       "      <td>0.0</td>\n",
       "      <td>0.0</td>\n",
       "      <td>0.000000</td>\n",
       "      <td>0.0</td>\n",
       "      <td>0.0</td>\n",
       "    </tr>\n",
       "    <tr>\n",
       "      <th>1507</th>\n",
       "      <td>0.0</td>\n",
       "      <td>0.0</td>\n",
       "      <td>0.0</td>\n",
       "      <td>0.0</td>\n",
       "      <td>0.0</td>\n",
       "      <td>0.0</td>\n",
       "      <td>0.0</td>\n",
       "      <td>0.0</td>\n",
       "      <td>0.0</td>\n",
       "      <td>0.000000</td>\n",
       "      <td>...</td>\n",
       "      <td>0.0</td>\n",
       "      <td>0.0</td>\n",
       "      <td>0.000000</td>\n",
       "      <td>0.0</td>\n",
       "      <td>0.0</td>\n",
       "      <td>0.0</td>\n",
       "      <td>0.0</td>\n",
       "      <td>0.000000</td>\n",
       "      <td>0.0</td>\n",
       "      <td>0.0</td>\n",
       "    </tr>\n",
       "    <tr>\n",
       "      <th>1508</th>\n",
       "      <td>0.0</td>\n",
       "      <td>0.0</td>\n",
       "      <td>0.0</td>\n",
       "      <td>0.0</td>\n",
       "      <td>0.0</td>\n",
       "      <td>0.0</td>\n",
       "      <td>0.0</td>\n",
       "      <td>0.0</td>\n",
       "      <td>0.0</td>\n",
       "      <td>0.000000</td>\n",
       "      <td>...</td>\n",
       "      <td>0.0</td>\n",
       "      <td>0.0</td>\n",
       "      <td>0.000000</td>\n",
       "      <td>0.0</td>\n",
       "      <td>0.0</td>\n",
       "      <td>0.0</td>\n",
       "      <td>0.0</td>\n",
       "      <td>0.000000</td>\n",
       "      <td>0.0</td>\n",
       "      <td>0.0</td>\n",
       "    </tr>\n",
       "  </tbody>\n",
       "</table>\n",
       "<p>1509 rows × 2377 columns</p>\n",
       "</div>"
      ],
      "text/plain": [
       "      _lúc  _shop  _đánh  aaaa  abcefghacvxhvghffyfjfhguhghfygugtyf  about  \\\n",
       "0      0.0    0.0    0.0   0.0                                  0.0    0.0   \n",
       "1      0.0    0.0    0.0   0.0                                  0.0    0.0   \n",
       "2      0.0    0.0    0.0   0.0                                  0.0    0.0   \n",
       "3      0.0    0.0    0.0   0.0                                  0.0    0.0   \n",
       "4      0.0    0.0    0.0   0.0                                  0.0    0.0   \n",
       "...    ...    ...    ...   ...                                  ...    ...   \n",
       "1504   0.0    0.0    0.0   0.0                                  0.0    0.0   \n",
       "1505   0.0    0.0    0.0   0.0                                  0.0    0.0   \n",
       "1506   0.0    0.0    0.0   0.0                                  0.0    0.0   \n",
       "1507   0.0    0.0    0.0   0.0                                  0.0    0.0   \n",
       "1508   0.0    0.0    0.0   0.0                                  0.0    0.0   \n",
       "\n",
       "      ace  actually  admin        ae  ...   ốm  ống        ổn  ổng  ổnnn   ủa  \\\n",
       "0     0.0       0.0    0.0  0.000000  ...  0.0  0.0  0.000000  0.0   0.0  0.0   \n",
       "1     0.0       0.0    0.0  0.000000  ...  0.0  0.0  0.000000  0.0   0.0  0.0   \n",
       "2     0.0       0.0    0.0  0.000000  ...  0.0  0.0  0.000000  0.0   0.0  0.0   \n",
       "3     0.0       0.0    0.0  0.000000  ...  0.0  0.0  0.000000  0.0   0.0  0.0   \n",
       "4     0.0       0.0    0.0  0.000000  ...  0.0  0.0  0.000000  0.0   0.0  0.0   \n",
       "...   ...       ...    ...       ...  ...  ...  ...       ...  ...   ...  ...   \n",
       "1504  0.0       0.0    0.0  0.000000  ...  0.0  0.0  0.000000  0.0   0.0  0.0   \n",
       "1505  0.0       0.0    0.0  0.000000  ...  0.0  0.0  0.000000  0.0   0.0  0.0   \n",
       "1506  0.0       0.0    0.0  0.173742  ...  0.0  0.0  0.134385  0.0   0.0  0.0   \n",
       "1507  0.0       0.0    0.0  0.000000  ...  0.0  0.0  0.000000  0.0   0.0  0.0   \n",
       "1508  0.0       0.0    0.0  0.000000  ...  0.0  0.0  0.000000  0.0   0.0  0.0   \n",
       "\n",
       "       ủi       ủng   ức  ứng  \n",
       "0     0.0  0.000000  0.0  0.0  \n",
       "1     0.0  0.000000  0.0  0.0  \n",
       "2     0.0  0.000000  0.0  0.0  \n",
       "3     0.0  0.000000  0.0  0.0  \n",
       "4     0.0  0.000000  0.0  0.0  \n",
       "...   ...       ...  ...  ...  \n",
       "1504  0.0  0.000000  0.0  0.0  \n",
       "1505  0.0  0.267993  0.0  0.0  \n",
       "1506  0.0  0.000000  0.0  0.0  \n",
       "1507  0.0  0.000000  0.0  0.0  \n",
       "1508  0.0  0.000000  0.0  0.0  \n",
       "\n",
       "[1509 rows x 2377 columns]"
      ]
     },
     "execution_count": 23,
     "metadata": {},
     "output_type": "execute_result"
    }
   ],
   "source": [
    "vectorizer_df"
   ]
  },
  {
   "cell_type": "markdown",
   "id": "bd88a97b",
   "metadata": {},
   "source": [
    "### Build model"
   ]
  },
  {
   "cell_type": "code",
   "execution_count": 29,
   "id": "e60bb4b0",
   "metadata": {},
   "outputs": [],
   "source": [
    "from sklearn.model_selection import train_test_split"
   ]
  },
  {
   "cell_type": "code",
   "execution_count": 34,
   "id": "eef17fd2",
   "metadata": {},
   "outputs": [],
   "source": [
    "X = vectorizer_df\n",
    "y = df['label']"
   ]
  },
  {
   "cell_type": "code",
   "execution_count": 38,
   "id": "1632d7fc",
   "metadata": {},
   "outputs": [],
   "source": [
    "X_train, X_test, y_train, y_test = train_test_split(X,y, test_size=0.2)"
   ]
  },
  {
   "cell_type": "code",
   "execution_count": 39,
   "id": "ea1b4fe4",
   "metadata": {},
   "outputs": [],
   "source": [
    "from sklearn.linear_model import LogisticRegression"
   ]
  },
  {
   "cell_type": "code",
   "execution_count": 40,
   "id": "2481e9d8",
   "metadata": {},
   "outputs": [],
   "source": [
    "model = LogisticRegression()"
   ]
  },
  {
   "cell_type": "code",
   "execution_count": 41,
   "id": "881b3907",
   "metadata": {},
   "outputs": [
    {
     "data": {
      "text/html": [
       "<style>#sk-container-id-1 {color: black;background-color: white;}#sk-container-id-1 pre{padding: 0;}#sk-container-id-1 div.sk-toggleable {background-color: white;}#sk-container-id-1 label.sk-toggleable__label {cursor: pointer;display: block;width: 100%;margin-bottom: 0;padding: 0.3em;box-sizing: border-box;text-align: center;}#sk-container-id-1 label.sk-toggleable__label-arrow:before {content: \"▸\";float: left;margin-right: 0.25em;color: #696969;}#sk-container-id-1 label.sk-toggleable__label-arrow:hover:before {color: black;}#sk-container-id-1 div.sk-estimator:hover label.sk-toggleable__label-arrow:before {color: black;}#sk-container-id-1 div.sk-toggleable__content {max-height: 0;max-width: 0;overflow: hidden;text-align: left;background-color: #f0f8ff;}#sk-container-id-1 div.sk-toggleable__content pre {margin: 0.2em;color: black;border-radius: 0.25em;background-color: #f0f8ff;}#sk-container-id-1 input.sk-toggleable__control:checked~div.sk-toggleable__content {max-height: 200px;max-width: 100%;overflow: auto;}#sk-container-id-1 input.sk-toggleable__control:checked~label.sk-toggleable__label-arrow:before {content: \"▾\";}#sk-container-id-1 div.sk-estimator input.sk-toggleable__control:checked~label.sk-toggleable__label {background-color: #d4ebff;}#sk-container-id-1 div.sk-label input.sk-toggleable__control:checked~label.sk-toggleable__label {background-color: #d4ebff;}#sk-container-id-1 input.sk-hidden--visually {border: 0;clip: rect(1px 1px 1px 1px);clip: rect(1px, 1px, 1px, 1px);height: 1px;margin: -1px;overflow: hidden;padding: 0;position: absolute;width: 1px;}#sk-container-id-1 div.sk-estimator {font-family: monospace;background-color: #f0f8ff;border: 1px dotted black;border-radius: 0.25em;box-sizing: border-box;margin-bottom: 0.5em;}#sk-container-id-1 div.sk-estimator:hover {background-color: #d4ebff;}#sk-container-id-1 div.sk-parallel-item::after {content: \"\";width: 100%;border-bottom: 1px solid gray;flex-grow: 1;}#sk-container-id-1 div.sk-label:hover label.sk-toggleable__label {background-color: #d4ebff;}#sk-container-id-1 div.sk-serial::before {content: \"\";position: absolute;border-left: 1px solid gray;box-sizing: border-box;top: 0;bottom: 0;left: 50%;z-index: 0;}#sk-container-id-1 div.sk-serial {display: flex;flex-direction: column;align-items: center;background-color: white;padding-right: 0.2em;padding-left: 0.2em;position: relative;}#sk-container-id-1 div.sk-item {position: relative;z-index: 1;}#sk-container-id-1 div.sk-parallel {display: flex;align-items: stretch;justify-content: center;background-color: white;position: relative;}#sk-container-id-1 div.sk-item::before, #sk-container-id-1 div.sk-parallel-item::before {content: \"\";position: absolute;border-left: 1px solid gray;box-sizing: border-box;top: 0;bottom: 0;left: 50%;z-index: -1;}#sk-container-id-1 div.sk-parallel-item {display: flex;flex-direction: column;z-index: 1;position: relative;background-color: white;}#sk-container-id-1 div.sk-parallel-item:first-child::after {align-self: flex-end;width: 50%;}#sk-container-id-1 div.sk-parallel-item:last-child::after {align-self: flex-start;width: 50%;}#sk-container-id-1 div.sk-parallel-item:only-child::after {width: 0;}#sk-container-id-1 div.sk-dashed-wrapped {border: 1px dashed gray;margin: 0 0.4em 0.5em 0.4em;box-sizing: border-box;padding-bottom: 0.4em;background-color: white;}#sk-container-id-1 div.sk-label label {font-family: monospace;font-weight: bold;display: inline-block;line-height: 1.2em;}#sk-container-id-1 div.sk-label-container {text-align: center;}#sk-container-id-1 div.sk-container {/* jupyter's `normalize.less` sets `[hidden] { display: none; }` but bootstrap.min.css set `[hidden] { display: none !important; }` so we also need the `!important` here to be able to override the default hidden behavior on the sphinx rendered scikit-learn.org. See: https://github.com/scikit-learn/scikit-learn/issues/21755 */display: inline-block !important;position: relative;}#sk-container-id-1 div.sk-text-repr-fallback {display: none;}</style><div id=\"sk-container-id-1\" class=\"sk-top-container\"><div class=\"sk-text-repr-fallback\"><pre>LogisticRegression()</pre><b>In a Jupyter environment, please rerun this cell to show the HTML representation or trust the notebook. <br />On GitHub, the HTML representation is unable to render, please try loading this page with nbviewer.org.</b></div><div class=\"sk-container\" hidden><div class=\"sk-item\"><div class=\"sk-estimator sk-toggleable\"><input class=\"sk-toggleable__control sk-hidden--visually\" id=\"sk-estimator-id-1\" type=\"checkbox\" checked><label for=\"sk-estimator-id-1\" class=\"sk-toggleable__label sk-toggleable__label-arrow\">LogisticRegression</label><div class=\"sk-toggleable__content\"><pre>LogisticRegression()</pre></div></div></div></div></div>"
      ],
      "text/plain": [
       "LogisticRegression()"
      ]
     },
     "execution_count": 41,
     "metadata": {},
     "output_type": "execute_result"
    }
   ],
   "source": [
    "model.fit(X_train, y_train)"
   ]
  },
  {
   "cell_type": "code",
   "execution_count": 42,
   "id": "82f3773f",
   "metadata": {},
   "outputs": [],
   "source": [
    "result = model.predict(X_test)"
   ]
  },
  {
   "cell_type": "markdown",
   "id": "370fbe49",
   "metadata": {},
   "source": [
    "### Evaluation model"
   ]
  },
  {
   "cell_type": "code",
   "execution_count": 43,
   "id": "d4ffa873",
   "metadata": {},
   "outputs": [],
   "source": [
    "from sklearn.metrics import confusion_matrix, classification_report"
   ]
  },
  {
   "cell_type": "code",
   "execution_count": 45,
   "id": "afd86b3a",
   "metadata": {},
   "outputs": [
    {
     "name": "stdout",
     "output_type": "stream",
     "text": [
      "Train accurracy: 0.9461474730737366\n",
      "Train accurracy: 0.8509933774834437\n"
     ]
    }
   ],
   "source": [
    "train_acc = model.score(X_train,y_train)\n",
    "test_acc = model.score(X_test,y_test)\n",
    "print(f'Train accurracy: {train_acc}')\n",
    "print(f'Train accurracy: {test_acc}')"
   ]
  },
  {
   "cell_type": "code",
   "execution_count": 46,
   "id": "ab2bc956",
   "metadata": {},
   "outputs": [
    {
     "data": {
      "text/plain": [
       "array([[147,  18],\n",
       "       [ 27, 110]], dtype=int64)"
      ]
     },
     "execution_count": 46,
     "metadata": {},
     "output_type": "execute_result"
    }
   ],
   "source": [
    "confusion_matrix(y_test, result)"
   ]
  },
  {
   "cell_type": "code",
   "execution_count": 49,
   "id": "d47554d7",
   "metadata": {},
   "outputs": [
    {
     "name": "stdout",
     "output_type": "stream",
     "text": [
      "              precision    recall  f1-score   support\n",
      "\n",
      "           0       0.84      0.89      0.87       165\n",
      "           1       0.86      0.80      0.83       137\n",
      "\n",
      "    accuracy                           0.85       302\n",
      "   macro avg       0.85      0.85      0.85       302\n",
      "weighted avg       0.85      0.85      0.85       302\n",
      "\n"
     ]
    }
   ],
   "source": [
    "print(classification_report(y_test, result))"
   ]
  },
  {
   "cell_type": "code",
   "execution_count": null,
   "id": "e556a1f3",
   "metadata": {},
   "outputs": [],
   "source": []
  }
 ],
 "metadata": {
  "kernelspec": {
   "display_name": "Python 3 (ipykernel)",
   "language": "python",
   "name": "python3"
  },
  "language_info": {
   "codemirror_mode": {
    "name": "ipython",
    "version": 3
   },
   "file_extension": ".py",
   "mimetype": "text/x-python",
   "name": "python",
   "nbconvert_exporter": "python",
   "pygments_lexer": "ipython3",
   "version": "3.9.13"
  }
 },
 "nbformat": 4,
 "nbformat_minor": 5
}
