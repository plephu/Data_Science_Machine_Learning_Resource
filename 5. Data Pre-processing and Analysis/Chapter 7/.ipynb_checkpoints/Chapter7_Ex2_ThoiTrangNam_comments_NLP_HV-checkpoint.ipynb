{
 "cells": [
  {
   "cell_type": "markdown",
   "metadata": {
    "id": "76OCEiMreIsp"
   },
   "source": [
    "# Chapter 7 - Ex2: NLP Thời Trang Nam - Comments (Shopee) "
   ]
  },
  {
   "cell_type": "code",
   "execution_count": null,
   "metadata": {
    "id": "7AEWvogBL1Zs"
   },
   "outputs": [],
   "source": [
    "!pip install underthesea"
   ]
  },
  {
   "cell_type": "code",
   "execution_count": null,
   "metadata": {
    "colab": {
     "base_uri": "https://localhost:8080/"
    },
    "executionInfo": {
     "elapsed": 4269,
     "status": "ok",
     "timestamp": 1669165532626,
     "user": {
      "displayName": "Phuong Khuat Thuy",
      "userId": "16807426118474640783"
     },
     "user_tz": -420
    },
    "id": "MhTsHq7xe_rL",
    "outputId": "8260bbf4-8bad-41f8-d24a-f42fe521beb9"
   },
   "outputs": [
    {
     "name": "stdout",
     "output_type": "stream",
     "text": [
      "Mounted at /content/gdrive\n",
      "/content/gdrive/My Drive/MDS5_2022/Practice_2022/Chapter7\n"
     ]
    }
   ],
   "source": [
    "from google.colab import drive\n",
    "drive.mount(\"/content/gdrive\", force_remount=True)\n",
    "%cd '/content/gdrive/My Drive/MDS5_2022/Practice_2022/Chapter7/'"
   ]
  },
  {
   "cell_type": "code",
   "execution_count": null,
   "metadata": {
    "id": "Kvr-qiG4eIst"
   },
   "outputs": [],
   "source": [
    "import pandas as pd\n",
    "import numpy as np\n",
    "from sklearn.naive_bayes import MultinomialNB\n",
    "from sklearn.feature_extraction.text import CountVectorizer, TfidfTransformer\n",
    "from sklearn.pipeline import Pipeline\n",
    "from sklearn.metrics import classification_report, confusion_matrix \n",
    "from sklearn.model_selection import train_test_split  \n",
    "from sklearn.tree import DecisionTreeClassifier\n",
    "from sklearn import metrics\n",
    "import matplotlib.pyplot as plt\n",
    "from underthesea import word_tokenize, pos_tag, sent_tokenize\n",
    "import regex\n",
    "import string\n",
    "from Viet_lib import *"
   ]
  },
  {
   "cell_type": "markdown",
   "metadata": {
    "id": "J-p5ozQ_eIsu"
   },
   "source": [
    "***** Dữ liệu đọc ra từ file 'Products_ThoiTrangNam_comments_20K.csv'   \n",
    "***** Bạn hãy làm phần tiền xử lý liệt kê dưới đây: \n",
    "1. Đọc dữ liệu -> dataframe\n",
    "2. Từ dataframe vừa đọc hãy lọc ra những dữ liệu có số lượng từ trong comment >=7 từ\n",
    "3. Với kết quả câu trên -> Tạo bộ dữ mới df_sub chỉ gồm 2 cột là 'comment' và 'rating' từ dữ liệu \n",
    "4. Xử lý dữ liệu thiếu, dữ liệu trùng trong df_sub\n",
    "5. Trong df_sub, từ cột 'rating' => tạo cột 'label' theo tiêu chí >=4: 1 (like), <4: 0 (not like)/ hoặc theo tiêu chí: <=2: 3 (not_like), 3: 2 (neutral), >=4: 1 (like)\n",
    "6. Trong df_sub, từ cột comment -> tạo cột **comment_new** theo các bước đã được hướng dẫn trong phần **Tiền xử lý dữ liệu tiếng Việt** (có thể bổ sung, hiệu chỉnh cho phù hợp với bộ dữ liệu này) để có dữ liệu xử lý.\n",
    "7. Dùng wordcloud để trực quan hóa dữ liệu 'comment_new' theo từng loại (like/not_like...)\n",
    "8. Lưu dữ liệu df_sub vào tập tin (ví dụ: \"Products_ThoiTrangNam_comments_20K_pre.csv\") để thực hiện build model ở phần sau.\n",
    "\n",
    "#### Chú ý: Các function cần thiết cho việc tiền xử lý dữ liệu Tiếng Việt nên để vào một file Viet_lib.py để gọi sử dụng khi cần"
   ]
  },
  {
   "cell_type": "code",
   "execution_count": null,
   "metadata": {
    "id": "s711qoNgexP7"
   },
   "outputs": [],
   "source": [
    "##LOAD EMOJICON\n",
    "file = open('files/emojicon.txt', 'r', encoding=\"utf8\")\n",
    "emoji_lst = file.read().split('\\n')\n",
    "emoji_dict = {}\n",
    "for line in emoji_lst:\n",
    "    key, value = line.split('\\t')\n",
    "    emoji_dict[key] = str(value)\n",
    "#print(teen_dict)\n",
    "file.close()\n",
    "#################\n",
    "#LOAD TEENCODE\n",
    "file = open('files/teencode.txt', 'r', encoding=\"utf8\")\n",
    "teen_lst = file.read().split('\\n')\n",
    "teen_dict = {}\n",
    "for line in teen_lst:\n",
    "    key, value = line.split('\\t')\n",
    "    teen_dict[key] = str(value)\n",
    "#print(teen_dict)\n",
    "file.close()\n",
    "###############\n",
    "#LOAD TRANSLATE ENGLISH -> VNMESE\n",
    "file = open('files/english-vnmese.txt', 'r', encoding=\"utf8\")\n",
    "englist_lst = file.read().split('\\n')\n",
    "for line in englist_lst:\n",
    "    key, value = line.split('\\t')\n",
    "    teen_dict[key] = str(value)\n",
    "#print(teen_dict)\n",
    "file.close()\n",
    "################\n",
    "#LOAD wrong words\n",
    "file = open('files/wrong-word.txt', 'r', encoding=\"utf8\")\n",
    "wrong_lst = file.read().split('\\n')\n",
    "file.close()\n",
    "#################\n",
    "#LOAD STOPWORDS\n",
    "file = open('files/vietnamese-stopwords.txt', 'r', encoding=\"utf8\")\n",
    "stopwords_lst = file.read().split('\\n')\n",
    "file.close()"
   ]
  },
  {
   "cell_type": "markdown",
   "metadata": {
    "id": "bW8_fCxWeIs3"
   },
   "source": [
    "#### Visualization Like & Not Like"
   ]
  }
 ],
 "metadata": {
  "colab": {
   "provenance": []
  },
  "kernelspec": {
   "display_name": "Python 3 (ipykernel)",
   "language": "python",
   "name": "python3"
  },
  "language_info": {
   "codemirror_mode": {
    "name": "ipython",
    "version": 3
   },
   "file_extension": ".py",
   "mimetype": "text/x-python",
   "name": "python",
   "nbconvert_exporter": "python",
   "pygments_lexer": "ipython3",
   "version": "3.9.12"
  }
 },
 "nbformat": 4,
 "nbformat_minor": 4
}
