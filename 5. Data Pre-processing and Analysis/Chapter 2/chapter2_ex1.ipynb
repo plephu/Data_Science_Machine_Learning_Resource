{
 "cells": [
  {
   "cell_type": "markdown",
   "id": "11159513-8d3a-4bf8-a34b-861b402bf6fd",
   "metadata": {
    "tags": []
   },
   "source": [
    "### Import library"
   ]
  },
  {
   "cell_type": "code",
   "execution_count": 2,
   "id": "02ad93ef-21be-4c02-9749-810777fffc6a",
   "metadata": {
    "tags": []
   },
   "outputs": [],
   "source": [
    "import pandas as pd\n",
    "import numpy as np\n",
    "import matplotlib.pyplot as plt\n",
    "import seaborn as sns"
   ]
  },
  {
   "cell_type": "code",
   "execution_count": 3,
   "id": "4df51fe9-a3a5-4e43-b101-47c0b41f0e70",
   "metadata": {
    "tags": []
   },
   "outputs": [],
   "source": [
    "df = pd.read_excel('./input_data/Diemthi_thpt_quocgia_2016.xlsx')"
   ]
  },
  {
   "cell_type": "code",
   "execution_count": 4,
   "id": "5b3491fd-2249-4ad4-9347-acf1125a0afc",
   "metadata": {
    "tags": []
   },
   "outputs": [
    {
     "data": {
      "text/html": [
       "<div>\n",
       "<style scoped>\n",
       "    .dataframe tbody tr th:only-of-type {\n",
       "        vertical-align: middle;\n",
       "    }\n",
       "\n",
       "    .dataframe tbody tr th {\n",
       "        vertical-align: top;\n",
       "    }\n",
       "\n",
       "    .dataframe thead th {\n",
       "        text-align: right;\n",
       "    }\n",
       "</style>\n",
       "<table border=\"1\" class=\"dataframe\">\n",
       "  <thead>\n",
       "    <tr style=\"text-align: right;\">\n",
       "      <th></th>\n",
       "      <th>SOBAODANH</th>\n",
       "      <th>HO_TEN</th>\n",
       "      <th>NGAY_SINH</th>\n",
       "      <th>TEN_CUMTHI</th>\n",
       "      <th>GIOI_TINH</th>\n",
       "      <th>DIEM_THI</th>\n",
       "    </tr>\n",
       "  </thead>\n",
       "  <tbody>\n",
       "    <tr>\n",
       "      <th>0</th>\n",
       "      <td>018000001</td>\n",
       "      <td>DƯƠNG VIỆT AN</td>\n",
       "      <td>12/03/1998</td>\n",
       "      <td>Sở GDĐT Bắc Giang</td>\n",
       "      <td>Nam</td>\n",
       "      <td>Toán:   2.00   Ngữ văn:   5.50   Lịch sử:   3....</td>\n",
       "    </tr>\n",
       "    <tr>\n",
       "      <th>1</th>\n",
       "      <td>018000002</td>\n",
       "      <td>ĐỖ VĂN AN</td>\n",
       "      <td>09/12/1998</td>\n",
       "      <td>Sở GDĐT Bắc Giang</td>\n",
       "      <td>Nam</td>\n",
       "      <td>Toán:   5.50   Ngữ văn:   5.25   Địa lí:   5.5...</td>\n",
       "    </tr>\n",
       "    <tr>\n",
       "      <th>2</th>\n",
       "      <td>018000003</td>\n",
       "      <td>ĐỖ XUÂN AN</td>\n",
       "      <td>12/08/1997</td>\n",
       "      <td>Sở GDĐT Bắc Giang</td>\n",
       "      <td>Nam</td>\n",
       "      <td>Toán:   4.50   Ngữ văn:   5.50   Địa lí:   3.7...</td>\n",
       "    </tr>\n",
       "    <tr>\n",
       "      <th>3</th>\n",
       "      <td>018000004</td>\n",
       "      <td>ĐẶNG PHÚC AN</td>\n",
       "      <td>19/03/1998</td>\n",
       "      <td>Sở GDĐT Bắc Giang</td>\n",
       "      <td>Nữ</td>\n",
       "      <td>Toán:   3.00   Ngữ văn:   6.00   Địa lí:   5.5...</td>\n",
       "    </tr>\n",
       "    <tr>\n",
       "      <th>4</th>\n",
       "      <td>018000005</td>\n",
       "      <td>ĐẶNG VĂN AN</td>\n",
       "      <td>25/10/1998</td>\n",
       "      <td>Sở GDĐT Bắc Giang</td>\n",
       "      <td>Nam</td>\n",
       "      <td>Toán:   2.25   Ngữ văn:   4.75   Địa lí:   5.2...</td>\n",
       "    </tr>\n",
       "  </tbody>\n",
       "</table>\n",
       "</div>"
      ],
      "text/plain": [
       "   SOBAODANH         HO_TEN   NGAY_SINH         TEN_CUMTHI GIOI_TINH  \\\n",
       "0  018000001  DƯƠNG VIỆT AN  12/03/1998  Sở GDĐT Bắc Giang       Nam   \n",
       "1  018000002      ĐỖ VĂN AN  09/12/1998  Sở GDĐT Bắc Giang       Nam   \n",
       "2  018000003     ĐỖ XUÂN AN  12/08/1997  Sở GDĐT Bắc Giang       Nam   \n",
       "3  018000004   ĐẶNG PHÚC AN  19/03/1998  Sở GDĐT Bắc Giang        Nữ   \n",
       "4  018000005    ĐẶNG VĂN AN  25/10/1998  Sở GDĐT Bắc Giang       Nam   \n",
       "\n",
       "                                            DIEM_THI  \n",
       "0  Toán:   2.00   Ngữ văn:   5.50   Lịch sử:   3....  \n",
       "1  Toán:   5.50   Ngữ văn:   5.25   Địa lí:   5.5...  \n",
       "2  Toán:   4.50   Ngữ văn:   5.50   Địa lí:   3.7...  \n",
       "3  Toán:   3.00   Ngữ văn:   6.00   Địa lí:   5.5...  \n",
       "4  Toán:   2.25   Ngữ văn:   4.75   Địa lí:   5.2...  "
      ]
     },
     "execution_count": 4,
     "metadata": {},
     "output_type": "execute_result"
    }
   ],
   "source": [
    "df.head()"
   ]
  },
  {
   "cell_type": "code",
   "execution_count": 5,
   "id": "67e6e8bf-2012-40ff-8a95-ff7c0c048f41",
   "metadata": {
    "tags": []
   },
   "outputs": [
    {
     "data": {
      "text/html": [
       "<div>\n",
       "<style scoped>\n",
       "    .dataframe tbody tr th:only-of-type {\n",
       "        vertical-align: middle;\n",
       "    }\n",
       "\n",
       "    .dataframe tbody tr th {\n",
       "        vertical-align: top;\n",
       "    }\n",
       "\n",
       "    .dataframe thead th {\n",
       "        text-align: right;\n",
       "    }\n",
       "</style>\n",
       "<table border=\"1\" class=\"dataframe\">\n",
       "  <thead>\n",
       "    <tr style=\"text-align: right;\">\n",
       "      <th></th>\n",
       "      <th>SOBAODANH</th>\n",
       "      <th>HO_TEN</th>\n",
       "      <th>NGAY_SINH</th>\n",
       "      <th>TEN_CUMTHI</th>\n",
       "      <th>GIOI_TINH</th>\n",
       "      <th>DIEM_THI</th>\n",
       "    </tr>\n",
       "  </thead>\n",
       "  <tbody>\n",
       "    <tr>\n",
       "      <th>34821</th>\n",
       "      <td>HUI014539</td>\n",
       "      <td>VÒNG NGỌC YẾN</td>\n",
       "      <td>15/05/1998</td>\n",
       "      <td>Trường Đại học Công nghiệp Tp. HCM</td>\n",
       "      <td>Nữ</td>\n",
       "      <td>Toán:   0.75   Ngữ văn:   5.00   Hóa học:   4....</td>\n",
       "    </tr>\n",
       "    <tr>\n",
       "      <th>34822</th>\n",
       "      <td>HUI014540</td>\n",
       "      <td>VÒNG THANH YẾN</td>\n",
       "      <td>09/09/1998</td>\n",
       "      <td>Trường Đại học Công nghiệp Tp. HCM</td>\n",
       "      <td>Nữ</td>\n",
       "      <td>Toán:   4.75   Ngữ văn:   5.75   Vật lí:   6.8...</td>\n",
       "    </tr>\n",
       "    <tr>\n",
       "      <th>34823</th>\n",
       "      <td>HUI014541</td>\n",
       "      <td>VŨ THỊ BẢO YẾN</td>\n",
       "      <td>19/05/1998</td>\n",
       "      <td>Trường Đại học Công nghiệp Tp. HCM</td>\n",
       "      <td>Nữ</td>\n",
       "      <td>Toán:   4.00   Ngữ văn:   5.50   Vật lí:   5.6...</td>\n",
       "    </tr>\n",
       "    <tr>\n",
       "      <th>34824</th>\n",
       "      <td>HUI014542</td>\n",
       "      <td>VŨ THỊ YẾN</td>\n",
       "      <td>13/01/1998</td>\n",
       "      <td>Trường Đại học Công nghiệp Tp. HCM</td>\n",
       "      <td>Nữ</td>\n",
       "      <td>Toán:   5.75   Ngữ văn:   6.00   Vật lí:   7.4...</td>\n",
       "    </tr>\n",
       "    <tr>\n",
       "      <th>34825</th>\n",
       "      <td>HUI014543</td>\n",
       "      <td>VƯƠNG THỊ YẾN</td>\n",
       "      <td>05/02/1998</td>\n",
       "      <td>Trường Đại học Công nghiệp Tp. HCM</td>\n",
       "      <td>Nữ</td>\n",
       "      <td>Toán:   2.50   Ngữ văn:   4.25   Vật lí:   4.2...</td>\n",
       "    </tr>\n",
       "  </tbody>\n",
       "</table>\n",
       "</div>"
      ],
      "text/plain": [
       "       SOBAODANH          HO_TEN   NGAY_SINH  \\\n",
       "34821  HUI014539   VÒNG NGỌC YẾN  15/05/1998   \n",
       "34822  HUI014540  VÒNG THANH YẾN  09/09/1998   \n",
       "34823  HUI014541  VŨ THỊ BẢO YẾN  19/05/1998   \n",
       "34824  HUI014542      VŨ THỊ YẾN  13/01/1998   \n",
       "34825  HUI014543   VƯƠNG THỊ YẾN  05/02/1998   \n",
       "\n",
       "                               TEN_CUMTHI GIOI_TINH  \\\n",
       "34821  Trường Đại học Công nghiệp Tp. HCM        Nữ   \n",
       "34822  Trường Đại học Công nghiệp Tp. HCM        Nữ   \n",
       "34823  Trường Đại học Công nghiệp Tp. HCM        Nữ   \n",
       "34824  Trường Đại học Công nghiệp Tp. HCM        Nữ   \n",
       "34825  Trường Đại học Công nghiệp Tp. HCM        Nữ   \n",
       "\n",
       "                                                DIEM_THI  \n",
       "34821  Toán:   0.75   Ngữ văn:   5.00   Hóa học:   4....  \n",
       "34822  Toán:   4.75   Ngữ văn:   5.75   Vật lí:   6.8...  \n",
       "34823  Toán:   4.00   Ngữ văn:   5.50   Vật lí:   5.6...  \n",
       "34824  Toán:   5.75   Ngữ văn:   6.00   Vật lí:   7.4...  \n",
       "34825  Toán:   2.50   Ngữ văn:   4.25   Vật lí:   4.2...  "
      ]
     },
     "execution_count": 5,
     "metadata": {},
     "output_type": "execute_result"
    }
   ],
   "source": [
    "df.tail()"
   ]
  },
  {
   "cell_type": "code",
   "execution_count": 6,
   "id": "438665d7-c700-4cb3-b601-73d31f275272",
   "metadata": {
    "tags": []
   },
   "outputs": [
    {
     "name": "stdout",
     "output_type": "stream",
     "text": [
      "<class 'pandas.core.frame.DataFrame'>\n",
      "RangeIndex: 34826 entries, 0 to 34825\n",
      "Data columns (total 6 columns):\n",
      " #   Column      Non-Null Count  Dtype \n",
      "---  ------      --------------  ----- \n",
      " 0   SOBAODANH   34826 non-null  object\n",
      " 1   HO_TEN      34826 non-null  object\n",
      " 2   NGAY_SINH   34826 non-null  object\n",
      " 3   TEN_CUMTHI  34826 non-null  object\n",
      " 4   GIOI_TINH   34826 non-null  object\n",
      " 5   DIEM_THI    34826 non-null  object\n",
      "dtypes: object(6)\n",
      "memory usage: 1.6+ MB\n"
     ]
    }
   ],
   "source": [
    "df.info()"
   ]
  },
  {
   "cell_type": "code",
   "execution_count": 7,
   "id": "ca4b9cf3-8bfc-4a80-9f06-59bc1cb8b556",
   "metadata": {
    "tags": []
   },
   "outputs": [
    {
     "data": {
      "text/html": [
       "<div>\n",
       "<style scoped>\n",
       "    .dataframe tbody tr th:only-of-type {\n",
       "        vertical-align: middle;\n",
       "    }\n",
       "\n",
       "    .dataframe tbody tr th {\n",
       "        vertical-align: top;\n",
       "    }\n",
       "\n",
       "    .dataframe thead th {\n",
       "        text-align: right;\n",
       "    }\n",
       "</style>\n",
       "<table border=\"1\" class=\"dataframe\">\n",
       "  <thead>\n",
       "    <tr style=\"text-align: right;\">\n",
       "      <th></th>\n",
       "      <th>SOBAODANH</th>\n",
       "      <th>HO_TEN</th>\n",
       "      <th>NGAY_SINH</th>\n",
       "      <th>TEN_CUMTHI</th>\n",
       "      <th>GIOI_TINH</th>\n",
       "      <th>DIEM_THI</th>\n",
       "    </tr>\n",
       "  </thead>\n",
       "  <tbody>\n",
       "    <tr>\n",
       "      <th>count</th>\n",
       "      <td>34826</td>\n",
       "      <td>34826</td>\n",
       "      <td>34826</td>\n",
       "      <td>34826</td>\n",
       "      <td>34826</td>\n",
       "      <td>34826</td>\n",
       "    </tr>\n",
       "    <tr>\n",
       "      <th>unique</th>\n",
       "      <td>34826</td>\n",
       "      <td>23763</td>\n",
       "      <td>2040</td>\n",
       "      <td>4</td>\n",
       "      <td>2</td>\n",
       "      <td>33945</td>\n",
       "    </tr>\n",
       "    <tr>\n",
       "      <th>top</th>\n",
       "      <td>018000001</td>\n",
       "      <td>NGUYỄN THỊ HẰNG</td>\n",
       "      <td>01/01/1998</td>\n",
       "      <td>Trường Đại học Công nghiệp Tp. HCM</td>\n",
       "      <td>Nữ</td>\n",
       "      <td>Ngữ văn:   6.00</td>\n",
       "    </tr>\n",
       "    <tr>\n",
       "      <th>freq</th>\n",
       "      <td>1</td>\n",
       "      <td>58</td>\n",
       "      <td>225</td>\n",
       "      <td>14410</td>\n",
       "      <td>17833</td>\n",
       "      <td>5</td>\n",
       "    </tr>\n",
       "  </tbody>\n",
       "</table>\n",
       "</div>"
      ],
      "text/plain": [
       "        SOBAODANH           HO_TEN   NGAY_SINH  \\\n",
       "count       34826            34826       34826   \n",
       "unique      34826            23763        2040   \n",
       "top     018000001  NGUYỄN THỊ HẰNG  01/01/1998   \n",
       "freq            1               58         225   \n",
       "\n",
       "                                TEN_CUMTHI GIOI_TINH         DIEM_THI  \n",
       "count                                34826     34826            34826  \n",
       "unique                                   4         2            33945  \n",
       "top     Trường Đại học Công nghiệp Tp. HCM        Nữ  Ngữ văn:   6.00  \n",
       "freq                                 14410     17833                5  "
      ]
     },
     "execution_count": 7,
     "metadata": {},
     "output_type": "execute_result"
    }
   ],
   "source": [
    "df.describe()"
   ]
  },
  {
   "cell_type": "markdown",
   "id": "31be8922-d252-45fe-bffc-c08effa0d3ff",
   "metadata": {
    "tags": []
   },
   "source": [
    "### Requirement 2"
   ]
  },
  {
   "cell_type": "code",
   "execution_count": 9,
   "id": "0c0dd384-763a-4e07-be91-809c89217f2f",
   "metadata": {
    "tags": []
   },
   "outputs": [
    {
     "data": {
      "text/plain": [
       "True     201\n",
       "False      4\n",
       "Name: price, dtype: int64"
      ]
     },
     "execution_count": 9,
     "metadata": {},
     "output_type": "execute_result"
    }
   ],
   "source": [
    "df['price'].str.isnumeric().value_counts()"
   ]
  },
  {
   "cell_type": "code",
   "execution_count": 12,
   "id": "90585908-9705-4866-af63-bbd31129e5b9",
   "metadata": {
    "tags": []
   },
   "outputs": [
    {
     "data": {
      "text/plain": [
       "9      ?\n",
       "44     ?\n",
       "45     ?\n",
       "129    ?\n",
       "Name: price, dtype: object"
      ]
     },
     "execution_count": 12,
     "metadata": {},
     "output_type": "execute_result"
    }
   ],
   "source": [
    "df['price'][~df['price'].str.isnumeric()]"
   ]
  },
  {
   "cell_type": "markdown",
   "id": "9f3602a8-d995-4780-9448-deb551fe725a",
   "metadata": {
    "jp-MarkdownHeadingCollapsed": true,
    "tags": []
   },
   "source": [
    "### Requirement 3"
   ]
  },
  {
   "cell_type": "code",
   "execution_count": 14,
   "id": "bce93869-3f89-40a0-a3c0-6f1ba515ca98",
   "metadata": {
    "tags": []
   },
   "outputs": [],
   "source": [
    "median = df['price'][df['price'].str.isnumeric()].median()\n",
    "median"
   ]
  },
  {
   "cell_type": "code",
   "execution_count": 15,
   "id": "e2f17f02-ad18-4b21-ba0d-4c9f4e41156f",
   "metadata": {
    "tags": []
   },
   "outputs": [
    {
     "name": "stdout",
     "output_type": "stream",
     "text": [
      "Int64Index([9, 44, 45, 129], dtype='int64')\n"
     ]
    }
   ],
   "source": [
    "str_index = df['price'][~df['price'].str.isnumeric()].index\n",
    "print(str_index)"
   ]
  },
  {
   "cell_type": "code",
   "execution_count": 18,
   "id": "3a3c6811-c816-4050-ba80-cfa0e8757b69",
   "metadata": {
    "tags": []
   },
   "outputs": [],
   "source": [
    "df.loc[str_index, 'price'] = median"
   ]
  },
  {
   "cell_type": "code",
   "execution_count": 19,
   "id": "d6911f2b-ebb5-4db6-9151-272e00ea10fe",
   "metadata": {
    "tags": []
   },
   "outputs": [],
   "source": [
    "df['price'] = df['price'].astype(float)"
   ]
  },
  {
   "cell_type": "code",
   "execution_count": 20,
   "id": "4af9effe-646d-45fe-90f3-2f7feaf1a4ab",
   "metadata": {
    "collapsed": true,
    "jupyter": {
     "outputs_hidden": true
    },
    "tags": []
   },
   "outputs": [
    {
     "name": "stdout",
     "output_type": "stream",
     "text": [
      "<class 'pandas.core.frame.DataFrame'>\n",
      "RangeIndex: 205 entries, 0 to 204\n",
      "Data columns (total 26 columns):\n",
      " #   Column             Non-Null Count  Dtype  \n",
      "---  ------             --------------  -----  \n",
      " 0   symboling          205 non-null    int64  \n",
      " 1   normalized-losses  205 non-null    object \n",
      " 2   make               205 non-null    object \n",
      " 3   fuel-type          205 non-null    object \n",
      " 4   aspiration         205 non-null    object \n",
      " 5   num-of-doors       205 non-null    object \n",
      " 6   body-style         205 non-null    object \n",
      " 7   drive-wheels       205 non-null    object \n",
      " 8   engine-location    205 non-null    object \n",
      " 9   wheel-base         205 non-null    float64\n",
      " 10  length             205 non-null    float64\n",
      " 11  width              205 non-null    float64\n",
      " 12  height             205 non-null    float64\n",
      " 13  curb-weight        205 non-null    int64  \n",
      " 14  engine-type        205 non-null    object \n",
      " 15  num-of-cylinders   205 non-null    object \n",
      " 16  engine-size        205 non-null    int64  \n",
      " 17  fuel-system        205 non-null    object \n",
      " 18  bore               205 non-null    object \n",
      " 19  stroke             205 non-null    object \n",
      " 20  compression-ratio  205 non-null    float64\n",
      " 21  horsepower         205 non-null    object \n",
      " 22  peak-rpm           205 non-null    object \n",
      " 23  city-mpg           205 non-null    int64  \n",
      " 24  highway-mpg        205 non-null    int64  \n",
      " 25  price              205 non-null    float64\n",
      "dtypes: float64(6), int64(5), object(15)\n",
      "memory usage: 41.8+ KB\n"
     ]
    }
   ],
   "source": [
    "df.info()"
   ]
  },
  {
   "cell_type": "markdown",
   "id": "fa6718c1-2dc4-4b81-8b92-47d459c80b8e",
   "metadata": {},
   "source": [
    "### Requirement 4"
   ]
  },
  {
   "cell_type": "code",
   "execution_count": 21,
   "id": "c5f1a20f-c877-45df-822c-7a4dccc773ce",
   "metadata": {
    "tags": []
   },
   "outputs": [],
   "source": [
    "def replace_not_numeric_with_median(column_name, df):\n",
    "    count_not_numeric = df[column_name].str.isnumeric().value_counts()\n",
    "    print(count_not_numeric)\n",
    "    str_index = df[column_name][~df[column_name].str.isnumeric()].index\n",
    "    print(str_index)\n",
    "    median = df[column_name][df[column_name].str.isnumeric()].median()\n",
    "    print(median)\n",
    "    df.loc[str_index, column_name] = median\n",
    "    df[column_name] = df[column_name].astype(float)\n",
    "    return df"
   ]
  },
  {
   "cell_type": "code",
   "execution_count": 22,
   "id": "4ebbc14f-6ebe-48b1-8276-9011cb1fcb8f",
   "metadata": {
    "collapsed": true,
    "jupyter": {
     "outputs_hidden": true
    },
    "tags": []
   },
   "outputs": [
    {
     "data": {
      "text/plain": [
       "Index(['symboling', 'normalized-losses', 'make', 'fuel-type', 'aspiration',\n",
       "       'num-of-doors', 'body-style', 'drive-wheels', 'engine-location',\n",
       "       'wheel-base', 'length', 'width', 'height', 'curb-weight', 'engine-type',\n",
       "       'num-of-cylinders', 'engine-size', 'fuel-system', 'bore', 'stroke',\n",
       "       'compression-ratio', 'horsepower', 'peak-rpm', 'city-mpg',\n",
       "       'highway-mpg', 'price'],\n",
       "      dtype='object')"
      ]
     },
     "execution_count": 22,
     "metadata": {},
     "output_type": "execute_result"
    }
   ],
   "source": [
    "df.columns"
   ]
  },
  {
   "cell_type": "code",
   "execution_count": 23,
   "id": "3249016f-e39f-428c-a4be-2773563a24a9",
   "metadata": {
    "collapsed": true,
    "jupyter": {
     "outputs_hidden": true
    },
    "tags": []
   },
   "outputs": [
    {
     "name": "stdout",
     "output_type": "stream",
     "text": [
      "True     203\n",
      "False      2\n",
      "Name: horsepower, dtype: int64\n",
      "Int64Index([130, 131], dtype='int64')\n",
      "95.0\n"
     ]
    }
   ],
   "source": [
    "df = replace_not_numeric_with_median('horsepower', df)"
   ]
  },
  {
   "cell_type": "code",
   "execution_count": 24,
   "id": "cfff61f9-71b6-4dec-8b2c-8e54b2680478",
   "metadata": {
    "collapsed": true,
    "jupyter": {
     "outputs_hidden": true
    },
    "tags": []
   },
   "outputs": [
    {
     "name": "stdout",
     "output_type": "stream",
     "text": [
      "<class 'pandas.core.frame.DataFrame'>\n",
      "RangeIndex: 205 entries, 0 to 204\n",
      "Data columns (total 26 columns):\n",
      " #   Column             Non-Null Count  Dtype  \n",
      "---  ------             --------------  -----  \n",
      " 0   symboling          205 non-null    int64  \n",
      " 1   normalized-losses  205 non-null    object \n",
      " 2   make               205 non-null    object \n",
      " 3   fuel-type          205 non-null    object \n",
      " 4   aspiration         205 non-null    object \n",
      " 5   num-of-doors       205 non-null    object \n",
      " 6   body-style         205 non-null    object \n",
      " 7   drive-wheels       205 non-null    object \n",
      " 8   engine-location    205 non-null    object \n",
      " 9   wheel-base         205 non-null    float64\n",
      " 10  length             205 non-null    float64\n",
      " 11  width              205 non-null    float64\n",
      " 12  height             205 non-null    float64\n",
      " 13  curb-weight        205 non-null    int64  \n",
      " 14  engine-type        205 non-null    object \n",
      " 15  num-of-cylinders   205 non-null    object \n",
      " 16  engine-size        205 non-null    int64  \n",
      " 17  fuel-system        205 non-null    object \n",
      " 18  bore               205 non-null    object \n",
      " 19  stroke             205 non-null    object \n",
      " 20  compression-ratio  205 non-null    float64\n",
      " 21  horsepower         205 non-null    float64\n",
      " 22  peak-rpm           205 non-null    object \n",
      " 23  city-mpg           205 non-null    int64  \n",
      " 24  highway-mpg        205 non-null    int64  \n",
      " 25  price              205 non-null    float64\n",
      "dtypes: float64(7), int64(5), object(14)\n",
      "memory usage: 41.8+ KB\n"
     ]
    }
   ],
   "source": [
    "df.info()"
   ]
  },
  {
   "cell_type": "code",
   "execution_count": 25,
   "id": "3b8190a8-0e2b-43c3-86da-fd2e6a7148ff",
   "metadata": {
    "collapsed": true,
    "jupyter": {
     "outputs_hidden": true
    },
    "tags": []
   },
   "outputs": [
    {
     "name": "stdout",
     "output_type": "stream",
     "text": [
      "True     164\n",
      "False     41\n",
      "Name: normalized-losses, dtype: int64\n",
      "Int64Index([  0,   1,   2,   5,   7,   9,  14,  15,  16,  17,  43,  44,  45,\n",
      "             46,  48,  49,  63,  66,  71,  73,  74,  75,  82,  83,  84, 109,\n",
      "            110, 113, 114, 124, 126, 127, 128, 129, 130, 131, 181, 189, 191,\n",
      "            192, 193],\n",
      "           dtype='int64')\n",
      "115.0\n"
     ]
    }
   ],
   "source": [
    "df = replace_not_numeric_with_median('normalized-losses', df)"
   ]
  },
  {
   "cell_type": "code",
   "execution_count": 26,
   "id": "500b46d3-e344-4236-96fe-d9ef165c0836",
   "metadata": {
    "collapsed": true,
    "jupyter": {
     "outputs_hidden": true
    },
    "tags": []
   },
   "outputs": [
    {
     "name": "stdout",
     "output_type": "stream",
     "text": [
      "<class 'pandas.core.frame.DataFrame'>\n",
      "RangeIndex: 205 entries, 0 to 204\n",
      "Data columns (total 26 columns):\n",
      " #   Column             Non-Null Count  Dtype  \n",
      "---  ------             --------------  -----  \n",
      " 0   symboling          205 non-null    int64  \n",
      " 1   normalized-losses  205 non-null    float64\n",
      " 2   make               205 non-null    object \n",
      " 3   fuel-type          205 non-null    object \n",
      " 4   aspiration         205 non-null    object \n",
      " 5   num-of-doors       205 non-null    object \n",
      " 6   body-style         205 non-null    object \n",
      " 7   drive-wheels       205 non-null    object \n",
      " 8   engine-location    205 non-null    object \n",
      " 9   wheel-base         205 non-null    float64\n",
      " 10  length             205 non-null    float64\n",
      " 11  width              205 non-null    float64\n",
      " 12  height             205 non-null    float64\n",
      " 13  curb-weight        205 non-null    int64  \n",
      " 14  engine-type        205 non-null    object \n",
      " 15  num-of-cylinders   205 non-null    object \n",
      " 16  engine-size        205 non-null    int64  \n",
      " 17  fuel-system        205 non-null    object \n",
      " 18  bore               205 non-null    object \n",
      " 19  stroke             205 non-null    object \n",
      " 20  compression-ratio  205 non-null    float64\n",
      " 21  horsepower         205 non-null    float64\n",
      " 22  peak-rpm           205 non-null    object \n",
      " 23  city-mpg           205 non-null    int64  \n",
      " 24  highway-mpg        205 non-null    int64  \n",
      " 25  price              205 non-null    float64\n",
      "dtypes: float64(8), int64(5), object(13)\n",
      "memory usage: 41.8+ KB\n"
     ]
    }
   ],
   "source": [
    "df.info()"
   ]
  },
  {
   "cell_type": "code",
   "execution_count": null,
   "id": "785f9c0e-4c9e-4037-a17c-c6b910f81b92",
   "metadata": {},
   "outputs": [],
   "source": []
  }
 ],
 "metadata": {
  "kernelspec": {
   "display_name": "Python 3 (ipykernel)",
   "language": "python",
   "name": "python3"
  },
  "language_info": {
   "codemirror_mode": {
    "name": "ipython",
    "version": 3
   },
   "file_extension": ".py",
   "mimetype": "text/x-python",
   "name": "python",
   "nbconvert_exporter": "python",
   "pygments_lexer": "ipython3",
   "version": "3.9.13"
  }
 },
 "nbformat": 4,
 "nbformat_minor": 5
}
