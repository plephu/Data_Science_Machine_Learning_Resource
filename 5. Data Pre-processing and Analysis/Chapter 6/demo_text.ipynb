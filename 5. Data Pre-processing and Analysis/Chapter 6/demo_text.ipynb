{
 "cells": [
  {
   "cell_type": "code",
   "execution_count": 1,
   "id": "32afc7e1",
   "metadata": {},
   "outputs": [],
   "source": [
    "import pandas as pd\n",
    "import numpy as np\n",
    "\n",
    "%config Completer.use_jedi = False"
   ]
  },
  {
   "cell_type": "code",
   "execution_count": 2,
   "id": "b1041183",
   "metadata": {
    "scrolled": true
   },
   "outputs": [
    {
     "data": {
      "text/html": [
       "<div>\n",
       "<style scoped>\n",
       "    .dataframe tbody tr th:only-of-type {\n",
       "        vertical-align: middle;\n",
       "    }\n",
       "\n",
       "    .dataframe tbody tr th {\n",
       "        vertical-align: top;\n",
       "    }\n",
       "\n",
       "    .dataframe thead th {\n",
       "        text-align: right;\n",
       "    }\n",
       "</style>\n",
       "<table border=\"1\" class=\"dataframe\">\n",
       "  <thead>\n",
       "    <tr style=\"text-align: right;\">\n",
       "      <th></th>\n",
       "      <th>Name</th>\n",
       "      <th>Inaugural Address</th>\n",
       "      <th>Date</th>\n",
       "      <th>text</th>\n",
       "    </tr>\n",
       "  </thead>\n",
       "  <tbody>\n",
       "    <tr>\n",
       "      <th>0</th>\n",
       "      <td>George Washington</td>\n",
       "      <td>First Inaugural Address</td>\n",
       "      <td>Thursday, April 30, 1789</td>\n",
       "      <td>Fellow-Citizens of the Senate and of the House...</td>\n",
       "    </tr>\n",
       "    <tr>\n",
       "      <th>1</th>\n",
       "      <td>George Washington</td>\n",
       "      <td>Second Inaugural Address</td>\n",
       "      <td>Monday, March 4, 1793</td>\n",
       "      <td>Fellow Citizens:  I AM again called upon by th...</td>\n",
       "    </tr>\n",
       "    <tr>\n",
       "      <th>2</th>\n",
       "      <td>John Adams</td>\n",
       "      <td>Inaugural Address</td>\n",
       "      <td>Saturday, March 4, 1797</td>\n",
       "      <td>WHEN it was first perceived, in early times, t...</td>\n",
       "    </tr>\n",
       "    <tr>\n",
       "      <th>3</th>\n",
       "      <td>Thomas Jefferson</td>\n",
       "      <td>First Inaugural Address</td>\n",
       "      <td>Wednesday, March 4, 1801</td>\n",
       "      <td>Friends and Fellow-Citizens:  CALLED upon to u...</td>\n",
       "    </tr>\n",
       "    <tr>\n",
       "      <th>4</th>\n",
       "      <td>Thomas Jefferson</td>\n",
       "      <td>Second Inaugural Address</td>\n",
       "      <td>Monday, March 4, 1805</td>\n",
       "      <td>PROCEEDING, fellow-citizens, to that qualifica...</td>\n",
       "    </tr>\n",
       "  </tbody>\n",
       "</table>\n",
       "</div>"
      ],
      "text/plain": [
       "                Name         Inaugural Address                      Date   \n",
       "0  George Washington   First Inaugural Address  Thursday, April 30, 1789  \\\n",
       "1  George Washington  Second Inaugural Address     Monday, March 4, 1793   \n",
       "2         John Adams         Inaugural Address   Saturday, March 4, 1797   \n",
       "3   Thomas Jefferson   First Inaugural Address  Wednesday, March 4, 1801   \n",
       "4   Thomas Jefferson  Second Inaugural Address     Monday, March 4, 1805   \n",
       "\n",
       "                                                text  \n",
       "0  Fellow-Citizens of the Senate and of the House...  \n",
       "1  Fellow Citizens:  I AM again called upon by th...  \n",
       "2  WHEN it was first perceived, in early times, t...  \n",
       "3  Friends and Fellow-Citizens:  CALLED upon to u...  \n",
       "4  PROCEEDING, fellow-citizens, to that qualifica...  "
      ]
     },
     "execution_count": 2,
     "metadata": {},
     "output_type": "execute_result"
    }
   ],
   "source": [
    "df = pd.read_csv('./input_data/inaugural_speeches.csv')\n",
    "df.head()"
   ]
  },
  {
   "cell_type": "markdown",
   "id": "e43cdb23",
   "metadata": {},
   "source": [
    "### Cleansing data"
   ]
  },
  {
   "cell_type": "code",
   "execution_count": 3,
   "id": "808c8222",
   "metadata": {},
   "outputs": [],
   "source": [
    "df['clean_text'] = df.text.str.replace('[^a-zA-Z]',' ')"
   ]
  },
  {
   "cell_type": "code",
   "execution_count": 4,
   "id": "628b267f",
   "metadata": {},
   "outputs": [],
   "source": [
    "df['clean_text'] = df.text.str.lower().str.replace('\\s+',' ')"
   ]
  },
  {
   "cell_type": "markdown",
   "id": "1f9ca082",
   "metadata": {},
   "source": [
    "### Aggregate hight level feature from text"
   ]
  },
  {
   "cell_type": "code",
   "execution_count": 5,
   "id": "2bde7404",
   "metadata": {},
   "outputs": [],
   "source": [
    "df['char_count'] = df.clean_text.str.len()"
   ]
  },
  {
   "cell_type": "code",
   "execution_count": 6,
   "id": "b9be64b0",
   "metadata": {},
   "outputs": [],
   "source": [
    "df['word_count'] = df.clean_text.str.split().str.len()"
   ]
  },
  {
   "cell_type": "code",
   "execution_count": 7,
   "id": "7f41e32a",
   "metadata": {},
   "outputs": [],
   "source": [
    "df['avg_word_len'] = df['char_count']/df['word_count'] "
   ]
  },
  {
   "cell_type": "code",
   "execution_count": 8,
   "id": "7de6afa9",
   "metadata": {},
   "outputs": [
    {
     "data": {
      "text/html": [
       "<div>\n",
       "<style scoped>\n",
       "    .dataframe tbody tr th:only-of-type {\n",
       "        vertical-align: middle;\n",
       "    }\n",
       "\n",
       "    .dataframe tbody tr th {\n",
       "        vertical-align: top;\n",
       "    }\n",
       "\n",
       "    .dataframe thead th {\n",
       "        text-align: right;\n",
       "    }\n",
       "</style>\n",
       "<table border=\"1\" class=\"dataframe\">\n",
       "  <thead>\n",
       "    <tr style=\"text-align: right;\">\n",
       "      <th></th>\n",
       "      <th>Name</th>\n",
       "      <th>Inaugural Address</th>\n",
       "      <th>Date</th>\n",
       "      <th>text</th>\n",
       "      <th>clean_text</th>\n",
       "      <th>char_count</th>\n",
       "      <th>word_count</th>\n",
       "      <th>avg_word_len</th>\n",
       "    </tr>\n",
       "  </thead>\n",
       "  <tbody>\n",
       "    <tr>\n",
       "      <th>0</th>\n",
       "      <td>George Washington</td>\n",
       "      <td>First Inaugural Address</td>\n",
       "      <td>Thursday, April 30, 1789</td>\n",
       "      <td>Fellow-Citizens of the Senate and of the House...</td>\n",
       "      <td>fellow-citizens of the senate and of the house...</td>\n",
       "      <td>8616</td>\n",
       "      <td>1427</td>\n",
       "      <td>6.037842</td>\n",
       "    </tr>\n",
       "    <tr>\n",
       "      <th>1</th>\n",
       "      <td>George Washington</td>\n",
       "      <td>Second Inaugural Address</td>\n",
       "      <td>Monday, March 4, 1793</td>\n",
       "      <td>Fellow Citizens:  I AM again called upon by th...</td>\n",
       "      <td>fellow citizens:  i am again called upon by th...</td>\n",
       "      <td>787</td>\n",
       "      <td>135</td>\n",
       "      <td>5.829630</td>\n",
       "    </tr>\n",
       "    <tr>\n",
       "      <th>2</th>\n",
       "      <td>John Adams</td>\n",
       "      <td>Inaugural Address</td>\n",
       "      <td>Saturday, March 4, 1797</td>\n",
       "      <td>WHEN it was first perceived, in early times, t...</td>\n",
       "      <td>when it was first perceived, in early times, t...</td>\n",
       "      <td>13871</td>\n",
       "      <td>2317</td>\n",
       "      <td>5.986621</td>\n",
       "    </tr>\n",
       "    <tr>\n",
       "      <th>3</th>\n",
       "      <td>Thomas Jefferson</td>\n",
       "      <td>First Inaugural Address</td>\n",
       "      <td>Wednesday, March 4, 1801</td>\n",
       "      <td>Friends and Fellow-Citizens:  CALLED upon to u...</td>\n",
       "      <td>friends and fellow-citizens:  called upon to u...</td>\n",
       "      <td>10144</td>\n",
       "      <td>1717</td>\n",
       "      <td>5.907979</td>\n",
       "    </tr>\n",
       "    <tr>\n",
       "      <th>4</th>\n",
       "      <td>Thomas Jefferson</td>\n",
       "      <td>Second Inaugural Address</td>\n",
       "      <td>Monday, March 4, 1805</td>\n",
       "      <td>PROCEEDING, fellow-citizens, to that qualifica...</td>\n",
       "      <td>proceeding, fellow-citizens, to that qualifica...</td>\n",
       "      <td>12902</td>\n",
       "      <td>2157</td>\n",
       "      <td>5.981456</td>\n",
       "    </tr>\n",
       "  </tbody>\n",
       "</table>\n",
       "</div>"
      ],
      "text/plain": [
       "                Name         Inaugural Address                      Date   \n",
       "0  George Washington   First Inaugural Address  Thursday, April 30, 1789  \\\n",
       "1  George Washington  Second Inaugural Address     Monday, March 4, 1793   \n",
       "2         John Adams         Inaugural Address   Saturday, March 4, 1797   \n",
       "3   Thomas Jefferson   First Inaugural Address  Wednesday, March 4, 1801   \n",
       "4   Thomas Jefferson  Second Inaugural Address     Monday, March 4, 1805   \n",
       "\n",
       "                                                text   \n",
       "0  Fellow-Citizens of the Senate and of the House...  \\\n",
       "1  Fellow Citizens:  I AM again called upon by th...   \n",
       "2  WHEN it was first perceived, in early times, t...   \n",
       "3  Friends and Fellow-Citizens:  CALLED upon to u...   \n",
       "4  PROCEEDING, fellow-citizens, to that qualifica...   \n",
       "\n",
       "                                          clean_text  char_count  word_count   \n",
       "0  fellow-citizens of the senate and of the house...        8616        1427  \\\n",
       "1  fellow citizens:  i am again called upon by th...         787         135   \n",
       "2  when it was first perceived, in early times, t...       13871        2317   \n",
       "3  friends and fellow-citizens:  called upon to u...       10144        1717   \n",
       "4  proceeding, fellow-citizens, to that qualifica...       12902        2157   \n",
       "\n",
       "   avg_word_len  \n",
       "0      6.037842  \n",
       "1      5.829630  \n",
       "2      5.986621  \n",
       "3      5.907979  \n",
       "4      5.981456  "
      ]
     },
     "execution_count": 8,
     "metadata": {},
     "output_type": "execute_result"
    }
   ],
   "source": [
    "df.head()"
   ]
  },
  {
   "cell_type": "code",
   "execution_count": 9,
   "id": "ae583804",
   "metadata": {},
   "outputs": [
    {
     "data": {
      "text/plain": [
       "'fellow-citizens of the senate and of the house of representatives:  among the vicissitudes incident to life no event could have filled me with greater anxieties than that of which the notification was transmitted by your order, and received on the   th day of the present month. on the one hand, i was summoned by my country, whose voice i can never hear but with veneration and love, from a retreat which i had chosen with the fondest predilection, and, in my flattering hopes, with an immutable decision, as the asylum of my declining years<u+0097>a retreat which was rendered every day more necessary as well as more dear to me by the addition of habit to inclination, and of frequent interruptions in my health to the gradual waste committed on it by time. on the other hand, the magnitude and difficulty of the trust to which the voice of my country called me, being sufficient to awaken in the wisest and most experienced of her citizens a distrustful scrutiny into his qualifications, could not but overwhelm with despondence one who (inheriting inferior endowments from nature and unpracticed in the duties of civil administration) ought to be peculiarly conscious of his own deficiencies. in this conflict of emotions all i dare aver is that it has been my faithful study to collect my duty from a just appreciation of every circumstance by which it might be affected. all i dare hope is that if, in executing this task, i have been too much swayed by a grateful remembrance of former instances, or by an affectionate sensibility to this transcendent proof of the confidence of my fellow-citizens, and have thence too little consulted my incapacity as well as disinclination for the weighty and untried cares before me, my error will be palliated by the motives which mislead me, and its consequences be judged by my country with some share of the partiality in which they originated. such being the impressions under which i have, in obedience to the public summons, repaired to the present station, it would be peculiarly improper to omit in this first official act my fervent supplications to that almighty being who rules over the universe, who presides in the councils of nations, and whose providential aids can supply every human defect, that his benediction may consecrate to the liberties and happiness of the people of the united states a government instituted by themselves for these essential purposes, and may enable every instrument employed in its administration to execute with success the functions allotted to his charge. in tendering this homage to the great author of every public and private good, i assure myself that it expresses your sentiments not less than my own, nor those of my fellow-citizens at large less than either. no people can be bound to acknowledge and adore the invisible hand which conducts the affairs of men more than those of the united states. every step by which they have advanced to the character of an independent nation seems to have been distinguished by some token of providential agency; and in the important revolution just accomplished in the system of their united government the tranquil deliberations and voluntary consent of so many distinct communities from which the event has resulted can not be compared with the means by which most governments have been established without some return of pious gratitude, along with an humble anticipation of the future blessings which the past seem to presage. these reflections, arising out of the present crisis, have forced themselves too strongly on my mind to be suppressed. you will join with me, i trust, in thinking that there are none under the influence of which the proceedings of a new and free government can more auspiciously commence. by the article establishing the executive department it is made the duty of the president \"to recommend to your consideration such measures as he shall judge necessary and expedient.\" the circumstances under which i now meet you will acquit me from entering into that subject further than to refer to the great constitutional charter under which you are assembled, and which, in defining your powers, designates the objects to which your attention is to be given. it will be more consistent with those circumstances, and far more congenial with the feelings which actuate me, to substitute, in place of a recommendation of particular measures, the tribute that is due to the talents, the rectitude, and the patriotism which adorn the characters selected to devise and adopt them. in these honorable qualifications i behold the surest pledges that as on one side no local prejudices or attachments, no separate views nor party animosities, will misdirect the comprehensive and equal eye which ought to watch over this great assemblage of communities and interests, so, on another, that the foundation of our national policy will be laid in the pure and immutable principles of private morality, and the preeminence of free government be exemplified by all the attributes which can win the affections of its citizens and command the respect of the world. i dwell on this prospect with every satisfaction which an ardent love for my country can inspire, since there is no truth more thoroughly established than that there exists in the economy and course of nature an indissoluble union between virtue and happiness; between duty and advantage; between the genuine maxims of an honest and magnanimous policy and the solid rewards of public prosperity and felicity; since we ought to be no less persuaded that the propitious smiles of heaven can never be expected on a nation that disregards the eternal rules of order and right which heaven itself has ordained; and since the preservation of the sacred fire of liberty and the destiny of the republican model of government are justly considered, perhaps, as deeply, as finally, staked on the experiment entrusted to the hands of the american people. besides the ordinary objects submitted to your care, it will remain with your judgment to decide how far an exercise of the occasional power delegated by the fifth article of the constitution is rendered expedient at the present juncture by the nature of objections which have been urged against the system, or by the degree of inquietude which has given birth to them. instead of undertaking particular recommendations on this subject, in which i could be guided by no lights derived from official opportunities, i shall again give way to my entire confidence in your discernment and pursuit of the public good; for i assure myself that whilst you carefully avoid every alteration which might endanger the benefits of an united and effective government, or which ought to await the future lessons of experience, a reverence for the characteristic rights of freemen and a regard for the public harmony will sufficiently influence your deliberations on the question how far the former can be impregnably fortified or the latter be safely and advantageously promoted. to the foregoing observations i have one to add, which will be most properly addressed to the house of representatives. it concerns myself, and will therefore be as brief as possible. when i was first honored with a call into the service of my country, then on the eve of an arduous struggle for its liberties, the light in which i contemplated my duty required that i should renounce every pecuniary compensation. from this resolution i have in no instance departed; and being still under the impressions which produced it, i must decline as inapplicable to myself any share in the personal emoluments which may be indispensably included in a permanent provision for the executive department, and must accordingly pray that the pecuniary estimates for the station in which i am placed may during my continuance in it be limited to such actual expenditures as the public good may be thought to require. having thus imparted to you my sentiments as they have been awakened by the occasion which brings us together, i shall take my present leave; but not without resorting once more to the benign parent of the human race in humble supplication that, since he has been pleased to favor the american people with opportunities for deliberating in perfect tranquillity, and dispositions for deciding with unparalleled unanimity on a form of government for the security of their union and the advancement of their happiness, so his divine blessing may be equally conspicuous in the enlarged views, the temperate consultations, and the wise measures on which the success of this government must depend.'"
      ]
     },
     "execution_count": 9,
     "metadata": {},
     "output_type": "execute_result"
    }
   ],
   "source": [
    "df.clean_text[0]"
   ]
  },
  {
   "cell_type": "code",
   "execution_count": 10,
   "id": "65e74c7e",
   "metadata": {},
   "outputs": [
    {
     "data": {
      "text/plain": [
       "'Fellow-Citizens of the Senate and of the House of Representatives:  AMONG the vicissitudes incident to life no event could have filled me with greater anxieties than that of which the notification was transmitted by your order, and received on the   th day of the present month. On the one hand, I was summoned by my country, whose voice I can never hear but with veneration and love, from a retreat which I had chosen with the fondest predilection, and, in my flattering hopes, with an immutable decision, as the asylum of my declining years<U+0097>a retreat which was rendered every day more necessary as well as more dear to me by the addition of habit to inclination, and of frequent interruptions in my health to the gradual waste committed on it by time. On the other hand, the magnitude and difficulty of the trust to which the voice of my country called me, being sufficient to awaken in the wisest and most experienced of her citizens a distrustful scrutiny into his qualifications, could not but overwhelm with despondence one who (inheriting inferior endowments from nature and unpracticed in the duties of civil administration) ought to be peculiarly conscious of his own deficiencies. In this conflict of emotions all I dare aver is that it has been my faithful study to collect my duty from a just appreciation of every circumstance by which it might be affected. All I dare hope is that if, in executing this task, I have been too much swayed by a grateful remembrance of former instances, or by an affectionate sensibility to this transcendent proof of the confidence of my fellow-citizens, and have thence too little consulted my incapacity as well as disinclination for the weighty and untried cares before me, my error will be palliated by the motives which mislead me, and its consequences be judged by my country with some share of the partiality in which they originated. Such being the impressions under which I have, in obedience to the public summons, repaired to the present station, it would be peculiarly improper to omit in this first official act my fervent supplications to that Almighty Being who rules over the universe, who presides in the councils of nations, and whose providential aids can supply every human defect, that His benediction may consecrate to the liberties and happiness of the people of the United States a Government instituted by themselves for these essential purposes, and may enable every instrument employed in its administration to execute with success the functions allotted to his charge. In tendering this homage to the Great Author of every public and private good, I assure myself that it expresses your sentiments not less than my own, nor those of my fellow-citizens at large less than either. No people can be bound to acknowledge and adore the Invisible Hand which conducts the affairs of men more than those of the United States. Every step by which they have advanced to the character of an independent nation seems to have been distinguished by some token of providential agency; and in the important revolution just accomplished in the system of their united government the tranquil deliberations and voluntary consent of so many distinct communities from which the event has resulted can not be compared with the means by which most governments have been established without some return of pious gratitude, along with an humble anticipation of the future blessings which the past seem to presage. These reflections, arising out of the present crisis, have forced themselves too strongly on my mind to be suppressed. You will join with me, I trust, in thinking that there are none under the influence of which the proceedings of a new and free government can more auspiciously commence. By the article establishing the executive department it is made the duty of the President \"to recommend to your consideration such measures as he shall judge necessary and expedient.\" The circumstances under which I now meet you will acquit me from entering into that subject further than to refer to the great constitutional charter under which you are assembled, and which, in defining your powers, designates the objects to which your attention is to be given. It will be more consistent with those circumstances, and far more congenial with the feelings which actuate me, to substitute, in place of a recommendation of particular measures, the tribute that is due to the talents, the rectitude, and the patriotism which adorn the characters selected to devise and adopt them. In these honorable qualifications I behold the surest pledges that as on one side no local prejudices or attachments, no separate views nor party animosities, will misdirect the comprehensive and equal eye which ought to watch over this great assemblage of communities and interests, so, on another, that the foundation of our national policy will be laid in the pure and immutable principles of private morality, and the preeminence of free government be exemplified by all the attributes which can win the affections of its citizens and command the respect of the world. I dwell on this prospect with every satisfaction which an ardent love for my country can inspire, since there is no truth more thoroughly established than that there exists in the economy and course of nature an indissoluble union between virtue and happiness; between duty and advantage; between the genuine maxims of an honest and magnanimous policy and the solid rewards of public prosperity and felicity; since we ought to be no less persuaded that the propitious smiles of Heaven can never be expected on a nation that disregards the eternal rules of order and right which Heaven itself has ordained; and since the preservation of the sacred fire of liberty and the destiny of the republican model of government are justly considered, perhaps, as deeply, as finally, staked on the experiment entrusted to the hands of the American people. Besides the ordinary objects submitted to your care, it will remain with your judgment to decide how far an exercise of the occasional power delegated by the fifth article of the Constitution is rendered expedient at the present juncture by the nature of objections which have been urged against the system, or by the degree of inquietude which has given birth to them. Instead of undertaking particular recommendations on this subject, in which I could be guided by no lights derived from official opportunities, I shall again give way to my entire confidence in your discernment and pursuit of the public good; for I assure myself that whilst you carefully avoid every alteration which might endanger the benefits of an united and effective government, or which ought to await the future lessons of experience, a reverence for the characteristic rights of freemen and a regard for the public harmony will sufficiently influence your deliberations on the question how far the former can be impregnably fortified or the latter be safely and advantageously promoted. To the foregoing observations I have one to add, which will be most properly addressed to the House of Representatives. It concerns myself, and will therefore be as brief as possible. When I was first honored with a call into the service of my country, then on the eve of an arduous struggle for its liberties, the light in which I contemplated my duty required that I should renounce every pecuniary compensation. From this resolution I have in no instance departed; and being still under the impressions which produced it, I must decline as inapplicable to myself any share in the personal emoluments which may be indispensably included in a permanent provision for the executive department, and must accordingly pray that the pecuniary estimates for the station in which I am placed may during my continuance in it be limited to such actual expenditures as the public good may be thought to require. Having thus imparted to you my sentiments as they have been awakened by the occasion which brings us together, I shall take my present leave; but not without resorting once more to the benign Parent of the Human Race in humble supplication that, since He has been pleased to favor the American people with opportunities for deliberating in perfect tranquillity, and dispositions for deciding with unparalleled unanimity on a form of government for the security of their union and the advancement of their happiness, so His divine blessing may be equally conspicuous in the enlarged views, the temperate consultations, and the wise measures on which the success of this Government must depend.'"
      ]
     },
     "execution_count": 10,
     "metadata": {},
     "output_type": "execute_result"
    }
   ],
   "source": [
    "df.text[0]"
   ]
  },
  {
   "cell_type": "markdown",
   "id": "3c9e4748",
   "metadata": {},
   "source": [
    "### CountVectorize"
   ]
  },
  {
   "cell_type": "code",
   "execution_count": 46,
   "id": "59c33e3d",
   "metadata": {},
   "outputs": [],
   "source": [
    "from sklearn.feature_extraction.text import CountVectorizer"
   ]
  },
  {
   "cell_type": "code",
   "execution_count": 47,
   "id": "41ab9dae",
   "metadata": {},
   "outputs": [],
   "source": [
    "vectorizer = CountVectorizer(max_features=300)"
   ]
  },
  {
   "cell_type": "code",
   "execution_count": 48,
   "id": "6bb6d0e0",
   "metadata": {},
   "outputs": [
    {
     "data": {
      "text/html": [
       "<style>#sk-container-id-2 {color: black;background-color: white;}#sk-container-id-2 pre{padding: 0;}#sk-container-id-2 div.sk-toggleable {background-color: white;}#sk-container-id-2 label.sk-toggleable__label {cursor: pointer;display: block;width: 100%;margin-bottom: 0;padding: 0.3em;box-sizing: border-box;text-align: center;}#sk-container-id-2 label.sk-toggleable__label-arrow:before {content: \"▸\";float: left;margin-right: 0.25em;color: #696969;}#sk-container-id-2 label.sk-toggleable__label-arrow:hover:before {color: black;}#sk-container-id-2 div.sk-estimator:hover label.sk-toggleable__label-arrow:before {color: black;}#sk-container-id-2 div.sk-toggleable__content {max-height: 0;max-width: 0;overflow: hidden;text-align: left;background-color: #f0f8ff;}#sk-container-id-2 div.sk-toggleable__content pre {margin: 0.2em;color: black;border-radius: 0.25em;background-color: #f0f8ff;}#sk-container-id-2 input.sk-toggleable__control:checked~div.sk-toggleable__content {max-height: 200px;max-width: 100%;overflow: auto;}#sk-container-id-2 input.sk-toggleable__control:checked~label.sk-toggleable__label-arrow:before {content: \"▾\";}#sk-container-id-2 div.sk-estimator input.sk-toggleable__control:checked~label.sk-toggleable__label {background-color: #d4ebff;}#sk-container-id-2 div.sk-label input.sk-toggleable__control:checked~label.sk-toggleable__label {background-color: #d4ebff;}#sk-container-id-2 input.sk-hidden--visually {border: 0;clip: rect(1px 1px 1px 1px);clip: rect(1px, 1px, 1px, 1px);height: 1px;margin: -1px;overflow: hidden;padding: 0;position: absolute;width: 1px;}#sk-container-id-2 div.sk-estimator {font-family: monospace;background-color: #f0f8ff;border: 1px dotted black;border-radius: 0.25em;box-sizing: border-box;margin-bottom: 0.5em;}#sk-container-id-2 div.sk-estimator:hover {background-color: #d4ebff;}#sk-container-id-2 div.sk-parallel-item::after {content: \"\";width: 100%;border-bottom: 1px solid gray;flex-grow: 1;}#sk-container-id-2 div.sk-label:hover label.sk-toggleable__label {background-color: #d4ebff;}#sk-container-id-2 div.sk-serial::before {content: \"\";position: absolute;border-left: 1px solid gray;box-sizing: border-box;top: 0;bottom: 0;left: 50%;z-index: 0;}#sk-container-id-2 div.sk-serial {display: flex;flex-direction: column;align-items: center;background-color: white;padding-right: 0.2em;padding-left: 0.2em;position: relative;}#sk-container-id-2 div.sk-item {position: relative;z-index: 1;}#sk-container-id-2 div.sk-parallel {display: flex;align-items: stretch;justify-content: center;background-color: white;position: relative;}#sk-container-id-2 div.sk-item::before, #sk-container-id-2 div.sk-parallel-item::before {content: \"\";position: absolute;border-left: 1px solid gray;box-sizing: border-box;top: 0;bottom: 0;left: 50%;z-index: -1;}#sk-container-id-2 div.sk-parallel-item {display: flex;flex-direction: column;z-index: 1;position: relative;background-color: white;}#sk-container-id-2 div.sk-parallel-item:first-child::after {align-self: flex-end;width: 50%;}#sk-container-id-2 div.sk-parallel-item:last-child::after {align-self: flex-start;width: 50%;}#sk-container-id-2 div.sk-parallel-item:only-child::after {width: 0;}#sk-container-id-2 div.sk-dashed-wrapped {border: 1px dashed gray;margin: 0 0.4em 0.5em 0.4em;box-sizing: border-box;padding-bottom: 0.4em;background-color: white;}#sk-container-id-2 div.sk-label label {font-family: monospace;font-weight: bold;display: inline-block;line-height: 1.2em;}#sk-container-id-2 div.sk-label-container {text-align: center;}#sk-container-id-2 div.sk-container {/* jupyter's `normalize.less` sets `[hidden] { display: none; }` but bootstrap.min.css set `[hidden] { display: none !important; }` so we also need the `!important` here to be able to override the default hidden behavior on the sphinx rendered scikit-learn.org. See: https://github.com/scikit-learn/scikit-learn/issues/21755 */display: inline-block !important;position: relative;}#sk-container-id-2 div.sk-text-repr-fallback {display: none;}</style><div id=\"sk-container-id-2\" class=\"sk-top-container\"><div class=\"sk-text-repr-fallback\"><pre>CountVectorizer(max_features=300)</pre><b>In a Jupyter environment, please rerun this cell to show the HTML representation or trust the notebook. <br />On GitHub, the HTML representation is unable to render, please try loading this page with nbviewer.org.</b></div><div class=\"sk-container\" hidden><div class=\"sk-item\"><div class=\"sk-estimator sk-toggleable\"><input class=\"sk-toggleable__control sk-hidden--visually\" id=\"sk-estimator-id-2\" type=\"checkbox\" checked><label for=\"sk-estimator-id-2\" class=\"sk-toggleable__label sk-toggleable__label-arrow\">CountVectorizer</label><div class=\"sk-toggleable__content\"><pre>CountVectorizer(max_features=300)</pre></div></div></div></div></div>"
      ],
      "text/plain": [
       "CountVectorizer(max_features=300)"
      ]
     },
     "execution_count": 48,
     "metadata": {},
     "output_type": "execute_result"
    }
   ],
   "source": [
    "vectorizer.fit(df['clean_text'])"
   ]
  },
  {
   "cell_type": "code",
   "execution_count": 49,
   "id": "9cb21c46",
   "metadata": {},
   "outputs": [
    {
     "data": {
      "text/plain": [
       "array(['0092', '0097', 'act', 'action', 'administration', 'again',\n",
       "       'against', 'all', 'also', 'always', 'am', 'america', 'american',\n",
       "       'americans', 'among', 'an', 'and', 'another', 'any', 'are', 'as',\n",
       "       'at', 'authority', 'be', 'because', 'become', 'been', 'before',\n",
       "       'being', 'believe', 'best', 'better', 'between', 'beyond', 'both',\n",
       "       'business', 'but', 'by', 'called', 'can', 'cannot', 'cause',\n",
       "       'century', 'change', 'character', 'children', 'citizen',\n",
       "       'citizens', 'civil', 'come', 'commerce', 'common', 'confidence',\n",
       "       'congress', 'constitution', 'constitutional', 'continue', 'could',\n",
       "       'country', 'countrymen', 'course', 'day', 'democracy', 'do',\n",
       "       'done', 'duties', 'duty', 'each', 'earth', 'economy', 'equal',\n",
       "       'even', 'ever', 'every', 'executive', 'experience', 'faith', 'far',\n",
       "       'federal', 'fellow', 'find', 'first', 'for', 'force', 'foreign',\n",
       "       'found', 'free', 'freedom', 'from', 'full', 'future', 'general',\n",
       "       'give', 'given', 'god', 'good', 'government', 'great', 'greater',\n",
       "       'had', 'hand', 'happiness', 'has', 'have', 'he', 'help', 'here',\n",
       "       'high', 'his', 'history', 'home', 'honor', 'hope', 'however',\n",
       "       'human', 'if', 'important', 'in', 'individual', 'influence',\n",
       "       'institutions', 'interest', 'interests', 'into', 'is', 'it', 'its',\n",
       "       'itself', 'just', 'justice', 'know', 'labor', 'land', 'law',\n",
       "       'laws', 'less', 'let', 'liberty', 'life', 'like', 'live', 'lives',\n",
       "       'long', 'love', 'made', 'make', 'man', 'many', 'may', 'me',\n",
       "       'means', 'meet', 'men', 'might', 'more', 'most', 'much', 'must',\n",
       "       'my', 'nation', 'national', 'nations', 'necessary', 'need',\n",
       "       'never', 'new', 'no', 'nor', 'not', 'nothing', 'now', 'oath', 'of',\n",
       "       'office', 'old', 'on', 'one', 'only', 'opportunity', 'or', 'order',\n",
       "       'other', 'others', 'ought', 'our', 'ourselves', 'out', 'over',\n",
       "       'own', 'part', 'party', 'past', 'peace', 'people', 'place',\n",
       "       'policy', 'political', 'power', 'powers', 'present', 'president',\n",
       "       'principle', 'principles', 'progress', 'proper', 'prosperity',\n",
       "       'protection', 'public', 'purpose', 'question', 'republic',\n",
       "       'resources', 'respect', 'responsibility', 'revenue', 'right',\n",
       "       'rights', 'same', 'secure', 'security', 'see', 'seek', 'self',\n",
       "       'sense', 'service', 'shall', 'should', 'since', 'so', 'some',\n",
       "       'spirit', 'stand', 'state', 'states', 'still', 'strength',\n",
       "       'strong', 'subject', 'such', 'support', 'system', 'take', 'than',\n",
       "       'that', 'the', 'their', 'them', 'themselves', 'then', 'there',\n",
       "       'these', 'they', 'things', 'this', 'those', 'through', 'time',\n",
       "       'times', 'to', 'today', 'together', 'too', 'toward', 'trade',\n",
       "       'true', 'trust', 'under', 'union', 'united', 'up', 'upon', 'us',\n",
       "       'use', 'very', 'war', 'was', 'way', 'we', 'well', 'were', 'what',\n",
       "       'when', 'where', 'whether', 'which', 'while', 'who', 'whole',\n",
       "       'whose', 'will', 'with', 'within', 'without', 'work', 'world',\n",
       "       'would', 'years', 'yet', 'you', 'your'], dtype=object)"
      ]
     },
     "execution_count": 49,
     "metadata": {},
     "output_type": "execute_result"
    }
   ],
   "source": [
    "vectorizer.get_feature_names_out()"
   ]
  },
  {
   "cell_type": "code",
   "execution_count": 50,
   "id": "aa40d4d1",
   "metadata": {},
   "outputs": [
    {
     "data": {
      "text/plain": [
       "array(['0092', '0097', 'act', 'action', 'administration', 'again',\n",
       "       'against', 'all', 'also', 'always', 'am', 'america', 'american',\n",
       "       'americans', 'among', 'an', 'and', 'another', 'any', 'are', 'as',\n",
       "       'at', 'authority', 'be', 'because', 'become', 'been', 'before',\n",
       "       'being', 'believe', 'best', 'better', 'between', 'beyond', 'both',\n",
       "       'business', 'but', 'by', 'called', 'can', 'cannot', 'cause',\n",
       "       'century', 'change', 'character', 'children', 'citizen',\n",
       "       'citizens', 'civil', 'come', 'commerce', 'common', 'confidence',\n",
       "       'congress', 'constitution', 'constitutional', 'continue', 'could',\n",
       "       'country', 'countrymen', 'course', 'day', 'democracy', 'do',\n",
       "       'done', 'duties', 'duty', 'each', 'earth', 'economy', 'equal',\n",
       "       'even', 'ever', 'every', 'executive', 'experience', 'faith', 'far',\n",
       "       'federal', 'fellow', 'find', 'first', 'for', 'force', 'foreign',\n",
       "       'found', 'free', 'freedom', 'from', 'full', 'future', 'general',\n",
       "       'give', 'given', 'god', 'good', 'government', 'great', 'greater',\n",
       "       'had', 'hand', 'happiness', 'has', 'have', 'he', 'help', 'here',\n",
       "       'high', 'his', 'history', 'home', 'honor', 'hope', 'however',\n",
       "       'human', 'if', 'important', 'in', 'individual', 'influence',\n",
       "       'institutions', 'interest', 'interests', 'into', 'is', 'it', 'its',\n",
       "       'itself', 'just', 'justice', 'know', 'labor', 'land', 'law',\n",
       "       'laws', 'less', 'let', 'liberty', 'life', 'like', 'live', 'lives',\n",
       "       'long', 'love', 'made', 'make', 'man', 'many', 'may', 'me',\n",
       "       'means', 'meet', 'men', 'might', 'more', 'most', 'much', 'must',\n",
       "       'my', 'nation', 'national', 'nations', 'necessary', 'need',\n",
       "       'never', 'new', 'no', 'nor', 'not', 'nothing', 'now', 'oath', 'of',\n",
       "       'office', 'old', 'on', 'one', 'only', 'opportunity', 'or', 'order',\n",
       "       'other', 'others', 'ought', 'our', 'ourselves', 'out', 'over',\n",
       "       'own', 'part', 'party', 'past', 'peace', 'people', 'place',\n",
       "       'policy', 'political', 'power', 'powers', 'present', 'president',\n",
       "       'principle', 'principles', 'progress', 'proper', 'prosperity',\n",
       "       'protection', 'public', 'purpose', 'question', 'republic',\n",
       "       'resources', 'respect', 'responsibility', 'revenue', 'right',\n",
       "       'rights', 'same', 'secure', 'security', 'see', 'seek', 'self',\n",
       "       'sense', 'service', 'shall', 'should', 'since', 'so', 'some',\n",
       "       'spirit', 'stand', 'state', 'states', 'still', 'strength',\n",
       "       'strong', 'subject', 'such', 'support', 'system', 'take', 'than',\n",
       "       'that', 'the', 'their', 'them', 'themselves', 'then', 'there',\n",
       "       'these', 'they', 'things', 'this', 'those', 'through', 'time',\n",
       "       'times', 'to', 'today', 'together', 'too', 'toward', 'trade',\n",
       "       'true', 'trust', 'under', 'union', 'united', 'up', 'upon', 'us',\n",
       "       'use', 'very', 'war', 'was', 'way', 'we', 'well', 'were', 'what',\n",
       "       'when', 'where', 'whether', 'which', 'while', 'who', 'whole',\n",
       "       'whose', 'will', 'with', 'within', 'without', 'work', 'world',\n",
       "       'would', 'years', 'yet', 'you', 'your'], dtype=object)"
      ]
     },
     "execution_count": 50,
     "metadata": {},
     "output_type": "execute_result"
    }
   ],
   "source": [
    "vectorizer.get_feature_names_out()"
   ]
  },
  {
   "cell_type": "code",
   "execution_count": 51,
   "id": "30141508",
   "metadata": {},
   "outputs": [],
   "source": [
    "vectorized_data = vectorizer.transform(df['clean_text']).toarray()"
   ]
  },
  {
   "cell_type": "code",
   "execution_count": 52,
   "id": "ea62e170",
   "metadata": {},
   "outputs": [
    {
     "data": {
      "text/plain": [
       "(58, 300)"
      ]
     },
     "execution_count": 52,
     "metadata": {},
     "output_type": "execute_result"
    }
   ],
   "source": [
    "pd.DataFrame(vectorized_data, columns=vectorizer.get_feature_names_out()).add_prefix('V_').shape"
   ]
  },
  {
   "cell_type": "code",
   "execution_count": 53,
   "id": "a15cd9c1",
   "metadata": {},
   "outputs": [],
   "source": [
    "corpus = ['Hôm qua tôi đi học ở trường',\n",
    "         'Trường học tôi rất xa nhà',\n",
    "         'Nhà tôi ở đầu làng',\n",
    "         'Mẹ tôi đi chợ rất xa']"
   ]
  },
  {
   "cell_type": "code",
   "execution_count": 54,
   "id": "f8770d0b",
   "metadata": {},
   "outputs": [],
   "source": [
    "vectorizer=CountVectorizer(vocabulary=['tôi','mẹ','trường','làng','chợ'])"
   ]
  },
  {
   "cell_type": "code",
   "execution_count": 55,
   "id": "a0b5a819",
   "metadata": {},
   "outputs": [
    {
     "data": {
      "text/plain": [
       "array([[1, 0, 1, 0, 0],\n",
       "       [1, 0, 1, 0, 0],\n",
       "       [1, 0, 0, 1, 0],\n",
       "       [1, 1, 0, 0, 1]], dtype=int64)"
      ]
     },
     "execution_count": 55,
     "metadata": {},
     "output_type": "execute_result"
    }
   ],
   "source": [
    "vectorizer.fit_transform(corpus).toarray()"
   ]
  },
  {
   "cell_type": "code",
   "execution_count": 56,
   "id": "c14e83fb",
   "metadata": {},
   "outputs": [
    {
     "data": {
      "text/html": [
       "<div>\n",
       "<style scoped>\n",
       "    .dataframe tbody tr th:only-of-type {\n",
       "        vertical-align: middle;\n",
       "    }\n",
       "\n",
       "    .dataframe tbody tr th {\n",
       "        vertical-align: top;\n",
       "    }\n",
       "\n",
       "    .dataframe thead th {\n",
       "        text-align: right;\n",
       "    }\n",
       "</style>\n",
       "<table border=\"1\" class=\"dataframe\">\n",
       "  <thead>\n",
       "    <tr style=\"text-align: right;\">\n",
       "      <th></th>\n",
       "      <th>tôi</th>\n",
       "      <th>mẹ</th>\n",
       "      <th>trường</th>\n",
       "      <th>làng</th>\n",
       "      <th>chợ</th>\n",
       "    </tr>\n",
       "  </thead>\n",
       "  <tbody>\n",
       "    <tr>\n",
       "      <th>0</th>\n",
       "      <td>1</td>\n",
       "      <td>0</td>\n",
       "      <td>1</td>\n",
       "      <td>0</td>\n",
       "      <td>0</td>\n",
       "    </tr>\n",
       "    <tr>\n",
       "      <th>1</th>\n",
       "      <td>1</td>\n",
       "      <td>0</td>\n",
       "      <td>1</td>\n",
       "      <td>0</td>\n",
       "      <td>0</td>\n",
       "    </tr>\n",
       "    <tr>\n",
       "      <th>2</th>\n",
       "      <td>1</td>\n",
       "      <td>0</td>\n",
       "      <td>0</td>\n",
       "      <td>1</td>\n",
       "      <td>0</td>\n",
       "    </tr>\n",
       "    <tr>\n",
       "      <th>3</th>\n",
       "      <td>1</td>\n",
       "      <td>1</td>\n",
       "      <td>0</td>\n",
       "      <td>0</td>\n",
       "      <td>1</td>\n",
       "    </tr>\n",
       "  </tbody>\n",
       "</table>\n",
       "</div>"
      ],
      "text/plain": [
       "   tôi  mẹ  trường  làng  chợ\n",
       "0    1   0       1     0    0\n",
       "1    1   0       1     0    0\n",
       "2    1   0       0     1    0\n",
       "3    1   1       0     0    1"
      ]
     },
     "execution_count": 56,
     "metadata": {},
     "output_type": "execute_result"
    }
   ],
   "source": [
    "pd.DataFrame(vectorizer.fit_transform(corpus).toarray(), columns=vectorizer.get_feature_names_out())"
   ]
  },
  {
   "cell_type": "markdown",
   "id": "b7cbc3d0",
   "metadata": {},
   "source": [
    "### Tf-IDF Vectorizer"
   ]
  },
  {
   "cell_type": "code",
   "execution_count": 57,
   "id": "a480006e",
   "metadata": {},
   "outputs": [],
   "source": [
    "from sklearn.feature_extraction.text import TfidfVectorizer"
   ]
  },
  {
   "cell_type": "code",
   "execution_count": 58,
   "id": "66b9a8a9",
   "metadata": {},
   "outputs": [],
   "source": [
    "vectorizer = TfidfVectorizer(max_features=100, stop_words='english')"
   ]
  },
  {
   "cell_type": "code",
   "execution_count": 59,
   "id": "75849e5c",
   "metadata": {},
   "outputs": [],
   "source": [
    "vectorized_data = vectorizer.fit_transform(df['clean_text']).toarray()"
   ]
  },
  {
   "cell_type": "code",
   "execution_count": 60,
   "id": "75eb0a66",
   "metadata": {},
   "outputs": [
    {
     "data": {
      "text/plain": [
       "array(['0092', '0097', 'action', 'administration', 'america', 'american',\n",
       "       'americans', 'believe', 'best', 'better', 'citizens', 'come',\n",
       "       'common', 'confidence', 'congress', 'constitution', 'country',\n",
       "       'day', 'duties', 'duty', 'equal', 'executive', 'faith', 'far',\n",
       "       'federal', 'fellow', 'force', 'foreign', 'free', 'freedom',\n",
       "       'future', 'general', 'god', 'good', 'government', 'great', 'high',\n",
       "       'history', 'home', 'hope', 'human', 'institutions', 'interests',\n",
       "       'just', 'justice', 'know', 'land', 'law', 'laws', 'let', 'liberty',\n",
       "       'life', 'long', 'make', 'man', 'means', 'men', 'nation',\n",
       "       'national', 'nations', 'necessary', 'need', 'new', 'office', 'old',\n",
       "       'order', 'party', 'peace', 'people', 'place', 'policy',\n",
       "       'political', 'power', 'powers', 'present', 'president',\n",
       "       'principles', 'progress', 'prosperity', 'public', 'purpose',\n",
       "       'right', 'rights', 'service', 'shall', 'spirit', 'state', 'states',\n",
       "       'strength', 'support', 'things', 'time', 'today', 'union',\n",
       "       'united', 'war', 'way', 'work', 'world', 'years'], dtype=object)"
      ]
     },
     "execution_count": 60,
     "metadata": {},
     "output_type": "execute_result"
    }
   ],
   "source": [
    "vectorizer.get_feature_names_out()"
   ]
  },
  {
   "cell_type": "code",
   "execution_count": 61,
   "id": "20c6b982",
   "metadata": {},
   "outputs": [],
   "source": [
    "vectorized_df = pd.DataFrame(vectorized_data, columns=vectorizer.get_feature_names_out()).add_prefix('V_')"
   ]
  },
  {
   "cell_type": "code",
   "execution_count": 84,
   "id": "0c35075d",
   "metadata": {},
   "outputs": [
    {
     "data": {
      "text/plain": [
       "V_power       116\n",
       "V_make         71\n",
       "V_right        48\n",
       "V_american     48\n",
       "V_today        36\n",
       "             ... \n",
       "V_need          0\n",
       "V_action        0\n",
       "V_home          0\n",
       "V_duties        0\n",
       "V_high          0\n",
       "Name: 0, Length: 100, dtype: int64"
      ]
     },
     "execution_count": 84,
     "metadata": {},
     "output_type": "execute_result"
    }
   ],
   "source": [
    "vectorizer_df.iloc[0].sort_values(ascending=False)"
   ]
  },
  {
   "cell_type": "markdown",
   "id": "feff0ef6",
   "metadata": {},
   "source": [
    "### CountVectorize vs Tf-IDF Vectorizer"
   ]
  },
  {
   "cell_type": "code",
   "execution_count": 63,
   "id": "62d208d8",
   "metadata": {},
   "outputs": [],
   "source": [
    "from sklearn.feature_extraction.text import CountVectorizer"
   ]
  },
  {
   "cell_type": "code",
   "execution_count": 64,
   "id": "49a4c84b",
   "metadata": {},
   "outputs": [],
   "source": [
    "vectorizer = CountVectorizer(max_features=100, stop_words='english')"
   ]
  },
  {
   "cell_type": "code",
   "execution_count": 65,
   "id": "c9919f70",
   "metadata": {},
   "outputs": [],
   "source": [
    "vectorized_data = vectorizer.fit_transform(df['clean_text']).toarray()"
   ]
  },
  {
   "cell_type": "code",
   "execution_count": 66,
   "id": "b9a81dff",
   "metadata": {},
   "outputs": [],
   "source": [
    "from sklearn.feature_extraction.text import TfidfTransformer"
   ]
  },
  {
   "cell_type": "code",
   "execution_count": 67,
   "id": "1df9e25b",
   "metadata": {},
   "outputs": [],
   "source": [
    "transfomer = TfidfTransformer()"
   ]
  },
  {
   "cell_type": "code",
   "execution_count": 68,
   "id": "effadf2d",
   "metadata": {},
   "outputs": [
    {
     "data": {
      "text/plain": [
       "array([[0.        , 0.04746758, 0.        , ..., 0.        , 0.04587701,\n",
       "        0.05263464],\n",
       "       [0.        , 0.        , 0.        , ..., 0.        , 0.        ,\n",
       "        0.        ],\n",
       "       [0.        , 0.02195458, 0.        , ..., 0.        , 0.06365675,\n",
       "        0.07303331],\n",
       "       ...,\n",
       "       [0.59501644, 0.41016363, 0.0260232 , ..., 0.127289  , 0.12064947,\n",
       "        0.01977443],\n",
       "       [0.61169903, 0.40333027, 0.02675281, ..., 0.08723855, 0.05315663,\n",
       "        0.10164424],\n",
       "       [0.54527906, 0.13727721, 0.05723501, ..., 0.02332978, 0.11372337,\n",
       "        0.04349157]])"
      ]
     },
     "execution_count": 68,
     "metadata": {},
     "output_type": "execute_result"
    }
   ],
   "source": [
    "transfomer.fit_transform(vectorized_data).toarray()"
   ]
  },
  {
   "cell_type": "code",
   "execution_count": 70,
   "id": "b0a4f5c5",
   "metadata": {},
   "outputs": [
    {
     "data": {
      "text/html": [
       "<div>\n",
       "<style scoped>\n",
       "    .dataframe tbody tr th:only-of-type {\n",
       "        vertical-align: middle;\n",
       "    }\n",
       "\n",
       "    .dataframe tbody tr th {\n",
       "        vertical-align: top;\n",
       "    }\n",
       "\n",
       "    .dataframe thead th {\n",
       "        text-align: right;\n",
       "    }\n",
       "</style>\n",
       "<table border=\"1\" class=\"dataframe\">\n",
       "  <thead>\n",
       "    <tr style=\"text-align: right;\">\n",
       "      <th></th>\n",
       "      <th>V_0092</th>\n",
       "      <th>V_0097</th>\n",
       "      <th>V_action</th>\n",
       "      <th>V_administration</th>\n",
       "      <th>V_america</th>\n",
       "      <th>V_american</th>\n",
       "      <th>V_americans</th>\n",
       "      <th>V_believe</th>\n",
       "      <th>V_best</th>\n",
       "      <th>V_better</th>\n",
       "      <th>...</th>\n",
       "      <th>V_things</th>\n",
       "      <th>V_time</th>\n",
       "      <th>V_today</th>\n",
       "      <th>V_union</th>\n",
       "      <th>V_united</th>\n",
       "      <th>V_war</th>\n",
       "      <th>V_way</th>\n",
       "      <th>V_work</th>\n",
       "      <th>V_world</th>\n",
       "      <th>V_years</th>\n",
       "    </tr>\n",
       "  </thead>\n",
       "  <tbody>\n",
       "    <tr>\n",
       "      <th>0</th>\n",
       "      <td>0.0</td>\n",
       "      <td>0.047468</td>\n",
       "      <td>0.000000</td>\n",
       "      <td>0.133265</td>\n",
       "      <td>0.000000</td>\n",
       "      <td>0.105269</td>\n",
       "      <td>0.0</td>\n",
       "      <td>0.000000</td>\n",
       "      <td>0.000000</td>\n",
       "      <td>0.000000</td>\n",
       "      <td>...</td>\n",
       "      <td>0.000000</td>\n",
       "      <td>0.045877</td>\n",
       "      <td>0.0</td>\n",
       "      <td>0.135859</td>\n",
       "      <td>0.203364</td>\n",
       "      <td>0.000000</td>\n",
       "      <td>0.060687</td>\n",
       "      <td>0.000000</td>\n",
       "      <td>0.045877</td>\n",
       "      <td>0.052635</td>\n",
       "    </tr>\n",
       "    <tr>\n",
       "      <th>1</th>\n",
       "      <td>0.0</td>\n",
       "      <td>0.000000</td>\n",
       "      <td>0.000000</td>\n",
       "      <td>0.261016</td>\n",
       "      <td>0.266097</td>\n",
       "      <td>0.000000</td>\n",
       "      <td>0.0</td>\n",
       "      <td>0.000000</td>\n",
       "      <td>0.000000</td>\n",
       "      <td>0.000000</td>\n",
       "      <td>...</td>\n",
       "      <td>0.000000</td>\n",
       "      <td>0.000000</td>\n",
       "      <td>0.0</td>\n",
       "      <td>0.000000</td>\n",
       "      <td>0.199157</td>\n",
       "      <td>0.000000</td>\n",
       "      <td>0.000000</td>\n",
       "      <td>0.000000</td>\n",
       "      <td>0.000000</td>\n",
       "      <td>0.000000</td>\n",
       "    </tr>\n",
       "    <tr>\n",
       "      <th>2</th>\n",
       "      <td>0.0</td>\n",
       "      <td>0.021955</td>\n",
       "      <td>0.000000</td>\n",
       "      <td>0.092456</td>\n",
       "      <td>0.157092</td>\n",
       "      <td>0.073033</td>\n",
       "      <td>0.0</td>\n",
       "      <td>0.000000</td>\n",
       "      <td>0.026118</td>\n",
       "      <td>0.060473</td>\n",
       "      <td>...</td>\n",
       "      <td>0.032037</td>\n",
       "      <td>0.021219</td>\n",
       "      <td>0.0</td>\n",
       "      <td>0.062837</td>\n",
       "      <td>0.070544</td>\n",
       "      <td>0.024344</td>\n",
       "      <td>0.000000</td>\n",
       "      <td>0.000000</td>\n",
       "      <td>0.063657</td>\n",
       "      <td>0.073033</td>\n",
       "    </tr>\n",
       "    <tr>\n",
       "      <th>3</th>\n",
       "      <td>0.0</td>\n",
       "      <td>0.131111</td>\n",
       "      <td>0.000000</td>\n",
       "      <td>0.092023</td>\n",
       "      <td>0.000000</td>\n",
       "      <td>0.000000</td>\n",
       "      <td>0.0</td>\n",
       "      <td>0.090286</td>\n",
       "      <td>0.116980</td>\n",
       "      <td>0.045143</td>\n",
       "      <td>...</td>\n",
       "      <td>0.047831</td>\n",
       "      <td>0.000000</td>\n",
       "      <td>0.0</td>\n",
       "      <td>0.093814</td>\n",
       "      <td>0.000000</td>\n",
       "      <td>0.036346</td>\n",
       "      <td>0.000000</td>\n",
       "      <td>0.038993</td>\n",
       "      <td>0.095038</td>\n",
       "      <td>0.000000</td>\n",
       "    </tr>\n",
       "    <tr>\n",
       "      <th>4</th>\n",
       "      <td>0.0</td>\n",
       "      <td>0.028455</td>\n",
       "      <td>0.041523</td>\n",
       "      <td>0.039943</td>\n",
       "      <td>0.000000</td>\n",
       "      <td>0.031552</td>\n",
       "      <td>0.0</td>\n",
       "      <td>0.000000</td>\n",
       "      <td>0.067701</td>\n",
       "      <td>0.039189</td>\n",
       "      <td>...</td>\n",
       "      <td>0.083046</td>\n",
       "      <td>0.165008</td>\n",
       "      <td>0.0</td>\n",
       "      <td>0.122162</td>\n",
       "      <td>0.030477</td>\n",
       "      <td>0.094657</td>\n",
       "      <td>0.000000</td>\n",
       "      <td>0.000000</td>\n",
       "      <td>0.055003</td>\n",
       "      <td>0.063105</td>\n",
       "    </tr>\n",
       "  </tbody>\n",
       "</table>\n",
       "<p>5 rows × 100 columns</p>\n",
       "</div>"
      ],
      "text/plain": [
       "   V_0092    V_0097  V_action  V_administration  V_america  V_american   \n",
       "0     0.0  0.047468  0.000000          0.133265   0.000000    0.105269  \\\n",
       "1     0.0  0.000000  0.000000          0.261016   0.266097    0.000000   \n",
       "2     0.0  0.021955  0.000000          0.092456   0.157092    0.073033   \n",
       "3     0.0  0.131111  0.000000          0.092023   0.000000    0.000000   \n",
       "4     0.0  0.028455  0.041523          0.039943   0.000000    0.031552   \n",
       "\n",
       "   V_americans  V_believe    V_best  V_better  ...  V_things    V_time   \n",
       "0          0.0   0.000000  0.000000  0.000000  ...  0.000000  0.045877  \\\n",
       "1          0.0   0.000000  0.000000  0.000000  ...  0.000000  0.000000   \n",
       "2          0.0   0.000000  0.026118  0.060473  ...  0.032037  0.021219   \n",
       "3          0.0   0.090286  0.116980  0.045143  ...  0.047831  0.000000   \n",
       "4          0.0   0.000000  0.067701  0.039189  ...  0.083046  0.165008   \n",
       "\n",
       "   V_today   V_union  V_united     V_war     V_way    V_work   V_world   \n",
       "0      0.0  0.135859  0.203364  0.000000  0.060687  0.000000  0.045877  \\\n",
       "1      0.0  0.000000  0.199157  0.000000  0.000000  0.000000  0.000000   \n",
       "2      0.0  0.062837  0.070544  0.024344  0.000000  0.000000  0.063657   \n",
       "3      0.0  0.093814  0.000000  0.036346  0.000000  0.038993  0.095038   \n",
       "4      0.0  0.122162  0.030477  0.094657  0.000000  0.000000  0.055003   \n",
       "\n",
       "    V_years  \n",
       "0  0.052635  \n",
       "1  0.000000  \n",
       "2  0.073033  \n",
       "3  0.000000  \n",
       "4  0.063105  \n",
       "\n",
       "[5 rows x 100 columns]"
      ]
     },
     "execution_count": 70,
     "metadata": {},
     "output_type": "execute_result"
    }
   ],
   "source": [
    "# compare with vectorized_df\n",
    "vectorized_df.head()"
   ]
  },
  {
   "cell_type": "markdown",
   "id": "9920735d",
   "metadata": {},
   "source": [
    "### N-gram"
   ]
  },
  {
   "cell_type": "code",
   "execution_count": 75,
   "id": "33d06b1c",
   "metadata": {},
   "outputs": [],
   "source": [
    "vectorizer = TfidfVectorizer(ngram_range=(1,2))"
   ]
  },
  {
   "cell_type": "code",
   "execution_count": 76,
   "id": "21e6f214",
   "metadata": {},
   "outputs": [],
   "source": [
    "vectorized_data = vectorizer.fit_transform(corpus).toarray()"
   ]
  },
  {
   "cell_type": "code",
   "execution_count": 77,
   "id": "008e4928",
   "metadata": {},
   "outputs": [
    {
     "data": {
      "text/plain": [
       "array(['chợ', 'chợ rất', 'hôm', 'hôm qua', 'học', 'học trường', 'học tôi',\n",
       "       'làng', 'mẹ', 'mẹ tôi', 'nhà', 'nhà tôi', 'qua', 'qua tôi', 'rất',\n",
       "       'rất xa', 'trường', 'trường học', 'tôi', 'tôi rất', 'tôi đi',\n",
       "       'tôi đầu', 'xa', 'xa nhà', 'đi', 'đi chợ', 'đi học', 'đầu',\n",
       "       'đầu làng'], dtype=object)"
      ]
     },
     "execution_count": 77,
     "metadata": {},
     "output_type": "execute_result"
    }
   ],
   "source": [
    "vectorizer.get_feature_names_out()"
   ]
  },
  {
   "cell_type": "code",
   "execution_count": 78,
   "id": "4225fd0c",
   "metadata": {},
   "outputs": [],
   "source": [
    "vectorized_df = pd.DataFrame(vectorized_data,columns=vectorizer.get_feature_names_out()).add_prefix('V_')"
   ]
  },
  {
   "cell_type": "code",
   "execution_count": 79,
   "id": "7c32ff77",
   "metadata": {},
   "outputs": [
    {
     "data": {
      "text/html": [
       "<div>\n",
       "<style scoped>\n",
       "    .dataframe tbody tr th:only-of-type {\n",
       "        vertical-align: middle;\n",
       "    }\n",
       "\n",
       "    .dataframe tbody tr th {\n",
       "        vertical-align: top;\n",
       "    }\n",
       "\n",
       "    .dataframe thead th {\n",
       "        text-align: right;\n",
       "    }\n",
       "</style>\n",
       "<table border=\"1\" class=\"dataframe\">\n",
       "  <thead>\n",
       "    <tr style=\"text-align: right;\">\n",
       "      <th></th>\n",
       "      <th>V_chợ</th>\n",
       "      <th>V_chợ rất</th>\n",
       "      <th>V_hôm</th>\n",
       "      <th>V_hôm qua</th>\n",
       "      <th>V_học</th>\n",
       "      <th>V_học trường</th>\n",
       "      <th>V_học tôi</th>\n",
       "      <th>V_làng</th>\n",
       "      <th>V_mẹ</th>\n",
       "      <th>V_mẹ tôi</th>\n",
       "      <th>...</th>\n",
       "      <th>V_tôi rất</th>\n",
       "      <th>V_tôi đi</th>\n",
       "      <th>V_tôi đầu</th>\n",
       "      <th>V_xa</th>\n",
       "      <th>V_xa nhà</th>\n",
       "      <th>V_đi</th>\n",
       "      <th>V_đi chợ</th>\n",
       "      <th>V_đi học</th>\n",
       "      <th>V_đầu</th>\n",
       "      <th>V_đầu làng</th>\n",
       "    </tr>\n",
       "  </thead>\n",
       "  <tbody>\n",
       "    <tr>\n",
       "      <th>0</th>\n",
       "      <td>0.000000</td>\n",
       "      <td>0.000000</td>\n",
       "      <td>0.337894</td>\n",
       "      <td>0.337894</td>\n",
       "      <td>0.266399</td>\n",
       "      <td>0.337894</td>\n",
       "      <td>0.000000</td>\n",
       "      <td>0.000000</td>\n",
       "      <td>0.000000</td>\n",
       "      <td>0.000000</td>\n",
       "      <td>...</td>\n",
       "      <td>0.000000</td>\n",
       "      <td>0.266399</td>\n",
       "      <td>0.000000</td>\n",
       "      <td>0.000000</td>\n",
       "      <td>0.000000</td>\n",
       "      <td>0.266399</td>\n",
       "      <td>0.000000</td>\n",
       "      <td>0.337894</td>\n",
       "      <td>0.000000</td>\n",
       "      <td>0.000000</td>\n",
       "    </tr>\n",
       "    <tr>\n",
       "      <th>1</th>\n",
       "      <td>0.000000</td>\n",
       "      <td>0.000000</td>\n",
       "      <td>0.000000</td>\n",
       "      <td>0.000000</td>\n",
       "      <td>0.278713</td>\n",
       "      <td>0.000000</td>\n",
       "      <td>0.353512</td>\n",
       "      <td>0.000000</td>\n",
       "      <td>0.000000</td>\n",
       "      <td>0.000000</td>\n",
       "      <td>...</td>\n",
       "      <td>0.353512</td>\n",
       "      <td>0.000000</td>\n",
       "      <td>0.000000</td>\n",
       "      <td>0.278713</td>\n",
       "      <td>0.353512</td>\n",
       "      <td>0.000000</td>\n",
       "      <td>0.000000</td>\n",
       "      <td>0.000000</td>\n",
       "      <td>0.000000</td>\n",
       "      <td>0.000000</td>\n",
       "    </tr>\n",
       "    <tr>\n",
       "      <th>2</th>\n",
       "      <td>0.000000</td>\n",
       "      <td>0.000000</td>\n",
       "      <td>0.000000</td>\n",
       "      <td>0.000000</td>\n",
       "      <td>0.000000</td>\n",
       "      <td>0.000000</td>\n",
       "      <td>0.000000</td>\n",
       "      <td>0.411906</td>\n",
       "      <td>0.000000</td>\n",
       "      <td>0.000000</td>\n",
       "      <td>...</td>\n",
       "      <td>0.000000</td>\n",
       "      <td>0.000000</td>\n",
       "      <td>0.411906</td>\n",
       "      <td>0.000000</td>\n",
       "      <td>0.000000</td>\n",
       "      <td>0.000000</td>\n",
       "      <td>0.000000</td>\n",
       "      <td>0.000000</td>\n",
       "      <td>0.411906</td>\n",
       "      <td>0.411906</td>\n",
       "    </tr>\n",
       "    <tr>\n",
       "      <th>3</th>\n",
       "      <td>0.345438</td>\n",
       "      <td>0.345438</td>\n",
       "      <td>0.000000</td>\n",
       "      <td>0.000000</td>\n",
       "      <td>0.000000</td>\n",
       "      <td>0.000000</td>\n",
       "      <td>0.000000</td>\n",
       "      <td>0.000000</td>\n",
       "      <td>0.345438</td>\n",
       "      <td>0.345438</td>\n",
       "      <td>...</td>\n",
       "      <td>0.000000</td>\n",
       "      <td>0.272348</td>\n",
       "      <td>0.000000</td>\n",
       "      <td>0.272348</td>\n",
       "      <td>0.000000</td>\n",
       "      <td>0.272348</td>\n",
       "      <td>0.345438</td>\n",
       "      <td>0.000000</td>\n",
       "      <td>0.000000</td>\n",
       "      <td>0.000000</td>\n",
       "    </tr>\n",
       "  </tbody>\n",
       "</table>\n",
       "<p>4 rows × 29 columns</p>\n",
       "</div>"
      ],
      "text/plain": [
       "      V_chợ  V_chợ rất     V_hôm  V_hôm qua     V_học  V_học trường   \n",
       "0  0.000000   0.000000  0.337894   0.337894  0.266399      0.337894  \\\n",
       "1  0.000000   0.000000  0.000000   0.000000  0.278713      0.000000   \n",
       "2  0.000000   0.000000  0.000000   0.000000  0.000000      0.000000   \n",
       "3  0.345438   0.345438  0.000000   0.000000  0.000000      0.000000   \n",
       "\n",
       "   V_học tôi    V_làng      V_mẹ  V_mẹ tôi  ...  V_tôi rất  V_tôi đi   \n",
       "0   0.000000  0.000000  0.000000  0.000000  ...   0.000000  0.266399  \\\n",
       "1   0.353512  0.000000  0.000000  0.000000  ...   0.353512  0.000000   \n",
       "2   0.000000  0.411906  0.000000  0.000000  ...   0.000000  0.000000   \n",
       "3   0.000000  0.000000  0.345438  0.345438  ...   0.000000  0.272348   \n",
       "\n",
       "   V_tôi đầu      V_xa  V_xa nhà      V_đi  V_đi chợ  V_đi học     V_đầu   \n",
       "0   0.000000  0.000000  0.000000  0.266399  0.000000  0.337894  0.000000  \\\n",
       "1   0.000000  0.278713  0.353512  0.000000  0.000000  0.000000  0.000000   \n",
       "2   0.411906  0.000000  0.000000  0.000000  0.000000  0.000000  0.411906   \n",
       "3   0.000000  0.272348  0.000000  0.272348  0.345438  0.000000  0.000000   \n",
       "\n",
       "   V_đầu làng  \n",
       "0    0.000000  \n",
       "1    0.000000  \n",
       "2    0.411906  \n",
       "3    0.000000  \n",
       "\n",
       "[4 rows x 29 columns]"
      ]
     },
     "execution_count": 79,
     "metadata": {},
     "output_type": "execute_result"
    }
   ],
   "source": [
    "vectorized_df"
   ]
  },
  {
   "cell_type": "code",
   "execution_count": 85,
   "id": "c27245ab",
   "metadata": {},
   "outputs": [
    {
     "data": {
      "text/plain": [
       "V_qua           0.337894\n",
       "V_hôm           0.337894\n",
       "V_hôm qua       0.337894\n",
       "V_học trường    0.337894\n",
       "V_đi học        0.337894\n",
       "V_qua tôi       0.337894\n",
       "V_đi            0.266399\n",
       "V_học           0.266399\n",
       "V_trường        0.266399\n",
       "V_tôi đi        0.266399\n",
       "V_tôi           0.176327\n",
       "V_tôi đầu       0.000000\n",
       "V_chợ           0.000000\n",
       "V_xa            0.000000\n",
       "V_xa nhà        0.000000\n",
       "V_đi chợ        0.000000\n",
       "V_đầu           0.000000\n",
       "V_tôi rất       0.000000\n",
       "V_rất           0.000000\n",
       "V_trường học    0.000000\n",
       "V_rất xa        0.000000\n",
       "V_chợ rất       0.000000\n",
       "V_nhà tôi       0.000000\n",
       "V_nhà           0.000000\n",
       "V_mẹ tôi        0.000000\n",
       "V_mẹ            0.000000\n",
       "V_làng          0.000000\n",
       "V_học tôi       0.000000\n",
       "V_đầu làng      0.000000\n",
       "Name: 0, dtype: float64"
      ]
     },
     "execution_count": 85,
     "metadata": {},
     "output_type": "execute_result"
    }
   ],
   "source": [
    "vectorized_df.iloc[0].sort_values(ascending=False)"
   ]
  },
  {
   "cell_type": "code",
   "execution_count": null,
   "id": "55af525f",
   "metadata": {},
   "outputs": [],
   "source": []
  }
 ],
 "metadata": {
  "kernelspec": {
   "display_name": "Python 3 (ipykernel)",
   "language": "python",
   "name": "python3"
  },
  "language_info": {
   "codemirror_mode": {
    "name": "ipython",
    "version": 3
   },
   "file_extension": ".py",
   "mimetype": "text/x-python",
   "name": "python",
   "nbconvert_exporter": "python",
   "pygments_lexer": "ipython3",
   "version": "3.9.12"
  }
 },
 "nbformat": 4,
 "nbformat_minor": 5
}
