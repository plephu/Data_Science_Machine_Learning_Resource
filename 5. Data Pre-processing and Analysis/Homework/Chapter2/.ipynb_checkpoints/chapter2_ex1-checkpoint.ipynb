{
 "cells": [
  {
   "cell_type": "code",
   "execution_count": 36,
   "id": "841494e1-7963-4868-914a-a5b0d38812ee",
   "metadata": {},
   "outputs": [],
   "source": [
    "import pandas as pd\n",
    "import numpy as np\n",
    "import matplotlib.pyplot as plt\n",
    "import seaborn as sns\n",
    "import re"
   ]
  },
  {
   "cell_type": "code",
   "execution_count": 11,
   "id": "79703279-4b32-46a8-9ea6-ccdb7592bbda",
   "metadata": {},
   "outputs": [],
   "source": [
    "df = pd.read_excel('Diemthi_thpt_quocgia_2016.xlsx')"
   ]
  },
  {
   "cell_type": "code",
   "execution_count": 12,
   "id": "c29ae5e5-8d70-47e0-8fc7-d9163c667630",
   "metadata": {},
   "outputs": [
    {
     "name": "stdout",
     "output_type": "stream",
     "text": [
      "<class 'pandas.core.frame.DataFrame'>\n",
      "RangeIndex: 34826 entries, 0 to 34825\n",
      "Data columns (total 6 columns):\n",
      " #   Column      Non-Null Count  Dtype \n",
      "---  ------      --------------  ----- \n",
      " 0   SOBAODANH   34826 non-null  object\n",
      " 1   HO_TEN      34826 non-null  object\n",
      " 2   NGAY_SINH   34826 non-null  object\n",
      " 3   TEN_CUMTHI  34826 non-null  object\n",
      " 4   GIOI_TINH   34826 non-null  object\n",
      " 5   DIEM_THI    34826 non-null  object\n",
      "dtypes: object(6)\n",
      "memory usage: 1.6+ MB\n"
     ]
    }
   ],
   "source": [
    "df.info()"
   ]
  },
  {
   "cell_type": "code",
   "execution_count": 13,
   "id": "6c021388-9f36-41bf-b1ae-e321806c6a61",
   "metadata": {},
   "outputs": [
    {
     "data": {
      "text/html": [
       "<div>\n",
       "<style scoped>\n",
       "    .dataframe tbody tr th:only-of-type {\n",
       "        vertical-align: middle;\n",
       "    }\n",
       "\n",
       "    .dataframe tbody tr th {\n",
       "        vertical-align: top;\n",
       "    }\n",
       "\n",
       "    .dataframe thead th {\n",
       "        text-align: right;\n",
       "    }\n",
       "</style>\n",
       "<table border=\"1\" class=\"dataframe\">\n",
       "  <thead>\n",
       "    <tr style=\"text-align: right;\">\n",
       "      <th></th>\n",
       "      <th>SOBAODANH</th>\n",
       "      <th>HO_TEN</th>\n",
       "      <th>NGAY_SINH</th>\n",
       "      <th>TEN_CUMTHI</th>\n",
       "      <th>GIOI_TINH</th>\n",
       "      <th>DIEM_THI</th>\n",
       "    </tr>\n",
       "  </thead>\n",
       "  <tbody>\n",
       "    <tr>\n",
       "      <th>0</th>\n",
       "      <td>018000001</td>\n",
       "      <td>DƯƠNG VIỆT AN</td>\n",
       "      <td>12/03/1998</td>\n",
       "      <td>Sở GDĐT Bắc Giang</td>\n",
       "      <td>Nam</td>\n",
       "      <td>Toán:   2.00   Ngữ văn:   5.50   Lịch sử:   3....</td>\n",
       "    </tr>\n",
       "    <tr>\n",
       "      <th>1</th>\n",
       "      <td>018000002</td>\n",
       "      <td>ĐỖ VĂN AN</td>\n",
       "      <td>09/12/1998</td>\n",
       "      <td>Sở GDĐT Bắc Giang</td>\n",
       "      <td>Nam</td>\n",
       "      <td>Toán:   5.50   Ngữ văn:   5.25   Địa lí:   5.5...</td>\n",
       "    </tr>\n",
       "    <tr>\n",
       "      <th>2</th>\n",
       "      <td>018000003</td>\n",
       "      <td>ĐỖ XUÂN AN</td>\n",
       "      <td>12/08/1997</td>\n",
       "      <td>Sở GDĐT Bắc Giang</td>\n",
       "      <td>Nam</td>\n",
       "      <td>Toán:   4.50   Ngữ văn:   5.50   Địa lí:   3.7...</td>\n",
       "    </tr>\n",
       "    <tr>\n",
       "      <th>3</th>\n",
       "      <td>018000004</td>\n",
       "      <td>ĐẶNG PHÚC AN</td>\n",
       "      <td>19/03/1998</td>\n",
       "      <td>Sở GDĐT Bắc Giang</td>\n",
       "      <td>Nữ</td>\n",
       "      <td>Toán:   3.00   Ngữ văn:   6.00   Địa lí:   5.5...</td>\n",
       "    </tr>\n",
       "    <tr>\n",
       "      <th>4</th>\n",
       "      <td>018000005</td>\n",
       "      <td>ĐẶNG VĂN AN</td>\n",
       "      <td>25/10/1998</td>\n",
       "      <td>Sở GDĐT Bắc Giang</td>\n",
       "      <td>Nam</td>\n",
       "      <td>Toán:   2.25   Ngữ văn:   4.75   Địa lí:   5.2...</td>\n",
       "    </tr>\n",
       "  </tbody>\n",
       "</table>\n",
       "</div>"
      ],
      "text/plain": [
       "   SOBAODANH         HO_TEN   NGAY_SINH         TEN_CUMTHI GIOI_TINH  \\\n",
       "0  018000001  DƯƠNG VIỆT AN  12/03/1998  Sở GDĐT Bắc Giang       Nam   \n",
       "1  018000002      ĐỖ VĂN AN  09/12/1998  Sở GDĐT Bắc Giang       Nam   \n",
       "2  018000003     ĐỖ XUÂN AN  12/08/1997  Sở GDĐT Bắc Giang       Nam   \n",
       "3  018000004   ĐẶNG PHÚC AN  19/03/1998  Sở GDĐT Bắc Giang        Nữ   \n",
       "4  018000005    ĐẶNG VĂN AN  25/10/1998  Sở GDĐT Bắc Giang       Nam   \n",
       "\n",
       "                                            DIEM_THI  \n",
       "0  Toán:   2.00   Ngữ văn:   5.50   Lịch sử:   3....  \n",
       "1  Toán:   5.50   Ngữ văn:   5.25   Địa lí:   5.5...  \n",
       "2  Toán:   4.50   Ngữ văn:   5.50   Địa lí:   3.7...  \n",
       "3  Toán:   3.00   Ngữ văn:   6.00   Địa lí:   5.5...  \n",
       "4  Toán:   2.25   Ngữ văn:   4.75   Địa lí:   5.2...  "
      ]
     },
     "execution_count": 13,
     "metadata": {},
     "output_type": "execute_result"
    }
   ],
   "source": [
    "df.head()"
   ]
  },
  {
   "cell_type": "code",
   "execution_count": 24,
   "id": "3587ceed-3169-413a-ae09-c05af11608f5",
   "metadata": {},
   "outputs": [],
   "source": [
    "ds_mon_thi = ('Toán',' Ngữ văn', 'Địa lí', 'Tiếng Anh','Sinh học', 'Vật lí','Hóa học', 'Lịch sử')\n"
   ]
  },
  {
   "cell_type": "code",
   "execution_count": 25,
   "id": "ee2e3b83",
   "metadata": {},
   "outputs": [
    {
     "data": {
      "text/plain": [
       "<re.Match object; span=(0, 12), match='Toán:   2.00'>"
      ]
     },
     "execution_count": 25,
     "metadata": {},
     "output_type": "execute_result"
    }
   ],
   "source": [
    "match = re.search('Toán:\\s\\s\\s\\d.\\d\\d','Toán:   2.00   Ngữ văn:   5.50   Lịch sử:   3.00   Địa lí:   5.00')\n",
    "match"
   ]
  },
  {
   "cell_type": "code",
   "execution_count": 26,
   "id": "0ada2e43-e790-4ffc-b0c4-0163c2c20935",
   "metadata": {},
   "outputs": [],
   "source": [
    "df_target = pd.DataFrame(columns=list(ds_mon_thi))"
   ]
  },
  {
   "cell_type": "code",
   "execution_count": 27,
   "id": "1c81f115-d985-4dd0-a7e5-cde389cab518",
   "metadata": {},
   "outputs": [],
   "source": [
    "def tach_diem(str_diem):\n",
    "    dict_diem={}\n",
    "    for mon_thi in ds_mon_thi:\n",
    "        chuoi_tim = mon_thi+':\\s\\s\\s\\d.\\d\\d'\n",
    "        match = re.search(chuoi_tim,str_diem)\n",
    "        if match:\n",
    "            tmp_list = list(match.group().partition(\": \"))\n",
    "            dict_diem[mon_thi] = [float(tmp_list[2])]\n",
    "        else:\n",
    "            dict_diem[mon_thi]=[np.nan]\n",
    "    return pd.DataFrame(dict_diem)"
   ]
  },
  {
   "cell_type": "code",
   "execution_count": 28,
   "id": "8484ddc8-a144-4157-9b0c-ae84fe7668f1",
   "metadata": {},
   "outputs": [],
   "source": [
    "for item in range(df.shape[0]):\n",
    "    str_diem = df['DIEM_THI'][item]\n",
    "    temp = tach_diem(str_diem)\n",
    "    df_target = pd.concat([df_target,temp],sort=False, ignore_index=True)"
   ]
  },
  {
   "cell_type": "code",
   "execution_count": 29,
   "id": "c8abe54c-f2ac-4b77-be1d-2a03d1f99ac7",
   "metadata": {},
   "outputs": [
    {
     "data": {
      "text/html": [
       "<div>\n",
       "<style scoped>\n",
       "    .dataframe tbody tr th:only-of-type {\n",
       "        vertical-align: middle;\n",
       "    }\n",
       "\n",
       "    .dataframe tbody tr th {\n",
       "        vertical-align: top;\n",
       "    }\n",
       "\n",
       "    .dataframe thead th {\n",
       "        text-align: right;\n",
       "    }\n",
       "</style>\n",
       "<table border=\"1\" class=\"dataframe\">\n",
       "  <thead>\n",
       "    <tr style=\"text-align: right;\">\n",
       "      <th></th>\n",
       "      <th>Toán</th>\n",
       "      <th>Ngữ văn</th>\n",
       "      <th>Địa lí</th>\n",
       "      <th>Tiếng Anh</th>\n",
       "      <th>Sinh học</th>\n",
       "      <th>Vật lí</th>\n",
       "      <th>Hóa học</th>\n",
       "      <th>Lịch sử</th>\n",
       "    </tr>\n",
       "  </thead>\n",
       "  <tbody>\n",
       "    <tr>\n",
       "      <th>0</th>\n",
       "      <td>2.00</td>\n",
       "      <td>5.50</td>\n",
       "      <td>5.00</td>\n",
       "      <td>NaN</td>\n",
       "      <td>NaN</td>\n",
       "      <td>NaN</td>\n",
       "      <td>NaN</td>\n",
       "      <td>3.0</td>\n",
       "    </tr>\n",
       "    <tr>\n",
       "      <th>1</th>\n",
       "      <td>5.50</td>\n",
       "      <td>5.25</td>\n",
       "      <td>5.50</td>\n",
       "      <td>3.68</td>\n",
       "      <td>NaN</td>\n",
       "      <td>NaN</td>\n",
       "      <td>NaN</td>\n",
       "      <td>NaN</td>\n",
       "    </tr>\n",
       "    <tr>\n",
       "      <th>2</th>\n",
       "      <td>4.50</td>\n",
       "      <td>5.50</td>\n",
       "      <td>3.75</td>\n",
       "      <td>2.25</td>\n",
       "      <td>NaN</td>\n",
       "      <td>NaN</td>\n",
       "      <td>NaN</td>\n",
       "      <td>NaN</td>\n",
       "    </tr>\n",
       "    <tr>\n",
       "      <th>3</th>\n",
       "      <td>3.00</td>\n",
       "      <td>6.00</td>\n",
       "      <td>5.50</td>\n",
       "      <td>1.50</td>\n",
       "      <td>NaN</td>\n",
       "      <td>NaN</td>\n",
       "      <td>NaN</td>\n",
       "      <td>NaN</td>\n",
       "    </tr>\n",
       "    <tr>\n",
       "      <th>4</th>\n",
       "      <td>2.25</td>\n",
       "      <td>4.75</td>\n",
       "      <td>5.25</td>\n",
       "      <td>2.00</td>\n",
       "      <td>NaN</td>\n",
       "      <td>NaN</td>\n",
       "      <td>NaN</td>\n",
       "      <td>NaN</td>\n",
       "    </tr>\n",
       "  </tbody>\n",
       "</table>\n",
       "</div>"
      ],
      "text/plain": [
       "   Toán   Ngữ văn  Địa lí  Tiếng Anh  Sinh học  Vật lí  Hóa học  Lịch sử\n",
       "0  2.00      5.50    5.00        NaN       NaN     NaN      NaN      3.0\n",
       "1  5.50      5.25    5.50       3.68       NaN     NaN      NaN      NaN\n",
       "2  4.50      5.50    3.75       2.25       NaN     NaN      NaN      NaN\n",
       "3  3.00      6.00    5.50       1.50       NaN     NaN      NaN      NaN\n",
       "4  2.25      4.75    5.25       2.00       NaN     NaN      NaN      NaN"
      ]
     },
     "execution_count": 29,
     "metadata": {},
     "output_type": "execute_result"
    }
   ],
   "source": [
    "df_target.head()"
   ]
  },
  {
   "cell_type": "code",
   "execution_count": 30,
   "id": "5aefa023-404b-40d2-8cd2-1d0e90554c77",
   "metadata": {},
   "outputs": [
    {
     "data": {
      "text/html": [
       "<div>\n",
       "<style scoped>\n",
       "    .dataframe tbody tr th:only-of-type {\n",
       "        vertical-align: middle;\n",
       "    }\n",
       "\n",
       "    .dataframe tbody tr th {\n",
       "        vertical-align: top;\n",
       "    }\n",
       "\n",
       "    .dataframe thead th {\n",
       "        text-align: right;\n",
       "    }\n",
       "</style>\n",
       "<table border=\"1\" class=\"dataframe\">\n",
       "  <thead>\n",
       "    <tr style=\"text-align: right;\">\n",
       "      <th></th>\n",
       "      <th>Toán</th>\n",
       "      <th>Ngữ văn</th>\n",
       "      <th>Địa lí</th>\n",
       "      <th>Tiếng Anh</th>\n",
       "      <th>Sinh học</th>\n",
       "      <th>Vật lí</th>\n",
       "      <th>Hóa học</th>\n",
       "      <th>Lịch sử</th>\n",
       "    </tr>\n",
       "  </thead>\n",
       "  <tbody>\n",
       "    <tr>\n",
       "      <th>34821</th>\n",
       "      <td>0.75</td>\n",
       "      <td>5.00</td>\n",
       "      <td>NaN</td>\n",
       "      <td>NaN</td>\n",
       "      <td>5.2</td>\n",
       "      <td>NaN</td>\n",
       "      <td>4.8</td>\n",
       "      <td>NaN</td>\n",
       "    </tr>\n",
       "    <tr>\n",
       "      <th>34822</th>\n",
       "      <td>4.75</td>\n",
       "      <td>5.75</td>\n",
       "      <td>NaN</td>\n",
       "      <td>3.33</td>\n",
       "      <td>4.6</td>\n",
       "      <td>6.8</td>\n",
       "      <td>4.6</td>\n",
       "      <td>NaN</td>\n",
       "    </tr>\n",
       "    <tr>\n",
       "      <th>34823</th>\n",
       "      <td>4.00</td>\n",
       "      <td>5.50</td>\n",
       "      <td>NaN</td>\n",
       "      <td>3.60</td>\n",
       "      <td>NaN</td>\n",
       "      <td>5.6</td>\n",
       "      <td>NaN</td>\n",
       "      <td>NaN</td>\n",
       "    </tr>\n",
       "    <tr>\n",
       "      <th>34824</th>\n",
       "      <td>5.75</td>\n",
       "      <td>6.00</td>\n",
       "      <td>NaN</td>\n",
       "      <td>2.88</td>\n",
       "      <td>NaN</td>\n",
       "      <td>7.4</td>\n",
       "      <td>4.8</td>\n",
       "      <td>NaN</td>\n",
       "    </tr>\n",
       "    <tr>\n",
       "      <th>34825</th>\n",
       "      <td>2.50</td>\n",
       "      <td>4.25</td>\n",
       "      <td>NaN</td>\n",
       "      <td>3.00</td>\n",
       "      <td>4.4</td>\n",
       "      <td>4.2</td>\n",
       "      <td>4.4</td>\n",
       "      <td>NaN</td>\n",
       "    </tr>\n",
       "  </tbody>\n",
       "</table>\n",
       "</div>"
      ],
      "text/plain": [
       "       Toán   Ngữ văn  Địa lí  Tiếng Anh  Sinh học  Vật lí  Hóa học  Lịch sử\n",
       "34821  0.75      5.00     NaN        NaN       5.2     NaN      4.8      NaN\n",
       "34822  4.75      5.75     NaN       3.33       4.6     6.8      4.6      NaN\n",
       "34823  4.00      5.50     NaN       3.60       NaN     5.6      NaN      NaN\n",
       "34824  5.75      6.00     NaN       2.88       NaN     7.4      4.8      NaN\n",
       "34825  2.50      4.25     NaN       3.00       4.4     4.2      4.4      NaN"
      ]
     },
     "execution_count": 30,
     "metadata": {},
     "output_type": "execute_result"
    }
   ],
   "source": [
    "df_target.tail()"
   ]
  },
  {
   "cell_type": "code",
   "execution_count": 32,
   "id": "3540efd3-eb96-4520-bf28-e8642bf9e565",
   "metadata": {},
   "outputs": [],
   "source": [
    "df_result =pd.concat([df,df_target], axis=1)"
   ]
  },
  {
   "cell_type": "code",
   "execution_count": 33,
   "id": "f4708a32",
   "metadata": {},
   "outputs": [
    {
     "data": {
      "text/html": [
       "<div>\n",
       "<style scoped>\n",
       "    .dataframe tbody tr th:only-of-type {\n",
       "        vertical-align: middle;\n",
       "    }\n",
       "\n",
       "    .dataframe tbody tr th {\n",
       "        vertical-align: top;\n",
       "    }\n",
       "\n",
       "    .dataframe thead th {\n",
       "        text-align: right;\n",
       "    }\n",
       "</style>\n",
       "<table border=\"1\" class=\"dataframe\">\n",
       "  <thead>\n",
       "    <tr style=\"text-align: right;\">\n",
       "      <th></th>\n",
       "      <th>SOBAODANH</th>\n",
       "      <th>HO_TEN</th>\n",
       "      <th>NGAY_SINH</th>\n",
       "      <th>TEN_CUMTHI</th>\n",
       "      <th>GIOI_TINH</th>\n",
       "      <th>DIEM_THI</th>\n",
       "      <th>Toán</th>\n",
       "      <th>Ngữ văn</th>\n",
       "      <th>Địa lí</th>\n",
       "      <th>Tiếng Anh</th>\n",
       "      <th>Sinh học</th>\n",
       "      <th>Vật lí</th>\n",
       "      <th>Hóa học</th>\n",
       "      <th>Lịch sử</th>\n",
       "    </tr>\n",
       "  </thead>\n",
       "  <tbody>\n",
       "    <tr>\n",
       "      <th>0</th>\n",
       "      <td>018000001</td>\n",
       "      <td>DƯƠNG VIỆT AN</td>\n",
       "      <td>12/03/1998</td>\n",
       "      <td>Sở GDĐT Bắc Giang</td>\n",
       "      <td>Nam</td>\n",
       "      <td>Toán:   2.00   Ngữ văn:   5.50   Lịch sử:   3....</td>\n",
       "      <td>2.00</td>\n",
       "      <td>5.50</td>\n",
       "      <td>5.00</td>\n",
       "      <td>NaN</td>\n",
       "      <td>NaN</td>\n",
       "      <td>NaN</td>\n",
       "      <td>NaN</td>\n",
       "      <td>3.0</td>\n",
       "    </tr>\n",
       "    <tr>\n",
       "      <th>1</th>\n",
       "      <td>018000002</td>\n",
       "      <td>ĐỖ VĂN AN</td>\n",
       "      <td>09/12/1998</td>\n",
       "      <td>Sở GDĐT Bắc Giang</td>\n",
       "      <td>Nam</td>\n",
       "      <td>Toán:   5.50   Ngữ văn:   5.25   Địa lí:   5.5...</td>\n",
       "      <td>5.50</td>\n",
       "      <td>5.25</td>\n",
       "      <td>5.50</td>\n",
       "      <td>3.68</td>\n",
       "      <td>NaN</td>\n",
       "      <td>NaN</td>\n",
       "      <td>NaN</td>\n",
       "      <td>NaN</td>\n",
       "    </tr>\n",
       "    <tr>\n",
       "      <th>2</th>\n",
       "      <td>018000003</td>\n",
       "      <td>ĐỖ XUÂN AN</td>\n",
       "      <td>12/08/1997</td>\n",
       "      <td>Sở GDĐT Bắc Giang</td>\n",
       "      <td>Nam</td>\n",
       "      <td>Toán:   4.50   Ngữ văn:   5.50   Địa lí:   3.7...</td>\n",
       "      <td>4.50</td>\n",
       "      <td>5.50</td>\n",
       "      <td>3.75</td>\n",
       "      <td>2.25</td>\n",
       "      <td>NaN</td>\n",
       "      <td>NaN</td>\n",
       "      <td>NaN</td>\n",
       "      <td>NaN</td>\n",
       "    </tr>\n",
       "    <tr>\n",
       "      <th>3</th>\n",
       "      <td>018000004</td>\n",
       "      <td>ĐẶNG PHÚC AN</td>\n",
       "      <td>19/03/1998</td>\n",
       "      <td>Sở GDĐT Bắc Giang</td>\n",
       "      <td>Nữ</td>\n",
       "      <td>Toán:   3.00   Ngữ văn:   6.00   Địa lí:   5.5...</td>\n",
       "      <td>3.00</td>\n",
       "      <td>6.00</td>\n",
       "      <td>5.50</td>\n",
       "      <td>1.50</td>\n",
       "      <td>NaN</td>\n",
       "      <td>NaN</td>\n",
       "      <td>NaN</td>\n",
       "      <td>NaN</td>\n",
       "    </tr>\n",
       "    <tr>\n",
       "      <th>4</th>\n",
       "      <td>018000005</td>\n",
       "      <td>ĐẶNG VĂN AN</td>\n",
       "      <td>25/10/1998</td>\n",
       "      <td>Sở GDĐT Bắc Giang</td>\n",
       "      <td>Nam</td>\n",
       "      <td>Toán:   2.25   Ngữ văn:   4.75   Địa lí:   5.2...</td>\n",
       "      <td>2.25</td>\n",
       "      <td>4.75</td>\n",
       "      <td>5.25</td>\n",
       "      <td>2.00</td>\n",
       "      <td>NaN</td>\n",
       "      <td>NaN</td>\n",
       "      <td>NaN</td>\n",
       "      <td>NaN</td>\n",
       "    </tr>\n",
       "  </tbody>\n",
       "</table>\n",
       "</div>"
      ],
      "text/plain": [
       "   SOBAODANH         HO_TEN   NGAY_SINH         TEN_CUMTHI GIOI_TINH  \\\n",
       "0  018000001  DƯƠNG VIỆT AN  12/03/1998  Sở GDĐT Bắc Giang       Nam   \n",
       "1  018000002      ĐỖ VĂN AN  09/12/1998  Sở GDĐT Bắc Giang       Nam   \n",
       "2  018000003     ĐỖ XUÂN AN  12/08/1997  Sở GDĐT Bắc Giang       Nam   \n",
       "3  018000004   ĐẶNG PHÚC AN  19/03/1998  Sở GDĐT Bắc Giang        Nữ   \n",
       "4  018000005    ĐẶNG VĂN AN  25/10/1998  Sở GDĐT Bắc Giang       Nam   \n",
       "\n",
       "                                            DIEM_THI  Toán   Ngữ văn  Địa lí  \\\n",
       "0  Toán:   2.00   Ngữ văn:   5.50   Lịch sử:   3....  2.00      5.50    5.00   \n",
       "1  Toán:   5.50   Ngữ văn:   5.25   Địa lí:   5.5...  5.50      5.25    5.50   \n",
       "2  Toán:   4.50   Ngữ văn:   5.50   Địa lí:   3.7...  4.50      5.50    3.75   \n",
       "3  Toán:   3.00   Ngữ văn:   6.00   Địa lí:   5.5...  3.00      6.00    5.50   \n",
       "4  Toán:   2.25   Ngữ văn:   4.75   Địa lí:   5.2...  2.25      4.75    5.25   \n",
       "\n",
       "   Tiếng Anh  Sinh học  Vật lí  Hóa học  Lịch sử  \n",
       "0        NaN       NaN     NaN      NaN      3.0  \n",
       "1       3.68       NaN     NaN      NaN      NaN  \n",
       "2       2.25       NaN     NaN      NaN      NaN  \n",
       "3       1.50       NaN     NaN      NaN      NaN  \n",
       "4       2.00       NaN     NaN      NaN      NaN  "
      ]
     },
     "execution_count": 33,
     "metadata": {},
     "output_type": "execute_result"
    }
   ],
   "source": [
    "df_result.head()"
   ]
  },
  {
   "cell_type": "code",
   "execution_count": 34,
   "id": "8fb4d533",
   "metadata": {},
   "outputs": [
    {
     "data": {
      "text/plain": [
       "(34826, 14)"
      ]
     },
     "execution_count": 34,
     "metadata": {},
     "output_type": "execute_result"
    }
   ],
   "source": [
    "df_result.shape"
   ]
  },
  {
   "cell_type": "code",
   "execution_count": 35,
   "id": "7177885d",
   "metadata": {},
   "outputs": [],
   "source": [
    "df_result.to_excel('Diemthi_thpt_quocgia_2016_new_1.xlsx')"
   ]
  },
  {
   "cell_type": "code",
   "execution_count": 39,
   "id": "adb14339",
   "metadata": {},
   "outputs": [
    {
     "name": "stderr",
     "output_type": "stream",
     "text": [
      "C:\\Users\\AW\\AppData\\Local\\Temp\\ipykernel_17956\\2803788835.py:5: UserWarning: \n",
      "\n",
      "`distplot` is a deprecated function and will be removed in seaborn v0.14.0.\n",
      "\n",
      "Please adapt your code to use either `displot` (a figure-level function with\n",
      "similar flexibility) or `histplot` (an axes-level function for histograms).\n",
      "\n",
      "For a guide to updating your code to use the new functions, please see\n",
      "https://gist.github.com/mwaskom/de44147ed2974457ad6372750bbe5751\n",
      "\n",
      "  sns.distplot(df_result['Toán'].dropna())\n"
     ]
    },
    {
     "data": {
      "image/png": "[encoded data removed]",
      "text/plain": [
       "<Figure size 1000x500 with 2 Axes>"
      ]
     },
     "metadata": {},
     "output_type": "display_data"
    }
   ],
   "source": [
    "plt.figure(figsize=(10,5))\n",
    "plt.subplot(1,2,1)\n",
    "plt.hist(df_result['Toán'].dropna())\n",
    "plt.subplot(1,2,2)\n",
    "sns.distplot(df_result['Toán'].dropna())\n",
    "plt.show()\n"
   ]
  },
  {
   "cell_type": "code",
   "execution_count": null,
   "id": "2ec9a9c8",
   "metadata": {},
   "outputs": [],
   "source": []
  },
  {
   "cell_type": "code",
   "execution_count": null,
   "id": "1ac8f371",
   "metadata": {},
   "outputs": [],
   "source": []
  }
 ],
 "metadata": {
  "kernelspec": {
   "display_name": "Python 3 (ipykernel)",
   "language": "python",
   "name": "python3"
  },
  "language_info": {
   "codemirror_mode": {
    "name": "ipython",
    "version": 3
   },
   "file_extension": ".py",
   "mimetype": "text/x-python",
   "name": "python",
   "nbconvert_exporter": "python",
   "pygments_lexer": "ipython3",
   "version": "3.9.13"
  }
 },
 "nbformat": 4,
 "nbformat_minor": 5
}
