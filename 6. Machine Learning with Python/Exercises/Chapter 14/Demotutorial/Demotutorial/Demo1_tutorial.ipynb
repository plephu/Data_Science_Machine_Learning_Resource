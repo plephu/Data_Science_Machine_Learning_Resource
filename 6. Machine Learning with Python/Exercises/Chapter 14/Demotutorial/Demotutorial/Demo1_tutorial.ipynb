{
 "cells": [
  {
   "cell_type": "markdown",
   "id": "314972e4-bb59-4bf4-9e40-755d55292252",
   "metadata": {},
   "source": [
    "#### In this tutorial we are going to explore the usage of cross validation and tuning techniques"
   ]
  },
  {
   "cell_type": "code",
   "execution_count": 1,
   "id": "b9ff9f1b-1757-455b-981b-b5270be1ded1",
   "metadata": {},
   "outputs": [],
   "source": [
    "# loading the breast cancer dataset\n",
    "from sklearn import datasets"
   ]
  },
  {
   "cell_type": "code",
   "execution_count": 2,
   "id": "2533d2c0-d5dd-4af3-a6d1-0a56dfd60da8",
   "metadata": {},
   "outputs": [
    {
     "name": "stdout",
     "output_type": "stream",
     "text": [
      "Collecting HyperclassifierSearch\n",
      "  Downloading HyperclassifierSearch-1.0.tar.gz (3.2 kB)\n",
      "  Preparing metadata (setup.py): started\n",
      "  Preparing metadata (setup.py): finished with status 'done'\n",
      "Building wheels for collected packages: HyperclassifierSearch\n",
      "  Building wheel for HyperclassifierSearch (setup.py): started\n",
      "  Building wheel for HyperclassifierSearch (setup.py): finished with status 'done'\n",
      "  Created wheel for HyperclassifierSearch: filename=HyperclassifierSearch-1.0-py3-none-any.whl size=3844 sha256=09b466095b761ad1f80ebe30d1f1bbdad522e1c14067708d967a93032faabce5\n",
      "  Stored in directory: c:\\users\\demo_account\\appdata\\local\\pip\\cache\\wheels\\73\\69\\b5\\908ab6fca8d0b134250cff401f60485ed781003ffd654889fb\n",
      "Successfully built HyperclassifierSearch\n",
      "Installing collected packages: HyperclassifierSearch\n",
      "Successfully installed HyperclassifierSearch-1.0\n"
     ]
    }
   ],
   "source": [
    "!pip install HyperclassifierSearch "
   ]
  },
  {
   "cell_type": "code",
   "execution_count": 2,
   "id": "dc370fe6-58f0-407e-a3e4-cf09f5cf1db8",
   "metadata": {},
   "outputs": [],
   "source": [
    "cancer_data = datasets.load_breast_cancer()"
   ]
  },
  {
   "cell_type": "code",
   "execution_count": 3,
   "id": "1ac51b10-aa5f-4a93-9ba2-bd06e4f80915",
   "metadata": {},
   "outputs": [],
   "source": [
    "ft_names = cancer_data.feature_names"
   ]
  },
  {
   "cell_type": "code",
   "execution_count": 72,
   "id": "b50d9872-6f4d-44ad-979c-287b83c9d8eb",
   "metadata": {},
   "outputs": [
    {
     "name": "stdout",
     "output_type": "stream",
     "text": [
      "feature names: ['mean radius' 'mean texture' 'mean perimeter' 'mean area'\n",
      " 'mean smoothness' 'mean compactness' 'mean concavity'\n",
      " 'mean concave points' 'mean symmetry' 'mean fractal dimension'\n",
      " 'radius error' 'texture error' 'perimeter error' 'area error'\n",
      " 'smoothness error' 'compactness error' 'concavity error'\n",
      " 'concave points error' 'symmetry error' 'fractal dimension error'\n",
      " 'worst radius' 'worst texture' 'worst perimeter' 'worst area'\n",
      " 'worst smoothness' 'worst compactness' 'worst concavity'\n",
      " 'worst concave points' 'worst symmetry' 'worst fractal dimension']\n"
     ]
    }
   ],
   "source": [
    "print(\"feature names:\", ft_names)"
   ]
  },
  {
   "cell_type": "code",
   "execution_count": 4,
   "id": "f8288e9c-a517-45ab-807c-adafb78aa1af",
   "metadata": {},
   "outputs": [],
   "source": [
    "input_data = cancer_data.data"
   ]
  },
  {
   "cell_type": "code",
   "execution_count": 74,
   "id": "be702dbd-29f1-4727-b903-656284e4d3a8",
   "metadata": {},
   "outputs": [
    {
     "data": {
      "text/plain": [
       "(569, 30)"
      ]
     },
     "execution_count": 74,
     "metadata": {},
     "output_type": "execute_result"
    }
   ],
   "source": [
    "input_data.shape"
   ]
  },
  {
   "cell_type": "code",
   "execution_count": 5,
   "id": "9b6017de-a9a5-4a9a-9e4b-b2e9f6519f4a",
   "metadata": {},
   "outputs": [],
   "source": [
    "output_data = cancer_data.target"
   ]
  },
  {
   "cell_type": "code",
   "execution_count": 76,
   "id": "6a3b9a7f-a828-426b-bad2-2208102a474b",
   "metadata": {},
   "outputs": [
    {
     "data": {
      "text/plain": [
       "(569,)"
      ]
     },
     "execution_count": 76,
     "metadata": {},
     "output_type": "execute_result"
    }
   ],
   "source": [
    "output_data.shape"
   ]
  },
  {
   "cell_type": "markdown",
   "id": "f065f8fc-d37e-47c0-b12b-8c3c6ac43afb",
   "metadata": {},
   "source": [
    "## 2. Train test split"
   ]
  },
  {
   "cell_type": "code",
   "execution_count": 18,
   "id": "ad1e7873-ed22-489a-9deb-2b212967fc9e",
   "metadata": {},
   "outputs": [],
   "source": [
    "from sklearn.model_selection import train_test_split\n",
    "X_train, X_test, y_train, y_test = train_test_split(input_data, output_data, test_size=0.3, random_state=142,stratify=output_data)"
   ]
  },
  {
   "cell_type": "code",
   "execution_count": 78,
   "id": "e0248e15-1bd0-4dff-a307-73453d4a27d9",
   "metadata": {},
   "outputs": [
    {
     "data": {
      "text/plain": [
       "(398, 30)"
      ]
     },
     "execution_count": 78,
     "metadata": {},
     "output_type": "execute_result"
    }
   ],
   "source": [
    "X_train.shape"
   ]
  },
  {
   "cell_type": "code",
   "execution_count": 79,
   "id": "aa52d699-a34a-4be2-b64a-46f5de5a67df",
   "metadata": {},
   "outputs": [
    {
     "data": {
      "text/plain": [
       "(171, 30)"
      ]
     },
     "execution_count": 79,
     "metadata": {},
     "output_type": "execute_result"
    }
   ],
   "source": [
    "X_test.shape"
   ]
  },
  {
   "cell_type": "code",
   "execution_count": 80,
   "id": "d80f3044-1a4b-48c9-8193-9a3111e91792",
   "metadata": {},
   "outputs": [
    {
     "data": {
      "text/plain": [
       "array([0, 1])"
      ]
     },
     "execution_count": 80,
     "metadata": {},
     "output_type": "execute_result"
    }
   ],
   "source": [
    "import numpy as np\n",
    "np.unique(y_train)"
   ]
  },
  {
   "cell_type": "code",
   "execution_count": 27,
   "id": "ab529683-92c7-4647-afc4-d923d09954c7",
   "metadata": {},
   "outputs": [
    {
     "data": {
      "text/plain": [
       "(array([0, 1]), array([148, 250], dtype=int64))"
      ]
     },
     "execution_count": 27,
     "metadata": {},
     "output_type": "execute_result"
    }
   ],
   "source": [
    "np.unique(y_train, return_counts=True)"
   ]
  },
  {
   "cell_type": "code",
   "execution_count": 28,
   "id": "3b9a2dc1-bc76-43c9-9b9a-1b299c5dadbb",
   "metadata": {},
   "outputs": [
    {
     "data": {
      "text/plain": [
       "(array([0, 1]), array([ 64, 107], dtype=int64))"
      ]
     },
     "execution_count": 28,
     "metadata": {},
     "output_type": "execute_result"
    }
   ],
   "source": [
    "np.unique(y_test, return_counts=True)"
   ]
  },
  {
   "cell_type": "markdown",
   "id": "4f08ec02-e948-49dc-a77f-8761d9ea1adf",
   "metadata": {},
   "source": [
    "# 3. The traditional way to do cross validation"
   ]
  },
  {
   "cell_type": "code",
   "execution_count": 8,
   "id": "0e20e516-007c-4a51-92cd-42b9489bc191",
   "metadata": {},
   "outputs": [
    {
     "name": "stdout",
     "output_type": "stream",
     "text": [
      "[0.9625     0.9875     0.9125     0.98734177 1.        ]\n",
      "[0.95       0.9375     0.9625     0.96202532 1.        ]\n",
      "[0.9125     0.975      0.9125     0.94936709 0.94936709]\n",
      "[0.9625     0.9375     0.95       0.94936709 0.97468354]\n"
     ]
    }
   ],
   "source": [
    "from sklearn.model_selection import cross_val_score\n",
    "from sklearn.ensemble import RandomForestClassifier\n",
    "from sklearn.svm import SVC\n",
    "from sklearn.naive_bayes import GaussianNB\n",
    "from sklearn.linear_model import LogisticRegression\n",
    "import pandas as pd\n",
    "models = [\n",
    "RandomForestClassifier(n_estimators=200),\n",
    "SVC(kernel=\"linear\"),\n",
    "GaussianNB(),\n",
    "LogisticRegression(solver='liblinear')] # solver='Lbfgs',\n",
    "CV = 5\n",
    "# \n",
    "from sklearn.model_selection import StratifiedKFold\n",
    "skf = StratifiedKFold(n_splits=5)\n",
    "cv_df = pd.DataFrame(index=range(CV * len(models))) # Lưu kết quả acc của 4 model, mỗi model 5 entries\n",
    "entries = [] # entries to save model name and avg performance\n",
    "for model in models: # duyệt từng model trong ds model.\n",
    "    model_name = type(model).__name__\n",
    "    accuracies = cross_val_score (model, X_train, y_train, scoring='accuracy', cv=CV) \n",
    "    print(accuracies)\n",
    "    entries.append([model_name, accuracies.mean()])\n",
    "cv_df = pd.DataFrame (entries, columns=['model_name', 'accuracy'])"
   ]
  },
  {
   "cell_type": "code",
   "execution_count": 82,
   "id": "05710154-0497-4f70-8b8f-0d441d073933",
   "metadata": {},
   "outputs": [
    {
     "data": {
      "text/html": [
       "<div>\n",
       "<style scoped>\n",
       "    .dataframe tbody tr th:only-of-type {\n",
       "        vertical-align: middle;\n",
       "    }\n",
       "\n",
       "    .dataframe tbody tr th {\n",
       "        vertical-align: top;\n",
       "    }\n",
       "\n",
       "    .dataframe thead th {\n",
       "        text-align: right;\n",
       "    }\n",
       "</style>\n",
       "<table border=\"1\" class=\"dataframe\">\n",
       "  <thead>\n",
       "    <tr style=\"text-align: right;\">\n",
       "      <th></th>\n",
       "      <th>model_name</th>\n",
       "      <th>accuracy</th>\n",
       "    </tr>\n",
       "  </thead>\n",
       "  <tbody>\n",
       "    <tr>\n",
       "      <th>0</th>\n",
       "      <td>RandomForestClassifier</td>\n",
       "      <td>0.972500</td>\n",
       "    </tr>\n",
       "    <tr>\n",
       "      <th>1</th>\n",
       "      <td>SVC</td>\n",
       "      <td>0.962405</td>\n",
       "    </tr>\n",
       "    <tr>\n",
       "      <th>2</th>\n",
       "      <td>GaussianNB</td>\n",
       "      <td>0.939747</td>\n",
       "    </tr>\n",
       "    <tr>\n",
       "      <th>3</th>\n",
       "      <td>LogisticRegression</td>\n",
       "      <td>0.954810</td>\n",
       "    </tr>\n",
       "  </tbody>\n",
       "</table>\n",
       "</div>"
      ],
      "text/plain": [
       "               model_name  accuracy\n",
       "0  RandomForestClassifier  0.972500\n",
       "1                     SVC  0.962405\n",
       "2              GaussianNB  0.939747\n",
       "3      LogisticRegression  0.954810"
      ]
     },
     "execution_count": 82,
     "metadata": {},
     "output_type": "execute_result"
    }
   ],
   "source": [
    "cv_df"
   ]
  },
  {
   "cell_type": "code",
   "execution_count": 43,
   "id": "c374fcb7-a9ca-4588-a294-f667cf926ae9",
   "metadata": {},
   "outputs": [
    {
     "data": {
      "text/plain": [
       "<BarContainer object of 4 artists>"
      ]
     },
     "execution_count": 43,
     "metadata": {},
     "output_type": "execute_result"
    },
    {
     "data": {
      "image/png": "[encoded data removed]",
      "text/plain": [
       "<Figure size 640x480 with 1 Axes>"
      ]
     },
     "metadata": {},
     "output_type": "display_data"
    }
   ],
   "source": [
    "from matplotlib import pyplot as plt\n",
    "plt.barh(cv_df['model_name'],cv_df['accuracy'])"
   ]
  },
  {
   "cell_type": "markdown",
   "id": "77d41b97-f856-49ba-a5ae-187adfedae31",
   "metadata": {},
   "source": [
    "## 4. The modern way"
   ]
  },
  {
   "cell_type": "code",
   "execution_count": 19,
   "id": "f74e51fe-5314-4efe-b25e-f59bbfa842d2",
   "metadata": {},
   "outputs": [],
   "source": [
    "models = {\n",
    "    'LogisticRegression': LogisticRegression(solver='lbfgs', max_iter=10000),\n",
    "    'RandomForestClassifier': RandomForestClassifier(),\n",
    "    'SVM': SVC()\n",
    "}\n",
    "params = { \n",
    "    'LogisticRegression': { 'C': [0.1, 1, 2] },\n",
    "    'RandomForestClassifier': { 'n_estimators': [50,200, 300,400,500]},\n",
    "    'SVM' : {'kernel':['linear', 'poly', 'rbf', 'sigmoid'],'C':[0.001,0.01,1,10]}\n",
    "}\n"
   ]
  },
  {
   "cell_type": "code",
   "execution_count": 20,
   "id": "f2b72338-336e-4502-b43b-0190a9874964",
   "metadata": {},
   "outputs": [
    {
     "name": "stdout",
     "output_type": "stream",
     "text": [
      "Search for LogisticRegression ...\n",
      "Search for RandomForestClassifier ...\n",
      "Search for SVM ...\n",
      "Search is done.\n"
     ]
    }
   ],
   "source": [
    "from HyperclassifierSearch import HyperclassifierSearch\n",
    "search = HyperclassifierSearch(models, params)\n",
    "best_model = search.train_model(X_train, y_train, cv=5)"
   ]
  },
  {
   "cell_type": "code",
   "execution_count": 21,
   "id": "8afb322d-1f40-4cee-981d-2d1a70ee15d6",
   "metadata": {},
   "outputs": [
    {
     "name": "stdout",
     "output_type": "stream",
     "text": [
      "results round for: LogisticRegression\n",
      "results round for: RandomForestClassifier\n",
      "results round for: SVM\n"
     ]
    },
    {
     "data": {
      "text/html": [
       "<div>\n",
       "<style scoped>\n",
       "    .dataframe tbody tr th:only-of-type {\n",
       "        vertical-align: middle;\n",
       "    }\n",
       "\n",
       "    .dataframe tbody tr th {\n",
       "        vertical-align: top;\n",
       "    }\n",
       "\n",
       "    .dataframe thead th {\n",
       "        text-align: right;\n",
       "    }\n",
       "</style>\n",
       "<table border=\"1\" class=\"dataframe\">\n",
       "  <thead>\n",
       "    <tr style=\"text-align: right;\">\n",
       "      <th></th>\n",
       "      <th>Estimator</th>\n",
       "      <th>params</th>\n",
       "      <th>split0_test_score</th>\n",
       "      <th>split1_test_score</th>\n",
       "      <th>split2_test_score</th>\n",
       "      <th>split3_test_score</th>\n",
       "      <th>split4_test_score</th>\n",
       "      <th>mean_test_score</th>\n",
       "      <th>std_test_score</th>\n",
       "    </tr>\n",
       "  </thead>\n",
       "  <tbody>\n",
       "    <tr>\n",
       "      <th>0</th>\n",
       "      <td>RandomForestClassifier</td>\n",
       "      <td>{'n_estimators': 200}</td>\n",
       "      <td>0.9625</td>\n",
       "      <td>0.9500</td>\n",
       "      <td>0.9750</td>\n",
       "      <td>0.962025</td>\n",
       "      <td>0.974684</td>\n",
       "      <td>0.964842</td>\n",
       "      <td>0.009314</td>\n",
       "    </tr>\n",
       "    <tr>\n",
       "      <th>1</th>\n",
       "      <td>RandomForestClassifier</td>\n",
       "      <td>{'n_estimators': 400}</td>\n",
       "      <td>0.9625</td>\n",
       "      <td>0.9500</td>\n",
       "      <td>0.9625</td>\n",
       "      <td>0.962025</td>\n",
       "      <td>0.962025</td>\n",
       "      <td>0.959810</td>\n",
       "      <td>0.004910</td>\n",
       "    </tr>\n",
       "    <tr>\n",
       "      <th>2</th>\n",
       "      <td>RandomForestClassifier</td>\n",
       "      <td>{'n_estimators': 50}</td>\n",
       "      <td>0.9250</td>\n",
       "      <td>0.9375</td>\n",
       "      <td>0.9750</td>\n",
       "      <td>0.987342</td>\n",
       "      <td>0.962025</td>\n",
       "      <td>0.957373</td>\n",
       "      <td>0.023123</td>\n",
       "    </tr>\n",
       "    <tr>\n",
       "      <th>3</th>\n",
       "      <td>LogisticRegression</td>\n",
       "      <td>{'C': 2}</td>\n",
       "      <td>0.9625</td>\n",
       "      <td>0.9625</td>\n",
       "      <td>0.9375</td>\n",
       "      <td>0.962025</td>\n",
       "      <td>0.962025</td>\n",
       "      <td>0.957310</td>\n",
       "      <td>0.009907</td>\n",
       "    </tr>\n",
       "    <tr>\n",
       "      <th>4</th>\n",
       "      <td>RandomForestClassifier</td>\n",
       "      <td>{'n_estimators': 300}</td>\n",
       "      <td>0.9500</td>\n",
       "      <td>0.9500</td>\n",
       "      <td>0.9625</td>\n",
       "      <td>0.962025</td>\n",
       "      <td>0.962025</td>\n",
       "      <td>0.957310</td>\n",
       "      <td>0.005971</td>\n",
       "    </tr>\n",
       "    <tr>\n",
       "      <th>5</th>\n",
       "      <td>RandomForestClassifier</td>\n",
       "      <td>{'n_estimators': 500}</td>\n",
       "      <td>0.9625</td>\n",
       "      <td>0.9375</td>\n",
       "      <td>0.9625</td>\n",
       "      <td>0.962025</td>\n",
       "      <td>0.962025</td>\n",
       "      <td>0.957310</td>\n",
       "      <td>0.009907</td>\n",
       "    </tr>\n",
       "    <tr>\n",
       "      <th>6</th>\n",
       "      <td>SVM</td>\n",
       "      <td>{'C': 0.01, 'kernel': 'linear'}</td>\n",
       "      <td>0.9750</td>\n",
       "      <td>0.9375</td>\n",
       "      <td>0.9250</td>\n",
       "      <td>0.962025</td>\n",
       "      <td>0.974684</td>\n",
       "      <td>0.954842</td>\n",
       "      <td>0.020213</td>\n",
       "    </tr>\n",
       "    <tr>\n",
       "      <th>7</th>\n",
       "      <td>LogisticRegression</td>\n",
       "      <td>{'C': 1}</td>\n",
       "      <td>0.9625</td>\n",
       "      <td>0.9375</td>\n",
       "      <td>0.9375</td>\n",
       "      <td>0.962025</td>\n",
       "      <td>0.949367</td>\n",
       "      <td>0.949778</td>\n",
       "      <td>0.011077</td>\n",
       "    </tr>\n",
       "    <tr>\n",
       "      <th>8</th>\n",
       "      <td>SVM</td>\n",
       "      <td>{'C': 10, 'kernel': 'linear'}</td>\n",
       "      <td>0.9500</td>\n",
       "      <td>0.9375</td>\n",
       "      <td>0.9375</td>\n",
       "      <td>0.962025</td>\n",
       "      <td>0.949367</td>\n",
       "      <td>0.947278</td>\n",
       "      <td>0.009170</td>\n",
       "    </tr>\n",
       "    <tr>\n",
       "      <th>9</th>\n",
       "      <td>LogisticRegression</td>\n",
       "      <td>{'C': 0.1}</td>\n",
       "      <td>0.9625</td>\n",
       "      <td>0.9250</td>\n",
       "      <td>0.9375</td>\n",
       "      <td>0.962025</td>\n",
       "      <td>0.949367</td>\n",
       "      <td>0.947278</td>\n",
       "      <td>0.014460</td>\n",
       "    </tr>\n",
       "    <tr>\n",
       "      <th>10</th>\n",
       "      <td>SVM</td>\n",
       "      <td>{'C': 0.001, 'kernel': 'linear'}</td>\n",
       "      <td>0.9750</td>\n",
       "      <td>0.9250</td>\n",
       "      <td>0.9000</td>\n",
       "      <td>0.962025</td>\n",
       "      <td>0.949367</td>\n",
       "      <td>0.942278</td>\n",
       "      <td>0.026821</td>\n",
       "    </tr>\n",
       "    <tr>\n",
       "      <th>11</th>\n",
       "      <td>SVM</td>\n",
       "      <td>{'C': 1, 'kernel': 'linear'}</td>\n",
       "      <td>0.9625</td>\n",
       "      <td>0.9125</td>\n",
       "      <td>0.9375</td>\n",
       "      <td>0.936709</td>\n",
       "      <td>0.949367</td>\n",
       "      <td>0.939715</td>\n",
       "      <td>0.016534</td>\n",
       "    </tr>\n",
       "    <tr>\n",
       "      <th>12</th>\n",
       "      <td>SVM</td>\n",
       "      <td>{'C': 10, 'kernel': 'poly'}</td>\n",
       "      <td>0.9375</td>\n",
       "      <td>0.9000</td>\n",
       "      <td>0.8375</td>\n",
       "      <td>0.949367</td>\n",
       "      <td>0.936709</td>\n",
       "      <td>0.912215</td>\n",
       "      <td>0.040868</td>\n",
       "    </tr>\n",
       "    <tr>\n",
       "      <th>13</th>\n",
       "      <td>SVM</td>\n",
       "      <td>{'C': 10, 'kernel': 'rbf'}</td>\n",
       "      <td>0.9375</td>\n",
       "      <td>0.9125</td>\n",
       "      <td>0.8500</td>\n",
       "      <td>0.924051</td>\n",
       "      <td>0.936709</td>\n",
       "      <td>0.912152</td>\n",
       "      <td>0.032404</td>\n",
       "    </tr>\n",
       "    <tr>\n",
       "      <th>14</th>\n",
       "      <td>SVM</td>\n",
       "      <td>{'C': 1, 'kernel': 'poly'}</td>\n",
       "      <td>0.9500</td>\n",
       "      <td>0.9250</td>\n",
       "      <td>0.8375</td>\n",
       "      <td>0.924051</td>\n",
       "      <td>0.924051</td>\n",
       "      <td>0.912120</td>\n",
       "      <td>0.038610</td>\n",
       "    </tr>\n",
       "    <tr>\n",
       "      <th>15</th>\n",
       "      <td>SVM</td>\n",
       "      <td>{'C': 1, 'kernel': 'rbf'}</td>\n",
       "      <td>0.9500</td>\n",
       "      <td>0.9250</td>\n",
       "      <td>0.8375</td>\n",
       "      <td>0.924051</td>\n",
       "      <td>0.924051</td>\n",
       "      <td>0.912120</td>\n",
       "      <td>0.038610</td>\n",
       "    </tr>\n",
       "    <tr>\n",
       "      <th>16</th>\n",
       "      <td>SVM</td>\n",
       "      <td>{'C': 0.01, 'kernel': 'poly'}</td>\n",
       "      <td>0.8750</td>\n",
       "      <td>0.8250</td>\n",
       "      <td>0.7875</td>\n",
       "      <td>0.810127</td>\n",
       "      <td>0.873418</td>\n",
       "      <td>0.834209</td>\n",
       "      <td>0.034779</td>\n",
       "    </tr>\n",
       "    <tr>\n",
       "      <th>17</th>\n",
       "      <td>SVM</td>\n",
       "      <td>{'C': 0.001, 'kernel': 'poly'}</td>\n",
       "      <td>0.7500</td>\n",
       "      <td>0.7375</td>\n",
       "      <td>0.6750</td>\n",
       "      <td>0.708861</td>\n",
       "      <td>0.797468</td>\n",
       "      <td>0.733766</td>\n",
       "      <td>0.041010</td>\n",
       "    </tr>\n",
       "    <tr>\n",
       "      <th>18</th>\n",
       "      <td>SVM</td>\n",
       "      <td>{'C': 0.001, 'kernel': 'rbf'}</td>\n",
       "      <td>0.6250</td>\n",
       "      <td>0.6250</td>\n",
       "      <td>0.6250</td>\n",
       "      <td>0.632911</td>\n",
       "      <td>0.632911</td>\n",
       "      <td>0.628165</td>\n",
       "      <td>0.003876</td>\n",
       "    </tr>\n",
       "    <tr>\n",
       "      <th>19</th>\n",
       "      <td>SVM</td>\n",
       "      <td>{'C': 0.001, 'kernel': 'sigmoid'}</td>\n",
       "      <td>0.6250</td>\n",
       "      <td>0.6250</td>\n",
       "      <td>0.6250</td>\n",
       "      <td>0.632911</td>\n",
       "      <td>0.632911</td>\n",
       "      <td>0.628165</td>\n",
       "      <td>0.003876</td>\n",
       "    </tr>\n",
       "    <tr>\n",
       "      <th>20</th>\n",
       "      <td>SVM</td>\n",
       "      <td>{'C': 0.01, 'kernel': 'rbf'}</td>\n",
       "      <td>0.6250</td>\n",
       "      <td>0.6250</td>\n",
       "      <td>0.6250</td>\n",
       "      <td>0.632911</td>\n",
       "      <td>0.632911</td>\n",
       "      <td>0.628165</td>\n",
       "      <td>0.003876</td>\n",
       "    </tr>\n",
       "    <tr>\n",
       "      <th>21</th>\n",
       "      <td>SVM</td>\n",
       "      <td>{'C': 0.01, 'kernel': 'sigmoid'}</td>\n",
       "      <td>0.6250</td>\n",
       "      <td>0.6250</td>\n",
       "      <td>0.6250</td>\n",
       "      <td>0.632911</td>\n",
       "      <td>0.632911</td>\n",
       "      <td>0.628165</td>\n",
       "      <td>0.003876</td>\n",
       "    </tr>\n",
       "    <tr>\n",
       "      <th>22</th>\n",
       "      <td>SVM</td>\n",
       "      <td>{'C': 1, 'kernel': 'sigmoid'}</td>\n",
       "      <td>0.4125</td>\n",
       "      <td>0.4500</td>\n",
       "      <td>0.5250</td>\n",
       "      <td>0.443038</td>\n",
       "      <td>0.455696</td>\n",
       "      <td>0.457247</td>\n",
       "      <td>0.037012</td>\n",
       "    </tr>\n",
       "    <tr>\n",
       "      <th>23</th>\n",
       "      <td>SVM</td>\n",
       "      <td>{'C': 10, 'kernel': 'sigmoid'}</td>\n",
       "      <td>0.3375</td>\n",
       "      <td>0.3875</td>\n",
       "      <td>0.4875</td>\n",
       "      <td>0.379747</td>\n",
       "      <td>0.392405</td>\n",
       "      <td>0.396930</td>\n",
       "      <td>0.049274</td>\n",
       "    </tr>\n",
       "  </tbody>\n",
       "</table>\n",
       "</div>"
      ],
      "text/plain": [
       "                 Estimator                             params   \n",
       "0   RandomForestClassifier              {'n_estimators': 200}  \\\n",
       "1   RandomForestClassifier              {'n_estimators': 400}   \n",
       "2   RandomForestClassifier               {'n_estimators': 50}   \n",
       "3       LogisticRegression                           {'C': 2}   \n",
       "4   RandomForestClassifier              {'n_estimators': 300}   \n",
       "5   RandomForestClassifier              {'n_estimators': 500}   \n",
       "6                      SVM    {'C': 0.01, 'kernel': 'linear'}   \n",
       "7       LogisticRegression                           {'C': 1}   \n",
       "8                      SVM      {'C': 10, 'kernel': 'linear'}   \n",
       "9       LogisticRegression                         {'C': 0.1}   \n",
       "10                     SVM   {'C': 0.001, 'kernel': 'linear'}   \n",
       "11                     SVM       {'C': 1, 'kernel': 'linear'}   \n",
       "12                     SVM        {'C': 10, 'kernel': 'poly'}   \n",
       "13                     SVM         {'C': 10, 'kernel': 'rbf'}   \n",
       "14                     SVM         {'C': 1, 'kernel': 'poly'}   \n",
       "15                     SVM          {'C': 1, 'kernel': 'rbf'}   \n",
       "16                     SVM      {'C': 0.01, 'kernel': 'poly'}   \n",
       "17                     SVM     {'C': 0.001, 'kernel': 'poly'}   \n",
       "18                     SVM      {'C': 0.001, 'kernel': 'rbf'}   \n",
       "19                     SVM  {'C': 0.001, 'kernel': 'sigmoid'}   \n",
       "20                     SVM       {'C': 0.01, 'kernel': 'rbf'}   \n",
       "21                     SVM   {'C': 0.01, 'kernel': 'sigmoid'}   \n",
       "22                     SVM      {'C': 1, 'kernel': 'sigmoid'}   \n",
       "23                     SVM     {'C': 10, 'kernel': 'sigmoid'}   \n",
       "\n",
       "    split0_test_score  split1_test_score  split2_test_score   \n",
       "0              0.9625             0.9500             0.9750  \\\n",
       "1              0.9625             0.9500             0.9625   \n",
       "2              0.9250             0.9375             0.9750   \n",
       "3              0.9625             0.9625             0.9375   \n",
       "4              0.9500             0.9500             0.9625   \n",
       "5              0.9625             0.9375             0.9625   \n",
       "6              0.9750             0.9375             0.9250   \n",
       "7              0.9625             0.9375             0.9375   \n",
       "8              0.9500             0.9375             0.9375   \n",
       "9              0.9625             0.9250             0.9375   \n",
       "10             0.9750             0.9250             0.9000   \n",
       "11             0.9625             0.9125             0.9375   \n",
       "12             0.9375             0.9000             0.8375   \n",
       "13             0.9375             0.9125             0.8500   \n",
       "14             0.9500             0.9250             0.8375   \n",
       "15             0.9500             0.9250             0.8375   \n",
       "16             0.8750             0.8250             0.7875   \n",
       "17             0.7500             0.7375             0.6750   \n",
       "18             0.6250             0.6250             0.6250   \n",
       "19             0.6250             0.6250             0.6250   \n",
       "20             0.6250             0.6250             0.6250   \n",
       "21             0.6250             0.6250             0.6250   \n",
       "22             0.4125             0.4500             0.5250   \n",
       "23             0.3375             0.3875             0.4875   \n",
       "\n",
       "    split3_test_score  split4_test_score  mean_test_score  std_test_score  \n",
       "0            0.962025           0.974684         0.964842        0.009314  \n",
       "1            0.962025           0.962025         0.959810        0.004910  \n",
       "2            0.987342           0.962025         0.957373        0.023123  \n",
       "3            0.962025           0.962025         0.957310        0.009907  \n",
       "4            0.962025           0.962025         0.957310        0.005971  \n",
       "5            0.962025           0.962025         0.957310        0.009907  \n",
       "6            0.962025           0.974684         0.954842        0.020213  \n",
       "7            0.962025           0.949367         0.949778        0.011077  \n",
       "8            0.962025           0.949367         0.947278        0.009170  \n",
       "9            0.962025           0.949367         0.947278        0.014460  \n",
       "10           0.962025           0.949367         0.942278        0.026821  \n",
       "11           0.936709           0.949367         0.939715        0.016534  \n",
       "12           0.949367           0.936709         0.912215        0.040868  \n",
       "13           0.924051           0.936709         0.912152        0.032404  \n",
       "14           0.924051           0.924051         0.912120        0.038610  \n",
       "15           0.924051           0.924051         0.912120        0.038610  \n",
       "16           0.810127           0.873418         0.834209        0.034779  \n",
       "17           0.708861           0.797468         0.733766        0.041010  \n",
       "18           0.632911           0.632911         0.628165        0.003876  \n",
       "19           0.632911           0.632911         0.628165        0.003876  \n",
       "20           0.632911           0.632911         0.628165        0.003876  \n",
       "21           0.632911           0.632911         0.628165        0.003876  \n",
       "22           0.443038           0.455696         0.457247        0.037012  \n",
       "23           0.379747           0.392405         0.396930        0.049274  "
      ]
     },
     "execution_count": 21,
     "metadata": {},
     "output_type": "execute_result"
    }
   ],
   "source": [
    "search.evaluate_model()\n"
   ]
  },
  {
   "cell_type": "code",
   "execution_count": 14,
   "id": "6e5a6a84-761a-43c8-8acd-d4a76712706c",
   "metadata": {},
   "outputs": [
    {
     "name": "stdout",
     "output_type": "stream",
     "text": [
      "results round for: LogisticRegression\n",
      "results round for: RandomForestClassifier\n",
      "results round for: SVM\n"
     ]
    },
    {
     "data": {
      "text/plain": [
       "(24, 9)"
      ]
     },
     "execution_count": 14,
     "metadata": {},
     "output_type": "execute_result"
    }
   ],
   "source": [
    "result = search.evaluate_model()\n",
    "result.shape"
   ]
  },
  {
   "cell_type": "code",
   "execution_count": 15,
   "id": "c447a6f2-4776-4bd9-85ed-af5d7ded47a7",
   "metadata": {},
   "outputs": [],
   "source": [
    "result['label'] = result['Estimator'].astype(str) + result['params'].astype(str)\n"
   ]
  },
  {
   "cell_type": "code",
   "execution_count": 17,
   "id": "1469234c-f093-44c1-802f-e9ff010d5b25",
   "metadata": {},
   "outputs": [
    {
     "data": {
      "image/png": "[encoded data removed]",
      "text/plain": [
       "<Figure size 640x480 with 1 Axes>"
      ]
     },
     "metadata": {},
     "output_type": "display_data"
    }
   ],
   "source": [
    "from matplotlib import pyplot as plt\n",
    "std = result['std_test_score'].to_list()\n",
    "mean_ = result['mean_test_score'].to_list()\n",
    "x = result['label'].to_list()\n",
    "plt.errorbar(x, mean_, std, linestyle='None', marker='o',capsize=3)\n",
    "plt.xticks(rotation=90, ha='right')\n",
    "\n",
    "plt.show()"
   ]
  },
  {
   "cell_type": "markdown",
   "id": "4300d15d-1e3d-4f03-af79-1a47c71f0f80",
   "metadata": {},
   "source": [
    "# 4. What if we want to do some random search with different metrics?"
   ]
  },
  {
   "cell_type": "code",
   "execution_count": 89,
   "id": "8afebcf7-a042-420b-ae2a-0f37a091d245",
   "metadata": {},
   "outputs": [
    {
     "name": "stdout",
     "output_type": "stream",
     "text": [
      "Search for LogisticRegression ...\n"
     ]
    },
    {
     "name": "stderr",
     "output_type": "stream",
     "text": [
      "C:\\Users\\DEMO_ACCOUNT\\anaconda3\\lib\\site-packages\\sklearn\\model_selection\\_search.py:305: UserWarning: The total space of parameters 3 is smaller than n_iter=10. Running 3 iterations. For exhaustive searches, use GridSearchCV.\n",
      "  warnings.warn(\n"
     ]
    },
    {
     "name": "stdout",
     "output_type": "stream",
     "text": [
      "Search for RandomForestClassifier ...\n"
     ]
    },
    {
     "name": "stderr",
     "output_type": "stream",
     "text": [
      "C:\\Users\\DEMO_ACCOUNT\\anaconda3\\lib\\site-packages\\sklearn\\model_selection\\_search.py:305: UserWarning: The total space of parameters 5 is smaller than n_iter=10. Running 5 iterations. For exhaustive searches, use GridSearchCV.\n",
      "  warnings.warn(\n"
     ]
    },
    {
     "name": "stdout",
     "output_type": "stream",
     "text": [
      "Search for SVM ...\n",
      "Search is done.\n",
      "results round for: LogisticRegression\n",
      "results round for: RandomForestClassifier\n",
      "results round for: SVM\n"
     ]
    },
    {
     "data": {
      "text/html": [
       "<div>\n",
       "<style scoped>\n",
       "    .dataframe tbody tr th:only-of-type {\n",
       "        vertical-align: middle;\n",
       "    }\n",
       "\n",
       "    .dataframe tbody tr th {\n",
       "        vertical-align: top;\n",
       "    }\n",
       "\n",
       "    .dataframe thead th {\n",
       "        text-align: right;\n",
       "    }\n",
       "</style>\n",
       "<table border=\"1\" class=\"dataframe\">\n",
       "  <thead>\n",
       "    <tr style=\"text-align: right;\">\n",
       "      <th></th>\n",
       "      <th>Estimator</th>\n",
       "      <th>params</th>\n",
       "      <th>split0_test_score</th>\n",
       "      <th>split1_test_score</th>\n",
       "      <th>split2_test_score</th>\n",
       "      <th>split3_test_score</th>\n",
       "      <th>split4_test_score</th>\n",
       "      <th>mean_test_score</th>\n",
       "      <th>std_test_score</th>\n",
       "    </tr>\n",
       "  </thead>\n",
       "  <tbody>\n",
       "    <tr>\n",
       "      <th>0</th>\n",
       "      <td>SVM</td>\n",
       "      <td>{'kernel': 'linear', 'C': 1}</td>\n",
       "      <td>0.996000</td>\n",
       "      <td>0.986000</td>\n",
       "      <td>0.980667</td>\n",
       "      <td>0.996552</td>\n",
       "      <td>1.000000</td>\n",
       "      <td>0.991844</td>\n",
       "      <td>0.007281</td>\n",
       "    </tr>\n",
       "    <tr>\n",
       "      <th>1</th>\n",
       "      <td>LogisticRegression</td>\n",
       "      <td>{'C': 2}</td>\n",
       "      <td>0.996000</td>\n",
       "      <td>0.982667</td>\n",
       "      <td>0.981333</td>\n",
       "      <td>0.994483</td>\n",
       "      <td>1.000000</td>\n",
       "      <td>0.990897</td>\n",
       "      <td>0.007496</td>\n",
       "    </tr>\n",
       "    <tr>\n",
       "      <th>2</th>\n",
       "      <td>LogisticRegression</td>\n",
       "      <td>{'C': 1}</td>\n",
       "      <td>0.996000</td>\n",
       "      <td>0.981333</td>\n",
       "      <td>0.980000</td>\n",
       "      <td>0.994483</td>\n",
       "      <td>1.000000</td>\n",
       "      <td>0.990363</td>\n",
       "      <td>0.008131</td>\n",
       "    </tr>\n",
       "    <tr>\n",
       "      <th>3</th>\n",
       "      <td>SVM</td>\n",
       "      <td>{'kernel': 'linear', 'C': 10}</td>\n",
       "      <td>0.998000</td>\n",
       "      <td>0.986667</td>\n",
       "      <td>0.974667</td>\n",
       "      <td>0.993103</td>\n",
       "      <td>0.996552</td>\n",
       "      <td>0.989798</td>\n",
       "      <td>0.008516</td>\n",
       "    </tr>\n",
       "    <tr>\n",
       "      <th>4</th>\n",
       "      <td>SVM</td>\n",
       "      <td>{'kernel': 'linear', 'C': 0.01}</td>\n",
       "      <td>0.995333</td>\n",
       "      <td>0.981333</td>\n",
       "      <td>0.982000</td>\n",
       "      <td>0.990345</td>\n",
       "      <td>0.998621</td>\n",
       "      <td>0.989526</td>\n",
       "      <td>0.006941</td>\n",
       "    </tr>\n",
       "    <tr>\n",
       "      <th>5</th>\n",
       "      <td>LogisticRegression</td>\n",
       "      <td>{'C': 0.1}</td>\n",
       "      <td>0.994667</td>\n",
       "      <td>0.980000</td>\n",
       "      <td>0.978000</td>\n",
       "      <td>0.991034</td>\n",
       "      <td>0.999310</td>\n",
       "      <td>0.988602</td>\n",
       "      <td>0.008292</td>\n",
       "    </tr>\n",
       "    <tr>\n",
       "      <th>6</th>\n",
       "      <td>RandomForestClassifier</td>\n",
       "      <td>{'n_estimators': 500}</td>\n",
       "      <td>0.986667</td>\n",
       "      <td>0.980667</td>\n",
       "      <td>0.974667</td>\n",
       "      <td>1.000000</td>\n",
       "      <td>1.000000</td>\n",
       "      <td>0.988400</td>\n",
       "      <td>0.010203</td>\n",
       "    </tr>\n",
       "    <tr>\n",
       "      <th>7</th>\n",
       "      <td>RandomForestClassifier</td>\n",
       "      <td>{'n_estimators': 300}</td>\n",
       "      <td>0.982000</td>\n",
       "      <td>0.982333</td>\n",
       "      <td>0.975333</td>\n",
       "      <td>1.000000</td>\n",
       "      <td>1.000000</td>\n",
       "      <td>0.987933</td>\n",
       "      <td>0.010164</td>\n",
       "    </tr>\n",
       "    <tr>\n",
       "      <th>8</th>\n",
       "      <td>RandomForestClassifier</td>\n",
       "      <td>{'n_estimators': 50}</td>\n",
       "      <td>0.981333</td>\n",
       "      <td>0.976000</td>\n",
       "      <td>0.980333</td>\n",
       "      <td>1.000000</td>\n",
       "      <td>1.000000</td>\n",
       "      <td>0.987533</td>\n",
       "      <td>0.010336</td>\n",
       "    </tr>\n",
       "    <tr>\n",
       "      <th>9</th>\n",
       "      <td>RandomForestClassifier</td>\n",
       "      <td>{'n_estimators': 200}</td>\n",
       "      <td>0.981333</td>\n",
       "      <td>0.982333</td>\n",
       "      <td>0.974000</td>\n",
       "      <td>1.000000</td>\n",
       "      <td>1.000000</td>\n",
       "      <td>0.987533</td>\n",
       "      <td>0.010578</td>\n",
       "    </tr>\n",
       "    <tr>\n",
       "      <th>10</th>\n",
       "      <td>RandomForestClassifier</td>\n",
       "      <td>{'n_estimators': 400}</td>\n",
       "      <td>0.985000</td>\n",
       "      <td>0.976667</td>\n",
       "      <td>0.972667</td>\n",
       "      <td>1.000000</td>\n",
       "      <td>1.000000</td>\n",
       "      <td>0.986867</td>\n",
       "      <td>0.011438</td>\n",
       "    </tr>\n",
       "    <tr>\n",
       "      <th>11</th>\n",
       "      <td>SVM</td>\n",
       "      <td>{'kernel': 'rbf', 'C': 10}</td>\n",
       "      <td>0.987333</td>\n",
       "      <td>0.985333</td>\n",
       "      <td>0.970000</td>\n",
       "      <td>0.992414</td>\n",
       "      <td>0.991034</td>\n",
       "      <td>0.985223</td>\n",
       "      <td>0.008021</td>\n",
       "    </tr>\n",
       "    <tr>\n",
       "      <th>12</th>\n",
       "      <td>SVM</td>\n",
       "      <td>{'kernel': 'poly', 'C': 10}</td>\n",
       "      <td>0.988000</td>\n",
       "      <td>0.979333</td>\n",
       "      <td>0.958000</td>\n",
       "      <td>0.987586</td>\n",
       "      <td>0.986207</td>\n",
       "      <td>0.979825</td>\n",
       "      <td>0.011352</td>\n",
       "    </tr>\n",
       "    <tr>\n",
       "      <th>13</th>\n",
       "      <td>SVM</td>\n",
       "      <td>{'kernel': 'rbf', 'C': 1}</td>\n",
       "      <td>0.980667</td>\n",
       "      <td>0.975333</td>\n",
       "      <td>0.952667</td>\n",
       "      <td>0.980000</td>\n",
       "      <td>0.984138</td>\n",
       "      <td>0.974561</td>\n",
       "      <td>0.011301</td>\n",
       "    </tr>\n",
       "    <tr>\n",
       "      <th>14</th>\n",
       "      <td>SVM</td>\n",
       "      <td>{'kernel': 'poly', 'C': 1}</td>\n",
       "      <td>0.978667</td>\n",
       "      <td>0.970667</td>\n",
       "      <td>0.946667</td>\n",
       "      <td>0.973793</td>\n",
       "      <td>0.977931</td>\n",
       "      <td>0.969545</td>\n",
       "      <td>0.011800</td>\n",
       "    </tr>\n",
       "    <tr>\n",
       "      <th>15</th>\n",
       "      <td>SVM</td>\n",
       "      <td>{'kernel': 'sigmoid', 'C': 1}</td>\n",
       "      <td>0.152000</td>\n",
       "      <td>0.273333</td>\n",
       "      <td>0.275333</td>\n",
       "      <td>0.245517</td>\n",
       "      <td>0.197931</td>\n",
       "      <td>0.228823</td>\n",
       "      <td>0.047496</td>\n",
       "    </tr>\n",
       "    <tr>\n",
       "      <th>16</th>\n",
       "      <td>SVM</td>\n",
       "      <td>{'kernel': 'sigmoid', 'C': 0.001}</td>\n",
       "      <td>0.146000</td>\n",
       "      <td>0.273333</td>\n",
       "      <td>0.269333</td>\n",
       "      <td>0.244828</td>\n",
       "      <td>0.197241</td>\n",
       "      <td>0.226147</td>\n",
       "      <td>0.048373</td>\n",
       "    </tr>\n",
       "    <tr>\n",
       "      <th>17</th>\n",
       "      <td>SVM</td>\n",
       "      <td>{'kernel': 'sigmoid', 'C': 10}</td>\n",
       "      <td>0.144000</td>\n",
       "      <td>0.252000</td>\n",
       "      <td>0.239333</td>\n",
       "      <td>0.214483</td>\n",
       "      <td>0.184138</td>\n",
       "      <td>0.206791</td>\n",
       "      <td>0.039033</td>\n",
       "    </tr>\n",
       "  </tbody>\n",
       "</table>\n",
       "</div>"
      ],
      "text/plain": [
       "                 Estimator                             params  \\\n",
       "0                      SVM       {'kernel': 'linear', 'C': 1}   \n",
       "1       LogisticRegression                           {'C': 2}   \n",
       "2       LogisticRegression                           {'C': 1}   \n",
       "3                      SVM      {'kernel': 'linear', 'C': 10}   \n",
       "4                      SVM    {'kernel': 'linear', 'C': 0.01}   \n",
       "5       LogisticRegression                         {'C': 0.1}   \n",
       "6   RandomForestClassifier              {'n_estimators': 500}   \n",
       "7   RandomForestClassifier              {'n_estimators': 300}   \n",
       "8   RandomForestClassifier               {'n_estimators': 50}   \n",
       "9   RandomForestClassifier              {'n_estimators': 200}   \n",
       "10  RandomForestClassifier              {'n_estimators': 400}   \n",
       "11                     SVM         {'kernel': 'rbf', 'C': 10}   \n",
       "12                     SVM        {'kernel': 'poly', 'C': 10}   \n",
       "13                     SVM          {'kernel': 'rbf', 'C': 1}   \n",
       "14                     SVM         {'kernel': 'poly', 'C': 1}   \n",
       "15                     SVM      {'kernel': 'sigmoid', 'C': 1}   \n",
       "16                     SVM  {'kernel': 'sigmoid', 'C': 0.001}   \n",
       "17                     SVM     {'kernel': 'sigmoid', 'C': 10}   \n",
       "\n",
       "    split0_test_score  split1_test_score  split2_test_score  \\\n",
       "0            0.996000           0.986000           0.980667   \n",
       "1            0.996000           0.982667           0.981333   \n",
       "2            0.996000           0.981333           0.980000   \n",
       "3            0.998000           0.986667           0.974667   \n",
       "4            0.995333           0.981333           0.982000   \n",
       "5            0.994667           0.980000           0.978000   \n",
       "6            0.986667           0.980667           0.974667   \n",
       "7            0.982000           0.982333           0.975333   \n",
       "8            0.981333           0.976000           0.980333   \n",
       "9            0.981333           0.982333           0.974000   \n",
       "10           0.985000           0.976667           0.972667   \n",
       "11           0.987333           0.985333           0.970000   \n",
       "12           0.988000           0.979333           0.958000   \n",
       "13           0.980667           0.975333           0.952667   \n",
       "14           0.978667           0.970667           0.946667   \n",
       "15           0.152000           0.273333           0.275333   \n",
       "16           0.146000           0.273333           0.269333   \n",
       "17           0.144000           0.252000           0.239333   \n",
       "\n",
       "    split3_test_score  split4_test_score  mean_test_score  std_test_score  \n",
       "0            0.996552           1.000000         0.991844        0.007281  \n",
       "1            0.994483           1.000000         0.990897        0.007496  \n",
       "2            0.994483           1.000000         0.990363        0.008131  \n",
       "3            0.993103           0.996552         0.989798        0.008516  \n",
       "4            0.990345           0.998621         0.989526        0.006941  \n",
       "5            0.991034           0.999310         0.988602        0.008292  \n",
       "6            1.000000           1.000000         0.988400        0.010203  \n",
       "7            1.000000           1.000000         0.987933        0.010164  \n",
       "8            1.000000           1.000000         0.987533        0.010336  \n",
       "9            1.000000           1.000000         0.987533        0.010578  \n",
       "10           1.000000           1.000000         0.986867        0.011438  \n",
       "11           0.992414           0.991034         0.985223        0.008021  \n",
       "12           0.987586           0.986207         0.979825        0.011352  \n",
       "13           0.980000           0.984138         0.974561        0.011301  \n",
       "14           0.973793           0.977931         0.969545        0.011800  \n",
       "15           0.245517           0.197931         0.228823        0.047496  \n",
       "16           0.244828           0.197241         0.226147        0.048373  \n",
       "17           0.214483           0.184138         0.206791        0.039033  "
      ]
     },
     "execution_count": 89,
     "metadata": {},
     "output_type": "execute_result"
    }
   ],
   "source": [
    "best_model = search.train_model(X_train, y_train, search='random', scoring='roc_auc', cv=5)\n",
    "search.evaluate_model()"
   ]
  },
  {
   "cell_type": "code",
   "execution_count": 66,
   "id": "cb7d7965-ed57-4c4a-a589-27b9acac8be2",
   "metadata": {},
   "outputs": [
    {
     "data": {
      "text/plain": [
       "['accuracy',\n",
       " 'adjusted_mutual_info_score',\n",
       " 'adjusted_rand_score',\n",
       " 'average_precision',\n",
       " 'balanced_accuracy',\n",
       " 'completeness_score',\n",
       " 'explained_variance',\n",
       " 'f1',\n",
       " 'f1_macro',\n",
       " 'f1_micro',\n",
       " 'f1_samples',\n",
       " 'f1_weighted',\n",
       " 'fowlkes_mallows_score',\n",
       " 'homogeneity_score',\n",
       " 'jaccard',\n",
       " 'jaccard_macro',\n",
       " 'jaccard_micro',\n",
       " 'jaccard_samples',\n",
       " 'jaccard_weighted',\n",
       " 'matthews_corrcoef',\n",
       " 'max_error',\n",
       " 'mutual_info_score',\n",
       " 'neg_brier_score',\n",
       " 'neg_log_loss',\n",
       " 'neg_mean_absolute_error',\n",
       " 'neg_mean_absolute_percentage_error',\n",
       " 'neg_mean_gamma_deviance',\n",
       " 'neg_mean_poisson_deviance',\n",
       " 'neg_mean_squared_error',\n",
       " 'neg_mean_squared_log_error',\n",
       " 'neg_median_absolute_error',\n",
       " 'neg_negative_likelihood_ratio',\n",
       " 'neg_root_mean_squared_error',\n",
       " 'normalized_mutual_info_score',\n",
       " 'positive_likelihood_ratio',\n",
       " 'precision',\n",
       " 'precision_macro',\n",
       " 'precision_micro',\n",
       " 'precision_samples',\n",
       " 'precision_weighted',\n",
       " 'r2',\n",
       " 'rand_score',\n",
       " 'recall',\n",
       " 'recall_macro',\n",
       " 'recall_micro',\n",
       " 'recall_samples',\n",
       " 'recall_weighted',\n",
       " 'roc_auc',\n",
       " 'roc_auc_ovo',\n",
       " 'roc_auc_ovo_weighted',\n",
       " 'roc_auc_ovr',\n",
       " 'roc_auc_ovr_weighted',\n",
       " 'top_k_accuracy',\n",
       " 'v_measure_score']"
      ]
     },
     "execution_count": 66,
     "metadata": {},
     "output_type": "execute_result"
    }
   ],
   "source": [
    "import sklearn\n",
    "sklearn.metrics.get_scorer_names()"
   ]
  },
  {
   "cell_type": "code",
   "execution_count": 90,
   "id": "1cc4b061-0f20-4bd6-8edb-b6ec2ec03c22",
   "metadata": {},
   "outputs": [
    {
     "data": {
      "image/png": "[encoded data removed]",
      "text/plain": [
       "<Figure size 640x480 with 1 Axes>"
      ]
     },
     "metadata": {},
     "output_type": "display_data"
    }
   ],
   "source": [
    "std = result['std_test_score'].to_list()\n",
    "mean_ = result['mean_test_score'].to_list()\n",
    "x = result['label'].to_list()\n",
    "plt.errorbar(x, mean_, std, linestyle='None', marker='o',capsize=3)\n",
    "plt.xticks(rotation=90, ha='right')\n",
    "\n",
    "plt.show()"
   ]
  },
  {
   "cell_type": "markdown",
   "id": "313664ae-ab69-4d2f-91aa-b3e2ba106a39",
   "metadata": {},
   "source": [
    "### Build with The best model"
   ]
  },
  {
   "cell_type": "code",
   "execution_count": 178,
   "id": "5e31eea4-9040-4c7c-b321-ba7649d6f403",
   "metadata": {},
   "outputs": [],
   "source": [
    "clf = SVC(kernel='linear')\n",
    "from sklearn.preprocessing import StandardScaler\n",
    "scaler = StandardScaler()\n",
    "X_train_new = scaler.fit_transform(X_train)\n",
    "X_test_new = scaler.transform(X_test)"
   ]
  },
  {
   "cell_type": "code",
   "execution_count": 179,
   "id": "9497e44b-f956-490c-be8b-c02315bdaea9",
   "metadata": {},
   "outputs": [
    {
     "data": {
      "text/html": [
       "<style>#sk-container-id-11 {color: black;background-color: white;}#sk-container-id-11 pre{padding: 0;}#sk-container-id-11 div.sk-toggleable {background-color: white;}#sk-container-id-11 label.sk-toggleable__label {cursor: pointer;display: block;width: 100%;margin-bottom: 0;padding: 0.3em;box-sizing: border-box;text-align: center;}#sk-container-id-11 label.sk-toggleable__label-arrow:before {content: \"▸\";float: left;margin-right: 0.25em;color: #696969;}#sk-container-id-11 label.sk-toggleable__label-arrow:hover:before {color: black;}#sk-container-id-11 div.sk-estimator:hover label.sk-toggleable__label-arrow:before {color: black;}#sk-container-id-11 div.sk-toggleable__content {max-height: 0;max-width: 0;overflow: hidden;text-align: left;background-color: #f0f8ff;}#sk-container-id-11 div.sk-toggleable__content pre {margin: 0.2em;color: black;border-radius: 0.25em;background-color: #f0f8ff;}#sk-container-id-11 input.sk-toggleable__control:checked~div.sk-toggleable__content {max-height: 200px;max-width: 100%;overflow: auto;}#sk-container-id-11 input.sk-toggleable__control:checked~label.sk-toggleable__label-arrow:before {content: \"▾\";}#sk-container-id-11 div.sk-estimator input.sk-toggleable__control:checked~label.sk-toggleable__label {background-color: #d4ebff;}#sk-container-id-11 div.sk-label input.sk-toggleable__control:checked~label.sk-toggleable__label {background-color: #d4ebff;}#sk-container-id-11 input.sk-hidden--visually {border: 0;clip: rect(1px 1px 1px 1px);clip: rect(1px, 1px, 1px, 1px);height: 1px;margin: -1px;overflow: hidden;padding: 0;position: absolute;width: 1px;}#sk-container-id-11 div.sk-estimator {font-family: monospace;background-color: #f0f8ff;border: 1px dotted black;border-radius: 0.25em;box-sizing: border-box;margin-bottom: 0.5em;}#sk-container-id-11 div.sk-estimator:hover {background-color: #d4ebff;}#sk-container-id-11 div.sk-parallel-item::after {content: \"\";width: 100%;border-bottom: 1px solid gray;flex-grow: 1;}#sk-container-id-11 div.sk-label:hover label.sk-toggleable__label {background-color: #d4ebff;}#sk-container-id-11 div.sk-serial::before {content: \"\";position: absolute;border-left: 1px solid gray;box-sizing: border-box;top: 0;bottom: 0;left: 50%;z-index: 0;}#sk-container-id-11 div.sk-serial {display: flex;flex-direction: column;align-items: center;background-color: white;padding-right: 0.2em;padding-left: 0.2em;position: relative;}#sk-container-id-11 div.sk-item {position: relative;z-index: 1;}#sk-container-id-11 div.sk-parallel {display: flex;align-items: stretch;justify-content: center;background-color: white;position: relative;}#sk-container-id-11 div.sk-item::before, #sk-container-id-11 div.sk-parallel-item::before {content: \"\";position: absolute;border-left: 1px solid gray;box-sizing: border-box;top: 0;bottom: 0;left: 50%;z-index: -1;}#sk-container-id-11 div.sk-parallel-item {display: flex;flex-direction: column;z-index: 1;position: relative;background-color: white;}#sk-container-id-11 div.sk-parallel-item:first-child::after {align-self: flex-end;width: 50%;}#sk-container-id-11 div.sk-parallel-item:last-child::after {align-self: flex-start;width: 50%;}#sk-container-id-11 div.sk-parallel-item:only-child::after {width: 0;}#sk-container-id-11 div.sk-dashed-wrapped {border: 1px dashed gray;margin: 0 0.4em 0.5em 0.4em;box-sizing: border-box;padding-bottom: 0.4em;background-color: white;}#sk-container-id-11 div.sk-label label {font-family: monospace;font-weight: bold;display: inline-block;line-height: 1.2em;}#sk-container-id-11 div.sk-label-container {text-align: center;}#sk-container-id-11 div.sk-container {/* jupyter's `normalize.less` sets `[hidden] { display: none; }` but bootstrap.min.css set `[hidden] { display: none !important; }` so we also need the `!important` here to be able to override the default hidden behavior on the sphinx rendered scikit-learn.org. See: https://github.com/scikit-learn/scikit-learn/issues/21755 */display: inline-block !important;position: relative;}#sk-container-id-11 div.sk-text-repr-fallback {display: none;}</style><div id=\"sk-container-id-11\" class=\"sk-top-container\"><div class=\"sk-text-repr-fallback\"><pre>SVC(kernel=&#x27;linear&#x27;)</pre><b>In a Jupyter environment, please rerun this cell to show the HTML representation or trust the notebook. <br />On GitHub, the HTML representation is unable to render, please try loading this page with nbviewer.org.</b></div><div class=\"sk-container\" hidden><div class=\"sk-item\"><div class=\"sk-estimator sk-toggleable\"><input class=\"sk-toggleable__control sk-hidden--visually\" id=\"sk-estimator-id-11\" type=\"checkbox\" checked><label for=\"sk-estimator-id-11\" class=\"sk-toggleable__label sk-toggleable__label-arrow\">SVC</label><div class=\"sk-toggleable__content\"><pre>SVC(kernel=&#x27;linear&#x27;)</pre></div></div></div></div></div>"
      ],
      "text/plain": [
       "SVC(kernel='linear')"
      ]
     },
     "execution_count": 179,
     "metadata": {},
     "output_type": "execute_result"
    }
   ],
   "source": [
    "clf.fit(X_train_new,y_train)"
   ]
  },
  {
   "cell_type": "code",
   "execution_count": 180,
   "id": "695a1b07-556a-4141-bdcd-d29ade3b3121",
   "metadata": {},
   "outputs": [
    {
     "name": "stdout",
     "output_type": "stream",
     "text": [
      "              precision    recall  f1-score   support\n",
      "\n",
      "           0     0.9677    0.9375    0.9524        64\n",
      "           1     0.9633    0.9813    0.9722       107\n",
      "\n",
      "    accuracy                         0.9649       171\n",
      "   macro avg     0.9655    0.9594    0.9623       171\n",
      "weighted avg     0.9650    0.9649    0.9648       171\n",
      "\n"
     ]
    }
   ],
   "source": [
    "preds = clf.predict(X_test_new)\n",
    "from sklearn.metrics import classification_report as report\n",
    "print(report(y_test,preds,digits=4))"
   ]
  },
  {
   "cell_type": "markdown",
   "id": "1d8039a4-9b6c-48ed-8768-5e688f40f5d1",
   "metadata": {},
   "source": [
    "## What Happens if we use PCA? with p=20?"
   ]
  },
  {
   "cell_type": "code",
   "execution_count": 181,
   "id": "5ddba7b1-e321-42da-9f38-8d39af11d252",
   "metadata": {},
   "outputs": [],
   "source": [
    "from sklearn.decomposition import PCA\n",
    "pca = PCA(n_components=20)\n",
    "X_train_pca = pca.fit_transform(X_train_new)"
   ]
  },
  {
   "cell_type": "code",
   "execution_count": 182,
   "id": "763980bb-0d0e-4fd0-9737-dd6014b3ef7b",
   "metadata": {},
   "outputs": [],
   "source": [
    "## transform the test data into PCs\n",
    "X_test_pca = pca.transform(X_test_new)"
   ]
  },
  {
   "cell_type": "code",
   "execution_count": 183,
   "id": "03ae530a-1247-47ef-9ede-db4b1b85cc62",
   "metadata": {},
   "outputs": [
    {
     "data": {
      "text/plain": [
       "(398, 20)"
      ]
     },
     "execution_count": 183,
     "metadata": {},
     "output_type": "execute_result"
    }
   ],
   "source": [
    "X_train_pca.shape"
   ]
  },
  {
   "cell_type": "code",
   "execution_count": 184,
   "id": "466d5619-b5f2-4e04-a287-c1fc298e7ca8",
   "metadata": {},
   "outputs": [
    {
     "data": {
      "text/plain": [
       "(171, 20)"
      ]
     },
     "execution_count": 184,
     "metadata": {},
     "output_type": "execute_result"
    }
   ],
   "source": [
    "X_test_pca.shape"
   ]
  },
  {
   "cell_type": "code",
   "execution_count": 185,
   "id": "033d1f54-a72d-47ef-8bff-0f64ea27d9d0",
   "metadata": {},
   "outputs": [
    {
     "name": "stdout",
     "output_type": "stream",
     "text": [
      "              precision    recall  f1-score   support\n",
      "\n",
      "           0     0.9836    0.9375    0.9600        64\n",
      "           1     0.9636    0.9907    0.9770       107\n",
      "\n",
      "    accuracy                         0.9708       171\n",
      "   macro avg     0.9736    0.9641    0.9685       171\n",
      "weighted avg     0.9711    0.9708    0.9706       171\n",
      "\n"
     ]
    }
   ],
   "source": [
    "clf = SVC(kernel='linear')\n",
    "clf.fit(X_train_pca,y_train)\n",
    "preds = clf.predict(X_test_pca)\n",
    "from sklearn.metrics import classification_report as report\n",
    "print(report(y_test,preds,digits=4))"
   ]
  },
  {
   "cell_type": "markdown",
   "id": "8dbb7a1b-5c36-476c-9e61-5180e08e8e60",
   "metadata": {},
   "source": [
    "### What happens if we want to get 0.98 = 98% of total variance explained"
   ]
  },
  {
   "cell_type": "code",
   "execution_count": 186,
   "id": "5e03e6ff-f97a-42eb-a8de-b73b810e788d",
   "metadata": {},
   "outputs": [],
   "source": [
    "from sklearn.decomposition import PCA\n",
    "pca = PCA(n_components=0.98)\n",
    "X_train_pca = pca.fit_transform(X_train_new)"
   ]
  },
  {
   "cell_type": "code",
   "execution_count": 187,
   "id": "b18d82ba-e6b5-4558-b6b9-3e9475d4b249",
   "metadata": {},
   "outputs": [],
   "source": [
    "X_test_pca = pca.transform(X_test_new)"
   ]
  },
  {
   "cell_type": "code",
   "execution_count": 188,
   "id": "5edcd528-9986-4879-ac42-86c4743cca30",
   "metadata": {},
   "outputs": [
    {
     "data": {
      "text/plain": [
       "(171, 14)"
      ]
     },
     "execution_count": 188,
     "metadata": {},
     "output_type": "execute_result"
    }
   ],
   "source": [
    "X_test_pca.shape"
   ]
  },
  {
   "cell_type": "code",
   "execution_count": 189,
   "id": "49c9cb00-4205-41a5-a42a-ab4bd02f30ba",
   "metadata": {},
   "outputs": [
    {
     "data": {
      "text/plain": [
       "(171, 30)"
      ]
     },
     "execution_count": 189,
     "metadata": {},
     "output_type": "execute_result"
    }
   ],
   "source": [
    "X_test.shape"
   ]
  },
  {
   "cell_type": "code",
   "execution_count": 190,
   "id": "d6e5104a-989c-4a5d-9c65-57cb74ffd748",
   "metadata": {},
   "outputs": [
    {
     "name": "stdout",
     "output_type": "stream",
     "text": [
      "              precision    recall  f1-score   support\n",
      "\n",
      "           0     0.9677    0.9375    0.9524        64\n",
      "           1     0.9633    0.9813    0.9722       107\n",
      "\n",
      "    accuracy                         0.9649       171\n",
      "   macro avg     0.9655    0.9594    0.9623       171\n",
      "weighted avg     0.9650    0.9649    0.9648       171\n",
      "\n"
     ]
    }
   ],
   "source": [
    "clf = SVC(kernel='linear')\n",
    "clf.fit(X_train_pca,y_train)\n",
    "preds = clf.predict(X_test_pca)\n",
    "from sklearn.metrics import classification_report as report\n",
    "print(report(y_test,preds,digits=4))"
   ]
  },
  {
   "cell_type": "code",
   "execution_count": 191,
   "id": "200ebca8-5cec-48b3-9956-f19109601eb1",
   "metadata": {},
   "outputs": [
    {
     "data": {
      "text/plain": [
       "Text(0, 0.5, '% total variance explained')"
      ]
     },
     "execution_count": 191,
     "metadata": {},
     "output_type": "execute_result"
    },
    {
     "data": {
      "image/png": "[encoded data removed]",
      "text/plain": [
       "<Figure size 640x480 with 1 Axes>"
      ]
     },
     "metadata": {},
     "output_type": "display_data"
    }
   ],
   "source": [
    "from matplotlib import pyplot as plt\n",
    "import numpy as np\n",
    "plt.plot(np.cumsum(pca.explained_variance_ratio_))\n",
    "plt.xlabel(\"number of features\")\n",
    "plt.ylabel(\"% total variance explained\")"
   ]
  },
  {
   "cell_type": "code",
   "execution_count": 193,
   "id": "24656297-09f7-4c90-b4e7-1041de990c05",
   "metadata": {},
   "outputs": [
    {
     "name": "stdout",
     "output_type": "stream",
     "text": [
      "              precision    recall  f1-score   support\n",
      "\n",
      "           0     0.9672    0.9219    0.9440        64\n",
      "           1     0.9545    0.9813    0.9677       107\n",
      "\n",
      "    accuracy                         0.9591       171\n",
      "   macro avg     0.9609    0.9516    0.9559       171\n",
      "weighted avg     0.9593    0.9591    0.9589       171\n",
      "\n"
     ]
    }
   ],
   "source": [
    "from sklearn.decomposition import PCA\n",
    "pca = PCA(n_components=13)\n",
    "X_train_pca = pca.fit_transform(X_train_new)\n",
    "X_test_pca = pca.transform(X_test_new)\n",
    "clf = SVC(kernel='linear')\n",
    "clf.fit(X_train_pca,y_train)\n",
    "preds = clf.predict(X_test_pca)\n",
    "from sklearn.metrics import classification_report as report\n",
    "print(report(y_test,preds,digits=4))"
   ]
  },
  {
   "cell_type": "code",
   "execution_count": 140,
   "id": "5928b21b-8741-4608-b5a2-1ba76f757977",
   "metadata": {},
   "outputs": [
    {
     "data": {
      "text/plain": [
       "array([13.323683  ,  5.76233456,  2.71628588,  2.07262022,  1.72765536,\n",
       "        1.14107795,  0.65997935,  0.46159548,  0.4257426 ,  0.3620996 ,\n",
       "        0.29335366,  0.27837074,  0.21905656,  0.15766178])"
      ]
     },
     "execution_count": 140,
     "metadata": {},
     "output_type": "execute_result"
    }
   ],
   "source": [
    "pca.explained_variance_"
   ]
  },
  {
   "cell_type": "markdown",
   "id": "15bbdb38-68a5-4d23-bfe1-28cc351c4826",
   "metadata": {},
   "source": [
    "### What happens if we use Random projection?"
   ]
  },
  {
   "cell_type": "code",
   "execution_count": 194,
   "id": "588522f9-50bf-4cee-b070-4f8e16182961",
   "metadata": {},
   "outputs": [
    {
     "name": "stdout",
     "output_type": "stream",
     "text": [
      "              precision    recall  f1-score   support\n",
      "\n",
      "           0     0.9677    0.9375    0.9524        64\n",
      "           1     0.9633    0.9813    0.9722       107\n",
      "\n",
      "    accuracy                         0.9649       171\n",
      "   macro avg     0.9655    0.9594    0.9623       171\n",
      "weighted avg     0.9650    0.9649    0.9648       171\n",
      "\n"
     ]
    }
   ],
   "source": [
    "from sklearn.random_projection import GaussianRandomProjection\n",
    "randompj = GaussianRandomProjection(n_components=20)\n",
    "X_train_pca = randompj.fit_transform(X_train_new)\n",
    "X_test_pca = randompj.transform(X_test_new)\n",
    "clf = SVC(kernel='linear')\n",
    "clf.fit(X_train_pca,y_train)\n",
    "preds = clf.predict(X_test_pca)\n",
    "from sklearn.metrics import classification_report as report\n",
    "print(report(y_test,preds,digits=4))"
   ]
  },
  {
   "cell_type": "code",
   "execution_count": null,
   "id": "a681cadf-8616-4008-9905-cc3da5ed643a",
   "metadata": {},
   "outputs": [],
   "source": []
  }
 ],
 "metadata": {
  "kernelspec": {
   "display_name": "Python 3 (ipykernel)",
   "language": "python",
   "name": "python3"
  },
  "language_info": {
   "codemirror_mode": {
    "name": "ipython",
    "version": 3
   },
   "file_extension": ".py",
   "mimetype": "text/x-python",
   "name": "python",
   "nbconvert_exporter": "python",
   "pygments_lexer": "ipython3",
   "version": "3.10.9"
  }
 },
 "nbformat": 4,
 "nbformat_minor": 5
}
