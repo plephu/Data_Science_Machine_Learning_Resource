{
 "cells": [
  {
   "cell_type": "code",
   "execution_count": 69,
   "id": "ed6df5d7",
   "metadata": {},
   "outputs": [],
   "source": [
    "import numpy as np\n",
    "import pandas as pd\n",
    "from sklearn.naive_bayes import MultinomialNB\n",
    "from sklearn.feature_extraction.text import CountVectorizer\n",
    "\n",
    "import nltk\n",
    "import re\n",
    "import regex\n",
    "\n",
    "import string\n",
    "from nltk.corpus import stopwords\n",
    "from nltk.tokenize import word_tokenize\n",
    "from nltk.stem import WordNetLemmatizer\n",
    "from nltk.tokenize import sent_tokenize\n"
   ]
  },
  {
   "cell_type": "code",
   "execution_count": 2,
   "id": "5df3e99b",
   "metadata": {},
   "outputs": [
    {
     "name": "stderr",
     "output_type": "stream",
     "text": [
      "[nltk_data] Downloading package punkt to\n",
      "[nltk_data]     C:\\Users\\AW\\AppData\\Roaming\\nltk_data...\n",
      "[nltk_data]   Package punkt is already up-to-date!\n",
      "[nltk_data] Downloading package wordnet to\n",
      "[nltk_data]     C:\\Users\\AW\\AppData\\Roaming\\nltk_data...\n",
      "[nltk_data]   Package wordnet is already up-to-date!\n",
      "[nltk_data] Downloading package stopwords to\n",
      "[nltk_data]     C:\\Users\\AW\\AppData\\Roaming\\nltk_data...\n",
      "[nltk_data]   Package stopwords is already up-to-date!\n"
     ]
    },
    {
     "data": {
      "text/plain": [
       "True"
      ]
     },
     "execution_count": 2,
     "metadata": {},
     "output_type": "execute_result"
    }
   ],
   "source": [
    "nltk.download('punkt')\n",
    "nltk.download('wordnet')\n",
    "nltk.download('stopwords')"
   ]
  },
  {
   "cell_type": "code",
   "execution_count": 43,
   "id": "143a2e8f",
   "metadata": {},
   "outputs": [],
   "source": [
    "train = pd.read_csv('raw_train.csv')\n",
    "test = pd.read_csv('raw_test.csv')\n"
   ]
  },
  {
   "cell_type": "code",
   "execution_count": 44,
   "id": "4580dded",
   "metadata": {},
   "outputs": [
    {
     "data": {
      "text/html": [
       "<div>\n",
       "<style scoped>\n",
       "    .dataframe tbody tr th:only-of-type {\n",
       "        vertical-align: middle;\n",
       "    }\n",
       "\n",
       "    .dataframe tbody tr th {\n",
       "        vertical-align: top;\n",
       "    }\n",
       "\n",
       "    .dataframe thead th {\n",
       "        text-align: right;\n",
       "    }\n",
       "</style>\n",
       "<table border=\"1\" class=\"dataframe\">\n",
       "  <thead>\n",
       "    <tr style=\"text-align: right;\">\n",
       "      <th></th>\n",
       "      <th>type</th>\n",
       "      <th>posts</th>\n",
       "    </tr>\n",
       "  </thead>\n",
       "  <tbody>\n",
       "    <tr>\n",
       "      <th>0</th>\n",
       "      <td>INFP</td>\n",
       "      <td>'One stereotype I disagree with is that INFPs ...</td>\n",
       "    </tr>\n",
       "    <tr>\n",
       "      <th>1</th>\n",
       "      <td>INTP</td>\n",
       "      <td>'The fridge and the buzzing of my roommates ph...</td>\n",
       "    </tr>\n",
       "    <tr>\n",
       "      <th>2</th>\n",
       "      <td>INFP</td>\n",
       "      <td>'The thing is, the mbti is so much more than d...</td>\n",
       "    </tr>\n",
       "    <tr>\n",
       "      <th>3</th>\n",
       "      <td>INFP</td>\n",
       "      <td>'Almost never. The only other results I got ot...</td>\n",
       "    </tr>\n",
       "    <tr>\n",
       "      <th>4</th>\n",
       "      <td>ENFP</td>\n",
       "      <td>'She was curious of how many others didn't mat...</td>\n",
       "    </tr>\n",
       "  </tbody>\n",
       "</table>\n",
       "</div>"
      ],
      "text/plain": [
       "   type                                              posts\n",
       "0  INFP  'One stereotype I disagree with is that INFPs ...\n",
       "1  INTP  'The fridge and the buzzing of my roommates ph...\n",
       "2  INFP  'The thing is, the mbti is so much more than d...\n",
       "3  INFP  'Almost never. The only other results I got ot...\n",
       "4  ENFP  'She was curious of how many others didn't mat..."
      ]
     },
     "execution_count": 44,
     "metadata": {},
     "output_type": "execute_result"
    }
   ],
   "source": [
    "train.head()"
   ]
  },
  {
   "cell_type": "code",
   "execution_count": 45,
   "id": "67dcc478",
   "metadata": {},
   "outputs": [
    {
     "data": {
      "text/html": [
       "<div>\n",
       "<style scoped>\n",
       "    .dataframe tbody tr th:only-of-type {\n",
       "        vertical-align: middle;\n",
       "    }\n",
       "\n",
       "    .dataframe tbody tr th {\n",
       "        vertical-align: top;\n",
       "    }\n",
       "\n",
       "    .dataframe thead th {\n",
       "        text-align: right;\n",
       "    }\n",
       "</style>\n",
       "<table border=\"1\" class=\"dataframe\">\n",
       "  <thead>\n",
       "    <tr style=\"text-align: right;\">\n",
       "      <th></th>\n",
       "      <th>Unnamed: 0</th>\n",
       "      <th>posts</th>\n",
       "      <th>ID</th>\n",
       "    </tr>\n",
       "  </thead>\n",
       "  <tbody>\n",
       "    <tr>\n",
       "      <th>0</th>\n",
       "      <td>5443</td>\n",
       "      <td>'Captain America: ISFJ Iron Man: ENTP Thor: ES...</td>\n",
       "      <td>1</td>\n",
       "    </tr>\n",
       "    <tr>\n",
       "      <th>1</th>\n",
       "      <td>4886</td>\n",
       "      <td>'Is a X-Files fan. (What else is there to say?...</td>\n",
       "      <td>2</td>\n",
       "    </tr>\n",
       "    <tr>\n",
       "      <th>2</th>\n",
       "      <td>7127</td>\n",
       "      <td>'Thank you!|||This exactly. I think my SO is a...</td>\n",
       "      <td>3</td>\n",
       "    </tr>\n",
       "    <tr>\n",
       "      <th>3</th>\n",
       "      <td>3206</td>\n",
       "      <td>'As stressful as school is, I'm happy to say t...</td>\n",
       "      <td>4</td>\n",
       "    </tr>\n",
       "    <tr>\n",
       "      <th>4</th>\n",
       "      <td>3528</td>\n",
       "      <td>Orthodox Iconoclast Yummy Donuts do you guys h...</td>\n",
       "      <td>5</td>\n",
       "    </tr>\n",
       "  </tbody>\n",
       "</table>\n",
       "</div>"
      ],
      "text/plain": [
       "   Unnamed: 0                                              posts  ID\n",
       "0        5443  'Captain America: ISFJ Iron Man: ENTP Thor: ES...   1\n",
       "1        4886  'Is a X-Files fan. (What else is there to say?...   2\n",
       "2        7127  'Thank you!|||This exactly. I think my SO is a...   3\n",
       "3        3206  'As stressful as school is, I'm happy to say t...   4\n",
       "4        3528  Orthodox Iconoclast Yummy Donuts do you guys h...   5"
      ]
     },
     "execution_count": 45,
     "metadata": {},
     "output_type": "execute_result"
    }
   ],
   "source": [
    "test.head()"
   ]
  },
  {
   "cell_type": "markdown",
   "id": "ba5b5506",
   "metadata": {},
   "source": [
    "### 1. Pre-processing data"
   ]
  },
  {
   "cell_type": "code",
   "execution_count": 46,
   "id": "47ec8b2b",
   "metadata": {},
   "outputs": [
    {
     "name": "stdout",
     "output_type": "stream",
     "text": [
      "<class 'pandas.core.frame.DataFrame'>\n",
      "RangeIndex: 6506 entries, 0 to 6505\n",
      "Data columns (total 2 columns):\n",
      " #   Column  Non-Null Count  Dtype \n",
      "---  ------  --------------  ----- \n",
      " 0   type    6506 non-null   object\n",
      " 1   posts   6506 non-null   object\n",
      "dtypes: object(2)\n",
      "memory usage: 101.8+ KB\n"
     ]
    }
   ],
   "source": [
    "train.info()"
   ]
  },
  {
   "cell_type": "code",
   "execution_count": 47,
   "id": "8ee777a9",
   "metadata": {},
   "outputs": [
    {
     "name": "stdout",
     "output_type": "stream",
     "text": [
      "<class 'pandas.core.frame.DataFrame'>\n",
      "RangeIndex: 2169 entries, 0 to 2168\n",
      "Data columns (total 3 columns):\n",
      " #   Column      Non-Null Count  Dtype \n",
      "---  ------      --------------  ----- \n",
      " 0   Unnamed: 0  2169 non-null   int64 \n",
      " 1   posts       2169 non-null   object\n",
      " 2   ID          2169 non-null   int64 \n",
      "dtypes: int64(2), object(1)\n",
      "memory usage: 51.0+ KB\n"
     ]
    }
   ],
   "source": [
    "test.info()"
   ]
  },
  {
   "cell_type": "code",
   "execution_count": 24,
   "id": "374a9579",
   "metadata": {},
   "outputs": [
    {
     "data": {
      "text/plain": [
       "0"
      ]
     },
     "execution_count": 24,
     "metadata": {},
     "output_type": "execute_result"
    }
   ],
   "source": [
    "train.duplicated().sum()"
   ]
  },
  {
   "cell_type": "code",
   "execution_count": null,
   "id": "318448f4",
   "metadata": {},
   "outputs": [],
   "source": [
    "train.duplicated().sum()"
   ]
  },
  {
   "cell_type": "code",
   "execution_count": 54,
   "id": "e9da3a9d",
   "metadata": {},
   "outputs": [
    {
     "data": {
      "text/plain": [
       "Unnamed: 0    0\n",
       "posts         0\n",
       "ID            0\n",
       "dtype: int64"
      ]
     },
     "execution_count": 54,
     "metadata": {},
     "output_type": "execute_result"
    }
   ],
   "source": [
    "test.isna().sum()"
   ]
  },
  {
   "cell_type": "code",
   "execution_count": 55,
   "id": "7a6bad7b",
   "metadata": {},
   "outputs": [
    {
     "data": {
      "text/plain": [
       "Unnamed: 0    0\n",
       "posts         0\n",
       "ID            0\n",
       "dtype: int64"
      ]
     },
     "execution_count": 55,
     "metadata": {},
     "output_type": "execute_result"
    }
   ],
   "source": [
    "test.isnull().sum()"
   ]
  },
  {
   "cell_type": "code",
   "execution_count": 78,
   "id": "c5106d16",
   "metadata": {},
   "outputs": [],
   "source": [
    "def preprocess_text(text):\n",
    "    document = text.lower()\n",
    "    document = document.replace(\"’\",'')\n",
    "    document = document.replace(\"'\",'')\n",
    "\n",
    "    document = regex.sub(r'\\.+', \".\", document)\n",
    "    new_sentence =''\n",
    "    for sentence in sent_tokenize(document):\n",
    "        \n",
    "        sentence = regex.sub(r'http\\S+', '', sentence)\n",
    "        sentence = regex.sub(r'[A-Za-z0-9]*@[A-Za-z]*\\.?[A-Za-z0-9]*', '', sentence)\n",
    "        \n",
    "        # Tokenize the text into individual words\n",
    "        words = word_tokenize(sentence)\n",
    "\n",
    "        # Remove punctuation\n",
    "        words = [word for word in words if word not in string.punctuation]\n",
    "\n",
    "        # Remove stopwords\n",
    "        stop_words = set(stopwords.words('english'))\n",
    "        words = [word for word in words if word not in stop_words]\n",
    "\n",
    "        # Lemmatization\n",
    "        lemmatizer = WordNetLemmatizer()\n",
    "        words = [lemmatizer.lemmatize(word) for word in words]\n",
    "\n",
    "        # Join the words back into a single string\n",
    "        sentence = ' '.join(words)\n",
    "        new_sentence = new_sentence+ sentence + '. '                    \n",
    "    document = new_sentence  \n",
    "    #print(document)\n",
    "     ###### DEL excess blank space\n",
    "    document = regex.sub(r'\\s+', ' ', document).strip()\n",
    "    return document\n",
    "\n",
    "\n",
    "   "
   ]
  },
  {
   "cell_type": "code",
   "execution_count": 79,
   "id": "7840e882",
   "metadata": {},
   "outputs": [],
   "source": [
    "train.cleaned = train.posts.apply(lambda x: preprocess_text(x))\n",
    "test.cleaned = test.posts.apply(lambda x: preprocess_text(x))"
   ]
  },
  {
   "cell_type": "code",
   "execution_count": 80,
   "id": "4680400c",
   "metadata": {},
   "outputs": [
    {
     "data": {
      "text/html": [
       "<div>\n",
       "<style scoped>\n",
       "    .dataframe tbody tr th:only-of-type {\n",
       "        vertical-align: middle;\n",
       "    }\n",
       "\n",
       "    .dataframe tbody tr th {\n",
       "        vertical-align: top;\n",
       "    }\n",
       "\n",
       "    .dataframe thead th {\n",
       "        text-align: right;\n",
       "    }\n",
       "</style>\n",
       "<table border=\"1\" class=\"dataframe\">\n",
       "  <thead>\n",
       "    <tr style=\"text-align: right;\">\n",
       "      <th></th>\n",
       "      <th>type</th>\n",
       "      <th>posts</th>\n",
       "      <th>cleaned</th>\n",
       "    </tr>\n",
       "  </thead>\n",
       "  <tbody>\n",
       "    <tr>\n",
       "      <th>0</th>\n",
       "      <td>INFP</td>\n",
       "      <td>'One stereotype I disagree with is that INFPs ...</td>\n",
       "      <td>one stereotype disagree infps one giant cause....</td>\n",
       "    </tr>\n",
       "    <tr>\n",
       "      <th>1</th>\n",
       "      <td>INTP</td>\n",
       "      <td>'The fridge and the buzzing of my roommates ph...</td>\n",
       "      <td>fridge buzzing roommate phone.|||have ever don...</td>\n",
       "    </tr>\n",
       "    <tr>\n",
       "      <th>2</th>\n",
       "      <td>INFP</td>\n",
       "      <td>'The thing is, the mbti is so much more than d...</td>\n",
       "      <td>thing mbti much test read forget. come site li...</td>\n",
       "    </tr>\n",
       "    <tr>\n",
       "      <th>3</th>\n",
       "      <td>INFP</td>\n",
       "      <td>'Almost never. The only other results I got ot...</td>\n",
       "      <td>almost never. result got 9 either 6 ot 5. im s...</td>\n",
       "    </tr>\n",
       "    <tr>\n",
       "      <th>4</th>\n",
       "      <td>ENFP</td>\n",
       "      <td>'She was curious of how many others didn't mat...</td>\n",
       "      <td>curious many others didnt match skill likely p...</td>\n",
       "    </tr>\n",
       "  </tbody>\n",
       "</table>\n",
       "</div>"
      ],
      "text/plain": [
       "   type                                              posts  \\\n",
       "0  INFP  'One stereotype I disagree with is that INFPs ...   \n",
       "1  INTP  'The fridge and the buzzing of my roommates ph...   \n",
       "2  INFP  'The thing is, the mbti is so much more than d...   \n",
       "3  INFP  'Almost never. The only other results I got ot...   \n",
       "4  ENFP  'She was curious of how many others didn't mat...   \n",
       "\n",
       "                                             cleaned  \n",
       "0  one stereotype disagree infps one giant cause....  \n",
       "1  fridge buzzing roommate phone.|||have ever don...  \n",
       "2  thing mbti much test read forget. come site li...  \n",
       "3  almost never. result got 9 either 6 ot 5. im s...  \n",
       "4  curious many others didnt match skill likely p...  "
      ]
     },
     "execution_count": 80,
     "metadata": {},
     "output_type": "execute_result"
    }
   ],
   "source": [
    "train.head()"
   ]
  },
  {
   "cell_type": "code",
   "execution_count": 81,
   "id": "68a90142",
   "metadata": {},
   "outputs": [
    {
     "data": {
      "text/html": [
       "<div>\n",
       "<style scoped>\n",
       "    .dataframe tbody tr th:only-of-type {\n",
       "        vertical-align: middle;\n",
       "    }\n",
       "\n",
       "    .dataframe tbody tr th {\n",
       "        vertical-align: top;\n",
       "    }\n",
       "\n",
       "    .dataframe thead th {\n",
       "        text-align: right;\n",
       "    }\n",
       "</style>\n",
       "<table border=\"1\" class=\"dataframe\">\n",
       "  <thead>\n",
       "    <tr style=\"text-align: right;\">\n",
       "      <th></th>\n",
       "      <th>Unnamed: 0</th>\n",
       "      <th>posts</th>\n",
       "      <th>ID</th>\n",
       "      <th>cleaned</th>\n",
       "    </tr>\n",
       "  </thead>\n",
       "  <tbody>\n",
       "    <tr>\n",
       "      <th>0</th>\n",
       "      <td>5443</td>\n",
       "      <td>'Captain America: ISFJ Iron Man: ENTP Thor: ES...</td>\n",
       "      <td>1</td>\n",
       "      <td>captain america isfj iron man entp thor esxp b...</td>\n",
       "    </tr>\n",
       "    <tr>\n",
       "      <th>1</th>\n",
       "      <td>4886</td>\n",
       "      <td>'Is a X-Files fan. (What else is there to say?...</td>\n",
       "      <td>2</td>\n",
       "      <td>x-files fan. else say. |||sorry say think your...</td>\n",
       "    </tr>\n",
       "    <tr>\n",
       "      <th>2</th>\n",
       "      <td>7127</td>\n",
       "      <td>'Thank you!|||This exactly. I think my SO is a...</td>\n",
       "      <td>3</td>\n",
       "      <td>thank |||this exactly. think infp. cant seem a...</td>\n",
       "    </tr>\n",
       "    <tr>\n",
       "      <th>3</th>\n",
       "      <td>3206</td>\n",
       "      <td>'As stressful as school is, I'm happy to say t...</td>\n",
       "      <td>4</td>\n",
       "      <td>stressful school im happy say may next year il...</td>\n",
       "    </tr>\n",
       "    <tr>\n",
       "      <th>4</th>\n",
       "      <td>3528</td>\n",
       "      <td>Orthodox Iconoclast Yummy Donuts do you guys h...</td>\n",
       "      <td>5</td>\n",
       "      <td>orthodox iconoclast yummy donut guy source num...</td>\n",
       "    </tr>\n",
       "  </tbody>\n",
       "</table>\n",
       "</div>"
      ],
      "text/plain": [
       "   Unnamed: 0                                              posts  ID  \\\n",
       "0        5443  'Captain America: ISFJ Iron Man: ENTP Thor: ES...   1   \n",
       "1        4886  'Is a X-Files fan. (What else is there to say?...   2   \n",
       "2        7127  'Thank you!|||This exactly. I think my SO is a...   3   \n",
       "3        3206  'As stressful as school is, I'm happy to say t...   4   \n",
       "4        3528  Orthodox Iconoclast Yummy Donuts do you guys h...   5   \n",
       "\n",
       "                                             cleaned  \n",
       "0  captain america isfj iron man entp thor esxp b...  \n",
       "1  x-files fan. else say. |||sorry say think your...  \n",
       "2  thank |||this exactly. think infp. cant seem a...  \n",
       "3  stressful school im happy say may next year il...  \n",
       "4  orthodox iconoclast yummy donut guy source num...  "
      ]
     },
     "execution_count": 81,
     "metadata": {},
     "output_type": "execute_result"
    }
   ],
   "source": [
    "test.head()"
   ]
  },
  {
   "cell_type": "markdown",
   "id": "d40ae183",
   "metadata": {},
   "source": [
    "### 2. Tranformation"
   ]
  },
  {
   "cell_type": "code",
   "execution_count": 83,
   "id": "efdb22dc",
   "metadata": {},
   "outputs": [],
   "source": [
    "X_train = train['cleaned']\n",
    "y_train = train['type']\n",
    "\n",
    "X_test = test['cleaned']"
   ]
  },
  {
   "cell_type": "code",
   "execution_count": 86,
   "id": "ff433c66",
   "metadata": {},
   "outputs": [
    {
     "data": {
      "text/plain": [
       "(6506,)"
      ]
     },
     "execution_count": 86,
     "metadata": {},
     "output_type": "execute_result"
    }
   ],
   "source": [
    "X_train.shape"
   ]
  },
  {
   "cell_type": "code",
   "execution_count": 87,
   "id": "8d96a1db",
   "metadata": {},
   "outputs": [
    {
     "data": {
      "text/plain": [
       "(6506,)"
      ]
     },
     "execution_count": 87,
     "metadata": {},
     "output_type": "execute_result"
    }
   ],
   "source": [
    "y_train.shape"
   ]
  },
  {
   "cell_type": "code",
   "execution_count": 88,
   "id": "e4572f40",
   "metadata": {},
   "outputs": [
    {
     "data": {
      "text/plain": [
       "(2169,)"
      ]
     },
     "execution_count": 88,
     "metadata": {},
     "output_type": "execute_result"
    }
   ],
   "source": [
    "X_test.shape"
   ]
  },
  {
   "cell_type": "code",
   "execution_count": null,
   "id": "da73227e",
   "metadata": {},
   "outputs": [],
   "source": [
    "X_test.shape"
   ]
  },
  {
   "cell_type": "code",
   "execution_count": 95,
   "id": "145767b3",
   "metadata": {},
   "outputs": [
    {
     "data": {
      "text/plain": [
       "<6506x88826 sparse matrix of type '<class 'numpy.int64'>'\n",
       "\twith 2853366 stored elements in Compressed Sparse Row format>"
      ]
     },
     "execution_count": 95,
     "metadata": {},
     "output_type": "execute_result"
    }
   ],
   "source": [
    "count = CountVectorizer()\n",
    "count.fit(X_train)\n",
    "bag_of_words_train = count.transform(X_train)\n",
    "bag_of_words_train"
   ]
  },
  {
   "cell_type": "code",
   "execution_count": 96,
   "id": "17ecd5ad",
   "metadata": {},
   "outputs": [
    {
     "data": {
      "text/plain": [
       "<2169x88826 sparse matrix of type '<class 'numpy.int64'>'\n",
       "\twith 930142 stored elements in Compressed Sparse Row format>"
      ]
     },
     "execution_count": 96,
     "metadata": {},
     "output_type": "execute_result"
    }
   ],
   "source": [
    "bag_of_words_test = count.transform(X_test)\n",
    "bag_of_words_test"
   ]
  },
  {
   "cell_type": "code",
   "execution_count": 98,
   "id": "a22dd0ac",
   "metadata": {},
   "outputs": [
    {
     "data": {
      "text/plain": [
       "array([[0, 0, 0, ..., 0, 0, 0],\n",
       "       [0, 0, 0, ..., 0, 0, 0],\n",
       "       [0, 0, 0, ..., 0, 0, 0],\n",
       "       ...,\n",
       "       [0, 0, 0, ..., 0, 0, 0],\n",
       "       [0, 0, 0, ..., 0, 0, 0],\n",
       "       [0, 0, 0, ..., 0, 0, 0]], dtype=int64)"
      ]
     },
     "execution_count": 98,
     "metadata": {},
     "output_type": "execute_result"
    }
   ],
   "source": [
    "X_train_T = bag_of_words_train.toarray()\n",
    "X_train_T"
   ]
  },
  {
   "cell_type": "code",
   "execution_count": 100,
   "id": "df7e9736",
   "metadata": {},
   "outputs": [
    {
     "data": {
      "text/plain": [
       "(6506, 88826)"
      ]
     },
     "execution_count": 100,
     "metadata": {},
     "output_type": "execute_result"
    }
   ],
   "source": [
    "X_train_T.shape"
   ]
  },
  {
   "cell_type": "code",
   "execution_count": 101,
   "id": "10fdf6bf",
   "metadata": {},
   "outputs": [
    {
     "data": {
      "text/plain": [
       "array([[0, 0, 0, ..., 0, 0, 0],\n",
       "       [0, 0, 0, ..., 0, 0, 0],\n",
       "       [0, 0, 0, ..., 0, 0, 0],\n",
       "       ...,\n",
       "       [0, 1, 0, ..., 0, 0, 0],\n",
       "       [0, 0, 0, ..., 0, 0, 0],\n",
       "       [0, 0, 0, ..., 0, 0, 0]], dtype=int64)"
      ]
     },
     "execution_count": 101,
     "metadata": {},
     "output_type": "execute_result"
    }
   ],
   "source": [
    "X_test_T = bag_of_words_test.toarray()\n",
    "X_test_T"
   ]
  },
  {
   "cell_type": "code",
   "execution_count": 102,
   "id": "32d119ec",
   "metadata": {},
   "outputs": [
    {
     "data": {
      "text/plain": [
       "(2169, 88826)"
      ]
     },
     "execution_count": 102,
     "metadata": {},
     "output_type": "execute_result"
    }
   ],
   "source": [
    "X_test_T.shape"
   ]
  },
  {
   "cell_type": "markdown",
   "id": "f4a41e18",
   "metadata": {},
   "source": [
    "### 3. Build Model"
   ]
  },
  {
   "cell_type": "code",
   "execution_count": 104,
   "id": "da00052e",
   "metadata": {},
   "outputs": [],
   "source": [
    "nb = MultinomialNB()\n",
    "model = nb.fit(X_train_T, y_train)\n"
   ]
  },
  {
   "cell_type": "code",
   "execution_count": 105,
   "id": "2010d654",
   "metadata": {},
   "outputs": [],
   "source": [
    "y_pred = model.predict(X_test_T)"
   ]
  },
  {
   "cell_type": "code",
   "execution_count": 125,
   "id": "ca6da334",
   "metadata": {},
   "outputs": [
    {
     "data": {
      "text/plain": [
       "array(['INFJ', 'INTP', 'INFP', ..., 'INFP', 'INFP', 'INFP'], dtype='<U4')"
      ]
     },
     "execution_count": 125,
     "metadata": {},
     "output_type": "execute_result"
    }
   ],
   "source": [
    "y_pred"
   ]
  },
  {
   "cell_type": "code",
   "execution_count": 106,
   "id": "bc6c1ecd",
   "metadata": {},
   "outputs": [
    {
     "name": "stdout",
     "output_type": "stream",
     "text": [
      "Score Scikit learn - train:  0.6885951429449738\n"
     ]
    }
   ],
   "source": [
    "print('Score Scikit learn - train: ', model.score(X_train_T, y_train))"
   ]
  },
  {
   "cell_type": "markdown",
   "id": "610108af",
   "metadata": {},
   "source": [
    "### 4. Evalutaion model"
   ]
  },
  {
   "cell_type": "code",
   "execution_count": 107,
   "id": "f127fcfd",
   "metadata": {},
   "outputs": [
    {
     "data": {
      "text/html": [
       "<div>\n",
       "<style scoped>\n",
       "    .dataframe tbody tr th:only-of-type {\n",
       "        vertical-align: middle;\n",
       "    }\n",
       "\n",
       "    .dataframe tbody tr th {\n",
       "        vertical-align: top;\n",
       "    }\n",
       "\n",
       "    .dataframe thead th {\n",
       "        text-align: right;\n",
       "    }\n",
       "</style>\n",
       "<table border=\"1\" class=\"dataframe\">\n",
       "  <thead>\n",
       "    <tr style=\"text-align: right;\">\n",
       "      <th></th>\n",
       "      <th>Id</th>\n",
       "      <th>Category</th>\n",
       "    </tr>\n",
       "  </thead>\n",
       "  <tbody>\n",
       "    <tr>\n",
       "      <th>0</th>\n",
       "      <td>1</td>\n",
       "      <td>INFJ</td>\n",
       "    </tr>\n",
       "    <tr>\n",
       "      <th>1</th>\n",
       "      <td>2</td>\n",
       "      <td>INTJ</td>\n",
       "    </tr>\n",
       "    <tr>\n",
       "      <th>2</th>\n",
       "      <td>3</td>\n",
       "      <td>ENTJ</td>\n",
       "    </tr>\n",
       "    <tr>\n",
       "      <th>3</th>\n",
       "      <td>4</td>\n",
       "      <td>ISFP</td>\n",
       "    </tr>\n",
       "    <tr>\n",
       "      <th>4</th>\n",
       "      <td>5</td>\n",
       "      <td>ENTP</td>\n",
       "    </tr>\n",
       "  </tbody>\n",
       "</table>\n",
       "</div>"
      ],
      "text/plain": [
       "   Id Category\n",
       "0   1     INFJ\n",
       "1   2     INTJ\n",
       "2   3     ENTJ\n",
       "3   4     ISFP\n",
       "4   5     ENTP"
      ]
     },
     "execution_count": 107,
     "metadata": {},
     "output_type": "execute_result"
    }
   ],
   "source": [
    "solution = pd.read_csv(\"solution.csv\")\n",
    "solution.head()"
   ]
  },
  {
   "cell_type": "code",
   "execution_count": 108,
   "id": "1e4bbc92",
   "metadata": {},
   "outputs": [],
   "source": [
    "test_sub = test[['ID','cleaned']]"
   ]
  },
  {
   "cell_type": "code",
   "execution_count": 110,
   "id": "531211c8",
   "metadata": {},
   "outputs": [
    {
     "data": {
      "text/html": [
       "<div>\n",
       "<style scoped>\n",
       "    .dataframe tbody tr th:only-of-type {\n",
       "        vertical-align: middle;\n",
       "    }\n",
       "\n",
       "    .dataframe tbody tr th {\n",
       "        vertical-align: top;\n",
       "    }\n",
       "\n",
       "    .dataframe thead th {\n",
       "        text-align: right;\n",
       "    }\n",
       "</style>\n",
       "<table border=\"1\" class=\"dataframe\">\n",
       "  <thead>\n",
       "    <tr style=\"text-align: right;\">\n",
       "      <th></th>\n",
       "      <th>ID</th>\n",
       "      <th>cleaned</th>\n",
       "    </tr>\n",
       "  </thead>\n",
       "  <tbody>\n",
       "    <tr>\n",
       "      <th>0</th>\n",
       "      <td>1</td>\n",
       "      <td>captain america isfj iron man entp thor esxp b...</td>\n",
       "    </tr>\n",
       "    <tr>\n",
       "      <th>1</th>\n",
       "      <td>2</td>\n",
       "      <td>x-files fan. else say. |||sorry say think your...</td>\n",
       "    </tr>\n",
       "    <tr>\n",
       "      <th>2</th>\n",
       "      <td>3</td>\n",
       "      <td>thank |||this exactly. think infp. cant seem a...</td>\n",
       "    </tr>\n",
       "    <tr>\n",
       "      <th>3</th>\n",
       "      <td>4</td>\n",
       "      <td>stressful school im happy say may next year il...</td>\n",
       "    </tr>\n",
       "    <tr>\n",
       "      <th>4</th>\n",
       "      <td>5</td>\n",
       "      <td>orthodox iconoclast yummy donut guy source num...</td>\n",
       "    </tr>\n",
       "  </tbody>\n",
       "</table>\n",
       "</div>"
      ],
      "text/plain": [
       "   ID                                            cleaned\n",
       "0   1  captain america isfj iron man entp thor esxp b...\n",
       "1   2  x-files fan. else say. |||sorry say think your...\n",
       "2   3  thank |||this exactly. think infp. cant seem a...\n",
       "3   4  stressful school im happy say may next year il...\n",
       "4   5  orthodox iconoclast yummy donut guy source num..."
      ]
     },
     "execution_count": 110,
     "metadata": {},
     "output_type": "execute_result"
    }
   ],
   "source": [
    "test_sub.head()"
   ]
  },
  {
   "cell_type": "code",
   "execution_count": 111,
   "id": "9dc29ac1",
   "metadata": {},
   "outputs": [
    {
     "name": "stderr",
     "output_type": "stream",
     "text": [
      "C:\\Users\\AW\\AppData\\Local\\Temp\\ipykernel_46736\\2365199093.py:1: SettingWithCopyWarning: \n",
      "A value is trying to be set on a copy of a slice from a DataFrame\n",
      "\n",
      "See the caveats in the documentation: https://pandas.pydata.org/pandas-docs/stable/user_guide/indexing.html#returning-a-view-versus-a-copy\n",
      "  test_sub.rename({\"ID\":\"Id\"}, axis=\"columns\", inplace=True)\n"
     ]
    },
    {
     "data": {
      "text/plain": [
       "0    INFJ\n",
       "1    INTJ\n",
       "2    ENTJ\n",
       "3    ISFP\n",
       "4    ENTP\n",
       "Name: Category, dtype: object"
      ]
     },
     "execution_count": 111,
     "metadata": {},
     "output_type": "execute_result"
    }
   ],
   "source": [
    "test_sub.rename({\"ID\":\"Id\"}, axis=\"columns\", inplace=True)\n",
    "test_sub = pd.merge(test_sub, solution, on=\"Id\")\n",
    "y_test = test_sub['Category']\n",
    "y_test.head()"
   ]
  },
  {
   "cell_type": "code",
   "execution_count": 112,
   "id": "759151f6",
   "metadata": {},
   "outputs": [
    {
     "name": "stdout",
     "output_type": "stream",
     "text": [
      "Score Scikit learn:  0.38589211618257263\n"
     ]
    }
   ],
   "source": [
    "print('Score Scikit learn: ', model.score(X_test_T, y_test))"
   ]
  },
  {
   "cell_type": "code",
   "execution_count": 124,
   "id": "279442f3",
   "metadata": {},
   "outputs": [],
   "source": [
    "from sklearn.metrics import classification_report, roc_auc_score, roc_curve"
   ]
  },
  {
   "cell_type": "code",
   "execution_count": 116,
   "id": "8f3ee698",
   "metadata": {},
   "outputs": [
    {
     "name": "stdout",
     "output_type": "stream",
     "text": [
      "              precision    recall  f1-score   support\n",
      "\n",
      "        ENFJ     0.0000    0.0000    0.0000         0\n",
      "        ENFP     0.0485    0.5714    0.0894        14\n",
      "        ENTJ     0.0000    0.0000    0.0000         0\n",
      "        ENTP     0.0376    0.4667    0.0697        15\n",
      "        ESFJ     0.0000    0.0000    0.0000         0\n",
      "        ESFP     0.0000    0.0000    0.0000         0\n",
      "        ESTJ     0.0000    0.0000    0.0000         0\n",
      "        ESTP     0.0000    0.0000    0.0000         0\n",
      "        INFJ     0.5077    0.4422    0.4727       450\n",
      "        INFP     0.8690    0.3452    0.4941      1153\n",
      "        INTJ     0.2036    0.6404    0.3089        89\n",
      "        INTP     0.5979    0.3750    0.4609       448\n",
      "        ISFJ     0.0000    0.0000    0.0000         0\n",
      "        ISFP     0.0000    0.0000    0.0000         0\n",
      "        ISTJ     0.0000    0.0000    0.0000         0\n",
      "        ISTP     0.0000    0.0000    0.0000         0\n",
      "\n",
      "    accuracy                         0.3859      2169\n",
      "   macro avg     0.1415    0.1776    0.1185      2169\n",
      "weighted avg     0.6997    0.3859    0.4697      2169\n",
      "\n"
     ]
    },
    {
     "name": "stderr",
     "output_type": "stream",
     "text": [
      "C:\\Program Files\\Python39\\lib\\site-packages\\sklearn\\metrics\\_classification.py:1344: UndefinedMetricWarning: Recall and F-score are ill-defined and being set to 0.0 in labels with no true samples. Use `zero_division` parameter to control this behavior.\n",
      "  _warn_prf(average, modifier, msg_start, len(result))\n",
      "C:\\Program Files\\Python39\\lib\\site-packages\\sklearn\\metrics\\_classification.py:1344: UndefinedMetricWarning: Recall and F-score are ill-defined and being set to 0.0 in labels with no true samples. Use `zero_division` parameter to control this behavior.\n",
      "  _warn_prf(average, modifier, msg_start, len(result))\n",
      "C:\\Program Files\\Python39\\lib\\site-packages\\sklearn\\metrics\\_classification.py:1344: UndefinedMetricWarning: Recall and F-score are ill-defined and being set to 0.0 in labels with no true samples. Use `zero_division` parameter to control this behavior.\n",
      "  _warn_prf(average, modifier, msg_start, len(result))\n"
     ]
    }
   ],
   "source": [
    "print(classification_report(y_pred, y_test, digits=4))"
   ]
  },
  {
   "cell_type": "code",
   "execution_count": 117,
   "id": "35c947b6",
   "metadata": {},
   "outputs": [
    {
     "name": "stdout",
     "output_type": "stream",
     "text": [
      "Accuracy is  38.589211618257266 %\n"
     ]
    }
   ],
   "source": [
    "from sklearn.metrics import accuracy_score\n",
    "print('Accuracy is ', accuracy_score(y_test, y_pred)*100,'%')"
   ]
  },
  {
   "cell_type": "markdown",
   "id": "794d7ccb",
   "metadata": {},
   "source": [
    "- Nhận xét: Cả training và testing đều có score thấp\n",
    "- Model có độ chính xác không cao"
   ]
  }
 ],
 "metadata": {
  "kernelspec": {
   "display_name": "Python 3 (ipykernel)",
   "language": "python",
   "name": "python3"
  },
  "language_info": {
   "codemirror_mode": {
    "name": "ipython",
    "version": 3
   },
   "file_extension": ".py",
   "mimetype": "text/x-python",
   "name": "python",
   "nbconvert_exporter": "python",
   "pygments_lexer": "ipython3",
   "version": "3.9.13"
  }
 },
 "nbformat": 4,
 "nbformat_minor": 5
}
