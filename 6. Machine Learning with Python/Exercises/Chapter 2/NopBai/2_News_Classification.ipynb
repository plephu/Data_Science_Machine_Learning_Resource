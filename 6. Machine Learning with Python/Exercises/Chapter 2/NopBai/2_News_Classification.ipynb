{
 "cells": [
  {
   "cell_type": "code",
   "execution_count": 1,
   "id": "13326ca6",
   "metadata": {},
   "outputs": [],
   "source": [
    "import numpy as np\n",
    "import pandas as pd\n",
    "from sklearn.naive_bayes import MultinomialNB\n",
    "from sklearn.feature_extraction.text import CountVectorizer\n",
    "from sklearn.datasets import fetch_20newsgroups"
   ]
  },
  {
   "cell_type": "code",
   "execution_count": 2,
   "id": "c97dbf43",
   "metadata": {},
   "outputs": [],
   "source": [
    "data = fetch_20newsgroups()\n"
   ]
  },
  {
   "cell_type": "code",
   "execution_count": 3,
   "id": "cdd72cba",
   "metadata": {},
   "outputs": [
    {
     "data": {
      "text/plain": [
       "['alt.atheism',\n",
       " 'comp.graphics',\n",
       " 'comp.os.ms-windows.misc',\n",
       " 'comp.sys.ibm.pc.hardware',\n",
       " 'comp.sys.mac.hardware',\n",
       " 'comp.windows.x',\n",
       " 'misc.forsale',\n",
       " 'rec.autos',\n",
       " 'rec.motorcycles',\n",
       " 'rec.sport.baseball',\n",
       " 'rec.sport.hockey',\n",
       " 'sci.crypt',\n",
       " 'sci.electronics',\n",
       " 'sci.med',\n",
       " 'sci.space',\n",
       " 'soc.religion.christian',\n",
       " 'talk.politics.guns',\n",
       " 'talk.politics.mideast',\n",
       " 'talk.politics.misc',\n",
       " 'talk.religion.misc']"
      ]
     },
     "execution_count": 3,
     "metadata": {},
     "output_type": "execute_result"
    }
   ],
   "source": [
    "data.target_names"
   ]
  },
  {
   "cell_type": "code",
   "execution_count": 4,
   "id": "f2db10f5",
   "metadata": {},
   "outputs": [],
   "source": [
    "categories = ['comp.graphics','rec.sport.baseball','sci.electronics']\n",
    "train = fetch_20newsgroups(subset='train', categories=categories)\n",
    "test = fetch_20newsgroups(subset='test', categories=categories)\n"
   ]
  },
  {
   "cell_type": "code",
   "execution_count": 5,
   "id": "845a08a2",
   "metadata": {},
   "outputs": [
    {
     "data": {
      "text/plain": [
       "list"
      ]
     },
     "execution_count": 5,
     "metadata": {},
     "output_type": "execute_result"
    }
   ],
   "source": [
    "type(train.data)"
   ]
  },
  {
   "cell_type": "code",
   "execution_count": 6,
   "id": "0761be74",
   "metadata": {},
   "outputs": [
    {
     "data": {
      "text/plain": [
       "1772"
      ]
     },
     "execution_count": 6,
     "metadata": {},
     "output_type": "execute_result"
    }
   ],
   "source": [
    "len(train.data)"
   ]
  },
  {
   "cell_type": "code",
   "execution_count": 7,
   "id": "3c231304",
   "metadata": {},
   "outputs": [
    {
     "data": {
      "text/plain": [
       "\"From: wellison@kuhub.cc.ukans.edu\\nSubject: Re: electronic odometers\\nArticle-I.D.: kuhub.1993Apr15.153153.49197\\nOrganization: University of Kansas Academic Computing Services\\nLines: 10\\n\\nI had the insturment panel go out in my car (a 1990 Lincoln Contenintal) which\\nis a digital dash. They replaced the whole thing with a 1991 dash (thank god it\\nwas under the warrenty ! :-) Anyway, the odometer was reading the exact milage\\nfrom the old panel. It must have a EEPROM of some sort in it that is up-dated.\\nSeems to me that removing the battery would erase it, but it doesn't. So I\\nguess they swapped the NVM chip (non-volitile memory) and installed it in the\\nnew dash. No, they wouldn't let me have the old dash to tinker with :-(\\n\\n\\n-=-= Wes =-=-\\n\""
      ]
     },
     "execution_count": 7,
     "metadata": {},
     "output_type": "execute_result"
    }
   ],
   "source": [
    "train.data[0]"
   ]
  },
  {
   "cell_type": "code",
   "execution_count": 8,
   "id": "1c409e74",
   "metadata": {},
   "outputs": [
    {
     "data": {
      "text/plain": [
       "2"
      ]
     },
     "execution_count": 8,
     "metadata": {},
     "output_type": "execute_result"
    }
   ],
   "source": [
    "train.target[0]"
   ]
  },
  {
   "cell_type": "code",
   "execution_count": 9,
   "id": "34a36195",
   "metadata": {},
   "outputs": [
    {
     "data": {
      "text/plain": [
       "numpy.ndarray"
      ]
     },
     "execution_count": 9,
     "metadata": {},
     "output_type": "execute_result"
    }
   ],
   "source": [
    "type(train.target)"
   ]
  },
  {
   "cell_type": "code",
   "execution_count": 10,
   "id": "f664831c",
   "metadata": {},
   "outputs": [
    {
     "data": {
      "text/plain": [
       "array([2, 1, 0, ..., 0, 1, 1], dtype=int64)"
      ]
     },
     "execution_count": 10,
     "metadata": {},
     "output_type": "execute_result"
    }
   ],
   "source": [
    "train.target"
   ]
  },
  {
   "cell_type": "code",
   "execution_count": 11,
   "id": "95b2751b",
   "metadata": {},
   "outputs": [
    {
     "name": "stdout",
     "output_type": "stream",
     "text": [
      "Frequency of each category (train): \n",
      "[[  0   1   2]\n",
      " [584 597 591]]\n"
     ]
    }
   ],
   "source": [
    "unique_elements, counts_elements = np.unique(train.target, return_counts=True)\n",
    "print('Frequency of each category (train): ')\n",
    "print(np.array((unique_elements, counts_elements)))"
   ]
  },
  {
   "cell_type": "code",
   "execution_count": 12,
   "id": "b684e63d",
   "metadata": {},
   "outputs": [
    {
     "data": {
      "text/plain": [
       "1179"
      ]
     },
     "execution_count": 12,
     "metadata": {},
     "output_type": "execute_result"
    }
   ],
   "source": [
    "len(test.data)"
   ]
  },
  {
   "cell_type": "code",
   "execution_count": 13,
   "id": "1e6724e2",
   "metadata": {},
   "outputs": [
    {
     "data": {
      "text/plain": [
       "\"From: 9130037@golum.riv.csu.edu.au (CHAN Yin Mei)\\nSubject: help! colour display restriction/limitation\\nOriginator: 9130037@golum.riv.csu.edu.au\\nOrganization: Charles Sturt University - Riverina, Wagga Wagga, NSW, Australia\\nLines: 29\\n\\nhi netters,\\n\\n\\tI'm doing a project which is about image analysis.  Firstly, I\\nhave to find out any restrictions or limitations on the colour display\\non various kind of workstations, they are DECstation, HP, Amiga, Apollo.\\n\\n\\tSecondly, I read from some graphic texts that image is displayed\\nin 24 bites(please point out to me if I got it wrong).  But, the images\\nwhich I will deal with are displayed in 16 bites by the software they\\nare using currently.  So, will there be any problems to display them\\nunder X-windows in the future? Because we are thinking to implement the\\nGUI by X-windows for our project\\n\\n\\n\\tIs there any person here can help me to solve the problem or\\nquery above?  Or, give me some advice or suggestion where I can find\\nthem out. \\n\\n\\tPlease send me an e-mail if there are any.  Thanks in advance.\\n\\n\\n\\n\\t\\t\\t\\t\\t\\tYours\\n\\t\\t\\t\\n\\t\\t\\t\\t\\t\\tChristine Chan\\n\\n\\nmy address : 9130037@golum.riv.csu.edu.au\\n\\t\\t\\t\\t\\t\\t\\n\""
      ]
     },
     "execution_count": 13,
     "metadata": {},
     "output_type": "execute_result"
    }
   ],
   "source": [
    "test.data[100]"
   ]
  },
  {
   "cell_type": "code",
   "execution_count": 14,
   "id": "b70dab46",
   "metadata": {},
   "outputs": [
    {
     "data": {
      "text/plain": [
       "0"
      ]
     },
     "execution_count": 14,
     "metadata": {},
     "output_type": "execute_result"
    }
   ],
   "source": [
    "test.target[100]"
   ]
  },
  {
   "cell_type": "markdown",
   "id": "f9a9ccc2",
   "metadata": {},
   "source": [
    "### Pre-processing data"
   ]
  },
  {
   "cell_type": "code",
   "execution_count": 15,
   "id": "1acc84dd",
   "metadata": {},
   "outputs": [
    {
     "data": {
      "text/plain": [
       "<1772x26378 sparse matrix of type '<class 'numpy.int64'>'\n",
       "\twith 226969 stored elements in Compressed Sparse Row format>"
      ]
     },
     "execution_count": 15,
     "metadata": {},
     "output_type": "execute_result"
    }
   ],
   "source": [
    "count = CountVectorizer()\n",
    "count.fit(train.data)\n",
    "bag_of_words_train = count.transform(train.data)\n",
    "bag_of_words_train"
   ]
  },
  {
   "cell_type": "code",
   "execution_count": 16,
   "id": "fd16f14b",
   "metadata": {},
   "outputs": [
    {
     "data": {
      "text/plain": [
       "<1179x26378 sparse matrix of type '<class 'numpy.int64'>'\n",
       "\twith 154176 stored elements in Compressed Sparse Row format>"
      ]
     },
     "execution_count": 16,
     "metadata": {},
     "output_type": "execute_result"
    }
   ],
   "source": [
    "bag_of_words_test = count.transform(test.data)\n",
    "bag_of_words_test"
   ]
  },
  {
   "cell_type": "code",
   "execution_count": 17,
   "id": "6938b6e2",
   "metadata": {},
   "outputs": [
    {
     "data": {
      "text/plain": [
       "array([[0, 0, 0, ..., 0, 0, 0],\n",
       "       [0, 0, 0, ..., 0, 0, 0],\n",
       "       [0, 0, 0, ..., 0, 0, 0],\n",
       "       ...,\n",
       "       [0, 0, 0, ..., 0, 0, 0],\n",
       "       [0, 0, 0, ..., 0, 0, 0],\n",
       "       [0, 2, 0, ..., 0, 0, 0]], dtype=int64)"
      ]
     },
     "execution_count": 17,
     "metadata": {},
     "output_type": "execute_result"
    }
   ],
   "source": [
    "X_train = bag_of_words_train.toarray()\n",
    "X_train"
   ]
  },
  {
   "cell_type": "code",
   "execution_count": 18,
   "id": "e8d8e254",
   "metadata": {},
   "outputs": [
    {
     "data": {
      "text/plain": [
       "(1772, 26378)"
      ]
     },
     "execution_count": 18,
     "metadata": {},
     "output_type": "execute_result"
    }
   ],
   "source": [
    "X_train.shape"
   ]
  },
  {
   "cell_type": "code",
   "execution_count": 19,
   "id": "f89d49c1",
   "metadata": {},
   "outputs": [
    {
     "data": {
      "text/plain": [
       "array([[0, 0, 0, ..., 0, 0, 0],\n",
       "       [0, 0, 0, ..., 0, 0, 0],\n",
       "       [0, 0, 0, ..., 0, 0, 0],\n",
       "       ...,\n",
       "       [0, 0, 0, ..., 0, 0, 0],\n",
       "       [0, 0, 0, ..., 0, 0, 0],\n",
       "       [0, 0, 0, ..., 0, 0, 0]], dtype=int64)"
      ]
     },
     "execution_count": 19,
     "metadata": {},
     "output_type": "execute_result"
    }
   ],
   "source": [
    "X_test = bag_of_words_test.toarray()\n",
    "X_test"
   ]
  },
  {
   "cell_type": "code",
   "execution_count": 20,
   "id": "c5682fd4",
   "metadata": {},
   "outputs": [
    {
     "data": {
      "text/plain": [
       "(1179, 26378)"
      ]
     },
     "execution_count": 20,
     "metadata": {},
     "output_type": "execute_result"
    }
   ],
   "source": [
    "X_test.shape"
   ]
  },
  {
   "cell_type": "code",
   "execution_count": 21,
   "id": "1fa5c71e",
   "metadata": {},
   "outputs": [],
   "source": [
    "y_train = np.array(train.target)"
   ]
  },
  {
   "cell_type": "code",
   "execution_count": 22,
   "id": "e411bb53",
   "metadata": {},
   "outputs": [
    {
     "data": {
      "text/plain": [
       "(1772,)"
      ]
     },
     "execution_count": 22,
     "metadata": {},
     "output_type": "execute_result"
    }
   ],
   "source": [
    "y_train.shape"
   ]
  },
  {
   "cell_type": "code",
   "execution_count": 23,
   "id": "7faf5f63",
   "metadata": {},
   "outputs": [],
   "source": [
    "y_test =np.array(test.target)"
   ]
  },
  {
   "cell_type": "code",
   "execution_count": 24,
   "id": "c7989b48",
   "metadata": {},
   "outputs": [
    {
     "data": {
      "text/plain": [
       "(1179,)"
      ]
     },
     "execution_count": 24,
     "metadata": {},
     "output_type": "execute_result"
    }
   ],
   "source": [
    "y_test.shape"
   ]
  },
  {
   "cell_type": "markdown",
   "id": "5f3c5050",
   "metadata": {},
   "source": [
    "### Build Model"
   ]
  },
  {
   "cell_type": "code",
   "execution_count": 25,
   "id": "d67d8b25",
   "metadata": {},
   "outputs": [],
   "source": [
    "nb = MultinomialNB()\n",
    "model = nb.fit(X_train, y_train)\n"
   ]
  },
  {
   "cell_type": "code",
   "execution_count": 26,
   "id": "5977a0f0",
   "metadata": {},
   "outputs": [],
   "source": [
    "y_pred = model.predict(X_test)"
   ]
  },
  {
   "cell_type": "code",
   "execution_count": 27,
   "id": "694448c9",
   "metadata": {},
   "outputs": [
    {
     "name": "stdout",
     "output_type": "stream",
     "text": [
      "Score Scikit learn - train:  0.9971783295711061\n"
     ]
    }
   ],
   "source": [
    "print('Score Scikit learn - train: ', model.score(X_train, y_train))"
   ]
  },
  {
   "cell_type": "code",
   "execution_count": 28,
   "id": "9f6784b5",
   "metadata": {},
   "outputs": [
    {
     "name": "stdout",
     "output_type": "stream",
     "text": [
      "Score Scikit learn:  0.9431721798134012\n"
     ]
    }
   ],
   "source": [
    "print('Score Scikit learn: ', model.score(X_test, y_test))"
   ]
  },
  {
   "cell_type": "code",
   "execution_count": 29,
   "id": "ec511cdc",
   "metadata": {},
   "outputs": [
    {
     "name": "stdout",
     "output_type": "stream",
     "text": [
      "Accuracy is  94.31721798134012 %\n"
     ]
    }
   ],
   "source": [
    "from sklearn.metrics import accuracy_score\n",
    "print('Accuracy is ', accuracy_score(y_test, y_pred)*100,'%')"
   ]
  },
  {
   "cell_type": "code",
   "execution_count": 30,
   "id": "c73d7461",
   "metadata": {},
   "outputs": [],
   "source": [
    "# Nhận xét: Cả training và testing đều có score cao\n",
    "# Mô hình không có bị overfit/underfit.\n",
    "# Model có độ chính xác cao"
   ]
  },
  {
   "cell_type": "code",
   "execution_count": 31,
   "id": "0dc6c3bc",
   "metadata": {},
   "outputs": [],
   "source": [
    "from sklearn.metrics import confusion_matrix"
   ]
  },
  {
   "cell_type": "code",
   "execution_count": 32,
   "id": "ad413a0a",
   "metadata": {},
   "outputs": [],
   "source": [
    "cm = confusion_matrix(y_test, y_pred)"
   ]
  },
  {
   "cell_type": "code",
   "execution_count": 33,
   "id": "8d2db035",
   "metadata": {},
   "outputs": [
    {
     "data": {
      "text/plain": [
       "array([[364,   3,  22],\n",
       "       [  4, 392,   1],\n",
       "       [ 37,   0, 356]], dtype=int64)"
      ]
     },
     "execution_count": 33,
     "metadata": {},
     "output_type": "execute_result"
    }
   ],
   "source": [
    "cm"
   ]
  },
  {
   "cell_type": "code",
   "execution_count": 34,
   "id": "92703a6c",
   "metadata": {},
   "outputs": [],
   "source": [
    "import matplotlib.pyplot as plt\n",
    "import seaborn as sns\n"
   ]
  },
  {
   "cell_type": "code",
   "execution_count": 35,
   "id": "e0c3e119",
   "metadata": {},
   "outputs": [
    {
     "data": {
      "text/plain": [
       "<AxesSubplot: >"
      ]
     },
     "execution_count": 35,
     "metadata": {},
     "output_type": "execute_result"
    },
    {
     "data": {
      "image/png": "[encoded data removed]",
      "text/plain": [
       "<Figure size 640x480 with 1 Axes>"
      ]
     },
     "metadata": {},
     "output_type": "display_data"
    }
   ],
   "source": [
    "sns.heatmap(cm, square=True, annot=True, fmt='d', cbar=False,\n",
    "           xticklabels=train.target_names, yticklabels=train.target_names)"
   ]
  },
  {
   "cell_type": "code",
   "execution_count": 36,
   "id": "8f5baca6",
   "metadata": {},
   "outputs": [],
   "source": [
    "from sklearn.metrics import classification_report, roc_auc_score, roc_curve"
   ]
  },
  {
   "cell_type": "code",
   "execution_count": 37,
   "id": "bea98a1e",
   "metadata": {},
   "outputs": [
    {
     "name": "stdout",
     "output_type": "stream",
     "text": [
      "              precision    recall  f1-score   support\n",
      "\n",
      "           0       0.90      0.94      0.92       389\n",
      "           1       0.99      0.99      0.99       397\n",
      "           2       0.94      0.91      0.92       393\n",
      "\n",
      "    accuracy                           0.94      1179\n",
      "   macro avg       0.94      0.94      0.94      1179\n",
      "weighted avg       0.94      0.94      0.94      1179\n",
      "\n"
     ]
    }
   ],
   "source": [
    "print(classification_report(y_test, y_pred))"
   ]
  },
  {
   "cell_type": "code",
   "execution_count": 38,
   "id": "3e470274",
   "metadata": {},
   "outputs": [],
   "source": [
    "# Nhận xét: có precision cao, recall cao"
   ]
  },
  {
   "cell_type": "code",
   "execution_count": 39,
   "id": "03c1cf9d",
   "metadata": {},
   "outputs": [
    {
     "data": {
      "text/plain": [
       "array([[1.00000000e+00, 3.42558816e-40, 3.42505634e-11],\n",
       "       [8.36429377e-15, 3.58304405e-17, 1.00000000e+00],\n",
       "       [6.56547024e-19, 1.55118818e-25, 1.00000000e+00],\n",
       "       ...,\n",
       "       [1.29684570e-32, 3.82855312e-34, 1.00000000e+00],\n",
       "       [3.72461935e-34, 1.72589031e-52, 1.00000000e+00],\n",
       "       [2.44615747e-25, 7.21330233e-70, 1.00000000e+00]])"
      ]
     },
     "execution_count": 39,
     "metadata": {},
     "output_type": "execute_result"
    }
   ],
   "source": [
    "y_prod = model.predict_proba(X_test)\n",
    "y_prod"
   ]
  },
  {
   "cell_type": "code",
   "execution_count": 40,
   "id": "e61f5687",
   "metadata": {},
   "outputs": [],
   "source": [
    "# Dựa trên tất cả các đánh giá  => Model phù hợp"
   ]
  },
  {
   "cell_type": "code",
   "execution_count": 41,
   "id": "de58894e",
   "metadata": {},
   "outputs": [],
   "source": [
    "# Ghi model"
   ]
  },
  {
   "cell_type": "code",
   "execution_count": 42,
   "id": "110c8e70",
   "metadata": {},
   "outputs": [],
   "source": [
    "import pickle\n",
    "# Save to file in the current working directory\n",
    "pkl_filename = 'newgroup_model.pkl'\n",
    "with open(pkl_filename,'wb') as file:\n",
    "    pickle.dump(model, file)\n",
    "# Luu model CounVectorizer (count) theo cach tren"
   ]
  },
  {
   "cell_type": "code",
   "execution_count": 43,
   "id": "75139edd",
   "metadata": {},
   "outputs": [],
   "source": [
    "# Đọc model\n",
    "with open(pkl_filename,'rb') as file:\n",
    "    ham_spam_model = pickle.load(file)\n",
    "    "
   ]
  },
  {
   "cell_type": "code",
   "execution_count": null,
   "id": "c27d9a82",
   "metadata": {},
   "outputs": [],
   "source": []
  },
  {
   "cell_type": "markdown",
   "id": "38fd4116",
   "metadata": {},
   "source": [
    "#### Theo bạn, model Naive Bayes có quan tâm tới trật tự các từ trong 1 mẫu câu hay không? Nếu có/ nếu không có, giải thích xem điều này có tác hại như thế nào, hay nói cách khác mô hình Naive Bayes có điểm yếu như thế nào từ nhận định này?\n",
    "\n",
    "#### =>  model Naive Bayes Không quan tâm tới trật tự các từ.\n",
    "#### => tác hại: gây hưởng nghiêm trọng đến phân tích ngữ nghĩa của câu khi thay đổi trật từ của câu."
   ]
  },
  {
   "cell_type": "code",
   "execution_count": null,
   "id": "03fe4830",
   "metadata": {},
   "outputs": [],
   "source": []
  }
 ],
 "metadata": {
  "kernelspec": {
   "display_name": "Python 3 (ipykernel)",
   "language": "python",
   "name": "python3"
  },
  "language_info": {
   "codemirror_mode": {
    "name": "ipython",
    "version": 3
   },
   "file_extension": ".py",
   "mimetype": "text/x-python",
   "name": "python",
   "nbconvert_exporter": "python",
   "pygments_lexer": "ipython3",
   "version": "3.9.12"
  }
 },
 "nbformat": 4,
 "nbformat_minor": 5
}
