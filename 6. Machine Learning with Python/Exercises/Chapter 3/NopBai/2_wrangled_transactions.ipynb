{
 "cells": [
  {
   "cell_type": "code",
   "execution_count": 1,
   "id": "bcbf9834",
   "metadata": {},
   "outputs": [],
   "source": [
    "import numpy as np\n",
    "import pandas as pd\n",
    "import matplotlib.pyplot as plt\n",
    "from sklearn.model_selection import train_test_split"
   ]
  },
  {
   "cell_type": "code",
   "execution_count": 2,
   "id": "57384108",
   "metadata": {},
   "outputs": [
    {
     "name": "stdout",
     "output_type": "stream",
     "text": [
      "<class 'pandas.core.frame.DataFrame'>\n",
      "RangeIndex: 738 entries, 0 to 737\n",
      "Data columns (total 7 columns):\n",
      " #   Column                     Non-Null Count  Dtype  \n",
      "---  ------                     --------------  -----  \n",
      " 0   CustomerID                 738 non-null    float64\n",
      " 1   2010 revenue               738 non-null    float64\n",
      " 2   days_since_first_purchase  738 non-null    float64\n",
      " 3   days_since_last_purchase   738 non-null    float64\n",
      " 4   number_of_purchases        738 non-null    float64\n",
      " 5   avg_order_cost             738 non-null    float64\n",
      " 6   2011 revenue               738 non-null    float64\n",
      "dtypes: float64(7)\n",
      "memory usage: 40.5 KB\n"
     ]
    }
   ],
   "source": [
    "data = pd.read_csv('wrangled_transactions.csv', sep=\",\")\n",
    "data.info()"
   ]
  },
  {
   "cell_type": "code",
   "execution_count": 3,
   "id": "56fd636a",
   "metadata": {},
   "outputs": [
    {
     "data": {
      "text/plain": [
       "(738, 7)"
      ]
     },
     "execution_count": 3,
     "metadata": {},
     "output_type": "execute_result"
    }
   ],
   "source": [
    "data.shape"
   ]
  },
  {
   "cell_type": "code",
   "execution_count": 4,
   "id": "72bae074",
   "metadata": {},
   "outputs": [
    {
     "data": {
      "text/html": [
       "<div>\n",
       "<style scoped>\n",
       "    .dataframe tbody tr th:only-of-type {\n",
       "        vertical-align: middle;\n",
       "    }\n",
       "\n",
       "    .dataframe tbody tr th {\n",
       "        vertical-align: top;\n",
       "    }\n",
       "\n",
       "    .dataframe thead th {\n",
       "        text-align: right;\n",
       "    }\n",
       "</style>\n",
       "<table border=\"1\" class=\"dataframe\">\n",
       "  <thead>\n",
       "    <tr style=\"text-align: right;\">\n",
       "      <th></th>\n",
       "      <th>CustomerID</th>\n",
       "      <th>2010 revenue</th>\n",
       "      <th>days_since_first_purchase</th>\n",
       "      <th>days_since_last_purchase</th>\n",
       "      <th>number_of_purchases</th>\n",
       "      <th>avg_order_cost</th>\n",
       "      <th>2011 revenue</th>\n",
       "    </tr>\n",
       "  </thead>\n",
       "  <tbody>\n",
       "    <tr>\n",
       "      <th>0</th>\n",
       "      <td>12347.0</td>\n",
       "      <td>711.79</td>\n",
       "      <td>23.0</td>\n",
       "      <td>23.0</td>\n",
       "      <td>1.0</td>\n",
       "      <td>711.79</td>\n",
       "      <td>3598.21</td>\n",
       "    </tr>\n",
       "    <tr>\n",
       "      <th>1</th>\n",
       "      <td>12348.0</td>\n",
       "      <td>892.80</td>\n",
       "      <td>14.0</td>\n",
       "      <td>14.0</td>\n",
       "      <td>1.0</td>\n",
       "      <td>892.80</td>\n",
       "      <td>904.44</td>\n",
       "    </tr>\n",
       "    <tr>\n",
       "      <th>2</th>\n",
       "      <td>12370.0</td>\n",
       "      <td>1868.02</td>\n",
       "      <td>16.0</td>\n",
       "      <td>13.0</td>\n",
       "      <td>2.0</td>\n",
       "      <td>934.01</td>\n",
       "      <td>1677.67</td>\n",
       "    </tr>\n",
       "    <tr>\n",
       "      <th>3</th>\n",
       "      <td>12377.0</td>\n",
       "      <td>1001.52</td>\n",
       "      <td>10.0</td>\n",
       "      <td>10.0</td>\n",
       "      <td>1.0</td>\n",
       "      <td>1001.52</td>\n",
       "      <td>626.60</td>\n",
       "    </tr>\n",
       "    <tr>\n",
       "      <th>4</th>\n",
       "      <td>12383.0</td>\n",
       "      <td>600.72</td>\n",
       "      <td>8.0</td>\n",
       "      <td>8.0</td>\n",
       "      <td>1.0</td>\n",
       "      <td>600.72</td>\n",
       "      <td>1249.84</td>\n",
       "    </tr>\n",
       "  </tbody>\n",
       "</table>\n",
       "</div>"
      ],
      "text/plain": [
       "   CustomerID  2010 revenue  days_since_first_purchase  \\\n",
       "0     12347.0        711.79                       23.0   \n",
       "1     12348.0        892.80                       14.0   \n",
       "2     12370.0       1868.02                       16.0   \n",
       "3     12377.0       1001.52                       10.0   \n",
       "4     12383.0        600.72                        8.0   \n",
       "\n",
       "   days_since_last_purchase  number_of_purchases  avg_order_cost  2011 revenue  \n",
       "0                      23.0                  1.0          711.79       3598.21  \n",
       "1                      14.0                  1.0          892.80        904.44  \n",
       "2                      13.0                  2.0          934.01       1677.67  \n",
       "3                      10.0                  1.0         1001.52        626.60  \n",
       "4                       8.0                  1.0          600.72       1249.84  "
      ]
     },
     "execution_count": 4,
     "metadata": {},
     "output_type": "execute_result"
    }
   ],
   "source": [
    "data.head()"
   ]
  },
  {
   "cell_type": "code",
   "execution_count": 5,
   "id": "cf201cc8",
   "metadata": {},
   "outputs": [
    {
     "data": {
      "text/html": [
       "<div>\n",
       "<style scoped>\n",
       "    .dataframe tbody tr th:only-of-type {\n",
       "        vertical-align: middle;\n",
       "    }\n",
       "\n",
       "    .dataframe tbody tr th {\n",
       "        vertical-align: top;\n",
       "    }\n",
       "\n",
       "    .dataframe thead th {\n",
       "        text-align: right;\n",
       "    }\n",
       "</style>\n",
       "<table border=\"1\" class=\"dataframe\">\n",
       "  <thead>\n",
       "    <tr style=\"text-align: right;\">\n",
       "      <th></th>\n",
       "      <th>CustomerID</th>\n",
       "      <th>2010 revenue</th>\n",
       "      <th>days_since_first_purchase</th>\n",
       "      <th>days_since_last_purchase</th>\n",
       "      <th>number_of_purchases</th>\n",
       "      <th>avg_order_cost</th>\n",
       "      <th>2011 revenue</th>\n",
       "    </tr>\n",
       "  </thead>\n",
       "  <tbody>\n",
       "    <tr>\n",
       "      <th>733</th>\n",
       "      <td>18229.0</td>\n",
       "      <td>653.20</td>\n",
       "      <td>29.0</td>\n",
       "      <td>22.0</td>\n",
       "      <td>2.0</td>\n",
       "      <td>326.60</td>\n",
       "      <td>6623.70</td>\n",
       "    </tr>\n",
       "    <tr>\n",
       "      <th>734</th>\n",
       "      <td>18239.0</td>\n",
       "      <td>438.10</td>\n",
       "      <td>28.0</td>\n",
       "      <td>28.0</td>\n",
       "      <td>1.0</td>\n",
       "      <td>438.10</td>\n",
       "      <td>1123.51</td>\n",
       "    </tr>\n",
       "    <tr>\n",
       "      <th>735</th>\n",
       "      <td>18245.0</td>\n",
       "      <td>365.73</td>\n",
       "      <td>11.0</td>\n",
       "      <td>11.0</td>\n",
       "      <td>1.0</td>\n",
       "      <td>365.73</td>\n",
       "      <td>2201.33</td>\n",
       "    </tr>\n",
       "    <tr>\n",
       "      <th>736</th>\n",
       "      <td>18259.0</td>\n",
       "      <td>376.30</td>\n",
       "      <td>22.0</td>\n",
       "      <td>22.0</td>\n",
       "      <td>1.0</td>\n",
       "      <td>376.30</td>\n",
       "      <td>1962.30</td>\n",
       "    </tr>\n",
       "    <tr>\n",
       "      <th>737</th>\n",
       "      <td>18260.0</td>\n",
       "      <td>230.70</td>\n",
       "      <td>14.0</td>\n",
       "      <td>14.0</td>\n",
       "      <td>1.0</td>\n",
       "      <td>230.70</td>\n",
       "      <td>2412.50</td>\n",
       "    </tr>\n",
       "  </tbody>\n",
       "</table>\n",
       "</div>"
      ],
      "text/plain": [
       "     CustomerID  2010 revenue  days_since_first_purchase  \\\n",
       "733     18229.0        653.20                       29.0   \n",
       "734     18239.0        438.10                       28.0   \n",
       "735     18245.0        365.73                       11.0   \n",
       "736     18259.0        376.30                       22.0   \n",
       "737     18260.0        230.70                       14.0   \n",
       "\n",
       "     days_since_last_purchase  number_of_purchases  avg_order_cost  \\\n",
       "733                      22.0                  2.0          326.60   \n",
       "734                      28.0                  1.0          438.10   \n",
       "735                      11.0                  1.0          365.73   \n",
       "736                      22.0                  1.0          376.30   \n",
       "737                      14.0                  1.0          230.70   \n",
       "\n",
       "     2011 revenue  \n",
       "733       6623.70  \n",
       "734       1123.51  \n",
       "735       2201.33  \n",
       "736       1962.30  \n",
       "737       2412.50  "
      ]
     },
     "execution_count": 5,
     "metadata": {},
     "output_type": "execute_result"
    }
   ],
   "source": [
    "data.tail()"
   ]
  },
  {
   "cell_type": "code",
   "execution_count": 6,
   "id": "b2496ca7",
   "metadata": {},
   "outputs": [
    {
     "data": {
      "text/plain": [
       "(738, 5)"
      ]
     },
     "execution_count": 6,
     "metadata": {},
     "output_type": "execute_result"
    }
   ],
   "source": [
    "# The column that we will be making predictions with\n",
    "inputs = data.iloc[:,1:-1]\n",
    "inputs.shape"
   ]
  },
  {
   "cell_type": "code",
   "execution_count": 7,
   "id": "4aa07ab5",
   "metadata": {},
   "outputs": [
    {
     "data": {
      "text/html": [
       "<div>\n",
       "<style scoped>\n",
       "    .dataframe tbody tr th:only-of-type {\n",
       "        vertical-align: middle;\n",
       "    }\n",
       "\n",
       "    .dataframe tbody tr th {\n",
       "        vertical-align: top;\n",
       "    }\n",
       "\n",
       "    .dataframe thead th {\n",
       "        text-align: right;\n",
       "    }\n",
       "</style>\n",
       "<table border=\"1\" class=\"dataframe\">\n",
       "  <thead>\n",
       "    <tr style=\"text-align: right;\">\n",
       "      <th></th>\n",
       "      <th>2010 revenue</th>\n",
       "      <th>days_since_first_purchase</th>\n",
       "      <th>days_since_last_purchase</th>\n",
       "      <th>number_of_purchases</th>\n",
       "      <th>avg_order_cost</th>\n",
       "    </tr>\n",
       "  </thead>\n",
       "  <tbody>\n",
       "    <tr>\n",
       "      <th>0</th>\n",
       "      <td>711.79</td>\n",
       "      <td>23.0</td>\n",
       "      <td>23.0</td>\n",
       "      <td>1.0</td>\n",
       "      <td>711.79</td>\n",
       "    </tr>\n",
       "    <tr>\n",
       "      <th>1</th>\n",
       "      <td>892.80</td>\n",
       "      <td>14.0</td>\n",
       "      <td>14.0</td>\n",
       "      <td>1.0</td>\n",
       "      <td>892.80</td>\n",
       "    </tr>\n",
       "    <tr>\n",
       "      <th>2</th>\n",
       "      <td>1868.02</td>\n",
       "      <td>16.0</td>\n",
       "      <td>13.0</td>\n",
       "      <td>2.0</td>\n",
       "      <td>934.01</td>\n",
       "    </tr>\n",
       "    <tr>\n",
       "      <th>3</th>\n",
       "      <td>1001.52</td>\n",
       "      <td>10.0</td>\n",
       "      <td>10.0</td>\n",
       "      <td>1.0</td>\n",
       "      <td>1001.52</td>\n",
       "    </tr>\n",
       "    <tr>\n",
       "      <th>4</th>\n",
       "      <td>600.72</td>\n",
       "      <td>8.0</td>\n",
       "      <td>8.0</td>\n",
       "      <td>1.0</td>\n",
       "      <td>600.72</td>\n",
       "    </tr>\n",
       "    <tr>\n",
       "      <th>...</th>\n",
       "      <td>...</td>\n",
       "      <td>...</td>\n",
       "      <td>...</td>\n",
       "      <td>...</td>\n",
       "      <td>...</td>\n",
       "    </tr>\n",
       "    <tr>\n",
       "      <th>733</th>\n",
       "      <td>653.20</td>\n",
       "      <td>29.0</td>\n",
       "      <td>22.0</td>\n",
       "      <td>2.0</td>\n",
       "      <td>326.60</td>\n",
       "    </tr>\n",
       "    <tr>\n",
       "      <th>734</th>\n",
       "      <td>438.10</td>\n",
       "      <td>28.0</td>\n",
       "      <td>28.0</td>\n",
       "      <td>1.0</td>\n",
       "      <td>438.10</td>\n",
       "    </tr>\n",
       "    <tr>\n",
       "      <th>735</th>\n",
       "      <td>365.73</td>\n",
       "      <td>11.0</td>\n",
       "      <td>11.0</td>\n",
       "      <td>1.0</td>\n",
       "      <td>365.73</td>\n",
       "    </tr>\n",
       "    <tr>\n",
       "      <th>736</th>\n",
       "      <td>376.30</td>\n",
       "      <td>22.0</td>\n",
       "      <td>22.0</td>\n",
       "      <td>1.0</td>\n",
       "      <td>376.30</td>\n",
       "    </tr>\n",
       "    <tr>\n",
       "      <th>737</th>\n",
       "      <td>230.70</td>\n",
       "      <td>14.0</td>\n",
       "      <td>14.0</td>\n",
       "      <td>1.0</td>\n",
       "      <td>230.70</td>\n",
       "    </tr>\n",
       "  </tbody>\n",
       "</table>\n",
       "<p>738 rows × 5 columns</p>\n",
       "</div>"
      ],
      "text/plain": [
       "     2010 revenue  days_since_first_purchase  days_since_last_purchase  \\\n",
       "0          711.79                       23.0                      23.0   \n",
       "1          892.80                       14.0                      14.0   \n",
       "2         1868.02                       16.0                      13.0   \n",
       "3         1001.52                       10.0                      10.0   \n",
       "4          600.72                        8.0                       8.0   \n",
       "..            ...                        ...                       ...   \n",
       "733        653.20                       29.0                      22.0   \n",
       "734        438.10                       28.0                      28.0   \n",
       "735        365.73                       11.0                      11.0   \n",
       "736        376.30                       22.0                      22.0   \n",
       "737        230.70                       14.0                      14.0   \n",
       "\n",
       "     number_of_purchases  avg_order_cost  \n",
       "0                    1.0          711.79  \n",
       "1                    1.0          892.80  \n",
       "2                    2.0          934.01  \n",
       "3                    1.0         1001.52  \n",
       "4                    1.0          600.72  \n",
       "..                   ...             ...  \n",
       "733                  2.0          326.60  \n",
       "734                  1.0          438.10  \n",
       "735                  1.0          365.73  \n",
       "736                  1.0          376.30  \n",
       "737                  1.0          230.70  \n",
       "\n",
       "[738 rows x 5 columns]"
      ]
     },
     "execution_count": 7,
     "metadata": {},
     "output_type": "execute_result"
    }
   ],
   "source": [
    "inputs"
   ]
  },
  {
   "cell_type": "code",
   "execution_count": 8,
   "id": "f4856858",
   "metadata": {},
   "outputs": [
    {
     "data": {
      "text/plain": [
       "(738,)"
      ]
     },
     "execution_count": 8,
     "metadata": {},
     "output_type": "execute_result"
    }
   ],
   "source": [
    "# The column that we want to predict\n",
    "outputs = data['2011 revenue']\n",
    "outputs = np.array(outputs)\n",
    "outputs.shape"
   ]
  },
  {
   "cell_type": "code",
   "execution_count": 9,
   "id": "2d76b45e",
   "metadata": {},
   "outputs": [
    {
     "data": {
      "text/plain": [
       "array([3.598210e+03, 9.044400e+02, 1.677670e+03, 6.266000e+02,\n",
       "       1.249840e+03, 1.430000e+02, 2.338710e+03, 3.357760e+03,\n",
       "       1.621380e+03, 5.223000e+02, 2.468900e+03, 5.713500e+03,\n",
       "       4.940810e+03, 6.803970e+03, 4.804980e+03, 1.183550e+03,\n",
       "       1.251923e+04, 1.137096e+04, 7.458900e+03, 4.619100e+02,\n",
       "       6.425520e+03, 7.772500e+02, 2.324240e+03, 1.230602e+04,\n",
       "       2.529220e+03, 3.588300e+03, 3.337280e+03, 1.740718e+04,\n",
       "       1.166943e+04, 1.121293e+04, 7.413490e+03, 8.558000e+02,\n",
       "       6.010290e+03, 2.516470e+03, 8.420830e+03, 3.925500e+03,\n",
       "       5.124600e+03, 2.369530e+03, 2.438820e+03, 1.782401e+04,\n",
       "       3.489740e+03, 1.740000e+02, 5.840340e+03, 3.733200e+03,\n",
       "       1.867420e+03, 4.136800e+02, 3.542500e+02, 1.319720e+03,\n",
       "       2.072500e+02, 2.923400e+02, 4.853970e+03, 3.516360e+03,\n",
       "       3.674030e+03, 1.403760e+03, 2.214400e+02, 4.947000e+01,\n",
       "       1.385710e+03, 2.066010e+03, 1.640000e+02, 1.589929e+04,\n",
       "       1.670360e+03, 4.187896e+04, 4.251500e+02, 3.175600e+02,\n",
       "       1.299950e+03, 1.490830e+03, 1.075372e+04, 6.485580e+03,\n",
       "       6.721610e+03, 3.331000e+02, 5.298900e+03, 3.282600e+03,\n",
       "       2.459030e+03, 5.472000e+03, 8.650000e+02, 3.717400e+02,\n",
       "       4.769100e+02, 2.870910e+03, 4.636990e+03, 3.792000e+03,\n",
       "       4.155500e+02, 1.174678e+04, 2.597060e+04, 7.902420e+03,\n",
       "       2.923800e+02, 1.703640e+03, 5.705520e+03, 5.750170e+03,\n",
       "       9.967200e+02, 1.187299e+04, 5.967600e+02, 2.610010e+03,\n",
       "       1.876200e+03, 7.691600e+02, 2.642100e+02, 3.235200e+02,\n",
       "       3.397720e+03, 5.920600e+02, 6.668400e+02, 1.877100e+02,\n",
       "       1.401060e+03, 5.015470e+03, 3.016690e+03, 9.105320e+03,\n",
       "       5.572760e+03, 1.086720e+03, 3.492500e+02, 5.257120e+03,\n",
       "       2.713520e+03, 6.095800e+02, 4.395800e+02, 1.738100e+02,\n",
       "       3.899190e+03, 4.684060e+03, 1.864660e+03, 2.035630e+03,\n",
       "       9.294470e+03, 6.471850e+03, 2.882770e+03, 4.848000e+02,\n",
       "       3.129500e+02, 2.508584e+04, 4.547810e+03, 3.304340e+03,\n",
       "       2.709830e+03, 3.654000e+02, 8.460710e+03, 4.793970e+03,\n",
       "       3.822500e+02, 7.586390e+03, 1.019420e+03, 1.179440e+03,\n",
       "       1.523200e+02, 1.945500e+02, 1.574000e+02, 3.320950e+03,\n",
       "       3.397930e+03, 1.783500e+02, 5.586880e+03, 5.506400e+02,\n",
       "       2.554300e+02, 6.368190e+03, 3.023400e+02, 4.800830e+03,\n",
       "       8.686500e+02, 1.327280e+03, 1.488000e+02, 7.862800e+02,\n",
       "       6.185930e+03, 3.937200e+02, 5.827100e+02, 7.442500e+02,\n",
       "       4.185120e+03, 2.471700e+03, 1.478100e+04, 2.474210e+03,\n",
       "       2.026400e+02, 2.542800e+02, 1.794990e+03, 4.536200e+02,\n",
       "       3.075050e+03, 4.536600e+02, 9.350000e+02, 7.500080e+03,\n",
       "       2.781330e+03, 3.121970e+03, 1.693460e+03, 4.017840e+03,\n",
       "       3.015680e+03, 3.834600e+02, 5.132400e+02, 8.736350e+03,\n",
       "       1.443210e+03, 2.274070e+03, 7.657100e+02, 3.599710e+03,\n",
       "       1.741840e+03, 3.587470e+03, 1.683590e+03, 1.471791e+04,\n",
       "       2.356170e+03, 3.540000e+01, 1.333350e+03, 1.021690e+03,\n",
       "       1.378223e+04, 5.292040e+03, 5.266380e+03, 9.020730e+03,\n",
       "       9.131300e+02, 5.110000e+02, 5.585400e+02, 3.258300e+03,\n",
       "       3.475180e+03, 2.720650e+03, 2.339990e+03, 1.406920e+03,\n",
       "       3.743260e+03, 2.949570e+03, 3.524600e+02, 4.499790e+03,\n",
       "       8.273700e+02, 4.173500e+02, 3.852270e+03, 4.342840e+03,\n",
       "       6.802000e+02, 1.600890e+03, 1.623720e+03, 1.886680e+03,\n",
       "       3.194200e+02, 3.015600e+02, 2.116770e+03, 4.452000e+02,\n",
       "       3.158340e+03, 1.537090e+03, 6.816400e+02, 3.536380e+03,\n",
       "       2.212610e+03, 2.204780e+03, 2.232060e+03, 5.342800e+02,\n",
       "       2.900040e+03, 4.429120e+03, 3.199030e+03, 3.776400e+02,\n",
       "       3.804100e+03, 1.340840e+03, 1.730650e+03, 1.279780e+03,\n",
       "       5.025100e+03, 9.339600e+02, 1.700980e+03, 1.116700e+03,\n",
       "       2.730000e+02, 6.968600e+02, 1.892650e+03, 1.656960e+03,\n",
       "       1.418500e+02, 1.071230e+03, 2.137300e+02, 2.344700e+02,\n",
       "       1.791100e+03, 4.855290e+03, 1.742470e+03, 1.592230e+03,\n",
       "       3.869900e+03, 7.583330e+03, 7.102500e+02, 1.516220e+03,\n",
       "       3.375930e+03, 9.025300e+02, 1.829600e+03, 1.931710e+03,\n",
       "       1.240320e+03, 5.128100e+02, 1.248300e+02, 1.090999e+04,\n",
       "       1.581150e+03, 1.482660e+03, 3.141000e+02, 2.307950e+03,\n",
       "       3.358700e+02, 7.243100e+03, 1.362910e+03, 2.587871e+04,\n",
       "       1.067920e+03, 5.185890e+03, 1.784330e+03, 2.973440e+03,\n",
       "       7.073100e+02, 4.606940e+03, 2.240510e+03, 6.873000e+02,\n",
       "       5.813490e+03, 7.305500e+02, 3.188400e+03, 9.050400e+02,\n",
       "       8.749800e+02, 9.453300e+02, 2.292970e+03, 1.032774e+04,\n",
       "       6.053400e+02, 6.993670e+03, 3.119890e+03, 1.907440e+03,\n",
       "       1.830480e+03, 3.122200e+02, 2.900600e+03, 7.363650e+03,\n",
       "       1.500000e+01, 1.428622e+04, 3.819800e+02, 1.163530e+03,\n",
       "       2.115500e+02, 1.205020e+03, 9.242400e+02, 2.540410e+03,\n",
       "       9.265600e+02, 7.413330e+03, 5.861980e+03, 1.722400e+02,\n",
       "       1.632000e+02, 1.010110e+03, 5.846160e+03, 2.319800e+02,\n",
       "       3.849600e+02, 1.709180e+03, 6.342160e+03, 1.170110e+03,\n",
       "       4.411600e+02, 2.188500e+03, 3.465710e+03, 5.790600e+02,\n",
       "       1.859668e+04, 5.561080e+03, 2.853500e+02, 7.787800e+02,\n",
       "       8.924460e+03, 7.536600e+02, 3.936500e+02, 3.973290e+03,\n",
       "       1.752000e+02, 2.152500e+02, 1.424500e+02, 1.278980e+03,\n",
       "       8.506100e+02, 1.678003e+04, 7.293200e+02, 6.057540e+03,\n",
       "       5.231100e+02, 8.047200e+02, 5.113400e+02, 1.552870e+03,\n",
       "       3.281500e+02, 1.390270e+03, 2.395320e+03, 2.140870e+03,\n",
       "       7.723620e+03, 4.019400e+03, 4.402300e+03, 2.672000e+03,\n",
       "       4.396980e+03, 5.712500e+02, 6.351100e+02, 1.685440e+03,\n",
       "       4.653700e+02, 2.400960e+03, 7.722650e+03, 4.969700e+02,\n",
       "       1.878810e+03, 2.211830e+03, 1.460160e+03, 3.388400e+02,\n",
       "       1.196550e+03, 1.595880e+03, 1.035970e+03, 2.040000e+02,\n",
       "       6.486770e+03, 1.033132e+04, 1.624910e+03, 1.233968e+04,\n",
       "       9.455530e+03, 1.980000e+01, 1.344472e+04, 2.254750e+03,\n",
       "       5.119900e+02, 2.208380e+03, 3.673770e+03, 1.224580e+03,\n",
       "       3.192170e+03, 1.573900e+02, 4.187470e+03, 3.815350e+03,\n",
       "       1.130250e+03, 3.100880e+03, 1.121000e+02, 3.354010e+03,\n",
       "       5.688000e+02, 1.004270e+03, 5.540110e+03, 1.145320e+03,\n",
       "       1.003380e+03, 9.318550e+03, 1.128690e+03, 2.551060e+03,\n",
       "       9.748970e+03, 1.578830e+03, 2.578400e+02, 3.060000e+02,\n",
       "       7.179000e+02, 1.391560e+03, 8.547900e+02, 1.506000e+02,\n",
       "       5.632070e+03, 3.013560e+03, 1.855500e+02, 5.717100e+02,\n",
       "       3.642110e+03, 1.560200e+02, 4.482770e+03, 2.124960e+03,\n",
       "       2.377730e+03, 1.558000e+02, 6.815600e+02, 2.981300e+02,\n",
       "       5.157680e+03, 1.485120e+03, 1.779820e+03, 4.452700e+02,\n",
       "       1.645160e+03, 3.268558e+04, 2.744550e+03, 1.310626e+04,\n",
       "       1.054920e+03, 8.745500e+02, 4.786500e+02, 3.255420e+03,\n",
       "       3.461400e+02, 1.450400e+02, 1.489500e+02, 1.068100e+02,\n",
       "       8.671900e+02, 1.295640e+03, 3.691700e+02, 1.336690e+03,\n",
       "       1.449540e+03, 3.843880e+03, 6.894500e+02, 3.267500e+02,\n",
       "       2.714970e+03, 1.337800e+03, 7.974300e+02, 2.226580e+03,\n",
       "       1.554370e+03, 2.974000e+02, 2.956610e+03, 3.415760e+04,\n",
       "       1.126490e+03, 3.567140e+03, 8.506710e+03, 5.545600e+02,\n",
       "       1.341610e+03, 9.060600e+02, 2.649300e+03, 9.796400e+02,\n",
       "       9.441300e+02, 1.575030e+03, 5.787000e+02, 3.345600e+02,\n",
       "       6.010400e+02, 1.613590e+03, 3.496710e+03, 1.659600e+03,\n",
       "       1.609220e+03, 4.999260e+03, 4.150000e+02, 3.511800e+03,\n",
       "       3.699260e+03, 4.552920e+03, 4.222000e+02, 2.613380e+03,\n",
       "       6.981200e+02, 3.892800e+02, 2.330220e+03, 4.661200e+02,\n",
       "       1.633000e+02, 2.245660e+03, 4.606190e+03, 1.296020e+03,\n",
       "       1.870240e+03, 5.641700e+02, 2.630690e+03, 3.308620e+03,\n",
       "       6.165710e+03, 1.171960e+03, 6.335800e+02, 4.076600e+02,\n",
       "       2.754660e+03, 8.780000e+01, 8.315000e+01, 3.265908e+04,\n",
       "       4.651300e+02, 1.309200e+03, 1.370970e+03, 3.288840e+03,\n",
       "       5.460500e+02, 1.950060e+03, 9.438400e+02, 1.113800e+02,\n",
       "       7.208100e+02, 1.222501e+04, 1.151770e+03, 6.415600e+02,\n",
       "       4.877500e+02, 1.744310e+03, 2.844400e+02, 4.110380e+03,\n",
       "       3.002940e+03, 7.457940e+03, 5.092300e+02, 1.295000e+02,\n",
       "       2.692890e+03, 5.310000e+01, 1.609920e+03, 3.738700e+02,\n",
       "       8.197040e+03, 3.692290e+03, 2.697850e+03, 4.739610e+03,\n",
       "       4.921540e+03, 1.290327e+04, 1.958070e+03, 1.436830e+03,\n",
       "       6.164590e+03, 3.551130e+03, 1.359690e+03, 3.931290e+03,\n",
       "       4.538200e+02, 1.252450e+03, 1.807810e+03, 6.386020e+03,\n",
       "       5.079000e+02, 1.463760e+03, 9.941890e+03, 1.701910e+03,\n",
       "       2.458200e+02, 6.235810e+03, 3.412800e+02, 1.237450e+03,\n",
       "       9.910000e+01, 1.604211e+04, 3.385500e+02, 4.965980e+03,\n",
       "       1.487000e+02, 2.808600e+02, 5.774400e+02, 3.927300e+02,\n",
       "       1.111010e+03, 3.415570e+03, 2.848030e+03, 7.996300e+02,\n",
       "       3.781800e+02, 2.056440e+03, 6.697110e+03, 3.249500e+02,\n",
       "       2.731350e+03, 4.239560e+03, 4.065650e+03, 1.006560e+03,\n",
       "       1.738280e+03, 3.295700e+02, 1.767760e+03, 4.530800e+03,\n",
       "       1.329420e+03, 3.591610e+03, 6.828100e+02, 6.336620e+03,\n",
       "       9.137900e+02, 1.968000e+02, 1.216800e+02, 7.223400e+02,\n",
       "       7.770700e+02, 2.372680e+03, 1.026400e+02, 4.254690e+03,\n",
       "       2.126500e+03, 6.895800e+02, 8.262100e+02, 1.982750e+03,\n",
       "       3.534310e+03, 7.797000e+02, 7.921500e+02, 9.241500e+02,\n",
       "       4.515300e+02, 8.531800e+02, 4.687900e+02, 8.440000e+01,\n",
       "       1.960590e+03, 1.571800e+02, 1.585020e+03, 1.000000e+01,\n",
       "       1.705600e+02, 1.537510e+03, 2.165380e+03, 8.980700e+02,\n",
       "       1.354440e+03, 2.880750e+03, 1.339500e+02, 7.970700e+02,\n",
       "       1.550140e+03, 8.784000e+02, 2.942310e+03, 2.081600e+02,\n",
       "       7.898500e+02, 3.374560e+03, 7.821800e+03, 2.217300e+02,\n",
       "       9.845000e+02, 8.414100e+02, 1.286170e+03, 1.528970e+03,\n",
       "       8.307310e+03, 6.183340e+03, 7.497000e+02, 8.631800e+02,\n",
       "       5.876330e+03, 1.833600e+02, 2.677600e+02, 2.428720e+03,\n",
       "       1.191500e+02, 3.262600e+02, 9.719000e+02, 2.903900e+02,\n",
       "       3.315840e+03, 1.455000e+02, 6.933300e+03, 1.705790e+03,\n",
       "       2.173880e+03, 1.498320e+03, 8.103000e+02, 3.852300e+03,\n",
       "       4.679800e+02, 1.636290e+04, 1.531600e+02, 1.836600e+03,\n",
       "       3.516800e+02, 5.521300e+02, 9.466700e+02, 3.231470e+03,\n",
       "       1.508720e+03, 9.573000e+02, 2.084360e+03, 6.318900e+02,\n",
       "       3.813530e+03, 1.559500e+02, 3.325680e+03, 1.688700e+02,\n",
       "       1.025826e+04, 1.819370e+03, 3.264440e+03, 2.435310e+03,\n",
       "       3.740030e+03, 2.448000e+02, 6.513000e+02, 1.140500e+03,\n",
       "       1.575470e+03, 7.573900e+02, 1.962840e+03, 2.639510e+03,\n",
       "       1.178530e+03, 2.503800e+02, 1.935516e+04, 1.086980e+03,\n",
       "       1.474663e+04, 2.082830e+03, 2.728510e+03, 4.070050e+03,\n",
       "       3.976800e+02, 2.110110e+03, 1.002666e+04, 1.093940e+03,\n",
       "       1.513900e+03, 1.265542e+04, 2.431290e+03, 1.944880e+03,\n",
       "       5.039490e+03, 1.150500e+02, 1.128910e+03, 1.566000e+03,\n",
       "       5.832500e+02, 2.832450e+03, 1.184840e+03, 4.160410e+03,\n",
       "       5.146100e+02, 2.035000e+01, 2.724750e+03, 7.236600e+02,\n",
       "       1.843740e+03, 3.851850e+04, 8.039000e+02, 2.553834e+04,\n",
       "       3.598810e+03, 2.775280e+03, 9.446490e+03, 2.138600e+02,\n",
       "       1.567950e+03, 1.644010e+03, 3.928300e+02, 6.966200e+02,\n",
       "       1.251300e+02, 6.039600e+02, 1.319800e+02, 4.060900e+02,\n",
       "       2.160000e+01, 1.935500e+02, 2.303700e+02, 3.468190e+03,\n",
       "       2.683500e+03, 2.147340e+03, 2.190300e+02, 5.990400e+02,\n",
       "       2.204040e+03, 7.266900e+02, 2.099400e+02, 2.465770e+03,\n",
       "       1.030000e+02, 3.867320e+03, 5.162500e+02, 3.148400e+02,\n",
       "       1.917200e+02, 1.326910e+03, 3.872000e+01, 3.549100e+03,\n",
       "       2.430500e+02, 2.014350e+03, 5.033070e+03, 1.714250e+03,\n",
       "       2.047810e+03, 1.940500e+02, 2.412800e+03, 2.236680e+03,\n",
       "       3.860500e+02, 6.215620e+03, 2.515280e+03, 7.500220e+03,\n",
       "       7.524600e+02, 5.045310e+03, 2.386100e+03, 5.287100e+02,\n",
       "       7.200000e+02, 1.290160e+03, 1.679710e+03, 5.982850e+03,\n",
       "       5.479120e+03, 6.623700e+03, 1.123510e+03, 2.201330e+03,\n",
       "       1.962300e+03, 2.412500e+03])"
      ]
     },
     "execution_count": 9,
     "metadata": {},
     "output_type": "execute_result"
    }
   ],
   "source": [
    "outputs"
   ]
  },
  {
   "cell_type": "code",
   "execution_count": 10,
   "id": "fd950b9e",
   "metadata": {},
   "outputs": [],
   "source": [
    "from sklearn.model_selection import train_test_split\n",
    "X_train, X_test, y_train, y_test = train_test_split(inputs,outputs,\n",
    "                                                   test_size=0.30,\n",
    "                                                   random_state=1)"
   ]
  },
  {
   "cell_type": "code",
   "execution_count": 11,
   "id": "cae49552",
   "metadata": {},
   "outputs": [],
   "source": [
    "from sklearn.neighbors import KNeighborsRegressor"
   ]
  },
  {
   "cell_type": "code",
   "execution_count": 12,
   "id": "70e6edd8",
   "metadata": {},
   "outputs": [
    {
     "data": {
      "text/html": [
       "<style>#sk-container-id-1 {color: black;background-color: white;}#sk-container-id-1 pre{padding: 0;}#sk-container-id-1 div.sk-toggleable {background-color: white;}#sk-container-id-1 label.sk-toggleable__label {cursor: pointer;display: block;width: 100%;margin-bottom: 0;padding: 0.3em;box-sizing: border-box;text-align: center;}#sk-container-id-1 label.sk-toggleable__label-arrow:before {content: \"▸\";float: left;margin-right: 0.25em;color: #696969;}#sk-container-id-1 label.sk-toggleable__label-arrow:hover:before {color: black;}#sk-container-id-1 div.sk-estimator:hover label.sk-toggleable__label-arrow:before {color: black;}#sk-container-id-1 div.sk-toggleable__content {max-height: 0;max-width: 0;overflow: hidden;text-align: left;background-color: #f0f8ff;}#sk-container-id-1 div.sk-toggleable__content pre {margin: 0.2em;color: black;border-radius: 0.25em;background-color: #f0f8ff;}#sk-container-id-1 input.sk-toggleable__control:checked~div.sk-toggleable__content {max-height: 200px;max-width: 100%;overflow: auto;}#sk-container-id-1 input.sk-toggleable__control:checked~label.sk-toggleable__label-arrow:before {content: \"▾\";}#sk-container-id-1 div.sk-estimator input.sk-toggleable__control:checked~label.sk-toggleable__label {background-color: #d4ebff;}#sk-container-id-1 div.sk-label input.sk-toggleable__control:checked~label.sk-toggleable__label {background-color: #d4ebff;}#sk-container-id-1 input.sk-hidden--visually {border: 0;clip: rect(1px 1px 1px 1px);clip: rect(1px, 1px, 1px, 1px);height: 1px;margin: -1px;overflow: hidden;padding: 0;position: absolute;width: 1px;}#sk-container-id-1 div.sk-estimator {font-family: monospace;background-color: #f0f8ff;border: 1px dotted black;border-radius: 0.25em;box-sizing: border-box;margin-bottom: 0.5em;}#sk-container-id-1 div.sk-estimator:hover {background-color: #d4ebff;}#sk-container-id-1 div.sk-parallel-item::after {content: \"\";width: 100%;border-bottom: 1px solid gray;flex-grow: 1;}#sk-container-id-1 div.sk-label:hover label.sk-toggleable__label {background-color: #d4ebff;}#sk-container-id-1 div.sk-serial::before {content: \"\";position: absolute;border-left: 1px solid gray;box-sizing: border-box;top: 0;bottom: 0;left: 50%;z-index: 0;}#sk-container-id-1 div.sk-serial {display: flex;flex-direction: column;align-items: center;background-color: white;padding-right: 0.2em;padding-left: 0.2em;position: relative;}#sk-container-id-1 div.sk-item {position: relative;z-index: 1;}#sk-container-id-1 div.sk-parallel {display: flex;align-items: stretch;justify-content: center;background-color: white;position: relative;}#sk-container-id-1 div.sk-item::before, #sk-container-id-1 div.sk-parallel-item::before {content: \"\";position: absolute;border-left: 1px solid gray;box-sizing: border-box;top: 0;bottom: 0;left: 50%;z-index: -1;}#sk-container-id-1 div.sk-parallel-item {display: flex;flex-direction: column;z-index: 1;position: relative;background-color: white;}#sk-container-id-1 div.sk-parallel-item:first-child::after {align-self: flex-end;width: 50%;}#sk-container-id-1 div.sk-parallel-item:last-child::after {align-self: flex-start;width: 50%;}#sk-container-id-1 div.sk-parallel-item:only-child::after {width: 0;}#sk-container-id-1 div.sk-dashed-wrapped {border: 1px dashed gray;margin: 0 0.4em 0.5em 0.4em;box-sizing: border-box;padding-bottom: 0.4em;background-color: white;}#sk-container-id-1 div.sk-label label {font-family: monospace;font-weight: bold;display: inline-block;line-height: 1.2em;}#sk-container-id-1 div.sk-label-container {text-align: center;}#sk-container-id-1 div.sk-container {/* jupyter's `normalize.less` sets `[hidden] { display: none; }` but bootstrap.min.css set `[hidden] { display: none !important; }` so we also need the `!important` here to be able to override the default hidden behavior on the sphinx rendered scikit-learn.org. See: https://github.com/scikit-learn/scikit-learn/issues/21755 */display: inline-block !important;position: relative;}#sk-container-id-1 div.sk-text-repr-fallback {display: none;}</style><div id=\"sk-container-id-1\" class=\"sk-top-container\"><div class=\"sk-text-repr-fallback\"><pre>KNeighborsRegressor()</pre><b>In a Jupyter environment, please rerun this cell to show the HTML representation or trust the notebook. <br />On GitHub, the HTML representation is unable to render, please try loading this page with nbviewer.org.</b></div><div class=\"sk-container\" hidden><div class=\"sk-item\"><div class=\"sk-estimator sk-toggleable\"><input class=\"sk-toggleable__control sk-hidden--visually\" id=\"sk-estimator-id-1\" type=\"checkbox\" checked><label for=\"sk-estimator-id-1\" class=\"sk-toggleable__label sk-toggleable__label-arrow\">KNeighborsRegressor</label><div class=\"sk-toggleable__content\"><pre>KNeighborsRegressor()</pre></div></div></div></div></div>"
      ],
      "text/plain": [
       "KNeighborsRegressor()"
      ]
     },
     "execution_count": 12,
     "metadata": {},
     "output_type": "execute_result"
    }
   ],
   "source": [
    "knn = KNeighborsRegressor(n_neighbors=5)\n",
    "knn.fit(X_train, y_train)"
   ]
  },
  {
   "cell_type": "code",
   "execution_count": 13,
   "id": "bca03231",
   "metadata": {},
   "outputs": [
    {
     "name": "stdout",
     "output_type": "stream",
     "text": [
      "The Train prediction accuracy is:  44.785496562286966 %\n",
      "The Test prediction accuracy is:  21.555502219872512 %\n"
     ]
    }
   ],
   "source": [
    "# Kiểm tra độ chính xác\n",
    "print('The Train prediction accuracy is: ', knn.score(X_train, y_train)*100, '%')\n",
    "print('The Test prediction accuracy is: ', knn.score(X_test, y_test)*100, '%')"
   ]
  },
  {
   "cell_type": "code",
   "execution_count": 14,
   "id": "8aae07c8",
   "metadata": {},
   "outputs": [],
   "source": [
    "y_pred = knn.predict(X_test)"
   ]
  },
  {
   "cell_type": "code",
   "execution_count": 15,
   "id": "2a82f182",
   "metadata": {},
   "outputs": [
    {
     "data": {
      "text/html": [
       "<div>\n",
       "<style scoped>\n",
       "    .dataframe tbody tr th:only-of-type {\n",
       "        vertical-align: middle;\n",
       "    }\n",
       "\n",
       "    .dataframe tbody tr th {\n",
       "        vertical-align: top;\n",
       "    }\n",
       "\n",
       "    .dataframe thead th {\n",
       "        text-align: right;\n",
       "    }\n",
       "</style>\n",
       "<table border=\"1\" class=\"dataframe\">\n",
       "  <thead>\n",
       "    <tr style=\"text-align: right;\">\n",
       "      <th></th>\n",
       "      <th>Actual</th>\n",
       "      <th>Prediction</th>\n",
       "    </tr>\n",
       "  </thead>\n",
       "  <tbody>\n",
       "    <tr>\n",
       "      <th>0</th>\n",
       "      <td>25538.34</td>\n",
       "      <td>6352.214</td>\n",
       "    </tr>\n",
       "    <tr>\n",
       "      <th>1</th>\n",
       "      <td>1482.66</td>\n",
       "      <td>1579.246</td>\n",
       "    </tr>\n",
       "    <tr>\n",
       "      <th>2</th>\n",
       "      <td>341.28</td>\n",
       "      <td>573.184</td>\n",
       "    </tr>\n",
       "    <tr>\n",
       "      <th>3</th>\n",
       "      <td>3002.94</td>\n",
       "      <td>818.674</td>\n",
       "    </tr>\n",
       "    <tr>\n",
       "      <th>4</th>\n",
       "      <td>326.75</td>\n",
       "      <td>3684.996</td>\n",
       "    </tr>\n",
       "  </tbody>\n",
       "</table>\n",
       "</div>"
      ],
      "text/plain": [
       "     Actual  Prediction\n",
       "0  25538.34    6352.214\n",
       "1   1482.66    1579.246\n",
       "2    341.28     573.184\n",
       "3   3002.94     818.674\n",
       "4    326.75    3684.996"
      ]
     },
     "execution_count": 15,
     "metadata": {},
     "output_type": "execute_result"
    }
   ],
   "source": [
    "df=pd.DataFrame({'Actual':pd.DataFrame(y_test)[0].values,\n",
    "                 'Prediction':pd.DataFrame(y_pred)[0].values})\n",
    "df.head()"
   ]
  },
  {
   "cell_type": "code",
   "execution_count": 16,
   "id": "6be93573",
   "metadata": {},
   "outputs": [],
   "source": [
    "# đánh giá model\n",
    "from sklearn.metrics import mean_squared_error, r2_score"
   ]
  },
  {
   "cell_type": "code",
   "execution_count": 17,
   "id": "e7894c9e",
   "metadata": {},
   "outputs": [
    {
     "name": "stdout",
     "output_type": "stream",
     "text": [
      "Mean squared error: 13399821.29\n",
      "Variance score: 0.34\n"
     ]
    }
   ],
   "source": [
    "# The mean squared error\n",
    "print(\"Mean squared error: %.2f\"\n",
    "      % mean_squared_error(outputs, knn.predict(inputs)))\n",
    "# Explained variance score: 1 is perfect prediction\n",
    "print('Variance score: %.2f' % knn.score(inputs, outputs))"
   ]
  },
  {
   "cell_type": "code",
   "execution_count": 18,
   "id": "f96ad0ab",
   "metadata": {},
   "outputs": [
    {
     "name": "stdout",
     "output_type": "stream",
     "text": [
      "k= 2 : MSE is  30411453.72292815\n",
      "k= 3 : MSE is  27333874.707443193\n",
      "k= 4 : MSE is  26603710.711965114\n",
      "k= 5 : MSE is  26302127.521801114\n",
      "k= 6 : MSE is  26240826.45509091\n",
      "k= 7 : MSE is  26309289.169483967\n",
      "k= 8 : MSE is  25451181.074557967\n",
      "k= 9 : MSE is  25947880.80737848\n",
      "k= 10 : MSE is  26110110.695136473\n",
      "k= 11 : MSE is  25993985.00887799\n",
      "k= 12 : MSE is  25869574.071301453\n",
      "k= 13 : MSE is  25330506.911412988\n",
      "k= 14 : MSE is  25501117.36571655\n",
      "k= 15 : MSE is  25620808.403136805\n",
      "k= 16 : MSE is  25755702.280152187\n",
      "k= 17 : MSE is  25813237.880369708\n",
      "k= 18 : MSE is  25887611.603709552\n",
      "k= 19 : MSE is  25945131.530266136\n",
      "k= 20 : MSE is  26070618.32388909\n",
      "k= 21 : MSE is  26010065.979452252\n"
     ]
    }
   ],
   "source": [
    "list_k = []\n",
    "list_mse_train = []\n",
    "for K_value in range(2,int(y_train.shape[0]**0.5)):\n",
    "    list_k.append(K_value)\n",
    "    neigh = KNeighborsRegressor(n_neighbors= K_value)\n",
    "    neigh.fit(X_train, y_train)\n",
    "    y_pred = neigh.predict(X_test)\n",
    "    mse = mean_squared_error(y_test, y_pred)\n",
    "    list_mse_train.append(mse)\n",
    "    print(\"k=\", K_value, \": MSE is \", mean_squared_error(y_test, y_pred))\n",
    "    "
   ]
  },
  {
   "cell_type": "code",
   "execution_count": 19,
   "id": "fbf0611f",
   "metadata": {},
   "outputs": [
    {
     "name": "stdout",
     "output_type": "stream",
     "text": [
      "k= 2 : MSE is  11663778.07876926\n",
      "k= 3 : MSE is  16833371.662355553\n",
      "k= 4 : MSE is  17836804.459668633\n",
      "k= 5 : MSE is  18674576.339221817\n",
      "k= 6 : MSE is  18966040.31340723\n",
      "k= 7 : MSE is  20321034.179801963\n",
      "k= 8 : MSE is  20468450.835041955\n",
      "k= 9 : MSE is  20332552.718557812\n",
      "k= 10 : MSE is  20250765.718940657\n",
      "k= 11 : MSE is  20475539.961965863\n",
      "k= 12 : MSE is  20814775.669905998\n",
      "k= 13 : MSE is  21697907.671235774\n",
      "k= 14 : MSE is  21863889.452993564\n",
      "k= 15 : MSE is  21889662.43734943\n",
      "k= 16 : MSE is  22085723.72666938\n",
      "k= 17 : MSE is  22417768.07021668\n",
      "k= 18 : MSE is  22601171.836015385\n",
      "k= 19 : MSE is  22395618.691281233\n",
      "k= 20 : MSE is  22302514.37468409\n",
      "k= 21 : MSE is  22298767.163051587\n"
     ]
    }
   ],
   "source": [
    "list_k = []\n",
    "list_mse_test = []\n",
    "for K_value in range(2,int(y_train.shape[0]**0.5)):\n",
    "    list_k.append(K_value)\n",
    "    neigh = KNeighborsRegressor(n_neighbors= K_value)\n",
    "    neigh.fit(X_test, y_test)\n",
    "    y_pred = neigh.predict(X_test)\n",
    "    mse = mean_squared_error(y_test, y_pred)\n",
    "    list_mse_test.append(mse)\n",
    "    print(\"k=\", K_value, \": MSE is \", mean_squared_error(y_test, y_pred))\n",
    "    "
   ]
  },
  {
   "cell_type": "code",
   "execution_count": 20,
   "id": "3d1d91c0",
   "metadata": {},
   "outputs": [
    {
     "data": {
      "image/png": "[encoded data removed]",
      "text/plain": [
       "<Figure size 640x480 with 1 Axes>"
      ]
     },
     "metadata": {},
     "output_type": "display_data"
    }
   ],
   "source": [
    "plt.plot(list_k,list_mse_train,list_mse_test)\n",
    "plt.xlabel('Number of Neighbors K')\n",
    "plt.ylabel('Test Accuracy')\n",
    "plt.show()"
   ]
  },
  {
   "cell_type": "code",
   "execution_count": null,
   "id": "1a8806f6",
   "metadata": {},
   "outputs": [],
   "source": []
  },
  {
   "cell_type": "code",
   "execution_count": null,
   "id": "76c5e911",
   "metadata": {},
   "outputs": [],
   "source": []
  },
  {
   "cell_type": "raw",
   "id": "4959923e",
   "metadata": {},
   "source": []
  }
 ],
 "metadata": {
  "kernelspec": {
   "display_name": "Python 3 (ipykernel)",
   "language": "python",
   "name": "python3"
  },
  "language_info": {
   "codemirror_mode": {
    "name": "ipython",
    "version": 3
   },
   "file_extension": ".py",
   "mimetype": "text/x-python",
   "name": "python",
   "nbconvert_exporter": "python",
   "pygments_lexer": "ipython3",
   "version": "3.9.13"
  }
 },
 "nbformat": 4,
 "nbformat_minor": 5
}
