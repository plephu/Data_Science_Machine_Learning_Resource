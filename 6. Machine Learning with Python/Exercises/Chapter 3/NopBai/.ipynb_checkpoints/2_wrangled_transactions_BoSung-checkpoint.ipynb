{
 "cells": [
  {
   "cell_type": "code",
   "execution_count": 9,
   "id": "bcbf9834",
   "metadata": {},
   "outputs": [],
   "source": [
    "import numpy as np\n",
    "import pandas as pd\n",
    "import matplotlib.pyplot as plt\n",
    "from sklearn.model_selection import train_test_split"
   ]
  },
  {
   "cell_type": "code",
   "execution_count": 10,
   "id": "57384108",
   "metadata": {},
   "outputs": [
    {
     "name": "stdout",
     "output_type": "stream",
     "text": [
      "<class 'pandas.core.frame.DataFrame'>\n",
      "RangeIndex: 738 entries, 0 to 737\n",
      "Data columns (total 7 columns):\n",
      " #   Column                     Non-Null Count  Dtype  \n",
      "---  ------                     --------------  -----  \n",
      " 0   CustomerID                 738 non-null    float64\n",
      " 1   2010 revenue               738 non-null    float64\n",
      " 2   days_since_first_purchase  738 non-null    float64\n",
      " 3   days_since_last_purchase   738 non-null    float64\n",
      " 4   number_of_purchases        738 non-null    float64\n",
      " 5   avg_order_cost             738 non-null    float64\n",
      " 6   2011 revenue               738 non-null    float64\n",
      "dtypes: float64(7)\n",
      "memory usage: 40.5 KB\n"
     ]
    }
   ],
   "source": [
    "data = pd.read_csv('wrangled_transactions.csv', sep=\",\")\n",
    "data.info()"
   ]
  },
  {
   "cell_type": "code",
   "execution_count": 11,
   "id": "56fd636a",
   "metadata": {},
   "outputs": [
    {
     "data": {
      "text/plain": [
       "(738, 7)"
      ]
     },
     "execution_count": 11,
     "metadata": {},
     "output_type": "execute_result"
    }
   ],
   "source": [
    "data.shape"
   ]
  },
  {
   "cell_type": "code",
   "execution_count": 12,
   "id": "72bae074",
   "metadata": {
    "scrolled": true
   },
   "outputs": [
    {
     "data": {
      "text/html": [
       "<div>\n",
       "<style scoped>\n",
       "    .dataframe tbody tr th:only-of-type {\n",
       "        vertical-align: middle;\n",
       "    }\n",
       "\n",
       "    .dataframe tbody tr th {\n",
       "        vertical-align: top;\n",
       "    }\n",
       "\n",
       "    .dataframe thead th {\n",
       "        text-align: right;\n",
       "    }\n",
       "</style>\n",
       "<table border=\"1\" class=\"dataframe\">\n",
       "  <thead>\n",
       "    <tr style=\"text-align: right;\">\n",
       "      <th></th>\n",
       "      <th>CustomerID</th>\n",
       "      <th>2010 revenue</th>\n",
       "      <th>days_since_first_purchase</th>\n",
       "      <th>days_since_last_purchase</th>\n",
       "      <th>number_of_purchases</th>\n",
       "      <th>avg_order_cost</th>\n",
       "      <th>2011 revenue</th>\n",
       "    </tr>\n",
       "  </thead>\n",
       "  <tbody>\n",
       "    <tr>\n",
       "      <th>0</th>\n",
       "      <td>12347.0</td>\n",
       "      <td>711.79</td>\n",
       "      <td>23.0</td>\n",
       "      <td>23.0</td>\n",
       "      <td>1.0</td>\n",
       "      <td>711.79</td>\n",
       "      <td>3598.21</td>\n",
       "    </tr>\n",
       "    <tr>\n",
       "      <th>1</th>\n",
       "      <td>12348.0</td>\n",
       "      <td>892.80</td>\n",
       "      <td>14.0</td>\n",
       "      <td>14.0</td>\n",
       "      <td>1.0</td>\n",
       "      <td>892.80</td>\n",
       "      <td>904.44</td>\n",
       "    </tr>\n",
       "    <tr>\n",
       "      <th>2</th>\n",
       "      <td>12370.0</td>\n",
       "      <td>1868.02</td>\n",
       "      <td>16.0</td>\n",
       "      <td>13.0</td>\n",
       "      <td>2.0</td>\n",
       "      <td>934.01</td>\n",
       "      <td>1677.67</td>\n",
       "    </tr>\n",
       "    <tr>\n",
       "      <th>3</th>\n",
       "      <td>12377.0</td>\n",
       "      <td>1001.52</td>\n",
       "      <td>10.0</td>\n",
       "      <td>10.0</td>\n",
       "      <td>1.0</td>\n",
       "      <td>1001.52</td>\n",
       "      <td>626.60</td>\n",
       "    </tr>\n",
       "    <tr>\n",
       "      <th>4</th>\n",
       "      <td>12383.0</td>\n",
       "      <td>600.72</td>\n",
       "      <td>8.0</td>\n",
       "      <td>8.0</td>\n",
       "      <td>1.0</td>\n",
       "      <td>600.72</td>\n",
       "      <td>1249.84</td>\n",
       "    </tr>\n",
       "  </tbody>\n",
       "</table>\n",
       "</div>"
      ],
      "text/plain": [
       "   CustomerID  2010 revenue  days_since_first_purchase  \\\n",
       "0     12347.0        711.79                       23.0   \n",
       "1     12348.0        892.80                       14.0   \n",
       "2     12370.0       1868.02                       16.0   \n",
       "3     12377.0       1001.52                       10.0   \n",
       "4     12383.0        600.72                        8.0   \n",
       "\n",
       "   days_since_last_purchase  number_of_purchases  avg_order_cost  2011 revenue  \n",
       "0                      23.0                  1.0          711.79       3598.21  \n",
       "1                      14.0                  1.0          892.80        904.44  \n",
       "2                      13.0                  2.0          934.01       1677.67  \n",
       "3                      10.0                  1.0         1001.52        626.60  \n",
       "4                       8.0                  1.0          600.72       1249.84  "
      ]
     },
     "execution_count": 12,
     "metadata": {},
     "output_type": "execute_result"
    }
   ],
   "source": [
    "data.head()"
   ]
  },
  {
   "cell_type": "code",
   "execution_count": 13,
   "id": "cf201cc8",
   "metadata": {},
   "outputs": [
    {
     "data": {
      "text/html": [
       "<div>\n",
       "<style scoped>\n",
       "    .dataframe tbody tr th:only-of-type {\n",
       "        vertical-align: middle;\n",
       "    }\n",
       "\n",
       "    .dataframe tbody tr th {\n",
       "        vertical-align: top;\n",
       "    }\n",
       "\n",
       "    .dataframe thead th {\n",
       "        text-align: right;\n",
       "    }\n",
       "</style>\n",
       "<table border=\"1\" class=\"dataframe\">\n",
       "  <thead>\n",
       "    <tr style=\"text-align: right;\">\n",
       "      <th></th>\n",
       "      <th>CustomerID</th>\n",
       "      <th>2010 revenue</th>\n",
       "      <th>days_since_first_purchase</th>\n",
       "      <th>days_since_last_purchase</th>\n",
       "      <th>number_of_purchases</th>\n",
       "      <th>avg_order_cost</th>\n",
       "      <th>2011 revenue</th>\n",
       "    </tr>\n",
       "  </thead>\n",
       "  <tbody>\n",
       "    <tr>\n",
       "      <th>733</th>\n",
       "      <td>18229.0</td>\n",
       "      <td>653.20</td>\n",
       "      <td>29.0</td>\n",
       "      <td>22.0</td>\n",
       "      <td>2.0</td>\n",
       "      <td>326.60</td>\n",
       "      <td>6623.70</td>\n",
       "    </tr>\n",
       "    <tr>\n",
       "      <th>734</th>\n",
       "      <td>18239.0</td>\n",
       "      <td>438.10</td>\n",
       "      <td>28.0</td>\n",
       "      <td>28.0</td>\n",
       "      <td>1.0</td>\n",
       "      <td>438.10</td>\n",
       "      <td>1123.51</td>\n",
       "    </tr>\n",
       "    <tr>\n",
       "      <th>735</th>\n",
       "      <td>18245.0</td>\n",
       "      <td>365.73</td>\n",
       "      <td>11.0</td>\n",
       "      <td>11.0</td>\n",
       "      <td>1.0</td>\n",
       "      <td>365.73</td>\n",
       "      <td>2201.33</td>\n",
       "    </tr>\n",
       "    <tr>\n",
       "      <th>736</th>\n",
       "      <td>18259.0</td>\n",
       "      <td>376.30</td>\n",
       "      <td>22.0</td>\n",
       "      <td>22.0</td>\n",
       "      <td>1.0</td>\n",
       "      <td>376.30</td>\n",
       "      <td>1962.30</td>\n",
       "    </tr>\n",
       "    <tr>\n",
       "      <th>737</th>\n",
       "      <td>18260.0</td>\n",
       "      <td>230.70</td>\n",
       "      <td>14.0</td>\n",
       "      <td>14.0</td>\n",
       "      <td>1.0</td>\n",
       "      <td>230.70</td>\n",
       "      <td>2412.50</td>\n",
       "    </tr>\n",
       "  </tbody>\n",
       "</table>\n",
       "</div>"
      ],
      "text/plain": [
       "     CustomerID  2010 revenue  days_since_first_purchase  \\\n",
       "733     18229.0        653.20                       29.0   \n",
       "734     18239.0        438.10                       28.0   \n",
       "735     18245.0        365.73                       11.0   \n",
       "736     18259.0        376.30                       22.0   \n",
       "737     18260.0        230.70                       14.0   \n",
       "\n",
       "     days_since_last_purchase  number_of_purchases  avg_order_cost  \\\n",
       "733                      22.0                  2.0          326.60   \n",
       "734                      28.0                  1.0          438.10   \n",
       "735                      11.0                  1.0          365.73   \n",
       "736                      22.0                  1.0          376.30   \n",
       "737                      14.0                  1.0          230.70   \n",
       "\n",
       "     2011 revenue  \n",
       "733       6623.70  \n",
       "734       1123.51  \n",
       "735       2201.33  \n",
       "736       1962.30  \n",
       "737       2412.50  "
      ]
     },
     "execution_count": 13,
     "metadata": {},
     "output_type": "execute_result"
    }
   ],
   "source": [
    "data.tail()"
   ]
  },
  {
   "cell_type": "code",
   "execution_count": 14,
   "id": "76f48b2a",
   "metadata": {},
   "outputs": [],
   "source": [
    "data['2010_revenue_transformed'] =np.log2(data['2010 revenue'])\n",
    "root_test = data['2011 revenue']\n",
    "data['2011_revenue_transformed'] =np.log2(data['2011 revenue'])"
   ]
  },
  {
   "cell_type": "code",
   "execution_count": 16,
   "id": "26745c6a",
   "metadata": {},
   "outputs": [
    {
     "name": "stdout",
     "output_type": "stream",
     "text": [
      "<class 'pandas.core.frame.DataFrame'>\n",
      "RangeIndex: 738 entries, 0 to 737\n",
      "Data columns (total 9 columns):\n",
      " #   Column                     Non-Null Count  Dtype  \n",
      "---  ------                     --------------  -----  \n",
      " 0   CustomerID                 738 non-null    float64\n",
      " 1   2010 revenue               738 non-null    float64\n",
      " 2   days_since_first_purchase  738 non-null    float64\n",
      " 3   days_since_last_purchase   738 non-null    float64\n",
      " 4   number_of_purchases        738 non-null    float64\n",
      " 5   avg_order_cost             738 non-null    float64\n",
      " 6   2011 revenue               738 non-null    float64\n",
      " 7   2010_revenue_transformed   738 non-null    float64\n",
      " 8   2011_revenue_transformed   738 non-null    float64\n",
      "dtypes: float64(9)\n",
      "memory usage: 52.0 KB\n"
     ]
    }
   ],
   "source": [
    "data.info()"
   ]
  },
  {
   "cell_type": "code",
   "execution_count": 18,
   "id": "a4fbdcbd",
   "metadata": {},
   "outputs": [
    {
     "data": {
      "text/plain": [
       "Index(['CustomerID', '2010 revenue', 'days_since_first_purchase',\n",
       "       'days_since_last_purchase', 'number_of_purchases', 'avg_order_cost',\n",
       "       '2011 revenue', '2010_revenue_transformed', '2011_revenue_transformed'],\n",
       "      dtype='object')"
      ]
     },
     "execution_count": 18,
     "metadata": {},
     "output_type": "execute_result"
    }
   ],
   "source": [
    "data.columns"
   ]
  },
  {
   "cell_type": "code",
   "execution_count": 20,
   "id": "b2496ca7",
   "metadata": {},
   "outputs": [
    {
     "data": {
      "text/plain": [
       "(738, 5)"
      ]
     },
     "execution_count": 20,
     "metadata": {},
     "output_type": "execute_result"
    }
   ],
   "source": [
    "# The column that we will be making predictions with\n",
    "inputs = data[['days_since_first_purchase', 'days_since_last_purchase', 'number_of_purchases', 'avg_order_cost', '2010_revenue_transformed']]\n",
    "inputs.shape"
   ]
  },
  {
   "cell_type": "code",
   "execution_count": 21,
   "id": "4aa07ab5",
   "metadata": {},
   "outputs": [
    {
     "data": {
      "text/html": [
       "<div>\n",
       "<style scoped>\n",
       "    .dataframe tbody tr th:only-of-type {\n",
       "        vertical-align: middle;\n",
       "    }\n",
       "\n",
       "    .dataframe tbody tr th {\n",
       "        vertical-align: top;\n",
       "    }\n",
       "\n",
       "    .dataframe thead th {\n",
       "        text-align: right;\n",
       "    }\n",
       "</style>\n",
       "<table border=\"1\" class=\"dataframe\">\n",
       "  <thead>\n",
       "    <tr style=\"text-align: right;\">\n",
       "      <th></th>\n",
       "      <th>days_since_first_purchase</th>\n",
       "      <th>days_since_last_purchase</th>\n",
       "      <th>number_of_purchases</th>\n",
       "      <th>avg_order_cost</th>\n",
       "      <th>2010_revenue_transformed</th>\n",
       "    </tr>\n",
       "  </thead>\n",
       "  <tbody>\n",
       "    <tr>\n",
       "      <th>0</th>\n",
       "      <td>23.0</td>\n",
       "      <td>23.0</td>\n",
       "      <td>1.0</td>\n",
       "      <td>711.79</td>\n",
       "      <td>9.475308</td>\n",
       "    </tr>\n",
       "    <tr>\n",
       "      <th>1</th>\n",
       "      <td>14.0</td>\n",
       "      <td>14.0</td>\n",
       "      <td>1.0</td>\n",
       "      <td>892.80</td>\n",
       "      <td>9.802193</td>\n",
       "    </tr>\n",
       "    <tr>\n",
       "      <th>2</th>\n",
       "      <td>16.0</td>\n",
       "      <td>13.0</td>\n",
       "      <td>2.0</td>\n",
       "      <td>934.01</td>\n",
       "      <td>10.867294</td>\n",
       "    </tr>\n",
       "    <tr>\n",
       "      <th>3</th>\n",
       "      <td>10.0</td>\n",
       "      <td>10.0</td>\n",
       "      <td>1.0</td>\n",
       "      <td>1001.52</td>\n",
       "      <td>9.967976</td>\n",
       "    </tr>\n",
       "    <tr>\n",
       "      <th>4</th>\n",
       "      <td>8.0</td>\n",
       "      <td>8.0</td>\n",
       "      <td>1.0</td>\n",
       "      <td>600.72</td>\n",
       "      <td>9.230549</td>\n",
       "    </tr>\n",
       "    <tr>\n",
       "      <th>...</th>\n",
       "      <td>...</td>\n",
       "      <td>...</td>\n",
       "      <td>...</td>\n",
       "      <td>...</td>\n",
       "      <td>...</td>\n",
       "    </tr>\n",
       "    <tr>\n",
       "      <th>733</th>\n",
       "      <td>29.0</td>\n",
       "      <td>22.0</td>\n",
       "      <td>2.0</td>\n",
       "      <td>326.60</td>\n",
       "      <td>9.351381</td>\n",
       "    </tr>\n",
       "    <tr>\n",
       "      <th>734</th>\n",
       "      <td>28.0</td>\n",
       "      <td>28.0</td>\n",
       "      <td>1.0</td>\n",
       "      <td>438.10</td>\n",
       "      <td>8.775116</td>\n",
       "    </tr>\n",
       "    <tr>\n",
       "      <th>735</th>\n",
       "      <td>11.0</td>\n",
       "      <td>11.0</td>\n",
       "      <td>1.0</td>\n",
       "      <td>365.73</td>\n",
       "      <td>8.514635</td>\n",
       "    </tr>\n",
       "    <tr>\n",
       "      <th>736</th>\n",
       "      <td>22.0</td>\n",
       "      <td>22.0</td>\n",
       "      <td>1.0</td>\n",
       "      <td>376.30</td>\n",
       "      <td>8.555739</td>\n",
       "    </tr>\n",
       "    <tr>\n",
       "      <th>737</th>\n",
       "      <td>14.0</td>\n",
       "      <td>14.0</td>\n",
       "      <td>1.0</td>\n",
       "      <td>230.70</td>\n",
       "      <td>7.849874</td>\n",
       "    </tr>\n",
       "  </tbody>\n",
       "</table>\n",
       "<p>738 rows × 5 columns</p>\n",
       "</div>"
      ],
      "text/plain": [
       "     days_since_first_purchase  days_since_last_purchase  number_of_purchases  \\\n",
       "0                         23.0                      23.0                  1.0   \n",
       "1                         14.0                      14.0                  1.0   \n",
       "2                         16.0                      13.0                  2.0   \n",
       "3                         10.0                      10.0                  1.0   \n",
       "4                          8.0                       8.0                  1.0   \n",
       "..                         ...                       ...                  ...   \n",
       "733                       29.0                      22.0                  2.0   \n",
       "734                       28.0                      28.0                  1.0   \n",
       "735                       11.0                      11.0                  1.0   \n",
       "736                       22.0                      22.0                  1.0   \n",
       "737                       14.0                      14.0                  1.0   \n",
       "\n",
       "     avg_order_cost  2010_revenue_transformed  \n",
       "0            711.79                  9.475308  \n",
       "1            892.80                  9.802193  \n",
       "2            934.01                 10.867294  \n",
       "3           1001.52                  9.967976  \n",
       "4            600.72                  9.230549  \n",
       "..              ...                       ...  \n",
       "733          326.60                  9.351381  \n",
       "734          438.10                  8.775116  \n",
       "735          365.73                  8.514635  \n",
       "736          376.30                  8.555739  \n",
       "737          230.70                  7.849874  \n",
       "\n",
       "[738 rows x 5 columns]"
      ]
     },
     "execution_count": 21,
     "metadata": {},
     "output_type": "execute_result"
    }
   ],
   "source": [
    "inputs"
   ]
  },
  {
   "cell_type": "code",
   "execution_count": 22,
   "id": "f4856858",
   "metadata": {},
   "outputs": [
    {
     "data": {
      "text/plain": [
       "(738,)"
      ]
     },
     "execution_count": 22,
     "metadata": {},
     "output_type": "execute_result"
    }
   ],
   "source": [
    "# The column that we want to predict\n",
    "outputs = data['2010_revenue_transformed']\n",
    "outputs = np.array(outputs)\n",
    "outputs.shape"
   ]
  },
  {
   "cell_type": "code",
   "execution_count": 23,
   "id": "2d76b45e",
   "metadata": {},
   "outputs": [
    {
     "data": {
      "text/plain": [
       "array([ 9.47530785,  9.80219322, 10.86729419,  9.96797552,  9.23054889,\n",
       "        8.01625116,  9.4092212 ,  8.18655998,  7.89439338,  8.24555271,\n",
       "       10.32361776,  9.59609656, 10.67180641,  3.63807384,  9.62815387,\n",
       "        5.96693798,  9.78301458,  9.27612441, 10.92360976,  7.61389994,\n",
       "        9.74123101, 10.30246757,  8.10223819, 10.43426334, 10.22110373,\n",
       "        8.03055679,  8.87611785,  7.78972925, 11.0485618 , 10.07051008,\n",
       "       10.05403445,  7.4918531 ,  9.74483384,  7.61794492, 10.36160389,\n",
       "        8.87844948,  9.360035  ,  8.1628948 ,  7.41176519, 10.0659546 ,\n",
       "        9.46407601,  8.32228872, 10.16652716,  7.95512678,  8.85642553,\n",
       "        7.04220656,  7.01569381,  7.27612441,  6.42206477,  8.61024974,\n",
       "        9.52640143,  8.98296506,  8.50299088,  7.6674664 ,  8.56426383,\n",
       "        8.19849415,  7.22939565,  8.70604699,  7.64132926,  9.42584531,\n",
       "        8.61596062,  7.46760555,  8.01541505,  8.16465556,  8.24811733,\n",
       "        8.51491126,  8.76881289,  9.79655882,  7.6617781 ,  7.65642486,\n",
       "        8.47982068, 10.57774981,  7.29783337, 10.4918531 ,  8.57931594,\n",
       "        8.74059032,  7.37382219,  8.51818103, 10.22866239,  9.33118568,\n",
       "        8.2933337 ,  9.7832602 , 11.20870989,  9.97785231,  7.53488646,\n",
       "        7.80529246,  8.25219234,  9.39643353,  6.66902677,  8.54291578,\n",
       "        8.60047048, 10.29498827,  7.80374367,  7.59417529,  7.31750306,\n",
       "        8.20457114,  8.27332939,  8.56871619,  8.47021146,  7.37451788,\n",
       "       10.46757498,  9.47167521,  8.58702738,  9.47532812,  8.31673407,\n",
       "        6.79051141,  8.96046537, 10.23687525,  6.54612276,  6.51017075,\n",
       "        7.80780569,  7.81826261,  9.28146644,  9.37105784,  7.08958289,\n",
       "        7.89512082, 10.59905738,  9.34451784,  9.54109662,  8.24887634,\n",
       "        8.26809749, 11.56567333, 10.62536182,  8.39651916,  9.69616774,\n",
       "        9.43658663, 10.21171798,  9.83130724,  7.59357787, 10.43245838,\n",
       "        7.61765112,  9.75727332,  8.96869559,  7.26209485,  8.23419472,\n",
       "        8.24507728,  9.1470777 ,  8.25479243,  8.14567746, 10.22686974,\n",
       "        6.88655015,  8.44770316,  7.36369674,  8.46287031,  8.24388801,\n",
       "        8.28165189,  7.62789862,  8.27052894,  7.47297509,  8.31351796,\n",
       "        8.9560276 ,  7.67242534,  9.97211822,  9.48954695, 11.25228697,\n",
       "        8.33226038,  6.73335434,  7.00786824,  8.67242534,  7.8954844 ,\n",
       "        8.27877467,  8.68439798,  8.32192809,  9.25134038,  8.33815696,\n",
       "        6.61176256,  7.57251076, 10.09687325,  8.96578428,  7.74644714,\n",
       "        7.24126818,  8.31102168,  8.74348804,  8.36352154,  7.27426166,\n",
       "        8.23888237,  8.23476954,  9.55792315,  9.40194612, 11.3269631 ,\n",
       "        9.27477416,  6.80477638,  8.35049725,  8.16450473, 10.83617662,\n",
       "        9.85474374,  9.7715555 , 10.49597491,  7.09000653,  8.72628629,\n",
       "        8.84514502, 10.21703679,  9.23297248,  8.583158  ,  8.50477927,\n",
       "        8.75988818,  9.88729679, 10.2777872 ,  8.25823624,  7.59410062,\n",
       "        8.14542272,  7.3178648 ,  9.8077574 ,  8.28188367,  6.07124782,\n",
       "        8.25242891,  7.37503943,  6.88630626,  8.28992666,  7.5645306 ,\n",
       "        8.88264305,  9.0330375 ,  9.15734694,  9.60281019,  8.51143641,\n",
       "        8.74564071,  9.61307116,  7.20701432,  8.3226042 ,  8.47431435,\n",
       "        8.2890967 ,  7.80542145,  8.2699682 ,  6.78594282,  7.95058506,\n",
       "        7.06047978,  8.36106649,  7.76288029,  9.77343596,  6.95535931,\n",
       "        9.35909065,  8.24555271,  6.67736729,  7.71589337,  8.56890615,\n",
       "        8.12866459,  7.44625623,  6.96693798,  6.99095486,  8.24954015,\n",
       "        7.37695017, 10.03665443,  8.07521171,  8.10564665,  8.85268555,\n",
       "        9.85407359,  7.79830978,  8.75988818,  7.99095486, 10.13175409,\n",
       "        8.67302634, 10.18909562,  8.69034725,  8.43837603,  7.99435344,\n",
       "       10.28385234,  7.67242534,  8.25597274,  9.19359928,  9.40203142,\n",
       "        8.48357396, 10.96441307,  8.54492581, 11.48954695,  7.3954056 ,\n",
       "        8.79759668,  8.20271156,  8.31605521,  8.71101301,  8.29508013,\n",
       "        8.73420154,  8.87958325,  7.97842447,  8.76155123,  9.47953777,\n",
       "        8.95215881,  7.81378119,  8.87780559,  7.49505553,  8.43883343,\n",
       "        8.66732447, 10.00677488, 10.25248804,  7.49537538,  8.63092233,\n",
       "        8.5899507 ,  8.62629311,  9.14692501,  5.21723072,  6.69599381,\n",
       "        7.13339913,  8.33096168,  8.00685901,  6.62205182,  8.95724717,\n",
       "        9.90792716,  8.23299645,  9.42240122, 10.20786846,  6.96011781,\n",
       "        7.35049725,  9.30298157,  8.87777492,  7.57788196,  6.79766153,\n",
       "        7.68397711,  8.8473706 ,  8.94022549,  7.5389261 , 11.43598272,\n",
       "        9.71921767,  6.98219502, 10.36387192, 11.06282193,  6.62497818,\n",
       "        7.70791125,  9.67710297,  7.14923904,  6.79636414,  9.28477784,\n",
       "        9.45285896,  6.67638026,  7.46801303,  8.17242751, 10.08409085,\n",
       "       10.86184684,  8.29920802, 10.60639596,  9.12023788,  6.03121873,\n",
       "        8.58146424,  9.44012168,  7.53915881,  8.71596199,  6.80413102,\n",
       "        7.37199439,  7.77873424,  9.34185236,  8.63517395, 10.84157221,\n",
       "        9.39525564,  6.94427282,  8.17861506,  8.10155553,  8.2837829 ,\n",
       "        8.51388547,  9.28667326,  6.72164608,  9.06904691, 10.54250957,\n",
       "        7.84611717,  8.24588541,  8.40505635,  9.19883789,  8.68446812,\n",
       "        7.92611806,  9.7613019 ,  9.49912835,  9.89192037,  9.93180123,\n",
       "        9.86015583,  6.66106548, 10.35920049, 10.88012684,  8.29429909,\n",
       "        7.79051141,  8.32849542,  8.47715111,  8.46980459,  7.08033788,\n",
       "        9.58377855,  9.95102238,  8.07783047, 10.05614996,  9.20493788,\n",
       "        8.34855113,  8.42995066,  8.65219965, 10.27198819,  7.25313837,\n",
       "        7.60622012, 10.07840436,  8.72958676,  8.31822644, 11.43394529,\n",
       "        8.26851861,  7.56833618,  8.99435344,  8.25833047,  7.7094285 ,\n",
       "        8.9035505 ,  6.69348696,  9.72678014,  8.45401134,  7.41911748,\n",
       "        9.09566075, 10.58576065,  7.10956951,  8.36479127,  8.41159573,\n",
       "        8.02042442,  6.60347799,  8.51392494,  7.46882766,  8.53449743,\n",
       "       11.1356131 ,  8.77741972,  8.78201534,  7.57689999,  9.90312868,\n",
       "        7.84611717, 11.68005618,  8.58469949,  6.68173036,  8.46854259,\n",
       "        9.12210323,  7.27844946,  8.53651921,  8.21878117,  7.29222959,\n",
       "        9.02704897,  7.86077662,  8.08065766,  8.74422838,  7.7131459 ,\n",
       "        9.16082945,  7.28715828, 10.1652462 ,  6.93899144,  6.82629425,\n",
       "        8.04028972,  9.75386857, 10.20579325,  6.78267066,  8.66569122,\n",
       "       11.53770375,  8.57844817,  7.77544567,  8.27468099,  8.23102913,\n",
       "        6.88569637,  7.95163442,  7.30012372,  8.40079407,  7.46972321,\n",
       "        8.75020451,  6.72410452,  8.14735758,  6.95582424,  9.66418059,\n",
       "        8.2421261 ,  8.61992649,  7.74825995,  9.17067621,  8.78659636,\n",
       "        8.10747865,  8.26528686,  9.29370154,  7.41531925,  8.88050187,\n",
       "        7.38145643,  7.20359271,  8.11712359, 10.04525456,  7.82107239,\n",
       "        8.54785851,  9.71563602,  7.05766688,  8.56510208,  6.08958289,\n",
       "        8.26781667,  9.06501215,  8.99435344,  8.5253642 ,  7.417093  ,\n",
       "        7.21169365,  8.18759951,  7.72655878,  7.03891899, 10.98393416,\n",
       "        7.24469682,  9.0552282 ,  9.6209529 ,  7.59916899,  7.75715663,\n",
       "        9.08852326,  8.93100338,  6.69627208,  8.34766566,  9.64824971,\n",
       "        6.53636379,  9.54544718,  8.22593041,  9.11545988,  6.57425292,\n",
       "       10.65234308,  8.28007477,  9.78226112,  8.3758214 ,  6.91468411,\n",
       "        9.35495458,  7.36457243,  6.14567746,  7.82908844,  8.74402651,\n",
       "        8.65681811,  8.5116736 ,  8.3963479 ,  8.89711939, 10.14430135,\n",
       "        9.03609117,  7.74281467,  9.56708145,  8.2632692 ,  8.75064   ,\n",
       "        9.64299031,  8.35402894,  7.01758791,  8.74913197,  8.28373661,\n",
       "        8.03452388,  7.85735901,  9.42590823,  9.17490072,  7.74664868,\n",
       "        8.09428886,  6.24374523,  8.52081509,  6.35314683,  9.10915158,\n",
       "        7.35974956, 11.07523846,  7.00033809,  7.57478272,  7.8595969 ,\n",
       "        6.85897561,  7.41405094,  8.40386418,  7.99095486,  7.50795317,\n",
       "        7.62993941,  9.07684231,  9.10459875,  7.76884596,  6.86108691,\n",
       "        8.51040815,  8.12850994,  7.42626475,  8.43796009,  7.56300555,\n",
       "        7.35305858,  9.866228  ,  6.99480598,  8.63647962,  7.69432306,\n",
       "       11.20312773,  8.4871165 ,  7.33064803,  5.05093697,  8.26584942,\n",
       "        8.25029842,  9.4965742 ,  8.76729064,  8.21650337,  9.18784691,\n",
       "        7.24317398,  9.53223902,  5.93545975,  8.1969709 ,  7.44890095,\n",
       "        7.73199779,  7.75207953,  8.22037833,  8.69275497,  7.9248125 ,\n",
       "        7.28095631,  9.00461375,  7.82794602,  8.99466457,  7.98082505,\n",
       "        9.026966  ,  9.60679383,  9.26643519,  7.41827429,  9.24384042,\n",
       "        8.31061278,  8.19396882,  7.15228484,  8.47553079, 11.43045778,\n",
       "        7.85804318,  8.41743061,  6.98048236,  8.53173234,  9.73986498,\n",
       "        8.57606858,  8.07071132,  7.79895775,  7.06134419,  8.43521186,\n",
       "        8.33985   ,  6.76712508,  8.81672769,  6.98925257,  9.5842109 ,\n",
       "        5.9068906 ,  9.00450139,  7.95326524,  7.94661391,  6.60925263,\n",
       "        8.53441962,  6.77755122,  9.61669586,  8.28729682,  8.63481105,\n",
       "        8.72849878,  8.84539596,  9.45553272,  8.80658184,  8.5479356 ,\n",
       "        7.03177011,  9.80405033,  6.81506302,  9.4184008 ,  7.3737352 ,\n",
       "        6.13545278,  7.47897181,  8.35491051,  8.38930867,  7.89845023,\n",
       "        8.23189316,  8.22168378,  9.01666902,  6.14567746,  8.21431912,\n",
       "        5.54997714,  9.61981647,  8.6674664 ,  9.37264744,  8.61698986,\n",
       "        7.93186031,  8.35049725,  8.3231899 ,  7.90327934,  7.89875253,\n",
       "        7.97154355,  9.40109284,  8.49165271,  8.62271077,  8.23198913,\n",
       "        9.99310822,  8.23218106, 10.65874704,  8.6128685 ,  8.8549307 ,\n",
       "        9.42605505,  8.42315794,  7.45614903,  8.90035362,  6.67242534,\n",
       "        9.82994467,  8.82845387,  8.49209353,  8.56040927,  9.14414837,\n",
       "        7.43078705,  9.5241107 ,  8.64223224,  6.84109254,  7.80400192,\n",
       "        6.6467387 , 10.28944258,  7.76520321,  4.01881219,  9.93681458,\n",
       "       10.3126561 ,  9.86968637, 11.27208736,  6.6043679 , 10.38877074,\n",
       "       10.60441423,  8.58766502, 10.07658849,  7.74362268,  8.35049725,\n",
       "        7.74919903,  8.34260808,  4.87921564,  8.89772447,  9.01080781,\n",
       "        8.76361075,  8.62260096,  8.17697096,  7.76851518,  6.79324564,\n",
       "        9.52338553,  8.12412131, 11.07272216,  8.03985123,  8.67771964,\n",
       "        7.00764403,  9.15418521,  8.03210084,  7.29278175,  6.96809075,\n",
       "        9.27958737,  8.20554891,  8.30378075,  7.57243497,  7.29140096,\n",
       "        4.96809075,  9.30899879,  8.30587935,  6.21431912, 10.77406224,\n",
       "        8.66234794,  8.43053618,  8.01652975,  7.63626209,  8.63055837,\n",
       "        8.24745286, 11.47808198,  7.51191075,  9.11048331,  9.3784466 ,\n",
       "        9.24913716,  8.97341038,  7.6881104 ,  8.81358882,  8.23194115,\n",
       "        8.60755225,  8.97065237,  4.9068906 ,  9.35138098,  8.7751164 ,\n",
       "        8.51463516,  8.55573948,  7.84987419])"
      ]
     },
     "execution_count": 23,
     "metadata": {},
     "output_type": "execute_result"
    }
   ],
   "source": [
    "outputs"
   ]
  },
  {
   "cell_type": "code",
   "execution_count": 24,
   "id": "fd950b9e",
   "metadata": {},
   "outputs": [],
   "source": [
    "from sklearn.model_selection import train_test_split\n",
    "X_train, X_test, y_train, y_test = train_test_split(inputs,outputs,\n",
    "                                                   test_size=0.30,\n",
    "                                                   random_state=1)"
   ]
  },
  {
   "cell_type": "code",
   "execution_count": 25,
   "id": "cae49552",
   "metadata": {},
   "outputs": [],
   "source": [
    "from sklearn.neighbors import KNeighborsRegressor"
   ]
  },
  {
   "cell_type": "code",
   "execution_count": 26,
   "id": "70e6edd8",
   "metadata": {},
   "outputs": [
    {
     "data": {
      "text/html": [
       "<style>#sk-container-id-1 {color: black;background-color: white;}#sk-container-id-1 pre{padding: 0;}#sk-container-id-1 div.sk-toggleable {background-color: white;}#sk-container-id-1 label.sk-toggleable__label {cursor: pointer;display: block;width: 100%;margin-bottom: 0;padding: 0.3em;box-sizing: border-box;text-align: center;}#sk-container-id-1 label.sk-toggleable__label-arrow:before {content: \"▸\";float: left;margin-right: 0.25em;color: #696969;}#sk-container-id-1 label.sk-toggleable__label-arrow:hover:before {color: black;}#sk-container-id-1 div.sk-estimator:hover label.sk-toggleable__label-arrow:before {color: black;}#sk-container-id-1 div.sk-toggleable__content {max-height: 0;max-width: 0;overflow: hidden;text-align: left;background-color: #f0f8ff;}#sk-container-id-1 div.sk-toggleable__content pre {margin: 0.2em;color: black;border-radius: 0.25em;background-color: #f0f8ff;}#sk-container-id-1 input.sk-toggleable__control:checked~div.sk-toggleable__content {max-height: 200px;max-width: 100%;overflow: auto;}#sk-container-id-1 input.sk-toggleable__control:checked~label.sk-toggleable__label-arrow:before {content: \"▾\";}#sk-container-id-1 div.sk-estimator input.sk-toggleable__control:checked~label.sk-toggleable__label {background-color: #d4ebff;}#sk-container-id-1 div.sk-label input.sk-toggleable__control:checked~label.sk-toggleable__label {background-color: #d4ebff;}#sk-container-id-1 input.sk-hidden--visually {border: 0;clip: rect(1px 1px 1px 1px);clip: rect(1px, 1px, 1px, 1px);height: 1px;margin: -1px;overflow: hidden;padding: 0;position: absolute;width: 1px;}#sk-container-id-1 div.sk-estimator {font-family: monospace;background-color: #f0f8ff;border: 1px dotted black;border-radius: 0.25em;box-sizing: border-box;margin-bottom: 0.5em;}#sk-container-id-1 div.sk-estimator:hover {background-color: #d4ebff;}#sk-container-id-1 div.sk-parallel-item::after {content: \"\";width: 100%;border-bottom: 1px solid gray;flex-grow: 1;}#sk-container-id-1 div.sk-label:hover label.sk-toggleable__label {background-color: #d4ebff;}#sk-container-id-1 div.sk-serial::before {content: \"\";position: absolute;border-left: 1px solid gray;box-sizing: border-box;top: 0;bottom: 0;left: 50%;z-index: 0;}#sk-container-id-1 div.sk-serial {display: flex;flex-direction: column;align-items: center;background-color: white;padding-right: 0.2em;padding-left: 0.2em;position: relative;}#sk-container-id-1 div.sk-item {position: relative;z-index: 1;}#sk-container-id-1 div.sk-parallel {display: flex;align-items: stretch;justify-content: center;background-color: white;position: relative;}#sk-container-id-1 div.sk-item::before, #sk-container-id-1 div.sk-parallel-item::before {content: \"\";position: absolute;border-left: 1px solid gray;box-sizing: border-box;top: 0;bottom: 0;left: 50%;z-index: -1;}#sk-container-id-1 div.sk-parallel-item {display: flex;flex-direction: column;z-index: 1;position: relative;background-color: white;}#sk-container-id-1 div.sk-parallel-item:first-child::after {align-self: flex-end;width: 50%;}#sk-container-id-1 div.sk-parallel-item:last-child::after {align-self: flex-start;width: 50%;}#sk-container-id-1 div.sk-parallel-item:only-child::after {width: 0;}#sk-container-id-1 div.sk-dashed-wrapped {border: 1px dashed gray;margin: 0 0.4em 0.5em 0.4em;box-sizing: border-box;padding-bottom: 0.4em;background-color: white;}#sk-container-id-1 div.sk-label label {font-family: monospace;font-weight: bold;display: inline-block;line-height: 1.2em;}#sk-container-id-1 div.sk-label-container {text-align: center;}#sk-container-id-1 div.sk-container {/* jupyter's `normalize.less` sets `[hidden] { display: none; }` but bootstrap.min.css set `[hidden] { display: none !important; }` so we also need the `!important` here to be able to override the default hidden behavior on the sphinx rendered scikit-learn.org. See: https://github.com/scikit-learn/scikit-learn/issues/21755 */display: inline-block !important;position: relative;}#sk-container-id-1 div.sk-text-repr-fallback {display: none;}</style><div id=\"sk-container-id-1\" class=\"sk-top-container\"><div class=\"sk-text-repr-fallback\"><pre>KNeighborsRegressor()</pre><b>In a Jupyter environment, please rerun this cell to show the HTML representation or trust the notebook. <br />On GitHub, the HTML representation is unable to render, please try loading this page with nbviewer.org.</b></div><div class=\"sk-container\" hidden><div class=\"sk-item\"><div class=\"sk-estimator sk-toggleable\"><input class=\"sk-toggleable__control sk-hidden--visually\" id=\"sk-estimator-id-1\" type=\"checkbox\" checked><label for=\"sk-estimator-id-1\" class=\"sk-toggleable__label sk-toggleable__label-arrow\">KNeighborsRegressor</label><div class=\"sk-toggleable__content\"><pre>KNeighborsRegressor()</pre></div></div></div></div></div>"
      ],
      "text/plain": [
       "KNeighborsRegressor()"
      ]
     },
     "execution_count": 26,
     "metadata": {},
     "output_type": "execute_result"
    }
   ],
   "source": [
    "knn = KNeighborsRegressor(n_neighbors=5)\n",
    "knn.fit(X_train, y_train)"
   ]
  },
  {
   "cell_type": "code",
   "execution_count": 27,
   "id": "bca03231",
   "metadata": {},
   "outputs": [
    {
     "name": "stdout",
     "output_type": "stream",
     "text": [
      "The Train prediction accuracy is:  91.4219742413715 %\n",
      "The Test prediction accuracy is:  82.6459687045827 %\n"
     ]
    }
   ],
   "source": [
    "# Kiểm tra độ chính xác\n",
    "print('The Train prediction accuracy is: ', knn.score(X_train, y_train)*100, '%')\n",
    "print('The Test prediction accuracy is: ', knn.score(X_test, y_test)*100, '%')"
   ]
  },
  {
   "cell_type": "code",
   "execution_count": 28,
   "id": "8aae07c8",
   "metadata": {},
   "outputs": [],
   "source": [
    "y_pred = knn.predict(X_test)"
   ]
  },
  {
   "cell_type": "code",
   "execution_count": 29,
   "id": "2a82f182",
   "metadata": {},
   "outputs": [
    {
     "data": {
      "text/html": [
       "<div>\n",
       "<style scoped>\n",
       "    .dataframe tbody tr th:only-of-type {\n",
       "        vertical-align: middle;\n",
       "    }\n",
       "\n",
       "    .dataframe tbody tr th {\n",
       "        vertical-align: top;\n",
       "    }\n",
       "\n",
       "    .dataframe thead th {\n",
       "        text-align: right;\n",
       "    }\n",
       "</style>\n",
       "<table border=\"1\" class=\"dataframe\">\n",
       "  <thead>\n",
       "    <tr style=\"text-align: right;\">\n",
       "      <th></th>\n",
       "      <th>Actual</th>\n",
       "      <th>Prediction</th>\n",
       "    </tr>\n",
       "  </thead>\n",
       "  <tbody>\n",
       "    <tr>\n",
       "      <th>0</th>\n",
       "      <td>10.388771</td>\n",
       "      <td>9.403745</td>\n",
       "    </tr>\n",
       "    <tr>\n",
       "      <th>1</th>\n",
       "      <td>8.255973</td>\n",
       "      <td>8.256335</td>\n",
       "    </tr>\n",
       "    <tr>\n",
       "      <th>2</th>\n",
       "      <td>6.243745</td>\n",
       "      <td>6.611224</td>\n",
       "    </tr>\n",
       "    <tr>\n",
       "      <th>3</th>\n",
       "      <td>8.280075</td>\n",
       "      <td>8.275882</td>\n",
       "    </tr>\n",
       "    <tr>\n",
       "      <th>4</th>\n",
       "      <td>10.165246</td>\n",
       "      <td>8.771872</td>\n",
       "    </tr>\n",
       "  </tbody>\n",
       "</table>\n",
       "</div>"
      ],
      "text/plain": [
       "      Actual  Prediction\n",
       "0  10.388771    9.403745\n",
       "1   8.255973    8.256335\n",
       "2   6.243745    6.611224\n",
       "3   8.280075    8.275882\n",
       "4  10.165246    8.771872"
      ]
     },
     "execution_count": 29,
     "metadata": {},
     "output_type": "execute_result"
    }
   ],
   "source": [
    "df=pd.DataFrame({'Actual':pd.DataFrame(y_test)[0].values,\n",
    "                 'Prediction':pd.DataFrame(y_pred)[0].values})\n",
    "df.head()"
   ]
  },
  {
   "cell_type": "code",
   "execution_count": 30,
   "id": "6be93573",
   "metadata": {},
   "outputs": [],
   "source": [
    "# đánh giá model\n",
    "from sklearn.metrics import mean_squared_error, r2_score"
   ]
  },
  {
   "cell_type": "code",
   "execution_count": 31,
   "id": "e7894c9e",
   "metadata": {},
   "outputs": [
    {
     "name": "stdout",
     "output_type": "stream",
     "text": [
      "Mean squared error: 0.16\n",
      "Variance score: 0.89\n"
     ]
    }
   ],
   "source": [
    "# The mean squared error\n",
    "print(\"Mean squared error: %.2f\"\n",
    "      % mean_squared_error(outputs, knn.predict(inputs)))\n",
    "# Explained variance score: 1 is perfect prediction\n",
    "print('Variance score: %.2f' % knn.score(inputs, outputs))"
   ]
  },
  {
   "cell_type": "code",
   "execution_count": 32,
   "id": "f96ad0ab",
   "metadata": {},
   "outputs": [
    {
     "name": "stdout",
     "output_type": "stream",
     "text": [
      "k= 2 : MSE is  0.2175661281035272\n",
      "k= 3 : MSE is  0.23800607557410788\n",
      "k= 4 : MSE is  0.22798725469193132\n",
      "k= 5 : MSE is  0.25007787979719853\n",
      "k= 6 : MSE is  0.25760891799672725\n",
      "k= 7 : MSE is  0.2758151215385532\n",
      "k= 8 : MSE is  0.28236563328099273\n",
      "k= 9 : MSE is  0.29044676683217097\n",
      "k= 10 : MSE is  0.29920311376893305\n",
      "k= 11 : MSE is  0.3119299441547545\n",
      "k= 12 : MSE is  0.3197414834345512\n",
      "k= 13 : MSE is  0.3255255081948517\n",
      "k= 14 : MSE is  0.33239334185668473\n",
      "k= 15 : MSE is  0.337698690927399\n",
      "k= 16 : MSE is  0.33830344900516796\n",
      "k= 17 : MSE is  0.3444947207724089\n",
      "k= 18 : MSE is  0.34806360549768217\n",
      "k= 19 : MSE is  0.3484887704456011\n",
      "k= 20 : MSE is  0.3550374195815932\n",
      "k= 21 : MSE is  0.3588532686153979\n"
     ]
    }
   ],
   "source": [
    "list_k = []\n",
    "list_mse_train = []\n",
    "for K_value in range(2,int(y_train.shape[0]**0.5)):\n",
    "    list_k.append(K_value)\n",
    "    neigh = KNeighborsRegressor(n_neighbors= K_value)\n",
    "    neigh.fit(X_train, y_train)\n",
    "    y_pred = neigh.predict(X_test)\n",
    "    mse = mean_squared_error(y_test, y_pred)\n",
    "    list_mse_train.append(mse)\n",
    "    print(\"k=\", K_value, \": MSE is \", mean_squared_error(y_test, y_pred))\n",
    "    "
   ]
  },
  {
   "cell_type": "code",
   "execution_count": 33,
   "id": "fbf0611f",
   "metadata": {},
   "outputs": [
    {
     "name": "stdout",
     "output_type": "stream",
     "text": [
      "k= 2 : MSE is  0.0860728269752209\n",
      "k= 3 : MSE is  0.1404043158384033\n",
      "k= 4 : MSE is  0.17471816931629394\n",
      "k= 5 : MSE is  0.1941432081918232\n",
      "k= 6 : MSE is  0.22161087888703013\n",
      "k= 7 : MSE is  0.24685536631616936\n",
      "k= 8 : MSE is  0.27145775784311865\n",
      "k= 9 : MSE is  0.2825014184099438\n",
      "k= 10 : MSE is  0.29880673932470014\n",
      "k= 11 : MSE is  0.3103223689756852\n",
      "k= 12 : MSE is  0.3202364893706816\n",
      "k= 13 : MSE is  0.3280362326016509\n",
      "k= 14 : MSE is  0.33690778594638265\n",
      "k= 15 : MSE is  0.34418142876507557\n",
      "k= 16 : MSE is  0.35442244948635543\n",
      "k= 17 : MSE is  0.35594668582617306\n",
      "k= 18 : MSE is  0.35995678174517415\n",
      "k= 19 : MSE is  0.3612671956125967\n",
      "k= 20 : MSE is  0.367324198870572\n",
      "k= 21 : MSE is  0.3716428003446925\n"
     ]
    }
   ],
   "source": [
    "list_k = []\n",
    "list_mse_test = []\n",
    "for K_value in range(2,int(y_train.shape[0]**0.5)):\n",
    "    list_k.append(K_value)\n",
    "    neigh = KNeighborsRegressor(n_neighbors= K_value)\n",
    "    neigh.fit(X_test, y_test)\n",
    "    y_pred = neigh.predict(X_test)\n",
    "    mse = mean_squared_error(y_test, y_pred)\n",
    "    list_mse_test.append(mse)\n",
    "    print(\"k=\", K_value, \": MSE is \", mean_squared_error(y_test, y_pred))\n",
    "    "
   ]
  },
  {
   "cell_type": "code",
   "execution_count": 34,
   "id": "3d1d91c0",
   "metadata": {},
   "outputs": [
    {
     "data": {
      "image/png": "[encoded data removed]",
      "text/plain": [
       "<Figure size 640x480 with 1 Axes>"
      ]
     },
     "metadata": {},
     "output_type": "display_data"
    }
   ],
   "source": [
    "plt.plot(list_k,list_mse_train,list_mse_test)\n",
    "plt.xlabel('Number of Neighbors K')\n",
    "plt.ylabel('Test Accuracy')\n",
    "plt.show()"
   ]
  },
  {
   "cell_type": "code",
   "execution_count": null,
   "id": "1a8806f6",
   "metadata": {},
   "outputs": [],
   "source": []
  },
  {
   "cell_type": "code",
   "execution_count": null,
   "id": "76c5e911",
   "metadata": {},
   "outputs": [],
   "source": []
  },
  {
   "cell_type": "raw",
   "id": "4959923e",
   "metadata": {},
   "source": []
  }
 ],
 "metadata": {
  "kernelspec": {
   "display_name": "Python 3 (ipykernel)",
   "language": "python",
   "name": "python3"
  },
  "language_info": {
   "codemirror_mode": {
    "name": "ipython",
    "version": 3
   },
   "file_extension": ".py",
   "mimetype": "text/x-python",
   "name": "python",
   "nbconvert_exporter": "python",
   "pygments_lexer": "ipython3",
   "version": "3.9.13"
  }
 },
 "nbformat": 4,
 "nbformat_minor": 5
}
