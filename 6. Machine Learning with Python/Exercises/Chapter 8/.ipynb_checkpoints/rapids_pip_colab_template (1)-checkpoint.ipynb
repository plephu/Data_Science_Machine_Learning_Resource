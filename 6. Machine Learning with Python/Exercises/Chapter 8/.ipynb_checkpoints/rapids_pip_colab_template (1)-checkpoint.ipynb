{
 "cells": [
  {
   "cell_type": "markdown",
   "metadata": {
    "id": "scfLT2i0MLyD"
   },
   "source": [
    "# Environment Sanity Check #\n",
    "\n",
    "Click the _Runtime_ dropdown at the top of the page, then _Change Runtime Type_ and confirm the instance type is _GPU_.\n",
    "\n",
    "Check the output of `!nvidia-smi` to make sure you've been allocated a Tesla T4, P4, or P100."
   ]
  },
  {
   "cell_type": "code",
   "execution_count": 1,
   "metadata": {
    "colab": {
     "base_uri": "https://localhost:8080/"
    },
    "executionInfo": {
     "elapsed": 1416,
     "status": "ok",
     "timestamp": 1690080500352,
     "user": {
      "displayName": "Eric Le",
      "userId": "12788495407051107009"
     },
     "user_tz": -420
    },
    "id": "67T0090Jk2KL",
    "outputId": "13e16389-b22d-4f7e-bc56-85feb53464ef"
   },
   "outputs": [
    {
     "name": "stderr",
     "output_type": "stream",
     "text": [
      "'nvidia-smi' is not recognized as an internal or external command,\n",
      "operable program or batch file.\n"
     ]
    }
   ],
   "source": [
    "!nvidia-smi"
   ]
  },
  {
   "cell_type": "markdown",
   "metadata": {
    "id": "CtNdk7PSafKP"
   },
   "source": [
    "#Setup:\n",
    "This set up script:\n",
    "\n",
    "1. Checks to make sure that the GPU is RAPIDS compatible\n",
    "1. Installs the **current stable version** of RAPIDSAI's core libraries using pip, which are:\n",
    "  1. cuDF\n",
    "  1. cuML\n",
    "  1. cuGraph\n",
    "  1. xgboost\n",
    "\n",
    "**This will complete in about 3-4 minutes**\n",
    "\n",
    "Please use the [RAPIDS Conda Colab Template notebook](https://colab.research.google.com/drive/1TAAi_szMfWqRfHVfjGSqnGVLr_ztzUM9) if you need to install any of RAPIDS Extended libraries, such as:\n",
    "- cuSpatial\n",
    "- cuSignal\n",
    "- cuxFilter\n",
    "- cuCIM\n",
    "\n",
    "OR\n",
    "- nightly versions of any library\n"
   ]
  },
  {
   "cell_type": "code",
   "execution_count": 2,
   "metadata": {
    "colab": {
     "base_uri": "https://localhost:8080/"
    },
    "executionInfo": {
     "elapsed": 224719,
     "status": "ok",
     "timestamp": 1690080730672,
     "user": {
      "displayName": "Eric Le",
      "userId": "12788495407051107009"
     },
     "user_tz": -420
    },
    "id": "B0C8IV5TQnjN",
    "outputId": "7834ff8f-916a-4aa4-df11-2d968654740a"
   },
   "outputs": [
    {
     "name": "stderr",
     "output_type": "stream",
     "text": [
      "'git' is not recognized as an internal or external command,\n",
      "operable program or batch file.\n",
      "python: can't open file 'C:\\Users\\phamp\\OneDrive\\Phu\\Python\\6. Machine Learning with Python\\BaiTap\\Chapter 8\\rapidsai-csp-utils\\colab\\pip-install.py': [Errno 2] No such file or directory\n"
     ]
    }
   ],
   "source": [
    "# This get the RAPIDS-Colab install files and test check your GPU.  Run this and the next cell only.\n",
    "# Please read the output of this cell.  If your Colab Instance is not RAPIDS compatible, it will warn you and give you remediation steps.\n",
    "!git clone https://github.com/rapidsai/rapidsai-csp-utils.git\n",
    "!python rapidsai-csp-utils/colab/pip-install.py\n"
   ]
  },
  {
   "cell_type": "markdown",
   "metadata": {
    "id": "pZJMJ6BulmMn"
   },
   "source": [
    "# RAPIDS is now installed on Colab.  \n",
    "You can copy your code into the cells below or use the below to validate your RAPIDS installation and version.  \n",
    "# Enjoy!"
   ]
  },
  {
   "cell_type": "code",
   "execution_count": null,
   "metadata": {
    "colab": {
     "base_uri": "https://localhost:8080/",
     "height": 35
    },
    "executionInfo": {
     "elapsed": 5942,
     "status": "ok",
     "timestamp": 1686452011373,
     "user": {
      "displayName": "Eric Le",
      "userId": "12788495407051107009"
     },
     "user_tz": -420
    },
    "id": "4nLrk46BllED",
    "outputId": "acfdb3a4-bfd1-4129-9d3b-e6c1e00174b5"
   },
   "outputs": [
    {
     "data": {
      "application/vnd.google.colaboratory.intrinsic+json": {
       "type": "string"
      },
      "text/plain": [
       "'23.06.00'"
      ]
     },
     "execution_count": 3,
     "metadata": {},
     "output_type": "execute_result"
    }
   ],
   "source": [
    "import cudf\n",
    "cudf.__version__"
   ]
  },
  {
   "cell_type": "code",
   "execution_count": null,
   "metadata": {
    "colab": {
     "base_uri": "https://localhost:8080/",
     "height": 35
    },
    "executionInfo": {
     "elapsed": 1950,
     "status": "ok",
     "timestamp": 1686452013318,
     "user": {
      "displayName": "Eric Le",
      "userId": "12788495407051107009"
     },
     "user_tz": -420
    },
    "id": "xgAFgI15ddf6",
    "outputId": "d2e2a0ce-f513-4ee4-e267-7b37ca5db9e5"
   },
   "outputs": [
    {
     "data": {
      "application/vnd.google.colaboratory.intrinsic+json": {
       "type": "string"
      },
      "text/plain": [
       "'23.06.00'"
      ]
     },
     "execution_count": 4,
     "metadata": {},
     "output_type": "execute_result"
    }
   ],
   "source": [
    "import cuml\n",
    "cuml.__version__"
   ]
  },
  {
   "cell_type": "code",
   "execution_count": null,
   "metadata": {
    "colab": {
     "base_uri": "https://localhost:8080/",
     "height": 35
    },
    "executionInfo": {
     "elapsed": 14835,
     "status": "ok",
     "timestamp": 1686452028150,
     "user": {
      "displayName": "Eric Le",
      "userId": "12788495407051107009"
     },
     "user_tz": -420
    },
    "id": "JOCMWaUal1fI",
    "outputId": "e9f8f30a-2e51-45bf-a2d3-3ab30e585cbc"
   },
   "outputs": [
    {
     "data": {
      "application/vnd.google.colaboratory.intrinsic+json": {
       "type": "string"
      },
      "text/plain": [
       "'23.06.01'"
      ]
     },
     "execution_count": 5,
     "metadata": {},
     "output_type": "execute_result"
    }
   ],
   "source": [
    "import cugraph\n",
    "cugraph.__version__"
   ]
  },
  {
   "cell_type": "markdown",
   "metadata": {
    "id": "Dlsyk9m9NN2K"
   },
   "source": [
    "# Next Steps #\n",
    "\n",
    "For an overview of how you can access and work with your own datasets in Colab, check out [this guide](https://towardsdatascience.com/3-ways-to-load-csv-files-into-colab-7c14fcbdcb92).\n",
    "\n",
    "For more RAPIDS examples, check out our RAPIDS notebooks repos:\n",
    "1. https://github.com/rapidsai/notebooks\n",
    "2. https://github.com/rapidsai/notebooks-contrib"
   ]
  },
  {
   "cell_type": "code",
   "execution_count": null,
   "metadata": {
    "colab": {
     "base_uri": "https://localhost:8080/"
    },
    "executionInfo": {
     "elapsed": 2784,
     "status": "ok",
     "timestamp": 1686452164124,
     "user": {
      "displayName": "Eric Le",
      "userId": "12788495407051107009"
     },
     "user_tz": -420
    },
    "id": "9GE3Jvj8d3_M",
    "outputId": "ab2293fa-7aa4-499f-b538-3454cd77b15e"
   },
   "outputs": [
    {
     "name": "stdout",
     "output_type": "stream",
     "text": [
      "Time taken on CPU =  1.1782793998718262\n",
      "Time taken on GPU =  0.8428521156311035\n",
      "CPU Time to GPU time ratio:  1.397966948198931\n"
     ]
    }
   ],
   "source": [
    "# KNN Using sklearn\n",
    "# Import necessary modules\n",
    "import time\n",
    "from sklearn.neighbors import KNeighborsClassifier\n",
    "import pandas as pd\n",
    "#cudf is NVIDIA's GPU accelerated Pandas-like library\n",
    "start = time.time()\n",
    "# Loading the training data\n",
    "Data_train = pd.read_csv('train_sample.csv')\n",
    "# Create feature and target arrays for training data\n",
    "X_train = Data_train.iloc[:,1:]\n",
    "Y_train = Data_train.iloc[:,1]\n",
    "# Loading the testing data\n",
    "Data_test = pd.read_csv('test_sample.csv')\n",
    "# Create feature and target arrays for testing data\n",
    "X_test = Data_test.iloc[:,1:]\n",
    "Y_test = Data_test.iloc[:,1]\n",
    "knn = KNeighborsClassifier(n_neighbors=7)\n",
    "knn.fit(X_train, Y_train)\n",
    "# Predict on dataset which model has not seen before\n",
    "Y = knn.predict(X_test)\n",
    "end = time.time()\n",
    "CPU_time = end-start\n",
    "print(\"Time taken on CPU = \",CPU_time)\n",
    "# KNN Using cuml\n",
    "# Import necessary modules\n",
    "import time\n",
    "from cuml.neighbors import KNeighborsClassifier\n",
    "import cudf\n",
    "#cudf is NVIDIA's GPU accelerated Pandas-like library\n",
    "start = time.time()\n",
    "# Loading the training data\n",
    "Data_train = cudf.read_csv('train_sample.csv')\n",
    "# Create feature and target arrays for training data\n",
    "X_train = Data_train.iloc[:,1:]\n",
    "Y_train = Data_train.iloc[:,1]\n",
    "# Loading the testing data\n",
    "Data_test = cudf.read_csv('test_sample.csv')\n",
    "# Create feature and target arrays for testing data\n",
    "X_test = Data_test.iloc[:,1:]\n",
    "Y_test = Data_test.iloc[:,1]\n",
    "knn = KNeighborsClassifier(n_neighbors=7)\n",
    "knn.fit(X_train, Y_train)\n",
    "# Predict on dataset which model has not seen before\n",
    "Y = knn.predict(X_test)\n",
    "end = time.time()\n",
    "GPU_time = end-start\n",
    "print(\"Time taken on GPU = \",GPU_time)\n",
    "# Comparing sklearn and cuml processing times\n",
    "print(\"CPU Time to GPU time ratio: \",CPU_time/GPU_time)"
   ]
  },
  {
   "cell_type": "code",
   "execution_count": null,
   "metadata": {
    "id": "zT0FEj95iCKV"
   },
   "outputs": [],
   "source": [
    "import numpy as np\n",
    "import pandas as pd\n",
    "\n",
    "from sklearn import datasets\n",
    "from sklearn.model_selection import train_test_split\n",
    "from sklearn.preprocessing import StandardScaler\n",
    "from sklearn.linear_model import LogisticRegression, LinearRegression, Ridge\n",
    "from sklearn.ensemble import RandomForestClassifier\n",
    "from sklearn.svm import SVC\n",
    "from sklearn.neighbors import KNeighborsClassifier, KNeighborsRegressor\n",
    "from sklearn.datasets import make_moons\n",
    "\n",
    "from cuml.linear_model import (LogisticRegression as LogisticRegression_GPU,\n",
    "                               LinearRegression as LinearRegression_gpu,\n",
    "                              Ridge as Ridge_gpu)\n",
    "from cuml.svm import SVC as SVC_gpu\n",
    "from cuml.ensemble import RandomForestClassifier as RandomForestClassifier_gpu\n",
    "from cuml.neighbors import (KNeighborsClassifier as KNeighborsClassifier_gpu,\n",
    "                            KNeighborsRegressor as KNeighborsRegressor_gpu)\n",
    "\n",
    "from time import time\n",
    "from timeit import Timer, timeit"
   ]
  },
  {
   "cell_type": "code",
   "execution_count": null,
   "metadata": {
    "colab": {
     "base_uri": "https://localhost:8080/"
    },
    "executionInfo": {
     "elapsed": 2712,
     "status": "ok",
     "timestamp": 1686452258022,
     "user": {
      "displayName": "Eric Le",
      "userId": "12788495407051107009"
     },
     "user_tz": -420
    },
    "id": "fVjo5Ew0h1xe",
    "outputId": "2af0220c-503d-4afb-9cc9-62a16a6ec7b7"
   },
   "outputs": [
    {
     "name": "stdout",
     "output_type": "stream",
     "text": [
      "Time taken on CPU =  1.6784124374389648\n",
      "Time taken on GPU =  0.2896006107330322\n",
      "CPU Time to GPU time ratio:  5.7956108351795095\n"
     ]
    }
   ],
   "source": [
    "X, y  = datasets.make_classification(n_samples=40000)\n",
    "X = X.astype(np.float32)\n",
    "y = y.astype(np.float32)\n",
    "X_train, X_test, y_train, y_test = train_test_split(X, y, test_size=0.33, random_state=42)\n",
    "start = time()\n",
    "knn = KNeighborsClassifier(n_neighbors=7)\n",
    "knn.fit(X_train, y_train)\n",
    "# Predict on dataset which model has not seen before\n",
    "Y = knn.predict(X_test)\n",
    "end = time()\n",
    "CPU_time = end-start\n",
    "print(\"Time taken on CPU = \",CPU_time)\n",
    "\n",
    "## on gpu\n",
    "start = time()\n",
    "\n",
    "knn = KNeighborsClassifier_gpu(n_neighbors=7)\n",
    "knn.fit(X_train, y_train)\n",
    "# Predict on dataset which model has not seen before\n",
    "Y = knn.predict(X_test)\n",
    "end = time()\n",
    "GPU_time = end-start\n",
    "print(\"Time taken on GPU = \",GPU_time)\n",
    "\n",
    "# Comparing sklearn and cuml processing times\n",
    "print(\"CPU Time to GPU time ratio: \",CPU_time/GPU_time)"
   ]
  },
  {
   "cell_type": "code",
   "execution_count": null,
   "metadata": {
    "id": "t2woiItojmQZ"
   },
   "outputs": [],
   "source": []
  },
  {
   "cell_type": "code",
   "execution_count": null,
   "metadata": {
    "id": "JDnwadqWhcNX"
   },
   "outputs": [],
   "source": []
  }
 ],
 "metadata": {
  "accelerator": "GPU",
  "colab": {
   "gpuType": "T4",
   "provenance": []
  },
  "kernelspec": {
   "display_name": "Python 3 (ipykernel)",
   "language": "python",
   "name": "python3"
  },
  "language_info": {
   "codemirror_mode": {
    "name": "ipython",
    "version": 3
   },
   "file_extension": ".py",
   "mimetype": "text/x-python",
   "name": "python",
   "nbconvert_exporter": "python",
   "pygments_lexer": "ipython3",
   "version": "3.9.12"
  }
 },
 "nbformat": 4,
 "nbformat_minor": 1
}
