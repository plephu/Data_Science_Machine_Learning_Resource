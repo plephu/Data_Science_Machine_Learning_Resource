{
 "cells": [
  {
   "cell_type": "code",
   "execution_count": 1,
   "id": "6daa6678-ad8e-4403-82e3-42621d3cd933",
   "metadata": {},
   "outputs": [],
   "source": [
    "import pandas as pd"
   ]
  },
  {
   "cell_type": "code",
   "execution_count": 2,
   "id": "ff661ec8-3d63-4ef7-a94d-aea7bde2733a",
   "metadata": {},
   "outputs": [
    {
     "name": "stdout",
     "output_type": "stream",
     "text": [
      "Defaulting to user installation because normal site-packages is not writeable\n",
      "Collecting mlxtend\n",
      "  Downloading mlxtend-0.22.0-py2.py3-none-any.whl (1.4 MB)\n",
      "     ---------------------------------------- 1.4/1.4 MB 3.1 MB/s eta 0:00:00\n",
      "Requirement already satisfied: numpy>=1.16.2 in c:\\program files\\python39\\lib\\site-packages (from mlxtend) (1.23.4)\n",
      "Requirement already satisfied: pandas>=0.24.2 in c:\\program files\\python39\\lib\\site-packages (from mlxtend) (1.5.1)\n",
      "Requirement already satisfied: matplotlib>=3.0.0 in c:\\program files\\python39\\lib\\site-packages (from mlxtend) (3.6.2)\n",
      "Requirement already satisfied: joblib>=0.13.2 in c:\\program files\\python39\\lib\\site-packages (from mlxtend) (1.2.0)\n",
      "Requirement already satisfied: scikit-learn>=1.0.2 in c:\\program files\\python39\\lib\\site-packages (from mlxtend) (1.2.2)\n",
      "Requirement already satisfied: setuptools in c:\\program files\\python39\\lib\\site-packages (from mlxtend) (58.1.0)\n",
      "Requirement already satisfied: scipy>=1.2.1 in c:\\program files\\python39\\lib\\site-packages (from mlxtend) (1.9.3)\n",
      "Requirement already satisfied: packaging>=20.0 in c:\\users\\aw\\appdata\\roaming\\python\\python39\\site-packages (from matplotlib>=3.0.0->mlxtend) (21.3)\n",
      "Requirement already satisfied: pyparsing>=2.2.1 in c:\\users\\aw\\appdata\\roaming\\python\\python39\\site-packages (from matplotlib>=3.0.0->mlxtend) (3.0.9)\n",
      "Requirement already satisfied: pillow>=6.2.0 in c:\\program files\\python39\\lib\\site-packages (from matplotlib>=3.0.0->mlxtend) (9.3.0)\n",
      "Requirement already satisfied: kiwisolver>=1.0.1 in c:\\program files\\python39\\lib\\site-packages (from matplotlib>=3.0.0->mlxtend) (1.4.4)\n",
      "Requirement already satisfied: cycler>=0.10 in c:\\program files\\python39\\lib\\site-packages (from matplotlib>=3.0.0->mlxtend) (0.11.0)\n",
      "Requirement already satisfied: python-dateutil>=2.7 in c:\\users\\aw\\appdata\\roaming\\python\\python39\\site-packages (from matplotlib>=3.0.0->mlxtend) (2.8.2)\n",
      "Requirement already satisfied: contourpy>=1.0.1 in c:\\program files\\python39\\lib\\site-packages (from matplotlib>=3.0.0->mlxtend) (1.0.6)\n",
      "Requirement already satisfied: fonttools>=4.22.0 in c:\\program files\\python39\\lib\\site-packages (from matplotlib>=3.0.0->mlxtend) (4.38.0)\n",
      "Requirement already satisfied: pytz>=2020.1 in c:\\program files\\python39\\lib\\site-packages (from pandas>=0.24.2->mlxtend) (2022.6)\n",
      "Requirement already satisfied: threadpoolctl>=2.0.0 in c:\\program files\\python39\\lib\\site-packages (from scikit-learn>=1.0.2->mlxtend) (3.1.0)\n",
      "Requirement already satisfied: six>=1.5 in c:\\users\\aw\\appdata\\roaming\\python\\python39\\site-packages (from python-dateutil>=2.7->matplotlib>=3.0.0->mlxtend) (1.16.0)\n",
      "Installing collected packages: mlxtend\n",
      "Successfully installed mlxtend-0.22.0\n"
     ]
    },
    {
     "name": "stderr",
     "output_type": "stream",
     "text": [
      "\n",
      "[notice] A new release of pip is available: 23.0.1 -> 23.2.1\n",
      "[notice] To update, run: python.exe -m pip install --upgrade pip\n"
     ]
    }
   ],
   "source": [
    "!pip install mlxtend"
   ]
  },
  {
   "cell_type": "code",
   "execution_count": 3,
   "id": "3f09f7a0-505e-439d-8d6d-16d166bdb3a6",
   "metadata": {},
   "outputs": [],
   "source": [
    "from mlxtend.frequent_patterns import apriori\n",
    "from mlxtend.frequent_patterns import association_rules"
   ]
  },
  {
   "cell_type": "markdown",
   "id": "fafb9569-58f6-4500-949d-a0a57b2c04da",
   "metadata": {},
   "source": [
    "## 1. Read some data"
   ]
  },
  {
   "cell_type": "markdown",
   "id": "ae2b7b8e-9cba-45d0-a72a-221722ac21a6",
   "metadata": {},
   "source": [
    "this dataset contains several rows, Each row is actually a transaction with name of items that user bought"
   ]
  },
  {
   "cell_type": "code",
   "execution_count": 4,
   "id": "0e3f7364-e1ca-4dcc-84e9-9d420ecfd95a",
   "metadata": {},
   "outputs": [],
   "source": [
    "data = pd.read_csv(\"store_data.csv\",header=None)"
   ]
  },
  {
   "cell_type": "code",
   "execution_count": 5,
   "id": "4e059b3d-43a2-40c6-a472-3d6f47543845",
   "metadata": {},
   "outputs": [
    {
     "data": {
      "text/html": [
       "<div>\n",
       "<style scoped>\n",
       "    .dataframe tbody tr th:only-of-type {\n",
       "        vertical-align: middle;\n",
       "    }\n",
       "\n",
       "    .dataframe tbody tr th {\n",
       "        vertical-align: top;\n",
       "    }\n",
       "\n",
       "    .dataframe thead th {\n",
       "        text-align: right;\n",
       "    }\n",
       "</style>\n",
       "<table border=\"1\" class=\"dataframe\">\n",
       "  <thead>\n",
       "    <tr style=\"text-align: right;\">\n",
       "      <th></th>\n",
       "      <th>0</th>\n",
       "      <th>1</th>\n",
       "      <th>2</th>\n",
       "      <th>3</th>\n",
       "      <th>4</th>\n",
       "      <th>5</th>\n",
       "      <th>6</th>\n",
       "      <th>7</th>\n",
       "      <th>8</th>\n",
       "      <th>9</th>\n",
       "      <th>10</th>\n",
       "      <th>11</th>\n",
       "      <th>12</th>\n",
       "      <th>13</th>\n",
       "      <th>14</th>\n",
       "      <th>15</th>\n",
       "      <th>16</th>\n",
       "      <th>17</th>\n",
       "      <th>18</th>\n",
       "      <th>19</th>\n",
       "    </tr>\n",
       "  </thead>\n",
       "  <tbody>\n",
       "    <tr>\n",
       "      <th>0</th>\n",
       "      <td>shrimp</td>\n",
       "      <td>almonds</td>\n",
       "      <td>avocado</td>\n",
       "      <td>vegetables mix</td>\n",
       "      <td>green grapes</td>\n",
       "      <td>whole weat flour</td>\n",
       "      <td>yams</td>\n",
       "      <td>cottage cheese</td>\n",
       "      <td>energy drink</td>\n",
       "      <td>tomato juice</td>\n",
       "      <td>low fat yogurt</td>\n",
       "      <td>green tea</td>\n",
       "      <td>honey</td>\n",
       "      <td>salad</td>\n",
       "      <td>mineral water</td>\n",
       "      <td>salmon</td>\n",
       "      <td>antioxydant juice</td>\n",
       "      <td>frozen smoothie</td>\n",
       "      <td>spinach</td>\n",
       "      <td>olive oil</td>\n",
       "    </tr>\n",
       "    <tr>\n",
       "      <th>1</th>\n",
       "      <td>burgers</td>\n",
       "      <td>meatballs</td>\n",
       "      <td>eggs</td>\n",
       "      <td>NaN</td>\n",
       "      <td>NaN</td>\n",
       "      <td>NaN</td>\n",
       "      <td>NaN</td>\n",
       "      <td>NaN</td>\n",
       "      <td>NaN</td>\n",
       "      <td>NaN</td>\n",
       "      <td>NaN</td>\n",
       "      <td>NaN</td>\n",
       "      <td>NaN</td>\n",
       "      <td>NaN</td>\n",
       "      <td>NaN</td>\n",
       "      <td>NaN</td>\n",
       "      <td>NaN</td>\n",
       "      <td>NaN</td>\n",
       "      <td>NaN</td>\n",
       "      <td>NaN</td>\n",
       "    </tr>\n",
       "    <tr>\n",
       "      <th>2</th>\n",
       "      <td>chutney</td>\n",
       "      <td>NaN</td>\n",
       "      <td>NaN</td>\n",
       "      <td>NaN</td>\n",
       "      <td>NaN</td>\n",
       "      <td>NaN</td>\n",
       "      <td>NaN</td>\n",
       "      <td>NaN</td>\n",
       "      <td>NaN</td>\n",
       "      <td>NaN</td>\n",
       "      <td>NaN</td>\n",
       "      <td>NaN</td>\n",
       "      <td>NaN</td>\n",
       "      <td>NaN</td>\n",
       "      <td>NaN</td>\n",
       "      <td>NaN</td>\n",
       "      <td>NaN</td>\n",
       "      <td>NaN</td>\n",
       "      <td>NaN</td>\n",
       "      <td>NaN</td>\n",
       "    </tr>\n",
       "  </tbody>\n",
       "</table>\n",
       "</div>"
      ],
      "text/plain": [
       "        0          1        2               3             4   \\\n",
       "0   shrimp    almonds  avocado  vegetables mix  green grapes   \n",
       "1  burgers  meatballs     eggs             NaN           NaN   \n",
       "2  chutney        NaN      NaN             NaN           NaN   \n",
       "\n",
       "                 5     6               7             8             9   \\\n",
       "0  whole weat flour  yams  cottage cheese  energy drink  tomato juice   \n",
       "1               NaN   NaN             NaN           NaN           NaN   \n",
       "2               NaN   NaN             NaN           NaN           NaN   \n",
       "\n",
       "               10         11     12     13             14      15  \\\n",
       "0  low fat yogurt  green tea  honey  salad  mineral water  salmon   \n",
       "1             NaN        NaN    NaN    NaN            NaN     NaN   \n",
       "2             NaN        NaN    NaN    NaN            NaN     NaN   \n",
       "\n",
       "                  16               17       18         19  \n",
       "0  antioxydant juice  frozen smoothie  spinach  olive oil  \n",
       "1                NaN              NaN      NaN        NaN  \n",
       "2                NaN              NaN      NaN        NaN  "
      ]
     },
     "execution_count": 5,
     "metadata": {},
     "output_type": "execute_result"
    }
   ],
   "source": [
    "data.head(3)"
   ]
  },
  {
   "cell_type": "markdown",
   "id": "9923fc20-b769-44b8-828f-6275d8c918c5",
   "metadata": {},
   "source": [
    "### Small question: should we fill NaN values?"
   ]
  },
  {
   "cell_type": "markdown",
   "id": "a0e9a6cb-37e9-4cf5-84f7-5c41d8a79af8",
   "metadata": {},
   "source": [
    "### Reformat data to the approriate format"
   ]
  },
  {
   "cell_type": "code",
   "execution_count": 6,
   "id": "2387a4a7-6255-4545-8d45-c4377a8416bc",
   "metadata": {},
   "outputs": [],
   "source": [
    "records = []\n",
    "num_rows = data.shape[0]\n",
    "num_cols = data.shape[1]\n",
    "for i in range(num_rows):\n",
    "    this_row = []\n",
    "    for j in range(num_cols):\n",
    "        this_row.append(str(data.iloc[i,j]))\n",
    "    ## add this row to records\n",
    "    records.append(this_row)"
   ]
  },
  {
   "cell_type": "code",
   "execution_count": 7,
   "id": "98e6cee2-e851-42a0-bcfd-7535e0876db1",
   "metadata": {},
   "outputs": [
    {
     "data": {
      "text/plain": [
       "['burgers',\n",
       " 'meatballs',\n",
       " 'eggs',\n",
       " 'nan',\n",
       " 'nan',\n",
       " 'nan',\n",
       " 'nan',\n",
       " 'nan',\n",
       " 'nan',\n",
       " 'nan',\n",
       " 'nan',\n",
       " 'nan',\n",
       " 'nan',\n",
       " 'nan',\n",
       " 'nan',\n",
       " 'nan',\n",
       " 'nan',\n",
       " 'nan',\n",
       " 'nan',\n",
       " 'nan']"
      ]
     },
     "execution_count": 7,
     "metadata": {},
     "output_type": "execute_result"
    }
   ],
   "source": [
    "records[1]"
   ]
  },
  {
   "cell_type": "markdown",
   "id": "a6b0a666-7cae-4ef5-b2cb-da7c6aa748bd",
   "metadata": {},
   "source": [
    "#### Use TransactionalEncoder"
   ]
  },
  {
   "cell_type": "code",
   "execution_count": 8,
   "id": "b5401387-a179-4637-b815-c759632ef740",
   "metadata": {},
   "outputs": [],
   "source": [
    "from mlxtend.preprocessing import TransactionEncoder\n",
    "te = TransactionEncoder()\n",
    "te_ary = te.fit(records).transform(records)"
   ]
  },
  {
   "cell_type": "code",
   "execution_count": 9,
   "id": "54197f00-dbf1-48a6-b1e4-17d026e4aaf8",
   "metadata": {},
   "outputs": [
    {
     "data": {
      "text/plain": [
       "array([[False,  True,  True, ...,  True, False, False],\n",
       "       [False, False, False, ..., False, False, False],\n",
       "       [False, False, False, ..., False, False, False],\n",
       "       ...,\n",
       "       [False, False, False, ..., False, False, False],\n",
       "       [False, False, False, ..., False, False, False],\n",
       "       [False, False, False, ..., False,  True, False]])"
      ]
     },
     "execution_count": 9,
     "metadata": {},
     "output_type": "execute_result"
    }
   ],
   "source": [
    "te_ary"
   ]
  },
  {
   "cell_type": "code",
   "execution_count": 10,
   "id": "4979774a-9501-49e9-92f1-9a485aac9869",
   "metadata": {
    "scrolled": true,
    "tags": []
   },
   "outputs": [
    {
     "data": {
      "text/plain": [
       "[' asparagus',\n",
       " 'almonds',\n",
       " 'antioxydant juice',\n",
       " 'asparagus',\n",
       " 'avocado',\n",
       " 'babies food',\n",
       " 'bacon',\n",
       " 'barbecue sauce',\n",
       " 'black tea',\n",
       " 'blueberries',\n",
       " 'body spray',\n",
       " 'bramble',\n",
       " 'brownies',\n",
       " 'bug spray',\n",
       " 'burger sauce',\n",
       " 'burgers',\n",
       " 'butter',\n",
       " 'cake',\n",
       " 'candy bars',\n",
       " 'carrots',\n",
       " 'cauliflower',\n",
       " 'cereals',\n",
       " 'champagne',\n",
       " 'chicken',\n",
       " 'chili',\n",
       " 'chocolate',\n",
       " 'chocolate bread',\n",
       " 'chutney',\n",
       " 'cider',\n",
       " 'clothes accessories',\n",
       " 'cookies',\n",
       " 'cooking oil',\n",
       " 'corn',\n",
       " 'cottage cheese',\n",
       " 'cream',\n",
       " 'dessert wine',\n",
       " 'eggplant',\n",
       " 'eggs',\n",
       " 'energy bar',\n",
       " 'energy drink',\n",
       " 'escalope',\n",
       " 'extra dark chocolate',\n",
       " 'flax seed',\n",
       " 'french fries',\n",
       " 'french wine',\n",
       " 'fresh bread',\n",
       " 'fresh tuna',\n",
       " 'fromage blanc',\n",
       " 'frozen smoothie',\n",
       " 'frozen vegetables',\n",
       " 'gluten free bar',\n",
       " 'grated cheese',\n",
       " 'green beans',\n",
       " 'green grapes',\n",
       " 'green tea',\n",
       " 'ground beef',\n",
       " 'gums',\n",
       " 'ham',\n",
       " 'hand protein bar',\n",
       " 'herb & pepper',\n",
       " 'honey',\n",
       " 'hot dogs',\n",
       " 'ketchup',\n",
       " 'light cream',\n",
       " 'light mayo',\n",
       " 'low fat yogurt',\n",
       " 'magazines',\n",
       " 'mashed potato',\n",
       " 'mayonnaise',\n",
       " 'meatballs',\n",
       " 'melons',\n",
       " 'milk',\n",
       " 'mineral water',\n",
       " 'mint',\n",
       " 'mint green tea',\n",
       " 'muffins',\n",
       " 'mushroom cream sauce',\n",
       " 'nan',\n",
       " 'napkins',\n",
       " 'nonfat milk',\n",
       " 'oatmeal',\n",
       " 'oil',\n",
       " 'olive oil',\n",
       " 'pancakes',\n",
       " 'parmesan cheese',\n",
       " 'pasta',\n",
       " 'pepper',\n",
       " 'pet food',\n",
       " 'pickles',\n",
       " 'protein bar',\n",
       " 'red wine',\n",
       " 'rice',\n",
       " 'salad',\n",
       " 'salmon',\n",
       " 'salt',\n",
       " 'sandwich',\n",
       " 'shallot',\n",
       " 'shampoo',\n",
       " 'shrimp',\n",
       " 'soda',\n",
       " 'soup',\n",
       " 'spaghetti',\n",
       " 'sparkling water',\n",
       " 'spinach',\n",
       " 'strawberries',\n",
       " 'strong cheese',\n",
       " 'tea',\n",
       " 'tomato juice',\n",
       " 'tomato sauce',\n",
       " 'tomatoes',\n",
       " 'toothpaste',\n",
       " 'turkey',\n",
       " 'vegetables mix',\n",
       " 'water spray',\n",
       " 'white wine',\n",
       " 'whole weat flour',\n",
       " 'whole wheat pasta',\n",
       " 'whole wheat rice',\n",
       " 'yams',\n",
       " 'yogurt cake',\n",
       " 'zucchini']"
      ]
     },
     "execution_count": 10,
     "metadata": {},
     "output_type": "execute_result"
    }
   ],
   "source": [
    "te.columns_"
   ]
  },
  {
   "cell_type": "markdown",
   "id": "80effbf9-745b-4b3a-96a0-8edb8e07ca0e",
   "metadata": {},
   "source": [
    "### notice: something wrong about this thing: NaN is also an item!?"
   ]
  },
  {
   "cell_type": "code",
   "execution_count": 11,
   "id": "16a3744e-9b94-4fd1-b69c-1ac0dfea32eb",
   "metadata": {},
   "outputs": [],
   "source": [
    "data_new = pd.DataFrame(te_ary,columns=te.columns_)"
   ]
  },
  {
   "cell_type": "code",
   "execution_count": 12,
   "id": "11f0222d-fcfa-41aa-8c2b-03eea20385bf",
   "metadata": {},
   "outputs": [],
   "source": [
    "data_new = data_new.drop(['nan'],axis=1)"
   ]
  },
  {
   "cell_type": "code",
   "execution_count": 13,
   "id": "6c5b87ed-f646-4078-ad2a-c37d6a063373",
   "metadata": {},
   "outputs": [
    {
     "data": {
      "text/html": [
       "<div>\n",
       "<style scoped>\n",
       "    .dataframe tbody tr th:only-of-type {\n",
       "        vertical-align: middle;\n",
       "    }\n",
       "\n",
       "    .dataframe tbody tr th {\n",
       "        vertical-align: top;\n",
       "    }\n",
       "\n",
       "    .dataframe thead th {\n",
       "        text-align: right;\n",
       "    }\n",
       "</style>\n",
       "<table border=\"1\" class=\"dataframe\">\n",
       "  <thead>\n",
       "    <tr style=\"text-align: right;\">\n",
       "      <th></th>\n",
       "      <th>asparagus</th>\n",
       "      <th>almonds</th>\n",
       "      <th>antioxydant juice</th>\n",
       "      <th>asparagus</th>\n",
       "      <th>avocado</th>\n",
       "      <th>babies food</th>\n",
       "      <th>bacon</th>\n",
       "      <th>barbecue sauce</th>\n",
       "      <th>black tea</th>\n",
       "      <th>blueberries</th>\n",
       "      <th>...</th>\n",
       "      <th>turkey</th>\n",
       "      <th>vegetables mix</th>\n",
       "      <th>water spray</th>\n",
       "      <th>white wine</th>\n",
       "      <th>whole weat flour</th>\n",
       "      <th>whole wheat pasta</th>\n",
       "      <th>whole wheat rice</th>\n",
       "      <th>yams</th>\n",
       "      <th>yogurt cake</th>\n",
       "      <th>zucchini</th>\n",
       "    </tr>\n",
       "  </thead>\n",
       "  <tbody>\n",
       "    <tr>\n",
       "      <th>0</th>\n",
       "      <td>False</td>\n",
       "      <td>True</td>\n",
       "      <td>True</td>\n",
       "      <td>False</td>\n",
       "      <td>True</td>\n",
       "      <td>False</td>\n",
       "      <td>False</td>\n",
       "      <td>False</td>\n",
       "      <td>False</td>\n",
       "      <td>False</td>\n",
       "      <td>...</td>\n",
       "      <td>False</td>\n",
       "      <td>True</td>\n",
       "      <td>False</td>\n",
       "      <td>False</td>\n",
       "      <td>True</td>\n",
       "      <td>False</td>\n",
       "      <td>False</td>\n",
       "      <td>True</td>\n",
       "      <td>False</td>\n",
       "      <td>False</td>\n",
       "    </tr>\n",
       "    <tr>\n",
       "      <th>1</th>\n",
       "      <td>False</td>\n",
       "      <td>False</td>\n",
       "      <td>False</td>\n",
       "      <td>False</td>\n",
       "      <td>False</td>\n",
       "      <td>False</td>\n",
       "      <td>False</td>\n",
       "      <td>False</td>\n",
       "      <td>False</td>\n",
       "      <td>False</td>\n",
       "      <td>...</td>\n",
       "      <td>False</td>\n",
       "      <td>False</td>\n",
       "      <td>False</td>\n",
       "      <td>False</td>\n",
       "      <td>False</td>\n",
       "      <td>False</td>\n",
       "      <td>False</td>\n",
       "      <td>False</td>\n",
       "      <td>False</td>\n",
       "      <td>False</td>\n",
       "    </tr>\n",
       "    <tr>\n",
       "      <th>2</th>\n",
       "      <td>False</td>\n",
       "      <td>False</td>\n",
       "      <td>False</td>\n",
       "      <td>False</td>\n",
       "      <td>False</td>\n",
       "      <td>False</td>\n",
       "      <td>False</td>\n",
       "      <td>False</td>\n",
       "      <td>False</td>\n",
       "      <td>False</td>\n",
       "      <td>...</td>\n",
       "      <td>False</td>\n",
       "      <td>False</td>\n",
       "      <td>False</td>\n",
       "      <td>False</td>\n",
       "      <td>False</td>\n",
       "      <td>False</td>\n",
       "      <td>False</td>\n",
       "      <td>False</td>\n",
       "      <td>False</td>\n",
       "      <td>False</td>\n",
       "    </tr>\n",
       "    <tr>\n",
       "      <th>3</th>\n",
       "      <td>False</td>\n",
       "      <td>False</td>\n",
       "      <td>False</td>\n",
       "      <td>False</td>\n",
       "      <td>True</td>\n",
       "      <td>False</td>\n",
       "      <td>False</td>\n",
       "      <td>False</td>\n",
       "      <td>False</td>\n",
       "      <td>False</td>\n",
       "      <td>...</td>\n",
       "      <td>True</td>\n",
       "      <td>False</td>\n",
       "      <td>False</td>\n",
       "      <td>False</td>\n",
       "      <td>False</td>\n",
       "      <td>False</td>\n",
       "      <td>False</td>\n",
       "      <td>False</td>\n",
       "      <td>False</td>\n",
       "      <td>False</td>\n",
       "    </tr>\n",
       "  </tbody>\n",
       "</table>\n",
       "<p>4 rows × 120 columns</p>\n",
       "</div>"
      ],
      "text/plain": [
       "    asparagus  almonds  antioxydant juice  asparagus  avocado  babies food  \\\n",
       "0       False     True               True      False     True        False   \n",
       "1       False    False              False      False    False        False   \n",
       "2       False    False              False      False    False        False   \n",
       "3       False    False              False      False     True        False   \n",
       "\n",
       "   bacon  barbecue sauce  black tea  blueberries  ...  turkey  vegetables mix  \\\n",
       "0  False           False      False        False  ...   False            True   \n",
       "1  False           False      False        False  ...   False           False   \n",
       "2  False           False      False        False  ...   False           False   \n",
       "3  False           False      False        False  ...    True           False   \n",
       "\n",
       "   water spray  white wine  whole weat flour  whole wheat pasta  \\\n",
       "0        False       False              True              False   \n",
       "1        False       False             False              False   \n",
       "2        False       False             False              False   \n",
       "3        False       False             False              False   \n",
       "\n",
       "   whole wheat rice   yams  yogurt cake  zucchini  \n",
       "0             False   True        False     False  \n",
       "1             False  False        False     False  \n",
       "2             False  False        False     False  \n",
       "3             False  False        False     False  \n",
       "\n",
       "[4 rows x 120 columns]"
      ]
     },
     "execution_count": 13,
     "metadata": {},
     "output_type": "execute_result"
    }
   ],
   "source": [
    "data_new.head(4)"
   ]
  },
  {
   "cell_type": "markdown",
   "id": "d423ed1f-422e-4b00-99bd-0cb308b5e0d6",
   "metadata": {},
   "source": [
    "## 2. Let's apply the model to see what happen"
   ]
  },
  {
   "cell_type": "code",
   "execution_count": 14,
   "id": "15e86069-1e55-4a7d-aa58-32604fb6604d",
   "metadata": {},
   "outputs": [],
   "source": [
    "# call apriori function and pass minimum support here we are passing 3%. \n",
    "# means 3 % times in total number of transaction the item should be present.\n",
    "frequent_itemsets = apriori(data_new, min_support=0.03, use_colnames=True)"
   ]
  },
  {
   "cell_type": "code",
   "execution_count": 15,
   "id": "1d8d4342-2815-41db-9223-e9be143eb7e0",
   "metadata": {},
   "outputs": [
    {
     "data": {
      "text/html": [
       "<div>\n",
       "<style scoped>\n",
       "    .dataframe tbody tr th:only-of-type {\n",
       "        vertical-align: middle;\n",
       "    }\n",
       "\n",
       "    .dataframe tbody tr th {\n",
       "        vertical-align: top;\n",
       "    }\n",
       "\n",
       "    .dataframe thead th {\n",
       "        text-align: right;\n",
       "    }\n",
       "</style>\n",
       "<table border=\"1\" class=\"dataframe\">\n",
       "  <thead>\n",
       "    <tr style=\"text-align: right;\">\n",
       "      <th></th>\n",
       "      <th>support</th>\n",
       "      <th>itemsets</th>\n",
       "    </tr>\n",
       "  </thead>\n",
       "  <tbody>\n",
       "    <tr>\n",
       "      <th>0</th>\n",
       "      <td>0.033329</td>\n",
       "      <td>(avocado)</td>\n",
       "    </tr>\n",
       "    <tr>\n",
       "      <th>1</th>\n",
       "      <td>0.033729</td>\n",
       "      <td>(brownies)</td>\n",
       "    </tr>\n",
       "    <tr>\n",
       "      <th>2</th>\n",
       "      <td>0.087188</td>\n",
       "      <td>(burgers)</td>\n",
       "    </tr>\n",
       "    <tr>\n",
       "      <th>3</th>\n",
       "      <td>0.030129</td>\n",
       "      <td>(butter)</td>\n",
       "    </tr>\n",
       "    <tr>\n",
       "      <th>4</th>\n",
       "      <td>0.081056</td>\n",
       "      <td>(cake)</td>\n",
       "    </tr>\n",
       "  </tbody>\n",
       "</table>\n",
       "</div>"
      ],
      "text/plain": [
       "    support    itemsets\n",
       "0  0.033329   (avocado)\n",
       "1  0.033729  (brownies)\n",
       "2  0.087188   (burgers)\n",
       "3  0.030129    (butter)\n",
       "4  0.081056      (cake)"
      ]
     },
     "execution_count": 15,
     "metadata": {},
     "output_type": "execute_result"
    }
   ],
   "source": [
    "frequent_itemsets.head(5)"
   ]
  },
  {
   "cell_type": "code",
   "execution_count": 16,
   "id": "4bfb9dae-3908-4b07-b7bc-1e0ddaf79e8c",
   "metadata": {},
   "outputs": [
    {
     "data": {
      "text/html": [
       "<div>\n",
       "<style scoped>\n",
       "    .dataframe tbody tr th:only-of-type {\n",
       "        vertical-align: middle;\n",
       "    }\n",
       "\n",
       "    .dataframe tbody tr th {\n",
       "        vertical-align: top;\n",
       "    }\n",
       "\n",
       "    .dataframe thead th {\n",
       "        text-align: right;\n",
       "    }\n",
       "</style>\n",
       "<table border=\"1\" class=\"dataframe\">\n",
       "  <thead>\n",
       "    <tr style=\"text-align: right;\">\n",
       "      <th></th>\n",
       "      <th>support</th>\n",
       "      <th>itemsets</th>\n",
       "    </tr>\n",
       "  </thead>\n",
       "  <tbody>\n",
       "    <tr>\n",
       "      <th>49</th>\n",
       "      <td>0.039195</td>\n",
       "      <td>(ground beef, spaghetti)</td>\n",
       "    </tr>\n",
       "    <tr>\n",
       "      <th>50</th>\n",
       "      <td>0.047994</td>\n",
       "      <td>(mineral water, milk)</td>\n",
       "    </tr>\n",
       "    <tr>\n",
       "      <th>51</th>\n",
       "      <td>0.035462</td>\n",
       "      <td>(milk, spaghetti)</td>\n",
       "    </tr>\n",
       "    <tr>\n",
       "      <th>52</th>\n",
       "      <td>0.033729</td>\n",
       "      <td>(mineral water, pancakes)</td>\n",
       "    </tr>\n",
       "    <tr>\n",
       "      <th>53</th>\n",
       "      <td>0.059725</td>\n",
       "      <td>(mineral water, spaghetti)</td>\n",
       "    </tr>\n",
       "  </tbody>\n",
       "</table>\n",
       "</div>"
      ],
      "text/plain": [
       "     support                    itemsets\n",
       "49  0.039195    (ground beef, spaghetti)\n",
       "50  0.047994       (mineral water, milk)\n",
       "51  0.035462           (milk, spaghetti)\n",
       "52  0.033729   (mineral water, pancakes)\n",
       "53  0.059725  (mineral water, spaghetti)"
      ]
     },
     "execution_count": 16,
     "metadata": {},
     "output_type": "execute_result"
    }
   ],
   "source": [
    "frequent_itemsets.tail(5)"
   ]
  },
  {
   "cell_type": "code",
   "execution_count": 17,
   "id": "16debaae-b41e-4103-93bf-6ab755b84a32",
   "metadata": {},
   "outputs": [],
   "source": [
    "frequent_itemsets.to_csv(\"frequent_sets_demo1.csv\")"
   ]
  },
  {
   "cell_type": "markdown",
   "id": "92390167-383d-468c-982f-c84fcb8141df",
   "metadata": {},
   "source": [
    "### Association Rules Mining"
   ]
  },
  {
   "cell_type": "markdown",
   "id": "a23e3834-0b6f-4ac7-9c70-404c6918adc0",
   "metadata": {},
   "source": [
    "Rule generation is a common task in the mining of frequent patterns. An association rule is an implication expression of the form X→Y where X and Y are disjoint itemsets. \n",
    "\n",
    "A more concrete example based on consumer behaviour would be {Diapers}→{Beer}\n",
    " suggesting that people who buy diapers are also likely to buy beer. To evaluate the \"interest\" of such an association rule, different metrics have been developed. The current implementation make use of the confidence and lift metrics."
   ]
  },
  {
   "cell_type": "code",
   "execution_count": 18,
   "id": "dd9f0aef-c0ca-4c1b-b247-9abbe59fcd0c",
   "metadata": {},
   "outputs": [
    {
     "data": {
      "text/html": [
       "<div>\n",
       "<style scoped>\n",
       "    .dataframe tbody tr th:only-of-type {\n",
       "        vertical-align: middle;\n",
       "    }\n",
       "\n",
       "    .dataframe tbody tr th {\n",
       "        vertical-align: top;\n",
       "    }\n",
       "\n",
       "    .dataframe thead th {\n",
       "        text-align: right;\n",
       "    }\n",
       "</style>\n",
       "<table border=\"1\" class=\"dataframe\">\n",
       "  <thead>\n",
       "    <tr style=\"text-align: right;\">\n",
       "      <th></th>\n",
       "      <th>antecedents</th>\n",
       "      <th>consequents</th>\n",
       "      <th>antecedent support</th>\n",
       "      <th>consequent support</th>\n",
       "      <th>support</th>\n",
       "      <th>confidence</th>\n",
       "      <th>lift</th>\n",
       "      <th>leverage</th>\n",
       "      <th>conviction</th>\n",
       "      <th>zhangs_metric</th>\n",
       "    </tr>\n",
       "  </thead>\n",
       "  <tbody>\n",
       "    <tr>\n",
       "      <th>0</th>\n",
       "      <td>(chocolate)</td>\n",
       "      <td>(mineral water)</td>\n",
       "      <td>0.163845</td>\n",
       "      <td>0.238368</td>\n",
       "      <td>0.052660</td>\n",
       "      <td>0.321400</td>\n",
       "      <td>1.348332</td>\n",
       "      <td>0.013604</td>\n",
       "      <td>1.122357</td>\n",
       "      <td>0.308965</td>\n",
       "    </tr>\n",
       "    <tr>\n",
       "      <th>1</th>\n",
       "      <td>(frozen vegetables)</td>\n",
       "      <td>(mineral water)</td>\n",
       "      <td>0.095321</td>\n",
       "      <td>0.238368</td>\n",
       "      <td>0.035729</td>\n",
       "      <td>0.374825</td>\n",
       "      <td>1.572463</td>\n",
       "      <td>0.013007</td>\n",
       "      <td>1.218270</td>\n",
       "      <td>0.402413</td>\n",
       "    </tr>\n",
       "    <tr>\n",
       "      <th>2</th>\n",
       "      <td>(ground beef)</td>\n",
       "      <td>(mineral water)</td>\n",
       "      <td>0.098254</td>\n",
       "      <td>0.238368</td>\n",
       "      <td>0.040928</td>\n",
       "      <td>0.416554</td>\n",
       "      <td>1.747522</td>\n",
       "      <td>0.017507</td>\n",
       "      <td>1.305401</td>\n",
       "      <td>0.474369</td>\n",
       "    </tr>\n",
       "    <tr>\n",
       "      <th>3</th>\n",
       "      <td>(ground beef)</td>\n",
       "      <td>(spaghetti)</td>\n",
       "      <td>0.098254</td>\n",
       "      <td>0.174110</td>\n",
       "      <td>0.039195</td>\n",
       "      <td>0.398915</td>\n",
       "      <td>2.291162</td>\n",
       "      <td>0.022088</td>\n",
       "      <td>1.373997</td>\n",
       "      <td>0.624943</td>\n",
       "    </tr>\n",
       "    <tr>\n",
       "      <th>4</th>\n",
       "      <td>(milk)</td>\n",
       "      <td>(mineral water)</td>\n",
       "      <td>0.129583</td>\n",
       "      <td>0.238368</td>\n",
       "      <td>0.047994</td>\n",
       "      <td>0.370370</td>\n",
       "      <td>1.553774</td>\n",
       "      <td>0.017105</td>\n",
       "      <td>1.209650</td>\n",
       "      <td>0.409465</td>\n",
       "    </tr>\n",
       "  </tbody>\n",
       "</table>\n",
       "</div>"
      ],
      "text/plain": [
       "           antecedents      consequents  antecedent support  \\\n",
       "0          (chocolate)  (mineral water)            0.163845   \n",
       "1  (frozen vegetables)  (mineral water)            0.095321   \n",
       "2        (ground beef)  (mineral water)            0.098254   \n",
       "3        (ground beef)      (spaghetti)            0.098254   \n",
       "4               (milk)  (mineral water)            0.129583   \n",
       "\n",
       "   consequent support   support  confidence      lift  leverage  conviction  \\\n",
       "0            0.238368  0.052660    0.321400  1.348332  0.013604    1.122357   \n",
       "1            0.238368  0.035729    0.374825  1.572463  0.013007    1.218270   \n",
       "2            0.238368  0.040928    0.416554  1.747522  0.017507    1.305401   \n",
       "3            0.174110  0.039195    0.398915  2.291162  0.022088    1.373997   \n",
       "4            0.238368  0.047994    0.370370  1.553774  0.017105    1.209650   \n",
       "\n",
       "   zhangs_metric  \n",
       "0       0.308965  \n",
       "1       0.402413  \n",
       "2       0.474369  \n",
       "3       0.624943  \n",
       "4       0.409465  "
      ]
     },
     "execution_count": 18,
     "metadata": {},
     "output_type": "execute_result"
    }
   ],
   "source": [
    "# We would apply association rules on frequent itemset. \n",
    "# here we are setting based on lift and keeping minimum lift as 1\n",
    "\n",
    "rules_mlxtend = association_rules(frequent_itemsets, metric=\"confidence\", min_threshold=0.3)\n",
    "rules_mlxtend.head()"
   ]
  },
  {
   "cell_type": "code",
   "execution_count": 19,
   "id": "5d2c18e5-a5e6-4878-9d83-82267eaa0e6a",
   "metadata": {},
   "outputs": [
    {
     "data": {
      "text/plain": [
       "(7, 10)"
      ]
     },
     "execution_count": 19,
     "metadata": {},
     "output_type": "execute_result"
    }
   ],
   "source": [
    "rules_mlxtend.shape"
   ]
  },
  {
   "cell_type": "code",
   "execution_count": 20,
   "id": "12dd6b49-2beb-4f39-a51f-f4945c51fa92",
   "metadata": {},
   "outputs": [
    {
     "name": "stdout",
     "output_type": "stream",
     "text": [
      "number of rules:  32\n"
     ]
    },
    {
     "data": {
      "text/html": [
       "<div>\n",
       "<style scoped>\n",
       "    .dataframe tbody tr th:only-of-type {\n",
       "        vertical-align: middle;\n",
       "    }\n",
       "\n",
       "    .dataframe tbody tr th {\n",
       "        vertical-align: top;\n",
       "    }\n",
       "\n",
       "    .dataframe thead th {\n",
       "        text-align: right;\n",
       "    }\n",
       "</style>\n",
       "<table border=\"1\" class=\"dataframe\">\n",
       "  <thead>\n",
       "    <tr style=\"text-align: right;\">\n",
       "      <th></th>\n",
       "      <th>antecedents</th>\n",
       "      <th>consequents</th>\n",
       "      <th>antecedent support</th>\n",
       "      <th>consequent support</th>\n",
       "      <th>support</th>\n",
       "      <th>confidence</th>\n",
       "      <th>lift</th>\n",
       "      <th>leverage</th>\n",
       "      <th>conviction</th>\n",
       "      <th>zhangs_metric</th>\n",
       "    </tr>\n",
       "  </thead>\n",
       "  <tbody>\n",
       "    <tr>\n",
       "      <th>0</th>\n",
       "      <td>(eggs)</td>\n",
       "      <td>(chocolate)</td>\n",
       "      <td>0.179709</td>\n",
       "      <td>0.163845</td>\n",
       "      <td>0.033196</td>\n",
       "      <td>0.184718</td>\n",
       "      <td>1.127397</td>\n",
       "      <td>0.003751</td>\n",
       "      <td>1.025603</td>\n",
       "      <td>0.137757</td>\n",
       "    </tr>\n",
       "    <tr>\n",
       "      <th>1</th>\n",
       "      <td>(chocolate)</td>\n",
       "      <td>(eggs)</td>\n",
       "      <td>0.163845</td>\n",
       "      <td>0.179709</td>\n",
       "      <td>0.033196</td>\n",
       "      <td>0.202604</td>\n",
       "      <td>1.127397</td>\n",
       "      <td>0.003751</td>\n",
       "      <td>1.028711</td>\n",
       "      <td>0.135143</td>\n",
       "    </tr>\n",
       "    <tr>\n",
       "      <th>2</th>\n",
       "      <td>(french fries)</td>\n",
       "      <td>(chocolate)</td>\n",
       "      <td>0.170911</td>\n",
       "      <td>0.163845</td>\n",
       "      <td>0.034395</td>\n",
       "      <td>0.201248</td>\n",
       "      <td>1.228284</td>\n",
       "      <td>0.006393</td>\n",
       "      <td>1.046827</td>\n",
       "      <td>0.224169</td>\n",
       "    </tr>\n",
       "    <tr>\n",
       "      <th>3</th>\n",
       "      <td>(chocolate)</td>\n",
       "      <td>(french fries)</td>\n",
       "      <td>0.163845</td>\n",
       "      <td>0.170911</td>\n",
       "      <td>0.034395</td>\n",
       "      <td>0.209927</td>\n",
       "      <td>1.228284</td>\n",
       "      <td>0.006393</td>\n",
       "      <td>1.049383</td>\n",
       "      <td>0.222275</td>\n",
       "    </tr>\n",
       "    <tr>\n",
       "      <th>4</th>\n",
       "      <td>(milk)</td>\n",
       "      <td>(chocolate)</td>\n",
       "      <td>0.129583</td>\n",
       "      <td>0.163845</td>\n",
       "      <td>0.032129</td>\n",
       "      <td>0.247942</td>\n",
       "      <td>1.513276</td>\n",
       "      <td>0.010898</td>\n",
       "      <td>1.111823</td>\n",
       "      <td>0.389677</td>\n",
       "    </tr>\n",
       "  </tbody>\n",
       "</table>\n",
       "</div>"
      ],
      "text/plain": [
       "      antecedents     consequents  antecedent support  consequent support  \\\n",
       "0          (eggs)     (chocolate)            0.179709            0.163845   \n",
       "1     (chocolate)          (eggs)            0.163845            0.179709   \n",
       "2  (french fries)     (chocolate)            0.170911            0.163845   \n",
       "3     (chocolate)  (french fries)            0.163845            0.170911   \n",
       "4          (milk)     (chocolate)            0.129583            0.163845   \n",
       "\n",
       "    support  confidence      lift  leverage  conviction  zhangs_metric  \n",
       "0  0.033196    0.184718  1.127397  0.003751    1.025603       0.137757  \n",
       "1  0.033196    0.202604  1.127397  0.003751    1.028711       0.135143  \n",
       "2  0.034395    0.201248  1.228284  0.006393    1.046827       0.224169  \n",
       "3  0.034395    0.209927  1.228284  0.006393    1.049383       0.222275  \n",
       "4  0.032129    0.247942  1.513276  0.010898    1.111823       0.389677  "
      ]
     },
     "execution_count": 20,
     "metadata": {},
     "output_type": "execute_result"
    }
   ],
   "source": [
    "rules_mlxtend = association_rules(frequent_itemsets, metric=\"lift\", min_threshold=1.1)\n",
    "print(\"number of rules: \",rules_mlxtend.shape[0])\n",
    "rules_mlxtend.head()\n"
   ]
  },
  {
   "cell_type": "markdown",
   "id": "736e1962-d476-4a4c-bd07-d1afc55f36fa",
   "metadata": {},
   "source": [
    "### Some questions to answer:\n",
    "1. if someone buy milk what items would they buy together with milk?"
   ]
  },
  {
   "cell_type": "code",
   "execution_count": 21,
   "id": "f4d8ee57-edc4-4681-8df8-4dd4569ba3d3",
   "metadata": {},
   "outputs": [],
   "source": [
    "rules = rules_mlxtend.copy()"
   ]
  },
  {
   "cell_type": "code",
   "execution_count": 22,
   "id": "8d5d3171-d867-4c5a-9b4b-7cae26d68ac8",
   "metadata": {},
   "outputs": [
    {
     "name": "stdout",
     "output_type": "stream",
     "text": [
      "frozenset({'chocolate'})\n",
      "frozenset({'eggs'})\n",
      "frozenset({'mineral water'})\n",
      "frozenset({'spaghetti'})\n"
     ]
    }
   ],
   "source": [
    "for row in rules.iterrows():\n",
    "    if(\"milk\" in row[1][0]):\n",
    "        print(row[1][1])"
   ]
  },
  {
   "cell_type": "markdown",
   "id": "38d4e259-129b-4386-8f18-636a3ae7a0cf",
   "metadata": {},
   "source": [
    "### Question 2: 10 best buy product?"
   ]
  },
  {
   "cell_type": "code",
   "execution_count": 23,
   "id": "9bda6491-a5c1-4a49-b5b8-1bfe4d15bc68",
   "metadata": {},
   "outputs": [],
   "source": [
    "top10 = data_new.apply(pd.value_counts).fillna(0)\n",
    "top10 = top10.iloc[1,:]\n",
    "top10 = top10.sort_values(ascending=False)"
   ]
  },
  {
   "cell_type": "code",
   "execution_count": 24,
   "id": "0e121a35-48ef-42ac-ad84-ec4d054ef542",
   "metadata": {},
   "outputs": [
    {
     "data": {
      "text/plain": [
       "mineral water        1788\n",
       "eggs                 1348\n",
       "spaghetti            1306\n",
       "french fries         1282\n",
       "chocolate            1229\n",
       "green tea             991\n",
       "milk                  972\n",
       "ground beef           737\n",
       "frozen vegetables     715\n",
       "pancakes              713\n",
       "Name: True, dtype: int64"
      ]
     },
     "execution_count": 24,
     "metadata": {},
     "output_type": "execute_result"
    }
   ],
   "source": [
    "top10.head(10)"
   ]
  },
  {
   "cell_type": "code",
   "execution_count": 28,
   "id": "84051b4b-8518-4ef3-a1e2-9524aecb0bb6",
   "metadata": {},
   "outputs": [
    {
     "data": {
      "text/plain": [
       "Text(0.5, 0, 'name')"
      ]
     },
     "execution_count": 28,
     "metadata": {},
     "output_type": "execute_result"
    },
    {
     "data": {
      "image/png": "[encoded data removed]",
      "text/plain": [
       "<Figure size 640x480 with 1 Axes>"
      ]
     },
     "metadata": {},
     "output_type": "display_data"
    }
   ],
   "source": [
    "x = top10.head(10).index.values\n",
    "y = top10.head(10).values\n",
    "plt.bar(x,y)\n",
    "plt.xticks(rotation='vertical')\n",
    "plt.ylabel('number of times a product is bought')\n",
    "plt.xlabel('name')"
   ]
  },
  {
   "cell_type": "markdown",
   "id": "e10a9333-2d52-4d5b-bcc3-bdb0269a2127",
   "metadata": {},
   "source": [
    "## Make some fun with the Graph"
   ]
  },
  {
   "cell_type": "code",
   "execution_count": 26,
   "id": "3dd89e8f-3af6-407a-a642-b08b7fa4a915",
   "metadata": {},
   "outputs": [
    {
     "name": "stderr",
     "output_type": "stream",
     "text": [
      "\n",
      "Usage:   \n",
      "  pip install [options] <requirement specifier> [package-index-options] ...\n",
      "  pip install [options] -r <requirements file> [package-index-options] ...\n",
      "  pip install [options] [-e] <vcs project url> ...\n",
      "  pip install [options] [-e] <local project path> ...\n",
      "  pip install [options] <archive url/path> ...\n",
      "\n",
      "no such option: --update\n"
     ]
    }
   ],
   "source": [
    "!pip install --update networkx"
   ]
  },
  {
   "cell_type": "code",
   "execution_count": 27,
   "id": "6d061e67-1f5f-4b2b-b94d-4b4e0bdca242",
   "metadata": {},
   "outputs": [
    {
     "data": {
      "image/png": "[encoded data removed]",
      "text/plain": [
       "<Figure size 640x480 with 1 Axes>"
      ]
     },
     "metadata": {},
     "output_type": "display_data"
    }
   ],
   "source": [
    "import networkx as nx\n",
    "import matplotlib.pyplot as plt  \n",
    "import numpy as np\n",
    "\n",
    "def draw_graph(rules, rules_to_show):\n",
    "    G1 = nx.DiGraph()\n",
    "    color_map=[]\n",
    "    N = 50\n",
    "    colors = np.random.rand(N)    \n",
    "    strs=['R0', 'R1', 'R2', 'R3', 'R4', 'R5', 'R6', 'R7', 'R8', 'R9', 'R10', 'R11']\n",
    "\n",
    "    for i in range(rules_to_show):\n",
    "        G1.add_nodes_from([\"R\"+str(i)])\n",
    "        for a in rules.iloc[i]['antecedents']:\n",
    "            G1.add_nodes_from([a])\n",
    "            G1.add_edge(a, \"R\"+str(i), color=colors[i] , weight = 2)\n",
    "        for c in rules.iloc[i]['consequents']:\n",
    "            G1.add_nodes_from([c])\n",
    "            G1.add_edge(\"R\"+str(i), c, color=colors[i],  weight=2)\n",
    "\n",
    "    for node in G1:\n",
    "        found_a_string = False\n",
    "        for item in strs: \n",
    "            if node==item:\n",
    "                found_a_string = True\n",
    "        if found_a_string:\n",
    "            color_map.append('yellow')\n",
    "        else:\n",
    "            color_map.append('green')       \n",
    "\n",
    "    edges = G1.edges()\n",
    "    colors = [G1[u][v]['color'] for u,v in edges]\n",
    "    weights = [G1[u][v]['weight'] for u,v in edges]\n",
    "\n",
    "    pos = nx.spring_layout(G1, k=16, scale=1)\n",
    "    nx.draw_networkx(G1, pos, node_color = color_map, edge_color=colors, width=weights, font_size=16, \n",
    "            with_labels=False)            \n",
    "\n",
    "    for p in pos:  # raise text positions\n",
    "        nx.draw_networkx_labels(G1, pos)\n",
    "        \n",
    "\n",
    "draw_graph(rules_mlxtend, 10) "
   ]
  },
  {
   "cell_type": "code",
   "execution_count": null,
   "id": "50e3e1e2-23f1-4c2e-a80e-1c8621ea9f0f",
   "metadata": {},
   "outputs": [],
   "source": [
    "!pip install --upgrade networkx"
   ]
  },
  {
   "cell_type": "code",
   "execution_count": null,
   "id": "a9776842-b6d0-48bc-ac96-e496891bba2f",
   "metadata": {},
   "outputs": [],
   "source": []
  }
 ],
 "metadata": {
  "kernelspec": {
   "display_name": "Python 3 (ipykernel)",
   "language": "python",
   "name": "python3"
  },
  "language_info": {
   "codemirror_mode": {
    "name": "ipython",
    "version": 3
   },
   "file_extension": ".py",
   "mimetype": "text/x-python",
   "name": "python",
   "nbconvert_exporter": "python",
   "pygments_lexer": "ipython3",
   "version": "3.9.13"
  }
 },
 "nbformat": 4,
 "nbformat_minor": 5
}
