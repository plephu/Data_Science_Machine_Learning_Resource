{
 "cells": [
  {
   "cell_type": "code",
   "execution_count": 1,
   "id": "e17fba58",
   "metadata": {},
   "outputs": [],
   "source": [
    "import numpy as np\n",
    "import pandas as pd\n",
    "import matplotlib.pyplot as plt\n",
    "from sklearn.model_selection import train_test_split\n",
    "import math"
   ]
  },
  {
   "cell_type": "code",
   "execution_count": 3,
   "id": "a67727ca",
   "metadata": {},
   "outputs": [],
   "source": [
    "data = pd.read_csv('titanic_csv.csv', index_col=0)"
   ]
  },
  {
   "cell_type": "code",
   "execution_count": 5,
   "id": "059cf603",
   "metadata": {},
   "outputs": [
    {
     "data": {
      "text/plain": [
       "pandas.core.frame.DataFrame"
      ]
     },
     "execution_count": 5,
     "metadata": {},
     "output_type": "execute_result"
    }
   ],
   "source": [
    "type(data)"
   ]
  },
  {
   "cell_type": "code",
   "execution_count": 6,
   "id": "37dd6e86",
   "metadata": {},
   "outputs": [
    {
     "name": "stdout",
     "output_type": "stream",
     "text": [
      "<class 'pandas.core.frame.DataFrame'>\n",
      "Int64Index: 1309 entries, 1 to 1309\n",
      "Data columns (total 12 columns):\n",
      " #   Column     Non-Null Count  Dtype  \n",
      "---  ------     --------------  -----  \n",
      " 0   pclass     1309 non-null   int64  \n",
      " 1   survived   1309 non-null   int64  \n",
      " 2   name       1309 non-null   object \n",
      " 3   sex        1309 non-null   object \n",
      " 4   age        1046 non-null   float64\n",
      " 5   sibsp      1309 non-null   int64  \n",
      " 6   parch      1309 non-null   int64  \n",
      " 7   ticket     1309 non-null   object \n",
      " 8   fare       1308 non-null   float64\n",
      " 9   cabin      295 non-null    object \n",
      " 10  embarked   1307 non-null   object \n",
      " 11  home.dest  745 non-null    object \n",
      "dtypes: float64(2), int64(4), object(6)\n",
      "memory usage: 132.9+ KB\n"
     ]
    }
   ],
   "source": [
    "data.info()"
   ]
  },
  {
   "cell_type": "code",
   "execution_count": 7,
   "id": "82a498ca",
   "metadata": {},
   "outputs": [
    {
     "data": {
      "text/html": [
       "<div>\n",
       "<style scoped>\n",
       "    .dataframe tbody tr th:only-of-type {\n",
       "        vertical-align: middle;\n",
       "    }\n",
       "\n",
       "    .dataframe tbody tr th {\n",
       "        vertical-align: top;\n",
       "    }\n",
       "\n",
       "    .dataframe thead th {\n",
       "        text-align: right;\n",
       "    }\n",
       "</style>\n",
       "<table border=\"1\" class=\"dataframe\">\n",
       "  <thead>\n",
       "    <tr style=\"text-align: right;\">\n",
       "      <th></th>\n",
       "      <th>pclass</th>\n",
       "      <th>survived</th>\n",
       "      <th>name</th>\n",
       "      <th>sex</th>\n",
       "      <th>age</th>\n",
       "      <th>sibsp</th>\n",
       "      <th>parch</th>\n",
       "      <th>ticket</th>\n",
       "      <th>fare</th>\n",
       "      <th>cabin</th>\n",
       "      <th>embarked</th>\n",
       "      <th>home.dest</th>\n",
       "    </tr>\n",
       "  </thead>\n",
       "  <tbody>\n",
       "    <tr>\n",
       "      <th>1</th>\n",
       "      <td>1</td>\n",
       "      <td>1</td>\n",
       "      <td>Allen, Miss. Elisabeth Walton</td>\n",
       "      <td>female</td>\n",
       "      <td>29.0000</td>\n",
       "      <td>0</td>\n",
       "      <td>0</td>\n",
       "      <td>24160</td>\n",
       "      <td>211.3375</td>\n",
       "      <td>B5</td>\n",
       "      <td>S</td>\n",
       "      <td>St Louis, MO</td>\n",
       "    </tr>\n",
       "    <tr>\n",
       "      <th>2</th>\n",
       "      <td>1</td>\n",
       "      <td>1</td>\n",
       "      <td>Allison, Master. Hudson Trevor</td>\n",
       "      <td>male</td>\n",
       "      <td>0.9167</td>\n",
       "      <td>1</td>\n",
       "      <td>2</td>\n",
       "      <td>113781</td>\n",
       "      <td>151.5500</td>\n",
       "      <td>C22 C26</td>\n",
       "      <td>S</td>\n",
       "      <td>Montreal, PQ / Chesterville, ON</td>\n",
       "    </tr>\n",
       "    <tr>\n",
       "      <th>3</th>\n",
       "      <td>1</td>\n",
       "      <td>0</td>\n",
       "      <td>Allison, Miss. Helen Loraine</td>\n",
       "      <td>female</td>\n",
       "      <td>2.0000</td>\n",
       "      <td>1</td>\n",
       "      <td>2</td>\n",
       "      <td>113781</td>\n",
       "      <td>151.5500</td>\n",
       "      <td>C22 C26</td>\n",
       "      <td>S</td>\n",
       "      <td>Montreal, PQ / Chesterville, ON</td>\n",
       "    </tr>\n",
       "    <tr>\n",
       "      <th>4</th>\n",
       "      <td>1</td>\n",
       "      <td>0</td>\n",
       "      <td>Allison, Mr. Hudson Joshua Creighton</td>\n",
       "      <td>male</td>\n",
       "      <td>30.0000</td>\n",
       "      <td>1</td>\n",
       "      <td>2</td>\n",
       "      <td>113781</td>\n",
       "      <td>151.5500</td>\n",
       "      <td>C22 C26</td>\n",
       "      <td>S</td>\n",
       "      <td>Montreal, PQ / Chesterville, ON</td>\n",
       "    </tr>\n",
       "    <tr>\n",
       "      <th>5</th>\n",
       "      <td>1</td>\n",
       "      <td>0</td>\n",
       "      <td>Allison, Mrs. Hudson J C (Bessie Waldo Daniels)</td>\n",
       "      <td>female</td>\n",
       "      <td>25.0000</td>\n",
       "      <td>1</td>\n",
       "      <td>2</td>\n",
       "      <td>113781</td>\n",
       "      <td>151.5500</td>\n",
       "      <td>C22 C26</td>\n",
       "      <td>S</td>\n",
       "      <td>Montreal, PQ / Chesterville, ON</td>\n",
       "    </tr>\n",
       "  </tbody>\n",
       "</table>\n",
       "</div>"
      ],
      "text/plain": [
       "   pclass  survived                                             name     sex  \\\n",
       "1       1         1                    Allen, Miss. Elisabeth Walton  female   \n",
       "2       1         1                   Allison, Master. Hudson Trevor    male   \n",
       "3       1         0                     Allison, Miss. Helen Loraine  female   \n",
       "4       1         0             Allison, Mr. Hudson Joshua Creighton    male   \n",
       "5       1         0  Allison, Mrs. Hudson J C (Bessie Waldo Daniels)  female   \n",
       "\n",
       "       age  sibsp  parch  ticket      fare    cabin embarked  \\\n",
       "1  29.0000      0      0   24160  211.3375       B5        S   \n",
       "2   0.9167      1      2  113781  151.5500  C22 C26        S   \n",
       "3   2.0000      1      2  113781  151.5500  C22 C26        S   \n",
       "4  30.0000      1      2  113781  151.5500  C22 C26        S   \n",
       "5  25.0000      1      2  113781  151.5500  C22 C26        S   \n",
       "\n",
       "                         home.dest  \n",
       "1                     St Louis, MO  \n",
       "2  Montreal, PQ / Chesterville, ON  \n",
       "3  Montreal, PQ / Chesterville, ON  \n",
       "4  Montreal, PQ / Chesterville, ON  \n",
       "5  Montreal, PQ / Chesterville, ON  "
      ]
     },
     "execution_count": 7,
     "metadata": {},
     "output_type": "execute_result"
    }
   ],
   "source": [
    "data.head()"
   ]
  },
  {
   "cell_type": "code",
   "execution_count": 8,
   "id": "baf9c7a0",
   "metadata": {},
   "outputs": [],
   "source": [
    "data = data.interpolate()"
   ]
  },
  {
   "cell_type": "code",
   "execution_count": 9,
   "id": "fdbd47e0",
   "metadata": {},
   "outputs": [
    {
     "data": {
      "text/plain": [
       "Index(['pclass', 'survived', 'name', 'sex', 'age', 'sibsp', 'parch', 'ticket',\n",
       "       'fare', 'cabin', 'embarked', 'home.dest'],\n",
       "      dtype='object')"
      ]
     },
     "execution_count": 9,
     "metadata": {},
     "output_type": "execute_result"
    }
   ],
   "source": [
    "data.columns"
   ]
  },
  {
   "cell_type": "code",
   "execution_count": 10,
   "id": "4053eb02",
   "metadata": {},
   "outputs": [],
   "source": [
    "X = data[['pclass', 'sex', 'age', 'sibsp', 'parch', 'fare', 'embarked']]\n",
    "y = data['survived']"
   ]
  },
  {
   "cell_type": "code",
   "execution_count": 12,
   "id": "e6e7b574",
   "metadata": {},
   "outputs": [
    {
     "data": {
      "text/html": [
       "<div>\n",
       "<style scoped>\n",
       "    .dataframe tbody tr th:only-of-type {\n",
       "        vertical-align: middle;\n",
       "    }\n",
       "\n",
       "    .dataframe tbody tr th {\n",
       "        vertical-align: top;\n",
       "    }\n",
       "\n",
       "    .dataframe thead th {\n",
       "        text-align: right;\n",
       "    }\n",
       "</style>\n",
       "<table border=\"1\" class=\"dataframe\">\n",
       "  <thead>\n",
       "    <tr style=\"text-align: right;\">\n",
       "      <th></th>\n",
       "      <th>pclass</th>\n",
       "      <th>age</th>\n",
       "      <th>sibsp</th>\n",
       "      <th>parch</th>\n",
       "      <th>fare</th>\n",
       "      <th>sex_female</th>\n",
       "      <th>sex_male</th>\n",
       "      <th>embarked_C</th>\n",
       "      <th>embarked_Q</th>\n",
       "      <th>embarked_S</th>\n",
       "    </tr>\n",
       "  </thead>\n",
       "  <tbody>\n",
       "    <tr>\n",
       "      <th>1</th>\n",
       "      <td>1</td>\n",
       "      <td>29.0000</td>\n",
       "      <td>0</td>\n",
       "      <td>0</td>\n",
       "      <td>211.3375</td>\n",
       "      <td>1</td>\n",
       "      <td>0</td>\n",
       "      <td>0</td>\n",
       "      <td>0</td>\n",
       "      <td>1</td>\n",
       "    </tr>\n",
       "    <tr>\n",
       "      <th>2</th>\n",
       "      <td>1</td>\n",
       "      <td>0.9167</td>\n",
       "      <td>1</td>\n",
       "      <td>2</td>\n",
       "      <td>151.5500</td>\n",
       "      <td>0</td>\n",
       "      <td>1</td>\n",
       "      <td>0</td>\n",
       "      <td>0</td>\n",
       "      <td>1</td>\n",
       "    </tr>\n",
       "    <tr>\n",
       "      <th>3</th>\n",
       "      <td>1</td>\n",
       "      <td>2.0000</td>\n",
       "      <td>1</td>\n",
       "      <td>2</td>\n",
       "      <td>151.5500</td>\n",
       "      <td>1</td>\n",
       "      <td>0</td>\n",
       "      <td>0</td>\n",
       "      <td>0</td>\n",
       "      <td>1</td>\n",
       "    </tr>\n",
       "    <tr>\n",
       "      <th>4</th>\n",
       "      <td>1</td>\n",
       "      <td>30.0000</td>\n",
       "      <td>1</td>\n",
       "      <td>2</td>\n",
       "      <td>151.5500</td>\n",
       "      <td>0</td>\n",
       "      <td>1</td>\n",
       "      <td>0</td>\n",
       "      <td>0</td>\n",
       "      <td>1</td>\n",
       "    </tr>\n",
       "    <tr>\n",
       "      <th>5</th>\n",
       "      <td>1</td>\n",
       "      <td>25.0000</td>\n",
       "      <td>1</td>\n",
       "      <td>2</td>\n",
       "      <td>151.5500</td>\n",
       "      <td>1</td>\n",
       "      <td>0</td>\n",
       "      <td>0</td>\n",
       "      <td>0</td>\n",
       "      <td>1</td>\n",
       "    </tr>\n",
       "  </tbody>\n",
       "</table>\n",
       "</div>"
      ],
      "text/plain": [
       "   pclass      age  sibsp  parch      fare  sex_female  sex_male  embarked_C  \\\n",
       "1       1  29.0000      0      0  211.3375           1         0           0   \n",
       "2       1   0.9167      1      2  151.5500           0         1           0   \n",
       "3       1   2.0000      1      2  151.5500           1         0           0   \n",
       "4       1  30.0000      1      2  151.5500           0         1           0   \n",
       "5       1  25.0000      1      2  151.5500           1         0           0   \n",
       "\n",
       "   embarked_Q  embarked_S  \n",
       "1           0           1  \n",
       "2           0           1  \n",
       "3           0           1  \n",
       "4           0           1  \n",
       "5           0           1  "
      ]
     },
     "execution_count": 12,
     "metadata": {},
     "output_type": "execute_result"
    }
   ],
   "source": [
    "X = pd.get_dummies(X)\n",
    "X.head()"
   ]
  },
  {
   "cell_type": "code",
   "execution_count": 13,
   "id": "31570796",
   "metadata": {},
   "outputs": [],
   "source": [
    "from sklearn.model_selection import train_test_split\n",
    "X_train, X_test, y_train, y_test = train_test_split(X, y,\n",
    "                                                   test_size=0.3)\n"
   ]
  },
  {
   "cell_type": "code",
   "execution_count": 14,
   "id": "701ff6df",
   "metadata": {},
   "outputs": [],
   "source": [
    "from sklearn.ensemble import RandomForestClassifier\n",
    "clf = RandomForestClassifier(n_estimators=100)"
   ]
  },
  {
   "cell_type": "code",
   "execution_count": 15,
   "id": "98535394",
   "metadata": {},
   "outputs": [],
   "source": [
    "clf.fit(X_train, y_train)\n",
    "y_pred = clf.predict(X_test)"
   ]
  },
  {
   "cell_type": "code",
   "execution_count": 16,
   "id": "610f00c7",
   "metadata": {},
   "outputs": [
    {
     "name": "stdout",
     "output_type": "stream",
     "text": [
      "Accuracy:  0.7709923664122137\n"
     ]
    }
   ],
   "source": [
    "from sklearn import metrics\n",
    "print('Accuracy: ', metrics.accuracy_score(y_test, y_pred))"
   ]
  },
  {
   "cell_type": "code",
   "execution_count": 18,
   "id": "8de08640",
   "metadata": {},
   "outputs": [
    {
     "name": "stdout",
     "output_type": "stream",
     "text": [
      "The training prediction accuracy is: 98.90829694323145 %\n",
      "The testing prediction accuracy is: 77.09923664122137 %\n"
     ]
    }
   ],
   "source": [
    "# Kiểm tra độ chính xác\n",
    "print(\"The training prediction accuracy is:\",\n",
    "     clf.score(X_train, y_train)*100,'%')\n",
    "print(\"The testing prediction accuracy is:\",\n",
    "     clf.score(X_test, y_test)*100,'%')"
   ]
  },
  {
   "cell_type": "markdown",
   "id": "770dced7",
   "metadata": {},
   "source": [
    "### Finding important feature in Scikit-learn"
   ]
  },
  {
   "cell_type": "code",
   "execution_count": 21,
   "id": "e0c47f86",
   "metadata": {},
   "outputs": [
    {
     "data": {
      "text/plain": [
       "age           0.291606\n",
       "fare          0.239742\n",
       "sex_male      0.136163\n",
       "sex_female    0.133755\n",
       "pclass        0.080219\n",
       "sibsp         0.047726\n",
       "parch         0.034721\n",
       "embarked_C    0.016901\n",
       "embarked_S    0.013137\n",
       "embarked_Q    0.006030\n",
       "dtype: float64"
      ]
     },
     "execution_count": 21,
     "metadata": {},
     "output_type": "execute_result"
    }
   ],
   "source": [
    "import pandas as pd\n",
    "feature_imp = pd.Series(clf.feature_importances_,\n",
    "                       index = np.array(X.columns)).sort_values(ascending=False)\n",
    "feature_imp"
   ]
  },
  {
   "cell_type": "code",
   "execution_count": 22,
   "id": "d06354f9",
   "metadata": {},
   "outputs": [
    {
     "data": {
      "text/plain": [
       "pandas.core.series.Series"
      ]
     },
     "execution_count": 22,
     "metadata": {},
     "output_type": "execute_result"
    }
   ],
   "source": [
    "type(feature_imp)"
   ]
  },
  {
   "cell_type": "code",
   "execution_count": 23,
   "id": "feb9198b",
   "metadata": {},
   "outputs": [
    {
     "data": {
      "text/plain": [
       "0.8814848081633573"
      ]
     },
     "execution_count": 23,
     "metadata": {},
     "output_type": "execute_result"
    }
   ],
   "source": [
    "feature_imp[feature_imp>=0.05].sum()"
   ]
  },
  {
   "cell_type": "code",
   "execution_count": 26,
   "id": "a8f6c453",
   "metadata": {},
   "outputs": [
    {
     "data": {
      "image/png": "[encoded data removed]",
      "text/plain": [
       "<Figure size 800x600 with 1 Axes>"
      ]
     },
     "metadata": {},
     "output_type": "display_data"
    }
   ],
   "source": [
    "import matplotlib.pyplot as plt\n",
    "%matplotlib inline\n",
    "\n",
    "plt.figure(figsize=(8,6))\n",
    "plt.bar(feature_imp.index, feature_imp, color='g')\n",
    "plt.xlabel('Features')\n",
    "plt.ylabel('Feature Importance Score')\n",
    "plt.title('Visualizing Important Features')\n",
    "plt.xticks(feature_imp.index, rotation='vertical')\n",
    "plt.show()"
   ]
  },
  {
   "cell_type": "code",
   "execution_count": 28,
   "id": "9f66c1e7",
   "metadata": {},
   "outputs": [],
   "source": [
    "# Tạo lại dữ liệu huấn luyện và test sau khi bỏ đi các thuộc tính ít quan trọng hơn\n",
    "X_now = X[['age', 'fare','sex_female','sex_male', 'pclass']]\n",
    "y_now = data['survived']"
   ]
  },
  {
   "cell_type": "code",
   "execution_count": 29,
   "id": "c3eec314",
   "metadata": {},
   "outputs": [],
   "source": [
    "X_train, X_test, y_train, y_test = train_test_split(X_now, y_now,\n",
    "                                                   test_size=0.3)\n"
   ]
  },
  {
   "cell_type": "code",
   "execution_count": 30,
   "id": "59dbcfec",
   "metadata": {},
   "outputs": [],
   "source": [
    "clf_now = RandomForestClassifier(n_estimators=100)\n",
    "clf_now.fit(X_train, y_train)\n",
    "y_pred = clf_now.predict(X_test)"
   ]
  },
  {
   "cell_type": "code",
   "execution_count": 31,
   "id": "e345fe2d",
   "metadata": {},
   "outputs": [
    {
     "name": "stdout",
     "output_type": "stream",
     "text": [
      "Accuracy:  0.8040712468193384\n"
     ]
    }
   ],
   "source": [
    "# Model Accuracy, how often is the classifier correct?\n",
    "# => giảm đôi chút nhưng bỏ được các cột không liên quan\n",
    "print(\"Accuracy: \",\n",
    "     metrics.accuracy_score(y_test, y_pred))"
   ]
  },
  {
   "cell_type": "code",
   "execution_count": 32,
   "id": "22e5f02c",
   "metadata": {},
   "outputs": [
    {
     "name": "stdout",
     "output_type": "stream",
     "text": [
      "The training prediction accuracy is: 99.235807860262 %\n",
      "The testing prediction accuracy is: 80.40712468193384 %\n"
     ]
    }
   ],
   "source": [
    "# Kiểm tra độ chính xác\n",
    "print(\"The training prediction accuracy is:\",\n",
    "     clf_now.score(X_train, y_train)*100,'%')\n",
    "print(\"The testing prediction accuracy is:\",\n",
    "     clf_now.score(X_test, y_test)*100,'%')"
   ]
  },
  {
   "cell_type": "code",
   "execution_count": 33,
   "id": "ecd59059",
   "metadata": {},
   "outputs": [],
   "source": [
    "from sklearn.metrics import confusion_matrix"
   ]
  },
  {
   "cell_type": "code",
   "execution_count": 34,
   "id": "fe2ad0fe",
   "metadata": {},
   "outputs": [
    {
     "data": {
      "text/plain": [
       "array([[219,  39],\n",
       "       [ 38,  97]], dtype=int64)"
      ]
     },
     "execution_count": 34,
     "metadata": {},
     "output_type": "execute_result"
    }
   ],
   "source": [
    "confusion_matrix(y_test, y_pred, labels=[0,1])"
   ]
  },
  {
   "cell_type": "code",
   "execution_count": 35,
   "id": "7d2f6b3c",
   "metadata": {},
   "outputs": [
    {
     "name": "stdout",
     "output_type": "stream",
     "text": [
      "              precision    recall  f1-score   support\n",
      "\n",
      "           0       0.85      0.85      0.85       258\n",
      "           1       0.71      0.72      0.72       135\n",
      "\n",
      "    accuracy                           0.80       393\n",
      "   macro avg       0.78      0.78      0.78       393\n",
      "weighted avg       0.80      0.80      0.80       393\n",
      "\n"
     ]
    }
   ],
   "source": [
    "# đánh giá model\n",
    "from sklearn.metrics import classification_report, roc_auc_score, roc_curve\n",
    "print(classification_report(y_test, y_pred))"
   ]
  },
  {
   "cell_type": "code",
   "execution_count": 36,
   "id": "97ecf6c8",
   "metadata": {},
   "outputs": [],
   "source": [
    "y_prob = clf_now.predict_proba(X_test)\n",
    "y_probs = y_prob[:,1]"
   ]
  },
  {
   "cell_type": "code",
   "execution_count": 37,
   "id": "3009f4d3",
   "metadata": {},
   "outputs": [
    {
     "data": {
      "text/plain": [
       "array([1.        , 0.        , 0.8       , 0.28      , 0.98      ,\n",
       "       0.49      , 0.95      , 0.1       , 0.0707619 , 0.01      ,\n",
       "       0.01      , 0.84      , 0.01      , 0.22      , 0.13      ,\n",
       "       0.03      , 0.51      , 0.48      , 0.54      , 1.        ,\n",
       "       1.        , 0.91      , 0.83      , 0.49      , 0.07      ,\n",
       "       0.68      , 0.23      , 0.92      , 0.69      , 1.        ,\n",
       "       0.03      , 0.1155    , 0.02      , 0.09      , 0.02      ,\n",
       "       0.64      , 0.01      , 0.95791667, 0.08      , 0.06      ,\n",
       "       0.88      , 0.18      , 0.04      , 0.5       , 0.07      ,\n",
       "       0.3       , 0.03      , 0.17      , 0.37      , 0.03      ,\n",
       "       0.        , 0.16      , 0.        , 0.91      , 0.26      ,\n",
       "       0.        , 0.11      , 0.89      , 0.57      , 0.07      ,\n",
       "       0.13      , 0.34      , 0.10366667, 0.16      , 0.05      ,\n",
       "       0.85      , 0.89      , 0.46      , 0.41      , 0.03      ,\n",
       "       0.0555    , 0.03466667, 0.01      , 0.00333333, 0.96      ,\n",
       "       0.04      , 0.8       , 0.03333333, 0.83      , 0.15      ,\n",
       "       0.6       , 0.03485714, 0.76      , 0.06      , 0.05      ,\n",
       "       0.41      , 0.61      , 0.25      , 0.86      , 0.34      ,\n",
       "       0.03      , 0.31      , 0.3095    , 0.63      , 0.28      ,\n",
       "       0.11      , 0.        , 0.11      , 0.21      , 0.65      ,\n",
       "       0.        , 0.07      , 0.21      , 0.18      , 0.        ,\n",
       "       0.        , 0.47      , 0.66      , 0.0505    , 0.13      ,\n",
       "       0.02      , 0.        , 0.205     , 1.        , 0.99      ,\n",
       "       0.8       , 0.99      , 0.57      , 0.01      , 1.        ,\n",
       "       0.03      , 0.79      , 0.27      , 0.13      , 0.04      ,\n",
       "       0.15166667, 0.01      , 0.73      , 0.42      , 0.01      ,\n",
       "       0.96      , 1.        , 0.01      , 0.13      , 0.04      ,\n",
       "       0.12      , 0.44      , 0.71      , 0.04      , 0.        ,\n",
       "       0.61      , 0.84      , 0.28      , 0.155     , 0.07      ,\n",
       "       0.103     , 0.16      , 0.99      , 0.055     , 0.96      ,\n",
       "       0.49      , 0.        , 0.144     , 0.2       , 0.0707619 ,\n",
       "       0.064     , 0.61666667, 0.23      , 0.50033333, 0.03583333,\n",
       "       0.        , 0.42      , 0.95      , 0.17      , 0.01533333,\n",
       "       0.        , 0.        , 0.99      , 0.04      , 0.75      ,\n",
       "       0.31      , 1.        , 1.        , 0.4675    , 0.79      ,\n",
       "       0.01      , 0.335     , 0.05      , 0.2       , 0.05333333,\n",
       "       0.        , 0.26      , 0.11      , 0.98      , 0.01      ,\n",
       "       0.14      , 0.04833333, 0.0505    , 0.02      , 0.91657143,\n",
       "       0.97      , 1.        , 0.18733333, 0.16      , 0.49      ,\n",
       "       0.133     , 0.02      , 0.86      , 1.        , 0.92      ,\n",
       "       0.02      , 0.07      , 0.16983333, 0.05      , 0.8       ,\n",
       "       0.47      , 0.        , 0.01      , 0.93      , 0.        ,\n",
       "       0.01      , 0.25      , 0.62      , 0.53      , 0.73      ,\n",
       "       0.13      , 0.04      , 0.77      , 0.12      , 0.97      ,\n",
       "       0.01      , 0.83      , 1.        , 0.01833333, 0.25      ,\n",
       "       0.        , 0.99      , 0.6       , 0.01333333, 0.        ,\n",
       "       0.23      , 0.        , 0.9       , 0.31      , 0.76      ,\n",
       "       0.94      , 1.        , 0.13      , 0.09      , 1.        ,\n",
       "       0.02      , 0.66166667, 0.4       , 0.39      , 0.        ,\n",
       "       0.49      , 0.12      , 0.09      , 0.        , 0.11916667,\n",
       "       0.65      , 0.56      , 0.08      , 0.10366667, 0.33666667,\n",
       "       0.49      , 0.01      , 0.62      , 1.        , 0.02      ,\n",
       "       0.93      , 0.039     , 0.69      , 0.06      , 0.0875    ,\n",
       "       0.31      , 0.18      , 0.95      , 0.01      , 0.09      ,\n",
       "       0.99      , 0.103     , 0.4675    , 0.04      , 0.26      ,\n",
       "       0.04      , 0.23166667, 0.72      , 0.01      , 0.91      ,\n",
       "       1.        , 0.78      , 0.86      , 0.13      , 0.53      ,\n",
       "       0.15166667, 0.        , 0.01      , 0.08      , 0.11      ,\n",
       "       0.004     , 0.63      , 0.84      , 0.74      , 0.01      ,\n",
       "       0.23      , 0.01333333, 0.01      , 0.32      , 0.10842857,\n",
       "       0.98      , 0.99      , 1.        , 0.72      , 0.37      ,\n",
       "       0.        , 0.73      , 0.47      , 0.61      , 0.94      ,\n",
       "       0.7       , 0.        , 0.12      , 0.        , 0.77      ,\n",
       "       0.33      , 0.36      , 0.55      , 0.        , 0.22      ,\n",
       "       0.8       , 0.07      , 0.13      , 0.99      , 0.005     ,\n",
       "       0.89      , 0.79      , 0.04      , 0.01      , 0.71      ,\n",
       "       0.3       , 0.89875   , 1.        , 0.335     , 0.05      ,\n",
       "       0.94      , 0.22      , 0.99      , 0.85      , 0.11      ,\n",
       "       0.01      , 0.26833333, 0.91      , 0.39      , 0.91      ,\n",
       "       0.93      , 0.69      , 1.        , 0.07      , 0.52      ,\n",
       "       0.15      , 0.01      , 0.48      , 1.        , 0.26      ,\n",
       "       0.27      , 0.        , 0.99      , 0.1       , 0.72      ,\n",
       "       0.        , 0.94      , 0.        , 0.92      , 0.24      ,\n",
       "       0.        , 0.83      , 0.03333333, 0.10842857, 0.19      ,\n",
       "       0.09405556, 0.        , 0.3       , 0.06      , 0.78      ,\n",
       "       0.02      , 0.37      , 0.993     , 0.13019048, 0.03333333,\n",
       "       0.0425    , 0.99      , 0.5       , 0.76      , 0.44      ,\n",
       "       0.42      , 1.        , 0.29      , 0.31      , 0.1       ,\n",
       "       0.675     , 0.86      , 0.09583333])"
      ]
     },
     "execution_count": 37,
     "metadata": {},
     "output_type": "execute_result"
    }
   ],
   "source": [
    "y_probs"
   ]
  },
  {
   "cell_type": "code",
   "execution_count": 38,
   "id": "d7bbc8d4",
   "metadata": {},
   "outputs": [
    {
     "data": {
      "text/plain": [
       "0.8450043066322137"
      ]
     },
     "execution_count": 38,
     "metadata": {},
     "output_type": "execute_result"
    }
   ],
   "source": [
    "roc_auc_score(y_test, y_probs)"
   ]
  },
  {
   "cell_type": "code",
   "execution_count": 42,
   "id": "371131ab",
   "metadata": {},
   "outputs": [
    {
     "data": {
      "image/png": "[encoded data removed]",
      "text/plain": [
       "<Figure size 600x600 with 1 Axes>"
      ]
     },
     "metadata": {},
     "output_type": "display_data"
    }
   ],
   "source": [
    "import matplotlib.pyplot as plt\n",
    "plt.figure(figsize=(6,6))\n",
    "fpr, tpr, thresholds = roc_curve(y_test, y_probs)\n",
    "plt.plot([0,1],[0,1], linestyle = '--')\n",
    "plt.plot(fpr, tpr, marker = '.')\n",
    "plt.show()"
   ]
  },
  {
   "cell_type": "markdown",
   "id": "cac08bf9",
   "metadata": {},
   "source": [
    "### Nhận xét\n",
    "- Mô hình có train R^2 cao hơn (0.98) so với Test (0.8) ở cả 2 thử nghiệm: full tính năng và bỏ bớt tính năng\n",
    "- ROC AUC score 0.84\n",
    "- Mô hình tạm được, nhưng chưa phải là mô hình tốt nhất"
   ]
  },
  {
   "cell_type": "code",
   "execution_count": null,
   "id": "1f0bbf7a",
   "metadata": {},
   "outputs": [],
   "source": []
  },
  {
   "cell_type": "code",
   "execution_count": null,
   "id": "6c65e013",
   "metadata": {},
   "outputs": [],
   "source": []
  },
  {
   "cell_type": "code",
   "execution_count": null,
   "id": "dad8018b",
   "metadata": {},
   "outputs": [],
   "source": []
  },
  {
   "cell_type": "code",
   "execution_count": null,
   "id": "5edc3a5a",
   "metadata": {},
   "outputs": [],
   "source": []
  },
  {
   "cell_type": "code",
   "execution_count": null,
   "id": "2e5b3948",
   "metadata": {},
   "outputs": [],
   "source": []
  }
 ],
 "metadata": {
  "kernelspec": {
   "display_name": "Python 3 (ipykernel)",
   "language": "python",
   "name": "python3"
  },
  "language_info": {
   "codemirror_mode": {
    "name": "ipython",
    "version": 3
   },
   "file_extension": ".py",
   "mimetype": "text/x-python",
   "name": "python",
   "nbconvert_exporter": "python",
   "pygments_lexer": "ipython3",
   "version": "3.9.12"
  }
 },
 "nbformat": 4,
 "nbformat_minor": 5
}
