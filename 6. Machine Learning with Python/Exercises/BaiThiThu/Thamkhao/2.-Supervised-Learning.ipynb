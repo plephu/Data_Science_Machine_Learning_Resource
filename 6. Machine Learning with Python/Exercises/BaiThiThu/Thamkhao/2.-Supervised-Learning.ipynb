{
 "cells": [
  {
   "cell_type": "markdown",
   "id": "c3385171-0356-41ef-8483-1d0ced229fac",
   "metadata": {},
   "source": [
    "# Supervised Learning: Classification Task, Parameter Search, Cross Validation and Boosting"
   ]
  },
  {
   "cell_type": "markdown",
   "id": "44b634ab-1916-4c7f-9439-bdbf197d6201",
   "metadata": {},
   "source": [
    "## 1. Prepare"
   ]
  },
  {
   "cell_type": "code",
   "execution_count": 92,
   "id": "90732010-89dc-431b-8486-c745b99b02b3",
   "metadata": {},
   "outputs": [],
   "source": [
    "import numpy as np\n",
    "import pandas as pd\n",
    "import matplotlib.pyplot as plt\n",
    "import warnings\n",
    "warnings.filterwarnings('ignore')"
   ]
  },
  {
   "cell_type": "code",
   "execution_count": 161,
   "id": "d6ac3128-219d-4360-a426-0851b42cdec9",
   "metadata": {},
   "outputs": [
    {
     "data": {
      "text/html": [
       "<div>\n",
       "<style scoped>\n",
       "    .dataframe tbody tr th:only-of-type {\n",
       "        vertical-align: middle;\n",
       "    }\n",
       "\n",
       "    .dataframe tbody tr th {\n",
       "        vertical-align: top;\n",
       "    }\n",
       "\n",
       "    .dataframe thead th {\n",
       "        text-align: right;\n",
       "    }\n",
       "</style>\n",
       "<table border=\"1\" class=\"dataframe\">\n",
       "  <thead>\n",
       "    <tr style=\"text-align: right;\">\n",
       "      <th></th>\n",
       "      <th>brand</th>\n",
       "      <th>id</th>\n",
       "      <th>mois</th>\n",
       "      <th>prot</th>\n",
       "      <th>fat</th>\n",
       "      <th>ash</th>\n",
       "      <th>sodium</th>\n",
       "      <th>carb</th>\n",
       "      <th>cal</th>\n",
       "    </tr>\n",
       "  </thead>\n",
       "  <tbody>\n",
       "    <tr>\n",
       "      <th>0</th>\n",
       "      <td>A</td>\n",
       "      <td>14069</td>\n",
       "      <td>27.82</td>\n",
       "      <td>21.43</td>\n",
       "      <td>44.87</td>\n",
       "      <td>5.11</td>\n",
       "      <td>1.77</td>\n",
       "      <td>0.77</td>\n",
       "      <td>4.93</td>\n",
       "    </tr>\n",
       "    <tr>\n",
       "      <th>1</th>\n",
       "      <td>A</td>\n",
       "      <td>14053</td>\n",
       "      <td>28.49</td>\n",
       "      <td>21.26</td>\n",
       "      <td>43.89</td>\n",
       "      <td>5.34</td>\n",
       "      <td>1.79</td>\n",
       "      <td>1.02</td>\n",
       "      <td>4.84</td>\n",
       "    </tr>\n",
       "    <tr>\n",
       "      <th>2</th>\n",
       "      <td>A</td>\n",
       "      <td>14025</td>\n",
       "      <td>28.35</td>\n",
       "      <td>19.99</td>\n",
       "      <td>45.78</td>\n",
       "      <td>5.08</td>\n",
       "      <td>1.63</td>\n",
       "      <td>0.80</td>\n",
       "      <td>4.95</td>\n",
       "    </tr>\n",
       "    <tr>\n",
       "      <th>3</th>\n",
       "      <td>A</td>\n",
       "      <td>14016</td>\n",
       "      <td>30.55</td>\n",
       "      <td>20.15</td>\n",
       "      <td>43.13</td>\n",
       "      <td>4.79</td>\n",
       "      <td>1.61</td>\n",
       "      <td>1.38</td>\n",
       "      <td>4.74</td>\n",
       "    </tr>\n",
       "    <tr>\n",
       "      <th>4</th>\n",
       "      <td>A</td>\n",
       "      <td>14005</td>\n",
       "      <td>30.49</td>\n",
       "      <td>21.28</td>\n",
       "      <td>41.65</td>\n",
       "      <td>4.82</td>\n",
       "      <td>1.64</td>\n",
       "      <td>1.76</td>\n",
       "      <td>4.67</td>\n",
       "    </tr>\n",
       "  </tbody>\n",
       "</table>\n",
       "</div>"
      ],
      "text/plain": [
       "  brand     id   mois   prot    fat   ash  sodium  carb   cal\n",
       "0     A  14069  27.82  21.43  44.87  5.11    1.77  0.77  4.93\n",
       "1     A  14053  28.49  21.26  43.89  5.34    1.79  1.02  4.84\n",
       "2     A  14025  28.35  19.99  45.78  5.08    1.63  0.80  4.95\n",
       "3     A  14016  30.55  20.15  43.13  4.79    1.61  1.38  4.74\n",
       "4     A  14005  30.49  21.28  41.65  4.82    1.64  1.76  4.67"
      ]
     },
     "execution_count": 161,
     "metadata": {},
     "output_type": "execute_result"
    }
   ],
   "source": [
    "df = pd.read_csv(\"Pizza_classification/Pizza.csv\")\n",
    "df.head()"
   ]
  },
  {
   "cell_type": "code",
   "execution_count": 162,
   "id": "b99ed1d5-b385-4dbb-87a3-9093ffc80e5d",
   "metadata": {},
   "outputs": [
    {
     "name": "stdout",
     "output_type": "stream",
     "text": [
      "<class 'pandas.core.frame.DataFrame'>\n",
      "RangeIndex: 300 entries, 0 to 299\n",
      "Data columns (total 9 columns):\n",
      " #   Column  Non-Null Count  Dtype  \n",
      "---  ------  --------------  -----  \n",
      " 0   brand   300 non-null    object \n",
      " 1   id      300 non-null    int64  \n",
      " 2   mois    300 non-null    float64\n",
      " 3   prot    300 non-null    float64\n",
      " 4   fat     300 non-null    float64\n",
      " 5   ash     300 non-null    float64\n",
      " 6   sodium  300 non-null    float64\n",
      " 7   carb    300 non-null    float64\n",
      " 8   cal     300 non-null    float64\n",
      "dtypes: float64(7), int64(1), object(1)\n",
      "memory usage: 21.2+ KB\n"
     ]
    }
   ],
   "source": [
    "df.info()"
   ]
  },
  {
   "cell_type": "code",
   "execution_count": 163,
   "id": "2133846c-2573-4686-8fa2-4d0bf5c6a16a",
   "metadata": {},
   "outputs": [
    {
     "data": {
      "text/plain": [
       "H    33\n",
       "D    32\n",
       "J    32\n",
       "B    31\n",
       "F    30\n",
       "A    29\n",
       "G    29\n",
       "I    29\n",
       "E    28\n",
       "C    27\n",
       "Name: brand, dtype: int64"
      ]
     },
     "execution_count": 163,
     "metadata": {},
     "output_type": "execute_result"
    }
   ],
   "source": [
    "df.brand.value_counts()"
   ]
  },
  {
   "cell_type": "markdown",
   "id": "68c6167a-1432-43df-b000-dce223a379fa",
   "metadata": {},
   "source": [
    "## 2. Data Preprocessing"
   ]
  },
  {
   "cell_type": "markdown",
   "id": "1b84d19a-051b-401a-974d-927c7ce0b6c8",
   "metadata": {},
   "source": [
    "### Drop Columns"
   ]
  },
  {
   "cell_type": "code",
   "execution_count": 164,
   "id": "15ede027-b99c-4076-b97a-bf66d39a4595",
   "metadata": {},
   "outputs": [],
   "source": [
    "df = df.drop(['id'], axis='columns')"
   ]
  },
  {
   "cell_type": "markdown",
   "id": "8043bcb6-4c74-4800-b0dd-8e61e430a517",
   "metadata": {},
   "source": [
    "### Handle Duplicated"
   ]
  },
  {
   "cell_type": "code",
   "execution_count": 165,
   "id": "3e2187db-4b7d-46ea-a54a-e7926323c332",
   "metadata": {},
   "outputs": [
    {
     "data": {
      "text/plain": [
       "5"
      ]
     },
     "execution_count": 165,
     "metadata": {},
     "output_type": "execute_result"
    }
   ],
   "source": [
    "df.duplicated().sum()"
   ]
  },
  {
   "cell_type": "code",
   "execution_count": 166,
   "id": "800eea27-28f2-4037-8087-63a3304843c5",
   "metadata": {},
   "outputs": [
    {
     "data": {
      "text/html": [
       "<div>\n",
       "<style scoped>\n",
       "    .dataframe tbody tr th:only-of-type {\n",
       "        vertical-align: middle;\n",
       "    }\n",
       "\n",
       "    .dataframe tbody tr th {\n",
       "        vertical-align: top;\n",
       "    }\n",
       "\n",
       "    .dataframe thead th {\n",
       "        text-align: right;\n",
       "    }\n",
       "</style>\n",
       "<table border=\"1\" class=\"dataframe\">\n",
       "  <thead>\n",
       "    <tr style=\"text-align: right;\">\n",
       "      <th></th>\n",
       "      <th>brand</th>\n",
       "      <th>mois</th>\n",
       "      <th>prot</th>\n",
       "      <th>fat</th>\n",
       "      <th>ash</th>\n",
       "      <th>sodium</th>\n",
       "      <th>carb</th>\n",
       "      <th>cal</th>\n",
       "    </tr>\n",
       "  </thead>\n",
       "  <tbody>\n",
       "    <tr>\n",
       "      <th>0</th>\n",
       "      <td>A</td>\n",
       "      <td>27.82</td>\n",
       "      <td>21.43</td>\n",
       "      <td>44.87</td>\n",
       "      <td>5.11</td>\n",
       "      <td>1.77</td>\n",
       "      <td>0.77</td>\n",
       "      <td>4.93</td>\n",
       "    </tr>\n",
       "    <tr>\n",
       "      <th>1</th>\n",
       "      <td>A</td>\n",
       "      <td>28.49</td>\n",
       "      <td>21.26</td>\n",
       "      <td>43.89</td>\n",
       "      <td>5.34</td>\n",
       "      <td>1.79</td>\n",
       "      <td>1.02</td>\n",
       "      <td>4.84</td>\n",
       "    </tr>\n",
       "    <tr>\n",
       "      <th>2</th>\n",
       "      <td>A</td>\n",
       "      <td>28.35</td>\n",
       "      <td>19.99</td>\n",
       "      <td>45.78</td>\n",
       "      <td>5.08</td>\n",
       "      <td>1.63</td>\n",
       "      <td>0.80</td>\n",
       "      <td>4.95</td>\n",
       "    </tr>\n",
       "    <tr>\n",
       "      <th>3</th>\n",
       "      <td>A</td>\n",
       "      <td>30.55</td>\n",
       "      <td>20.15</td>\n",
       "      <td>43.13</td>\n",
       "      <td>4.79</td>\n",
       "      <td>1.61</td>\n",
       "      <td>1.38</td>\n",
       "      <td>4.74</td>\n",
       "    </tr>\n",
       "    <tr>\n",
       "      <th>4</th>\n",
       "      <td>A</td>\n",
       "      <td>30.49</td>\n",
       "      <td>21.28</td>\n",
       "      <td>41.65</td>\n",
       "      <td>4.82</td>\n",
       "      <td>1.64</td>\n",
       "      <td>1.76</td>\n",
       "      <td>4.67</td>\n",
       "    </tr>\n",
       "  </tbody>\n",
       "</table>\n",
       "</div>"
      ],
      "text/plain": [
       "  brand   mois   prot    fat   ash  sodium  carb   cal\n",
       "0     A  27.82  21.43  44.87  5.11    1.77  0.77  4.93\n",
       "1     A  28.49  21.26  43.89  5.34    1.79  1.02  4.84\n",
       "2     A  28.35  19.99  45.78  5.08    1.63  0.80  4.95\n",
       "3     A  30.55  20.15  43.13  4.79    1.61  1.38  4.74\n",
       "4     A  30.49  21.28  41.65  4.82    1.64  1.76  4.67"
      ]
     },
     "execution_count": 166,
     "metadata": {},
     "output_type": "execute_result"
    }
   ],
   "source": [
    "df.drop_duplicates(inplace=True, ignore_index=True)\n",
    "df.head()"
   ]
  },
  {
   "cell_type": "markdown",
   "id": "a09d4018-1e8c-43cc-b7f6-d58bf6c05da4",
   "metadata": {},
   "source": [
    "### Feature Engineering"
   ]
  },
  {
   "cell_type": "code",
   "execution_count": 167,
   "id": "6457d926-d411-4de7-b6a8-5e7a7fcfd256",
   "metadata": {},
   "outputs": [],
   "source": [
    "from sklearn.preprocessing import LabelEncoder"
   ]
  },
  {
   "cell_type": "code",
   "execution_count": 172,
   "id": "a84cd26d-bfac-4de4-acc8-2f15b8876a3c",
   "metadata": {},
   "outputs": [
    {
     "data": {
      "text/html": [
       "<div>\n",
       "<style scoped>\n",
       "    .dataframe tbody tr th:only-of-type {\n",
       "        vertical-align: middle;\n",
       "    }\n",
       "\n",
       "    .dataframe tbody tr th {\n",
       "        vertical-align: top;\n",
       "    }\n",
       "\n",
       "    .dataframe thead th {\n",
       "        text-align: right;\n",
       "    }\n",
       "</style>\n",
       "<table border=\"1\" class=\"dataframe\">\n",
       "  <thead>\n",
       "    <tr style=\"text-align: right;\">\n",
       "      <th></th>\n",
       "      <th>brand</th>\n",
       "      <th>mois</th>\n",
       "      <th>prot</th>\n",
       "      <th>fat</th>\n",
       "      <th>ash</th>\n",
       "      <th>sodium</th>\n",
       "      <th>carb</th>\n",
       "      <th>cal</th>\n",
       "    </tr>\n",
       "  </thead>\n",
       "  <tbody>\n",
       "    <tr>\n",
       "      <th>0</th>\n",
       "      <td>0</td>\n",
       "      <td>27.82</td>\n",
       "      <td>21.43</td>\n",
       "      <td>44.87</td>\n",
       "      <td>5.11</td>\n",
       "      <td>1.77</td>\n",
       "      <td>0.77</td>\n",
       "      <td>4.93</td>\n",
       "    </tr>\n",
       "    <tr>\n",
       "      <th>1</th>\n",
       "      <td>0</td>\n",
       "      <td>28.49</td>\n",
       "      <td>21.26</td>\n",
       "      <td>43.89</td>\n",
       "      <td>5.34</td>\n",
       "      <td>1.79</td>\n",
       "      <td>1.02</td>\n",
       "      <td>4.84</td>\n",
       "    </tr>\n",
       "    <tr>\n",
       "      <th>2</th>\n",
       "      <td>0</td>\n",
       "      <td>28.35</td>\n",
       "      <td>19.99</td>\n",
       "      <td>45.78</td>\n",
       "      <td>5.08</td>\n",
       "      <td>1.63</td>\n",
       "      <td>0.80</td>\n",
       "      <td>4.95</td>\n",
       "    </tr>\n",
       "    <tr>\n",
       "      <th>3</th>\n",
       "      <td>0</td>\n",
       "      <td>30.55</td>\n",
       "      <td>20.15</td>\n",
       "      <td>43.13</td>\n",
       "      <td>4.79</td>\n",
       "      <td>1.61</td>\n",
       "      <td>1.38</td>\n",
       "      <td>4.74</td>\n",
       "    </tr>\n",
       "    <tr>\n",
       "      <th>4</th>\n",
       "      <td>0</td>\n",
       "      <td>30.49</td>\n",
       "      <td>21.28</td>\n",
       "      <td>41.65</td>\n",
       "      <td>4.82</td>\n",
       "      <td>1.64</td>\n",
       "      <td>1.76</td>\n",
       "      <td>4.67</td>\n",
       "    </tr>\n",
       "  </tbody>\n",
       "</table>\n",
       "</div>"
      ],
      "text/plain": [
       "   brand   mois   prot    fat   ash  sodium  carb   cal\n",
       "0      0  27.82  21.43  44.87  5.11    1.77  0.77  4.93\n",
       "1      0  28.49  21.26  43.89  5.34    1.79  1.02  4.84\n",
       "2      0  28.35  19.99  45.78  5.08    1.63  0.80  4.95\n",
       "3      0  30.55  20.15  43.13  4.79    1.61  1.38  4.74\n",
       "4      0  30.49  21.28  41.65  4.82    1.64  1.76  4.67"
      ]
     },
     "execution_count": 172,
     "metadata": {},
     "output_type": "execute_result"
    }
   ],
   "source": [
    "encoder = LabelEncoder()\n",
    "df['brand'] = encoder.fit_transform(df['brand'])\n",
    "df.head()"
   ]
  },
  {
   "cell_type": "markdown",
   "id": "b1894750-c4d8-47c7-8aa1-859bb595a53e",
   "metadata": {},
   "source": [
    "## 3. Train test split"
   ]
  },
  {
   "cell_type": "code",
   "execution_count": 173,
   "id": "f4e12369-557b-4472-b77a-5b3a24cacdb1",
   "metadata": {},
   "outputs": [],
   "source": [
    "from sklearn.model_selection import train_test_split"
   ]
  },
  {
   "cell_type": "code",
   "execution_count": 174,
   "id": "ccbb60e3-4a6b-4867-9350-3ffb51478fa3",
   "metadata": {},
   "outputs": [],
   "source": [
    "X = df.drop('brand', axis=1)\n",
    "y = df['brand'].copy()"
   ]
  },
  {
   "cell_type": "code",
   "execution_count": 175,
   "id": "2d5c5000-1ba2-4512-b6c7-4a97a9d85a19",
   "metadata": {},
   "outputs": [],
   "source": [
    "X_train, X_test, y_train, y_test = train_test_split(X, y, test_size=0.3, random_state=422)"
   ]
  },
  {
   "cell_type": "code",
   "execution_count": 176,
   "id": "b7ad00fa-fe06-4674-98cd-80ed1981874b",
   "metadata": {},
   "outputs": [
    {
     "name": "stdout",
     "output_type": "stream",
     "text": [
      "(206, 7)\n",
      "(89, 7)\n"
     ]
    }
   ],
   "source": [
    "print(X_train.shape)\n",
    "print(X_test.shape)"
   ]
  },
  {
   "cell_type": "markdown",
   "id": "e15c08d9-d25b-4869-8a1b-a134b491bb77",
   "metadata": {},
   "source": [
    "## 4. Hyperclassifier Search"
   ]
  },
  {
   "cell_type": "code",
   "execution_count": 177,
   "id": "a750f303-4c68-4d51-bc27-8305298c245b",
   "metadata": {},
   "outputs": [],
   "source": [
    "from sklearn.neighbors import KNeighborsClassifier\n",
    "from sklearn.tree import DecisionTreeClassifier\n",
    "from sklearn.ensemble import RandomForestClassifier\n",
    "from sklearn.svm import SVC\n",
    "from xgboost import XGBClassifier"
   ]
  },
  {
   "cell_type": "code",
   "execution_count": 178,
   "id": "d189944a-ff90-4cae-8caf-261231b035de",
   "metadata": {},
   "outputs": [],
   "source": [
    "models = {\n",
    "    'SVM': SVC(max_iter=10000),\n",
    "    'kNN': KNeighborsClassifier(),\n",
    "    'DT': DecisionTreeClassifier(),\n",
    "    'RandomForestClassifier': RandomForestClassifier(),\n",
    "    'XGBoost': XGBClassifier()\n",
    "}"
   ]
  },
  {
   "cell_type": "code",
   "execution_count": 179,
   "id": "f07ed6d1-b322-465c-abee-74b4dc10a3ed",
   "metadata": {},
   "outputs": [],
   "source": [
    "params = { \n",
    "    'SVM': {\n",
    "        'kernel': ['linear', 'poly', 'rbf', 'sigmoid']\n",
    "    },\n",
    "    'kNN': {\n",
    "        'n_neighbors': [3, 5, 7, 9, 11], \n",
    "        'weights': ['uniform','balanced']\n",
    "    },\n",
    "    'DT': {\n",
    "        'criterion': ['gini', 'Entropy'],\n",
    "        'class_weight': ['balanced', None]\n",
    "    },\n",
    "    'RandomForestClassifier': { \n",
    "        'n_estimators': [50, 100, 200, 300, 400, 500],\n",
    "        'class_weight': ['balanced',None]\n",
    "    },\n",
    "    'XGBoost': {\n",
    "        'n_estimators': [50, 100, 150],\n",
    "        'learning_rate': [0.01, 0.1, 0.3]\n",
    "    }\n",
    "}"
   ]
  },
  {
   "cell_type": "code",
   "execution_count": 180,
   "id": "6a7cbd0d-f182-4082-b2ed-0dd7a7d6003f",
   "metadata": {},
   "outputs": [
    {
     "name": "stdout",
     "output_type": "stream",
     "text": [
      "Search for SVM ...\n",
      "Search for kNN ...\n",
      "Search for DT ...\n",
      "Search for RandomForestClassifier ...\n",
      "Search for XGBoost ...\n",
      "Search is done.\n"
     ]
    }
   ],
   "source": [
    "from HyperclassifierSearch import HyperclassifierSearch\n",
    "search = HyperclassifierSearch(models, params)\n",
    "best_model = search.train_model(X_train, y_train, cv=5)"
   ]
  },
  {
   "cell_type": "code",
   "execution_count": 181,
   "id": "90c2a69b-54ce-46c5-91ab-a939d68b3995",
   "metadata": {},
   "outputs": [
    {
     "name": "stdout",
     "output_type": "stream",
     "text": [
      "results round for: SVM\n",
      "results round for: kNN\n",
      "results round for: DT\n",
      "results round for: RandomForestClassifier\n",
      "results round for: XGBoost\n"
     ]
    },
    {
     "data": {
      "image/png": "[encoded data removed]",
      "text/plain": [
       "<Figure size 640x480 with 1 Axes>"
      ]
     },
     "metadata": {},
     "output_type": "display_data"
    }
   ],
   "source": [
    "result = search.evaluate_model()\n",
    "result['label'] = result['Estimator'].astype(str) + result['params'].astype(str)\n",
    "std = result['std_test_score'].to_list()\n",
    "mean_ = result['mean_test_score'].to_list()\n",
    "x = result['label'].to_list()\n",
    "plt.errorbar(x, mean_, std, linestyle='None', marker='o',capsize=3)\n",
    "plt.xticks(rotation=90, ha='right')\n",
    "plt.show()"
   ]
  },
  {
   "cell_type": "markdown",
   "id": "1ed6cd58-f2fd-4bcb-abd9-d38c61fcd1e4",
   "metadata": {},
   "source": [
    "NOTE: Bộ thông số phù hợp cho: \n",
    "- SVM: kernel: 'linear'\n",
    "- kNN: n_neighbors: 5, weights: 'uniform'\n",
    "- Decision Tree: class_weight: None, criterion: 'gini'\n",
    "- Random Forest: n_estimators: 400, class_weight: None\n",
    "- XGBoost: learning_rate: 0.3, n_estimators: 150"
   ]
  },
  {
   "cell_type": "markdown",
   "id": "b9c63427-45f3-44fe-8dd5-3f593909a366",
   "metadata": {},
   "source": [
    "**NOTE: Model cho kết quả tốt nhất là Random Forest (n_estimators: 400, class_weight: None)**"
   ]
  },
  {
   "cell_type": "markdown",
   "id": "1415eb81-5c96-4724-be93-bf2425d1e796",
   "metadata": {},
   "source": [
    "## 5. Random Forest Model"
   ]
  },
  {
   "cell_type": "code",
   "execution_count": 74,
   "id": "6de5a093-8ade-45da-9108-fd7fea1020ac",
   "metadata": {},
   "outputs": [],
   "source": [
    "from sklearn.ensemble import RandomForestClassifier"
   ]
  },
  {
   "cell_type": "code",
   "execution_count": 182,
   "id": "b37cdc45-5c20-4396-8a72-9b20963999e2",
   "metadata": {},
   "outputs": [
    {
     "data": {
      "text/plain": [
       "RandomForestClassifier(n_estimators=400)"
      ]
     },
     "execution_count": 182,
     "metadata": {},
     "output_type": "execute_result"
    }
   ],
   "source": [
    "model = RandomForestClassifier(n_estimators=400)\n",
    "model.fit(X_train,y_train)"
   ]
  },
  {
   "cell_type": "code",
   "execution_count": 183,
   "id": "9010c269-4e16-490f-bb4b-8478b54d0095",
   "metadata": {},
   "outputs": [
    {
     "name": "stdout",
     "output_type": "stream",
     "text": [
      "              precision    recall  f1-score   support\n",
      "\n",
      "           0     1.0000    1.0000    1.0000        12\n",
      "           1     1.0000    1.0000    1.0000         9\n",
      "           2     1.0000    0.9000    0.9474        10\n",
      "           3     0.8571    1.0000    0.9231         6\n",
      "           4     1.0000    0.5000    0.6667         4\n",
      "           5     0.6923    1.0000    0.8182         9\n",
      "           6     1.0000    0.6000    0.7500        10\n",
      "           7     0.8000    1.0000    0.8889         8\n",
      "           8     1.0000    1.0000    1.0000         9\n",
      "           9     1.0000    1.0000    1.0000        12\n",
      "\n",
      "    accuracy                         0.9213        89\n",
      "   macro avg     0.9349    0.9000    0.8994        89\n",
      "weighted avg     0.9413    0.9213    0.9175        89\n",
      "\n"
     ]
    }
   ],
   "source": [
    "y_predict = model.predict(X_test)\n",
    "print(classification_report(y_test,y_predict,digits=4))"
   ]
  },
  {
   "cell_type": "markdown",
   "id": "9ec850cb-c626-45d4-af24-128fb496d041",
   "metadata": {},
   "source": [
    "**NOTE: Độ chính xác của model Random Forest là 92.13%**"
   ]
  },
  {
   "cell_type": "markdown",
   "id": "fb5569c6-ee81-4302-a08e-88bf2f3e789e",
   "metadata": {},
   "source": [
    "## 6. XGBoost Model"
   ]
  },
  {
   "cell_type": "code",
   "execution_count": 137,
   "id": "cef14571-80e6-4410-b188-8399e9881adb",
   "metadata": {},
   "outputs": [],
   "source": [
    "from xgboost import XGBClassifier"
   ]
  },
  {
   "cell_type": "code",
   "execution_count": 184,
   "id": "6b871ca3-f14c-4478-a592-52e2c80aa29e",
   "metadata": {},
   "outputs": [
    {
     "data": {
      "text/plain": [
       "XGBClassifier(base_score=None, booster=None, callbacks=None,\n",
       "              colsample_bylevel=None, colsample_bynode=None,\n",
       "              colsample_bytree=None, early_stopping_rounds=None,\n",
       "              enable_categorical=False, eval_metric=None, feature_types=None,\n",
       "              gamma=None, gpu_id=None, grow_policy=None, importance_type=None,\n",
       "              interaction_constraints=None, learning_rate=None, max_bin=None,\n",
       "              max_cat_threshold=None, max_cat_to_onehot=None,\n",
       "              max_delta_step=None, max_depth=None, max_leaves=None,\n",
       "              min_child_weight=None, missing=nan, monotone_constraints=None,\n",
       "              n_estimators=100, n_jobs=None, num_parallel_tree=None,\n",
       "              objective='multi:softprob', predictor=None, ...)"
      ]
     },
     "execution_count": 184,
     "metadata": {},
     "output_type": "execute_result"
    }
   ],
   "source": [
    "xgb = XGBClassifier()\n",
    "xgb.fit(X_train,y_train)"
   ]
  },
  {
   "cell_type": "code",
   "execution_count": 185,
   "id": "cc18845e-cc0e-4873-8708-ddf673115efb",
   "metadata": {},
   "outputs": [
    {
     "name": "stdout",
     "output_type": "stream",
     "text": [
      "              precision    recall  f1-score   support\n",
      "\n",
      "           0     1.0000    1.0000    1.0000        12\n",
      "           1     1.0000    1.0000    1.0000         9\n",
      "           2     1.0000    0.8000    0.8889        10\n",
      "           3     0.7500    1.0000    0.8571         6\n",
      "           4     0.7500    0.7500    0.7500         4\n",
      "           5     0.6429    1.0000    0.7826         9\n",
      "           6     1.0000    0.5000    0.6667        10\n",
      "           7     0.8750    0.8750    0.8750         8\n",
      "           8     1.0000    1.0000    1.0000         9\n",
      "           9     1.0000    1.0000    1.0000        12\n",
      "\n",
      "    accuracy                         0.8989        89\n",
      "   macro avg     0.9018    0.8925    0.8820        89\n",
      "weighted avg     0.9246    0.8989    0.8960        89\n",
      "\n"
     ]
    }
   ],
   "source": [
    "y_predict = xgb.predict(X_test)\n",
    "print(classification_report(y_test,y_predict,digits=4))"
   ]
  },
  {
   "cell_type": "markdown",
   "id": "8c18b0ad-d1f3-4520-979b-e58a314f68a6",
   "metadata": {},
   "source": [
    "**NOTE: Độ chính xác của model XGBoost là 89.89%, kém hơn so với model Random Forest**"
   ]
  },
  {
   "cell_type": "code",
   "execution_count": null,
   "id": "353b7bae-a9e9-413e-a8ae-49164ec5f846",
   "metadata": {},
   "outputs": [],
   "source": []
  }
 ],
 "metadata": {
  "kernelspec": {
   "display_name": "Python 3 (ipykernel)",
   "language": "python",
   "name": "python3"
  },
  "language_info": {
   "codemirror_mode": {
    "name": "ipython",
    "version": 3
   },
   "file_extension": ".py",
   "mimetype": "text/x-python",
   "name": "python",
   "nbconvert_exporter": "python",
   "pygments_lexer": "ipython3",
   "version": "3.9.13"
  }
 },
 "nbformat": 4,
 "nbformat_minor": 5
}
