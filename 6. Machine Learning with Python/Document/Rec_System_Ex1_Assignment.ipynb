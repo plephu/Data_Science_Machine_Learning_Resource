{
 "cells": [
  {
   "cell_type": "markdown",
   "id": "11d6e111-570e-4b10-8131-a7c9023222f8",
   "metadata": {},
   "source": [
    "## Content Based Filetering"
   ]
  },
  {
   "cell_type": "markdown",
   "id": "30fbf485-c368-4ee6-9806-cd22f54f2173",
   "metadata": {},
   "source": [
    "#### In this tutorial, we will implement the most native approaches for computing Content-based Recommendation"
   ]
  },
  {
   "cell_type": "code",
   "execution_count": 3,
   "id": "d98a1d07-dea3-43ca-acad-fc03b36d63cd",
   "metadata": {},
   "outputs": [],
   "source": [
    "import pandas as pd\n",
    "import numpy as np\n",
    "from sklearn import datasets\n",
    "import sklearn\n",
    "import matplotlib.pyplot as plt\n",
    "import matplotlib\n",
    "%matplotlib inline"
   ]
  },
  {
   "cell_type": "code",
   "execution_count": 17,
   "id": "21be27bf-39c5-45ce-ab0b-af6a649a009b",
   "metadata": {},
   "outputs": [],
   "source": [
    "from sklearn.linear_model import Ridge\n",
    "from sklearn import linear_model\n",
    "import math\n",
    "\n",
    "class ContentBasedFiltering:\n",
    "    def __init__(self,n_users,n_items,data_dimension,utility_train):\n",
    "        self.n_users = n_users # number of users\n",
    "        self.n_items = n_items # number of items\n",
    "        self.dimension = data_dimension # vector dimension\n",
    "        self.u_train = utility_train# utility dataframe \n",
    "        \n",
    "    def get_items_by_user(self,rate_matrix, user_id):\n",
    "        \"\"\"\n",
    "        # rate matrix: utility matrix\n",
    "        # get list of items rated by this user_id and corresponding rating\n",
    "        in each line of u_train, we have infor: user_id, item_id, rating (scores), time_stamp\n",
    "        we care about the first three values\n",
    "        return (item_ids, scores) rated by user user_id\n",
    "        \"\"\"\n",
    "        ## note: user_id starts from 1\n",
    "        y = rate_matrix[:,0] # all users\n",
    "        # item indices rated by user_id\n",
    "        ids = np.where(y == user_id)[0] \n",
    "        item_ids = rate_matrix[ids, 1]  # index starts from 0 \n",
    "        scores = rate_matrix[ids, 2]\n",
    "        return (item_ids, scores)\n",
    "    \n",
    "    def fit(self,X_features):\n",
    "        ## fit the model to the dataset\n",
    "        ## X_features: item profiles matrix (maybe via tfidf)\n",
    "        ### infer the user profiles via fitting ridge model for each user\n",
    "        d = self.dimension # data dimension\n",
    "        n_users = self.n_users\n",
    "        W = np.zeros((d, n_users))\n",
    "        b = np.zeros((1, n_users))\n",
    "        for n in range(1,n_users):    \n",
    "            # get items and ratings for each user\n",
    "            ids, scores = self.get_items_by_user(self.u_train.values, n)\n",
    "            ids = ids -1\n",
    "            # build a Ridge model for each user\n",
    "            clf = Ridge(alpha=0.01, fit_intercept  = True)\n",
    "            ### features of all items user rated\n",
    "            Xhat = X_features[ids, :]\n",
    "            ### fitting\n",
    "            clf.fit(Xhat, scores) \n",
    "            W[:, n] = clf.coef_\n",
    "            b[0, n] = clf.intercept_\n",
    "        self.W = W\n",
    "        self.b = b\n",
    "        self.Yhat = X_features.dot(self.W) + self.b\n",
    "        print(self.Yhat.shape)\n",
    "        self.tfidf = X_features\n",
    "        print(\"Fitted the model to data successfully. Found W and b\")\n",
    "        \n",
    "    \n",
    "    def predict(self,uid,items,dataset):\n",
    "        ### recommend top 10 suitable product for user\n",
    "        ## items: dataframe to get movie name\n",
    "        ## dataset: the dataset to perform recommendation on for this user, \n",
    "        ### e.g: in this dataset, user gt is : ... and predicted value for these items :\n",
    "        \n",
    "        ids, scores_truth = self.get_items_by_user(dataset.values, uid)\n",
    "        ## inside this dataset user voted for ids movie\n",
    "        ## build a prediction for uid\n",
    "        print(ids)\n",
    "        new_ids = ids-1\n",
    "        scores_preds = self.Yhat[new_ids,uid]\n",
    "        print(scores_preds)\n",
    "        idx = np.argsort(scores_preds)[-5:] #idx in the movie id list\n",
    "        idx = ids[idx]\n",
    "        print(idx)\n",
    "        title = items.values[idx-1,1]\n",
    "        print(\"recommend these content to this user id\", title)\n",
    "        \n",
    "    def compare(self,uid,dataset):\n",
    "        ids, scores = self.get_items_by_user(dataset.values, uid)\n",
    "        ids = ids\n",
    "        ## scores are gt scores in dataset\n",
    "        print(ids)\n",
    "        ids = ids-1\n",
    "        print(scores)\n",
    "        preds = self.Yhat[ids,uid]\n",
    "        print(preds)\n",
    "        \n",
    "    def evaluate(self, dataset):\n",
    "        se = 0\n",
    "        cnt = 0\n",
    "        se_2 = 0 # for average method\n",
    "        cnt_2 = 0 # for average method\n",
    "        for n in range(1,self.n_users):\n",
    "            ids, scores_truth = self.get_items_by_user(dataset, n)\n",
    "            scores_pred = self.Yhat[ids, n]\n",
    "            e = scores_truth - scores_pred \n",
    "            se += (e*e).sum(axis = 0)\n",
    "            cnt += e.size \n",
    "            ## What if we want to implement user profiles as the average of all rated item profiles?\n",
    "            candidate_items = self.tfidf[ids,:]\n",
    "            scores_mean_pred = np.mean(candidate_items)\n",
    "            e_2 = scores_truth - scores_mean_pred \n",
    "            se_2 += (e_2*e_2).sum(axis = 0)\n",
    "            cnt_2 += e_2.size \n",
    "        return math.sqrt(se/cnt),math.sqrt(se_2/cnt_2)\n",
    "    \n",
    "    "
   ]
  },
  {
   "cell_type": "markdown",
   "id": "2769bc75-88ae-4f06-a9ba-a0d13b3f2c29",
   "metadata": {},
   "source": [
    "#### 1. The dataset"
   ]
  },
  {
   "cell_type": "markdown",
   "id": "6232169d-4d7d-4a97-8be6-e1144330d70c",
   "metadata": {},
   "source": [
    "MovieLens 100K movie ratings. Stable benchmark dataset. 100,000 ratings from 1000 users on 1700 movies. Released 4/1998.\n",
    "\n",
    "README.txt\n",
    "\n",
    "\n",
    "ml-100k.zip (size: 5 MB, checksum)\n",
    "\n",
    "\n",
    "Index of unzipped files\n",
    "\n",
    "\n",
    "Permalink: https://grouplens.org/datasets/movielens/100k/"
   ]
  },
  {
   "cell_type": "code",
   "execution_count": null,
   "id": "410986af-7e5c-4e9f-80c0-22c41bbf3b43",
   "metadata": {},
   "outputs": [],
   "source": [
    "# download the dataset\n",
    "import urllib.request\n",
    "urllib.request.urlretrieve(\"https://files.grouplens.org/datasets/movielens/ml-100k.zip\", \"ml-100k.zip\")\n",
    "# unzip the file to directory \"data\"\n",
    "import zipfile\n",
    "with zipfile.ZipFile(\"ml-100k.zip\", 'r') as zip_ref:\n",
    "    zip_ref.extractall(\"data\")"
   ]
  },
  {
   "cell_type": "code",
   "execution_count": 4,
   "id": "ddfdc853-2abc-45d6-97c2-08d0615e208c",
   "metadata": {},
   "outputs": [],
   "source": [
    "# important paths\n",
    "PATH_TO_DATA = \"data/ml-100k/\"\n",
    "SUBPATH_ITEM = \"u.item\"\n",
    "SUBPATH_TRAINING = \"ua.base\" # utility matrix for training\n",
    "SUBPATH_TEST = \"ua.test\" # utility matrix for training"
   ]
  },
  {
   "cell_type": "markdown",
   "id": "d6b37bb0-c3ae-4eda-b5d5-0beca6339787",
   "metadata": {},
   "source": [
    "#### 2. Insights of Data and Utility Matrix"
   ]
  },
  {
   "cell_type": "code",
   "execution_count": 5,
   "id": "7e11a589-8f39-41ad-a644-8f1055b9adec",
   "metadata": {},
   "outputs": [],
   "source": [
    "# read the utility matrix:\n",
    "cols = ['user_id', 'movie_id', 'rating', 'unix_timestamp']\n",
    "u_train = pd.read_csv(PATH_TO_DATA+SUBPATH_TRAINING, sep='\\t', names=cols)\n",
    "u_test = pd.read_csv(PATH_TO_DATA+SUBPATH_TEST, sep='\\t',names=cols)"
   ]
  },
  {
   "cell_type": "code",
   "execution_count": null,
   "id": "5a96fea6-69dc-441b-bed3-e9df8a1ada58",
   "metadata": {},
   "outputs": [],
   "source": [
    "nb_train = u_train.shape[0]\n",
    "nb_test = u_test.shape [0]\n",
    "\n",
    "## basic stats: print number of train samples, of test samples\n",
    "\n",
    "\n",
    "\n",
    "## rating stats: how many unique rating values and \n",
    "### plot a pie chart of rating value\n",
    "\n",
    "\n",
    "\n",
    "## user stats: how many unsers, \n",
    "### on avarage each user vote how many times, \n",
    "### print top 10 user who voted the most\n",
    "\n",
    "\n",
    "count_group = u_train.groupby(\"user_id\").rating.count()\n",
    "\n",
    "print(\"number of unique users: \",len(u_train.user_id.unique()))\n",
    "print(\"on average each user voted X number of items, X=\",np.mean(count_group))\n",
    "count_group = count_group.reset_index(name='count').sort_values(['count'], ascending=False).head(10)\n",
    "print(\"top 10 user id who voted the most: \")\n",
    "print(count_group)"
   ]
  },
  {
   "cell_type": "code",
   "execution_count": 12,
   "id": "82a751e5-5bf5-4549-9d22-5019cf8a9e6b",
   "metadata": {},
   "outputs": [
    {
     "name": "stdout",
     "output_type": "stream",
     "text": [
      "plotting first 10 user's rating for first 10 movies\n",
      "user_id    1    2   3   4   5    6    7    8    9    10\n",
      "movie_id                                               \n",
      "1         5.0  4.0 NaN NaN NaN  4.0  NaN  NaN  NaN  4.0\n",
      "2         3.0  NaN NaN NaN NaN  NaN  NaN  NaN  NaN  NaN\n",
      "3         4.0  NaN NaN NaN NaN  NaN  NaN  NaN  NaN  NaN\n",
      "4         3.0  NaN NaN NaN NaN  NaN  5.0  NaN  NaN  4.0\n",
      "5         3.0  NaN NaN NaN NaN  NaN  NaN  NaN  NaN  NaN\n",
      "6         5.0  NaN NaN NaN NaN  NaN  NaN  NaN  NaN  NaN\n",
      "7         4.0  NaN NaN NaN NaN  2.0  5.0  3.0  4.0  NaN\n",
      "8         1.0  NaN NaN NaN NaN  4.0  5.0  NaN  NaN  NaN\n",
      "9         5.0  NaN NaN NaN NaN  4.0  5.0  NaN  NaN  4.0\n",
      "10        3.0  2.0 NaN NaN NaN  NaN  4.0  NaN  NaN  NaN\n",
      "current sparsity =  0.74\n",
      "Training set sparsity =  0.9428306317224663\n"
     ]
    }
   ],
   "source": [
    "utility_train = u_train.pivot(index='movie_id', columns='user_id', values='rating')\n",
    "print(\"plotting first 10 user's rating for first 10 movies\")\n",
    "print(utility_train.iloc[:10,:10])\n",
    "nb_nans = (np.count_nonzero(np.isnan(utility_train.iloc[:10,:10])))\n",
    "## calculate spasity as % of nans elements\n",
    "print(\"current sparsity = \",nb_nans/100)\n",
    "## calculate sparsity for the whole matrix\n",
    "nb_nans = (np.count_nonzero(np.isnan(utility_train)))\n",
    "print(\"Training set sparsity = \",nb_nans/(utility_train.shape[0]*utility_train.shape[1]))\n",
    "\n"
   ]
  },
  {
   "cell_type": "markdown",
   "id": "80696166-dc8b-43d5-b785-58871d1e2f6b",
   "metadata": {},
   "source": [
    "#### 3. Preparing the Data"
   ]
  },
  {
   "cell_type": "code",
   "execution_count": 11,
   "id": "4088236f-13dc-4b90-a76e-f1332aeef564",
   "metadata": {},
   "outputs": [
    {
     "name": "stdout",
     "output_type": "stream",
     "text": [
      "Number of items: 1682\n"
     ]
    }
   ],
   "source": [
    "## define the features of items\n",
    "i_cols = ['movie id', 'movie title' ,'release date','video release date', 'IMDb URL', 'unknown', 'Action', 'Adventure',\n",
    " 'Animation', 'Children\\'s', 'Comedy', 'Crime', 'Documentary', 'Drama', 'Fantasy',\n",
    " 'Film-Noir', 'Horror', 'Musical', 'Mystery', 'Romance', 'Sci-Fi', 'Thriller', 'War', 'Western']\n",
    "\n",
    "items = pd.read_csv(PATH_TO_DATA+SUBPATH_ITEM, sep='|', names=i_cols, encoding='latin-1')\n",
    "\n",
    "n_items = items.shape[0]\n",
    "print('Number of items:', n_items)\n",
    "\n",
    "## calculate item profiles are based on last 19 columns\n",
    "\n",
    "## building features using TF-IDF\n",
    "\n"
   ]
  },
  {
   "cell_type": "markdown",
   "id": "d7fb0656-f85c-4bde-9a6c-b491d618856a",
   "metadata": {},
   "source": [
    "#### 4. Training and Prediction"
   ]
  },
  {
   "cell_type": "code",
   "execution_count": 16,
   "id": "98c4b18b-c0ca-493d-953d-26fec3973380",
   "metadata": {},
   "outputs": [],
   "source": [
    "### config parameter goes here"
   ]
  },
  {
   "cell_type": "code",
   "execution_count": 17,
   "id": "abdb5b61-7369-478c-bfa3-5ad1f7b70c92",
   "metadata": {},
   "outputs": [],
   "source": [
    "\n",
    "## creating a model\n",
    "content_based = ContentBasedFiltering(n_users,n_items,d,u_train)"
   ]
  },
  {
   "cell_type": "code",
   "execution_count": 18,
   "id": "fb6b4843-11b3-4a77-b92d-08081cac9c35",
   "metadata": {},
   "outputs": [
    {
     "name": "stdout",
     "output_type": "stream",
     "text": [
      "Fitted the model to data successfully. Found W and b\n"
     ]
    }
   ],
   "source": [
    "## fiting the model"
   ]
  },
  {
   "cell_type": "code",
   "execution_count": 19,
   "id": "decd735f-8c13-4c13-bee7-6d1b96c3fb51",
   "metadata": {},
   "outputs": [
    {
     "data": {
      "text/plain": [
       "(1.3665692836571879, 3.6903116575007284)"
      ]
     },
     "execution_count": 19,
     "metadata": {},
     "output_type": "execute_result"
    }
   ],
   "source": [
    "### evaluate the model"
   ]
  },
  {
   "cell_type": "code",
   "execution_count": 20,
   "id": "12b1e572-a92e-4f7a-93e7-6d61453c441c",
   "metadata": {},
   "outputs": [
    {
     "name": "stdout",
     "output_type": "stream",
     "text": [
      "[ 20  33  61 117 155 160 171 189 202 265]\n",
      "[4 4 4 3 2 4 5 3 5 4]\n",
      "[3.50180262 2.4780471  3.86366841 2.78285588 4.16874794 3.84481683\n",
      " 4.48294226 3.76639494 2.68684402 4.57244238]\n"
     ]
    }
   ],
   "source": [
    "### compare the rating for a user on the test set"
   ]
  },
  {
   "cell_type": "code",
   "execution_count": 21,
   "id": "2d0bf76f-775d-4a8a-910d-0b154c197cb5",
   "metadata": {},
   "outputs": [
    {
     "name": "stdout",
     "output_type": "stream",
     "text": [
      "[ 20  33  61 117 155 160 171 189 202 265]\n",
      "[3.50180262 2.4780471  3.86366841 2.78285588 4.16874794 3.84481683\n",
      " 4.48294226 3.76639494 2.68684402 4.57244238]\n",
      "[160  61 155 171 265]\n",
      "recommend these content to this user id ['Glengarry Glen Ross (1992)' 'Three Colors: White (1994)'\n",
      " 'Dirty Dancing (1987)' 'Delicatessen (1991)'\n",
      " 'Hunt for Red October, The (1990)']\n"
     ]
    }
   ],
   "source": [
    "### recommend items for a user"
   ]
  },
  {
   "cell_type": "code",
   "execution_count": 15,
   "id": "6ec101a1-1919-4812-a0bb-a32f55bf88cc",
   "metadata": {},
   "outputs": [
    {
     "name": "stdout",
     "output_type": "stream",
     "text": [
      "   index  user_id  movie_id  rating  unix_timestamp\n",
      "0      6        1       171       5       889751711\n",
      "1      8        1       202       5       875072442\n",
      "2      0        1        20       4       887431883\n",
      "3      1        1        33       4       878542699\n",
      "4      2        1        61       4       878542420\n"
     ]
    }
   ],
   "source": [
    "### top items by rating of user uid\n",
    "uid = 1\n",
    "top_rate_by_user = u_test[u_test.user_id==uid].sort_values(by=['rating'],ascending=False).reset_index()\n",
    "print(top_rate_by_user.head(5))"
   ]
  },
  {
   "cell_type": "code",
   "execution_count": 16,
   "id": "4f224459-5e9d-4fed-8e77-338aa264a00f",
   "metadata": {},
   "outputs": [
    {
     "data": {
      "text/plain": [
       "array(['Delicatessen (1991)', 'Groundhog Day (1993)',\n",
       "       'Angels and Insects (1995)', 'Desperado (1995)',\n",
       "       'Three Colors: White (1994)'], dtype=object)"
      ]
     },
     "execution_count": 16,
     "metadata": {},
     "output_type": "execute_result"
    }
   ],
   "source": [
    "### TITLE of top items by rating of user uid\n",
    "\n",
    "items.values[top_rate_by_user.movie_id-1,1][:5]"
   ]
  },
  {
   "cell_type": "code",
   "execution_count": null,
   "id": "a0e197b3-5968-4558-86f6-1ec1293fb735",
   "metadata": {},
   "outputs": [],
   "source": []
  }
 ],
 "metadata": {
  "kernelspec": {
   "display_name": "Python 3 (ipykernel)",
   "language": "python",
   "name": "python3"
  },
  "language_info": {
   "codemirror_mode": {
    "name": "ipython",
    "version": 3
   },
   "file_extension": ".py",
   "mimetype": "text/x-python",
   "name": "python",
   "nbconvert_exporter": "python",
   "pygments_lexer": "ipython3",
   "version": "3.9.16"
  }
 },
 "nbformat": 4,
 "nbformat_minor": 5
}
