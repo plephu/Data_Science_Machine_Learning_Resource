{
 "cells": [
  {
   "cell_type": "markdown",
   "id": "11d6e111-570e-4b10-8131-a7c9023222f8",
   "metadata": {},
   "source": [
    "## Collaborative Filetering"
   ]
  },
  {
   "cell_type": "markdown",
   "id": "30fbf485-c368-4ee6-9806-cd22f54f2173",
   "metadata": {},
   "source": [
    "#### In this tutorial, we will implement the most native approaches for computing Collaborative Filtering Recommendation system"
   ]
  },
  {
   "cell_type": "code",
   "execution_count": 5,
   "id": "d98a1d07-dea3-43ca-acad-fc03b36d63cd",
   "metadata": {},
   "outputs": [],
   "source": [
    "import pandas as pd\n",
    "import numpy as np\n",
    "from sklearn import datasets\n",
    "import sklearn\n",
    "import matplotlib.pyplot as plt\n",
    "import matplotlib\n",
    "%matplotlib inline"
   ]
  },
  {
   "cell_type": "code",
   "execution_count": 1,
   "id": "21be27bf-39c5-45ce-ab0b-af6a649a009b",
   "metadata": {},
   "outputs": [],
   "source": [
    "from sklearn.metrics.pairwise import cosine_similarity\n",
    "from scipy import sparse \n",
    "class CF(object):\n",
    "    \"\"\"docstring for CF\"\"\"\n",
    "    def __init__(self, Y_data, k, dist_func = cosine_similarity, uuCF = 1):\n",
    "        ### Y_data is the rating matrix\n",
    "        ### k is the number of neibors\n",
    "        ### dist funct is what we used to measure similarity\n",
    "        ### user profiles in U-U is now the rating grades itself\n",
    "        self.uuCF = uuCF # user-user (1) or item-item (0) CF\n",
    "        self.Y_data = Y_data if uuCF else Y_data[:, [1, 0, 2]]\n",
    "        self.k = k\n",
    "        self.dist_func = dist_func\n",
    "        self.Ybar_data = None\n",
    "        # number of users and items. Remember to add 1 since id starts from 0\n",
    "        self.n_users = int(np.max(self.Y_data[:, 0])) + 1 \n",
    "        self.n_items = int(np.max(self.Y_data[:, 1])) + 1\n",
    "    \n",
    "    def add(self, new_data):\n",
    "        \"\"\"\n",
    "        Update Y_data matrix when new ratings come.\n",
    "        For simplicity, suppose that there is no new user or item.\n",
    "        \"\"\"\n",
    "        self.Y_data = np.concatenate((self.Y_data, new_data), axis = 0)\n",
    "    \n",
    "    def normalize_Y(self):\n",
    "        ##  normalize by substracting avg rating to user profiles\n",
    "        users = self.Y_data[:, 0] # all users - first col of the Y_data\n",
    "        self.Ybar_data = self.Y_data.copy()\n",
    "        self.mu = np.zeros((self.n_users,))\n",
    "        for n in range(self.n_users):\n",
    "            # row indices of rating done by user n\n",
    "            # since indices need to be integers, we need to convert\n",
    "            ids = np.where(users == n)[0].astype(np.int32)\n",
    "            # indices of all ratings associated with user n\n",
    "            item_ids = self.Y_data[ids, 1] \n",
    "            # and the corresponding ratings \n",
    "            ratings = self.Y_data[ids, 2]\n",
    "            # take mean\n",
    "            m = np.mean(ratings) \n",
    "            if np.isnan(m):\n",
    "                m = 0 # to avoid empty array and nan value\n",
    "            self.mu[n] = m\n",
    "            # normalize\n",
    "            self.Ybar_data[ids, 2] = ratings - self.mu[n]\n",
    "\n",
    "        self.Ybar = sparse.coo_matrix((self.Ybar_data[:, 2],\n",
    "            (self.Ybar_data[:, 1], self.Ybar_data[:, 0])), (self.n_items, self.n_users))\n",
    "        self.Ybar = self.Ybar.tocsr()\n",
    "\n",
    "    def similarity(self):\n",
    "        eps = 1e-6\n",
    "        self.S = self.dist_func(self.Ybar.T, self.Ybar.T)\n",
    "    \n",
    "        \n",
    "    def refresh(self):\n",
    "        \"\"\"\n",
    "        Normalize data and calculate similarity matrix again (after\n",
    "        some few ratings added)\n",
    "        \"\"\"\n",
    "        self.normalize_Y()\n",
    "        self.similarity() \n",
    "        \n",
    "    def fit(self):\n",
    "        self.refresh()\n",
    "        \n",
    "    \n",
    "    def __pred(self, u, i, normalized = 1):\n",
    "        \"\"\" \n",
    "        predict the rating of user u for item i (normalized) using User-user method\n",
    "        if you need the un\n",
    "        \"\"\"\n",
    "        # Step 1: find all users who rated i\n",
    "        ids = np.where(self.Y_data[:, 1] == i)[0].astype(np.int32)\n",
    "        # Step 2: \n",
    "        users_rated_i = (self.Y_data[ids, 0]).astype(np.int32)\n",
    "        # Step 3: find similarity btw the current user and others \n",
    "        # who already rated i\n",
    "        sim = self.S[u, users_rated_i]\n",
    "        # Step 4: find the k most similarity users\n",
    "        a = np.argsort(sim)[-self.k:] \n",
    "        # and the corresponding similarity levels\n",
    "        nearest_s = sim[a]\n",
    "        # How did each of 'near' users rated item i\n",
    "        r = self.Ybar[i, users_rated_i[a]]\n",
    "        if normalized:\n",
    "            # add a small number, for instance, 1e-8, to avoid dividing by 0\n",
    "            return (r*nearest_s)[0]/(np.abs(nearest_s).sum() + 1e-8)\n",
    "\n",
    "        return (r*nearest_s)[0]/(np.abs(nearest_s).sum() + 1e-8) + self.mu[u]\n",
    "    \n",
    "    def pred(self, u, i, normalized = 1):\n",
    "        \"\"\" \n",
    "        predict the rating of user u for item i (normalized) using ITEM-ITEM method\n",
    "        if you need the un\n",
    "        \"\"\"\n",
    "        if self.uuCF: return self.__pred(u, i, normalized)\n",
    "        return self.__pred(i, u, normalized)\n",
    "            \n",
    "    \n",
    "    def recommend(self, u,items):\n",
    "        \"\"\"\n",
    "        Determine all items should be recommended for user u.\n",
    "        The decision is made based on all i such that:\n",
    "        self.pred(u, i) > 0. Suppose we are considering items which \n",
    "        have not been rated by u yet. \n",
    "        \"\"\"\n",
    "        ids = np.where(self.Y_data[:, 0] == u)[0]\n",
    "        \n",
    "        items_rated_by_u = self.Y_data[ids, 1].tolist()    \n",
    "        recommended_items = []\n",
    "        ratings = []\n",
    "        for i in range(self.n_items):\n",
    "            if i not in items_rated_by_u:\n",
    "                rating = self.__pred(u, i)\n",
    "                if rating > 0: \n",
    "                    ratings.append(rating)\n",
    "                    recommended_items.append(i)\n",
    "        # find top k movie\n",
    "        if (self.uuCF):\n",
    "            idx = np.argsort(ratings)[-5:] #idx in the movie id list\n",
    "            recommended_items = np.array(recommended_items)\n",
    "            print(idx)\n",
    "            print(recommended_items)\n",
    "            idx = recommended_items[idx]\n",
    "            title = items.values[idx-1,1]\n",
    "            return title\n",
    "        return recommended_items \n",
    "\n",
    "    def print_recommendation(self,uid,items):\n",
    "        \"\"\"\n",
    "        print all items which should be recommended for each user \n",
    "        \"\"\"\n",
    "        print ('Recommendation: ')\n",
    "       \n",
    "        recommended_items = self.recommend(uid,items)\n",
    "        if self.uuCF:\n",
    "            print ('Recommend item(s):', recommended_items, 'for user', uid)\n",
    "        else: \n",
    "            print ('Recommend item', uid, 'for user(s) : ', recommended_items)"
   ]
  },
  {
   "cell_type": "markdown",
   "id": "2769bc75-88ae-4f06-a9ba-a0d13b3f2c29",
   "metadata": {},
   "source": [
    "#### 1. The dataset"
   ]
  },
  {
   "cell_type": "markdown",
   "id": "6232169d-4d7d-4a97-8be6-e1144330d70c",
   "metadata": {},
   "source": [
    "MovieLens 100K movie ratings. Stable benchmark dataset. 100,000 ratings from 1000 users on 1700 movies. Released 4/1998.\n",
    "\n",
    "README.txt\n",
    "\n",
    "\n",
    "ml-100k.zip (size: 5 MB, checksum)\n",
    "\n",
    "\n",
    "Index of unzipped files\n",
    "\n",
    "\n",
    "Permalink: https://grouplens.org/datasets/movielens/100k/"
   ]
  },
  {
   "cell_type": "code",
   "execution_count": 2,
   "id": "410986af-7e5c-4e9f-80c0-22c41bbf3b43",
   "metadata": {},
   "outputs": [],
   "source": [
    "# download the dataset\n",
    "import urllib.request\n",
    "urllib.request.urlretrieve(\"https://files.grouplens.org/datasets/movielens/ml-100k.zip\", \"ml-100k.zip\")\n",
    "# unzip the file to directory \"data\"\n",
    "import zipfile\n",
    "with zipfile.ZipFile(\"ml-100k.zip\", 'r') as zip_ref:\n",
    "    zip_ref.extractall(\"data\")"
   ]
  },
  {
   "cell_type": "code",
   "execution_count": 3,
   "id": "ddfdc853-2abc-45d6-97c2-08d0615e208c",
   "metadata": {},
   "outputs": [],
   "source": [
    "# important paths\n",
    "PATH_TO_DATA = \"data/ml-100k/\"\n",
    "SUBPATH_ITEM = \"u.item\"\n",
    "SUBPATH_TRAINING = \"ub.base\" # utility matrix for training\n",
    "SUBPATH_TEST = \"ub.test\" # utility matrix for training"
   ]
  },
  {
   "cell_type": "markdown",
   "id": "d6b37bb0-c3ae-4eda-b5d5-0beca6339787",
   "metadata": {},
   "source": [
    "#### 2. Insights of Data and Utility Matrix"
   ]
  },
  {
   "cell_type": "code",
   "execution_count": 6,
   "id": "7e11a589-8f39-41ad-a644-8f1055b9adec",
   "metadata": {},
   "outputs": [],
   "source": [
    "# read the utility matrix:\n",
    "cols = ['user_id', 'movie_id', 'rating', 'unix_timestamp']\n",
    "u_train = pd.read_csv(PATH_TO_DATA+SUBPATH_TRAINING, sep='\\t', names=cols)\n",
    "u_test = pd.read_csv(PATH_TO_DATA+SUBPATH_TEST, sep='\\t',names=cols)"
   ]
  },
  {
   "cell_type": "code",
   "execution_count": 7,
   "id": "5a96fea6-69dc-441b-bed3-e9df8a1ada58",
   "metadata": {},
   "outputs": [
    {
     "name": "stdout",
     "output_type": "stream",
     "text": [
      "number of train samples:  90570\n",
      "number of test samples:  9430\n",
      "Unique rating values:  [5 3 4 1 2]\n",
      "distribution of rating among dataset\n",
      "   rating  count\n",
      "0       1   5585\n",
      "1       2  10340\n",
      "2       3  24700\n",
      "3       4  30952\n",
      "4       5  18993\n"
     ]
    },
    {
     "data": {
      "image/png": "[encoded data removed]",
      "text/plain": [
       "<Figure size 640x480 with 1 Axes>"
      ]
     },
     "metadata": {},
     "output_type": "display_data"
    },
    {
     "name": "stdout",
     "output_type": "stream",
     "text": [
      "number of unique users:  943\n",
      "on average each user voted X number of items, X= 96.04453870625663\n",
      "top 10 user id who voted the most: \n",
      "     user_id  count\n",
      "404      405    727\n",
      "654      655    675\n",
      "12        13    626\n",
      "449      450    530\n",
      "275      276    508\n",
      "415      416    483\n",
      "536      537    480\n",
      "302      303    474\n",
      "233      234    470\n",
      "392      393    438\n"
     ]
    }
   ],
   "source": [
    "nb_train = u_train.shape[0]\n",
    "nb_test = u_test.shape [0]\n",
    "\n",
    "## basic stats\n",
    "print(\"number of train samples: \",nb_train)\n",
    "print(\"number of test samples: \",nb_test)\n",
    "## rating stats\n",
    "print(\"Unique rating values: \",u_train.rating.unique())\n",
    "rating_stat = u_train.groupby(\"rating\").movie_id.agg('count').to_frame('count').reset_index()\n",
    "print(\"distribution of rating among dataset\")\n",
    "print(rating_stat)\n",
    "plot =rating_stat.plot.pie(y = \"count\",title=\"Distribution of Rating among dataset\", legend=False, \\\n",
    "                   autopct='%1.1f%%', labels = rating_stat.rating.to_list(),\n",
    "                   shadow=True, startangle=0)\n",
    "plt.show()\n",
    "## user stats\n",
    "count_group = u_train.groupby(\"user_id\").rating.count()\n",
    "\n",
    "print(\"number of unique users: \",len(u_train.user_id.unique()))\n",
    "print(\"on average each user voted X number of items, X=\",np.mean(count_group))\n",
    "count_group = count_group.reset_index(name='count').sort_values(['count'], ascending=False).head(10)\n",
    "print(\"top 10 user id who voted the most: \")\n",
    "print(count_group)"
   ]
  },
  {
   "cell_type": "code",
   "execution_count": 8,
   "id": "82a751e5-5bf5-4549-9d22-5019cf8a9e6b",
   "metadata": {},
   "outputs": [
    {
     "name": "stdout",
     "output_type": "stream",
     "text": [
      "plotting first 10 user's rating for first 10 movies\n",
      "user_id    1    2   3   4    5    6    7   8    9    10\n",
      "movie_id                                               \n",
      "1         5.0  4.0 NaN NaN  4.0  4.0  NaN NaN  NaN  4.0\n",
      "2         3.0  NaN NaN NaN  3.0  NaN  NaN NaN  NaN  NaN\n",
      "3         4.0  NaN NaN NaN  NaN  NaN  NaN NaN  NaN  NaN\n",
      "4         3.0  NaN NaN NaN  NaN  NaN  5.0 NaN  NaN  4.0\n",
      "5         3.0  NaN NaN NaN  NaN  NaN  NaN NaN  NaN  NaN\n",
      "6         5.0  NaN NaN NaN  NaN  NaN  NaN NaN  5.0  NaN\n",
      "7         4.0  NaN NaN NaN  NaN  2.0  5.0 NaN  4.0  4.0\n",
      "8         1.0  NaN NaN NaN  NaN  4.0  5.0 NaN  NaN  NaN\n",
      "9         5.0  NaN NaN NaN  NaN  4.0  5.0 NaN  NaN  4.0\n",
      "10        3.0  2.0 NaN NaN  NaN  NaN  4.0 NaN  NaN  NaN\n",
      "current sparsity =  0.71\n",
      "Training set sparsity =  0.942659976891787\n"
     ]
    }
   ],
   "source": [
    "utility_train = u_train.pivot(index='movie_id', columns='user_id', values='rating')\n",
    "print(\"plotting first 10 user's rating for first 10 movies\")\n",
    "print(utility_train.iloc[:10,:10])\n",
    "nb_nans = (np.count_nonzero(np.isnan(utility_train.iloc[:10,:10])))\n",
    "## calculate spasity as % of nans elements\n",
    "print(\"current sparsity = \",nb_nans/100)\n",
    "## calculate sparsity for the whole matrix\n",
    "nb_nans = (np.count_nonzero(np.isnan(utility_train)))\n",
    "print(\"Training set sparsity = \",nb_nans/(utility_train.shape[0]*utility_train.shape[1]))\n",
    "\n"
   ]
  },
  {
   "cell_type": "markdown",
   "id": "80696166-dc8b-43d5-b785-58871d1e2f6b",
   "metadata": {},
   "source": [
    "#### 3. Preparing the Data"
   ]
  },
  {
   "cell_type": "code",
   "execution_count": 13,
   "id": "7587f545-1759-4489-b5d3-e80f0456508f",
   "metadata": {},
   "outputs": [],
   "source": [
    "## define the features of items\n",
    "i_cols = ['movie id', 'movie title' ,'release date','video release date', 'IMDb URL', 'unknown', 'Action', 'Adventure',\n",
    " 'Animation', 'Children\\'s', 'Comedy', 'Crime', 'Documentary', 'Drama', 'Fantasy',\n",
    " 'Film-Noir', 'Horror', 'Musical', 'Mystery', 'Romance', 'Sci-Fi', 'Thriller', 'War', 'Western']\n",
    "\n",
    "items = pd.read_csv(PATH_TO_DATA+SUBPATH_ITEM, sep='|', names=i_cols, encoding='latin-1')"
   ]
  },
  {
   "cell_type": "code",
   "execution_count": 9,
   "id": "4088236f-13dc-4b90-a76e-f1332aeef564",
   "metadata": {},
   "outputs": [],
   "source": [
    "rate_train = u_train.values\n",
    "rate_test = u_test.values\n",
    "# indices start from 0\n",
    "rate_train[:, :2] -= 1\n",
    "rate_test[:, :2] -= 1"
   ]
  },
  {
   "cell_type": "markdown",
   "id": "d7fb0656-f85c-4bde-9a6c-b491d618856a",
   "metadata": {},
   "source": [
    "#### 4. Training and Prediction"
   ]
  },
  {
   "cell_type": "code",
   "execution_count": 17,
   "id": "98c4b18b-c0ca-493d-953d-26fec3973380",
   "metadata": {},
   "outputs": [
    {
     "name": "stdout",
     "output_type": "stream",
     "text": [
      "User-user CF, RMSE = 0.9951981100882598\n"
     ]
    }
   ],
   "source": [
    "## create the model and fitting using User-User approach\n",
    "\n",
    "### calculate the RMSE\n",
    "\n",
    "n_tests = u_test.values.shape[0]\n",
    "SE = 0 # squared error\n",
    "for n in range(n_tests):\n",
    "    pred = rs.pred(u_test.values[n, 0],  u_test.values[n, 1], normalized = 0)\n",
    "    SE += (pred -  u_test.values[n, 2])**2 \n",
    "\n",
    "RMSE = np.sqrt(SE/n_tests)\n",
    "print ('User-user CF, RMSE =', RMSE)"
   ]
  },
  {
   "cell_type": "code",
   "execution_count": 11,
   "id": "abdb5b61-7369-478c-bfa3-5ad1f7b70c92",
   "metadata": {},
   "outputs": [
    {
     "name": "stderr",
     "output_type": "stream",
     "text": [
      "/usr/local/lib/python3.9/dist-packages/numpy/core/fromnumeric.py:3432: RuntimeWarning: Mean of empty slice.\n",
      "  return _methods._mean(a, axis=axis, dtype=dtype,\n",
      "/usr/local/lib/python3.9/dist-packages/numpy/core/_methods.py:190: RuntimeWarning: invalid value encountered in double_scalars\n",
      "  ret = ret.dtype.type(ret / rcount)\n"
     ]
    },
    {
     "name": "stdout",
     "output_type": "stream",
     "text": [
      "Item-item CF, RMSE = 0.9867912132705384\n"
     ]
    }
   ],
   "source": [
    "## create the model and fitting using Item-Item approach\n",
    "\n",
    "### calculate the RMSE\n",
    "n_tests = u_test.values.shape[0]\n",
    "SE = 0 # squared error\n",
    "for n in range(n_tests):\n",
    "    pred = rs.pred(u_test.values[n, 0], u_test.values[n, 1], normalized = 0)\n",
    "    SE += (pred - u_test.values[n, 2])**2 \n",
    "\n",
    "RMSE = np.sqrt(SE/n_tests)\n",
    "print ('Item-item CF, RMSE =', RMSE)"
   ]
  },
  {
   "cell_type": "code",
   "execution_count": null,
   "id": "fdf8d61b-a30a-41e7-9bc6-beb6836ef4de",
   "metadata": {},
   "outputs": [],
   "source": [
    "rs.print_recommendation(1,items)"
   ]
  },
  {
   "cell_type": "code",
   "execution_count": null,
   "id": "fb6b4843-11b3-4a77-b92d-08081cac9c35",
   "metadata": {},
   "outputs": [],
   "source": [
    "rs.print_recommendation(1,items)"
   ]
  },
  {
   "cell_type": "code",
   "execution_count": null,
   "id": "a0e197b3-5968-4558-86f6-1ec1293fb735",
   "metadata": {},
   "outputs": [],
   "source": []
  }
 ],
 "metadata": {
  "kernelspec": {
   "display_name": "Python 3 (ipykernel)",
   "language": "python",
   "name": "python3"
  },
  "language_info": {
   "codemirror_mode": {
    "name": "ipython",
    "version": 3
   },
   "file_extension": ".py",
   "mimetype": "text/x-python",
   "name": "python",
   "nbconvert_exporter": "python",
   "pygments_lexer": "ipython3",
   "version": "3.9.16"
  }
 },
 "nbformat": 4,
 "nbformat_minor": 5
}
