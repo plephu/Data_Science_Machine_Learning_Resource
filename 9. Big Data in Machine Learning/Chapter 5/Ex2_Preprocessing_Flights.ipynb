{
 "cells": [
  {
   "cell_type": "code",
   "execution_count": 1,
   "id": "f153d5e8-a555-4e75-846f-f1487edf0494",
   "metadata": {},
   "outputs": [],
   "source": [
    "import findspark\n",
    "findspark.init()"
   ]
  },
  {
   "cell_type": "code",
   "execution_count": 2,
   "id": "e80b5f8a-1d89-4563-8368-17455266375d",
   "metadata": {},
   "outputs": [],
   "source": [
    "from pyspark import SparkContext\n",
    "from pyspark.conf import SparkConf\n",
    "from pyspark.sql import SparkSession"
   ]
  },
  {
   "cell_type": "code",
   "execution_count": 3,
   "id": "fc40d1d4-38de-4d9e-a259-ebbf6c859321",
   "metadata": {},
   "outputs": [],
   "source": [
    "sc =SparkContext()"
   ]
  },
  {
   "cell_type": "code",
   "execution_count": 4,
   "id": "c8caf03d-065d-434e-9266-fa05c54421cb",
   "metadata": {},
   "outputs": [],
   "source": [
    "spark = SparkSession(sc)"
   ]
  },
  {
   "cell_type": "code",
   "execution_count": 6,
   "id": "8d5a42be-abec-4cae-9386-2be0b44e5a03",
   "metadata": {},
   "outputs": [],
   "source": [
    "#1.\n",
    "df = spark.read.csv([\"AA_data\"], header=True, inferSchema=True)"
   ]
  },
  {
   "cell_type": "code",
   "execution_count": 7,
   "id": "dc57a9af-4c0d-4721-b6d3-a8628c2ec541",
   "metadata": {},
   "outputs": [
    {
     "data": {
      "text/plain": [
       "583718"
      ]
     },
     "execution_count": 7,
     "metadata": {},
     "output_type": "execute_result"
    }
   ],
   "source": [
    "#2.\n",
    "df.count()"
   ]
  },
  {
   "cell_type": "code",
   "execution_count": 8,
   "id": "b6d26e93-6559-4cb5-83ff-932898f3d3fd",
   "metadata": {},
   "outputs": [
    {
     "name": "stdout",
     "output_type": "stream",
     "text": [
      "+-----------------+-------------+-------------------+-----------------------------+\n",
      "|Date (MM/DD/YYYY)|Flight Number|Destination Airport|Actual elapsed time (Minutes)|\n",
      "+-----------------+-------------+-------------------+-----------------------------+\n",
      "|       01/01/2014|            5|                HNL|                          519|\n",
      "|       01/01/2014|            7|                OGG|                          505|\n",
      "|       01/01/2014|           35|                SLC|                          174|\n",
      "|       01/01/2014|           43|                DTW|                          153|\n",
      "|       01/01/2014|           52|                PIT|                          137|\n",
      "+-----------------+-------------+-------------------+-----------------------------+\n",
      "only showing top 5 rows\n",
      "\n"
     ]
    }
   ],
   "source": [
    "df.show(5)"
   ]
  },
  {
   "cell_type": "code",
   "execution_count": 9,
   "id": "5e026950-cf17-4412-8ff6-f6cb4ca67f82",
   "metadata": {},
   "outputs": [
    {
     "name": "stdout",
     "output_type": "stream",
     "text": [
      "root\n",
      " |-- Date (MM/DD/YYYY): string (nullable = true)\n",
      " |-- Flight Number: integer (nullable = true)\n",
      " |-- Destination Airport: string (nullable = true)\n",
      " |-- Actual elapsed time (Minutes): integer (nullable = true)\n",
      "\n"
     ]
    }
   ],
   "source": [
    "df.printSchema()"
   ]
  },
  {
   "cell_type": "code",
   "execution_count": 10,
   "id": "c6b63cec-faa8-4665-bfbf-8b4edc45bc66",
   "metadata": {},
   "outputs": [],
   "source": [
    "from pyspark.sql.functions import col, udf\n",
    "from pyspark.sql.functions import isnan, when, count, col"
   ]
  },
  {
   "cell_type": "code",
   "execution_count": 11,
   "id": "0e6592cb-abc2-4510-9b74-6f1360d81f38",
   "metadata": {},
   "outputs": [
    {
     "data": {
      "text/html": [
       "<div>\n",
       "<style scoped>\n",
       "    .dataframe tbody tr th:only-of-type {\n",
       "        vertical-align: middle;\n",
       "    }\n",
       "\n",
       "    .dataframe tbody tr th {\n",
       "        vertical-align: top;\n",
       "    }\n",
       "\n",
       "    .dataframe thead th {\n",
       "        text-align: right;\n",
       "    }\n",
       "</style>\n",
       "<table border=\"1\" class=\"dataframe\">\n",
       "  <thead>\n",
       "    <tr style=\"text-align: right;\">\n",
       "      <th></th>\n",
       "      <th>0</th>\n",
       "    </tr>\n",
       "  </thead>\n",
       "  <tbody>\n",
       "    <tr>\n",
       "      <th>Date (MM/DD/YYYY)</th>\n",
       "      <td>0</td>\n",
       "    </tr>\n",
       "    <tr>\n",
       "      <th>Flight Number</th>\n",
       "      <td>0</td>\n",
       "    </tr>\n",
       "    <tr>\n",
       "      <th>Destination Airport</th>\n",
       "      <td>0</td>\n",
       "    </tr>\n",
       "    <tr>\n",
       "      <th>Actual elapsed time (Minutes)</th>\n",
       "      <td>0</td>\n",
       "    </tr>\n",
       "  </tbody>\n",
       "</table>\n",
       "</div>"
      ],
      "text/plain": [
       "                               0\n",
       "Date (MM/DD/YYYY)              0\n",
       "Flight Number                  0\n",
       "Destination Airport            0\n",
       "Actual elapsed time (Minutes)  0"
      ]
     },
     "execution_count": 11,
     "metadata": {},
     "output_type": "execute_result"
    }
   ],
   "source": [
    "#3. Kiểm tra dữ liệu NaN, null\n",
    "df.select([count(when(isnan(c), c)).alias(c) for c in df.columns]).toPandas().T"
   ]
  },
  {
   "cell_type": "code",
   "execution_count": 12,
   "id": "a0387cf5-bec4-48d4-a435-ce9ce8698c0b",
   "metadata": {},
   "outputs": [],
   "source": [
    "# => Không có dữ liệu NaN"
   ]
  },
  {
   "cell_type": "code",
   "execution_count": 13,
   "id": "10ce4805-9727-4d0b-8cfc-063d8d3094c1",
   "metadata": {},
   "outputs": [
    {
     "data": {
      "text/html": [
       "<div>\n",
       "<style scoped>\n",
       "    .dataframe tbody tr th:only-of-type {\n",
       "        vertical-align: middle;\n",
       "    }\n",
       "\n",
       "    .dataframe tbody tr th {\n",
       "        vertical-align: top;\n",
       "    }\n",
       "\n",
       "    .dataframe thead th {\n",
       "        text-align: right;\n",
       "    }\n",
       "</style>\n",
       "<table border=\"1\" class=\"dataframe\">\n",
       "  <thead>\n",
       "    <tr style=\"text-align: right;\">\n",
       "      <th></th>\n",
       "      <th>0</th>\n",
       "    </tr>\n",
       "  </thead>\n",
       "  <tbody>\n",
       "    <tr>\n",
       "      <th>Date (MM/DD/YYYY)</th>\n",
       "      <td>0</td>\n",
       "    </tr>\n",
       "    <tr>\n",
       "      <th>Flight Number</th>\n",
       "      <td>0</td>\n",
       "    </tr>\n",
       "    <tr>\n",
       "      <th>Destination Airport</th>\n",
       "      <td>0</td>\n",
       "    </tr>\n",
       "    <tr>\n",
       "      <th>Actual elapsed time (Minutes)</th>\n",
       "      <td>0</td>\n",
       "    </tr>\n",
       "  </tbody>\n",
       "</table>\n",
       "</div>"
      ],
      "text/plain": [
       "                               0\n",
       "Date (MM/DD/YYYY)              0\n",
       "Flight Number                  0\n",
       "Destination Airport            0\n",
       "Actual elapsed time (Minutes)  0"
      ]
     },
     "execution_count": 13,
     "metadata": {},
     "output_type": "execute_result"
    }
   ],
   "source": [
    "df.select([count(when(col(c).isNull(), c)).alias(c) for c in\n",
    "df.columns]).toPandas().T"
   ]
  },
  {
   "cell_type": "code",
   "execution_count": 14,
   "id": "02d3b767-fed4-4280-a2e2-85b1186dc079",
   "metadata": {},
   "outputs": [],
   "source": [
    "# Không có dữ liệu null"
   ]
  },
  {
   "cell_type": "code",
   "execution_count": 15,
   "id": "12fa78db-f704-4ada-b1c5-ff61cc1a492e",
   "metadata": {},
   "outputs": [],
   "source": [
    "#4. Kiểm tra dữ liệu trùng. Xóa dữ liệu trùng."
   ]
  },
  {
   "cell_type": "code",
   "execution_count": 16,
   "id": "998557ea-3a60-4914-825a-3b620b52c023",
   "metadata": {},
   "outputs": [],
   "source": [
    "num_rows = df.count()"
   ]
  },
  {
   "cell_type": "code",
   "execution_count": 17,
   "id": "c8ac5cb0-57e9-4d35-ab6d-7b41f6baf7f3",
   "metadata": {},
   "outputs": [],
   "source": [
    "num_dist_rows = df.distinct().count()"
   ]
  },
  {
   "cell_type": "code",
   "execution_count": 18,
   "id": "fed7522a-9502-4c25-89b0-affd6a7e4139",
   "metadata": {},
   "outputs": [],
   "source": [
    "dup_rows = num_rows - num_dist_rows"
   ]
  },
  {
   "cell_type": "code",
   "execution_count": 19,
   "id": "a28bc49e-cc75-46ce-bb27-babac4495b9f",
   "metadata": {},
   "outputs": [
    {
     "data": {
      "text/plain": [
       "0"
      ]
     },
     "execution_count": 19,
     "metadata": {},
     "output_type": "execute_result"
    }
   ],
   "source": [
    "dup_rows"
   ]
  },
  {
   "cell_type": "code",
   "execution_count": 20,
   "id": "f392c221-a9c6-4c5f-805a-893342fd7c82",
   "metadata": {},
   "outputs": [],
   "source": [
    "# Không có dữ liệu trùng"
   ]
  },
  {
   "cell_type": "markdown",
   "id": "a1cfab2a-49b8-4cfd-81d3-a00352999f4e",
   "metadata": {},
   "source": [
    "### Lazy processing operations"
   ]
  },
  {
   "cell_type": "code",
   "execution_count": 21,
   "id": "280df9a1-ca98-4a03-a662-43676b47f115",
   "metadata": {},
   "outputs": [],
   "source": [
    "from pyspark.sql.functions import *"
   ]
  },
  {
   "cell_type": "code",
   "execution_count": 22,
   "id": "7bd13980-a1be-4003-9027-4afe9b29797f",
   "metadata": {},
   "outputs": [],
   "source": [
    "#5. Add the airport column using the F.lower() method\n",
    "df = df.withColumn('airport', lower(df['Destination Airport']))"
   ]
  },
  {
   "cell_type": "code",
   "execution_count": 23,
   "id": "e337b26d-252a-4fce-9933-0f96f0af7c75",
   "metadata": {},
   "outputs": [],
   "source": [
    "df = df.drop('Destination Airport')"
   ]
  },
  {
   "cell_type": "code",
   "execution_count": 24,
   "id": "eae1e3d4-79dc-456e-bd77-f7f862911321",
   "metadata": {},
   "outputs": [
    {
     "name": "stdout",
     "output_type": "stream",
     "text": [
      "+-----------------+-------------+-----------------------------+-------+\n",
      "|Date (MM/DD/YYYY)|Flight Number|Actual elapsed time (Minutes)|airport|\n",
      "+-----------------+-------------+-----------------------------+-------+\n",
      "|       01/01/2014|            5|                          519|    hnl|\n",
      "|       01/01/2014|            7|                          505|    ogg|\n",
      "|       01/01/2014|           35|                          174|    slc|\n",
      "|       01/01/2014|           43|                          153|    dtw|\n",
      "|       01/01/2014|           52|                          137|    pit|\n",
      "+-----------------+-------------+-----------------------------+-------+\n",
      "only showing top 5 rows\n",
      "\n"
     ]
    }
   ],
   "source": [
    "df.show(5)"
   ]
  },
  {
   "cell_type": "code",
   "execution_count": 25,
   "id": "32bc2358-dbb3-4b1e-9a70-804c184d118d",
   "metadata": {},
   "outputs": [],
   "source": [
    "#6. Add column date, using column Date (MM/DD/YYYY), drop Date (MM/DD/YYYY)"
   ]
  },
  {
   "cell_type": "code",
   "execution_count": 26,
   "id": "87890aa4-1748-4d72-92e8-c949160d3aa3",
   "metadata": {},
   "outputs": [],
   "source": [
    "df = df.withColumn('date', df['Date (MM/DD/YYYY)'])"
   ]
  },
  {
   "cell_type": "code",
   "execution_count": 27,
   "id": "c959f430-d641-43a6-96c6-ef7ad9640b82",
   "metadata": {},
   "outputs": [],
   "source": [
    "df = df.drop('Date (MM/DD/YYYY)')"
   ]
  },
  {
   "cell_type": "code",
   "execution_count": 28,
   "id": "1f4a064a-55f9-489c-941a-1a058b29068b",
   "metadata": {},
   "outputs": [
    {
     "name": "stdout",
     "output_type": "stream",
     "text": [
      "+-------------+-----------------------------+-------+----------+\n",
      "|Flight Number|Actual elapsed time (Minutes)|airport|      date|\n",
      "+-------------+-----------------------------+-------+----------+\n",
      "|            5|                          519|    hnl|01/01/2014|\n",
      "|            7|                          505|    ogg|01/01/2014|\n",
      "|           35|                          174|    slc|01/01/2014|\n",
      "|           43|                          153|    dtw|01/01/2014|\n",
      "|           52|                          137|    pit|01/01/2014|\n",
      "+-------------+-----------------------------+-------+----------+\n",
      "only showing top 5 rows\n",
      "\n"
     ]
    }
   ],
   "source": [
    "df.show(5)"
   ]
  },
  {
   "cell_type": "code",
   "execution_count": 29,
   "id": "ba7ed153-541f-4dc3-a9b8-9b7d773c17a1",
   "metadata": {},
   "outputs": [],
   "source": [
    "#7.\n",
    "df = df.withColumnRenamed(\"Flight Number\", \"flight_num\")\n",
    "df = df.withColumnRenamed(\"Actual elapsed time (Minutes)\", \"actual_time\")"
   ]
  },
  {
   "cell_type": "code",
   "execution_count": 30,
   "id": "de6b39c8-eb1e-41c1-a31c-14bba54ed556",
   "metadata": {},
   "outputs": [
    {
     "name": "stdout",
     "output_type": "stream",
     "text": [
      "+----------+-----------+-------+----------+\n",
      "|flight_num|actual_time|airport|      date|\n",
      "+----------+-----------+-------+----------+\n",
      "|         5|        519|    hnl|01/01/2014|\n",
      "|         7|        505|    ogg|01/01/2014|\n",
      "|        35|        174|    slc|01/01/2014|\n",
      "|        43|        153|    dtw|01/01/2014|\n",
      "|        52|        137|    pit|01/01/2014|\n",
      "+----------+-----------+-------+----------+\n",
      "only showing top 5 rows\n",
      "\n"
     ]
    }
   ],
   "source": [
    "df.show(5)"
   ]
  },
  {
   "cell_type": "markdown",
   "id": "7ea0c05b-e0cc-4d62-951e-a4f681a46ebf",
   "metadata": {},
   "source": [
    "### Parquet format"
   ]
  },
  {
   "cell_type": "code",
   "execution_count": 31,
   "id": "20c6cc9f-05b4-4e04-9293-26812254b155",
   "metadata": {},
   "outputs": [],
   "source": [
    "#8. Save the df DataFrame in Parquet format\n",
    "df.write.parquet('AA_DFW_ALL.parquet.1', mode='overwrite')"
   ]
  },
  {
   "cell_type": "code",
   "execution_count": 32,
   "id": "15aa345f-7006-45ff-ab87-66bb0264f8f5",
   "metadata": {},
   "outputs": [],
   "source": [
    "#9 Read the Parquet file into a new DataFrame\n",
    "df_new = spark.read.parquet('AA_DFW_ALL.parquet.1')"
   ]
  },
  {
   "cell_type": "code",
   "execution_count": 33,
   "id": "aea41793-0cc7-4791-b227-2627c4c79bdb",
   "metadata": {},
   "outputs": [
    {
     "name": "stdout",
     "output_type": "stream",
     "text": [
      "583718\n"
     ]
    }
   ],
   "source": [
    "print(df_new.count())"
   ]
  },
  {
   "cell_type": "markdown",
   "id": "d4b59662-32f5-476b-878f-532539066d89",
   "metadata": {},
   "source": [
    "### SQL and Parquet"
   ]
  },
  {
   "cell_type": "code",
   "execution_count": 34,
   "id": "6c3fc05d-758e-49cd-bba7-f28c2c844a0b",
   "metadata": {},
   "outputs": [],
   "source": [
    "#10. Register the temp table\n",
    "df_new.createOrReplaceTempView('flights')"
   ]
  },
  {
   "cell_type": "code",
   "execution_count": 35,
   "id": "1f1c08f6-0f74-47aa-aae4-ffa6ebce1e75",
   "metadata": {},
   "outputs": [
    {
     "name": "stdout",
     "output_type": "stream",
     "text": [
      "The average flight time is: 147\n"
     ]
    }
   ],
   "source": [
    "# Run a SQL query of the average Actual elapsed time\n",
    "avg_duration = spark.sql('SELECT avg(actual_time) from flights').collect()[0]\n",
    "print('The average flight time is: %d' % avg_duration)"
   ]
  },
  {
   "cell_type": "markdown",
   "id": "c1ef4b92-c875-40af-8f74-5fda10ccd795",
   "metadata": {},
   "source": [
    "### Improving Performance"
   ]
  },
  {
   "cell_type": "markdown",
   "id": "dcb24479-41b9-447a-8f35-e9911d870989",
   "metadata": {},
   "source": [
    "#### Caching a DataFrame\n",
    "- Caching can improve performance when reusing DataFrames"
   ]
  },
  {
   "cell_type": "code",
   "execution_count": 36,
   "id": "42a906a1-c0ce-4a26-9afc-2f45adae7911",
   "metadata": {},
   "outputs": [],
   "source": [
    "import time"
   ]
  },
  {
   "cell_type": "code",
   "execution_count": 37,
   "id": "7a8b0a6c-a9f1-48bd-8454-c21a2910d4b1",
   "metadata": {},
   "outputs": [
    {
     "name": "stdout",
     "output_type": "stream",
     "text": [
      "Counting 583718 rows took 3.657030 seconds\n"
     ]
    }
   ],
   "source": [
    "11.\n",
    "start_time = time.time()\n",
    "# Add caching to the unique rows in df_new\n",
    "df_new = df_new.distinct().cache()\n",
    "# Count the unique rows in df_new, noting how long the operation takes\n",
    "print(\"Counting %d rows took %f seconds\" %\n",
    "(df_new.count(), time.time() - start_time))"
   ]
  },
  {
   "cell_type": "code",
   "execution_count": 38,
   "id": "b562b33f-ac30-4ef6-a772-85ecd00dd341",
   "metadata": {},
   "outputs": [
    {
     "name": "stdout",
     "output_type": "stream",
     "text": [
      "Counting 583718 rows again took 0.256780 seconds\n"
     ]
    }
   ],
   "source": [
    "# Count the rows again, noting the variance in time of a cached DataFrame\n",
    "start_time = time.time()\n",
    "print(\"Counting %d rows again took %f seconds\" %\n",
    "(df_new.count(), time.time() - start_time))"
   ]
  },
  {
   "cell_type": "markdown",
   "id": "57ba2f9f-de62-40c1-aa7a-3a02a10b5541",
   "metadata": {},
   "source": [
    "### Removing a DataFrame from cache"
   ]
  },
  {
   "cell_type": "code",
   "execution_count": 39,
   "id": "da0c745c-4688-490a-83a6-4f9796f2b7f7",
   "metadata": {},
   "outputs": [
    {
     "name": "stdout",
     "output_type": "stream",
     "text": [
      "Is df_new cached?: True\n",
      "Removing df_new from cache\n",
      "Is df_new cached?: False\n"
     ]
    }
   ],
   "source": [
    "# Determine if df_new is in the cache\n",
    "print(\"Is df_new cached?: %s\" % df_new.is_cached)\n",
    "print(\"Removing df_new from cache\")\n",
    "# Remove df_new from the cache\n",
    "df_new.unpersist()\n",
    "# Check the cache status again\n",
    "print(\"Is df_new cached?: %s\" % df_new.is_cached)"
   ]
  },
  {
   "cell_type": "markdown",
   "id": "894473cc-7c78-4953-b8a0-2efa3a438e5e",
   "metadata": {},
   "source": [
    "- Note: Converting to a larger number of files with approximately equal quantity of rows lets\n",
    "Spark decide how best to read the data."
   ]
  },
  {
   "cell_type": "markdown",
   "id": "7f5b352c-8d39-4148-9f69-117384ca70c0",
   "metadata": {},
   "source": [
    "### Cluster configurations"
   ]
  },
  {
   "cell_type": "code",
   "execution_count": 40,
   "id": "eb1945d0-7ea0-4abc-bddf-16cb82cb688a",
   "metadata": {},
   "outputs": [
    {
     "name": "stdout",
     "output_type": "stream",
     "text": [
      "Name: pyspark-shell\n",
      "Driver TCP port: 56669\n",
      "Number of partitions: 200\n"
     ]
    }
   ],
   "source": [
    "app_name = spark.conf.get('spark.app.name')\n",
    "# Driver TCP port\n",
    "driver_tcp_port = spark.conf.get('spark.driver.port')\n",
    "# Number of join partitions\n",
    "num_partitions = spark.conf.get('spark.sql.shuffle.partitions')\n",
    "# Show the results\n",
    "print(\"Name: %s\" % app_name)\n",
    "print(\"Driver TCP port: %s\" % driver_tcp_port)\n",
    "print(\"Number of partitions: %s\" % num_partitions)"
   ]
  },
  {
   "cell_type": "code",
   "execution_count": 42,
   "id": "31facd0e-094e-4c11-b10a-d298ff1b8679",
   "metadata": {},
   "outputs": [
    {
     "name": "stdout",
     "output_type": "stream",
     "text": [
      "Partition count before change: 10\n",
      "Partition count after change: 11\n"
     ]
    }
   ],
   "source": [
    "# Store the number of partitions in variable\n",
    "before = df_new.rdd.getNumPartitions()\n",
    "# Configure Spark to use 500 partitions\n",
    "spark.conf.set('spark.sql.shuffle.partitions', 500)\n",
    "# Recreate the DataFrame using the departures data file\n",
    "df_new = spark.read.parquet('AA_DFW_ALL.parquet.1').distinct()\n",
    "# Print the number of partitions for each instance\n",
    "print(\"Partition count before change: %d\" % before)\n",
    "print(\"Partition count after change: %d\" % df_new.rdd.getNumPartitions())"
   ]
  },
  {
   "cell_type": "code",
   "execution_count": 43,
   "id": "17257c71-8002-4d67-b6a1-6a844ee143f7",
   "metadata": {},
   "outputs": [],
   "source": [
    "### save data to json file"
   ]
  },
  {
   "cell_type": "code",
   "execution_count": 44,
   "id": "e1d6243a-c045-46d0-8785-fbc1bd6e671e",
   "metadata": {},
   "outputs": [],
   "source": [
    "df_new.write.json('AA_DFW_ALL.json')"
   ]
  },
  {
   "cell_type": "code",
   "execution_count": null,
   "id": "21d7a2cf-9638-4633-817d-0edb726b78ca",
   "metadata": {},
   "outputs": [],
   "source": []
  }
 ],
 "metadata": {
  "kernelspec": {
   "display_name": "Python 3 (ipykernel)",
   "language": "python",
   "name": "python3"
  },
  "language_info": {
   "codemirror_mode": {
    "name": "ipython",
    "version": 3
   },
   "file_extension": ".py",
   "mimetype": "text/x-python",
   "name": "python",
   "nbconvert_exporter": "python",
   "pygments_lexer": "ipython3",
   "version": "3.9.12"
  }
 },
 "nbformat": 4,
 "nbformat_minor": 5
}
