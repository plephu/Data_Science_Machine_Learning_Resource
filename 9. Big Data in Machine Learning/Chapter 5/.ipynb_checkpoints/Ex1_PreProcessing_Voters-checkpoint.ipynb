{
 "cells": [
  {
   "cell_type": "code",
   "execution_count": 1,
   "id": "66664d89-de96-4ef5-aabd-95fa2bf317e9",
   "metadata": {},
   "outputs": [],
   "source": [
    "import findspark\n",
    "findspark.init()"
   ]
  },
  {
   "cell_type": "code",
   "execution_count": 2,
   "id": "e642b656-d39b-4e10-90d0-7a12a1fc7276",
   "metadata": {},
   "outputs": [],
   "source": [
    "from pyspark import SparkContext\n",
    "from pyspark.conf import SparkConf\n",
    "from pyspark.sql import SparkSession"
   ]
  },
  {
   "cell_type": "code",
   "execution_count": 3,
   "id": "14781192-c5f9-42cb-ad0e-f6417cb549a4",
   "metadata": {},
   "outputs": [],
   "source": [
    "sc =SparkContext()"
   ]
  },
  {
   "cell_type": "code",
   "execution_count": 4,
   "id": "d552f290-b9d2-4345-83ea-d8fd4cfe2974",
   "metadata": {},
   "outputs": [],
   "source": [
    "spark = SparkSession(sc)"
   ]
  },
  {
   "cell_type": "code",
   "execution_count": 6,
   "id": "093612bb-c927-4a1c-a971-210c8ca6e80a",
   "metadata": {},
   "outputs": [],
   "source": [
    "#1.\n",
    "df = spark.read.csv('voters_data/DallasCouncilVoters.csv', header=True,inferSchema=True)"
   ]
  },
  {
   "cell_type": "code",
   "execution_count": 7,
   "id": "a0a75c88-9be3-4e72-8ee7-ef649047b278",
   "metadata": {},
   "outputs": [
    {
     "data": {
      "text/plain": [
       "44625"
      ]
     },
     "execution_count": 7,
     "metadata": {},
     "output_type": "execute_result"
    }
   ],
   "source": [
    "#2.\n",
    "df.count()"
   ]
  },
  {
   "cell_type": "code",
   "execution_count": 8,
   "id": "43c82a43-a3c9-4930-bde7-fd12a16ddf07",
   "metadata": {},
   "outputs": [
    {
     "name": "stdout",
     "output_type": "stream",
     "text": [
      "root\n",
      " |-- DATE: string (nullable = true)\n",
      " |-- TITLE: string (nullable = true)\n",
      " |-- VOTER_NAME: string (nullable = true)\n",
      "\n"
     ]
    }
   ],
   "source": [
    "df.printSchema()"
   ]
  },
  {
   "cell_type": "code",
   "execution_count": 9,
   "id": "fcf26513-209f-4f0f-a894-be2886dd2729",
   "metadata": {},
   "outputs": [
    {
     "name": "stdout",
     "output_type": "stream",
     "text": [
      "+----------+-------------+-------------------+\n",
      "|      DATE|        TITLE|         VOTER_NAME|\n",
      "+----------+-------------+-------------------+\n",
      "|02/08/2017|Councilmember|  Jennifer S. Gates|\n",
      "|02/08/2017|Councilmember| Philip T. Kingston|\n",
      "|02/08/2017|        Mayor|Michael S. Rawlings|\n",
      "|02/08/2017|Councilmember|       Adam Medrano|\n",
      "|02/08/2017|Councilmember|       Casey Thomas|\n",
      "+----------+-------------+-------------------+\n",
      "only showing top 5 rows\n",
      "\n"
     ]
    }
   ],
   "source": [
    "df.show(5)"
   ]
  },
  {
   "cell_type": "code",
   "execution_count": 10,
   "id": "8038bb42-68e2-4515-b2d1-c2c86516825e",
   "metadata": {},
   "outputs": [],
   "source": [
    "from pyspark.sql.functions import col, udf\n",
    "from pyspark.sql.functions import isnan, when, count, col"
   ]
  },
  {
   "cell_type": "code",
   "execution_count": 11,
   "id": "f87c85c4-0980-4f46-80c3-7d1d25ec26d8",
   "metadata": {},
   "outputs": [
    {
     "data": {
      "text/html": [
       "<div>\n",
       "<style scoped>\n",
       "    .dataframe tbody tr th:only-of-type {\n",
       "        vertical-align: middle;\n",
       "    }\n",
       "\n",
       "    .dataframe tbody tr th {\n",
       "        vertical-align: top;\n",
       "    }\n",
       "\n",
       "    .dataframe thead th {\n",
       "        text-align: right;\n",
       "    }\n",
       "</style>\n",
       "<table border=\"1\" class=\"dataframe\">\n",
       "  <thead>\n",
       "    <tr style=\"text-align: right;\">\n",
       "      <th></th>\n",
       "      <th>0</th>\n",
       "    </tr>\n",
       "  </thead>\n",
       "  <tbody>\n",
       "    <tr>\n",
       "      <th>DATE</th>\n",
       "      <td>0</td>\n",
       "    </tr>\n",
       "    <tr>\n",
       "      <th>TITLE</th>\n",
       "      <td>0</td>\n",
       "    </tr>\n",
       "    <tr>\n",
       "      <th>VOTER_NAME</th>\n",
       "      <td>0</td>\n",
       "    </tr>\n",
       "  </tbody>\n",
       "</table>\n",
       "</div>"
      ],
      "text/plain": [
       "            0\n",
       "DATE        0\n",
       "TITLE       0\n",
       "VOTER_NAME  0"
      ]
     },
     "execution_count": 11,
     "metadata": {},
     "output_type": "execute_result"
    }
   ],
   "source": [
    "#3. Kiểm tra dữ liệu NaN, null\n",
    "df.select([count(when(isnan(c), c)).alias(c) for c in df.columns]).toPandas().T"
   ]
  },
  {
   "cell_type": "code",
   "execution_count": 12,
   "id": "a015d706-7ce0-4bde-9239-424306e45725",
   "metadata": {},
   "outputs": [],
   "source": [
    "# => Không có dữ liệu NaN"
   ]
  },
  {
   "cell_type": "code",
   "execution_count": 14,
   "id": "004f5356-49a9-4524-89f8-710936af08e5",
   "metadata": {},
   "outputs": [
    {
     "data": {
      "text/html": [
       "<div>\n",
       "<style scoped>\n",
       "    .dataframe tbody tr th:only-of-type {\n",
       "        vertical-align: middle;\n",
       "    }\n",
       "\n",
       "    .dataframe tbody tr th {\n",
       "        vertical-align: top;\n",
       "    }\n",
       "\n",
       "    .dataframe thead th {\n",
       "        text-align: right;\n",
       "    }\n",
       "</style>\n",
       "<table border=\"1\" class=\"dataframe\">\n",
       "  <thead>\n",
       "    <tr style=\"text-align: right;\">\n",
       "      <th></th>\n",
       "      <th>0</th>\n",
       "    </tr>\n",
       "  </thead>\n",
       "  <tbody>\n",
       "    <tr>\n",
       "      <th>DATE</th>\n",
       "      <td>0</td>\n",
       "    </tr>\n",
       "    <tr>\n",
       "      <th>TITLE</th>\n",
       "      <td>195</td>\n",
       "    </tr>\n",
       "    <tr>\n",
       "      <th>VOTER_NAME</th>\n",
       "      <td>503</td>\n",
       "    </tr>\n",
       "  </tbody>\n",
       "</table>\n",
       "</div>"
      ],
      "text/plain": [
       "              0\n",
       "DATE          0\n",
       "TITLE       195\n",
       "VOTER_NAME  503"
      ]
     },
     "execution_count": 14,
     "metadata": {},
     "output_type": "execute_result"
    }
   ],
   "source": [
    "df.select([count(when(col(c).isNull(), c)).alias(c) for c in df.columns]).toPandas().T"
   ]
  },
  {
   "cell_type": "code",
   "execution_count": 15,
   "id": "594aab87-330b-48ee-92fc-7e21441fd68c",
   "metadata": {},
   "outputs": [],
   "source": [
    "# => Có dữ liệu null. Xóa dữ liệu có VOTER_NAME null"
   ]
  },
  {
   "cell_type": "code",
   "execution_count": 16,
   "id": "df990bdd-2746-4361-8af4-5cf3678f67a4",
   "metadata": {},
   "outputs": [],
   "source": [
    "df = df.dropna(subset='VOTER_NAME')"
   ]
  },
  {
   "cell_type": "code",
   "execution_count": 18,
   "id": "289374c3-edbf-44d4-875e-758c85d4717a",
   "metadata": {},
   "outputs": [
    {
     "data": {
      "text/html": [
       "<div>\n",
       "<style scoped>\n",
       "    .dataframe tbody tr th:only-of-type {\n",
       "        vertical-align: middle;\n",
       "    }\n",
       "\n",
       "    .dataframe tbody tr th {\n",
       "        vertical-align: top;\n",
       "    }\n",
       "\n",
       "    .dataframe thead th {\n",
       "        text-align: right;\n",
       "    }\n",
       "</style>\n",
       "<table border=\"1\" class=\"dataframe\">\n",
       "  <thead>\n",
       "    <tr style=\"text-align: right;\">\n",
       "      <th></th>\n",
       "      <th>0</th>\n",
       "    </tr>\n",
       "  </thead>\n",
       "  <tbody>\n",
       "    <tr>\n",
       "      <th>DATE</th>\n",
       "      <td>0</td>\n",
       "    </tr>\n",
       "    <tr>\n",
       "      <th>TITLE</th>\n",
       "      <td>0</td>\n",
       "    </tr>\n",
       "    <tr>\n",
       "      <th>VOTER_NAME</th>\n",
       "      <td>0</td>\n",
       "    </tr>\n",
       "  </tbody>\n",
       "</table>\n",
       "</div>"
      ],
      "text/plain": [
       "            0\n",
       "DATE        0\n",
       "TITLE       0\n",
       "VOTER_NAME  0"
      ]
     },
     "execution_count": 18,
     "metadata": {},
     "output_type": "execute_result"
    }
   ],
   "source": [
    "df.select([count(when(col(c).isNull(), c)).alias(c) for c in df.columns]).toPandas().T"
   ]
  },
  {
   "cell_type": "code",
   "execution_count": 19,
   "id": "802fe7ca-319e-4b10-8faf-de158adcd261",
   "metadata": {},
   "outputs": [],
   "source": [
    "# => hết dữ liệu null"
   ]
  },
  {
   "cell_type": "code",
   "execution_count": 20,
   "id": "cec81b67-ba7a-40a0-a58a-46d18e1e7f93",
   "metadata": {},
   "outputs": [],
   "source": [
    "#4.\n",
    "num_rows = df.count()\n",
    "num_dist_rows = df.distinct().count()\n",
    "dup_rows = num_rows - num_dist_rows"
   ]
  },
  {
   "cell_type": "code",
   "execution_count": 21,
   "id": "e873c989-f9b1-484f-b6dc-f0fc8e45327f",
   "metadata": {},
   "outputs": [
    {
     "data": {
      "text/plain": [
       "44122"
      ]
     },
     "metadata": {},
     "output_type": "display_data"
    },
    {
     "data": {
      "text/plain": [
       "1273"
      ]
     },
     "metadata": {},
     "output_type": "display_data"
    },
    {
     "data": {
      "text/plain": [
       "42849"
      ]
     },
     "metadata": {},
     "output_type": "display_data"
    }
   ],
   "source": [
    "display(num_rows, num_dist_rows, dup_rows)"
   ]
  },
  {
   "cell_type": "code",
   "execution_count": 22,
   "id": "2fafc56a-eef5-4289-8e7e-5206f19626b1",
   "metadata": {},
   "outputs": [
    {
     "name": "stdout",
     "output_type": "stream",
     "text": [
      "+----------+-------------+------------------+\n",
      "|      DATE|        TITLE|        VOTER_NAME|\n",
      "+----------+-------------+------------------+\n",
      "|02/08/2017|Councilmember|Philip T. Kingston|\n",
      "|02/08/2017|Councilmember|Philip T. Kingston|\n",
      "|01/11/2017|Councilmember|Philip T. Kingston|\n",
      "|09/14/2016|Councilmember|Philip T. Kingston|\n",
      "|01/04/2017|Councilmember|Philip T. Kingston|\n",
      "+----------+-------------+------------------+\n",
      "only showing top 5 rows\n",
      "\n"
     ]
    }
   ],
   "source": [
    "# Check duplicate\n",
    "df.filter(df['VOTER_NAME'] == 'Philip T. Kingston').show(5)"
   ]
  },
  {
   "cell_type": "code",
   "execution_count": 23,
   "id": "71a6c29a-88b3-497c-819c-81ff60523d1e",
   "metadata": {},
   "outputs": [],
   "source": [
    "df = df.drop_duplicates()"
   ]
  },
  {
   "cell_type": "code",
   "execution_count": 24,
   "id": "1b9c8f82-d4ff-4261-8f9e-8ef25ea9c169",
   "metadata": {},
   "outputs": [
    {
     "data": {
      "text/plain": [
       "1273"
      ]
     },
     "execution_count": 24,
     "metadata": {},
     "output_type": "execute_result"
    }
   ],
   "source": [
    "df.count()"
   ]
  },
  {
   "cell_type": "code",
   "execution_count": 25,
   "id": "bd4adf7f-9074-4694-a7bd-3cf0af7c9369",
   "metadata": {},
   "outputs": [
    {
     "name": "stdout",
     "output_type": "stream",
     "text": [
      "+--------------------+\n",
      "|          VOTER_NAME|\n",
      "+--------------------+\n",
      "|      Tennell Atkins|\n",
      "|  the  final   20...|\n",
      "|        Scott Griggs|\n",
      "|       Scott  Griggs|\n",
      "|       Sandy Greyson|\n",
      "| Michael S. Rawlings|\n",
      "| the final 2018 A...|\n",
      "|        Kevin Felder|\n",
      "|        Adam Medrano|\n",
      "|       Casey  Thomas|\n",
      "+--------------------+\n",
      "only showing top 10 rows\n",
      "\n"
     ]
    }
   ],
   "source": [
    "#5. Show the distinct VOTER_NAME entries\n",
    "df.select(df['VOTER_NAME']).distinct().show(10)"
   ]
  },
  {
   "cell_type": "code",
   "execution_count": 26,
   "id": "36020f9b-93af-415c-9b63-8984497c130f",
   "metadata": {},
   "outputs": [],
   "source": [
    "from pyspark.sql.functions import *"
   ]
  },
  {
   "cell_type": "code",
   "execution_count": 27,
   "id": "83a98302-7a36-49d2-8475-8089f4effa0a",
   "metadata": {},
   "outputs": [],
   "source": [
    "#6. Filter df where the VOTER_NAME is 1-20 characters in length\n",
    "df = df.filter('length(VOTER_NAME) > 0 and length(VOTER_NAME) < 20')"
   ]
  },
  {
   "cell_type": "code",
   "execution_count": 28,
   "id": "522515aa-6ff3-45a8-87d5-9dc2a930e54c",
   "metadata": {},
   "outputs": [
    {
     "name": "stdout",
     "output_type": "stream",
     "text": [
      "+----------+--------------------+------------------+\n",
      "|      DATE|               TITLE|        VOTER_NAME|\n",
      "+----------+--------------------+------------------+\n",
      "|04/11/2018|Deputy Mayor Pro Tem|      Adam Medrano|\n",
      "|02/14/2018|       Councilmember|   Lee M. Kleinman|\n",
      "|04/25/2018|       Councilmember|    Tennell Atkins|\n",
      "|08/29/2018|       Councilmember|      Kevin Felder|\n",
      "|10/18/2017|       Councilmember|Jennifer S.  Gates|\n",
      "+----------+--------------------+------------------+\n",
      "only showing top 5 rows\n",
      "\n"
     ]
    }
   ],
   "source": [
    "df.show(5)"
   ]
  },
  {
   "cell_type": "code",
   "execution_count": 29,
   "id": "50c650b6-1e56-486f-8b25-bb70c0ec6161",
   "metadata": {},
   "outputs": [],
   "source": [
    "#7. Filter out df where the VOTER_NAME contains an underscore\n",
    "df = df.filter(~ col('VOTER_NAME').contains('_'))"
   ]
  },
  {
   "cell_type": "code",
   "execution_count": 30,
   "id": "2fade745-ff7d-4c99-941d-c776b1fd3e4d",
   "metadata": {},
   "outputs": [
    {
     "name": "stdout",
     "output_type": "stream",
     "text": [
      "+-------------------+\n",
      "|VOTER_NAME         |\n",
      "+-------------------+\n",
      "|Tennell Atkins     |\n",
      "|Scott Griggs       |\n",
      "|Scott  Griggs      |\n",
      "|Sandy Greyson      |\n",
      "|Michael S. Rawlings|\n",
      "|Kevin Felder       |\n",
      "|Adam Medrano       |\n",
      "|Casey  Thomas      |\n",
      "|Mark  Clayton      |\n",
      "|Casey Thomas       |\n",
      "+-------------------+\n",
      "only showing top 10 rows\n",
      "\n"
     ]
    }
   ],
   "source": [
    "# Show the distinct VOTER_NAME entries again\n",
    "df.select('VOTER_NAME').distinct().show(10, truncate=False)"
   ]
  },
  {
   "cell_type": "markdown",
   "id": "8a039fec-8db2-4761-bc83-0ddf22ba75ea",
   "metadata": {},
   "source": [
    "### Modifying DataFrame"
   ]
  },
  {
   "cell_type": "code",
   "execution_count": 31,
   "id": "d8798594-3644-4e9b-9a00-23cb365db47d",
   "metadata": {},
   "outputs": [],
   "source": [
    "#8. Add a new column called splits separated on whitespace\n",
    "df = df.withColumn('splits', split(df.VOTER_NAME, '\\s+'))"
   ]
  },
  {
   "cell_type": "code",
   "execution_count": 32,
   "id": "ad4ce5c1-ddf6-45c1-a46c-d2d517d0af22",
   "metadata": {},
   "outputs": [],
   "source": [
    "#9. Create a new column called first_name based on the first item in splits\n",
    "df = df.withColumn('first_name', df.splits.getItem(0))"
   ]
  },
  {
   "cell_type": "code",
   "execution_count": 33,
   "id": "641fdb13-f127-4a17-807f-f19ac9f7b2c1",
   "metadata": {},
   "outputs": [
    {
     "name": "stderr",
     "output_type": "stream",
     "text": [
      "C:\\spark\\spark-3.5.0-bin-hadoop3\\python\\pyspark\\sql\\column.py:460: FutureWarning: A column as 'key' in getItem is deprecated as of Spark 3.0, and will not be supported in the future release. Use `column[key]` or `column.key` syntax instead.\n",
      "  warnings.warn(\n"
     ]
    }
   ],
   "source": [
    "#10. Get the last entry of the splits list and create a column called last_name\n",
    "df = df.withColumn('last_name', df.splits.getItem(size('splits') - 1))"
   ]
  },
  {
   "cell_type": "code",
   "execution_count": 34,
   "id": "cde738f9-dd7d-49b5-b03b-dbe303f19497",
   "metadata": {},
   "outputs": [
    {
     "name": "stdout",
     "output_type": "stream",
     "text": [
      "+----------+--------------------+---------------+-------------------+----------+---------+\n",
      "|      DATE|               TITLE|     VOTER_NAME|             splits|first_name|last_name|\n",
      "+----------+--------------------+---------------+-------------------+----------+---------+\n",
      "|04/11/2018|Deputy Mayor Pro Tem|   Adam Medrano|    [Adam, Medrano]|      Adam|  Medrano|\n",
      "|02/14/2018|       Councilmember|Lee M. Kleinman|[Lee, M., Kleinman]|       Lee| Kleinman|\n",
      "|04/25/2018|       Councilmember| Tennell Atkins|  [Tennell, Atkins]|   Tennell|   Atkins|\n",
      "+----------+--------------------+---------------+-------------------+----------+---------+\n",
      "only showing top 3 rows\n",
      "\n"
     ]
    }
   ],
   "source": [
    "# Show the voter_df DataFrame\n",
    "df.show(3)"
   ]
  },
  {
   "cell_type": "code",
   "execution_count": 35,
   "id": "e11a2da5-be9e-4786-8aea-361d74fba04e",
   "metadata": {},
   "outputs": [],
   "source": [
    "#11. Add a column to df for any voter with the title 'Councilmember'\n",
    "df = df.withColumn('random_val', when(df.TITLE == 'Councilmember', rand()))"
   ]
  },
  {
   "cell_type": "code",
   "execution_count": 36,
   "id": "a73cf94f-fd1b-4d85-a1ec-2253781272be",
   "metadata": {},
   "outputs": [
    {
     "name": "stdout",
     "output_type": "stream",
     "text": [
      "+----------+--------------------+------------------+--------------------+----------+---------+-------------------+\n",
      "|      DATE|               TITLE|        VOTER_NAME|              splits|first_name|last_name|         random_val|\n",
      "+----------+--------------------+------------------+--------------------+----------+---------+-------------------+\n",
      "|04/11/2018|Deputy Mayor Pro Tem|      Adam Medrano|     [Adam, Medrano]|      Adam|  Medrano|               NULL|\n",
      "|02/14/2018|       Councilmember|   Lee M. Kleinman| [Lee, M., Kleinman]|       Lee| Kleinman| 0.4442714383699763|\n",
      "|04/25/2018|       Councilmember|    Tennell Atkins|   [Tennell, Atkins]|   Tennell|   Atkins|0.40049458118910997|\n",
      "|08/29/2018|       Councilmember|      Kevin Felder|     [Kevin, Felder]|     Kevin|   Felder| 0.6192204025880051|\n",
      "|10/18/2017|       Councilmember|Jennifer S.  Gates|[Jennifer, S., Ga...|  Jennifer|    Gates| 0.9145113956786142|\n",
      "+----------+--------------------+------------------+--------------------+----------+---------+-------------------+\n",
      "only showing top 5 rows\n",
      "\n"
     ]
    }
   ],
   "source": [
    "# Show some of the DataFrame rows, noting whether the when clause worked\n",
    "df.show(5)"
   ]
  },
  {
   "cell_type": "code",
   "execution_count": 37,
   "id": "e9b58c5a-9061-4041-8bbb-cbd3b15b1f35",
   "metadata": {},
   "outputs": [],
   "source": [
    "#. Add a column to df for a voter based on their position\n",
    "df = df.withColumn('random_val',\n",
    "                   when(df.TITLE == 'Councilmember', rand())\n",
    "                   .when(df.TITLE == 'Mayor', 2)\n",
    "                   .otherwise(0))"
   ]
  },
  {
   "cell_type": "code",
   "execution_count": 38,
   "id": "4ac23e8e-2c80-4b09-a66d-0b6af05dcd93",
   "metadata": {},
   "outputs": [
    {
     "name": "stdout",
     "output_type": "stream",
     "text": [
      "+----------+--------------------+------------------+--------------------+----------+---------+------------------+\n",
      "|      DATE|               TITLE|        VOTER_NAME|              splits|first_name|last_name|        random_val|\n",
      "+----------+--------------------+------------------+--------------------+----------+---------+------------------+\n",
      "|04/11/2018|Deputy Mayor Pro Tem|      Adam Medrano|     [Adam, Medrano]|      Adam|  Medrano|               0.0|\n",
      "|02/14/2018|       Councilmember|   Lee M. Kleinman| [Lee, M., Kleinman]|       Lee| Kleinman|0.8705970036562815|\n",
      "|04/25/2018|       Councilmember|    Tennell Atkins|   [Tennell, Atkins]|   Tennell|   Atkins|0.6601037640995535|\n",
      "|08/29/2018|       Councilmember|      Kevin Felder|     [Kevin, Felder]|     Kevin|   Felder| 0.895073819742495|\n",
      "|10/18/2017|       Councilmember|Jennifer S.  Gates|[Jennifer, S., Ga...|  Jennifer|    Gates|0.9590172113777458|\n",
      "+----------+--------------------+------------------+--------------------+----------+---------+------------------+\n",
      "only showing top 5 rows\n",
      "\n"
     ]
    }
   ],
   "source": [
    "# Show some of the DataFrame rows\n",
    "df.show(5)"
   ]
  },
  {
   "cell_type": "code",
   "execution_count": 39,
   "id": "2ccf09d8-a1c7-4b07-a677-8ddfa69d47cf",
   "metadata": {},
   "outputs": [
    {
     "name": "stdout",
     "output_type": "stream",
     "text": [
      "+----------+--------------------+-----------------+--------------------+----------+---------+----------+\n",
      "|      DATE|               TITLE|       VOTER_NAME|              splits|first_name|last_name|random_val|\n",
      "+----------+--------------------+-----------------+--------------------+----------+---------+----------+\n",
      "|04/11/2018|Deputy Mayor Pro Tem|     Adam Medrano|     [Adam, Medrano]|      Adam|  Medrano|       0.0|\n",
      "|04/12/2017|       Mayor Pro Tem| Monica R. Alonzo|[Monica, R., Alonzo]|    Monica|   Alonzo|       0.0|\n",
      "|06/28/2017|Deputy Mayor Pro Tem|     Adam Medrano|     [Adam, Medrano]|      Adam|  Medrano|       0.0|\n",
      "|01/03/2018|Deputy Mayor Pro Tem|     Adam Medrano|     [Adam, Medrano]|      Adam|  Medrano|       0.0|\n",
      "|01/17/2018|       Mayor Pro Tem|Dwaine R. Caraway|[Dwaine, R., Cara...|    Dwaine|  Caraway|       0.0|\n",
      "+----------+--------------------+-----------------+--------------------+----------+---------+----------+\n",
      "only showing top 5 rows\n",
      "\n"
     ]
    }
   ],
   "source": [
    "#12. Use the .filter() clause with random_val\n",
    "df.filter(df.random_val == 0).show(5)"
   ]
  },
  {
   "cell_type": "markdown",
   "id": "bd387751-6bf2-4489-ae1e-7a01de271ae8",
   "metadata": {},
   "source": [
    "### UDF"
   ]
  },
  {
   "cell_type": "code",
   "execution_count": 40,
   "id": "9e3d4b7e-0f9f-46bc-b4cc-5d986a7c0b6b",
   "metadata": {},
   "outputs": [],
   "source": [
    "from pyspark.sql.types import *"
   ]
  },
  {
   "cell_type": "code",
   "execution_count": 41,
   "id": "ab408a3a-b2e7-457a-b353-77e2e6412009",
   "metadata": {},
   "outputs": [],
   "source": [
    "def getFirstAndMiddle(names):\n",
    "    # Return a space separated string of names\n",
    "    return ' '.join(names[:-1])"
   ]
  },
  {
   "cell_type": "code",
   "execution_count": 42,
   "id": "29a39461-af9e-487b-87c7-70a51ec15cef",
   "metadata": {},
   "outputs": [],
   "source": [
    "#13. Define the method as a UDF\n",
    "udfFirstAndMiddle = udf(getFirstAndMiddle, StringType())"
   ]
  },
  {
   "cell_type": "code",
   "execution_count": 43,
   "id": "dead5487-fdb6-49f3-8c27-90c411af7e9a",
   "metadata": {},
   "outputs": [],
   "source": [
    "#14. Create a new column using your UDF\n",
    "df = df.withColumn('first_and_middle_name', udfFirstAndMiddle(df.splits))"
   ]
  },
  {
   "cell_type": "code",
   "execution_count": 44,
   "id": "0fb0238b-2614-4316-820f-7e3e64774d02",
   "metadata": {},
   "outputs": [],
   "source": [
    "#15. Drop the unnecessary columns then show the DataFrame\n",
    "df = df.drop('first_name')\n",
    "df = df.drop('splits')"
   ]
  },
  {
   "cell_type": "code",
   "execution_count": 45,
   "id": "07c36940-e06a-40e3-a20d-695347ce9cdf",
   "metadata": {},
   "outputs": [
    {
     "name": "stdout",
     "output_type": "stream",
     "text": [
      "+----------+--------------------+------------------+---------+------------------+---------------------+\n",
      "|      DATE|               TITLE|        VOTER_NAME|last_name|        random_val|first_and_middle_name|\n",
      "+----------+--------------------+------------------+---------+------------------+---------------------+\n",
      "|04/11/2018|Deputy Mayor Pro Tem|      Adam Medrano|  Medrano|               0.0|                 Adam|\n",
      "|02/14/2018|       Councilmember|   Lee M. Kleinman| Kleinman|0.8705970036562815|               Lee M.|\n",
      "|04/25/2018|       Councilmember|    Tennell Atkins|   Atkins|0.6601037640995535|              Tennell|\n",
      "|08/29/2018|       Councilmember|      Kevin Felder|   Felder| 0.895073819742495|                Kevin|\n",
      "|10/18/2017|       Councilmember|Jennifer S.  Gates|    Gates|0.9590172113777458|          Jennifer S.|\n",
      "+----------+--------------------+------------------+---------+------------------+---------------------+\n",
      "only showing top 5 rows\n",
      "\n"
     ]
    }
   ],
   "source": [
    "df.show(5)"
   ]
  },
  {
   "cell_type": "markdown",
   "id": "dd516a80-e764-4906-a52d-ce893b38e892",
   "metadata": {},
   "source": [
    "### Adding an ID Field"
   ]
  },
  {
   "cell_type": "code",
   "execution_count": 46,
   "id": "83dd2299-6542-421c-9fb6-3aed1526a615",
   "metadata": {},
   "outputs": [
    {
     "name": "stdout",
     "output_type": "stream",
     "text": [
      "\n",
      "There are 27 rows in the df DataFrame.\n",
      "\n"
     ]
    }
   ],
   "source": [
    "# Select all the unique council voters\n",
    "df = df.select(df[\"VOTER_NAME\"]).distinct()\n",
    "# Count the rows in voter_df\n",
    "print(\"\\nThere are %d rows in the df DataFrame.\\n\" % df.count())"
   ]
  },
  {
   "cell_type": "code",
   "execution_count": 47,
   "id": "48b1583e-e715-49e4-aa3a-0429dc99e407",
   "metadata": {},
   "outputs": [],
   "source": [
    "#16. Add a ROW_ID\n",
    "df = df.withColumn('ROW_ID', monotonically_increasing_id())"
   ]
  },
  {
   "cell_type": "code",
   "execution_count": 48,
   "id": "9c9be1ac-c6e8-4cbe-9eba-d0b41767ec5f",
   "metadata": {},
   "outputs": [
    {
     "name": "stdout",
     "output_type": "stream",
     "text": [
      "+-------------------+------+\n",
      "|         VOTER_NAME|ROW_ID|\n",
      "+-------------------+------+\n",
      "|       Lee Kleinman|    26|\n",
      "|        Erik Wilson|    25|\n",
      "|Carolyn King Arnold|    24|\n",
      "|Rickey D.  Callahan|    23|\n",
      "|   Monica R. Alonzo|    22|\n",
      "|    Lee M. Kleinman|    21|\n",
      "|  Jennifer S. Gates|    20|\n",
      "|Philip T.  Kingston|    19|\n",
      "|  Dwaine R. Caraway|    18|\n",
      "| Rickey D. Callahan|    17|\n",
      "+-------------------+------+\n",
      "only showing top 10 rows\n",
      "\n"
     ]
    }
   ],
   "source": [
    "#17. Show the rows with 10 highest IDs in the set\n",
    "df.orderBy(df.ROW_ID.desc()).show(10)"
   ]
  },
  {
   "cell_type": "markdown",
   "id": "ca165d08-a57e-4da3-8967-2c17ce06393a",
   "metadata": {},
   "source": [
    "### IDs with different partitions"
   ]
  },
  {
   "cell_type": "code",
   "execution_count": 49,
   "id": "569908a0-66e8-4b57-a72c-ce21565d64e3",
   "metadata": {},
   "outputs": [],
   "source": [
    "# Mở rộng"
   ]
  },
  {
   "cell_type": "markdown",
   "id": "423b77b1-2d2c-41cd-b29e-068d18526a18",
   "metadata": {},
   "source": [
    "- Make sure to store the result of .rdd.max()[0] in the variable.\n",
    "- monotonically_increasing_id() returns an integer. You can modify that value in-line.\n",
    "- Make sure to show both Data Frames."
   ]
  },
  {
   "cell_type": "code",
   "execution_count": 52,
   "id": "686bc37b-990e-4f0e-973d-ce19fcf96616",
   "metadata": {},
   "outputs": [],
   "source": [
    "# Determine the highest ROW_ID and save it in previous_max_ID\n",
    "previous_max_ID = df.select('ROW_ID').rdd.max()[0]\n",
    "# Add a ROW_ID column to df_april starting at the desired value\n",
    "voter_df_april = df.withColumn('ROW_ID',\n",
    "monotonically_increasing_id() + previous_max_ID)"
   ]
  },
  {
   "cell_type": "code",
   "execution_count": 53,
   "id": "707677fb-3d34-4660-9ad7-b571bf501147",
   "metadata": {},
   "outputs": [
    {
     "name": "stdout",
     "output_type": "stream",
     "text": [
      "+------+\n",
      "|ROW_ID|\n",
      "+------+\n",
      "|     0|\n",
      "|     1|\n",
      "|     2|\n",
      "|     3|\n",
      "|     4|\n",
      "+------+\n",
      "only showing top 5 rows\n",
      "\n",
      "+------+\n",
      "|ROW_ID|\n",
      "+------+\n",
      "|    26|\n",
      "|    27|\n",
      "|    28|\n",
      "|    29|\n",
      "|    30|\n",
      "+------+\n",
      "only showing top 5 rows\n",
      "\n"
     ]
    }
   ],
   "source": [
    "# Show the ROW_ID from both DataFrames and compare\n",
    "df.select('ROW_ID').show(5)\n",
    "voter_df_april.select('ROW_ID').show(5)"
   ]
  },
  {
   "cell_type": "code",
   "execution_count": null,
   "id": "bb39fa61-c8c9-4ce0-8fc2-457c0090ba26",
   "metadata": {},
   "outputs": [],
   "source": []
  },
  {
   "cell_type": "code",
   "execution_count": null,
   "id": "ee50e51a-c6fc-490c-921d-14c9a8f3d090",
   "metadata": {},
   "outputs": [],
   "source": []
  },
  {
   "cell_type": "code",
   "execution_count": null,
   "id": "7a1cda2b-c70c-4475-8331-bded87e8972f",
   "metadata": {},
   "outputs": [],
   "source": []
  }
 ],
 "metadata": {
  "kernelspec": {
   "display_name": "Python 3 (ipykernel)",
   "language": "python",
   "name": "python3"
  },
  "language_info": {
   "codemirror_mode": {
    "name": "ipython",
    "version": 3
   },
   "file_extension": ".py",
   "mimetype": "text/x-python",
   "name": "python",
   "nbconvert_exporter": "python",
   "pygments_lexer": "ipython3",
   "version": "3.9.12"
  }
 },
 "nbformat": 4,
 "nbformat_minor": 5
}
