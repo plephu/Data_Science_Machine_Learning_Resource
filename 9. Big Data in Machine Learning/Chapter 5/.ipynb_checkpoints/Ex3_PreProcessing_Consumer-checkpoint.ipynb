{
 "cells": [
  {
   "cell_type": "code",
   "execution_count": 1,
   "id": "493c655d-20c0-45a5-b965-d1a82b7a150f",
   "metadata": {},
   "outputs": [],
   "source": [
    "import findspark\n",
    "findspark.init()"
   ]
  },
  {
   "cell_type": "code",
   "execution_count": 2,
   "id": "42a0a1aa-d6c9-4b19-ad51-86ff53fd0f2b",
   "metadata": {},
   "outputs": [],
   "source": [
    "from pyspark import SparkContext\n",
    "from pyspark.conf import SparkConf\n",
    "from pyspark.sql import SparkSession"
   ]
  },
  {
   "cell_type": "code",
   "execution_count": 3,
   "id": "e2c8a8e2-7958-49e7-a771-6e15aeaba81e",
   "metadata": {},
   "outputs": [],
   "source": [
    "sc =SparkContext()"
   ]
  },
  {
   "cell_type": "code",
   "execution_count": 4,
   "id": "e4cdb824-5e8a-44b8-ae04-5028249b2dd0",
   "metadata": {},
   "outputs": [],
   "source": [
    "spark = SparkSession(sc)"
   ]
  },
  {
   "cell_type": "code",
   "execution_count": 6,
   "id": "51cc115f-0006-453b-8441-bfc8d5dd03a1",
   "metadata": {},
   "outputs": [],
   "source": [
    "#1. Đọc dữ liệu => data.\n",
    "# file from hdfs\n",
    "# file_name = \"hdfs://172.24.40.251:19000/complaints.csv\"\n",
    "file_name = \"complaints.csv\"\n",
    "data = spark.read.csv(file_name, header=True, inferSchema=True)"
   ]
  },
  {
   "cell_type": "code",
   "execution_count": 7,
   "id": "2d8d05d3-129a-483d-9ff8-f9486df1d64b",
   "metadata": {},
   "outputs": [
    {
     "data": {
      "text/plain": [
       "2083368"
      ]
     },
     "execution_count": 7,
     "metadata": {},
     "output_type": "execute_result"
    }
   ],
   "source": [
    "#2. Cho biết dữ liệu có bao nhiêu dòng, in scheme.\n",
    "# Hiển thị 3 dòng dữ liệu đầu tiên.\n",
    "data.count()"
   ]
  },
  {
   "cell_type": "code",
   "execution_count": 8,
   "id": "f3f21264-8d51-42e0-8e9f-73863a93ecd9",
   "metadata": {},
   "outputs": [
    {
     "name": "stdout",
     "output_type": "stream",
     "text": [
      "root\n",
      " |-- Date received: string (nullable = true)\n",
      " |-- Product: string (nullable = true)\n",
      " |-- Sub-product: string (nullable = true)\n",
      " |-- Issue: string (nullable = true)\n",
      " |-- Sub-issue: string (nullable = true)\n",
      " |-- Consumer complaint narrative: string (nullable = true)\n",
      " |-- Company public response: string (nullable = true)\n",
      " |-- Company: string (nullable = true)\n",
      " |-- State: string (nullable = true)\n",
      " |-- ZIP code: string (nullable = true)\n",
      " |-- Tags: string (nullable = true)\n",
      " |-- Consumer consent provided?: string (nullable = true)\n",
      " |-- Submitted via: string (nullable = true)\n",
      " |-- Date sent to company: string (nullable = true)\n",
      " |-- Company response to consumer: string (nullable = true)\n",
      " |-- Timely response?: string (nullable = true)\n",
      " |-- Consumer disputed?: string (nullable = true)\n",
      " |-- Complaint ID: string (nullable = true)\n",
      "\n"
     ]
    }
   ],
   "source": [
    "data.printSchema()"
   ]
  },
  {
   "cell_type": "code",
   "execution_count": 9,
   "id": "af859037-1521-46d0-8af9-9c33907ae512",
   "metadata": {},
   "outputs": [
    {
     "name": "stdout",
     "output_type": "stream",
     "text": [
      "Row(Date received='2019-09-24', Product='Debt collection', Sub-product='I do not know', Issue='Attempts to collect debt not owed', Sub-issue='Debt is not yours', Consumer complaint narrative='transworld systems inc. ', Company public response=None, Company=None, State=None, ZIP code=None, Tags=None, Consumer consent provided?=None, Submitted via=None, Date sent to company=None, Company response to consumer=None, Timely response?=None, Consumer disputed?=None, Complaint ID=None)\n",
      "\n",
      "\n",
      "Row(Date received='is trying to collect a debt that is not mine', Product=' not owed and is inaccurate.\"', Sub-product=None, Issue='TRANSWORLD SYSTEMS INC', Sub-issue='FL', Consumer complaint narrative='335XX', Company public response=None, Company='Consent provided', State='Web', ZIP code='2019-09-24', Tags='Closed with explanation', Consumer consent provided?='Yes', Submitted via='N/A', Date sent to company='3384392', Company response to consumer=None, Timely response?=None, Consumer disputed?=None, Complaint ID=None)\n",
      "\n",
      "\n",
      "Row(Date received='2019-09-19', Product='Credit reporting, credit repair services, or other personal consumer reports', Sub-product='Credit reporting', Issue='Incorrect information on your report', Sub-issue='Information belongs to someone else', Consumer complaint narrative=None, Company public response='Company has responded to the consumer and the CFPB and chooses not to provide a public response', Company='Experian Information Solutions Inc.', State='PA', ZIP code='15206', Tags=None, Consumer consent provided?='Consent not provided', Submitted via='Web', Date sent to company='2019-09-20', Company response to consumer='Closed with non-monetary relief', Timely response?='Yes', Consumer disputed?='N/A', Complaint ID='3379500')\n",
      "\n",
      "\n"
     ]
    }
   ],
   "source": [
    "for row in data.head(3):\n",
    "    print(row)\n",
    "    print(\"\\n\")"
   ]
  },
  {
   "cell_type": "code",
   "execution_count": 10,
   "id": "836c579e-0bb8-45d5-981b-d20a985cb84d",
   "metadata": {},
   "outputs": [],
   "source": [
    "from pyspark.sql.functions import col, udf"
   ]
  },
  {
   "cell_type": "code",
   "execution_count": 11,
   "id": "5986ca3e-b578-434d-85af-35bdab0f0d12",
   "metadata": {},
   "outputs": [],
   "source": [
    "from pyspark.sql.functions import isnan, when, count, col"
   ]
  },
  {
   "cell_type": "code",
   "execution_count": 12,
   "id": "8e94f305-ece2-46f0-baff-2e4401923282",
   "metadata": {},
   "outputs": [
    {
     "data": {
      "text/html": [
       "<div>\n",
       "<style scoped>\n",
       "    .dataframe tbody tr th:only-of-type {\n",
       "        vertical-align: middle;\n",
       "    }\n",
       "\n",
       "    .dataframe tbody tr th {\n",
       "        vertical-align: top;\n",
       "    }\n",
       "\n",
       "    .dataframe thead th {\n",
       "        text-align: right;\n",
       "    }\n",
       "</style>\n",
       "<table border=\"1\" class=\"dataframe\">\n",
       "  <thead>\n",
       "    <tr style=\"text-align: right;\">\n",
       "      <th></th>\n",
       "      <th>0</th>\n",
       "    </tr>\n",
       "  </thead>\n",
       "  <tbody>\n",
       "    <tr>\n",
       "      <th>Date received</th>\n",
       "      <td>0</td>\n",
       "    </tr>\n",
       "    <tr>\n",
       "      <th>Product</th>\n",
       "      <td>0</td>\n",
       "    </tr>\n",
       "    <tr>\n",
       "      <th>Sub-product</th>\n",
       "      <td>0</td>\n",
       "    </tr>\n",
       "    <tr>\n",
       "      <th>Issue</th>\n",
       "      <td>0</td>\n",
       "    </tr>\n",
       "    <tr>\n",
       "      <th>Sub-issue</th>\n",
       "      <td>0</td>\n",
       "    </tr>\n",
       "    <tr>\n",
       "      <th>Consumer complaint narrative</th>\n",
       "      <td>0</td>\n",
       "    </tr>\n",
       "    <tr>\n",
       "      <th>Company public response</th>\n",
       "      <td>0</td>\n",
       "    </tr>\n",
       "    <tr>\n",
       "      <th>Company</th>\n",
       "      <td>0</td>\n",
       "    </tr>\n",
       "    <tr>\n",
       "      <th>State</th>\n",
       "      <td>0</td>\n",
       "    </tr>\n",
       "    <tr>\n",
       "      <th>ZIP code</th>\n",
       "      <td>0</td>\n",
       "    </tr>\n",
       "    <tr>\n",
       "      <th>Tags</th>\n",
       "      <td>0</td>\n",
       "    </tr>\n",
       "    <tr>\n",
       "      <th>Consumer consent provided?</th>\n",
       "      <td>0</td>\n",
       "    </tr>\n",
       "    <tr>\n",
       "      <th>Submitted via</th>\n",
       "      <td>0</td>\n",
       "    </tr>\n",
       "    <tr>\n",
       "      <th>Date sent to company</th>\n",
       "      <td>0</td>\n",
       "    </tr>\n",
       "    <tr>\n",
       "      <th>Company response to consumer</th>\n",
       "      <td>0</td>\n",
       "    </tr>\n",
       "    <tr>\n",
       "      <th>Timely response?</th>\n",
       "      <td>0</td>\n",
       "    </tr>\n",
       "    <tr>\n",
       "      <th>Consumer disputed?</th>\n",
       "      <td>0</td>\n",
       "    </tr>\n",
       "    <tr>\n",
       "      <th>Complaint ID</th>\n",
       "      <td>0</td>\n",
       "    </tr>\n",
       "  </tbody>\n",
       "</table>\n",
       "</div>"
      ],
      "text/plain": [
       "                              0\n",
       "Date received                 0\n",
       "Product                       0\n",
       "Sub-product                   0\n",
       "Issue                         0\n",
       "Sub-issue                     0\n",
       "Consumer complaint narrative  0\n",
       "Company public response       0\n",
       "Company                       0\n",
       "State                         0\n",
       "ZIP code                      0\n",
       "Tags                          0\n",
       "Consumer consent provided?    0\n",
       "Submitted via                 0\n",
       "Date sent to company          0\n",
       "Company response to consumer  0\n",
       "Timely response?              0\n",
       "Consumer disputed?            0\n",
       "Complaint ID                  0"
      ]
     },
     "execution_count": 12,
     "metadata": {},
     "output_type": "execute_result"
    }
   ],
   "source": [
    "#3. Kiểm tra dữ liệu NaN, null\n",
    "data.select([count(when(isnan(c), c)).alias(c) for c in data.columns]).toPandas().T"
   ]
  },
  {
   "cell_type": "code",
   "execution_count": 13,
   "id": "6e84931f-a899-4178-8a65-96513b1eaf73",
   "metadata": {},
   "outputs": [],
   "source": [
    "# => Không có dữ liệu NaN"
   ]
  },
  {
   "cell_type": "code",
   "execution_count": 14,
   "id": "788e8630-7d9c-47f9-b1e0-8f0ea1afc965",
   "metadata": {},
   "outputs": [
    {
     "data": {
      "text/html": [
       "<div>\n",
       "<style scoped>\n",
       "    .dataframe tbody tr th:only-of-type {\n",
       "        vertical-align: middle;\n",
       "    }\n",
       "\n",
       "    .dataframe tbody tr th {\n",
       "        vertical-align: top;\n",
       "    }\n",
       "\n",
       "    .dataframe thead th {\n",
       "        text-align: right;\n",
       "    }\n",
       "</style>\n",
       "<table border=\"1\" class=\"dataframe\">\n",
       "  <thead>\n",
       "    <tr style=\"text-align: right;\">\n",
       "      <th></th>\n",
       "      <th>0</th>\n",
       "    </tr>\n",
       "  </thead>\n",
       "  <tbody>\n",
       "    <tr>\n",
       "      <th>Date received</th>\n",
       "      <td>40</td>\n",
       "    </tr>\n",
       "    <tr>\n",
       "      <th>Product</th>\n",
       "      <td>209258</td>\n",
       "    </tr>\n",
       "    <tr>\n",
       "      <th>Sub-product</th>\n",
       "      <td>511176</td>\n",
       "    </tr>\n",
       "    <tr>\n",
       "      <th>Issue</th>\n",
       "      <td>325183</td>\n",
       "    </tr>\n",
       "    <tr>\n",
       "      <th>Sub-issue</th>\n",
       "      <td>931248</td>\n",
       "    </tr>\n",
       "    <tr>\n",
       "      <th>Consumer complaint narrative</th>\n",
       "      <td>1454171</td>\n",
       "    </tr>\n",
       "    <tr>\n",
       "      <th>Company public response</th>\n",
       "      <td>1412034</td>\n",
       "    </tr>\n",
       "    <tr>\n",
       "      <th>Company</th>\n",
       "      <td>573431</td>\n",
       "    </tr>\n",
       "    <tr>\n",
       "      <th>State</th>\n",
       "      <td>597994</td>\n",
       "    </tr>\n",
       "    <tr>\n",
       "      <th>ZIP code</th>\n",
       "      <td>673059</td>\n",
       "    </tr>\n",
       "    <tr>\n",
       "      <th>Tags</th>\n",
       "      <td>1720420</td>\n",
       "    </tr>\n",
       "    <tr>\n",
       "      <th>Consumer consent provided?</th>\n",
       "      <td>600884</td>\n",
       "    </tr>\n",
       "    <tr>\n",
       "      <th>Submitted via</th>\n",
       "      <td>583444</td>\n",
       "    </tr>\n",
       "    <tr>\n",
       "      <th>Date sent to company</th>\n",
       "      <td>659690</td>\n",
       "    </tr>\n",
       "    <tr>\n",
       "      <th>Company response to consumer</th>\n",
       "      <td>694041</td>\n",
       "    </tr>\n",
       "    <tr>\n",
       "      <th>Timely response?</th>\n",
       "      <td>711651</td>\n",
       "    </tr>\n",
       "    <tr>\n",
       "      <th>Consumer disputed?</th>\n",
       "      <td>721662</td>\n",
       "    </tr>\n",
       "    <tr>\n",
       "      <th>Complaint ID</th>\n",
       "      <td>728036</td>\n",
       "    </tr>\n",
       "  </tbody>\n",
       "</table>\n",
       "</div>"
      ],
      "text/plain": [
       "                                    0\n",
       "Date received                      40\n",
       "Product                        209258\n",
       "Sub-product                    511176\n",
       "Issue                          325183\n",
       "Sub-issue                      931248\n",
       "Consumer complaint narrative  1454171\n",
       "Company public response       1412034\n",
       "Company                        573431\n",
       "State                          597994\n",
       "ZIP code                       673059\n",
       "Tags                          1720420\n",
       "Consumer consent provided?     600884\n",
       "Submitted via                  583444\n",
       "Date sent to company           659690\n",
       "Company response to consumer   694041\n",
       "Timely response?               711651\n",
       "Consumer disputed?             721662\n",
       "Complaint ID                   728036"
      ]
     },
     "execution_count": 14,
     "metadata": {},
     "output_type": "execute_result"
    }
   ],
   "source": [
    "data.select([count(when(col(c).isNull(), c)).alias(c) for c in data.columns]).toPandas().T"
   ]
  },
  {
   "cell_type": "code",
   "execution_count": 15,
   "id": "dc113d92-3963-44f5-b8c7-42cff23e2c57",
   "metadata": {},
   "outputs": [],
   "source": [
    "# Có rất nhiều dữ liệu null theo từng cột"
   ]
  },
  {
   "cell_type": "code",
   "execution_count": 16,
   "id": "96e36993-301c-4a08-9adf-8aa68dab92f2",
   "metadata": {},
   "outputs": [],
   "source": [
    "#4. Kiểm tra dữ liệu trùng. Xóa dữ liệu trùng."
   ]
  },
  {
   "cell_type": "code",
   "execution_count": 17,
   "id": "361154b5-5a5d-4545-abed-079229c55f20",
   "metadata": {},
   "outputs": [],
   "source": [
    "num_rows = data.count()"
   ]
  },
  {
   "cell_type": "code",
   "execution_count": 18,
   "id": "2b16b53a-7cad-4832-bc76-165dc888b402",
   "metadata": {},
   "outputs": [],
   "source": [
    "num_dist_rows = data.distinct().count()"
   ]
  },
  {
   "cell_type": "code",
   "execution_count": 19,
   "id": "bdce3cfe-1417-4c85-9d65-7618b679a89a",
   "metadata": {},
   "outputs": [
    {
     "data": {
      "text/plain": [
       "2020609"
      ]
     },
     "execution_count": 19,
     "metadata": {},
     "output_type": "execute_result"
    }
   ],
   "source": [
    "num_dist_rows"
   ]
  },
  {
   "cell_type": "code",
   "execution_count": 20,
   "id": "1042e86f-2f1d-4b90-83eb-d2ef34eb8a5d",
   "metadata": {},
   "outputs": [],
   "source": [
    "# Có dữ liệu trùng\n",
    "dup_rows = num_rows - num_dist_rows"
   ]
  },
  {
   "cell_type": "code",
   "execution_count": 21,
   "id": "0e41a760-3083-49b8-bc4d-a9e75e8b5d17",
   "metadata": {},
   "outputs": [
    {
     "data": {
      "text/plain": [
       "62759"
      ]
     },
     "execution_count": 21,
     "metadata": {},
     "output_type": "execute_result"
    }
   ],
   "source": [
    "dup_rows"
   ]
  },
  {
   "cell_type": "code",
   "execution_count": 22,
   "id": "c56ddb40-f621-4aa2-9eef-f3d96f6f2e13",
   "metadata": {},
   "outputs": [],
   "source": [
    "# Xóa dữ liệu trùng\n",
    "data = data.drop_duplicates()"
   ]
  },
  {
   "cell_type": "code",
   "execution_count": 23,
   "id": "85aacd45-e581-454e-bd89-666ccb6d0574",
   "metadata": {},
   "outputs": [
    {
     "data": {
      "text/plain": [
       "2020609"
      ]
     },
     "execution_count": 23,
     "metadata": {},
     "output_type": "execute_result"
    }
   ],
   "source": [
    "data.distinct().count()"
   ]
  },
  {
   "cell_type": "code",
   "execution_count": 24,
   "id": "378a8541-e38a-4491-970f-3cf8135fc869",
   "metadata": {},
   "outputs": [],
   "source": [
    "# Hết dữ liệu trùng"
   ]
  },
  {
   "cell_type": "code",
   "execution_count": 25,
   "id": "a87901a7-3b5b-455f-999d-b9e6c3b7ecfa",
   "metadata": {},
   "outputs": [],
   "source": [
    "#5. Kiểm tra lại dữ liệu null. Tính tỉ lệ %. Xem xét cách xử lý dữ liệu null\n",
    "null_data = data.select([count(when(col(c).isNull(), c)).alias(c) for c in data.columns]).toPandas().T"
   ]
  },
  {
   "cell_type": "code",
   "execution_count": 26,
   "id": "9c62bd86-d497-4da9-be89-be66f23aafdd",
   "metadata": {},
   "outputs": [
    {
     "data": {
      "text/plain": [
       "pandas.core.frame.DataFrame"
      ]
     },
     "execution_count": 26,
     "metadata": {},
     "output_type": "execute_result"
    }
   ],
   "source": [
    "type(null_data)"
   ]
  },
  {
   "cell_type": "code",
   "execution_count": 27,
   "id": "60eb8388-2105-4379-bfad-1f8a95ae118e",
   "metadata": {},
   "outputs": [
    {
     "data": {
      "text/html": [
       "<div>\n",
       "<style scoped>\n",
       "    .dataframe tbody tr th:only-of-type {\n",
       "        vertical-align: middle;\n",
       "    }\n",
       "\n",
       "    .dataframe tbody tr th {\n",
       "        vertical-align: top;\n",
       "    }\n",
       "\n",
       "    .dataframe thead th {\n",
       "        text-align: right;\n",
       "    }\n",
       "</style>\n",
       "<table border=\"1\" class=\"dataframe\">\n",
       "  <thead>\n",
       "    <tr style=\"text-align: right;\">\n",
       "      <th></th>\n",
       "      <th>0</th>\n",
       "    </tr>\n",
       "  </thead>\n",
       "  <tbody>\n",
       "    <tr>\n",
       "      <th>Date received</th>\n",
       "      <td>39</td>\n",
       "    </tr>\n",
       "    <tr>\n",
       "      <th>Product</th>\n",
       "      <td>178373</td>\n",
       "    </tr>\n",
       "    <tr>\n",
       "      <th>Sub-product</th>\n",
       "      <td>472168</td>\n",
       "    </tr>\n",
       "    <tr>\n",
       "      <th>Issue</th>\n",
       "      <td>281416</td>\n",
       "    </tr>\n",
       "    <tr>\n",
       "      <th>Sub-issue</th>\n",
       "      <td>884470</td>\n",
       "    </tr>\n",
       "    <tr>\n",
       "      <th>Consumer complaint narrative</th>\n",
       "      <td>1405173</td>\n",
       "    </tr>\n",
       "    <tr>\n",
       "      <th>Company public response</th>\n",
       "      <td>1353196</td>\n",
       "    </tr>\n",
       "    <tr>\n",
       "      <th>Company</th>\n",
       "      <td>513337</td>\n",
       "    </tr>\n",
       "    <tr>\n",
       "      <th>State</th>\n",
       "      <td>537111</td>\n",
       "    </tr>\n",
       "    <tr>\n",
       "      <th>ZIP code</th>\n",
       "      <td>611785</td>\n",
       "    </tr>\n",
       "    <tr>\n",
       "      <th>Tags</th>\n",
       "      <td>1659004</td>\n",
       "    </tr>\n",
       "    <tr>\n",
       "      <th>Consumer consent provided?</th>\n",
       "      <td>539324</td>\n",
       "    </tr>\n",
       "    <tr>\n",
       "      <th>Submitted via</th>\n",
       "      <td>521790</td>\n",
       "    </tr>\n",
       "    <tr>\n",
       "      <th>Date sent to company</th>\n",
       "      <td>597981</td>\n",
       "    </tr>\n",
       "    <tr>\n",
       "      <th>Company response to consumer</th>\n",
       "      <td>632256</td>\n",
       "    </tr>\n",
       "    <tr>\n",
       "      <th>Timely response?</th>\n",
       "      <td>649891</td>\n",
       "    </tr>\n",
       "    <tr>\n",
       "      <th>Consumer disputed?</th>\n",
       "      <td>659883</td>\n",
       "    </tr>\n",
       "    <tr>\n",
       "      <th>Complaint ID</th>\n",
       "      <td>666220</td>\n",
       "    </tr>\n",
       "  </tbody>\n",
       "</table>\n",
       "</div>"
      ],
      "text/plain": [
       "                                    0\n",
       "Date received                      39\n",
       "Product                        178373\n",
       "Sub-product                    472168\n",
       "Issue                          281416\n",
       "Sub-issue                      884470\n",
       "Consumer complaint narrative  1405173\n",
       "Company public response       1353196\n",
       "Company                        513337\n",
       "State                          537111\n",
       "ZIP code                       611785\n",
       "Tags                          1659004\n",
       "Consumer consent provided?     539324\n",
       "Submitted via                  521790\n",
       "Date sent to company           597981\n",
       "Company response to consumer   632256\n",
       "Timely response?               649891\n",
       "Consumer disputed?             659883\n",
       "Complaint ID                   666220"
      ]
     },
     "execution_count": 27,
     "metadata": {},
     "output_type": "execute_result"
    }
   ],
   "source": [
    "null_data"
   ]
  },
  {
   "cell_type": "code",
   "execution_count": 28,
   "id": "c5fe8721-1ce6-4d9a-a1de-b44488af52bb",
   "metadata": {},
   "outputs": [],
   "source": [
    "null_data[\"percentage\"] = (null_data[0]/num_dist_rows)*100"
   ]
  },
  {
   "cell_type": "code",
   "execution_count": 29,
   "id": "5e9a82c5-97d5-4333-bdd0-27e22a256cea",
   "metadata": {},
   "outputs": [
    {
     "data": {
      "text/html": [
       "<div>\n",
       "<style scoped>\n",
       "    .dataframe tbody tr th:only-of-type {\n",
       "        vertical-align: middle;\n",
       "    }\n",
       "\n",
       "    .dataframe tbody tr th {\n",
       "        vertical-align: top;\n",
       "    }\n",
       "\n",
       "    .dataframe thead th {\n",
       "        text-align: right;\n",
       "    }\n",
       "</style>\n",
       "<table border=\"1\" class=\"dataframe\">\n",
       "  <thead>\n",
       "    <tr style=\"text-align: right;\">\n",
       "      <th></th>\n",
       "      <th>0</th>\n",
       "      <th>percentage</th>\n",
       "    </tr>\n",
       "  </thead>\n",
       "  <tbody>\n",
       "    <tr>\n",
       "      <th>Date received</th>\n",
       "      <td>39</td>\n",
       "      <td>0.001930</td>\n",
       "    </tr>\n",
       "    <tr>\n",
       "      <th>Product</th>\n",
       "      <td>178373</td>\n",
       "      <td>8.827685</td>\n",
       "    </tr>\n",
       "    <tr>\n",
       "      <th>Sub-product</th>\n",
       "      <td>472168</td>\n",
       "      <td>23.367608</td>\n",
       "    </tr>\n",
       "    <tr>\n",
       "      <th>Issue</th>\n",
       "      <td>281416</td>\n",
       "      <td>13.927286</td>\n",
       "    </tr>\n",
       "    <tr>\n",
       "      <th>Sub-issue</th>\n",
       "      <td>884470</td>\n",
       "      <td>43.772447</td>\n",
       "    </tr>\n",
       "    <tr>\n",
       "      <th>Consumer complaint narrative</th>\n",
       "      <td>1405173</td>\n",
       "      <td>69.542054</td>\n",
       "    </tr>\n",
       "    <tr>\n",
       "      <th>Company public response</th>\n",
       "      <td>1353196</td>\n",
       "      <td>66.969711</td>\n",
       "    </tr>\n",
       "    <tr>\n",
       "      <th>Company</th>\n",
       "      <td>513337</td>\n",
       "      <td>25.405064</td>\n",
       "    </tr>\n",
       "    <tr>\n",
       "      <th>State</th>\n",
       "      <td>537111</td>\n",
       "      <td>26.581639</td>\n",
       "    </tr>\n",
       "    <tr>\n",
       "      <th>ZIP code</th>\n",
       "      <td>611785</td>\n",
       "      <td>30.277258</td>\n",
       "    </tr>\n",
       "    <tr>\n",
       "      <th>Tags</th>\n",
       "      <td>1659004</td>\n",
       "      <td>82.104158</td>\n",
       "    </tr>\n",
       "    <tr>\n",
       "      <th>Consumer consent provided?</th>\n",
       "      <td>539324</td>\n",
       "      <td>26.691161</td>\n",
       "    </tr>\n",
       "    <tr>\n",
       "      <th>Submitted via</th>\n",
       "      <td>521790</td>\n",
       "      <td>25.823403</td>\n",
       "    </tr>\n",
       "    <tr>\n",
       "      <th>Date sent to company</th>\n",
       "      <td>597981</td>\n",
       "      <td>29.594098</td>\n",
       "    </tr>\n",
       "    <tr>\n",
       "      <th>Company response to consumer</th>\n",
       "      <td>632256</td>\n",
       "      <td>31.290368</td>\n",
       "    </tr>\n",
       "    <tr>\n",
       "      <th>Timely response?</th>\n",
       "      <td>649891</td>\n",
       "      <td>32.163125</td>\n",
       "    </tr>\n",
       "    <tr>\n",
       "      <th>Consumer disputed?</th>\n",
       "      <td>659883</td>\n",
       "      <td>32.657629</td>\n",
       "    </tr>\n",
       "    <tr>\n",
       "      <th>Complaint ID</th>\n",
       "      <td>666220</td>\n",
       "      <td>32.971248</td>\n",
       "    </tr>\n",
       "  </tbody>\n",
       "</table>\n",
       "</div>"
      ],
      "text/plain": [
       "                                    0  percentage\n",
       "Date received                      39    0.001930\n",
       "Product                        178373    8.827685\n",
       "Sub-product                    472168   23.367608\n",
       "Issue                          281416   13.927286\n",
       "Sub-issue                      884470   43.772447\n",
       "Consumer complaint narrative  1405173   69.542054\n",
       "Company public response       1353196   66.969711\n",
       "Company                        513337   25.405064\n",
       "State                          537111   26.581639\n",
       "ZIP code                       611785   30.277258\n",
       "Tags                          1659004   82.104158\n",
       "Consumer consent provided?     539324   26.691161\n",
       "Submitted via                  521790   25.823403\n",
       "Date sent to company           597981   29.594098\n",
       "Company response to consumer   632256   31.290368\n",
       "Timely response?               649891   32.163125\n",
       "Consumer disputed?             659883   32.657629\n",
       "Complaint ID                   666220   32.971248"
      ]
     },
     "execution_count": 29,
     "metadata": {},
     "output_type": "execute_result"
    }
   ],
   "source": [
    "null_data"
   ]
  },
  {
   "cell_type": "code",
   "execution_count": 30,
   "id": "a7fea3c2-1cfc-482f-ae9b-97b988e68cb8",
   "metadata": {},
   "outputs": [],
   "source": [
    "#6. Tạo dữ liệu mới, trong đó không có các cột có dữ liệu thiếu trên 30%\n",
    "data_sub = data.select([\"Date received\", \"Product\",\n",
    "\"Sub-product\", \"Issue\",\n",
    "\"Company\", \"State\",\n",
    "\"Consumer consent provided?\",\n",
    "\"Submitted via\"])"
   ]
  },
  {
   "cell_type": "code",
   "execution_count": 31,
   "id": "a459ba27-6b31-482a-b05a-5258bff1ef64",
   "metadata": {},
   "outputs": [
    {
     "name": "stdout",
     "output_type": "stream",
     "text": [
      "+-------------+--------------------+----------------+--------------------+--------------------+-----+--------------------------+-------------+\n",
      "|Date received|             Product|     Sub-product|               Issue|             Company|State|Consumer consent provided?|Submitted via|\n",
      "+-------------+--------------------+----------------+--------------------+--------------------+-----+--------------------------+-------------+\n",
      "|   2018-12-22|Checking or savin...|Checking account| Managing an account|NAVY FEDERAL CRED...|   SC|          Consent provided|          Web|\n",
      "|   2018-12-11|Credit reporting,...|Credit reporting|Problem with a cr...|Experian Informat...|   FL|          Consent provided|          Web|\n",
      "+-------------+--------------------+----------------+--------------------+--------------------+-----+--------------------------+-------------+\n",
      "only showing top 2 rows\n",
      "\n"
     ]
    }
   ],
   "source": [
    "data_sub.show(2)"
   ]
  },
  {
   "cell_type": "code",
   "execution_count": 32,
   "id": "6b6efcc5-2dad-4ebc-8db9-971e9e36de2f",
   "metadata": {},
   "outputs": [],
   "source": [
    "#7. Xoá các dòng có \"Date received\" là null và/hoặc \"Product\" là null"
   ]
  },
  {
   "cell_type": "code",
   "execution_count": 33,
   "id": "12293240-a2d0-4474-8161-9ecf200adf8e",
   "metadata": {},
   "outputs": [],
   "source": [
    "data_sub = data_sub.dropna(how=\"any\", subset=[\"Date received\", \"Product\"])"
   ]
  },
  {
   "cell_type": "code",
   "execution_count": 34,
   "id": "09091576-05e9-4933-9ab4-6358e18c7434",
   "metadata": {},
   "outputs": [
    {
     "data": {
      "text/html": [
       "<div>\n",
       "<style scoped>\n",
       "    .dataframe tbody tr th:only-of-type {\n",
       "        vertical-align: middle;\n",
       "    }\n",
       "\n",
       "    .dataframe tbody tr th {\n",
       "        vertical-align: top;\n",
       "    }\n",
       "\n",
       "    .dataframe thead th {\n",
       "        text-align: right;\n",
       "    }\n",
       "</style>\n",
       "<table border=\"1\" class=\"dataframe\">\n",
       "  <thead>\n",
       "    <tr style=\"text-align: right;\">\n",
       "      <th></th>\n",
       "      <th>0</th>\n",
       "    </tr>\n",
       "  </thead>\n",
       "  <tbody>\n",
       "    <tr>\n",
       "      <th>Date received</th>\n",
       "      <td>0</td>\n",
       "    </tr>\n",
       "    <tr>\n",
       "      <th>Product</th>\n",
       "      <td>0</td>\n",
       "    </tr>\n",
       "    <tr>\n",
       "      <th>Sub-product</th>\n",
       "      <td>332225</td>\n",
       "    </tr>\n",
       "    <tr>\n",
       "      <th>Issue</th>\n",
       "      <td>141159</td>\n",
       "    </tr>\n",
       "    <tr>\n",
       "      <th>Company</th>\n",
       "      <td>373348</td>\n",
       "    </tr>\n",
       "    <tr>\n",
       "      <th>State</th>\n",
       "      <td>397120</td>\n",
       "    </tr>\n",
       "    <tr>\n",
       "      <th>Consumer consent provided?</th>\n",
       "      <td>399331</td>\n",
       "    </tr>\n",
       "    <tr>\n",
       "      <th>Submitted via</th>\n",
       "      <td>381799</td>\n",
       "    </tr>\n",
       "  </tbody>\n",
       "</table>\n",
       "</div>"
      ],
      "text/plain": [
       "                                 0\n",
       "Date received                    0\n",
       "Product                          0\n",
       "Sub-product                 332225\n",
       "Issue                       141159\n",
       "Company                     373348\n",
       "State                       397120\n",
       "Consumer consent provided?  399331\n",
       "Submitted via               381799"
      ]
     },
     "execution_count": 34,
     "metadata": {},
     "output_type": "execute_result"
    }
   ],
   "source": [
    "data_sub.select([count(when(col(c).isNull(), c)).alias(c) for c in data_sub.columns]).toPandas().T"
   ]
  },
  {
   "cell_type": "code",
   "execution_count": 35,
   "id": "21a45093-82fd-48a0-b3fe-935ab4fbbe58",
   "metadata": {},
   "outputs": [],
   "source": [
    "#8. Tạo cột \"date_from_text\" chứa dữ liệu yyyy-dd-mm từ \"Date received\" nếu có\n",
    "# nếu không sẽ là ''.\n",
    "# Lọc dữ liệu data_sub với yêu cầu \"date_from_text\" khác ''"
   ]
  },
  {
   "cell_type": "code",
   "execution_count": 36,
   "id": "17b253a8-7b0b-4130-b083-0a13f698c670",
   "metadata": {},
   "outputs": [],
   "source": [
    "from pyspark.sql import functions as F"
   ]
  },
  {
   "cell_type": "code",
   "execution_count": 37,
   "id": "6d197d3b-2055-4c63-8f30-450b061ede1e",
   "metadata": {},
   "outputs": [],
   "source": [
    "data_sub = data_sub.withColumn(\"date_from_text\",\n",
    "F.regexp_extract(data_sub[\"Date received\"],\n",
    "r\"(\\d{4}-\\d{1,2}-\\d{1,2})\", 0))"
   ]
  },
  {
   "cell_type": "code",
   "execution_count": 38,
   "id": "ed2442fd-37c9-404b-b7c2-3b14a0f972dd",
   "metadata": {},
   "outputs": [
    {
     "data": {
      "text/plain": [
       "[Row(date_from_text='2018-12-22', Date received='2018-12-22'),\n",
       " Row(date_from_text='2018-12-11', Date received='2018-12-11'),\n",
       " Row(date_from_text='', Date received='A secondary issue is also that they make it very difficult to set up automatic payments to have the mortgage pay early. This is a huge problem for veterans  and their dependents because they can be out of the country on XXXX and so they are taught that it is important to try to be early on your mortgage just to avoid any problems. I have tried so hard to do that with them'),\n",
       " Row(date_from_text='2019-04-24', Date received='2019-04-24'),\n",
       " Row(date_from_text='2019-02-03', Date received='2019-02-03')]"
      ]
     },
     "execution_count": 38,
     "metadata": {},
     "output_type": "execute_result"
    }
   ],
   "source": [
    "data_sub.select(\"date_from_text\", \"Date received\").head(5)"
   ]
  },
  {
   "cell_type": "code",
   "execution_count": 39,
   "id": "f7f85b67-a289-4e3f-bd59-2da04aa85350",
   "metadata": {},
   "outputs": [],
   "source": [
    "data_sub = data_sub.filter(data_sub[\"date_from_text\"]!='')"
   ]
  },
  {
   "cell_type": "code",
   "execution_count": 40,
   "id": "139ef2b7-324c-4bfc-98fa-d68b7980165a",
   "metadata": {},
   "outputs": [
    {
     "data": {
      "text/plain": [
       "[Row(date_from_text='2018-12-22', Date received='2018-12-22'),\n",
       " Row(date_from_text='2018-12-11', Date received='2018-12-11'),\n",
       " Row(date_from_text='2019-04-24', Date received='2019-04-24'),\n",
       " Row(date_from_text='2019-02-03', Date received='2019-02-03'),\n",
       " Row(date_from_text='2019-04-08', Date received='2019-04-08'),\n",
       " Row(date_from_text='2019-04-12', Date received='2019-04-12'),\n",
       " Row(date_from_text='2019-05-09', Date received='2019-05-09'),\n",
       " Row(date_from_text='2019-08-06', Date received='2019-08-06'),\n",
       " Row(date_from_text='2019-08-21', Date received='2019-08-21'),\n",
       " Row(date_from_text='2019-02-18', Date received='2019-02-18')]"
      ]
     },
     "execution_count": 40,
     "metadata": {},
     "output_type": "execute_result"
    }
   ],
   "source": [
    "data_sub.select(\"date_from_text\", \"Date received\").head(10)"
   ]
  },
  {
   "cell_type": "code",
   "execution_count": 41,
   "id": "76b69fbd-3007-4416-8e8d-cf8034b24dbd",
   "metadata": {},
   "outputs": [
    {
     "data": {
      "text/plain": [
       "12830"
      ]
     },
     "execution_count": 41,
     "metadata": {},
     "output_type": "execute_result"
    }
   ],
   "source": [
    "# 9. Tạo cột \"CCP\" mới lấy dữ liệu từ cột \"Consumer consent provided?\"\n",
    "# Với cột \"CCP\" hãy điền \"Consent not provided\" thay cho null\n",
    "data_sub.select([\"Consumer consent provided?\"]).distinct().count()"
   ]
  },
  {
   "cell_type": "code",
   "execution_count": 42,
   "id": "ada2c77d-d44a-4e25-865c-2adfade6342f",
   "metadata": {},
   "outputs": [],
   "source": [
    "data_sub = data_sub.withColumn(\"CCP\", data_sub[\"Consumer consent provided?\"])"
   ]
  },
  {
   "cell_type": "code",
   "execution_count": 43,
   "id": "046ca9e0-098b-4a36-a4fb-6e7aa883733a",
   "metadata": {},
   "outputs": [],
   "source": [
    "data_sub = data_sub.fillna(\"Consent not provided\", subset=\"CCP\")"
   ]
  },
  {
   "cell_type": "code",
   "execution_count": 44,
   "id": "fb783018-1f60-4170-b905-3efe320ea8a9",
   "metadata": {},
   "outputs": [],
   "source": [
    "#10. Tạo cột \"SV\" mới lấy dữ liệu từ cột \"Submitted via\"\n",
    "# Với cột \"SV\" hãy điền \"Other\" thay cho null"
   ]
  },
  {
   "cell_type": "code",
   "execution_count": 45,
   "id": "02cf1575-1064-4f4e-854e-a45397a34029",
   "metadata": {},
   "outputs": [],
   "source": [
    "data_sub = data_sub.withColumn(\"SV\", data_sub[\"Submitted via\"])"
   ]
  },
  {
   "cell_type": "code",
   "execution_count": 46,
   "id": "f29169e7-c2ac-4c29-88e5-1e97ff92996c",
   "metadata": {},
   "outputs": [],
   "source": [
    "data_sub = data_sub.fillna(\"Other\", subset=\"SV\")"
   ]
  },
  {
   "cell_type": "code",
   "execution_count": 47,
   "id": "4bba1adb-a22b-48b5-bb27-78e61e786cfc",
   "metadata": {},
   "outputs": [],
   "source": [
    "#11. Tạo cột \"Sub-pr\" mới lấy dữ liệu từ cột \"Sub-product\"\n",
    "# Với cột \"Sub-pr\" hãy điền \"I do not know\" thay cho null"
   ]
  },
  {
   "cell_type": "code",
   "execution_count": 48,
   "id": "98d2be6a-6eb8-49b4-86c3-182bfebebfe5",
   "metadata": {},
   "outputs": [],
   "source": [
    "data_sub = data_sub.withColumn(\"Sub-pr\", data_sub[\"Sub-product\"])"
   ]
  },
  {
   "cell_type": "code",
   "execution_count": 49,
   "id": "fa19fca9-0a55-4c88-b38b-e631facb5397",
   "metadata": {},
   "outputs": [],
   "source": [
    "data_sub = data_sub.fillna(\"I do not know\", subset=\"Sub-pr\")"
   ]
  },
  {
   "cell_type": "code",
   "execution_count": 50,
   "id": "8032f6b3-5748-4855-a441-edbeadb06216",
   "metadata": {},
   "outputs": [
    {
     "data": {
      "text/html": [
       "<div>\n",
       "<style scoped>\n",
       "    .dataframe tbody tr th:only-of-type {\n",
       "        vertical-align: middle;\n",
       "    }\n",
       "\n",
       "    .dataframe tbody tr th {\n",
       "        vertical-align: top;\n",
       "    }\n",
       "\n",
       "    .dataframe thead th {\n",
       "        text-align: right;\n",
       "    }\n",
       "</style>\n",
       "<table border=\"1\" class=\"dataframe\">\n",
       "  <thead>\n",
       "    <tr style=\"text-align: right;\">\n",
       "      <th></th>\n",
       "      <th>0</th>\n",
       "    </tr>\n",
       "  </thead>\n",
       "  <tbody>\n",
       "    <tr>\n",
       "      <th>Date received</th>\n",
       "      <td>0</td>\n",
       "    </tr>\n",
       "    <tr>\n",
       "      <th>Product</th>\n",
       "      <td>0</td>\n",
       "    </tr>\n",
       "    <tr>\n",
       "      <th>Sub-product</th>\n",
       "      <td>234541</td>\n",
       "    </tr>\n",
       "    <tr>\n",
       "      <th>Issue</th>\n",
       "      <td>0</td>\n",
       "    </tr>\n",
       "    <tr>\n",
       "      <th>Company</th>\n",
       "      <td>147497</td>\n",
       "    </tr>\n",
       "    <tr>\n",
       "      <th>State</th>\n",
       "      <td>173009</td>\n",
       "    </tr>\n",
       "    <tr>\n",
       "      <th>Consumer consent provided?</th>\n",
       "      <td>174052</td>\n",
       "    </tr>\n",
       "    <tr>\n",
       "      <th>Submitted via</th>\n",
       "      <td>156052</td>\n",
       "    </tr>\n",
       "    <tr>\n",
       "      <th>date_from_text</th>\n",
       "      <td>0</td>\n",
       "    </tr>\n",
       "    <tr>\n",
       "      <th>CCP</th>\n",
       "      <td>0</td>\n",
       "    </tr>\n",
       "    <tr>\n",
       "      <th>SV</th>\n",
       "      <td>0</td>\n",
       "    </tr>\n",
       "    <tr>\n",
       "      <th>Sub-pr</th>\n",
       "      <td>0</td>\n",
       "    </tr>\n",
       "  </tbody>\n",
       "</table>\n",
       "</div>"
      ],
      "text/plain": [
       "                                 0\n",
       "Date received                    0\n",
       "Product                          0\n",
       "Sub-product                 234541\n",
       "Issue                            0\n",
       "Company                     147497\n",
       "State                       173009\n",
       "Consumer consent provided?  174052\n",
       "Submitted via               156052\n",
       "date_from_text                   0\n",
       "CCP                              0\n",
       "SV                               0\n",
       "Sub-pr                           0"
      ]
     },
     "execution_count": 50,
     "metadata": {},
     "output_type": "execute_result"
    }
   ],
   "source": [
    "data_sub.select([count(when(col(c).isNull(), c)).alias(c) for c in data_sub.columns]).toPandas().T"
   ]
  },
  {
   "cell_type": "code",
   "execution_count": 51,
   "id": "176e982e-5850-4f6d-bfa2-830179ec1f5b",
   "metadata": {},
   "outputs": [],
   "source": [
    "#12. Tạo cột State_new lấy giá trị từ cột State theo điều kiện sau:\n",
    "# nếu có thông tin State thì lấy thông tin\n",
    "# nếu không có thông tin thì điền \"unknown\""
   ]
  },
  {
   "cell_type": "code",
   "execution_count": 52,
   "id": "20b6919c-8408-4a6a-aedc-a165c3489106",
   "metadata": {},
   "outputs": [],
   "source": [
    "data_sub = data_sub.withColumn('State_new',\n",
    "                               when(col('State').isNull(),'unknown')\n",
    "                               .otherwise(col('State')))"
   ]
  },
  {
   "cell_type": "code",
   "execution_count": 53,
   "id": "624eccaf-e9be-4f13-8f9b-0c1516bab791",
   "metadata": {},
   "outputs": [],
   "source": [
    "from pyspark.sql.functions import to_date, dayofweek, to_timestamp\n",
    "from pyspark.sql import types\n",
    "from pyspark.sql.functions import col, udf\n",
    "from datetime import datetime\n",
    "from pyspark.sql.types import DateType"
   ]
  },
  {
   "cell_type": "code",
   "execution_count": 54,
   "id": "f256c729-e0be-4c4e-a0f3-f577625c3fb8",
   "metadata": {},
   "outputs": [],
   "source": [
    "#13. Tạo cột Date_received với dữ liệu lấy từ cột \"date_from_text\",\n",
    "# định dạng thời gian yyyy-mm-dd .\n",
    "func = udf (lambda x: datetime.strptime(x, '%Y-%m-%d'), DateType())\n",
    "data_sub = data_sub.withColumn('Date_received', func(col('date_from_text')))"
   ]
  },
  {
   "cell_type": "code",
   "execution_count": 55,
   "id": "44136284-159d-4ce3-a2d4-c6cf456266aa",
   "metadata": {},
   "outputs": [
    {
     "name": "stdout",
     "output_type": "stream",
     "text": [
      "root\n",
      " |-- Date received: string (nullable = true)\n",
      " |-- Product: string (nullable = true)\n",
      " |-- Sub-product: string (nullable = true)\n",
      " |-- Issue: string (nullable = true)\n",
      " |-- Company: string (nullable = true)\n",
      " |-- State: string (nullable = true)\n",
      " |-- Consumer consent provided?: string (nullable = true)\n",
      " |-- Submitted via: string (nullable = true)\n",
      " |-- date_from_text: string (nullable = true)\n",
      " |-- CCP: string (nullable = false)\n",
      " |-- SV: string (nullable = false)\n",
      " |-- Sub-pr: string (nullable = false)\n",
      " |-- State_new: string (nullable = true)\n",
      " |-- Date_received: date (nullable = true)\n",
      "\n"
     ]
    }
   ],
   "source": [
    "data_sub.printSchema()"
   ]
  },
  {
   "cell_type": "code",
   "execution_count": 56,
   "id": "d436b36b-d44d-431e-8c0d-22f0ea623726",
   "metadata": {},
   "outputs": [
    {
     "name": "stdout",
     "output_type": "stream",
     "text": [
      "+-------------+\n",
      "|Date_received|\n",
      "+-------------+\n",
      "|   2018-12-22|\n",
      "|   2018-12-11|\n",
      "|   2019-04-24|\n",
      "|   2019-02-03|\n",
      "|   2019-04-08|\n",
      "+-------------+\n",
      "only showing top 5 rows\n",
      "\n"
     ]
    }
   ],
   "source": [
    "data_sub.select('Date_received').show(5)"
   ]
  },
  {
   "cell_type": "code",
   "execution_count": 57,
   "id": "8ec0be2b-1ccd-4a44-97df-5671aeba455e",
   "metadata": {},
   "outputs": [],
   "source": [
    "#14. Tạo cột mới chứa ngày trong tuần day_of_week (1: Monday, 7: Sunday)\n",
    "# với dữ liệu lấy từ cột 'Date_received'\n",
    "data_sub = data_sub.withColumn('Day_of_Week', dayofweek('Date_received'))"
   ]
  },
  {
   "cell_type": "code",
   "execution_count": 58,
   "id": "614530f6-b647-4ae0-946b-5a860b9b872e",
   "metadata": {},
   "outputs": [],
   "source": [
    "from pyspark.sql.functions import year, month"
   ]
  },
  {
   "cell_type": "code",
   "execution_count": 59,
   "id": "fa597d89-9de4-469b-b6b8-7c20d8e40746",
   "metadata": {},
   "outputs": [],
   "source": [
    "data_sub = data_sub.withColumn('year', year('Date_received')) \\\n",
    ".withColumn('month', month('Date_received'))"
   ]
  },
  {
   "cell_type": "code",
   "execution_count": 60,
   "id": "d601284d-1e38-4118-bc03-be44863b5106",
   "metadata": {},
   "outputs": [
    {
     "name": "stdout",
     "output_type": "stream",
     "text": [
      "+-------------+-----------+-----+----+\n",
      "|Date_received|Day_of_Week|month|year|\n",
      "+-------------+-----------+-----+----+\n",
      "|   2018-12-22|          7|   12|2018|\n",
      "|   2018-12-11|          3|   12|2018|\n",
      "|   2019-04-24|          4|    4|2019|\n",
      "|   2019-02-03|          1|    2|2019|\n",
      "|   2019-04-08|          2|    4|2019|\n",
      "+-------------+-----------+-----+----+\n",
      "only showing top 5 rows\n",
      "\n"
     ]
    }
   ],
   "source": [
    "data_sub.select('Date_received', 'Day_of_Week', 'month', 'year').show(5)"
   ]
  },
  {
   "cell_type": "code",
   "execution_count": 61,
   "id": "1fa26083-e487-4984-8db3-e347c4bc412e",
   "metadata": {},
   "outputs": [
    {
     "data": {
      "text/html": [
       "<div>\n",
       "<style scoped>\n",
       "    .dataframe tbody tr th:only-of-type {\n",
       "        vertical-align: middle;\n",
       "    }\n",
       "\n",
       "    .dataframe tbody tr th {\n",
       "        vertical-align: top;\n",
       "    }\n",
       "\n",
       "    .dataframe thead th {\n",
       "        text-align: right;\n",
       "    }\n",
       "</style>\n",
       "<table border=\"1\" class=\"dataframe\">\n",
       "  <thead>\n",
       "    <tr style=\"text-align: right;\">\n",
       "      <th></th>\n",
       "      <th>0</th>\n",
       "    </tr>\n",
       "  </thead>\n",
       "  <tbody>\n",
       "    <tr>\n",
       "      <th>Date received</th>\n",
       "      <td>0</td>\n",
       "    </tr>\n",
       "    <tr>\n",
       "      <th>Product</th>\n",
       "      <td>0</td>\n",
       "    </tr>\n",
       "    <tr>\n",
       "      <th>Sub-product</th>\n",
       "      <td>234541</td>\n",
       "    </tr>\n",
       "    <tr>\n",
       "      <th>Issue</th>\n",
       "      <td>0</td>\n",
       "    </tr>\n",
       "    <tr>\n",
       "      <th>Company</th>\n",
       "      <td>147497</td>\n",
       "    </tr>\n",
       "    <tr>\n",
       "      <th>State</th>\n",
       "      <td>173009</td>\n",
       "    </tr>\n",
       "    <tr>\n",
       "      <th>Consumer consent provided?</th>\n",
       "      <td>174052</td>\n",
       "    </tr>\n",
       "    <tr>\n",
       "      <th>Submitted via</th>\n",
       "      <td>156052</td>\n",
       "    </tr>\n",
       "    <tr>\n",
       "      <th>date_from_text</th>\n",
       "      <td>0</td>\n",
       "    </tr>\n",
       "    <tr>\n",
       "      <th>CCP</th>\n",
       "      <td>0</td>\n",
       "    </tr>\n",
       "    <tr>\n",
       "      <th>SV</th>\n",
       "      <td>0</td>\n",
       "    </tr>\n",
       "    <tr>\n",
       "      <th>Sub-pr</th>\n",
       "      <td>0</td>\n",
       "    </tr>\n",
       "    <tr>\n",
       "      <th>State_new</th>\n",
       "      <td>0</td>\n",
       "    </tr>\n",
       "    <tr>\n",
       "      <th>Date_received</th>\n",
       "      <td>0</td>\n",
       "    </tr>\n",
       "    <tr>\n",
       "      <th>Day_of_Week</th>\n",
       "      <td>0</td>\n",
       "    </tr>\n",
       "    <tr>\n",
       "      <th>year</th>\n",
       "      <td>0</td>\n",
       "    </tr>\n",
       "    <tr>\n",
       "      <th>month</th>\n",
       "      <td>0</td>\n",
       "    </tr>\n",
       "  </tbody>\n",
       "</table>\n",
       "</div>"
      ],
      "text/plain": [
       "                                 0\n",
       "Date received                    0\n",
       "Product                          0\n",
       "Sub-product                 234541\n",
       "Issue                            0\n",
       "Company                     147497\n",
       "State                       173009\n",
       "Consumer consent provided?  174052\n",
       "Submitted via               156052\n",
       "date_from_text                   0\n",
       "CCP                              0\n",
       "SV                               0\n",
       "Sub-pr                           0\n",
       "State_new                        0\n",
       "Date_received                    0\n",
       "Day_of_Week                      0\n",
       "year                             0\n",
       "month                            0"
      ]
     },
     "execution_count": 61,
     "metadata": {},
     "output_type": "execute_result"
    }
   ],
   "source": [
    "data_sub.select([count(when(col(c).isNull(), c)).alias(c) for c in\n",
    "data_sub.columns]).toPandas().T"
   ]
  },
  {
   "cell_type": "code",
   "execution_count": 62,
   "id": "aafc8107-8295-4fd0-96a2-ebbad6fafde7",
   "metadata": {},
   "outputs": [],
   "source": [
    "#16. Vẽ biểu đồ thể hiện tần suất nhận complaint theo ngày trong tuần\n",
    "df = data_sub.select('Day_of_Week').toPandas()"
   ]
  },
  {
   "cell_type": "code",
   "execution_count": 63,
   "id": "1854c0d1-f6fe-487a-acfc-c675aba686eb",
   "metadata": {},
   "outputs": [
    {
     "data": {
      "text/plain": [
       "array([[<Axes: title={'center': 'Day_of_Week'}>]], dtype=object)"
      ]
     },
     "execution_count": 63,
     "metadata": {},
     "output_type": "execute_result"
    },
    {
     "data": {
      "image/png": "[encoded data removed]",
      "text/plain": [
       "<Figure size 640x480 with 1 Axes>"
      ]
     },
     "metadata": {},
     "output_type": "display_data"
    }
   ],
   "source": [
    "df.hist()"
   ]
  },
  {
   "cell_type": "code",
   "execution_count": 64,
   "id": "8a60f402-a90a-4afe-b415-420279b92427",
   "metadata": {},
   "outputs": [],
   "source": [
    "# Khách hàng complaint nhiều nhất vào thứ 4 và thứ 5"
   ]
  },
  {
   "cell_type": "code",
   "execution_count": 65,
   "id": "0d9c3957-ae3c-485c-bf06-fac5083921fe",
   "metadata": {},
   "outputs": [],
   "source": [
    "#17. Hãy cho biết 20 sản phẩm nhận complaint nhiều nhất.\n",
    "# Đó là những sản phẩm nào? Biểu diễn bằng đồ thị.\n",
    "df_products = data_sub.groupby('product').count().orderBy('count',\n",
    "ascending=False).toPandas()"
   ]
  },
  {
   "cell_type": "code",
   "execution_count": 66,
   "id": "5dc01d2c-f786-4efa-8d33-7a0b86b972ee",
   "metadata": {},
   "outputs": [
    {
     "data": {
      "text/html": [
       "<div>\n",
       "<style scoped>\n",
       "    .dataframe tbody tr th:only-of-type {\n",
       "        vertical-align: middle;\n",
       "    }\n",
       "\n",
       "    .dataframe tbody tr th {\n",
       "        vertical-align: top;\n",
       "    }\n",
       "\n",
       "    .dataframe thead th {\n",
       "        text-align: right;\n",
       "    }\n",
       "</style>\n",
       "<table border=\"1\" class=\"dataframe\">\n",
       "  <thead>\n",
       "    <tr style=\"text-align: right;\">\n",
       "      <th></th>\n",
       "      <th>product</th>\n",
       "      <th>count</th>\n",
       "    </tr>\n",
       "  </thead>\n",
       "  <tbody>\n",
       "    <tr>\n",
       "      <th>0</th>\n",
       "      <td>Credit reporting, credit repair services, or o...</td>\n",
       "      <td>331635</td>\n",
       "    </tr>\n",
       "    <tr>\n",
       "      <th>1</th>\n",
       "      <td>Mortgage</td>\n",
       "      <td>295097</td>\n",
       "    </tr>\n",
       "    <tr>\n",
       "      <th>2</th>\n",
       "      <td>Debt collection</td>\n",
       "      <td>278961</td>\n",
       "    </tr>\n",
       "    <tr>\n",
       "      <th>3</th>\n",
       "      <td>Credit reporting</td>\n",
       "      <td>139825</td>\n",
       "    </tr>\n",
       "    <tr>\n",
       "      <th>4</th>\n",
       "      <td>Credit card</td>\n",
       "      <td>89175</td>\n",
       "    </tr>\n",
       "    <tr>\n",
       "      <th>5</th>\n",
       "      <td>Bank account or service</td>\n",
       "      <td>86193</td>\n",
       "    </tr>\n",
       "    <tr>\n",
       "      <th>6</th>\n",
       "      <td>Credit card or prepaid card</td>\n",
       "      <td>67849</td>\n",
       "    </tr>\n",
       "    <tr>\n",
       "      <th>7</th>\n",
       "      <td>Checking or savings account</td>\n",
       "      <td>57461</td>\n",
       "    </tr>\n",
       "    <tr>\n",
       "      <th>8</th>\n",
       "      <td>Student loan</td>\n",
       "      <td>56365</td>\n",
       "    </tr>\n",
       "    <tr>\n",
       "      <th>9</th>\n",
       "      <td>Consumer Loan</td>\n",
       "      <td>31592</td>\n",
       "    </tr>\n",
       "    <tr>\n",
       "      <th>10</th>\n",
       "      <td>Vehicle loan or lease</td>\n",
       "      <td>15540</td>\n",
       "    </tr>\n",
       "    <tr>\n",
       "      <th>11</th>\n",
       "      <td>Money transfer, virtual currency, or money ser...</td>\n",
       "      <td>14165</td>\n",
       "    </tr>\n",
       "    <tr>\n",
       "      <th>12</th>\n",
       "      <td>Payday loan, title loan, or personal loan</td>\n",
       "      <td>11962</td>\n",
       "    </tr>\n",
       "    <tr>\n",
       "      <th>13</th>\n",
       "      <td>Payday loan</td>\n",
       "      <td>5541</td>\n",
       "    </tr>\n",
       "    <tr>\n",
       "      <th>14</th>\n",
       "      <td>Money transfers</td>\n",
       "      <td>5354</td>\n",
       "    </tr>\n",
       "    <tr>\n",
       "      <th>15</th>\n",
       "      <td>Prepaid card</td>\n",
       "      <td>3819</td>\n",
       "    </tr>\n",
       "    <tr>\n",
       "      <th>16</th>\n",
       "      <td>Other financial service</td>\n",
       "      <td>1059</td>\n",
       "    </tr>\n",
       "    <tr>\n",
       "      <th>17</th>\n",
       "      <td>Virtual currency</td>\n",
       "      <td>18</td>\n",
       "    </tr>\n",
       "  </tbody>\n",
       "</table>\n",
       "</div>"
      ],
      "text/plain": [
       "                                              product   count\n",
       "0   Credit reporting, credit repair services, or o...  331635\n",
       "1                                            Mortgage  295097\n",
       "2                                     Debt collection  278961\n",
       "3                                    Credit reporting  139825\n",
       "4                                         Credit card   89175\n",
       "5                             Bank account or service   86193\n",
       "6                         Credit card or prepaid card   67849\n",
       "7                         Checking or savings account   57461\n",
       "8                                        Student loan   56365\n",
       "9                                       Consumer Loan   31592\n",
       "10                              Vehicle loan or lease   15540\n",
       "11  Money transfer, virtual currency, or money ser...   14165\n",
       "12          Payday loan, title loan, or personal loan   11962\n",
       "13                                        Payday loan    5541\n",
       "14                                    Money transfers    5354\n",
       "15                                       Prepaid card    3819\n",
       "16                            Other financial service    1059\n",
       "17                                   Virtual currency      18"
      ]
     },
     "execution_count": 66,
     "metadata": {},
     "output_type": "execute_result"
    }
   ],
   "source": [
    "df_products.head(20)"
   ]
  },
  {
   "cell_type": "code",
   "execution_count": 67,
   "id": "f68d8865-de19-45f0-883c-59f9cf9d2522",
   "metadata": {},
   "outputs": [],
   "source": [
    "import matplotlib.pyplot as plt\n",
    "import seaborn as sns"
   ]
  },
  {
   "cell_type": "code",
   "execution_count": 68,
   "id": "61cfb730-f98d-42bf-92ed-e69513ab5818",
   "metadata": {},
   "outputs": [
    {
     "data": {
      "image/png": "[encoded data removed]",
      "text/plain": [
       "<Figure size 1000x800 with 1 Axes>"
      ]
     },
     "metadata": {},
     "output_type": "display_data"
    }
   ],
   "source": [
    "plt.figure(figsize=(10,8))\n",
    "sns.barplot(data = df_products, x=\"count\", y=\"product\", )\n",
    "plt.show()"
   ]
  },
  {
   "cell_type": "code",
   "execution_count": null,
   "id": "09fe5c1a-9512-4bc6-b600-3bc1bac4ccdf",
   "metadata": {},
   "outputs": [],
   "source": []
  },
  {
   "cell_type": "code",
   "execution_count": null,
   "id": "03bd4844-ba10-4b7e-9b9f-1921b1ac5096",
   "metadata": {},
   "outputs": [],
   "source": []
  }
 ],
 "metadata": {
  "kernelspec": {
   "display_name": "Python 3 (ipykernel)",
   "language": "python",
   "name": "python3"
  },
  "language_info": {
   "codemirror_mode": {
    "name": "ipython",
    "version": 3
   },
   "file_extension": ".py",
   "mimetype": "text/x-python",
   "name": "python",
   "nbconvert_exporter": "python",
   "pygments_lexer": "ipython3",
   "version": "3.9.12"
  }
 },
 "nbformat": 4,
 "nbformat_minor": 5
}
