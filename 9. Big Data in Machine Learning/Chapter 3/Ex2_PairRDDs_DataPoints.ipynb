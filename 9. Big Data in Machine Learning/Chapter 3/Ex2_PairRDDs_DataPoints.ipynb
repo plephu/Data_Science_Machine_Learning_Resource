{
 "cells": [
  {
   "cell_type": "code",
   "execution_count": 1,
   "id": "4fbf03a7-55f2-4e4e-8311-2776f22dfe99",
   "metadata": {},
   "outputs": [],
   "source": [
    "import findspark\n",
    "findspark.init()"
   ]
  },
  {
   "cell_type": "code",
   "execution_count": 2,
   "id": "5f85c213-98b5-495a-b1ef-60e4e52d049a",
   "metadata": {},
   "outputs": [],
   "source": [
    "import pyspark\n",
    "from pyspark import SparkContext\n",
    "from pyspark.sql import SparkSession"
   ]
  },
  {
   "cell_type": "code",
   "execution_count": 3,
   "id": "c41dc6f3-2e7d-4ae5-a9e2-d07fcf78f57b",
   "metadata": {},
   "outputs": [],
   "source": [
    "sc = SparkContext()"
   ]
  },
  {
   "cell_type": "code",
   "execution_count": 4,
   "id": "c77cbcee-b35e-4d90-8fe9-9c9e6cab8ae1",
   "metadata": {},
   "outputs": [
    {
     "name": "stdout",
     "output_type": "stream",
     "text": [
      "The type of data is <class 'pyspark.rdd.RDD'>\n"
     ]
    }
   ],
   "source": [
    "#1.\n",
    "data = sc.textFile(\"5000_points.txt\", minPartitions=3)\n",
    "print(\"The type of data is\", type(data))"
   ]
  },
  {
   "cell_type": "code",
   "execution_count": 5,
   "id": "d77ba880-f00c-46da-bb0d-9b4229d59383",
   "metadata": {},
   "outputs": [
    {
     "name": "stdout",
     "output_type": "stream",
     "text": [
      "Number of elements: 5000\n"
     ]
    }
   ],
   "source": [
    "print(\"Number of elements:\", data.count())"
   ]
  },
  {
   "cell_type": "code",
   "execution_count": 6,
   "id": "cc6a8e05-9a49-4791-978d-4f21d848a94e",
   "metadata": {},
   "outputs": [
    {
     "data": {
      "text/plain": [
       "['664159\\t550946',\n",
       " '665845\\t557965',\n",
       " '597173\\t575538',\n",
       " '618600\\t551446',\n",
       " '635690\\t608046']"
      ]
     },
     "execution_count": 6,
     "metadata": {},
     "output_type": "execute_result"
    }
   ],
   "source": [
    "data.take(5)"
   ]
  },
  {
   "cell_type": "code",
   "execution_count": 7,
   "id": "bc358d77-957d-4fc1-b119-5a881c87d8cb",
   "metadata": {},
   "outputs": [],
   "source": [
    "#2.\n",
    "pair_data = data.map(lambda s: (int(s.split('\\t')[0]), int(s.split('\\t')[1])))"
   ]
  },
  {
   "cell_type": "code",
   "execution_count": 8,
   "id": "9fd2853c-afdd-4b75-b64b-da09476fa3eb",
   "metadata": {},
   "outputs": [
    {
     "data": {
      "text/plain": [
       "[(664159, 550946),\n",
       " (665845, 557965),\n",
       " (597173, 575538),\n",
       " (618600, 551446),\n",
       " (635690, 608046)]"
      ]
     },
     "execution_count": 8,
     "metadata": {},
     "output_type": "execute_result"
    }
   ],
   "source": [
    "pair_data.take(5)"
   ]
  },
  {
   "cell_type": "code",
   "execution_count": 9,
   "id": "5ef4e710-5bde-428d-91c6-445321b8dbb0",
   "metadata": {},
   "outputs": [],
   "source": [
    "#3.\n",
    "pair_data_sort = pair_data.sortByKey(ascending=False)"
   ]
  },
  {
   "cell_type": "code",
   "execution_count": 10,
   "id": "993ac326-c249-40d2-a6e5-16c48a490dab",
   "metadata": {},
   "outputs": [
    {
     "data": {
      "text/plain": [
       "[(961951, 577029),\n",
       " (937823, 540173),\n",
       " (932662, 537069),\n",
       " (927170, 250593),\n",
       " (925732, 210388)]"
      ]
     },
     "execution_count": 10,
     "metadata": {},
     "output_type": "execute_result"
    }
   ],
   "source": [
    "pair_data_sort.take(5)"
   ]
  },
  {
   "cell_type": "code",
   "execution_count": 12,
   "id": "a50ec4ec-272c-4e88-948b-36bd711a5342",
   "metadata": {},
   "outputs": [
    {
     "name": "stdout",
     "output_type": "stream",
     "text": [
      "871544 2\n",
      "865489 2\n",
      "838036 2\n",
      "826192 2\n",
      "805089 2\n",
      "804251 2\n",
      "620330 2\n",
      "618869 2\n",
      "393758 2\n",
      "341966 2\n",
      "338474 2\n",
      "186380 2\n",
      "166973 2\n"
     ]
    }
   ],
   "source": [
    "#4.\n",
    "for key, val in pair_data_sort.countByKey().items():\n",
    "    if val >1:\n",
    "        print(key, val)"
   ]
  },
  {
   "cell_type": "code",
   "execution_count": 13,
   "id": "52adbc75-e6f5-4811-a059-71ba90d863fb",
   "metadata": {},
   "outputs": [],
   "source": [
    "#5.\n",
    "pair_data_groupby = pair_data.groupByKey().collect()"
   ]
  },
  {
   "cell_type": "code",
   "execution_count": 15,
   "id": "5600c8cc-b073-4d7d-bb13-b13aac6b741a",
   "metadata": {},
   "outputs": [
    {
     "name": "stdout",
     "output_type": "stream",
     "text": [
      "805089 [762512, 96540]\n",
      "838036 [749612, 542999]\n",
      "826192 [172906, 577784]\n",
      "865489 [161762, 548920]\n",
      "618869 [577243, 398187]\n",
      "804251 [329956, 331304]\n",
      "393758 [750953, 439738]\n",
      "871544 [144135, 592403]\n",
      "338474 [563350, 564151]\n",
      "341966 [561987, 586266]\n",
      "186380 [363938, 487625]\n",
      "166973 [341636, 334724]\n",
      "620330 [398630, 396776]\n"
     ]
    }
   ],
   "source": [
    "for x, y in pair_data_groupby:\n",
    "    if len(list(y)) > 1:\n",
    "        print(x, list(y))"
   ]
  },
  {
   "cell_type": "code",
   "execution_count": 16,
   "id": "6a85b916-e6ed-439f-b396-4fe97bf9ab2e",
   "metadata": {},
   "outputs": [],
   "source": [
    "#6. \n",
    "import math\n",
    "pair_data_reduce = pair_data.reduceByKey(lambda x, y: max(x,y))"
   ]
  },
  {
   "cell_type": "code",
   "execution_count": 17,
   "id": "3ad75b63-e9f5-48e3-8482-17edcf64e6f8",
   "metadata": {},
   "outputs": [
    {
     "name": "stdout",
     "output_type": "stream",
     "text": [
      "Number of elements: 4987\n"
     ]
    }
   ],
   "source": [
    "print(\"Number of elements:\", pair_data_reduce.count())"
   ]
  },
  {
   "cell_type": "code",
   "execution_count": 18,
   "id": "f74894ae-6fb5-4784-bcfe-b50ff7931109",
   "metadata": {},
   "outputs": [
    {
     "name": "stdout",
     "output_type": "stream",
     "text": [
      "620330 398630\n"
     ]
    }
   ],
   "source": [
    "# check\n",
    "for x, y in pair_data_reduce.collect():\n",
    "    if x==620330:\n",
    "        print(x, y)"
   ]
  },
  {
   "cell_type": "code",
   "execution_count": null,
   "id": "88253570-2c10-4d79-a45e-8afca6f2aa35",
   "metadata": {},
   "outputs": [],
   "source": []
  }
 ],
 "metadata": {
  "kernelspec": {
   "display_name": "Python 3 (ipykernel)",
   "language": "python",
   "name": "python3"
  },
  "language_info": {
   "codemirror_mode": {
    "name": "ipython",
    "version": 3
   },
   "file_extension": ".py",
   "mimetype": "text/x-python",
   "name": "python",
   "nbconvert_exporter": "python",
   "pygments_lexer": "ipython3",
   "version": "3.9.12"
  }
 },
 "nbformat": 4,
 "nbformat_minor": 5
}
