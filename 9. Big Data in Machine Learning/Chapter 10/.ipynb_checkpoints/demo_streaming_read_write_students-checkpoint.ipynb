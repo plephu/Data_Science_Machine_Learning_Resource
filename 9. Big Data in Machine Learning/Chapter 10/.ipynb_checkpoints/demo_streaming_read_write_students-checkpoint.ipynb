{
  "cells": [
    {
      "cell_type": "markdown",
      "id": "03cd1a8f",
      "metadata": {
        "id": "03cd1a8f"
      },
      "source": [
        "# PySpark Streaming demo"
      ]
    },
    {
      "cell_type": "code",
      "source": [
        "!apt update\n",
        "!apt-get install openjdk-11-jdk-headless -qq > /dev/null\n",
        "!wget -q http://archive.apache.org/dist/spark/spark-3.3.0/spark-3.3.0-bin-hadoop3.tgz\n",
        "!tar -xvf spark-3.3.0-bin-hadoop3.tgz\n",
        "!pip install -q findspark\n",
        "import os\n",
        "os.environ[\"JAVA_HOME\"] = \"/usr/lib/jvm/java-11-openjdk-amd64\"\n",
        "os.environ[\"SPARK_HOME\"] = \"/content/spark-3.3.0-bin-hadoop3\""
      ],
      "metadata": {
        "id": "mGWfoyf6unFu"
      },
      "id": "mGWfoyf6unFu",
      "execution_count": null,
      "outputs": []
    },
    {
      "cell_type": "code",
      "execution_count": null,
      "id": "ddf9bd4a",
      "metadata": {
        "id": "ddf9bd4a"
      },
      "outputs": [],
      "source": [
        "import findspark\n",
        "findspark.init()"
      ]
    },
    {
      "cell_type": "code",
      "source": [
        "from google.colab import drive\n",
        "drive.mount('/content/gdrive', force_remount=True)"
      ],
      "metadata": {
        "colab": {
          "base_uri": "https://localhost:8080/"
        },
        "id": "VInh1dO75D8F",
        "outputId": "bdcc4d73-81fa-4c36-9b5a-7b795ce8d767"
      },
      "id": "VInh1dO75D8F",
      "execution_count": null,
      "outputs": [
        {
          "output_type": "stream",
          "name": "stdout",
          "text": [
            "Mounted at /content/gdrive\n"
          ]
        }
      ]
    },
    {
      "cell_type": "code",
      "source": [
        "%cd '/content/gdrive/MyDrive/LDS9/Practice/Chapter10/'"
      ],
      "metadata": {
        "colab": {
          "base_uri": "https://localhost:8080/"
        },
        "id": "4TxnHSSEuyHN",
        "outputId": "700f4c33-d335-4bb4-b53a-94a6d1a2e6e5"
      },
      "id": "4TxnHSSEuyHN",
      "execution_count": null,
      "outputs": [
        {
          "output_type": "stream",
          "name": "stdout",
          "text": [
            "/content/gdrive/MyDrive/LDS9/Practice/Chapter10\n"
          ]
        }
      ]
    },
    {
      "cell_type": "code",
      "execution_count": null,
      "id": "dd3827ea",
      "metadata": {
        "id": "dd3827ea"
      },
      "outputs": [],
      "source": [
        "from pyspark import SparkContext\n",
        "from pyspark.sql import SparkSession\n",
        "from pyspark.streaming import StreamingContext\n",
        "from pyspark.sql import SQLContext\n",
        "from pyspark.sql.functions import desc\n",
        "from pyspark.sql.types import *\n",
        "from pyspark.sql.functions import *"
      ]
    },
    {
      "cell_type": "code",
      "execution_count": null,
      "id": "b8b02305",
      "metadata": {
        "id": "b8b02305"
      },
      "outputs": [],
      "source": [
        "SparkContext.setSystemProperty('spark.hadoop.dfs.client.use.datanode.hostname', 'true')"
      ]
    },
    {
      "cell_type": "code",
      "execution_count": null,
      "id": "b9a19d71",
      "metadata": {
        "id": "b9a19d71"
      },
      "outputs": [],
      "source": [
        "sc = SparkContext()\n",
        "spark = SparkSession(sc)"
      ]
    },
    {
      "cell_type": "code",
      "execution_count": null,
      "id": "7f4c4ad7",
      "metadata": {
        "id": "7f4c4ad7"
      },
      "outputs": [],
      "source": [
        "ssc = StreamingContext(spark.sparkContext, batchDuration=10)"
      ]
    },
    {
      "cell_type": "code",
      "execution_count": null,
      "id": "e88412ab",
      "metadata": {
        "id": "e88412ab"
      },
      "outputs": [],
      "source": [
        "dstream = ssc.textFileStream(\"hdfs://laptrinhpython.net:19000/stream_data\")"
      ]
    },
    {
      "cell_type": "code",
      "execution_count": null,
      "id": "ce803f5e",
      "metadata": {
        "id": "ce803f5e"
      },
      "outputs": [],
      "source": [
        "dstream.pprint()"
      ]
    },
    {
      "cell_type": "code",
      "source": [],
      "metadata": {
        "id": "Qtb7UpcP7g72"
      },
      "id": "Qtb7UpcP7g72",
      "execution_count": null,
      "outputs": []
    },
    {
      "cell_type": "code",
      "source": [],
      "metadata": {
        "id": "dMaqVsJk7hOl"
      },
      "id": "dMaqVsJk7hOl",
      "execution_count": null,
      "outputs": []
    },
    {
      "cell_type": "code",
      "source": [],
      "metadata": {
        "id": "q1LcpW9b7hXE"
      },
      "id": "q1LcpW9b7hXE",
      "execution_count": null,
      "outputs": []
    },
    {
      "cell_type": "code",
      "execution_count": null,
      "id": "7092ecef",
      "metadata": {
        "id": "7092ecef"
      },
      "outputs": [],
      "source": [
        "#ssc.stop()"
      ]
    }
  ],
  "metadata": {
    "kernelspec": {
      "display_name": "Python 3 (ipykernel)",
      "language": "python",
      "name": "python3"
    },
    "language_info": {
      "codemirror_mode": {
        "name": "ipython",
        "version": 3
      },
      "file_extension": ".py",
      "mimetype": "text/x-python",
      "name": "python",
      "nbconvert_exporter": "python",
      "pygments_lexer": "ipython3",
      "version": "3.8.10"
    },
    "colab": {
      "provenance": []
    }
  },
  "nbformat": 4,
  "nbformat_minor": 5
}