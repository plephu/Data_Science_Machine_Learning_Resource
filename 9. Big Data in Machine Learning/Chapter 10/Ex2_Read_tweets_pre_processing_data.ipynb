{
 "cells": [
  {
   "cell_type": "code",
   "execution_count": null,
   "id": "0a7b1f7f-6772-40cb-9de6-6147c526b448",
   "metadata": {},
   "outputs": [],
   "source": [
    "# pip install textblob\n",
    "import csv\n",
    "from textblob import TextBlob"
   ]
  },
  {
   "cell_type": "code",
   "execution_count": null,
   "id": "1f54fa8a-9a00-4b8c-b858-62366836ca80",
   "metadata": {},
   "outputs": [],
   "source": [
    "import pandas as pd"
   ]
  },
  {
   "cell_type": "code",
   "execution_count": null,
   "id": "9e18645f-e355-4629-a94a-116924b9a301",
   "metadata": {},
   "outputs": [],
   "source": [
    "tweetdata = 'tweets_christmas.txt'\n",
    "sentences = []\n",
    "sentiment_polarity = []\n",
    "sentiment_subjectivity = []"
   ]
  },
  {
   "cell_type": "code",
   "execution_count": null,
   "id": "76763342-54d8-45e8-9c30-02de8bff7b99",
   "metadata": {},
   "outputs": [],
   "source": [
    "with open(tweetdata, 'r') as csvfile:\n",
    "    rows = csv.reader(csvfile)\n",
    "    for row in rows:\n",
    "        sentence = row[0]\n",
    "        blob = TextBlob(sentence)\n",
    "        if (\"Error on_data\" not in sentence):\n",
    "            print (sentence)\n",
    "            print (blob.sentiment.polarity, blob.sentiment.subjectivity)\n",
    "            sentences.append(sentence)\n",
    "            sentiment_polarity.append(blob.sentiment.polarity)\n",
    "            sentiment_subjectivity.append(blob.sentiment.subjectivity)"
   ]
  },
  {
   "cell_type": "code",
   "execution_count": null,
   "id": "e93a0f42-a305-4874-b365-e666ed364769",
   "metadata": {},
   "outputs": [],
   "source": [
    "data = pd.DataFrame({\"sentence\": sentences, \n",
    "                     \"sentiment_polarity\":sentiment_polarity,\n",
    "                     \"sentiment_subjectivity\":sentiment_subjectivity\n",
    "                    })"
   ]
  },
  {
   "cell_type": "code",
   "execution_count": null,
   "id": "ca2a7b62-7442-42d1-87d5-e31696af9d44",
   "metadata": {},
   "outputs": [],
   "source": [
    "data = data.drop([0, 1])"
   ]
  },
  {
   "cell_type": "code",
   "execution_count": null,
   "id": "09091a3a-d3e7-4a81-9191-f2d9953b549f",
   "metadata": {},
   "outputs": [],
   "source": [
    "data.sentence = data.sentence.str.replace(\"b'\", \"\")"
   ]
  },
  {
   "cell_type": "code",
   "execution_count": null,
   "id": "ea998e35-9bb1-404c-bfc4-bd0a96ea82fc",
   "metadata": {},
   "outputs": [],
   "source": [
    "data.head()"
   ]
  },
  {
   "cell_type": "code",
   "execution_count": null,
   "id": "cc5d2219-251c-4282-8534-f5eccdafc01a",
   "metadata": {},
   "outputs": [],
   "source": [
    "data.to_csv(\"tweets_christmas.csv\")"
   ]
  },
  {
   "cell_type": "markdown",
   "id": "c13f5a36-6da7-4e6f-b1dd-91d0049d8c6d",
   "metadata": {},
   "source": [
    "### Another solution: Build function to read txt file and convert to csv file"
   ]
  },
  {
   "cell_type": "code",
   "execution_count": null,
   "id": "02e0658d-9209-4de6-a0a4-cf424e637f0f",
   "metadata": {},
   "outputs": [],
   "source": [
    "def read_and_pre_pro(file_in, file_out):\n",
    "    sentences = []\n",
    "    sentiment_polarity = []\n",
    "    sentiment_subjectivity = []\n",
    "    with open(file_in, 'r') as csvfile:\n",
    "        rows = csv.reader(csvfile)\n",
    "        for row in rows:\n",
    "            sentence = row[0]\n",
    "            blob = TextBlob(sentence)\n",
    "            if (\"Error on_data\" not in sentence):\n",
    "                #print (sentence)\n",
    "                #print (blob.sentiment.polarity, blob.sentiment.subjectivity)\n",
    "                sentences.append(sentence)\n",
    "                sentiment_polarity.append(blob.sentiment.polarity)\n",
    "                sentiment_subjectivity.append(blob.sentiment.subjectivity)\n",
    "            data = pd.DataFrame({\"sentence\": sentences, \n",
    "                                 \"sentiment_polarity\":sentiment_polarity,\n",
    "                                 \"sentiment_subjectivity\":sentiment_subjectivity\n",
    "                                }) \n",
    "            data.sentence = data.sentence.str.replace(\"b'\", \"\")\n",
    "            data.to_csv(file_out)"
   ]
  },
  {
   "cell_type": "code",
   "execution_count": null,
   "id": "5fecd350-5d58-46ac-b8fa-4c2891e673b2",
   "metadata": {},
   "outputs": [],
   "source": [
    "file_in = \"tweets_football.txt\"\n",
    "file_out = \"tweets_football.csv\"\n",
    "read_and_pre_pro(file_in, file_out)"
   ]
  },
  {
   "cell_type": "code",
   "execution_count": null,
   "id": "ddf65454-d793-46c2-a939-1d027b2fc44e",
   "metadata": {},
   "outputs": [],
   "source": [
    "df = pd.read_csv(\"tweets_football.csv\", index_col=0)"
   ]
  },
  {
   "cell_type": "code",
   "execution_count": null,
   "id": "613bce85-4685-43d7-a32c-19dd74d39ef9",
   "metadata": {},
   "outputs": [],
   "source": [
    "df.info()"
   ]
  },
  {
   "cell_type": "code",
   "execution_count": null,
   "id": "a71785f4-cf44-4649-b869-2911573756c8",
   "metadata": {},
   "outputs": [],
   "source": [
    "df.head()"
   ]
  },
  {
   "cell_type": "code",
   "execution_count": null,
   "id": "b605968a-7352-4ad9-b3fc-1d4b9db28fb8",
   "metadata": {},
   "outputs": [],
   "source": [
    "indexNames = df[df['sentence'].str.contains(\"Listening on port\")].index \n",
    "# Delete these row indexes from dataFrame\n",
    "df = df.drop(indexNames)"
   ]
  },
  {
   "cell_type": "code",
   "execution_count": null,
   "id": "70439c00-3af1-44c0-8bf7-a9824f3e0cc2",
   "metadata": {},
   "outputs": [],
   "source": [
    "df.info()"
   ]
  },
  {
   "cell_type": "code",
   "execution_count": null,
   "id": "d4751712-95e8-4fef-97e5-1592f28c79ff",
   "metadata": {},
   "outputs": [],
   "source": [
    "df.head()"
   ]
  }
 ],
 "metadata": {
  "kernelspec": {
   "display_name": "Python 3 (ipykernel)",
   "language": "python",
   "name": "python3"
  },
  "language_info": {
   "codemirror_mode": {
    "name": "ipython",
    "version": 3
   },
   "file_extension": ".py",
   "mimetype": "text/x-python",
   "name": "python",
   "nbconvert_exporter": "python",
   "pygments_lexer": "ipython3",
   "version": "3.9.12"
  }
 },
 "nbformat": 4,
 "nbformat_minor": 5
}
