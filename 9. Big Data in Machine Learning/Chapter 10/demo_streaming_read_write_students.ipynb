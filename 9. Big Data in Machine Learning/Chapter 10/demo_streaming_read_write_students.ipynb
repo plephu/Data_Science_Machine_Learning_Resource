{
 "cells": [
  {
   "cell_type": "markdown",
   "id": "03cd1a8f",
   "metadata": {
    "id": "03cd1a8f"
   },
   "source": [
    "# PySpark Streaming demo"
   ]
  },
  {
   "cell_type": "code",
   "execution_count": null,
   "id": "mGWfoyf6unFu",
   "metadata": {
    "id": "mGWfoyf6unFu"
   },
   "outputs": [],
   "source": [
    "# !apt update\n",
    "# !apt-get install openjdk-11-jdk-headless -qq > /dev/null\n",
    "# !wget -q http://archive.apache.org/dist/spark/spark-3.3.0/spark-3.3.0-bin-hadoop3.tgz\n",
    "# !tar -xvf spark-3.3.0-bin-hadoop3.tgz\n",
    "# !pip install -q findspark\n",
    "# import os\n",
    "# os.environ[\"JAVA_HOME\"] = \"/usr/lib/jvm/java-11-openjdk-amd64\"\n",
    "# os.environ[\"SPARK_HOME\"] = \"/content/spark-3.3.0-bin-hadoop3\""
   ]
  },
  {
   "cell_type": "code",
   "execution_count": 1,
   "id": "ddf9bd4a",
   "metadata": {
    "id": "ddf9bd4a"
   },
   "outputs": [],
   "source": [
    "import findspark\n",
    "findspark.init()"
   ]
  },
  {
   "cell_type": "code",
   "execution_count": null,
   "id": "VInh1dO75D8F",
   "metadata": {
    "colab": {
     "base_uri": "https://localhost:8080/"
    },
    "id": "VInh1dO75D8F",
    "outputId": "bdcc4d73-81fa-4c36-9b5a-7b795ce8d767"
   },
   "outputs": [
    {
     "name": "stdout",
     "output_type": "stream",
     "text": [
      "Mounted at /content/gdrive\n"
     ]
    }
   ],
   "source": [
    "# from google.colab import drive\n",
    "# drive.mount('/content/gdrive', force_remount=True)"
   ]
  },
  {
   "cell_type": "code",
   "execution_count": null,
   "id": "4TxnHSSEuyHN",
   "metadata": {
    "colab": {
     "base_uri": "https://localhost:8080/"
    },
    "id": "4TxnHSSEuyHN",
    "outputId": "700f4c33-d335-4bb4-b53a-94a6d1a2e6e5"
   },
   "outputs": [
    {
     "name": "stdout",
     "output_type": "stream",
     "text": [
      "/content/gdrive/MyDrive/LDS9/Practice/Chapter10\n"
     ]
    }
   ],
   "source": [
    "# %cd '/content/gdrive/MyDrive/LDS9/Practice/Chapter10/'"
   ]
  },
  {
   "cell_type": "code",
   "execution_count": 2,
   "id": "dd3827ea",
   "metadata": {
    "id": "dd3827ea"
   },
   "outputs": [],
   "source": [
    "from pyspark import SparkContext\n",
    "from pyspark.sql import SparkSession\n",
    "from pyspark.streaming import StreamingContext\n",
    "from pyspark.sql import SQLContext\n",
    "from pyspark.sql.functions import desc\n",
    "from pyspark.sql.types import *\n",
    "from pyspark.sql.functions import *"
   ]
  },
  {
   "cell_type": "code",
   "execution_count": 3,
   "id": "b8b02305",
   "metadata": {
    "id": "b8b02305"
   },
   "outputs": [],
   "source": [
    "SparkContext.setSystemProperty('spark.hadoop.dfs.client.use.datanode.hostname', 'true')"
   ]
  },
  {
   "cell_type": "code",
   "execution_count": 4,
   "id": "b9a19d71",
   "metadata": {
    "id": "b9a19d71"
   },
   "outputs": [],
   "source": [
    "sc = SparkContext()\n",
    "spark = SparkSession(sc)"
   ]
  },
  {
   "cell_type": "code",
   "execution_count": 5,
   "id": "7f4c4ad7",
   "metadata": {
    "id": "7f4c4ad7"
   },
   "outputs": [
    {
     "name": "stderr",
     "output_type": "stream",
     "text": [
      "C:\\spark\\spark-3.5.0-bin-hadoop3\\python\\pyspark\\streaming\\context.py:72: FutureWarning: DStream is deprecated as of Spark 3.4.0. Migrate to Structured Streaming.\n",
      "  warnings.warn(\n"
     ]
    }
   ],
   "source": [
    "ssc = StreamingContext(spark.sparkContext, batchDuration=10)"
   ]
  },
  {
   "cell_type": "code",
   "execution_count": 7,
   "id": "e88412ab",
   "metadata": {
    "id": "e88412ab"
   },
   "outputs": [],
   "source": [
    "dstream = ssc.textFileStream(\"hdfs://laptrinhpython.net:19000/stream_data\")"
   ]
  },
  {
   "cell_type": "code",
   "execution_count": 8,
   "id": "ce803f5e",
   "metadata": {
    "id": "ce803f5e"
   },
   "outputs": [],
   "source": [
    "dstream.pprint()"
   ]
  },
  {
   "cell_type": "code",
   "execution_count": 9,
   "id": "Qtb7UpcP7g72",
   "metadata": {
    "id": "Qtb7UpcP7g72"
   },
   "outputs": [],
   "source": [
    "def process_rdd(rdd):\n",
    "    if rdd.isEmpty():\n",
    "        print(\"Nothing was read\")\n",
    "    else:\n",
    "        print(\"Number of records were read:\", rdd.count())\n",
    "\n",
    "# Assuming you have a DStream named 'dstream'\n",
    "dstream.foreachRDD(process_rdd)"
   ]
  },
  {
   "cell_type": "code",
   "execution_count": 10,
   "id": "dMaqVsJk7hOl",
   "metadata": {
    "id": "dMaqVsJk7hOl"
   },
   "outputs": [],
   "source": [
    "def save_to_csv(rdd):\n",
    "    if not rdd.isEmpty():\n",
    "        df = spark.read.csv(rdd, header=True)\n",
    "        df.write.mode(\"append\").csv(\"output_full\", header=True)\n",
    "\n",
    "dstream.foreachRDD(save_to_csv)"
   ]
  },
  {
   "cell_type": "code",
   "execution_count": null,
   "id": "q1LcpW9b7hXE",
   "metadata": {
    "id": "q1LcpW9b7hXE"
   },
   "outputs": [
    {
     "name": "stdout",
     "output_type": "stream",
     "text": [
      "-------------------------------------------\n",
      "Time: 2023-11-25 11:50:50\n",
      "-------------------------------------------\n",
      "\n",
      "Nothing was read\n",
      "-------------------------------------------\n",
      "Time: 2023-11-25 11:51:00\n",
      "-------------------------------------------\n",
      "\n",
      "Nothing was read\n",
      "-------------------------------------------\n",
      "Time: 2023-11-25 11:51:10\n",
      "-------------------------------------------\n",
      "\n",
      "Nothing was read\n",
      "-------------------------------------------\n",
      "Time: 2023-11-25 11:51:20\n",
      "-------------------------------------------\n",
      "\n",
      "Nothing was read\n",
      "-------------------------------------------\n",
      "Time: 2023-11-25 11:51:30\n",
      "-------------------------------------------\n",
      "\n",
      "Nothing was read\n",
      "-------------------------------------------\n",
      "Time: 2023-11-25 11:51:40\n",
      "-------------------------------------------\n",
      "\n",
      "Nothing was read\n",
      "-------------------------------------------\n",
      "Time: 2023-11-25 11:51:50\n",
      "-------------------------------------------\n",
      "\n",
      "Nothing was read\n",
      "-------------------------------------------\n",
      "Time: 2023-11-25 11:52:00\n",
      "-------------------------------------------\n",
      "\n",
      "Nothing was read\n",
      "-------------------------------------------\n",
      "Time: 2023-11-25 11:52:10\n",
      "-------------------------------------------\n",
      "\n",
      "Nothing was read\n",
      "-------------------------------------------\n",
      "Time: 2023-11-25 11:52:20\n",
      "-------------------------------------------\n",
      "\n",
      "Nothing was read\n",
      "-------------------------------------------\n",
      "Time: 2023-11-25 11:52:30\n",
      "-------------------------------------------\n",
      "\n",
      "Nothing was read\n",
      "-------------------------------------------\n",
      "Time: 2023-11-25 11:52:40\n",
      "-------------------------------------------\n",
      "\n",
      "Nothing was read\n",
      "-------------------------------------------\n",
      "Time: 2023-11-25 11:52:50\n",
      "-------------------------------------------\n",
      "\n",
      "Nothing was read\n",
      "-------------------------------------------\n",
      "Time: 2023-11-25 11:53:00\n",
      "-------------------------------------------\n",
      "\n",
      "Nothing was read\n",
      "-------------------------------------------\n",
      "Time: 2023-11-25 11:53:10\n",
      "-------------------------------------------\n",
      "\n",
      "Nothing was read\n",
      "-------------------------------------------\n",
      "Time: 2023-11-25 11:53:20\n",
      "-------------------------------------------\n",
      "\n",
      "Nothing was read\n",
      "-------------------------------------------\n",
      "Time: 2023-11-25 11:53:30\n",
      "-------------------------------------------\n",
      "\n",
      "Nothing was read\n",
      "-------------------------------------------\n",
      "Time: 2023-11-25 11:53:40\n",
      "-------------------------------------------\n",
      "\n",
      "Nothing was read\n",
      "-------------------------------------------\n",
      "Time: 2023-11-25 11:53:50\n",
      "-------------------------------------------\n",
      "\n",
      "Nothing was read\n",
      "-------------------------------------------\n",
      "Time: 2023-11-25 11:54:00\n",
      "-------------------------------------------\n",
      "\n",
      "Nothing was read\n",
      "-------------------------------------------\n",
      "Time: 2023-11-25 11:54:10\n",
      "-------------------------------------------\n",
      "\n",
      "Nothing was read\n",
      "-------------------------------------------\n",
      "Time: 2023-11-25 11:54:20\n",
      "-------------------------------------------\n",
      "\n",
      "Nothing was read\n",
      "-------------------------------------------\n",
      "Time: 2023-11-25 11:54:30\n",
      "-------------------------------------------\n",
      "\n",
      "Nothing was read\n",
      "-------------------------------------------\n",
      "Time: 2023-11-25 11:54:40\n",
      "-------------------------------------------\n",
      "\n",
      "Nothing was read\n",
      "-------------------------------------------\n",
      "Time: 2023-11-25 11:54:50\n",
      "-------------------------------------------\n",
      "\n",
      "Nothing was read\n",
      "-------------------------------------------\n",
      "Time: 2023-11-25 11:55:00\n",
      "-------------------------------------------\n",
      "\n",
      "Nothing was read\n",
      "-------------------------------------------\n",
      "Time: 2023-11-25 11:55:10\n",
      "-------------------------------------------\n",
      "\n",
      "Nothing was read\n",
      "-------------------------------------------\n",
      "Time: 2023-11-25 11:55:20\n",
      "-------------------------------------------\n",
      "\n",
      "Nothing was read\n",
      "-------------------------------------------\n",
      "Time: 2023-11-25 11:55:30\n",
      "-------------------------------------------\n",
      "\n",
      "Nothing was read\n",
      "-------------------------------------------\n",
      "Time: 2023-11-25 11:55:40\n",
      "-------------------------------------------\n",
      "\n",
      "Nothing was read\n",
      "-------------------------------------------\n",
      "Time: 2023-11-25 11:55:50\n",
      "-------------------------------------------\n",
      "\n",
      "Nothing was read\n",
      "-------------------------------------------\n",
      "Time: 2023-11-25 11:56:00\n",
      "-------------------------------------------\n",
      "\n",
      "Nothing was read\n",
      "-------------------------------------------\n",
      "Time: 2023-11-25 11:56:10\n",
      "-------------------------------------------\n",
      "\n",
      "Nothing was read\n",
      "-------------------------------------------\n",
      "Time: 2023-11-25 11:56:20\n",
      "-------------------------------------------\n",
      "\n",
      "Nothing was read\n",
      "-------------------------------------------\n",
      "Time: 2023-11-25 11:56:30\n",
      "-------------------------------------------\n",
      "\n",
      "Nothing was read\n",
      "-------------------------------------------\n",
      "Time: 2023-11-25 11:56:40\n",
      "-------------------------------------------\n",
      "\n",
      "Nothing was read\n",
      "-------------------------------------------\n",
      "Time: 2023-11-25 11:56:50\n",
      "-------------------------------------------\n",
      "\n",
      "Nothing was read\n",
      "-------------------------------------------\n",
      "Time: 2023-11-25 11:57:00\n",
      "-------------------------------------------\n",
      "\n",
      "Nothing was read\n",
      "-------------------------------------------\n",
      "Time: 2023-11-25 11:57:10\n",
      "-------------------------------------------\n",
      "\n",
      "Nothing was read\n",
      "-------------------------------------------\n",
      "Time: 2023-11-25 11:57:20\n",
      "-------------------------------------------\n",
      "\n",
      "Nothing was read\n",
      "-------------------------------------------\n",
      "Time: 2023-11-25 11:57:30\n",
      "-------------------------------------------\n",
      "\n",
      "Nothing was read\n",
      "-------------------------------------------\n",
      "Time: 2023-11-25 11:57:40\n",
      "-------------------------------------------\n",
      "\n",
      "Nothing was read\n",
      "-------------------------------------------\n",
      "Time: 2023-11-25 11:57:50\n",
      "-------------------------------------------\n",
      "\n",
      "Nothing was read\n",
      "-------------------------------------------\n",
      "Time: 2023-11-25 11:58:00\n",
      "-------------------------------------------\n",
      "\n",
      "Nothing was read\n",
      "-------------------------------------------\n",
      "Time: 2023-11-25 11:58:10\n",
      "-------------------------------------------\n",
      "\n",
      "Nothing was read\n",
      "-------------------------------------------\n",
      "Time: 2023-11-25 11:58:20\n",
      "-------------------------------------------\n",
      "\n",
      "Nothing was read\n"
     ]
    }
   ],
   "source": [
    "ssc.start()\n",
    "ssc.awaitTermination()"
   ]
  },
  {
   "cell_type": "code",
   "execution_count": null,
   "id": "7092ecef",
   "metadata": {
    "id": "7092ecef"
   },
   "outputs": [],
   "source": [
    "#ssc.stop()"
   ]
  }
 ],
 "metadata": {
  "colab": {
   "provenance": []
  },
  "kernelspec": {
   "display_name": "Python 3 (ipykernel)",
   "language": "python",
   "name": "python3"
  },
  "language_info": {
   "codemirror_mode": {
    "name": "ipython",
    "version": 3
   },
   "file_extension": ".py",
   "mimetype": "text/x-python",
   "name": "python",
   "nbconvert_exporter": "python",
   "pygments_lexer": "ipython3",
   "version": "3.9.12"
  }
 },
 "nbformat": 4,
 "nbformat_minor": 5
}
