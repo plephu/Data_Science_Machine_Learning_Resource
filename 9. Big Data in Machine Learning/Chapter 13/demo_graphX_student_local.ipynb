{
 "cells": [
  {
   "cell_type": "code",
   "execution_count": 1,
   "metadata": {
    "id": "NWMQj7heYRBZ"
   },
   "outputs": [],
   "source": [
    "import findspark\n",
    "findspark.init()"
   ]
  },
  {
   "cell_type": "code",
   "execution_count": 2,
   "metadata": {
    "id": "eNQ4aeEwYRBa"
   },
   "outputs": [],
   "source": [
    "import pyspark\n",
    "import os"
   ]
  },
  {
   "cell_type": "code",
   "execution_count": 3,
   "metadata": {
    "id": "8HYclaUYYRBa",
    "outputId": "bd746404-ae3a-46ea-f959-aafdf99de5bd"
   },
   "outputs": [
    {
     "name": "stdout",
     "output_type": "stream",
     "text": [
      "[('spark.driver.port', '54994'), ('spark.driver.memory', '12g'), ('spark.app.startTime', '1700888341002'), ('spark.app.id', 'local-1700888342737'), ('spark.executor.id', 'driver'), ('spark.app.name', 'pyspark-shell'), ('spark.executor.memory', '12g'), ('spark.executor.heartbeatInterval', '10000000'), ('spark.driver.host', 'PLPhu'), ('spark.driver.extraJavaOptions', '-Djava.net.preferIPv6Addresses=false -XX:+IgnoreUnrecognizedVMOptions --add-opens=java.base/java.lang=ALL-UNNAMED --add-opens=java.base/java.lang.invoke=ALL-UNNAMED --add-opens=java.base/java.lang.reflect=ALL-UNNAMED --add-opens=java.base/java.io=ALL-UNNAMED --add-opens=java.base/java.net=ALL-UNNAMED --add-opens=java.base/java.nio=ALL-UNNAMED --add-opens=java.base/java.util=ALL-UNNAMED --add-opens=java.base/java.util.concurrent=ALL-UNNAMED --add-opens=java.base/java.util.concurrent.atomic=ALL-UNNAMED --add-opens=java.base/sun.nio.ch=ALL-UNNAMED --add-opens=java.base/sun.nio.cs=ALL-UNNAMED --add-opens=java.base/sun.security.action=ALL-UNNAMED --add-opens=java.base/sun.util.calendar=ALL-UNNAMED --add-opens=java.security.jgss/sun.security.krb5=ALL-UNNAMED -Djdk.reflect.useDirectMethodHandle=false'), ('spark.serializer', 'org.apache.spark.serializer.KryoSerializer'), ('spark.kryoserializer.buffer.max', '2047m'), ('spark.rdd.compress', 'True'), ('spark.app.submitTime', '1700888340810'), ('spark.serializer.objectStreamReset', '100'), ('spark.master', 'local[*]'), ('spark.submit.pyFiles', ''), ('spark.submit.deployMode', 'client'), ('spark.network.timeout', '10000000'), ('spark.ui.showConsoleProgress', 'true'), ('spark.executor.extraJavaOptions', '-Djava.net.preferIPv6Addresses=false -XX:+IgnoreUnrecognizedVMOptions --add-opens=java.base/java.lang=ALL-UNNAMED --add-opens=java.base/java.lang.invoke=ALL-UNNAMED --add-opens=java.base/java.lang.reflect=ALL-UNNAMED --add-opens=java.base/java.io=ALL-UNNAMED --add-opens=java.base/java.net=ALL-UNNAMED --add-opens=java.base/java.nio=ALL-UNNAMED --add-opens=java.base/java.util=ALL-UNNAMED --add-opens=java.base/java.util.concurrent=ALL-UNNAMED --add-opens=java.base/java.util.concurrent.atomic=ALL-UNNAMED --add-opens=java.base/sun.nio.ch=ALL-UNNAMED --add-opens=java.base/sun.nio.cs=ALL-UNNAMED --add-opens=java.base/sun.security.action=ALL-UNNAMED --add-opens=java.base/sun.util.calendar=ALL-UNNAMED --add-opens=java.security.jgss/sun.security.krb5=ALL-UNNAMED -Djdk.reflect.useDirectMethodHandle=false')]\n"
     ]
    }
   ],
   "source": [
    "conf = pyspark.SparkConf()\n",
    "sc = pyspark.SparkContext(conf=conf)\n",
    "print(sc._conf.getAll())"
   ]
  },
  {
   "cell_type": "code",
   "execution_count": 4,
   "metadata": {
    "id": "g8csDH90YRBb"
   },
   "outputs": [],
   "source": [
    "from pyspark.sql import *"
   ]
  },
  {
   "cell_type": "markdown",
   "metadata": {
    "id": "LS5RH-PZYRBc"
   },
   "source": [
    "### Tạo graph"
   ]
  },
  {
   "cell_type": "code",
   "execution_count": 5,
   "metadata": {
    "id": "NwBPmJsFYRBd"
   },
   "outputs": [],
   "source": [
    "from graphframes import *"
   ]
  },
  {
   "cell_type": "code",
   "execution_count": 6,
   "metadata": {
    "id": "FoBT7MV6YRBd"
   },
   "outputs": [],
   "source": [
    "spark = SparkSession(sc)"
   ]
  },
  {
   "cell_type": "code",
   "execution_count": 7,
   "metadata": {
    "id": "ZHIyvOjeYRBe"
   },
   "outputs": [],
   "source": [
    "vertices = spark.createDataFrame([('1', 'Carter', 50),\n",
    "                                  ('2', 'May', 26),\n",
    "                                 ('3', 'Mills', 80),\n",
    "                                  ('4', 'Hood', 65),\n",
    "                                  ('5', 'Banks', 93),\n",
    "                                 ('98', 'Berg', 28),\n",
    "                                 ('99', 'Page', 16)],\n",
    "                                 ['id', 'name', 'age'])\n",
    "edges = spark.createDataFrame([('1', '2', 'friend'),\n",
    "                               ('1', '98', 'friend'),\n",
    "                               ('2', '1', 'friend'),\n",
    "                              ('3', '1', 'friend'),\n",
    "                              ('1', '3', 'friend'),\n",
    "                               ('2', '3', 'follows'),\n",
    "                               ('3', '4', 'friend'),\n",
    "                               ('4', '3', 'friend'),\n",
    "                               ('5', '3', 'friend'),\n",
    "                               ('3', '5', 'friend'),\n",
    "                               ('4', '5', 'follows'),\n",
    "                              ('98', '99', 'friend'),\n",
    "                              ('99', '98', 'friend')],\n",
    "                              ['src', 'dst', 'type'])"
   ]
  },
  {
   "cell_type": "code",
   "execution_count": 8,
   "metadata": {},
   "outputs": [
    {
     "name": "stderr",
     "output_type": "stream",
     "text": [
      "C:\\spark\\spark-3.5.0-bin-hadoop3\\python\\pyspark\\sql\\dataframe.py:168: UserWarning: DataFrame.sql_ctx is an internal property, and will be removed in future releases. Use DataFrame.sparkSession instead.\n",
      "  warnings.warn(\n"
     ]
    }
   ],
   "source": [
    "g = GraphFrame(vertices, edges)"
   ]
  },
  {
   "cell_type": "code",
   "execution_count": 9,
   "metadata": {},
   "outputs": [
    {
     "name": "stdout",
     "output_type": "stream",
     "text": [
      "+---+------+---+\n",
      "| id|  name|age|\n",
      "+---+------+---+\n",
      "|  1|Carter| 50|\n",
      "|  2|   May| 26|\n",
      "|  3| Mills| 80|\n",
      "|  4|  Hood| 65|\n",
      "|  5| Banks| 93|\n",
      "| 98|  Berg| 28|\n",
      "| 99|  Page| 16|\n",
      "+---+------+---+\n",
      "\n"
     ]
    }
   ],
   "source": [
    "g.vertices.show()"
   ]
  },
  {
   "cell_type": "code",
   "execution_count": 10,
   "metadata": {},
   "outputs": [
    {
     "name": "stdout",
     "output_type": "stream",
     "text": [
      "+---+---+-------+\n",
      "|src|dst|   type|\n",
      "+---+---+-------+\n",
      "|  1|  2| friend|\n",
      "|  1| 98| friend|\n",
      "|  2|  1| friend|\n",
      "|  3|  1| friend|\n",
      "|  1|  3| friend|\n",
      "|  2|  3|follows|\n",
      "|  3|  4| friend|\n",
      "|  4|  3| friend|\n",
      "|  5|  3| friend|\n",
      "|  3|  5| friend|\n",
      "|  4|  5|follows|\n",
      "| 98| 99| friend|\n",
      "| 99| 98| friend|\n",
      "+---+---+-------+\n",
      "\n"
     ]
    }
   ],
   "source": [
    "g.edges.show()"
   ]
  },
  {
   "cell_type": "code",
   "execution_count": 11,
   "metadata": {},
   "outputs": [
    {
     "name": "stderr",
     "output_type": "stream",
     "text": [
      "C:\\spark\\spark-3.5.0-bin-hadoop3\\python\\pyspark\\sql\\dataframe.py:147: UserWarning: DataFrame constructor is internal. Do not directly use it.\n",
      "  warnings.warn(\"DataFrame constructor is internal. Do not directly use it.\")\n"
     ]
    },
    {
     "name": "stdout",
     "output_type": "stream",
     "text": [
      "+---+------+\n",
      "| id|degree|\n",
      "+---+------+\n",
      "|  1|     5|\n",
      "|  2|     3|\n",
      "| 98|     3|\n",
      "|  3|     7|\n",
      "|  4|     3|\n",
      "|  5|     3|\n",
      "| 99|     2|\n",
      "+---+------+\n",
      "\n"
     ]
    }
   ],
   "source": [
    "g.degrees.show()"
   ]
  },
  {
   "cell_type": "code",
   "execution_count": 13,
   "metadata": {},
   "outputs": [
    {
     "name": "stdout",
     "output_type": "stream",
     "text": [
      "+---+--------+\n",
      "| id|inDegree|\n",
      "+---+--------+\n",
      "|  2|       1|\n",
      "| 98|       2|\n",
      "|  1|       2|\n",
      "|  3|       4|\n",
      "|  4|       1|\n",
      "|  5|       2|\n",
      "| 99|       1|\n",
      "+---+--------+\n",
      "\n"
     ]
    }
   ],
   "source": [
    "g.inDegrees.show()"
   ]
  },
  {
   "cell_type": "code",
   "execution_count": 14,
   "metadata": {},
   "outputs": [
    {
     "name": "stdout",
     "output_type": "stream",
     "text": [
      "+---+---------+\n",
      "| id|outDegree|\n",
      "+---+---------+\n",
      "|  1|        3|\n",
      "|  2|        2|\n",
      "|  3|        3|\n",
      "|  4|        2|\n",
      "|  5|        1|\n",
      "| 98|        1|\n",
      "| 99|        1|\n",
      "+---+---------+\n",
      "\n"
     ]
    }
   ],
   "source": [
    "g.outDegrees.show()"
   ]
  },
  {
   "cell_type": "code",
   "execution_count": 15,
   "metadata": {},
   "outputs": [],
   "source": [
    "import networkx as nx\n",
    "import matplotlib.pyplot as plt"
   ]
  },
  {
   "cell_type": "code",
   "execution_count": 16,
   "metadata": {},
   "outputs": [],
   "source": [
    "def PlotGraph(edge_list):\n",
    "    Gplot=nx.Graph()\n",
    "    for row in edge_list.select('src','dst').take(100):\n",
    "        Gplot.add_edge(row['src'],row['dst'])\n",
    "\n",
    "    nx.draw(Gplot, with_labels=True, font_weight='bold')\n"
   ]
  },
  {
   "cell_type": "code",
   "execution_count": 17,
   "metadata": {},
   "outputs": [
    {
     "data": {
      "image/png": "[encoded data removed]",
      "text/plain": [
       "<Figure size 640x480 with 1 Axes>"
      ]
     },
     "metadata": {},
     "output_type": "display_data"
    }
   ],
   "source": [
    "PlotGraph(g.edges)"
   ]
  },
  {
   "cell_type": "code",
   "execution_count": null,
   "metadata": {},
   "outputs": [],
   "source": [
    "# note: nếu bị lỗi AttributeError: module 'matplotlib.cbook' has no attribute 'iterable'\n",
    "# thì Downgrade matplotlib version to 2.2.3: pip install matplotlib==2.2.3"
   ]
  },
  {
   "cell_type": "code",
   "execution_count": 18,
   "metadata": {},
   "outputs": [
    {
     "name": "stdout",
     "output_type": "stream",
     "text": [
      "+---+------+---+\n",
      "| id|  name|age|\n",
      "+---+------+---+\n",
      "|  1|Carter| 50|\n",
      "|  3| Mills| 80|\n",
      "|  4|  Hood| 65|\n",
      "|  5| Banks| 93|\n",
      "+---+------+---+\n",
      "\n"
     ]
    }
   ],
   "source": [
    "g.vertices.filter(\"age > 30\").show()\n"
   ]
  },
  {
   "cell_type": "code",
   "execution_count": 20,
   "metadata": {},
   "outputs": [
    {
     "name": "stdout",
     "output_type": "stream",
     "text": [
      "+---+--------+\n",
      "| id|inDegree|\n",
      "+---+--------+\n",
      "|  3|       4|\n",
      "| 98|       2|\n",
      "|  1|       2|\n",
      "|  5|       2|\n",
      "+---+--------+\n",
      "\n"
     ]
    }
   ],
   "source": [
    "g.inDegrees.filter(\"inDegree >= 2\")\\\n",
    "                    .sort(\"inDegree\", ascending=False)\\\n",
    "                    .show()\n"
   ]
  },
  {
   "cell_type": "code",
   "execution_count": 21,
   "metadata": {},
   "outputs": [
    {
     "name": "stdout",
     "output_type": "stream",
     "text": [
      "+---+---+------+\n",
      "|src|dst|  type|\n",
      "+---+---+------+\n",
      "|  1|  2|friend|\n",
      "|  1| 98|friend|\n",
      "|  2|  1|friend|\n",
      "|  3|  1|friend|\n",
      "|  1|  3|friend|\n",
      "|  3|  4|friend|\n",
      "|  4|  3|friend|\n",
      "|  5|  3|friend|\n",
      "|  3|  5|friend|\n",
      "| 98| 99|friend|\n",
      "| 99| 98|friend|\n",
      "+---+---+------+\n",
      "\n"
     ]
    }
   ],
   "source": [
    "g.edges.filter('type == \"friend\"').show()"
   ]
  },
  {
   "cell_type": "code",
   "execution_count": 22,
   "metadata": {},
   "outputs": [],
   "source": [
    "sc.setCheckpointDir('graphframes_cps')"
   ]
  },
  {
   "cell_type": "code",
   "execution_count": 23,
   "metadata": {},
   "outputs": [
    {
     "name": "stdout",
     "output_type": "stream",
     "text": [
      "+---+------+---+---------+\n",
      "| id|  name|age|component|\n",
      "+---+------+---+---------+\n",
      "|  1|Carter| 50|        0|\n",
      "|  2|   May| 26|        0|\n",
      "|  3| Mills| 80|        0|\n",
      "|  4|  Hood| 65|        0|\n",
      "|  5| Banks| 93|        0|\n",
      "| 98|  Berg| 28|        0|\n",
      "| 99|  Page| 16|        0|\n",
      "+---+------+---+---------+\n",
      "\n"
     ]
    }
   ],
   "source": [
    "g.connectedComponents().show()"
   ]
  },
  {
   "cell_type": "code",
   "execution_count": 24,
   "metadata": {},
   "outputs": [],
   "source": [
    "# Chỉ có 1 component trong đồ thị"
   ]
  },
  {
   "cell_type": "code",
   "execution_count": 25,
   "metadata": {},
   "outputs": [],
   "source": [
    "mutualFriends = g.find(\"(a)-[]->(b); (b)-[]->(c); (c)-[]->(b); (b)-[]->(a)\").dropDuplicates()"
   ]
  },
  {
   "cell_type": "code",
   "execution_count": 26,
   "metadata": {},
   "outputs": [
    {
     "name": "stdout",
     "output_type": "stream",
     "text": [
      "+---------------+---------------+---------------+\n",
      "|              a|              b|              c|\n",
      "+---------------+---------------+---------------+\n",
      "|{1, Carter, 50}|   {2, May, 26}|{1, Carter, 50}|\n",
      "| {5, Banks, 93}| {3, Mills, 80}|{1, Carter, 50}|\n",
      "| {5, Banks, 93}| {3, Mills, 80}| {5, Banks, 93}|\n",
      "| {98, Berg, 28}| {99, Page, 16}| {98, Berg, 28}|\n",
      "|{1, Carter, 50}| {3, Mills, 80}|{1, Carter, 50}|\n",
      "|   {2, May, 26}|{1, Carter, 50}| {3, Mills, 80}|\n",
      "|  {4, Hood, 65}| {3, Mills, 80}|{1, Carter, 50}|\n",
      "|   {2, May, 26}|{1, Carter, 50}|   {2, May, 26}|\n",
      "| {3, Mills, 80}|  {4, Hood, 65}| {3, Mills, 80}|\n",
      "| {3, Mills, 80}| {5, Banks, 93}| {3, Mills, 80}|\n",
      "|  {4, Hood, 65}| {3, Mills, 80}|  {4, Hood, 65}|\n",
      "| {3, Mills, 80}|{1, Carter, 50}| {3, Mills, 80}|\n",
      "|  {4, Hood, 65}| {3, Mills, 80}| {5, Banks, 93}|\n",
      "|{1, Carter, 50}| {3, Mills, 80}| {5, Banks, 93}|\n",
      "| {5, Banks, 93}| {3, Mills, 80}|  {4, Hood, 65}|\n",
      "| {3, Mills, 80}|{1, Carter, 50}|   {2, May, 26}|\n",
      "|{1, Carter, 50}| {3, Mills, 80}|  {4, Hood, 65}|\n",
      "| {99, Page, 16}| {98, Berg, 28}| {99, Page, 16}|\n",
      "+---------------+---------------+---------------+\n",
      "\n"
     ]
    }
   ],
   "source": [
    "mutualFriends.show()"
   ]
  },
  {
   "cell_type": "code",
   "execution_count": 27,
   "metadata": {},
   "outputs": [
    {
     "name": "stdout",
     "output_type": "stream",
     "text": [
      "+------------+---------------+--------------+\n",
      "|           a|              b|             c|\n",
      "+------------+---------------+--------------+\n",
      "|{2, May, 26}|{1, Carter, 50}|{3, Mills, 80}|\n",
      "+------------+---------------+--------------+\n",
      "\n"
     ]
    }
   ],
   "source": [
    "mutualFriends.filter('a.id == 2 and c.id == 3').show()"
   ]
  },
  {
   "cell_type": "code",
   "execution_count": 28,
   "metadata": {},
   "outputs": [
    {
     "name": "stdout",
     "output_type": "stream",
     "text": [
      "+-----+---+------+---+\n",
      "|count| id|  name|age|\n",
      "+-----+---+------+---+\n",
      "|    1|  1|Carter| 50|\n",
      "|    1|  2|   May| 26|\n",
      "|    2|  3| Mills| 80|\n",
      "|    1|  4|  Hood| 65|\n",
      "|    1|  5| Banks| 93|\n",
      "|    0| 98|  Berg| 28|\n",
      "|    0| 99|  Page| 16|\n",
      "+-----+---+------+---+\n",
      "\n"
     ]
    }
   ],
   "source": [
    "g.triangleCount().show()"
   ]
  },
  {
   "cell_type": "code",
   "execution_count": 29,
   "metadata": {},
   "outputs": [
    {
     "name": "stderr",
     "output_type": "stream",
     "text": [
      "C:\\spark\\spark-3.5.0-bin-hadoop3\\python\\pyspark\\sql\\dataframe.py:168: UserWarning: DataFrame.sql_ctx is an internal property, and will be removed in future releases. Use DataFrame.sparkSession instead.\n",
      "  warnings.warn(\n"
     ]
    }
   ],
   "source": [
    "pr = g.pageRank(resetProbability=0.15, tol=0.01)"
   ]
  },
  {
   "cell_type": "code",
   "execution_count": 30,
   "metadata": {},
   "outputs": [
    {
     "name": "stdout",
     "output_type": "stream",
     "text": [
      "+---+------+---+------------------+\n",
      "| id|  name|age|          pagerank|\n",
      "+---+------+---+------------------+\n",
      "|  1|Carter| 50|0.6799541646597174|\n",
      "|  2|   May| 26|0.3505290564027432|\n",
      "|  3| Mills| 80| 1.360269120202177|\n",
      "|  4|  Hood| 65|0.5442781769957595|\n",
      "|  5| Banks| 93|0.7695218034237804|\n",
      "| 98|  Berg| 28| 1.693795983443179|\n",
      "| 99|  Page| 16|1.6016516948726431|\n",
      "+---+------+---+------------------+\n",
      "\n"
     ]
    }
   ],
   "source": [
    "pr.vertices.show()"
   ]
  },
  {
   "cell_type": "code",
   "execution_count": 31,
   "metadata": {},
   "outputs": [
    {
     "name": "stdout",
     "output_type": "stream",
     "text": [
      "+---+---+-------+------------------+\n",
      "|src|dst|   type|            weight|\n",
      "+---+---+-------+------------------+\n",
      "|  1|  2| friend|0.3333333333333333|\n",
      "|  1|  3| friend|0.3333333333333333|\n",
      "|  1| 98| friend|0.3333333333333333|\n",
      "|  2|  1| friend|               0.5|\n",
      "|  2|  3|follows|               0.5|\n",
      "|  3|  1| friend|0.3333333333333333|\n",
      "|  3|  4| friend|0.3333333333333333|\n",
      "|  3|  5| friend|0.3333333333333333|\n",
      "|  4|  3| friend|               0.5|\n",
      "|  4|  5|follows|               0.5|\n",
      "|  5|  3| friend|               1.0|\n",
      "| 98| 99| friend|               1.0|\n",
      "| 99| 98| friend|               1.0|\n",
      "+---+---+-------+------------------+\n",
      "\n"
     ]
    }
   ],
   "source": [
    "pr.edges.show() "
   ]
  },
  {
   "cell_type": "code",
   "execution_count": null,
   "metadata": {},
   "outputs": [],
   "source": []
  },
  {
   "cell_type": "code",
   "execution_count": null,
   "metadata": {},
   "outputs": [],
   "source": []
  },
  {
   "cell_type": "code",
   "execution_count": null,
   "metadata": {},
   "outputs": [],
   "source": []
  }
 ],
 "metadata": {
  "colab": {
   "provenance": []
  },
  "kernelspec": {
   "display_name": "Python 3 (ipykernel)",
   "language": "python",
   "name": "python3"
  },
  "language_info": {
   "codemirror_mode": {
    "name": "ipython",
    "version": 3
   },
   "file_extension": ".py",
   "mimetype": "text/x-python",
   "name": "python",
   "nbconvert_exporter": "python",
   "pygments_lexer": "ipython3",
   "version": "3.9.12"
  }
 },
 "nbformat": 4,
 "nbformat_minor": 4
}
