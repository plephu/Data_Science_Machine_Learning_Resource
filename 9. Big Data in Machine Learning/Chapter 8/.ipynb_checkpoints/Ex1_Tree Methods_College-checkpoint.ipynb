{
 "cells": [
  {
   "cell_type": "code",
   "execution_count": 1,
   "id": "1f0696b3-c46a-4719-8200-4be12ef2b71c",
   "metadata": {},
   "outputs": [],
   "source": [
    "import findspark\n",
    "findspark.init()"
   ]
  },
  {
   "cell_type": "code",
   "execution_count": 2,
   "id": "1cac06b8-6a44-4314-86dd-7aacefa57720",
   "metadata": {},
   "outputs": [],
   "source": [
    "from pyspark.sql import SparkSession\n",
    "spark = SparkSession.builder.appName('treecode').getOrCreate()"
   ]
  },
  {
   "cell_type": "code",
   "execution_count": 3,
   "id": "15cc161c-8432-4684-86c1-bb93e8f0fc8c",
   "metadata": {},
   "outputs": [],
   "source": [
    "# Load training data\n",
    "data = spark.read.csv('College.csv',inferSchema=True,header=True)"
   ]
  },
  {
   "cell_type": "code",
   "execution_count": 4,
   "id": "e339ff66-c6d4-41bb-9dfd-80e1e01cfd0e",
   "metadata": {},
   "outputs": [
    {
     "data": {
      "text/plain": [
       "777"
      ]
     },
     "execution_count": 4,
     "metadata": {},
     "output_type": "execute_result"
    }
   ],
   "source": [
    "data.count()"
   ]
  },
  {
   "cell_type": "code",
   "execution_count": 5,
   "id": "f1516933-51fc-4d28-a577-8df5853418c8",
   "metadata": {},
   "outputs": [
    {
     "name": "stdout",
     "output_type": "stream",
     "text": [
      "root\n",
      " |-- School: string (nullable = true)\n",
      " |-- Private: string (nullable = true)\n",
      " |-- Apps: integer (nullable = true)\n",
      " |-- Accept: integer (nullable = true)\n",
      " |-- Enroll: integer (nullable = true)\n",
      " |-- Top10perc: integer (nullable = true)\n",
      " |-- Top25perc: integer (nullable = true)\n",
      " |-- F_Undergrad: integer (nullable = true)\n",
      " |-- P_Undergrad: integer (nullable = true)\n",
      " |-- Outstate: integer (nullable = true)\n",
      " |-- Room_Board: integer (nullable = true)\n",
      " |-- Books: integer (nullable = true)\n",
      " |-- Personal: integer (nullable = true)\n",
      " |-- PhD: integer (nullable = true)\n",
      " |-- Terminal: integer (nullable = true)\n",
      " |-- S_F_Ratio: double (nullable = true)\n",
      " |-- perc_alumni: integer (nullable = true)\n",
      " |-- Expend: integer (nullable = true)\n",
      " |-- Grad_Rate: integer (nullable = true)\n",
      "\n"
     ]
    }
   ],
   "source": [
    "data.printSchema()"
   ]
  },
  {
   "cell_type": "code",
   "execution_count": 6,
   "id": "2e6ace17-fe64-4148-9edf-7f59ac3fcd6b",
   "metadata": {},
   "outputs": [
    {
     "data": {
      "text/plain": [
       "Row(School='Abilene Christian University', Private='Yes', Apps=1660, Accept=1232, Enroll=721, Top10perc=23, Top25perc=52, F_Undergrad=2885, P_Undergrad=537, Outstate=7440, Room_Board=3300, Books=450, Personal=2200, PhD=70, Terminal=78, S_F_Ratio=18.1, perc_alumni=12, Expend=7041, Grad_Rate=60)"
      ]
     },
     "execution_count": 6,
     "metadata": {},
     "output_type": "execute_result"
    }
   ],
   "source": [
    "data.head()"
   ]
  },
  {
   "cell_type": "markdown",
   "id": "e47503c2-81ec-4db1-a3b1-bea8505ffb87",
   "metadata": {},
   "source": [
    "### Spark Formatting of Data"
   ]
  },
  {
   "cell_type": "code",
   "execution_count": 7,
   "id": "1036c4cb-02e3-4010-bdab-d41ea86b7c93",
   "metadata": {},
   "outputs": [],
   "source": [
    "# It needs to be in the form of two columns\n",
    "# (\"label\",\"features\")\n",
    "# Import VectorAssembler and Vectors\n",
    "from pyspark.ml.linalg import Vectors\n",
    "from pyspark.ml.feature import VectorAssembler"
   ]
  },
  {
   "cell_type": "code",
   "execution_count": 8,
   "id": "11725a6d-9fc8-4b7a-9b10-6708818a4f06",
   "metadata": {},
   "outputs": [
    {
     "data": {
      "text/plain": [
       "['School',\n",
       " 'Private',\n",
       " 'Apps',\n",
       " 'Accept',\n",
       " 'Enroll',\n",
       " 'Top10perc',\n",
       " 'Top25perc',\n",
       " 'F_Undergrad',\n",
       " 'P_Undergrad',\n",
       " 'Outstate',\n",
       " 'Room_Board',\n",
       " 'Books',\n",
       " 'Personal',\n",
       " 'PhD',\n",
       " 'Terminal',\n",
       " 'S_F_Ratio',\n",
       " 'perc_alumni',\n",
       " 'Expend',\n",
       " 'Grad_Rate']"
      ]
     },
     "execution_count": 8,
     "metadata": {},
     "output_type": "execute_result"
    }
   ],
   "source": [
    "data.columns"
   ]
  },
  {
   "cell_type": "code",
   "execution_count": 9,
   "id": "845f93ed-149e-4d04-8c8a-156f9c607ca0",
   "metadata": {},
   "outputs": [],
   "source": [
    "assembler=VectorAssembler(\n",
    "    inputCols=['Apps',\n",
    "               'Accept',\n",
    "               'Enroll',\n",
    "               'Top10perc',\n",
    "               'Top25perc',\n",
    "               'F_Undergrad',\n",
    "               'P_Undergrad',\n",
    "               'Outstate',\n",
    "               'Room_Board',\n",
    "               'Books',\n",
    "               'Personal',\n",
    "               'PhD',\n",
    "               'Terminal',\n",
    "               'S_F_Ratio',\n",
    "               'perc_alumni',\n",
    "               'Expend',\n",
    "               'Grad_Rate'],\n",
    "    outputCol=\"features\")"
   ]
  },
  {
   "cell_type": "code",
   "execution_count": 10,
   "id": "aedb4c2b-be11-4fd9-8615-f99cceba321a",
   "metadata": {},
   "outputs": [],
   "source": [
    "output = assembler.transform(data)"
   ]
  },
  {
   "cell_type": "markdown",
   "id": "5aab2ecc-6f74-49b8-83c1-09b847390ef3",
   "metadata": {},
   "source": [
    "Deal with Private column being \"yes\" or \"no\"\n"
   ]
  },
  {
   "cell_type": "code",
   "execution_count": 11,
   "id": "1538a61d-76e7-49ee-aa9e-67c6be3413d2",
   "metadata": {},
   "outputs": [],
   "source": [
    "from pyspark.ml.feature import StringIndexer"
   ]
  },
  {
   "cell_type": "code",
   "execution_count": 12,
   "id": "848ccaa4-f499-4ba4-bcf3-3c80da2081e4",
   "metadata": {},
   "outputs": [],
   "source": [
    "indexer = StringIndexer(inputCol=\"Private\", outputCol=\"PrivateIndex\")\n",
    "output_fixed = indexer.fit(output).transform(output)"
   ]
  },
  {
   "cell_type": "code",
   "execution_count": 13,
   "id": "9e469ddb-42fe-4d44-8bd5-ac4c4db1acaf",
   "metadata": {},
   "outputs": [],
   "source": [
    "final_data = output_fixed.select(\"features\",'PrivateIndex')"
   ]
  },
  {
   "cell_type": "code",
   "execution_count": 14,
   "id": "f40e337b-c1a6-4618-a5bc-a804c85ef1a2",
   "metadata": {},
   "outputs": [],
   "source": [
    "train_data,test_data = final_data.randomSplit([0.7,0.3])"
   ]
  },
  {
   "cell_type": "markdown",
   "id": "258c0d5b-5bd1-43fc-a4bc-fc73b22a7728",
   "metadata": {},
   "source": [
    "### The Classifiers\n"
   ]
  },
  {
   "cell_type": "code",
   "execution_count": 15,
   "id": "7550bb10-b193-45c5-9448-83b3cee474c4",
   "metadata": {},
   "outputs": [],
   "source": [
    "from pyspark.ml.classification import DecisionTreeClassifier\n",
    "from pyspark.ml.classification import GBTClassifier,RandomForestClassifier\n",
    "from pyspark.ml import Pipeline"
   ]
  },
  {
   "cell_type": "markdown",
   "id": "7f0723fa-3865-4aea-a3d7-104bff88925f",
   "metadata": {},
   "source": [
    "Create all three models:\n"
   ]
  },
  {
   "cell_type": "code",
   "execution_count": 16,
   "id": "cc63785e-d799-4b97-881f-ceb843bb08a6",
   "metadata": {},
   "outputs": [],
   "source": [
    "# Use mostly defaults to make this comparison \"fair\"\n",
    "dtc = DecisionTreeClassifier(labelCol='PrivateIndex',featuresCol='features')\n",
    "rfc = RandomForestClassifier(labelCol='PrivateIndex',featuresCol='features')\n",
    "gbt = GBTClassifier(labelCol='PrivateIndex',featuresCol='features')"
   ]
  },
  {
   "cell_type": "markdown",
   "id": "46a18ef2-4ad0-4388-a65a-309cde727341",
   "metadata": {},
   "source": [
    "Train all three models:\n"
   ]
  },
  {
   "cell_type": "code",
   "execution_count": 17,
   "id": "f00d8d3b-7dae-4bd9-8b4b-8f0edab681df",
   "metadata": {},
   "outputs": [],
   "source": [
    "# Train the models (its three models, so it might take some time)\n",
    "dtc_model = dtc.fit(train_data)\n",
    "rfc_model = rfc.fit(train_data)\n",
    "gbt_model = gbt.fit(train_data)"
   ]
  },
  {
   "cell_type": "markdown",
   "id": "ed7adf63-31c5-4a90-b39b-c7532eaeb424",
   "metadata": {},
   "source": [
    "### Model Comparison"
   ]
  },
  {
   "cell_type": "markdown",
   "id": "779e1f7f-00fc-4867-8d87-21907f5a438c",
   "metadata": {},
   "source": [
    "Let's compare each of these models!\n"
   ]
  },
  {
   "cell_type": "code",
   "execution_count": 18,
   "id": "2492bb0e-103e-4a9b-920b-3b85887955dd",
   "metadata": {},
   "outputs": [],
   "source": [
    "dtc_predictions = dtc_model.transform(test_data)\n",
    "rfc_predictions = rfc_model.transform(test_data)\n",
    "gbt_predictions = gbt_model.transform(test_data)"
   ]
  },
  {
   "cell_type": "markdown",
   "id": "7582ca5b-590a-4f87-8200-707ea6c51c69",
   "metadata": {},
   "source": [
    "#### Evaluation Metrics:"
   ]
  },
  {
   "cell_type": "code",
   "execution_count": 19,
   "id": "39526dd6-4b89-4090-b191-2b08ff1d2ff4",
   "metadata": {},
   "outputs": [],
   "source": [
    "from pyspark.ml.evaluation import MulticlassClassificationEvaluator"
   ]
  },
  {
   "cell_type": "code",
   "execution_count": 20,
   "id": "10dd67dd-8b75-4a3d-96e1-d21dd74d9af7",
   "metadata": {},
   "outputs": [],
   "source": [
    "# Select (prediction, true label) and compute test error\n",
    "acc_evaluator = MulticlassClassificationEvaluator(labelCol=\"PrivateIndex\", \n",
    "                                                  predictionCol=\"prediction\", \n",
    "                                                  metricName=\"accuracy\")"
   ]
  },
  {
   "cell_type": "code",
   "execution_count": 21,
   "id": "6cd90f02-35f1-4593-b77b-0331d64903dc",
   "metadata": {},
   "outputs": [],
   "source": [
    "dtc_acc = acc_evaluator.evaluate(dtc_predictions)\n",
    "rfc_acc = acc_evaluator.evaluate(rfc_predictions)\n",
    "gbt_acc = acc_evaluator.evaluate(gbt_predictions)"
   ]
  },
  {
   "cell_type": "code",
   "execution_count": 22,
   "id": "3bf71847-652f-4d88-8ff1-f33bf61013b4",
   "metadata": {},
   "outputs": [
    {
     "name": "stdout",
     "output_type": "stream",
     "text": [
      "Results:\n",
      "--------------------------------------------------------------------------------\n",
      "A single decision tree - accuracy: 90.74%\n",
      "--------------------------------------------------------------------------------\n",
      "A random forest ensemble - accuracy: 95.37%\n",
      "--------------------------------------------------------------------------------\n",
      "A ensemble using GBT - accuracy: 89.81%\n"
     ]
    }
   ],
   "source": [
    "print(\"Results:\")\n",
    "print('-'*80)\n",
    "print('A single decision tree - accuracy: {0:2.2f}%'.format(dtc_acc*100))\n",
    "print('-'*80)\n",
    "print('A random forest ensemble - accuracy: {0:2.2f}%'.format(rfc_acc*100))\n",
    "print('-'*80)\n",
    "print('A ensemble using GBT - accuracy: {0:2.2f}%'.format(gbt_acc*100))"
   ]
  }
 ],
 "metadata": {
  "kernelspec": {
   "display_name": "Python 3 (ipykernel)",
   "language": "python",
   "name": "python3"
  },
  "language_info": {
   "codemirror_mode": {
    "name": "ipython",
    "version": 3
   },
   "file_extension": ".py",
   "mimetype": "text/x-python",
   "name": "python",
   "nbconvert_exporter": "python",
   "pygments_lexer": "ipython3",
   "version": "3.9.12"
  }
 },
 "nbformat": 4,
 "nbformat_minor": 5
}
