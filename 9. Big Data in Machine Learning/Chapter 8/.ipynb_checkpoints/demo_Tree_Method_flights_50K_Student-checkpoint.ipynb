{
 "cells": [
  {
   "cell_type": "code",
   "execution_count": 1,
   "metadata": {
    "id": "fvcDodVT7D7u"
   },
   "outputs": [],
   "source": [
    "# !apt update\n",
    "# !apt-get install openjdk-11-jdk-headless -qq > /dev/null\n",
    "# !wget -q http://archive.apache.org/dist/spark/spark-3.3.0/spark-3.3.0-bin-hadoop3.tgz\n",
    "# !tar -xvf spark-3.3.0-bin-hadoop3.tgz\n",
    "# !pip install -q findspark\n",
    "# import os\n",
    "# os.environ[\"JAVA_HOME\"] = \"/usr/lib/jvm/java-11-openjdk-amd64\"\n",
    "# os.environ[\"SPARK_HOME\"] = \"/content/spark-3.3.0-bin-hadoop3\"\n",
    "import findspark\n",
    "findspark.init()"
   ]
  },
  {
   "cell_type": "code",
   "execution_count": null,
   "metadata": {
    "colab": {
     "base_uri": "https://localhost:8080/"
    },
    "id": "Bf7rWxky7Jj-",
    "outputId": "fccc0242-f7e2-40ea-b4b0-4cbcf21ec959"
   },
   "outputs": [
    {
     "name": "stdout",
     "output_type": "stream",
     "text": [
      "Mounted at /content/gdrive\n"
     ]
    }
   ],
   "source": [
    "# from google.colab import drive\n",
    "# drive.mount('/content/gdrive', force_remount=True)"
   ]
  },
  {
   "cell_type": "code",
   "execution_count": null,
   "metadata": {
    "colab": {
     "base_uri": "https://localhost:8080/"
    },
    "id": "aegZ4pZd7KGs",
    "outputId": "54a7ca53-b941-443d-b41e-45673eced721"
   },
   "outputs": [
    {
     "name": "stdout",
     "output_type": "stream",
     "text": [
      "/content/gdrive/My Drive/LDS9/Practice/Chapter8\n"
     ]
    }
   ],
   "source": [
    "# %cd '/content/gdrive/My Drive/LDS9/Practice/Chapter8/'"
   ]
  },
  {
   "cell_type": "markdown",
   "metadata": {
    "id": "JwC2Nr5RR2LC"
   },
   "source": [
    "# Demo Tree Model"
   ]
  },
  {
   "cell_type": "markdown",
   "metadata": {
    "id": "awc-2kK0R2LD"
   },
   "source": [
    "### Dataset: flights.csv\n",
    "- You'll build a regression model to predict flight delay or not\n",
    "- With 'mon', 'dom', 'dow', 'carrier_idx', 'org_idx', 'km', 'depart', 'duration' as a predictor"
   ]
  },
  {
   "cell_type": "markdown",
   "metadata": {
    "id": "Sdn8c0h0R2LD"
   },
   "source": [
    "First thing to do is start a Spark Session"
   ]
  },
  {
   "cell_type": "code",
   "execution_count": 2,
   "metadata": {
    "id": "it0eeUpcR2LH"
   },
   "outputs": [],
   "source": [
    "import pyspark"
   ]
  },
  {
   "cell_type": "code",
   "execution_count": 3,
   "metadata": {
    "id": "OreDvnvPR2LJ"
   },
   "outputs": [],
   "source": [
    "from pyspark import SparkContext\n",
    "from pyspark.conf import SparkConf\n",
    "from pyspark.sql import SparkSession\n",
    "from pyspark.sql.functions import round\n",
    "from pyspark.ml.feature import StringIndexer, OneHotEncoder\n",
    "from pyspark.ml.linalg import Vectors\n",
    "from pyspark.ml.feature import VectorAssembler"
   ]
  },
  {
   "cell_type": "code",
   "execution_count": 4,
   "metadata": {
    "id": "sckUTQOsR2LM"
   },
   "outputs": [],
   "source": [
    "spark = SparkSession.builder.appName('Tree_demo').getOrCreate()"
   ]
  },
  {
   "cell_type": "code",
   "execution_count": 5,
   "metadata": {
    "id": "UVnE-S3rR2LO"
   },
   "outputs": [],
   "source": [
    "# Use Spark to read flights.csv file.\n",
    "data = spark.read.csv(\"flights.csv\",inferSchema=True,header=True)"
   ]
  },
  {
   "cell_type": "code",
   "execution_count": 6,
   "metadata": {
    "colab": {
     "base_uri": "https://localhost:8080/"
    },
    "id": "pz5UpQ9tR2LQ",
    "outputId": "a5965633-b23f-4387-dbf3-8b4b4e46377b"
   },
   "outputs": [
    {
     "name": "stdout",
     "output_type": "stream",
     "text": [
      "root\n",
      " |-- mon: integer (nullable = true)\n",
      " |-- dom: integer (nullable = true)\n",
      " |-- dow: integer (nullable = true)\n",
      " |-- carrier: string (nullable = true)\n",
      " |-- flight: integer (nullable = true)\n",
      " |-- org: string (nullable = true)\n",
      " |-- mile: integer (nullable = true)\n",
      " |-- depart: double (nullable = true)\n",
      " |-- duration: integer (nullable = true)\n",
      " |-- delay: string (nullable = true)\n",
      "\n"
     ]
    }
   ],
   "source": [
    "# Print the Schema of the DataFrame\n",
    "data.printSchema()"
   ]
  },
  {
   "cell_type": "code",
   "execution_count": 7,
   "metadata": {
    "colab": {
     "base_uri": "https://localhost:8080/"
    },
    "id": "IsxKkZvnR2LT",
    "outputId": "fb8bfe32-e0ec-4413-a8a3-b12a89d17f85"
   },
   "outputs": [
    {
     "name": "stdout",
     "output_type": "stream",
     "text": [
      "+---+---+---+-------+------+---+----+------+--------+-----+\n",
      "|mon|dom|dow|carrier|flight|org|mile|depart|duration|delay|\n",
      "+---+---+---+-------+------+---+----+------+--------+-----+\n",
      "| 11| 20|  6|     US|    19|JFK|2153|  9.48|     351|   NA|\n",
      "|  0| 22|  2|     UA|  1107|ORD| 316| 16.33|      82|   30|\n",
      "|  2| 20|  4|     UA|   226|SFO| 337|  6.17|      82|   -8|\n",
      "+---+---+---+-------+------+---+----+------+--------+-----+\n",
      "only showing top 3 rows\n",
      "\n"
     ]
    }
   ],
   "source": [
    "data.show(3)"
   ]
  },
  {
   "cell_type": "code",
   "execution_count": 8,
   "metadata": {
    "colab": {
     "base_uri": "https://localhost:8080/"
    },
    "id": "Vt0zISVmR2LV",
    "outputId": "dba33319-805e-4c78-9e71-66b61a9b8e67"
   },
   "outputs": [
    {
     "data": {
      "text/plain": [
       "Row(mon=11, dom=20, dow=6, carrier='US', flight=19, org='JFK', mile=2153, depart=9.48, duration=351, delay='NA')"
      ]
     },
     "execution_count": 8,
     "metadata": {},
     "output_type": "execute_result"
    }
   ],
   "source": [
    "data.head()"
   ]
  },
  {
   "cell_type": "code",
   "execution_count": 9,
   "metadata": {
    "id": "aVW5oJbAR2LY"
   },
   "outputs": [],
   "source": [
    "# for item in data.head():\n",
    "#     print(item)"
   ]
  },
  {
   "cell_type": "code",
   "execution_count": 10,
   "metadata": {
    "colab": {
     "base_uri": "https://localhost:8080/"
    },
    "id": "Xmgtp7BrR2Lb",
    "outputId": "753dacbb-1de2-4bff-da3f-2e505d081cef"
   },
   "outputs": [
    {
     "data": {
      "text/plain": [
       "50000"
      ]
     },
     "execution_count": 10,
     "metadata": {},
     "output_type": "execute_result"
    }
   ],
   "source": [
    "data.count()"
   ]
  },
  {
   "cell_type": "code",
   "execution_count": 11,
   "metadata": {
    "id": "RxJ71KYWR2Ld"
   },
   "outputs": [],
   "source": [
    "# Remove the 'flight' column\n",
    "data = data.drop('flight')"
   ]
  },
  {
   "cell_type": "code",
   "execution_count": 12,
   "metadata": {
    "colab": {
     "base_uri": "https://localhost:8080/"
    },
    "id": "WMG3SWC_R2Lf",
    "outputId": "0cf0e209-e9cb-4f75-b024-8f4bee410b1a"
   },
   "outputs": [
    {
     "data": {
      "text/plain": [
       "0"
      ]
     },
     "execution_count": 12,
     "metadata": {},
     "output_type": "execute_result"
    }
   ],
   "source": [
    "# Number of records with missing 'delay' values\n",
    "data.filter('delay IS NULL').count()"
   ]
  },
  {
   "cell_type": "code",
   "execution_count": 13,
   "metadata": {
    "id": "HbCunsjhR2Li"
   },
   "outputs": [],
   "source": [
    "# Remove records with missing 'delay' values\n",
    "data = data.filter('delay IS NOT NULL')"
   ]
  },
  {
   "cell_type": "code",
   "execution_count": 14,
   "metadata": {
    "colab": {
     "base_uri": "https://localhost:8080/"
    },
    "id": "w1aOzJQ8R2Lk",
    "outputId": "76dfb357-e2a2-40a4-8e2f-b3f04fcf2211"
   },
   "outputs": [
    {
     "data": {
      "text/plain": [
       "50000"
      ]
     },
     "execution_count": 14,
     "metadata": {},
     "output_type": "execute_result"
    }
   ],
   "source": [
    "# Remove records with missing values in any column and get the number of remaining rows\n",
    "data = data.na.drop()\n",
    "data.count()"
   ]
  },
  {
   "cell_type": "code",
   "execution_count": 15,
   "metadata": {
    "id": "RqURa8-YR2Lm"
   },
   "outputs": [],
   "source": [
    "# Import the required function\n",
    "from pyspark.sql.functions import round"
   ]
  },
  {
   "cell_type": "code",
   "execution_count": 16,
   "metadata": {
    "id": "uDUHI8xkR2Lo"
   },
   "outputs": [],
   "source": [
    "# Convert 'mile' to 'km' and drop 'mile' column\n",
    "data = data.withColumn('km', round(data.mile * 1.60934, 0))"
   ]
  },
  {
   "cell_type": "code",
   "execution_count": 17,
   "metadata": {
    "colab": {
     "base_uri": "https://localhost:8080/"
    },
    "id": "SlikOkPBR2Lr",
    "outputId": "37613c00-2b52-49f7-9a21-03ec24def7f2"
   },
   "outputs": [
    {
     "name": "stdout",
     "output_type": "stream",
     "text": [
      "+---+---+---+-------+---+----+------+--------+-----+------+-----+\n",
      "|mon|dom|dow|carrier|org|mile|depart|duration|delay|    km|label|\n",
      "+---+---+---+-------+---+----+------+--------+-----+------+-----+\n",
      "| 11| 20|  6|     US|JFK|2153|  9.48|     351|   NA|3465.0| NULL|\n",
      "|  0| 22|  2|     UA|ORD| 316| 16.33|      82|   30| 509.0|    1|\n",
      "|  2| 20|  4|     UA|SFO| 337|  6.17|      82|   -8| 542.0|    0|\n",
      "+---+---+---+-------+---+----+------+--------+-----+------+-----+\n",
      "only showing top 3 rows\n",
      "\n"
     ]
    }
   ],
   "source": [
    "# Create 'label' column indicating whether flight delayed (1) or not (0)\n",
    "data = data.withColumn('label', (data.delay >= 0).cast('integer'))\n",
    "# Check first five records\n",
    "data.show(3)"
   ]
  },
  {
   "cell_type": "markdown",
   "metadata": {
    "id": "5_TRGWh-R2Lt"
   },
   "source": [
    "## Categories data"
   ]
  },
  {
   "cell_type": "code",
   "execution_count": 18,
   "metadata": {
    "id": "-gTwydfvR2Lt"
   },
   "outputs": [],
   "source": [
    "from pyspark.ml.feature import StringIndexer, OneHotEncoder"
   ]
  },
  {
   "cell_type": "code",
   "execution_count": 19,
   "metadata": {
    "id": "wrtgPrSDR2Lw"
   },
   "outputs": [],
   "source": [
    "# Create an indexer\n",
    "indexer = StringIndexer(inputCol='carrier', outputCol='carrier_idx')\n",
    "indexer_model = indexer.fit(data)\n",
    "data_indexed = indexer_model.transform(data)\n",
    "\n",
    "# Repeat the process for the other categorical feature\n",
    "data_indexed = StringIndexer(inputCol='org',\n",
    "                             outputCol='org_idx').fit(data_indexed).transform(data_indexed)\n",
    "\n",
    "# Create an encoder\n",
    "data_indexed = OneHotEncoder(inputCol=\"carrier_idx\",\n",
    "                        outputCol=\"carrier_vec\",\n",
    "                        dropLast=True).fit(data_indexed).transform(data_indexed)\n",
    "\n",
    "data_indexed = OneHotEncoder(inputCol=\"org_idx\",\n",
    "                        outputCol=\"org_vec\",\n",
    "                        dropLast=True).fit(data_indexed).transform(data_indexed)"
   ]
  },
  {
   "cell_type": "code",
   "execution_count": 20,
   "metadata": {
    "colab": {
     "base_uri": "https://localhost:8080/"
    },
    "id": "InbXrHLzR2Ly",
    "outputId": "9fb48abb-0f1c-456f-d731-30860751e54e"
   },
   "outputs": [
    {
     "name": "stdout",
     "output_type": "stream",
     "text": [
      "+---+---+---+-------+---+----+------+--------+-----+------+-----+-----------+-------+-------------+-------------+\n",
      "|mon|dom|dow|carrier|org|mile|depart|duration|delay|    km|label|carrier_idx|org_idx|  carrier_vec|      org_vec|\n",
      "+---+---+---+-------+---+----+------+--------+-----+------+-----+-----------+-------+-------------+-------------+\n",
      "| 11| 20|  6|     US|JFK|2153|  9.48|     351|   NA|3465.0| NULL|        6.0|    2.0|(8,[6],[1.0])|(7,[2],[1.0])|\n",
      "|  0| 22|  2|     UA|ORD| 316| 16.33|      82|   30| 509.0|    1|        0.0|    0.0|(8,[0],[1.0])|(7,[0],[1.0])|\n",
      "|  2| 20|  4|     UA|SFO| 337|  6.17|      82|   -8| 542.0|    0|        0.0|    1.0|(8,[0],[1.0])|(7,[1],[1.0])|\n",
      "+---+---+---+-------+---+----+------+--------+-----+------+-----+-----------+-------+-------------+-------------+\n",
      "only showing top 3 rows\n",
      "\n"
     ]
    }
   ],
   "source": [
    "data_indexed.show(3)"
   ]
  },
  {
   "cell_type": "markdown",
   "metadata": {
    "id": "afYvBXQzR2L0"
   },
   "source": [
    "## Setting Up DataFrame for Machine Learning"
   ]
  },
  {
   "cell_type": "markdown",
   "metadata": {
    "id": "AZ_-3LFKR2L0"
   },
   "source": [
    "## Assembling columns"
   ]
  },
  {
   "cell_type": "code",
   "execution_count": 21,
   "metadata": {
    "id": "0g8J-G4cR2L1"
   },
   "outputs": [],
   "source": [
    "from pyspark.ml.linalg import Vectors\n",
    "from pyspark.ml.feature import VectorAssembler"
   ]
  },
  {
   "cell_type": "code",
   "execution_count": 22,
   "metadata": {
    "colab": {
     "base_uri": "https://localhost:8080/"
    },
    "id": "C2DCNjCmR2L3",
    "outputId": "20ec75d9-4399-4995-e00e-acf37754a123"
   },
   "outputs": [
    {
     "data": {
      "text/plain": [
       "['mon',\n",
       " 'dom',\n",
       " 'dow',\n",
       " 'carrier',\n",
       " 'org',\n",
       " 'mile',\n",
       " 'depart',\n",
       " 'duration',\n",
       " 'delay',\n",
       " 'km',\n",
       " 'label',\n",
       " 'carrier_idx',\n",
       " 'org_idx',\n",
       " 'carrier_vec',\n",
       " 'org_vec']"
      ]
     },
     "execution_count": 22,
     "metadata": {},
     "output_type": "execute_result"
    }
   ],
   "source": [
    "data_indexed.columns"
   ]
  },
  {
   "cell_type": "code",
   "execution_count": 23,
   "metadata": {
    "id": "Oy0aQ7v5R2L4"
   },
   "outputs": [],
   "source": [
    "# Create an assembler object\n",
    "assembler = VectorAssembler(inputCols=[\n",
    "    'mon', 'dom', 'dow', 'carrier_vec', 'org_vec', 'km', 'depart', 'duration'\n",
    "], outputCol='features')"
   ]
  },
  {
   "cell_type": "code",
   "execution_count": 24,
   "metadata": {
    "id": "71Zgv3GXR2L7"
   },
   "outputs": [],
   "source": [
    "data_pre = assembler.transform(data_indexed)"
   ]
  },
  {
   "cell_type": "code",
   "execution_count": 25,
   "metadata": {
    "colab": {
     "base_uri": "https://localhost:8080/"
    },
    "id": "9xzPcDMRR2L9",
    "outputId": "f8795a5b-73b2-4a14-8150-c8b25c2a9e18"
   },
   "outputs": [
    {
     "name": "stdout",
     "output_type": "stream",
     "text": [
      "+--------------------------------------------------------------------+-----+\n",
      "|features                                                            |label|\n",
      "+--------------------------------------------------------------------+-----+\n",
      "|(21,[0,1,2,9,13,18,19,20],[11.0,20.0,6.0,1.0,1.0,3465.0,9.48,351.0])|NULL |\n",
      "|(21,[1,2,3,11,18,19,20],[22.0,2.0,1.0,1.0,509.0,16.33,82.0])        |1    |\n",
      "+--------------------------------------------------------------------+-----+\n",
      "only showing top 2 rows\n",
      "\n"
     ]
    }
   ],
   "source": [
    "# Check the resulting column\n",
    "data_pre.select('features', 'label').show(2, truncate=False)"
   ]
  },
  {
   "cell_type": "code",
   "execution_count": 26,
   "metadata": {
    "colab": {
     "base_uri": "https://localhost:8080/"
    },
    "id": "RuPfIPrqR2L_",
    "outputId": "711e2e3d-ce1c-42e5-b540-05eb49fc974e"
   },
   "outputs": [
    {
     "name": "stdout",
     "output_type": "stream",
     "text": [
      "+---+---+---+-------+---+----+------+--------+-----+------+-----+-----------+-------+-------------+-------------+--------------------------------------------------------------------+\n",
      "|mon|dom|dow|carrier|org|mile|depart|duration|delay|km    |label|carrier_idx|org_idx|carrier_vec  |org_vec      |features                                                            |\n",
      "+---+---+---+-------+---+----+------+--------+-----+------+-----+-----------+-------+-------------+-------------+--------------------------------------------------------------------+\n",
      "|11 |20 |6  |US     |JFK|2153|9.48  |351     |NA   |3465.0|NULL |6.0        |2.0    |(8,[6],[1.0])|(7,[2],[1.0])|(21,[0,1,2,9,13,18,19,20],[11.0,20.0,6.0,1.0,1.0,3465.0,9.48,351.0])|\n",
      "|0  |22 |2  |UA     |ORD|316 |16.33 |82      |30   |509.0 |1    |0.0        |0.0    |(8,[0],[1.0])|(7,[0],[1.0])|(21,[1,2,3,11,18,19,20],[22.0,2.0,1.0,1.0,509.0,16.33,82.0])        |\n",
      "|2  |20 |4  |UA     |SFO|337 |6.17  |82      |-8   |542.0 |0    |0.0        |1.0    |(8,[0],[1.0])|(7,[1],[1.0])|(21,[0,1,2,3,12,18,19,20],[2.0,20.0,4.0,1.0,1.0,542.0,6.17,82.0])   |\n",
      "+---+---+---+-------+---+----+------+--------+-----+------+-----+-----------+-------+-------------+-------------+--------------------------------------------------------------------+\n",
      "only showing top 3 rows\n",
      "\n"
     ]
    }
   ],
   "source": [
    "data_pre.show(3, False)"
   ]
  },
  {
   "cell_type": "code",
   "execution_count": 27,
   "metadata": {
    "colab": {
     "base_uri": "https://localhost:8080/"
    },
    "id": "ohvD2PqmR2MC",
    "outputId": "dff31b6f-6283-443d-aa93-15fd014d1ff1"
   },
   "outputs": [
    {
     "data": {
      "text/plain": [
       "50000"
      ]
     },
     "execution_count": 27,
     "metadata": {},
     "output_type": "execute_result"
    }
   ],
   "source": [
    "final_data = data_pre.select(\"features\",\"label\")\n",
    "final_data.count()"
   ]
  },
  {
   "cell_type": "code",
   "execution_count": 28,
   "metadata": {
    "colab": {
     "base_uri": "https://localhost:8080/"
    },
    "id": "vgTXYctAR2ME",
    "outputId": "00492b95-3879-4a5e-8a47-77511eb0b1b7"
   },
   "outputs": [
    {
     "data": {
      "text/plain": [
       "47022"
      ]
     },
     "execution_count": 28,
     "metadata": {},
     "output_type": "execute_result"
    }
   ],
   "source": [
    "final_data = final_data.na.drop()\n",
    "final_data.count()"
   ]
  },
  {
   "cell_type": "code",
   "execution_count": 29,
   "metadata": {
    "colab": {
     "base_uri": "https://localhost:8080/"
    },
    "id": "1to1rg0xR2MF",
    "outputId": "2b5ff594-e74d-4e58-8509-c56904411be7"
   },
   "outputs": [
    {
     "name": "stdout",
     "output_type": "stream",
     "text": [
      "+--------------------+-----+\n",
      "|            features|label|\n",
      "+--------------------+-----+\n",
      "|(21,[1,2,3,11,18,...|    1|\n",
      "|(21,[0,1,2,3,12,1...|    0|\n",
      "|(21,[0,1,2,4,11,1...|    0|\n",
      "|(21,[0,1,2,3,12,1...|    1|\n",
      "|(21,[0,1,2,4,11,1...|    1|\n",
      "+--------------------+-----+\n",
      "only showing top 5 rows\n",
      "\n"
     ]
    }
   ],
   "source": [
    "final_data.show(5)"
   ]
  },
  {
   "cell_type": "code",
   "execution_count": 30,
   "metadata": {
    "colab": {
     "base_uri": "https://localhost:8080/"
    },
    "id": "EvYFLHST-lgH",
    "outputId": "df413f67-9144-4689-e9d8-ff598f405336"
   },
   "outputs": [
    {
     "name": "stdout",
     "output_type": "stream",
     "text": [
      "+--------------------------------------------------------------------+-----+\n",
      "|features                                                            |label|\n",
      "+--------------------------------------------------------------------+-----+\n",
      "|(21,[0,1,2,9,13,18,19,20],[11.0,20.0,6.0,1.0,1.0,3465.0,9.48,351.0])|NULL |\n",
      "|(21,[0,1,2,4,11,18,19,20],[4.0,2.0,5.0,1.0,1.0,415.0,8.92,65.0])    |NULL |\n",
      "|(21,[1,2,3,11,18,19,20],[8.0,2.0,1.0,1.0,538.0,11.08,85.0])         |NULL |\n",
      "+--------------------------------------------------------------------+-----+\n",
      "only showing top 3 rows\n",
      "\n"
     ]
    }
   ],
   "source": [
    "new_data = data_pre.select(\"features\", \"label\").filter(data_pre.label.isNull())\n",
    "new_data.show(3, False)"
   ]
  },
  {
   "cell_type": "code",
   "execution_count": 31,
   "metadata": {
    "colab": {
     "base_uri": "https://localhost:8080/"
    },
    "id": "Kjo8wnW4-oYW",
    "outputId": "f4bae77b-b9bb-4934-cf36-a54f582b11c6"
   },
   "outputs": [
    {
     "data": {
      "text/plain": [
       "2978"
      ]
     },
     "execution_count": 31,
     "metadata": {},
     "output_type": "execute_result"
    }
   ],
   "source": [
    "new_data.count()"
   ]
  },
  {
   "cell_type": "code",
   "execution_count": 32,
   "metadata": {
    "id": "9nsawBjJR2MH"
   },
   "outputs": [],
   "source": [
    "train_data,test_data = final_data.randomSplit([0.8,0.2])"
   ]
  },
  {
   "cell_type": "code",
   "execution_count": 33,
   "metadata": {
    "colab": {
     "base_uri": "https://localhost:8080/"
    },
    "id": "BrH9NKivR2MJ",
    "outputId": "96930473-86f3-4778-9306-9c940e31d00c"
   },
   "outputs": [
    {
     "name": "stdout",
     "output_type": "stream",
     "text": [
      "+-------+------------------+\n",
      "|summary|             label|\n",
      "+-------+------------------+\n",
      "|  count|             37711|\n",
      "|   mean|0.6520378669353769|\n",
      "| stddev|0.4763302463396479|\n",
      "|    min|                 0|\n",
      "|    max|                 1|\n",
      "+-------+------------------+\n",
      "\n"
     ]
    }
   ],
   "source": [
    "train_data.describe().show()"
   ]
  },
  {
   "cell_type": "code",
   "execution_count": 34,
   "metadata": {
    "colab": {
     "base_uri": "https://localhost:8080/"
    },
    "id": "Ku-q2foZR2MM",
    "outputId": "e38769bb-93f2-4623-8206-d42f7454b422"
   },
   "outputs": [
    {
     "name": "stdout",
     "output_type": "stream",
     "text": [
      "+-------+------------------+\n",
      "|summary|             label|\n",
      "+-------+------------------+\n",
      "|  count|              9311|\n",
      "|   mean|0.6552464826549242|\n",
      "| stddev|0.4753133636847873|\n",
      "|    min|                 0|\n",
      "|    max|                 1|\n",
      "+-------+------------------+\n",
      "\n"
     ]
    }
   ],
   "source": [
    "test_data.describe().show()"
   ]
  },
  {
   "cell_type": "markdown",
   "metadata": {
    "id": "oDiQibqRxZcH"
   },
   "source": [
    "# Decision Tree\n",
    "- ..."
   ]
  },
  {
   "cell_type": "code",
   "execution_count": 35,
   "metadata": {
    "id": "jsWFrCv0p7aB"
   },
   "outputs": [],
   "source": [
    "# Import the Decision Tree Classifier class\n",
    "from pyspark.ml.classification import DecisionTreeClassifier\n",
    "from pyspark.ml.classification import DecisionTreeClassificationModel"
   ]
  },
  {
   "cell_type": "code",
   "execution_count": 39,
   "metadata": {},
   "outputs": [],
   "source": [
    "tree  = DecisionTreeClassifier(featuresCol='features',\n",
    "                              labelCol='label',\n",
    "                              predictionCol='prediction')"
   ]
  },
  {
   "cell_type": "code",
   "execution_count": 40,
   "metadata": {},
   "outputs": [],
   "source": [
    "tree_model = tree.fit(train_data)"
   ]
  },
  {
   "cell_type": "code",
   "execution_count": 41,
   "metadata": {},
   "outputs": [],
   "source": [
    "test_model = tree_model.transform(test_data)"
   ]
  },
  {
   "cell_type": "code",
   "execution_count": 42,
   "metadata": {},
   "outputs": [
    {
     "name": "stdout",
     "output_type": "stream",
     "text": [
      "+-----+----------+----------------------------------------+\n",
      "|label|prediction|probability                             |\n",
      "+-----+----------+----------------------------------------+\n",
      "|1    |1.0       |[0.35175879396984927,0.6482412060301508]|\n",
      "|1    |1.0       |[0.35175879396984927,0.6482412060301508]|\n",
      "|1    |1.0       |[0.21816562778272486,0.7818343722172751]|\n",
      "+-----+----------+----------------------------------------+\n",
      "only showing top 3 rows\n",
      "\n"
     ]
    }
   ],
   "source": [
    "test_model.select('label','prediction','probability').show(3,False)"
   ]
  },
  {
   "cell_type": "code",
   "execution_count": 43,
   "metadata": {},
   "outputs": [],
   "source": [
    "from pyspark.ml.evaluation import MulticlassClassificationEvaluator,  BinaryClassificationEvaluator"
   ]
  },
  {
   "cell_type": "code",
   "execution_count": 44,
   "metadata": {},
   "outputs": [],
   "source": [
    "multi_evaluator = MulticlassClassificationEvaluator()\n",
    "acc_ = multi_evaluator.evaluate(test_model,\n",
    "                               {multi_evaluator.metricName: 'accuracy'})"
   ]
  },
  {
   "cell_type": "code",
   "execution_count": 45,
   "metadata": {},
   "outputs": [
    {
     "data": {
      "text/plain": [
       "0.6789818494254108"
      ]
     },
     "execution_count": 45,
     "metadata": {},
     "output_type": "execute_result"
    }
   ],
   "source": [
    "acc_"
   ]
  },
  {
   "cell_type": "code",
   "execution_count": 46,
   "metadata": {},
   "outputs": [],
   "source": [
    "binary_evaluator = BinaryClassificationEvaluator()\n",
    "auc = binary_evaluator.evaluate(test_model,\n",
    "                               {multi_evaluator.metricName: 'areaUnderROC'})"
   ]
  },
  {
   "cell_type": "code",
   "execution_count": 47,
   "metadata": {},
   "outputs": [
    {
     "data": {
      "text/plain": [
       "0.6392481238712205"
      ]
     },
     "execution_count": 47,
     "metadata": {},
     "output_type": "execute_result"
    }
   ],
   "source": [
    "auc"
   ]
  },
  {
   "cell_type": "code",
   "execution_count": 50,
   "metadata": {},
   "outputs": [],
   "source": [
    "tree_model.save('tree_model_Flights_50k_new')"
   ]
  },
  {
   "cell_type": "code",
   "execution_count": 51,
   "metadata": {},
   "outputs": [],
   "source": [
    "from pyspark.ml.classification import DecisionTreeClassificationModel\n",
    "tree_model2 = DecisionTreeClassificationModel.load('tree_model_Flights_50k_new')"
   ]
  },
  {
   "cell_type": "code",
   "execution_count": 52,
   "metadata": {},
   "outputs": [],
   "source": [
    "unlabeled_data = new_data.select('features')"
   ]
  },
  {
   "cell_type": "code",
   "execution_count": 53,
   "metadata": {},
   "outputs": [],
   "source": [
    "predictions = tree_model2.transform(unlabeled_data)"
   ]
  },
  {
   "cell_type": "code",
   "execution_count": 54,
   "metadata": {
    "scrolled": true
   },
   "outputs": [
    {
     "name": "stdout",
     "output_type": "stream",
     "text": [
      "+--------------------------------------------------------------------+---------------+----------------------------------------+----------+\n",
      "|features                                                            |rawPrediction  |probability                             |prediction|\n",
      "+--------------------------------------------------------------------+---------------+----------------------------------------+----------+\n",
      "|(21,[0,1,2,9,13,18,19,20],[11.0,20.0,6.0,1.0,1.0,3465.0,9.48,351.0])|[138.0,256.0]  |[0.350253807106599,0.649746192893401]   |1.0       |\n",
      "|(21,[0,1,2,4,11,18,19,20],[4.0,2.0,5.0,1.0,1.0,415.0,8.92,65.0])    |[419.0,370.0]  |[0.5310519645120405,0.46894803548795944]|0.0       |\n",
      "|(21,[1,2,3,11,18,19,20],[8.0,2.0,1.0,1.0,538.0,11.08,85.0])         |[3229.0,6981.0]|[0.31625857002938296,0.683741429970617] |1.0       |\n",
      "+--------------------------------------------------------------------+---------------+----------------------------------------+----------+\n",
      "only showing top 3 rows\n",
      "\n"
     ]
    }
   ],
   "source": [
    "predictions.show(3,False)"
   ]
  },
  {
   "cell_type": "code",
   "execution_count": null,
   "metadata": {},
   "outputs": [],
   "source": []
  },
  {
   "cell_type": "markdown",
   "metadata": {},
   "source": [
    "# RandomForest"
   ]
  },
  {
   "cell_type": "code",
   "execution_count": 36,
   "metadata": {
    "id": "Zr5qj3yUqD3S"
   },
   "outputs": [],
   "source": [
    "from pyspark.ml.classification import RandomForestClassifier\n",
    "from pyspark.ml.classification import RandomForestClassificationModel"
   ]
  },
  {
   "cell_type": "code",
   "execution_count": 55,
   "metadata": {},
   "outputs": [],
   "source": [
    "rfc  = RandomForestClassifier(featuresCol='features',\n",
    "                              labelCol='label',\n",
    "                              predictionCol='prediction')"
   ]
  },
  {
   "cell_type": "code",
   "execution_count": 56,
   "metadata": {},
   "outputs": [],
   "source": [
    "rfc_model = rfc.fit(train_data)"
   ]
  },
  {
   "cell_type": "code",
   "execution_count": 57,
   "metadata": {},
   "outputs": [
    {
     "name": "stdout",
     "output_type": "stream",
     "text": [
      "Number of trees:  20\n",
      "Relative importance of features:  (21,[0,1,2,3,4,5,6,7,8,9,10,11,12,13,14,15,16,17,18,19,20],[0.27754440220854676,0.024870109332048522,0.010974450144097782,0.0005555057463611923,0.0018465415137307434,0.006528136463773494,0.04373969073530822,0.001483468067091594,0.008727270960590689,0.011231794037719506,0.033346389014303215,0.02142492521506125,0.009873274215384698,0.001821971375443212,0.0010206910973612877,0.08248430118737764,0.0028344218187786566,0.0025449415586059976,0.07247126122505815,0.29705126220860667,0.08762519187475074])\n"
     ]
    }
   ],
   "source": [
    "print('Number of trees: ', rfc_model.getNumTrees)\n",
    "print('Relative importance of features: ', rfc_model.featureImportances)"
   ]
  },
  {
   "cell_type": "code",
   "execution_count": 58,
   "metadata": {},
   "outputs": [
    {
     "data": {
      "text/plain": [
       "['org_vec0',\n",
       " 'org_vec1',\n",
       " 'org_vec2',\n",
       " 'org_vec3',\n",
       " 'org_vec4',\n",
       " 'org_vec5',\n",
       " 'org_vec6']"
      ]
     },
     "execution_count": 58,
     "metadata": {},
     "output_type": "execute_result"
    }
   ],
   "source": [
    "carrier_vec_list = [\"carrier_vec\"+str(i) for i in range(0, 8)]\n",
    "org_vec_list = ['org_vec'+str(i) for i in range(0,7)]\n",
    "carrier_vec_list\n",
    "org_vec_list"
   ]
  },
  {
   "cell_type": "code",
   "execution_count": 59,
   "metadata": {},
   "outputs": [
    {
     "data": {
      "text/plain": [
       "['mon',\n",
       " 'dom',\n",
       " 'dow',\n",
       " 'carrier_vec0',\n",
       " 'carrier_vec1',\n",
       " 'carrier_vec2',\n",
       " 'carrier_vec3',\n",
       " 'carrier_vec4',\n",
       " 'carrier_vec5',\n",
       " 'carrier_vec6',\n",
       " 'carrier_vec7',\n",
       " 'org_vec0',\n",
       " 'org_vec1',\n",
       " 'org_vec2',\n",
       " 'org_vec3',\n",
       " 'org_vec4',\n",
       " 'org_vec5',\n",
       " 'org_vec6',\n",
       " 'km',\n",
       " 'depart',\n",
       " 'duration']"
      ]
     },
     "execution_count": 59,
     "metadata": {},
     "output_type": "execute_result"
    }
   ],
   "source": [
    "feature_cols = ['mon', 'dom', 'dow']+carrier_vec_list+org_vec_list+['km', 'depart', 'duration']\n",
    "feature_cols"
   ]
  },
  {
   "cell_type": "code",
   "execution_count": 60,
   "metadata": {},
   "outputs": [
    {
     "name": "stdout",
     "output_type": "stream",
     "text": [
      "['mon', 'dom', 'dow', 'carrier_vec0', 'carrier_vec1', 'carrier_vec2', 'carrier_vec3', 'carrier_vec4', 'carrier_vec5', 'carrier_vec6', 'carrier_vec7', 'org_vec0', 'org_vec1', 'org_vec2', 'org_vec3', 'org_vec4', 'org_vec5', 'org_vec6', 'km', 'depart', 'duration']\n",
      "[0.2775444  0.02487011 0.01097445 0.00055551 0.00184654 0.00652814\n",
      " 0.04373969 0.00148347 0.00872727 0.01123179 0.03334639 0.02142493\n",
      " 0.00987327 0.00182197 0.00102069 0.0824843  0.00283442 0.00254494\n",
      " 0.07247126 0.29705126 0.08762519]\n"
     ]
    }
   ],
   "source": [
    "# Convert feature importances to a DataFrame\n",
    "values_cols = rfc_model.featureImportances.toArray()\n",
    "print(feature_cols)\n",
    "print(values_cols)"
   ]
  },
  {
   "cell_type": "code",
   "execution_count": 61,
   "metadata": {},
   "outputs": [
    {
     "data": {
      "text/html": [
       "<div>\n",
       "<style scoped>\n",
       "    .dataframe tbody tr th:only-of-type {\n",
       "        vertical-align: middle;\n",
       "    }\n",
       "\n",
       "    .dataframe tbody tr th {\n",
       "        vertical-align: top;\n",
       "    }\n",
       "\n",
       "    .dataframe thead th {\n",
       "        text-align: right;\n",
       "    }\n",
       "</style>\n",
       "<table border=\"1\" class=\"dataframe\">\n",
       "  <thead>\n",
       "    <tr style=\"text-align: right;\">\n",
       "      <th></th>\n",
       "      <th>importance</th>\n",
       "      <th>feature</th>\n",
       "    </tr>\n",
       "  </thead>\n",
       "  <tbody>\n",
       "    <tr>\n",
       "      <th>19</th>\n",
       "      <td>0.297051</td>\n",
       "      <td>depart</td>\n",
       "    </tr>\n",
       "    <tr>\n",
       "      <th>0</th>\n",
       "      <td>0.277544</td>\n",
       "      <td>mon</td>\n",
       "    </tr>\n",
       "    <tr>\n",
       "      <th>20</th>\n",
       "      <td>0.087625</td>\n",
       "      <td>duration</td>\n",
       "    </tr>\n",
       "    <tr>\n",
       "      <th>15</th>\n",
       "      <td>0.082484</td>\n",
       "      <td>org_vec4</td>\n",
       "    </tr>\n",
       "    <tr>\n",
       "      <th>18</th>\n",
       "      <td>0.072471</td>\n",
       "      <td>km</td>\n",
       "    </tr>\n",
       "  </tbody>\n",
       "</table>\n",
       "</div>"
      ],
      "text/plain": [
       "    importance   feature\n",
       "19    0.297051    depart\n",
       "0     0.277544       mon\n",
       "20    0.087625  duration\n",
       "15    0.082484  org_vec4\n",
       "18    0.072471        km"
      ]
     },
     "execution_count": 61,
     "metadata": {},
     "output_type": "execute_result"
    }
   ],
   "source": [
    "# Convert feature importances to a pandas column\n",
    "import pandas as pd\n",
    "rf_df = pd.DataFrame(values_cols, columns=['importance'])\n",
    "\n",
    "# Convert list of feature names to pandas column\n",
    "rf_df['feature'] = pd.Series(feature_cols)\n",
    "\n",
    "# Sort the data based on feature importance\n",
    "rf_df.sort_values(by=['importance'], ascending=False, inplace=True)\n",
    "\n",
    "\n",
    "# Inspect Results\n",
    "rf_df.head(5)"
   ]
  },
  {
   "cell_type": "code",
   "execution_count": 62,
   "metadata": {},
   "outputs": [],
   "source": [
    "rfc_test_model = rfc_model.transform(test_data)"
   ]
  },
  {
   "cell_type": "code",
   "execution_count": 63,
   "metadata": {},
   "outputs": [
    {
     "name": "stdout",
     "output_type": "stream",
     "text": [
      "+-----+----------+----------------------------------------+\n",
      "|label|prediction|probability                             |\n",
      "+-----+----------+----------------------------------------+\n",
      "|1    |1.0       |[0.37567207268843655,0.6243279273115635]|\n",
      "|1    |1.0       |[0.37114154825242646,0.6288584517475735]|\n",
      "|1    |1.0       |[0.26834323930748955,0.7316567606925104]|\n",
      "+-----+----------+----------------------------------------+\n",
      "only showing top 3 rows\n",
      "\n"
     ]
    }
   ],
   "source": [
    "rfc_test_model.select('label','prediction','probability').show(3,False)"
   ]
  },
  {
   "cell_type": "code",
   "execution_count": 64,
   "metadata": {},
   "outputs": [],
   "source": [
    "from pyspark.ml.evaluation import MulticlassClassificationEvaluator,  BinaryClassificationEvaluator"
   ]
  },
  {
   "cell_type": "code",
   "execution_count": 69,
   "metadata": {},
   "outputs": [],
   "source": [
    "multi_evaluator = MulticlassClassificationEvaluator()\n",
    "acc_rfc = multi_evaluator.evaluate(rfc_test_model,\n",
    "                               {multi_evaluator.metricName: 'accuracy'})"
   ]
  },
  {
   "cell_type": "code",
   "execution_count": 71,
   "metadata": {},
   "outputs": [
    {
     "data": {
      "text/plain": [
       "0.6687788637095908"
      ]
     },
     "execution_count": 71,
     "metadata": {},
     "output_type": "execute_result"
    }
   ],
   "source": [
    "acc_rfc"
   ]
  },
  {
   "cell_type": "code",
   "execution_count": 72,
   "metadata": {},
   "outputs": [],
   "source": [
    "binary_evaluator = BinaryClassificationEvaluator()\n",
    "auc_rfc = binary_evaluator.evaluate(rfc_test_model,\n",
    "                               {multi_evaluator.metricName: 'areaUnderROC'})"
   ]
  },
  {
   "cell_type": "code",
   "execution_count": 73,
   "metadata": {},
   "outputs": [
    {
     "data": {
      "text/plain": [
       "0.6684364087190654"
      ]
     },
     "execution_count": 73,
     "metadata": {},
     "output_type": "execute_result"
    }
   ],
   "source": [
    "auc_rfc"
   ]
  },
  {
   "cell_type": "code",
   "execution_count": 74,
   "metadata": {},
   "outputs": [],
   "source": [
    "rfc_model.save('rfc_model_Flights_50k_new')"
   ]
  },
  {
   "cell_type": "code",
   "execution_count": 75,
   "metadata": {},
   "outputs": [],
   "source": [
    "from pyspark.ml.classification import RandomForestClassificationModel\n",
    "rfc_model2 = RandomForestClassificationModel.load('rfc_model_Flights_50k_new')"
   ]
  },
  {
   "cell_type": "code",
   "execution_count": 76,
   "metadata": {},
   "outputs": [],
   "source": [
    "unlabeled_data = new_data.select('features')"
   ]
  },
  {
   "cell_type": "code",
   "execution_count": 77,
   "metadata": {},
   "outputs": [],
   "source": [
    "predictions_rfc = tree_model2.transform(unlabeled_data)"
   ]
  },
  {
   "cell_type": "code",
   "execution_count": 78,
   "metadata": {},
   "outputs": [
    {
     "name": "stdout",
     "output_type": "stream",
     "text": [
      "+--------------------------------------------------------------------+---------------+----------------------------------------+----------+\n",
      "|features                                                            |rawPrediction  |probability                             |prediction|\n",
      "+--------------------------------------------------------------------+---------------+----------------------------------------+----------+\n",
      "|(21,[0,1,2,9,13,18,19,20],[11.0,20.0,6.0,1.0,1.0,3465.0,9.48,351.0])|[138.0,256.0]  |[0.350253807106599,0.649746192893401]   |1.0       |\n",
      "|(21,[0,1,2,4,11,18,19,20],[4.0,2.0,5.0,1.0,1.0,415.0,8.92,65.0])    |[419.0,370.0]  |[0.5310519645120405,0.46894803548795944]|0.0       |\n",
      "|(21,[1,2,3,11,18,19,20],[8.0,2.0,1.0,1.0,538.0,11.08,85.0])         |[3229.0,6981.0]|[0.31625857002938296,0.683741429970617] |1.0       |\n",
      "+--------------------------------------------------------------------+---------------+----------------------------------------+----------+\n",
      "only showing top 3 rows\n",
      "\n"
     ]
    }
   ],
   "source": [
    "predictions_rfc.show(3,False)"
   ]
  },
  {
   "cell_type": "markdown",
   "metadata": {},
   "source": [
    "# GBT - Gradient-Boosted Trees"
   ]
  },
  {
   "cell_type": "code",
   "execution_count": 37,
   "metadata": {
    "id": "MaFA2ZlvqLWd"
   },
   "outputs": [],
   "source": [
    "from pyspark.ml.classification import GBTClassifier\n",
    "from pyspark.ml.classification import GBTClassificationModel"
   ]
  },
  {
   "cell_type": "code",
   "execution_count": 79,
   "metadata": {},
   "outputs": [],
   "source": [
    "gbt  = GBTClassifier(featuresCol='features',\n",
    "                     labelCol='label',\n",
    "                     predictionCol='prediction')"
   ]
  },
  {
   "cell_type": "code",
   "execution_count": 80,
   "metadata": {},
   "outputs": [],
   "source": [
    "gbt_model = gbt.fit(train_data)"
   ]
  },
  {
   "cell_type": "code",
   "execution_count": 81,
   "metadata": {},
   "outputs": [
    {
     "name": "stdout",
     "output_type": "stream",
     "text": [
      "Number of trees:  20\n",
      "Relative importance of features:  (21,[0,1,2,3,4,5,6,7,8,9,10,11,12,13,14,15,16,17,18,19,20],[0.1952687388836448,0.14357798960871457,0.1336241570513309,0.002668607262488619,0.024021094599743935,0.01272903753280383,0.02008560522826332,0.01790203408574992,0.019355110851449024,0.012389298331966026,0.0058246470936939255,0.03578731163449342,0.02887239080816879,0.019802398405262066,0.01713402251075098,0.022726363640226645,0.016527290422581595,0.007488270876826352,0.06567414154571902,0.15149478516662412,0.047046704459498136])\n"
     ]
    }
   ],
   "source": [
    "print('Number of trees: ', gbt_model.getNumTrees)\n",
    "print('Relative importance of features: ', gbt_model.featureImportances)"
   ]
  },
  {
   "cell_type": "code",
   "execution_count": 82,
   "metadata": {},
   "outputs": [],
   "source": [
    "gbt_test_model = gbt_model.transform(test_data)"
   ]
  },
  {
   "cell_type": "code",
   "execution_count": 83,
   "metadata": {},
   "outputs": [
    {
     "name": "stdout",
     "output_type": "stream",
     "text": [
      "+-----+----------+----------------------------------------+\n",
      "|label|prediction|probability                             |\n",
      "+-----+----------+----------------------------------------+\n",
      "|1    |1.0       |[0.28008990012391427,0.7199100998760857]|\n",
      "|1    |1.0       |[0.2731238444539252,0.7268761555460748] |\n",
      "|1    |1.0       |[0.11910224605775438,0.8808977539422456]|\n",
      "+-----+----------+----------------------------------------+\n",
      "only showing top 3 rows\n",
      "\n"
     ]
    }
   ],
   "source": [
    "gbt_test_model.select('label','prediction','probability').show(3,False)"
   ]
  },
  {
   "cell_type": "code",
   "execution_count": 85,
   "metadata": {},
   "outputs": [],
   "source": [
    "from pyspark.ml.evaluation import MulticlassClassificationEvaluator,  BinaryClassificationEvaluator"
   ]
  },
  {
   "cell_type": "code",
   "execution_count": 89,
   "metadata": {},
   "outputs": [],
   "source": [
    "multi_evaluator = MulticlassClassificationEvaluator()\n",
    "acc_gbt = multi_evaluator.evaluate(gbt_test_model,\n",
    "                               {multi_evaluator.metricName: 'accuracy'})"
   ]
  },
  {
   "cell_type": "code",
   "execution_count": 90,
   "metadata": {},
   "outputs": [
    {
     "data": {
      "text/plain": [
       "0.6944474277736011"
      ]
     },
     "execution_count": 90,
     "metadata": {},
     "output_type": "execute_result"
    }
   ],
   "source": [
    "acc_gbt"
   ]
  },
  {
   "cell_type": "code",
   "execution_count": 91,
   "metadata": {},
   "outputs": [],
   "source": [
    "binary_evaluator = BinaryClassificationEvaluator()\n",
    "auc_gbt = binary_evaluator.evaluate(gbt_test_model,\n",
    "                               {multi_evaluator.metricName: 'areaUnderROC'})"
   ]
  },
  {
   "cell_type": "code",
   "execution_count": 92,
   "metadata": {},
   "outputs": [
    {
     "data": {
      "text/plain": [
       "0.7171806266374795"
      ]
     },
     "execution_count": 92,
     "metadata": {},
     "output_type": "execute_result"
    }
   ],
   "source": [
    "auc_gbt"
   ]
  },
  {
   "cell_type": "code",
   "execution_count": 93,
   "metadata": {},
   "outputs": [],
   "source": [
    "gbt_model.save('gbt_model_Flights_50k_new')"
   ]
  },
  {
   "cell_type": "code",
   "execution_count": 95,
   "metadata": {},
   "outputs": [],
   "source": [
    "from pyspark.ml.classification import GBTClassificationModel\n",
    "rfc_model2 = GBTClassificationModel.load('gbt_model_Flights_50k_new')"
   ]
  },
  {
   "cell_type": "code",
   "execution_count": 96,
   "metadata": {},
   "outputs": [],
   "source": [
    "unlabeled_data = new_data.select('features')"
   ]
  },
  {
   "cell_type": "code",
   "execution_count": 97,
   "metadata": {},
   "outputs": [],
   "source": [
    "predictions_gbt = tree_model2.transform(unlabeled_data)"
   ]
  },
  {
   "cell_type": "code",
   "execution_count": 98,
   "metadata": {
    "scrolled": true
   },
   "outputs": [
    {
     "name": "stdout",
     "output_type": "stream",
     "text": [
      "+--------------------------------------------------------------------+---------------+----------------------------------------+----------+\n",
      "|features                                                            |rawPrediction  |probability                             |prediction|\n",
      "+--------------------------------------------------------------------+---------------+----------------------------------------+----------+\n",
      "|(21,[0,1,2,9,13,18,19,20],[11.0,20.0,6.0,1.0,1.0,3465.0,9.48,351.0])|[138.0,256.0]  |[0.350253807106599,0.649746192893401]   |1.0       |\n",
      "|(21,[0,1,2,4,11,18,19,20],[4.0,2.0,5.0,1.0,1.0,415.0,8.92,65.0])    |[419.0,370.0]  |[0.5310519645120405,0.46894803548795944]|0.0       |\n",
      "|(21,[1,2,3,11,18,19,20],[8.0,2.0,1.0,1.0,538.0,11.08,85.0])         |[3229.0,6981.0]|[0.31625857002938296,0.683741429970617] |1.0       |\n",
      "+--------------------------------------------------------------------+---------------+----------------------------------------+----------+\n",
      "only showing top 3 rows\n",
      "\n"
     ]
    }
   ],
   "source": [
    "predictions_gbt.show(3,False)"
   ]
  },
  {
   "cell_type": "code",
   "execution_count": null,
   "metadata": {},
   "outputs": [],
   "source": []
  }
 ],
 "metadata": {
  "anaconda-cloud": {},
  "colab": {
   "collapsed_sections": [
    "afYvBXQzR2L0"
   ],
   "provenance": []
  },
  "kernelspec": {
   "display_name": "Python 3 (ipykernel)",
   "language": "python",
   "name": "python3"
  },
  "language_info": {
   "codemirror_mode": {
    "name": "ipython",
    "version": 3
   },
   "file_extension": ".py",
   "mimetype": "text/x-python",
   "name": "python",
   "nbconvert_exporter": "python",
   "pygments_lexer": "ipython3",
   "version": "3.9.12"
  }
 },
 "nbformat": 4,
 "nbformat_minor": 4
}
