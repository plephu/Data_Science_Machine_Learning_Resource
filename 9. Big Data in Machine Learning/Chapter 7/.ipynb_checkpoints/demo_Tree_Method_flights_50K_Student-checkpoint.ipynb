{
  "nbformat": 4,
  "nbformat_minor": 0,
  "metadata": {
    "anaconda-cloud": {},
    "kernelspec": {
      "display_name": "Python 3",
      "language": "python",
      "name": "python3"
    },
    "language_info": {
      "codemirror_mode": {
        "name": "ipython",
        "version": 3
      },
      "file_extension": ".py",
      "mimetype": "text/x-python",
      "name": "python",
      "nbconvert_exporter": "python",
      "pygments_lexer": "ipython3",
      "version": "3.6.8"
    },
    "colab": {
      "provenance": [],
      "collapsed_sections": [
        "afYvBXQzR2L0"
      ]
    }
  },
  "cells": [
    {
      "cell_type": "code",
      "metadata": {
        "id": "fvcDodVT7D7u"
      },
      "source": [
        "!apt update\n",
        "!apt-get install openjdk-11-jdk-headless -qq > /dev/null\n",
        "!wget -q http://archive.apache.org/dist/spark/spark-3.3.0/spark-3.3.0-bin-hadoop3.tgz\n",
        "!tar -xvf spark-3.3.0-bin-hadoop3.tgz\n",
        "!pip install -q findspark\n",
        "import os\n",
        "os.environ[\"JAVA_HOME\"] = \"/usr/lib/jvm/java-11-openjdk-amd64\"\n",
        "os.environ[\"SPARK_HOME\"] = \"/content/spark-3.3.0-bin-hadoop3\"\n",
        "import findspark\n",
        "findspark.init()"
      ],
      "execution_count": null,
      "outputs": []
    },
    {
      "cell_type": "code",
      "metadata": {
        "id": "Bf7rWxky7Jj-",
        "colab": {
          "base_uri": "https://localhost:8080/"
        },
        "outputId": "fccc0242-f7e2-40ea-b4b0-4cbcf21ec959"
      },
      "source": [
        "from google.colab import drive\n",
        "drive.mount('/content/gdrive', force_remount=True)"
      ],
      "execution_count": null,
      "outputs": [
        {
          "output_type": "stream",
          "name": "stdout",
          "text": [
            "Mounted at /content/gdrive\n"
          ]
        }
      ]
    },
    {
      "cell_type": "code",
      "metadata": {
        "id": "aegZ4pZd7KGs",
        "colab": {
          "base_uri": "https://localhost:8080/"
        },
        "outputId": "54a7ca53-b941-443d-b41e-45673eced721"
      },
      "source": [
        "%cd '/content/gdrive/My Drive/LDS9/Practice/Chapter8/'"
      ],
      "execution_count": null,
      "outputs": [
        {
          "output_type": "stream",
          "name": "stdout",
          "text": [
            "/content/gdrive/My Drive/LDS9/Practice/Chapter8\n"
          ]
        }
      ]
    },
    {
      "cell_type": "markdown",
      "metadata": {
        "id": "JwC2Nr5RR2LC"
      },
      "source": [
        "# Demo Tree Model"
      ]
    },
    {
      "cell_type": "markdown",
      "metadata": {
        "id": "awc-2kK0R2LD"
      },
      "source": [
        "### Dataset: flights.csv\n",
        "- You'll build a regression model to predict flight delay or not\n",
        "- With 'mon', 'dom', 'dow', 'carrier_idx', 'org_idx', 'km', 'depart', 'duration' as a predictor"
      ]
    },
    {
      "cell_type": "markdown",
      "metadata": {
        "id": "Sdn8c0h0R2LD"
      },
      "source": [
        "First thing to do is start a Spark Session"
      ]
    },
    {
      "cell_type": "code",
      "metadata": {
        "id": "it0eeUpcR2LH"
      },
      "source": [
        "import pyspark"
      ],
      "execution_count": null,
      "outputs": []
    },
    {
      "cell_type": "code",
      "metadata": {
        "id": "OreDvnvPR2LJ"
      },
      "source": [
        "from pyspark import SparkContext\n",
        "from pyspark.conf import SparkConf\n",
        "from pyspark.sql import SparkSession\n",
        "from pyspark.sql.functions import round\n",
        "from pyspark.ml.feature import StringIndexer, OneHotEncoder\n",
        "from pyspark.ml.linalg import Vectors\n",
        "from pyspark.ml.feature import VectorAssembler"
      ],
      "execution_count": null,
      "outputs": []
    },
    {
      "cell_type": "code",
      "metadata": {
        "id": "sckUTQOsR2LM"
      },
      "source": [
        "spark = SparkSession.builder.appName('Tree_demo').getOrCreate()"
      ],
      "execution_count": null,
      "outputs": []
    },
    {
      "cell_type": "code",
      "metadata": {
        "id": "UVnE-S3rR2LO"
      },
      "source": [
        "# Use Spark to read flights.csv file.\n",
        "data = spark.read.csv(\"flights.csv\",inferSchema=True,header=True)"
      ],
      "execution_count": null,
      "outputs": []
    },
    {
      "cell_type": "code",
      "metadata": {
        "id": "pz5UpQ9tR2LQ",
        "colab": {
          "base_uri": "https://localhost:8080/"
        },
        "outputId": "a5965633-b23f-4387-dbf3-8b4b4e46377b"
      },
      "source": [
        "# Print the Schema of the DataFrame\n",
        "data.printSchema()"
      ],
      "execution_count": null,
      "outputs": [
        {
          "output_type": "stream",
          "name": "stdout",
          "text": [
            "root\n",
            " |-- mon: integer (nullable = true)\n",
            " |-- dom: integer (nullable = true)\n",
            " |-- dow: integer (nullable = true)\n",
            " |-- carrier: string (nullable = true)\n",
            " |-- flight: integer (nullable = true)\n",
            " |-- org: string (nullable = true)\n",
            " |-- mile: integer (nullable = true)\n",
            " |-- depart: double (nullable = true)\n",
            " |-- duration: integer (nullable = true)\n",
            " |-- delay: string (nullable = true)\n",
            "\n"
          ]
        }
      ]
    },
    {
      "cell_type": "code",
      "metadata": {
        "id": "IsxKkZvnR2LT",
        "colab": {
          "base_uri": "https://localhost:8080/"
        },
        "outputId": "fb8bfe32-e0ec-4413-a8a3-b12a89d17f85"
      },
      "source": [
        "data.show(3)"
      ],
      "execution_count": null,
      "outputs": [
        {
          "output_type": "stream",
          "name": "stdout",
          "text": [
            "+---+---+---+-------+------+---+----+------+--------+-----+\n",
            "|mon|dom|dow|carrier|flight|org|mile|depart|duration|delay|\n",
            "+---+---+---+-------+------+---+----+------+--------+-----+\n",
            "| 11| 20|  6|     US|    19|JFK|2153|  9.48|     351|   NA|\n",
            "|  0| 22|  2|     UA|  1107|ORD| 316| 16.33|      82|   30|\n",
            "|  2| 20|  4|     UA|   226|SFO| 337|  6.17|      82|   -8|\n",
            "+---+---+---+-------+------+---+----+------+--------+-----+\n",
            "only showing top 3 rows\n",
            "\n"
          ]
        }
      ]
    },
    {
      "cell_type": "code",
      "metadata": {
        "id": "Vt0zISVmR2LV",
        "colab": {
          "base_uri": "https://localhost:8080/"
        },
        "outputId": "dba33319-805e-4c78-9e71-66b61a9b8e67"
      },
      "source": [
        "data.head()"
      ],
      "execution_count": null,
      "outputs": [
        {
          "output_type": "execute_result",
          "data": {
            "text/plain": [
              "Row(mon=11, dom=20, dow=6, carrier='US', flight=19, org='JFK', mile=2153, depart=9.48, duration=351, delay='NA')"
            ]
          },
          "metadata": {},
          "execution_count": 10
        }
      ]
    },
    {
      "cell_type": "code",
      "metadata": {
        "id": "aVW5oJbAR2LY"
      },
      "source": [
        "# for item in data.head():\n",
        "#     print(item)"
      ],
      "execution_count": null,
      "outputs": []
    },
    {
      "cell_type": "code",
      "metadata": {
        "id": "Xmgtp7BrR2Lb",
        "colab": {
          "base_uri": "https://localhost:8080/"
        },
        "outputId": "753dacbb-1de2-4bff-da3f-2e505d081cef"
      },
      "source": [
        "data.count()"
      ],
      "execution_count": null,
      "outputs": [
        {
          "output_type": "execute_result",
          "data": {
            "text/plain": [
              "50000"
            ]
          },
          "metadata": {},
          "execution_count": 12
        }
      ]
    },
    {
      "cell_type": "code",
      "metadata": {
        "id": "RxJ71KYWR2Ld"
      },
      "source": [
        "# Remove the 'flight' column\n",
        "data = data.drop('flight')"
      ],
      "execution_count": null,
      "outputs": []
    },
    {
      "cell_type": "code",
      "metadata": {
        "id": "WMG3SWC_R2Lf",
        "colab": {
          "base_uri": "https://localhost:8080/"
        },
        "outputId": "0cf0e209-e9cb-4f75-b024-8f4bee410b1a"
      },
      "source": [
        "# Number of records with missing 'delay' values\n",
        "data.filter('delay IS NULL').count()"
      ],
      "execution_count": null,
      "outputs": [
        {
          "output_type": "execute_result",
          "data": {
            "text/plain": [
              "0"
            ]
          },
          "metadata": {},
          "execution_count": 14
        }
      ]
    },
    {
      "cell_type": "code",
      "metadata": {
        "id": "HbCunsjhR2Li"
      },
      "source": [
        "# Remove records with missing 'delay' values\n",
        "data = data.filter('delay IS NOT NULL')"
      ],
      "execution_count": null,
      "outputs": []
    },
    {
      "cell_type": "code",
      "metadata": {
        "id": "w1aOzJQ8R2Lk",
        "colab": {
          "base_uri": "https://localhost:8080/"
        },
        "outputId": "76dfb357-e2a2-40a4-8e2f-b3f04fcf2211"
      },
      "source": [
        "# Remove records with missing values in any column and get the number of remaining rows\n",
        "data = data.na.drop()\n",
        "data.count()"
      ],
      "execution_count": null,
      "outputs": [
        {
          "output_type": "execute_result",
          "data": {
            "text/plain": [
              "50000"
            ]
          },
          "metadata": {},
          "execution_count": 16
        }
      ]
    },
    {
      "cell_type": "code",
      "metadata": {
        "id": "RqURa8-YR2Lm"
      },
      "source": [
        "# Import the required function\n",
        "from pyspark.sql.functions import round"
      ],
      "execution_count": null,
      "outputs": []
    },
    {
      "cell_type": "code",
      "metadata": {
        "id": "uDUHI8xkR2Lo"
      },
      "source": [
        "# Convert 'mile' to 'km' and drop 'mile' column\n",
        "data = data.withColumn('km', round(data.mile * 1.60934, 0))"
      ],
      "execution_count": null,
      "outputs": []
    },
    {
      "cell_type": "code",
      "metadata": {
        "id": "SlikOkPBR2Lr",
        "colab": {
          "base_uri": "https://localhost:8080/"
        },
        "outputId": "37613c00-2b52-49f7-9a21-03ec24def7f2"
      },
      "source": [
        "# Create 'label' column indicating whether flight delayed (1) or not (0)\n",
        "data = data.withColumn('label', (data.delay >= 0).cast('integer'))\n",
        "# Check first five records\n",
        "data.show(3)"
      ],
      "execution_count": null,
      "outputs": [
        {
          "output_type": "stream",
          "name": "stdout",
          "text": [
            "+---+---+---+-------+---+----+------+--------+-----+------+-----+\n",
            "|mon|dom|dow|carrier|org|mile|depart|duration|delay|    km|label|\n",
            "+---+---+---+-------+---+----+------+--------+-----+------+-----+\n",
            "| 11| 20|  6|     US|JFK|2153|  9.48|     351|   NA|3465.0| null|\n",
            "|  0| 22|  2|     UA|ORD| 316| 16.33|      82|   30| 509.0|    1|\n",
            "|  2| 20|  4|     UA|SFO| 337|  6.17|      82|   -8| 542.0|    0|\n",
            "+---+---+---+-------+---+----+------+--------+-----+------+-----+\n",
            "only showing top 3 rows\n",
            "\n"
          ]
        }
      ]
    },
    {
      "cell_type": "markdown",
      "metadata": {
        "id": "5_TRGWh-R2Lt"
      },
      "source": [
        "## Categories data"
      ]
    },
    {
      "cell_type": "code",
      "metadata": {
        "id": "-gTwydfvR2Lt"
      },
      "source": [
        "from pyspark.ml.feature import StringIndexer, OneHotEncoder"
      ],
      "execution_count": null,
      "outputs": []
    },
    {
      "cell_type": "code",
      "metadata": {
        "id": "wrtgPrSDR2Lw"
      },
      "source": [
        "# Create an indexer\n",
        "indexer = StringIndexer(inputCol='carrier', outputCol='carrier_idx')\n",
        "indexer_model = indexer.fit(data)\n",
        "data_indexed = indexer_model.transform(data)\n",
        "\n",
        "# Repeat the process for the other categorical feature\n",
        "data_indexed = StringIndexer(inputCol='org',\n",
        "                             outputCol='org_idx').fit(data_indexed).transform(data_indexed)\n",
        "\n",
        "# Create an encoder\n",
        "data_indexed = OneHotEncoder(inputCol=\"carrier_idx\",\n",
        "                        outputCol=\"carrier_vec\",\n",
        "                        dropLast=True).fit(data_indexed).transform(data_indexed)\n",
        "\n",
        "data_indexed = OneHotEncoder(inputCol=\"org_idx\",\n",
        "                        outputCol=\"org_vec\",\n",
        "                        dropLast=True).fit(data_indexed).transform(data_indexed)"
      ],
      "execution_count": null,
      "outputs": []
    },
    {
      "cell_type": "code",
      "metadata": {
        "id": "InbXrHLzR2Ly",
        "colab": {
          "base_uri": "https://localhost:8080/"
        },
        "outputId": "9fb48abb-0f1c-456f-d731-30860751e54e"
      },
      "source": [
        "data_indexed.show(3)"
      ],
      "execution_count": null,
      "outputs": [
        {
          "output_type": "stream",
          "name": "stdout",
          "text": [
            "+---+---+---+-------+---+----+------+--------+-----+------+-----+-----------+-------+-------------+-------------+\n",
            "|mon|dom|dow|carrier|org|mile|depart|duration|delay|    km|label|carrier_idx|org_idx|  carrier_vec|      org_vec|\n",
            "+---+---+---+-------+---+----+------+--------+-----+------+-----+-----------+-------+-------------+-------------+\n",
            "| 11| 20|  6|     US|JFK|2153|  9.48|     351|   NA|3465.0| null|        6.0|    2.0|(8,[6],[1.0])|(7,[2],[1.0])|\n",
            "|  0| 22|  2|     UA|ORD| 316| 16.33|      82|   30| 509.0|    1|        0.0|    0.0|(8,[0],[1.0])|(7,[0],[1.0])|\n",
            "|  2| 20|  4|     UA|SFO| 337|  6.17|      82|   -8| 542.0|    0|        0.0|    1.0|(8,[0],[1.0])|(7,[1],[1.0])|\n",
            "+---+---+---+-------+---+----+------+--------+-----+------+-----+-----------+-------+-------------+-------------+\n",
            "only showing top 3 rows\n",
            "\n"
          ]
        }
      ]
    },
    {
      "cell_type": "markdown",
      "metadata": {
        "id": "afYvBXQzR2L0"
      },
      "source": [
        "## Setting Up DataFrame for Machine Learning"
      ]
    },
    {
      "cell_type": "markdown",
      "metadata": {
        "id": "AZ_-3LFKR2L0"
      },
      "source": [
        "## Assembling columns"
      ]
    },
    {
      "cell_type": "code",
      "metadata": {
        "id": "0g8J-G4cR2L1"
      },
      "source": [
        "from pyspark.ml.linalg import Vectors\n",
        "from pyspark.ml.feature import VectorAssembler"
      ],
      "execution_count": null,
      "outputs": []
    },
    {
      "cell_type": "code",
      "metadata": {
        "id": "C2DCNjCmR2L3",
        "colab": {
          "base_uri": "https://localhost:8080/"
        },
        "outputId": "20ec75d9-4399-4995-e00e-acf37754a123"
      },
      "source": [
        "data_indexed.columns"
      ],
      "execution_count": null,
      "outputs": [
        {
          "output_type": "execute_result",
          "data": {
            "text/plain": [
              "['mon',\n",
              " 'dom',\n",
              " 'dow',\n",
              " 'carrier',\n",
              " 'org',\n",
              " 'mile',\n",
              " 'depart',\n",
              " 'duration',\n",
              " 'delay',\n",
              " 'km',\n",
              " 'label',\n",
              " 'carrier_idx',\n",
              " 'org_idx',\n",
              " 'carrier_vec',\n",
              " 'org_vec']"
            ]
          },
          "metadata": {},
          "execution_count": 24
        }
      ]
    },
    {
      "cell_type": "code",
      "metadata": {
        "id": "Oy0aQ7v5R2L4"
      },
      "source": [
        "# Create an assembler object\n",
        "assembler = VectorAssembler(inputCols=[\n",
        "    'mon', 'dom', 'dow', 'carrier_vec', 'org_vec', 'km', 'depart', 'duration'\n",
        "], outputCol='features')"
      ],
      "execution_count": null,
      "outputs": []
    },
    {
      "cell_type": "code",
      "metadata": {
        "id": "71Zgv3GXR2L7"
      },
      "source": [
        "data_pre = assembler.transform(data_indexed)"
      ],
      "execution_count": null,
      "outputs": []
    },
    {
      "cell_type": "code",
      "metadata": {
        "id": "9xzPcDMRR2L9",
        "colab": {
          "base_uri": "https://localhost:8080/"
        },
        "outputId": "f8795a5b-73b2-4a14-8150-c8b25c2a9e18"
      },
      "source": [
        "# Check the resulting column\n",
        "data_pre.select('features', 'label').show(2, truncate=False)"
      ],
      "execution_count": null,
      "outputs": [
        {
          "output_type": "stream",
          "name": "stdout",
          "text": [
            "+--------------------------------------------------------------------+-----+\n",
            "|features                                                            |label|\n",
            "+--------------------------------------------------------------------+-----+\n",
            "|(21,[0,1,2,9,13,18,19,20],[11.0,20.0,6.0,1.0,1.0,3465.0,9.48,351.0])|null |\n",
            "|(21,[1,2,3,11,18,19,20],[22.0,2.0,1.0,1.0,509.0,16.33,82.0])        |1    |\n",
            "+--------------------------------------------------------------------+-----+\n",
            "only showing top 2 rows\n",
            "\n"
          ]
        }
      ]
    },
    {
      "cell_type": "code",
      "metadata": {
        "id": "RuPfIPrqR2L_",
        "colab": {
          "base_uri": "https://localhost:8080/"
        },
        "outputId": "711e2e3d-ce1c-42e5-b540-05eb49fc974e"
      },
      "source": [
        "data_pre.show(3, False)"
      ],
      "execution_count": null,
      "outputs": [
        {
          "output_type": "stream",
          "name": "stdout",
          "text": [
            "+---+---+---+-------+---+----+------+--------+-----+------+-----+-----------+-------+-------------+-------------+--------------------------------------------------------------------+\n",
            "|mon|dom|dow|carrier|org|mile|depart|duration|delay|km    |label|carrier_idx|org_idx|carrier_vec  |org_vec      |features                                                            |\n",
            "+---+---+---+-------+---+----+------+--------+-----+------+-----+-----------+-------+-------------+-------------+--------------------------------------------------------------------+\n",
            "|11 |20 |6  |US     |JFK|2153|9.48  |351     |NA   |3465.0|null |6.0        |2.0    |(8,[6],[1.0])|(7,[2],[1.0])|(21,[0,1,2,9,13,18,19,20],[11.0,20.0,6.0,1.0,1.0,3465.0,9.48,351.0])|\n",
            "|0  |22 |2  |UA     |ORD|316 |16.33 |82      |30   |509.0 |1    |0.0        |0.0    |(8,[0],[1.0])|(7,[0],[1.0])|(21,[1,2,3,11,18,19,20],[22.0,2.0,1.0,1.0,509.0,16.33,82.0])        |\n",
            "|2  |20 |4  |UA     |SFO|337 |6.17  |82      |-8   |542.0 |0    |0.0        |1.0    |(8,[0],[1.0])|(7,[1],[1.0])|(21,[0,1,2,3,12,18,19,20],[2.0,20.0,4.0,1.0,1.0,542.0,6.17,82.0])   |\n",
            "+---+---+---+-------+---+----+------+--------+-----+------+-----+-----------+-------+-------------+-------------+--------------------------------------------------------------------+\n",
            "only showing top 3 rows\n",
            "\n"
          ]
        }
      ]
    },
    {
      "cell_type": "code",
      "metadata": {
        "id": "ohvD2PqmR2MC",
        "colab": {
          "base_uri": "https://localhost:8080/"
        },
        "outputId": "dff31b6f-6283-443d-aa93-15fd014d1ff1"
      },
      "source": [
        "final_data = data_pre.select(\"features\",\"label\")\n",
        "final_data.count()"
      ],
      "execution_count": null,
      "outputs": [
        {
          "output_type": "execute_result",
          "data": {
            "text/plain": [
              "50000"
            ]
          },
          "metadata": {},
          "execution_count": 29
        }
      ]
    },
    {
      "cell_type": "code",
      "metadata": {
        "id": "vgTXYctAR2ME",
        "colab": {
          "base_uri": "https://localhost:8080/"
        },
        "outputId": "00492b95-3879-4a5e-8a47-77511eb0b1b7"
      },
      "source": [
        "final_data = final_data.na.drop()\n",
        "final_data.count()"
      ],
      "execution_count": null,
      "outputs": [
        {
          "output_type": "execute_result",
          "data": {
            "text/plain": [
              "47022"
            ]
          },
          "metadata": {},
          "execution_count": 30
        }
      ]
    },
    {
      "cell_type": "code",
      "metadata": {
        "id": "1to1rg0xR2MF",
        "colab": {
          "base_uri": "https://localhost:8080/"
        },
        "outputId": "2b5ff594-e74d-4e58-8509-c56904411be7"
      },
      "source": [
        "final_data.show(5)"
      ],
      "execution_count": null,
      "outputs": [
        {
          "output_type": "stream",
          "name": "stdout",
          "text": [
            "+--------------------+-----+\n",
            "|            features|label|\n",
            "+--------------------+-----+\n",
            "|(21,[1,2,3,11,18,...|    1|\n",
            "|(21,[0,1,2,3,12,1...|    0|\n",
            "|(21,[0,1,2,4,11,1...|    0|\n",
            "|(21,[0,1,2,3,12,1...|    1|\n",
            "|(21,[0,1,2,4,11,1...|    1|\n",
            "+--------------------+-----+\n",
            "only showing top 5 rows\n",
            "\n"
          ]
        }
      ]
    },
    {
      "cell_type": "code",
      "metadata": {
        "id": "EvYFLHST-lgH",
        "colab": {
          "base_uri": "https://localhost:8080/"
        },
        "outputId": "df413f67-9144-4689-e9d8-ff598f405336"
      },
      "source": [
        "new_data = data_pre.select(\"features\", \"label\").filter(data_pre.label.isNull())\n",
        "new_data.show(3, False)"
      ],
      "execution_count": null,
      "outputs": [
        {
          "output_type": "stream",
          "name": "stdout",
          "text": [
            "+--------------------------------------------------------------------+-----+\n",
            "|features                                                            |label|\n",
            "+--------------------------------------------------------------------+-----+\n",
            "|(21,[0,1,2,9,13,18,19,20],[11.0,20.0,6.0,1.0,1.0,3465.0,9.48,351.0])|null |\n",
            "|(21,[0,1,2,4,11,18,19,20],[4.0,2.0,5.0,1.0,1.0,415.0,8.92,65.0])    |null |\n",
            "|(21,[1,2,3,11,18,19,20],[8.0,2.0,1.0,1.0,538.0,11.08,85.0])         |null |\n",
            "+--------------------------------------------------------------------+-----+\n",
            "only showing top 3 rows\n",
            "\n"
          ]
        }
      ]
    },
    {
      "cell_type": "code",
      "metadata": {
        "id": "Kjo8wnW4-oYW",
        "colab": {
          "base_uri": "https://localhost:8080/"
        },
        "outputId": "f4bae77b-b9bb-4934-cf36-a54f582b11c6"
      },
      "source": [
        "new_data.count()"
      ],
      "execution_count": null,
      "outputs": [
        {
          "output_type": "execute_result",
          "data": {
            "text/plain": [
              "2978"
            ]
          },
          "metadata": {},
          "execution_count": 33
        }
      ]
    },
    {
      "cell_type": "code",
      "metadata": {
        "id": "9nsawBjJR2MH"
      },
      "source": [
        "train_data,test_data = final_data.randomSplit([0.8,0.2])"
      ],
      "execution_count": null,
      "outputs": []
    },
    {
      "cell_type": "code",
      "metadata": {
        "id": "BrH9NKivR2MJ",
        "colab": {
          "base_uri": "https://localhost:8080/"
        },
        "outputId": "96930473-86f3-4778-9306-9c940e31d00c"
      },
      "source": [
        "train_data.describe().show()"
      ],
      "execution_count": null,
      "outputs": [
        {
          "output_type": "stream",
          "name": "stdout",
          "text": [
            "+-------+-------------------+\n",
            "|summary|              label|\n",
            "+-------+-------------------+\n",
            "|  count|              37585|\n",
            "|   mean| 0.6522814952773713|\n",
            "| stddev|0.47625243406635887|\n",
            "|    min|                  0|\n",
            "|    max|                  1|\n",
            "+-------+-------------------+\n",
            "\n"
          ]
        }
      ]
    },
    {
      "cell_type": "code",
      "metadata": {
        "id": "Ku-q2foZR2MM",
        "colab": {
          "base_uri": "https://localhost:8080/"
        },
        "outputId": "e38769bb-93f2-4623-8206-d42f7454b422"
      },
      "source": [
        "test_data.describe().show()"
      ],
      "execution_count": null,
      "outputs": [
        {
          "output_type": "stream",
          "name": "stdout",
          "text": [
            "+-------+------------------+\n",
            "|summary|             label|\n",
            "+-------+------------------+\n",
            "|  count|              9437|\n",
            "|   mean|0.6542333368655293|\n",
            "| stddev|0.4756427767782642|\n",
            "|    min|                 0|\n",
            "|    max|                 1|\n",
            "+-------+------------------+\n",
            "\n"
          ]
        }
      ]
    },
    {
      "cell_type": "markdown",
      "metadata": {
        "id": "oDiQibqRxZcH"
      },
      "source": [
        "# Decision Tree\n",
        "- ..."
      ]
    },
    {
      "cell_type": "code",
      "source": [
        "# Import the Decision Tree Classifier class\n",
        "from pyspark.ml.classification import DecisionTreeClassifier\n",
        "from pyspark.ml.classification import DecisionTreeClassificationModel"
      ],
      "metadata": {
        "id": "jsWFrCv0p7aB"
      },
      "execution_count": null,
      "outputs": []
    },
    {
      "cell_type": "code",
      "source": [
        "from pyspark.ml.classification import RandomForestClassifier\n",
        "from pyspark.ml.classification import RandomForestClassificationModel"
      ],
      "metadata": {
        "id": "Zr5qj3yUqD3S"
      },
      "execution_count": null,
      "outputs": []
    },
    {
      "cell_type": "code",
      "source": [
        "from pyspark.ml.classification import GBTClassifier\n",
        "from pyspark.ml.classification import GBTClassificationModel"
      ],
      "metadata": {
        "id": "MaFA2ZlvqLWd"
      },
      "execution_count": null,
      "outputs": []
    },
    {
      "cell_type": "code",
      "source": [
        "from pyspark.ml.evaluation import MulticlassClassificationEvaluator\n",
        "from pyspark.ml.evaluation import BinaryClassificationEvaluator"
      ],
      "metadata": {
        "id": "b1ylM-vlqQV3"
      },
      "execution_count": null,
      "outputs": []
    }
  ]
}