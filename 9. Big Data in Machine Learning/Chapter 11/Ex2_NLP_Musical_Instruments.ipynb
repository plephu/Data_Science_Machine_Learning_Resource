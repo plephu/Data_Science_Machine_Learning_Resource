{
 "cells": [
  {
   "cell_type": "code",
   "execution_count": 1,
   "id": "a9628418-7bb8-4c51-9ca1-e69025dfb4a8",
   "metadata": {},
   "outputs": [],
   "source": [
    "import findspark\n",
    "findspark.init()"
   ]
  },
  {
   "cell_type": "code",
   "execution_count": 2,
   "id": "9f6c1a0c-17ab-496f-b071-cbbfdc28d11e",
   "metadata": {},
   "outputs": [],
   "source": [
    "from pyspark.sql import SparkSession"
   ]
  },
  {
   "cell_type": "code",
   "execution_count": 3,
   "id": "cfffea74-03a8-4100-8f76-d65d3a03a668",
   "metadata": {},
   "outputs": [],
   "source": [
    "spark = SparkSession.builder.appName('nlp_musical').getOrCreate()"
   ]
  },
  {
   "cell_type": "code",
   "execution_count": 4,
   "id": "c640d5e6-9221-412a-a6bc-8565c04bd695",
   "metadata": {},
   "outputs": [],
   "source": [
    "data = data = spark.read.json(\"Musical_Instruments_5.json\")"
   ]
  },
  {
   "cell_type": "code",
   "execution_count": 5,
   "id": "1642e533-fbb0-46cc-8bc1-59414a6efd63",
   "metadata": {},
   "outputs": [
    {
     "name": "stdout",
     "output_type": "stream",
     "text": [
      "+----------+--------+-------+--------------------+-----------+--------------+--------------------+--------------------+--------------+\n",
      "|      asin| helpful|overall|          reviewText| reviewTime|    reviewerID|        reviewerName|             summary|unixReviewTime|\n",
      "+----------+--------+-------+--------------------+-----------+--------------+--------------------+--------------------+--------------+\n",
      "|1384719342|  [0, 0]|    5.0|Not much to write...|02 28, 2014|A2IBPI20UZIR0U|cassandra tu \"Yea...|                good|    1393545600|\n",
      "|1384719342|[13, 14]|    5.0|The product does ...|03 16, 2013|A14VAT5EAX3D9S|                Jake|                Jake|    1363392000|\n",
      "|1384719342|  [1, 1]|    5.0|The primary job o...|08 28, 2013|A195EZSQDW3E21|Rick Bennette \"Ri...|It Does The Job Well|    1377648000|\n",
      "|1384719342|  [0, 0]|    5.0|Nice windscreen p...|02 14, 2014|A2C00NNG1ZQQG2|RustyBill \"Sunday...|GOOD WINDSCREEN F...|    1392336000|\n",
      "|1384719342|  [0, 0]|    5.0|This pop filter i...|02 21, 2014| A94QU4C90B1AX|       SEAN MASLANKA|No more pops when...|    1392940800|\n",
      "+----------+--------+-------+--------------------+-----------+--------------+--------------------+--------------------+--------------+\n",
      "only showing top 5 rows\n",
      "\n"
     ]
    }
   ],
   "source": [
    "data.show(5)"
   ]
  },
  {
   "cell_type": "code",
   "execution_count": 6,
   "id": "cd931962-8232-4de0-a76d-c3a2b010019a",
   "metadata": {},
   "outputs": [],
   "source": [
    "from pyspark.sql.functions import *"
   ]
  },
  {
   "cell_type": "code",
   "execution_count": 7,
   "id": "74fc9d27-f7a7-4354-ae26-530e629d3589",
   "metadata": {},
   "outputs": [],
   "source": [
    "data = data.withColumn('class', when(data.overall >=4, \"like\")\n",
    "                               .when(data.overall <= 2, \"not_like\")\n",
    "                               .otherwise(\"neutral\"))\n"
   ]
  },
  {
   "cell_type": "code",
   "execution_count": 8,
   "id": "0661a035-c5ee-458f-b679-8fb168aeed0f",
   "metadata": {},
   "outputs": [],
   "source": [
    "data = data.select(\"reviewText\", \"overall\", \"class\")"
   ]
  },
  {
   "cell_type": "markdown",
   "id": "03534e09-39e9-40b5-b821-6b893fac6a18",
   "metadata": {},
   "source": [
    "### Clean and Prepare the Data"
   ]
  },
  {
   "cell_type": "markdown",
   "id": "3219f5bf-7c9e-492a-a346-b2bc3fef44ed",
   "metadata": {},
   "source": [
    "** Create a new length feature: **\n"
   ]
  },
  {
   "cell_type": "code",
   "execution_count": 9,
   "id": "edb436ac-636a-4a8c-9e91-219201636bd0",
   "metadata": {},
   "outputs": [],
   "source": [
    "from pyspark.sql.functions import length"
   ]
  },
  {
   "cell_type": "code",
   "execution_count": 10,
   "id": "010276e4-4db4-45f1-a905-3eeeda567e70",
   "metadata": {},
   "outputs": [],
   "source": [
    "data = data.withColumn('length',length(data['reviewText']))"
   ]
  },
  {
   "cell_type": "code",
   "execution_count": 11,
   "id": "c717919d-5fb6-49df-8788-6139601baefe",
   "metadata": {},
   "outputs": [
    {
     "name": "stdout",
     "output_type": "stream",
     "text": [
      "+--------------------+-------+-------+------+\n",
      "|          reviewText|overall|  class|length|\n",
      "+--------------------+-------+-------+------+\n",
      "|Not much to write...|    5.0|   like|   268|\n",
      "|The product does ...|    5.0|   like|   544|\n",
      "|The primary job o...|    5.0|   like|   436|\n",
      "|Nice windscreen p...|    5.0|   like|   206|\n",
      "|This pop filter i...|    5.0|   like|   159|\n",
      "|So good that I bo...|    5.0|   like|   234|\n",
      "|I have used monst...|    5.0|   like|   191|\n",
      "|I now use this ca...|    3.0|neutral|   845|\n",
      "|Perfect for my Ep...|    5.0|   like|   201|\n",
      "|Monster makes the...|    5.0|   like|   217|\n",
      "+--------------------+-------+-------+------+\n",
      "only showing top 10 rows\n",
      "\n"
     ]
    }
   ],
   "source": [
    "data.show(10)"
   ]
  },
  {
   "cell_type": "code",
   "execution_count": 12,
   "id": "96c38500-336f-46d2-bd0c-41172b068bd5",
   "metadata": {},
   "outputs": [
    {
     "name": "stdout",
     "output_type": "stream",
     "text": [
      "+--------+------------------+-----------------+\n",
      "|   class|      avg(overall)|      avg(length)|\n",
      "+--------+------------------+-----------------+\n",
      "|not_like|1.5353319057815846|579.2055674518201|\n",
      "| neutral|               3.0|579.2111398963731|\n",
      "|    like|4.7690090888938155|473.1188206606074|\n",
      "+--------+------------------+-----------------+\n",
      "\n"
     ]
    }
   ],
   "source": [
    "# Pretty Clear Difference\n",
    "data.groupby('class').mean().show()"
   ]
  },
  {
   "cell_type": "code",
   "execution_count": 13,
   "id": "6ed5c66f-e6ed-4d89-a2d2-50ad46f2a910",
   "metadata": {},
   "outputs": [
    {
     "name": "stdout",
     "output_type": "stream",
     "text": [
      "+--------+-----+\n",
      "|   class|count|\n",
      "+--------+-----+\n",
      "|not_like|  467|\n",
      "| neutral|  772|\n",
      "|    like| 9022|\n",
      "+--------+-----+\n",
      "\n"
     ]
    }
   ],
   "source": [
    "data.groupby('class').count().show()"
   ]
  },
  {
   "cell_type": "markdown",
   "id": "6f2e3b9a-846c-413a-bc20-d01e59a15ada",
   "metadata": {},
   "source": [
    "### Feature Transformations"
   ]
  },
  {
   "cell_type": "code",
   "execution_count": 14,
   "id": "f0cf676f-ec51-4db6-aa32-d7dd397ad88b",
   "metadata": {},
   "outputs": [],
   "source": [
    "from pyspark.ml.feature import Tokenizer,StopWordsRemover\n",
    "from pyspark.ml.feature import CountVectorizer,IDF,StringIndexer\n",
    "tokenizer = Tokenizer(inputCol=\"reviewText\", outputCol=\"token_text\")\n",
    "stopremove = StopWordsRemover(inputCol='token_text',outputCol='stop_tokens')\n",
    "count_vec = CountVectorizer(inputCol='stop_tokens',outputCol='c_vec')\n",
    "idf = IDF(inputCol=\"c_vec\", outputCol=\"tf_idf\")\n",
    "class_to_num = StringIndexer(inputCol='class',outputCol='label')"
   ]
  },
  {
   "cell_type": "code",
   "execution_count": 15,
   "id": "45038f60-c3e1-44d7-8700-d70063edb30d",
   "metadata": {},
   "outputs": [],
   "source": [
    "from pyspark.ml.feature import VectorAssembler\n",
    "from pyspark.ml.linalg import Vector"
   ]
  },
  {
   "cell_type": "code",
   "execution_count": 16,
   "id": "79659458-10ab-4b25-9020-59bd9965332d",
   "metadata": {},
   "outputs": [],
   "source": [
    "clean_up = VectorAssembler(inputCols=['tf_idf','length'],outputCol='features')"
   ]
  },
  {
   "cell_type": "markdown",
   "id": "3fbe328b-582d-4bc4-b4d2-6cfad281a9a2",
   "metadata": {},
   "source": [
    "### The Model"
   ]
  },
  {
   "cell_type": "markdown",
   "id": "a9c68380-9f9b-4b6c-98b8-fa96fa7c0273",
   "metadata": {},
   "source": [
    "We'll use Naive Bayes, but feel free to play around with this choice!\n"
   ]
  },
  {
   "cell_type": "code",
   "execution_count": 17,
   "id": "03589872-c4c8-4739-8759-a05ea83e95e4",
   "metadata": {},
   "outputs": [],
   "source": [
    "from pyspark.ml.classification import NaiveBayes"
   ]
  },
  {
   "cell_type": "code",
   "execution_count": 18,
   "id": "7892321a-3781-4a91-94de-7cfac1fa4469",
   "metadata": {},
   "outputs": [],
   "source": [
    "# Use defaults\n",
    "nb = NaiveBayes()"
   ]
  },
  {
   "cell_type": "markdown",
   "id": "eb47d01a-8acd-489d-81d7-c16f5652182e",
   "metadata": {},
   "source": [
    "### Pipeline"
   ]
  },
  {
   "cell_type": "code",
   "execution_count": 19,
   "id": "2a4fc94b-f2e0-4286-b91d-76871b7b27d2",
   "metadata": {},
   "outputs": [],
   "source": [
    "from pyspark.ml import Pipeline"
   ]
  },
  {
   "cell_type": "code",
   "execution_count": 21,
   "id": "35699cfd-13e6-4524-9212-0b33e31f12ac",
   "metadata": {},
   "outputs": [],
   "source": [
    "data_prep_pipe = Pipeline(stages=[class_to_num,\n",
    "                                  tokenizer,\n",
    "                                  stopremove,\n",
    "                                  count_vec,\n",
    "                                  idf,\n",
    "                                  clean_up])"
   ]
  },
  {
   "cell_type": "code",
   "execution_count": 22,
   "id": "fd6b24ff-2c65-4b39-a5ad-c5e657cffdb1",
   "metadata": {},
   "outputs": [],
   "source": [
    "cleaner = data_prep_pipe.fit(data)"
   ]
  },
  {
   "cell_type": "code",
   "execution_count": 23,
   "id": "afc9564d-263f-4d89-abb1-fad0e0f48adb",
   "metadata": {},
   "outputs": [],
   "source": [
    "clean_data = cleaner.transform(data)"
   ]
  },
  {
   "cell_type": "markdown",
   "id": "0ee38029-0f85-4ba1-a796-9c67da96fe71",
   "metadata": {},
   "source": [
    "### Training and Evaluation!"
   ]
  },
  {
   "cell_type": "code",
   "execution_count": 24,
   "id": "f4f2d585-e8c4-4c9b-90ae-2837d7a94bc7",
   "metadata": {},
   "outputs": [],
   "source": [
    "clean_data = clean_data.select(['label','features'])"
   ]
  },
  {
   "cell_type": "code",
   "execution_count": 25,
   "id": "7c9ef45a-2d9d-4289-a7e5-0dda40bbd1b2",
   "metadata": {},
   "outputs": [
    {
     "name": "stdout",
     "output_type": "stream",
     "text": [
      "+-----+--------------------+\n",
      "|label|            features|\n",
      "+-----+--------------------+\n",
      "|  0.0|(51949,[3,12,14,3...|\n",
      "|  0.0|(51949,[2,3,12,16...|\n",
      "|  0.0|(51949,[11,19,44,...|\n",
      "|  0.0|(51949,[18,37,57,...|\n",
      "|  0.0|(51949,[2,122,132...|\n",
      "|  0.0|(51949,[0,5,15,21...|\n",
      "|  0.0|(51949,[5,16,29,1...|\n",
      "|  1.0|(51949,[1,3,4,8,1...|\n",
      "|  0.0|(51949,[0,3,12,33...|\n",
      "|  0.0|(51949,[1,6,15,52...|\n",
      "+-----+--------------------+\n",
      "only showing top 10 rows\n",
      "\n"
     ]
    }
   ],
   "source": [
    "clean_data.show(10)"
   ]
  },
  {
   "cell_type": "code",
   "execution_count": 26,
   "id": "57fd0cba-a136-48cc-b3a3-508ba07f75b9",
   "metadata": {},
   "outputs": [],
   "source": [
    "(training,testing) = clean_data.randomSplit([0.7,0.3])"
   ]
  },
  {
   "cell_type": "code",
   "execution_count": 27,
   "id": "9a5c7bd5-08e9-49d6-ade8-ce94e70659e7",
   "metadata": {},
   "outputs": [],
   "source": [
    "spam_predictor = nb.fit(training)"
   ]
  },
  {
   "cell_type": "code",
   "execution_count": 28,
   "id": "af206880-58c5-4543-92fd-2f8734893713",
   "metadata": {},
   "outputs": [
    {
     "name": "stdout",
     "output_type": "stream",
     "text": [
      "root\n",
      " |-- reviewText: string (nullable = true)\n",
      " |-- overall: double (nullable = true)\n",
      " |-- class: string (nullable = false)\n",
      " |-- length: integer (nullable = true)\n",
      "\n"
     ]
    }
   ],
   "source": [
    "data.printSchema()"
   ]
  },
  {
   "cell_type": "code",
   "execution_count": 29,
   "id": "47dc409c-2c97-4c11-8282-cc235fffc207",
   "metadata": {},
   "outputs": [],
   "source": [
    "test_results = spam_predictor.transform(testing)"
   ]
  },
  {
   "cell_type": "code",
   "execution_count": 30,
   "id": "daa38582-c645-4431-9dbd-4e89eb6eae65",
   "metadata": {},
   "outputs": [
    {
     "name": "stdout",
     "output_type": "stream",
     "text": [
      "+-----+--------------------+--------------------+--------------------+----------+\n",
      "|label|            features|       rawPrediction|         probability|prediction|\n",
      "+-----+--------------------+--------------------+--------------------+----------+\n",
      "|  0.0|(51949,[0],[1.025...|[-6.4364458791922...|[0.88254556731249...|       0.0|\n",
      "|  0.0|(51949,[0,1,2,3,4...|[-9464.3199117707...|[5.41364644463281...|       1.0|\n",
      "|  0.0|(51949,[0,1,2,3,4...|[-37790.085841850...|[9.61392136634175...|       1.0|\n",
      "|  0.0|(51949,[0,1,2,3,4...|[-22194.003180576...|[1.49645589416267...|       1.0|\n",
      "|  0.0|(51949,[0,1,2,3,4...|[-3891.9440090324...|[1.0,2.6511348389...|       0.0|\n",
      "|  0.0|(51949,[0,1,2,3,4...|[-20912.362050739...|[1.0,1.0446542006...|       0.0|\n",
      "|  0.0|(51949,[0,1,2,3,4...|[-9464.4172761728...|[1.0,1.9741604603...|       0.0|\n",
      "|  0.0|(51949,[0,1,2,3,4...|[-4102.3344908907...|[6.99359242030503...|       1.0|\n",
      "|  0.0|(51949,[0,1,2,3,5...|[-11856.051529633...|[1.0,1.8591330129...|       0.0|\n",
      "|  0.0|(51949,[0,1,2,3,5...|[-985.65443720774...|[1.0,8.8158587108...|       0.0|\n",
      "+-----+--------------------+--------------------+--------------------+----------+\n",
      "only showing top 10 rows\n",
      "\n"
     ]
    }
   ],
   "source": [
    "test_results.show(10)"
   ]
  },
  {
   "cell_type": "code",
   "execution_count": 31,
   "id": "30e44c47-083b-4a60-aad6-d8704157371e",
   "metadata": {},
   "outputs": [
    {
     "name": "stdout",
     "output_type": "stream",
     "text": [
      "+-----+----------+-----+\n",
      "|label|prediction|count|\n",
      "+-----+----------+-----+\n",
      "|  2.0|       0.0|   65|\n",
      "|  1.0|       1.0|   75|\n",
      "|  0.0|       1.0|  514|\n",
      "|  1.0|       0.0|  157|\n",
      "|  2.0|       2.0|   42|\n",
      "|  2.0|       1.0|   39|\n",
      "|  1.0|       2.0|   24|\n",
      "|  0.0|       0.0| 2050|\n",
      "|  0.0|       2.0|  213|\n",
      "+-----+----------+-----+\n",
      "\n"
     ]
    }
   ],
   "source": [
    "test_results.groupBy(\"label\", \"prediction\").count().show()"
   ]
  },
  {
   "cell_type": "code",
   "execution_count": 32,
   "id": "e286065d-0730-4ca2-aa14-d5a95898c88d",
   "metadata": {},
   "outputs": [],
   "source": [
    "from pyspark.ml.evaluation import MulticlassClassificationEvaluator"
   ]
  },
  {
   "cell_type": "code",
   "execution_count": 33,
   "id": "7f2ec81f-eade-4905-841b-4eef45fc3183",
   "metadata": {},
   "outputs": [
    {
     "name": "stdout",
     "output_type": "stream",
     "text": [
      "Accuracy of model at predicting spam was: 0.7320968816341021\n"
     ]
    }
   ],
   "source": [
    "acc_eval = MulticlassClassificationEvaluator()\n",
    "acc = acc_eval.evaluate(test_results)\n",
    "print(\"Accuracy of model at predicting spam was: {}\".format(acc))"
   ]
  },
  {
   "cell_type": "code",
   "execution_count": 34,
   "id": "0f4bd146-16ff-4f89-bfe8-fda5077f5a84",
   "metadata": {},
   "outputs": [],
   "source": [
    "## Higher accuracy but not better result!!!"
   ]
  },
  {
   "cell_type": "markdown",
   "id": "1b193bf3-c287-473e-9fe6-fed92adb9e6a",
   "metadata": {},
   "source": [
    "### Use LogisticRegression/Random Forest"
   ]
  },
  {
   "cell_type": "markdown",
   "id": "28ba4b14-dbac-4fe0-b9d9-5f3eefc2d3fe",
   "metadata": {},
   "source": [
    "#### Logistic Regression"
   ]
  },
  {
   "cell_type": "code",
   "execution_count": 37,
   "id": "f56abc31-45ec-4185-986e-c17d3a5a5aa0",
   "metadata": {},
   "outputs": [],
   "source": [
    "from pyspark.ml.classification import RandomForestClassifier, LogisticRegression"
   ]
  },
  {
   "cell_type": "code",
   "execution_count": 38,
   "id": "4df75f8a-3c87-447c-98cf-8e1dfa34d97b",
   "metadata": {},
   "outputs": [],
   "source": [
    "lg = LogisticRegression(maxIter=20, regParam=0.3, elasticNetParam=0)"
   ]
  },
  {
   "cell_type": "code",
   "execution_count": 39,
   "id": "b5473702-6672-4143-8211-e52838e77204",
   "metadata": {},
   "outputs": [],
   "source": [
    "predictor_1 = lg.fit(training)"
   ]
  },
  {
   "cell_type": "code",
   "execution_count": 40,
   "id": "9ef7fcc2-85e0-4420-9089-b19fe2f4355b",
   "metadata": {},
   "outputs": [],
   "source": [
    "test_results_1 = predictor_1.transform(testing)"
   ]
  },
  {
   "cell_type": "code",
   "execution_count": 42,
   "id": "563bbc89-c4cb-46f8-96e1-5aebe1884673",
   "metadata": {},
   "outputs": [
    {
     "name": "stdout",
     "output_type": "stream",
     "text": [
      "+-----+----------+-----+\n",
      "|label|prediction|count|\n",
      "+-----+----------+-----+\n",
      "|  2.0|       0.0|  141|\n",
      "|  0.0|       1.0|    7|\n",
      "|  1.0|       0.0|  251|\n",
      "|  0.0|       0.0| 2766|\n",
      "|  0.0|       2.0|    4|\n",
      "|  1.0|       1.0|    2|\n",
      "|  2.0|       2.0|    5|\n",
      "|  1.0|       2.0|    3|\n",
      "+-----+----------+-----+\n",
      "\n"
     ]
    }
   ],
   "source": [
    "# Create a confusion matrix\n",
    "test_results_1.groupBy('label', 'prediction').count().show()"
   ]
  },
  {
   "cell_type": "code",
   "execution_count": 43,
   "id": "091b99ca-7cf2-45b7-a252-99b98b817a77",
   "metadata": {},
   "outputs": [
    {
     "name": "stdout",
     "output_type": "stream",
     "text": [
      "Accuracy of model at predicting: 0.81835169568789\n"
     ]
    }
   ],
   "source": [
    "acc_eval = MulticlassClassificationEvaluator()\n",
    "acc_1 = acc_eval.evaluate(test_results_1)\n",
    "print(\"Accuracy of model at predicting: {}\".format(acc_1))"
   ]
  },
  {
   "cell_type": "code",
   "execution_count": 44,
   "id": "10554177-a106-47a7-8428-c19ad77b11fd",
   "metadata": {},
   "outputs": [],
   "source": [
    "## Higher accuracy but not better result!!!"
   ]
  },
  {
   "cell_type": "markdown",
   "id": "4a058725-36bb-4fba-be68-19c7bdc8b3e7",
   "metadata": {},
   "source": [
    "### Random forest"
   ]
  },
  {
   "cell_type": "code",
   "execution_count": 45,
   "id": "78b7faf5-3cf3-4a43-a9bb-ab58b794e83f",
   "metadata": {},
   "outputs": [],
   "source": [
    "rf = RandomForestClassifier(labelCol=\"label\", \n",
    "                            featuresCol=\"features\", \n",
    "                            numTrees = 500, \n",
    "                            maxDepth = 5, \n",
    "                            maxBins = 64)"
   ]
  },
  {
   "cell_type": "code",
   "execution_count": 46,
   "id": "5d01cd66-8060-4a11-bc49-1cf51e649425",
   "metadata": {},
   "outputs": [],
   "source": [
    "predictor_2 = rf.fit(training)"
   ]
  },
  {
   "cell_type": "code",
   "execution_count": 47,
   "id": "c7fb1f6f-4d86-4a8f-b22c-e1fbb8b105e0",
   "metadata": {},
   "outputs": [],
   "source": [
    "test_results_2 = predictor_2.transform(testing)"
   ]
  },
  {
   "cell_type": "code",
   "execution_count": 48,
   "id": "88112b98-81ad-4437-afe6-d3aafaf40eeb",
   "metadata": {},
   "outputs": [
    {
     "name": "stdout",
     "output_type": "stream",
     "text": [
      "+-----+----------+-----+\n",
      "|label|prediction|count|\n",
      "+-----+----------+-----+\n",
      "|  2.0|       0.0|  146|\n",
      "|  1.0|       0.0|  256|\n",
      "|  0.0|       0.0| 2777|\n",
      "+-----+----------+-----+\n",
      "\n"
     ]
    }
   ],
   "source": [
    "# Create a confusion matrix\n",
    "test_results_2.groupBy('label', 'prediction').count().show()"
   ]
  },
  {
   "cell_type": "code",
   "execution_count": 49,
   "id": "8e5f4617-0716-43df-af95-ce8caf40960a",
   "metadata": {},
   "outputs": [
    {
     "name": "stdout",
     "output_type": "stream",
     "text": [
      "+----------+-----+\n",
      "|prediction|count|\n",
      "+----------+-----+\n",
      "|       0.0| 3179|\n",
      "+----------+-----+\n",
      "\n"
     ]
    }
   ],
   "source": [
    "test_results_2.groupBy('prediction').count().show()"
   ]
  },
  {
   "cell_type": "code",
   "execution_count": 50,
   "id": "80dd1d96-74b7-4c66-a352-bf97a61ea7b0",
   "metadata": {},
   "outputs": [
    {
     "name": "stdout",
     "output_type": "stream",
     "text": [
      "Accuracy of model at predicting: 0.8145852430247102\n"
     ]
    }
   ],
   "source": [
    "acc_eval = MulticlassClassificationEvaluator()\n",
    "acc_2 = acc_eval.evaluate(test_results_2)\n",
    "print(\"Accuracy of model at predicting: {}\".format(acc_2))"
   ]
  },
  {
   "cell_type": "code",
   "execution_count": 51,
   "id": "57f24d2f-3d57-4da6-8258-cb97d1e7defc",
   "metadata": {},
   "outputs": [],
   "source": [
    "## Higher accuracy but too bad result!!!"
   ]
  },
  {
   "cell_type": "markdown",
   "id": "e5dfef2e-8e27-4d63-bcd9-e1fedea13f85",
   "metadata": {},
   "source": [
    "### Need to resample data"
   ]
  },
  {
   "cell_type": "code",
   "execution_count": 52,
   "id": "5e00fb46-772a-4fe2-8133-e8a50c8e8a55",
   "metadata": {},
   "outputs": [
    {
     "name": "stdout",
     "output_type": "stream",
     "text": [
      "ratio like/neutral: 12\n",
      "ratio like/not_like: 19\n"
     ]
    }
   ],
   "source": [
    "like_df = training.filter(col(\"label\") == 0)\n",
    "neutral_df = training.filter(col(\"label\") == 1)\n",
    "not_like_df = training.filter(col(\"label\") == 2)\n",
    "ratio_1 = int(like_df.count()/neutral_df.count())\n",
    "ratio_2 = int(like_df.count()/not_like_df.count())\n",
    "print(\"ratio like/neutral: {}\".format(ratio_1))\n",
    "print(\"ratio like/not_like: {}\".format(ratio_2))"
   ]
  },
  {
   "cell_type": "code",
   "execution_count": 61,
   "id": "1800e672-5d5a-4f79-b473-77c0f262a40e",
   "metadata": {},
   "outputs": [
    {
     "name": "stdout",
     "output_type": "stream",
     "text": [
      "+-----+--------------------+\n",
      "|label|            features|\n",
      "+-----+--------------------+\n",
      "|  0.0|(51949,[0],[1.025...|\n",
      "|  0.0|(51949,[0,1,2,3,4...|\n",
      "|  0.0|(51949,[0,1,2,3,4...|\n",
      "|  0.0|(51949,[0,1,2,3,4...|\n",
      "|  0.0|(51949,[0,1,2,3,4...|\n",
      "|  0.0|(51949,[0,1,2,3,4...|\n",
      "|  0.0|(51949,[0,1,2,3,4...|\n",
      "|  0.0|(51949,[0,1,2,3,4...|\n",
      "|  0.0|(51949,[0,1,2,3,4...|\n",
      "|  0.0|(51949,[0,1,2,3,4...|\n",
      "+-----+--------------------+\n",
      "only showing top 10 rows\n",
      "\n"
     ]
    }
   ],
   "source": [
    "# resample neutral\n",
    "a1 = range(ratio_1)\n",
    "# duplicate the minority rows\n",
    "oversampled_neutral_df = neutral_df.withColumn(\"dummy\",\n",
    "explode(array([lit(x) for x in a1]))).drop('dummy')\n",
    "# combine both oversampled minority rows and previous majority rows \n",
    "combined_df = like_df.unionAll(oversampled_neutral_df)\n",
    "combined_df.show(10)"
   ]
  },
  {
   "cell_type": "code",
   "execution_count": null,
   "id": "58b8a673-5dcb-4c00-8dbf-3a9a0ab74b32",
   "metadata": {},
   "outputs": [],
   "source": [
    "combined_df.groupBy(\"label\").count().show()"
   ]
  },
  {
   "cell_type": "code",
   "execution_count": null,
   "id": "f003201e-63db-4502-be61-f74f9a80d406",
   "metadata": {},
   "outputs": [],
   "source": [
    "# resample not_like\n",
    "a2 = range(ratio_2)\n",
    "# duplicate the minority rows\n",
    "oversampled_notlike_df = not_like_df.withColumn(\"dummy\", \n",
    " explode(array([lit(x) for x in a2\n",
    " .drop('dummy')\n",
    "# combine both oversampled minority rows and previous majority rows \n",
    "combined_df = combined_df.unionAll(oversampled_notlike_df)\n",
    "combined_df.show(10)"
   ]
  },
  {
   "cell_type": "code",
   "execution_count": null,
   "id": "83695d49-2375-4fae-a126-5ddabd4efe42",
   "metadata": {},
   "outputs": [],
   "source": [
    "combined_df.groupBy(\"label\").count().show()"
   ]
  },
  {
   "cell_type": "markdown",
   "id": "defc50f6-8e42-4528-a056-d36facadb79c",
   "metadata": {},
   "source": [
    "### Naive Bayer"
   ]
  },
  {
   "cell_type": "code",
   "execution_count": null,
   "id": "f87046f7-c518-4da1-b50b-7b19d8a095f3",
   "metadata": {},
   "outputs": [],
   "source": [
    "predictor_4 = nb.fit(combined_df)"
   ]
  },
  {
   "cell_type": "code",
   "execution_count": null,
   "id": "0d7ab947-efd3-436c-86de-41c9b7b03c15",
   "metadata": {},
   "outputs": [],
   "source": [
    "test_results_4 = predictor_4.transform(testing)"
   ]
  },
  {
   "cell_type": "code",
   "execution_count": null,
   "id": "919397c8-ba70-4c9e-b585-aac980326f26",
   "metadata": {},
   "outputs": [],
   "source": [
    "test_results_4.groupBy('label', 'prediction').count().show()"
   ]
  },
  {
   "cell_type": "code",
   "execution_count": null,
   "id": "1f969c73-f53e-46f3-9c40-23060076ff93",
   "metadata": {},
   "outputs": [],
   "source": [
    "acc_eval = MulticlassClassificationEvaluator()\n",
    "acc_4 = acc_eval.evaluate(test_results_4)\n",
    "print(\"Accuracy of model at predicting: {}\".format(acc_4))"
   ]
  },
  {
   "cell_type": "markdown",
   "id": "46002dac-7366-4ea0-a990-33a8171f9004",
   "metadata": {},
   "source": [
    "### Logistic Regression"
   ]
  },
  {
   "cell_type": "code",
   "execution_count": null,
   "id": "1e0129d7-7102-4294-af39-0627a7242066",
   "metadata": {},
   "outputs": [],
   "source": [
    "predictor_5 = lg.fit(combined_df)"
   ]
  },
  {
   "cell_type": "code",
   "execution_count": null,
   "id": "477dda7c-951a-4e66-9011-e034f88fb50c",
   "metadata": {},
   "outputs": [],
   "source": [
    "test_results_5 = predictor_5.transform(testing)"
   ]
  },
  {
   "cell_type": "code",
   "execution_count": null,
   "id": "290aa34a-0479-49c1-b6ff-aa6bf75faab2",
   "metadata": {},
   "outputs": [],
   "source": [
    "test_results_5.groupBy('label', 'prediction').count().show()"
   ]
  },
  {
   "cell_type": "code",
   "execution_count": null,
   "id": "95653d54-0b2e-448e-8a27-a066af4fd314",
   "metadata": {},
   "outputs": [],
   "source": [
    "acc_eval = MulticlassClassificationEvaluator()\n",
    "acc_5 = acc_eval.evaluate(test_results_5)\n",
    "print(\"Accuracy of model at predicting: {}\".format(acc_5))"
   ]
  },
  {
   "cell_type": "markdown",
   "id": "90801978-b03d-48d9-8b07-20f542654ab4",
   "metadata": {},
   "source": [
    "### Random Forest"
   ]
  },
  {
   "cell_type": "code",
   "execution_count": null,
   "id": "ff04b438-de95-4e41-b1ce-22a5c738740b",
   "metadata": {},
   "outputs": [],
   "source": [
    "predictor_3 = rf.fit(combined_df)"
   ]
  },
  {
   "cell_type": "code",
   "execution_count": null,
   "id": "d33cc977-2657-4db3-b4dc-d8550e2693d4",
   "metadata": {},
   "outputs": [],
   "source": [
    "test_results_3 = predictor_3.transform(testing)"
   ]
  },
  {
   "cell_type": "code",
   "execution_count": null,
   "id": "e94afe45-1fde-4bb8-a054-19051fb63921",
   "metadata": {},
   "outputs": [],
   "source": [
    "test_results_3.groupBy('label').count().show()"
   ]
  },
  {
   "cell_type": "code",
   "execution_count": null,
   "id": "07bf4167-bb42-4be3-9dc1-7d4e2dba66e0",
   "metadata": {},
   "outputs": [],
   "source": [
    "# Create a confusion matrix\n",
    "test_results_3.groupBy('label', 'prediction').count().show()"
   ]
  },
  {
   "cell_type": "code",
   "execution_count": null,
   "id": "193060c9-b9c0-4353-b0c6-041e3a88f3be",
   "metadata": {},
   "outputs": [],
   "source": [
    "acc_eval = MulticlassClassificationEvaluator()\n",
    "acc_3 = acc_eval.evaluate(test_results_3)\n",
    "print(\"Accuracy of model at predicting: {}\".format(acc_3))"
   ]
  },
  {
   "cell_type": "code",
   "execution_count": null,
   "id": "6ddadd17-4117-458f-becc-cddc82ca63e4",
   "metadata": {},
   "outputs": [],
   "source": [
    "## Higher accuracy and better result. But not very good!"
   ]
  }
 ],
 "metadata": {
  "kernelspec": {
   "display_name": "Python 3 (ipykernel)",
   "language": "python",
   "name": "python3"
  },
  "language_info": {
   "codemirror_mode": {
    "name": "ipython",
    "version": 3
   },
   "file_extension": ".py",
   "mimetype": "text/x-python",
   "name": "python",
   "nbconvert_exporter": "python",
   "pygments_lexer": "ipython3",
   "version": "3.9.12"
  }
 },
 "nbformat": 4,
 "nbformat_minor": 5
}
