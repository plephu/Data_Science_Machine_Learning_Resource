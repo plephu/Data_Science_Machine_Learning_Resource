{
 "cells": [
  {
   "cell_type": "code",
   "execution_count": 1,
   "id": "b834f45d-d535-448a-aa3c-c28e408670e0",
   "metadata": {},
   "outputs": [],
   "source": [
    "import findspark\n",
    "findspark.init()"
   ]
  },
  {
   "cell_type": "code",
   "execution_count": 2,
   "id": "53903812-1e0d-486d-9736-967a57b929f9",
   "metadata": {},
   "outputs": [],
   "source": [
    "import pyspark"
   ]
  },
  {
   "cell_type": "code",
   "execution_count": 3,
   "id": "bacc591e-9e83-46b3-8ecc-2d87e87ec0d6",
   "metadata": {},
   "outputs": [],
   "source": [
    "from pyspark import SparkContext\n",
    "from pyspark.conf import SparkConf\n",
    "from pyspark.sql import SparkSession"
   ]
  },
  {
   "cell_type": "code",
   "execution_count": 4,
   "id": "e0e3e0b2-3c63-4250-8e47-e8809f4dce27",
   "metadata": {},
   "outputs": [],
   "source": [
    "sc =SparkContext()"
   ]
  },
  {
   "cell_type": "code",
   "execution_count": 5,
   "id": "56b4be2c-f080-49e4-a8cf-25236be7c39e",
   "metadata": {},
   "outputs": [],
   "source": [
    "spark = SparkSession(sc)"
   ]
  },
  {
   "cell_type": "code",
   "execution_count": 6,
   "id": "ad16eeb1-8231-414f-a113-ab7265261937",
   "metadata": {},
   "outputs": [],
   "source": [
    "#1.\n",
    "data = spark.read.csv(\"data/flights_small.csv\", header=True, inferSchema=True)"
   ]
  },
  {
   "cell_type": "code",
   "execution_count": 7,
   "id": "558d8ddf-b168-4747-a2bf-e0a0d7fedf7a",
   "metadata": {},
   "outputs": [
    {
     "name": "stdout",
     "output_type": "stream",
     "text": [
      "root\n",
      " |-- year: integer (nullable = true)\n",
      " |-- month: integer (nullable = true)\n",
      " |-- day: integer (nullable = true)\n",
      " |-- dep_time: string (nullable = true)\n",
      " |-- dep_delay: string (nullable = true)\n",
      " |-- arr_time: string (nullable = true)\n",
      " |-- arr_delay: string (nullable = true)\n",
      " |-- carrier: string (nullable = true)\n",
      " |-- tailnum: string (nullable = true)\n",
      " |-- flight: integer (nullable = true)\n",
      " |-- origin: string (nullable = true)\n",
      " |-- dest: string (nullable = true)\n",
      " |-- air_time: string (nullable = true)\n",
      " |-- distance: integer (nullable = true)\n",
      " |-- hour: string (nullable = true)\n",
      " |-- minute: string (nullable = true)\n",
      "\n"
     ]
    }
   ],
   "source": [
    "#2.\n",
    "data.printSchema()"
   ]
  },
  {
   "cell_type": "code",
   "execution_count": 8,
   "id": "5c7ef35e-c1dc-4dea-983f-63fcb66b3bb8",
   "metadata": {},
   "outputs": [
    {
     "name": "stdout",
     "output_type": "stream",
     "text": [
      "Number of rows: 10000\n"
     ]
    }
   ],
   "source": [
    "print(\"Number of rows:\", data.count())"
   ]
  },
  {
   "cell_type": "code",
   "execution_count": 9,
   "id": "8c76574d-efc3-4f3e-888c-4058b2b1f16e",
   "metadata": {},
   "outputs": [],
   "source": [
    "#3.\n",
    "data.createOrReplaceTempView(\"flights_small\")"
   ]
  },
  {
   "cell_type": "code",
   "execution_count": 10,
   "id": "59b6271c-3fe6-4033-b536-2e1779a0edab",
   "metadata": {},
   "outputs": [],
   "source": [
    "#4. Create the DataFrame flights\n",
    "flights = spark.table(\"flights_small\")"
   ]
  },
  {
   "cell_type": "code",
   "execution_count": 11,
   "id": "58f5d9f3-0c25-471b-a1da-17c202b733a1",
   "metadata": {},
   "outputs": [
    {
     "name": "stdout",
     "output_type": "stream",
     "text": [
      "+----+-----+---+--------+---------+--------+---------+-------+-------+------+------+----+--------+--------+----+------+\n",
      "|year|month|day|dep_time|dep_delay|arr_time|arr_delay|carrier|tailnum|flight|origin|dest|air_time|distance|hour|minute|\n",
      "+----+-----+---+--------+---------+--------+---------+-------+-------+------+------+----+--------+--------+----+------+\n",
      "|2014|   12|  8|     658|       -7|     935|       -5|     VX| N846VA|  1780|   SEA| LAX|     132|     954|   6|    58|\n",
      "|2014|    1| 22|    1040|        5|    1505|        5|     AS| N559AS|   851|   SEA| HNL|     360|    2677|  10|    40|\n",
      "|2014|    3|  9|    1443|       -2|    1652|        2|     VX| N847VA|   755|   SEA| SFO|     111|     679|  14|    43|\n",
      "+----+-----+---+--------+---------+--------+---------+-------+-------+------+------+----+--------+--------+----+------+\n",
      "only showing top 3 rows\n",
      "\n"
     ]
    }
   ],
   "source": [
    "# Show the head\n",
    "flights.show(3)"
   ]
  },
  {
   "cell_type": "code",
   "execution_count": 12,
   "id": "b15abedd-2adc-4ad6-93c8-2519e57a5d80",
   "metadata": {},
   "outputs": [],
   "source": [
    "#5. Add duration_hrs\n",
    "flights = flights.withColumn(\"duration_hrs\", flights.air_time/60)"
   ]
  },
  {
   "cell_type": "code",
   "execution_count": 13,
   "id": "f43637ac-12b7-411a-9a6d-3609e44c306b",
   "metadata": {},
   "outputs": [
    {
     "name": "stdout",
     "output_type": "stream",
     "text": [
      "+----+-----+---+--------+---------+--------+---------+-------+-------+------+------+----+--------+--------+----+------+------------+\n",
      "|year|month|day|dep_time|dep_delay|arr_time|arr_delay|carrier|tailnum|flight|origin|dest|air_time|distance|hour|minute|duration_hrs|\n",
      "+----+-----+---+--------+---------+--------+---------+-------+-------+------+------+----+--------+--------+----+------+------------+\n",
      "|2014|   12|  8|     658|       -7|     935|       -5|     VX| N846VA|  1780|   SEA| LAX|     132|     954|   6|    58|         2.2|\n",
      "|2014|    1| 22|    1040|        5|    1505|        5|     AS| N559AS|   851|   SEA| HNL|     360|    2677|  10|    40|         6.0|\n",
      "|2014|    3|  9|    1443|       -2|    1652|        2|     VX| N847VA|   755|   SEA| SFO|     111|     679|  14|    43|        1.85|\n",
      "+----+-----+---+--------+---------+--------+---------+-------+-------+------+------+----+--------+--------+----+------+------------+\n",
      "only showing top 3 rows\n",
      "\n"
     ]
    }
   ],
   "source": [
    "flights.show(3)"
   ]
  },
  {
   "cell_type": "code",
   "execution_count": 14,
   "id": "231f0154-f4cb-4fd7-bdbb-3a8f989b405f",
   "metadata": {},
   "outputs": [
    {
     "name": "stdout",
     "output_type": "stream",
     "text": [
      "Row(year=2014, month=12, day=8, dep_time='658', dep_delay='-7', arr_time='935', arr_delay='-5', carrier='VX', tailnum='N846VA', flight=1780, origin='SEA', dest='LAX', air_time='132', distance=954, hour='6', minute='58', duration_hrs=2.2)\n",
      "\n",
      "\n",
      "Row(year=2014, month=1, day=22, dep_time='1040', dep_delay='5', arr_time='1505', arr_delay='5', carrier='AS', tailnum='N559AS', flight=851, origin='SEA', dest='HNL', air_time='360', distance=2677, hour='10', minute='40', duration_hrs=6.0)\n",
      "\n",
      "\n",
      "Row(year=2014, month=3, day=9, dep_time='1443', dep_delay='-2', arr_time='1652', arr_delay='2', carrier='VX', tailnum='N847VA', flight=755, origin='SEA', dest='SFO', air_time='111', distance=679, hour='14', minute='43', duration_hrs=1.85)\n",
      "\n",
      "\n"
     ]
    }
   ],
   "source": [
    "# Show the first 3 observations\n",
    "for row in flights.head(3):\n",
    "    print(row)\n",
    "    print('\\n')"
   ]
  },
  {
   "cell_type": "code",
   "execution_count": 15,
   "id": "8f6ba679-6069-4093-876c-157067802bf8",
   "metadata": {},
   "outputs": [],
   "source": [
    "#6. Filter flights by passing a string\n",
    "long_flights2 = flights.filter(\"distance > 2000\")"
   ]
  },
  {
   "cell_type": "code",
   "execution_count": 16,
   "id": "7a702135-c882-4547-aaf0-5819ad537569",
   "metadata": {},
   "outputs": [
    {
     "name": "stdout",
     "output_type": "stream",
     "text": [
      "Number of rows (distance >2000): 1481\n"
     ]
    }
   ],
   "source": [
    "print(\"Number of rows (distance >2000):\", long_flights2.count())"
   ]
  },
  {
   "cell_type": "code",
   "execution_count": 17,
   "id": "e41caef8-cd46-40ff-a7fa-be939703ccff",
   "metadata": {},
   "outputs": [
    {
     "name": "stdout",
     "output_type": "stream",
     "text": [
      "+----+-----+---+--------+---------+--------+---------+-------+-------+------+------+----+--------+--------+----+------+-----------------+\n",
      "|year|month|day|dep_time|dep_delay|arr_time|arr_delay|carrier|tailnum|flight|origin|dest|air_time|distance|hour|minute|     duration_hrs|\n",
      "+----+-----+---+--------+---------+--------+---------+-------+-------+------+------+----+--------+--------+----+------+-----------------+\n",
      "|2014|    1| 22|    1040|        5|    1505|        5|     AS| N559AS|   851|   SEA| HNL|     360|    2677|  10|    40|              6.0|\n",
      "|2014|    1| 13|    2156|       -9|     607|      -15|     AS| N597AS|    24|   SEA| BOS|     290|    2496|  21|    56|4.833333333333333|\n",
      "+----+-----+---+--------+---------+--------+---------+-------+-------+------+------+----+--------+--------+----+------+-----------------+\n",
      "only showing top 2 rows\n",
      "\n"
     ]
    }
   ],
   "source": [
    "# Print the data to check\n",
    "long_flights2.show(2)"
   ]
  },
  {
   "cell_type": "code",
   "execution_count": 18,
   "id": "4d99fc8a-8fca-4bfa-8d31-3c37b58cd20b",
   "metadata": {},
   "outputs": [],
   "source": [
    "# Construct the \"query\"\n",
    "query = '''SELECT * FROM flights_small WHERE distance > 2000'''\n",
    "# Apply the SQL \"query\"\n",
    "long_flights2_sql = spark.sql(query)"
   ]
  },
  {
   "cell_type": "code",
   "execution_count": 19,
   "id": "bec25746-e230-4c5d-95b8-a64ca3670b3e",
   "metadata": {},
   "outputs": [
    {
     "data": {
      "text/plain": [
       "1481"
      ]
     },
     "execution_count": 19,
     "metadata": {},
     "output_type": "execute_result"
    }
   ],
   "source": [
    "long_flights2_sql.count()"
   ]
  },
  {
   "cell_type": "code",
   "execution_count": 20,
   "id": "e9931084-c5c4-44f3-ac12-ecc570b186aa",
   "metadata": {},
   "outputs": [],
   "source": [
    "#7.\n",
    "time_flights = flights.filter(\"air_time >= 300 and air_time <= 600\")"
   ]
  },
  {
   "cell_type": "code",
   "execution_count": 21,
   "id": "0bb4b51b-f7f6-47c0-a6c8-f1d126706901",
   "metadata": {},
   "outputs": [
    {
     "name": "stdout",
     "output_type": "stream",
     "text": [
      "+----+-----+---+--------+---------+--------+---------+-------+-------+------+------+----+--------+--------+----+------+------------+\n",
      "|year|month|day|dep_time|dep_delay|arr_time|arr_delay|carrier|tailnum|flight|origin|dest|air_time|distance|hour|minute|duration_hrs|\n",
      "+----+-----+---+--------+---------+--------+---------+-------+-------+------+------+----+--------+--------+----+------+------------+\n",
      "|2014|    1| 22|    1040|        5|    1505|        5|     AS| N559AS|   851|   SEA| HNL|     360|    2677|  10|    40|         6.0|\n",
      "|2014|   12|  4|     954|       -6|    1348|      -17|     HA| N395HA|    29|   SEA| OGG|     333|    2640|   9|    54|        5.55|\n",
      "+----+-----+---+--------+---------+--------+---------+-------+-------+------+------+----+--------+--------+----+------+------------+\n",
      "only showing top 2 rows\n",
      "\n"
     ]
    }
   ],
   "source": [
    "time_flights.show(2)"
   ]
  },
  {
   "cell_type": "code",
   "execution_count": 22,
   "id": "50759d98-db2b-4a8b-90a2-f6720b95a35b",
   "metadata": {},
   "outputs": [
    {
     "name": "stdout",
     "output_type": "stream",
     "text": [
      "Number of rows (air_time > 300 and air_time < 600): 440\n"
     ]
    }
   ],
   "source": [
    "print(\"Number of rows (air_time > 300 and air_time < 600):\",time_flights.count())"
   ]
  },
  {
   "cell_type": "code",
   "execution_count": 23,
   "id": "dc0f7208-d9da-4689-aec1-c8a8ca393df7",
   "metadata": {},
   "outputs": [],
   "source": [
    "# Construct the \"query\"\n",
    "query = '''SELECT * FROM flights_small WHERE air_time between 300 and 600'''\n",
    "# Apply the SQL \"query\"\n",
    "time_flights_sql = spark.sql(query)"
   ]
  },
  {
   "cell_type": "code",
   "execution_count": 24,
   "id": "f0d69d71-e603-48e2-a5d3-ed47821fd4a2",
   "metadata": {},
   "outputs": [
    {
     "data": {
      "text/plain": [
       "440"
      ]
     },
     "execution_count": 24,
     "metadata": {},
     "output_type": "execute_result"
    }
   ],
   "source": [
    "time_flights_sql.count()"
   ]
  },
  {
   "cell_type": "code",
   "execution_count": 25,
   "id": "a41f1753-ba5d-4856-82ba-6fda1f2f21b6",
   "metadata": {},
   "outputs": [],
   "source": [
    "#8.\n",
    "# Select set of columns\n",
    "selected1 = flights.select(flights.origin,\n",
    "flights.dest, flights.carrier)\n",
    "# Define first filter\n",
    "filterA = flights.origin == \"SEA\"\n",
    "# Define second filter\n",
    "filterB = flights.dest == \"PDX\"\n",
    "# Filter the data, first by filterA then by filterB\n",
    "selected2 = selected1.filter(filterA).filter(filterB)"
   ]
  },
  {
   "cell_type": "code",
   "execution_count": 26,
   "id": "117a06f7-b9d1-4482-9e5c-cb7af1509180",
   "metadata": {},
   "outputs": [
    {
     "name": "stdout",
     "output_type": "stream",
     "text": [
      "+------+----+-------+\n",
      "|origin|dest|carrier|\n",
      "+------+----+-------+\n",
      "|   SEA| PDX|     OO|\n",
      "|   SEA| PDX|     OO|\n",
      "|   SEA| PDX|     OO|\n",
      "|   SEA| PDX|     OO|\n",
      "|   SEA| PDX|     OO|\n",
      "+------+----+-------+\n",
      "only showing top 5 rows\n",
      "\n"
     ]
    }
   ],
   "source": [
    "selected2.show(5)"
   ]
  },
  {
   "cell_type": "code",
   "execution_count": 27,
   "id": "81e02bb1-4d1a-4b69-8911-74b13b0d2f14",
   "metadata": {},
   "outputs": [
    {
     "name": "stdout",
     "output_type": "stream",
     "text": [
      "Number of rows (origin = 'SEA' & dest = 'PDX'): 157\n"
     ]
    }
   ],
   "source": [
    "print(\"Number of rows (origin = 'SEA' & dest = 'PDX'):\",selected2.count())"
   ]
  },
  {
   "cell_type": "code",
   "execution_count": 28,
   "id": "b13a891d-5135-485f-b10e-6ca23a04645c",
   "metadata": {},
   "outputs": [],
   "source": [
    "#9.\n",
    "# Define avg_speed\n",
    "avg_speed = (flights.distance/(flights.air_time/60)).alias(\"avg_speed\")\n",
    "# Select the correct columns\n",
    "speed1 = flights.select(\"origin\", \"dest\", \"tailnum\", avg_speed)"
   ]
  },
  {
   "cell_type": "code",
   "execution_count": 29,
   "id": "00c1b9f7-19d1-43d2-a700-bc82899be34e",
   "metadata": {},
   "outputs": [
    {
     "name": "stdout",
     "output_type": "stream",
     "text": [
      "+------+----+-------+-----------------+\n",
      "|origin|dest|tailnum|        avg_speed|\n",
      "+------+----+-------+-----------------+\n",
      "|   SEA| LAX| N846VA|433.6363636363636|\n",
      "|   SEA| HNL| N559AS|446.1666666666667|\n",
      "+------+----+-------+-----------------+\n",
      "only showing top 2 rows\n",
      "\n"
     ]
    }
   ],
   "source": [
    "speed1.show(2)"
   ]
  },
  {
   "cell_type": "code",
   "execution_count": 30,
   "id": "26eb308e-9351-4d2d-9059-57845c4faa2a",
   "metadata": {},
   "outputs": [],
   "source": [
    "#10. Create the same table using a SQL expression\n",
    "speed2 = flights.selectExpr(\"origin\", \"dest\", \"tailnum\",\n",
    "\"distance/(air_time/60) as avg_speed\")"
   ]
  },
  {
   "cell_type": "code",
   "execution_count": 31,
   "id": "35675b4b-11ba-400a-b9dd-2bf09e06e364",
   "metadata": {},
   "outputs": [
    {
     "name": "stdout",
     "output_type": "stream",
     "text": [
      "+------+----+-------+-----------------+\n",
      "|origin|dest|tailnum|        avg_speed|\n",
      "+------+----+-------+-----------------+\n",
      "|   SEA| LAX| N846VA|433.6363636363636|\n",
      "|   SEA| HNL| N559AS|446.1666666666667|\n",
      "+------+----+-------+-----------------+\n",
      "only showing top 2 rows\n",
      "\n"
     ]
    }
   ],
   "source": [
    "speed2.show(2)"
   ]
  },
  {
   "cell_type": "code",
   "execution_count": 32,
   "id": "9dd41701-eb32-4758-915d-bf6984f6bd16",
   "metadata": {},
   "outputs": [],
   "source": [
    "from pyspark.sql.types import IntegerType"
   ]
  },
  {
   "cell_type": "code",
   "execution_count": 33,
   "id": "1b72783f-d281-49b8-96cb-b8f97cef9a8f",
   "metadata": {},
   "outputs": [
    {
     "name": "stdout",
     "output_type": "stream",
     "text": [
      "+-------------+\n",
      "|min(air_time)|\n",
      "+-------------+\n",
      "|           24|\n",
      "+-------------+\n",
      "\n"
     ]
    }
   ],
   "source": [
    "#11.\n",
    "flights = flights.withColumn(\"air_time\",flights[\"air_time\"].cast(IntegerType()))\n",
    "# Find the shortest time from PDX in terms of air_time\n",
    "flights.filter(flights.origin == \"PDX\").groupBy().min(\"air_time\").show()"
   ]
  },
  {
   "cell_type": "code",
   "execution_count": 34,
   "id": "689bc204-73aa-4f7c-b9e5-c80cc99f00b5",
   "metadata": {},
   "outputs": [
    {
     "name": "stdout",
     "output_type": "stream",
     "text": [
      "+-------------+\n",
      "|max(distance)|\n",
      "+-------------+\n",
      "|         2724|\n",
      "+-------------+\n",
      "\n"
     ]
    }
   ],
   "source": [
    "# Find the longest distance from SEA in terms of distance\n",
    "flights.filter(flights.origin == \"SEA\").groupBy().max(\"distance\").show()"
   ]
  },
  {
   "cell_type": "code",
   "execution_count": 35,
   "id": "f3327ef5-d7e3-4985-b60f-50a8005a2556",
   "metadata": {},
   "outputs": [
    {
     "name": "stdout",
     "output_type": "stream",
     "text": [
      "+------------------+\n",
      "| sum(duration_hrs)|\n",
      "+------------------+\n",
      "|25289.600000000126|\n",
      "+------------------+\n",
      "\n"
     ]
    }
   ],
   "source": [
    "# Total hours in the air\n",
    "flights.withColumn(\"duration_hrs\",flights.air_time/60).groupBy().sum(\"duration_hrs\").show()"
   ]
  },
  {
   "cell_type": "code",
   "execution_count": 36,
   "id": "bf93fd20-be42-4af6-bbc3-3dc4ea68334f",
   "metadata": {},
   "outputs": [],
   "source": [
    "from pyspark.sql.functions import avg"
   ]
  },
  {
   "cell_type": "code",
   "execution_count": 37,
   "id": "09afa749-d98d-440b-b24d-faabb52837ea",
   "metadata": {},
   "outputs": [],
   "source": [
    "#12.\n",
    "# Group by tailnum\n",
    "by_plane = flights.groupBy(\"tailnum\")"
   ]
  },
  {
   "cell_type": "code",
   "execution_count": 39,
   "id": "09cf45ae-5477-4a59-8bfa-a29ea98e30ed",
   "metadata": {},
   "outputs": [
    {
     "name": "stdout",
     "output_type": "stream",
     "text": [
      "+-------+-----+\n",
      "|tailnum|count|\n",
      "+-------+-----+\n",
      "| N442AS|   38|\n",
      "| N102UW|    2|\n",
      "| N36472|    4|\n",
      "| N38451|    4|\n",
      "| N73283|    4|\n",
      "| N513UA|    2|\n",
      "| N954WN|    5|\n",
      "| N388DA|    3|\n",
      "| N567AA|    1|\n",
      "| N516UA|    2|\n",
      "| N927DN|    1|\n",
      "| N8322X|    1|\n",
      "| N466SW|    1|\n",
      "|  N6700|    1|\n",
      "| N607AS|   45|\n",
      "| N622SW|    4|\n",
      "| N584AS|   31|\n",
      "| N914WN|    4|\n",
      "| N654AW|    2|\n",
      "| N336NW|    1|\n",
      "+-------+-----+\n",
      "only showing top 20 rows\n",
      "\n"
     ]
    }
   ],
   "source": [
    "# Numbefrom pyspark.sql.types import IntegerType\n",
    "by_plane.count().show()"
   ]
  },
  {
   "cell_type": "code",
   "execution_count": 40,
   "id": "14b13d99-f7fc-4aef-a06f-dbdfe711058d",
   "metadata": {},
   "outputs": [],
   "source": [
    "# Group by origin\n",
    "by_origin = flights.groupBy(\"origin\").count()"
   ]
  },
  {
   "cell_type": "code",
   "execution_count": 41,
   "id": "ca411737-56e7-499e-97a8-b77b90b16161",
   "metadata": {},
   "outputs": [
    {
     "name": "stdout",
     "output_type": "stream",
     "text": [
      "+------+-----+\n",
      "|origin|count|\n",
      "+------+-----+\n",
      "|   SEA| 6754|\n",
      "|   PDX| 3246|\n",
      "+------+-----+\n",
      "\n"
     ]
    }
   ],
   "source": [
    "by_origin.show()"
   ]
  },
  {
   "cell_type": "code",
   "execution_count": 42,
   "id": "3feca6da-ad10-4960-9510-30fd54ea0645",
   "metadata": {},
   "outputs": [
    {
     "name": "stdout",
     "output_type": "stream",
     "text": [
      "+------+------------------+\n",
      "|origin|     avg(air_time)|\n",
      "+------+------------------+\n",
      "|   SEA| 160.4361496051259|\n",
      "|   PDX|137.11543248288737|\n",
      "+------+------------------+\n",
      "\n"
     ]
    }
   ],
   "source": [
    "# Average air_time\n",
    "flights.groupBy(\"origin\").avg(\"air_time\").show()"
   ]
  },
  {
   "cell_type": "code",
   "execution_count": 45,
   "id": "9fa62efa-0768-4759-95c5-e2fe8fce209c",
   "metadata": {},
   "outputs": [],
   "source": [
    "from pyspark.sql.types import IntegerType\n",
    "import pyspark.sql.functions as F"
   ]
  },
  {
   "cell_type": "code",
   "execution_count": 43,
   "id": "d202c591-7142-44aa-ac2c-437326d25a0b",
   "metadata": {},
   "outputs": [
    {
     "name": "stdout",
     "output_type": "stream",
     "text": [
      "+-----+----+-------------------+\n",
      "|month|dest|     avg(dep_delay)|\n",
      "+-----+----+-------------------+\n",
      "|    4| PHX| 1.6833333333333333|\n",
      "|    1| RDM|             -1.625|\n",
      "|    5| ONT| 3.5555555555555554|\n",
      "|    7| OMA|               -6.5|\n",
      "|    8| MDW|               7.45|\n",
      "|    6| DEN|  5.418181818181818|\n",
      "|    5| IAD|               -4.0|\n",
      "|   12| COS|               -1.0|\n",
      "|   11| ANC|  7.529411764705882|\n",
      "|    5| AUS|              -0.75|\n",
      "|    5| COS| 11.666666666666666|\n",
      "|    2| PSP|                0.6|\n",
      "|    4| ORD|0.14285714285714285|\n",
      "|   10| DFW| 18.176470588235293|\n",
      "|   10| DCA|               -1.5|\n",
      "|    8| JNU|             18.125|\n",
      "|   11| KOA|               -1.0|\n",
      "|   10| OMA|-0.6666666666666666|\n",
      "|    6| ONT|              9.625|\n",
      "|    3| MSP|                3.2|\n",
      "+-----+----+-------------------+\n",
      "only showing top 20 rows\n",
      "\n"
     ]
    }
   ],
   "source": [
    "# 13\n",
    "flights = flights.withColumn(\"dep_delay\",flights[\"dep_delay\"].cast(IntegerType()))\n",
    "# Group by month and dest\n",
    "by_month_dest = flights.groupBy(\"month\", \"dest\")\n",
    "# Average departure delay by month and destination\n",
    "by_month_dest.avg(\"dep_delay\").show()"
   ]
  },
  {
   "cell_type": "code",
   "execution_count": 46,
   "id": "1db5f771-4499-4a97-94fc-1fdcd246037a",
   "metadata": {},
   "outputs": [
    {
     "name": "stdout",
     "output_type": "stream",
     "text": [
      "+-----+----+------------------+\n",
      "|month|dest| stddev(dep_delay)|\n",
      "+-----+----+------------------+\n",
      "|    4| PHX|15.003380033491737|\n",
      "|    1| RDM| 8.830749846821778|\n",
      "|    5| ONT|18.895178691342874|\n",
      "|    7| OMA|2.1213203435596424|\n",
      "|    8| MDW|14.467659032985843|\n",
      "|    6| DEN|13.536905534420026|\n",
      "|    5| IAD|3.8078865529319543|\n",
      "|   12| COS|1.4142135623730951|\n",
      "|   11| ANC|18.604716401245316|\n",
      "|    5| AUS| 4.031128874149275|\n",
      "|    5| COS| 33.38163167571851|\n",
      "|    2| PSP| 4.878524367060187|\n",
      "|    4| ORD|11.593882803741764|\n",
      "|   10| DFW| 45.53019017606675|\n",
      "|   10| DCA|0.7071067811865476|\n",
      "|    8| JNU| 40.79368823727514|\n",
      "|   11| KOA|1.8708286933869707|\n",
      "|   10| OMA|5.8594652770823155|\n",
      "|    6| ONT| 25.98316762829351|\n",
      "|    3| MSP|21.556779370817555|\n",
      "+-----+----+------------------+\n",
      "only showing top 20 rows\n",
      "\n"
     ]
    }
   ],
   "source": [
    "# Standard deviation of departure delay\n",
    "by_month_dest.agg(F.stddev(\"dep_delay\")).show()"
   ]
  },
  {
   "cell_type": "code",
   "execution_count": 48,
   "id": "c4bb921b-55fc-4bbd-8ce3-06cc2b73847a",
   "metadata": {},
   "outputs": [],
   "source": [
    "#14.\n",
    "airports = spark.read.csv(\"airports.csv\", header=True, inferSchema=True)"
   ]
  },
  {
   "cell_type": "code",
   "execution_count": 49,
   "id": "e9a5cb8c-d789-4ba2-ba15-0ece8108500a",
   "metadata": {},
   "outputs": [
    {
     "name": "stdout",
     "output_type": "stream",
     "text": [
      "root\n",
      " |-- faa: string (nullable = true)\n",
      " |-- name: string (nullable = true)\n",
      " |-- lat: double (nullable = true)\n",
      " |-- lon: double (nullable = true)\n",
      " |-- alt: integer (nullable = true)\n",
      " |-- tz: integer (nullable = true)\n",
      " |-- dst: string (nullable = true)\n",
      "\n"
     ]
    }
   ],
   "source": [
    "airports.printSchema()"
   ]
  },
  {
   "cell_type": "code",
   "execution_count": 50,
   "id": "aa5b4315-7a66-4445-ac63-9dbac475ed6a",
   "metadata": {},
   "outputs": [
    {
     "name": "stdout",
     "output_type": "stream",
     "text": [
      "Number of lines: 1397\n"
     ]
    }
   ],
   "source": [
    "print(\"Number of lines:\", airports.count())"
   ]
  },
  {
   "cell_type": "code",
   "execution_count": 51,
   "id": "1470d756-028c-4a1c-92d7-5b679c845900",
   "metadata": {},
   "outputs": [
    {
     "name": "stdout",
     "output_type": "stream",
     "text": [
      "+---+--------------------+----------+-----------+----+---+---+\n",
      "|faa|                name|       lat|        lon| alt| tz|dst|\n",
      "+---+--------------------+----------+-----------+----+---+---+\n",
      "|04G|   Lansdowne Airport|41.1304722|-80.6195833|1044| -5|  A|\n",
      "|06A|Moton Field Munic...|32.4605722|-85.6800278| 264| -5|  A|\n",
      "|06C| Schaumburg Regional|41.9893408|-88.1012428| 801| -6|  A|\n",
      "+---+--------------------+----------+-----------+----+---+---+\n",
      "only showing top 3 rows\n",
      "\n"
     ]
    }
   ],
   "source": [
    "# Examine the data\n",
    "airports.show(3)"
   ]
  },
  {
   "cell_type": "code",
   "execution_count": 52,
   "id": "84bc40bd-4236-42e3-a120-f4dceacd07c6",
   "metadata": {},
   "outputs": [],
   "source": [
    "#15. Rename the faa column\n",
    "airports = airports.withColumnRenamed(\"faa\", \"dest\")"
   ]
  },
  {
   "cell_type": "code",
   "execution_count": 53,
   "id": "7e586cb7-2ee3-41e0-abae-35e12e2ea7ae",
   "metadata": {},
   "outputs": [
    {
     "name": "stdout",
     "output_type": "stream",
     "text": [
      "+----+--------------------+----------+-----------+----+---+---+\n",
      "|dest|                name|       lat|        lon| alt| tz|dst|\n",
      "+----+--------------------+----------+-----------+----+---+---+\n",
      "| 04G|   Lansdowne Airport|41.1304722|-80.6195833|1044| -5|  A|\n",
      "| 06A|Moton Field Munic...|32.4605722|-85.6800278| 264| -5|  A|\n",
      "| 06C| Schaumburg Regional|41.9893408|-88.1012428| 801| -6|  A|\n",
      "+----+--------------------+----------+-----------+----+---+---+\n",
      "only showing top 3 rows\n",
      "\n"
     ]
    }
   ],
   "source": [
    "airports.show(3)"
   ]
  },
  {
   "cell_type": "code",
   "execution_count": 54,
   "id": "73dd9740-0382-4e1e-84d6-a4a074c41d2c",
   "metadata": {},
   "outputs": [],
   "source": [
    "#16. Join the DataFrames\n",
    "flights_with_airports = flights.join(airports,\n",
    "on=\"dest\", how=\"leftouter\")"
   ]
  },
  {
   "cell_type": "code",
   "execution_count": 55,
   "id": "8778a6ce-a9a4-4fbf-a01e-459b0b06abf9",
   "metadata": {},
   "outputs": [
    {
     "name": "stdout",
     "output_type": "stream",
     "text": [
      "+----+----+-----+---+--------+---------+--------+---------+-------+-------+------+------+--------+--------+----+------+------------+------------------+---------+-----------+---+---+---+\n",
      "|dest|year|month|day|dep_time|dep_delay|arr_time|arr_delay|carrier|tailnum|flight|origin|air_time|distance|hour|minute|duration_hrs|              name|      lat|        lon|alt| tz|dst|\n",
      "+----+----+-----+---+--------+---------+--------+---------+-------+-------+------+------+--------+--------+----+------+------------+------------------+---------+-----------+---+---+---+\n",
      "| LAX|2014|   12|  8|     658|       -7|     935|       -5|     VX| N846VA|  1780|   SEA|     132|     954|   6|    58|         2.2|  Los Angeles Intl|33.942536|-118.408075|126| -8|  A|\n",
      "| HNL|2014|    1| 22|    1040|        5|    1505|        5|     AS| N559AS|   851|   SEA|     360|    2677|  10|    40|         6.0|     Honolulu Intl|21.318681|-157.922428| 13|-10|  N|\n",
      "| SFO|2014|    3|  9|    1443|       -2|    1652|        2|     VX| N847VA|   755|   SEA|     111|     679|  14|    43|        1.85|San Francisco Intl|37.618972|-122.374889| 13| -8|  A|\n",
      "+----+----+-----+---+--------+---------+--------+---------+-------+-------+------+------+--------+--------+----+------+------------+------------------+---------+-----------+---+---+---+\n",
      "only showing top 3 rows\n",
      "\n"
     ]
    }
   ],
   "source": [
    "# Examine the new DataFrame\n",
    "flights_with_airports.show(3)"
   ]
  },
  {
   "cell_type": "code",
   "execution_count": null,
   "id": "ca6f6f22-7c89-4446-a5bc-757ccde92476",
   "metadata": {},
   "outputs": [],
   "source": []
  }
 ],
 "metadata": {
  "kernelspec": {
   "display_name": "Python 3 (ipykernel)",
   "language": "python",
   "name": "python3"
  },
  "language_info": {
   "codemirror_mode": {
    "name": "ipython",
    "version": 3
   },
   "file_extension": ".py",
   "mimetype": "text/x-python",
   "name": "python",
   "nbconvert_exporter": "python",
   "pygments_lexer": "ipython3",
   "version": "3.9.12"
  }
 },
 "nbformat": 4,
 "nbformat_minor": 5
}
