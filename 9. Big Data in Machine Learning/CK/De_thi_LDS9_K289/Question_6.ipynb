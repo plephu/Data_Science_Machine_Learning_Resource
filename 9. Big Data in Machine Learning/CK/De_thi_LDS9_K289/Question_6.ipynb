{
 "cells": [
  {
   "cell_type": "code",
   "execution_count": 1,
   "id": "952e1874-0fd8-4f92-ab89-f251edf0088c",
   "metadata": {},
   "outputs": [],
   "source": [
    "import findspark\n",
    "findspark.init()"
   ]
  },
  {
   "cell_type": "code",
   "execution_count": 2,
   "id": "95285493-414a-465b-b682-093e5cbf4090",
   "metadata": {},
   "outputs": [],
   "source": [
    "import pyspark"
   ]
  },
  {
   "cell_type": "code",
   "execution_count": 3,
   "id": "cdb69c2f-b7f6-4d71-87ee-88518f8676e3",
   "metadata": {},
   "outputs": [],
   "source": [
    "from pyspark import SparkContext\n",
    "from pyspark.conf import SparkConf\n",
    "from pyspark.sql import SparkSession"
   ]
  },
  {
   "cell_type": "code",
   "execution_count": 4,
   "id": "11e7fe4f-8b39-45cf-9308-13a1934dfdd7",
   "metadata": {},
   "outputs": [],
   "source": [
    "sc = SparkContext()"
   ]
  },
  {
   "cell_type": "code",
   "execution_count": 5,
   "id": "66f937f6-4b7f-48b3-80b7-fc352e33000f",
   "metadata": {},
   "outputs": [],
   "source": [
    "spark = SparkSession.builder.appName('Association Rules').getOrCreate()"
   ]
  },
  {
   "cell_type": "code",
   "execution_count": 6,
   "id": "037b8f2c-c692-4c3a-a1ca-7a855c3be0a1",
   "metadata": {},
   "outputs": [],
   "source": [
    "from pyspark.ml.fpm import FPGrowth"
   ]
  },
  {
   "cell_type": "code",
   "execution_count": 7,
   "id": "3d2bdc1a-a72f-47c5-ad71-a3612d10fb2e",
   "metadata": {},
   "outputs": [],
   "source": [
    "from pyspark.sql.types import *\n",
    "df_schema = StructType([StructField(\"tran_id\", IntegerType(), True)\\\n",
    "                       ,StructField(\"quantity\", IntegerType(), True)\\\n",
    "                       ,StructField(\"product\", IntegerType(), True)])"
   ]
  },
  {
   "cell_type": "code",
   "execution_count": 8,
   "id": "aa916f9f-0c97-4f7b-ad0c-4212b09c36e3",
   "metadata": {},
   "outputs": [],
   "source": [
    "file = \"Du lieu cung cap/75000/75000i.csv\"\n",
    "file_goods = \"Du lieu cung cap/75000/goods.csv\"\n",
    "\n",
    "df = spark.read.csv(file, schema=df_schema)\n",
    "df_goods= spark.read.csv(file_goods, header=True, inferSchema=True)"
   ]
  },
  {
   "cell_type": "code",
   "execution_count": 9,
   "id": "a742c796-d69e-4230-92f3-ba8c3f3a1376",
   "metadata": {},
   "outputs": [],
   "source": [
    "from pyspark.sql.functions import col, regexp_replace\n",
    "\n",
    "# List of column names\n",
    "columns = df_goods.columns\n",
    "\n",
    "for column in columns:\n",
    "    df_goods = df_goods.withColumn(column, regexp_replace(col(column), \"'\", \"\"))"
   ]
  },
  {
   "cell_type": "code",
   "execution_count": 10,
   "id": "e42818ee-3729-4632-b693-aba99b1dfe42",
   "metadata": {},
   "outputs": [
    {
     "name": "stdout",
     "output_type": "stream",
     "text": [
      "root\n",
      " |-- tran_id: integer (nullable = true)\n",
      " |-- quantity: integer (nullable = true)\n",
      " |-- product: integer (nullable = true)\n",
      "\n"
     ]
    }
   ],
   "source": [
    "df.printSchema()"
   ]
  },
  {
   "cell_type": "code",
   "execution_count": 11,
   "id": "273cc146-ffda-40ed-af5e-30f1d591d663",
   "metadata": {},
   "outputs": [
    {
     "name": "stdout",
     "output_type": "stream",
     "text": [
      "+-------+--------+-------+\n",
      "|tran_id|quantity|product|\n",
      "+-------+--------+-------+\n",
      "|      1|       1|     21|\n",
      "|      1|       5|     11|\n",
      "|      2|       1|      7|\n",
      "|      2|       3|     11|\n",
      "|      2|       4|     37|\n",
      "+-------+--------+-------+\n",
      "only showing top 5 rows\n",
      "\n"
     ]
    }
   ],
   "source": [
    "df.show(5)"
   ]
  },
  {
   "cell_type": "code",
   "execution_count": 12,
   "id": "6b26689b-4a5d-4ec6-b3ba-14f0d3c09d5b",
   "metadata": {},
   "outputs": [
    {
     "name": "stdout",
     "output_type": "stream",
     "text": [
      "root\n",
      " |-- Id: string (nullable = true)\n",
      " |-- Flavor: string (nullable = true)\n",
      " |-- Food: string (nullable = true)\n",
      " |-- Price: string (nullable = true)\n",
      " |-- Type: string (nullable = true)\n",
      "\n"
     ]
    }
   ],
   "source": [
    "df_goods.printSchema()"
   ]
  },
  {
   "cell_type": "code",
   "execution_count": 13,
   "id": "096b5611-f3a3-4d90-ab06-3f61a2481285",
   "metadata": {},
   "outputs": [
    {
     "name": "stdout",
     "output_type": "stream",
     "text": [
      "+---+----------+----+-----+----+\n",
      "| Id|    Flavor|Food|Price|Type|\n",
      "+---+----------+----+-----+----+\n",
      "|  0| Chocolate|Cake| 8.95|Food|\n",
      "|  1|     Lemon|Cake| 8.95|Food|\n",
      "|  2|    Casino|Cake|15.95|Food|\n",
      "|  3|     Opera|Cake|15.95|Food|\n",
      "|  4|Strawberry|Cake|11.95|Food|\n",
      "+---+----------+----+-----+----+\n",
      "only showing top 5 rows\n",
      "\n"
     ]
    }
   ],
   "source": [
    "df_goods.show(5)"
   ]
  },
  {
   "cell_type": "code",
   "execution_count": 14,
   "id": "7475ecd6-ba53-4018-aaf9-234b39319a20",
   "metadata": {},
   "outputs": [
    {
     "data": {
      "text/plain": [
       "50"
      ]
     },
     "execution_count": 14,
     "metadata": {},
     "output_type": "execute_result"
    }
   ],
   "source": [
    "df_goods.count()"
   ]
  },
  {
   "cell_type": "code",
   "execution_count": 15,
   "id": "5f1f4614-3cfe-4c35-b353-2baf2c8dce73",
   "metadata": {},
   "outputs": [],
   "source": [
    "from pyspark.sql.functions import collect_list, col, count, collect_set"
   ]
  },
  {
   "cell_type": "code",
   "execution_count": 16,
   "id": "6d25bebf-077d-4c95-bed8-c13c8d9b81ec",
   "metadata": {},
   "outputs": [],
   "source": [
    "df.createOrReplaceTempView(\"order_products_train\")\n",
    "df_goods.createOrReplaceTempView(\"goods_list\")"
   ]
  },
  {
   "cell_type": "code",
   "execution_count": 17,
   "id": "639c6e7b-c6cc-4d71-855d-efa82b3f2417",
   "metadata": {},
   "outputs": [
    {
     "data": {
      "text/plain": [
       "266209"
      ]
     },
     "execution_count": 17,
     "metadata": {},
     "output_type": "execute_result"
    }
   ],
   "source": [
    "products = spark.sql(\"select distinct * from order_products_train\")\n",
    "products.count()"
   ]
  },
  {
   "cell_type": "code",
   "execution_count": 18,
   "id": "8cbc23b8-a24c-4ffb-81cc-feddc90671fa",
   "metadata": {},
   "outputs": [
    {
     "data": {
      "text/plain": [
       "50"
      ]
     },
     "execution_count": 18,
     "metadata": {},
     "output_type": "execute_result"
    }
   ],
   "source": [
    "goods = spark.sql(\"select distinct * from goods_list\")\n",
    "goods.count()"
   ]
  },
  {
   "cell_type": "code",
   "execution_count": 19,
   "id": "3089e187-7078-487b-96b7-dfda0854e0d7",
   "metadata": {},
   "outputs": [],
   "source": [
    "# Tạo tập tin giỏ hàng\n",
    "rawData = spark.sql(\"select * from order_products_train\")\n",
    "baskets = rawData.groupBy('tran_id').agg(collect_set('product').alias('items'))\n",
    "baskets.createOrReplaceTempView('baskets')"
   ]
  },
  {
   "cell_type": "code",
   "execution_count": 20,
   "id": "460a936c-e50d-4e36-a8e8-1fc85e5a87b8",
   "metadata": {},
   "outputs": [
    {
     "name": "stdout",
     "output_type": "stream",
     "text": [
      "+-------+--------+-------+\n",
      "|tran_id|quantity|product|\n",
      "+-------+--------+-------+\n",
      "|      1|       1|     21|\n",
      "|      1|       5|     11|\n",
      "|      2|       1|      7|\n",
      "|      2|       3|     11|\n",
      "|      2|       4|     37|\n",
      "+-------+--------+-------+\n",
      "only showing top 5 rows\n",
      "\n"
     ]
    }
   ],
   "source": [
    "rawData.show(5)"
   ]
  },
  {
   "cell_type": "code",
   "execution_count": 21,
   "id": "31d5aa11-fd6e-4cc5-93db-a512eec50c11",
   "metadata": {},
   "outputs": [
    {
     "name": "stdout",
     "output_type": "stream",
     "text": [
      "+-------+--------------------+\n",
      "|tran_id|items               |\n",
      "+-------+--------------------+\n",
      "|1      |[21, 11]            |\n",
      "|2      |[45, 37, 7, 11]     |\n",
      "|3      |[33, 42, 3]         |\n",
      "|4      |[12, 5, 17, 47]     |\n",
      "|5      |[42, 6, 18]         |\n",
      "|6      |[34, 2, 4]          |\n",
      "|7      |[15, 16, 40, 23]    |\n",
      "|8      |[34, 2, 3, 29]      |\n",
      "|9      |[35, 36, 18, 26, 23]|\n",
      "|10     |[45, 44]            |\n",
      "+-------+--------------------+\n",
      "only showing top 10 rows\n",
      "\n"
     ]
    }
   ],
   "source": [
    "baskets.sort('tran_id').show(10, truncate=False)"
   ]
  },
  {
   "cell_type": "code",
   "execution_count": 22,
   "id": "9c31e0cb-21fe-4e6a-904d-8ade5e4afcf5",
   "metadata": {},
   "outputs": [
    {
     "data": {
      "text/plain": [
       "pyspark.sql.dataframe.DataFrame"
      ]
     },
     "execution_count": 22,
     "metadata": {},
     "output_type": "execute_result"
    }
   ],
   "source": [
    "type(baskets)"
   ]
  },
  {
   "cell_type": "code",
   "execution_count": 23,
   "id": "3599753f-1ace-499a-b77a-bf7ddc2f4877",
   "metadata": {},
   "outputs": [],
   "source": [
    "from pyspark.ml.fpm import FPGrowth\n",
    "fpGrowth = FPGrowth(itemsCol=\"items\", minSupport=0.003, minConfidence=0.3)\n",
    "model = fpGrowth.fit(baskets)"
   ]
  },
  {
   "cell_type": "code",
   "execution_count": 24,
   "id": "98c71c4f-39ce-4e32-895a-8a2599837065",
   "metadata": {},
   "outputs": [
    {
     "name": "stdout",
     "output_type": "stream",
     "text": [
      "+--------+----+\n",
      "|   items|freq|\n",
      "+--------+----+\n",
      "|    [19]|5685|\n",
      "|[19, 27]| 359|\n",
      "|[19, 33]| 334|\n",
      "| [19, 1]|2764|\n",
      "|[19, 28]| 408|\n",
      "|[19, 37]| 274|\n",
      "|[19, 35]| 312|\n",
      "|[19, 16]| 286|\n",
      "| [19, 4]| 388|\n",
      "|[19, 46]| 324|\n",
      "|[19, 15]| 298|\n",
      "| [19, 5]| 323|\n",
      "|[19, 22]| 368|\n",
      "|[19, 32]| 297|\n",
      "|[19, 45]| 344|\n",
      "|[19, 47]| 331|\n",
      "| [19, 3]| 294|\n",
      "|[19, 14]| 350|\n",
      "|[19, 11]| 296|\n",
      "| [19, 0]| 305|\n",
      "+--------+----+\n",
      "only showing top 20 rows\n",
      "\n"
     ]
    }
   ],
   "source": [
    "model.freqItemsets.show()"
   ]
  },
  {
   "cell_type": "code",
   "execution_count": 25,
   "id": "b03f273d-f803-41b5-ab1f-deb8393c572e",
   "metadata": {},
   "outputs": [],
   "source": [
    "# transform examines the input items against all the association rules and summar\n",
    "# consequents as prediction\n",
    "mostPopularItemInABasket = model.transform(baskets)"
   ]
  },
  {
   "cell_type": "code",
   "execution_count": 26,
   "id": "1a9e729c-0b61-421f-8428-3a8c31dbae9a",
   "metadata": {},
   "outputs": [
    {
     "name": "stdout",
     "output_type": "stream",
     "text": [
      "-RECORD 0---------------------\n",
      " tran_id    | 1               \n",
      " items      | [21, 11]        \n",
      " prediction | [37, 45, 7]     \n",
      "-RECORD 1---------------------\n",
      " tran_id    | 2               \n",
      " items      | [45, 37, 7, 11] \n",
      " prediction | [15, 16, 32]    \n",
      "-RECORD 2---------------------\n",
      " tran_id    | 3               \n",
      " items      | [33, 42, 3]     \n",
      " prediction | [35, 18]        \n",
      "only showing top 3 rows\n",
      "\n"
     ]
    }
   ],
   "source": [
    "mostPopularItemInABasket.show(3, truncate=False, vertical=True)"
   ]
  },
  {
   "cell_type": "markdown",
   "id": "014b6a88-bc8e-47a8-94d1-bbec6d1f45e8",
   "metadata": {},
   "source": [
    "## Use product_name instead of product_id"
   ]
  },
  {
   "cell_type": "code",
   "execution_count": 27,
   "id": "7586a6a3-0be7-4aeb-b0f4-dc92742f15cf",
   "metadata": {},
   "outputs": [],
   "source": [
    "rawData_1 = spark.sql('''select p.flavor || ' ' || p.food as flavor, o.tran_id from goods_list p\n",
    "                          inner join order_products_train o\n",
    "                          where o.product = p.id''')"
   ]
  },
  {
   "cell_type": "code",
   "execution_count": 28,
   "id": "1dd85217-9d83-4724-b668-5a5a21669e05",
   "metadata": {},
   "outputs": [
    {
     "name": "stdout",
     "output_type": "stream",
     "text": [
      "+--------------+-------+\n",
      "|        flavor|tran_id|\n",
      "+--------------+-------+\n",
      "|Ganache Cookie|      1|\n",
      "|     Apple Pie|      1|\n",
      "| Coffee Eclair|      2|\n",
      "|     Apple Pie|      2|\n",
      "|  Almond Twist|      2|\n",
      "+--------------+-------+\n",
      "only showing top 5 rows\n",
      "\n"
     ]
    }
   ],
   "source": [
    "rawData_1.show(5)"
   ]
  },
  {
   "cell_type": "code",
   "execution_count": 29,
   "id": "d604d7f1-1e79-4541-ab89-6567d6d4f854",
   "metadata": {},
   "outputs": [],
   "source": [
    "baskets_1 = rawData_1.groupBy('tran_id').agg(collect_set('flavor').alias('items'))\n",
    "baskets_1.createOrReplaceTempView('baskets')"
   ]
  },
  {
   "cell_type": "code",
   "execution_count": 30,
   "id": "3e7fe7ea-8b66-469d-a7dc-89c83969a72d",
   "metadata": {},
   "outputs": [
    {
     "data": {
      "text/plain": [
       "[Row(tran_id=1, items=['Ganache Cookie', 'Apple Pie']),\n",
       " Row(tran_id=6, items=['Strawberry Cake', 'Chocolate Croissant', 'Casino Cake']),\n",
       " Row(tran_id=12, items=['Almond Twist', 'Ganache Cookie', 'Opera Cake', 'Single Espresso', 'Casino Cake', 'Raspberry Lemonade', 'Apple Pie'])]"
      ]
     },
     "execution_count": 30,
     "metadata": {},
     "output_type": "execute_result"
    }
   ],
   "source": [
    "baskets_1.head(3)"
   ]
  },
  {
   "cell_type": "code",
   "execution_count": 31,
   "id": "3f235af7-9775-4c20-9570-23b05b168fe0",
   "metadata": {},
   "outputs": [],
   "source": [
    "fpGrowth_1 = FPGrowth(itemsCol=\"items\",minSupport=0.003,minConfidence=0.2)\n",
    "model_1 = fpGrowth.fit(baskets_1)"
   ]
  },
  {
   "cell_type": "code",
   "execution_count": 32,
   "id": "a214b0b1-64b6-4d08-bb9a-12155aff557b",
   "metadata": {},
   "outputs": [
    {
     "name": "stdout",
     "output_type": "stream",
     "text": [
      "+---------------------------------------+----+\n",
      "|items                                  |freq|\n",
      "+---------------------------------------+----+\n",
      "|[Vanilla Meringue]                     |3179|\n",
      "|[Vanilla Meringue, Lemon Tart]         |252 |\n",
      "|[Vanilla Meringue, Marzipan Cookie]    |277 |\n",
      "|[Vanilla Meringue, Cheese Croissant]   |260 |\n",
      "|[Vanilla Meringue, Chocolate Tart]     |233 |\n",
      "|[Vanilla Meringue, Lemon Cake]         |293 |\n",
      "|[Vanilla Meringue, Tuile Cookie]       |312 |\n",
      "|[Vanilla Meringue, Apricot Danish]     |249 |\n",
      "|[Vanilla Meringue, Blueberry Tart]     |229 |\n",
      "|[Vanilla Meringue, Chocolate Coffee]   |245 |\n",
      "|[Vanilla Meringue, Strawberry Cake]    |299 |\n",
      "|[Vanilla Meringue, Blackberry Tart]    |229 |\n",
      "|[Vanilla Meringue, Gongolais Cookie]   |293 |\n",
      "|[Vanilla Meringue, Truffle Cake]       |255 |\n",
      "|[Vanilla Meringue, Apricot Croissant]  |229 |\n",
      "|[Vanilla Meringue, Hot Coffee]         |227 |\n",
      "|[Vanilla Meringue, Vanilla Frappuccino]|260 |\n",
      "|[Vanilla Meringue, Berry Tart]         |281 |\n",
      "|[Vanilla Meringue, Chocolate Cake]     |235 |\n",
      "|[Vanilla Meringue, Cherry Tart]        |267 |\n",
      "+---------------------------------------+----+\n",
      "only showing top 20 rows\n",
      "\n"
     ]
    }
   ],
   "source": [
    "# Display frequent itemsets.\n",
    "model_1.freqItemsets.show(truncate=False)"
   ]
  },
  {
   "cell_type": "code",
   "execution_count": 33,
   "id": "747c669d-3aa3-43f7-8d21-5187bd963a9c",
   "metadata": {},
   "outputs": [],
   "source": [
    "mostPopularItemInABasket_1 = model_1.transform(baskets_1)"
   ]
  },
  {
   "cell_type": "code",
   "execution_count": 34,
   "id": "7d745d7b-45cd-4656-a28f-5d862582613a",
   "metadata": {},
   "outputs": [
    {
     "data": {
      "text/plain": [
       "[Row(tran_id=1, items=['Ganache Cookie', 'Apple Pie'], prediction=['Almond Twist', 'Hot Coffee', 'Coffee Eclair']),\n",
       " Row(tran_id=6, items=['Strawberry Cake', 'Chocolate Croissant', 'Casino Cake'], prediction=['Napoleon Cake', 'Chocolate Coffee', 'Chocolate Cake']),\n",
       " Row(tran_id=12, items=['Almond Twist', 'Ganache Cookie', 'Opera Cake', 'Single Espresso', 'Casino Cake', 'Raspberry Lemonade', 'Apple Pie'], prediction=['Hot Coffee', 'Coffee Eclair', 'Green Tea', 'Raspberry Cookie', 'Lemon Cookie', 'Lemon Lemonade', 'Chocolate Coffee', 'Chocolate Cake', 'Apricot Danish', 'Cherry Tart', 'Blackberry Tart'])]"
      ]
     },
     "execution_count": 34,
     "metadata": {},
     "output_type": "execute_result"
    }
   ],
   "source": [
    "mostPopularItemInABasket_1.head(3)"
   ]
  },
  {
   "cell_type": "code",
   "execution_count": 35,
   "id": "4fef743d-7e65-4d46-86da-fec0ce9e22dd",
   "metadata": {},
   "outputs": [
    {
     "data": {
      "text/plain": [
       "pyspark.sql.dataframe.DataFrame"
      ]
     },
     "execution_count": 35,
     "metadata": {},
     "output_type": "execute_result"
    }
   ],
   "source": [
    "type(mostPopularItemInABasket_1)"
   ]
  },
  {
   "cell_type": "code",
   "execution_count": 36,
   "id": "3aca4301-7679-45fe-8b2c-470f8823ad40",
   "metadata": {},
   "outputs": [],
   "source": [
    "# chuyển list array thành string\n",
    "from pyspark.sql.types import StringType"
   ]
  },
  {
   "cell_type": "code",
   "execution_count": 37,
   "id": "7a02ca8c-9752-42db-8e5f-cfda7127a047",
   "metadata": {},
   "outputs": [
    {
     "name": "stdout",
     "output_type": "stream",
     "text": [
      "root\n",
      " |-- tran_id: integer (nullable = true)\n",
      " |-- items: array (nullable = false)\n",
      " |    |-- element: string (containsNull = false)\n",
      " |-- prediction: array (nullable = true)\n",
      " |    |-- element: string (containsNull = false)\n",
      "\n"
     ]
    }
   ],
   "source": [
    "mostPopularItemInABasket_1.printSchema()"
   ]
  },
  {
   "cell_type": "code",
   "execution_count": 38,
   "id": "6bb8782b-1406-40e2-922d-3c7536aeb9f3",
   "metadata": {},
   "outputs": [],
   "source": [
    "mostPopularItemInABasket_1.createOrReplaceTempView(\"popular_items\")"
   ]
  },
  {
   "cell_type": "code",
   "execution_count": 39,
   "id": "588bf611-00a2-4755-9400-bc766ae9e2f3",
   "metadata": {},
   "outputs": [
    {
     "name": "stdout",
     "output_type": "stream",
     "text": [
      "root\n",
      " |-- tran_id: integer (nullable = true)\n",
      " |-- items: string (nullable = false)\n",
      " |-- prediction: string (nullable = true)\n",
      "\n"
     ]
    }
   ],
   "source": [
    "DF_cast = mostPopularItemInABasket_1.select('tran_id',\n",
    "                                            mostPopularItemInABasket_1.items.cast(StringType()),\n",
    "                                            mostPopularItemInABasket_1.prediction.cast(StringType()))\n",
    "DF_cast.printSchema()"
   ]
  },
  {
   "cell_type": "code",
   "execution_count": 40,
   "id": "b08f176c-5a29-4867-a16f-2a9a04a3143c",
   "metadata": {},
   "outputs": [
    {
     "data": {
      "text/plain": [
       "[Row(tran_id=1, items='[Ganache Cookie, Apple Pie]', prediction='[Almond Twist, Hot Coffee, Coffee Eclair]'),\n",
       " Row(tran_id=6, items='[Strawberry Cake, Chocolate Croissant, Casino Cake]', prediction='[Napoleon Cake, Chocolate Coffee, Chocolate Cake]'),\n",
       " Row(tran_id=12, items='[Almond Twist, Ganache Cookie, Opera Cake, Single Espresso, Casino Cake, Raspberry Lemonade, Apple Pie]', prediction='[Hot Coffee, Coffee Eclair, Green Tea, Raspberry Cookie, Lemon Cookie, Lemon Lemonade, Chocolate Coffee, Chocolate Cake, Apricot Danish, Cherry Tart, Blackberry Tart]')]"
      ]
     },
     "execution_count": 40,
     "metadata": {},
     "output_type": "execute_result"
    }
   ],
   "source": [
    "# Thông tin sản phẩm và list sản phẩm gợi ý\n",
    "DF_cast.head(3)"
   ]
  },
  {
   "cell_type": "code",
   "execution_count": 41,
   "id": "243fdcf5-c4f6-4d22-a67c-67eeae27366c",
   "metadata": {},
   "outputs": [],
   "source": [
    "DF_cast.write.csv('mostPopularItemInABasket.csv')"
   ]
  },
  {
   "cell_type": "code",
   "execution_count": null,
   "id": "cba79c20-32e4-4173-8758-c6bb8fea930b",
   "metadata": {},
   "outputs": [],
   "source": []
  }
 ],
 "metadata": {
  "kernelspec": {
   "display_name": "Python 3 (ipykernel)",
   "language": "python",
   "name": "python3"
  },
  "language_info": {
   "codemirror_mode": {
    "name": "ipython",
    "version": 3
   },
   "file_extension": ".py",
   "mimetype": "text/x-python",
   "name": "python",
   "nbconvert_exporter": "python",
   "pygments_lexer": "ipython3",
   "version": "3.9.12"
  }
 },
 "nbformat": 4,
 "nbformat_minor": 5
}
