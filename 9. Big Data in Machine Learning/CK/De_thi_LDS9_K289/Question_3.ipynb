{
 "cells": [
  {
   "cell_type": "code",
   "execution_count": 1,
   "id": "a6af3858-c767-4784-b264-870e75eb1ef0",
   "metadata": {},
   "outputs": [],
   "source": [
    "import findspark\n",
    "findspark.init()"
   ]
  },
  {
   "cell_type": "code",
   "execution_count": 2,
   "id": "dbcffb1a-3696-44ba-b6e2-c59d439e4c62",
   "metadata": {},
   "outputs": [],
   "source": [
    "from pyspark.sql import SparkSession"
   ]
  },
  {
   "cell_type": "code",
   "execution_count": 3,
   "id": "5cd9fd0e-2c35-4597-8307-c4b013e72f74",
   "metadata": {},
   "outputs": [],
   "source": [
    "spark = SparkSession.builder.appName('nlp').getOrCreate()"
   ]
  },
  {
   "cell_type": "code",
   "execution_count": 4,
   "id": "fe94ced7-e253-4268-a5ce-d4c8608e1d70",
   "metadata": {},
   "outputs": [],
   "source": [
    "data_true = spark.read.csv(\"Du lieu cung cap\\Fake-and-real-news-dataset\\True.csv\", inferSchema=True, sep=',', header=True)\n",
    "data_fake = spark.read.csv(\"Du lieu cung cap\\Fake-and-real-news-dataset\\Fake.csv\", inferSchema=True, sep=',' , header=True)"
   ]
  },
  {
   "cell_type": "code",
   "execution_count": 5,
   "id": "262e3ed2-6a92-48b3-9eb3-d63d6104b028",
   "metadata": {},
   "outputs": [],
   "source": [
    "from pyspark.sql.functions import lit, concat, col, udf\n",
    "from pyspark.sql.functions import isnan, when, count"
   ]
  },
  {
   "cell_type": "code",
   "execution_count": 6,
   "id": "8729cdc4-3c53-4224-bfea-a358c6c3f27d",
   "metadata": {},
   "outputs": [
    {
     "name": "stdout",
     "output_type": "stream",
     "text": [
      "+--------------------+--------------------+------------+------------------+-----+\n",
      "|               title|                text|     subject|              date|class|\n",
      "+--------------------+--------------------+------------+------------------+-----+\n",
      "|As U.S. budget fi...|WASHINGTON (Reute...|politicsNews|December 31, 2017 |    1|\n",
      "|U.S. military to ...|WASHINGTON (Reute...|politicsNews|December 29, 2017 |    1|\n",
      "|Senior U.S. Repub...|WASHINGTON (Reute...|politicsNews|December 31, 2017 |    1|\n",
      "|FBI Russia probe ...|WASHINGTON (Reute...|politicsNews|December 30, 2017 |    1|\n",
      "|Trump wants Posta...|SEATTLE/WASHINGTO...|politicsNews|December 29, 2017 |    1|\n",
      "+--------------------+--------------------+------------+------------------+-----+\n",
      "only showing top 5 rows\n",
      "\n"
     ]
    }
   ],
   "source": [
    "data_true = data_true.withColumn(\"class\", lit(1))\n",
    "data_true.show(5)"
   ]
  },
  {
   "cell_type": "code",
   "execution_count": 7,
   "id": "5c8da27b-0848-46d0-a35a-31b8d691b921",
   "metadata": {},
   "outputs": [
    {
     "data": {
      "text/plain": [
       "21417"
      ]
     },
     "execution_count": 7,
     "metadata": {},
     "output_type": "execute_result"
    }
   ],
   "source": [
    "data_true.count()"
   ]
  },
  {
   "cell_type": "code",
   "execution_count": 8,
   "id": "7999d0f7-ff18-45c4-b4e7-0b06c1a83dfb",
   "metadata": {},
   "outputs": [
    {
     "name": "stdout",
     "output_type": "stream",
     "text": [
      "+--------------------+--------------------+-------+-----------------+-----+\n",
      "|               title|                text|subject|             date|class|\n",
      "+--------------------+--------------------+-------+-----------------+-----+\n",
      "| Donald Trump Sen...|Donald Trump just...|   News|December 31, 2017|    0|\n",
      "| Drunk Bragging T...|House Intelligenc...|   News|December 31, 2017|    0|\n",
      "| Sheriff David Cl...|On Friday, it was...|   News|December 30, 2017|    0|\n",
      "| Trump Is So Obse...|On Christmas day,...|   News|December 29, 2017|    0|\n",
      "| Pope Francis Jus...|Pope Francis used...|   News|December 25, 2017|    0|\n",
      "+--------------------+--------------------+-------+-----------------+-----+\n",
      "only showing top 5 rows\n",
      "\n"
     ]
    }
   ],
   "source": [
    "data_fake = data_fake.withColumn(\"class\", lit(0))\n",
    "data_fake.show(5)"
   ]
  },
  {
   "cell_type": "code",
   "execution_count": 9,
   "id": "f0c4e885-8657-404d-85d5-b31b7629ae20",
   "metadata": {},
   "outputs": [
    {
     "data": {
      "text/plain": [
       "23489"
      ]
     },
     "execution_count": 9,
     "metadata": {},
     "output_type": "execute_result"
    }
   ],
   "source": [
    "data_fake.count()"
   ]
  },
  {
   "cell_type": "code",
   "execution_count": 10,
   "id": "325c11f8-ff10-4184-9cb8-14933cc293bb",
   "metadata": {},
   "outputs": [
    {
     "data": {
      "text/plain": [
       "44906"
      ]
     },
     "execution_count": 10,
     "metadata": {},
     "output_type": "execute_result"
    }
   ],
   "source": [
    "data = data_true.unionAll(data_fake)\n",
    "data.count()"
   ]
  },
  {
   "cell_type": "code",
   "execution_count": 11,
   "id": "87206685-437e-4590-86d6-422f8d41653d",
   "metadata": {},
   "outputs": [
    {
     "name": "stdout",
     "output_type": "stream",
     "text": [
      "+--------------------+--------------------+--------------------+------------------+-----+\n",
      "|               title|                text|             subject|              date|class|\n",
      "+--------------------+--------------------+--------------------+------------------+-----+\n",
      "|As U.S. budget fi...|WASHINGTON (Reute...|        politicsNews|December 31, 2017 |    1|\n",
      "|U.S. military to ...|WASHINGTON (Reute...|        politicsNews|December 29, 2017 |    1|\n",
      "|Senior U.S. Repub...|WASHINGTON (Reute...|        politicsNews|December 31, 2017 |    1|\n",
      "|FBI Russia probe ...|WASHINGTON (Reute...|        politicsNews|December 30, 2017 |    1|\n",
      "|Trump wants Posta...|SEATTLE/WASHINGTO...|        politicsNews|December 29, 2017 |    1|\n",
      "|White House, Cong...|WEST PALM BEACH, ...|        politicsNews|December 29, 2017 |    1|\n",
      "|Trump says Russia...|WEST PALM BEACH, ...|        politicsNews|December 29, 2017 |    1|\n",
      "|Factbox: Trump on...|The following sta...|        politicsNews|December 29, 2017 |    1|\n",
      "|Trump on Twitter ...|The following sta...|        politicsNews|December 29, 2017 |    1|\n",
      "|Alabama official ...|WASHINGTON (Reute...|        politicsNews|December 28, 2017 |    1|\n",
      "|Jones certified U...|(Reuters) - Alaba...|        politicsNews|December 28, 2017 |    1|\n",
      "|New York governor...|NEW YORK/WASHINGT...|        politicsNews|December 28, 2017 |    1|\n",
      "|Factbox: Trump on...|The following sta...|        politicsNews|December 28, 2017 |    1|\n",
      "|Trump on Twitter ...|\"The following st...| Associates Up 83...|      politicsNews|    1|\n",
      "|Man says he deliv...| (In Dec. 25 stor...|        politicsNews|December 25, 2017 |    1|\n",
      "|Virginia official...|(Reuters) - A lot...|        politicsNews|December 27, 2017 |    1|\n",
      "|U.S. lawmakers qu...|WASHINGTON (Reute...|        politicsNews|December 27, 2017 |    1|\n",
      "|Trump on Twitter ...|The following sta...|        politicsNews|December 26, 2017 |    1|\n",
      "|U.S. appeals cour...|(Reuters) - A U.S...|        politicsNews|December 26, 2017 |    1|\n",
      "|Treasury Secretar...|(Reuters) - A gif...|        politicsNews|December 24, 2017 |    1|\n",
      "+--------------------+--------------------+--------------------+------------------+-----+\n",
      "only showing top 20 rows\n",
      "\n"
     ]
    }
   ],
   "source": [
    "data.show()"
   ]
  },
  {
   "cell_type": "code",
   "execution_count": 12,
   "id": "223781be-0157-4d6d-95f8-5148f241c4c5",
   "metadata": {},
   "outputs": [
    {
     "name": "stdout",
     "output_type": "stream",
     "text": [
      "root\n",
      " |-- title: string (nullable = true)\n",
      " |-- text: string (nullable = true)\n",
      " |-- subject: string (nullable = true)\n",
      " |-- date: string (nullable = true)\n",
      " |-- class: integer (nullable = false)\n",
      "\n"
     ]
    }
   ],
   "source": [
    "data.printSchema()"
   ]
  },
  {
   "cell_type": "markdown",
   "id": "9b1d8d00-ffdd-49f3-997f-71caab692a74",
   "metadata": {},
   "source": [
    "### Clean and Prepare the Data"
   ]
  },
  {
   "cell_type": "code",
   "execution_count": 13,
   "id": "f977f20b-ea6d-415c-922d-9e5495ad4a73",
   "metadata": {},
   "outputs": [
    {
     "data": {
      "text/html": [
       "<div>\n",
       "<style scoped>\n",
       "    .dataframe tbody tr th:only-of-type {\n",
       "        vertical-align: middle;\n",
       "    }\n",
       "\n",
       "    .dataframe tbody tr th {\n",
       "        vertical-align: top;\n",
       "    }\n",
       "\n",
       "    .dataframe thead th {\n",
       "        text-align: right;\n",
       "    }\n",
       "</style>\n",
       "<table border=\"1\" class=\"dataframe\">\n",
       "  <thead>\n",
       "    <tr style=\"text-align: right;\">\n",
       "      <th></th>\n",
       "      <th>0</th>\n",
       "    </tr>\n",
       "  </thead>\n",
       "  <tbody>\n",
       "    <tr>\n",
       "      <th>title</th>\n",
       "      <td>0</td>\n",
       "    </tr>\n",
       "    <tr>\n",
       "      <th>text</th>\n",
       "      <td>8</td>\n",
       "    </tr>\n",
       "    <tr>\n",
       "      <th>subject</th>\n",
       "      <td>8</td>\n",
       "    </tr>\n",
       "    <tr>\n",
       "      <th>date</th>\n",
       "      <td>8</td>\n",
       "    </tr>\n",
       "    <tr>\n",
       "      <th>class</th>\n",
       "      <td>0</td>\n",
       "    </tr>\n",
       "  </tbody>\n",
       "</table>\n",
       "</div>"
      ],
      "text/plain": [
       "         0\n",
       "title    0\n",
       "text     8\n",
       "subject  8\n",
       "date     8\n",
       "class    0"
      ]
     },
     "execution_count": 13,
     "metadata": {},
     "output_type": "execute_result"
    }
   ],
   "source": [
    "# Kiểm tra null\n",
    "data.select([count(when(col(c).isNull(), c)).alias(c) for c in data.columns]).toPandas().T"
   ]
  },
  {
   "cell_type": "code",
   "execution_count": 14,
   "id": "576e7f99-fa9b-4eb1-8c6f-bb54d6968038",
   "metadata": {},
   "outputs": [
    {
     "data": {
      "text/plain": [
       "44898"
      ]
     },
     "execution_count": 14,
     "metadata": {},
     "output_type": "execute_result"
    }
   ],
   "source": [
    "# Xóa dữ liệu null\n",
    "data = data.na.drop()\n",
    "data.count()"
   ]
  },
  {
   "cell_type": "code",
   "execution_count": 15,
   "id": "eb31fecf-8f09-45ba-8160-3456373f4db7",
   "metadata": {},
   "outputs": [],
   "source": [
    "# concat title and text\n",
    "data = data.withColumn('title_text', concat(col('title'),lit('_'), col('text')))"
   ]
  },
  {
   "cell_type": "code",
   "execution_count": 16,
   "id": "637f49c2-c2b9-4064-bf6b-ea59ed034e30",
   "metadata": {},
   "outputs": [
    {
     "name": "stdout",
     "output_type": "stream",
     "text": [
      "+--------------------+--------------------+------------+------------------+-----+--------------------+\n",
      "|               title|                text|     subject|              date|class|          title_text|\n",
      "+--------------------+--------------------+------------+------------------+-----+--------------------+\n",
      "|As U.S. budget fi...|WASHINGTON (Reute...|politicsNews|December 31, 2017 |    1|As U.S. budget fi...|\n",
      "|U.S. military to ...|WASHINGTON (Reute...|politicsNews|December 29, 2017 |    1|U.S. military to ...|\n",
      "|Senior U.S. Repub...|WASHINGTON (Reute...|politicsNews|December 31, 2017 |    1|Senior U.S. Repub...|\n",
      "|FBI Russia probe ...|WASHINGTON (Reute...|politicsNews|December 30, 2017 |    1|FBI Russia probe ...|\n",
      "|Trump wants Posta...|SEATTLE/WASHINGTO...|politicsNews|December 29, 2017 |    1|Trump wants Posta...|\n",
      "+--------------------+--------------------+------------+------------------+-----+--------------------+\n",
      "only showing top 5 rows\n",
      "\n"
     ]
    }
   ],
   "source": [
    "data.show(5)"
   ]
  },
  {
   "cell_type": "code",
   "execution_count": 17,
   "id": "d59fe814-703c-4d96-b153-217a1c71c83b",
   "metadata": {},
   "outputs": [],
   "source": [
    "from pyspark.sql.functions import length"
   ]
  },
  {
   "cell_type": "code",
   "execution_count": 18,
   "id": "63373a01-5b0e-48b0-ba7f-ffb93e28f7c5",
   "metadata": {},
   "outputs": [],
   "source": [
    "data = data.withColumn('length',length(data['title_text']))"
   ]
  },
  {
   "cell_type": "code",
   "execution_count": 19,
   "id": "1dbd45dd-32ea-4553-ae74-fc511e75bdea",
   "metadata": {},
   "outputs": [
    {
     "name": "stdout",
     "output_type": "stream",
     "text": [
      "+--------------------+--------------------+------------+------------------+-----+--------------------+------+\n",
      "|               title|                text|     subject|              date|class|          title_text|length|\n",
      "+--------------------+--------------------+------------+------------------+-----+--------------------+------+\n",
      "|As U.S. budget fi...|WASHINGTON (Reute...|politicsNews|December 31, 2017 |    1|As U.S. budget fi...|  4724|\n",
      "|U.S. military to ...|WASHINGTON (Reute...|politicsNews|December 29, 2017 |    1|U.S. military to ...|  4142|\n",
      "|Senior U.S. Repub...|WASHINGTON (Reute...|politicsNews|December 31, 2017 |    1|Senior U.S. Repub...|  2850|\n",
      "|FBI Russia probe ...|WASHINGTON (Reute...|politicsNews|December 30, 2017 |    1|FBI Russia probe ...|  2521|\n",
      "|Trump wants Posta...|SEATTLE/WASHINGTO...|politicsNews|December 29, 2017 |    1|Trump wants Posta...|  5274|\n",
      "+--------------------+--------------------+------------+------------------+-----+--------------------+------+\n",
      "only showing top 5 rows\n",
      "\n"
     ]
    }
   ],
   "source": [
    "data.show(5)"
   ]
  },
  {
   "cell_type": "code",
   "execution_count": 20,
   "id": "5084da1a-a4c0-47db-ba12-6b8b0c43ecdd",
   "metadata": {},
   "outputs": [
    {
     "name": "stdout",
     "output_type": "stream",
     "text": [
      "+-----+----------+------------------+\n",
      "|class|avg(class)|       avg(length)|\n",
      "+-----+----------+------------------+\n",
      "|    1|       1.0|2438.5372834664054|\n",
      "|    0|       0.0|2571.2280567267153|\n",
      "+-----+----------+------------------+\n",
      "\n"
     ]
    }
   ],
   "source": [
    "data.groupby('class').mean().show()"
   ]
  },
  {
   "cell_type": "code",
   "execution_count": 21,
   "id": "3cf4fbd3-6391-4037-8451-d47fdd6f85d1",
   "metadata": {},
   "outputs": [],
   "source": [
    "data = data.select(['title_text','class','length'])"
   ]
  },
  {
   "cell_type": "markdown",
   "id": "03240331-6e54-45af-a92d-38ad2d7788e3",
   "metadata": {},
   "source": [
    "### Feature Transformations"
   ]
  },
  {
   "cell_type": "code",
   "execution_count": 22,
   "id": "321f74b1-9b53-4fe9-bd2f-9651e6e119dc",
   "metadata": {},
   "outputs": [],
   "source": [
    "from pyspark.ml.feature import Tokenizer,StopWordsRemover\n",
    "from pyspark.ml.feature import CountVectorizer, IDF, StringIndexer\n",
    "tokenizer = Tokenizer(inputCol=\"title_text\", outputCol=\"token_text\")\n",
    "stopremove = StopWordsRemover(inputCol='token_text',outputCol='stop_tokens')\n",
    "count_vec = CountVectorizer(inputCol='stop_tokens',outputCol='c_vec')\n",
    "idf = IDF(inputCol=\"c_vec\", outputCol=\"tf_idf\")\n",
    "ham_spam_to_num = StringIndexer(inputCol='class',outputCol='label')"
   ]
  },
  {
   "cell_type": "code",
   "execution_count": 23,
   "id": "fc549223-0b8c-4481-882d-10de71b6920e",
   "metadata": {},
   "outputs": [],
   "source": [
    "from pyspark.ml.feature import VectorAssembler\n",
    "from pyspark.ml.linalg import Vector"
   ]
  },
  {
   "cell_type": "code",
   "execution_count": 24,
   "id": "70703677-d116-43c5-aee4-81e5f5a6983a",
   "metadata": {},
   "outputs": [],
   "source": [
    "clean_up = VectorAssembler(inputCols=['tf_idf','length'], outputCol='features')"
   ]
  },
  {
   "cell_type": "markdown",
   "id": "1d5f54c7-c461-4f90-9013-84a21e838ce7",
   "metadata": {},
   "source": [
    "### The Model NaiveBayes"
   ]
  },
  {
   "cell_type": "code",
   "execution_count": 25,
   "id": "0f8e9371-8817-4839-a538-3bddbd3d8c32",
   "metadata": {},
   "outputs": [],
   "source": [
    "from pyspark.ml.classification import NaiveBayes"
   ]
  },
  {
   "cell_type": "code",
   "execution_count": 26,
   "id": "6f9931b9-600f-458f-8ada-6a178cde1a43",
   "metadata": {},
   "outputs": [],
   "source": [
    "# Use defaults\n",
    "nb = NaiveBayes()"
   ]
  },
  {
   "cell_type": "markdown",
   "id": "ea15af39-0569-49ff-8ea5-3b8ed8e31516",
   "metadata": {},
   "source": [
    "### Pipeline"
   ]
  },
  {
   "cell_type": "code",
   "execution_count": 27,
   "id": "8d213d86-7f9d-4a2d-98c4-b78dbf4e2ab8",
   "metadata": {},
   "outputs": [],
   "source": [
    "from pyspark.ml import Pipeline"
   ]
  },
  {
   "cell_type": "code",
   "execution_count": 28,
   "id": "500e979f-1112-406c-ac38-4751318090ad",
   "metadata": {},
   "outputs": [],
   "source": [
    "data_prep_pipe = Pipeline(stages=[ham_spam_to_num,\n",
    "                                  tokenizer,\n",
    "                                  stopremove,\n",
    "                                  count_vec,\n",
    "                                  idf,\n",
    "                                  clean_up])"
   ]
  },
  {
   "cell_type": "code",
   "execution_count": 29,
   "id": "93e513d7-0aea-4fb5-8c7a-2ec89d761d23",
   "metadata": {},
   "outputs": [],
   "source": [
    "cleaner = data_prep_pipe.fit(data)"
   ]
  },
  {
   "cell_type": "code",
   "execution_count": 30,
   "id": "7f478979-8d06-459d-bb08-bae3076df1a6",
   "metadata": {},
   "outputs": [],
   "source": [
    "clean_data = cleaner.transform(data)"
   ]
  },
  {
   "cell_type": "markdown",
   "id": "011578d4-b228-4996-becb-ef2f84e33565",
   "metadata": {},
   "source": [
    "### Training and Evaluation!"
   ]
  },
  {
   "cell_type": "code",
   "execution_count": 31,
   "id": "70459969-5bfb-4dc9-b71f-4513421e56a4",
   "metadata": {},
   "outputs": [],
   "source": [
    "clean_data = clean_data.select(['label','features'])"
   ]
  },
  {
   "cell_type": "code",
   "execution_count": 32,
   "id": "73ee0e29-82e7-4be2-9aa1-be0e12a053dd",
   "metadata": {},
   "outputs": [
    {
     "name": "stdout",
     "output_type": "stream",
     "text": [
      "+-----+--------------------+\n",
      "|label|            features|\n",
      "+-----+--------------------+\n",
      "|  1.0|(262145,[0,1,2,3,...|\n",
      "|  1.0|(262145,[1,2,3,4,...|\n",
      "|  1.0|(262145,[0,1,2,3,...|\n",
      "|  1.0|(262145,[1,2,3,4,...|\n",
      "|  1.0|(262145,[0,1,2,3,...|\n",
      "|  1.0|(262145,[0,1,2,3,...|\n",
      "|  1.0|(262145,[1,2,3,4,...|\n",
      "|  1.0|(262145,[0,1,3,4,...|\n",
      "|  1.0|(262145,[0,1,3,4,...|\n",
      "|  1.0|(262145,[2,3,7,10...|\n",
      "+-----+--------------------+\n",
      "only showing top 10 rows\n",
      "\n"
     ]
    }
   ],
   "source": [
    "clean_data.show(10)"
   ]
  },
  {
   "cell_type": "code",
   "execution_count": 33,
   "id": "629f54cb-6329-494d-ab1f-ad2634a39300",
   "metadata": {},
   "outputs": [],
   "source": [
    "(training,testing) = clean_data.randomSplit([0.7,0.3])"
   ]
  },
  {
   "cell_type": "code",
   "execution_count": 34,
   "id": "fb46cdb0-8d3d-4ddd-9fa5-2d78fa2fa590",
   "metadata": {},
   "outputs": [],
   "source": [
    "fake_predictor = nb.fit(training)"
   ]
  },
  {
   "cell_type": "code",
   "execution_count": 35,
   "id": "0b8a7dd2-1a5e-43db-b039-76bf3494318f",
   "metadata": {},
   "outputs": [
    {
     "name": "stdout",
     "output_type": "stream",
     "text": [
      "root\n",
      " |-- title_text: string (nullable = true)\n",
      " |-- class: integer (nullable = false)\n",
      " |-- length: integer (nullable = true)\n",
      "\n"
     ]
    }
   ],
   "source": [
    "data.printSchema()"
   ]
  },
  {
   "cell_type": "code",
   "execution_count": 36,
   "id": "aeb466c8-07e5-4c73-b9f4-1b7b4b142a1c",
   "metadata": {},
   "outputs": [],
   "source": [
    "test_results = fake_predictor.transform(testing)"
   ]
  },
  {
   "cell_type": "code",
   "execution_count": 37,
   "id": "134e0ee1-361a-4aad-acce-a44564092d77",
   "metadata": {},
   "outputs": [
    {
     "name": "stdout",
     "output_type": "stream",
     "text": [
      "+-----+--------------------+--------------------+-----------+----------+\n",
      "|label|            features|       rawPrediction|probability|prediction|\n",
      "+-----+--------------------+--------------------+-----------+----------+\n",
      "|  1.0|(262145,[0,1,2,3,...|[-32146.980307036...|  [0.0,1.0]|       1.0|\n",
      "|  1.0|(262145,[0,1,2,3,...|[-28534.798244553...|  [0.0,1.0]|       1.0|\n",
      "|  1.0|(262145,[0,1,2,3,...|[-26562.906324341...|  [0.0,1.0]|       1.0|\n",
      "|  1.0|(262145,[0,1,2,3,...|[-28457.565959218...|  [0.0,1.0]|       1.0|\n",
      "|  1.0|(262145,[0,1,2,3,...|[-23902.471395510...|  [0.0,1.0]|       1.0|\n",
      "|  1.0|(262145,[0,1,2,3,...|[-26165.082756125...|  [0.0,1.0]|       1.0|\n",
      "|  1.0|(262145,[0,1,2,3,...|[-37710.906580411...|  [0.0,1.0]|       1.0|\n",
      "|  1.0|(262145,[0,1,2,3,...|[-22665.097681395...|  [0.0,1.0]|       1.0|\n",
      "|  1.0|(262145,[0,1,2,3,...|[-15866.967958237...|  [0.0,1.0]|       1.0|\n",
      "|  1.0|(262145,[0,1,2,3,...|[-16232.740012683...|  [0.0,1.0]|       1.0|\n",
      "+-----+--------------------+--------------------+-----------+----------+\n",
      "only showing top 10 rows\n",
      "\n"
     ]
    }
   ],
   "source": [
    "test_results.show(10)"
   ]
  },
  {
   "cell_type": "code",
   "execution_count": 38,
   "id": "c78a8a2c-90e6-4565-b7b2-6aac7d900c4d",
   "metadata": {},
   "outputs": [
    {
     "name": "stdout",
     "output_type": "stream",
     "text": [
      "+-----+----------+-----+\n",
      "|label|prediction|count|\n",
      "+-----+----------+-----+\n",
      "|  1.0|       1.0| 6332|\n",
      "|  1.0|       0.0|   49|\n",
      "|  0.0|       1.0|  171|\n",
      "|  0.0|       0.0| 6939|\n",
      "+-----+----------+-----+\n",
      "\n"
     ]
    }
   ],
   "source": [
    "test_results.groupBy(\"label\", \"prediction\").count().show()"
   ]
  },
  {
   "cell_type": "code",
   "execution_count": 39,
   "id": "6b72fbf5-bcbc-4209-82f0-07089ecbb530",
   "metadata": {},
   "outputs": [],
   "source": [
    "from pyspark.ml.evaluation import MulticlassClassificationEvaluator"
   ]
  },
  {
   "cell_type": "code",
   "execution_count": 40,
   "id": "72042005-45e7-401b-bd38-12676c8dc7b8",
   "metadata": {},
   "outputs": [
    {
     "name": "stdout",
     "output_type": "stream",
     "text": [
      "Accuracy of model at predicting fake news was: 0.9836994806845225\n"
     ]
    }
   ],
   "source": [
    "acc_eval = MulticlassClassificationEvaluator()\n",
    "acc = acc_eval.evaluate(test_results)\n",
    "print(\"Accuracy of model at predicting fake news was: {}\".format(acc))"
   ]
  },
  {
   "cell_type": "code",
   "execution_count": 41,
   "id": "f70efee1-c2ab-4b61-a670-f58111c45c65",
   "metadata": {},
   "outputs": [],
   "source": [
    "## Mô hình dự đoán có kết quả cao ~ 98%"
   ]
  },
  {
   "cell_type": "markdown",
   "id": "fd7a3b98-8ba4-44d7-9293-be5bf7cb14b4",
   "metadata": {},
   "source": [
    "## Logistic Regression "
   ]
  },
  {
   "cell_type": "code",
   "execution_count": 42,
   "id": "7798d783-b32d-407b-9753-b0da0a2ecd4c",
   "metadata": {},
   "outputs": [],
   "source": [
    "from pyspark.ml.classification import  LogisticRegression"
   ]
  },
  {
   "cell_type": "code",
   "execution_count": 43,
   "id": "1500cad8-8d4b-478e-8fde-e939278cc05d",
   "metadata": {},
   "outputs": [],
   "source": [
    "lg = LogisticRegression(maxIter=20, regParam=0.3, elasticNetParam=0)"
   ]
  },
  {
   "cell_type": "code",
   "execution_count": 44,
   "id": "a5cde9e4-bad7-48da-983b-2da03350d5bc",
   "metadata": {},
   "outputs": [],
   "source": [
    "predictor_1 = lg.fit(training)"
   ]
  },
  {
   "cell_type": "code",
   "execution_count": 45,
   "id": "da0e35cf-6a55-4aba-9784-e03e87c78c23",
   "metadata": {},
   "outputs": [],
   "source": [
    "test_results_1 = predictor_1.transform(testing)"
   ]
  },
  {
   "cell_type": "code",
   "execution_count": 46,
   "id": "ad8f89f0-cf3d-4f67-9714-171ac8c80d5f",
   "metadata": {},
   "outputs": [
    {
     "name": "stdout",
     "output_type": "stream",
     "text": [
      "+-----+----------+-----+\n",
      "|label|prediction|count|\n",
      "+-----+----------+-----+\n",
      "|  1.0|       1.0| 6367|\n",
      "|  1.0|       0.0|   14|\n",
      "|  0.0|       1.0|   83|\n",
      "|  0.0|       0.0| 7027|\n",
      "+-----+----------+-----+\n",
      "\n"
     ]
    }
   ],
   "source": [
    "test_results_1.groupBy('label', 'prediction').count().show()"
   ]
  },
  {
   "cell_type": "code",
   "execution_count": 47,
   "id": "9ec029e5-f7c8-42ec-b660-77f5eb2cb105",
   "metadata": {},
   "outputs": [
    {
     "name": "stdout",
     "output_type": "stream",
     "text": [
      "Accuracy of model at predicting fake news was: 0.9928118248165718\n"
     ]
    }
   ],
   "source": [
    "acc_eval = MulticlassClassificationEvaluator()\n",
    "acc = acc_eval.evaluate(test_results_1)\n",
    "print(\"Accuracy of model at predicting fake news was: {}\".format(acc))"
   ]
  },
  {
   "cell_type": "code",
   "execution_count": 48,
   "id": "c0c14226-ec36-411c-b3d9-7c2b1d8e11ed",
   "metadata": {},
   "outputs": [],
   "source": [
    "## Mô hình dự đoán có kết quả cao ~ 99%"
   ]
  }
 ],
 "metadata": {
  "kernelspec": {
   "display_name": "Python 3 (ipykernel)",
   "language": "python",
   "name": "python3"
  },
  "language_info": {
   "codemirror_mode": {
    "name": "ipython",
    "version": 3
   },
   "file_extension": ".py",
   "mimetype": "text/x-python",
   "name": "python",
   "nbconvert_exporter": "python",
   "pygments_lexer": "ipython3",
   "version": "3.9.12"
  }
 },
 "nbformat": 4,
 "nbformat_minor": 5
}
