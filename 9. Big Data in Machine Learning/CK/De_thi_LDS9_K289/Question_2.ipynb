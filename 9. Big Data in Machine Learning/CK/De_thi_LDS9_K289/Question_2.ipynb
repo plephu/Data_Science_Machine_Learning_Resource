{
 "cells": [
  {
   "cell_type": "code",
   "execution_count": 2,
   "id": "9bc5010a-e2ff-41d1-b3bc-081088623aa2",
   "metadata": {},
   "outputs": [],
   "source": [
    "import findspark\n",
    "findspark.init()"
   ]
  },
  {
   "cell_type": "code",
   "execution_count": 3,
   "id": "ca0df52c-ccf8-491c-9a8a-44756a82e0b6",
   "metadata": {},
   "outputs": [],
   "source": [
    "# import libraries\n",
    "from pyspark import SparkContext\n",
    "from pyspark.conf import SparkConf\n",
    "from pyspark.sql import SparkSession\n",
    "import matplotlib.pyplot as plt\n",
    "import seaborn as sns\n",
    "from scipy import stats\n",
    "from datetime import datetime\n",
    "from pyspark.sql.functions import mean, stddev, col, log\n",
    "from pyspark.sql.functions import to_date, dayofweek, to_timestamp\n",
    "from pyspark.sql import types\n",
    "from pyspark.sql.functions import col, udf\n",
    "from pyspark.sql.types import DateType\n",
    "from pyspark.sql.functions import year, month\n",
    "from pyspark.sql.functions import dayofmonth, weekofyear\n",
    "from pyspark.sql.functions import split, explode\n",
    "from pyspark.sql.functions import coalesce, first, lit\n",
    "from pyspark.ml.feature import Binarizer\n",
    "from pyspark.ml.feature import Bucketizer\n",
    "from pyspark.ml.feature import OneHotEncoder, StringIndexer\n",
    "from pyspark.sql.functions import regexp_extract, col\n",
    "from pyspark.sql.functions import datediff\n",
    "from pyspark.sql.functions import when\n",
    "\n",
    "from pyspark.ml.linalg import Vectors\n",
    "from pyspark.ml.feature import VectorAssembler\n",
    "from pyspark.ml.regression import LinearRegression\n",
    "from pyspark.ml.regression import LinearRegressionModel"
   ]
  },
  {
   "cell_type": "code",
   "execution_count": 4,
   "id": "1095c7ec-2fdf-4c14-b78a-f0f266dea34f",
   "metadata": {},
   "outputs": [],
   "source": [
    "sc = SparkContext()"
   ]
  },
  {
   "cell_type": "code",
   "execution_count": 5,
   "id": "68e2247d-3995-4e92-b92d-02eac3fcfa5a",
   "metadata": {},
   "outputs": [],
   "source": [
    "spark = SparkSession(sc)"
   ]
  },
  {
   "cell_type": "markdown",
   "id": "d8656e4d-5a26-4365-ab4a-08d94b7b3713",
   "metadata": {},
   "source": [
    "## Chuẩn bị, chuẩn hóa dữ liệu, xác định input, output"
   ]
  },
  {
   "cell_type": "code",
   "execution_count": 6,
   "id": "0a0cba90-f6e7-4e38-8004-8e42a7d8ca7f",
   "metadata": {},
   "outputs": [],
   "source": [
    "# Use Spark to read in the Ecommerce Customers csv file.\n",
    "data = spark.read.csv(\"Du lieu cung cap/HomeLoan/loan_sanction_train.csv\", inferSchema=True,header=True)\n"
   ]
  },
  {
   "cell_type": "code",
   "execution_count": 7,
   "id": "f697ba83-97d9-417e-aba8-a56db7d6bfc7",
   "metadata": {},
   "outputs": [
    {
     "name": "stdout",
     "output_type": "stream",
     "text": [
      "root\n",
      " |-- Loan_ID: string (nullable = true)\n",
      " |-- Gender: string (nullable = true)\n",
      " |-- Married: string (nullable = true)\n",
      " |-- Dependents: string (nullable = true)\n",
      " |-- Education: string (nullable = true)\n",
      " |-- Self_Employed: string (nullable = true)\n",
      " |-- ApplicantIncome: integer (nullable = true)\n",
      " |-- CoapplicantIncome: double (nullable = true)\n",
      " |-- LoanAmount: integer (nullable = true)\n",
      " |-- Loan_Amount_Term: integer (nullable = true)\n",
      " |-- Credit_History: integer (nullable = true)\n",
      " |-- Property_Area: string (nullable = true)\n",
      " |-- Loan_Status: string (nullable = true)\n",
      "\n"
     ]
    }
   ],
   "source": [
    "# Print the Schema of the DataFrame\n",
    "data.printSchema()"
   ]
  },
  {
   "cell_type": "code",
   "execution_count": 8,
   "id": "345ee0bd-e4d0-4cc2-bbae-d5887ed40d0e",
   "metadata": {},
   "outputs": [
    {
     "name": "stdout",
     "output_type": "stream",
     "text": [
      "(614, 13)\n"
     ]
    }
   ],
   "source": [
    "print((data.count(), len(data.columns)))"
   ]
  },
  {
   "cell_type": "code",
   "execution_count": 9,
   "id": "4a603206-b76c-43a5-8524-336775bcf094",
   "metadata": {},
   "outputs": [
    {
     "data": {
      "text/plain": [
       "[Row(Loan_ID='LP001002', Gender='Male', Married='No', Dependents='0', Education='Graduate', Self_Employed='No', ApplicantIncome=5849, CoapplicantIncome=0.0, LoanAmount=None, Loan_Amount_Term=360, Credit_History=1, Property_Area='Urban', Loan_Status='Y')]"
      ]
     },
     "execution_count": 9,
     "metadata": {},
     "output_type": "execute_result"
    }
   ],
   "source": [
    "# Khi in bằng head thì định dạng hiển thị là row (khác với head ở pandas dataframe)\n",
    "data.head(1)"
   ]
  },
  {
   "cell_type": "code",
   "execution_count": 10,
   "id": "f263a3db-2009-4d1b-a7f2-fdcb71f2d86e",
   "metadata": {},
   "outputs": [
    {
     "name": "stdout",
     "output_type": "stream",
     "text": [
      "+--------+------+-------+----------+---------+-------------+---------------+-----------------+----------+----------------+--------------+-------------+-----------+\n",
      "| Loan_ID|Gender|Married|Dependents|Education|Self_Employed|ApplicantIncome|CoapplicantIncome|LoanAmount|Loan_Amount_Term|Credit_History|Property_Area|Loan_Status|\n",
      "+--------+------+-------+----------+---------+-------------+---------------+-----------------+----------+----------------+--------------+-------------+-----------+\n",
      "|LP001002|  Male|     No|         0| Graduate|           No|           5849|              0.0|      NULL|             360|             1|        Urban|          Y|\n",
      "|LP001003|  Male|    Yes|         1| Graduate|           No|           4583|           1508.0|       128|             360|             1|        Rural|          N|\n",
      "|LP001005|  Male|    Yes|         0| Graduate|          Yes|           3000|              0.0|        66|             360|             1|        Urban|          Y|\n",
      "+--------+------+-------+----------+---------+-------------+---------------+-----------------+----------+----------------+--------------+-------------+-----------+\n",
      "only showing top 3 rows\n",
      "\n"
     ]
    }
   ],
   "source": [
    "data.show(3) "
   ]
  },
  {
   "cell_type": "code",
   "execution_count": 11,
   "id": "85769002-2618-447d-a90b-c6f23330dceb",
   "metadata": {},
   "outputs": [
    {
     "name": "stdout",
     "output_type": "stream",
     "text": [
      "LP001002\n",
      "Male\n",
      "No\n",
      "0\n",
      "Graduate\n",
      "No\n",
      "5849\n",
      "0.0\n",
      "None\n",
      "360\n",
      "1\n",
      "Urban\n",
      "Y\n"
     ]
    }
   ],
   "source": [
    "for item in data.head():\n",
    "    print(item) "
   ]
  },
  {
   "cell_type": "code",
   "execution_count": 12,
   "id": "343b76fb-935e-464c-9328-610f12f895ac",
   "metadata": {},
   "outputs": [
    {
     "data": {
      "text/plain": [
       "614"
      ]
     },
     "execution_count": 12,
     "metadata": {},
     "output_type": "execute_result"
    }
   ],
   "source": [
    "data.count()"
   ]
  },
  {
   "cell_type": "code",
   "execution_count": 13,
   "id": "1edffab3-a1f0-4aa9-abbd-8f2531d5066d",
   "metadata": {},
   "outputs": [
    {
     "name": "stdout",
     "output_type": "stream",
     "text": [
      "+-------+------+-------+----------+---------+-------------+---------------+-----------------+----------+----------------+--------------+-------------+-----------+\n",
      "|Loan_ID|Gender|Married|Dependents|Education|Self_Employed|ApplicantIncome|CoapplicantIncome|LoanAmount|Loan_Amount_Term|Credit_History|Property_Area|Loan_Status|\n",
      "+-------+------+-------+----------+---------+-------------+---------------+-----------------+----------+----------------+--------------+-------------+-----------+\n",
      "|      0|    13|      3|        15|        0|           32|              0|                0|        22|              14|            50|            0|          0|\n",
      "+-------+------+-------+----------+---------+-------------+---------------+-----------------+----------+----------------+--------------+-------------+-----------+\n",
      "\n"
     ]
    }
   ],
   "source": [
    "from pyspark.sql.functions import col,isnan, when, count\n",
    "data.select([count(when(isnan(c) | col(c).isNull(), c)).alias(c) for c in data.columns]\n",
    "   ).show()"
   ]
  },
  {
   "cell_type": "code",
   "execution_count": 14,
   "id": "ed30f957-bfcc-4441-8015-268abd4dad68",
   "metadata": {},
   "outputs": [
    {
     "data": {
      "text/plain": [
       "480"
      ]
     },
     "execution_count": 14,
     "metadata": {},
     "output_type": "execute_result"
    }
   ],
   "source": [
    "data = data.na.drop()\n",
    "data.count()"
   ]
  },
  {
   "cell_type": "markdown",
   "id": "3a0fa53b-da38-475b-8c1e-da6772446c0e",
   "metadata": {},
   "source": [
    "### Spark Formatting of Data"
   ]
  },
  {
   "cell_type": "code",
   "execution_count": 15,
   "id": "c0813575-21f3-4d0e-b9a4-5b74823877f0",
   "metadata": {},
   "outputs": [],
   "source": [
    "# Train data"
   ]
  },
  {
   "cell_type": "code",
   "execution_count": 16,
   "id": "94017a8f-1b93-4352-9380-8962234bccec",
   "metadata": {},
   "outputs": [],
   "source": [
    "indexer = StringIndexer(inputCol='Gender', outputCol='Gender_inx')\n",
    "indexer_model = indexer.fit(data)\n",
    "data_indexed = indexer_model.transform(data)"
   ]
  },
  {
   "cell_type": "code",
   "execution_count": 17,
   "id": "1c3e65c3-1f3b-4e6c-8376-05413aef7a15",
   "metadata": {},
   "outputs": [],
   "source": [
    "data_indexed =  StringIndexer(inputCol='Married', \n",
    "                              outputCol='Married_inx').fit(data_indexed).transform(data_indexed)"
   ]
  },
  {
   "cell_type": "code",
   "execution_count": 18,
   "id": "2a0a1ffc-4d6d-4200-8e46-6756a90c83eb",
   "metadata": {},
   "outputs": [],
   "source": [
    "data_indexed =  StringIndexer(inputCol='Education', \n",
    "                              outputCol='Education_inx').fit(data_indexed).transform(data_indexed)"
   ]
  },
  {
   "cell_type": "code",
   "execution_count": 19,
   "id": "7ddb8db4-364b-4346-b2ac-460110f77473",
   "metadata": {},
   "outputs": [],
   "source": [
    "data_indexed =  StringIndexer(inputCol='Self_Employed', \n",
    "                              outputCol='Self_Employed_inx').fit(data_indexed).transform(data_indexed)"
   ]
  },
  {
   "cell_type": "code",
   "execution_count": 20,
   "id": "fa986f1a-9bfe-45a7-9d3f-31898ccfc19d",
   "metadata": {},
   "outputs": [],
   "source": [
    "data_indexed =  StringIndexer(inputCol='Property_Area', \n",
    "                              outputCol='Property_Area_inx').fit(data_indexed).transform(data_indexed)"
   ]
  },
  {
   "cell_type": "code",
   "execution_count": 21,
   "id": "fb964890-6ee8-4a7d-b1a9-4588091ae7f7",
   "metadata": {},
   "outputs": [],
   "source": [
    "data_indexed =  StringIndexer(inputCol='Loan_Status', \n",
    "                              outputCol='Loan_Status_inx').fit(data_indexed).transform(data_indexed)"
   ]
  },
  {
   "cell_type": "code",
   "execution_count": 22,
   "id": "5beac6b2-fa50-4250-a6f6-763d2ce24a6b",
   "metadata": {},
   "outputs": [],
   "source": [
    "from pyspark.sql.functions import col, regexp_replace\n",
    "# Remove + in column Dependents\n",
    "data_indexed = data_indexed.withColumn(\"Dependents\", regexp_replace(col(\"Dependents\"), \"\\\\+\", \"\"))\n",
    "data_indexed = data_indexed.withColumn(\"Dependents\", data_indexed[\"Dependents\"].cast(\"double\"))\n"
   ]
  },
  {
   "cell_type": "code",
   "execution_count": 23,
   "id": "290a013a-379d-4034-ab3c-a562ebd06e01",
   "metadata": {
    "scrolled": true
   },
   "outputs": [
    {
     "name": "stdout",
     "output_type": "stream",
     "text": [
      "+--------+------+-------+----------+------------+-------------+---------------+-----------------+----------+----------------+--------------+-------------+-----------+----------+-----------+-------------+-----------------+-----------------+---------------+\n",
      "| Loan_ID|Gender|Married|Dependents|   Education|Self_Employed|ApplicantIncome|CoapplicantIncome|LoanAmount|Loan_Amount_Term|Credit_History|Property_Area|Loan_Status|Gender_inx|Married_inx|Education_inx|Self_Employed_inx|Property_Area_inx|Loan_Status_inx|\n",
      "+--------+------+-------+----------+------------+-------------+---------------+-----------------+----------+----------------+--------------+-------------+-----------+----------+-----------+-------------+-----------------+-----------------+---------------+\n",
      "|LP001003|  Male|    Yes|       1.0|    Graduate|           No|           4583|           1508.0|       128|             360|             1|        Rural|          N|       0.0|        0.0|          0.0|              0.0|              2.0|            1.0|\n",
      "|LP001005|  Male|    Yes|       0.0|    Graduate|          Yes|           3000|              0.0|        66|             360|             1|        Urban|          Y|       0.0|        0.0|          0.0|              1.0|              1.0|            0.0|\n",
      "|LP001006|  Male|    Yes|       0.0|Not Graduate|           No|           2583|           2358.0|       120|             360|             1|        Urban|          Y|       0.0|        0.0|          1.0|              0.0|              1.0|            0.0|\n",
      "|LP001008|  Male|     No|       0.0|    Graduate|           No|           6000|              0.0|       141|             360|             1|        Urban|          Y|       0.0|        1.0|          0.0|              0.0|              1.0|            0.0|\n",
      "|LP001011|  Male|    Yes|       2.0|    Graduate|          Yes|           5417|           4196.0|       267|             360|             1|        Urban|          Y|       0.0|        0.0|          0.0|              1.0|              1.0|            0.0|\n",
      "+--------+------+-------+----------+------------+-------------+---------------+-----------------+----------+----------------+--------------+-------------+-----------+----------+-----------+-------------+-----------------+-----------------+---------------+\n",
      "only showing top 5 rows\n",
      "\n"
     ]
    }
   ],
   "source": [
    "data_indexed.show(5)"
   ]
  },
  {
   "cell_type": "code",
   "execution_count": 24,
   "id": "27bae7ee-9d3b-4cbb-b9b2-5678ab0cd18c",
   "metadata": {},
   "outputs": [],
   "source": [
    "from pyspark.ml.linalg import Vectors\n",
    "from pyspark.ml.feature import VectorAssembler"
   ]
  },
  {
   "cell_type": "code",
   "execution_count": 25,
   "id": "ab05e42f-6852-439a-9ffa-f2fded5b89cc",
   "metadata": {},
   "outputs": [
    {
     "data": {
      "text/plain": [
       "['Loan_ID',\n",
       " 'Gender',\n",
       " 'Married',\n",
       " 'Dependents',\n",
       " 'Education',\n",
       " 'Self_Employed',\n",
       " 'ApplicantIncome',\n",
       " 'CoapplicantIncome',\n",
       " 'LoanAmount',\n",
       " 'Loan_Amount_Term',\n",
       " 'Credit_History',\n",
       " 'Property_Area',\n",
       " 'Loan_Status',\n",
       " 'Gender_inx',\n",
       " 'Married_inx',\n",
       " 'Education_inx',\n",
       " 'Self_Employed_inx',\n",
       " 'Property_Area_inx',\n",
       " 'Loan_Status_inx']"
      ]
     },
     "execution_count": 25,
     "metadata": {},
     "output_type": "execute_result"
    }
   ],
   "source": [
    "data_indexed.columns"
   ]
  },
  {
   "cell_type": "code",
   "execution_count": 26,
   "id": "f82f6d70-0495-47ab-a766-f9f2ed2086a0",
   "metadata": {},
   "outputs": [],
   "source": [
    "assembler = VectorAssembler(\n",
    "    inputCols=['Gender_inx', 'Married_inx', 'Dependents',\n",
    "               'Education_inx', 'Self_Employed_inx','ApplicantIncome',\n",
    "               'CoapplicantIncome','LoanAmount','Loan_Amount_Term',\n",
    "               'Credit_History','Property_Area_inx'],\n",
    "    outputCol='features'\n",
    ")"
   ]
  },
  {
   "cell_type": "code",
   "execution_count": 27,
   "id": "5a92d9f0-308c-4a6f-9c43-43e2ff769410",
   "metadata": {},
   "outputs": [],
   "source": [
    "data_pre = assembler.transform(data_indexed)"
   ]
  },
  {
   "cell_type": "code",
   "execution_count": 28,
   "id": "af08bcb5-d97a-4bd6-be65-ccc5fe9ae8c6",
   "metadata": {},
   "outputs": [
    {
     "name": "stdout",
     "output_type": "stream",
     "text": [
      "+-------------------------------------------------------+\n",
      "|features                                               |\n",
      "+-------------------------------------------------------+\n",
      "|[0.0,0.0,1.0,0.0,0.0,4583.0,1508.0,128.0,360.0,1.0,2.0]|\n",
      "|(11,[4,5,7,8,9,10],[1.0,3000.0,66.0,360.0,1.0,1.0])    |\n",
      "+-------------------------------------------------------+\n",
      "only showing top 2 rows\n",
      "\n"
     ]
    }
   ],
   "source": [
    "data_pre.select('features').show(2, truncate=False)"
   ]
  },
  {
   "cell_type": "code",
   "execution_count": 29,
   "id": "fb34ac4a-7a9e-48c7-8a39-144d27371f06",
   "metadata": {},
   "outputs": [
    {
     "name": "stdout",
     "output_type": "stream",
     "text": [
      "+--------+------+-------+----------+---------+-------------+---------------+-----------------+----------+----------------+--------------+-------------+-----------+----------+-----------+-------------+-----------------+-----------------+---------------+--------------------+\n",
      "| Loan_ID|Gender|Married|Dependents|Education|Self_Employed|ApplicantIncome|CoapplicantIncome|LoanAmount|Loan_Amount_Term|Credit_History|Property_Area|Loan_Status|Gender_inx|Married_inx|Education_inx|Self_Employed_inx|Property_Area_inx|Loan_Status_inx|            features|\n",
      "+--------+------+-------+----------+---------+-------------+---------------+-----------------+----------+----------------+--------------+-------------+-----------+----------+-----------+-------------+-----------------+-----------------+---------------+--------------------+\n",
      "|LP001003|  Male|    Yes|       1.0| Graduate|           No|           4583|           1508.0|       128|             360|             1|        Rural|          N|       0.0|        0.0|          0.0|              0.0|              2.0|            1.0|[0.0,0.0,1.0,0.0,...|\n",
      "|LP001005|  Male|    Yes|       0.0| Graduate|          Yes|           3000|              0.0|        66|             360|             1|        Urban|          Y|       0.0|        0.0|          0.0|              1.0|              1.0|            0.0|(11,[4,5,7,8,9,10...|\n",
      "+--------+------+-------+----------+---------+-------------+---------------+-----------------+----------+----------------+--------------+-------------+-----------+----------+-----------+-------------+-----------------+-----------------+---------------+--------------------+\n",
      "only showing top 2 rows\n",
      "\n"
     ]
    }
   ],
   "source": [
    "data_pre.show(2)"
   ]
  },
  {
   "cell_type": "code",
   "execution_count": 30,
   "id": "fee37c28-926b-41bf-b532-9f38cc4b6013",
   "metadata": {},
   "outputs": [],
   "source": [
    "final_data = data_pre.select('features','Loan_Status_inx')"
   ]
  },
  {
   "cell_type": "code",
   "execution_count": 31,
   "id": "31255c63-bab7-46aa-9872-357679eb1091",
   "metadata": {},
   "outputs": [
    {
     "data": {
      "text/plain": [
       "480"
      ]
     },
     "execution_count": 31,
     "metadata": {},
     "output_type": "execute_result"
    }
   ],
   "source": [
    "final_data.count()"
   ]
  },
  {
   "cell_type": "code",
   "execution_count": 32,
   "id": "320cd656-8ee5-4015-8d81-82314c2c3f5f",
   "metadata": {},
   "outputs": [],
   "source": [
    "train_data, test_data = final_data.randomSplit([0.8,0.2])"
   ]
  },
  {
   "cell_type": "code",
   "execution_count": 33,
   "id": "e96888eb-2799-4eb8-8b13-f7df9fb743cc",
   "metadata": {},
   "outputs": [
    {
     "name": "stdout",
     "output_type": "stream",
     "text": [
      "+-------+-------------------+\n",
      "|summary|    Loan_Status_inx|\n",
      "+-------+-------------------+\n",
      "|  count|                390|\n",
      "|   mean|0.31794871794871793|\n",
      "| stddev|0.46627760461053047|\n",
      "|    min|                0.0|\n",
      "|    max|                1.0|\n",
      "+-------+-------------------+\n",
      "\n"
     ]
    }
   ],
   "source": [
    "train_data.describe().show()"
   ]
  },
  {
   "cell_type": "code",
   "execution_count": 34,
   "id": "84dfb03a-6d7a-4a70-a28d-1712cf2b4593",
   "metadata": {},
   "outputs": [
    {
     "name": "stdout",
     "output_type": "stream",
     "text": [
      "+-------+-------------------+\n",
      "|summary|    Loan_Status_inx|\n",
      "+-------+-------------------+\n",
      "|  count|                 90|\n",
      "|   mean|0.26666666666666666|\n",
      "| stddev| 0.4446940622369092|\n",
      "|    min|                0.0|\n",
      "|    max|                1.0|\n",
      "+-------+-------------------+\n",
      "\n"
     ]
    }
   ],
   "source": [
    "test_data.describe().show()"
   ]
  },
  {
   "cell_type": "code",
   "execution_count": 35,
   "id": "35ad56af-a0dd-4271-8ce1-6100f6a6e327",
   "metadata": {},
   "outputs": [],
   "source": [
    "from pyspark.ml.classification import LogisticRegression\n",
    "from pyspark.ml.classification import DecisionTreeClassifier\n",
    "from pyspark.ml.classification import GBTClassifier,RandomForestClassifier"
   ]
  },
  {
   "cell_type": "code",
   "execution_count": 36,
   "id": "a33b7e92-b4d6-46e7-859b-e4daf7a43f96",
   "metadata": {},
   "outputs": [],
   "source": [
    "logistic = LogisticRegression(featuresCol='features', labelCol='Loan_Status_inx', predictionCol='prediction')\n",
    "dtc = DecisionTreeClassifier(featuresCol='features', labelCol='Loan_Status_inx')\n",
    "rfc = RandomForestClassifier(featuresCol='features', labelCol='Loan_Status_inx')\n",
    "gbt = GBTClassifier(featuresCol='features', labelCol='Loan_Status_inx')"
   ]
  },
  {
   "cell_type": "code",
   "execution_count": 37,
   "id": "fa094ead-a1f9-4806-b667-cba187840c63",
   "metadata": {},
   "outputs": [],
   "source": [
    "logisticModel = logistic.fit(train_data)\n",
    "dtc_model = dtc.fit(train_data)\n",
    "rfc_model = rfc.fit(train_data)\n",
    "gbt_model = gbt.fit(train_data)"
   ]
  },
  {
   "cell_type": "markdown",
   "id": "a17bae0e-69fb-4f74-a22d-904f3ba1ece4",
   "metadata": {},
   "source": [
    "### Model Comparison"
   ]
  },
  {
   "cell_type": "code",
   "execution_count": 38,
   "id": "5d70afd7-3d48-4977-a593-0e126180b600",
   "metadata": {},
   "outputs": [],
   "source": [
    "logistic_predictions = logisticModel.transform(test_data)\n",
    "dtc_predictions = dtc_model.transform(test_data)\n",
    "rfc_predictions = rfc_model.transform(test_data)\n",
    "gbt_predictions = gbt_model.transform(test_data)"
   ]
  },
  {
   "cell_type": "code",
   "execution_count": 39,
   "id": "edf5cae0-3350-4741-82c3-6236eb754bd9",
   "metadata": {},
   "outputs": [],
   "source": [
    "from pyspark.ml.evaluation import MulticlassClassificationEvaluator,  BinaryClassificationEvaluator"
   ]
  },
  {
   "cell_type": "code",
   "execution_count": 40,
   "id": "63d01d80-b179-45d1-b413-8a62c9edbea1",
   "metadata": {},
   "outputs": [],
   "source": [
    "# Select (prediction, true label) and compute test error\n",
    "acc_evaluator = MulticlassClassificationEvaluator(labelCol=\"Loan_Status_inx\", \n",
    "                                                  predictionCol=\"prediction\", \n",
    "                                                  metricName=\"accuracy\")"
   ]
  },
  {
   "cell_type": "code",
   "execution_count": 42,
   "id": "87deb7ad-e120-43e2-af52-86f706d7f260",
   "metadata": {},
   "outputs": [],
   "source": [
    "logistic_acc = acc_evaluator.evaluate(logistic_predictions)\n",
    "dtc_acc = acc_evaluator.evaluate(dtc_predictions)\n",
    "rfc_acc = acc_evaluator.evaluate(rfc_predictions)\n",
    "gbt_acc = acc_evaluator.evaluate(gbt_predictions)"
   ]
  },
  {
   "cell_type": "code",
   "execution_count": 44,
   "id": "1e50000d-2c95-4696-82b5-404408fc8d07",
   "metadata": {},
   "outputs": [
    {
     "name": "stdout",
     "output_type": "stream",
     "text": [
      "Results:\n",
      "--------------------------------------------------------------------------------\n",
      "Logistic - accuracy: 83.33%\n",
      "--------------------------------------------------------------------------------\n",
      "A single decision tree - accuracy: 77.78%\n",
      "--------------------------------------------------------------------------------\n",
      "A random forest ensemble - accuracy: 82.22%\n",
      "--------------------------------------------------------------------------------\n",
      "A ensemble using GBT - accuracy: 76.67%\n"
     ]
    }
   ],
   "source": [
    "print(\"Results:\")\n",
    "print('-'*80)\n",
    "print('Logistic - accuracy: {0:2.2f}%'.format(logistic_acc*100))\n",
    "print('-'*80)\n",
    "print('A single decision tree - accuracy: {0:2.2f}%'.format(dtc_acc*100))\n",
    "print('-'*80)\n",
    "print('A random forest ensemble - accuracy: {0:2.2f}%'.format(rfc_acc*100))\n",
    "print('-'*80)\n",
    "print('A ensemble using GBT - accuracy: {0:2.2f}%'.format(gbt_acc*100))"
   ]
  },
  {
   "cell_type": "markdown",
   "id": "f6d2cd03-4df3-4d52-8691-eaa263723bbb",
   "metadata": {},
   "source": [
    " => Logistic và random forest có kết quả tốt nhất"
   ]
  },
  {
   "cell_type": "markdown",
   "id": "a53b43e4-af11-43ef-9568-435c8aea9446",
   "metadata": {},
   "source": [
    "## Test with loan_sanction_test"
   ]
  },
  {
   "cell_type": "code",
   "execution_count": 45,
   "id": "b841591e-9ebb-4988-9109-7c3ecbaeca69",
   "metadata": {},
   "outputs": [],
   "source": [
    "val_data = spark.read.csv(\"Du lieu cung cap/HomeLoan/loan_sanction_test.csv\", inferSchema=True,header=True)"
   ]
  },
  {
   "cell_type": "code",
   "execution_count": 46,
   "id": "71a3e4d6-a98b-4118-9b58-6d2f803ca49e",
   "metadata": {},
   "outputs": [
    {
     "data": {
      "text/plain": [
       "367"
      ]
     },
     "execution_count": 46,
     "metadata": {},
     "output_type": "execute_result"
    }
   ],
   "source": [
    "val_data.count()"
   ]
  },
  {
   "cell_type": "code",
   "execution_count": 47,
   "id": "65f0596c-2d3f-4bfe-8d13-b69fcab8b427",
   "metadata": {},
   "outputs": [
    {
     "name": "stdout",
     "output_type": "stream",
     "text": [
      "+-------+------+-------+----------+---------+-------------+---------------+-----------------+----------+----------------+--------------+-------------+\n",
      "|Loan_ID|Gender|Married|Dependents|Education|Self_Employed|ApplicantIncome|CoapplicantIncome|LoanAmount|Loan_Amount_Term|Credit_History|Property_Area|\n",
      "+-------+------+-------+----------+---------+-------------+---------------+-----------------+----------+----------------+--------------+-------------+\n",
      "|      0|    11|      0|        10|        0|           23|              0|                0|         5|               6|            29|            0|\n",
      "+-------+------+-------+----------+---------+-------------+---------------+-----------------+----------+----------------+--------------+-------------+\n",
      "\n"
     ]
    }
   ],
   "source": [
    "val_data.select([count(when(isnan(c) | col(c).isNull(), c)).alias(c) for c in val_data.columns]\n",
    "   ).show()"
   ]
  },
  {
   "cell_type": "code",
   "execution_count": 48,
   "id": "baaf5ce2-6585-4175-8a67-b8faf97a9bb1",
   "metadata": {},
   "outputs": [
    {
     "data": {
      "text/plain": [
       "289"
      ]
     },
     "execution_count": 48,
     "metadata": {},
     "output_type": "execute_result"
    }
   ],
   "source": [
    "val_data = val_data.na.drop()\n",
    "val_data.count()"
   ]
  },
  {
   "cell_type": "code",
   "execution_count": 49,
   "id": "c7897783-01b1-4de1-8a6e-e16404f52d1b",
   "metadata": {},
   "outputs": [],
   "source": [
    "indexer = StringIndexer(inputCol='Gender', outputCol='Gender_inx')\n",
    "indexer_model = indexer.fit(val_data)\n",
    "data_indexed = indexer_model.transform(val_data)"
   ]
  },
  {
   "cell_type": "code",
   "execution_count": 50,
   "id": "997c8885-c43d-4bb2-9ea5-4aeb6e19d3f0",
   "metadata": {},
   "outputs": [],
   "source": [
    "data_indexed =  StringIndexer(inputCol='Married', \n",
    "                              outputCol='Married_inx').fit(data_indexed).transform(data_indexed)"
   ]
  },
  {
   "cell_type": "code",
   "execution_count": 51,
   "id": "83c2e852-0e83-4de8-abc6-f26150482d8b",
   "metadata": {},
   "outputs": [],
   "source": [
    "data_indexed =  StringIndexer(inputCol='Education', \n",
    "                              outputCol='Education_inx').fit(data_indexed).transform(data_indexed)"
   ]
  },
  {
   "cell_type": "code",
   "execution_count": 52,
   "id": "ce8de52d-e532-4aa6-86a6-21113f53eb60",
   "metadata": {},
   "outputs": [],
   "source": [
    "data_indexed =  StringIndexer(inputCol='Self_Employed', \n",
    "                              outputCol='Self_Employed_inx').fit(data_indexed).transform(data_indexed)"
   ]
  },
  {
   "cell_type": "code",
   "execution_count": 53,
   "id": "c1643966-2329-46b9-9a5e-192868bd5a8e",
   "metadata": {},
   "outputs": [],
   "source": [
    "data_indexed =  StringIndexer(inputCol='Property_Area', \n",
    "                              outputCol='Property_Area_inx').fit(data_indexed).transform(data_indexed)"
   ]
  },
  {
   "cell_type": "code",
   "execution_count": 54,
   "id": "11b55a2e-2303-40a6-a1b2-21dbe67ab93e",
   "metadata": {},
   "outputs": [],
   "source": [
    "from pyspark.sql.functions import col, regexp_replace\n",
    "# Remove + in column Dependents\n",
    "data_indexed = data_indexed.withColumn(\"Dependents\", regexp_replace(col(\"Dependents\"), \"\\\\+\", \"\"))\n",
    "data_indexed = data_indexed.withColumn(\"Dependents\", data_indexed[\"Dependents\"].cast(\"double\"))\n"
   ]
  },
  {
   "cell_type": "code",
   "execution_count": 55,
   "id": "ee0189ab-646b-4b27-a08d-219cc6833562",
   "metadata": {
    "scrolled": true
   },
   "outputs": [
    {
     "name": "stdout",
     "output_type": "stream",
     "text": [
      "+--------+------+-------+----------+------------+-------------+---------------+-----------------+----------+----------------+--------------+-------------+----------+-----------+-------------+-----------------+-----------------+\n",
      "| Loan_ID|Gender|Married|Dependents|   Education|Self_Employed|ApplicantIncome|CoapplicantIncome|LoanAmount|Loan_Amount_Term|Credit_History|Property_Area|Gender_inx|Married_inx|Education_inx|Self_Employed_inx|Property_Area_inx|\n",
      "+--------+------+-------+----------+------------+-------------+---------------+-----------------+----------+----------------+--------------+-------------+----------+-----------+-------------+-----------------+-----------------+\n",
      "|LP001015|  Male|    Yes|       0.0|    Graduate|           No|           5720|                0|       110|             360|             1|        Urban|       0.0|        0.0|          0.0|              0.0|              0.0|\n",
      "|LP001022|  Male|    Yes|       1.0|    Graduate|           No|           3076|             1500|       126|             360|             1|        Urban|       0.0|        0.0|          0.0|              0.0|              0.0|\n",
      "|LP001031|  Male|    Yes|       2.0|    Graduate|           No|           5000|             1800|       208|             360|             1|        Urban|       0.0|        0.0|          0.0|              0.0|              0.0|\n",
      "|LP001051|  Male|     No|       0.0|Not Graduate|           No|           3276|                0|        78|             360|             1|        Urban|       0.0|        1.0|          1.0|              0.0|              0.0|\n",
      "|LP001054|  Male|    Yes|       0.0|Not Graduate|          Yes|           2165|             3422|       152|             360|             1|        Urban|       0.0|        0.0|          1.0|              1.0|              0.0|\n",
      "+--------+------+-------+----------+------------+-------------+---------------+-----------------+----------+----------------+--------------+-------------+----------+-----------+-------------+-----------------+-----------------+\n",
      "only showing top 5 rows\n",
      "\n"
     ]
    }
   ],
   "source": [
    "data_indexed.show(5)"
   ]
  },
  {
   "cell_type": "code",
   "execution_count": 56,
   "id": "26f10d4d-d53a-4ecd-a714-3d7b31c146f8",
   "metadata": {},
   "outputs": [],
   "source": [
    "val_data_pre = assembler.transform(data_indexed)"
   ]
  },
  {
   "cell_type": "code",
   "execution_count": 57,
   "id": "f8522b5a-56f3-4815-aef1-34ad68190a6d",
   "metadata": {},
   "outputs": [
    {
     "name": "stdout",
     "output_type": "stream",
     "text": [
      "+------------------------------------------------------+\n",
      "|features                                              |\n",
      "+------------------------------------------------------+\n",
      "|(11,[5,7,8,9],[5720.0,110.0,360.0,1.0])               |\n",
      "|(11,[2,5,6,7,8,9],[1.0,3076.0,1500.0,126.0,360.0,1.0])|\n",
      "+------------------------------------------------------+\n",
      "only showing top 2 rows\n",
      "\n"
     ]
    }
   ],
   "source": [
    "val_data_pre.select('features').show(2, truncate=False)"
   ]
  },
  {
   "cell_type": "code",
   "execution_count": 58,
   "id": "e250875e-821c-4e2f-8423-c5ef6273f1df",
   "metadata": {},
   "outputs": [
    {
     "name": "stdout",
     "output_type": "stream",
     "text": [
      "+--------+------+-------+----------+---------+-------------+---------------+-----------------+----------+----------------+--------------+-------------+----------+-----------+-------------+-----------------+-----------------+--------------------+\n",
      "| Loan_ID|Gender|Married|Dependents|Education|Self_Employed|ApplicantIncome|CoapplicantIncome|LoanAmount|Loan_Amount_Term|Credit_History|Property_Area|Gender_inx|Married_inx|Education_inx|Self_Employed_inx|Property_Area_inx|            features|\n",
      "+--------+------+-------+----------+---------+-------------+---------------+-----------------+----------+----------------+--------------+-------------+----------+-----------+-------------+-----------------+-----------------+--------------------+\n",
      "|LP001015|  Male|    Yes|       0.0| Graduate|           No|           5720|                0|       110|             360|             1|        Urban|       0.0|        0.0|          0.0|              0.0|              0.0|(11,[5,7,8,9],[57...|\n",
      "|LP001022|  Male|    Yes|       1.0| Graduate|           No|           3076|             1500|       126|             360|             1|        Urban|       0.0|        0.0|          0.0|              0.0|              0.0|(11,[2,5,6,7,8,9]...|\n",
      "+--------+------+-------+----------+---------+-------------+---------------+-----------------+----------+----------------+--------------+-------------+----------+-----------+-------------+-----------------+-----------------+--------------------+\n",
      "only showing top 2 rows\n",
      "\n"
     ]
    }
   ],
   "source": [
    "val_data_pre.show(2)"
   ]
  },
  {
   "cell_type": "code",
   "execution_count": 59,
   "id": "19875eb5-7afd-4261-9e45-375ab7a80e30",
   "metadata": {},
   "outputs": [],
   "source": [
    "val_final_data = val_data_pre.select('features')"
   ]
  },
  {
   "cell_type": "code",
   "execution_count": 60,
   "id": "a6e0b047-c872-4884-ac26-2d7badd401cd",
   "metadata": {},
   "outputs": [
    {
     "data": {
      "text/plain": [
       "289"
      ]
     },
     "execution_count": 60,
     "metadata": {},
     "output_type": "execute_result"
    }
   ],
   "source": [
    "val_final_data.count()"
   ]
  },
  {
   "cell_type": "code",
   "execution_count": 61,
   "id": "df70fe4f-64c3-4108-b6c4-00b55aa31623",
   "metadata": {},
   "outputs": [],
   "source": [
    "# Dùng logisticModel để dự đoán."
   ]
  },
  {
   "cell_type": "code",
   "execution_count": 62,
   "id": "fd9b8d3c-b631-429e-a07b-a3d9dad29953",
   "metadata": {},
   "outputs": [],
   "source": [
    "predictions = logisticModel.transform(val_final_data)"
   ]
  },
  {
   "cell_type": "code",
   "execution_count": 63,
   "id": "a225ce5c-948e-4991-afb8-75e1d185742e",
   "metadata": {
    "scrolled": true
   },
   "outputs": [
    {
     "name": "stdout",
     "output_type": "stream",
     "text": [
      "+-------------------------------------------------------+----------------------------------------+----------+\n",
      "|features                                               |probability                             |prediction|\n",
      "+-------------------------------------------------------+----------------------------------------+----------+\n",
      "|(11,[5,7,8,9],[5720.0,110.0,360.0,1.0])                |[0.9133358070200766,0.08666419297992345]|0.0       |\n",
      "|(11,[2,5,6,7,8,9],[1.0,3076.0,1500.0,126.0,360.0,1.0]) |[0.9048844889864587,0.09511551101354132]|0.0       |\n",
      "|(11,[2,5,6,7,8,9],[2.0,5000.0,1800.0,208.0,360.0,1.0]) |[0.8929858675050534,0.10701413249494662]|0.0       |\n",
      "|(11,[1,3,5,7,8,9],[1.0,1.0,3276.0,78.0,360.0,1.0])     |[0.8320395078284291,0.16796049217157094]|0.0       |\n",
      "|[0.0,0.0,0.0,1.0,1.0,2165.0,3422.0,152.0,360.0,1.0,0.0]|[0.8211106005822686,0.1788893994177314] |0.0       |\n",
      "+-------------------------------------------------------+----------------------------------------+----------+\n",
      "only showing top 5 rows\n",
      "\n"
     ]
    }
   ],
   "source": [
    "predictions[['features','probability','prediction']].show(5,False)"
   ]
  },
  {
   "cell_type": "code",
   "execution_count": 64,
   "id": "31e228dc-6a41-4af1-a534-bd95e096e9a5",
   "metadata": {},
   "outputs": [],
   "source": [
    "# Dùng random forest để dự đoán."
   ]
  },
  {
   "cell_type": "code",
   "execution_count": 65,
   "id": "f7e6b815-f5ca-4340-a8e3-437621a8b3cc",
   "metadata": {},
   "outputs": [],
   "source": [
    "predictions = rfc_model.transform(val_final_data)"
   ]
  },
  {
   "cell_type": "code",
   "execution_count": 66,
   "id": "4198b23a-4f59-493e-874a-7cb149ebc3ee",
   "metadata": {
    "scrolled": true
   },
   "outputs": [
    {
     "name": "stdout",
     "output_type": "stream",
     "text": [
      "+-------------------------------------------------------+----------------------------------------+----------+\n",
      "|features                                               |probability                             |prediction|\n",
      "+-------------------------------------------------------+----------------------------------------+----------+\n",
      "|(11,[5,7,8,9],[5720.0,110.0,360.0,1.0])                |[0.8469692475023163,0.15303075249768386]|0.0       |\n",
      "|(11,[2,5,6,7,8,9],[1.0,3076.0,1500.0,126.0,360.0,1.0]) |[0.8823642274750746,0.11763577252492537]|0.0       |\n",
      "|(11,[2,5,6,7,8,9],[2.0,5000.0,1800.0,208.0,360.0,1.0]) |[0.8140493095475206,0.18595069045247944]|0.0       |\n",
      "|(11,[1,3,5,7,8,9],[1.0,1.0,3276.0,78.0,360.0,1.0])     |[0.780975312890536,0.2190246871094641]  |0.0       |\n",
      "|[0.0,0.0,0.0,1.0,1.0,2165.0,3422.0,152.0,360.0,1.0,0.0]|[0.8489625512400671,0.1510374487599329] |0.0       |\n",
      "|[1.0,1.0,1.0,1.0,0.0,2226.0,0.0,59.0,360.0,1.0,2.0]    |[0.5813893317918595,0.4186106682081404] |0.0       |\n",
      "|(11,[2,3,5,7,8,10],[2.0,1.0,3881.0,147.0,360.0,1.0])   |[0.2595383403024891,0.7404616596975109] |1.0       |\n",
      "|[0.0,1.0,0.0,1.0,0.0,2400.0,2400.0,123.0,360.0,1.0,2.0]|[0.8278122147651248,0.1721877852348753] |0.0       |\n",
      "|(11,[1,3,5,7,8,9],[1.0,1.0,3091.0,90.0,360.0,1.0])     |[0.7881400085860102,0.2118599914139899] |0.0       |\n",
      "|[1.0,1.0,0.0,0.0,0.0,4666.0,0.0,124.0,360.0,1.0,2.0]   |[0.768032475169582,0.2319675248304182]  |0.0       |\n",
      "|(11,[1,2,5,7,8,9],[1.0,1.0,5667.0,131.0,360.0,1.0])    |[0.8417618943703259,0.15823810562967416]|0.0       |\n",
      "|(11,[2,5,6,7,8,9],[2.0,4583.0,2916.0,200.0,360.0,1.0]) |[0.8145196933244325,0.18548030667556747]|0.0       |\n",
      "|[0.0,0.0,3.0,0.0,0.0,3786.0,333.0,126.0,360.0,1.0,2.0] |[0.8052698092363622,0.1947301907636379] |0.0       |\n",
      "|(11,[5,6,7,8,9],[9226.0,7916.0,300.0,360.0,1.0])       |[0.49891482944165155,0.5010851705583484]|1.0       |\n",
      "|[0.0,1.0,0.0,0.0,0.0,1300.0,3470.0,100.0,180.0,1.0,2.0]|[0.6960409588233367,0.3039590411766634] |0.0       |\n",
      "|[0.0,0.0,1.0,1.0,0.0,1888.0,1620.0,48.0,360.0,1.0,0.0] |[0.896374315263653,0.10362568473634708] |0.0       |\n",
      "|[1.0,1.0,3.0,1.0,0.0,2083.0,0.0,28.0,180.0,1.0,0.0]    |[0.610958633917355,0.38904136608264495] |0.0       |\n",
      "|[1.0,1.0,0.0,1.0,0.0,3765.0,0.0,125.0,360.0,1.0,0.0]   |[0.819352805642985,0.18064719435701498] |0.0       |\n",
      "|(11,[5,6,7,8,9],[5400.0,4380.0,290.0,360.0,1.0])       |[0.6793919899230323,0.32060801007696776]|0.0       |\n",
      "|(11,[1,6,7,8,10],[1.0,24000.0,148.0,360.0,1.0])        |[0.2588919424358891,0.7411080575641109] |1.0       |\n",
      "+-------------------------------------------------------+----------------------------------------+----------+\n",
      "only showing top 20 rows\n",
      "\n"
     ]
    }
   ],
   "source": [
    "predictions[['features','probability','prediction']].show(20,False)"
   ]
  }
 ],
 "metadata": {
  "kernelspec": {
   "display_name": "Python 3 (ipykernel)",
   "language": "python",
   "name": "python3"
  },
  "language_info": {
   "codemirror_mode": {
    "name": "ipython",
    "version": 3
   },
   "file_extension": ".py",
   "mimetype": "text/x-python",
   "name": "python",
   "nbconvert_exporter": "python",
   "pygments_lexer": "ipython3",
   "version": "3.9.12"
  }
 },
 "nbformat": 4,
 "nbformat_minor": 5
}
