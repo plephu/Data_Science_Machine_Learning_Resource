{
 "cells": [
  {
   "cell_type": "code",
   "execution_count": 1,
   "id": "2d48565d-4eab-4fc9-84c2-cad39fede637",
   "metadata": {},
   "outputs": [],
   "source": [
    "import findspark\n",
    "findspark.init()"
   ]
  },
  {
   "cell_type": "code",
   "execution_count": 2,
   "id": "a16eb41f-25dd-46fe-a16b-c4fbcd18585c",
   "metadata": {},
   "outputs": [],
   "source": [
    "import pyspark"
   ]
  },
  {
   "cell_type": "code",
   "execution_count": 3,
   "id": "3563874f-8e11-4f61-8047-4bc017dea9c0",
   "metadata": {},
   "outputs": [],
   "source": [
    "from pyspark import SparkContext\n",
    "from pyspark.conf import SparkConf\n",
    "from pyspark.sql import SparkSession"
   ]
  },
  {
   "cell_type": "code",
   "execution_count": 4,
   "id": "d5fab766-1f12-465c-bb29-c9bb4041968a",
   "metadata": {},
   "outputs": [],
   "source": [
    "sc =SparkContext()"
   ]
  },
  {
   "cell_type": "code",
   "execution_count": 5,
   "id": "73462f3b-fb73-48ac-aa57-482ce56752da",
   "metadata": {},
   "outputs": [],
   "source": [
    "spark = SparkSession(sc)"
   ]
  },
  {
   "cell_type": "code",
   "execution_count": 10,
   "id": "d3bee606-5972-4d3c-a2f5-e3e61e04ae8a",
   "metadata": {},
   "outputs": [],
   "source": [
    "# Use Spark to read in the Ecommerce Customers csv file.\n",
    "data = spark.read.json(\"Du lieu cung cap/reviews_Toys_and_Games_5.json.gz\")"
   ]
  },
  {
   "cell_type": "code",
   "execution_count": 12,
   "id": "5608d83a-4bee-4181-9ee5-1910e338bc50",
   "metadata": {},
   "outputs": [
    {
     "name": "stdout",
     "output_type": "stream",
     "text": [
      "+----------+-------+-------+--------------------+-----------+--------------+--------------+--------------------+--------------+\n",
      "|      asin|helpful|overall|          reviewText| reviewTime|    reviewerID|  reviewerName|             summary|unixReviewTime|\n",
      "+----------+-------+-------+--------------------+-----------+--------------+--------------+--------------------+--------------+\n",
      "|0439893577| [0, 0]|    5.0|I like the item p...|01 29, 2014|A1VXOAVRGKGEAK|         Angie|      Magnetic board|    1390953600|\n",
      "|0439893577| [1, 1]|    4.0|Love the magnet e...|03 28, 2014| A8R62G708TSCM|       Candace|it works pretty g...|    1395964800|\n",
      "|0439893577| [1, 1]|    5.0|Both sides are ma...|01 28, 2013|A21KH420DK0ICA|capemaychristy|          love this!|    1359331200|\n",
      "|0439893577| [0, 0]|    5.0|Bought one a few ...| 02 8, 2014| AR29QK6HPFYZ4|          dcrm|   Daughters love it|    1391817600|\n",
      "|0439893577| [1, 1]|    4.0|I have a stainles...| 05 5, 2014| ACCH8EOML6FN5|          DoyZ|Great to have so ...|    1399248000|\n",
      "+----------+-------+-------+--------------------+-----------+--------------+--------------+--------------------+--------------+\n",
      "only showing top 5 rows\n",
      "\n"
     ]
    }
   ],
   "source": [
    "data.show(5,truncate=True)"
   ]
  },
  {
   "cell_type": "code",
   "execution_count": 13,
   "id": "3095dcfd-bb8a-494c-9a43-e2431ca76093",
   "metadata": {},
   "outputs": [],
   "source": [
    "data_sub = data.select(['asin', 'overall', 'reviewerID'])"
   ]
  },
  {
   "cell_type": "code",
   "execution_count": 14,
   "id": "5d98449a-face-4f4e-a264-606744f9a510",
   "metadata": {},
   "outputs": [
    {
     "data": {
      "text/plain": [
       "167597"
      ]
     },
     "execution_count": 14,
     "metadata": {},
     "output_type": "execute_result"
    }
   ],
   "source": [
    "data_sub.count()"
   ]
  },
  {
   "cell_type": "code",
   "execution_count": 15,
   "id": "9309b43d-c821-4d2e-8a70-ede3ebb1d05f",
   "metadata": {},
   "outputs": [],
   "source": [
    "from pyspark.sql.functions import col, udf\n",
    "from pyspark.sql.functions import isnan, when, count, col"
   ]
  },
  {
   "cell_type": "code",
   "execution_count": 16,
   "id": "5405b848-68e6-4d55-8a22-c7deba553172",
   "metadata": {},
   "outputs": [
    {
     "name": "stdout",
     "output_type": "stream",
     "text": [
      "+----------+-------+--------------+\n",
      "|      asin|overall|    reviewerID|\n",
      "+----------+-------+--------------+\n",
      "|0439893577|    5.0|A1VXOAVRGKGEAK|\n",
      "|0439893577|    4.0| A8R62G708TSCM|\n",
      "|0439893577|    5.0|A21KH420DK0ICA|\n",
      "|0439893577|    5.0| AR29QK6HPFYZ4|\n",
      "|0439893577|    4.0| ACCH8EOML6FN5|\n",
      "+----------+-------+--------------+\n",
      "only showing top 5 rows\n",
      "\n"
     ]
    }
   ],
   "source": [
    "data_sub.show(5, truncate=True)"
   ]
  },
  {
   "cell_type": "code",
   "execution_count": 17,
   "id": "0305d679-8c9a-4b58-9e30-f884a33da715",
   "metadata": {},
   "outputs": [
    {
     "data": {
      "text/html": [
       "<div>\n",
       "<style scoped>\n",
       "    .dataframe tbody tr th:only-of-type {\n",
       "        vertical-align: middle;\n",
       "    }\n",
       "\n",
       "    .dataframe tbody tr th {\n",
       "        vertical-align: top;\n",
       "    }\n",
       "\n",
       "    .dataframe thead th {\n",
       "        text-align: right;\n",
       "    }\n",
       "</style>\n",
       "<table border=\"1\" class=\"dataframe\">\n",
       "  <thead>\n",
       "    <tr style=\"text-align: right;\">\n",
       "      <th></th>\n",
       "      <th>0</th>\n",
       "    </tr>\n",
       "  </thead>\n",
       "  <tbody>\n",
       "    <tr>\n",
       "      <th>asin</th>\n",
       "      <td>0</td>\n",
       "    </tr>\n",
       "    <tr>\n",
       "      <th>overall</th>\n",
       "      <td>0</td>\n",
       "    </tr>\n",
       "    <tr>\n",
       "      <th>reviewerID</th>\n",
       "      <td>0</td>\n",
       "    </tr>\n",
       "  </tbody>\n",
       "</table>\n",
       "</div>"
      ],
      "text/plain": [
       "            0\n",
       "asin        0\n",
       "overall     0\n",
       "reviewerID  0"
      ]
     },
     "execution_count": 17,
     "metadata": {},
     "output_type": "execute_result"
    }
   ],
   "source": [
    "data_sub.select([count(when(col(c).isNull(), c)).alias(c) for c in\n",
    "                 data_sub.columns]).toPandas().T"
   ]
  },
  {
   "cell_type": "code",
   "execution_count": 18,
   "id": "d183e26b-0f62-438d-848b-e5df9bccdcb6",
   "metadata": {},
   "outputs": [],
   "source": [
    "# Distinct users and movies\n",
    "users = data_sub.select(\"reviewerID\").distinct().count()\n",
    "products = data_sub.select(\"asin\").distinct().count()\n",
    "numerator = data_sub.count()"
   ]
  },
  {
   "cell_type": "code",
   "execution_count": 19,
   "id": "574e2b98-c4e4-4cf4-9280-9f888a5380e4",
   "metadata": {},
   "outputs": [
    {
     "data": {
      "text/plain": [
       "167597"
      ]
     },
     "metadata": {},
     "output_type": "display_data"
    },
    {
     "data": {
      "text/plain": [
       "19412"
      ]
     },
     "metadata": {},
     "output_type": "display_data"
    },
    {
     "data": {
      "text/plain": [
       "11924"
      ]
     },
     "metadata": {},
     "output_type": "display_data"
    }
   ],
   "source": [
    "display(numerator, users, products)"
   ]
  },
  {
   "cell_type": "code",
   "execution_count": 20,
   "id": "b0ea8e42-1a2b-4977-8bf5-8001e4e28e5c",
   "metadata": {},
   "outputs": [
    {
     "data": {
      "text/plain": [
       "231468688"
      ]
     },
     "execution_count": 20,
     "metadata": {},
     "output_type": "execute_result"
    }
   ],
   "source": [
    "# Number of ratings matrix could contain if no empty cells\n",
    "denominator = users * products\n",
    "denominator"
   ]
  },
  {
   "cell_type": "code",
   "execution_count": 21,
   "id": "8c46b607-99b4-4cc5-acd2-550d4d5cce55",
   "metadata": {},
   "outputs": [
    {
     "name": "stdout",
     "output_type": "stream",
     "text": [
      "Sparsity: \n"
     ]
    },
    {
     "data": {
      "text/plain": [
       "(None, 0.9992759409428199)"
      ]
     },
     "execution_count": 21,
     "metadata": {},
     "output_type": "execute_result"
    }
   ],
   "source": [
    "#Calculating sparsity\n",
    "sparsity = 1 - (numerator*1.0 / denominator)\n",
    "print (\"Sparsity: \"), sparsity"
   ]
  },
  {
   "cell_type": "code",
   "execution_count": 22,
   "id": "78332c29-39d4-4a36-8393-8ff237df0648",
   "metadata": {},
   "outputs": [],
   "source": [
    "from pyspark.ml.evaluation import RegressionEvaluator\n",
    "from pyspark.ml.recommendation import ALS"
   ]
  },
  {
   "cell_type": "code",
   "execution_count": 23,
   "id": "84c7afb9-2480-4dd8-9b3b-9929ef2723e3",
   "metadata": {},
   "outputs": [],
   "source": [
    "# Converting String to index\n",
    "from pyspark.ml.feature import StringIndexer\n",
    "from pyspark.ml import Pipeline\n",
    "from pyspark.sql.functions import col\n"
   ]
  },
  {
   "cell_type": "code",
   "execution_count": 27,
   "id": "21d6d923-cc53-409f-8a02-bc78ac19105a",
   "metadata": {},
   "outputs": [],
   "source": [
    "# Create an indexer\n",
    "indexer = StringIndexer(inputCol='asin',  outputCol='asin_idx')\n",
    "# Indexer identifies categories in the data\n",
    "indexer_model = indexer.fit(data_sub)\n",
    "# Indexer creates a new column with numeric index values\n",
    "data_indexed = indexer_model.transform(data_sub)\n",
    "# Repeat the process for the other categorical feature\n",
    "indexer1 = StringIndexer(inputCol='reviewerID', outputCol='reviewerID_idx')\n",
    "indexer1_model = indexer1.fit(data_indexed)\n",
    "data_indexed = indexer1_model.transform(data_indexed)"
   ]
  },
  {
   "cell_type": "code",
   "execution_count": 28,
   "id": "20ca90dc-86b0-4592-9281-83358a28e20f",
   "metadata": {},
   "outputs": [
    {
     "name": "stdout",
     "output_type": "stream",
     "text": [
      "+----------+-------+--------------+--------+--------------+\n",
      "|      asin|overall|    reviewerID|asin_idx|reviewerID_idx|\n",
      "+----------+-------+--------------+--------+--------------+\n",
      "|0439893577|    5.0|A1VXOAVRGKGEAK|  2524.0|       14349.0|\n",
      "|0439893577|    4.0| A8R62G708TSCM|  2524.0|       18115.0|\n",
      "|0439893577|    5.0|A21KH420DK0ICA|  2524.0|        4454.0|\n",
      "|0439893577|    5.0| AR29QK6HPFYZ4|  2524.0|       18990.0|\n",
      "|0439893577|    4.0| ACCH8EOML6FN5|  2524.0|        2769.0|\n",
      "+----------+-------+--------------+--------+--------------+\n",
      "only showing top 5 rows\n",
      "\n"
     ]
    }
   ],
   "source": [
    "data_indexed.show(5, truncate=True)"
   ]
  },
  {
   "cell_type": "code",
   "execution_count": 26,
   "id": "0551ed65-fbcf-473f-b324-185c69373baf",
   "metadata": {},
   "outputs": [
    {
     "data": {
      "text/html": [
       "<div>\n",
       "<style scoped>\n",
       "    .dataframe tbody tr th:only-of-type {\n",
       "        vertical-align: middle;\n",
       "    }\n",
       "\n",
       "    .dataframe tbody tr th {\n",
       "        vertical-align: top;\n",
       "    }\n",
       "\n",
       "    .dataframe thead th {\n",
       "        text-align: right;\n",
       "    }\n",
       "</style>\n",
       "<table border=\"1\" class=\"dataframe\">\n",
       "  <thead>\n",
       "    <tr style=\"text-align: right;\">\n",
       "      <th></th>\n",
       "      <th>0</th>\n",
       "    </tr>\n",
       "  </thead>\n",
       "  <tbody>\n",
       "    <tr>\n",
       "      <th>asin</th>\n",
       "      <td>0</td>\n",
       "    </tr>\n",
       "    <tr>\n",
       "      <th>overall</th>\n",
       "      <td>0</td>\n",
       "    </tr>\n",
       "    <tr>\n",
       "      <th>reviewerID</th>\n",
       "      <td>0</td>\n",
       "    </tr>\n",
       "    <tr>\n",
       "      <th>asin_idx</th>\n",
       "      <td>0</td>\n",
       "    </tr>\n",
       "    <tr>\n",
       "      <th>reviewerID_idx</th>\n",
       "      <td>0</td>\n",
       "    </tr>\n",
       "  </tbody>\n",
       "</table>\n",
       "</div>"
      ],
      "text/plain": [
       "                0\n",
       "asin            0\n",
       "overall         0\n",
       "reviewerID      0\n",
       "asin_idx        0\n",
       "reviewerID_idx  0"
      ]
     },
     "execution_count": 26,
     "metadata": {},
     "output_type": "execute_result"
    }
   ],
   "source": [
    "data_indexed.select([count(when(col(c).isNull(), c)).alias(c) for c in data_indexed.columns]).toPandas().T"
   ]
  },
  {
   "cell_type": "code",
   "execution_count": 31,
   "id": "14418922-b28b-450b-b633-de9349db2ae9",
   "metadata": {},
   "outputs": [],
   "source": [
    "# Smaller dataset so we will use 0.8 / 0.2\n",
    "(training, test) = data_indexed.randomSplit([0.8, 0.2])"
   ]
  },
  {
   "cell_type": "code",
   "execution_count": 32,
   "id": "3d861c2c-a648-47b9-9a97-96885b0e867a",
   "metadata": {},
   "outputs": [],
   "source": [
    "# Creating ALS model and fitting data\n",
    "from pyspark.ml.evaluation import RegressionEvaluator\n",
    "from pyspark.ml.recommendation import ALS"
   ]
  },
  {
   "cell_type": "code",
   "execution_count": 33,
   "id": "a44874b6-e494-47f4-b3c3-5539e03e6778",
   "metadata": {},
   "outputs": [],
   "source": [
    "als = ALS(maxIter=5, \n",
    "          regParam=0.09, \n",
    "          rank = 25,\n",
    "          userCol=\"reviewerID_idx\", \n",
    "          itemCol=\"asin_idx\", \n",
    "          ratingCol=\"overall\", \n",
    "          coldStartStrategy=\"drop\",\n",
    "          nonnegative=True)\n",
    "model = als.fit(training)"
   ]
  },
  {
   "cell_type": "code",
   "execution_count": 34,
   "id": "7d01db29-0810-484a-ba55-3e9b61d50736",
   "metadata": {},
   "outputs": [],
   "source": [
    "# Evaluate the model by computing the RMSE on the test data\n",
    "predictions = model.transform(test)"
   ]
  },
  {
   "cell_type": "code",
   "execution_count": 35,
   "id": "32f168b4-4c15-4ffa-8f18-9d0a149802de",
   "metadata": {},
   "outputs": [
    {
     "name": "stdout",
     "output_type": "stream",
     "text": [
      "+--------+--------------+-------+----------+\n",
      "|asin_idx|reviewerID_idx|overall|prediction|\n",
      "+--------+--------------+-------+----------+\n",
      "|  8043.0|       13285.0|    5.0|  3.567395|\n",
      "|  4738.0|        1088.0|    5.0| 3.8006392|\n",
      "|  2530.0|        2659.0|    4.0| 3.8889747|\n",
      "|  1906.0|         148.0|    5.0| 5.2485595|\n",
      "|  1703.0|        1238.0|    5.0|  4.703676|\n",
      "+--------+--------------+-------+----------+\n",
      "only showing top 5 rows\n",
      "\n"
     ]
    }
   ],
   "source": [
    "predictions.select([\"asin_idx\", \"reviewerID_idx\", \n",
    "                    \"overall\", \"prediction\"]).show(5)"
   ]
  },
  {
   "cell_type": "code",
   "execution_count": 36,
   "id": "58051f23-d4c4-4e2b-985b-fddb3a743261",
   "metadata": {},
   "outputs": [
    {
     "name": "stdout",
     "output_type": "stream",
     "text": [
      "Root-mean-square error = 1.1185318181554769\n"
     ]
    }
   ],
   "source": [
    "evaluator = RegressionEvaluator(metricName=\"rmse\",  \n",
    "                                labelCol=\"overall\",\n",
    "                                predictionCol=\"prediction\")\n",
    "rmse = evaluator.evaluate(predictions)\n",
    "print(\"Root-mean-square error = \" + str(rmse))"
   ]
  },
  {
   "cell_type": "code",
   "execution_count": null,
   "id": "3a870c51-5cca-4657-9c63-6905780ed1a7",
   "metadata": {},
   "outputs": [],
   "source": [
    "# On average, this model is ~ 1.2 from perfect recommendations."
   ]
  },
  {
   "cell_type": "markdown",
   "id": "fddf541f-bb6e-4e9f-88a8-fcb6a04883d6",
   "metadata": {},
   "source": [
    "### Providing Recommendations: for all users"
   ]
  },
  {
   "cell_type": "code",
   "execution_count": 37,
   "id": "b7134dad-4704-4c8b-86cb-df68f4f3f819",
   "metadata": {},
   "outputs": [],
   "source": [
    "# get 20 recommendations which have highest rating.\n",
    "user_recs = model.recommendForAllUsers(20)"
   ]
  },
  {
   "cell_type": "code",
   "execution_count": 38,
   "id": "6127f38b-af62-4417-b1bd-798b4c4a195d",
   "metadata": {},
   "outputs": [
    {
     "name": "stdout",
     "output_type": "stream",
     "text": [
      "Row(reviewerID_idx=28, recommendations=[Row(asin_idx=11132, rating=5.692352771759033), Row(asin_idx=10791, rating=5.682418346405029), Row(asin_idx=4625, rating=5.561408996582031), Row(asin_idx=9330, rating=5.5600972175598145), Row(asin_idx=8905, rating=5.490021228790283), Row(asin_idx=9518, rating=5.42319917678833), Row(asin_idx=7858, rating=5.411526679992676), Row(asin_idx=7599, rating=5.406836986541748), Row(asin_idx=5296, rating=5.403281211853027), Row(asin_idx=10928, rating=5.4004011154174805), Row(asin_idx=10731, rating=5.395941734313965), Row(asin_idx=10644, rating=5.393740177154541), Row(asin_idx=7867, rating=5.390657424926758), Row(asin_idx=6836, rating=5.357697010040283), Row(asin_idx=11525, rating=5.3529052734375), Row(asin_idx=8158, rating=5.349387168884277), Row(asin_idx=11601, rating=5.347063064575195), Row(asin_idx=11870, rating=5.315193176269531), Row(asin_idx=5074, rating=5.301178932189941), Row(asin_idx=6696, rating=5.295960903167725)])\n",
      "\n",
      "\n",
      "Row(reviewerID_idx=31, recommendations=[Row(asin_idx=11525, rating=5.751044750213623), Row(asin_idx=4625, rating=5.718996047973633), Row(asin_idx=8672, rating=5.686562538146973), Row(asin_idx=10510, rating=5.666197776794434), Row(asin_idx=10731, rating=5.653409004211426), Row(asin_idx=11132, rating=5.65173864364624), Row(asin_idx=10928, rating=5.620118618011475), Row(asin_idx=10620, rating=5.585443496704102), Row(asin_idx=7842, rating=5.567337512969971), Row(asin_idx=6746, rating=5.565927028656006), Row(asin_idx=11385, rating=5.534967422485352), Row(asin_idx=9306, rating=5.522593975067139), Row(asin_idx=7599, rating=5.520689010620117), Row(asin_idx=4724, rating=5.516127586364746), Row(asin_idx=4525, rating=5.515890598297119), Row(asin_idx=9772, rating=5.4931793212890625), Row(asin_idx=5183, rating=5.482884407043457), Row(asin_idx=9215, rating=5.439089298248291), Row(asin_idx=4018, rating=5.432740688323975), Row(asin_idx=11832, rating=5.416214942932129)])\n",
      "\n",
      "\n",
      "Row(reviewerID_idx=34, recommendations=[Row(asin_idx=9486, rating=6.129303932189941), Row(asin_idx=7858, rating=6.116709232330322), Row(asin_idx=10415, rating=6.041996479034424), Row(asin_idx=9330, rating=5.983211040496826), Row(asin_idx=3789, rating=5.85699462890625), Row(asin_idx=11132, rating=5.804084300994873), Row(asin_idx=11585, rating=5.8001933097839355), Row(asin_idx=11601, rating=5.692520618438721), Row(asin_idx=7867, rating=5.67271614074707), Row(asin_idx=3493, rating=5.660885334014893), Row(asin_idx=6651, rating=5.657060146331787), Row(asin_idx=9059, rating=5.649441719055176), Row(asin_idx=3946, rating=5.608888626098633), Row(asin_idx=8905, rating=5.601405143737793), Row(asin_idx=5296, rating=5.601131439208984), Row(asin_idx=10644, rating=5.598491191864014), Row(asin_idx=5214, rating=5.5960516929626465), Row(asin_idx=7837, rating=5.595502853393555), Row(asin_idx=8009, rating=5.5948052406311035), Row(asin_idx=2700, rating=5.579561233520508)])\n",
      "\n",
      "\n",
      "Row(reviewerID_idx=53, recommendations=[Row(asin_idx=7858, rating=6.2622389793396), Row(asin_idx=10791, rating=6.143101215362549), Row(asin_idx=11525, rating=6.062841892242432), Row(asin_idx=9059, rating=6.03638219833374), Row(asin_idx=5605, rating=6.032650947570801), Row(asin_idx=11768, rating=5.979846000671387), Row(asin_idx=4625, rating=5.9704742431640625), Row(asin_idx=3831, rating=5.953019618988037), Row(asin_idx=10731, rating=5.950493335723877), Row(asin_idx=5296, rating=5.949243068695068), Row(asin_idx=7867, rating=5.9000020027160645), Row(asin_idx=6836, rating=5.892882823944092), Row(asin_idx=10928, rating=5.884739398956299), Row(asin_idx=5251, rating=5.883930683135986), Row(asin_idx=11343, rating=5.8729658126831055), Row(asin_idx=7837, rating=5.8618245124816895), Row(asin_idx=9202, rating=5.8528828620910645), Row(asin_idx=5183, rating=5.84636926651001), Row(asin_idx=3185, rating=5.843331813812256), Row(asin_idx=3461, rating=5.818447589874268)])\n",
      "\n",
      "\n",
      "Row(reviewerID_idx=65, recommendations=[Row(asin_idx=6836, rating=6.71112060546875), Row(asin_idx=10791, rating=6.667595386505127), Row(asin_idx=8154, rating=6.589553356170654), Row(asin_idx=11525, rating=6.507696628570557), Row(asin_idx=4625, rating=6.486722946166992), Row(asin_idx=9059, rating=6.443554401397705), Row(asin_idx=10928, rating=6.4391961097717285), Row(asin_idx=8775, rating=6.39412784576416), Row(asin_idx=10731, rating=6.368752956390381), Row(asin_idx=5296, rating=6.345102310180664), Row(asin_idx=11157, rating=6.339590549468994), Row(asin_idx=8158, rating=6.326413631439209), Row(asin_idx=11832, rating=6.315656661987305), Row(asin_idx=5605, rating=6.30284309387207), Row(asin_idx=9199, rating=6.290844440460205), Row(asin_idx=5377, rating=6.285933017730713), Row(asin_idx=11282, rating=6.2819504737854), Row(asin_idx=8672, rating=6.271524429321289), Row(asin_idx=2685, rating=6.266467094421387), Row(asin_idx=7867, rating=6.261746883392334)])\n",
      "\n",
      "\n"
     ]
    }
   ],
   "source": [
    "for user in user_recs.head(5):\n",
    "    print(user)\n",
    "    print(\"\\n\")"
   ]
  },
  {
   "cell_type": "markdown",
   "id": "6f870a21-5ccf-4cde-9ed1-5a2833bd88d6",
   "metadata": {},
   "source": [
    "### Converting back to string form\n"
   ]
  },
  {
   "cell_type": "code",
   "execution_count": 39,
   "id": "09ec5371-c34a-400d-a076-d257980295ca",
   "metadata": {},
   "outputs": [],
   "source": [
    "import pandas as pd\n",
    "recs=model.recommendForAllUsers(10).toPandas()\n",
    "nrecs=recs.recommendations.apply(pd.Series) \\\n",
    " .merge(recs, right_index = True, left_index = True) \\\n",
    " .drop([\"recommendations\"], axis = 1) \\\n",
    " .melt(id_vars = ['reviewerID_idx'], value_name = \"recommendation\") \\\n",
    " .drop(\"variable\", axis = 1) \\\n",
    " .dropna() \n",
    "nrecs=nrecs.sort_values('reviewerID_idx')\n",
    "nrecs=pd.concat([nrecs['recommendation'].apply(pd.Series), \n",
    " nrecs['reviewerID_idx']], axis = 1)\n",
    "nrecs.columns = [ \n",
    " 'ProductID_index',\n",
    " 'Rating',\n",
    " 'UserID_index' \n",
    " ]"
   ]
  },
  {
   "cell_type": "code",
   "execution_count": 41,
   "id": "581cdfb9-7c67-4942-9fc9-3ea3d5040aa7",
   "metadata": {},
   "outputs": [
    {
     "name": "stderr",
     "output_type": "stream",
     "text": [
      "C:\\Users\\AW\\AppData\\Local\\Temp\\ipykernel_16628\\2091850030.py:10: SettingWithCopyWarning: \n",
      "A value is trying to be set on a copy of a slice from a DataFrame.\n",
      "Try using .loc[row_indexer,col_indexer] = value instead\n",
      "\n",
      "See the caveats in the documentation: https://pandas.pydata.org/pandas-docs/stable/user_guide/indexing.html#returning-a-view-versus-a-copy\n",
      "  new['recommendations'] = list(zip(new.asin, new.Rating))\n"
     ]
    }
   ],
   "source": [
    "md=data_indexed.select(['reviewerID', 'reviewerID_idx', 'asin', 'asin_idx'])\n",
    "md=md.toPandas()\n",
    "dict1=dict(zip(md['reviewerID_idx'],md['reviewerID']))\n",
    "dict2=dict(zip(md['asin_idx'],md['asin']))\n",
    "nrecs['reviewerID']=nrecs['UserID_index'].map(dict1)\n",
    "nrecs['asin']=nrecs['ProductID_index'].map(dict2)\n",
    "nrecs=nrecs.sort_values('reviewerID')\n",
    "nrecs.reset_index(drop=True, inplace=True)\n",
    "new=nrecs[['reviewerID','asin','Rating']]\n",
    "new['recommendations'] = list(zip(new.asin, new.Rating))\n",
    "res=new[['reviewerID','recommendations']] \n",
    "res_new=res['recommendations'].groupby([res.reviewerID]).apply(list).reset_index()"
   ]
  },
  {
   "cell_type": "code",
   "execution_count": 42,
   "id": "22027e2a-fa44-4f98-9615-5e26a5d71ef3",
   "metadata": {},
   "outputs": [
    {
     "data": {
      "text/html": [
       "<div>\n",
       "<style scoped>\n",
       "    .dataframe tbody tr th:only-of-type {\n",
       "        vertical-align: middle;\n",
       "    }\n",
       "\n",
       "    .dataframe tbody tr th {\n",
       "        vertical-align: top;\n",
       "    }\n",
       "\n",
       "    .dataframe thead th {\n",
       "        text-align: right;\n",
       "    }\n",
       "</style>\n",
       "<table border=\"1\" class=\"dataframe\">\n",
       "  <thead>\n",
       "    <tr style=\"text-align: right;\">\n",
       "      <th></th>\n",
       "      <th>reviewerID</th>\n",
       "      <th>recommendations</th>\n",
       "    </tr>\n",
       "  </thead>\n",
       "  <tbody>\n",
       "    <tr>\n",
       "      <th>0</th>\n",
       "      <td>A012468118FTQAINEI0OQ</td>\n",
       "      <td>[(B00946ZOT8, 6.211315631866455), (B0007XIZ0C,...</td>\n",
       "    </tr>\n",
       "    <tr>\n",
       "      <th>1</th>\n",
       "      <td>A0182108CPDLPRCXQUZQ</td>\n",
       "      <td>[(B007WYU7R8, 4.920167922973633), (B0039KIW9E,...</td>\n",
       "    </tr>\n",
       "    <tr>\n",
       "      <th>2</th>\n",
       "      <td>A026961431MGW0616BRS3</td>\n",
       "      <td>[(B0042TBGC6, 4.5203471183776855), (B0037UT1RI...</td>\n",
       "    </tr>\n",
       "    <tr>\n",
       "      <th>3</th>\n",
       "      <td>A034597326Z83X79S50FI</td>\n",
       "      <td>[(B00G69PTKK, 6.04032564163208), (B002LE8YYW, ...</td>\n",
       "    </tr>\n",
       "    <tr>\n",
       "      <th>4</th>\n",
       "      <td>A04295422T2ZG087R17FX</td>\n",
       "      <td>[(B0001Y6IIS, 4.8696393966674805), (B00E1B7LV0...</td>\n",
       "    </tr>\n",
       "    <tr>\n",
       "      <th>...</th>\n",
       "      <td>...</td>\n",
       "      <td>...</td>\n",
       "    </tr>\n",
       "    <tr>\n",
       "      <th>19404</th>\n",
       "      <td>AZZLI36GZV6ZD</td>\n",
       "      <td>[(B00ECDRBHQ, 5.5645599365234375), (B0001Y6IIS...</td>\n",
       "    </tr>\n",
       "    <tr>\n",
       "      <th>19405</th>\n",
       "      <td>AZZOZQ8AAHT64</td>\n",
       "      <td>[(B0001Y6IIS, 5.636949062347412), (B0001VUYUE,...</td>\n",
       "    </tr>\n",
       "    <tr>\n",
       "      <th>19406</th>\n",
       "      <td>AZZT1ERHBSNQ8</td>\n",
       "      <td>[(B00EVEMMRU, 6.476414203643799), (B009Y943F6,...</td>\n",
       "    </tr>\n",
       "    <tr>\n",
       "      <th>19407</th>\n",
       "      <td>AZZTH6DJ0KSIP</td>\n",
       "      <td>[(B004I0FVHA, 5.683483600616455), (B003AUD9BE,...</td>\n",
       "    </tr>\n",
       "    <tr>\n",
       "      <th>19408</th>\n",
       "      <td>AZZYW4YOE1B6E</td>\n",
       "      <td>[(B004ZK6LAY, 6.003709316253662), (B001TM5X1E,...</td>\n",
       "    </tr>\n",
       "  </tbody>\n",
       "</table>\n",
       "<p>19409 rows × 2 columns</p>\n",
       "</div>"
      ],
      "text/plain": [
       "                  reviewerID  \\\n",
       "0      A012468118FTQAINEI0OQ   \n",
       "1       A0182108CPDLPRCXQUZQ   \n",
       "2      A026961431MGW0616BRS3   \n",
       "3      A034597326Z83X79S50FI   \n",
       "4      A04295422T2ZG087R17FX   \n",
       "...                      ...   \n",
       "19404          AZZLI36GZV6ZD   \n",
       "19405          AZZOZQ8AAHT64   \n",
       "19406          AZZT1ERHBSNQ8   \n",
       "19407          AZZTH6DJ0KSIP   \n",
       "19408          AZZYW4YOE1B6E   \n",
       "\n",
       "                                         recommendations  \n",
       "0      [(B00946ZOT8, 6.211315631866455), (B0007XIZ0C,...  \n",
       "1      [(B007WYU7R8, 4.920167922973633), (B0039KIW9E,...  \n",
       "2      [(B0042TBGC6, 4.5203471183776855), (B0037UT1RI...  \n",
       "3      [(B00G69PTKK, 6.04032564163208), (B002LE8YYW, ...  \n",
       "4      [(B0001Y6IIS, 4.8696393966674805), (B00E1B7LV0...  \n",
       "...                                                  ...  \n",
       "19404  [(B00ECDRBHQ, 5.5645599365234375), (B0001Y6IIS...  \n",
       "19405  [(B0001Y6IIS, 5.636949062347412), (B0001VUYUE,...  \n",
       "19406  [(B00EVEMMRU, 6.476414203643799), (B009Y943F6,...  \n",
       "19407  [(B004I0FVHA, 5.683483600616455), (B003AUD9BE,...  \n",
       "19408  [(B004ZK6LAY, 6.003709316253662), (B001TM5X1E,...  \n",
       "\n",
       "[19409 rows x 2 columns]"
      ]
     },
     "execution_count": 42,
     "metadata": {},
     "output_type": "execute_result"
    }
   ],
   "source": [
    "res_new"
   ]
  },
  {
   "cell_type": "code",
   "execution_count": null,
   "id": "48dca431-9b00-4c99-a934-e0e760fea8f7",
   "metadata": {},
   "outputs": [],
   "source": []
  }
 ],
 "metadata": {
  "kernelspec": {
   "display_name": "Python 3 (ipykernel)",
   "language": "python",
   "name": "python3"
  },
  "language_info": {
   "codemirror_mode": {
    "name": "ipython",
    "version": 3
   },
   "file_extension": ".py",
   "mimetype": "text/x-python",
   "name": "python",
   "nbconvert_exporter": "python",
   "pygments_lexer": "ipython3",
   "version": "3.9.12"
  }
 },
 "nbformat": 4,
 "nbformat_minor": 5
}
