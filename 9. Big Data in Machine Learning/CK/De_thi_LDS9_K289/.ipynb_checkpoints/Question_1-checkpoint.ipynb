{
 "cells": [
  {
   "cell_type": "code",
   "execution_count": 1,
   "id": "3070d109-aee0-4b59-8f43-8e18bef47696",
   "metadata": {},
   "outputs": [],
   "source": [
    "import findspark\n",
    "findspark.init()"
   ]
  },
  {
   "cell_type": "code",
   "execution_count": 2,
   "id": "ccedb9d9-9130-4743-b1f5-5286b4fb9f13",
   "metadata": {},
   "outputs": [],
   "source": [
    "# import libraries\n",
    "from pyspark import SparkContext\n",
    "from pyspark.conf import SparkConf\n",
    "from pyspark.sql import SparkSession\n",
    "import matplotlib.pyplot as plt\n",
    "import seaborn as sns\n",
    "from scipy import stats\n",
    "from datetime import datetime\n",
    "from pyspark.sql.functions import mean, stddev, col, log\n",
    "from pyspark.sql.functions import to_date, dayofweek, to_timestamp\n",
    "from pyspark.sql import types\n",
    "from pyspark.sql.functions import col, udf\n",
    "from pyspark.sql.types import DateType\n",
    "from pyspark.sql.functions import year, month\n",
    "from pyspark.sql.functions import dayofmonth, weekofyear\n",
    "from pyspark.sql.functions import split, explode\n",
    "from pyspark.sql.functions import coalesce, first, lit\n",
    "from pyspark.ml.feature import Binarizer\n",
    "from pyspark.ml.feature import Bucketizer\n",
    "from pyspark.ml.feature import OneHotEncoder, StringIndexer\n",
    "from pyspark.sql.functions import regexp_extract, col\n",
    "from pyspark.sql.functions import datediff\n",
    "from pyspark.sql.functions import when\n",
    "\n",
    "from pyspark.ml.linalg import Vectors\n",
    "from pyspark.ml.feature import VectorAssembler\n",
    "from pyspark.ml.regression import LinearRegression\n",
    "from pyspark.ml.regression import LinearRegressionModel"
   ]
  },
  {
   "cell_type": "code",
   "execution_count": 3,
   "id": "7fa799e5-58c7-43f7-b19f-a8564ff7592e",
   "metadata": {},
   "outputs": [],
   "source": [
    "sc = SparkContext()"
   ]
  },
  {
   "cell_type": "code",
   "execution_count": 4,
   "id": "4fe75bb1-ddb3-4e71-a652-583326f1655b",
   "metadata": {},
   "outputs": [],
   "source": [
    "spark = SparkSession(sc)"
   ]
  },
  {
   "cell_type": "markdown",
   "id": "864452c0-c5fd-4a6e-a5f4-cca46f84f917",
   "metadata": {},
   "source": [
    "## Chuẩn bị, chuẩn hóa dữ liệu, xác định input, output"
   ]
  },
  {
   "cell_type": "code",
   "execution_count": 5,
   "id": "4849b328-370c-44db-8b40-5c5df940e03b",
   "metadata": {},
   "outputs": [],
   "source": [
    "# Use Spark to read in the Ecommerce Customers csv file.\n",
    "data = spark.read.csv(\"Du lieu cung cap\\Gemstone\\cubic_zirconia.csv\", inferSchema=True,header=True)"
   ]
  },
  {
   "cell_type": "code",
   "execution_count": 6,
   "id": "d36966fc-6e47-4085-8865-d87a202b911c",
   "metadata": {},
   "outputs": [
    {
     "name": "stdout",
     "output_type": "stream",
     "text": [
      "root\n",
      " |-- _c0: integer (nullable = true)\n",
      " |-- carat: double (nullable = true)\n",
      " |-- cut: string (nullable = true)\n",
      " |-- color: string (nullable = true)\n",
      " |-- clarity: string (nullable = true)\n",
      " |-- depth: double (nullable = true)\n",
      " |-- table: double (nullable = true)\n",
      " |-- x: double (nullable = true)\n",
      " |-- y: double (nullable = true)\n",
      " |-- z: double (nullable = true)\n",
      " |-- price: integer (nullable = true)\n",
      "\n"
     ]
    }
   ],
   "source": [
    "# Print the Schema of the DataFrame\n",
    "data.printSchema()"
   ]
  },
  {
   "cell_type": "code",
   "execution_count": 7,
   "id": "f29c7804-f2c9-48bc-9d83-06db49bf4c99",
   "metadata": {},
   "outputs": [
    {
     "name": "stdout",
     "output_type": "stream",
     "text": [
      "(26967, 11)\n"
     ]
    }
   ],
   "source": [
    "print((data.count(), len(data.columns)))"
   ]
  },
  {
   "cell_type": "code",
   "execution_count": 8,
   "id": "603b46ff-f162-405c-81ca-8873c83f5561",
   "metadata": {},
   "outputs": [
    {
     "data": {
      "text/plain": [
       "[Row(_c0=1, carat=0.3, cut='Ideal', color='E', clarity='SI1', depth=62.1, table=58.0, x=4.27, y=4.29, z=2.66, price=499)]"
      ]
     },
     "execution_count": 8,
     "metadata": {},
     "output_type": "execute_result"
    }
   ],
   "source": [
    "# Khi in bằng head thì định dạng hiển thị là row (khác với head ở pandas dataframe)\n",
    "data.head(1)"
   ]
  },
  {
   "cell_type": "code",
   "execution_count": 9,
   "id": "94a29df5-16e2-46bf-af82-e379c1d39435",
   "metadata": {},
   "outputs": [
    {
     "name": "stdout",
     "output_type": "stream",
     "text": [
      "+---+-----+---------+-----+-------+-----+-----+----+----+----+-----+\n",
      "|_c0|carat|      cut|color|clarity|depth|table|   x|   y|   z|price|\n",
      "+---+-----+---------+-----+-------+-----+-----+----+----+----+-----+\n",
      "|  1|  0.3|    Ideal|    E|    SI1| 62.1| 58.0|4.27|4.29|2.66|  499|\n",
      "|  2| 0.33|  Premium|    G|     IF| 60.8| 58.0|4.42|4.46| 2.7|  984|\n",
      "|  3|  0.9|Very Good|    E|   VVS2| 62.2| 60.0|6.04|6.12|3.78| 6289|\n",
      "+---+-----+---------+-----+-------+-----+-----+----+----+----+-----+\n",
      "only showing top 3 rows\n",
      "\n"
     ]
    }
   ],
   "source": [
    "data.show(3)"
   ]
  },
  {
   "cell_type": "code",
   "execution_count": 10,
   "id": "4706a325-6cac-46d4-8b39-98100d392dc2",
   "metadata": {},
   "outputs": [
    {
     "data": {
      "text/plain": [
       "26967"
      ]
     },
     "execution_count": 10,
     "metadata": {},
     "output_type": "execute_result"
    }
   ],
   "source": [
    "data.count()"
   ]
  },
  {
   "cell_type": "code",
   "execution_count": 11,
   "id": "4854ce11-c472-4b9e-9c00-62e556ddeb0c",
   "metadata": {},
   "outputs": [
    {
     "name": "stdout",
     "output_type": "stream",
     "text": [
      "+---+-----+---+-----+-------+-----+-----+---+---+---+-----+\n",
      "|_c0|carat|cut|color|clarity|depth|table|  x|  y|  z|price|\n",
      "+---+-----+---+-----+-------+-----+-----+---+---+---+-----+\n",
      "|  0|    0|  0|    0|      0|  697|    0|  0|  0|  0|    0|\n",
      "+---+-----+---+-----+-------+-----+-----+---+---+---+-----+\n",
      "\n"
     ]
    }
   ],
   "source": [
    "from pyspark.sql.functions import col,isnan, when, count\n",
    "data.select([count(when(isnan(c) | col(c).isNull(), c)).alias(c) for c in data.columns]\n",
    "   ).show()"
   ]
  },
  {
   "cell_type": "code",
   "execution_count": 12,
   "id": "880d1ea2-3372-487d-8f48-7bcb458baeff",
   "metadata": {},
   "outputs": [
    {
     "data": {
      "text/plain": [
       "26270"
      ]
     },
     "execution_count": 12,
     "metadata": {},
     "output_type": "execute_result"
    }
   ],
   "source": [
    "data = data.na.drop()\n",
    "data.count()"
   ]
  },
  {
   "cell_type": "code",
   "execution_count": 13,
   "id": "8c46379f-924e-4a3b-a3bd-bcee73c602a8",
   "metadata": {},
   "outputs": [
    {
     "data": {
      "text/html": [
       "<div>\n",
       "<style scoped>\n",
       "    .dataframe tbody tr th:only-of-type {\n",
       "        vertical-align: middle;\n",
       "    }\n",
       "\n",
       "    .dataframe tbody tr th {\n",
       "        vertical-align: top;\n",
       "    }\n",
       "\n",
       "    .dataframe thead th {\n",
       "        text-align: right;\n",
       "    }\n",
       "</style>\n",
       "<table border=\"1\" class=\"dataframe\">\n",
       "  <thead>\n",
       "    <tr style=\"text-align: right;\">\n",
       "      <th></th>\n",
       "      <th>_c0</th>\n",
       "      <th>carat</th>\n",
       "      <th>cut</th>\n",
       "      <th>color</th>\n",
       "      <th>clarity</th>\n",
       "      <th>depth</th>\n",
       "      <th>table</th>\n",
       "      <th>x</th>\n",
       "      <th>y</th>\n",
       "      <th>z</th>\n",
       "      <th>price</th>\n",
       "    </tr>\n",
       "  </thead>\n",
       "  <tbody>\n",
       "    <tr>\n",
       "      <th>0</th>\n",
       "      <td>1</td>\n",
       "      <td>0.30</td>\n",
       "      <td>Ideal</td>\n",
       "      <td>E</td>\n",
       "      <td>SI1</td>\n",
       "      <td>62.1</td>\n",
       "      <td>58.0</td>\n",
       "      <td>4.27</td>\n",
       "      <td>4.29</td>\n",
       "      <td>2.66</td>\n",
       "      <td>499</td>\n",
       "    </tr>\n",
       "    <tr>\n",
       "      <th>1</th>\n",
       "      <td>2</td>\n",
       "      <td>0.33</td>\n",
       "      <td>Premium</td>\n",
       "      <td>G</td>\n",
       "      <td>IF</td>\n",
       "      <td>60.8</td>\n",
       "      <td>58.0</td>\n",
       "      <td>4.42</td>\n",
       "      <td>4.46</td>\n",
       "      <td>2.70</td>\n",
       "      <td>984</td>\n",
       "    </tr>\n",
       "    <tr>\n",
       "      <th>2</th>\n",
       "      <td>3</td>\n",
       "      <td>0.90</td>\n",
       "      <td>Very Good</td>\n",
       "      <td>E</td>\n",
       "      <td>VVS2</td>\n",
       "      <td>62.2</td>\n",
       "      <td>60.0</td>\n",
       "      <td>6.04</td>\n",
       "      <td>6.12</td>\n",
       "      <td>3.78</td>\n",
       "      <td>6289</td>\n",
       "    </tr>\n",
       "    <tr>\n",
       "      <th>3</th>\n",
       "      <td>4</td>\n",
       "      <td>0.42</td>\n",
       "      <td>Ideal</td>\n",
       "      <td>F</td>\n",
       "      <td>VS1</td>\n",
       "      <td>61.6</td>\n",
       "      <td>56.0</td>\n",
       "      <td>4.82</td>\n",
       "      <td>4.80</td>\n",
       "      <td>2.96</td>\n",
       "      <td>1082</td>\n",
       "    </tr>\n",
       "    <tr>\n",
       "      <th>4</th>\n",
       "      <td>5</td>\n",
       "      <td>0.31</td>\n",
       "      <td>Ideal</td>\n",
       "      <td>F</td>\n",
       "      <td>VVS1</td>\n",
       "      <td>60.4</td>\n",
       "      <td>59.0</td>\n",
       "      <td>4.35</td>\n",
       "      <td>4.43</td>\n",
       "      <td>2.65</td>\n",
       "      <td>779</td>\n",
       "    </tr>\n",
       "  </tbody>\n",
       "</table>\n",
       "</div>"
      ],
      "text/plain": [
       "   _c0  carat        cut color clarity  depth  table     x     y     z  price\n",
       "0    1   0.30      Ideal     E     SI1   62.1   58.0  4.27  4.29  2.66    499\n",
       "1    2   0.33    Premium     G      IF   60.8   58.0  4.42  4.46  2.70    984\n",
       "2    3   0.90  Very Good     E    VVS2   62.2   60.0  6.04  6.12  3.78   6289\n",
       "3    4   0.42      Ideal     F     VS1   61.6   56.0  4.82  4.80  2.96   1082\n",
       "4    5   0.31      Ideal     F    VVS1   60.4   59.0  4.35  4.43  2.65    779"
      ]
     },
     "execution_count": 13,
     "metadata": {},
     "output_type": "execute_result"
    }
   ],
   "source": [
    "pandas_df = data.toPandas()\n",
    "pandas_df.head()"
   ]
  },
  {
   "cell_type": "code",
   "execution_count": 14,
   "id": "dd15e690-9c9f-467c-bb20-4f13fc4481fc",
   "metadata": {},
   "outputs": [
    {
     "data": {
      "text/plain": [
       "Text(0.5, 1.0, 'Boxplot of Carat')"
      ]
     },
     "execution_count": 14,
     "metadata": {},
     "output_type": "execute_result"
    },
    {
     "data": {
      "image/png": "[encoded data removed]",
      "text/plain": [
       "<Figure size 1400x600 with 2 Axes>"
      ]
     },
     "metadata": {},
     "output_type": "display_data"
    }
   ],
   "source": [
    "fig, axes = plt.subplots(1, 2, figsize=(14, 6))\n",
    "\n",
    "sns.boxplot(y='price', data=pandas_df, ax=axes[0])\n",
    "axes[0].set_title('Boxplot of Price')\n",
    "\n",
    "sns.boxplot(y='carat', data=pandas_df, ax=axes[1])\n",
    "axes[1].set_title('Boxplot of Carat')\n"
   ]
  },
  {
   "cell_type": "code",
   "execution_count": 15,
   "id": "14987e8b-0b88-4cef-956e-50e8f7d7c597",
   "metadata": {},
   "outputs": [
    {
     "name": "stdout",
     "output_type": "stream",
     "text": [
      "1\n",
      "0.3\n",
      "Ideal\n",
      "E\n",
      "SI1\n",
      "62.1\n",
      "58.0\n",
      "4.27\n",
      "4.29\n",
      "2.66\n",
      "499\n"
     ]
    }
   ],
   "source": [
    "for item in data.head():\n",
    "    print(item)"
   ]
  },
  {
   "cell_type": "code",
   "execution_count": 16,
   "id": "9710c661-0982-4842-ae42-6c031ec6892e",
   "metadata": {},
   "outputs": [],
   "source": [
    "from pyspark.ml.feature import StringIndexer, OneHotEncoder"
   ]
  },
  {
   "cell_type": "code",
   "execution_count": 17,
   "id": "a6b6dafe-ef59-4a3c-89de-926fa8b4a230",
   "metadata": {},
   "outputs": [],
   "source": [
    "# Create an indexer\n",
    "indexer = StringIndexer(inputCol='cut', outputCol='cut_idx')\n",
    "indexer_model = indexer.fit(data)\n",
    "data_indexed = indexer_model.transform(data)\n",
    "\n",
    "# Repeat the process for the other categorical feature\n",
    "data_indexed = StringIndexer(inputCol='color',\n",
    "                             outputCol='color_idx').fit(data_indexed).transform(data_indexed)\n",
    "\n",
    "data_indexed = StringIndexer(inputCol='clarity',\n",
    "                             outputCol='clarity_idx').fit(data_indexed).transform(data_indexed)\n",
    "\n",
    "# Create an encoder\n",
    "data_indexed = OneHotEncoder(inputCol=\"cut_idx\",\n",
    "                        outputCol=\"cut_vec\",\n",
    "                        dropLast=True).fit(data_indexed).transform(data_indexed)\n",
    "\n",
    "data_indexed = OneHotEncoder(inputCol=\"color_idx\",\n",
    "                        outputCol=\"color_vec\",\n",
    "                        dropLast=True).fit(data_indexed).transform(data_indexed)\n",
    "\n",
    "data_indexed = OneHotEncoder(inputCol=\"clarity_idx\",\n",
    "                        outputCol=\"clarity_vec\",\n",
    "                        dropLast=True).fit(data_indexed).transform(data_indexed)"
   ]
  },
  {
   "cell_type": "code",
   "execution_count": 18,
   "id": "de1d11f6-62d0-41fd-89db-dc2cdbe3d96c",
   "metadata": {},
   "outputs": [
    {
     "name": "stdout",
     "output_type": "stream",
     "text": [
      "+---+-----+---------+-----+-------+-----+-----+----+----+----+-----+-------+---------+-----------+-------------+-------------+-------------+\n",
      "|_c0|carat|      cut|color|clarity|depth|table|   x|   y|   z|price|cut_idx|color_idx|clarity_idx|      cut_vec|    color_vec|  clarity_vec|\n",
      "+---+-----+---------+-----+-------+-----+-----+----+----+----+-----+-------+---------+-----------+-------------+-------------+-------------+\n",
      "|  1|  0.3|    Ideal|    E|    SI1| 62.1| 58.0|4.27|4.29|2.66|  499|    0.0|      1.0|        0.0|(4,[0],[1.0])|(6,[1],[1.0])|(7,[0],[1.0])|\n",
      "|  2| 0.33|  Premium|    G|     IF| 60.8| 58.0|4.42|4.46| 2.7|  984|    1.0|      0.0|        6.0|(4,[1],[1.0])|(6,[0],[1.0])|(7,[6],[1.0])|\n",
      "|  3|  0.9|Very Good|    E|   VVS2| 62.2| 60.0|6.04|6.12|3.78| 6289|    2.0|      1.0|        4.0|(4,[2],[1.0])|(6,[1],[1.0])|(7,[4],[1.0])|\n",
      "+---+-----+---------+-----+-------+-----+-----+----+----+----+-----+-------+---------+-----------+-------------+-------------+-------------+\n",
      "only showing top 3 rows\n",
      "\n"
     ]
    }
   ],
   "source": [
    "data_indexed.show(3)"
   ]
  },
  {
   "cell_type": "markdown",
   "id": "d92bb51f-5156-4e8b-90c3-7f59317d0d57",
   "metadata": {},
   "source": [
    "## Setting Up DataFrame for Machine Learning"
   ]
  },
  {
   "cell_type": "markdown",
   "id": "ee0841a0-fcc2-4b02-b5e2-46de8a138e45",
   "metadata": {},
   "source": [
    "## Assembling columns"
   ]
  },
  {
   "cell_type": "code",
   "execution_count": 19,
   "id": "0c1b97fb-5cbb-405a-accc-9248ea7f33b7",
   "metadata": {},
   "outputs": [],
   "source": [
    "from pyspark.ml.linalg import Vectors\n",
    "from pyspark.ml.feature import VectorAssembler"
   ]
  },
  {
   "cell_type": "code",
   "execution_count": 20,
   "id": "aa650f0d-444a-40ad-80e4-4dba874153fc",
   "metadata": {},
   "outputs": [
    {
     "data": {
      "text/plain": [
       "['_c0',\n",
       " 'carat',\n",
       " 'cut',\n",
       " 'color',\n",
       " 'clarity',\n",
       " 'depth',\n",
       " 'table',\n",
       " 'x',\n",
       " 'y',\n",
       " 'z',\n",
       " 'price',\n",
       " 'cut_idx',\n",
       " 'color_idx',\n",
       " 'clarity_idx',\n",
       " 'cut_vec',\n",
       " 'color_vec',\n",
       " 'clarity_vec']"
      ]
     },
     "execution_count": 20,
     "metadata": {},
     "output_type": "execute_result"
    }
   ],
   "source": [
    "data_indexed.columns"
   ]
  },
  {
   "cell_type": "code",
   "execution_count": 21,
   "id": "729df591-09f3-4b6f-82e4-927713327f25",
   "metadata": {},
   "outputs": [],
   "source": [
    "# Create an assembler object\n",
    "assembler = VectorAssembler(inputCols=[\n",
    "    'carat', 'cut_vec', \n",
    "    'color_vec'#, 'clarity_vec',\n",
    "    #'depth', 'table', 'x', 'y', 'z'\n",
    "], outputCol='features')"
   ]
  },
  {
   "cell_type": "code",
   "execution_count": 22,
   "id": "ea30631c-6d19-496f-a6c6-7a38ba42aaae",
   "metadata": {},
   "outputs": [],
   "source": [
    "data_pre = assembler.transform(data_indexed)"
   ]
  },
  {
   "cell_type": "code",
   "execution_count": 23,
   "id": "0d3a7ccc-6619-477b-b7c6-960208600b8a",
   "metadata": {},
   "outputs": [
    {
     "name": "stdout",
     "output_type": "stream",
     "text": [
      "+---------------------------+-----+\n",
      "|features                   |price|\n",
      "+---------------------------+-----+\n",
      "|(11,[0,1,6],[0.3,1.0,1.0]) |499  |\n",
      "|(11,[0,2,5],[0.33,1.0,1.0])|984  |\n",
      "+---------------------------+-----+\n",
      "only showing top 2 rows\n",
      "\n"
     ]
    }
   ],
   "source": [
    "# Check the resulting column\n",
    "data_pre.select('features', 'price').show(2, truncate=False)"
   ]
  },
  {
   "cell_type": "code",
   "execution_count": 24,
   "id": "dbe4d83d-a92e-4347-ba7f-63925e926691",
   "metadata": {},
   "outputs": [
    {
     "name": "stdout",
     "output_type": "stream",
     "text": [
      "+---+-----+---------+-----+-------+-----+-----+----+----+----+-----+-------+---------+-----------+-------------+-------------+-------------+---------------------------+\n",
      "|_c0|carat|cut      |color|clarity|depth|table|x   |y   |z   |price|cut_idx|color_idx|clarity_idx|cut_vec      |color_vec    |clarity_vec  |features                   |\n",
      "+---+-----+---------+-----+-------+-----+-----+----+----+----+-----+-------+---------+-----------+-------------+-------------+-------------+---------------------------+\n",
      "|1  |0.3  |Ideal    |E    |SI1    |62.1 |58.0 |4.27|4.29|2.66|499  |0.0    |1.0      |0.0        |(4,[0],[1.0])|(6,[1],[1.0])|(7,[0],[1.0])|(11,[0,1,6],[0.3,1.0,1.0]) |\n",
      "|2  |0.33 |Premium  |G    |IF     |60.8 |58.0 |4.42|4.46|2.7 |984  |1.0    |0.0      |6.0        |(4,[1],[1.0])|(6,[0],[1.0])|(7,[6],[1.0])|(11,[0,2,5],[0.33,1.0,1.0])|\n",
      "|3  |0.9  |Very Good|E    |VVS2   |62.2 |60.0 |6.04|6.12|3.78|6289 |2.0    |1.0      |4.0        |(4,[2],[1.0])|(6,[1],[1.0])|(7,[4],[1.0])|(11,[0,3,6],[0.9,1.0,1.0]) |\n",
      "+---+-----+---------+-----+-------+-----+-----+----+----+----+-----+-------+---------+-----------+-------------+-------------+-------------+---------------------------+\n",
      "only showing top 3 rows\n",
      "\n"
     ]
    }
   ],
   "source": [
    "data_pre.show(3, False)"
   ]
  },
  {
   "cell_type": "code",
   "execution_count": 25,
   "id": "34991a62-adcd-4f64-8c2a-d082d2251390",
   "metadata": {},
   "outputs": [
    {
     "data": {
      "text/plain": [
       "26270"
      ]
     },
     "execution_count": 25,
     "metadata": {},
     "output_type": "execute_result"
    }
   ],
   "source": [
    "final_data = data_pre.select(\"features\",\"price\")\n",
    "final_data.count()"
   ]
  },
  {
   "cell_type": "code",
   "execution_count": 26,
   "id": "88f094b8-84f2-42e5-b9f4-109ea030e029",
   "metadata": {},
   "outputs": [
    {
     "name": "stdout",
     "output_type": "stream",
     "text": [
      "+--------------------+-----+\n",
      "|            features|price|\n",
      "+--------------------+-----+\n",
      "|(11,[0,1,6],[0.3,...|  499|\n",
      "|(11,[0,2,5],[0.33...|  984|\n",
      "|(11,[0,3,6],[0.9,...| 6289|\n",
      "|(11,[0,1,7],[0.42...| 1082|\n",
      "|(11,[0,1,7],[0.31...|  779|\n",
      "+--------------------+-----+\n",
      "only showing top 5 rows\n",
      "\n"
     ]
    }
   ],
   "source": [
    "final_data.show(5)"
   ]
  },
  {
   "cell_type": "code",
   "execution_count": 27,
   "id": "3ca9cba5-03fb-4254-8979-0ad49543e54d",
   "metadata": {},
   "outputs": [],
   "source": [
    "train_data, test_data = final_data.randomSplit([0.8,0.2])"
   ]
  },
  {
   "cell_type": "code",
   "execution_count": 28,
   "id": "c7a54b06-e8a3-4631-bf9a-f6369b5602a5",
   "metadata": {},
   "outputs": [
    {
     "name": "stdout",
     "output_type": "stream",
     "text": [
      "+-------+------------------+\n",
      "|summary|             price|\n",
      "+-------+------------------+\n",
      "|  count|             21064|\n",
      "|   mean| 3942.364698063046|\n",
      "| stddev|4022.4240194539047|\n",
      "|    min|               326|\n",
      "|    max|             18818|\n",
      "+-------+------------------+\n",
      "\n"
     ]
    }
   ],
   "source": [
    "train_data.describe().show()"
   ]
  },
  {
   "cell_type": "code",
   "execution_count": 29,
   "id": "8833ed3b-5b81-468b-aa34-ba885650a111",
   "metadata": {},
   "outputs": [
    {
     "name": "stdout",
     "output_type": "stream",
     "text": [
      "+-------+------------------+\n",
      "|summary|             price|\n",
      "+-------+------------------+\n",
      "|  count|              5206|\n",
      "|   mean|3920.2074529389165|\n",
      "| stddev| 4021.577029907961|\n",
      "|    min|               326|\n",
      "|    max|             18787|\n",
      "+-------+------------------+\n",
      "\n"
     ]
    }
   ],
   "source": [
    "test_data.describe().show()"
   ]
  },
  {
   "cell_type": "markdown",
   "id": "f4c66a98-3726-4a74-87bd-d38ea1c6c397",
   "metadata": {},
   "source": [
    "# LinearRegression"
   ]
  },
  {
   "cell_type": "code",
   "execution_count": 30,
   "id": "1605c6ca-6e16-4830-beeb-189dd21f7f50",
   "metadata": {},
   "outputs": [],
   "source": [
    "lr = LinearRegression(featuresCol='features',\n",
    "                     labelCol='price',\n",
    "                     predictionCol='prediction')"
   ]
  },
  {
   "cell_type": "code",
   "execution_count": 31,
   "id": "850cb7dc-d2f4-4764-9df9-131425969bd6",
   "metadata": {},
   "outputs": [],
   "source": [
    "lrModel = lr.fit(train_data)"
   ]
  },
  {
   "cell_type": "code",
   "execution_count": 32,
   "id": "02a3c649-a9ec-47c1-aef8-fe7b12062bf0",
   "metadata": {},
   "outputs": [
    {
     "name": "stdout",
     "output_type": "stream",
     "text": [
      "Coefficiets: [8215.062333264452,1652.5125957623259,1260.9087274202102,1338.9305513487914,955.6645884965275,1804.60466683151,1830.5271823909598,1866.2920772958744,1158.9669349214826,1898.9314887541373,829.0860530820277] Intercept: -5527.466980488212\n"
     ]
    }
   ],
   "source": [
    "print('Coefficiets: {} Intercept: {}'.format(lrModel.coefficients, lrModel.intercept))"
   ]
  },
  {
   "cell_type": "code",
   "execution_count": 33,
   "id": "8a064d1c-43ef-464e-a4bb-3d1cf4b9a80b",
   "metadata": {},
   "outputs": [],
   "source": [
    "test_result =lrModel.evaluate(test_data)"
   ]
  },
  {
   "cell_type": "code",
   "execution_count": 34,
   "id": "823ea828-7948-458c-b2f7-8fda36c6ed00",
   "metadata": {},
   "outputs": [
    {
     "name": "stdout",
     "output_type": "stream",
     "text": [
      "+------------------+\n",
      "|         residuals|\n",
      "+------------------+\n",
      "| 1520.772723870452|\n",
      "|158.00714055433855|\n",
      "|343.55527055640505|\n",
      "| 739.4046472237605|\n",
      "|214.95277722582614|\n",
      "+------------------+\n",
      "only showing top 5 rows\n",
      "\n"
     ]
    }
   ],
   "source": [
    "test_result.residuals.show(5)"
   ]
  },
  {
   "cell_type": "code",
   "execution_count": 35,
   "id": "719162e1-0d42-4922-8b78-457627a58156",
   "metadata": {},
   "outputs": [
    {
     "name": "stdout",
     "output_type": "stream",
     "text": [
      "RMSE: 1456.5337770482736\n",
      "MSE: 2121490.64368251\n",
      "r2: 0.8688006246428552\n"
     ]
    }
   ],
   "source": [
    "print('RMSE:', test_result.rootMeanSquaredError)\n",
    "print('MSE:', test_result.meanSquaredError)\n",
    "print('r2:', test_result.r2)"
   ]
  },
  {
   "cell_type": "code",
   "execution_count": 36,
   "id": "cf696173-24e7-4b20-b541-2bf34b5331a7",
   "metadata": {},
   "outputs": [],
   "source": [
    "test_model = lrModel.transform(test_data)"
   ]
  },
  {
   "cell_type": "code",
   "execution_count": 37,
   "id": "e6b4eeee-8fbf-4c3a-82f6-baa7d0b25ab6",
   "metadata": {},
   "outputs": [
    {
     "name": "stdout",
     "output_type": "stream",
     "text": [
      "+------------------+-----+\n",
      "|        prediction|price|\n",
      "+------------------+-----+\n",
      "|305.22727612954804| 1826|\n",
      "|2358.9928594456615| 2517|\n",
      "| 2605.444729443595| 2949|\n",
      "|2687.5953527762395| 3427|\n",
      "| 2934.047222774174| 3149|\n",
      "+------------------+-----+\n",
      "only showing top 5 rows\n",
      "\n"
     ]
    }
   ],
   "source": [
    "test_model.select('prediction','price').show(5)"
   ]
  },
  {
   "cell_type": "code",
   "execution_count": 38,
   "id": "7b120ae0-07af-444b-a250-0a78de484bce",
   "metadata": {},
   "outputs": [],
   "source": [
    "from pyspark.ml.evaluation import RegressionEvaluator"
   ]
  },
  {
   "cell_type": "code",
   "execution_count": 39,
   "id": "df39ba29-7858-4bd3-a072-44e9c696fbd0",
   "metadata": {},
   "outputs": [
    {
     "data": {
      "text/plain": [
       "1456.5337770482736"
      ]
     },
     "execution_count": 39,
     "metadata": {},
     "output_type": "execute_result"
    }
   ],
   "source": [
    "RegressionEvaluator(labelCol='price').evaluate(test_model)"
   ]
  },
  {
   "cell_type": "markdown",
   "id": "d513df3d-d1a7-490d-870b-206fd7ba389d",
   "metadata": {},
   "source": [
    "- Mô hình có độ chính xác không cao"
   ]
  },
  {
   "cell_type": "code",
   "execution_count": null,
   "id": "5559ae3a-5793-44c2-9f01-788acc685ddc",
   "metadata": {},
   "outputs": [],
   "source": []
  },
  {
   "cell_type": "code",
   "execution_count": 40,
   "id": "39058809-deeb-453c-a1e9-0e2002c20bb5",
   "metadata": {},
   "outputs": [],
   "source": [
    "unlabeled_data = spark.read.csv(\"Du lieu cung cap\\Gemstone\\Test_data.csv\", inferSchema=True,header=True)"
   ]
  },
  {
   "cell_type": "code",
   "execution_count": 41,
   "id": "6c7f3a2b-20a5-493f-b217-8830a5ad74f3",
   "metadata": {},
   "outputs": [
    {
     "name": "stdout",
     "output_type": "stream",
     "text": [
      "+-----+----+-----+-------+-----+-----+---+---+---+\n",
      "|carat| cut|color|clarity|depth|table|  x|  y|  z|\n",
      "+-----+----+-----+-------+-----+-----+---+---+---+\n",
      "| 1.45|Fair|    G|    VS2| 65.2|   54|7.2|7.1|4.6|\n",
      "+-----+----+-----+-------+-----+-----+---+---+---+\n",
      "\n"
     ]
    }
   ],
   "source": [
    "unlabeled_data.show()"
   ]
  },
  {
   "cell_type": "code",
   "execution_count": 42,
   "id": "cccdbb48-e829-4845-b210-36b4bb7c2ecc",
   "metadata": {},
   "outputs": [],
   "source": [
    "# Create an indexer\n",
    "indexer = StringIndexer(inputCol='cut', outputCol='cut_idx')\n",
    "indexer_model = indexer.fit(data)\n",
    "data_indexed = indexer_model.transform(unlabeled_data)\n",
    "\n",
    "# Repeat the process for the other categorical feature\n",
    "data_indexed = StringIndexer(inputCol='color',\n",
    "                             outputCol='color_idx').fit(data).transform(data_indexed)\n",
    "\n",
    "data_indexed = StringIndexer(inputCol='clarity',\n",
    "                             outputCol='clarity_idx').fit(data).transform(data_indexed)\n",
    "\n",
    "# Create an encoder\n",
    "data_indexed = OneHotEncoder(inputCol=\"cut_idx\",\n",
    "                        outputCol=\"cut_vec\",\n",
    "                        dropLast=True).fit(data_indexed).transform(data_indexed)\n",
    "\n",
    "data_indexed = OneHotEncoder(inputCol=\"color_idx\",\n",
    "                        outputCol=\"color_vec\",\n",
    "                        dropLast=True).fit(data_indexed).transform(data_indexed)\n",
    "\n",
    "data_indexed = OneHotEncoder(inputCol=\"clarity_idx\",\n",
    "                        outputCol=\"clarity_vec\",\n",
    "                        dropLast=True).fit(data_indexed).transform(data_indexed)"
   ]
  },
  {
   "cell_type": "code",
   "execution_count": 43,
   "id": "cdae13a4-bb58-4323-8e16-c78c0d641235",
   "metadata": {},
   "outputs": [
    {
     "name": "stdout",
     "output_type": "stream",
     "text": [
      "+-----+----+-----+-------+-----+-----+---+---+---+-------+---------+-----------+---------+-------------+-------------+\n",
      "|carat| cut|color|clarity|depth|table|  x|  y|  z|cut_idx|color_idx|clarity_idx|  cut_vec|    color_vec|  clarity_vec|\n",
      "+-----+----+-----+-------+-----+-----+---+---+---+-------+---------+-----------+---------+-------------+-------------+\n",
      "| 1.45|Fair|    G|    VS2| 65.2|   54|7.2|7.1|4.6|    4.0|      0.0|        1.0|(4,[],[])|(6,[0],[1.0])|(7,[1],[1.0])|\n",
      "+-----+----+-----+-------+-----+-----+---+---+---+-------+---------+-----------+---------+-------------+-------------+\n",
      "\n"
     ]
    }
   ],
   "source": [
    "data_indexed.show()"
   ]
  },
  {
   "cell_type": "code",
   "execution_count": 44,
   "id": "70fda256-b9b6-4fb4-86a1-70fc64b1e5f8",
   "metadata": {},
   "outputs": [],
   "source": [
    "unlabeled_data_pre = assembler.transform(data_indexed)"
   ]
  },
  {
   "cell_type": "code",
   "execution_count": 45,
   "id": "9a7469a7-3dcc-4a9d-bb98-8549ac6112ab",
   "metadata": {},
   "outputs": [
    {
     "name": "stdout",
     "output_type": "stream",
     "text": [
      "+---------------------+\n",
      "|features             |\n",
      "+---------------------+\n",
      "|(11,[0,5],[1.45,1.0])|\n",
      "+---------------------+\n",
      "\n"
     ]
    }
   ],
   "source": [
    "# Check the resulting column\n",
    "unlabeled_data_pre.select('features').show(2, truncate=False)"
   ]
  },
  {
   "cell_type": "code",
   "execution_count": 46,
   "id": "368ae891-123d-4f86-8327-d02918511e33",
   "metadata": {},
   "outputs": [
    {
     "name": "stdout",
     "output_type": "stream",
     "text": [
      "+-----+----+-----+-------+-----+-----+---+---+---+-------+---------+-----------+---------+-------------+-------------+---------------------+\n",
      "|carat|cut |color|clarity|depth|table|x  |y  |z  |cut_idx|color_idx|clarity_idx|cut_vec  |color_vec    |clarity_vec  |features             |\n",
      "+-----+----+-----+-------+-----+-----+---+---+---+-------+---------+-----------+---------+-------------+-------------+---------------------+\n",
      "|1.45 |Fair|G    |VS2    |65.2 |54   |7.2|7.1|4.6|4.0    |0.0      |1.0        |(4,[],[])|(6,[0],[1.0])|(7,[1],[1.0])|(11,[0,5],[1.45,1.0])|\n",
      "+-----+----+-----+-------+-----+-----+---+---+---+-------+---------+-----------+---------+-------------+-------------+---------------------+\n",
      "\n"
     ]
    }
   ],
   "source": [
    "unlabeled_data_pre.show(3, False)"
   ]
  },
  {
   "cell_type": "code",
   "execution_count": 47,
   "id": "2d970011-7795-4b9c-b76c-17e3f53d41df",
   "metadata": {},
   "outputs": [
    {
     "data": {
      "text/plain": [
       "1"
      ]
     },
     "execution_count": 47,
     "metadata": {},
     "output_type": "execute_result"
    }
   ],
   "source": [
    "unlabeled_final_data = unlabeled_data_pre.select(\"features\")\n",
    "unlabeled_final_data.count()"
   ]
  },
  {
   "cell_type": "code",
   "execution_count": 48,
   "id": "3e212cef-35d3-465d-aaae-eee04e7eacfd",
   "metadata": {},
   "outputs": [
    {
     "name": "stdout",
     "output_type": "stream",
     "text": [
      "+--------------------+\n",
      "|            features|\n",
      "+--------------------+\n",
      "|(11,[0,5],[1.45,1...|\n",
      "+--------------------+\n",
      "\n"
     ]
    }
   ],
   "source": [
    "unlabeled_final_data.show(5)"
   ]
  },
  {
   "cell_type": "code",
   "execution_count": 49,
   "id": "f92f9fe6-c246-4966-be31-2e0da5d7d3d7",
   "metadata": {},
   "outputs": [],
   "source": [
    "predictions = lrModel.transform(unlabeled_final_data)"
   ]
  },
  {
   "cell_type": "code",
   "execution_count": 50,
   "id": "90641342-0de0-4a51-840a-c25393784a54",
   "metadata": {},
   "outputs": [],
   "source": [
    "test_model = lrModel.transform(unlabeled_final_data)"
   ]
  },
  {
   "cell_type": "code",
   "execution_count": 51,
   "id": "840c4369-0ec0-4a0f-a900-cdd4b64e00f3",
   "metadata": {
    "scrolled": true
   },
   "outputs": [
    {
     "name": "stdout",
     "output_type": "stream",
     "text": [
      "+--------------------+-----------------+\n",
      "|            features|       prediction|\n",
      "+--------------------+-----------------+\n",
      "|(11,[0,5],[1.45,1...|8188.978069576753|\n",
      "+--------------------+-----------------+\n",
      "\n"
     ]
    }
   ],
   "source": [
    "test_model.show()"
   ]
  },
  {
   "cell_type": "markdown",
   "id": "ef6f13eb-bbb5-499e-9fe5-e4b515f2c64e",
   "metadata": {},
   "source": [
    "- Giá dự đoán của sample data là: 8188.97"
   ]
  },
  {
   "cell_type": "markdown",
   "id": "54f43aec-0045-4487-8a85-4f98f681f50d",
   "metadata": {},
   "source": [
    "## DecisionTreeRegressor"
   ]
  },
  {
   "cell_type": "code",
   "execution_count": 52,
   "id": "0030d8ba-388f-489c-9a0f-4d5b3e1b82c6",
   "metadata": {},
   "outputs": [],
   "source": [
    "from pyspark.ml.regression import GBTRegressor\n",
    "from pyspark.ml.regression import GBTRegressionModel"
   ]
  },
  {
   "cell_type": "code",
   "execution_count": 53,
   "id": "ca90e973-b719-4763-bfc0-2634b5084f55",
   "metadata": {},
   "outputs": [],
   "source": [
    "dt = GBTRegressor(featuresCol='features',\n",
    "                  labelCol='price',\n",
    "                  predictionCol='prediction')"
   ]
  },
  {
   "cell_type": "code",
   "execution_count": 54,
   "id": "9d985f4a-6207-4b3d-85b9-b46b5d35739c",
   "metadata": {},
   "outputs": [],
   "source": [
    "dtModel = dt.fit(train_data)"
   ]
  },
  {
   "cell_type": "code",
   "execution_count": 55,
   "id": "06d37e94-f050-4d01-9501-c355968c5f5f",
   "metadata": {},
   "outputs": [],
   "source": [
    "test_model = dtModel.transform(test_data)"
   ]
  },
  {
   "cell_type": "code",
   "execution_count": 56,
   "id": "097182c4-426a-4608-be4b-03fab4eb864a",
   "metadata": {},
   "outputs": [
    {
     "name": "stdout",
     "output_type": "stream",
     "text": [
      "+------------------+-----+\n",
      "|        prediction|price|\n",
      "+------------------+-----+\n",
      "|1961.1949605033597| 1826|\n",
      "| 3338.972270205857| 2517|\n",
      "| 3338.972270205857| 2949|\n",
      "| 4388.906080095388| 3427|\n",
      "| 4388.906080095388| 3149|\n",
      "+------------------+-----+\n",
      "only showing top 5 rows\n",
      "\n"
     ]
    }
   ],
   "source": [
    "test_model.select('prediction','price').show(5)"
   ]
  },
  {
   "cell_type": "code",
   "execution_count": 57,
   "id": "d0bfc4e4-25c4-46a9-9109-29913d432d6a",
   "metadata": {},
   "outputs": [],
   "source": [
    "from pyspark.ml.evaluation import RegressionEvaluator"
   ]
  },
  {
   "cell_type": "code",
   "execution_count": 58,
   "id": "94d6983a-5ae2-4f92-8422-af046b36ba01",
   "metadata": {},
   "outputs": [
    {
     "data": {
      "text/plain": [
       "1287.0341416810377"
      ]
     },
     "execution_count": 58,
     "metadata": {},
     "output_type": "execute_result"
    }
   ],
   "source": [
    "RegressionEvaluator(labelCol='price').evaluate(test_model)"
   ]
  },
  {
   "cell_type": "markdown",
   "id": "9ca66dc2-8ca3-4142-9132-7f7a2cd0c3f1",
   "metadata": {},
   "source": [
    "- Mô Hình có độ chính xác tốt hơn nhưng vẫn chưa được tốt lắm"
   ]
  },
  {
   "cell_type": "code",
   "execution_count": 59,
   "id": "d1eea7b3-a81e-4376-a623-49a0d6a5989b",
   "metadata": {
    "scrolled": true
   },
   "outputs": [
    {
     "data": {
      "text/plain": [
       "1"
      ]
     },
     "execution_count": 59,
     "metadata": {},
     "output_type": "execute_result"
    }
   ],
   "source": [
    "unlabeled_final_data = unlabeled_data_pre.select(\"features\")\n",
    "unlabeled_final_data.count()"
   ]
  },
  {
   "cell_type": "code",
   "execution_count": 60,
   "id": "7a70708b-3c16-44c8-81ee-0acb5da59016",
   "metadata": {},
   "outputs": [
    {
     "name": "stdout",
     "output_type": "stream",
     "text": [
      "+--------------------+\n",
      "|            features|\n",
      "+--------------------+\n",
      "|(11,[0,5],[1.45,1...|\n",
      "+--------------------+\n",
      "\n"
     ]
    }
   ],
   "source": [
    "unlabeled_final_data.show()"
   ]
  },
  {
   "cell_type": "code",
   "execution_count": 61,
   "id": "be5d4898-76e0-4f9e-8039-382a40524964",
   "metadata": {},
   "outputs": [],
   "source": [
    "test_model = dtModel.transform(unlabeled_final_data)"
   ]
  },
  {
   "cell_type": "code",
   "execution_count": 62,
   "id": "1638d70b-d28b-4a89-8cd0-d2b962c5c9ce",
   "metadata": {},
   "outputs": [
    {
     "name": "stdout",
     "output_type": "stream",
     "text": [
      "+--------------------+------------------+\n",
      "|            features|        prediction|\n",
      "+--------------------+------------------+\n",
      "|(11,[0,5],[1.45,1...|10235.388956354938|\n",
      "+--------------------+------------------+\n",
      "\n"
     ]
    }
   ],
   "source": [
    "test_model.show()"
   ]
  },
  {
   "cell_type": "code",
   "execution_count": null,
   "id": "a50b43b0-722e-49c7-b468-af8cb8c1bd33",
   "metadata": {},
   "outputs": [],
   "source": [
    "- Giá dự đoán của sample data là: 10235.38"
   ]
  }
 ],
 "metadata": {
  "kernelspec": {
   "display_name": "Python 3 (ipykernel)",
   "language": "python",
   "name": "python3"
  },
  "language_info": {
   "codemirror_mode": {
    "name": "ipython",
    "version": 3
   },
   "file_extension": ".py",
   "mimetype": "text/x-python",
   "name": "python",
   "nbconvert_exporter": "python",
   "pygments_lexer": "ipython3",
   "version": "3.9.12"
  }
 },
 "nbformat": 4,
 "nbformat_minor": 5
}
