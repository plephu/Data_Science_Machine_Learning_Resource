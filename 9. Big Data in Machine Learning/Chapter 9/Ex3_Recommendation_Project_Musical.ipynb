{
 "cells": [
  {
   "cell_type": "code",
   "execution_count": 1,
   "id": "91be2ecf-f48a-4a45-a0c4-583adb76a03b",
   "metadata": {},
   "outputs": [],
   "source": [
    "import findspark\n",
    "findspark.init()"
   ]
  },
  {
   "cell_type": "code",
   "execution_count": 2,
   "id": "849c2ccf-c92b-4663-9278-605593249949",
   "metadata": {},
   "outputs": [],
   "source": [
    "from pyspark.sql import SparkSession"
   ]
  },
  {
   "cell_type": "code",
   "execution_count": 3,
   "id": "69082e1d-1b71-4a31-a414-4b713b9152b7",
   "metadata": {},
   "outputs": [],
   "source": [
    "spark = SparkSession.builder.appName('Recommendation_system').getOrCreate()"
   ]
  },
  {
   "cell_type": "code",
   "execution_count": 4,
   "id": "3681c466-ffa4-4174-8ebf-e599f308eb55",
   "metadata": {},
   "outputs": [],
   "source": [
    "data = spark.read.json(\"Musical_Instruments_5.json\")"
   ]
  },
  {
   "cell_type": "code",
   "execution_count": 5,
   "id": "7eae3b3f-8e7f-4e83-a568-0a23b27b2438",
   "metadata": {},
   "outputs": [
    {
     "name": "stdout",
     "output_type": "stream",
     "text": [
      "+----------+--------+-------+--------------------+-----------+--------------+--------------------+--------------------+--------------+\n",
      "|      asin| helpful|overall|          reviewText| reviewTime|    reviewerID|        reviewerName|             summary|unixReviewTime|\n",
      "+----------+--------+-------+--------------------+-----------+--------------+--------------------+--------------------+--------------+\n",
      "|1384719342|  [0, 0]|    5.0|Not much to write...|02 28, 2014|A2IBPI20UZIR0U|cassandra tu \"Yea...|                good|    1393545600|\n",
      "|1384719342|[13, 14]|    5.0|The product does ...|03 16, 2013|A14VAT5EAX3D9S|                Jake|                Jake|    1363392000|\n",
      "|1384719342|  [1, 1]|    5.0|The primary job o...|08 28, 2013|A195EZSQDW3E21|Rick Bennette \"Ri...|It Does The Job Well|    1377648000|\n",
      "|1384719342|  [0, 0]|    5.0|Nice windscreen p...|02 14, 2014|A2C00NNG1ZQQG2|RustyBill \"Sunday...|GOOD WINDSCREEN F...|    1392336000|\n",
      "|1384719342|  [0, 0]|    5.0|This pop filter i...|02 21, 2014| A94QU4C90B1AX|       SEAN MASLANKA|No more pops when...|    1392940800|\n",
      "+----------+--------+-------+--------------------+-----------+--------------+--------------------+--------------------+--------------+\n",
      "only showing top 5 rows\n",
      "\n"
     ]
    }
   ],
   "source": [
    "data.show(5,truncate=True)"
   ]
  },
  {
   "cell_type": "code",
   "execution_count": 6,
   "id": "097fa798-a3ee-4f03-a5b4-a7e0007efcf7",
   "metadata": {},
   "outputs": [],
   "source": [
    "data_sub = data.select(['asin', 'overall', 'reviewerID'])"
   ]
  },
  {
   "cell_type": "code",
   "execution_count": 7,
   "id": "1a02bf7e-57bb-4c8a-900c-618e1be75d26",
   "metadata": {},
   "outputs": [
    {
     "data": {
      "text/plain": [
       "10261"
      ]
     },
     "execution_count": 7,
     "metadata": {},
     "output_type": "execute_result"
    }
   ],
   "source": [
    "data_sub.count()"
   ]
  },
  {
   "cell_type": "code",
   "execution_count": 8,
   "id": "ab4a3456-2c04-463c-a4cb-9e45dce71888",
   "metadata": {},
   "outputs": [],
   "source": [
    "from pyspark.sql.functions import col, udf\n",
    "from pyspark.sql.functions import isnan, when, count, col"
   ]
  },
  {
   "cell_type": "code",
   "execution_count": 9,
   "id": "de907d29-b57e-4b96-a8d1-2fa777eda68a",
   "metadata": {},
   "outputs": [
    {
     "name": "stdout",
     "output_type": "stream",
     "text": [
      "+----------+-------+--------------+\n",
      "|      asin|overall|    reviewerID|\n",
      "+----------+-------+--------------+\n",
      "|1384719342|    5.0|A2IBPI20UZIR0U|\n",
      "|1384719342|    5.0|A14VAT5EAX3D9S|\n",
      "|1384719342|    5.0|A195EZSQDW3E21|\n",
      "|1384719342|    5.0|A2C00NNG1ZQQG2|\n",
      "|1384719342|    5.0| A94QU4C90B1AX|\n",
      "+----------+-------+--------------+\n",
      "only showing top 5 rows\n",
      "\n"
     ]
    }
   ],
   "source": [
    "data_sub.show(5, truncate=True)"
   ]
  },
  {
   "cell_type": "code",
   "execution_count": 10,
   "id": "fb51b1e4-e690-4b60-9e54-51d334612e13",
   "metadata": {},
   "outputs": [
    {
     "data": {
      "text/html": [
       "<div>\n",
       "<style scoped>\n",
       "    .dataframe tbody tr th:only-of-type {\n",
       "        vertical-align: middle;\n",
       "    }\n",
       "\n",
       "    .dataframe tbody tr th {\n",
       "        vertical-align: top;\n",
       "    }\n",
       "\n",
       "    .dataframe thead th {\n",
       "        text-align: right;\n",
       "    }\n",
       "</style>\n",
       "<table border=\"1\" class=\"dataframe\">\n",
       "  <thead>\n",
       "    <tr style=\"text-align: right;\">\n",
       "      <th></th>\n",
       "      <th>0</th>\n",
       "    </tr>\n",
       "  </thead>\n",
       "  <tbody>\n",
       "    <tr>\n",
       "      <th>asin</th>\n",
       "      <td>0</td>\n",
       "    </tr>\n",
       "    <tr>\n",
       "      <th>overall</th>\n",
       "      <td>0</td>\n",
       "    </tr>\n",
       "    <tr>\n",
       "      <th>reviewerID</th>\n",
       "      <td>0</td>\n",
       "    </tr>\n",
       "  </tbody>\n",
       "</table>\n",
       "</div>"
      ],
      "text/plain": [
       "            0\n",
       "asin        0\n",
       "overall     0\n",
       "reviewerID  0"
      ]
     },
     "execution_count": 10,
     "metadata": {},
     "output_type": "execute_result"
    }
   ],
   "source": [
    "data_sub.select([count(when(col(c).isNull(), c)).alias(c) for c in data_sub.columns]).toPandas().T"
   ]
  },
  {
   "cell_type": "code",
   "execution_count": 11,
   "id": "4eefefb1-07e8-490a-bb8a-cb4748a00ae0",
   "metadata": {},
   "outputs": [],
   "source": [
    "# Distinct users and movies\n",
    "users = data_sub.select(\"reviewerID\").distinct().count()\n",
    "products = data_sub.select(\"asin\").distinct().count()\n",
    "numerator = data_sub.count()"
   ]
  },
  {
   "cell_type": "code",
   "execution_count": 12,
   "id": "dda74d5f-6cbf-4d68-bb75-db29b1f39e34",
   "metadata": {},
   "outputs": [
    {
     "data": {
      "text/plain": [
       "10261"
      ]
     },
     "metadata": {},
     "output_type": "display_data"
    },
    {
     "data": {
      "text/plain": [
       "1429"
      ]
     },
     "metadata": {},
     "output_type": "display_data"
    },
    {
     "data": {
      "text/plain": [
       "900"
      ]
     },
     "metadata": {},
     "output_type": "display_data"
    }
   ],
   "source": [
    "display(numerator, users, products)"
   ]
  },
  {
   "cell_type": "code",
   "execution_count": 13,
   "id": "0408bdd9-db7a-4d7b-a60c-2ac084a91693",
   "metadata": {},
   "outputs": [
    {
     "data": {
      "text/plain": [
       "1286100"
      ]
     },
     "execution_count": 13,
     "metadata": {},
     "output_type": "execute_result"
    }
   ],
   "source": [
    "# Number of ratings matrix could contain if no empty cells\n",
    "denominator = users * products\n",
    "denominator"
   ]
  },
  {
   "cell_type": "code",
   "execution_count": 14,
   "id": "4e2605db-6141-4341-8856-dbb8d0d996b5",
   "metadata": {},
   "outputs": [
    {
     "name": "stdout",
     "output_type": "stream",
     "text": [
      "Sparsity: \n"
     ]
    },
    {
     "data": {
      "text/plain": [
       "(None, 0.992021615737501)"
      ]
     },
     "execution_count": 14,
     "metadata": {},
     "output_type": "execute_result"
    }
   ],
   "source": [
    "#Calculating sparsity\n",
    "sparsity = 1 - (numerator*1.0 / denominator)\n",
    "print (\"Sparsity: \"), sparsity"
   ]
  },
  {
   "cell_type": "code",
   "execution_count": 15,
   "id": "0fda313e-4a4b-4200-b161-c427cb95c937",
   "metadata": {},
   "outputs": [],
   "source": [
    "from pyspark.ml.evaluation import RegressionEvaluator\n",
    "from pyspark.ml.recommendation import ALS"
   ]
  },
  {
   "cell_type": "code",
   "execution_count": 16,
   "id": "1001884e-6adb-48de-b88a-4839eb2f9ae7",
   "metadata": {},
   "outputs": [],
   "source": [
    "# Converting String to index\n",
    "from pyspark.ml.feature import StringIndexer\n",
    "from pyspark.ml import Pipeline\n",
    "from pyspark.sql.functions import col\n"
   ]
  },
  {
   "cell_type": "code",
   "execution_count": 17,
   "id": "2eba3e60-1c72-4633-ab43-8dc0aad0c0a8",
   "metadata": {},
   "outputs": [],
   "source": [
    "# Create an indexer\n",
    "indexer = StringIndexer(inputCol='asin',  outputCol='asin_idx')\n",
    "# Indexer identifies categories in the data\n",
    "indexer_model = indexer.fit(data_sub)\n",
    "# Indexer creates a new column with numeric index values\n",
    "data_indexed = indexer_model.transform(data_sub)\n",
    "# Repeat the process for the other categorical feature\n",
    "indexer1 = StringIndexer(inputCol='reviewerID', outputCol='reviewerID_idx')\n",
    "indexer1_model = indexer1.fit(data_indexed)\n",
    "data_indexed = indexer1_model.transform(data_indexed)"
   ]
  },
  {
   "cell_type": "code",
   "execution_count": 18,
   "id": "c773579e-b115-4ebe-a6cf-edb76f3be2cd",
   "metadata": {},
   "outputs": [
    {
     "name": "stdout",
     "output_type": "stream",
     "text": [
      "+----------+-------+--------------+--------+--------------+\n",
      "|      asin|overall|    reviewerID|asin_idx|reviewerID_idx|\n",
      "+----------+-------+--------------+--------+--------------+\n",
      "|1384719342|    5.0|A2IBPI20UZIR0U|   703.0|          66.0|\n",
      "|1384719342|    5.0|A14VAT5EAX3D9S|   703.0|         266.0|\n",
      "|1384719342|    5.0|A195EZSQDW3E21|   703.0|         395.0|\n",
      "|1384719342|    5.0|A2C00NNG1ZQQG2|   703.0|        1048.0|\n",
      "|1384719342|    5.0| A94QU4C90B1AX|   703.0|        1311.0|\n",
      "+----------+-------+--------------+--------+--------------+\n",
      "only showing top 5 rows\n",
      "\n"
     ]
    }
   ],
   "source": [
    "data_indexed.show(5, truncate=True)"
   ]
  },
  {
   "cell_type": "code",
   "execution_count": 19,
   "id": "a3d528c3-6aa4-489f-8fbf-8096642b013a",
   "metadata": {},
   "outputs": [
    {
     "data": {
      "text/html": [
       "<div>\n",
       "<style scoped>\n",
       "    .dataframe tbody tr th:only-of-type {\n",
       "        vertical-align: middle;\n",
       "    }\n",
       "\n",
       "    .dataframe tbody tr th {\n",
       "        vertical-align: top;\n",
       "    }\n",
       "\n",
       "    .dataframe thead th {\n",
       "        text-align: right;\n",
       "    }\n",
       "</style>\n",
       "<table border=\"1\" class=\"dataframe\">\n",
       "  <thead>\n",
       "    <tr style=\"text-align: right;\">\n",
       "      <th></th>\n",
       "      <th>0</th>\n",
       "    </tr>\n",
       "  </thead>\n",
       "  <tbody>\n",
       "    <tr>\n",
       "      <th>asin</th>\n",
       "      <td>0</td>\n",
       "    </tr>\n",
       "    <tr>\n",
       "      <th>overall</th>\n",
       "      <td>0</td>\n",
       "    </tr>\n",
       "    <tr>\n",
       "      <th>reviewerID</th>\n",
       "      <td>0</td>\n",
       "    </tr>\n",
       "    <tr>\n",
       "      <th>asin_idx</th>\n",
       "      <td>0</td>\n",
       "    </tr>\n",
       "    <tr>\n",
       "      <th>reviewerID_idx</th>\n",
       "      <td>0</td>\n",
       "    </tr>\n",
       "  </tbody>\n",
       "</table>\n",
       "</div>"
      ],
      "text/plain": [
       "                0\n",
       "asin            0\n",
       "overall         0\n",
       "reviewerID      0\n",
       "asin_idx        0\n",
       "reviewerID_idx  0"
      ]
     },
     "execution_count": 19,
     "metadata": {},
     "output_type": "execute_result"
    }
   ],
   "source": [
    "data_indexed.select([count(when(col(c).isNull(), c)).alias(c) for c in data_indexed.columns]).toPandas().T"
   ]
  },
  {
   "cell_type": "code",
   "execution_count": 20,
   "id": "76bdf6a5-5ad3-47af-8acc-27317258b37e",
   "metadata": {},
   "outputs": [],
   "source": [
    "# Smaller dataset so we will use 0.8 / 0.2\n",
    "(training, test) = data_indexed.randomSplit([0.8, 0.2])"
   ]
  },
  {
   "cell_type": "code",
   "execution_count": 21,
   "id": "05fb30f0-936c-4333-8285-48967c5618c9",
   "metadata": {},
   "outputs": [],
   "source": [
    "# Creating ALS model and fitting data\n",
    "from pyspark.ml.evaluation import RegressionEvaluator\n",
    "from pyspark.ml.recommendation import ALS"
   ]
  },
  {
   "cell_type": "code",
   "execution_count": 22,
   "id": "cd8c60e0-94d5-4618-a2c5-5edb77a5177f",
   "metadata": {},
   "outputs": [],
   "source": [
    "als = ALS(maxIter=5, \n",
    "          regParam=0.09, \n",
    "          rank = 25,\n",
    "          userCol=\"reviewerID_idx\", \n",
    "          itemCol=\"asin_idx\", \n",
    "          ratingCol=\"overall\", \n",
    "          coldStartStrategy=\"drop\",\n",
    "          nonnegative=True)\n",
    "model = als.fit(training)"
   ]
  },
  {
   "cell_type": "code",
   "execution_count": 23,
   "id": "377021e1-2f8c-42e4-b89b-56e057a4ff08",
   "metadata": {},
   "outputs": [],
   "source": [
    "# Evaluate the model by computing the RMSE on the test data\n",
    "predictions = model.transform(test)"
   ]
  },
  {
   "cell_type": "code",
   "execution_count": 24,
   "id": "250c09d3-3a5b-4731-b5d7-3fd96a6772ca",
   "metadata": {},
   "outputs": [
    {
     "name": "stdout",
     "output_type": "stream",
     "text": [
      "+--------+--------------+-------+----------+\n",
      "|asin_idx|reviewerID_idx|overall|prediction|\n",
      "+--------+--------------+-------+----------+\n",
      "|   323.0|         471.0|    3.0|  4.290072|\n",
      "|     8.0|         148.0|    4.0| 2.6836226|\n",
      "|    34.0|         496.0|    5.0| 4.5216136|\n",
      "|   184.0|        1088.0|    4.0| 4.9800196|\n",
      "|   243.0|         148.0|    3.0|  2.398322|\n",
      "+--------+--------------+-------+----------+\n",
      "only showing top 5 rows\n",
      "\n"
     ]
    }
   ],
   "source": [
    "predictions.select([\"asin_idx\", \"reviewerID_idx\", \n",
    "                    \"overall\", \"prediction\"]).show(5)"
   ]
  },
  {
   "cell_type": "code",
   "execution_count": 25,
   "id": "afac84b7-8596-44bb-9ea1-b982bc1da94d",
   "metadata": {},
   "outputs": [
    {
     "name": "stdout",
     "output_type": "stream",
     "text": [
      "Root-mean-square error = 1.190920820931131\n"
     ]
    }
   ],
   "source": [
    "evaluator = RegressionEvaluator(metricName=\"rmse\", \n",
    "                                labelCol=\"overall\",\n",
    "                                predictionCol=\"prediction\")\n",
    "rmse = evaluator.evaluate(predictions)\n",
    "print(\"Root-mean-square error = \" + str(rmse))"
   ]
  },
  {
   "cell_type": "code",
   "execution_count": 26,
   "id": "77dbdd69-dfc8-48a2-98d1-f818831991c1",
   "metadata": {},
   "outputs": [],
   "source": [
    "# On average, this model is ~ 1.2 from perfect recommendations."
   ]
  },
  {
   "cell_type": "markdown",
   "id": "60a1636c-9dd9-4e7f-99bf-37b94425df5c",
   "metadata": {},
   "source": [
    "### Providing Recommendations: for all users"
   ]
  },
  {
   "cell_type": "code",
   "execution_count": 27,
   "id": "8921f979-fdb8-4fcb-a484-a012b9b14a1c",
   "metadata": {},
   "outputs": [],
   "source": [
    "# get 20 recommendations which have highest rating.\n",
    "user_recs = model.recommendForAllUsers(20)"
   ]
  },
  {
   "cell_type": "code",
   "execution_count": 28,
   "id": "d5202fa4-4ba6-4ad8-be8a-5bd652a60a09",
   "metadata": {},
   "outputs": [
    {
     "name": "stdout",
     "output_type": "stream",
     "text": [
      "Row(reviewerID_idx=12, recommendations=[Row(asin_idx=870, rating=6.345491409301758), Row(asin_idx=579, rating=6.280359745025635), Row(asin_idx=290, rating=6.246193885803223), Row(asin_idx=801, rating=6.1191558837890625), Row(asin_idx=891, rating=6.10900354385376), Row(asin_idx=668, rating=6.108401298522949), Row(asin_idx=517, rating=6.089846611022949), Row(asin_idx=781, rating=6.069179534912109), Row(asin_idx=857, rating=6.052563190460205), Row(asin_idx=273, rating=6.043859958648682), Row(asin_idx=490, rating=6.040466785430908), Row(asin_idx=460, rating=6.007510662078857), Row(asin_idx=339, rating=5.978326320648193), Row(asin_idx=274, rating=5.975578784942627), Row(asin_idx=855, rating=5.968652248382568), Row(asin_idx=812, rating=5.968412399291992), Row(asin_idx=393, rating=5.9656805992126465), Row(asin_idx=596, rating=5.956305980682373), Row(asin_idx=539, rating=5.955963611602783), Row(asin_idx=886, rating=5.92951774597168)])\n",
      "\n",
      "\n",
      "Row(reviewerID_idx=22, recommendations=[Row(asin_idx=618, rating=4.872448921203613), Row(asin_idx=610, rating=4.806492328643799), Row(asin_idx=668, rating=4.794490337371826), Row(asin_idx=202, rating=4.765163898468018), Row(asin_idx=290, rating=4.763795852661133), Row(asin_idx=829, rating=4.733610153198242), Row(asin_idx=596, rating=4.7320733070373535), Row(asin_idx=113, rating=4.7273359298706055), Row(asin_idx=626, rating=4.718076229095459), Row(asin_idx=870, rating=4.69373893737793), Row(asin_idx=775, rating=4.687804222106934), Row(asin_idx=781, rating=4.687155246734619), Row(asin_idx=313, rating=4.681946754455566), Row(asin_idx=760, rating=4.6624298095703125), Row(asin_idx=517, rating=4.63251256942749), Row(asin_idx=756, rating=4.605205535888672), Row(asin_idx=891, rating=4.561940670013428), Row(asin_idx=669, rating=4.512157917022705), Row(asin_idx=241, rating=4.507614612579346), Row(asin_idx=777, rating=4.482336521148682)])\n",
      "\n",
      "\n",
      "Row(reviewerID_idx=26, recommendations=[Row(asin_idx=781, rating=5.962961196899414), Row(asin_idx=870, rating=5.9616522789001465), Row(asin_idx=290, rating=5.915544509887695), Row(asin_idx=579, rating=5.723049640655518), Row(asin_idx=754, rating=5.708907127380371), Row(asin_idx=596, rating=5.699554443359375), Row(asin_idx=668, rating=5.621738910675049), Row(asin_idx=855, rating=5.613680839538574), Row(asin_idx=775, rating=5.6077728271484375), Row(asin_idx=891, rating=5.598362445831299), Row(asin_idx=491, rating=5.568538665771484), Row(asin_idx=854, rating=5.555295944213867), Row(asin_idx=589, rating=5.532903671264648), Row(asin_idx=640, rating=5.520533084869385), Row(asin_idx=185, rating=5.518489837646484), Row(asin_idx=202, rating=5.515146255493164), Row(asin_idx=436, rating=5.5047993659973145), Row(asin_idx=386, rating=5.494176864624023), Row(asin_idx=610, rating=5.48516321182251), Row(asin_idx=857, rating=5.483968734741211)])\n",
      "\n",
      "\n",
      "Row(reviewerID_idx=27, recommendations=[Row(asin_idx=514, rating=6.054638862609863), Row(asin_idx=891, rating=5.934346675872803), Row(asin_idx=592, rating=5.827490329742432), Row(asin_idx=579, rating=5.82305383682251), Row(asin_idx=777, rating=5.7946882247924805), Row(asin_idx=781, rating=5.778400897979736), Row(asin_idx=177, rating=5.756699562072754), Row(asin_idx=552, rating=5.7335896492004395), Row(asin_idx=812, rating=5.7213335037231445), Row(asin_idx=610, rating=5.721058368682861), Row(asin_idx=714, rating=5.717931747436523), Row(asin_idx=273, rating=5.706043243408203), Row(asin_idx=102, rating=5.693543434143066), Row(asin_idx=801, rating=5.687915802001953), Row(asin_idx=668, rating=5.682967662811279), Row(asin_idx=328, rating=5.658015251159668), Row(asin_idx=490, rating=5.6473917961120605), Row(asin_idx=517, rating=5.62161111831665), Row(asin_idx=708, rating=5.609460830688477), Row(asin_idx=317, rating=5.60508918762207)])\n",
      "\n",
      "\n",
      "Row(reviewerID_idx=28, recommendations=[Row(asin_idx=283, rating=5.893794059753418), Row(asin_idx=803, rating=5.882719039916992), Row(asin_idx=766, rating=5.826857566833496), Row(asin_idx=812, rating=5.781719207763672), Row(asin_idx=891, rating=5.764443874359131), Row(asin_idx=579, rating=5.692568302154541), Row(asin_idx=809, rating=5.679994583129883), Row(asin_idx=177, rating=5.674370765686035), Row(asin_idx=202, rating=5.665600299835205), Row(asin_idx=782, rating=5.664651393890381), Row(asin_idx=504, rating=5.663205146789551), Row(asin_idx=503, rating=5.6470746994018555), Row(asin_idx=765, rating=5.630666732788086), Row(asin_idx=460, rating=5.628386974334717), Row(asin_idx=486, rating=5.62796688079834), Row(asin_idx=339, rating=5.6275315284729), Row(asin_idx=743, rating=5.62750768661499), Row(asin_idx=125, rating=5.625128746032715), Row(asin_idx=517, rating=5.624650955200195), Row(asin_idx=290, rating=5.62202787399292)])\n",
      "\n",
      "\n"
     ]
    }
   ],
   "source": [
    "for user in user_recs.head(5):\n",
    "    print(user)\n",
    "    print(\"\\n\")"
   ]
  },
  {
   "cell_type": "markdown",
   "id": "869bd459-7bad-48af-b2aa-f6870ff324bd",
   "metadata": {},
   "source": [
    "### Converting back to string form\n"
   ]
  },
  {
   "cell_type": "code",
   "execution_count": 29,
   "id": "07df7ed6-7833-4fca-a75e-c129e8dfd460",
   "metadata": {},
   "outputs": [],
   "source": [
    "import pandas as pd\n",
    "recs=model.recommendForAllUsers(10).toPandas()\n",
    "nrecs=recs.recommendations.apply(pd.Series) \\\n",
    " .merge(recs, right_index = True, left_index = True) \\\n",
    " .drop([\"recommendations\"], axis = 1) \\\n",
    " .melt(id_vars = ['reviewerID_idx'], value_name = \"recommendation\") \\\n",
    " .drop(\"variable\", axis = 1) \\\n",
    " .dropna() \n",
    "nrecs=nrecs.sort_values('reviewerID_idx')\n",
    "nrecs=pd.concat([nrecs['recommendation'].apply(pd.Series), \n",
    " nrecs['reviewerID_idx']], axis = 1)\n",
    "nrecs.columns = [ \n",
    " 'ProductID_index',\n",
    " 'Rating',\n",
    " 'UserID_index' \n",
    " ]"
   ]
  },
  {
   "cell_type": "code",
   "execution_count": 30,
   "id": "e42f21ff-408b-456b-8c5a-9f998dbddee6",
   "metadata": {},
   "outputs": [
    {
     "name": "stderr",
     "output_type": "stream",
     "text": [
      "C:\\Users\\AW\\AppData\\Local\\Temp\\ipykernel_30104\\2091850030.py:10: SettingWithCopyWarning: \n",
      "A value is trying to be set on a copy of a slice from a DataFrame.\n",
      "Try using .loc[row_indexer,col_indexer] = value instead\n",
      "\n",
      "See the caveats in the documentation: https://pandas.pydata.org/pandas-docs/stable/user_guide/indexing.html#returning-a-view-versus-a-copy\n",
      "  new['recommendations'] = list(zip(new.asin, new.Rating))\n"
     ]
    }
   ],
   "source": [
    "md=data_indexed.select(['reviewerID', 'reviewerID_idx', 'asin', 'asin_idx'])\n",
    "md=md.toPandas()\n",
    "dict1=dict(zip(md['reviewerID_idx'],md['reviewerID']))\n",
    "dict2=dict(zip(md['asin_idx'],md['asin']))\n",
    "nrecs['reviewerID']=nrecs['UserID_index'].map(dict1)\n",
    "nrecs['asin']=nrecs['ProductID_index'].map(dict2)\n",
    "nrecs=nrecs.sort_values('reviewerID')\n",
    "nrecs.reset_index(drop=True, inplace=True)\n",
    "new=nrecs[['reviewerID','asin','Rating']]\n",
    "new['recommendations'] = list(zip(new.asin, new.Rating))\n",
    "res=new[['reviewerID','recommendations']] \n",
    "res_new=res['recommendations'].groupby([res.reviewerID]).apply(list).reset_index()"
   ]
  },
  {
   "cell_type": "code",
   "execution_count": 31,
   "id": "e72777c6-6496-41b4-a9c1-dbeab1d00f3f",
   "metadata": {},
   "outputs": [
    {
     "data": {
      "text/html": [
       "<div>\n",
       "<style scoped>\n",
       "    .dataframe tbody tr th:only-of-type {\n",
       "        vertical-align: middle;\n",
       "    }\n",
       "\n",
       "    .dataframe tbody tr th {\n",
       "        vertical-align: top;\n",
       "    }\n",
       "\n",
       "    .dataframe thead th {\n",
       "        text-align: right;\n",
       "    }\n",
       "</style>\n",
       "<table border=\"1\" class=\"dataframe\">\n",
       "  <thead>\n",
       "    <tr style=\"text-align: right;\">\n",
       "      <th></th>\n",
       "      <th>reviewerID</th>\n",
       "      <th>recommendations</th>\n",
       "    </tr>\n",
       "  </thead>\n",
       "  <tbody>\n",
       "    <tr>\n",
       "      <th>0</th>\n",
       "      <td>A00625243BI8W1SSZNLMD</td>\n",
       "      <td>[(B000RKAFIU, 5.466587543487549), (B001IM5KFY,...</td>\n",
       "    </tr>\n",
       "    <tr>\n",
       "      <th>1</th>\n",
       "      <td>A10044ECXDUVKS</td>\n",
       "      <td>[(B000RKAFIU, 5.0673322677612305), (B00923G9Q0...</td>\n",
       "    </tr>\n",
       "    <tr>\n",
       "      <th>2</th>\n",
       "      <td>A102MU6ZC9H1N6</td>\n",
       "      <td>[(B00923G9Q0, 5.872036933898926), (B000RWJQRE,...</td>\n",
       "    </tr>\n",
       "    <tr>\n",
       "      <th>3</th>\n",
       "      <td>A109JTUZXO61UY</td>\n",
       "      <td>[(B000W00X1Y, 6.402008056640625), (B00923G9Q0,...</td>\n",
       "    </tr>\n",
       "    <tr>\n",
       "      <th>4</th>\n",
       "      <td>A109ME7C09HM2M</td>\n",
       "      <td>[(B0064BFNME, 5.840763568878174), (B001E3BSKS,...</td>\n",
       "    </tr>\n",
       "    <tr>\n",
       "      <th>...</th>\n",
       "      <td>...</td>\n",
       "      <td>...</td>\n",
       "    </tr>\n",
       "    <tr>\n",
       "      <th>1424</th>\n",
       "      <td>AZJPNK73JF3XP</td>\n",
       "      <td>[(B001E3BSKS, 5.660131454467773), (B003S3S0DU,...</td>\n",
       "    </tr>\n",
       "    <tr>\n",
       "      <th>1425</th>\n",
       "      <td>AZMHABTPXVLG3</td>\n",
       "      <td>[(B003YVRGN6, 3.9164352416992188), (B000VJZOLK...</td>\n",
       "    </tr>\n",
       "    <tr>\n",
       "      <th>1426</th>\n",
       "      <td>AZMIKIG4BB6BZ</td>\n",
       "      <td>[(B009E3EWPI, 5.349851608276367), (B004MNTIL8,...</td>\n",
       "    </tr>\n",
       "    <tr>\n",
       "      <th>1427</th>\n",
       "      <td>AZPDO6FLSMLFP</td>\n",
       "      <td>[(B0001FTVD6, 5.070217132568359), (B0007WPCKE,...</td>\n",
       "    </tr>\n",
       "    <tr>\n",
       "      <th>1428</th>\n",
       "      <td>AZVME8JMPD3F4</td>\n",
       "      <td>[(B00923G9Q0, 3.9371137619018555), (B001NXDSK2...</td>\n",
       "    </tr>\n",
       "  </tbody>\n",
       "</table>\n",
       "<p>1429 rows × 2 columns</p>\n",
       "</div>"
      ],
      "text/plain": [
       "                 reviewerID                                    recommendations\n",
       "0     A00625243BI8W1SSZNLMD  [(B000RKAFIU, 5.466587543487549), (B001IM5KFY,...\n",
       "1            A10044ECXDUVKS  [(B000RKAFIU, 5.0673322677612305), (B00923G9Q0...\n",
       "2            A102MU6ZC9H1N6  [(B00923G9Q0, 5.872036933898926), (B000RWJQRE,...\n",
       "3            A109JTUZXO61UY  [(B000W00X1Y, 6.402008056640625), (B00923G9Q0,...\n",
       "4            A109ME7C09HM2M  [(B0064BFNME, 5.840763568878174), (B001E3BSKS,...\n",
       "...                     ...                                                ...\n",
       "1424          AZJPNK73JF3XP  [(B001E3BSKS, 5.660131454467773), (B003S3S0DU,...\n",
       "1425          AZMHABTPXVLG3  [(B003YVRGN6, 3.9164352416992188), (B000VJZOLK...\n",
       "1426          AZMIKIG4BB6BZ  [(B009E3EWPI, 5.349851608276367), (B004MNTIL8,...\n",
       "1427          AZPDO6FLSMLFP  [(B0001FTVD6, 5.070217132568359), (B0007WPCKE,...\n",
       "1428          AZVME8JMPD3F4  [(B00923G9Q0, 3.9371137619018555), (B001NXDSK2...\n",
       "\n",
       "[1429 rows x 2 columns]"
      ]
     },
     "execution_count": 31,
     "metadata": {},
     "output_type": "execute_result"
    }
   ],
   "source": [
    "res_new"
   ]
  },
  {
   "cell_type": "code",
   "execution_count": null,
   "id": "978e2ba4-0ae4-4829-bf6f-641f11c74793",
   "metadata": {},
   "outputs": [],
   "source": []
  },
  {
   "cell_type": "code",
   "execution_count": null,
   "id": "0102cbfc-6a86-4a29-82ed-ec044d00302e",
   "metadata": {},
   "outputs": [],
   "source": []
  },
  {
   "cell_type": "code",
   "execution_count": null,
   "id": "b8329c69-920f-4906-bd0b-350c1594c7e9",
   "metadata": {},
   "outputs": [],
   "source": []
  }
 ],
 "metadata": {
  "kernelspec": {
   "display_name": "Python 3 (ipykernel)",
   "language": "python",
   "name": "python3"
  },
  "language_info": {
   "codemirror_mode": {
    "name": "ipython",
    "version": 3
   },
   "file_extension": ".py",
   "mimetype": "text/x-python",
   "name": "python",
   "nbconvert_exporter": "python",
   "pygments_lexer": "ipython3",
   "version": "3.9.12"
  }
 },
 "nbformat": 4,
 "nbformat_minor": 5
}
