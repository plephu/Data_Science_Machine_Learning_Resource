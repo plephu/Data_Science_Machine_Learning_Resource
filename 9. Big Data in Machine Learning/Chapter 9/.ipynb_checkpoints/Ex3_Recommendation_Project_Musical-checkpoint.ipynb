{
 "cells": [
  {
   "cell_type": "code",
   "execution_count": 1,
   "id": "91be2ecf-f48a-4a45-a0c4-583adb76a03b",
   "metadata": {},
   "outputs": [],
   "source": [
    "import findspark\n",
    "findspark.init()"
   ]
  },
  {
   "cell_type": "code",
   "execution_count": 2,
   "id": "849c2ccf-c92b-4663-9278-605593249949",
   "metadata": {},
   "outputs": [],
   "source": [
    "from pyspark.sql import SparkSession"
   ]
  },
  {
   "cell_type": "code",
   "execution_count": 3,
   "id": "69082e1d-1b71-4a31-a414-4b713b9152b7",
   "metadata": {},
   "outputs": [],
   "source": [
    "spark = SparkSession.builder.appName('Recommendation_system').getOrCreate()"
   ]
  },
  {
   "cell_type": "code",
   "execution_count": 4,
   "id": "3681c466-ffa4-4174-8ebf-e599f308eb55",
   "metadata": {},
   "outputs": [],
   "source": [
    "data = spark.read.json(\"Musical_Instruments_5.json\")"
   ]
  },
  {
   "cell_type": "code",
   "execution_count": 5,
   "id": "7eae3b3f-8e7f-4e83-a568-0a23b27b2438",
   "metadata": {},
   "outputs": [
    {
     "name": "stdout",
     "output_type": "stream",
     "text": [
      "+----------+--------+-------+--------------------+-----------+--------------+--------------------+--------------------+--------------+\n",
      "|      asin| helpful|overall|          reviewText| reviewTime|    reviewerID|        reviewerName|             summary|unixReviewTime|\n",
      "+----------+--------+-------+--------------------+-----------+--------------+--------------------+--------------------+--------------+\n",
      "|1384719342|  [0, 0]|    5.0|Not much to write...|02 28, 2014|A2IBPI20UZIR0U|cassandra tu \"Yea...|                good|    1393545600|\n",
      "|1384719342|[13, 14]|    5.0|The product does ...|03 16, 2013|A14VAT5EAX3D9S|                Jake|                Jake|    1363392000|\n",
      "|1384719342|  [1, 1]|    5.0|The primary job o...|08 28, 2013|A195EZSQDW3E21|Rick Bennette \"Ri...|It Does The Job Well|    1377648000|\n",
      "|1384719342|  [0, 0]|    5.0|Nice windscreen p...|02 14, 2014|A2C00NNG1ZQQG2|RustyBill \"Sunday...|GOOD WINDSCREEN F...|    1392336000|\n",
      "|1384719342|  [0, 0]|    5.0|This pop filter i...|02 21, 2014| A94QU4C90B1AX|       SEAN MASLANKA|No more pops when...|    1392940800|\n",
      "+----------+--------+-------+--------------------+-----------+--------------+--------------------+--------------------+--------------+\n",
      "only showing top 5 rows\n",
      "\n"
     ]
    }
   ],
   "source": [
    "data.show(5,truncate=True)"
   ]
  },
  {
   "cell_type": "code",
   "execution_count": 6,
   "id": "097fa798-a3ee-4f03-a5b4-a7e0007efcf7",
   "metadata": {},
   "outputs": [],
   "source": [
    "data_sub = data.select(['asin', 'overall', 'reviewerID'])"
   ]
  },
  {
   "cell_type": "code",
   "execution_count": 7,
   "id": "1a02bf7e-57bb-4c8a-900c-618e1be75d26",
   "metadata": {},
   "outputs": [
    {
     "data": {
      "text/plain": [
       "10261"
      ]
     },
     "execution_count": 7,
     "metadata": {},
     "output_type": "execute_result"
    }
   ],
   "source": [
    "data_sub.count()"
   ]
  },
  {
   "cell_type": "code",
   "execution_count": 8,
   "id": "ab4a3456-2c04-463c-a4cb-9e45dce71888",
   "metadata": {},
   "outputs": [],
   "source": [
    "from pyspark.sql.functions import col, udf\n",
    "from pyspark.sql.functions import isnan, when, count, col"
   ]
  },
  {
   "cell_type": "code",
   "execution_count": 9,
   "id": "de907d29-b57e-4b96-a8d1-2fa777eda68a",
   "metadata": {},
   "outputs": [
    {
     "name": "stdout",
     "output_type": "stream",
     "text": [
      "+----------+-------+--------------+\n",
      "|      asin|overall|    reviewerID|\n",
      "+----------+-------+--------------+\n",
      "|1384719342|    5.0|A2IBPI20UZIR0U|\n",
      "|1384719342|    5.0|A14VAT5EAX3D9S|\n",
      "|1384719342|    5.0|A195EZSQDW3E21|\n",
      "|1384719342|    5.0|A2C00NNG1ZQQG2|\n",
      "|1384719342|    5.0| A94QU4C90B1AX|\n",
      "+----------+-------+--------------+\n",
      "only showing top 5 rows\n",
      "\n"
     ]
    }
   ],
   "source": [
    "data_sub.show(5, truncate=True)"
   ]
  },
  {
   "cell_type": "code",
   "execution_count": 10,
   "id": "fb51b1e4-e690-4b60-9e54-51d334612e13",
   "metadata": {},
   "outputs": [
    {
     "data": {
      "text/html": [
       "<div>\n",
       "<style scoped>\n",
       "    .dataframe tbody tr th:only-of-type {\n",
       "        vertical-align: middle;\n",
       "    }\n",
       "\n",
       "    .dataframe tbody tr th {\n",
       "        vertical-align: top;\n",
       "    }\n",
       "\n",
       "    .dataframe thead th {\n",
       "        text-align: right;\n",
       "    }\n",
       "</style>\n",
       "<table border=\"1\" class=\"dataframe\">\n",
       "  <thead>\n",
       "    <tr style=\"text-align: right;\">\n",
       "      <th></th>\n",
       "      <th>0</th>\n",
       "    </tr>\n",
       "  </thead>\n",
       "  <tbody>\n",
       "    <tr>\n",
       "      <th>asin</th>\n",
       "      <td>0</td>\n",
       "    </tr>\n",
       "    <tr>\n",
       "      <th>overall</th>\n",
       "      <td>0</td>\n",
       "    </tr>\n",
       "    <tr>\n",
       "      <th>reviewerID</th>\n",
       "      <td>0</td>\n",
       "    </tr>\n",
       "  </tbody>\n",
       "</table>\n",
       "</div>"
      ],
      "text/plain": [
       "            0\n",
       "asin        0\n",
       "overall     0\n",
       "reviewerID  0"
      ]
     },
     "execution_count": 10,
     "metadata": {},
     "output_type": "execute_result"
    }
   ],
   "source": [
    "data_sub.select([count(when(col(c).isNull(), c)).alias(c) for c in data_sub.columns]).toPandas().T"
   ]
  },
  {
   "cell_type": "code",
   "execution_count": 11,
   "id": "4eefefb1-07e8-490a-bb8a-cb4748a00ae0",
   "metadata": {},
   "outputs": [],
   "source": [
    "# Distinct users and movies\n",
    "users = data_sub.select(\"reviewerID\").distinct().count()\n",
    "products = data_sub.select(\"asin\").distinct().count()\n",
    "numerator = data_sub.count()"
   ]
  },
  {
   "cell_type": "code",
   "execution_count": 12,
   "id": "dda74d5f-6cbf-4d68-bb75-db29b1f39e34",
   "metadata": {},
   "outputs": [
    {
     "data": {
      "text/plain": [
       "10261"
      ]
     },
     "metadata": {},
     "output_type": "display_data"
    },
    {
     "data": {
      "text/plain": [
       "1429"
      ]
     },
     "metadata": {},
     "output_type": "display_data"
    },
    {
     "data": {
      "text/plain": [
       "900"
      ]
     },
     "metadata": {},
     "output_type": "display_data"
    }
   ],
   "source": [
    "display(numerator, users, products)"
   ]
  },
  {
   "cell_type": "code",
   "execution_count": 13,
   "id": "0408bdd9-db7a-4d7b-a60c-2ac084a91693",
   "metadata": {},
   "outputs": [
    {
     "data": {
      "text/plain": [
       "1286100"
      ]
     },
     "execution_count": 13,
     "metadata": {},
     "output_type": "execute_result"
    }
   ],
   "source": [
    "# Number of ratings matrix could contain if no empty cells\n",
    "denominator = users * products\n",
    "denominator"
   ]
  },
  {
   "cell_type": "code",
   "execution_count": 14,
   "id": "4e2605db-6141-4341-8856-dbb8d0d996b5",
   "metadata": {},
   "outputs": [
    {
     "name": "stdout",
     "output_type": "stream",
     "text": [
      "Sparsity: \n"
     ]
    },
    {
     "data": {
      "text/plain": [
       "(None, 0.992021615737501)"
      ]
     },
     "execution_count": 14,
     "metadata": {},
     "output_type": "execute_result"
    }
   ],
   "source": [
    "#Calculating sparsity\n",
    "sparsity = 1 - (numerator*1.0 / denominator)\n",
    "print (\"Sparsity: \"), sparsity"
   ]
  },
  {
   "cell_type": "code",
   "execution_count": 15,
   "id": "0fda313e-4a4b-4200-b161-c427cb95c937",
   "metadata": {},
   "outputs": [],
   "source": [
    "from pyspark.ml.evaluation import RegressionEvaluator\n",
    "from pyspark.ml.recommendation import ALS"
   ]
  },
  {
   "cell_type": "code",
   "execution_count": 16,
   "id": "1001884e-6adb-48de-b88a-4839eb2f9ae7",
   "metadata": {},
   "outputs": [],
   "source": [
    "# Converting String to index\n",
    "from pyspark.ml.feature import StringIndexer\n",
    "from pyspark.ml import Pipeline\n",
    "from pyspark.sql.functions import col\n"
   ]
  },
  {
   "cell_type": "code",
   "execution_count": 17,
   "id": "2eba3e60-1c72-4633-ab43-8dc0aad0c0a8",
   "metadata": {},
   "outputs": [],
   "source": [
    "# Create an indexer\n",
    "indexer = StringIndexer(inputCol='asin',  outputCol='asin_idx')\n",
    "# Indexer identifies categories in the data\n",
    "indexer_model = indexer.fit(data_sub)\n",
    "# Indexer creates a new column with numeric index values\n",
    "data_indexed = indexer_model.transform(data_sub)\n",
    "# Repeat the process for the other categorical feature\n",
    "indexer1 = StringIndexer(inputCol='reviewerID', outputCol='reviewerID_idx')\n",
    "indexer1_model = indexer1.fit(data_indexed)\n",
    "data_indexed = indexer1_model.transform(data_indexed)"
   ]
  },
  {
   "cell_type": "code",
   "execution_count": 18,
   "id": "c773579e-b115-4ebe-a6cf-edb76f3be2cd",
   "metadata": {},
   "outputs": [
    {
     "name": "stdout",
     "output_type": "stream",
     "text": [
      "+----------+-------+--------------+--------+--------------+\n",
      "|      asin|overall|    reviewerID|asin_idx|reviewerID_idx|\n",
      "+----------+-------+--------------+--------+--------------+\n",
      "|1384719342|    5.0|A2IBPI20UZIR0U|   703.0|          66.0|\n",
      "|1384719342|    5.0|A14VAT5EAX3D9S|   703.0|         266.0|\n",
      "|1384719342|    5.0|A195EZSQDW3E21|   703.0|         395.0|\n",
      "|1384719342|    5.0|A2C00NNG1ZQQG2|   703.0|        1048.0|\n",
      "|1384719342|    5.0| A94QU4C90B1AX|   703.0|        1311.0|\n",
      "+----------+-------+--------------+--------+--------------+\n",
      "only showing top 5 rows\n",
      "\n"
     ]
    }
   ],
   "source": [
    "data_indexed.show(5, truncate=True)"
   ]
  },
  {
   "cell_type": "code",
   "execution_count": 1,
   "id": "a3d528c3-6aa4-489f-8fbf-8096642b013a",
   "metadata": {},
   "outputs": [
    {
     "ename": "NameError",
     "evalue": "name 'data_indexed' is not defined",
     "output_type": "error",
     "traceback": [
      "\u001b[1;31m---------------------------------------------------------------------------\u001b[0m",
      "\u001b[1;31mNameError\u001b[0m                                 Traceback (most recent call last)",
      "Cell \u001b[1;32mIn[1], line 1\u001b[0m\n\u001b[1;32m----> 1\u001b[0m \u001b[43mdata_indexed\u001b[49m\u001b[38;5;241m.\u001b[39mselect([count(when(col(c)\u001b[38;5;241m.\u001b[39misNull(), c))\u001b[38;5;241m.\u001b[39malias(c) \u001b[38;5;28;01mfor\u001b[39;00m c \u001b[38;5;129;01min\u001b[39;00m data_indexed\u001b[38;5;241m.\u001b[39mcolumns])\u001b[38;5;241m.\u001b[39mtoPandas()\u001b[38;5;241m.\u001b[39mT\n",
      "\u001b[1;31mNameError\u001b[0m: name 'data_indexed' is not defined"
     ]
    }
   ],
   "source": [
    "data_indexed.select([count(when(col(c).isNull(), c)).alias(c) for c in data_indexed.columns]).toPandas().T"
   ]
  },
  {
   "cell_type": "code",
   "execution_count": 20,
   "id": "76bdf6a5-5ad3-47af-8acc-27317258b37e",
   "metadata": {},
   "outputs": [],
   "source": [
    "# Smaller dataset so we will use 0.8 / 0.2\n",
    "(training, test) = data_indexed.randomSplit([0.8, 0.2])"
   ]
  },
  {
   "cell_type": "code",
   "execution_count": 21,
   "id": "05fb30f0-936c-4333-8285-48967c5618c9",
   "metadata": {},
   "outputs": [],
   "source": [
    "# Creating ALS model and fitting data\n",
    "from pyspark.ml.evaluation import RegressionEvaluator\n",
    "from pyspark.ml.recommendation import ALS"
   ]
  },
  {
   "cell_type": "code",
   "execution_count": 22,
   "id": "cd8c60e0-94d5-4618-a2c5-5edb77a5177f",
   "metadata": {},
   "outputs": [],
   "source": [
    "als = ALS(maxIter=5, \n",
    "          regParam=0.09, \n",
    "          rank = 25,\n",
    "          userCol=\"reviewerID_idx\", \n",
    "          itemCol=\"asin_idx\", \n",
    "          ratingCol=\"overall\", \n",
    "          coldStartStrategy=\"drop\",\n",
    "          nonnegative=True)\n",
    "model = als.fit(training)"
   ]
  },
  {
   "cell_type": "code",
   "execution_count": 23,
   "id": "377021e1-2f8c-42e4-b89b-56e057a4ff08",
   "metadata": {},
   "outputs": [],
   "source": [
    "# Evaluate the model by computing the RMSE on the test data\n",
    "predictions = model.transform(test)"
   ]
  },
  {
   "cell_type": "code",
   "execution_count": 24,
   "id": "250c09d3-3a5b-4731-b5d7-3fd96a6772ca",
   "metadata": {},
   "outputs": [
    {
     "name": "stdout",
     "output_type": "stream",
     "text": [
      "+--------+--------------+-------+----------+\n",
      "|asin_idx|reviewerID_idx|overall|prediction|\n",
      "+--------+--------------+-------+----------+\n",
      "|     5.0|        1342.0|    3.0| 3.5549736|\n",
      "|   240.0|         833.0|    3.0|  2.816957|\n",
      "|   150.0|        1238.0|    2.0| 3.9330509|\n",
      "|   163.0|         243.0|    5.0| 2.9854965|\n",
      "|    26.0|         737.0|    5.0| 3.5600555|\n",
      "+--------+--------------+-------+----------+\n",
      "only showing top 5 rows\n",
      "\n"
     ]
    }
   ],
   "source": [
    "predictions.select([\"asin_idx\", \"reviewerID_idx\", \n",
    "                    \"overall\", \"prediction\"]).show(5)"
   ]
  },
  {
   "cell_type": "code",
   "execution_count": 25,
   "id": "afac84b7-8596-44bb-9ea1-b982bc1da94d",
   "metadata": {},
   "outputs": [
    {
     "name": "stdout",
     "output_type": "stream",
     "text": [
      "Root-mean-square error = 1.211863230464196\n"
     ]
    }
   ],
   "source": [
    "evaluator = RegressionEvaluator(metricName=\"rmse\", \n",
    "                                labelCol=\"overall\",\n",
    "                                predictionCol=\"prediction\")\n",
    "rmse = evaluator.evaluate(predictions)\n",
    "print(\"Root-mean-square error = \" + str(rmse))"
   ]
  },
  {
   "cell_type": "code",
   "execution_count": 26,
   "id": "77dbdd69-dfc8-48a2-98d1-f818831991c1",
   "metadata": {},
   "outputs": [],
   "source": [
    "# On average, this model is ~ 1.2 from perfect recommendations."
   ]
  },
  {
   "cell_type": "markdown",
   "id": "60a1636c-9dd9-4e7f-99bf-37b94425df5c",
   "metadata": {},
   "source": [
    "### Providing Recommendations: for all users"
   ]
  },
  {
   "cell_type": "code",
   "execution_count": 27,
   "id": "8921f979-fdb8-4fcb-a484-a012b9b14a1c",
   "metadata": {},
   "outputs": [],
   "source": [
    "# get 20 recommendations which have highest rating.\n",
    "user_recs = model.recommendForAllUsers(20)"
   ]
  },
  {
   "cell_type": "code",
   "execution_count": 28,
   "id": "d5202fa4-4ba6-4ad8-be8a-5bd652a60a09",
   "metadata": {},
   "outputs": [
    {
     "name": "stdout",
     "output_type": "stream",
     "text": [
      "Row(reviewerID_idx=12, recommendations=[Row(asin_idx=782, rating=6.236773490905762), Row(asin_idx=829, rating=6.1638102531433105), Row(asin_idx=781, rating=6.152835369110107), Row(asin_idx=460, rating=6.149811267852783), Row(asin_idx=733, rating=6.086832523345947), Row(asin_idx=873, rating=6.0139384269714355), Row(asin_idx=474, rating=5.946422100067139), Row(asin_idx=753, rating=5.920098304748535), Row(asin_idx=857, rating=5.899792671203613), Row(asin_idx=868, rating=5.897313117980957), Row(asin_idx=515, rating=5.887059211730957), Row(asin_idx=802, rating=5.878513813018799), Row(asin_idx=784, rating=5.859480857849121), Row(asin_idx=335, rating=5.848679065704346), Row(asin_idx=339, rating=5.843853950500488), Row(asin_idx=803, rating=5.827096939086914), Row(asin_idx=887, rating=5.825804233551025), Row(asin_idx=809, rating=5.824015140533447), Row(asin_idx=811, rating=5.810795307159424), Row(asin_idx=769, rating=5.809715270996094)])\n",
      "\n",
      "\n",
      "Row(reviewerID_idx=22, recommendations=[Row(asin_idx=782, rating=5.264641284942627), Row(asin_idx=802, rating=5.162947177886963), Row(asin_idx=829, rating=5.108713626861572), Row(asin_idx=460, rating=5.094455718994141), Row(asin_idx=534, rating=5.051573753356934), Row(asin_idx=769, rating=5.0249223709106445), Row(asin_idx=339, rating=5.017756462097168), Row(asin_idx=873, rating=5.006148338317871), Row(asin_idx=579, rating=4.977643966674805), Row(asin_idx=506, rating=4.90966796875), Row(asin_idx=539, rating=4.896657466888428), Row(asin_idx=515, rating=4.882524013519287), Row(asin_idx=459, rating=4.873566150665283), Row(asin_idx=278, rating=4.820889949798584), Row(asin_idx=335, rating=4.793287754058838), Row(asin_idx=472, rating=4.789970874786377), Row(asin_idx=125, rating=4.789335250854492), Row(asin_idx=547, rating=4.7780561447143555), Row(asin_idx=496, rating=4.7731709480285645), Row(asin_idx=857, rating=4.768346786499023)])\n",
      "\n",
      "\n",
      "Row(reviewerID_idx=26, recommendations=[Row(asin_idx=829, rating=6.122455596923828), Row(asin_idx=891, rating=5.936127662658691), Row(asin_idx=401, rating=5.675407886505127), Row(asin_idx=802, rating=5.561427593231201), Row(asin_idx=347, rating=5.538828372955322), Row(asin_idx=636, rating=5.528571128845215), Row(asin_idx=160, rating=5.451582908630371), Row(asin_idx=485, rating=5.445151329040527), Row(asin_idx=769, rating=5.421200752258301), Row(asin_idx=278, rating=5.416200637817383), Row(asin_idx=870, rating=5.414515972137451), Row(asin_idx=579, rating=5.400712966918945), Row(asin_idx=887, rating=5.3777546882629395), Row(asin_idx=873, rating=5.374496936798096), Row(asin_idx=320, rating=5.368490695953369), Row(asin_idx=534, rating=5.365424156188965), Row(asin_idx=460, rating=5.3650102615356445), Row(asin_idx=840, rating=5.361234664916992), Row(asin_idx=430, rating=5.360980987548828), Row(asin_idx=125, rating=5.354709625244141)])\n",
      "\n",
      "\n",
      "Row(reviewerID_idx=27, recommendations=[Row(asin_idx=887, rating=6.2598161697387695), Row(asin_idx=460, rating=6.19858980178833), Row(asin_idx=782, rating=6.012758255004883), Row(asin_idx=579, rating=5.831036567687988), Row(asin_idx=769, rating=5.807022571563721), Row(asin_idx=338, rating=5.797385215759277), Row(asin_idx=802, rating=5.791619777679443), Row(asin_idx=401, rating=5.750469207763672), Row(asin_idx=347, rating=5.743956565856934), Row(asin_idx=490, rating=5.687076568603516), Row(asin_idx=515, rating=5.649958610534668), Row(asin_idx=320, rating=5.649110794067383), Row(asin_idx=459, rating=5.60747766494751), Row(asin_idx=829, rating=5.589173316955566), Row(asin_idx=891, rating=5.581290245056152), Row(asin_idx=868, rating=5.581152439117432), Row(asin_idx=650, rating=5.57500696182251), Row(asin_idx=857, rating=5.561030387878418), Row(asin_idx=113, rating=5.558067321777344), Row(asin_idx=894, rating=5.5512375831604)])\n",
      "\n",
      "\n",
      "Row(reviewerID_idx=28, recommendations=[Row(asin_idx=782, rating=6.566144943237305), Row(asin_idx=802, rating=6.4799981117248535), Row(asin_idx=769, rating=6.434309959411621), Row(asin_idx=460, rating=6.326418399810791), Row(asin_idx=887, rating=6.275945663452148), Row(asin_idx=347, rating=6.275907039642334), Row(asin_idx=327, rating=6.258239269256592), Row(asin_idx=278, rating=6.227602005004883), Row(asin_idx=550, rating=6.221123695373535), Row(asin_idx=857, rating=6.2133870124816895), Row(asin_idx=534, rating=6.2002387046813965), Row(asin_idx=829, rating=6.15675163269043), Row(asin_idx=868, rating=6.142647743225098), Row(asin_idx=870, rating=6.138301849365234), Row(asin_idx=357, rating=6.134066104888916), Row(asin_idx=708, rating=6.1203532218933105), Row(asin_idx=496, rating=6.104994773864746), Row(asin_idx=579, rating=6.098684310913086), Row(asin_idx=421, rating=6.086214542388916), Row(asin_idx=803, rating=6.085393905639648)])\n",
      "\n",
      "\n"
     ]
    }
   ],
   "source": [
    "for user in user_recs.head(5):\n",
    "    print(user)\n",
    "    print(\"\\n\")"
   ]
  },
  {
   "cell_type": "markdown",
   "id": "869bd459-7bad-48af-b2aa-f6870ff324bd",
   "metadata": {},
   "source": [
    "### Converting back to string form\n"
   ]
  },
  {
   "cell_type": "code",
   "execution_count": 29,
   "id": "07df7ed6-7833-4fca-a75e-c129e8dfd460",
   "metadata": {},
   "outputs": [],
   "source": [
    "import pandas as pd\n",
    "recs=model.recommendForAllUsers(10).toPandas()\n",
    "nrecs=recs.recommendations.apply(pd.Series) \\\n",
    " .merge(recs, right_index = True, left_index = True) \\\n",
    " .drop([\"recommendations\"], axis = 1) \\\n",
    " .melt(id_vars = ['reviewerID_idx'], value_name = \"recommendation\") \\\n",
    " .drop(\"variable\", axis = 1) \\\n",
    " .dropna() \n",
    "nrecs=nrecs.sort_values('reviewerID_idx')\n",
    "nrecs=pd.concat([nrecs['recommendation'].apply(pd.Series), \n",
    " nrecs['reviewerID_idx']], axis = 1)\n",
    "nrecs.columns = [ \n",
    " 'ProductID_index',\n",
    " 'Rating',\n",
    " 'UserID_index' \n",
    " ]"
   ]
  },
  {
   "cell_type": "code",
   "execution_count": 39,
   "id": "e42f21ff-408b-456b-8c5a-9f998dbddee6",
   "metadata": {},
   "outputs": [
    {
     "name": "stderr",
     "output_type": "stream",
     "text": [
      "C:\\Users\\AW\\AppData\\Local\\Temp\\ipykernel_67368\\2091850030.py:10: SettingWithCopyWarning: \n",
      "A value is trying to be set on a copy of a slice from a DataFrame.\n",
      "Try using .loc[row_indexer,col_indexer] = value instead\n",
      "\n",
      "See the caveats in the documentation: https://pandas.pydata.org/pandas-docs/stable/user_guide/indexing.html#returning-a-view-versus-a-copy\n",
      "  new['recommendations'] = list(zip(new.asin, new.Rating))\n"
     ]
    }
   ],
   "source": [
    "md=data_indexed.select(['reviewerID', 'reviewerID_idx', 'asin', 'asin_idx'])\n",
    "md=md.toPandas()\n",
    "dict1=dict(zip(md['reviewerID_idx'],md['reviewerID']))\n",
    "dict2=dict(zip(md['asin_idx'],md['asin']))\n",
    "nrecs['reviewerID']=nrecs['UserID_index'].map(dict1)\n",
    "nrecs['asin']=nrecs['ProductID_index'].map(dict2)\n",
    "nrecs=nrecs.sort_values('reviewerID')\n",
    "nrecs.reset_index(drop=True, inplace=True)\n",
    "new=nrecs[['reviewerID','asin','Rating']]\n",
    "new['recommendations'] = list(zip(new.asin, new.Rating))\n",
    "res=new[['reviewerID','recommendations']] \n",
    "res_new=res['recommendations'].groupby([res.reviewerID]).apply(list).reset_index()"
   ]
  },
  {
   "cell_type": "code",
   "execution_count": 40,
   "id": "e72777c6-6496-41b4-a9c1-dbeab1d00f3f",
   "metadata": {},
   "outputs": [
    {
     "data": {
      "text/html": [
       "<div>\n",
       "<style scoped>\n",
       "    .dataframe tbody tr th:only-of-type {\n",
       "        vertical-align: middle;\n",
       "    }\n",
       "\n",
       "    .dataframe tbody tr th {\n",
       "        vertical-align: top;\n",
       "    }\n",
       "\n",
       "    .dataframe thead th {\n",
       "        text-align: right;\n",
       "    }\n",
       "</style>\n",
       "<table border=\"1\" class=\"dataframe\">\n",
       "  <thead>\n",
       "    <tr style=\"text-align: right;\">\n",
       "      <th></th>\n",
       "      <th>reviewerID</th>\n",
       "      <th>recommendations</th>\n",
       "    </tr>\n",
       "  </thead>\n",
       "  <tbody>\n",
       "    <tr>\n",
       "      <th>0</th>\n",
       "      <td>A00625243BI8W1SSZNLMD</td>\n",
       "      <td>[(B0002FO9QY, 5.649819850921631), (B0002CZVHI,...</td>\n",
       "    </tr>\n",
       "    <tr>\n",
       "      <th>1</th>\n",
       "      <td>A10044ECXDUVKS</td>\n",
       "      <td>[(B0007OGTGS, 4.8666911125183105), (B00AHEWBM4...</td>\n",
       "    </tr>\n",
       "    <tr>\n",
       "      <th>2</th>\n",
       "      <td>A102MU6ZC9H1N6</td>\n",
       "      <td>[(B0038MTH8S, 6.159424781799316), (B001D2TPZU,...</td>\n",
       "    </tr>\n",
       "    <tr>\n",
       "      <th>3</th>\n",
       "      <td>A109JTUZXO61UY</td>\n",
       "      <td>[(B000SZVYLQ, 6.314543724060059), (B001CJ2QZU,...</td>\n",
       "    </tr>\n",
       "    <tr>\n",
       "      <th>4</th>\n",
       "      <td>A109ME7C09HM2M</td>\n",
       "      <td>[(B005M0KLGQ, 5.952049255371094), (B0038MTH8S,...</td>\n",
       "    </tr>\n",
       "    <tr>\n",
       "      <th>...</th>\n",
       "      <td>...</td>\n",
       "      <td>...</td>\n",
       "    </tr>\n",
       "    <tr>\n",
       "      <th>1424</th>\n",
       "      <td>AZJPNK73JF3XP</td>\n",
       "      <td>[(B002UXS4JO, 5.936407089233398), (B0007NQH98,...</td>\n",
       "    </tr>\n",
       "    <tr>\n",
       "      <th>1425</th>\n",
       "      <td>AZMHABTPXVLG3</td>\n",
       "      <td>[(B0002E1OVS, 3.9475741386413574), (B0002M3OVI...</td>\n",
       "    </tr>\n",
       "    <tr>\n",
       "      <th>1426</th>\n",
       "      <td>AZMIKIG4BB6BZ</td>\n",
       "      <td>[(B000CD3QY2, 5.890352725982666), (B000S5V510,...</td>\n",
       "    </tr>\n",
       "    <tr>\n",
       "      <th>1427</th>\n",
       "      <td>AZPDO6FLSMLFP</td>\n",
       "      <td>[(B0002FO9QY, 5.378147125244141), (B0002M3OVI,...</td>\n",
       "    </tr>\n",
       "    <tr>\n",
       "      <th>1428</th>\n",
       "      <td>AZVME8JMPD3F4</td>\n",
       "      <td>[(B0008G26JO, 4.4881367683410645), (B00AHEWBM4...</td>\n",
       "    </tr>\n",
       "  </tbody>\n",
       "</table>\n",
       "<p>1429 rows × 2 columns</p>\n",
       "</div>"
      ],
      "text/plain": [
       "                 reviewerID                                    recommendations\n",
       "0     A00625243BI8W1SSZNLMD  [(B0002FO9QY, 5.649819850921631), (B0002CZVHI,...\n",
       "1            A10044ECXDUVKS  [(B0007OGTGS, 4.8666911125183105), (B00AHEWBM4...\n",
       "2            A102MU6ZC9H1N6  [(B0038MTH8S, 6.159424781799316), (B001D2TPZU,...\n",
       "3            A109JTUZXO61UY  [(B000SZVYLQ, 6.314543724060059), (B001CJ2QZU,...\n",
       "4            A109ME7C09HM2M  [(B005M0KLGQ, 5.952049255371094), (B0038MTH8S,...\n",
       "...                     ...                                                ...\n",
       "1424          AZJPNK73JF3XP  [(B002UXS4JO, 5.936407089233398), (B0007NQH98,...\n",
       "1425          AZMHABTPXVLG3  [(B0002E1OVS, 3.9475741386413574), (B0002M3OVI...\n",
       "1426          AZMIKIG4BB6BZ  [(B000CD3QY2, 5.890352725982666), (B000S5V510,...\n",
       "1427          AZPDO6FLSMLFP  [(B0002FO9QY, 5.378147125244141), (B0002M3OVI,...\n",
       "1428          AZVME8JMPD3F4  [(B0008G26JO, 4.4881367683410645), (B00AHEWBM4...\n",
       "\n",
       "[1429 rows x 2 columns]"
      ]
     },
     "execution_count": 40,
     "metadata": {},
     "output_type": "execute_result"
    }
   ],
   "source": [
    "res_new"
   ]
  },
  {
   "cell_type": "code",
   "execution_count": null,
   "id": "978e2ba4-0ae4-4829-bf6f-641f11c74793",
   "metadata": {},
   "outputs": [],
   "source": []
  },
  {
   "cell_type": "code",
   "execution_count": null,
   "id": "0102cbfc-6a86-4a29-82ed-ec044d00302e",
   "metadata": {},
   "outputs": [],
   "source": []
  },
  {
   "cell_type": "code",
   "execution_count": null,
   "id": "b8329c69-920f-4906-bd0b-350c1594c7e9",
   "metadata": {},
   "outputs": [],
   "source": []
  }
 ],
 "metadata": {
  "kernelspec": {
   "display_name": "Python 3 (ipykernel)",
   "language": "python",
   "name": "python3"
  },
  "language_info": {
   "codemirror_mode": {
    "name": "ipython",
    "version": 3
   },
   "file_extension": ".py",
   "mimetype": "text/x-python",
   "name": "python",
   "nbconvert_exporter": "python",
   "pygments_lexer": "ipython3",
   "version": "3.9.12"
  }
 },
 "nbformat": 4,
 "nbformat_minor": 5
}
