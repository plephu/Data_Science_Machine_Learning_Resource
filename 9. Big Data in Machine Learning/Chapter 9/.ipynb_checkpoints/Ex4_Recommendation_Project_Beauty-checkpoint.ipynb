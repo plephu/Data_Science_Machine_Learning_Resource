{
 "cells": [
  {
   "cell_type": "code",
   "execution_count": 1,
   "id": "4c2905db-6299-4fe8-bf0c-88824c36c8b3",
   "metadata": {},
   "outputs": [],
   "source": [
    "import findspark\n",
    "findspark.init()\n"
   ]
  },
  {
   "cell_type": "code",
   "execution_count": 2,
   "id": "99bdbe06-9cea-48af-b18d-9deffdcdab69",
   "metadata": {},
   "outputs": [],
   "source": [
    "from pyspark.sql import SparkSession"
   ]
  },
  {
   "cell_type": "code",
   "execution_count": 3,
   "id": "2384d117-896e-4f3c-8c7b-e4439ea522a8",
   "metadata": {},
   "outputs": [],
   "source": [
    "spark = SparkSession.builder.appName('Recommendation_Beauty').getOrCreate()"
   ]
  },
  {
   "cell_type": "code",
   "execution_count": 4,
   "id": "c6702948-5135-4d81-9015-d9b545730772",
   "metadata": {},
   "outputs": [],
   "source": [
    "data = spark.read.json(\"Beauty_5.json\")"
   ]
  },
  {
   "cell_type": "code",
   "execution_count": 5,
   "id": "5b2e82b4-02f0-49e8-b261-5450313a3b24",
   "metadata": {},
   "outputs": [
    {
     "name": "stdout",
     "output_type": "stream",
     "text": [
      "+----------+-------+-------+--------------------+-----------+--------------+------------+--------------------+--------------+\n",
      "|      asin|helpful|overall|          reviewText| reviewTime|    reviewerID|reviewerName|             summary|unixReviewTime|\n",
      "+----------+-------+-------+--------------------+-----------+--------------+------------+--------------------+--------------+\n",
      "|7806397051| [3, 4]|    1.0|Very oily and cre...|01 30, 2014|A1YJEY40YUW4SE|      Andrea|Don't waste your ...|    1391040000|\n",
      "|7806397051| [1, 1]|    3.0|This palette was ...|04 18, 2014| A60XNB876KYML|  Jessica H.|         OK Palette!|    1397779200|\n",
      "|7806397051| [0, 1]|    4.0|The texture of th...| 09 6, 2013|A3G6XNM240RMWA|       Karen|       great quality|    1378425600|\n",
      "|7806397051| [2, 2]|    2.0|I really can't te...| 12 8, 2013|A1PQFP6SAJ6D80|       Norah|Do not work on my...|    1386460800|\n",
      "|7806397051| [0, 0]|    3.0|It was a little s...|10 19, 2013|A38FVHZTNQ271F|   Nova Amor|          It's okay.|    1382140800|\n",
      "+----------+-------+-------+--------------------+-----------+--------------+------------+--------------------+--------------+\n",
      "only showing top 5 rows\n",
      "\n"
     ]
    }
   ],
   "source": [
    "data.show(5,truncate=True)"
   ]
  },
  {
   "cell_type": "code",
   "execution_count": 6,
   "id": "8647fdeb-7ccb-4f3e-9a1d-03361a96e298",
   "metadata": {},
   "outputs": [],
   "source": [
    "data_sub = data.select(['asin', 'overall', 'reviewerID'])"
   ]
  },
  {
   "cell_type": "code",
   "execution_count": 7,
   "id": "14242afe-7649-48f7-a20c-9b04dbe7ff40",
   "metadata": {},
   "outputs": [
    {
     "data": {
      "text/plain": [
       "198502"
      ]
     },
     "execution_count": 7,
     "metadata": {},
     "output_type": "execute_result"
    }
   ],
   "source": [
    "data_sub.count()"
   ]
  },
  {
   "cell_type": "code",
   "execution_count": 8,
   "id": "d83e188a-eacd-447a-994b-4a8ad4a146c7",
   "metadata": {},
   "outputs": [],
   "source": [
    "from pyspark.sql.functions import col, udf\n",
    "from pyspark.sql.functions import isnan, when, count, col"
   ]
  },
  {
   "cell_type": "code",
   "execution_count": 9,
   "id": "27c5d170-5134-4278-ba84-df467d12b394",
   "metadata": {},
   "outputs": [
    {
     "name": "stdout",
     "output_type": "stream",
     "text": [
      "+----------+-------+--------------+\n",
      "|      asin|overall|    reviewerID|\n",
      "+----------+-------+--------------+\n",
      "|7806397051|    1.0|A1YJEY40YUW4SE|\n",
      "|7806397051|    3.0| A60XNB876KYML|\n",
      "|7806397051|    4.0|A3G6XNM240RMWA|\n",
      "|7806397051|    2.0|A1PQFP6SAJ6D80|\n",
      "|7806397051|    3.0|A38FVHZTNQ271F|\n",
      "+----------+-------+--------------+\n",
      "only showing top 5 rows\n",
      "\n"
     ]
    }
   ],
   "source": [
    "data_sub.show(5, truncate=True)"
   ]
  },
  {
   "cell_type": "code",
   "execution_count": 10,
   "id": "a5f292d2-6174-4ec3-9e23-e3f3f004ef36",
   "metadata": {},
   "outputs": [
    {
     "data": {
      "text/html": [
       "<div>\n",
       "<style scoped>\n",
       "    .dataframe tbody tr th:only-of-type {\n",
       "        vertical-align: middle;\n",
       "    }\n",
       "\n",
       "    .dataframe tbody tr th {\n",
       "        vertical-align: top;\n",
       "    }\n",
       "\n",
       "    .dataframe thead th {\n",
       "        text-align: right;\n",
       "    }\n",
       "</style>\n",
       "<table border=\"1\" class=\"dataframe\">\n",
       "  <thead>\n",
       "    <tr style=\"text-align: right;\">\n",
       "      <th></th>\n",
       "      <th>0</th>\n",
       "    </tr>\n",
       "  </thead>\n",
       "  <tbody>\n",
       "    <tr>\n",
       "      <th>asin</th>\n",
       "      <td>0</td>\n",
       "    </tr>\n",
       "    <tr>\n",
       "      <th>overall</th>\n",
       "      <td>0</td>\n",
       "    </tr>\n",
       "    <tr>\n",
       "      <th>reviewerID</th>\n",
       "      <td>0</td>\n",
       "    </tr>\n",
       "  </tbody>\n",
       "</table>\n",
       "</div>"
      ],
      "text/plain": [
       "            0\n",
       "asin        0\n",
       "overall     0\n",
       "reviewerID  0"
      ]
     },
     "execution_count": 10,
     "metadata": {},
     "output_type": "execute_result"
    }
   ],
   "source": [
    "data_sub.select([count(when(col(c).isNull(), c)).alias(c) for c in\n",
    "                 data_sub.columns]).toPandas().T"
   ]
  },
  {
   "cell_type": "code",
   "execution_count": 11,
   "id": "5834c765-ef37-489f-9f17-c8441a63f6de",
   "metadata": {},
   "outputs": [],
   "source": [
    "# Distinct users and movies\n",
    "users = data_sub.select(\"reviewerID\").distinct().count()\n",
    "products = data_sub.select(\"asin\").distinct().count()\n",
    "numerator = data_sub.count()"
   ]
  },
  {
   "cell_type": "code",
   "execution_count": 12,
   "id": "e981f0a1-a0bb-4fd5-816f-1fe84312baad",
   "metadata": {},
   "outputs": [
    {
     "data": {
      "text/plain": [
       "198502"
      ]
     },
     "metadata": {},
     "output_type": "display_data"
    },
    {
     "data": {
      "text/plain": [
       "22363"
      ]
     },
     "metadata": {},
     "output_type": "display_data"
    },
    {
     "data": {
      "text/plain": [
       "12101"
      ]
     },
     "metadata": {},
     "output_type": "display_data"
    }
   ],
   "source": [
    "display(numerator, users, products)"
   ]
  },
  {
   "cell_type": "code",
   "execution_count": 13,
   "id": "f57645d5-6176-4191-8ef4-67206dacdcae",
   "metadata": {},
   "outputs": [
    {
     "data": {
      "text/plain": [
       "270614663"
      ]
     },
     "execution_count": 13,
     "metadata": {},
     "output_type": "execute_result"
    }
   ],
   "source": [
    "# Number of ratings matrix could contain if no empty cells\n",
    "denominator = users * products\n",
    "denominator"
   ]
  },
  {
   "cell_type": "code",
   "execution_count": 14,
   "id": "7d9e753c-c193-42ea-b7f4-4984374036a2",
   "metadata": {},
   "outputs": [
    {
     "name": "stdout",
     "output_type": "stream",
     "text": [
      "Sparsity: \n"
     ]
    },
    {
     "data": {
      "text/plain": [
       "(None, 0.9992664772935825)"
      ]
     },
     "execution_count": 14,
     "metadata": {},
     "output_type": "execute_result"
    }
   ],
   "source": [
    "#Calculating sparsity\n",
    "sparsity = 1 - (numerator*1.0 / denominator)\n",
    "print (\"Sparsity: \"), sparsity"
   ]
  },
  {
   "cell_type": "code",
   "execution_count": 15,
   "id": "2fbd214b-6c40-49d8-ab50-bc41436316b3",
   "metadata": {},
   "outputs": [],
   "source": [
    "from pyspark.ml.evaluation import RegressionEvaluator\n",
    "from pyspark.ml.recommendation import ALS"
   ]
  },
  {
   "cell_type": "code",
   "execution_count": 16,
   "id": "3ff888f2-3330-49a4-a101-915e0fd7e5da",
   "metadata": {},
   "outputs": [],
   "source": [
    "# Converting String to index\n",
    "from pyspark.ml.feature import StringIndexer\n",
    "from pyspark.ml import Pipeline\n",
    "from pyspark.sql.functions import col"
   ]
  },
  {
   "cell_type": "code",
   "execution_count": 17,
   "id": "49c03ee5-7bc7-4793-b716-af05d251e65e",
   "metadata": {},
   "outputs": [],
   "source": [
    "# Create an indexer\n",
    "indexer = StringIndexer(inputCol='asin', \n",
    " outputCol='asin_idx')\n",
    "# Indexer identifies categories in the data\n",
    "indexer_model = indexer.fit(data_sub)\n",
    "# Indexer creates a new column with numeric index values\n",
    "data_indexed = indexer_model.transform(data_sub)\n",
    "# Repeat the process for the other categorical feature\n",
    "indexer1 = StringIndexer(inputCol='reviewerID', \n",
    " outputCol='reviewerID_idx')\n",
    "indexer1_model = indexer1.fit(data_indexed)\n",
    "data_indexed = indexer1_model.transform(data_indexed)"
   ]
  },
  {
   "cell_type": "code",
   "execution_count": 18,
   "id": "71115974-249d-42ae-a354-263e3821ab0d",
   "metadata": {},
   "outputs": [
    {
     "name": "stdout",
     "output_type": "stream",
     "text": [
      "+----------+-------+--------------+--------+--------------+\n",
      "|      asin|overall|    reviewerID|asin_idx|reviewerID_idx|\n",
      "+----------+-------+--------------+--------+--------------+\n",
      "|7806397051|    1.0|A1YJEY40YUW4SE|  6194.0|       16983.0|\n",
      "|7806397051|    3.0| A60XNB876KYML|  6194.0|       10399.0|\n",
      "|7806397051|    4.0|A3G6XNM240RMWA|  6194.0|        5985.0|\n",
      "|7806397051|    2.0|A1PQFP6SAJ6D80|  6194.0|       11765.0|\n",
      "|7806397051|    3.0|A38FVHZTNQ271F|  6194.0|        5910.0|\n",
      "+----------+-------+--------------+--------+--------------+\n",
      "only showing top 5 rows\n",
      "\n"
     ]
    }
   ],
   "source": [
    "data_indexed.show(5, truncate=True)"
   ]
  },
  {
   "cell_type": "code",
   "execution_count": 19,
   "id": "d3f0e02e-cc46-4668-a999-020be44f0807",
   "metadata": {},
   "outputs": [
    {
     "data": {
      "text/html": [
       "<div>\n",
       "<style scoped>\n",
       "    .dataframe tbody tr th:only-of-type {\n",
       "        vertical-align: middle;\n",
       "    }\n",
       "\n",
       "    .dataframe tbody tr th {\n",
       "        vertical-align: top;\n",
       "    }\n",
       "\n",
       "    .dataframe thead th {\n",
       "        text-align: right;\n",
       "    }\n",
       "</style>\n",
       "<table border=\"1\" class=\"dataframe\">\n",
       "  <thead>\n",
       "    <tr style=\"text-align: right;\">\n",
       "      <th></th>\n",
       "      <th>0</th>\n",
       "    </tr>\n",
       "  </thead>\n",
       "  <tbody>\n",
       "    <tr>\n",
       "      <th>asin</th>\n",
       "      <td>0</td>\n",
       "    </tr>\n",
       "    <tr>\n",
       "      <th>overall</th>\n",
       "      <td>0</td>\n",
       "    </tr>\n",
       "    <tr>\n",
       "      <th>reviewerID</th>\n",
       "      <td>0</td>\n",
       "    </tr>\n",
       "    <tr>\n",
       "      <th>asin_idx</th>\n",
       "      <td>0</td>\n",
       "    </tr>\n",
       "    <tr>\n",
       "      <th>reviewerID_idx</th>\n",
       "      <td>0</td>\n",
       "    </tr>\n",
       "  </tbody>\n",
       "</table>\n",
       "</div>"
      ],
      "text/plain": [
       "                0\n",
       "asin            0\n",
       "overall         0\n",
       "reviewerID      0\n",
       "asin_idx        0\n",
       "reviewerID_idx  0"
      ]
     },
     "execution_count": 19,
     "metadata": {},
     "output_type": "execute_result"
    }
   ],
   "source": [
    "data_indexed.select([count(when(col(c).isNull(), c)).alias(c) for c in\n",
    "                     data_indexed.columns]).toPandas().T\n"
   ]
  },
  {
   "cell_type": "code",
   "execution_count": 20,
   "id": "72732d96-e34c-4ce0-a730-675f3e6bfe95",
   "metadata": {},
   "outputs": [],
   "source": [
    "# Smaller dataset so we will use 0.8 / 0.2\n",
    "(training, test) = data_indexed.randomSplit([0.8, 0.2])"
   ]
  },
  {
   "cell_type": "code",
   "execution_count": 21,
   "id": "36396fde-dfbc-480d-b7c8-d41a35b9c48d",
   "metadata": {},
   "outputs": [],
   "source": [
    "# Creating ALS model and fitting data\n",
    "from pyspark.ml.evaluation import RegressionEvaluator\n",
    "from pyspark.ml.recommendation import ALS"
   ]
  },
  {
   "cell_type": "code",
   "execution_count": 22,
   "id": "11419345-46a0-44c3-bc5e-5039cfd034a6",
   "metadata": {},
   "outputs": [],
   "source": [
    "als = ALS(maxIter=5, \n",
    " regParam=0.09, \n",
    " rank = 25,\n",
    " userCol=\"reviewerID_idx\", \n",
    " itemCol=\"asin_idx\", \n",
    " ratingCol=\"overall\", \n",
    " coldStartStrategy=\"drop\",\n",
    " nonnegative=True)\n",
    "model = als.fit(training)"
   ]
  },
  {
   "cell_type": "code",
   "execution_count": 23,
   "id": "69af9eb2-d7f2-4e72-8429-94c3177f1151",
   "metadata": {},
   "outputs": [],
   "source": [
    "# Evaluate the model by computing the RMSE on the test data\n",
    "predictions = model.transform(test)"
   ]
  },
  {
   "cell_type": "code",
   "execution_count": 24,
   "id": "031f4d70-dc87-4098-b4d1-a3ebd8d539d1",
   "metadata": {},
   "outputs": [
    {
     "name": "stdout",
     "output_type": "stream",
     "text": [
      "+--------+--------------+-------+----------+\n",
      "|asin_idx|reviewerID_idx|overall|prediction|\n",
      "+--------+--------------+-------+----------+\n",
      "|   993.0|        7880.0|    5.0|   3.48921|\n",
      "|  3992.0|        1829.0|    5.0| 2.1406472|\n",
      "|  4896.0|        8086.0|    5.0| 4.7142878|\n",
      "|  2929.0|       16503.0|    1.0|  3.712359|\n",
      "|  2136.0|       13623.0|    5.0| 3.4046779|\n",
      "+--------+--------------+-------+----------+\n",
      "only showing top 5 rows\n",
      "\n"
     ]
    }
   ],
   "source": [
    "predictions.select([\"asin_idx\", \"reviewerID_idx\", \n",
    "                    \"overall\", \"prediction\"]).show(5)"
   ]
  },
  {
   "cell_type": "code",
   "execution_count": 25,
   "id": "3a0603dc-3b8d-4676-b373-fa01e2ae5a19",
   "metadata": {},
   "outputs": [
    {
     "name": "stdout",
     "output_type": "stream",
     "text": [
      "Root-mean-square error = 1.3473034170704994\n"
     ]
    }
   ],
   "source": [
    "evaluator = RegressionEvaluator(metricName=\"rmse\", \n",
    " labelCol=\"overall\",\n",
    " predictionCol=\"prediction\")\n",
    "rmse = evaluator.evaluate(predictions)\n",
    "print(\"Root-mean-square error = \" + str(rmse))"
   ]
  },
  {
   "cell_type": "code",
   "execution_count": 26,
   "id": "5f890312-e432-4dcf-83d0-1cccd36271f0",
   "metadata": {},
   "outputs": [],
   "source": [
    "# On average, this model is ~ 1.35 from perfect recommendations."
   ]
  },
  {
   "cell_type": "markdown",
   "id": "ae5690e7-aa53-43f0-813c-77093d9fb52e",
   "metadata": {},
   "source": [
    "### Providing Recommendations: for all users\n"
   ]
  },
  {
   "cell_type": "code",
   "execution_count": 27,
   "id": "817a4feb-8b40-43da-ae97-5ce97c8d8f57",
   "metadata": {},
   "outputs": [],
   "source": [
    "# get 20 recommendations which have highest rating.\n",
    "user_recs = model.recommendForAllUsers(20) "
   ]
  },
  {
   "cell_type": "code",
   "execution_count": 28,
   "id": "a3d2863e-0535-45f6-8f57-538eaffc20bd",
   "metadata": {},
   "outputs": [
    {
     "name": "stdout",
     "output_type": "stream",
     "text": [
      "Row(reviewerID_idx=28, recommendations=[Row(asin_idx=7372, rating=6.619761943817139), Row(asin_idx=11623, rating=6.41925048828125), Row(asin_idx=7721, rating=6.409900665283203), Row(asin_idx=4508, rating=6.317165374755859), Row(asin_idx=8940, rating=6.299079895019531), Row(asin_idx=5009, rating=6.297138690948486), Row(asin_idx=10394, rating=6.292103290557861), Row(asin_idx=11205, rating=6.254537105560303), Row(asin_idx=5115, rating=6.230419635772705), Row(asin_idx=8701, rating=6.213785648345947), Row(asin_idx=5972, rating=6.210915565490723), Row(asin_idx=10457, rating=6.19164514541626), Row(asin_idx=7099, rating=6.182777404785156), Row(asin_idx=11044, rating=6.175568103790283), Row(asin_idx=11525, rating=6.173839092254639), Row(asin_idx=10540, rating=6.166039943695068), Row(asin_idx=11653, rating=6.1565985679626465), Row(asin_idx=4771, rating=6.154527187347412), Row(asin_idx=10838, rating=6.141219615936279), Row(asin_idx=9199, rating=6.138522148132324)])\n",
      "\n",
      "\n",
      "Row(reviewerID_idx=31, recommendations=[Row(asin_idx=7372, rating=6.396418571472168), Row(asin_idx=4720, rating=6.37558650970459), Row(asin_idx=5573, rating=6.365650653839111), Row(asin_idx=6334, rating=6.338541507720947), Row(asin_idx=8453, rating=6.288022041320801), Row(asin_idx=6401, rating=6.268497467041016), Row(asin_idx=7395, rating=6.265084266662598), Row(asin_idx=975, rating=6.221338748931885), Row(asin_idx=9176, rating=6.173849582672119), Row(asin_idx=9900, rating=6.147026062011719), Row(asin_idx=10458, rating=6.096080780029297), Row(asin_idx=9029, rating=6.087955474853516), Row(asin_idx=6509, rating=6.084857940673828), Row(asin_idx=6349, rating=6.084019184112549), Row(asin_idx=10641, rating=6.04276704788208), Row(asin_idx=8954, rating=6.041245937347412), Row(asin_idx=8546, rating=6.038376331329346), Row(asin_idx=10221, rating=6.01382303237915), Row(asin_idx=4080, rating=6.012707233428955), Row(asin_idx=8407, rating=5.999751567840576)])\n",
      "\n",
      "\n",
      "Row(reviewerID_idx=34, recommendations=[Row(asin_idx=10355, rating=6.40618896484375), Row(asin_idx=5009, rating=6.3563971519470215), Row(asin_idx=4508, rating=6.323235511779785), Row(asin_idx=5115, rating=6.2921319007873535), Row(asin_idx=11623, rating=6.279504776000977), Row(asin_idx=7213, rating=6.248207092285156), Row(asin_idx=6462, rating=6.181028842926025), Row(asin_idx=11097, rating=6.1725287437438965), Row(asin_idx=8166, rating=6.160354137420654), Row(asin_idx=8701, rating=6.156232833862305), Row(asin_idx=10576, rating=6.146806716918945), Row(asin_idx=10838, rating=6.110428333282471), Row(asin_idx=7372, rating=6.090460777282715), Row(asin_idx=9395, rating=6.066323280334473), Row(asin_idx=5972, rating=6.064543724060059), Row(asin_idx=11525, rating=6.039834976196289), Row(asin_idx=7390, rating=6.034466743469238), Row(asin_idx=4116, rating=6.02898645401001), Row(asin_idx=7427, rating=6.0244340896606445), Row(asin_idx=11368, rating=6.017390727996826)])\n",
      "\n",
      "\n",
      "Row(reviewerID_idx=53, recommendations=[Row(asin_idx=3867, rating=5.309406280517578), Row(asin_idx=4073, rating=5.259829521179199), Row(asin_idx=8617, rating=5.247769832611084), Row(asin_idx=10564, rating=5.2257161140441895), Row(asin_idx=2708, rating=5.220664978027344), Row(asin_idx=9215, rating=5.137228488922119), Row(asin_idx=11639, rating=5.113302230834961), Row(asin_idx=11640, rating=5.089715003967285), Row(asin_idx=9151, rating=5.024480819702148), Row(asin_idx=3425, rating=5.022153854370117), Row(asin_idx=8810, rating=5.0108113288879395), Row(asin_idx=9266, rating=5.00245475769043), Row(asin_idx=11547, rating=4.998342990875244), Row(asin_idx=8939, rating=4.991321086883545), Row(asin_idx=11412, rating=4.97830867767334), Row(asin_idx=6307, rating=4.959253787994385), Row(asin_idx=4019, rating=4.931604385375977), Row(asin_idx=11280, rating=4.9266533851623535), Row(asin_idx=2271, rating=4.912100791931152), Row(asin_idx=4172, rating=4.897924900054932)])\n",
      "\n",
      "\n",
      "Row(reviewerID_idx=65, recommendations=[Row(asin_idx=7372, rating=7.6785407066345215), Row(asin_idx=6334, rating=7.354869365692139), Row(asin_idx=5009, rating=7.24251127243042), Row(asin_idx=6349, rating=7.229609489440918), Row(asin_idx=11640, rating=7.213511943817139), Row(asin_idx=4327, rating=7.20137882232666), Row(asin_idx=11639, rating=7.189553737640381), Row(asin_idx=8050, rating=7.166945457458496), Row(asin_idx=10838, rating=7.15877628326416), Row(asin_idx=10356, rating=7.099043369293213), Row(asin_idx=9342, rating=7.027804374694824), Row(asin_idx=9900, rating=7.01611328125), Row(asin_idx=6059, rating=6.998805999755859), Row(asin_idx=11623, rating=6.9893269538879395), Row(asin_idx=7721, rating=6.921733856201172), Row(asin_idx=5011, rating=6.918963432312012), Row(asin_idx=10394, rating=6.918408393859863), Row(asin_idx=7334, rating=6.917792797088623), Row(asin_idx=10540, rating=6.916269302368164), Row(asin_idx=7316, rating=6.901053428649902)])\n",
      "\n",
      "\n"
     ]
    }
   ],
   "source": [
    "for user in user_recs.head(5):\n",
    "    print(user)\n",
    "    print(\"\\n\")"
   ]
  },
  {
   "cell_type": "markdown",
   "id": "f3df755b-2fdc-432d-94e4-9379ec29a1d8",
   "metadata": {},
   "source": [
    "### Converting back to string form\r\n"
   ]
  },
  {
   "cell_type": "code",
   "execution_count": 29,
   "id": "5ad24e0b-cd99-4622-9119-e181dfabc4e9",
   "metadata": {},
   "outputs": [],
   "source": [
    "import pandas as pd\n",
    "recs=model.recommendForAllUsers(10).toPandas()\n",
    "nrecs=recs.recommendations.apply(pd.Series) \\\n",
    " .merge(recs, right_index = True, left_index = True) \\\n",
    " .drop([\"recommendations\"], axis = 1) \\\n",
    " .melt(id_vars = ['reviewerID_idx'], value_name = \"recommendation\") \\\n",
    " .drop(\"variable\", axis = 1) \\\n",
    " .dropna() \n",
    "nrecs=nrecs.sort_values('reviewerID_idx')\n",
    "nrecs=pd.concat([nrecs['recommendation']\\\n",
    " .apply(pd.Series), nrecs['reviewerID_idx']], axis = 1)\n",
    "nrecs.columns = [ \n",
    " 'ProductID_index',\n",
    " 'Rating',\n",
    " 'UserID_index' \n",
    " ]"
   ]
  },
  {
   "cell_type": "code",
   "execution_count": 30,
   "id": "36baba8c-3a04-4abf-929e-c441de83aabc",
   "metadata": {},
   "outputs": [
    {
     "name": "stderr",
     "output_type": "stream",
     "text": [
      "C:\\Users\\AW\\AppData\\Local\\Temp\\ipykernel_44372\\1408850059.py:10: SettingWithCopyWarning: \n",
      "A value is trying to be set on a copy of a slice from a DataFrame.\n",
      "Try using .loc[row_indexer,col_indexer] = value instead\n",
      "\n",
      "See the caveats in the documentation: https://pandas.pydata.org/pandas-docs/stable/user_guide/indexing.html#returning-a-view-versus-a-copy\n",
      "  new['recommendations'] = list(zip(new.asin, new.Rating))\n"
     ]
    }
   ],
   "source": [
    "md=data_indexed.select(['reviewerID', 'reviewerID_idx', 'asin', 'asin_idx'])\n",
    "md=md.toPandas()\n",
    "dict1 =dict(zip(md['reviewerID_idx'],md['reviewerID']))\n",
    "dict2=dict(zip(md['asin_idx'],md['asin']))\n",
    "nrecs['reviewerID']=nrecs['UserID_index'].map(dict1)\n",
    "nrecs['asin']=nrecs['ProductID_index'].map(dict2)\n",
    "nrecs=nrecs.sort_values('reviewerID')\n",
    "nrecs.reset_index(drop=True, inplace=True)\n",
    "new=nrecs[['reviewerID','asin','Rating']]\n",
    "new['recommendations'] = list(zip(new.asin, new.Rating))\n",
    "res=new[['reviewerID','recommendations']] \n",
    "res_new=res['recommendations'].groupby([res.reviewerID]).apply(list).reset_index()"
   ]
  },
  {
   "cell_type": "code",
   "execution_count": 31,
   "id": "354c5b83-c06e-483c-a44b-81e8394b7dbb",
   "metadata": {},
   "outputs": [
    {
     "data": {
      "text/html": [
       "<div>\n",
       "<style scoped>\n",
       "    .dataframe tbody tr th:only-of-type {\n",
       "        vertical-align: middle;\n",
       "    }\n",
       "\n",
       "    .dataframe tbody tr th {\n",
       "        vertical-align: top;\n",
       "    }\n",
       "\n",
       "    .dataframe thead th {\n",
       "        text-align: right;\n",
       "    }\n",
       "</style>\n",
       "<table border=\"1\" class=\"dataframe\">\n",
       "  <thead>\n",
       "    <tr style=\"text-align: right;\">\n",
       "      <th></th>\n",
       "      <th>reviewerID</th>\n",
       "      <th>recommendations</th>\n",
       "    </tr>\n",
       "  </thead>\n",
       "  <tbody>\n",
       "    <tr>\n",
       "      <th>0</th>\n",
       "      <td>A00414041RD0BXM6WK0GX</td>\n",
       "      <td>[(B000VOHH56, 4.343129634857178), (B000QAVLT8,...</td>\n",
       "    </tr>\n",
       "    <tr>\n",
       "      <th>1</th>\n",
       "      <td>A00473363TJ8YSZ3YAGG9</td>\n",
       "      <td>[(B001AL2CNG, 3.9331510066986084), (B00G0EJYFW...</td>\n",
       "    </tr>\n",
       "    <tr>\n",
       "      <th>2</th>\n",
       "      <td>A00700212KB3K0MVESPIY</td>\n",
       "      <td>[(B000XE961C, 6.301753520965576), (B001H3JQ0E,...</td>\n",
       "    </tr>\n",
       "    <tr>\n",
       "      <th>3</th>\n",
       "      <td>A0078719IR14X3NNUG0F</td>\n",
       "      <td>[(B000TD2QXC, 8.510390281677246), (B000P7X1MC,...</td>\n",
       "    </tr>\n",
       "    <tr>\n",
       "      <th>4</th>\n",
       "      <td>A01198201H0E3GHV2Z17I</td>\n",
       "      <td>[(B006L6U0JI, 5.881620407104492), (B0009MMK5M,...</td>\n",
       "    </tr>\n",
       "    <tr>\n",
       "      <th>...</th>\n",
       "      <td>...</td>\n",
       "      <td>...</td>\n",
       "    </tr>\n",
       "    <tr>\n",
       "      <th>22355</th>\n",
       "      <td>AZZNK89PXD006</td>\n",
       "      <td>[(B0012NQBQG, 3.8481853008270264), (B00384TLQE...</td>\n",
       "    </tr>\n",
       "    <tr>\n",
       "      <th>22356</th>\n",
       "      <td>AZZQXL8VDCFTV</td>\n",
       "      <td>[(B000OY3WNO, 5.566639423370361), (B001F51TS6,...</td>\n",
       "    </tr>\n",
       "    <tr>\n",
       "      <th>22357</th>\n",
       "      <td>AZZT1ERHBSNQ8</td>\n",
       "      <td>[(B000PKZFTQ, 6.2380266189575195), (B001CJJ5QS...</td>\n",
       "    </tr>\n",
       "    <tr>\n",
       "      <th>22358</th>\n",
       "      <td>AZZU6NXB8YJN9</td>\n",
       "      <td>[(B000QAVLT8, 5.407864093780518), (B000P7X1MC,...</td>\n",
       "    </tr>\n",
       "    <tr>\n",
       "      <th>22359</th>\n",
       "      <td>AZZZLM1E5JJ8C</td>\n",
       "      <td>[(B005RFI1YK, 4.756290912628174), (B00AMQWQJA,...</td>\n",
       "    </tr>\n",
       "  </tbody>\n",
       "</table>\n",
       "<p>22360 rows × 2 columns</p>\n",
       "</div>"
      ],
      "text/plain": [
       "                  reviewerID  \\\n",
       "0      A00414041RD0BXM6WK0GX   \n",
       "1      A00473363TJ8YSZ3YAGG9   \n",
       "2      A00700212KB3K0MVESPIY   \n",
       "3       A0078719IR14X3NNUG0F   \n",
       "4      A01198201H0E3GHV2Z17I   \n",
       "...                      ...   \n",
       "22355          AZZNK89PXD006   \n",
       "22356          AZZQXL8VDCFTV   \n",
       "22357          AZZT1ERHBSNQ8   \n",
       "22358          AZZU6NXB8YJN9   \n",
       "22359          AZZZLM1E5JJ8C   \n",
       "\n",
       "                                         recommendations  \n",
       "0      [(B000VOHH56, 4.343129634857178), (B000QAVLT8,...  \n",
       "1      [(B001AL2CNG, 3.9331510066986084), (B00G0EJYFW...  \n",
       "2      [(B000XE961C, 6.301753520965576), (B001H3JQ0E,...  \n",
       "3      [(B000TD2QXC, 8.510390281677246), (B000P7X1MC,...  \n",
       "4      [(B006L6U0JI, 5.881620407104492), (B0009MMK5M,...  \n",
       "...                                                  ...  \n",
       "22355  [(B0012NQBQG, 3.8481853008270264), (B00384TLQE...  \n",
       "22356  [(B000OY3WNO, 5.566639423370361), (B001F51TS6,...  \n",
       "22357  [(B000PKZFTQ, 6.2380266189575195), (B001CJJ5QS...  \n",
       "22358  [(B000QAVLT8, 5.407864093780518), (B000P7X1MC,...  \n",
       "22359  [(B005RFI1YK, 4.756290912628174), (B00AMQWQJA,...  \n",
       "\n",
       "[22360 rows x 2 columns]"
      ]
     },
     "execution_count": 31,
     "metadata": {},
     "output_type": "execute_result"
    }
   ],
   "source": [
    "res_new"
   ]
  }
 ],
 "metadata": {
  "kernelspec": {
   "display_name": "Python 3 (ipykernel)",
   "language": "python",
   "name": "python3"
  },
  "language_info": {
   "codemirror_mode": {
    "name": "ipython",
    "version": 3
   },
   "file_extension": ".py",
   "mimetype": "text/x-python",
   "name": "python",
   "nbconvert_exporter": "python",
   "pygments_lexer": "ipython3",
   "version": "3.9.12"
  }
 },
 "nbformat": 4,
 "nbformat_minor": 5
}
