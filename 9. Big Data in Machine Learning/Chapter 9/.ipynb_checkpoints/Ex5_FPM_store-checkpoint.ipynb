{
 "cells": [
  {
   "cell_type": "code",
   "execution_count": 1,
   "id": "e03128db-3839-44c5-8984-121315160c28",
   "metadata": {},
   "outputs": [],
   "source": [
    "import findspark\n",
    "findspark.init()"
   ]
  },
  {
   "cell_type": "code",
   "execution_count": 2,
   "id": "9f5afc78-8135-4ce4-87a1-267d2c7cb9ea",
   "metadata": {},
   "outputs": [],
   "source": [
    "import pyspark"
   ]
  },
  {
   "cell_type": "code",
   "execution_count": 3,
   "id": "727c8fd5-d23b-4fcd-9c51-700a04c57430",
   "metadata": {},
   "outputs": [],
   "source": [
    "from pyspark import SparkContext\n",
    "from pyspark.conf import SparkConf\n",
    "from pyspark.sql import SparkSession"
   ]
  },
  {
   "cell_type": "code",
   "execution_count": 4,
   "id": "64132f93-e031-4071-aa57-c64b362ea853",
   "metadata": {},
   "outputs": [],
   "source": [
    "sc = SparkContext()"
   ]
  },
  {
   "cell_type": "code",
   "execution_count": 5,
   "id": "77157814-0de2-40fe-b25b-5bde9e232812",
   "metadata": {},
   "outputs": [],
   "source": [
    "spark = SparkSession.builder.appName('ex_demo').getOrCreate()"
   ]
  },
  {
   "cell_type": "code",
   "execution_count": 17,
   "id": "f37d547b-9b9b-46ff-a094-72d315c47989",
   "metadata": {},
   "outputs": [],
   "source": [
    "from pyspark.ml.fpm import FPGrowth"
   ]
  },
  {
   "cell_type": "code",
   "execution_count": 7,
   "id": "2467cc62-9f7f-4417-812f-1e01d2407c24",
   "metadata": {},
   "outputs": [],
   "source": [
    "# Loads data.\n",
    "data = spark.read.csv('instacart_2017_05_01/order_products__train.csv', header=True, inferSchema=True)"
   ]
  },
  {
   "cell_type": "code",
   "execution_count": 8,
   "id": "0df2e3f6-9cdd-4efa-a9d5-8e1635ad60a9",
   "metadata": {},
   "outputs": [
    {
     "data": {
      "text/plain": [
       "1384617"
      ]
     },
     "execution_count": 8,
     "metadata": {},
     "output_type": "execute_result"
    }
   ],
   "source": [
    "data.count()"
   ]
  },
  {
   "cell_type": "code",
   "execution_count": 9,
   "id": "066ca33b-8bfc-436b-8c4c-038cd99fdb86",
   "metadata": {},
   "outputs": [
    {
     "name": "stdout",
     "output_type": "stream",
     "text": [
      "+--------+----------+-----------------+---------+\n",
      "|order_id|product_id|add_to_cart_order|reordered|\n",
      "+--------+----------+-----------------+---------+\n",
      "|       1|     49302|                1|        1|\n",
      "|       1|     11109|                2|        1|\n",
      "|       1|     10246|                3|        0|\n",
      "|       1|     49683|                4|        0|\n",
      "|       1|     43633|                5|        1|\n",
      "|       1|     13176|                6|        0|\n",
      "|       1|     47209|                7|        0|\n",
      "|       1|     22035|                8|        1|\n",
      "|      36|     39612|                1|        0|\n",
      "|      36|     19660|                2|        1|\n",
      "|      36|     49235|                3|        0|\n",
      "|      36|     43086|                4|        1|\n",
      "|      36|     46620|                5|        1|\n",
      "|      36|     34497|                6|        1|\n",
      "|      36|     48679|                7|        1|\n",
      "|      36|     46979|                8|        1|\n",
      "|      38|     11913|                1|        0|\n",
      "|      38|     18159|                2|        0|\n",
      "|      38|      4461|                3|        0|\n",
      "|      38|     21616|                4|        1|\n",
      "+--------+----------+-----------------+---------+\n",
      "only showing top 20 rows\n",
      "\n"
     ]
    }
   ],
   "source": [
    "data.show()"
   ]
  },
  {
   "cell_type": "code",
   "execution_count": 10,
   "id": "9050f1d9-375f-47f9-9f8e-a0d308e2d014",
   "metadata": {},
   "outputs": [],
   "source": [
    "# Pre-processing data\n",
    "from pyspark.sql.functions import collect_list, col, count, collect_set"
   ]
  },
  {
   "cell_type": "code",
   "execution_count": 11,
   "id": "ae402a75-0b6f-406d-84fd-b370c423c48e",
   "metadata": {},
   "outputs": [],
   "source": [
    "data.createOrReplaceTempView(\"order_products_train\")"
   ]
  },
  {
   "cell_type": "code",
   "execution_count": 12,
   "id": "7911535c-f2de-4556-8a07-9b5a41144dfe",
   "metadata": {},
   "outputs": [
    {
     "data": {
      "text/plain": [
       "39123"
      ]
     },
     "execution_count": 12,
     "metadata": {},
     "output_type": "execute_result"
    }
   ],
   "source": [
    "products = spark.sql(\"select distinct product_id from order_products_train\")\n",
    "products.count()"
   ]
  },
  {
   "cell_type": "code",
   "execution_count": 13,
   "id": "253985a2-f34c-4ef0-8711-60cd41e9ecff",
   "metadata": {},
   "outputs": [],
   "source": [
    "rawData = spark.sql(\"select * from order_products_train\")\n",
    "baskets = rawData.groupBy('order_id').agg(collect_set('product_id').alias('items'))\n",
    "baskets.createOrReplaceTempView('baskets')"
   ]
  },
  {
   "cell_type": "code",
   "execution_count": 14,
   "id": "098c4bb5-ce55-40b5-8190-df515d13314e",
   "metadata": {},
   "outputs": [
    {
     "name": "stdout",
     "output_type": "stream",
     "text": [
      "+--------+---------------------------------------------------------------------------------------------------------------------+\n",
      "|order_id|items                                                                                                                |\n",
      "+--------+---------------------------------------------------------------------------------------------------------------------+\n",
      "|762     |[41220, 21137, 30391, 15872]                                                                                         |\n",
      "|844     |[14992, 18599, 21405, 31766, 11182, 28289, 9387]                                                                     |\n",
      "|988     |[4818, 12626, 45061, 28464]                                                                                          |\n",
      "|1139    |[34969, 1376, 13431, 45757, 40396, 7559, 21137, 24852, 46993]                                                        |\n",
      "|1143    |[3464, 29307, 47209, 39275, 19660, 7552, 27966, 12206, 47626, 42958, 21405, 42719, 36759, 27999, 24964, 42097, 25466]|\n",
      "+--------+---------------------------------------------------------------------------------------------------------------------+\n",
      "only showing top 5 rows\n",
      "\n"
     ]
    }
   ],
   "source": [
    "baskets.show(5, truncate=False)"
   ]
  },
  {
   "cell_type": "code",
   "execution_count": 15,
   "id": "0ff5dcd7-f480-48c0-97f8-b707b984a430",
   "metadata": {},
   "outputs": [
    {
     "data": {
      "text/plain": [
       "pyspark.sql.dataframe.DataFrame"
      ]
     },
     "execution_count": 15,
     "metadata": {},
     "output_type": "execute_result"
    }
   ],
   "source": [
    "type(baskets)"
   ]
  },
  {
   "cell_type": "code",
   "execution_count": 18,
   "id": "4586329b-3c31-4f18-85c0-47ff685c63ac",
   "metadata": {},
   "outputs": [],
   "source": [
    "fpGrowth = FPGrowth(itemsCol=\"items\", minSupport=0.003, minConfidence=0.003)\n",
    "model = fpGrowth.fit(baskets)"
   ]
  },
  {
   "cell_type": "code",
   "execution_count": 19,
   "id": "ffcbe154-4c88-4e08-890f-97b06960b0ad",
   "metadata": {},
   "outputs": [
    {
     "name": "stdout",
     "output_type": "stream",
     "text": [
      "+--------------+----+\n",
      "|         items|freq|\n",
      "+--------------+----+\n",
      "|       [33120]| 834|\n",
      "|       [13263]| 420|\n",
      "|       [34448]| 684|\n",
      "|        [8021]|1183|\n",
      "|       [17316]| 468|\n",
      "|       [37524]| 450|\n",
      "|       [16759]|1742|\n",
      "|[16759, 13176]| 465|\n",
      "|       [25588]| 401|\n",
      "|        [4086]| 510|\n",
      "|       [20842]|1046|\n",
      "|       [37646]|2809|\n",
      "|[37646, 21137]| 574|\n",
      "|[37646, 13176]| 810|\n",
      "|[37646, 21903]| 461|\n",
      "|[37646, 47209]| 401|\n",
      "|[37646, 24852]| 666|\n",
      "|       [45104]| 436|\n",
      "|       [20995]|1361|\n",
      "|       [33401]| 568|\n",
      "+--------------+----+\n",
      "only showing top 20 rows\n",
      "\n"
     ]
    }
   ],
   "source": [
    "# Display frequent itemsets.\n",
    "model.freqItemsets.show()"
   ]
  },
  {
   "cell_type": "code",
   "execution_count": 20,
   "id": "b381f92d-7c45-4cb6-8f71-e981fe7aa523",
   "metadata": {},
   "outputs": [],
   "source": [
    "# transform examines the input items against all the association rules and summar\n",
    "# consequents as prediction\n",
    "mostPopularItemInABasket = model.transform(baskets)"
   ]
  },
  {
   "cell_type": "code",
   "execution_count": 21,
   "id": "256c3bbd-cf7b-40c5-b44b-3c084fcd1432",
   "metadata": {},
   "outputs": [
    {
     "name": "stdout",
     "output_type": "stream",
     "text": [
      "+--------+--------------------+--------------------+\n",
      "|order_id|               items|          prediction|\n",
      "+--------+--------------------+--------------------+\n",
      "|     762|[41220, 21137, 30...|[13176, 37646, 22...|\n",
      "|     844|[14992, 18599, 21...|             [24852]|\n",
      "|     988|[4818, 12626, 450...|                  []|\n",
      "|    1139|[34969, 1376, 134...|[37646, 22935, 39...|\n",
      "|    1143|[3464, 29307, 472...|[21137, 47766, 16...|\n",
      "|    1280|[27845, 23955, 49...|[13176, 24852, 21...|\n",
      "|    1342|[30827, 3798, 149...|[37646, 22935, 39...|\n",
      "|    1350|[1017, 23776, 305...|                  []|\n",
      "|    1468|[17794, 34243, 27...|[13176, 21903, 21...|\n",
      "|    1591|[48246, 44116, 24...|[47626, 37646, 22...|\n",
      "|    1721|[14197, 5134, 278...|[21137, 47766, 47...|\n",
      "|    1890|[8277, 8424, 4463...|[22935, 24964, 31...|\n",
      "|    1955|[16254, 35469, 12...|[24852, 16759, 37...|\n",
      "|    2711|[27325, 3873, 171...|             [24852]|\n",
      "|    2888|[35622, 5077, 382...|[37646, 22935, 39...|\n",
      "|    3010|[45535, 21195, 47...|[37646, 22935, 42...|\n",
      "|    3037|[19173, 19348, 6994]|                  []|\n",
      "|    3179|[5757, 3634, 3932...|      [13176, 24852]|\n",
      "|    4036|[17794, 11758, 95...|[26209, 21137, 47...|\n",
      "|    4092|[17794, 10644, 35...|[37646, 22935, 39...|\n",
      "+--------+--------------------+--------------------+\n",
      "only showing top 20 rows\n",
      "\n"
     ]
    }
   ],
   "source": [
    "mostPopularItemInABasket.show()"
   ]
  },
  {
   "cell_type": "markdown",
   "id": "92b4b8b3-84cb-4689-bcc3-a73d8cf23bcf",
   "metadata": {},
   "source": [
    "### Use product_name instead of product_id\n"
   ]
  },
  {
   "cell_type": "code",
   "execution_count": 23,
   "id": "f1f386b4-897f-405b-a6f1-86cf16c294f8",
   "metadata": {},
   "outputs": [],
   "source": [
    "product_data = spark.read.csv('instacart_2017_05_01/products.csv', header=True, inferSchema=True)"
   ]
  },
  {
   "cell_type": "code",
   "execution_count": 24,
   "id": "ccdc271d-99c8-4cec-ba21-ea40a7ff1281",
   "metadata": {},
   "outputs": [
    {
     "name": "stdout",
     "output_type": "stream",
     "text": [
      "+----------+-----------------------------------------------------------------+--------+-------------+\n",
      "|product_id|product_name                                                     |aisle_id|department_id|\n",
      "+----------+-----------------------------------------------------------------+--------+-------------+\n",
      "|1         |Chocolate Sandwich Cookies                                       |61      |19           |\n",
      "|2         |All-Seasons Salt                                                 |104     |13           |\n",
      "|3         |Robust Golden Unsweetened Oolong Tea                             |94      |7            |\n",
      "|4         |Smart Ones Classic Favorites Mini Rigatoni With Vodka Cream Sauce|38      |1            |\n",
      "|5         |Green Chile Anytime Sauce                                        |5       |13           |\n",
      "+----------+-----------------------------------------------------------------+--------+-------------+\n",
      "only showing top 5 rows\n",
      "\n"
     ]
    }
   ],
   "source": [
    "product_data.show(5, truncate=False)"
   ]
  },
  {
   "cell_type": "code",
   "execution_count": 25,
   "id": "c2d9dc2b-7e91-4b03-bb52-16704e84dbb1",
   "metadata": {},
   "outputs": [],
   "source": [
    "product_data.createOrReplaceTempView(\"products\")"
   ]
  },
  {
   "cell_type": "code",
   "execution_count": 26,
   "id": "b40908b6-7a35-4406-8cf9-db5a18ca12c0",
   "metadata": {},
   "outputs": [],
   "source": [
    "rawData_1 = spark.sql('''select p.product_name, o.order_id from products p \n",
    " inner join order_products_train o \n",
    " where o.product_id = p.product_id''')\n",
    "baskets_1 = rawData_1.groupBy('order_id').agg(collect_set('product_name')\\\n",
    " .alias('items'))\n",
    "baskets_1.createOrReplaceTempView('baskets')"
   ]
  },
  {
   "cell_type": "code",
   "execution_count": 27,
   "id": "014f77cf-c00b-4571-ae79-1cfc17704508",
   "metadata": {},
   "outputs": [
    {
     "data": {
      "text/plain": [
       "[Row(order_id=762, items=['Organic Cucumber', 'Organic Romaine Lettuce', 'Celery Hearts', 'Organic Strawberries']),\n",
       " Row(order_id=1139, items=['Cinnamon Rolls with Icing', 'Red Vine Tomato', 'Picnic Potato Salad', 'Flaky Biscuits', 'Organic Strawberries', 'Organic Bakery Hamburger Buns Wheat - 8 CT', 'Buttermilk Biscuits', 'Banana', 'Guacamole']),\n",
       " Row(order_id=1143, items=['Water', 'Natural Premium Coconut Water', 'Organic Red Radish, Bunch', 'Organic Capellini Whole Wheat Pasta', 'Organic Raspberries', 'Calming Lavender Body Wash', 'Organic Garlic', 'Rustic Baguette', 'Organic Brussel Sprouts', 'Organic Butterhead (Boston, Butter, Bibb) Lettuce', 'Organic Blueberries', 'Spring Water', 'Large Lemon', 'Basil Pesto', 'Baby Arugula', 'Organic Hass Avocado', 'Unscented Long Lasting Stick Deodorant'])]"
      ]
     },
     "execution_count": 27,
     "metadata": {},
     "output_type": "execute_result"
    }
   ],
   "source": [
    "baskets_1.head(3)"
   ]
  },
  {
   "cell_type": "code",
   "execution_count": 28,
   "id": "93638f4e-8c4e-4b10-ae97-df4fbabd9b1c",
   "metadata": {},
   "outputs": [],
   "source": [
    "fpGrowth_1 = FPGrowth(itemsCol=\"items\", \n",
    "                      minSupport=0.003, \n",
    "                      minConfidence=0.003)\n",
    "model_1 = fpGrowth.fit(baskets_1)"
   ]
  },
  {
   "cell_type": "code",
   "execution_count": 29,
   "id": "54899d79-f4eb-4879-a479-6db1f48c8671",
   "metadata": {},
   "outputs": [
    {
     "name": "stdout",
     "output_type": "stream",
     "text": [
      "+-------------------------------------+----+\n",
      "|items                                |freq|\n",
      "+-------------------------------------+----+\n",
      "|[Total 0% Raspberry Yogurt]          |441 |\n",
      "|[Organic Egg Whites]                 |834 |\n",
      "|[100% Raw Coconut Water]             |1298|\n",
      "|[Mint]                               |510 |\n",
      "|[Organic Red Potato]                 |411 |\n",
      "|[Lime]                               |472 |\n",
      "|[Raspberries]                        |3279|\n",
      "|[Raspberries, Organic Strawberries]  |563 |\n",
      "|[Raspberries, Strawberries]          |658 |\n",
      "|[Raspberries, Organic Blueberries]   |574 |\n",
      "|[Raspberries, Bag of Organic Bananas]|556 |\n",
      "|[Raspberries, Banana]                |623 |\n",
      "|[Strawberry Preserves]               |622 |\n",
      "|[Mini Original Babybel Cheese]       |564 |\n",
      "|[Roma Tomato]                        |1953|\n",
      "|[Roma Tomato, Banana]                |572 |\n",
      "|[Honeycrisp Apples]                  |670 |\n",
      "|[Whole Almonds]                      |448 |\n",
      "|[Organic Grade A Large Brown Eggs]   |874 |\n",
      "|[Non Fat Acai & Mixed Berries Yogurt]|420 |\n",
      "+-------------------------------------+----+\n",
      "only showing top 20 rows\n",
      "\n"
     ]
    }
   ],
   "source": [
    "# Display frequent itemsets.\n",
    "model_1.freqItemsets.show(truncate=False)"
   ]
  },
  {
   "cell_type": "code",
   "execution_count": 30,
   "id": "86a83590-b4b8-427c-801c-ac1ce06694eb",
   "metadata": {},
   "outputs": [],
   "source": [
    "mostPopularItemInABasket_1 = model_1.transform(baskets_1)"
   ]
  },
  {
   "cell_type": "code",
   "execution_count": 31,
   "id": "da083682-a97a-495d-840b-941410448fe9",
   "metadata": {},
   "outputs": [
    {
     "data": {
      "text/plain": [
       "[Row(order_id=762, items=['Organic Cucumber', 'Organic Romaine Lettuce', 'Celery Hearts', 'Organic Strawberries'], prediction=['Bag of Organic Bananas', 'Raspberries', 'Organic Zucchini', 'Organic Small Bunch Celery', 'Organic Yellow Onion', 'Organic Garnet Sweet Potato (Yam)', 'Organic Tomato Cluster', 'Banana', 'Small Hass Avocado', 'Apple Honeycrisp Organic', 'Organic Garlic', 'Broccoli Crown', 'Seedless Red Grapes', 'Organic Baby Spinach', 'Asparagus', 'Large Lemon', 'Organic Baby Arugula', 'Organic Peeled Whole Baby Carrots', 'Organic Avocado', \"Organic D'Anjou Pears\", 'Organic Grape Tomatoes', 'Organic Large Extra Fancy Fuji Apple', 'Organic Kiwi', 'Organic Red Onion', 'Organic Hass Avocado', 'Original Hummus', 'Limes', 'Organic Blackberries', 'Organic Baby Carrots', 'Organic Gala Apples', 'Honeycrisp Apple', 'Organic Raspberries', 'Organic Red Bell Pepper', 'Organic Cilantro', 'Organic Whole String Cheese', 'Organic Granny Smith Apple', 'Organic Blueberries', 'Fresh Cauliflower', 'Organic Banana', 'Organic Whole Milk', 'Organic Navel Orange', 'Organic Lemon']),\n",
       " Row(order_id=1139, items=['Cinnamon Rolls with Icing', 'Red Vine Tomato', 'Picnic Potato Salad', 'Flaky Biscuits', 'Organic Strawberries', 'Organic Bakery Hamburger Buns Wheat - 8 CT', 'Buttermilk Biscuits', 'Banana', 'Guacamole'], prediction=['Raspberries', 'Roma Tomato', 'Organic Zucchini', '100% Whole Wheat Bread', 'Organic Small Bunch Celery', 'Organic Yellow Onion', 'Organic Garnet Sweet Potato (Yam)', 'Organic Fuji Apple', 'Bunched Cilantro', 'Organic Tomato Cluster', 'Garlic', 'Small Hass Avocado', 'Apple Honeycrisp Organic', 'Organic Garlic', 'Jalapeno Peppers', 'Broccoli Crown', 'Seedless Red Grapes', 'Organic Baby Spinach', 'Green Bell Pepper', 'Asparagus', 'Large Lemon', 'Carrots', 'Organic Baby Arugula', 'Organic Peeled Whole Baby Carrots', 'Organic Avocado', 'Red Peppers', \"Organic D'Anjou Pears\", 'Granny Smith Apples', 'Organic Grape Tomatoes', 'Organic Large Extra Fancy Fuji Apple', 'Unsweetened Almondmilk', 'Organic Red Onion', 'Half & Half', 'Grape White/Green Seedless', 'Organic Hass Avocado', 'Boneless Skinless Chicken Breasts', 'Yellow Onions', 'Cucumber Kirby', 'Strawberries', 'Orange Bell Pepper', 'Original Hummus', 'Red Raspberries', 'Limes', 'Organic Blackberries', 'Organic Baby Carrots', 'Organic Gala Apples', 'Honeycrisp Apple', 'Clementines, Bag', 'Organic Raspberries', 'Organic Red Bell Pepper', 'Organic Cilantro', 'Organic Whole String Cheese', 'Organic Granny Smith Apple', 'Organic Blueberries', 'Fresh Cauliflower', 'Organic Whole Milk', 'Organic Half & Half', 'Bartlett Pears', 'Michigan Organic Kale', 'Sparkling Water Grapefruit', 'Unsweetened Original Almond Breeze Almond Milk', 'Organic Cucumber', 'Blueberries', 'Bag of Organic Bananas', 'Organic Kiwi', 'Organic Banana', 'Organic Navel Orange', 'Organic Lemon']),\n",
       " Row(order_id=1143, items=['Water', 'Natural Premium Coconut Water', 'Organic Red Radish, Bunch', 'Organic Capellini Whole Wheat Pasta', 'Organic Raspberries', 'Calming Lavender Body Wash', 'Organic Garlic', 'Rustic Baguette', 'Organic Brussel Sprouts', 'Organic Butterhead (Boston, Butter, Bibb) Lettuce', 'Organic Blueberries', 'Spring Water', 'Large Lemon', 'Basil Pesto', 'Baby Arugula', 'Organic Hass Avocado', 'Unscented Long Lasting Stick Deodorant'], prediction=['Bag of Organic Bananas', 'Organic Zucchini', 'Organic Yellow Onion', 'Bunched Cilantro', 'Garlic', 'Small Hass Avocado', 'Broccoli Crown', 'Seedless Red Grapes', 'Asparagus', 'Organic Strawberries', 'Organic Baby Spinach', 'Banana', 'Organic Baby Arugula', 'Organic Avocado', 'Red Peppers', 'Organic Grape Tomatoes', 'Organic Red Onion', 'Yellow Onions', 'Cucumber Kirby', 'Strawberries', 'Limes', 'Organic Italian Parsley Bunch', 'Organic Baby Carrots', 'Honeycrisp Apple', 'Organic Cilantro', 'Organic Whole Milk', 'Michigan Organic Kale', 'Organic Cucumber', 'Organic Small Bunch Celery', 'Organic Garnet Sweet Potato (Yam)', 'Organic Tomato Cluster', 'Apple Honeycrisp Organic', 'Organic Large Extra Fancy Fuji Apple', 'Organic Gala Apples', 'Organic Red Bell Pepper', 'Organic Lemon', 'Organic Ginger Root', 'Organic Blackberries', 'Raspberries'])]"
      ]
     },
     "execution_count": 31,
     "metadata": {},
     "output_type": "execute_result"
    }
   ],
   "source": [
    "mostPopularItemInABasket_1.head(3)"
   ]
  },
  {
   "cell_type": "code",
   "execution_count": 32,
   "id": "96fb1d60-b8de-4494-9bec-38cc36d415c3",
   "metadata": {},
   "outputs": [
    {
     "data": {
      "text/plain": [
       "pyspark.sql.dataframe.DataFrame"
      ]
     },
     "execution_count": 32,
     "metadata": {},
     "output_type": "execute_result"
    }
   ],
   "source": [
    "type(mostPopularItemInABasket_1)"
   ]
  },
  {
   "cell_type": "code",
   "execution_count": 33,
   "id": "13ae8f07-d906-4b44-beb4-1dc11fb13481",
   "metadata": {},
   "outputs": [],
   "source": [
    "# chuyển list array thành string\n",
    "from pyspark.sql.types import StringType"
   ]
  },
  {
   "cell_type": "code",
   "execution_count": 34,
   "id": "6ddbd4ee-7557-4739-b954-31bb565e0f25",
   "metadata": {},
   "outputs": [
    {
     "name": "stdout",
     "output_type": "stream",
     "text": [
      "root\n",
      " |-- order_id: integer (nullable = true)\n",
      " |-- items: array (nullable = false)\n",
      " |    |-- element: string (containsNull = false)\n",
      " |-- prediction: array (nullable = true)\n",
      " |    |-- element: string (containsNull = false)\n",
      "\n"
     ]
    }
   ],
   "source": [
    "mostPopularItemInABasket_1.printSchema()"
   ]
  },
  {
   "cell_type": "code",
   "execution_count": 35,
   "id": "4144b93a-aaf2-4987-8aef-d5abea24cf5f",
   "metadata": {},
   "outputs": [],
   "source": [
    "mostPopularItemInABasket_1.createOrReplaceTempView(\"popular_items\")"
   ]
  },
  {
   "cell_type": "code",
   "execution_count": 36,
   "id": "d91f5f54-2284-4972-8f90-e875d0b38ecd",
   "metadata": {},
   "outputs": [],
   "source": [
    "DF_cast = mostPopularItemInABasket_1.select('order_id', \n",
    "                                            mostPopularItemInABasket_1.items.cast(StringType()),\n",
    "                                            mostPopularItemInABasket_1.prediction.cast(StringType()))"
   ]
  },
  {
   "cell_type": "code",
   "execution_count": 37,
   "id": "c072bb49-62ef-47ff-af53-dddc5d03dc31",
   "metadata": {},
   "outputs": [
    {
     "name": "stdout",
     "output_type": "stream",
     "text": [
      "root\n",
      " |-- order_id: integer (nullable = true)\n",
      " |-- items: string (nullable = false)\n",
      " |-- prediction: string (nullable = true)\n",
      "\n"
     ]
    }
   ],
   "source": [
    "DF_cast.printSchema()"
   ]
  },
  {
   "cell_type": "code",
   "execution_count": 38,
   "id": "6dfe3181-8546-4025-9408-30bdabc3ec51",
   "metadata": {},
   "outputs": [
    {
     "data": {
      "text/plain": [
       "[Row(order_id=762, items='[Organic Cucumber, Organic Romaine Lettuce, Celery Hearts, Organic Strawberries]', prediction=\"[Bag of Organic Bananas, Raspberries, Organic Zucchini, Organic Small Bunch Celery, Organic Yellow Onion, Organic Garnet Sweet Potato (Yam), Organic Tomato Cluster, Banana, Small Hass Avocado, Apple Honeycrisp Organic, Organic Garlic, Broccoli Crown, Seedless Red Grapes, Organic Baby Spinach, Asparagus, Large Lemon, Organic Baby Arugula, Organic Peeled Whole Baby Carrots, Organic Avocado, Organic D'Anjou Pears, Organic Grape Tomatoes, Organic Large Extra Fancy Fuji Apple, Organic Kiwi, Organic Red Onion, Organic Hass Avocado, Original Hummus, Limes, Organic Blackberries, Organic Baby Carrots, Organic Gala Apples, Honeycrisp Apple, Organic Raspberries, Organic Red Bell Pepper, Organic Cilantro, Organic Whole String Cheese, Organic Granny Smith Apple, Organic Blueberries, Fresh Cauliflower, Organic Banana, Organic Whole Milk, Organic Navel Orange, Organic Lemon]\"),\n",
       " Row(order_id=1139, items='[Cinnamon Rolls with Icing, Red Vine Tomato, Picnic Potato Salad, Flaky Biscuits, Organic Strawberries, Organic Bakery Hamburger Buns Wheat - 8 CT, Buttermilk Biscuits, Banana, Guacamole]', prediction=\"[Raspberries, Roma Tomato, Organic Zucchini, 100% Whole Wheat Bread, Organic Small Bunch Celery, Organic Yellow Onion, Organic Garnet Sweet Potato (Yam), Organic Fuji Apple, Bunched Cilantro, Organic Tomato Cluster, Garlic, Small Hass Avocado, Apple Honeycrisp Organic, Organic Garlic, Jalapeno Peppers, Broccoli Crown, Seedless Red Grapes, Organic Baby Spinach, Green Bell Pepper, Asparagus, Large Lemon, Carrots, Organic Baby Arugula, Organic Peeled Whole Baby Carrots, Organic Avocado, Red Peppers, Organic D'Anjou Pears, Granny Smith Apples, Organic Grape Tomatoes, Organic Large Extra Fancy Fuji Apple, Unsweetened Almondmilk, Organic Red Onion, Half & Half, Grape White/Green Seedless, Organic Hass Avocado, Boneless Skinless Chicken Breasts, Yellow Onions, Cucumber Kirby, Strawberries, Orange Bell Pepper, Original Hummus, Red Raspberries, Limes, Organic Blackberries, Organic Baby Carrots, Organic Gala Apples, Honeycrisp Apple, Clementines, Bag, Organic Raspberries, Organic Red Bell Pepper, Organic Cilantro, Organic Whole String Cheese, Organic Granny Smith Apple, Organic Blueberries, Fresh Cauliflower, Organic Whole Milk, Organic Half & Half, Bartlett Pears, Michigan Organic Kale, Sparkling Water Grapefruit, Unsweetened Original Almond Breeze Almond Milk, Organic Cucumber, Blueberries, Bag of Organic Bananas, Organic Kiwi, Organic Banana, Organic Navel Orange, Organic Lemon]\"),\n",
       " Row(order_id=1143, items='[Water, Natural Premium Coconut Water, Organic Red Radish, Bunch, Organic Capellini Whole Wheat Pasta, Organic Raspberries, Calming Lavender Body Wash, Organic Garlic, Rustic Baguette, Organic Brussel Sprouts, Organic Butterhead (Boston, Butter, Bibb) Lettuce, Organic Blueberries, Spring Water, Large Lemon, Basil Pesto, Baby Arugula, Organic Hass Avocado, Unscented Long Lasting Stick Deodorant]', prediction='[Bag of Organic Bananas, Organic Zucchini, Organic Yellow Onion, Bunched Cilantro, Garlic, Small Hass Avocado, Broccoli Crown, Seedless Red Grapes, Asparagus, Organic Strawberries, Organic Baby Spinach, Banana, Organic Baby Arugula, Organic Avocado, Red Peppers, Organic Grape Tomatoes, Organic Red Onion, Yellow Onions, Cucumber Kirby, Strawberries, Limes, Organic Italian Parsley Bunch, Organic Baby Carrots, Honeycrisp Apple, Organic Cilantro, Organic Whole Milk, Michigan Organic Kale, Organic Cucumber, Organic Small Bunch Celery, Organic Garnet Sweet Potato (Yam), Organic Tomato Cluster, Apple Honeycrisp Organic, Organic Large Extra Fancy Fuji Apple, Organic Gala Apples, Organic Red Bell Pepper, Organic Lemon, Organic Ginger Root, Organic Blackberries, Raspberries]')]"
      ]
     },
     "execution_count": 38,
     "metadata": {},
     "output_type": "execute_result"
    }
   ],
   "source": [
    "DF_cast.head(3)"
   ]
  },
  {
   "cell_type": "code",
   "execution_count": 39,
   "id": "572fc1a4-8e7b-4e58-be23-75bb5a5619fb",
   "metadata": {},
   "outputs": [],
   "source": [
    "DF_cast.write.csv('mostPopularItemInABasket.csv')"
   ]
  },
  {
   "cell_type": "code",
   "execution_count": null,
   "id": "a609951b-d8f6-4443-a45c-d2e5d43411b8",
   "metadata": {},
   "outputs": [],
   "source": []
  }
 ],
 "metadata": {
  "kernelspec": {
   "display_name": "Python 3 (ipykernel)",
   "language": "python",
   "name": "python3"
  },
  "language_info": {
   "codemirror_mode": {
    "name": "ipython",
    "version": 3
   },
   "file_extension": ".py",
   "mimetype": "text/x-python",
   "name": "python",
   "nbconvert_exporter": "python",
   "pygments_lexer": "ipython3",
   "version": "3.9.12"
  }
 },
 "nbformat": 4,
 "nbformat_minor": 5
}
