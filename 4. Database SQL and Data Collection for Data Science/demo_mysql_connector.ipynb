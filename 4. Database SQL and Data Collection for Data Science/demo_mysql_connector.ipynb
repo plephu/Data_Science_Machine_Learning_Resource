{
 "cells": [
  {
   "cell_type": "code",
   "execution_count": 1,
   "id": "7d629cad",
   "metadata": {},
   "outputs": [],
   "source": [
    "# Import thư viện\n",
    "from mysql.connector import connect"
   ]
  },
  {
   "cell_type": "code",
   "execution_count": 7,
   "id": "8939a8aa",
   "metadata": {},
   "outputs": [],
   "source": [
    "# Tạo kết nối đến Database HumanResources\n",
    "cn = connect(host='localhost', user='root', password='', database='HumanResources', port='3306')"
   ]
  },
  {
   "cell_type": "code",
   "execution_count": 8,
   "id": "a84fb166",
   "metadata": {},
   "outputs": [
    {
     "data": {
      "text/plain": [
       "True"
      ]
     },
     "execution_count": 8,
     "metadata": {},
     "output_type": "execute_result"
    }
   ],
   "source": [
    "cn.is_connected()"
   ]
  },
  {
   "cell_type": "code",
   "execution_count": null,
   "id": "f204f92c",
   "metadata": {},
   "outputs": [],
   "source": []
  }
 ],
 "metadata": {
  "kernelspec": {
   "display_name": "Python 3 (ipykernel)",
   "language": "python",
   "name": "python3"
  },
  "language_info": {
   "codemirror_mode": {
    "name": "ipython",
    "version": 3
   },
   "file_extension": ".py",
   "mimetype": "text/x-python",
   "name": "python",
   "nbconvert_exporter": "python",
   "pygments_lexer": "ipython3",
   "version": "3.8.10"
  }
 },
 "nbformat": 4,
 "nbformat_minor": 5
}
