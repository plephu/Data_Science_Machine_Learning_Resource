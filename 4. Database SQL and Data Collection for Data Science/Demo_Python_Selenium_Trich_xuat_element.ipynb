{
 "cells": [
  {
   "cell_type": "code",
   "execution_count": 7,
   "id": "68e07596",
   "metadata": {},
   "outputs": [],
   "source": [
    "from selenium import webdriver\n",
    "from selenium.webdriver.common.by import By\n"
   ]
  },
  {
   "cell_type": "code",
   "execution_count": 8,
   "id": "0f5cba1a",
   "metadata": {},
   "outputs": [],
   "source": [
    "#Khởi tạo trình duyệt  Chrome\n",
    "#driver = webdriver.Chrome(executable_path='\"C:\\WebDriver\\chromedriver.exe\"')\n",
    "driver = webdriver.Chrome()"
   ]
  },
  {
   "cell_type": "code",
   "execution_count": 9,
   "id": "46602950",
   "metadata": {},
   "outputs": [],
   "source": [
    "# Yêu cần driver load trang https://csc.edu.vn/\n",
    "driver.get(\"https://csc.edu.vn/\")"
   ]
  },
  {
   "cell_type": "code",
   "execution_count": null,
   "id": "cdbaa81c",
   "metadata": {},
   "outputs": [],
   "source": [
    "# Tìm element có class = 'tieu-de-muc2'"
   ]
  },
  {
   "cell_type": "code",
   "execution_count": 28,
   "id": "082e9f7a",
   "metadata": {},
   "outputs": [
    {
     "name": "stdout",
     "output_type": "stream",
     "text": [
      "Chương trình đào tạo\n"
     ]
    }
   ],
   "source": [
    "try:\n",
    "    tieude = driver.find_element(by=By.CLASS_NAME, value='tieu-de-muc2')\n",
    "    print(tieude.text)\n",
    "except:\n",
    "    print('Không tìm thấy element')"
   ]
  },
  {
   "cell_type": "code",
   "execution_count": 25,
   "id": "de6e9371",
   "metadata": {},
   "outputs": [
    {
     "data": {
      "text/plain": [
       "<selenium.webdriver.remote.webelement.WebElement (session=\"426ef776a642a823fcd7851f9b64a3e5\", element=\"f49dd98b-f397-4a52-923c-90a6c984cd54\")>"
      ]
     },
     "execution_count": 25,
     "metadata": {},
     "output_type": "execute_result"
    }
   ],
   "source": [
    "tieude"
   ]
  },
  {
   "cell_type": "code",
   "execution_count": 22,
   "id": "02a841cd",
   "metadata": {},
   "outputs": [],
   "source": [
    "try:\n",
    "    tieude = driver.find_element(by=By.CSS_SELECTOR, value='h1.tieu-de-muc2')\n",
    "except:\n",
    "    print('Không tìm thấy element')"
   ]
  },
  {
   "cell_type": "code",
   "execution_count": 13,
   "id": "d3d965e5",
   "metadata": {},
   "outputs": [],
   "source": [
    "try:\n",
    "    tieude = driver.find_element(by=By.ID, value='dich-vu')\n",
    "except:\n",
    "    print('Không tìm thấy element')"
   ]
  },
  {
   "cell_type": "code",
   "execution_count": 14,
   "id": "d801b386",
   "metadata": {},
   "outputs": [
    {
     "data": {
      "text/plain": [
       "<selenium.webdriver.remote.webelement.WebElement (session=\"426ef776a642a823fcd7851f9b64a3e5\", element=\"eee4a5d4-cfa9-460a-88f1-08ed5c1eefaa\")>"
      ]
     },
     "execution_count": 14,
     "metadata": {},
     "output_type": "execute_result"
    }
   ],
   "source": [
    "tieude"
   ]
  },
  {
   "cell_type": "code",
   "execution_count": 27,
   "id": "27768a01",
   "metadata": {},
   "outputs": [
    {
     "name": "stdout",
     "output_type": "stream",
     "text": [
      "Tra cứu điểm thi\n",
      "https://csc.edu.vn/tra-cuu-diem-thi\n"
     ]
    }
   ],
   "source": [
    "try:\n",
    "    Link = driver.find_element(by=By.LINK_TEXT, value='Tra cứu điểm thi')\n",
    "    print(Link.text)\n",
    "    print(Link.get_attribute('href'))\n",
    "\n",
    "except:\n",
    "    print('Không tìm thấy element')\n",
    "    \n",
    "    "
   ]
  },
  {
   "cell_type": "code",
   "execution_count": 18,
   "id": "b72117c7",
   "metadata": {},
   "outputs": [
    {
     "data": {
      "text/plain": [
       "<selenium.webdriver.remote.webelement.WebElement (session=\"426ef776a642a823fcd7851f9b64a3e5\", element=\"92d38f75-bf62-4c35-b641-323aa27bd9bb\")>"
      ]
     },
     "execution_count": 18,
     "metadata": {},
     "output_type": "execute_result"
    }
   ],
   "source": [
    "Link"
   ]
  },
  {
   "cell_type": "code",
   "execution_count": null,
   "id": "3d851c3e",
   "metadata": {},
   "outputs": [],
   "source": []
  },
  {
   "cell_type": "code",
   "execution_count": null,
   "id": "59ed194c",
   "metadata": {},
   "outputs": [],
   "source": []
  },
  {
   "cell_type": "code",
   "execution_count": null,
   "id": "ebd483d7",
   "metadata": {},
   "outputs": [],
   "source": []
  },
  {
   "cell_type": "code",
   "execution_count": null,
   "id": "406291a9",
   "metadata": {},
   "outputs": [],
   "source": []
  },
  {
   "cell_type": "code",
   "execution_count": null,
   "id": "2392dd02",
   "metadata": {},
   "outputs": [],
   "source": []
  },
  {
   "cell_type": "code",
   "execution_count": null,
   "id": "a030e81b",
   "metadata": {},
   "outputs": [],
   "source": []
  },
  {
   "cell_type": "code",
   "execution_count": 4,
   "id": "bb198fec",
   "metadata": {},
   "outputs": [],
   "source": [
    "driver.close()"
   ]
  }
 ],
 "metadata": {
  "kernelspec": {
   "display_name": "Python 3 (ipykernel)",
   "language": "python",
   "name": "python3"
  },
  "language_info": {
   "codemirror_mode": {
    "name": "ipython",
    "version": 3
   },
   "file_extension": ".py",
   "mimetype": "text/x-python",
   "name": "python",
   "nbconvert_exporter": "python",
   "pygments_lexer": "ipython3",
   "version": "3.9.12"
  }
 },
 "nbformat": 4,
 "nbformat_minor": 5
}
