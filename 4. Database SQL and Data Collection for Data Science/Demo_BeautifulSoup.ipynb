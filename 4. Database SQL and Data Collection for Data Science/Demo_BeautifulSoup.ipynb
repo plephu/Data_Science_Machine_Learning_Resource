{
 "cells": [
  {
   "cell_type": "code",
   "execution_count": 1,
   "id": "c3d6a41f",
   "metadata": {},
   "outputs": [],
   "source": [
    "from bs4 import BeautifulSoup"
   ]
  },
  {
   "cell_type": "code",
   "execution_count": 15,
   "id": "15f9c6de",
   "metadata": {},
   "outputs": [],
   "source": [
    "content = '''\n",
    "<html>\n",
    "    <head>\n",
    "        <title>Đây là trang web của tôi</title>\n",
    "    </head>\n",
    "    <body>\n",
    "        <h2 class=\"noidung\">Nội dung trang web 1</h2>\n",
    "        <h2 class=\"noidung\">Nội dung trang web 2</h2>\n",
    "\n",
    "    </body>\n",
    "</html>\n",
    "'''"
   ]
  },
  {
   "cell_type": "code",
   "execution_count": 16,
   "id": "1dc185b0",
   "metadata": {},
   "outputs": [],
   "source": [
    "page_content = BeautifulSoup(content,\"html.parser\")"
   ]
  },
  {
   "cell_type": "code",
   "execution_count": 17,
   "id": "cc1374bd",
   "metadata": {},
   "outputs": [
    {
     "data": {
      "text/plain": [
       "\n",
       "<html>\n",
       "<head>\n",
       "<title>Đây là trang web của tôi</title>\n",
       "</head>\n",
       "<body>\n",
       "<h2 class=\"noidung\">Nội dung trang web 1</h2>\n",
       "<h2 class=\"noidung\">Nội dung trang web 2</h2>\n",
       "</body>\n",
       "</html>"
      ]
     },
     "execution_count": 17,
     "metadata": {},
     "output_type": "execute_result"
    }
   ],
   "source": [
    "page_content"
   ]
  },
  {
   "cell_type": "code",
   "execution_count": 18,
   "id": "fc45c8e4",
   "metadata": {},
   "outputs": [
    {
     "data": {
      "text/plain": [
       "<title>Đây là trang web của tôi</title>"
      ]
     },
     "execution_count": 18,
     "metadata": {},
     "output_type": "execute_result"
    }
   ],
   "source": [
    "page_content.title"
   ]
  },
  {
   "cell_type": "code",
   "execution_count": 43,
   "id": "4efbb435",
   "metadata": {},
   "outputs": [],
   "source": [
    "h2 = page_content.find(name = 'h2', attrs = {'class':'noidung'})"
   ]
  },
  {
   "cell_type": "code",
   "execution_count": 24,
   "id": "9a4b3a37",
   "metadata": {},
   "outputs": [
    {
     "data": {
      "text/plain": [
       "<h2 class=\"noidung\">Nội dung trang web 1</h2>"
      ]
     },
     "execution_count": 24,
     "metadata": {},
     "output_type": "execute_result"
    }
   ],
   "source": [
    "h2"
   ]
  },
  {
   "cell_type": "code",
   "execution_count": 25,
   "id": "fc8be621",
   "metadata": {},
   "outputs": [
    {
     "data": {
      "text/plain": [
       "'Nội dung trang web 1'"
      ]
     },
     "execution_count": 25,
     "metadata": {},
     "output_type": "execute_result"
    }
   ],
   "source": [
    "h2.text"
   ]
  },
  {
   "cell_type": "code",
   "execution_count": 28,
   "id": "713eb2f5",
   "metadata": {},
   "outputs": [],
   "source": [
    "cac_h2 = page_content.find_all(name = 'h2', attrs = {'class':'noidung'})"
   ]
  },
  {
   "cell_type": "code",
   "execution_count": 30,
   "id": "d9ced87f",
   "metadata": {},
   "outputs": [
    {
     "data": {
      "text/plain": [
       "[<h2 class=\"noidung\">Nội dung trang web 1</h2>,\n",
       " <h2 class=\"noidung\">Nội dung trang web 2</h2>]"
      ]
     },
     "execution_count": 30,
     "metadata": {},
     "output_type": "execute_result"
    }
   ],
   "source": [
    "cac_h2"
   ]
  },
  {
   "cell_type": "code",
   "execution_count": 33,
   "id": "cfaa717f",
   "metadata": {},
   "outputs": [],
   "source": [
    "h2 = page_content.find(name = 'h3', attrs = {'class':'noidung'})"
   ]
  },
  {
   "cell_type": "code",
   "execution_count": 35,
   "id": "9b7ef047",
   "metadata": {},
   "outputs": [],
   "source": [
    "h2"
   ]
  },
  {
   "cell_type": "code",
   "execution_count": 36,
   "id": "4b1bc979",
   "metadata": {},
   "outputs": [],
   "source": [
    "cac_h2 = page_content.find_all(name = 'h3', attrs = {'class':'noidung'})"
   ]
  },
  {
   "cell_type": "code",
   "execution_count": 37,
   "id": "6cbc0f12",
   "metadata": {},
   "outputs": [
    {
     "data": {
      "text/plain": [
       "[]"
      ]
     },
     "execution_count": 37,
     "metadata": {},
     "output_type": "execute_result"
    }
   ],
   "source": [
    "cac_h2"
   ]
  },
  {
   "cell_type": "code",
   "execution_count": 40,
   "id": "97bd11a3",
   "metadata": {},
   "outputs": [
    {
     "data": {
      "text/plain": [
       "<h2 class=\"noidung\">Nội dung trang web 1</h2>"
      ]
     },
     "execution_count": 40,
     "metadata": {},
     "output_type": "execute_result"
    }
   ],
   "source": [
    "page_content.body.h2"
   ]
  },
  {
   "cell_type": "code",
   "execution_count": 44,
   "id": "f445c987",
   "metadata": {},
   "outputs": [
    {
     "data": {
      "text/plain": [
       "'Nội dung trang web 1'"
      ]
     },
     "execution_count": 44,
     "metadata": {},
     "output_type": "execute_result"
    }
   ],
   "source": [
    "h2.text"
   ]
  },
  {
   "cell_type": "code",
   "execution_count": 45,
   "id": "a5926b73",
   "metadata": {},
   "outputs": [
    {
     "data": {
      "text/plain": [
       "['noidung']"
      ]
     },
     "execution_count": 45,
     "metadata": {},
     "output_type": "execute_result"
    }
   ],
   "source": [
    "h2['class']"
   ]
  },
  {
   "cell_type": "code",
   "execution_count": null,
   "id": "4679efc7",
   "metadata": {},
   "outputs": [],
   "source": []
  },
  {
   "cell_type": "code",
   "execution_count": null,
   "id": "b44c2ddc",
   "metadata": {},
   "outputs": [],
   "source": []
  },
  {
   "cell_type": "code",
   "execution_count": null,
   "id": "dfa03908",
   "metadata": {},
   "outputs": [],
   "source": []
  },
  {
   "cell_type": "code",
   "execution_count": null,
   "id": "8e6ccea0",
   "metadata": {},
   "outputs": [],
   "source": []
  }
 ],
 "metadata": {
  "kernelspec": {
   "display_name": "Python 3 (ipykernel)",
   "language": "python",
   "name": "python3"
  },
  "language_info": {
   "codemirror_mode": {
    "name": "ipython",
    "version": 3
   },
   "file_extension": ".py",
   "mimetype": "text/x-python",
   "name": "python",
   "nbconvert_exporter": "python",
   "pygments_lexer": "ipython3",
   "version": "3.9.12"
  }
 },
 "nbformat": 4,
 "nbformat_minor": 5
}
