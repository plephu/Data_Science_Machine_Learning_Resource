{
 "cells": [
  {
   "cell_type": "code",
   "execution_count": 7,
   "id": "c1f69bf9",
   "metadata": {},
   "outputs": [],
   "source": [
    "import pandas as pd\n",
    "\n",
    "from selenium import webdriver\n",
    "from selenium.webdriver.common.by import By\n"
   ]
  },
  {
   "cell_type": "code",
   "execution_count": 8,
   "id": "a5f7c163",
   "metadata": {},
   "outputs": [],
   "source": [
    "#Khởi tạo trình duyệt  Chrome\n",
    "#driver = webdriver.Chrome(executable_path='\"C:\\WebDriver\\chromedriver.exe\"')\n",
    "driver = webdriver.Chrome()"
   ]
  },
  {
   "cell_type": "code",
   "execution_count": 9,
   "id": "31a5c7be",
   "metadata": {},
   "outputs": [],
   "source": [
    "# Yêu cần driver load trang https://csc.edu.vn/\n",
    "driver.get(\"https://babycuatoi.vn/xep-hinh-thong-minh\")"
   ]
  },
  {
   "cell_type": "code",
   "execution_count": 25,
   "id": "517a1ea1",
   "metadata": {},
   "outputs": [],
   "source": [
    "while True:\n",
    "    try:\n",
    "        nut_xem_them = driver.find_element(by=By.ID,\n",
    "                                          value='viewmore')\n",
    "        nut_xem_them.click()\n",
    "        time.sleep(5)\n",
    "    except:\n",
    "        break"
   ]
  },
  {
   "cell_type": "code",
   "execution_count": 30,
   "id": "86f46890",
   "metadata": {},
   "outputs": [],
   "source": [
    "product_contains = driver.find_element(by=By.CLASS_NAME, value = 'list-product')"
   ]
  },
  {
   "cell_type": "code",
   "execution_count": 31,
   "id": "df498951",
   "metadata": {},
   "outputs": [
    {
     "ename": "TypeError",
     "evalue": "object of type 'WebElement' has no len()",
     "output_type": "error",
     "traceback": [
      "\u001b[1;31m---------------------------------------------------------------------------\u001b[0m",
      "\u001b[1;31mTypeError\u001b[0m                                 Traceback (most recent call last)",
      "Cell \u001b[1;32mIn [31], line 1\u001b[0m\n\u001b[1;32m----> 1\u001b[0m \u001b[38;5;28;43mlen\u001b[39;49m\u001b[43m(\u001b[49m\u001b[43mproduct_contains\u001b[49m\u001b[43m)\u001b[49m\n",
      "\u001b[1;31mTypeError\u001b[0m: object of type 'WebElement' has no len()"
     ]
    }
   ],
   "source": [
    "len(product_contains)"
   ]
  },
  {
   "cell_type": "code",
   "execution_count": 32,
   "id": "0294885a",
   "metadata": {},
   "outputs": [],
   "source": [
    "# lấy ds tên sp\n",
    "product_names = product_contains.find_elements(by=By.CLASS_NAME, \n",
    "                                               value = 'product')"
   ]
  },
  {
   "cell_type": "code",
   "execution_count": 33,
   "id": "0150840c",
   "metadata": {},
   "outputs": [
    {
     "data": {
      "text/plain": [
       "54"
      ]
     },
     "execution_count": 33,
     "metadata": {},
     "output_type": "execute_result"
    }
   ],
   "source": [
    "len(product_names)"
   ]
  },
  {
   "cell_type": "code",
   "execution_count": null,
   "id": "22d619e7",
   "metadata": {},
   "outputs": [],
   "source": [
    "lst_name = []\n",
    "for product in product_names:\n",
    "    lst_name.append(product.text)"
   ]
  }
 ],
 "metadata": {
  "kernelspec": {
   "display_name": "Python 3 (ipykernel)",
   "language": "python",
   "name": "python3"
  },
  "language_info": {
   "codemirror_mode": {
    "name": "ipython",
    "version": 3
   },
   "file_extension": ".py",
   "mimetype": "text/x-python",
   "name": "python",
   "nbconvert_exporter": "python",
   "pygments_lexer": "ipython3",
   "version": "3.9.12"
  }
 },
 "nbformat": 4,
 "nbformat_minor": 5
}
