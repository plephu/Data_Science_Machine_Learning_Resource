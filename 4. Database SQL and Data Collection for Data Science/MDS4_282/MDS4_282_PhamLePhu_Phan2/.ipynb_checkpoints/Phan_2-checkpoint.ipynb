{
 "cells": [
  {
   "cell_type": "code",
   "execution_count": 148,
   "id": "c1f69bf9",
   "metadata": {},
   "outputs": [],
   "source": [
    "import pandas as pd\n",
    "\n",
    "from selenium import webdriver\n",
    "from selenium.webdriver.common.by import By\n",
    "import time\n",
    "import re\n"
   ]
  },
  {
   "cell_type": "code",
   "execution_count": 149,
   "id": "32658ba5",
   "metadata": {},
   "outputs": [],
   "source": [
    "# 1"
   ]
  },
  {
   "cell_type": "code",
   "execution_count": 150,
   "id": "a5f7c163",
   "metadata": {},
   "outputs": [],
   "source": [
    "#Khởi tạo trình duyệt  Chrome\n",
    "driver = webdriver.Chrome()"
   ]
  },
  {
   "cell_type": "code",
   "execution_count": 151,
   "id": "31a5c7be",
   "metadata": {},
   "outputs": [],
   "source": [
    "# Yêu cần driver load trang https://csc.edu.vn/\n",
    "driver.get(\"https://babycuatoi.vn/xep-hinh-thong-minh\")"
   ]
  },
  {
   "cell_type": "code",
   "execution_count": 152,
   "id": "bbdb6514",
   "metadata": {},
   "outputs": [],
   "source": [
    "# 2"
   ]
  },
  {
   "cell_type": "code",
   "execution_count": 153,
   "id": "517a1ea1",
   "metadata": {},
   "outputs": [],
   "source": [
    "while True:\n",
    "    try:\n",
    "        nut_xem_them = driver.find_element(by=By.ID, value='viewmore')\n",
    "        nut_xem_them.click()\n",
    "        if nut_xem_them.get_attribute('class') == \"viewmore disabled\":\n",
    "            break\n",
    "        time.sleep(3)\n",
    "    except:\n",
    "        break"
   ]
  },
  {
   "cell_type": "code",
   "execution_count": 154,
   "id": "86f46890",
   "metadata": {},
   "outputs": [],
   "source": [
    "products = driver.find_elements(by=By.XPATH, value = '//div[@class=\"product tooltip\"]')"
   ]
  },
  {
   "cell_type": "code",
   "execution_count": 155,
   "id": "2f2acee2",
   "metadata": {},
   "outputs": [
    {
     "data": {
      "text/plain": [
       "54"
      ]
     },
     "execution_count": 155,
     "metadata": {},
     "output_type": "execute_result"
    }
   ],
   "source": [
    "len(products)"
   ]
  },
  {
   "cell_type": "code",
   "execution_count": 156,
   "id": "4da91d62",
   "metadata": {},
   "outputs": [],
   "source": [
    "lst_names = []\n",
    "lst_prices = []\n",
    "lst_discounts = []\n",
    "lst_descriptions=[]\n",
    "lst_images=[]\n",
    "lst_images_urls=[]\n"
   ]
  },
  {
   "cell_type": "code",
   "execution_count": 157,
   "id": "57998566",
   "metadata": {},
   "outputs": [],
   "source": [
    "def cleanhtml(raw_html):\n",
    "    CLEANR = re.compile('<.*?>') \n",
    "    cleantext = re.sub(CLEANR, '', raw_html)\n",
    "    return cleantext"
   ]
  },
  {
   "cell_type": "code",
   "execution_count": 158,
   "id": "0294885a",
   "metadata": {},
   "outputs": [],
   "source": [
    "for product in products:\n",
    "    # lấy ds tên sp\n",
    "    names = product.find_element(by=By.TAG_NAME, value = 'h3')\n",
    "    lst_names.append(names.text)\n",
    "    \n",
    "    # lấy ds đơn giá\n",
    "    prices = product.find_element(by=By.CSS_SELECTOR, value='div.box-price > p.price')\n",
    "    lst_prices.append(int(prices.text.replace('₫','').replace('.','')))\n",
    "    \n",
    "    # lấy ds giảm giá\n",
    "    discount = product.find_elements(by=By.CSS_SELECTOR, value = 'div.box-price > p.label')\n",
    "    if len(discount) > 0:\n",
    "        lst_discounts.append(int(discount[0].text.replace('%','')))\n",
    "    else:\n",
    "        lst_discounts.append(0)\n",
    "    \n",
    "     # lấy ds thong tin mo ta\n",
    "    description = product.find_element(by=By.CSS_SELECTOR, value='div.tooltip-content > p.des')\n",
    "    lst_descriptions.append(cleanhtml((description.get_attribute('innerHTML')).strip()))\n",
    "\n",
    "    # lấy ds img\n",
    "    image = product.find_element(by=By.CSS_SELECTOR,value='div.product-content > div.img > a > img')\n",
    "    lst_images_urls.append(image.get_attribute('src'))\n",
    "    lst_images.append(image.get_attribute('src').split('/')[-1])\n",
    "        "
   ]
  },
  {
   "cell_type": "code",
   "execution_count": 159,
   "id": "78a5a423",
   "metadata": {},
   "outputs": [
    {
     "data": {
      "text/plain": [
       "(54, 54, 54, 54, 54, 54)"
      ]
     },
     "execution_count": 159,
     "metadata": {},
     "output_type": "execute_result"
    }
   ],
   "source": [
    "len(lst_names), len(lst_prices),len(lst_discounts), len(lst_descriptions), len(lst_images), len(lst_images_urls)"
   ]
  },
  {
   "cell_type": "code",
   "execution_count": 160,
   "id": "eeb6ba10",
   "metadata": {},
   "outputs": [
    {
     "data": {
      "text/html": [
       "<div>\n",
       "<style scoped>\n",
       "    .dataframe tbody tr th:only-of-type {\n",
       "        vertical-align: middle;\n",
       "    }\n",
       "\n",
       "    .dataframe tbody tr th {\n",
       "        vertical-align: top;\n",
       "    }\n",
       "\n",
       "    .dataframe thead th {\n",
       "        text-align: right;\n",
       "    }\n",
       "</style>\n",
       "<table border=\"1\" class=\"dataframe\">\n",
       "  <thead>\n",
       "    <tr style=\"text-align: right;\">\n",
       "      <th></th>\n",
       "      <th>name</th>\n",
       "      <th>price</th>\n",
       "      <th>discount</th>\n",
       "      <th>descriptions</th>\n",
       "      <th>images</th>\n",
       "      <th>images_urls</th>\n",
       "    </tr>\n",
       "  </thead>\n",
       "  <tbody>\n",
       "    <tr>\n",
       "      <th>0</th>\n",
       "      <td>Đồ chơi xếp hình nam châm thông minh 64 chi ti...</td>\n",
       "      <td>249000</td>\n",
       "      <td>-20</td>\n",
       "      <td>SẢN PHẨM LÀ HÀNG CAO CẤP, CÓ CHỨNG NHẬN CO,CQ ...</td>\n",
       "      <td>clb-4-do-choi-xep-hinh-nam-cham-64-chi-tiet-ch...</td>\n",
       "      <td>https://sudospaces.com/babycuatoi/2022/09/clb-...</td>\n",
       "    </tr>\n",
       "    <tr>\n",
       "      <th>1</th>\n",
       "      <td>Đồ chơi mô hình đoàn tàu kèm bộ số BY-5001</td>\n",
       "      <td>156000</td>\n",
       "      <td>0</td>\n",
       "      <td>- Thương hiệu: BBT GLOBAL\\n\\n\\t\\t\\t\\t\\t\\t- Kíc...</td>\n",
       "      <td>by-5001-do-choi-doan-tau-vui-nhon-medium.jpg</td>\n",
       "      <td>https://sudospaces.com/babycuatoi/2021/01/by-5...</td>\n",
       "    </tr>\n",
       "    <tr>\n",
       "      <th>2</th>\n",
       "      <td>Đồ chơi xếp hình công viên thả bóng vui nhộn 1...</td>\n",
       "      <td>199000</td>\n",
       "      <td>-20</td>\n",
       "      <td>- Thương hiệu: BBT GLOBAL.\\n\\n\\t\\t\\t\\t\\t\\t- Dà...</td>\n",
       "      <td>6688-123a-do-choi-xep-hinh-thong-minh-cho-be-1...</td>\n",
       "      <td>https://sudospaces.com/babycuatoi/2023/01/6688...</td>\n",
       "    </tr>\n",
       "    <tr>\n",
       "      <th>3</th>\n",
       "      <td>Xếp hình thông minh tàu hỏa tuổi thơ BBT Globa...</td>\n",
       "      <td>263000</td>\n",
       "      <td>-20</td>\n",
       "      <td>- Thương hiệu: BBT Global\\n\\n\\t\\t\\t\\t\\t\\t- Số ...</td>\n",
       "      <td>5306-do-choi-xep-hinh-cho-be-10-medium.jpg</td>\n",
       "      <td>https://sudospaces.com/babycuatoi/2022/10/5306...</td>\n",
       "    </tr>\n",
       "    <tr>\n",
       "      <th>4</th>\n",
       "      <td>Đồ chơi xếp hình nông trại thả bóng vui nhộn 2...</td>\n",
       "      <td>319000</td>\n",
       "      <td>-20</td>\n",
       "      <td>- Thương hiệu: BBT Global\\n\\n\\t\\t\\t\\t\\t\\t- Dàn...</td>\n",
       "      <td>6688-123a-do-choi-xep-hinh-thong-minh-cho-be-1...</td>\n",
       "      <td>https://sudospaces.com/babycuatoi/2023/01/6688...</td>\n",
       "    </tr>\n",
       "    <tr>\n",
       "      <th>5</th>\n",
       "      <td>Đồ chơi xếp hình siêu nhân, Robot, xe cảnh sát...</td>\n",
       "      <td>349000</td>\n",
       "      <td>-20</td>\n",
       "      <td>- Thương hiệu: BBT GLOBAL\\n\\n\\t\\t\\t\\t\\t\\t- Dàn...</td>\n",
       "      <td>lx-a320-do-choi-mo-hinh-canh-sat-lap-rap-cho-b...</td>\n",
       "      <td>https://sudospaces.com/babycuatoi/2023/01/lx-a...</td>\n",
       "    </tr>\n",
       "    <tr>\n",
       "      <th>6</th>\n",
       "      <td>Bộ đồ chơi xếp hình thả bóng thông minh 48 chi...</td>\n",
       "      <td>220000</td>\n",
       "      <td>-20</td>\n",
       "      <td>✪ Thương hiệu: BBTGlobal \\n\\n\\t\\t\\t\\t\\t\\t✪ Độ ...</td>\n",
       "      <td>68078-do-choi-xep-hinh-tha-bong-cho-be-10-medi...</td>\n",
       "      <td>https://sudospaces.com/babycuatoi/2021/04/6807...</td>\n",
       "    </tr>\n",
       "    <tr>\n",
       "      <th>7</th>\n",
       "      <td>Bộ bàn ghế xếp hình LEGO đa năng kèm 105 chi t...</td>\n",
       "      <td>499000</td>\n",
       "      <td>-20</td>\n",
       "      <td>- Thương hiệu: BBT Global\\n\\n\\t\\t\\t\\t\\t\\t- Kíc...</td>\n",
       "      <td>ug401-2-ban-ghe-tre-em-kiem-xep-hinh-lego-cho-...</td>\n",
       "      <td>https://sudospaces.com/babycuatoi/2021/11/ug40...</td>\n",
       "    </tr>\n",
       "    <tr>\n",
       "      <th>8</th>\n",
       "      <td>Đồ chơi xếp hình khủng long máy Mecha Gorgila ...</td>\n",
       "      <td>379000</td>\n",
       "      <td>-20</td>\n",
       "      <td>- Thương hiệu: BBT Global\\n\\n\\t\\t\\t\\t\\t\\t- Kíc...</td>\n",
       "      <td>1510-do-choi-xep-hinh-khung-long-cho-be-medium...</td>\n",
       "      <td>https://sudospaces.com/babycuatoi/2022/10/1510...</td>\n",
       "    </tr>\n",
       "    <tr>\n",
       "      <th>9</th>\n",
       "      <td>Đồ chơi xếp hình tên lửa ROCKET 564 chi tiết L...</td>\n",
       "      <td>279000</td>\n",
       "      <td>0</td>\n",
       "      <td>- Thương hiệu: BBT GLOBAL.\\n\\n\\t\\t\\t\\t\\t\\t\\n\\n...</td>\n",
       "      <td>lx-a508-do-choi-xep-hinh-ten-lua-rocket-564-ch...</td>\n",
       "      <td>https://sudospaces.com/babycuatoi/2023/01/lx-a...</td>\n",
       "    </tr>\n",
       "  </tbody>\n",
       "</table>\n",
       "</div>"
      ],
      "text/plain": [
       "                                                name   price  discount  \\\n",
       "0  Đồ chơi xếp hình nam châm thông minh 64 chi ti...  249000       -20   \n",
       "1         Đồ chơi mô hình đoàn tàu kèm bộ số BY-5001  156000         0   \n",
       "2  Đồ chơi xếp hình công viên thả bóng vui nhộn 1...  199000       -20   \n",
       "3  Xếp hình thông minh tàu hỏa tuổi thơ BBT Globa...  263000       -20   \n",
       "4  Đồ chơi xếp hình nông trại thả bóng vui nhộn 2...  319000       -20   \n",
       "5  Đồ chơi xếp hình siêu nhân, Robot, xe cảnh sát...  349000       -20   \n",
       "6  Bộ đồ chơi xếp hình thả bóng thông minh 48 chi...  220000       -20   \n",
       "7  Bộ bàn ghế xếp hình LEGO đa năng kèm 105 chi t...  499000       -20   \n",
       "8  Đồ chơi xếp hình khủng long máy Mecha Gorgila ...  379000       -20   \n",
       "9  Đồ chơi xếp hình tên lửa ROCKET 564 chi tiết L...  279000         0   \n",
       "\n",
       "                                        descriptions  \\\n",
       "0  SẢN PHẨM LÀ HÀNG CAO CẤP, CÓ CHỨNG NHẬN CO,CQ ...   \n",
       "1  - Thương hiệu: BBT GLOBAL\\n\\n\\t\\t\\t\\t\\t\\t- Kíc...   \n",
       "2  - Thương hiệu: BBT GLOBAL.\\n\\n\\t\\t\\t\\t\\t\\t- Dà...   \n",
       "3  - Thương hiệu: BBT Global\\n\\n\\t\\t\\t\\t\\t\\t- Số ...   \n",
       "4  - Thương hiệu: BBT Global\\n\\n\\t\\t\\t\\t\\t\\t- Dàn...   \n",
       "5  - Thương hiệu: BBT GLOBAL\\n\\n\\t\\t\\t\\t\\t\\t- Dàn...   \n",
       "6  ✪ Thương hiệu: BBTGlobal \\n\\n\\t\\t\\t\\t\\t\\t✪ Độ ...   \n",
       "7  - Thương hiệu: BBT Global\\n\\n\\t\\t\\t\\t\\t\\t- Kíc...   \n",
       "8  - Thương hiệu: BBT Global\\n\\n\\t\\t\\t\\t\\t\\t- Kíc...   \n",
       "9  - Thương hiệu: BBT GLOBAL.\\n\\n\\t\\t\\t\\t\\t\\t\\n\\n...   \n",
       "\n",
       "                                              images  \\\n",
       "0  clb-4-do-choi-xep-hinh-nam-cham-64-chi-tiet-ch...   \n",
       "1       by-5001-do-choi-doan-tau-vui-nhon-medium.jpg   \n",
       "2  6688-123a-do-choi-xep-hinh-thong-minh-cho-be-1...   \n",
       "3         5306-do-choi-xep-hinh-cho-be-10-medium.jpg   \n",
       "4  6688-123a-do-choi-xep-hinh-thong-minh-cho-be-1...   \n",
       "5  lx-a320-do-choi-mo-hinh-canh-sat-lap-rap-cho-b...   \n",
       "6  68078-do-choi-xep-hinh-tha-bong-cho-be-10-medi...   \n",
       "7  ug401-2-ban-ghe-tre-em-kiem-xep-hinh-lego-cho-...   \n",
       "8  1510-do-choi-xep-hinh-khung-long-cho-be-medium...   \n",
       "9  lx-a508-do-choi-xep-hinh-ten-lua-rocket-564-ch...   \n",
       "\n",
       "                                         images_urls  \n",
       "0  https://sudospaces.com/babycuatoi/2022/09/clb-...  \n",
       "1  https://sudospaces.com/babycuatoi/2021/01/by-5...  \n",
       "2  https://sudospaces.com/babycuatoi/2023/01/6688...  \n",
       "3  https://sudospaces.com/babycuatoi/2022/10/5306...  \n",
       "4  https://sudospaces.com/babycuatoi/2023/01/6688...  \n",
       "5  https://sudospaces.com/babycuatoi/2023/01/lx-a...  \n",
       "6  https://sudospaces.com/babycuatoi/2021/04/6807...  \n",
       "7  https://sudospaces.com/babycuatoi/2021/11/ug40...  \n",
       "8  https://sudospaces.com/babycuatoi/2022/10/1510...  \n",
       "9  https://sudospaces.com/babycuatoi/2023/01/lx-a...  "
      ]
     },
     "execution_count": 160,
     "metadata": {},
     "output_type": "execute_result"
    }
   ],
   "source": [
    "df = pd.DataFrame({\n",
    "    'name': lst_names,\n",
    "    'price': lst_prices,\n",
    "    'discount': lst_discounts,\n",
    "    'descriptions': lst_descriptions,\n",
    "    'images' : lst_images,\n",
    "    'images_urls' :lst_images_urls\n",
    "})\n",
    "df.head(10)"
   ]
  },
  {
   "cell_type": "code",
   "execution_count": 161,
   "id": "f6cb03b2",
   "metadata": {},
   "outputs": [
    {
     "name": "stdout",
     "output_type": "stream",
     "text": [
      "<class 'pandas.core.frame.DataFrame'>\n",
      "RangeIndex: 54 entries, 0 to 53\n",
      "Data columns (total 6 columns):\n",
      " #   Column        Non-Null Count  Dtype \n",
      "---  ------        --------------  ----- \n",
      " 0   name          54 non-null     object\n",
      " 1   price         54 non-null     int64 \n",
      " 2   discount      54 non-null     int64 \n",
      " 3   descriptions  54 non-null     object\n",
      " 4   images        54 non-null     object\n",
      " 5   images_urls   54 non-null     object\n",
      "dtypes: int64(2), object(4)\n",
      "memory usage: 2.7+ KB\n"
     ]
    }
   ],
   "source": [
    "df.info()"
   ]
  },
  {
   "cell_type": "code",
   "execution_count": 162,
   "id": "cdf8eaae",
   "metadata": {},
   "outputs": [
    {
     "data": {
      "text/plain": [
       "(54, 6)"
      ]
     },
     "execution_count": 162,
     "metadata": {},
     "output_type": "execute_result"
    }
   ],
   "source": [
    "df.shape"
   ]
  },
  {
   "cell_type": "code",
   "execution_count": 165,
   "id": "836fdcc1",
   "metadata": {},
   "outputs": [],
   "source": [
    "# 3."
   ]
  },
  {
   "cell_type": "code",
   "execution_count": 166,
   "id": "016254d2",
   "metadata": {},
   "outputs": [],
   "source": [
    "\n",
    "df[['name','price','discount','descriptions','images']].to_csv('data/Products.csv', index=False,\n",
    "                                                            header=['Tên sản phẩm','Giá bán','Tỷ lệ giảm giá','Thông tin mô tả','Tên tập tin hình sản phẩm'])"
   ]
  },
  {
   "cell_type": "code",
   "execution_count": 167,
   "id": "f742a52a",
   "metadata": {},
   "outputs": [],
   "source": [
    "# tải hình ảnh\n",
    "import requests"
   ]
  },
  {
   "cell_type": "code",
   "execution_count": 168,
   "id": "ec4d9f5c",
   "metadata": {},
   "outputs": [],
   "source": [
    "for i in range(len(lst_images_urls)):\n",
    "    image_url = lst_images_urls[i]\n",
    "    image_name = lst_images[i]\n",
    "    with open('images/'+ image_name,'wb') as f:\n",
    "        image_response = requests.get(image_url)\n",
    "        f.write(image_response.content)"
   ]
  },
  {
   "cell_type": "code",
   "execution_count": 169,
   "id": "5f2f2273",
   "metadata": {},
   "outputs": [],
   "source": [
    "driver.close()"
   ]
  },
  {
   "cell_type": "code",
   "execution_count": null,
   "id": "1746907b",
   "metadata": {},
   "outputs": [],
   "source": []
  }
 ],
 "metadata": {
  "kernelspec": {
   "display_name": "Python 3 (ipykernel)",
   "language": "python",
   "name": "python3"
  },
  "language_info": {
   "codemirror_mode": {
    "name": "ipython",
    "version": 3
   },
   "file_extension": ".py",
   "mimetype": "text/x-python",
   "name": "python",
   "nbconvert_exporter": "python",
   "pygments_lexer": "ipython3",
   "version": "3.9.13"
  }
 },
 "nbformat": 4,
 "nbformat_minor": 5
}
