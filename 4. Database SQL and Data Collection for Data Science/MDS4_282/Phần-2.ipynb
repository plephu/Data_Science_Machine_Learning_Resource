{
 "cells": [
  {
   "cell_type": "markdown",
   "id": "98efe0bb",
   "metadata": {},
   "source": [
    "# Phần 2 - Thu thập dữ liệu"
   ]
  },
  {
   "cell_type": "markdown",
   "id": "af884640",
   "metadata": {},
   "source": [
    "## Câu 1"
   ]
  },
  {
   "cell_type": "code",
   "execution_count": 10,
   "id": "66de266b",
   "metadata": {},
   "outputs": [],
   "source": [
    "from selenium import webdriver\n",
    "from selenium.webdriver.common.by import By \n",
    "import time\n",
    "import pandas as pd"
   ]
  },
  {
   "cell_type": "code",
   "execution_count": 11,
   "id": "8c238129",
   "metadata": {},
   "outputs": [],
   "source": [
    "driver = webdriver.Chrome()"
   ]
  },
  {
   "cell_type": "code",
   "execution_count": 12,
   "id": "8ff03322",
   "metadata": {},
   "outputs": [],
   "source": [
    "driver.get('https://babycuatoi.vn/xep-hinh-thong-minh')"
   ]
  },
  {
   "cell_type": "markdown",
   "id": "0115ea2a",
   "metadata": {},
   "source": [
    "## Câu 2"
   ]
  },
  {
   "cell_type": "code",
   "execution_count": 13,
   "id": "584c4529",
   "metadata": {},
   "outputs": [],
   "source": [
    "while True:\n",
    "    try:\n",
    "        nut_xem_them = driver.find_element(by=By.CSS_SELECTOR, value='a#viewmore')\n",
    "        if nut_xem_them.get_attribute('class') == \"viewmore disabled\":\n",
    "            break\n",
    "        nut_xem_them.click()\n",
    "        time.sleep(3)\n",
    "    except:\n",
    "        break"
   ]
  },
  {
   "cell_type": "code",
   "execution_count": 14,
   "id": "d9bffc5d",
   "metadata": {},
   "outputs": [],
   "source": [
    "products = driver.find_elements(by=By.CLASS_NAME, value='product')"
   ]
  },
  {
   "cell_type": "code",
   "execution_count": 15,
   "id": "f3cda009",
   "metadata": {},
   "outputs": [],
   "source": [
    "import re\n",
    "def striphtml(data):\n",
    "    p = re.compile(r'<.*?>')\n",
    "    return p.sub('', data)\n",
    "def format_price(data):\n",
    "    return int(data.replace('.','').replace('đ','').replace('₫','').strip())\n",
    "def format_discount(data):\n",
    "    return int(data.replace('.','').replace('%','').strip())"
   ]
  },
  {
   "cell_type": "code",
   "execution_count": 16,
   "id": "37405fd7",
   "metadata": {},
   "outputs": [],
   "source": [
    "lst_names = []\n",
    "lst_prices = []\n",
    "lst_discounts = []\n",
    "lst_descriptions = []\n",
    "lst_images_names = []\n",
    "lst_images_urls = []\n",
    "\n",
    "for product in products:\n",
    "    name = product.find_element(by=By.CSS_SELECTOR, \n",
    "                                value='div.info > a > h3')\n",
    "    price = product.find_element(by=By.CSS_SELECTOR, \n",
    "                                value='div.box-price > p.price')\n",
    "    discount = product.find_elements(by=By.CSS_SELECTOR, \n",
    "                                value='div.box-price > p.label')\n",
    "    description = product.find_element(by=By.CSS_SELECTOR, \n",
    "                                value='div.tooltip-content > p.des')\n",
    "    image = product.find_element(by=By.CSS_SELECTOR, \n",
    "                                value='div.product-content > div.img > a > img')\n",
    "\n",
    "    lst_names.append(name.text)\n",
    "    lst_prices.append(format_price(price.text))\n",
    "    lst_images_urls.append(image.get_attribute('src'))\n",
    "    lst_images_names.append(image.get_attribute('src').split('/')[-1])\n",
    "    if len(discount) > 0:\n",
    "        lst_discounts.append(format_discount(discount[0].text))\n",
    "    else:\n",
    "        lst_discounts.append(0)\n",
    "    lst_descriptions.append(striphtml(description.get_attribute('innerHTML')).strip())\n",
    "\n",
    "df = pd.DataFrame({\n",
    "    'Tên sản phẩm': lst_names,\n",
    "    'Giá bán': lst_prices,\n",
    "    'Tỷ lệ giảm giá': lst_discounts,\n",
    "    'Thông tin mô tả': lst_descriptions,\n",
    "    'Tên tập tin hình sản phẩm': lst_images_names\n",
    "})"
   ]
  },
  {
   "cell_type": "code",
   "execution_count": 131,
   "id": "1da88528",
   "metadata": {},
   "outputs": [
    {
     "data": {
      "text/html": [
       "<div>\n",
       "<style scoped>\n",
       "    .dataframe tbody tr th:only-of-type {\n",
       "        vertical-align: middle;\n",
       "    }\n",
       "\n",
       "    .dataframe tbody tr th {\n",
       "        vertical-align: top;\n",
       "    }\n",
       "\n",
       "    .dataframe thead th {\n",
       "        text-align: right;\n",
       "    }\n",
       "</style>\n",
       "<table border=\"1\" class=\"dataframe\">\n",
       "  <thead>\n",
       "    <tr style=\"text-align: right;\">\n",
       "      <th></th>\n",
       "      <th>Tên sản phẩm</th>\n",
       "      <th>Giá bán</th>\n",
       "      <th>Tỷ lệ giảm giá</th>\n",
       "      <th>Thông tin mô tả</th>\n",
       "      <th>Tên tập tin hình sản phẩm</th>\n",
       "    </tr>\n",
       "  </thead>\n",
       "  <tbody>\n",
       "    <tr>\n",
       "      <th>0</th>\n",
       "      <td>Đồ chơi xếp hình nam châm thông minh 64 chi ti...</td>\n",
       "      <td>249000</td>\n",
       "      <td>-20</td>\n",
       "      <td>SẢN PHẨM LÀ HÀNG CAO CẤP, CÓ CHỨNG NHẬN CO,CQ ...</td>\n",
       "      <td>clb-4-do-choi-xep-hinh-nam-cham-64-chi-tiet-ch...</td>\n",
       "    </tr>\n",
       "    <tr>\n",
       "      <th>1</th>\n",
       "      <td>Đồ chơi mô hình đoàn tàu kèm bộ số BY-5001</td>\n",
       "      <td>156000</td>\n",
       "      <td>0</td>\n",
       "      <td>- Thương hiệu: BBT GLOBAL\\n\\n\\t\\t\\t\\t\\t\\t- Kíc...</td>\n",
       "      <td>by-5001-do-choi-doan-tau-vui-nhon-medium.jpg</td>\n",
       "    </tr>\n",
       "    <tr>\n",
       "      <th>2</th>\n",
       "      <td>Đồ chơi xếp hình công viên thả bóng vui nhộn 1...</td>\n",
       "      <td>199000</td>\n",
       "      <td>-20</td>\n",
       "      <td>- Thương hiệu: BBT GLOBAL.\\n\\n\\t\\t\\t\\t\\t\\t- Dà...</td>\n",
       "      <td>6688-123a-do-choi-xep-hinh-thong-minh-cho-be-1...</td>\n",
       "    </tr>\n",
       "    <tr>\n",
       "      <th>3</th>\n",
       "      <td>Xếp hình thông minh tàu hỏa tuổi thơ BBT Globa...</td>\n",
       "      <td>263000</td>\n",
       "      <td>-20</td>\n",
       "      <td>- Thương hiệu: BBT Global\\n\\n\\t\\t\\t\\t\\t\\t- Số ...</td>\n",
       "      <td>5306-do-choi-xep-hinh-cho-be-10-medium.jpg</td>\n",
       "    </tr>\n",
       "    <tr>\n",
       "      <th>4</th>\n",
       "      <td>Đồ chơi xếp hình nông trại thả bóng vui nhộn 2...</td>\n",
       "      <td>319000</td>\n",
       "      <td>-20</td>\n",
       "      <td>- Thương hiệu: BBT Global\\n\\n\\t\\t\\t\\t\\t\\t- Dàn...</td>\n",
       "      <td>6688-123a-do-choi-xep-hinh-thong-minh-cho-be-1...</td>\n",
       "    </tr>\n",
       "  </tbody>\n",
       "</table>\n",
       "</div>"
      ],
      "text/plain": [
       "                                        Tên sản phẩm  Giá bán  Tỷ lệ giảm giá  \\\n",
       "0  Đồ chơi xếp hình nam châm thông minh 64 chi ti...   249000             -20   \n",
       "1         Đồ chơi mô hình đoàn tàu kèm bộ số BY-5001   156000               0   \n",
       "2  Đồ chơi xếp hình công viên thả bóng vui nhộn 1...   199000             -20   \n",
       "3  Xếp hình thông minh tàu hỏa tuổi thơ BBT Globa...   263000             -20   \n",
       "4  Đồ chơi xếp hình nông trại thả bóng vui nhộn 2...   319000             -20   \n",
       "\n",
       "                                     Thông tin mô tả  \\\n",
       "0  SẢN PHẨM LÀ HÀNG CAO CẤP, CÓ CHỨNG NHẬN CO,CQ ...   \n",
       "1  - Thương hiệu: BBT GLOBAL\\n\\n\\t\\t\\t\\t\\t\\t- Kíc...   \n",
       "2  - Thương hiệu: BBT GLOBAL.\\n\\n\\t\\t\\t\\t\\t\\t- Dà...   \n",
       "3  - Thương hiệu: BBT Global\\n\\n\\t\\t\\t\\t\\t\\t- Số ...   \n",
       "4  - Thương hiệu: BBT Global\\n\\n\\t\\t\\t\\t\\t\\t- Dàn...   \n",
       "\n",
       "                           Tên tập tin hình sản phẩm  \n",
       "0  clb-4-do-choi-xep-hinh-nam-cham-64-chi-tiet-ch...  \n",
       "1       by-5001-do-choi-doan-tau-vui-nhon-medium.jpg  \n",
       "2  6688-123a-do-choi-xep-hinh-thong-minh-cho-be-1...  \n",
       "3         5306-do-choi-xep-hinh-cho-be-10-medium.jpg  \n",
       "4  6688-123a-do-choi-xep-hinh-thong-minh-cho-be-1...  "
      ]
     },
     "execution_count": 131,
     "metadata": {},
     "output_type": "execute_result"
    }
   ],
   "source": [
    "df.head()"
   ]
  },
  {
   "cell_type": "code",
   "execution_count": 121,
   "id": "b685380f",
   "metadata": {},
   "outputs": [
    {
     "data": {
      "text/plain": [
       "(54, 5)"
      ]
     },
     "execution_count": 121,
     "metadata": {},
     "output_type": "execute_result"
    }
   ],
   "source": [
    "df.shape"
   ]
  },
  {
   "cell_type": "markdown",
   "id": "d7274711",
   "metadata": {},
   "source": [
    "## Câu 3"
   ]
  },
  {
   "cell_type": "code",
   "execution_count": 133,
   "id": "632f628c",
   "metadata": {},
   "outputs": [],
   "source": [
    "path = 'data/Products.csv'\n",
    "df.to_csv(path, index=False)"
   ]
  },
  {
   "cell_type": "markdown",
   "id": "9fdbcc55",
   "metadata": {},
   "source": [
    "## Câu 4"
   ]
  },
  {
   "cell_type": "code",
   "execution_count": 127,
   "id": "d80b248c",
   "metadata": {},
   "outputs": [],
   "source": [
    "import requests"
   ]
  },
  {
   "cell_type": "code",
   "execution_count": 128,
   "id": "f870db0b",
   "metadata": {},
   "outputs": [
    {
     "data": {
      "text/plain": [
       "54"
      ]
     },
     "execution_count": 128,
     "metadata": {},
     "output_type": "execute_result"
    }
   ],
   "source": [
    "len(lst_images_names)"
   ]
  },
  {
   "cell_type": "code",
   "execution_count": 132,
   "id": "d6bcd5ec",
   "metadata": {},
   "outputs": [],
   "source": [
    "for index in range(len(lst_images_names)):\n",
    "    image_name = lst_images_names[index]\n",
    "    image_url = lst_images_urls[index]\n",
    "    with open('Images/'+image_name, 'wb') as f:\n",
    "        res = requests.get(image_url)\n",
    "        f.write(res.content)"
   ]
  },
  {
   "cell_type": "code",
   "execution_count": 9,
   "id": "be3bb1de",
   "metadata": {},
   "outputs": [],
   "source": [
    "driver.close()"
   ]
  },
  {
   "cell_type": "code",
   "execution_count": null,
   "id": "3a2c4644",
   "metadata": {},
   "outputs": [],
   "source": []
  }
 ],
 "metadata": {
  "kernelspec": {
   "display_name": "Python 3 (ipykernel)",
   "language": "python",
   "name": "python3"
  },
  "language_info": {
   "codemirror_mode": {
    "name": "ipython",
    "version": 3
   },
   "file_extension": ".py",
   "mimetype": "text/x-python",
   "name": "python",
   "nbconvert_exporter": "python",
   "pygments_lexer": "ipython3",
   "version": "3.9.13"
  }
 },
 "nbformat": 4,
 "nbformat_minor": 5
}
