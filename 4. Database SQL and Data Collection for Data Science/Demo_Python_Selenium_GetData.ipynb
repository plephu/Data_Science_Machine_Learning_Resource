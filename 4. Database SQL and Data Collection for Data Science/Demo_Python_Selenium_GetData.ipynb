{
 "cells": [
  {
   "cell_type": "code",
   "execution_count": 1,
   "id": "6a3a2933",
   "metadata": {},
   "outputs": [],
   "source": [
    "import pandas as pd\n",
    "\n",
    "from selenium import webdriver\n",
    "from selenium.webdriver.common.by import By\n"
   ]
  },
  {
   "cell_type": "code",
   "execution_count": 2,
   "id": "23073c49",
   "metadata": {},
   "outputs": [],
   "source": [
    "try:\n",
    "    driver = webdriver.Chrome()\n",
    "except:\n",
    "    driver = webdriver.Chrome(executable_path='\"C:\\WebDriver\\chromedriver.exe\"')\n"
   ]
  },
  {
   "cell_type": "code",
   "execution_count": 3,
   "id": "669ebeb8",
   "metadata": {},
   "outputs": [],
   "source": [
    "# Truy xuất trang web https://www.tnc.com.vn/laptop-laptop-hp-chinh-hang-html.html\n",
    "page_url = \"https://www.tnc.com.vn/laptop-laptop-hp-chinh-hang-html.html\""
   ]
  },
  {
   "cell_type": "code",
   "execution_count": 4,
   "id": "14b3a0d7",
   "metadata": {},
   "outputs": [],
   "source": [
    "driver.get(page_url)"
   ]
  },
  {
   "cell_type": "code",
   "execution_count": 5,
   "id": "9bb5321b",
   "metadata": {},
   "outputs": [],
   "source": [
    "product_contains = driver.find_element(by=By.ID, value = 'list-product')"
   ]
  },
  {
   "cell_type": "code",
   "execution_count": 6,
   "id": "24807f02",
   "metadata": {},
   "outputs": [],
   "source": [
    "# lấy ds tên sp\n",
    "product_names = product_contains.find_elements(by=By.XPATH, \n",
    "                                               value = '//div[@class=\"text\"]/h2/a')"
   ]
  },
  {
   "cell_type": "code",
   "execution_count": 7,
   "id": "8476b82e",
   "metadata": {},
   "outputs": [],
   "source": [
    "lst_name = []\n",
    "for product in product_names:\n",
    "    lst_name.append(product.text)"
   ]
  },
  {
   "cell_type": "code",
   "execution_count": 8,
   "id": "5adeebbb",
   "metadata": {},
   "outputs": [
    {
     "data": {
      "text/plain": [
       "['Laptop HP 14s-fq1080AU 4K0Z7PA (Bạc)',\n",
       " 'Laptop HP 245 G8 53Y18PA (Bạc)',\n",
       " 'Laptop HP 15s-fq2712TU 7C0X2PA (Bạc)',\n",
       " 'Laptop HP 14s-dq2644TU 7C0W6PA (Bạc)',\n",
       " 'Laptop HP 240 G9 6L1X7PA (Bạc)']"
      ]
     },
     "execution_count": 8,
     "metadata": {},
     "output_type": "execute_result"
    }
   ],
   "source": [
    "lst_name[:5]"
   ]
  },
  {
   "cell_type": "code",
   "execution_count": 9,
   "id": "580c5ebb",
   "metadata": {},
   "outputs": [],
   "source": [
    "# lấy ds đơn giá\n",
    "product_prices = product_contains.find_elements(by=By.CSS_SELECTOR, \n",
    "                                               value = 'div.price')"
   ]
  },
  {
   "cell_type": "code",
   "execution_count": 10,
   "id": "f71aecb5",
   "metadata": {},
   "outputs": [],
   "source": [
    "lst_prices = []\n",
    "for product in product_prices:\n",
    "    lst_prices.append(int(product.text.replace('đ','').replace('.','')))"
   ]
  },
  {
   "cell_type": "code",
   "execution_count": 11,
   "id": "b79da146",
   "metadata": {},
   "outputs": [
    {
     "data": {
      "text/plain": [
       "[7990000, 9790000, 10990000, 11590000, 11890000]"
      ]
     },
     "execution_count": 11,
     "metadata": {},
     "output_type": "execute_result"
    }
   ],
   "source": [
    "lst_prices[:5]"
   ]
  },
  {
   "cell_type": "code",
   "execution_count": 12,
   "id": "8d91276f",
   "metadata": {
    "scrolled": true
   },
   "outputs": [],
   "source": [
    "product_names[0].get_attribute('data-original-title')"
   ]
  },
  {
   "cell_type": "code",
   "execution_count": 13,
   "id": "9e365ce5",
   "metadata": {},
   "outputs": [],
   "source": [
    "# lấy ds hình sp\n",
    "product_images = product_contains.find_elements(by=By.XPATH, \n",
    "                                               value = '//div[@id=\"list-product\"]//div[@class=\"thumb\"]/a/img')"
   ]
  },
  {
   "cell_type": "code",
   "execution_count": 14,
   "id": "10024aee",
   "metadata": {},
   "outputs": [],
   "source": [
    "# lưu ds hình vào lst\n",
    "lst_image_names = []\n",
    "lst_image_url = []\n",
    "for product in product_images:\n",
    "    image_url = product.get_attribute('src')\n",
    "    lst_image_url.append(image_url)\n",
    "    lst_image_names.append(image_url.split('/')[-1])\n"
   ]
  },
  {
   "cell_type": "code",
   "execution_count": 15,
   "id": "e734b628",
   "metadata": {},
   "outputs": [
    {
     "data": {
      "text/plain": [
       "['370x200_laptop-hp-14s-fq1080au-4k0z7pa-bac.png',\n",
       " '370x200_laptop-hp-245-g8-53y18pa-bac.png',\n",
       " '370x200_laptop-hp-15s-fq2712tu-7c0x2pa-bac.png',\n",
       " '370x200_laptop-hp-14s-dq2644tu-7c0w6pa-bac.png',\n",
       " '370x200_laptop-hp-240-g9-6l1x7pa-bac.png']"
      ]
     },
     "execution_count": 15,
     "metadata": {},
     "output_type": "execute_result"
    }
   ],
   "source": [
    "lst_image_names[:5]"
   ]
  },
  {
   "cell_type": "code",
   "execution_count": 16,
   "id": "ac9fa15b",
   "metadata": {},
   "outputs": [
    {
     "data": {
      "text/plain": [
       "40"
      ]
     },
     "execution_count": 16,
     "metadata": {},
     "output_type": "execute_result"
    }
   ],
   "source": [
    "len(product_images)"
   ]
  },
  {
   "cell_type": "code",
   "execution_count": 17,
   "id": "20327675",
   "metadata": {},
   "outputs": [
    {
     "name": "stdout",
     "output_type": "stream",
     "text": [
      "https://www.tnc.com.vn/uploads/product/sp2021/thumbs/370x200_laptop-hp-14s-fq1080au-4k0z7pa-bac.png\n",
      "https://www.tnc.com.vn/uploads/product/sp2021/thumbs/370x200_laptop-hp-245-g8-53y18pa-bac.png\n",
      "https://www.tnc.com.vn/uploads/product/sp2021/thumbs/370x200_laptop-hp-15s-fq2712tu-7c0x2pa-bac.png\n",
      "https://www.tnc.com.vn/uploads/product/sp2021/thumbs/370x200_laptop-hp-14s-dq2644tu-7c0w6pa-bac.png\n",
      "https://www.tnc.com.vn/uploads/product/sp2021/thumbs/370x200_laptop-hp-240-g9-6l1x7pa-bac.png\n",
      "https://www.tnc.com.vn/uploads/product/sp2021/thumbs/370x200_laptop-hp-pavilion-14-dv0516tu-46l88pa-vang.jpg\n",
      "https://www.tnc.com.vn/uploads/product/sp2021/thumbs/370x200_laptop-hp-240-g9-6l1x0pa-bac.png\n",
      "https://www.tnc.com.vn/uploads/product/sp2021/thumbs/370x200_laptop-hp-14s-fq1065au-4k0z5pa-bac.png\n",
      "https://www.tnc.com.vn/uploads/product/sp2021/thumbs/370x200_laptop-hp-pavilion-15-eg2086tu-7c0q8pa-vang.png\n",
      "https://www.tnc.com.vn/uploads/product/sp2021/thumbs/370x200_laptop-hp-pavilion-14-dv2070tu-7c0v9pa-bac.png\n",
      "https://www.tnc.com.vn/uploads/product/sp2021/thumbs/370x200_laptop-hp-pavilion-15-eg2087tu-7c0q9pa-bac.png\n",
      "https://www.tnc.com.vn/uploads/product/sp2021/thumbs/370x200_laptop-hp-pavilion-14-dv2069tu-7c0p1pa-vang.png\n",
      "https://www.tnc.com.vn/uploads/product/sp2021/thumbs/370x200_laptop-hp-pavilion-x360-14-ek0059tu-6k7e1pa-xanh.png\n",
      "https://www.tnc.com.vn/uploads/product/sp2021/thumbs/370x200_laptop-hp-probook-440-g9-6m0q8pa-bac.png\n",
      "https://www.tnc.com.vn/uploads/product/sp2021/thumbs/370x200_laptop-hp-14s-dq5053tu-6r9m6pa-bac.png\n",
      "https://www.tnc.com.vn/uploads/product/sp2021/thumbs/370x200_laptop-hp-240-g8-617l5pa-bac.png\n",
      "https://www.tnc.com.vn/uploads/product/sp2021/thumbs/370x200_laptop-hp-15s-fq5081tu-6k7a1pa-bac.png\n",
      "https://www.tnc.com.vn/uploads/product/sp2021/thumbs/370x200_laptop-hp-15s-fq5163tu-7c135pa-bac.png\n",
      "https://www.tnc.com.vn/uploads/product/sp2021/thumbs/370x200_laptop-hp-probook-635-aero-g8-46j48pa-bac.png\n",
      "https://www.tnc.com.vn/uploads/product/sp2021/thumbs/370x200_laptop-hp-240-g9-6l1y1pa-bac.png\n",
      "https://www.tnc.com.vn/uploads/product/sp2021/thumbs/370x200_laptop-hp-240-g9-6l1y2pa-bac.png\n",
      "https://www.tnc.com.vn/uploads/product/sp2021/thumbs/370x200_laptop-hp-15s-fq5078tu-6k798pa-bac.png\n",
      "https://www.tnc.com.vn/uploads/product/sp2021/thumbs/370x200_laptop-hp-pavilion-x360-14-ek0130tu-7c0p5pa-vang.jpg\n",
      "https://www.tnc.com.vn/uploads/product/thumbs/370x200_15s.1.png\n",
      "https://www.tnc.com.vn/uploads/product/sp2021/thumbs/370x200_laptop-hp-pavilion-14-dv2034tu-6k770pa-bac.png\n",
      "https://www.tnc.com.vn/uploads/product/sp2021/thumbs/370x200_laptop-hp-pavilion-14-dv2077tu-7c0w3pa-bac.png\n",
      "https://www.tnc.com.vn/uploads/product/sp2021/thumbs/370x200_laptop-hp-pavilion-14-dv2076tu-7c0p4pa-vang.png\n",
      "https://www.tnc.com.vn/uploads/product/sp2021/thumbs/370x200_laptop-hp-14s-dq5052tu-6t6r2pa-bac.png\n",
      "https://www.tnc.com.vn/uploads/product/sp2021/thumbs/370x200_laptop-hp-pavilion-14-dv2074tu-7c0p3pa-vang.png\n",
      "https://www.tnc.com.vn/uploads/product/sp2021/thumbs/370x200_laptop-hp-pavilion-x360-14-dy0169tu-4y1d4pa-vang.jpg\n",
      "https://www.tnc.com.vn/uploads/product/sp2021/thumbs/370x200_laptop-hp-15s-fq5104tu-6k7e4pa-bac.png\n",
      "https://www.tnc.com.vn/uploads/product/sp2021/thumbs/370x200_laptop-hp-pavilion-15-eg2082tu-7c0q5pa-vang.png\n",
      "https://www.tnc.com.vn/uploads/product/sp2021/thumbs/370x200_laptop-hp-pavilion-15-eg2083tu-7c0w9pa-bac.png\n",
      "https://www.tnc.com.vn/uploads/product/sp2021/thumbs/370x200_laptop-hp-pavilion-14-dv2075tu-7c0w2pa-bac.png\n",
      "https://www.tnc.com.vn/uploads/product/sp2021/thumbs/370x200_laptop-hp-pavilion-14-dv2073tu-7c0p2pa-vang.png\n",
      "https://www.tnc.com.vn/uploads/product/sp2021/thumbs/370x200_laptop-hp-probook-440-g9-6m0x2pa-bac.png\n",
      "https://www.tnc.com.vn/uploads/product/sp2021/thumbs/370x200_laptop-hp-pavilion-15-eg2036tx-6k782pa-bac.png\n",
      "https://www.tnc.com.vn/uploads/product/sp2021/thumbs/370x200_laptop-hp-15s-fq5159tu-7c0s0pa-bac.png\n",
      "https://www.tnc.com.vn/uploads/product/sp2021/thumbs/370x200_laptop-hp-pavilion-15-eg2064tx-7c0w8pa-vang.png\n",
      "https://www.tnc.com.vn/uploads/product/sp2021/thumbs/370x200_laptop-hp-pavilion-15-eg2081tu-7c0q4pa-bac.png\n"
     ]
    }
   ],
   "source": [
    "for image in product_images:\n",
    "    print(image.get_attribute('src'))"
   ]
  },
  {
   "cell_type": "code",
   "execution_count": 18,
   "id": "19084980",
   "metadata": {},
   "outputs": [],
   "source": [
    "# Lấy ds cho biết sp có quà tặng hay không"
   ]
  },
  {
   "cell_type": "code",
   "execution_count": 19,
   "id": "c7ff2e48",
   "metadata": {},
   "outputs": [],
   "source": [
    "product_gift = product_contains.find_elements(by=By.CSS_SELECTOR,\n",
    "                                             value='div.tangngay')"
   ]
  },
  {
   "cell_type": "code",
   "execution_count": 20,
   "id": "cd4fe833",
   "metadata": {},
   "outputs": [
    {
     "data": {
      "text/plain": [
       "40"
      ]
     },
     "execution_count": 20,
     "metadata": {},
     "output_type": "execute_result"
    }
   ],
   "source": [
    "len(product_gift)"
   ]
  },
  {
   "cell_type": "code",
   "execution_count": 21,
   "id": "c41d512f",
   "metadata": {},
   "outputs": [],
   "source": [
    "lst_gifts = []\n",
    "for product in product_gift:\n",
    "    if product.text == '':\n",
    "        lst_gifts.append(False)\n",
    "    else:\n",
    "        lst_gifts.append(True)\n",
    "\n",
    "    "
   ]
  },
  {
   "cell_type": "code",
   "execution_count": 22,
   "id": "332b538d",
   "metadata": {},
   "outputs": [
    {
     "data": {
      "text/plain": [
       "[True, False, True, True, False]"
      ]
     },
     "execution_count": 22,
     "metadata": {},
     "output_type": "execute_result"
    }
   ],
   "source": [
    "lst_gifts[:5]\n"
   ]
  },
  {
   "cell_type": "code",
   "execution_count": 24,
   "id": "5527d55a",
   "metadata": {
    "scrolled": true
   },
   "outputs": [
    {
     "data": {
      "text/html": [
       "<div>\n",
       "<style scoped>\n",
       "    .dataframe tbody tr th:only-of-type {\n",
       "        vertical-align: middle;\n",
       "    }\n",
       "\n",
       "    .dataframe tbody tr th {\n",
       "        vertical-align: top;\n",
       "    }\n",
       "\n",
       "    .dataframe thead th {\n",
       "        text-align: right;\n",
       "    }\n",
       "</style>\n",
       "<table border=\"1\" class=\"dataframe\">\n",
       "  <thead>\n",
       "    <tr style=\"text-align: right;\">\n",
       "      <th></th>\n",
       "      <th>name</th>\n",
       "      <th>price</th>\n",
       "      <th>image</th>\n",
       "      <th>gift</th>\n",
       "    </tr>\n",
       "  </thead>\n",
       "  <tbody>\n",
       "    <tr>\n",
       "      <th>0</th>\n",
       "      <td>Laptop HP 14s-fq1080AU 4K0Z7PA (Bạc)</td>\n",
       "      <td>7990000</td>\n",
       "      <td>370x200_laptop-hp-14s-fq1080au-4k0z7pa-bac.png</td>\n",
       "      <td>True</td>\n",
       "    </tr>\n",
       "    <tr>\n",
       "      <th>1</th>\n",
       "      <td>Laptop HP 245 G8 53Y18PA (Bạc)</td>\n",
       "      <td>9790000</td>\n",
       "      <td>370x200_laptop-hp-245-g8-53y18pa-bac.png</td>\n",
       "      <td>False</td>\n",
       "    </tr>\n",
       "    <tr>\n",
       "      <th>2</th>\n",
       "      <td>Laptop HP 15s-fq2712TU 7C0X2PA (Bạc)</td>\n",
       "      <td>10990000</td>\n",
       "      <td>370x200_laptop-hp-15s-fq2712tu-7c0x2pa-bac.png</td>\n",
       "      <td>True</td>\n",
       "    </tr>\n",
       "    <tr>\n",
       "      <th>3</th>\n",
       "      <td>Laptop HP 14s-dq2644TU 7C0W6PA (Bạc)</td>\n",
       "      <td>11590000</td>\n",
       "      <td>370x200_laptop-hp-14s-dq2644tu-7c0w6pa-bac.png</td>\n",
       "      <td>True</td>\n",
       "    </tr>\n",
       "    <tr>\n",
       "      <th>4</th>\n",
       "      <td>Laptop HP 240 G9 6L1X7PA (Bạc)</td>\n",
       "      <td>11890000</td>\n",
       "      <td>370x200_laptop-hp-240-g9-6l1x7pa-bac.png</td>\n",
       "      <td>False</td>\n",
       "    </tr>\n",
       "  </tbody>\n",
       "</table>\n",
       "</div>"
      ],
      "text/plain": [
       "                                   name     price  \\\n",
       "0  Laptop HP 14s-fq1080AU 4K0Z7PA (Bạc)   7990000   \n",
       "1        Laptop HP 245 G8 53Y18PA (Bạc)   9790000   \n",
       "2  Laptop HP 15s-fq2712TU 7C0X2PA (Bạc)  10990000   \n",
       "3  Laptop HP 14s-dq2644TU 7C0W6PA (Bạc)  11590000   \n",
       "4        Laptop HP 240 G9 6L1X7PA (Bạc)  11890000   \n",
       "\n",
       "                                            image   gift  \n",
       "0  370x200_laptop-hp-14s-fq1080au-4k0z7pa-bac.png   True  \n",
       "1        370x200_laptop-hp-245-g8-53y18pa-bac.png  False  \n",
       "2  370x200_laptop-hp-15s-fq2712tu-7c0x2pa-bac.png   True  \n",
       "3  370x200_laptop-hp-14s-dq2644tu-7c0w6pa-bac.png   True  \n",
       "4        370x200_laptop-hp-240-g9-6l1x7pa-bac.png  False  "
      ]
     },
     "execution_count": 24,
     "metadata": {},
     "output_type": "execute_result"
    }
   ],
   "source": [
    "# tạo dataframe\n",
    "df = pd.DataFrame({\n",
    "    'name': lst_name,\n",
    "    'price': lst_prices,\n",
    "    'image': lst_image_names,\n",
    "    'gift': lst_gifts,\n",
    "    \n",
    "})\n",
    "df.head()"
   ]
  },
  {
   "cell_type": "code",
   "execution_count": 25,
   "id": "116286de",
   "metadata": {},
   "outputs": [],
   "source": [
    "# tải hình ảnh\n",
    "import requests"
   ]
  },
  {
   "cell_type": "code",
   "execution_count": 28,
   "id": "12493d10",
   "metadata": {},
   "outputs": [],
   "source": [
    "for i in range(len(lst_image_url)):\n",
    "    image_url = lst_image_url[i]\n",
    "    image_name = lst_image_names[i]\n",
    "    with open('tnc_images/'+ image_name,'wb') as f:\n",
    "        image_response = requests.get(image_url)\n",
    "        f.write(image_response.content)"
   ]
  },
  {
   "cell_type": "code",
   "execution_count": null,
   "id": "4a5ea4b4",
   "metadata": {},
   "outputs": [],
   "source": []
  }
 ],
 "metadata": {
  "kernelspec": {
   "display_name": "Python 3 (ipykernel)",
   "language": "python",
   "name": "python3"
  },
  "language_info": {
   "codemirror_mode": {
    "name": "ipython",
    "version": 3
   },
   "file_extension": ".py",
   "mimetype": "text/x-python",
   "name": "python",
   "nbconvert_exporter": "python",
   "pygments_lexer": "ipython3",
   "version": "3.9.12"
  }
 },
 "nbformat": 4,
 "nbformat_minor": 5
}
