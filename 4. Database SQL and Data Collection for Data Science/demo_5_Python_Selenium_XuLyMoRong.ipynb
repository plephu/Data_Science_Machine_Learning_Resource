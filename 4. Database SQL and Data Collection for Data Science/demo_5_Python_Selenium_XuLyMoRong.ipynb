{
 "cells": [
  {
   "cell_type": "code",
   "execution_count": 1,
   "id": "4188d1e5",
   "metadata": {},
   "outputs": [],
   "source": [
    "from selenium import webdriver\n",
    "from selenium.webdriver.common.by import By\n",
    "import pandas as pd"
   ]
  },
  {
   "cell_type": "markdown",
   "id": "944277d3",
   "metadata": {},
   "source": [
    "### Xử lý truy xuất thông tin không thống"
   ]
  },
  {
   "cell_type": "code",
   "execution_count": 24,
   "id": "3d688709",
   "metadata": {},
   "outputs": [
    {
     "name": "stderr",
     "output_type": "stream",
     "text": [
      "C:\\Users\\hv\\AppData\\Local\\Temp\\ipykernel_3984\\292119023.py:2: DeprecationWarning: executable_path has been deprecated, please pass in a Service object\n",
      "  driver = webdriver.Chrome(executable_path='WebDriver/chromedriver.exe')\n"
     ]
    }
   ],
   "source": [
    "# Khởi tạo trình duyệt\n",
    "driver = webdriver.Chrome(executable_path='WebDriver/chromedriver.exe')"
   ]
  },
  {
   "cell_type": "code",
   "execution_count": 25,
   "id": "7448edc5",
   "metadata": {},
   "outputs": [],
   "source": [
    "driver.get('https://phongvu.vn/c/laptop')"
   ]
  },
  {
   "cell_type": "code",
   "execution_count": 26,
   "id": "2a97ef94",
   "metadata": {},
   "outputs": [],
   "source": [
    "# lấy danh sách sản phẩm\n",
    "products = driver.find_elements(by=By.CLASS_NAME, value=\"css-4rhdrh\")"
   ]
  },
  {
   "cell_type": "code",
   "execution_count": 5,
   "id": "48d46db5",
   "metadata": {},
   "outputs": [
    {
     "data": {
      "text/plain": [
       "40"
      ]
     },
     "execution_count": 5,
     "metadata": {},
     "output_type": "execute_result"
    }
   ],
   "source": [
    "len(products)"
   ]
  },
  {
   "cell_type": "code",
   "execution_count": 27,
   "id": "fc00f293",
   "metadata": {},
   "outputs": [],
   "source": [
    "lst_names=[]\n",
    "lst_prices=[]\n",
    "lst_images=[]\n",
    "lst_images_url=[]\n",
    "lst_gifs=[]"
   ]
  },
  {
   "cell_type": "code",
   "execution_count": 28,
   "id": "dc580c73",
   "metadata": {},
   "outputs": [],
   "source": [
    "for product in products:\n",
    "    #lấy tên\n",
    "    name = product.find_element(by=By.TAG_NAME, value='h3')\n",
    "    lst_names.append(name.text)\n",
    "    \n",
    "    #lấy đơn giá\n",
    "    price = product.find_element(by=By.CLASS_NAME, value='att-product-detail-latest-price')\n",
    "    lst_prices.append(int(price.text.replace(' ₫','').replace('.','')))\n",
    "    \n",
    "    #lấy hình\n",
    "    image = product.find_element(by=By.CSS_SELECTOR, \n",
    "                                value='div.css-1uzm8bv > img')\n",
    "    lst_images_url.append(image.get_attribute('src'))\n",
    "    \n",
    "    #lấy thông tin có quà tặng hay không\n",
    "    gifs = product.find_elements(by=By.CLASS_NAME, value='css-1jelu67')\n",
    "    if len(gifs) > 0:\n",
    "        lst_gifs.append(True)\n",
    "    else:\n",
    "        lst_gifs.append(False)"
   ]
  },
  {
   "cell_type": "code",
   "execution_count": 29,
   "id": "b50a1051",
   "metadata": {},
   "outputs": [
    {
     "data": {
      "text/plain": [
       "(40, 0, 40, 40)"
      ]
     },
     "execution_count": 29,
     "metadata": {},
     "output_type": "execute_result"
    }
   ],
   "source": [
    "len(lst_names), len(lst_images), len(lst_prices), len(lst_gifs)"
   ]
  },
  {
   "cell_type": "code",
   "execution_count": 30,
   "id": "be29023f",
   "metadata": {},
   "outputs": [
    {
     "data": {
      "text/html": [
       "<div>\n",
       "<style scoped>\n",
       "    .dataframe tbody tr th:only-of-type {\n",
       "        vertical-align: middle;\n",
       "    }\n",
       "\n",
       "    .dataframe tbody tr th {\n",
       "        vertical-align: top;\n",
       "    }\n",
       "\n",
       "    .dataframe thead th {\n",
       "        text-align: right;\n",
       "    }\n",
       "</style>\n",
       "<table border=\"1\" class=\"dataframe\">\n",
       "  <thead>\n",
       "    <tr style=\"text-align: right;\">\n",
       "      <th></th>\n",
       "      <th>name</th>\n",
       "      <th>price</th>\n",
       "      <th>gif</th>\n",
       "    </tr>\n",
       "  </thead>\n",
       "  <tbody>\n",
       "    <tr>\n",
       "      <th>0</th>\n",
       "      <td>Laptop ASUS Vivobook X515EA-BQ2351W (i3-1115G4...</td>\n",
       "      <td>9790000</td>\n",
       "      <td>True</td>\n",
       "    </tr>\n",
       "    <tr>\n",
       "      <th>1</th>\n",
       "      <td>Laptop Asus Zenbook Flip 13 OLED UX363EA-HP726...</td>\n",
       "      <td>18490000</td>\n",
       "      <td>False</td>\n",
       "    </tr>\n",
       "    <tr>\n",
       "      <th>2</th>\n",
       "      <td>Laptop ASUS TUF Gaming FX506HC-HN144W (i5-1140...</td>\n",
       "      <td>20990000</td>\n",
       "      <td>False</td>\n",
       "    </tr>\n",
       "    <tr>\n",
       "      <th>3</th>\n",
       "      <td>Laptop ASUS Gaming ROG Strix G513IE-HN246W (Ry...</td>\n",
       "      <td>21990000</td>\n",
       "      <td>False</td>\n",
       "    </tr>\n",
       "    <tr>\n",
       "      <th>4</th>\n",
       "      <td>Laptop ASUS TUF Gaming FX517ZC-HN077W (i5-1245...</td>\n",
       "      <td>22990000</td>\n",
       "      <td>False</td>\n",
       "    </tr>\n",
       "    <tr>\n",
       "      <th>5</th>\n",
       "      <td>Laptop ASUS UM5401QA-KN209W (Ryzen 5 5600H/RAM...</td>\n",
       "      <td>19990000</td>\n",
       "      <td>False</td>\n",
       "    </tr>\n",
       "    <tr>\n",
       "      <th>6</th>\n",
       "      <td>Laptop HP 15s-fq2712TU (i3-1115G4/RAM 8GB/256G...</td>\n",
       "      <td>10990000</td>\n",
       "      <td>True</td>\n",
       "    </tr>\n",
       "    <tr>\n",
       "      <th>7</th>\n",
       "      <td>Laptop HP Pavilion 14-dv2033TU (i5-1235U/RAM 8...</td>\n",
       "      <td>17090000</td>\n",
       "      <td>False</td>\n",
       "    </tr>\n",
       "    <tr>\n",
       "      <th>8</th>\n",
       "      <td>Laptop HP Pavilion X360 14-ek0059TU (i3-1215U/...</td>\n",
       "      <td>14890000</td>\n",
       "      <td>True</td>\n",
       "    </tr>\n",
       "    <tr>\n",
       "      <th>9</th>\n",
       "      <td>Laptop HP Envy x360 13-bf0096TU (i5-1230U/RAM ...</td>\n",
       "      <td>23990000</td>\n",
       "      <td>False</td>\n",
       "    </tr>\n",
       "  </tbody>\n",
       "</table>\n",
       "</div>"
      ],
      "text/plain": [
       "                                                name     price    gif\n",
       "0  Laptop ASUS Vivobook X515EA-BQ2351W (i3-1115G4...   9790000   True\n",
       "1  Laptop Asus Zenbook Flip 13 OLED UX363EA-HP726...  18490000  False\n",
       "2  Laptop ASUS TUF Gaming FX506HC-HN144W (i5-1140...  20990000  False\n",
       "3  Laptop ASUS Gaming ROG Strix G513IE-HN246W (Ry...  21990000  False\n",
       "4  Laptop ASUS TUF Gaming FX517ZC-HN077W (i5-1245...  22990000  False\n",
       "5  Laptop ASUS UM5401QA-KN209W (Ryzen 5 5600H/RAM...  19990000  False\n",
       "6  Laptop HP 15s-fq2712TU (i3-1115G4/RAM 8GB/256G...  10990000   True\n",
       "7  Laptop HP Pavilion 14-dv2033TU (i5-1235U/RAM 8...  17090000  False\n",
       "8  Laptop HP Pavilion X360 14-ek0059TU (i3-1215U/...  14890000   True\n",
       "9  Laptop HP Envy x360 13-bf0096TU (i5-1230U/RAM ...  23990000  False"
      ]
     },
     "execution_count": 30,
     "metadata": {},
     "output_type": "execute_result"
    }
   ],
   "source": [
    "df = pd.DataFrame({\n",
    "    'name': lst_names,\n",
    "    'price': lst_prices,\n",
    "    'gif': lst_gifs\n",
    "})\n",
    "df.head(10)"
   ]
  },
  {
   "cell_type": "code",
   "execution_count": 31,
   "id": "17f4d386",
   "metadata": {},
   "outputs": [],
   "source": [
    "driver.close()"
   ]
  },
  {
   "cell_type": "markdown",
   "id": "8063f414",
   "metadata": {},
   "source": [
    "### Truy xuất thông tin lazyload"
   ]
  },
  {
   "cell_type": "code",
   "execution_count": 48,
   "id": "397be09d",
   "metadata": {},
   "outputs": [],
   "source": [
    "import time"
   ]
  },
  {
   "cell_type": "code",
   "execution_count": 50,
   "id": "42ca3d5a",
   "metadata": {},
   "outputs": [
    {
     "name": "stderr",
     "output_type": "stream",
     "text": [
      "C:\\Users\\hv\\AppData\\Local\\Temp\\ipykernel_3984\\292119023.py:2: DeprecationWarning: executable_path has been deprecated, please pass in a Service object\n",
      "  driver = webdriver.Chrome(executable_path='WebDriver/chromedriver.exe')\n"
     ]
    }
   ],
   "source": [
    "# Khởi tạo trình duyệt\n",
    "driver = webdriver.Chrome(executable_path='WebDriver/chromedriver.exe')"
   ]
  },
  {
   "cell_type": "code",
   "execution_count": 51,
   "id": "50e4b5ed",
   "metadata": {},
   "outputs": [],
   "source": [
    "driver.get('https://shopee.vn/Thi%E1%BA%BFt-B%E1%BB%8B-%C4%90i%E1%BB%87n-T%E1%BB%AD-cat.11036132')"
   ]
  },
  {
   "cell_type": "code",
   "execution_count": 53,
   "id": "1eafc787",
   "metadata": {},
   "outputs": [],
   "source": [
    "# xử lý cuộn trang để load hết các sản phẩm\n",
    "scroll_value = 0\n",
    "scroll_height = driver.execute_script(\"return document.body.scrollHeight\")\n",
    "\n",
    "while True:\n",
    "    scroll_value += 500\n",
    "    if scroll_value > scroll_height:\n",
    "        scroll_value = scroll_height\n",
    "    \n",
    "    # scroll down\n",
    "    driver.execute_script(\"window.scrollTo(0, \" + str(scroll_value) + \");\")\n",
    "    # chờ 2 giây để cho nội dung được load\n",
    "    time.sleep(2)\n",
    "    \n",
    "    if scroll_value == scroll_height:\n",
    "        break"
   ]
  },
  {
   "cell_type": "code",
   "execution_count": 54,
   "id": "8800f0de",
   "metadata": {},
   "outputs": [],
   "source": [
    "# lấy danh sách sản phẩm\n",
    "products = driver.find_elements(by=By.CLASS_NAME, \n",
    "                                value=\"shopee-search-item-result__item\")"
   ]
  },
  {
   "cell_type": "code",
   "execution_count": 55,
   "id": "329f4464",
   "metadata": {},
   "outputs": [
    {
     "data": {
      "text/plain": [
       "60"
      ]
     },
     "execution_count": 55,
     "metadata": {},
     "output_type": "execute_result"
    }
   ],
   "source": [
    "len(products)"
   ]
  },
  {
   "cell_type": "code",
   "execution_count": 56,
   "id": "b2491883",
   "metadata": {},
   "outputs": [
    {
     "name": "stdout",
     "output_type": "stream",
     "text": [
      "1 - Tai nghe bluetooth MINPRO M10 PRO, tai nghe không dây nghe nhạc chơi game công nghệ bluetooth 5.0\n",
      "2 - Đồng Hồ Thông Minh Y68 Kết Nối Điện Thoại,Phù Hợp Nam Nữ, Thay Được Hình Nền , Nhận Thông Báo Cuộc Gọi, Tin Nhắn\n",
      "3 - (MIỄN SHIP TOÀN QUỐC) [XẢ HẾT KHO) micro cho mọi loại loa- MICRO CHO LOA KÉO BLUETOOTH P88 P89 - MICRO dàn\n",
      "4 - QKCASE - Loa Bluetooth Mini - Loa Trứng Nhấp Nháy (Loa Blt)\n",
      "5 - Tai nghe chụp tai không dây bluetooth STN28 màu sắc cute,âm thanh ấm bass mạnh- Phụ Kiện 123\n",
      "6 - Đồng Hồ Điện Tử Thể Thao Mặt Vuông Có Đèn LED Dây Cao Su Thời Trang Cho Nam Nữ\n",
      "7 - Set 2 Găng Đeo Ngón Tay Chống Mồ Hôi Khi Chơi Game PUBG Trên Điện Thoại / Máy Tính Bảng\n",
      "8 - Loa bluetooth mini CHARGE 311 không dây, nghe nhạc, giá rẻ, âm thanh chất lượng MINPRO\n",
      "9 - Tai Nghe Bluetooth M10 Pro Tai Nghe Không M10 Pro Phiên Bản Nâng Cấp Pin Trâu, Nút Cảm Ứng Tự Động Kết Nối - BINTECH\n",
      "10 - Ốp Bảo Vệ Bằng Silicon Mềm Màu Kẹo Cho Apple Watch 7 6 SE 5 4 45mm 41mm 40MM 44MM\n",
      "11 - Set 2 Găng Bọc Ngón Tay Chống Đổ Mồ Hôi Khi Chơi Game\n",
      "12 - Loa Bluetooth mini xách tay lz3101 - lz3103 nhỏ gọn âm thanh siêu hay đèn led nhấp nháy Hỗ trợ cắm thẻ nhớ, USB\n",
      "13 - Tai nghe bluetooth không dây I7S TWS có micro hỗ trợ tập thể thao thích hợp cho Apple IPhone Xiaomi\n",
      "14 - Dây Cao Su Nhiều Màu Thời Trang Dành Cho Apple Watch Series 8 7 SE 6 5 4 3 2 1 38mm 42mm 40mm 44mm 41mm 45mm 49mm\n",
      "15 - Bao Tay Chơi Game ff, Pubg, Liên Quân Cao Cấp Găng tay Chống Mồ Hôi, Siêu Nhạy, Co Giãn Cực Tốt Bằng Sợi Bạc\n",
      "16 - Mic Karaoke Ws-858, Micro Bluetooth Không Dây Kèm Loa, Vừa Nghe Nhạc Vừa Hát Karaoke\n",
      "17 - Tai nghe bluetooth 5.0 True Wireless Amoi F9 Pro bản quốc tế cao cấp cảm biến vân tay , kiêm sạc dự phòng\n",
      "18 - Bộ bảo vệ cáp sạc củ sạc sử dụng cho for Apple 12 for iPhone14 Pro Max 13 Pro Max 12 11promax 18W 20W\n",
      "19 - BlueWow Dragon Gamers Găng tay chống mồ hôi Tay áo di động Bộ điều khiển trò chơi màn hình cảm ứng Điện thoại chơi game PUBG\n",
      "20 - null\n",
      "21 - Tai Nghe Mèo P47M. Mz47 Bluetooth Chụp Tai , Headphone P47m Dễ Thương Có Mic,Âm Bass Mạnh Mẽ Dung Lượng Pin Trâu\n",
      "22 - Dây Đeo Inox Milanese Cho Đồng Hồ Thông Minh Apple Watch 38 / 40 / 41mm 42 / 44 / 45mm 7 6 5 4 3 2 1 6 Se Series T500\n",
      "23 - Găng Tay Chơi Game - Pubg, Liên Quân, Bao Tay Chơi Game Chống Mồ Hôi, Siêu Nhạy, Co Giãn Cực Tốt, Siều Bền\n",
      "24 - Loa bluetooth đồng hồ G5, loa mini không dây nghe nhạc làm đèn ngủ màn hình soi gương\n",
      "25 - null\n",
      "26 - Đồng Hồ Thông Minh Y68 Kết Nối Bluetooth Theo Dõi Sức Khỏe (fitpro)\n",
      "27 - Nút bắn PUBG mô phỏng phi thuyền siêu nhạy tay cầm chơi game điện thoại tay cầm chơi game pubg ros freefire NTNTech\n",
      "28 - Loa Máy Tính - Loa Để Bàn Mini Nhỏ Gọn Âm Thanh Vượt Trội - Loa vi tính bass hay LMT01\n",
      "29 - Tai Nghe Gaming X15 Bluetooth 5.1 Không Dây Giảm Tiếng Ồn Cảm Ứng Điều Khiển Vân Tay Âm Thanh Hifi 9D Cho Android\n",
      "30 - null\n",
      "31 - Bao Tay Chơi Game Ff Pubg Liên Quân Siêu Nhạy Giá Rẻ Cao Cấp Memo Shezi Găng Tay Chơi Game Chống Mồ Hôi - Minado\n",
      "32 - Loa Bluetooth Hát Karaoke Tặng Kèm Mic Nghe Nhạc Cực Đã Âm Bass Cực Mạnh Loa Bluetooth Mini Hát Hay Bảo Hành 12 Tháng\n",
      "33 - Tai nghe Bluetooth không dây 5.0 BINTECH - Phiên Bản Pro Nâng Cấp Pin Trâu 3000mah, Nút Cảm Ứng, Màn Hình Led Gaming\n",
      "34 - Miếng dán 3D trong suốt bảo vệ màn hình đồng hồ Smart Watches 44mm 40mm 42mm 38mm cho Series SE 6 5 4 3 2 1\n",
      "35 - null\n",
      "36 - 1 micro mini cầm tay có dây giắc cắm 3.5mm tiện lợi cho điện thoại/ máy tính xách tay\n",
      "37 - Tai Nghe Chụp Tai bluetooth Thời Trang Và Phong Cách Âm Bass Ấm Sống Động Có Mic Đàm Thoại Cho Học Tập Giải Trí\n",
      "38 - Đồng hồ thông minh Định vị Q12( Đồng hồ thông minh trẻ em)lắp sim nghe gọi 2 chiều Chống nước tích hợp 3g\n",
      "39 - Tay cầm cho PC Xbox 360 SF1 đèn vàng FullSkill Fifa 4 - Hỗ trợ Android TV Box, Smart TV, Smartphone Support OTG\n",
      "40 - null\n",
      "41 - Tai Nghe Bluetooth 5.0 i7s tws Kèm Hộp Sạc\n",
      "42 - Dây Đeo Silicon Mới Cho Đồng Hồ Thông Minh iWatch Series 8 7 6 SE 5 4 3 2 1\n",
      "43 - ミ★m̲̅★彡 Bao Tay Để Chơi Game PuG LQ...Chống trượt mồ hôi tay TH\n",
      "44 - Máy trợ giảng Takstar E126 ☢️FreeShip☢️ loa mic Máy trợ giảng, hướng dẫn viên, Giáo viên, loại có dây Bảo hành 6 tháng\n",
      "45 - null\n",
      "46 - Dây Đeo Đồng Hồ Dạng Bện Bằng Nylon Co Giãn Nhiều Màu Sắc Cho Apple Watch 41mm 45mm 44mm 40mm 38mm 42mm Series 7 6 SE 5 4 3\n",
      "47 - Bao tay chơi game Shezi, Memo sợi băng lụa 24 kim cao cấp\n",
      "48 - Đồng Hồ Đeo Tay Màn Hình LED Cảm Ứng Chống Nước\n",
      "49 - Tai nghe Bluetooth không dây 5.0 MINPRO - AMOI F9 PRO nút cảm biến vân tay chống nước kèm sạc 2.000mAh\n",
      "50 - null\n",
      "51 - 1 Đôi Găng Tay Ngón Cái Sợi Siêu Mỏng Chống Thấm Mồ Hôi Cho Game Thủ\n",
      "52 - Loa bluetooth mini nghe nhạc không dây M3 cầm tay nhỏ gọn âm thanh lớn có dây đeo\n",
      "53 - Tws G01 Cổ Không Dây Bluetooth 5.0 Từ Tính Thể Thao Chạy Bộ Tai Nghe Chống Nước Tai Nghe Nhét Tai Giảm Tiếng Ồn Cloud1\n",
      "54 - Ốp Silicone Bảo Vệ Cho Đồng Hồ Thông Minh Series 7 6 SE 5 4 3 2 1 41mm 45mm 44mm 42mm 40mm 38mm\n",
      "55 - null\n",
      "56 - Loa bluetooth mini karaoke kèm mic JVJ YS-103 Không dây, kèm 01 mic hát công suất 5W - Bảo hành chính hãng 06 Tháng\n",
      "57 - Tai nghe Bluetooth có dây và mic cao cấp cho táo 7 8 Plus X XR XS Max 11 12 13 Pro SE\n",
      "58 - Dây Silicone Thay Thế Cho ĐồNg Hồ apple 44mm 45mm 40mm iWatch 49mm 42mm 38mm 41 apple watch series 8 6 5 3 SE 7\n",
      "59 - Bao Tay Chơi Game ff, Pubg, Liên Quân.... Găng tay chơi game Chống Mồ Hôi, Siêu Nhạy, Co Giãn Cực Tốt Bằng Sợi Carbon\n",
      "60 - null\n"
     ]
    }
   ],
   "source": [
    "i =0;\n",
    "for product in products:\n",
    "    #lấy tên\n",
    "    i = i + 1\n",
    "    try:\n",
    "        name = product.find_element(by=By.CSS_SELECTOR, value='div.MZeqgw > div')\n",
    "        print(i,'-', name.text)\n",
    "    except:\n",
    "        print(i,'-', 'null')\n",
    "    "
   ]
  },
  {
   "cell_type": "code",
   "execution_count": 49,
   "id": "132b062b",
   "metadata": {},
   "outputs": [],
   "source": [
    "driver.close()"
   ]
  },
  {
   "cell_type": "markdown",
   "id": "b667d5ce",
   "metadata": {},
   "source": [
    "### Xử lý phân trang"
   ]
  },
  {
   "cell_type": "code",
   "execution_count": 64,
   "id": "db0d25e7",
   "metadata": {},
   "outputs": [],
   "source": [
    "import numpy as np"
   ]
  },
  {
   "cell_type": "code",
   "execution_count": 74,
   "id": "8566abdb",
   "metadata": {},
   "outputs": [],
   "source": [
    "def get_page():\n",
    "    # xử lý cuộn trang để load hết các sản phẩm\n",
    "    scroll_value = 0\n",
    "    scroll_height = driver.execute_script(\"return document.body.scrollHeight\")\n",
    "\n",
    "    while True:\n",
    "        scroll_value += 500\n",
    "        if scroll_value > scroll_height:\n",
    "            scroll_value = scroll_height\n",
    "\n",
    "        # scroll down\n",
    "        driver.execute_script(\"window.scrollTo(0, \" + str(scroll_value) + \");\")\n",
    "        # chờ 2 giây để cho nội dung được load\n",
    "        time.sleep(1)\n",
    "\n",
    "        if scroll_value == scroll_height:\n",
    "            break\n",
    "    \n",
    "    #Lấy danh sách sản phẩm\n",
    "    products = driver.find_elements(by=By.CLASS_NAME, \n",
    "                                value=\"shopee-search-item-result__item\")\n",
    "    i =0;\n",
    "    lst_names=[]\n",
    "    \n",
    "    for product in products:\n",
    "        #lấy tên\n",
    "        i = i + 1\n",
    "        try:\n",
    "            name = product.find_element(by=By.CSS_SELECTOR, value='div.MZeqgw > div')\n",
    "            lst_names.append(name.text)\n",
    "        except:\n",
    "            lst_names.append(np.NaN)\n",
    "    dftemp = pd.DataFrame({\n",
    "        'name': lst_names\n",
    "    })\n",
    "    \n",
    "    return dftemp"
   ]
  },
  {
   "cell_type": "code",
   "execution_count": 69,
   "id": "8f8e66b2",
   "metadata": {},
   "outputs": [
    {
     "ename": "StaleElementReferenceException",
     "evalue": "Message: stale element reference: element is not attached to the page document\n  (Session info: chrome=111.0.5563.65)\nStacktrace:\nBacktrace:\n\t(No symbol) [0x0046DCE3]\n\t(No symbol) [0x004039D1]\n\t(No symbol) [0x00314DA8]\n\t(No symbol) [0x003176FB]\n\t(No symbol) [0x003175D0]\n\t(No symbol) [0x00317850]\n\t(No symbol) [0x0033FDF8]\n\t(No symbol) [0x003403AB]\n\t(No symbol) [0x00338AE1]\n\t(No symbol) [0x0035AF14]\n\t(No symbol) [0x00338726]\n\t(No symbol) [0x0035B224]\n\t(No symbol) [0x0036D57C]\n\t(No symbol) [0x0035ACC6]\n\t(No symbol) [0x00336F68]\n\t(No symbol) [0x003380CD]\n\tGetHandleVerifier [0x006E3832+2506274]\n\tGetHandleVerifier [0x00719794+2727300]\n\tGetHandleVerifier [0x0071E36C+2746716]\n\tGetHandleVerifier [0x00516690+617600]\n\t(No symbol) [0x0040C712]\n\t(No symbol) [0x00411FF8]\n\t(No symbol) [0x004120DB]\n\t(No symbol) [0x0041C63B]\n\tBaseThreadInitThunk [0x7635FA29+25]\n\tRtlGetAppContainerNamedObjectPath [0x77157A9E+286]\n\tRtlGetAppContainerNamedObjectPath [0x77157A6E+238]\n",
     "output_type": "error",
     "traceback": [
      "\u001b[1;31m---------------------------------------------------------------------------\u001b[0m",
      "\u001b[1;31mStaleElementReferenceException\u001b[0m            Traceback (most recent call last)",
      "Input \u001b[1;32mIn [69]\u001b[0m, in \u001b[0;36m<cell line: 4>\u001b[1;34m()\u001b[0m\n\u001b[0;32m      4\u001b[0m df \u001b[38;5;241m=\u001b[39m get_page()\n\u001b[0;32m      5\u001b[0m lst_df\u001b[38;5;241m.\u001b[39mappend(df)\n\u001b[1;32m----> 6\u001b[0m page_buttons \u001b[38;5;241m=\u001b[39m \u001b[43mpager\u001b[49m\u001b[38;5;241;43m.\u001b[39;49m\u001b[43mfind_elements\u001b[49m\u001b[43m(\u001b[49m\u001b[43mby\u001b[49m\u001b[38;5;241;43m=\u001b[39;49m\u001b[43mBy\u001b[49m\u001b[38;5;241;43m.\u001b[39;49m\u001b[43mCLASS_NAME\u001b[49m\u001b[43m,\u001b[49m\u001b[43m \u001b[49m\n\u001b[0;32m      7\u001b[0m \u001b[43m                                   \u001b[49m\u001b[43mvalue\u001b[49m\u001b[38;5;241;43m=\u001b[39;49m\u001b[38;5;124;43m'\u001b[39;49m\u001b[38;5;124;43mshopee-button-no-outline\u001b[39;49m\u001b[38;5;124;43m'\u001b[39;49m\u001b[43m)\u001b[49m\n\u001b[0;32m      9\u001b[0m page_active \u001b[38;5;241m=\u001b[39m pager\u001b[38;5;241m.\u001b[39mfind_element(by\u001b[38;5;241m=\u001b[39mBy\u001b[38;5;241m.\u001b[39mCLASS_NAME, \n\u001b[0;32m     10\u001b[0m                                  value\u001b[38;5;241m=\u001b[39m\u001b[38;5;124m'\u001b[39m\u001b[38;5;124mshopee-button-solid--primary\u001b[39m\u001b[38;5;124m'\u001b[39m)\n\u001b[0;32m     12\u001b[0m \u001b[38;5;28;01mif\u001b[39;00m \u001b[38;5;28mlen\u001b[39m(page_buttons) \u001b[38;5;241m>\u001b[39m \u001b[38;5;241m0\u001b[39m:\n",
      "File \u001b[1;32mc:\\program files\\python38\\lib\\site-packages\\selenium\\webdriver\\remote\\webelement.py:443\u001b[0m, in \u001b[0;36mWebElement.find_elements\u001b[1;34m(self, by, value)\u001b[0m\n\u001b[0;32m    440\u001b[0m     by \u001b[38;5;241m=\u001b[39m By\u001b[38;5;241m.\u001b[39mCSS_SELECTOR\n\u001b[0;32m    441\u001b[0m     value \u001b[38;5;241m=\u001b[39m \u001b[38;5;124m'\u001b[39m\u001b[38;5;124m[name=\u001b[39m\u001b[38;5;124m\"\u001b[39m\u001b[38;5;132;01m%s\u001b[39;00m\u001b[38;5;124m\"\u001b[39m\u001b[38;5;124m]\u001b[39m\u001b[38;5;124m'\u001b[39m \u001b[38;5;241m%\u001b[39m value\n\u001b[1;32m--> 443\u001b[0m \u001b[38;5;28;01mreturn\u001b[39;00m \u001b[38;5;28;43mself\u001b[39;49m\u001b[38;5;241;43m.\u001b[39;49m\u001b[43m_execute\u001b[49m\u001b[43m(\u001b[49m\u001b[43mCommand\u001b[49m\u001b[38;5;241;43m.\u001b[39;49m\u001b[43mFIND_CHILD_ELEMENTS\u001b[49m\u001b[43m,\u001b[49m\n\u001b[0;32m    444\u001b[0m \u001b[43m                     \u001b[49m\u001b[43m{\u001b[49m\u001b[38;5;124;43m\"\u001b[39;49m\u001b[38;5;124;43musing\u001b[39;49m\u001b[38;5;124;43m\"\u001b[39;49m\u001b[43m:\u001b[49m\u001b[43m \u001b[49m\u001b[43mby\u001b[49m\u001b[43m,\u001b[49m\u001b[43m \u001b[49m\u001b[38;5;124;43m\"\u001b[39;49m\u001b[38;5;124;43mvalue\u001b[39;49m\u001b[38;5;124;43m\"\u001b[39;49m\u001b[43m:\u001b[49m\u001b[43m \u001b[49m\u001b[43mvalue\u001b[49m\u001b[43m}\u001b[49m\u001b[43m)\u001b[49m[\u001b[38;5;124m'\u001b[39m\u001b[38;5;124mvalue\u001b[39m\u001b[38;5;124m'\u001b[39m]\n",
      "File \u001b[1;32mc:\\program files\\python38\\lib\\site-packages\\selenium\\webdriver\\remote\\webelement.py:396\u001b[0m, in \u001b[0;36mWebElement._execute\u001b[1;34m(self, command, params)\u001b[0m\n\u001b[0;32m    394\u001b[0m     params \u001b[38;5;241m=\u001b[39m {}\n\u001b[0;32m    395\u001b[0m params[\u001b[38;5;124m'\u001b[39m\u001b[38;5;124mid\u001b[39m\u001b[38;5;124m'\u001b[39m] \u001b[38;5;241m=\u001b[39m \u001b[38;5;28mself\u001b[39m\u001b[38;5;241m.\u001b[39m_id\n\u001b[1;32m--> 396\u001b[0m \u001b[38;5;28;01mreturn\u001b[39;00m \u001b[38;5;28;43mself\u001b[39;49m\u001b[38;5;241;43m.\u001b[39;49m\u001b[43m_parent\u001b[49m\u001b[38;5;241;43m.\u001b[39;49m\u001b[43mexecute\u001b[49m\u001b[43m(\u001b[49m\u001b[43mcommand\u001b[49m\u001b[43m,\u001b[49m\u001b[43m \u001b[49m\u001b[43mparams\u001b[49m\u001b[43m)\u001b[49m\n",
      "File \u001b[1;32mc:\\program files\\python38\\lib\\site-packages\\selenium\\webdriver\\remote\\webdriver.py:435\u001b[0m, in \u001b[0;36mWebDriver.execute\u001b[1;34m(self, driver_command, params)\u001b[0m\n\u001b[0;32m    433\u001b[0m response \u001b[38;5;241m=\u001b[39m \u001b[38;5;28mself\u001b[39m\u001b[38;5;241m.\u001b[39mcommand_executor\u001b[38;5;241m.\u001b[39mexecute(driver_command, params)\n\u001b[0;32m    434\u001b[0m \u001b[38;5;28;01mif\u001b[39;00m response:\n\u001b[1;32m--> 435\u001b[0m     \u001b[38;5;28;43mself\u001b[39;49m\u001b[38;5;241;43m.\u001b[39;49m\u001b[43merror_handler\u001b[49m\u001b[38;5;241;43m.\u001b[39;49m\u001b[43mcheck_response\u001b[49m\u001b[43m(\u001b[49m\u001b[43mresponse\u001b[49m\u001b[43m)\u001b[49m\n\u001b[0;32m    436\u001b[0m     response[\u001b[38;5;124m'\u001b[39m\u001b[38;5;124mvalue\u001b[39m\u001b[38;5;124m'\u001b[39m] \u001b[38;5;241m=\u001b[39m \u001b[38;5;28mself\u001b[39m\u001b[38;5;241m.\u001b[39m_unwrap_value(\n\u001b[0;32m    437\u001b[0m         response\u001b[38;5;241m.\u001b[39mget(\u001b[38;5;124m'\u001b[39m\u001b[38;5;124mvalue\u001b[39m\u001b[38;5;124m'\u001b[39m, \u001b[38;5;28;01mNone\u001b[39;00m))\n\u001b[0;32m    438\u001b[0m     \u001b[38;5;28;01mreturn\u001b[39;00m response\n",
      "File \u001b[1;32mc:\\program files\\python38\\lib\\site-packages\\selenium\\webdriver\\remote\\errorhandler.py:247\u001b[0m, in \u001b[0;36mErrorHandler.check_response\u001b[1;34m(self, response)\u001b[0m\n\u001b[0;32m    245\u001b[0m         alert_text \u001b[38;5;241m=\u001b[39m value[\u001b[38;5;124m'\u001b[39m\u001b[38;5;124malert\u001b[39m\u001b[38;5;124m'\u001b[39m]\u001b[38;5;241m.\u001b[39mget(\u001b[38;5;124m'\u001b[39m\u001b[38;5;124mtext\u001b[39m\u001b[38;5;124m'\u001b[39m)\n\u001b[0;32m    246\u001b[0m     \u001b[38;5;28;01mraise\u001b[39;00m exception_class(message, screen, stacktrace, alert_text)  \u001b[38;5;66;03m# type: ignore[call-arg]  # mypy is not smart enough here\u001b[39;00m\n\u001b[1;32m--> 247\u001b[0m \u001b[38;5;28;01mraise\u001b[39;00m exception_class(message, screen, stacktrace)\n",
      "\u001b[1;31mStaleElementReferenceException\u001b[0m: Message: stale element reference: element is not attached to the page document\n  (Session info: chrome=111.0.5563.65)\nStacktrace:\nBacktrace:\n\t(No symbol) [0x0046DCE3]\n\t(No symbol) [0x004039D1]\n\t(No symbol) [0x00314DA8]\n\t(No symbol) [0x003176FB]\n\t(No symbol) [0x003175D0]\n\t(No symbol) [0x00317850]\n\t(No symbol) [0x0033FDF8]\n\t(No symbol) [0x003403AB]\n\t(No symbol) [0x00338AE1]\n\t(No symbol) [0x0035AF14]\n\t(No symbol) [0x00338726]\n\t(No symbol) [0x0035B224]\n\t(No symbol) [0x0036D57C]\n\t(No symbol) [0x0035ACC6]\n\t(No symbol) [0x00336F68]\n\t(No symbol) [0x003380CD]\n\tGetHandleVerifier [0x006E3832+2506274]\n\tGetHandleVerifier [0x00719794+2727300]\n\tGetHandleVerifier [0x0071E36C+2746716]\n\tGetHandleVerifier [0x00516690+617600]\n\t(No symbol) [0x0040C712]\n\t(No symbol) [0x00411FF8]\n\t(No symbol) [0x004120DB]\n\t(No symbol) [0x0041C63B]\n\tBaseThreadInitThunk [0x7635FA29+25]\n\tRtlGetAppContainerNamedObjectPath [0x77157A9E+286]\n\tRtlGetAppContainerNamedObjectPath [0x77157A6E+238]\n"
     ]
    }
   ],
   "source": [
    "pager = driver.find_element(by=By.CLASS_NAME, value='shopee-page-controller')\n",
    "lst_df = []\n",
    "while True:\n",
    "    df = get_page()\n",
    "    lst_df.append(df)\n",
    "    page_buttons = pager.find_elements(by=By.CLASS_NAME, \n",
    "                                       value='shopee-button-no-outline')\n",
    "\n",
    "    page_active = pager.find_element(by=By.CLASS_NAME, \n",
    "                                     value='shopee-button-solid--primary')\n",
    "\n",
    "    if len(page_buttons) > 0:\n",
    "        last_page = page_buttons[-1].text\n",
    "        if last_page == '...':\n",
    "            last_page = page_buttons[-2].text\n",
    "        current_page = page_active.text\n",
    "\n",
    "        if int(last_page) > int(current_page):\n",
    "            next_button = pager.find_elements(by=By.CLASS_NAME, \n",
    "                                             value='shopee-icon-button--right')\n",
    "            if len(next_button) > 0:\n",
    "                next_button[0].click()\n",
    "                time.sleep(1)\n",
    "        else:\n",
    "            break\n",
    "    else:\n",
    "        break"
   ]
  },
  {
   "cell_type": "code",
   "execution_count": 70,
   "id": "527a9e2b",
   "metadata": {},
   "outputs": [],
   "source": [
    "df_product = pd.concat(lst_df)"
   ]
  },
  {
   "cell_type": "code",
   "execution_count": 71,
   "id": "ebe86743",
   "metadata": {},
   "outputs": [
    {
     "data": {
      "text/plain": [
       "(120, 1)"
      ]
     },
     "execution_count": 71,
     "metadata": {},
     "output_type": "execute_result"
    }
   ],
   "source": [
    "df_product.shape"
   ]
  },
  {
   "cell_type": "code",
   "execution_count": null,
   "id": "c7254abe",
   "metadata": {},
   "outputs": [],
   "source": []
  },
  {
   "cell_type": "markdown",
   "id": "f752561e",
   "metadata": {},
   "source": [
    "### Xử lý wait cho đến khi element xuất hiện"
   ]
  },
  {
   "cell_type": "code",
   "execution_count": 72,
   "id": "e340f2fe",
   "metadata": {},
   "outputs": [],
   "source": [
    "from selenium.webdriver.support.ui import WebDriverWait\n",
    "from selenium.webdriver.support import expected_conditions as ec"
   ]
  },
  {
   "cell_type": "code",
   "execution_count": 73,
   "id": "3882790c",
   "metadata": {},
   "outputs": [],
   "source": [
    "# chờ cho đến khi điều khiển xuất hiện hoặc chờ trong 20s\n",
    "element = WebDriverWait(driver, 20).until(\n",
    "    ec.presence_of_element_located((By.CLASS_NAME, \"shopee-page-controller\"))\n",
    ")"
   ]
  },
  {
   "cell_type": "code",
   "execution_count": 75,
   "id": "ab260440",
   "metadata": {},
   "outputs": [],
   "source": [
    "lst_df = []\n",
    "while True:\n",
    "    element = WebDriverWait(driver, 20).until(\n",
    "        ec.presence_of_element_located((By.CLASS_NAME, \"shopee-page-controller\"))\n",
    "    )\n",
    "    pager = driver.find_element(by=By.CLASS_NAME, value='shopee-page-controller')    \n",
    "    df = get_page()\n",
    "    lst_df.append(df)\n",
    "    page_buttons = pager.find_elements(by=By.CLASS_NAME, \n",
    "                                       value='shopee-button-no-outline')\n",
    "\n",
    "    page_active = pager.find_element(by=By.CLASS_NAME, \n",
    "                                     value='shopee-button-solid--primary')\n",
    "\n",
    "    if len(page_buttons) > 0:\n",
    "        last_page = page_buttons[-1].text\n",
    "        if last_page == '...':\n",
    "            last_page = page_buttons[-2].text\n",
    "        current_page = page_active.text\n",
    "\n",
    "        if int(last_page) > int(current_page):\n",
    "            next_button = pager.find_elements(by=By.CLASS_NAME, \n",
    "                                             value='shopee-icon-button--right')\n",
    "            if len(next_button) > 0:\n",
    "                next_button[0].click()\n",
    "                time.sleep(1)\n",
    "        else:\n",
    "            break\n",
    "    else:\n",
    "        break"
   ]
  },
  {
   "cell_type": "code",
   "execution_count": 76,
   "id": "ef82fdb7",
   "metadata": {},
   "outputs": [],
   "source": [
    "df_product = pd.concat(lst_df)"
   ]
  },
  {
   "cell_type": "code",
   "execution_count": 77,
   "id": "dd7bfd2c",
   "metadata": {},
   "outputs": [
    {
     "data": {
      "text/plain": [
       "(500, 1)"
      ]
     },
     "execution_count": 77,
     "metadata": {},
     "output_type": "execute_result"
    }
   ],
   "source": [
    "df_product.shape"
   ]
  },
  {
   "cell_type": "code",
   "execution_count": 78,
   "id": "8772dd16",
   "metadata": {},
   "outputs": [],
   "source": [
    "driver.close()"
   ]
  },
  {
   "cell_type": "code",
   "execution_count": null,
   "id": "d1d2edba",
   "metadata": {},
   "outputs": [],
   "source": []
  }
 ],
 "metadata": {
  "kernelspec": {
   "display_name": "Python 3 (ipykernel)",
   "language": "python",
   "name": "python3"
  },
  "language_info": {
   "codemirror_mode": {
    "name": "ipython",
    "version": 3
   },
   "file_extension": ".py",
   "mimetype": "text/x-python",
   "name": "python",
   "nbconvert_exporter": "python",
   "pygments_lexer": "ipython3",
   "version": "3.9.13"
  }
 },
 "nbformat": 4,
 "nbformat_minor": 5
}
