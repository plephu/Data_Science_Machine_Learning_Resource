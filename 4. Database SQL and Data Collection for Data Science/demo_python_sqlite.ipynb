{
 "cells": [
  {
   "cell_type": "code",
   "execution_count": 1,
   "id": "d1bd11b9",
   "metadata": {},
   "outputs": [],
   "source": [
    "from sqlite3 import connect"
   ]
  },
  {
   "cell_type": "code",
   "execution_count": 3,
   "id": "581291d7",
   "metadata": {},
   "outputs": [],
   "source": [
    "# kết nối tới database myDatabase.db trong thư mục data\n",
    "cn = connect('data/mydatabase.db')"
   ]
  },
  {
   "cell_type": "code",
   "execution_count": 4,
   "id": "65d80d6c",
   "metadata": {},
   "outputs": [],
   "source": [
    "# tạo cursor\n",
    "cursor = cn.cursor()"
   ]
  },
  {
   "cell_type": "code",
   "execution_count": 5,
   "id": "c44b6a90",
   "metadata": {},
   "outputs": [
    {
     "data": {
      "text/plain": [
       "<sqlite3.Cursor at 0x129ed663e30>"
      ]
     },
     "execution_count": 5,
     "metadata": {},
     "output_type": "execute_result"
    }
   ],
   "source": [
    "# câu truy vấn tạo cấu trúc bảng\n",
    "sql = \"\"\"\n",
    "Create Table NhanVien\n",
    "(\n",
    "    MaSo char(6) primary key,\n",
    "    HoTen varchar(50),\n",
    "    Tuoi int\n",
    ")\n",
    "\"\"\"\n",
    "cursor.execute(sql)"
   ]
  },
  {
   "cell_type": "code",
   "execution_count": 6,
   "id": "7477ce29",
   "metadata": {},
   "outputs": [
    {
     "data": {
      "text/plain": [
       "<sqlite3.Cursor at 0x129ed663e30>"
      ]
     },
     "execution_count": 6,
     "metadata": {},
     "output_type": "execute_result"
    }
   ],
   "source": [
    "# Thêm dữ liệu vào bảng NhanVien\n",
    "sql = \"\"\"\n",
    "Insert into NhanVien(MaSo, HoTen, Tuoi)\n",
    "Values ('A00001', 'Nguyễn Trần Lê', 25)\n",
    "\"\"\"\n",
    "cursor.execute(sql)"
   ]
  },
  {
   "cell_type": "code",
   "execution_count": 7,
   "id": "df45fa0b",
   "metadata": {},
   "outputs": [
    {
     "data": {
      "text/plain": [
       "<sqlite3.Cursor at 0x129ed663e30>"
      ]
     },
     "execution_count": 7,
     "metadata": {},
     "output_type": "execute_result"
    }
   ],
   "source": [
    "# Thêm dữ liệu vào bảng NhanVien\n",
    "sql = \"\"\"\n",
    "Insert into NhanVien(MaSo, HoTen, Tuoi)\n",
    "Values ('A00002', 'Trần Lê Nguyễn', 20)\n",
    "\"\"\"\n",
    "cursor.execute(sql)"
   ]
  },
  {
   "cell_type": "code",
   "execution_count": 8,
   "id": "420d0fad",
   "metadata": {},
   "outputs": [],
   "source": [
    "# ghi nhận các thay đổi vào database\n",
    "cn.commit()"
   ]
  },
  {
   "cell_type": "code",
   "execution_count": 12,
   "id": "585c39fa",
   "metadata": {},
   "outputs": [
    {
     "name": "stdout",
     "output_type": "stream",
     "text": [
      "('A00001', 'Nguyễn Trần Lê', 25)\n",
      "('A00002', 'Trần Lê Nguyễn', 20)\n"
     ]
    }
   ],
   "source": [
    "sql = \"Select * from NhanVien\"\n",
    "results = cursor.execute(sql)\n",
    "for row in cursor:\n",
    "    print(row)"
   ]
  },
  {
   "cell_type": "code",
   "execution_count": 13,
   "id": "b525434d",
   "metadata": {},
   "outputs": [],
   "source": [
    "sql = \"Select * from NhanVien\"\n",
    "results = cursor.execute(sql)\n",
    "data = cursor.fetchall()"
   ]
  },
  {
   "cell_type": "code",
   "execution_count": 15,
   "id": "52301934",
   "metadata": {},
   "outputs": [],
   "source": [
    "import pandas as pd"
   ]
  },
  {
   "cell_type": "code",
   "execution_count": 17,
   "id": "ac696f47",
   "metadata": {},
   "outputs": [
    {
     "data": {
      "text/html": [
       "<div>\n",
       "<style scoped>\n",
       "    .dataframe tbody tr th:only-of-type {\n",
       "        vertical-align: middle;\n",
       "    }\n",
       "\n",
       "    .dataframe tbody tr th {\n",
       "        vertical-align: top;\n",
       "    }\n",
       "\n",
       "    .dataframe thead th {\n",
       "        text-align: right;\n",
       "    }\n",
       "</style>\n",
       "<table border=\"1\" class=\"dataframe\">\n",
       "  <thead>\n",
       "    <tr style=\"text-align: right;\">\n",
       "      <th></th>\n",
       "      <th>Maso</th>\n",
       "      <th>Hoten</th>\n",
       "      <th>Tuoi</th>\n",
       "    </tr>\n",
       "  </thead>\n",
       "  <tbody>\n",
       "    <tr>\n",
       "      <th>0</th>\n",
       "      <td>A00001</td>\n",
       "      <td>Nguyễn Trần Lê</td>\n",
       "      <td>25</td>\n",
       "    </tr>\n",
       "    <tr>\n",
       "      <th>1</th>\n",
       "      <td>A00002</td>\n",
       "      <td>Trần Lê Nguyễn</td>\n",
       "      <td>20</td>\n",
       "    </tr>\n",
       "  </tbody>\n",
       "</table>\n",
       "</div>"
      ],
      "text/plain": [
       "     Maso           Hoten  Tuoi\n",
       "0  A00001  Nguyễn Trần Lê    25\n",
       "1  A00002  Trần Lê Nguyễn    20"
      ]
     },
     "execution_count": 17,
     "metadata": {},
     "output_type": "execute_result"
    }
   ],
   "source": [
    "df = pd.DataFrame(data, columns=['Maso', 'Hoten', 'Tuoi'])\n",
    "df"
   ]
  },
  {
   "cell_type": "code",
   "execution_count": 18,
   "id": "9eb0adae",
   "metadata": {},
   "outputs": [
    {
     "data": {
      "text/html": [
       "<div>\n",
       "<style scoped>\n",
       "    .dataframe tbody tr th:only-of-type {\n",
       "        vertical-align: middle;\n",
       "    }\n",
       "\n",
       "    .dataframe tbody tr th {\n",
       "        vertical-align: top;\n",
       "    }\n",
       "\n",
       "    .dataframe thead th {\n",
       "        text-align: right;\n",
       "    }\n",
       "</style>\n",
       "<table border=\"1\" class=\"dataframe\">\n",
       "  <thead>\n",
       "    <tr style=\"text-align: right;\">\n",
       "      <th></th>\n",
       "      <th>MaSo</th>\n",
       "      <th>HoTen</th>\n",
       "      <th>Tuoi</th>\n",
       "    </tr>\n",
       "  </thead>\n",
       "  <tbody>\n",
       "    <tr>\n",
       "      <th>0</th>\n",
       "      <td>A00001</td>\n",
       "      <td>Nguyễn Trần Lê</td>\n",
       "      <td>25</td>\n",
       "    </tr>\n",
       "    <tr>\n",
       "      <th>1</th>\n",
       "      <td>A00002</td>\n",
       "      <td>Trần Lê Nguyễn</td>\n",
       "      <td>20</td>\n",
       "    </tr>\n",
       "  </tbody>\n",
       "</table>\n",
       "</div>"
      ],
      "text/plain": [
       "     MaSo           HoTen  Tuoi\n",
       "0  A00001  Nguyễn Trần Lê    25\n",
       "1  A00002  Trần Lê Nguyễn    20"
      ]
     },
     "execution_count": 18,
     "metadata": {},
     "output_type": "execute_result"
    }
   ],
   "source": [
    "df2 = pd.read_sql(sql, cn)\n",
    "df2"
   ]
  },
  {
   "cell_type": "code",
   "execution_count": 20,
   "id": "b36c6a46",
   "metadata": {},
   "outputs": [
    {
     "ename": "IntegrityError",
     "evalue": "UNIQUE constraint failed: NhanVien.MaSo",
     "output_type": "error",
     "traceback": [
      "\u001b[1;31m---------------------------------------------------------------------------\u001b[0m",
      "\u001b[1;31mIntegrityError\u001b[0m                            Traceback (most recent call last)",
      "Input \u001b[1;32mIn [20]\u001b[0m, in \u001b[0;36m<cell line: 11>\u001b[1;34m()\u001b[0m\n\u001b[0;32m      5\u001b[0m param_data \u001b[38;5;241m=\u001b[39m [\n\u001b[0;32m      6\u001b[0m     (\u001b[38;5;124m'\u001b[39m\u001b[38;5;124mA00003\u001b[39m\u001b[38;5;124m'\u001b[39m, \u001b[38;5;124m'\u001b[39m\u001b[38;5;124mNguyễn Lê Trần\u001b[39m\u001b[38;5;124m'\u001b[39m, \u001b[38;5;241m22\u001b[39m),\n\u001b[0;32m      7\u001b[0m     (\u001b[38;5;124m'\u001b[39m\u001b[38;5;124mA00004\u001b[39m\u001b[38;5;124m'\u001b[39m, \u001b[38;5;124m'\u001b[39m\u001b[38;5;124mLê Nguyễn Trần\u001b[39m\u001b[38;5;124m'\u001b[39m, \u001b[38;5;241m23\u001b[39m),\n\u001b[0;32m      8\u001b[0m     (\u001b[38;5;124m'\u001b[39m\u001b[38;5;124mA00005\u001b[39m\u001b[38;5;124m'\u001b[39m, \u001b[38;5;124m'\u001b[39m\u001b[38;5;124mLê Trần Nguyễn\u001b[39m\u001b[38;5;124m'\u001b[39m, \u001b[38;5;241m27\u001b[39m)\n\u001b[0;32m      9\u001b[0m ]\n\u001b[0;32m     10\u001b[0m \u001b[38;5;66;03m# thực thi câu truy vấn với 3 bộ dữ liệu\u001b[39;00m\n\u001b[1;32m---> 11\u001b[0m \u001b[43mcursor\u001b[49m\u001b[38;5;241;43m.\u001b[39;49m\u001b[43mexecutemany\u001b[49m\u001b[43m(\u001b[49m\u001b[43msql\u001b[49m\u001b[43m,\u001b[49m\u001b[43m \u001b[49m\u001b[43mparam_data\u001b[49m\u001b[43m)\u001b[49m\n\u001b[0;32m     12\u001b[0m \u001b[38;5;66;03m# ghi nhận các thay đổi vào database\u001b[39;00m\n\u001b[0;32m     13\u001b[0m cn\u001b[38;5;241m.\u001b[39mcommit()\n",
      "\u001b[1;31mIntegrityError\u001b[0m: UNIQUE constraint failed: NhanVien.MaSo"
     ]
    }
   ],
   "source": [
    "# Thêm 3 nhân  viên mới vào bảng NhanVien\n",
    "sql = \"Insert Into NhanVien(Maso, Hoten, Tuoi) Values(?,?,?)\"\n",
    "\n",
    "#dữ liệu truyền cho tham số\n",
    "param_data = [\n",
    "    ('A00003', 'Nguyễn Lê Trần', 22),\n",
    "    ('A00004', 'Lê Nguyễn Trần', 23),\n",
    "    ('A00005', 'Lê Trần Nguyễn', 27)\n",
    "]\n",
    "# thực thi câu truy vấn với 3 bộ dữ liệu\n",
    "cursor.executemany(sql, param_data)\n",
    "# ghi nhận các thay đổi vào database\n",
    "cn.commit()"
   ]
  },
  {
   "cell_type": "code",
   "execution_count": 21,
   "id": "b484b1ee",
   "metadata": {},
   "outputs": [],
   "source": [
    "# Thêm 3 nhân  viên mới vào bảng NhanVien\n",
    "sql = \"Insert Into NhanVien(Maso, Hoten, Tuoi) Values(:ma, :ten, :tuoi)\"\n",
    "\n",
    "#dữ liệu truyền cho tham số\n",
    "param_data = [\n",
    "    {'ma': 'A00006', 'ten': 'Nguyễn Lê Trần', 'tuoi': 22},\n",
    "    {'ten': 'Lê Nguyễn Trần', 'ma': 'A00007', 'tuoi': 23},\n",
    "    {'ma': 'A00008', 'ten': 'Lê Trần Nguyễn', 'tuoi': 27}\n",
    "]\n",
    "# thực thi câu truy vấn với 3 bộ dữ liệu\n",
    "cursor.executemany(sql, param_data)\n",
    "# ghi nhận các thay đổi vào database\n",
    "cn.commit()"
   ]
  },
  {
   "cell_type": "markdown",
   "id": "2031d836",
   "metadata": {},
   "source": [
    "## Sử dụng Magic SQL"
   ]
  },
  {
   "cell_type": "code",
   "execution_count": 10,
   "id": "2571d37d",
   "metadata": {},
   "outputs": [],
   "source": [
    "# load thư viện\n",
    "%load_ext sql"
   ]
  },
  {
   "cell_type": "code",
   "execution_count": 11,
   "id": "28329ce6",
   "metadata": {},
   "outputs": [],
   "source": [
    "# kết nối tới tập tin database mydatabase.db\n",
    "%sql sqlite:///data/mydatabase.db"
   ]
  },
  {
   "cell_type": "code",
   "execution_count": 12,
   "id": "e818cb6f",
   "metadata": {},
   "outputs": [
    {
     "name": "stdout",
     "output_type": "stream",
     "text": [
      " * sqlite:///data/mydatabase.db\n",
      "Done.\n"
     ]
    },
    {
     "data": {
      "text/html": [
       "<table>\n",
       "    <thead>\n",
       "        <tr>\n",
       "            <th>MaSo</th>\n",
       "            <th>HoTen</th>\n",
       "            <th>Tuoi</th>\n",
       "        </tr>\n",
       "    </thead>\n",
       "    <tbody>\n",
       "        <tr>\n",
       "            <td>A00001</td>\n",
       "            <td>Nguyễn Trần Lê</td>\n",
       "            <td>25</td>\n",
       "        </tr>\n",
       "        <tr>\n",
       "            <td>A00002</td>\n",
       "            <td>Trần Lê Nguyễn</td>\n",
       "            <td>20</td>\n",
       "        </tr>\n",
       "    </tbody>\n",
       "</table>"
      ],
      "text/plain": [
       "[('A00001', 'Nguyễn Trần Lê', 25), ('A00002', 'Trần Lê Nguyễn', 20)]"
      ]
     },
     "execution_count": 12,
     "metadata": {},
     "output_type": "execute_result"
    }
   ],
   "source": [
    "# liệt kê tất cả nhân viên\n",
    "%sql Select * from NhanVien"
   ]
  },
  {
   "cell_type": "code",
   "execution_count": 13,
   "id": "654bbfae",
   "metadata": {},
   "outputs": [
    {
     "name": "stdout",
     "output_type": "stream",
     "text": [
      " * sqlite:///data/mydatabase.db\n",
      "Done.\n"
     ]
    }
   ],
   "source": [
    "results = %sql Select * From NhanVien"
   ]
  },
  {
   "cell_type": "code",
   "execution_count": 14,
   "id": "687c538f",
   "metadata": {},
   "outputs": [
    {
     "data": {
      "text/html": [
       "<div>\n",
       "<style scoped>\n",
       "    .dataframe tbody tr th:only-of-type {\n",
       "        vertical-align: middle;\n",
       "    }\n",
       "\n",
       "    .dataframe tbody tr th {\n",
       "        vertical-align: top;\n",
       "    }\n",
       "\n",
       "    .dataframe thead th {\n",
       "        text-align: right;\n",
       "    }\n",
       "</style>\n",
       "<table border=\"1\" class=\"dataframe\">\n",
       "  <thead>\n",
       "    <tr style=\"text-align: right;\">\n",
       "      <th></th>\n",
       "      <th>MaSo</th>\n",
       "      <th>HoTen</th>\n",
       "      <th>Tuoi</th>\n",
       "    </tr>\n",
       "  </thead>\n",
       "  <tbody>\n",
       "    <tr>\n",
       "      <th>0</th>\n",
       "      <td>A00001</td>\n",
       "      <td>Nguyễn Trần Lê</td>\n",
       "      <td>25</td>\n",
       "    </tr>\n",
       "    <tr>\n",
       "      <th>1</th>\n",
       "      <td>A00002</td>\n",
       "      <td>Trần Lê Nguyễn</td>\n",
       "      <td>20</td>\n",
       "    </tr>\n",
       "  </tbody>\n",
       "</table>\n",
       "</div>"
      ],
      "text/plain": [
       "     MaSo           HoTen  Tuoi\n",
       "0  A00001  Nguyễn Trần Lê    25\n",
       "1  A00002  Trần Lê Nguyễn    20"
      ]
     },
     "execution_count": 14,
     "metadata": {},
     "output_type": "execute_result"
    }
   ],
   "source": [
    "df = results.DataFrame()\n",
    "df"
   ]
  },
  {
   "cell_type": "code",
   "execution_count": null,
   "id": "396a4bde",
   "metadata": {},
   "outputs": [],
   "source": []
  }
 ],
 "metadata": {
  "kernelspec": {
   "display_name": "Python 3 (ipykernel)",
   "language": "python",
   "name": "python3"
  },
  "language_info": {
   "codemirror_mode": {
    "name": "ipython",
    "version": 3
   },
   "file_extension": ".py",
   "mimetype": "text/x-python",
   "name": "python",
   "nbconvert_exporter": "python",
   "pygments_lexer": "ipython3",
   "version": "3.9.12"
  }
 },
 "nbformat": 4,
 "nbformat_minor": 5
}
