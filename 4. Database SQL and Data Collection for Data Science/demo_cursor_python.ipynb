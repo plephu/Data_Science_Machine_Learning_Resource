{
 "cells": [
  {
   "cell_type": "code",
   "execution_count": 1,
   "id": "98fabe5c",
   "metadata": {},
   "outputs": [],
   "source": [
    "#import thư viện\n",
    "from mysql.connector import connect"
   ]
  },
  {
   "cell_type": "code",
   "execution_count": 40,
   "id": "27299a72",
   "metadata": {},
   "outputs": [],
   "source": [
    "# Tạo kết nối đến Database\n",
    "cn = connect(host='localhost', user='root', password='', database='productshipping')"
   ]
  },
  {
   "cell_type": "code",
   "execution_count": 41,
   "id": "c341f89e",
   "metadata": {},
   "outputs": [],
   "source": [
    "# tạo Cursor từ đối tượng connect\n",
    "cursor = cn.cursor()"
   ]
  },
  {
   "cell_type": "markdown",
   "id": "4e7d3774",
   "metadata": {},
   "source": [
    "### Gọi thủ tục với callproc"
   ]
  },
  {
   "cell_type": "code",
   "execution_count": 4,
   "id": "ce9b3838",
   "metadata": {},
   "outputs": [],
   "source": [
    "# gọi thủ tục có tên find_employee_by_phone2 với tham số vào là phone và 3 tham số ra là name, title và hiredate\n",
    "# chuẩn bị tham số truyền vào thủ tục\n",
    "params = ['(206) 555-0100', None, None, None]\n",
    "# gọi thủ tục với callproc\n",
    "results = cursor.callproc(procname='find_employee_by_phone2', args=params)"
   ]
  },
  {
   "cell_type": "code",
   "execution_count": 5,
   "id": "524ebe6e",
   "metadata": {},
   "outputs": [
    {
     "data": {
      "text/plain": [
       "('(206) 555-0100', 'Don, Funk', 'Vice Presi', '2002-08-14 00:00:00')"
      ]
     },
     "execution_count": 5,
     "metadata": {},
     "output_type": "execute_result"
    }
   ],
   "source": [
    "# xem kết quả\n",
    "results"
   ]
  },
  {
   "cell_type": "markdown",
   "id": "39211f2f",
   "metadata": {},
   "source": [
    "### Gọi thực hiện truy vấn lấy về dữ liệu với execute"
   ]
  },
  {
   "cell_type": "code",
   "execution_count": 9,
   "id": "e884d62d",
   "metadata": {},
   "outputs": [],
   "source": [
    "# tạo câu truy vấn\n",
    "sql = \"Select firstname, lastname, title, address From Employees Where country='usa'\"\n",
    "# gọi thực hiện truy vấn với phương thức execute\n",
    "results = cursor.execute(sql)"
   ]
  },
  {
   "cell_type": "code",
   "execution_count": 10,
   "id": "8dd5db18",
   "metadata": {},
   "outputs": [
    {
     "name": "stdout",
     "output_type": "stream",
     "text": [
      "('Sara', 'Davis', 'CEO', '7890 - 20th Ave. E., Apt. 2A')\n",
      "('Don', 'Funk', 'Vice President, Sales', '9012 W. Capital Way')\n",
      "('Judy', 'Lew', 'Sales Manager', '2345 Moss Bay Blvd.')\n",
      "('Yael', 'Peled', 'Sales Representative', '5678 Old Redmond Rd.')\n",
      "('Maria', 'Cameron', 'Sales Representative', '4567 - 11th Ave. N.E.')\n"
     ]
    }
   ],
   "source": [
    "# xem kết quả\n",
    "for row in cursor:\n",
    "    print(row)"
   ]
  },
  {
   "cell_type": "code",
   "execution_count": null,
   "id": "6f1c2a31",
   "metadata": {},
   "outputs": [],
   "source": [
    "# hủy cursor và đóng kết nối\n",
    "cursor.close()\n",
    "cn.close()"
   ]
  },
  {
   "cell_type": "markdown",
   "id": "b4b22ce6",
   "metadata": {},
   "source": [
    "#### thực thi nhiều câu truy vấn đồng thời với execute"
   ]
  },
  {
   "cell_type": "code",
   "execution_count": 22,
   "id": "86f4d12f",
   "metadata": {},
   "outputs": [],
   "source": [
    "# tạo câu truy vấn\n",
    "sql = \"\"\"\n",
    "Select firstname, lastname, title, address From Employees Where country = 'usa';\n",
    "Select Contactname, contacttitle, address From Customers Where country = 'usa';\n",
    "\"\"\"\n",
    "# gọi thực hiện truy vấn với phương thức execute\n",
    "results = cursor.execute(sql, multi=True)"
   ]
  },
  {
   "cell_type": "code",
   "execution_count": 23,
   "id": "51a8828f",
   "metadata": {},
   "outputs": [
    {
     "name": "stdout",
     "output_type": "stream",
     "text": [
      "\n",
      "\n",
      "('Sara', 'Davis', 'CEO', '7890 - 20th Ave. E., Apt. 2A')\n",
      "('Don', 'Funk', 'Vice President, Sales', '9012 W. Capital Way')\n",
      "('Judy', 'Lew', 'Sales Manager', '2345 Moss Bay Blvd.')\n",
      "('Yael', 'Peled', 'Sales Representative', '5678 Old Redmond Rd.')\n",
      "('Maria', 'Cameron', 'Sales Representative', '4567 - 11th Ave. N.E.')\n",
      "\n",
      "\n",
      "('Krishnan, Venky', 'Marketing Manager', '6789 Baker Blvd.')\n",
      "('Smith, Denise', 'Sales Representative', 'City Center Plaza 2345 Main St.')\n",
      "('Deshpande, Anu', 'Marketing Manager', '8901 Orchestra Terrace')\n",
      "('Sunkammurali,  Krishna', 'Owner', '1234 Polk St. Suite 5')\n",
      "('Szymczak, Radosław', 'Sales Manager', '9012 Chiaroscuro Rd.')\n",
      "('Egelund-Muller, Anja', 'Sales Representative', '7890 Bering St.')\n",
      "('Moore, Michael', 'Assistant Sales Representative', '6789 Milton Dr.')\n",
      "('Navarro, Tomás', 'Sales Representative', '9012 Suffolk Ln.')\n",
      "('Wojciechowska, Agnieszka', 'Sales Manager', 'P.O. Box 1234')\n",
      "('Osorio, Cristian', 'Marketing Manager', '2345 Jefferson Way Suite 2')\n",
      "('Young, Robin', 'Marketing Assistant', '0123 Grizzly Peak Rd.')\n",
      "('Veninga, Tjeerd', 'Sales Associate', '1234 DaVinci Blvd.')\n",
      "('Smith Jr., Ronaldo', 'Owner', '8901 - 14th Ave. S. Suite 3B')\n"
     ]
    }
   ],
   "source": [
    "# xem kết quả\n",
    "for result in results:\n",
    "    print('\\n')\n",
    "    for row in result:\n",
    "        print(row)    "
   ]
  },
  {
   "cell_type": "markdown",
   "id": "19f48e86",
   "metadata": {},
   "source": [
    "#### Thực hiện truy vấn có tham số với execute"
   ]
  },
  {
   "cell_type": "code",
   "execution_count": 29,
   "id": "b52492d5",
   "metadata": {},
   "outputs": [
    {
     "name": "stdout",
     "output_type": "stream",
     "text": [
      "Nhập tên quốc gia: uk\n",
      "Nhập tên thành phố: london\n"
     ]
    }
   ],
   "source": [
    "pCountry = input('Nhập tên quốc gia: ')\n",
    "pCity = input('Nhập tên thành phố: ')"
   ]
  },
  {
   "cell_type": "code",
   "execution_count": 30,
   "id": "a3e91ec4",
   "metadata": {},
   "outputs": [],
   "source": [
    "# tạo câu truy vấn trả về danh sách nhân viên theo quốc gia và thành phố là 2 tham số do người dùng nhập vào\n",
    "sql = \"Select firstname, lastname, title, address From Employees Where country=%s and city=%s\"\n",
    "# tạo bộ dữ liệu cho tham số\n",
    "param_data = (pCity, pCountry)\n",
    "# gọi thực hiện truy vấn với phương thức execute\n",
    "results = cursor.execute(sql, params=param_data)"
   ]
  },
  {
   "cell_type": "code",
   "execution_count": 31,
   "id": "b270c1a0",
   "metadata": {},
   "outputs": [
    {
     "name": "stdout",
     "output_type": "stream",
     "text": [
      "('Sven', 'Buck', 'Sales Manager', '8901 Garrett Hill')\n",
      "('Paul', 'Suurs', 'Sales Representative', '3456 Coventry House, Miner Rd.')\n",
      "('Russell', 'King', 'Sales Representative', '6789 Edgeham Hollow, Winchester Way')\n",
      "('Zoya', 'Dolgopyatova', 'Sales Representative', '1234 Houndstooth Rd.')\n",
      "('Thomas', 'Michael', 'Sales Representative', '123 - 19th Ave.')\n"
     ]
    }
   ],
   "source": [
    "# xem kết quả\n",
    "for row in cursor:\n",
    "    print(row)"
   ]
  },
  {
   "cell_type": "code",
   "execution_count": 36,
   "id": "406b7254",
   "metadata": {},
   "outputs": [],
   "source": [
    "# tạo câu truy vấn trả về danh sách nhân viên theo quốc gia và thành phố là 2 tham số do người dùng nhập vào\n",
    "sql = \"Select firstname, lastname, title, address From Employees Where country=%(quocgia)s and city=%(thanhpho)s\"\n",
    "# tạo bộ dữ liệu cho tham số\n",
    "param_data = {'thanhpho': pCity, 'quocgia': pCountry}\n",
    "# gọi thực hiện truy vấn với phương thức execute\n",
    "results = cursor.execute(sql, params=param_data)"
   ]
  },
  {
   "cell_type": "code",
   "execution_count": 37,
   "id": "67c5105c",
   "metadata": {},
   "outputs": [
    {
     "name": "stdout",
     "output_type": "stream",
     "text": [
      "('Sven', 'Buck', 'Sales Manager', '8901 Garrett Hill')\n",
      "('Paul', 'Suurs', 'Sales Representative', '3456 Coventry House, Miner Rd.')\n",
      "('Russell', 'King', 'Sales Representative', '6789 Edgeham Hollow, Winchester Way')\n",
      "('Zoya', 'Dolgopyatova', 'Sales Representative', '1234 Houndstooth Rd.')\n",
      "('Thomas', 'Michael', 'Sales Representative', '123 - 19th Ave.')\n"
     ]
    }
   ],
   "source": [
    "# xem kết quả\n",
    "for row in cursor:\n",
    "    print(row)"
   ]
  },
  {
   "cell_type": "markdown",
   "id": "c1b71fe0",
   "metadata": {},
   "source": [
    "#### thực thi truy vấn có tham số với nhiều bộ dữ liệu"
   ]
  },
  {
   "cell_type": "code",
   "execution_count": 38,
   "id": "e4c41e50",
   "metadata": {},
   "outputs": [],
   "source": [
    "# tạo câu truy vấn trả về danh sách nhân viên theo quốc gia và thành phố là 2 tham số do người dùng nhập vào\n",
    "sql = \"Select firstname, lastname, title, address, city From Employees Where country=%(quocgia)s and city=%(thanhpho)s\"\n",
    "# tạo bộ dữ liệu cho tham số\n",
    "param_data = [\n",
    "    {'thanhpho': 'Berlin', 'quocgia': 'Germany'},\n",
    "    {'quocgia': 'Spain', 'thanhpho': 'Barcelona'}\n",
    "]\n",
    "# gọi thực hiện truy vấn lần lượt với từng bộ dữ liệu\n",
    "for data in param_data:\n",
    "    results = cursor.execute(sql, params=data)\n",
    "    # xem kết quả\n",
    "    for row in cursor:\n",
    "        print(row)"
   ]
  },
  {
   "cell_type": "markdown",
   "id": "3932b398",
   "metadata": {},
   "source": [
    "#### Thực thi truy vấn thêm 3 sản phẩm mới vào bảng products"
   ]
  },
  {
   "cell_type": "code",
   "execution_count": 42,
   "id": "ccdc1219",
   "metadata": {},
   "outputs": [],
   "source": [
    "#tạo câu truy vấn thêm dữ liệu\n",
    "sql = \"\"\"\n",
    "insert into products(productid, productname, supplierid, categoryid, unitprice, discontinued) \n",
    "values(%(maso)s, %(ten)s, %(cungcap)s, %(loai)s, %(gia)s, %(ngungban)s);\n",
    "\"\"\"\n",
    "# bộ dữ liệu cần thêm\n",
    "param_data = [\n",
    "    {'maso': 79, 'ten': 'Sản phẩm 1', 'cungcap': 1, 'loai': 1, 'gia': 222, 'ngungban': 0},\n",
    "    {'maso': 80, 'ten': 'Sản phẩm 2', 'cungcap': 1, 'loai': 1, 'gia': 333, 'ngungban': 0},\n",
    "    {'maso': 81, 'ten': 'Sản phẩm 3', 'cungcap': 1, 'loai': 1, 'gia': 444, 'ngungban': 0},\n",
    "]\n",
    "\n",
    "# gọi thực hiện truy vấn lần lượt với từng bộ dữ liệu\n",
    "for data in param_data:\n",
    "    cursor.execute(sql, params=data)"
   ]
  },
  {
   "cell_type": "markdown",
   "id": "9fa09343",
   "metadata": {},
   "source": [
    "### ExecuteMany"
   ]
  },
  {
   "cell_type": "code",
   "execution_count": 43,
   "id": "121431ec",
   "metadata": {},
   "outputs": [],
   "source": [
    "#tạo câu truy vấn thêm dữ liệu\n",
    "sql = \"\"\"\n",
    "insert into products(productid, productname, supplierid, categoryid, unitprice, discontinued) \n",
    "values(%(maso)s, %(ten)s, %(cungcap)s, %(loai)s, %(gia)s, %(ngungban)s);\n",
    "\"\"\"\n",
    "# bộ dữ liệu cần thêm\n",
    "param_data = [\n",
    "    {'maso': 82, 'ten': 'Sản phẩm 4', 'cungcap': 1, 'loai': 1, 'gia': 222, 'ngungban': 0},\n",
    "    {'maso': 83, 'ten': 'Sản phẩm 5', 'cungcap': 1, 'loai': 1, 'gia': 333, 'ngungban': 0},\n",
    "    {'maso': 84, 'ten': 'Sản phẩm 6', 'cungcap': 1, 'loai': 1, 'gia': 444, 'ngungban': 0},\n",
    "]\n",
    "\n",
    "# gọi thực hiện truy vấn với 3 bộ dự liệu bằng phương thức executemany\n",
    "cursor.executemany(sql, seq_params=param_data)"
   ]
  },
  {
   "cell_type": "code",
   "execution_count": 44,
   "id": "4020a392",
   "metadata": {},
   "outputs": [
    {
     "data": {
      "text/plain": [
       "3"
      ]
     },
     "execution_count": 44,
     "metadata": {},
     "output_type": "execute_result"
    }
   ],
   "source": [
    "cursor.rowcount"
   ]
  },
  {
   "cell_type": "markdown",
   "id": "c8da0d4e",
   "metadata": {},
   "source": [
    "### Duyệt và in ra từng dòng dữ liệu với fetchone"
   ]
  },
  {
   "cell_type": "code",
   "execution_count": 45,
   "id": "9395d33e",
   "metadata": {},
   "outputs": [
    {
     "name": "stdout",
     "output_type": "stream",
     "text": [
      "('Allen, Michael', 'Sales Representative', 'Obere Str. 0123')\n",
      "('Hassall, Mark', 'Owner', 'Avda. de la Constitución 5678')\n",
      "('Peoples, John', 'Owner', 'Mataderos  7890')\n",
      "('Arndt, Torsten', 'Sales Representative', '7890 Hanover Sq.')\n",
      "('Higginbotham, Tom', 'Order Administrator', 'Berguvsvägen  5678')\n"
     ]
    }
   ],
   "source": [
    "# lấy ra 5 khách hàng đầu tiên\n",
    "sql = 'Select Contactname, contacttitle, address From Customers limit 5'\n",
    "# thực hiện truy vấn với execute\n",
    "cursor.execute(sql)\n",
    "\n",
    "# dùng fetchone để đọc từng dòng dữ liệu\n",
    "row = cursor.fetchone()\n",
    "\n",
    "while row:\n",
    "    print(row)\n",
    "    row = cursor.fetchone()"
   ]
  },
  {
   "cell_type": "markdown",
   "id": "5c91b50e",
   "metadata": {},
   "source": [
    "### Duyệt và in nhiều dòng với fetchmany"
   ]
  },
  {
   "cell_type": "code",
   "execution_count": 49,
   "id": "a27912a6",
   "metadata": {},
   "outputs": [
    {
     "name": "stdout",
     "output_type": "stream",
     "text": [
      "[('Allen, Michael', 'Sales Representative', 'Obere Str. 0123')]\n",
      "[('Hassall, Mark', 'Owner', 'Avda. de la Constitución 5678'), ('Peoples, John', 'Owner', 'Mataderos  7890')]\n",
      "[('Arndt, Torsten', 'Sales Representative', '7890 Hanover Sq.'), ('Higginbotham, Tom', 'Order Administrator', 'Berguvsvägen  5678')]\n",
      "[]\n"
     ]
    }
   ],
   "source": [
    "# lấy ra 5 khách hàng đầu tiên\n",
    "sql = 'Select Contactname, contacttitle, address From Customers limit 5'\n",
    "# thực hiện truy vấn với execute\n",
    "cursor.execute(sql)\n",
    "\n",
    "\n",
    "# in ra dòng đầu tiên\n",
    "print(cursor.fetchmany())\n",
    "# in ra dòng tiếp theo\n",
    "print(cursor.fetchmany(2))\n",
    "# in ra dòng tiếp theo\n",
    "print(cursor.fetchmany(2))\n",
    "# in ra 1 dòng tiếp theo\n",
    "print(cursor.fetchmany())\n"
   ]
  },
  {
   "cell_type": "markdown",
   "id": "2268847b",
   "metadata": {},
   "source": [
    "### Duyệt và in nhiều dòng với fetchall"
   ]
  },
  {
   "cell_type": "code",
   "execution_count": 48,
   "id": "24a6db39",
   "metadata": {},
   "outputs": [
    {
     "name": "stdout",
     "output_type": "stream",
     "text": [
      "('Allen, Michael', 'Sales Representative', 'Obere Str. 0123')\n",
      "[('Hassall, Mark', 'Owner', 'Avda. de la Constitución 5678'), ('Peoples, John', 'Owner', 'Mataderos  7890'), ('Arndt, Torsten', 'Sales Representative', '7890 Hanover Sq.'), ('Higginbotham, Tom', 'Order Administrator', 'Berguvsvägen  5678')]\n"
     ]
    }
   ],
   "source": [
    "# lấy ra 5 khách hàng đầu tiên\n",
    "sql = 'Select Contactname, contacttitle, address From Customers limit 5'\n",
    "# thực hiện truy vấn với execute\n",
    "cursor.execute(sql)\n",
    "\n",
    "# in ra dòng đầu tiên\n",
    "print(cursor.fetchone())\n",
    "# in ra tất cả các dòng còn lại\n",
    "print(cursor.fetchall())"
   ]
  },
  {
   "cell_type": "code",
   "execution_count": 50,
   "id": "e40ba094",
   "metadata": {},
   "outputs": [
    {
     "data": {
      "text/plain": [
       "('Contactname', 'contacttitle', 'address')"
      ]
     },
     "execution_count": 50,
     "metadata": {},
     "output_type": "execute_result"
    }
   ],
   "source": [
    "cursor.column_names"
   ]
  },
  {
   "cell_type": "code",
   "execution_count": 51,
   "id": "53c40212",
   "metadata": {},
   "outputs": [
    {
     "data": {
      "text/plain": [
       "True"
      ]
     },
     "execution_count": 51,
     "metadata": {},
     "output_type": "execute_result"
    }
   ],
   "source": [
    "cursor.with_rows"
   ]
  },
  {
   "cell_type": "code",
   "execution_count": 52,
   "id": "5f4be13e",
   "metadata": {},
   "outputs": [
    {
     "data": {
      "text/plain": [
       "0"
      ]
     },
     "execution_count": 52,
     "metadata": {},
     "output_type": "execute_result"
    }
   ],
   "source": [
    "cursor.lastrowid"
   ]
  },
  {
   "cell_type": "code",
   "execution_count": 53,
   "id": "739e7992",
   "metadata": {},
   "outputs": [
    {
     "data": {
      "text/plain": [
       "'Select Contactname, contacttitle, address From Customers limit 5'"
      ]
     },
     "execution_count": 53,
     "metadata": {},
     "output_type": "execute_result"
    }
   ],
   "source": [
    "cursor.statement"
   ]
  },
  {
   "cell_type": "code",
   "execution_count": 54,
   "id": "e84438d3",
   "metadata": {},
   "outputs": [
    {
     "data": {
      "text/plain": [
       "5"
      ]
     },
     "execution_count": 54,
     "metadata": {},
     "output_type": "execute_result"
    }
   ],
   "source": [
    "cursor.rowcount"
   ]
  },
  {
   "cell_type": "code",
   "execution_count": null,
   "id": "ba159696",
   "metadata": {},
   "outputs": [],
   "source": []
  }
 ],
 "metadata": {
  "kernelspec": {
   "display_name": "Python 3 (ipykernel)",
   "language": "python",
   "name": "python3"
  },
  "language_info": {
   "codemirror_mode": {
    "name": "ipython",
    "version": 3
   },
   "file_extension": ".py",
   "mimetype": "text/x-python",
   "name": "python",
   "nbconvert_exporter": "python",
   "pygments_lexer": "ipython3",
   "version": "3.8.10"
  }
 },
 "nbformat": 4,
 "nbformat_minor": 5
}
