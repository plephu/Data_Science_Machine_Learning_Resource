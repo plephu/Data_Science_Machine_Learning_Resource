{
 "cells": [
  {
   "cell_type": "code",
   "execution_count": 1,
   "id": "826372ca-e1cb-4394-8718-3161a9db2035",
   "metadata": {},
   "outputs": [
    {
     "name": "stderr",
     "output_type": "stream",
     "text": [
      "corrplot 0.92 loaded\n",
      "\n"
     ]
    }
   ],
   "source": [
    "library('corrplot')\n",
    "library('ggplot2')"
   ]
  },
  {
   "cell_type": "code",
   "execution_count": 2,
   "id": "02704ba6-04fc-4ba9-bb08-75d9fb6ea13c",
   "metadata": {},
   "outputs": [],
   "source": [
    "mydata <- read.csv('Chapter18/binary.csv')"
   ]
  },
  {
   "cell_type": "code",
   "execution_count": 3,
   "id": "77d5c035-bf72-4697-8a7c-c98d7563d5fb",
   "metadata": {},
   "outputs": [
    {
     "data": {
      "text/html": [
       "<table class=\"dataframe\">\n",
       "<caption>A data.frame: 6 × 4</caption>\n",
       "<thead>\n",
       "\t<tr><th></th><th scope=col>admit</th><th scope=col>gre</th><th scope=col>gpa</th><th scope=col>rank</th></tr>\n",
       "\t<tr><th></th><th scope=col>&lt;int&gt;</th><th scope=col>&lt;int&gt;</th><th scope=col>&lt;dbl&gt;</th><th scope=col>&lt;int&gt;</th></tr>\n",
       "</thead>\n",
       "<tbody>\n",
       "\t<tr><th scope=row>1</th><td>0</td><td>380</td><td>3.61</td><td>3</td></tr>\n",
       "\t<tr><th scope=row>2</th><td>1</td><td>660</td><td>3.67</td><td>3</td></tr>\n",
       "\t<tr><th scope=row>3</th><td>1</td><td>800</td><td>4.00</td><td>1</td></tr>\n",
       "\t<tr><th scope=row>4</th><td>1</td><td>640</td><td>3.19</td><td>4</td></tr>\n",
       "\t<tr><th scope=row>5</th><td>0</td><td>520</td><td>2.93</td><td>4</td></tr>\n",
       "\t<tr><th scope=row>6</th><td>1</td><td>760</td><td>3.00</td><td>2</td></tr>\n",
       "</tbody>\n",
       "</table>\n"
      ],
      "text/latex": [
       "A data.frame: 6 × 4\n",
       "\\begin{tabular}{r|llll}\n",
       "  & admit & gre & gpa & rank\\\\\n",
       "  & <int> & <int> & <dbl> & <int>\\\\\n",
       "\\hline\n",
       "\t1 & 0 & 380 & 3.61 & 3\\\\\n",
       "\t2 & 1 & 660 & 3.67 & 3\\\\\n",
       "\t3 & 1 & 800 & 4.00 & 1\\\\\n",
       "\t4 & 1 & 640 & 3.19 & 4\\\\\n",
       "\t5 & 0 & 520 & 2.93 & 4\\\\\n",
       "\t6 & 1 & 760 & 3.00 & 2\\\\\n",
       "\\end{tabular}\n"
      ],
      "text/markdown": [
       "\n",
       "A data.frame: 6 × 4\n",
       "\n",
       "| <!--/--> | admit &lt;int&gt; | gre &lt;int&gt; | gpa &lt;dbl&gt; | rank &lt;int&gt; |\n",
       "|---|---|---|---|---|\n",
       "| 1 | 0 | 380 | 3.61 | 3 |\n",
       "| 2 | 1 | 660 | 3.67 | 3 |\n",
       "| 3 | 1 | 800 | 4.00 | 1 |\n",
       "| 4 | 1 | 640 | 3.19 | 4 |\n",
       "| 5 | 0 | 520 | 2.93 | 4 |\n",
       "| 6 | 1 | 760 | 3.00 | 2 |\n",
       "\n"
      ],
      "text/plain": [
       "  admit gre gpa  rank\n",
       "1 0     380 3.61 3   \n",
       "2 1     660 3.67 3   \n",
       "3 1     800 4.00 1   \n",
       "4 1     640 3.19 4   \n",
       "5 0     520 2.93 4   \n",
       "6 1     760 3.00 2   "
      ]
     },
     "metadata": {},
     "output_type": "display_data"
    }
   ],
   "source": [
    "head(mydata)"
   ]
  },
  {
   "cell_type": "code",
   "execution_count": 4,
   "id": "b01943ee-89a4-4811-8e8f-0b0fb7417ced",
   "metadata": {},
   "outputs": [
    {
     "data": {
      "text/html": [
       "<table class=\"dataframe\">\n",
       "<caption>A data.frame: 6 × 4</caption>\n",
       "<thead>\n",
       "\t<tr><th></th><th scope=col>admit</th><th scope=col>gre</th><th scope=col>gpa</th><th scope=col>rank</th></tr>\n",
       "\t<tr><th></th><th scope=col>&lt;int&gt;</th><th scope=col>&lt;int&gt;</th><th scope=col>&lt;dbl&gt;</th><th scope=col>&lt;int&gt;</th></tr>\n",
       "</thead>\n",
       "<tbody>\n",
       "\t<tr><th scope=row>395</th><td>1</td><td>460</td><td>3.99</td><td>3</td></tr>\n",
       "\t<tr><th scope=row>396</th><td>0</td><td>620</td><td>4.00</td><td>2</td></tr>\n",
       "\t<tr><th scope=row>397</th><td>0</td><td>560</td><td>3.04</td><td>3</td></tr>\n",
       "\t<tr><th scope=row>398</th><td>0</td><td>460</td><td>2.63</td><td>2</td></tr>\n",
       "\t<tr><th scope=row>399</th><td>0</td><td>700</td><td>3.65</td><td>2</td></tr>\n",
       "\t<tr><th scope=row>400</th><td>0</td><td>600</td><td>3.89</td><td>3</td></tr>\n",
       "</tbody>\n",
       "</table>\n"
      ],
      "text/latex": [
       "A data.frame: 6 × 4\n",
       "\\begin{tabular}{r|llll}\n",
       "  & admit & gre & gpa & rank\\\\\n",
       "  & <int> & <int> & <dbl> & <int>\\\\\n",
       "\\hline\n",
       "\t395 & 1 & 460 & 3.99 & 3\\\\\n",
       "\t396 & 0 & 620 & 4.00 & 2\\\\\n",
       "\t397 & 0 & 560 & 3.04 & 3\\\\\n",
       "\t398 & 0 & 460 & 2.63 & 2\\\\\n",
       "\t399 & 0 & 700 & 3.65 & 2\\\\\n",
       "\t400 & 0 & 600 & 3.89 & 3\\\\\n",
       "\\end{tabular}\n"
      ],
      "text/markdown": [
       "\n",
       "A data.frame: 6 × 4\n",
       "\n",
       "| <!--/--> | admit &lt;int&gt; | gre &lt;int&gt; | gpa &lt;dbl&gt; | rank &lt;int&gt; |\n",
       "|---|---|---|---|---|\n",
       "| 395 | 1 | 460 | 3.99 | 3 |\n",
       "| 396 | 0 | 620 | 4.00 | 2 |\n",
       "| 397 | 0 | 560 | 3.04 | 3 |\n",
       "| 398 | 0 | 460 | 2.63 | 2 |\n",
       "| 399 | 0 | 700 | 3.65 | 2 |\n",
       "| 400 | 0 | 600 | 3.89 | 3 |\n",
       "\n"
      ],
      "text/plain": [
       "    admit gre gpa  rank\n",
       "395 1     460 3.99 3   \n",
       "396 0     620 4.00 2   \n",
       "397 0     560 3.04 3   \n",
       "398 0     460 2.63 2   \n",
       "399 0     700 3.65 2   \n",
       "400 0     600 3.89 3   "
      ]
     },
     "metadata": {},
     "output_type": "display_data"
    }
   ],
   "source": [
    "tail(mydata)"
   ]
  },
  {
   "cell_type": "code",
   "execution_count": 5,
   "id": "aa54ec6f-4b50-4d85-9a6c-6b87863dc81f",
   "metadata": {},
   "outputs": [
    {
     "data": {
      "text/plain": [
       "     admit             gre             gpa             rank      \n",
       " Min.   :0.0000   Min.   :220.0   Min.   :2.260   Min.   :1.000  \n",
       " 1st Qu.:0.0000   1st Qu.:520.0   1st Qu.:3.130   1st Qu.:2.000  \n",
       " Median :0.0000   Median :580.0   Median :3.395   Median :2.000  \n",
       " Mean   :0.3175   Mean   :587.7   Mean   :3.390   Mean   :2.485  \n",
       " 3rd Qu.:1.0000   3rd Qu.:660.0   3rd Qu.:3.670   3rd Qu.:3.000  \n",
       " Max.   :1.0000   Max.   :800.0   Max.   :4.000   Max.   :4.000  "
      ]
     },
     "metadata": {},
     "output_type": "display_data"
    }
   ],
   "source": [
    "summary(mydata)"
   ]
  },
  {
   "cell_type": "code",
   "execution_count": 6,
   "id": "3d488f53-060b-4487-81bd-322982775c75",
   "metadata": {},
   "outputs": [
    {
     "name": "stderr",
     "output_type": "stream",
     "text": [
      "Installing package into 'C:/Users/phamp/AppData/Local/R/win-library/4.3'\n",
      "(as 'lib' is unspecified)\n",
      "\n"
     ]
    },
    {
     "name": "stdout",
     "output_type": "stream",
     "text": [
      "package 'Amelia' successfully unpacked and MD5 sums checked\n",
      "\n",
      "The downloaded binary packages are in\n",
      "\tC:\\Users\\phamp\\AppData\\Local\\Temp\\Rtmpc7IJzV\\downloaded_packages\n"
     ]
    }
   ],
   "source": [
    "install.packages('Amelia')"
   ]
  },
  {
   "cell_type": "code",
   "execution_count": 7,
   "id": "c389ca88-a942-4b5d-9ba2-3a0e49c29125",
   "metadata": {},
   "outputs": [
    {
     "name": "stderr",
     "output_type": "stream",
     "text": [
      "Loading required package: Rcpp\n",
      "\n",
      "## \n",
      "## Amelia II: Multiple Imputation\n",
      "## (Version 1.8.1, built: 2022-11-18)\n",
      "## Copyright (C) 2005-2023 James Honaker, Gary King and Matthew Blackwell\n",
      "## Refer to http://gking.harvard.edu/amelia/ for more information\n",
      "## \n",
      "\n"
     ]
    },
    {
     "data": {
      "image/png": "[encoded data removed]",
      "text/plain": [
       "Plot with title \"Missing values vs observed\""
      ]
     },
     "metadata": {
      "image/png": {
       "height": 420,
       "width": 420
      }
     },
     "output_type": "display_data"
    }
   ],
   "source": [
    "library(Amelia)\n",
    "missmap(mydata, main = 'Missing values vs observed')"
   ]
  },
  {
   "cell_type": "code",
   "execution_count": 8,
   "id": "5b667eb3-f50d-4fe2-9055-dc9c9dc8a73d",
   "metadata": {},
   "outputs": [
    {
     "name": "stdout",
     "output_type": "stream",
     "text": [
      "\n",
      "  0   1 \n",
      "273 127 \n"
     ]
    }
   ],
   "source": [
    "print(table(mydata$admit))"
   ]
  },
  {
   "cell_type": "code",
   "execution_count": 9,
   "id": "e6e80111-d8b1-4143-b75a-ce38808db6be",
   "metadata": {},
   "outputs": [
    {
     "data": {
      "image/png": "[encoded data removed]",
      "text/plain": [
       "Plot with title \"rank\""
      ]
     },
     "metadata": {
      "image/png": {
       "height": 420,
       "width": 420
      }
     },
     "output_type": "display_data"
    }
   ],
   "source": [
    "par(mfrow=c(1,3))\n",
    "boxplot(mydata$gre, main='gre')\n",
    "boxplot(mydata$gpa, main='gpa')\n",
    "boxplot(mydata$rank, main='rank')"
   ]
  },
  {
   "cell_type": "code",
   "execution_count": 10,
   "id": "1eff446b-b898-4edc-a021-0c0d3cbcac2f",
   "metadata": {},
   "outputs": [
    {
     "data": {
      "text/html": [
       "<style>\n",
       ".list-inline {list-style: none; margin:0; padding: 0}\n",
       ".list-inline>li {display: inline-block}\n",
       ".list-inline>li:not(:last-child)::after {content: \"\\00b7\"; padding: 0 .5ex}\n",
       "</style>\n",
       "<ol class=list-inline><li>300</li><li>300</li><li>220</li><li>300</li></ol>\n"
      ],
      "text/latex": [
       "\\begin{enumerate*}\n",
       "\\item 300\n",
       "\\item 300\n",
       "\\item 220\n",
       "\\item 300\n",
       "\\end{enumerate*}\n"
      ],
      "text/markdown": [
       "1. 300\n",
       "2. 300\n",
       "3. 220\n",
       "4. 300\n",
       "\n",
       "\n"
      ],
      "text/plain": [
       "[1] 300 300 220 300"
      ]
     },
     "metadata": {},
     "output_type": "display_data"
    }
   ],
   "source": [
    "gre_outliers <- boxplot.stats(mydata$gre)$out\n",
    "gre_outliers"
   ]
  },
  {
   "cell_type": "code",
   "execution_count": 11,
   "id": "34fca900-c87d-4136-8440-2c31fb0ec5b9",
   "metadata": {},
   "outputs": [
    {
     "data": {
      "text/html": [
       "4"
      ],
      "text/latex": [
       "4"
      ],
      "text/markdown": [
       "4"
      ],
      "text/plain": [
       "[1] 4"
      ]
     },
     "metadata": {},
     "output_type": "display_data"
    }
   ],
   "source": [
    "length(gre_outliers)"
   ]
  },
  {
   "cell_type": "code",
   "execution_count": 12,
   "id": "daf2445e-ebca-47ae-8ede-b29ad265ce51",
   "metadata": {},
   "outputs": [
    {
     "data": {
      "text/html": [
       "2.26"
      ],
      "text/latex": [
       "2.26"
      ],
      "text/markdown": [
       "2.26"
      ],
      "text/plain": [
       "[1] 2.26"
      ]
     },
     "metadata": {},
     "output_type": "display_data"
    }
   ],
   "source": [
    "gpa_outliers <- boxplot.stats(mydata$gpa)$out\n",
    "gpa_outliers"
   ]
  },
  {
   "cell_type": "code",
   "execution_count": 13,
   "id": "29481acf-b0a3-405b-a100-74eefa5c3a8a",
   "metadata": {},
   "outputs": [
    {
     "data": {
      "text/html": [
       "1"
      ],
      "text/latex": [
       "1"
      ],
      "text/markdown": [
       "1"
      ],
      "text/plain": [
       "[1] 1"
      ]
     },
     "metadata": {},
     "output_type": "display_data"
    }
   ],
   "source": [
    "length(gpa_outliers)"
   ]
  },
  {
   "cell_type": "code",
   "execution_count": 14,
   "id": "bea679a0-b92a-4e5c-93f3-c0df69bdcbbc",
   "metadata": {},
   "outputs": [
    {
     "data": {
      "text/html": [
       "<table class=\"dataframe\">\n",
       "<caption>A data.frame: 4 × 4</caption>\n",
       "<thead>\n",
       "\t<tr><th></th><th scope=col>admit</th><th scope=col>gre</th><th scope=col>gpa</th><th scope=col>rank</th></tr>\n",
       "\t<tr><th></th><th scope=col>&lt;int&gt;</th><th scope=col>&lt;int&gt;</th><th scope=col>&lt;dbl&gt;</th><th scope=col>&lt;int&gt;</th></tr>\n",
       "</thead>\n",
       "<tbody>\n",
       "\t<tr><th scope=row>72</th><td>0</td><td>300</td><td>2.92</td><td>4</td></tr>\n",
       "\t<tr><th scope=row>180</th><td>0</td><td>300</td><td>3.01</td><td>3</td></tr>\n",
       "\t<tr><th scope=row>305</th><td>0</td><td>220</td><td>2.83</td><td>3</td></tr>\n",
       "\t<tr><th scope=row>316</th><td>1</td><td>300</td><td>2.84</td><td>2</td></tr>\n",
       "</tbody>\n",
       "</table>\n"
      ],
      "text/latex": [
       "A data.frame: 4 × 4\n",
       "\\begin{tabular}{r|llll}\n",
       "  & admit & gre & gpa & rank\\\\\n",
       "  & <int> & <int> & <dbl> & <int>\\\\\n",
       "\\hline\n",
       "\t72 & 0 & 300 & 2.92 & 4\\\\\n",
       "\t180 & 0 & 300 & 3.01 & 3\\\\\n",
       "\t305 & 0 & 220 & 2.83 & 3\\\\\n",
       "\t316 & 1 & 300 & 2.84 & 2\\\\\n",
       "\\end{tabular}\n"
      ],
      "text/markdown": [
       "\n",
       "A data.frame: 4 × 4\n",
       "\n",
       "| <!--/--> | admit &lt;int&gt; | gre &lt;int&gt; | gpa &lt;dbl&gt; | rank &lt;int&gt; |\n",
       "|---|---|---|---|---|\n",
       "| 72 | 0 | 300 | 2.92 | 4 |\n",
       "| 180 | 0 | 300 | 3.01 | 3 |\n",
       "| 305 | 0 | 220 | 2.83 | 3 |\n",
       "| 316 | 1 | 300 | 2.84 | 2 |\n",
       "\n"
      ],
      "text/plain": [
       "    admit gre gpa  rank\n",
       "72  0     300 2.92 4   \n",
       "180 0     300 3.01 3   \n",
       "305 0     220 2.83 3   \n",
       "316 1     300 2.84 2   "
      ]
     },
     "metadata": {},
     "output_type": "display_data"
    },
    {
     "data": {
      "text/html": [
       "<table class=\"dataframe\">\n",
       "<caption>A data.frame: 1 × 4</caption>\n",
       "<thead>\n",
       "\t<tr><th></th><th scope=col>admit</th><th scope=col>gre</th><th scope=col>gpa</th><th scope=col>rank</th></tr>\n",
       "\t<tr><th></th><th scope=col>&lt;int&gt;</th><th scope=col>&lt;int&gt;</th><th scope=col>&lt;dbl&gt;</th><th scope=col>&lt;int&gt;</th></tr>\n",
       "</thead>\n",
       "<tbody>\n",
       "\t<tr><th scope=row>290</th><td>0</td><td>420</td><td>2.26</td><td>4</td></tr>\n",
       "</tbody>\n",
       "</table>\n"
      ],
      "text/latex": [
       "A data.frame: 1 × 4\n",
       "\\begin{tabular}{r|llll}\n",
       "  & admit & gre & gpa & rank\\\\\n",
       "  & <int> & <int> & <dbl> & <int>\\\\\n",
       "\\hline\n",
       "\t290 & 0 & 420 & 2.26 & 4\\\\\n",
       "\\end{tabular}\n"
      ],
      "text/markdown": [
       "\n",
       "A data.frame: 1 × 4\n",
       "\n",
       "| <!--/--> | admit &lt;int&gt; | gre &lt;int&gt; | gpa &lt;dbl&gt; | rank &lt;int&gt; |\n",
       "|---|---|---|---|---|\n",
       "| 290 | 0 | 420 | 2.26 | 4 |\n",
       "\n"
      ],
      "text/plain": [
       "    admit gre gpa  rank\n",
       "290 0     420 2.26 4   "
      ]
     },
     "metadata": {},
     "output_type": "display_data"
    },
    {
     "name": "stdout",
     "output_type": "stream",
     "text": [
      "[1] \"Before drop: 400\"\n"
     ]
    }
   ],
   "source": [
    "mydata[mydata$gre %in% gre_outliers,]\n",
    "mydata[mydata$gpa %in% gpa_outliers,]\n",
    "print(paste(\"Before drop:\", nrow(mydata)))"
   ]
  },
  {
   "cell_type": "code",
   "execution_count": 15,
   "id": "0e87f8f0-d193-4a85-8cb6-ad7cb7d164b5",
   "metadata": {},
   "outputs": [],
   "source": [
    "mydata <- mydata[!(mydata$gre %in% gre_outliers) & !(mydata$gpa %in% gpa_outliers),]"
   ]
  },
  {
   "cell_type": "code",
   "execution_count": 16,
   "id": "f7313a69-4497-44fa-9e25-b55067df1023",
   "metadata": {},
   "outputs": [
    {
     "name": "stdout",
     "output_type": "stream",
     "text": [
      "[1] \"After drop: 395\"\n"
     ]
    }
   ],
   "source": [
    "print(paste(\"After drop:\", nrow(mydata)))"
   ]
  },
  {
   "cell_type": "code",
   "execution_count": 20,
   "id": "7d3d3984-5dc6-4555-8b15-665d0db4db5f",
   "metadata": {},
   "outputs": [
    {
     "name": "stdout",
     "output_type": "stream",
     "text": [
      "            gre         gpa        rank\n",
      "gre   1.0000000  0.35937135 -0.10785090\n",
      "gpa   0.3593714  1.00000000 -0.03994452\n",
      "rank -0.1078509 -0.03994452  1.00000000\n"
     ]
    },
    {
     "data": {
      "image/png": "[encoded data removed]",
      "text/plain": [
       "Plot with title \"\""
      ]
     },
     "metadata": {
      "image/png": {
       "height": 420,
       "width": 420
      }
     },
     "output_type": "display_data"
    }
   ],
   "source": [
    "correlations <- cor(mydata[,2:4])\n",
    "print(correlations)\n",
    "corrplot(correlations, method = 'circle' )"
   ]
  },
  {
   "cell_type": "code",
   "execution_count": 21,
   "id": "c441a140-ef34-4165-99d3-bf8755d58ad7",
   "metadata": {},
   "outputs": [
    {
     "name": "stdout",
     "output_type": "stream",
     "text": [
      "[1] \"Rows of training data and test data:\"\n",
      "[1] 276\n",
      "[1] 119\n"
     ]
    }
   ],
   "source": [
    "n = nrow(mydata)\n",
    "trainIndex = sample(1:n, size = round(0.7*n), replace=FALSE)\n",
    "train = mydata[trainIndex ,]\n",
    "test = mydata[-trainIndex ,]\n",
    "print(\"Rows of training data and test data:\")\n",
    "print(nrow(train))\n",
    "print(nrow(test))"
   ]
  },
  {
   "cell_type": "code",
   "execution_count": 22,
   "id": "48af79cd-445f-4d79-b43a-d054315a6ee4",
   "metadata": {},
   "outputs": [
    {
     "name": "stdout",
     "output_type": "stream",
     "text": [
      "\n",
      "Call:\n",
      "glm(formula = admit ~ gre + gpa + rank, family = \"binomial\", \n",
      "    data = train)\n",
      "\n",
      "Coefficients:\n",
      "             Estimate Std. Error z value Pr(>|z|)   \n",
      "(Intercept) -3.723589   1.393813  -2.672  0.00755 **\n",
      "gre          0.003026   0.001344   2.253  0.02429 * \n",
      "gpa          0.652606   0.404352   1.614  0.10654   \n",
      "rank        -0.485742   0.155725  -3.119  0.00181 **\n",
      "---\n",
      "Signif. codes:  0 '***' 0.001 '**' 0.01 '*' 0.05 '.' 0.1 ' ' 1\n",
      "\n",
      "(Dispersion parameter for binomial family taken to be 1)\n",
      "\n",
      "    Null deviance: 337.54  on 275  degrees of freedom\n",
      "Residual deviance: 313.59  on 272  degrees of freedom\n",
      "AIC: 321.59\n",
      "\n",
      "Number of Fisher Scoring iterations: 4\n",
      "\n"
     ]
    }
   ],
   "source": [
    "mylogit <- glm(admit ~ gre + gpa + rank, data = train, family = 'binomial')\n",
    "print(summary(mylogit))"
   ]
  },
  {
   "cell_type": "code",
   "execution_count": 23,
   "id": "3ab151ea-83b8-491e-a5c7-4338f96a5007",
   "metadata": {},
   "outputs": [
    {
     "name": "stdout",
     "output_type": "stream",
     "text": [
      "[1] \"Testdata admit vs predict (10 rows:)\"\n",
      "    testAdmit pred_value.30.40.\n",
      "101         0                 0\n",
      "107         1                 1\n",
      "108         0                 0\n",
      "113         0                 0\n",
      "115         0                 0\n",
      "118         0                 0\n",
      "119         1                 1\n",
      "120         0                 0\n",
      "124         0                 0\n",
      "125         0                 0\n",
      "127         1                 0\n"
     ]
    }
   ],
   "source": [
    "pred = predict(mylogit,\n",
    "              newdata = test,\n",
    "              type = 'response')\n",
    "\n",
    "pred_value <- ifelse(pred > 0.5, 1, 0)\n",
    "print('Testdata admit vs predict (10 rows:)')\n",
    "result <- data.frame(testAdmit = test$admit[30:40],pred_value[30:40])\n",
    "print(result)"
   ]
  },
  {
   "cell_type": "code",
   "execution_count": 24,
   "id": "e43df8fe-d5df-4591-9031-f83c01d097a9",
   "metadata": {},
   "outputs": [
    {
     "name": "stdout",
     "output_type": "stream",
     "text": [
      "[1] \"Accuracy s1: 0.663865546218487\"\n"
     ]
    }
   ],
   "source": [
    "accuracy <- table(pred_value, test[,'admit'])\n",
    "accuracy = sum(diag(accuracy))/sum(accuracy)\n",
    "print(paste('Accuracy s1:', accuracy))\n"
   ]
  },
  {
   "cell_type": "code",
   "execution_count": 25,
   "id": "2217c315-c11f-4364-a4fa-5fa090a81b55",
   "metadata": {},
   "outputs": [
    {
     "name": "stderr",
     "output_type": "stream",
     "text": [
      "Installing package into 'C:/Users/phamp/AppData/Local/R/win-library/4.3'\n",
      "(as 'lib' is unspecified)\n",
      "\n"
     ]
    },
    {
     "name": "stdout",
     "output_type": "stream",
     "text": [
      "package 'caret' successfully unpacked and MD5 sums checked\n",
      "\n",
      "The downloaded binary packages are in\n",
      "\tC:\\Users\\phamp\\AppData\\Local\\Temp\\Rtmpc7IJzV\\downloaded_packages\n"
     ]
    }
   ],
   "source": [
    "install.packages('caret')"
   ]
  },
  {
   "cell_type": "code",
   "execution_count": 26,
   "id": "1d593ded-1e6d-413e-bd23-410f2641ba3a",
   "metadata": {},
   "outputs": [
    {
     "name": "stderr",
     "output_type": "stream",
     "text": [
      "Loading required package: lattice\n",
      "\n"
     ]
    }
   ],
   "source": [
    "library('caret')"
   ]
  },
  {
   "cell_type": "code",
   "execution_count": 27,
   "id": "11cc5775-ccd2-471c-b35e-645777d28eb8",
   "metadata": {},
   "outputs": [
    {
     "data": {
      "text/plain": [
       "Confusion Matrix and Statistics\n",
       "\n",
       "          Reference\n",
       "Prediction  0  1\n",
       "         0 72 36\n",
       "         1  4  7\n",
       "                                          \n",
       "               Accuracy : 0.6639          \n",
       "                 95% CI : (0.5715, 0.7478)\n",
       "    No Information Rate : 0.6387          \n",
       "    P-Value [Acc > NIR] : 0.3192          \n",
       "                                          \n",
       "                  Kappa : 0.1314          \n",
       "                                          \n",
       " Mcnemar's Test P-Value : 9.509e-07       \n",
       "                                          \n",
       "            Sensitivity : 0.9474          \n",
       "            Specificity : 0.1628          \n",
       "         Pos Pred Value : 0.6667          \n",
       "         Neg Pred Value : 0.6364          \n",
       "             Prevalence : 0.6387          \n",
       "         Detection Rate : 0.6050          \n",
       "   Detection Prevalence : 0.9076          \n",
       "      Balanced Accuracy : 0.5551          \n",
       "                                          \n",
       "       'Positive' Class : 0               \n",
       "                                          "
      ]
     },
     "metadata": {},
     "output_type": "display_data"
    }
   ],
   "source": [
    "confusionMatrix(as.factor(pred_value), as.factor(test$admit))"
   ]
  },
  {
   "cell_type": "code",
   "execution_count": 28,
   "id": "d4797f8a-a952-4cf9-9187-a82b838ace47",
   "metadata": {},
   "outputs": [
    {
     "ename": "ERROR",
     "evalue": "Error in parse(text = x, srcfile = src): <text>:1:4: unexpected symbol\n1: y1 y1\n       ^\n",
     "output_type": "error",
     "traceback": [
      "Error in parse(text = x, srcfile = src): <text>:1:4: unexpected symbol\n1: y1 y1\n       ^\nTraceback:\n"
     ]
    }
   ],
   "source": [
    "y1 y1 <- predict(mylogit,\n",
    "             newdata = data.frame(gre = c(580,880),\n",
    "                                  gpa = c(3.4,4),\n",
    "                                  rank = c(3,1)),\n",
    "              type = 'response')\n",
    "y1\n"
   ]
  },
  {
   "cell_type": "code",
   "execution_count": null,
   "id": "22b6b259",
   "metadata": {},
   "outputs": [],
   "source": [
    "y1 y1 <- predict(mylogit,\n",
    "             newdata = data.frame(gre = c(580,880),\n",
    "                                  gpa = c(3.4,4),\n",
    "                                  rank = c(3,1)),\n",
    "              type = 'response')\n",
    "y1\n"
   ]
  },
  {
   "cell_type": "code",
   "execution_count": null,
   "id": "27294756",
   "metadata": {},
   "outputs": [],
   "source": [
    "y1 y1 <- predict(mylogit,\n",
    "             newdata = data.frame(gre = c(580,880),\n",
    "                                  gpa = c(3.4,4),\n",
    "                                  rank = c(3,1)),\n",
    "              type = 'response')\n",
    "y1\n"
   ]
  },
  {
   "cell_type": "code",
   "execution_count": null,
   "id": "fc45f07c",
   "metadata": {},
   "outputs": [],
   "source": [
    "y1 y1 <- predict(mylogit,\n",
    "             newdata = data.frame(gre = c(580,880),\n",
    "                                  gpa = c(3.4,4),\n",
    "                                  rank = c(3,1)),\n",
    "              type = 'response')\n",
    "y1\n"
   ]
  },
  {
   "cell_type": "code",
   "execution_count": null,
   "id": "925b0f8e",
   "metadata": {},
   "outputs": [],
   "source": [
    "y1 y1 <- predict(mylogit,\n",
    "             newdata = data.frame(gre = c(580,880),\n",
    "                                  gpa = c(3.4,4),\n",
    "                                  rank = c(3,1)),\n",
    "              type = 'response')\n",
    "y1\n"
   ]
  },
  {
   "cell_type": "code",
   "execution_count": null,
   "id": "9355dc1c",
   "metadata": {
    "jupyter": {
     "source_hidden": true
    }
   },
   "outputs": [],
   "source": [
    "y1 y1 <- predict(mylogit,\n",
    "             newdata = data.frame(gre = c(580,880),\n",
    "                                  gpa = c(3.4,4),\n",
    "                                  rank = c(3,1)),\n",
    "              type = 'response')\n",
    "y1\n"
   ]
  },
  {
   "cell_type": "code",
   "execution_count": null,
   "id": "748f5b9c-f576-4199-81e0-0a9a48dc20bd",
   "metadata": {},
   "outputs": [],
   "source": [
    "y1 <- ifelse(y1 > 0.5, 1, 0)\n",
    "print('results: ')\n",
    "print(y1)"
   ]
  },
  {
   "cell_type": "code",
   "execution_count": 29,
   "id": "4720227f-5b32-46fe-8786-5e6fb8e2576d",
   "metadata": {},
   "outputs": [],
   "source": [
    "saveRDS(mylogit, 'mylogit.rds')"
   ]
  },
  {
   "cell_type": "code",
   "execution_count": 30,
   "id": "3a2fa0d2-8d01-42d4-870b-c4a2e3bcc6f8",
   "metadata": {},
   "outputs": [],
   "source": [
    "mylogit_load = readRDS('mylogit.rds')"
   ]
  },
  {
   "cell_type": "code",
   "execution_count": 32,
   "id": "4c99a326-027f-4126-bc28-637c9469c0fc",
   "metadata": {},
   "outputs": [
    {
     "data": {
      "text/html": [
       "<style>\n",
       ".dl-inline {width: auto; margin:0; padding: 0}\n",
       ".dl-inline>dt, .dl-inline>dd {float: none; width: auto; display: inline-block}\n",
       ".dl-inline>dt::after {content: \":\\0020\"; padding-right: .5ex}\n",
       ".dl-inline>dt:not(:first-of-type) {padding-left: .5ex}\n",
       "</style><dl class=dl-inline><dt>1</dt><dd>0.230280657313808</dd><dt>2</dt><dd>0.743491442400105</dd></dl>\n"
      ],
      "text/latex": [
       "\\begin{description*}\n",
       "\\item[1] 0.230280657313808\n",
       "\\item[2] 0.743491442400105\n",
       "\\end{description*}\n"
      ],
      "text/markdown": [
       "1\n",
       ":   0.2302806573138082\n",
       ":   0.743491442400105\n",
       "\n"
      ],
      "text/plain": [
       "        1         2 \n",
       "0.2302807 0.7434914 "
      ]
     },
     "metadata": {},
     "output_type": "display_data"
    }
   ],
   "source": [
    "y1 = predict(mylogit_load,\n",
    "            data.frame(gre = c(580,880),\n",
    "                       gpa = c(3.4,4),\n",
    "                       rank = c(3,1)),\n",
    "              type = 'response')\n",
    "y1"
   ]
  },
  {
   "cell_type": "code",
   "execution_count": 33,
   "id": "d6be73ee-f8d0-4ee3-a0dd-1886cdaf8fca",
   "metadata": {},
   "outputs": [
    {
     "name": "stdout",
     "output_type": "stream",
     "text": [
      "[1] \"results: \"\n",
      "1 2 \n",
      "0 1 \n"
     ]
    }
   ],
   "source": [
    "y1 <- ifelse(y1 > 0.5, 1, 0)\n",
    "print('results: ')\n",
    "print(y1)"
   ]
  },
  {
   "cell_type": "code",
   "execution_count": null,
   "id": "695bf1f0-e5d7-4892-b7ac-27a4e6b7f8d2",
   "metadata": {},
   "outputs": [],
   "source": []
  },
  {
   "cell_type": "code",
   "execution_count": null,
   "id": "b826f7c5-07a1-42c4-a40a-117feb1b6875",
   "metadata": {},
   "outputs": [],
   "source": []
  },
  {
   "cell_type": "code",
   "execution_count": null,
   "id": "325dd82d-77b1-45fe-a868-0c823d900853",
   "metadata": {},
   "outputs": [],
   "source": []
  },
  {
   "cell_type": "code",
   "execution_count": null,
   "id": "4f640170-c3f1-48e2-824a-baa4af618cb4",
   "metadata": {},
   "outputs": [],
   "source": []
  },
  {
   "cell_type": "code",
   "execution_count": null,
   "id": "6cfb8766-7f35-4851-8b05-f257eab25d6c",
   "metadata": {},
   "outputs": [],
   "source": []
  }
 ],
 "metadata": {
  "kernelspec": {
   "display_name": "R",
   "language": "R",
   "name": "ir"
  },
  "language_info": {
   "codemirror_mode": "r",
   "file_extension": ".r",
   "mimetype": "text/x-r-source",
   "name": "R",
   "pygments_lexer": "r",
   "version": "4.3.1"
  }
 },
 "nbformat": 4,
 "nbformat_minor": 5
}
