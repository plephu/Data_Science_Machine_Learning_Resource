{
 "cells": [
  {
   "cell_type": "code",
   "execution_count": 7,
   "id": "b8cbcf0c-de36-4987-9591-87eb8021340e",
   "metadata": {},
   "outputs": [
    {
     "name": "stderr",
     "output_type": "stream",
     "text": [
      "Time:  1\n",
      "\n",
      "Time:  2\n",
      "\n",
      "Time:  3\n",
      "\n",
      "Time:  4\n",
      "\n",
      "Time:  5\n",
      "\n"
     ]
    }
   ],
   "source": [
    "start <- 1\n",
    "repeat {\n",
    "    print(pastr('Time: ', start))\n",
    "    start <- start +1\n",
    "    if (start > 5) {\n",
    "        break\n",
    "        }\n",
    "    }"
   ]
  },
  {
   "cell_type": "code",
   "execution_count": 10,
   "id": "cfcb2853-2806-4f5c-b8f1-a507ced7cbc3",
   "metadata": {},
   "outputs": [
    {
     "name": "stderr",
     "output_type": "stream",
     "text": [
      "Hello\n",
      "\n"
     ]
    },
    {
     "name": "stdin",
     "output_type": "stream",
     "text": [
      "Continue or not? 1: Continue, <> 1: stop  1\n"
     ]
    },
    {
     "name": "stderr",
     "output_type": "stream",
     "text": [
      "Hello\n",
      "\n"
     ]
    },
    {
     "name": "stdin",
     "output_type": "stream",
     "text": [
      "Continue or not? 1: Continue, <> 1: stop  1\n"
     ]
    },
    {
     "name": "stderr",
     "output_type": "stream",
     "text": [
      "Hello\n",
      "\n"
     ]
    },
    {
     "name": "stdin",
     "output_type": "stream",
     "text": [
      "Continue or not? 1: Continue, <> 1: stop  1\n"
     ]
    },
    {
     "name": "stderr",
     "output_type": "stream",
     "text": [
      "Hello\n",
      "\n"
     ]
    },
    {
     "name": "stdin",
     "output_type": "stream",
     "text": [
      "Continue or not? 1: Continue, <> 1: stop  1\n"
     ]
    },
    {
     "name": "stderr",
     "output_type": "stream",
     "text": [
      "Hello\n",
      "\n"
     ]
    },
    {
     "name": "stdin",
     "output_type": "stream",
     "text": [
      "Continue or not? 1: Continue, <> 1: stop  1\n"
     ]
    },
    {
     "name": "stderr",
     "output_type": "stream",
     "text": [
      "Hello\n",
      "\n"
     ]
    },
    {
     "name": "stdin",
     "output_type": "stream",
     "text": [
      "Continue or not? 1: Continue, <> 1: stop  3\n"
     ]
    }
   ],
   "source": [
    "i = 1\n",
    "while (i==1){\n",
    "    message(\"Hello\")\n",
    "    i<-readline(prompt='Continue or not? 1: Continue, <> 1: stop ')\n",
    "    i < as.numeric(i)\n",
    "}"
   ]
  },
  {
   "cell_type": "code",
   "execution_count": null,
   "id": "417bba15-4000-4a5a-a871-e9d5e06e855f",
   "metadata": {},
   "outputs": [],
   "source": []
  },
  {
   "cell_type": "code",
   "execution_count": null,
   "id": "dce8fb4b-72a5-4227-bd17-d7eb1beb8d10",
   "metadata": {},
   "outputs": [],
   "source": []
  }
 ],
 "metadata": {
  "kernelspec": {
   "display_name": "R",
   "language": "R",
   "name": "ir"
  },
  "language_info": {
   "codemirror_mode": "r",
   "file_extension": ".r",
   "mimetype": "text/x-r-source",
   "name": "R",
   "pygments_lexer": "r",
   "version": "4.3.1"
  }
 },
 "nbformat": 4,
 "nbformat_minor": 5
}
