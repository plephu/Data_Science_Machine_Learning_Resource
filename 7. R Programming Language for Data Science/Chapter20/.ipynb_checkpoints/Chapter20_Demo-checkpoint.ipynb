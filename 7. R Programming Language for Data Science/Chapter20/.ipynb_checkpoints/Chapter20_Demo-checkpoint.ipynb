{
 "cells": [
  {
   "cell_type": "code",
   "execution_count": 8,
   "id": "b8ef707a-8d11-416c-9016-d58fd450a733",
   "metadata": {},
   "outputs": [
    {
     "name": "stderr",
     "output_type": "stream",
     "text": [
      "Loading required package: ggplot2\n",
      "\n",
      "Welcome! Want to learn more? See two factoextra-related books at https://goo.gl/ve3WBa\n",
      "\n"
     ]
    }
   ],
   "source": [
    "library(datasets)\n",
    "library(factoextra)"
   ]
  },
  {
   "cell_type": "code",
   "execution_count": 2,
   "id": "410c3d29-571d-4356-9dc1-6fa2dd7e217d",
   "metadata": {},
   "outputs": [
    {
     "data": {
      "text/html": [
       "<table class=\"dataframe\">\n",
       "<caption>A data.frame: 6 × 5</caption>\n",
       "<thead>\n",
       "\t<tr><th></th><th scope=col>Sepal.Length</th><th scope=col>Sepal.Width</th><th scope=col>Petal.Length</th><th scope=col>Petal.Width</th><th scope=col>Species</th></tr>\n",
       "\t<tr><th></th><th scope=col>&lt;dbl&gt;</th><th scope=col>&lt;dbl&gt;</th><th scope=col>&lt;dbl&gt;</th><th scope=col>&lt;dbl&gt;</th><th scope=col>&lt;fct&gt;</th></tr>\n",
       "</thead>\n",
       "<tbody>\n",
       "\t<tr><th scope=row>1</th><td>5.1</td><td>3.5</td><td>1.4</td><td>0.2</td><td>setosa</td></tr>\n",
       "\t<tr><th scope=row>2</th><td>4.9</td><td>3.0</td><td>1.4</td><td>0.2</td><td>setosa</td></tr>\n",
       "\t<tr><th scope=row>3</th><td>4.7</td><td>3.2</td><td>1.3</td><td>0.2</td><td>setosa</td></tr>\n",
       "\t<tr><th scope=row>4</th><td>4.6</td><td>3.1</td><td>1.5</td><td>0.2</td><td>setosa</td></tr>\n",
       "\t<tr><th scope=row>5</th><td>5.0</td><td>3.6</td><td>1.4</td><td>0.2</td><td>setosa</td></tr>\n",
       "\t<tr><th scope=row>6</th><td>5.4</td><td>3.9</td><td>1.7</td><td>0.4</td><td>setosa</td></tr>\n",
       "</tbody>\n",
       "</table>\n"
      ],
      "text/latex": [
       "A data.frame: 6 × 5\n",
       "\\begin{tabular}{r|lllll}\n",
       "  & Sepal.Length & Sepal.Width & Petal.Length & Petal.Width & Species\\\\\n",
       "  & <dbl> & <dbl> & <dbl> & <dbl> & <fct>\\\\\n",
       "\\hline\n",
       "\t1 & 5.1 & 3.5 & 1.4 & 0.2 & setosa\\\\\n",
       "\t2 & 4.9 & 3.0 & 1.4 & 0.2 & setosa\\\\\n",
       "\t3 & 4.7 & 3.2 & 1.3 & 0.2 & setosa\\\\\n",
       "\t4 & 4.6 & 3.1 & 1.5 & 0.2 & setosa\\\\\n",
       "\t5 & 5.0 & 3.6 & 1.4 & 0.2 & setosa\\\\\n",
       "\t6 & 5.4 & 3.9 & 1.7 & 0.4 & setosa\\\\\n",
       "\\end{tabular}\n"
      ],
      "text/markdown": [
       "\n",
       "A data.frame: 6 × 5\n",
       "\n",
       "| <!--/--> | Sepal.Length &lt;dbl&gt; | Sepal.Width &lt;dbl&gt; | Petal.Length &lt;dbl&gt; | Petal.Width &lt;dbl&gt; | Species &lt;fct&gt; |\n",
       "|---|---|---|---|---|---|\n",
       "| 1 | 5.1 | 3.5 | 1.4 | 0.2 | setosa |\n",
       "| 2 | 4.9 | 3.0 | 1.4 | 0.2 | setosa |\n",
       "| 3 | 4.7 | 3.2 | 1.3 | 0.2 | setosa |\n",
       "| 4 | 4.6 | 3.1 | 1.5 | 0.2 | setosa |\n",
       "| 5 | 5.0 | 3.6 | 1.4 | 0.2 | setosa |\n",
       "| 6 | 5.4 | 3.9 | 1.7 | 0.4 | setosa |\n",
       "\n"
      ],
      "text/plain": [
       "  Sepal.Length Sepal.Width Petal.Length Petal.Width Species\n",
       "1 5.1          3.5         1.4          0.2         setosa \n",
       "2 4.9          3.0         1.4          0.2         setosa \n",
       "3 4.7          3.2         1.3          0.2         setosa \n",
       "4 4.6          3.1         1.5          0.2         setosa \n",
       "5 5.0          3.6         1.4          0.2         setosa \n",
       "6 5.4          3.9         1.7          0.4         setosa "
      ]
     },
     "metadata": {},
     "output_type": "display_data"
    }
   ],
   "source": [
    "head(iris)"
   ]
  },
  {
   "cell_type": "code",
   "execution_count": 9,
   "id": "5f7bb6d8-5a7f-4217-96e6-b95930b4c750",
   "metadata": {},
   "outputs": [
    {
     "data": {
      "text/html": [
       "0.834794490560746"
      ],
      "text/latex": [
       "0.834794490560746"
      ],
      "text/markdown": [
       "0.834794490560746"
      ],
      "text/plain": [
       "[1] 0.8347945"
      ]
     },
     "metadata": {},
     "output_type": "display_data"
    }
   ],
   "source": [
    "# Compute Hopkins statistic for iris dataset\n",
    "res <- get_clust_tendency(iris[, 3:4], n = nrow(iris[, 3:4])-1, graph = TRUE)\n",
    "res$hopkins_stat"
   ]
  },
  {
   "cell_type": "code",
   "execution_count": 10,
   "id": "202ba576-c28a-42c4-b170-201fe2061298",
   "metadata": {},
   "outputs": [
    {
     "data": {
      "image/png": "[encoded data removed]",
      "text/plain": [
       "plot without title"
      ]
     },
     "metadata": {
      "image/png": {
       "height": 420,
       "width": 420
      }
     },
     "output_type": "display_data"
    }
   ],
   "source": [
    "res$plot"
   ]
  },
  {
   "cell_type": "code",
   "execution_count": 5,
   "id": "f04a10cf-4050-450d-aeda-b04b9710f97d",
   "metadata": {},
   "outputs": [],
   "source": [
    "wss =(nrow(iris)-1) * sum(apply(iris[,3:4],2,var))"
   ]
  },
  {
   "cell_type": "code",
   "execution_count": 6,
   "id": "8f999375-3e8f-439c-a629-af522b28b9d4",
   "metadata": {},
   "outputs": [
    {
     "data": {
      "text/html": [
       "550.895333333333"
      ],
      "text/latex": [
       "550.895333333333"
      ],
      "text/markdown": [
       "550.895333333333"
      ],
      "text/plain": [
       "[1] 550.8953"
      ]
     },
     "metadata": {},
     "output_type": "display_data"
    }
   ],
   "source": [
    "wss"
   ]
  },
  {
   "cell_type": "code",
   "execution_count": 14,
   "id": "3464f5fc-5f2e-4663-8511-3964d6096daa",
   "metadata": {},
   "outputs": [],
   "source": [
    "for (i in 1:6) wss[i] = sum(kmeans(iris[,3:4], centers = i, nstart = 20)$withinss)"
   ]
  },
  {
   "cell_type": "code",
   "execution_count": 15,
   "id": "2d1860d0-77e0-49e3-91c8-46acbb735009",
   "metadata": {},
   "outputs": [
    {
     "name": "stdout",
     "output_type": "stream",
     "text": [
      "[1] 550.89533  86.39022  31.37136  19.46599  13.91691  11.02515\n"
     ]
    }
   ],
   "source": [
    "print(wss)"
   ]
  },
  {
   "cell_type": "code",
   "execution_count": 16,
   "id": "2a9ecd84-b673-41db-9b3e-9bb86648df40",
   "metadata": {},
   "outputs": [
    {
     "data": {
      "image/png": "[encoded data removed]",
      "text/plain": [
       "plot without title"
      ]
     },
     "metadata": {
      "image/png": {
       "height": 420,
       "width": 420
      }
     },
     "output_type": "display_data"
    }
   ],
   "source": [
    "plot(1:6, wss, type='b', xlab = 'Number ò cluster', ylab = 'WSS')"
   ]
  },
  {
   "cell_type": "code",
   "execution_count": 17,
   "id": "0d09d51f-af45-407a-ae99-eec65b4e36fd",
   "metadata": {},
   "outputs": [],
   "source": [
    "set.seed(20)"
   ]
  },
  {
   "cell_type": "code",
   "execution_count": 18,
   "id": "5e1e0420-550a-4f0c-8dab-00968b164453",
   "metadata": {},
   "outputs": [],
   "source": [
    "irisCluster = kmeans(iris[,3:4], centers = 3, nstart = 20)"
   ]
  },
  {
   "cell_type": "code",
   "execution_count": 19,
   "id": "b4bc697f-078e-4c63-8fed-932dc522a98b",
   "metadata": {},
   "outputs": [
    {
     "data": {
      "text/plain": [
       "K-means clustering with 3 clusters of sizes 52, 48, 50\n",
       "\n",
       "Cluster means:\n",
       "  Petal.Length Petal.Width\n",
       "1     4.269231    1.342308\n",
       "2     5.595833    2.037500\n",
       "3     1.462000    0.246000\n",
       "\n",
       "Clustering vector:\n",
       "  [1] 3 3 3 3 3 3 3 3 3 3 3 3 3 3 3 3 3 3 3 3 3 3 3 3 3 3 3 3 3 3 3 3 3 3 3 3 3\n",
       " [38] 3 3 3 3 3 3 3 3 3 3 3 3 3 1 1 1 1 1 1 1 1 1 1 1 1 1 1 1 1 1 1 1 1 1 1 1 1\n",
       " [75] 1 1 1 2 1 1 1 1 1 2 1 1 1 1 1 1 1 1 1 1 1 1 1 1 1 1 2 2 2 2 2 2 1 2 2 2 2\n",
       "[112] 2 2 2 2 2 2 2 2 1 2 2 2 2 2 2 1 2 2 2 2 2 2 2 2 2 2 2 1 2 2 2 2 2 2 2 2 2\n",
       "[149] 2 2\n",
       "\n",
       "Within cluster sum of squares by cluster:\n",
       "[1] 13.05769 16.29167  2.02200\n",
       " (between_SS / total_SS =  94.3 %)\n",
       "\n",
       "Available components:\n",
       "\n",
       "[1] \"cluster\"      \"centers\"      \"totss\"        \"withinss\"     \"tot.withinss\"\n",
       "[6] \"betweenss\"    \"size\"         \"iter\"         \"ifault\"      "
      ]
     },
     "metadata": {},
     "output_type": "display_data"
    }
   ],
   "source": [
    "irisCluster"
   ]
  },
  {
   "cell_type": "code",
   "execution_count": 23,
   "id": "e75b8d73-66dc-4114-8fc7-0c2246638a15",
   "metadata": {},
   "outputs": [
    {
     "name": "stdout",
     "output_type": "stream",
     "text": [
      "  Petal.Length Petal.Width\n",
      "1     4.269231    1.342308\n",
      "2     5.595833    2.037500\n",
      "3     1.462000    0.246000\n"
     ]
    }
   ],
   "source": [
    "print(irisCluster$center)"
   ]
  },
  {
   "cell_type": "code",
   "execution_count": 24,
   "id": "906219f5-2299-414a-9e9e-f39942cd4c4c",
   "metadata": {},
   "outputs": [],
   "source": [
    "library(factoextra)"
   ]
  },
  {
   "cell_type": "code",
   "execution_count": 25,
   "id": "3ef9cba8-abce-4f54-947e-3e73b98828a6",
   "metadata": {},
   "outputs": [
    {
     "data": {
      "image/png": "[encoded data removed]",
      "text/plain": [
       "plot without title"
      ]
     },
     "metadata": {
      "image/png": {
       "height": 420,
       "width": 420
      }
     },
     "output_type": "display_data"
    }
   ],
   "source": [
    "fviz_cluster(irisCluster, geom = 'point', data =  iris[,3:4]) + ggtitle('k=3')"
   ]
  },
  {
   "cell_type": "code",
   "execution_count": 26,
   "id": "9a7e013f-6acd-4c14-be7b-239c5b2c9b3b",
   "metadata": {},
   "outputs": [
    {
     "data": {
      "image/png": "[encoded data removed]",
      "text/plain": [
       "plot without title"
      ]
     },
     "metadata": {
      "image/png": {
       "height": 420,
       "width": 420
      }
     },
     "output_type": "display_data"
    }
   ],
   "source": [
    "fviz_cluster(irisCluster, geom = 'point', data =  iris[,3:4], stand = F) + ggtitle('k=3')"
   ]
  },
  {
   "cell_type": "code",
   "execution_count": 40,
   "id": "801a6c94-a4df-4621-83df-46f23b93fd6e",
   "metadata": {},
   "outputs": [],
   "source": [
    "newdata = data.frame(Petal.Length = c(1.45, 3.45, 5.25),\n",
    "                     Petal.Width = c(0.25, 1.45, 2.35))"
   ]
  },
  {
   "cell_type": "code",
   "execution_count": 41,
   "id": "4ce843ba-e8f2-4a65-a227-c4178c68b197",
   "metadata": {},
   "outputs": [],
   "source": [
    "# Solution 1\n",
    "predict.kmeans <- function(object, newdata){\n",
    "    centers <- object$centers\n",
    "    n_centers <- nrow(centers)\n",
    "    dist_mat <- as.matrix(dist(rbind(centers, newdata)))\n",
    "    dist_mat <- dist_mat[-seq(n_centers), seq(n_centers)]\n",
    "    max.col(-dist_mat)\n",
    "}"
   ]
  },
  {
   "cell_type": "code",
   "execution_count": 42,
   "id": "9dfe99e3-e23b-4349-9774-394c9fcaf75b",
   "metadata": {},
   "outputs": [
    {
     "data": {
      "text/html": [
       "<style>\n",
       ".list-inline {list-style: none; margin:0; padding: 0}\n",
       ".list-inline>li {display: inline-block}\n",
       ".list-inline>li:not(:last-child)::after {content: \"\\00b7\"; padding: 0 .5ex}\n",
       "</style>\n",
       "<ol class=list-inline><li>3</li><li>1</li><li>2</li></ol>\n"
      ],
      "text/latex": [
       "\\begin{enumerate*}\n",
       "\\item 3\n",
       "\\item 1\n",
       "\\item 2\n",
       "\\end{enumerate*}\n"
      ],
      "text/markdown": [
       "1. 3\n",
       "2. 1\n",
       "3. 2\n",
       "\n",
       "\n"
      ],
      "text/plain": [
       "[1] 3 1 2"
      ]
     },
     "metadata": {},
     "output_type": "display_data"
    }
   ],
   "source": [
    "result <- predict.kmeans(irisCluster, newdata)\n",
    "result"
   ]
  },
  {
   "cell_type": "code",
   "execution_count": 44,
   "id": "a16b82b1-9b02-4ffa-a101-f18201d9b569",
   "metadata": {},
   "outputs": [
    {
     "name": "stderr",
     "output_type": "stream",
     "text": [
      "Installing package into 'C:/Users/AW/AppData/Local/R/win-library/4.3'\n",
      "(as 'lib' is unspecified)\n",
      "\n"
     ]
    },
    {
     "name": "stdout",
     "output_type": "stream",
     "text": [
      "package 'clue' successfully unpacked and MD5 sums checked\n",
      "\n",
      "The downloaded binary packages are in\n",
      "\tC:\\Users\\AW\\AppData\\Local\\Temp\\RtmpGAF5tZ\\downloaded_packages\n"
     ]
    }
   ],
   "source": [
    "install.packages('clue')"
   ]
  },
  {
   "cell_type": "code",
   "execution_count": 45,
   "id": "a66756b5-1f4d-481c-ad80-e58724c19fa6",
   "metadata": {},
   "outputs": [],
   "source": [
    "#Solution 2\n",
    "library('clue')"
   ]
  },
  {
   "cell_type": "code",
   "execution_count": 46,
   "id": "b77315a4-e869-453f-9685-404dcff1b30d",
   "metadata": {},
   "outputs": [
    {
     "data": {
      "text/plain": [
       "Class ids:\n",
       "[1] 3 1 2"
      ]
     },
     "metadata": {},
     "output_type": "display_data"
    }
   ],
   "source": [
    "cl_predict(irisCluster, newdata =  newdata)"
   ]
  },
  {
   "cell_type": "code",
   "execution_count": 48,
   "id": "5990274d-a787-4ee2-a725-d6f26a71c0e9",
   "metadata": {},
   "outputs": [
    {
     "data": {
      "image/png": "[encoded data removed]",
      "text/plain": [
       "Plot with title \"Iris Petal.Lenght vs Petal.Width\""
      ]
     },
     "metadata": {
      "image/png": {
       "height": 420,
       "width": 420
      }
     },
     "output_type": "display_data"
    }
   ],
   "source": [
    "irisCluster$cluster <- as.factor(irisCluster$cluster)\n",
    "plot(x = iris$Petal.Width,y = iris$Petal.Length,\n",
    "     xlab = \"Width\",\n",
    "     ylab = \"Length\",\n",
    "     main = \"Iris Petal.Lenght vs Petal.Width\",\n",
    "     col = irisCluster$cluster,\n",
    "     pch = 19\n",
    "    )\n",
    "lines(newdata$Petal.Width, newdata$Petal.Length, col='blue', type='p')\n",
    "legend(\"topleft\", c(\"data_new\"), cex=0.8, fill = c(\"blue\"))"
   ]
  },
  {
   "cell_type": "code",
   "execution_count": null,
   "id": "f1067bec-2b4c-4ca6-8180-6ba28b3bb760",
   "metadata": {},
   "outputs": [],
   "source": []
  },
  {
   "cell_type": "code",
   "execution_count": null,
   "id": "1b698317-cb60-4602-95e9-2563da2358ae",
   "metadata": {},
   "outputs": [],
   "source": []
  }
 ],
 "metadata": {
  "kernelspec": {
   "display_name": "R",
   "language": "R",
   "name": "ir"
  },
  "language_info": {
   "codemirror_mode": "r",
   "file_extension": ".r",
   "mimetype": "text/x-r-source",
   "name": "R",
   "pygments_lexer": "r",
   "version": "4.3.1"
  }
 },
 "nbformat": 4,
 "nbformat_minor": 5
}
