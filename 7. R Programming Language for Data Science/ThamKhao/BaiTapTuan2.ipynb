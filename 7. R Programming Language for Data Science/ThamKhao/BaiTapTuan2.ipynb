{
 "cells": [
  {
   "cell_type": "markdown",
   "metadata": {
    "id": "3KkCxqxNZhdE"
   },
   "source": [
    "# Bài tập tuần 2"
   ]
  },
  {
   "cell_type": "markdown",
   "metadata": {},
   "source": [
    "## Bài tập số 1"
   ]
  },
  {
   "cell_type": "code",
   "execution_count": 5,
   "metadata": {
    "id": "RZRFIIa-OWOf"
   },
   "outputs": [],
   "source": [
    "# Definition of survey_vector\n",
    "survey_vector <- c(\"R\", \"R\", \"L\", \"L\", \"R\", \"R\", \"C\", \"C\")"
   ]
  },
  {
   "cell_type": "code",
   "execution_count": 6,
   "metadata": {},
   "outputs": [],
   "source": [
    "# Create survey_vector as a factor: survey_factor\n",
    "survey_factor = as.factor(survey_vector)"
   ]
  },
  {
   "cell_type": "code",
   "execution_count": 7,
   "metadata": {},
   "outputs": [
    {
     "name": "stdout",
     "output_type": "stream",
     "text": [
      "[1] R R L L R R C C\n",
      "Levels: C L R\n"
     ]
    }
   ],
   "source": [
    "# Print survey_factor\n",
    "print(survey_factor)"
   ]
  },
  {
   "cell_type": "code",
   "execution_count": 8,
   "metadata": {},
   "outputs": [
    {
     "name": "stdout",
     "output_type": "stream",
     "text": [
      "[1] \"C\" \"L\" \"R\"\n"
     ]
    }
   ],
   "source": [
    "# Print levels of survey_factor\n",
    "print(levels(survey_factor))"
   ]
  },
  {
   "cell_type": "code",
   "execution_count": 9,
   "metadata": {},
   "outputs": [
    {
     "name": "stdout",
     "output_type": "stream",
     "text": [
      "[1] 3\n"
     ]
    }
   ],
   "source": [
    "# Print nlevels of survey_factor\n",
    "print(nlevels(survey_factor))"
   ]
  },
  {
   "cell_type": "code",
   "execution_count": 10,
   "metadata": {},
   "outputs": [
    {
     "data": {
      "text/plain": [
       "survey_factor\n",
       "C L R \n",
       "2 2 4 "
      ]
     },
     "metadata": {},
     "output_type": "display_data"
    }
   ],
   "source": [
    "# How many elements of each factor?\n",
    "table(survey_factor)"
   ]
  },
  {
   "cell_type": "markdown",
   "metadata": {
    "id": "7tdvIByoRzaE"
   },
   "source": [
    "## Bài tập số 2"
   ]
  },
  {
   "cell_type": "code",
   "execution_count": 28,
   "metadata": {},
   "outputs": [
    {
     "name": "stdout",
     "output_type": "stream",
     "text": [
      " [1]  1  2  3  4  5  6  7  8  9 10\n"
     ]
    }
   ],
   "source": [
    "# Create my_vector: 1 up to 10\n",
    "my_vector = c(1:10)\n",
    "print(my_vector)"
   ]
  },
  {
   "cell_type": "code",
   "execution_count": 29,
   "metadata": {},
   "outputs": [
    {
     "name": "stdout",
     "output_type": "stream",
     "text": [
      "     [,1] [,2] [,3]\n",
      "[1,]    1    2    3\n",
      "[2,]    4    5    6\n",
      "[3,]    7    8    9\n"
     ]
    }
   ],
   "source": [
    "# Create my_matrix (3x3): 1 up to 9\n",
    "my_matrix = matrix(c(1:9), nrow=3, ncol=3, byrow=TRUE)\n",
    "print(my_matrix)"
   ]
  },
  {
   "cell_type": "code",
   "execution_count": 30,
   "metadata": {},
   "outputs": [
    {
     "name": "stdout",
     "output_type": "stream",
     "text": [
      "[1] M S L L M\n",
      "Levels: L M S\n"
     ]
    }
   ],
   "source": [
    "# Create my_factor from sizes\n",
    "sizes <-c(\"M\",\"S\",\"L\",\"L\",\"M\")\n",
    "my_factor = as.factor(sizes)\n",
    "print(my_factor)"
   ]
  },
  {
   "cell_type": "code",
   "execution_count": 31,
   "metadata": {},
   "outputs": [
    {
     "name": "stdout",
     "output_type": "stream",
     "text": [
      "[[1]]\n",
      " [1]  1  2  3  4  5  6  7  8  9 10\n",
      "\n",
      "[[2]]\n",
      "     [,1] [,2] [,3]\n",
      "[1,]    1    2    3\n",
      "[2,]    4    5    6\n",
      "[3,]    7    8    9\n",
      "\n",
      "[[3]]\n",
      "[1] M S L L M\n",
      "Levels: L M S\n",
      "\n"
     ]
    }
   ],
   "source": [
    "# Construct my_list with the three data structures above\n",
    "my_list = list(my_vector, my_matrix, my_factor)\n",
    "print(my_list)"
   ]
  },
  {
   "cell_type": "code",
   "execution_count": 32,
   "metadata": {},
   "outputs": [
    {
     "name": "stdout",
     "output_type": "stream",
     "text": [
      "[[1]]\n",
      " [1]  1  2  3  4  5  6  7  8  9 10\n",
      "\n",
      "[[2]]\n",
      "     [,1] [,2] [,3]\n",
      "[1,]    1    2    3\n",
      "[2,]    4    5    6\n",
      "[3,]    7    8    9\n",
      "\n",
      "[[3]]\n",
      "[1] M S L L M\n",
      "Levels: L M S\n",
      "\n",
      "[[4]]\n",
      "[[4]][[1]]\n",
      " [1]  1  2  3  4  5  6  7  8  9 10\n",
      "\n",
      "[[4]][[2]]\n",
      "     [,1] [,2] [,3]\n",
      "[1,]    1    2    3\n",
      "[2,]    4    5    6\n",
      "[3,]    7    8    9\n",
      "\n",
      "[[4]][[3]]\n",
      "[1] M S L L M\n",
      "Levels: L M S\n",
      "\n",
      "\n"
     ]
    }
   ],
   "source": [
    "# Construct my_super_list with the four data structures above\n",
    "my_super_list = list(my_vector, my_matrix, my_factor, my_list)\n",
    "print(my_super_list)"
   ]
  },
  {
   "cell_type": "code",
   "execution_count": 33,
   "metadata": {},
   "outputs": [
    {
     "name": "stdout",
     "output_type": "stream",
     "text": [
      "List of 4\n",
      " $ : int [1:10] 1 2 3 4 5 6 7 8 9 10\n",
      " $ : int [1:3, 1:3] 1 4 7 2 5 8 3 6 9\n",
      " $ : Factor w/ 3 levels \"L\",\"M\",\"S\": 2 3 1 1 2\n",
      " $ :List of 3\n",
      "  ..$ : int [1:10] 1 2 3 4 5 6 7 8 9 10\n",
      "  ..$ : int [1:3, 1:3] 1 4 7 2 5 8 3 6 9\n",
      "  ..$ : Factor w/ 3 levels \"L\",\"M\",\"S\": 2 3 1 1 2\n"
     ]
    }
   ],
   "source": [
    "# Display structure of my_super_list (Use str())\n",
    "str(my_super_list)"
   ]
  },
  {
   "cell_type": "code",
   "execution_count": 35,
   "metadata": {},
   "outputs": [
    {
     "name": "stdout",
     "output_type": "stream",
     "text": [
      "     [,1] [,2] [,3]\n",
      "[1,]    1    2    3\n",
      "[2,]    4    5    6\n",
      "[3,]    7    8    9\n",
      "[1] 45\n",
      "[1] 20\n"
     ]
    }
   ],
   "source": [
    "# Print my_matrix, sum of my_matrix, sum of even elements in my_matrix\n",
    "print(my_matrix)\n",
    "print(sum(my_matrix))\n",
    "print(sum(my_matrix[my_matrix %% 2 == 0]))"
   ]
  },
  {
   "cell_type": "markdown",
   "metadata": {
    "id": "VPbVlUR5qmux"
   },
   "source": [
    "## Bài tập số 3:"
   ]
  },
  {
   "cell_type": "code",
   "execution_count": 63,
   "metadata": {},
   "outputs": [],
   "source": [
    "\n",
    "\n",
    "# Function to check if a number is prime\n",
    "is_prime <- function(n) {\n",
    "  if (n <= 1) {\n",
    "    return(FALSE)\n",
    "  }\n",
    "  for (i in 2:sqrt(n)) {\n",
    "    if (n %% i == 0) {\n",
    "      return(FALSE)\n",
    "    }\n",
    "  }\n",
    "  return(TRUE)\n",
    "}\n",
    "\n",
    "# Function to create matrix that contains randomly generated prime number\n",
    "create_matrix <- function(nrow, ncol) {\n",
    "    my_matrix <- matrix(NA, nrow = nrow, ncol = ncol)\n",
    "    for (i in 1:nrow) {\n",
    "        for (j in 1:ncol) {\n",
    "            # Gen randomly prime number\n",
    "            while (TRUE) {\n",
    "              num <- sample(1:100, 1) \n",
    "              if (is_prime(num)) {\n",
    "                my_matrix[i, j] <- num\n",
    "                break\n",
    "              }\n",
    "            }\n",
    "        }\n",
    "    }\n",
    "    return (my_matrix)\n",
    "}\n",
    "\n",
    "# Function to sum diag of matrix\n",
    "sum_diag <- function(matrix) {\n",
    "    sum = 0\n",
    "    for (i in 1:n) {\n",
    "        sum = sum + matrix[i,i]\n",
    "    }\n",
    "    return (sum)\n",
    "}"
   ]
  },
  {
   "cell_type": "code",
   "execution_count": 58,
   "metadata": {},
   "outputs": [
    {
     "name": "stdout",
     "output_type": "stream",
     "text": [
      "     [,1] [,2] [,3] [,4]\n",
      "[1,]    3   29   79   53\n",
      "[2,]   29   61   43    5\n",
      "[3,]   19   83   79   43\n",
      "[4,]   43   71   97   23\n"
     ]
    }
   ],
   "source": [
    "# Create my_matrix (4x4): each element is a randomly generated prime number\n",
    "n = 4\n",
    "my_matrix <- create_matrix(nrow = n, ncol = n)\n",
    "print(my_matrix)"
   ]
  },
  {
   "cell_type": "code",
   "execution_count": 62,
   "metadata": {},
   "outputs": [
    {
     "name": "stdout",
     "output_type": "stream",
     "text": [
      "[1] 166\n",
      "[1] 166\n"
     ]
    }
   ],
   "source": [
    "# Sum the elements on the main diagonal of the matrix\n",
    "sum = sum_diag(my_matrix)\n",
    "print(sum)\n",
    "print(sum(diag(my_matrix)))"
   ]
  },
  {
   "cell_type": "markdown",
   "metadata": {
    "id": "Yw_gPgKQOy_X"
   },
   "source": [
    "## Bài tập số 4:"
   ]
  },
  {
   "cell_type": "code",
   "execution_count": 65,
   "metadata": {},
   "outputs": [
    {
     "name": "stdout",
     "output_type": "stream",
     "text": [
      ", , 1\n",
      "\n",
      "     [,1] [,2] [,3] [,4]\n",
      "[1,]   83   97   29   67\n",
      "[2,]   29   59    5   67\n",
      "[3,]   83   43   17   67\n",
      "[4,]   47   59   61   67\n",
      "\n",
      ", , 2\n",
      "\n",
      "     [,1] [,2] [,3] [,4]\n",
      "[1,]   59   19   29   13\n",
      "[2,]    5   29   97   23\n",
      "[3,]   53   79   41   67\n",
      "[4,]   29   13    7   13\n",
      "\n"
     ]
    }
   ],
   "source": [
    "# Create my_array (4, 4, 2): from 2 matrices created by calling function create_matrix (Bai tap so 3)\n",
    "matrix1 = create_matrix(4, 4)\n",
    "matrix2 = create_matrix(4, 4)\n",
    "my_array = array(c(matrix1,matrix2), dim=c(4,4,2))\n",
    "print(my_array)"
   ]
  },
  {
   "cell_type": "code",
   "execution_count": 68,
   "metadata": {},
   "outputs": [
    {
     "name": "stdout",
     "output_type": "stream",
     "text": [
      "[1] 13  5 17  7\n"
     ]
    }
   ],
   "source": [
    "# Use apply to calculate the min of the rows across all the matrices.\n",
    "print(apply(my_array, c(1), min))"
   ]
  },
  {
   "cell_type": "code",
   "execution_count": 69,
   "metadata": {},
   "outputs": [
    {
     "name": "stdout",
     "output_type": "stream",
     "text": [
      "[1] 83 97 97 67\n"
     ]
    }
   ],
   "source": [
    "# Use apply to calculate the max of the columns across all the matrices.\n",
    "print(apply(my_array, c(2), max))"
   ]
  },
  {
   "cell_type": "code",
   "execution_count": 70,
   "metadata": {},
   "outputs": [
    {
     "name": "stdout",
     "output_type": "stream",
     "text": [
      "[1] 880 576\n"
     ]
    }
   ],
   "source": [
    "# Use apply to calculate the sum of each matrix in my_array\n",
    "print(apply(my_array, c(3), sum))"
   ]
  },
  {
   "cell_type": "markdown",
   "metadata": {
    "id": "Ho3pU-H6POqu"
   },
   "source": [
    "## Bài tập số 5"
   ]
  },
  {
   "cell_type": "code",
   "execution_count": 72,
   "metadata": {
    "id": "SwkvuJuBPSnW"
   },
   "outputs": [],
   "source": [
    "# Create title, actors, reviews\n",
    "title = \"The Shining\"\n",
    "actors_vector <- c(\"Jack Nicholson\",\"Shelley Duvall\",\"Danny Lloyd\",\"Scatman Crothers\",\"Barry Nelson\")\n",
    "reviews_factor <- factor(c(\"Good\", \"OK\", \"Good\", \"Perfect\", \"Bad\", \"Perfect\", \"Good\"),\n",
    "                  ordered = TRUE, levels = c(\"Bad\", \"OK\", \"Good\", \"Perfect\"))"
   ]
  },
  {
   "cell_type": "code",
   "execution_count": 78,
   "metadata": {},
   "outputs": [
    {
     "name": "stdout",
     "output_type": "stream",
     "text": [
      "$title\n",
      "[1] \"The Shining\"\n",
      "\n",
      "$actors\n",
      "[1] \"Jack Nicholson\"   \"Shelley Duvall\"   \"Danny Lloyd\"      \"Scatman Crothers\"\n",
      "[5] \"Barry Nelson\"    \n",
      "\n",
      "$reviews\n",
      "[1] Good    OK      Good    Perfect Bad     Perfect Good   \n",
      "Levels: Bad < OK < Good < Perfect\n",
      "\n"
     ]
    }
   ],
   "source": [
    "# Create the list 'shining_list' from 3 vectors above\n",
    "shining_list = list(title = title, actors = actors_vector, reviews = reviews_factor)\n",
    "print(shining_list)"
   ]
  },
  {
   "cell_type": "code",
   "execution_count": 79,
   "metadata": {},
   "outputs": [
    {
     "data": {
      "text/html": [
       "'Barry Nelson'"
      ],
      "text/latex": [
       "'Barry Nelson'"
      ],
      "text/markdown": [
       "'Barry Nelson'"
      ],
      "text/plain": [
       "[1] \"Barry Nelson\""
      ]
     },
     "metadata": {},
     "output_type": "display_data"
    }
   ],
   "source": [
    "# Select the last actor from list: last_actor\n",
    "last_actor <- shining_list$actors[length(shining_list$actors)]\n",
    "last_actor"
   ]
  },
  {
   "cell_type": "code",
   "execution_count": 83,
   "metadata": {},
   "outputs": [
    {
     "name": "stdout",
     "output_type": "stream",
     "text": [
      "[1] OK\n",
      "Levels: Bad < OK < Good < Perfect\n"
     ]
    }
   ],
   "source": [
    "# Select the second review from list: second_review\n",
    "second_review <- shining_list$reviews[2]\n",
    "print(second_review)"
   ]
  },
  {
   "cell_type": "code",
   "execution_count": 84,
   "metadata": {},
   "outputs": [],
   "source": [
    "# Add the element 'release_year' = 1980 to shining_list\n",
    "shining_list$release_year <- 1980"
   ]
  },
  {
   "cell_type": "code",
   "execution_count": 86,
   "metadata": {},
   "outputs": [],
   "source": [
    "# Add the element 'director' = \"Stanley Kubrick\" to shining_list\n",
    "shining_list$director <- \"Stanley Kubrick\""
   ]
  },
  {
   "cell_type": "code",
   "execution_count": 87,
   "metadata": {},
   "outputs": [
    {
     "name": "stdout",
     "output_type": "stream",
     "text": [
      "$title\n",
      "[1] \"The Shining\"\n",
      "\n",
      "$actors\n",
      "[1] \"Jack Nicholson\"   \"Shelley Duvall\"   \"Danny Lloyd\"      \"Scatman Crothers\"\n",
      "[5] \"Barry Nelson\"    \n",
      "\n",
      "$reviews\n",
      "[1] Good    OK      Good    Perfect Bad     Perfect Good   \n",
      "Levels: Bad < OK < Good < Perfect\n",
      "\n",
      "$release_year\n",
      "[1] 1980\n",
      "\n",
      "$director\n",
      "[1] \"Stanley Kubrick\"\n",
      "\n"
     ]
    }
   ],
   "source": [
    "# Print list shining_list\n",
    "print(shining_list)"
   ]
  },
  {
   "cell_type": "code",
   "execution_count": 88,
   "metadata": {},
   "outputs": [
    {
     "name": "stdout",
     "output_type": "stream",
     "text": [
      "List of 5\n",
      " $ title       : chr \"The Shining\"\n",
      " $ actors      : chr [1:5] \"Jack Nicholson\" \"Shelley Duvall\" \"Danny Lloyd\" \"Scatman Crothers\" ...\n",
      " $ reviews     : Ord.factor w/ 4 levels \"Bad\"<\"OK\"<\"Good\"<..: 3 2 3 4 1 4 3\n",
      " $ release_year: num 1980\n",
      " $ director    : chr \"Stanley Kubrick\"\n"
     ]
    }
   ],
   "source": [
    "# Print the structure of shining_list\n",
    "str(shining_list)"
   ]
  },
  {
   "cell_type": "markdown",
   "metadata": {
    "id": "qdF0mVBCPhoe"
   },
   "source": [
    "## Bài tập số 6: Hãy thực hiện những yêu cầu sau với R-core dataframe và/ hoặc Tidyverse\n",
    "1. Cho dữ liệu mtcars cho sẵn trong R datasets. Đọc dữ liệu. Hiển thị thông tin một số dòng đầu của dữ liệu. In thông tin thống kê chung.\n",
    "2. Tạo sub_data chỉ có các thông tin mpg, hp, wt, gear\n",
    "3. Tạp cột mới km_per_litre trong sub_data theo công thức: 1 mpg = 0.425 km/l\n",
    "4. Tạo sub_data_unique lấy từ mtcars nhưng loại bỏ các dòng trùng (dùng distinct()\n",
    "5. In sub_data_unique với giá trị được sắp xếp giảm dần theo mpg, tăng dần theo hp\n",
    "6. Lọc các xe mà trong tên xe có 'Mazda' trong sub_data_unique. Có bao nhiêu xe thỏa điều kiện này?\n",
    "7. Trong sub_data_unique, cho biết giá trị mpg lớn nhất? Có những dòng dữ liệu nào có mpg = mpg lớn nhất, in kết quả.\n",
    "8. Lọc các dữ liệu thỏa các điểu kiện sau: mpg >= 25 và cyl=4 và gear=4\n",
    "9. Thực hiện việc thống kê theo cyl, từ đó cho biết số lượng từng nhóm, cyl, hp lớn nhất, mpg nhỏ nhất\n",
    "10. Trong sub_data, cho biết xe nào có km_per_litre lớn nhất, nhỏ nhất?\n",
    "\n",
    "#### Note: dùng df = cbind(names = rownames(df), df) hoặc rownames_to_column(df, var = \"names\"): chuyển cột index thành cột \"names\""
   ]
  },
  {
   "cell_type": "code",
   "execution_count": 105,
   "metadata": {},
   "outputs": [
    {
     "name": "stdout",
     "output_type": "stream",
     "text": [
      "\n",
      "The downloaded binary packages are in\n",
      "\t/var/folders/rr/zczc3rcd5330r_dz7v75lwfm0000gn/T//RtmpwqMfTK/downloaded_packages\n"
     ]
    },
    {
     "name": "stderr",
     "output_type": "stream",
     "text": [
      "── \u001b[1mAttaching core tidyverse packages\u001b[22m ──────────────────────── tidyverse 2.0.0 ──\n",
      "\u001b[32m✔\u001b[39m \u001b[34mforcats  \u001b[39m 1.0.0     \u001b[32m✔\u001b[39m \u001b[34mreadr    \u001b[39m 2.1.4\n",
      "\u001b[32m✔\u001b[39m \u001b[34mggplot2  \u001b[39m 3.4.2     \u001b[32m✔\u001b[39m \u001b[34mstringr  \u001b[39m 1.5.0\n",
      "\u001b[32m✔\u001b[39m \u001b[34mlubridate\u001b[39m 1.9.2     \u001b[32m✔\u001b[39m \u001b[34mtibble   \u001b[39m 3.2.1\n",
      "\u001b[32m✔\u001b[39m \u001b[34mpurrr    \u001b[39m 1.0.1     \u001b[32m✔\u001b[39m \u001b[34mtidyr    \u001b[39m 1.3.0\n",
      "── \u001b[1mConflicts\u001b[22m ────────────────────────────────────────── tidyverse_conflicts() ──\n",
      "\u001b[31m✖\u001b[39m \u001b[34mdplyr\u001b[39m::\u001b[32mfilter()\u001b[39m masks \u001b[34mstats\u001b[39m::filter()\n",
      "\u001b[31m✖\u001b[39m \u001b[34mdplyr\u001b[39m::\u001b[32mlag()\u001b[39m    masks \u001b[34mstats\u001b[39m::lag()\n",
      "\u001b[36mℹ\u001b[39m Use the conflicted package (\u001b[3m\u001b[34m<http://conflicted.r-lib.org/>\u001b[39m\u001b[23m) to force all conflicts to become errors\n"
     ]
    }
   ],
   "source": [
    "install.packages(\"tidyverse\")\n",
    "library(tidyverse)"
   ]
  },
  {
   "cell_type": "code",
   "execution_count": 118,
   "metadata": {
    "id": "lLzIMQXPPlwV"
   },
   "outputs": [],
   "source": [
    "# Đọc dữ liệu. Hiển thị thông tin một số dòng đầu của dữ liệu. In thông tin thống kê chung.\n",
    "data(mtcars)\n",
    "df <- mtcars\n",
    "df = cbind(names = rownames(df), df)"
   ]
  },
  {
   "cell_type": "code",
   "execution_count": 119,
   "metadata": {},
   "outputs": [
    {
     "data": {
      "text/html": [
       "<table class=\"dataframe\">\n",
       "<caption>A data.frame: 6 × 12</caption>\n",
       "<thead>\n",
       "\t<tr><th></th><th scope=col>names</th><th scope=col>mpg</th><th scope=col>cyl</th><th scope=col>disp</th><th scope=col>hp</th><th scope=col>drat</th><th scope=col>wt</th><th scope=col>qsec</th><th scope=col>vs</th><th scope=col>am</th><th scope=col>gear</th><th scope=col>carb</th></tr>\n",
       "\t<tr><th></th><th scope=col>&lt;chr&gt;</th><th scope=col>&lt;dbl&gt;</th><th scope=col>&lt;dbl&gt;</th><th scope=col>&lt;dbl&gt;</th><th scope=col>&lt;dbl&gt;</th><th scope=col>&lt;dbl&gt;</th><th scope=col>&lt;dbl&gt;</th><th scope=col>&lt;dbl&gt;</th><th scope=col>&lt;dbl&gt;</th><th scope=col>&lt;dbl&gt;</th><th scope=col>&lt;dbl&gt;</th><th scope=col>&lt;dbl&gt;</th></tr>\n",
       "</thead>\n",
       "<tbody>\n",
       "\t<tr><th scope=row>Mazda RX4</th><td>Mazda RX4        </td><td>21.0</td><td>6</td><td>160</td><td>110</td><td>3.90</td><td>2.620</td><td>16.46</td><td>0</td><td>1</td><td>4</td><td>4</td></tr>\n",
       "\t<tr><th scope=row>Mazda RX4 Wag</th><td>Mazda RX4 Wag    </td><td>21.0</td><td>6</td><td>160</td><td>110</td><td>3.90</td><td>2.875</td><td>17.02</td><td>0</td><td>1</td><td>4</td><td>4</td></tr>\n",
       "\t<tr><th scope=row>Datsun 710</th><td>Datsun 710       </td><td>22.8</td><td>4</td><td>108</td><td> 93</td><td>3.85</td><td>2.320</td><td>18.61</td><td>1</td><td>1</td><td>4</td><td>1</td></tr>\n",
       "\t<tr><th scope=row>Hornet 4 Drive</th><td>Hornet 4 Drive   </td><td>21.4</td><td>6</td><td>258</td><td>110</td><td>3.08</td><td>3.215</td><td>19.44</td><td>1</td><td>0</td><td>3</td><td>1</td></tr>\n",
       "\t<tr><th scope=row>Hornet Sportabout</th><td>Hornet Sportabout</td><td>18.7</td><td>8</td><td>360</td><td>175</td><td>3.15</td><td>3.440</td><td>17.02</td><td>0</td><td>0</td><td>3</td><td>2</td></tr>\n",
       "\t<tr><th scope=row>Valiant</th><td>Valiant          </td><td>18.1</td><td>6</td><td>225</td><td>105</td><td>2.76</td><td>3.460</td><td>20.22</td><td>1</td><td>0</td><td>3</td><td>1</td></tr>\n",
       "</tbody>\n",
       "</table>\n"
      ],
      "text/latex": [
       "A data.frame: 6 × 12\n",
       "\\begin{tabular}{r|llllllllllll}\n",
       "  & names & mpg & cyl & disp & hp & drat & wt & qsec & vs & am & gear & carb\\\\\n",
       "  & <chr> & <dbl> & <dbl> & <dbl> & <dbl> & <dbl> & <dbl> & <dbl> & <dbl> & <dbl> & <dbl> & <dbl>\\\\\n",
       "\\hline\n",
       "\tMazda RX4 & Mazda RX4         & 21.0 & 6 & 160 & 110 & 3.90 & 2.620 & 16.46 & 0 & 1 & 4 & 4\\\\\n",
       "\tMazda RX4 Wag & Mazda RX4 Wag     & 21.0 & 6 & 160 & 110 & 3.90 & 2.875 & 17.02 & 0 & 1 & 4 & 4\\\\\n",
       "\tDatsun 710 & Datsun 710        & 22.8 & 4 & 108 &  93 & 3.85 & 2.320 & 18.61 & 1 & 1 & 4 & 1\\\\\n",
       "\tHornet 4 Drive & Hornet 4 Drive    & 21.4 & 6 & 258 & 110 & 3.08 & 3.215 & 19.44 & 1 & 0 & 3 & 1\\\\\n",
       "\tHornet Sportabout & Hornet Sportabout & 18.7 & 8 & 360 & 175 & 3.15 & 3.440 & 17.02 & 0 & 0 & 3 & 2\\\\\n",
       "\tValiant & Valiant           & 18.1 & 6 & 225 & 105 & 2.76 & 3.460 & 20.22 & 1 & 0 & 3 & 1\\\\\n",
       "\\end{tabular}\n"
      ],
      "text/markdown": [
       "\n",
       "A data.frame: 6 × 12\n",
       "\n",
       "| <!--/--> | names &lt;chr&gt; | mpg &lt;dbl&gt; | cyl &lt;dbl&gt; | disp &lt;dbl&gt; | hp &lt;dbl&gt; | drat &lt;dbl&gt; | wt &lt;dbl&gt; | qsec &lt;dbl&gt; | vs &lt;dbl&gt; | am &lt;dbl&gt; | gear &lt;dbl&gt; | carb &lt;dbl&gt; |\n",
       "|---|---|---|---|---|---|---|---|---|---|---|---|---|\n",
       "| Mazda RX4 | Mazda RX4         | 21.0 | 6 | 160 | 110 | 3.90 | 2.620 | 16.46 | 0 | 1 | 4 | 4 |\n",
       "| Mazda RX4 Wag | Mazda RX4 Wag     | 21.0 | 6 | 160 | 110 | 3.90 | 2.875 | 17.02 | 0 | 1 | 4 | 4 |\n",
       "| Datsun 710 | Datsun 710        | 22.8 | 4 | 108 |  93 | 3.85 | 2.320 | 18.61 | 1 | 1 | 4 | 1 |\n",
       "| Hornet 4 Drive | Hornet 4 Drive    | 21.4 | 6 | 258 | 110 | 3.08 | 3.215 | 19.44 | 1 | 0 | 3 | 1 |\n",
       "| Hornet Sportabout | Hornet Sportabout | 18.7 | 8 | 360 | 175 | 3.15 | 3.440 | 17.02 | 0 | 0 | 3 | 2 |\n",
       "| Valiant | Valiant           | 18.1 | 6 | 225 | 105 | 2.76 | 3.460 | 20.22 | 1 | 0 | 3 | 1 |\n",
       "\n"
      ],
      "text/plain": [
       "                  names             mpg  cyl disp hp  drat wt    qsec  vs am\n",
       "Mazda RX4         Mazda RX4         21.0 6   160  110 3.90 2.620 16.46 0  1 \n",
       "Mazda RX4 Wag     Mazda RX4 Wag     21.0 6   160  110 3.90 2.875 17.02 0  1 \n",
       "Datsun 710        Datsun 710        22.8 4   108   93 3.85 2.320 18.61 1  1 \n",
       "Hornet 4 Drive    Hornet 4 Drive    21.4 6   258  110 3.08 3.215 19.44 1  0 \n",
       "Hornet Sportabout Hornet Sportabout 18.7 8   360  175 3.15 3.440 17.02 0  0 \n",
       "Valiant           Valiant           18.1 6   225  105 2.76 3.460 20.22 1  0 \n",
       "                  gear carb\n",
       "Mazda RX4         4    4   \n",
       "Mazda RX4 Wag     4    4   \n",
       "Datsun 710        4    1   \n",
       "Hornet 4 Drive    3    1   \n",
       "Hornet Sportabout 3    2   \n",
       "Valiant           3    1   "
      ]
     },
     "metadata": {},
     "output_type": "display_data"
    }
   ],
   "source": [
    "head(df)"
   ]
  },
  {
   "cell_type": "code",
   "execution_count": 120,
   "metadata": {},
   "outputs": [
    {
     "data": {
      "text/plain": [
       "    names                mpg             cyl             disp      \n",
       " Length:32          Min.   :10.40   Min.   :4.000   Min.   : 71.1  \n",
       " Class :character   1st Qu.:15.43   1st Qu.:4.000   1st Qu.:120.8  \n",
       " Mode  :character   Median :19.20   Median :6.000   Median :196.3  \n",
       "                    Mean   :20.09   Mean   :6.188   Mean   :230.7  \n",
       "                    3rd Qu.:22.80   3rd Qu.:8.000   3rd Qu.:326.0  \n",
       "                    Max.   :33.90   Max.   :8.000   Max.   :472.0  \n",
       "       hp             drat             wt             qsec      \n",
       " Min.   : 52.0   Min.   :2.760   Min.   :1.513   Min.   :14.50  \n",
       " 1st Qu.: 96.5   1st Qu.:3.080   1st Qu.:2.581   1st Qu.:16.89  \n",
       " Median :123.0   Median :3.695   Median :3.325   Median :17.71  \n",
       " Mean   :146.7   Mean   :3.597   Mean   :3.217   Mean   :17.85  \n",
       " 3rd Qu.:180.0   3rd Qu.:3.920   3rd Qu.:3.610   3rd Qu.:18.90  \n",
       " Max.   :335.0   Max.   :4.930   Max.   :5.424   Max.   :22.90  \n",
       "       vs               am              gear            carb      \n",
       " Min.   :0.0000   Min.   :0.0000   Min.   :3.000   Min.   :1.000  \n",
       " 1st Qu.:0.0000   1st Qu.:0.0000   1st Qu.:3.000   1st Qu.:2.000  \n",
       " Median :0.0000   Median :0.0000   Median :4.000   Median :2.000  \n",
       " Mean   :0.4375   Mean   :0.4062   Mean   :3.688   Mean   :2.812  \n",
       " 3rd Qu.:1.0000   3rd Qu.:1.0000   3rd Qu.:4.000   3rd Qu.:4.000  \n",
       " Max.   :1.0000   Max.   :1.0000   Max.   :5.000   Max.   :8.000  "
      ]
     },
     "metadata": {},
     "output_type": "display_data"
    }
   ],
   "source": [
    "summary(df)"
   ]
  },
  {
   "cell_type": "code",
   "execution_count": 121,
   "metadata": {},
   "outputs": [
    {
     "data": {
      "text/html": [
       "<table class=\"dataframe\">\n",
       "<caption>A data.frame: 6 × 4</caption>\n",
       "<thead>\n",
       "\t<tr><th></th><th scope=col>mpg</th><th scope=col>hp</th><th scope=col>wt</th><th scope=col>gear</th></tr>\n",
       "\t<tr><th></th><th scope=col>&lt;dbl&gt;</th><th scope=col>&lt;dbl&gt;</th><th scope=col>&lt;dbl&gt;</th><th scope=col>&lt;dbl&gt;</th></tr>\n",
       "</thead>\n",
       "<tbody>\n",
       "\t<tr><th scope=row>Mazda RX4</th><td>21.0</td><td>110</td><td>2.620</td><td>4</td></tr>\n",
       "\t<tr><th scope=row>Mazda RX4 Wag</th><td>21.0</td><td>110</td><td>2.875</td><td>4</td></tr>\n",
       "\t<tr><th scope=row>Datsun 710</th><td>22.8</td><td> 93</td><td>2.320</td><td>4</td></tr>\n",
       "\t<tr><th scope=row>Hornet 4 Drive</th><td>21.4</td><td>110</td><td>3.215</td><td>3</td></tr>\n",
       "\t<tr><th scope=row>Hornet Sportabout</th><td>18.7</td><td>175</td><td>3.440</td><td>3</td></tr>\n",
       "\t<tr><th scope=row>Valiant</th><td>18.1</td><td>105</td><td>3.460</td><td>3</td></tr>\n",
       "</tbody>\n",
       "</table>\n"
      ],
      "text/latex": [
       "A data.frame: 6 × 4\n",
       "\\begin{tabular}{r|llll}\n",
       "  & mpg & hp & wt & gear\\\\\n",
       "  & <dbl> & <dbl> & <dbl> & <dbl>\\\\\n",
       "\\hline\n",
       "\tMazda RX4 & 21.0 & 110 & 2.620 & 4\\\\\n",
       "\tMazda RX4 Wag & 21.0 & 110 & 2.875 & 4\\\\\n",
       "\tDatsun 710 & 22.8 &  93 & 2.320 & 4\\\\\n",
       "\tHornet 4 Drive & 21.4 & 110 & 3.215 & 3\\\\\n",
       "\tHornet Sportabout & 18.7 & 175 & 3.440 & 3\\\\\n",
       "\tValiant & 18.1 & 105 & 3.460 & 3\\\\\n",
       "\\end{tabular}\n"
      ],
      "text/markdown": [
       "\n",
       "A data.frame: 6 × 4\n",
       "\n",
       "| <!--/--> | mpg &lt;dbl&gt; | hp &lt;dbl&gt; | wt &lt;dbl&gt; | gear &lt;dbl&gt; |\n",
       "|---|---|---|---|---|\n",
       "| Mazda RX4 | 21.0 | 110 | 2.620 | 4 |\n",
       "| Mazda RX4 Wag | 21.0 | 110 | 2.875 | 4 |\n",
       "| Datsun 710 | 22.8 |  93 | 2.320 | 4 |\n",
       "| Hornet 4 Drive | 21.4 | 110 | 3.215 | 3 |\n",
       "| Hornet Sportabout | 18.7 | 175 | 3.440 | 3 |\n",
       "| Valiant | 18.1 | 105 | 3.460 | 3 |\n",
       "\n"
      ],
      "text/plain": [
       "                  mpg  hp  wt    gear\n",
       "Mazda RX4         21.0 110 2.620 4   \n",
       "Mazda RX4 Wag     21.0 110 2.875 4   \n",
       "Datsun 710        22.8  93 2.320 4   \n",
       "Hornet 4 Drive    21.4 110 3.215 3   \n",
       "Hornet Sportabout 18.7 175 3.440 3   \n",
       "Valiant           18.1 105 3.460 3   "
      ]
     },
     "metadata": {},
     "output_type": "display_data"
    }
   ],
   "source": [
    "# 2. Tạo sub_data chỉ có các thông tin mpg, hp, wt, gear\n",
    "sub_data <- df[, c(\"mpg\", \"hp\", \"wt\", \"gear\")]\n",
    "head(sub_data)"
   ]
  },
  {
   "cell_type": "code",
   "execution_count": 122,
   "metadata": {},
   "outputs": [
    {
     "data": {
      "text/html": [
       "<table class=\"dataframe\">\n",
       "<caption>A data.frame: 6 × 5</caption>\n",
       "<thead>\n",
       "\t<tr><th></th><th scope=col>mpg</th><th scope=col>hp</th><th scope=col>wt</th><th scope=col>gear</th><th scope=col>km_per_litre</th></tr>\n",
       "\t<tr><th></th><th scope=col>&lt;dbl&gt;</th><th scope=col>&lt;dbl&gt;</th><th scope=col>&lt;dbl&gt;</th><th scope=col>&lt;dbl&gt;</th><th scope=col>&lt;dbl&gt;</th></tr>\n",
       "</thead>\n",
       "<tbody>\n",
       "\t<tr><th scope=row>Mazda RX4</th><td>21.0</td><td>110</td><td>2.620</td><td>4</td><td>8.9250</td></tr>\n",
       "\t<tr><th scope=row>Mazda RX4 Wag</th><td>21.0</td><td>110</td><td>2.875</td><td>4</td><td>8.9250</td></tr>\n",
       "\t<tr><th scope=row>Datsun 710</th><td>22.8</td><td> 93</td><td>2.320</td><td>4</td><td>9.6900</td></tr>\n",
       "\t<tr><th scope=row>Hornet 4 Drive</th><td>21.4</td><td>110</td><td>3.215</td><td>3</td><td>9.0950</td></tr>\n",
       "\t<tr><th scope=row>Hornet Sportabout</th><td>18.7</td><td>175</td><td>3.440</td><td>3</td><td>7.9475</td></tr>\n",
       "\t<tr><th scope=row>Valiant</th><td>18.1</td><td>105</td><td>3.460</td><td>3</td><td>7.6925</td></tr>\n",
       "</tbody>\n",
       "</table>\n"
      ],
      "text/latex": [
       "A data.frame: 6 × 5\n",
       "\\begin{tabular}{r|lllll}\n",
       "  & mpg & hp & wt & gear & km\\_per\\_litre\\\\\n",
       "  & <dbl> & <dbl> & <dbl> & <dbl> & <dbl>\\\\\n",
       "\\hline\n",
       "\tMazda RX4 & 21.0 & 110 & 2.620 & 4 & 8.9250\\\\\n",
       "\tMazda RX4 Wag & 21.0 & 110 & 2.875 & 4 & 8.9250\\\\\n",
       "\tDatsun 710 & 22.8 &  93 & 2.320 & 4 & 9.6900\\\\\n",
       "\tHornet 4 Drive & 21.4 & 110 & 3.215 & 3 & 9.0950\\\\\n",
       "\tHornet Sportabout & 18.7 & 175 & 3.440 & 3 & 7.9475\\\\\n",
       "\tValiant & 18.1 & 105 & 3.460 & 3 & 7.6925\\\\\n",
       "\\end{tabular}\n"
      ],
      "text/markdown": [
       "\n",
       "A data.frame: 6 × 5\n",
       "\n",
       "| <!--/--> | mpg &lt;dbl&gt; | hp &lt;dbl&gt; | wt &lt;dbl&gt; | gear &lt;dbl&gt; | km_per_litre &lt;dbl&gt; |\n",
       "|---|---|---|---|---|---|\n",
       "| Mazda RX4 | 21.0 | 110 | 2.620 | 4 | 8.9250 |\n",
       "| Mazda RX4 Wag | 21.0 | 110 | 2.875 | 4 | 8.9250 |\n",
       "| Datsun 710 | 22.8 |  93 | 2.320 | 4 | 9.6900 |\n",
       "| Hornet 4 Drive | 21.4 | 110 | 3.215 | 3 | 9.0950 |\n",
       "| Hornet Sportabout | 18.7 | 175 | 3.440 | 3 | 7.9475 |\n",
       "| Valiant | 18.1 | 105 | 3.460 | 3 | 7.6925 |\n",
       "\n"
      ],
      "text/plain": [
       "                  mpg  hp  wt    gear km_per_litre\n",
       "Mazda RX4         21.0 110 2.620 4    8.9250      \n",
       "Mazda RX4 Wag     21.0 110 2.875 4    8.9250      \n",
       "Datsun 710        22.8  93 2.320 4    9.6900      \n",
       "Hornet 4 Drive    21.4 110 3.215 3    9.0950      \n",
       "Hornet Sportabout 18.7 175 3.440 3    7.9475      \n",
       "Valiant           18.1 105 3.460 3    7.6925      "
      ]
     },
     "metadata": {},
     "output_type": "display_data"
    }
   ],
   "source": [
    "# 3. Tạp cột mới km_per_litre trong sub_data theo công thức: 1 mpg = 0.425 km/l\n",
    "sub_data$km_per_litre <- sub_data$mpg * 0.425\n",
    "head(sub_data)"
   ]
  },
  {
   "cell_type": "code",
   "execution_count": 123,
   "metadata": {},
   "outputs": [
    {
     "data": {
      "text/html": [
       "<table class=\"dataframe\">\n",
       "<caption>A data.frame: 6 × 12</caption>\n",
       "<thead>\n",
       "\t<tr><th></th><th scope=col>names</th><th scope=col>mpg</th><th scope=col>cyl</th><th scope=col>disp</th><th scope=col>hp</th><th scope=col>drat</th><th scope=col>wt</th><th scope=col>qsec</th><th scope=col>vs</th><th scope=col>am</th><th scope=col>gear</th><th scope=col>carb</th></tr>\n",
       "\t<tr><th></th><th scope=col>&lt;chr&gt;</th><th scope=col>&lt;dbl&gt;</th><th scope=col>&lt;dbl&gt;</th><th scope=col>&lt;dbl&gt;</th><th scope=col>&lt;dbl&gt;</th><th scope=col>&lt;dbl&gt;</th><th scope=col>&lt;dbl&gt;</th><th scope=col>&lt;dbl&gt;</th><th scope=col>&lt;dbl&gt;</th><th scope=col>&lt;dbl&gt;</th><th scope=col>&lt;dbl&gt;</th><th scope=col>&lt;dbl&gt;</th></tr>\n",
       "</thead>\n",
       "<tbody>\n",
       "\t<tr><th scope=row>Mazda RX4</th><td>Mazda RX4        </td><td>21.0</td><td>6</td><td>160</td><td>110</td><td>3.90</td><td>2.620</td><td>16.46</td><td>0</td><td>1</td><td>4</td><td>4</td></tr>\n",
       "\t<tr><th scope=row>Mazda RX4 Wag</th><td>Mazda RX4 Wag    </td><td>21.0</td><td>6</td><td>160</td><td>110</td><td>3.90</td><td>2.875</td><td>17.02</td><td>0</td><td>1</td><td>4</td><td>4</td></tr>\n",
       "\t<tr><th scope=row>Datsun 710</th><td>Datsun 710       </td><td>22.8</td><td>4</td><td>108</td><td> 93</td><td>3.85</td><td>2.320</td><td>18.61</td><td>1</td><td>1</td><td>4</td><td>1</td></tr>\n",
       "\t<tr><th scope=row>Hornet 4 Drive</th><td>Hornet 4 Drive   </td><td>21.4</td><td>6</td><td>258</td><td>110</td><td>3.08</td><td>3.215</td><td>19.44</td><td>1</td><td>0</td><td>3</td><td>1</td></tr>\n",
       "\t<tr><th scope=row>Hornet Sportabout</th><td>Hornet Sportabout</td><td>18.7</td><td>8</td><td>360</td><td>175</td><td>3.15</td><td>3.440</td><td>17.02</td><td>0</td><td>0</td><td>3</td><td>2</td></tr>\n",
       "\t<tr><th scope=row>Valiant</th><td>Valiant          </td><td>18.1</td><td>6</td><td>225</td><td>105</td><td>2.76</td><td>3.460</td><td>20.22</td><td>1</td><td>0</td><td>3</td><td>1</td></tr>\n",
       "</tbody>\n",
       "</table>\n"
      ],
      "text/latex": [
       "A data.frame: 6 × 12\n",
       "\\begin{tabular}{r|llllllllllll}\n",
       "  & names & mpg & cyl & disp & hp & drat & wt & qsec & vs & am & gear & carb\\\\\n",
       "  & <chr> & <dbl> & <dbl> & <dbl> & <dbl> & <dbl> & <dbl> & <dbl> & <dbl> & <dbl> & <dbl> & <dbl>\\\\\n",
       "\\hline\n",
       "\tMazda RX4 & Mazda RX4         & 21.0 & 6 & 160 & 110 & 3.90 & 2.620 & 16.46 & 0 & 1 & 4 & 4\\\\\n",
       "\tMazda RX4 Wag & Mazda RX4 Wag     & 21.0 & 6 & 160 & 110 & 3.90 & 2.875 & 17.02 & 0 & 1 & 4 & 4\\\\\n",
       "\tDatsun 710 & Datsun 710        & 22.8 & 4 & 108 &  93 & 3.85 & 2.320 & 18.61 & 1 & 1 & 4 & 1\\\\\n",
       "\tHornet 4 Drive & Hornet 4 Drive    & 21.4 & 6 & 258 & 110 & 3.08 & 3.215 & 19.44 & 1 & 0 & 3 & 1\\\\\n",
       "\tHornet Sportabout & Hornet Sportabout & 18.7 & 8 & 360 & 175 & 3.15 & 3.440 & 17.02 & 0 & 0 & 3 & 2\\\\\n",
       "\tValiant & Valiant           & 18.1 & 6 & 225 & 105 & 2.76 & 3.460 & 20.22 & 1 & 0 & 3 & 1\\\\\n",
       "\\end{tabular}\n"
      ],
      "text/markdown": [
       "\n",
       "A data.frame: 6 × 12\n",
       "\n",
       "| <!--/--> | names &lt;chr&gt; | mpg &lt;dbl&gt; | cyl &lt;dbl&gt; | disp &lt;dbl&gt; | hp &lt;dbl&gt; | drat &lt;dbl&gt; | wt &lt;dbl&gt; | qsec &lt;dbl&gt; | vs &lt;dbl&gt; | am &lt;dbl&gt; | gear &lt;dbl&gt; | carb &lt;dbl&gt; |\n",
       "|---|---|---|---|---|---|---|---|---|---|---|---|---|\n",
       "| Mazda RX4 | Mazda RX4         | 21.0 | 6 | 160 | 110 | 3.90 | 2.620 | 16.46 | 0 | 1 | 4 | 4 |\n",
       "| Mazda RX4 Wag | Mazda RX4 Wag     | 21.0 | 6 | 160 | 110 | 3.90 | 2.875 | 17.02 | 0 | 1 | 4 | 4 |\n",
       "| Datsun 710 | Datsun 710        | 22.8 | 4 | 108 |  93 | 3.85 | 2.320 | 18.61 | 1 | 1 | 4 | 1 |\n",
       "| Hornet 4 Drive | Hornet 4 Drive    | 21.4 | 6 | 258 | 110 | 3.08 | 3.215 | 19.44 | 1 | 0 | 3 | 1 |\n",
       "| Hornet Sportabout | Hornet Sportabout | 18.7 | 8 | 360 | 175 | 3.15 | 3.440 | 17.02 | 0 | 0 | 3 | 2 |\n",
       "| Valiant | Valiant           | 18.1 | 6 | 225 | 105 | 2.76 | 3.460 | 20.22 | 1 | 0 | 3 | 1 |\n",
       "\n"
      ],
      "text/plain": [
       "                  names             mpg  cyl disp hp  drat wt    qsec  vs am\n",
       "Mazda RX4         Mazda RX4         21.0 6   160  110 3.90 2.620 16.46 0  1 \n",
       "Mazda RX4 Wag     Mazda RX4 Wag     21.0 6   160  110 3.90 2.875 17.02 0  1 \n",
       "Datsun 710        Datsun 710        22.8 4   108   93 3.85 2.320 18.61 1  1 \n",
       "Hornet 4 Drive    Hornet 4 Drive    21.4 6   258  110 3.08 3.215 19.44 1  0 \n",
       "Hornet Sportabout Hornet Sportabout 18.7 8   360  175 3.15 3.440 17.02 0  0 \n",
       "Valiant           Valiant           18.1 6   225  105 2.76 3.460 20.22 1  0 \n",
       "                  gear carb\n",
       "Mazda RX4         4    4   \n",
       "Mazda RX4 Wag     4    4   \n",
       "Datsun 710        4    1   \n",
       "Hornet 4 Drive    3    1   \n",
       "Hornet Sportabout 3    2   \n",
       "Valiant           3    1   "
      ]
     },
     "metadata": {},
     "output_type": "display_data"
    },
    {
     "data": {
      "text/html": [
       "<style>\n",
       ".list-inline {list-style: none; margin:0; padding: 0}\n",
       ".list-inline>li {display: inline-block}\n",
       ".list-inline>li:not(:last-child)::after {content: \"\\00b7\"; padding: 0 .5ex}\n",
       "</style>\n",
       "<ol class=list-inline><li>32</li><li>12</li></ol>\n"
      ],
      "text/latex": [
       "\\begin{enumerate*}\n",
       "\\item 32\n",
       "\\item 12\n",
       "\\end{enumerate*}\n"
      ],
      "text/markdown": [
       "1. 32\n",
       "2. 12\n",
       "\n",
       "\n"
      ],
      "text/plain": [
       "[1] 32 12"
      ]
     },
     "metadata": {},
     "output_type": "display_data"
    }
   ],
   "source": [
    "# 4. Tạo sub_data_unique lấy từ mtcars nhưng loại bỏ các dòng trùng (dùng distinct()\n",
    "sub_data_unique <- unique(df)\n",
    "head(sub_data_unique)\n",
    "dim(sub_data_unique)"
   ]
  },
  {
   "cell_type": "code",
   "execution_count": 124,
   "metadata": {},
   "outputs": [
    {
     "name": "stdout",
     "output_type": "stream",
     "text": [
      "                                  names  mpg cyl  disp  hp drat    wt  qsec vs\n",
      "Toyota Corolla           Toyota Corolla 33.9   4  71.1  65 4.22 1.835 19.90  1\n",
      "Fiat 128                       Fiat 128 32.4   4  78.7  66 4.08 2.200 19.47  1\n",
      "Honda Civic                 Honda Civic 30.4   4  75.7  52 4.93 1.615 18.52  1\n",
      "Lotus Europa               Lotus Europa 30.4   4  95.1 113 3.77 1.513 16.90  1\n",
      "Fiat X1-9                     Fiat X1-9 27.3   4  79.0  66 4.08 1.935 18.90  1\n",
      "Porsche 914-2             Porsche 914-2 26.0   4 120.3  91 4.43 2.140 16.70  0\n",
      "Merc 240D                     Merc 240D 24.4   4 146.7  62 3.69 3.190 20.00  1\n",
      "Datsun 710                   Datsun 710 22.8   4 108.0  93 3.85 2.320 18.61  1\n",
      "Merc 230                       Merc 230 22.8   4 140.8  95 3.92 3.150 22.90  1\n",
      "Toyota Corona             Toyota Corona 21.5   4 120.1  97 3.70 2.465 20.01  1\n",
      "Volvo 142E                   Volvo 142E 21.4   4 121.0 109 4.11 2.780 18.60  1\n",
      "Hornet 4 Drive           Hornet 4 Drive 21.4   6 258.0 110 3.08 3.215 19.44  1\n",
      "Mazda RX4                     Mazda RX4 21.0   6 160.0 110 3.90 2.620 16.46  0\n",
      "Mazda RX4 Wag             Mazda RX4 Wag 21.0   6 160.0 110 3.90 2.875 17.02  0\n",
      "Ferrari Dino               Ferrari Dino 19.7   6 145.0 175 3.62 2.770 15.50  0\n",
      "Merc 280                       Merc 280 19.2   6 167.6 123 3.92 3.440 18.30  1\n",
      "Pontiac Firebird       Pontiac Firebird 19.2   8 400.0 175 3.08 3.845 17.05  0\n",
      "Hornet Sportabout     Hornet Sportabout 18.7   8 360.0 175 3.15 3.440 17.02  0\n",
      "Valiant                         Valiant 18.1   6 225.0 105 2.76 3.460 20.22  1\n",
      "Merc 280C                     Merc 280C 17.8   6 167.6 123 3.92 3.440 18.90  1\n",
      "Merc 450SL                   Merc 450SL 17.3   8 275.8 180 3.07 3.730 17.60  0\n",
      "Merc 450SE                   Merc 450SE 16.4   8 275.8 180 3.07 4.070 17.40  0\n",
      "Ford Pantera L           Ford Pantera L 15.8   8 351.0 264 4.22 3.170 14.50  0\n",
      "Dodge Challenger       Dodge Challenger 15.5   8 318.0 150 2.76 3.520 16.87  0\n",
      "AMC Javelin                 AMC Javelin 15.2   8 304.0 150 3.15 3.435 17.30  0\n",
      "Merc 450SLC                 Merc 450SLC 15.2   8 275.8 180 3.07 3.780 18.00  0\n",
      "Maserati Bora             Maserati Bora 15.0   8 301.0 335 3.54 3.570 14.60  0\n",
      "Chrysler Imperial     Chrysler Imperial 14.7   8 440.0 230 3.23 5.345 17.42  0\n",
      "Duster 360                   Duster 360 14.3   8 360.0 245 3.21 3.570 15.84  0\n",
      "Camaro Z28                   Camaro Z28 13.3   8 350.0 245 3.73 3.840 15.41  0\n",
      "Cadillac Fleetwood   Cadillac Fleetwood 10.4   8 472.0 205 2.93 5.250 17.98  0\n",
      "Lincoln Continental Lincoln Continental 10.4   8 460.0 215 3.00 5.424 17.82  0\n",
      "                    am gear carb\n",
      "Toyota Corolla       1    4    1\n",
      "Fiat 128             1    4    1\n",
      "Honda Civic          1    4    2\n",
      "Lotus Europa         1    5    2\n",
      "Fiat X1-9            1    4    1\n",
      "Porsche 914-2        1    5    2\n",
      "Merc 240D            0    4    2\n",
      "Datsun 710           1    4    1\n",
      "Merc 230             0    4    2\n",
      "Toyota Corona        0    3    1\n",
      "Volvo 142E           1    4    2\n",
      "Hornet 4 Drive       0    3    1\n",
      "Mazda RX4            1    4    4\n",
      "Mazda RX4 Wag        1    4    4\n",
      "Ferrari Dino         1    5    6\n",
      "Merc 280             0    4    4\n",
      "Pontiac Firebird     0    3    2\n",
      "Hornet Sportabout    0    3    2\n",
      "Valiant              0    3    1\n",
      "Merc 280C            0    4    4\n",
      "Merc 450SL           0    3    3\n",
      "Merc 450SE           0    3    3\n",
      "Ford Pantera L       1    5    4\n",
      "Dodge Challenger     0    3    2\n",
      "AMC Javelin          0    3    2\n",
      "Merc 450SLC          0    3    3\n",
      "Maserati Bora        1    5    8\n",
      "Chrysler Imperial    0    3    4\n",
      "Duster 360           0    3    4\n",
      "Camaro Z28           0    3    4\n",
      "Cadillac Fleetwood   0    3    4\n",
      "Lincoln Continental  0    3    4\n"
     ]
    }
   ],
   "source": [
    "# 5. In sub_data_unique với giá trị được sắp xếp giảm dần theo mpg, tăng dần theo hp\n",
    "sub_data_unique <- sub_data_unique[order(-sub_data_unique$mpg, sub_data_unique$hp), ]\n",
    "print(sub_data_unique)"
   ]
  },
  {
   "cell_type": "code",
   "execution_count": 130,
   "metadata": {},
   "outputs": [
    {
     "name": "stdout",
     "output_type": "stream",
     "text": [
      "Số lượng xe thỏa điều kiện: 2 \n"
     ]
    }
   ],
   "source": [
    "# 6. Lọc các xe mà trong tên xe có 'Mazda' trong sub_data_unique. Có bao nhiêu xe thỏa điều kiện này?\n",
    "mazda_cars <- sub_data_unique %>% filter(str_detect(names, \"Mazda\"))\n",
    "cat(\"Số lượng xe thỏa điều kiện:\", nrow(mazda_cars), \"\\n\")"
   ]
  },
  {
   "cell_type": "code",
   "execution_count": 131,
   "metadata": {},
   "outputs": [
    {
     "name": "stdout",
     "output_type": "stream",
     "text": [
      "Giá trị mpg lớn nhất: 33.9 \n",
      "[1] \"Các dòng dữ liệu có mpg = mpg lớn nhất:\"\n",
      "                        names  mpg cyl disp hp drat    wt qsec vs am gear carb\n",
      "Toyota Corolla Toyota Corolla 33.9   4 71.1 65 4.22 1.835 19.9  1  1    4    1\n"
     ]
    }
   ],
   "source": [
    "#7. Trong sub_data_unique, cho biết giá trị mpg lớn nhất? Có những dòng dữ liệu nào có mpg = mpg lớn nhất, in kết quả.\n",
    "max_mpg_value <- max(sub_data_unique$mpg)\n",
    "max_mpg_rows <- sub_data_unique[sub_data_unique$mpg == max_mpg_value, ]\n",
    "cat(\"Giá trị mpg lớn nhất:\", max_mpg_value, \"\\n\")\n",
    "print(\"Các dòng dữ liệu có mpg = mpg lớn nhất:\")\n",
    "print(max_mpg_rows)"
   ]
  },
  {
   "cell_type": "code",
   "execution_count": 132,
   "metadata": {},
   "outputs": [
    {
     "data": {
      "text/html": [
       "<table class=\"dataframe\">\n",
       "<caption>A data.frame: 4 × 12</caption>\n",
       "<thead>\n",
       "\t<tr><th></th><th scope=col>names</th><th scope=col>mpg</th><th scope=col>cyl</th><th scope=col>disp</th><th scope=col>hp</th><th scope=col>drat</th><th scope=col>wt</th><th scope=col>qsec</th><th scope=col>vs</th><th scope=col>am</th><th scope=col>gear</th><th scope=col>carb</th></tr>\n",
       "\t<tr><th></th><th scope=col>&lt;chr&gt;</th><th scope=col>&lt;dbl&gt;</th><th scope=col>&lt;dbl&gt;</th><th scope=col>&lt;dbl&gt;</th><th scope=col>&lt;dbl&gt;</th><th scope=col>&lt;dbl&gt;</th><th scope=col>&lt;dbl&gt;</th><th scope=col>&lt;dbl&gt;</th><th scope=col>&lt;dbl&gt;</th><th scope=col>&lt;dbl&gt;</th><th scope=col>&lt;dbl&gt;</th><th scope=col>&lt;dbl&gt;</th></tr>\n",
       "</thead>\n",
       "<tbody>\n",
       "\t<tr><th scope=row>Toyota Corolla</th><td>Toyota Corolla</td><td>33.9</td><td>4</td><td>71.1</td><td>65</td><td>4.22</td><td>1.835</td><td>19.90</td><td>1</td><td>1</td><td>4</td><td>1</td></tr>\n",
       "\t<tr><th scope=row>Fiat 128</th><td>Fiat 128      </td><td>32.4</td><td>4</td><td>78.7</td><td>66</td><td>4.08</td><td>2.200</td><td>19.47</td><td>1</td><td>1</td><td>4</td><td>1</td></tr>\n",
       "\t<tr><th scope=row>Honda Civic</th><td>Honda Civic   </td><td>30.4</td><td>4</td><td>75.7</td><td>52</td><td>4.93</td><td>1.615</td><td>18.52</td><td>1</td><td>1</td><td>4</td><td>2</td></tr>\n",
       "\t<tr><th scope=row>Fiat X1-9</th><td>Fiat X1-9     </td><td>27.3</td><td>4</td><td>79.0</td><td>66</td><td>4.08</td><td>1.935</td><td>18.90</td><td>1</td><td>1</td><td>4</td><td>1</td></tr>\n",
       "</tbody>\n",
       "</table>\n"
      ],
      "text/latex": [
       "A data.frame: 4 × 12\n",
       "\\begin{tabular}{r|llllllllllll}\n",
       "  & names & mpg & cyl & disp & hp & drat & wt & qsec & vs & am & gear & carb\\\\\n",
       "  & <chr> & <dbl> & <dbl> & <dbl> & <dbl> & <dbl> & <dbl> & <dbl> & <dbl> & <dbl> & <dbl> & <dbl>\\\\\n",
       "\\hline\n",
       "\tToyota Corolla & Toyota Corolla & 33.9 & 4 & 71.1 & 65 & 4.22 & 1.835 & 19.90 & 1 & 1 & 4 & 1\\\\\n",
       "\tFiat 128 & Fiat 128       & 32.4 & 4 & 78.7 & 66 & 4.08 & 2.200 & 19.47 & 1 & 1 & 4 & 1\\\\\n",
       "\tHonda Civic & Honda Civic    & 30.4 & 4 & 75.7 & 52 & 4.93 & 1.615 & 18.52 & 1 & 1 & 4 & 2\\\\\n",
       "\tFiat X1-9 & Fiat X1-9      & 27.3 & 4 & 79.0 & 66 & 4.08 & 1.935 & 18.90 & 1 & 1 & 4 & 1\\\\\n",
       "\\end{tabular}\n"
      ],
      "text/markdown": [
       "\n",
       "A data.frame: 4 × 12\n",
       "\n",
       "| <!--/--> | names &lt;chr&gt; | mpg &lt;dbl&gt; | cyl &lt;dbl&gt; | disp &lt;dbl&gt; | hp &lt;dbl&gt; | drat &lt;dbl&gt; | wt &lt;dbl&gt; | qsec &lt;dbl&gt; | vs &lt;dbl&gt; | am &lt;dbl&gt; | gear &lt;dbl&gt; | carb &lt;dbl&gt; |\n",
       "|---|---|---|---|---|---|---|---|---|---|---|---|---|\n",
       "| Toyota Corolla | Toyota Corolla | 33.9 | 4 | 71.1 | 65 | 4.22 | 1.835 | 19.90 | 1 | 1 | 4 | 1 |\n",
       "| Fiat 128 | Fiat 128       | 32.4 | 4 | 78.7 | 66 | 4.08 | 2.200 | 19.47 | 1 | 1 | 4 | 1 |\n",
       "| Honda Civic | Honda Civic    | 30.4 | 4 | 75.7 | 52 | 4.93 | 1.615 | 18.52 | 1 | 1 | 4 | 2 |\n",
       "| Fiat X1-9 | Fiat X1-9      | 27.3 | 4 | 79.0 | 66 | 4.08 | 1.935 | 18.90 | 1 | 1 | 4 | 1 |\n",
       "\n"
      ],
      "text/plain": [
       "               names          mpg  cyl disp hp drat wt    qsec  vs am gear carb\n",
       "Toyota Corolla Toyota Corolla 33.9 4   71.1 65 4.22 1.835 19.90 1  1  4    1   \n",
       "Fiat 128       Fiat 128       32.4 4   78.7 66 4.08 2.200 19.47 1  1  4    1   \n",
       "Honda Civic    Honda Civic    30.4 4   75.7 52 4.93 1.615 18.52 1  1  4    2   \n",
       "Fiat X1-9      Fiat X1-9      27.3 4   79.0 66 4.08 1.935 18.90 1  1  4    1   "
      ]
     },
     "metadata": {},
     "output_type": "display_data"
    }
   ],
   "source": [
    "# 8. Lọc các dữ liệu thỏa các điểu kiện sau: mpg >= 25 và cyl=4 và gear=4\n",
    "filtered_data <- sub_data_unique[sub_data_unique$mpg >= 25 & sub_data_unique$cyl == 4 & sub_data_unique$gear == 4, ]\n",
    "filtered_data"
   ]
  },
  {
   "cell_type": "code",
   "execution_count": 133,
   "metadata": {},
   "outputs": [
    {
     "name": "stdout",
     "output_type": "stream",
     "text": [
      "\u001b[90m# A tibble: 3 × 4\u001b[39m\n",
      "    cyl count max_hp min_mpg\n",
      "  \u001b[3m\u001b[90m<dbl>\u001b[39m\u001b[23m \u001b[3m\u001b[90m<int>\u001b[39m\u001b[23m  \u001b[3m\u001b[90m<dbl>\u001b[39m\u001b[23m   \u001b[3m\u001b[90m<dbl>\u001b[39m\u001b[23m\n",
      "\u001b[90m1\u001b[39m     4    11    113    21.4\n",
      "\u001b[90m2\u001b[39m     6     7    175    17.8\n",
      "\u001b[90m3\u001b[39m     8    14    335    10.4\n"
     ]
    }
   ],
   "source": [
    "# 9. Thực hiện việc thống kê theo cyl, từ đó cho biết số lượng từng nhóm, cyl, hp lớn nhất, mpg nhỏ nhất\n",
    "\n",
    "# Group by 'cyl' and calculate statistics for 'hp' and 'mpg'\n",
    "cyl_summary <- sub_data_unique %>%\n",
    "  group_by(cyl) %>%\n",
    "  summarise(\n",
    "    count = n(),\n",
    "    max_hp = max(hp),\n",
    "    min_mpg = min(mpg)\n",
    "  )\n",
    "\n",
    "# Print the summary\n",
    "print(cyl_summary)"
   ]
  },
  {
   "cell_type": "code",
   "execution_count": 134,
   "metadata": {},
   "outputs": [
    {
     "name": "stdout",
     "output_type": "stream",
     "text": [
      "[1] \"Xe có km_per_litre lớn nhất:\"\n",
      "                mpg hp    wt gear km_per_litre\n",
      "Toyota Corolla 33.9 65 1.835    4      14.4075\n",
      "[1] \"Xe có km_per_litre nhỏ nhất:\"\n",
      "                     mpg  hp    wt gear km_per_litre\n",
      "Cadillac Fleetwood  10.4 205 5.250    3         4.42\n",
      "Lincoln Continental 10.4 215 5.424    3         4.42\n"
     ]
    }
   ],
   "source": [
    "# 10. Trong sub_data, cho biết xe nào có km_per_litre lớn nhất, nhỏ nhất?\n",
    "max_km_car <- sub_data %>%\n",
    "  filter(km_per_litre == max(km_per_litre))\n",
    "min_km_car <- sub_data %>%\n",
    "  filter(km_per_litre == min(km_per_litre))\n",
    "print(\"Xe có km_per_litre lớn nhất:\")\n",
    "print(max_km_car)\n",
    "print(\"Xe có km_per_litre nhỏ nhất:\")\n",
    "print(min_km_car)"
   ]
  },
  {
   "cell_type": "code",
   "execution_count": null,
   "metadata": {},
   "outputs": [],
   "source": []
  }
 ],
 "metadata": {
  "colab": {
   "provenance": []
  },
  "kernelspec": {
   "display_name": "R",
   "language": "R",
   "name": "ir"
  },
  "language_info": {
   "codemirror_mode": "r",
   "file_extension": ".r",
   "mimetype": "text/x-r-source",
   "name": "R",
   "pygments_lexer": "r",
   "version": "4.3.1"
  }
 },
 "nbformat": 4,
 "nbformat_minor": 4
}
