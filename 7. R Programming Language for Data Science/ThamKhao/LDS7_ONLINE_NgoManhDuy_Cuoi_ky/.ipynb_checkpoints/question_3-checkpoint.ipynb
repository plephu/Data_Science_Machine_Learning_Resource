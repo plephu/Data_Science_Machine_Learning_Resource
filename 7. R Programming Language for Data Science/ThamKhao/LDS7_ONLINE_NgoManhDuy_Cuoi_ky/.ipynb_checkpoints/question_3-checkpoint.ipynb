{
 "cells": [
  {
   "cell_type": "markdown",
   "metadata": {},
   "source": [
    "### 1. Đọc dữ liệu và gán cho biến data."
   ]
  },
  {
   "cell_type": "code",
   "execution_count": 39,
   "metadata": {},
   "outputs": [],
   "source": [
    "data <- read.csv('Du lieu cung cap/children_lung.csv')"
   ]
  },
  {
   "cell_type": "markdown",
   "metadata": {},
   "source": [
    "### 2. Xem thông tin data: head(), số dòng, số cột, summary..."
   ]
  },
  {
   "cell_type": "code",
   "execution_count": 40,
   "metadata": {},
   "outputs": [
    {
     "data": {
      "text/html": [
       "<table>\n",
       "<thead><tr><th scope=col>age</th><th scope=col>FEV</th><th scope=col>ht</th><th scope=col>sex</th><th scope=col>smoke</th></tr></thead>\n",
       "<tbody>\n",
       "\t<tr><td>9    </td><td>1.708</td><td>57.0 </td><td>0    </td><td>0    </td></tr>\n",
       "\t<tr><td>8    </td><td>1.724</td><td>67.5 </td><td>0    </td><td>0    </td></tr>\n",
       "\t<tr><td>7    </td><td>1.720</td><td>54.5 </td><td>0    </td><td>0    </td></tr>\n",
       "\t<tr><td>9    </td><td>1.558</td><td>53.0 </td><td>1    </td><td>0    </td></tr>\n",
       "\t<tr><td>9    </td><td>1.895</td><td>57.0 </td><td>1    </td><td>0    </td></tr>\n",
       "\t<tr><td>8    </td><td>2.336</td><td>61.0 </td><td>0    </td><td>0    </td></tr>\n",
       "</tbody>\n",
       "</table>\n"
      ],
      "text/latex": [
       "\\begin{tabular}{r|lllll}\n",
       " age & FEV & ht & sex & smoke\\\\\n",
       "\\hline\n",
       "\t 9     & 1.708 & 57.0  & 0     & 0    \\\\\n",
       "\t 8     & 1.724 & 67.5  & 0     & 0    \\\\\n",
       "\t 7     & 1.720 & 54.5  & 0     & 0    \\\\\n",
       "\t 9     & 1.558 & 53.0  & 1     & 0    \\\\\n",
       "\t 9     & 1.895 & 57.0  & 1     & 0    \\\\\n",
       "\t 8     & 2.336 & 61.0  & 0     & 0    \\\\\n",
       "\\end{tabular}\n"
      ],
      "text/markdown": [
       "\n",
       "| age | FEV | ht | sex | smoke |\n",
       "|---|---|---|---|---|\n",
       "| 9     | 1.708 | 57.0  | 0     | 0     |\n",
       "| 8     | 1.724 | 67.5  | 0     | 0     |\n",
       "| 7     | 1.720 | 54.5  | 0     | 0     |\n",
       "| 9     | 1.558 | 53.0  | 1     | 0     |\n",
       "| 9     | 1.895 | 57.0  | 1     | 0     |\n",
       "| 8     | 2.336 | 61.0  | 0     | 0     |\n",
       "\n"
      ],
      "text/plain": [
       "  age FEV   ht   sex smoke\n",
       "1 9   1.708 57.0 0   0    \n",
       "2 8   1.724 67.5 0   0    \n",
       "3 7   1.720 54.5 0   0    \n",
       "4 9   1.558 53.0 1   0    \n",
       "5 9   1.895 57.0 1   0    \n",
       "6 8   2.336 61.0 0   0    "
      ]
     },
     "metadata": {},
     "output_type": "display_data"
    }
   ],
   "source": [
    "head(data)"
   ]
  },
  {
   "cell_type": "code",
   "execution_count": 34,
   "metadata": {},
   "outputs": [
    {
     "data": {
      "text/html": [
       "<table>\n",
       "<thead><tr><th></th><th scope=col>age</th><th scope=col>FEV</th><th scope=col>ht</th><th scope=col>sex</th><th scope=col>smoke</th></tr></thead>\n",
       "<tbody>\n",
       "\t<tr><th scope=row>649</th><td>4.872</td><td>72.0 </td><td>NA   </td><td>NA   </td><td>NA   </td></tr>\n",
       "\t<tr><th scope=row>650</th><td>4.270</td><td>67.0 </td><td>NA   </td><td>NA   </td><td>NA   </td></tr>\n",
       "\t<tr><th scope=row>651</th><td>3.727</td><td>68.0 </td><td>NA   </td><td>NA   </td><td>NA   </td></tr>\n",
       "\t<tr><th scope=row>652</th><td>2.853</td><td>60.0 </td><td>NA   </td><td>NA   </td><td>NA   </td></tr>\n",
       "\t<tr><th scope=row>653</th><td>2.795</td><td>63.0 </td><td>NA   </td><td>NA   </td><td>NA   </td></tr>\n",
       "\t<tr><th scope=row>654</th><td>3.211</td><td>66.5 </td><td>NA   </td><td>NA   </td><td>NA   </td></tr>\n",
       "</tbody>\n",
       "</table>\n"
      ],
      "text/latex": [
       "\\begin{tabular}{r|lllll}\n",
       "  & age & FEV & ht & sex & smoke\\\\\n",
       "\\hline\n",
       "\t649 & 4.872 & 72.0  & NA    & NA    & NA   \\\\\n",
       "\t650 & 4.270 & 67.0  & NA    & NA    & NA   \\\\\n",
       "\t651 & 3.727 & 68.0  & NA    & NA    & NA   \\\\\n",
       "\t652 & 2.853 & 60.0  & NA    & NA    & NA   \\\\\n",
       "\t653 & 2.795 & 63.0  & NA    & NA    & NA   \\\\\n",
       "\t654 & 3.211 & 66.5  & NA    & NA    & NA   \\\\\n",
       "\\end{tabular}\n"
      ],
      "text/markdown": [
       "\n",
       "| <!--/--> | age | FEV | ht | sex | smoke |\n",
       "|---|---|---|---|---|---|\n",
       "| 649 | 4.872 | 72.0  | NA    | NA    | NA    |\n",
       "| 650 | 4.270 | 67.0  | NA    | NA    | NA    |\n",
       "| 651 | 3.727 | 68.0  | NA    | NA    | NA    |\n",
       "| 652 | 2.853 | 60.0  | NA    | NA    | NA    |\n",
       "| 653 | 2.795 | 63.0  | NA    | NA    | NA    |\n",
       "| 654 | 3.211 | 66.5  | NA    | NA    | NA    |\n",
       "\n"
      ],
      "text/plain": [
       "    age   FEV  ht sex smoke\n",
       "649 4.872 72.0 NA NA  NA   \n",
       "650 4.270 67.0 NA NA  NA   \n",
       "651 3.727 68.0 NA NA  NA   \n",
       "652 2.853 60.0 NA NA  NA   \n",
       "653 2.795 63.0 NA NA  NA   \n",
       "654 3.211 66.5 NA NA  NA   "
      ]
     },
     "metadata": {},
     "output_type": "display_data"
    }
   ],
   "source": [
    "tail(data)"
   ]
  },
  {
   "cell_type": "code",
   "execution_count": 35,
   "metadata": {},
   "outputs": [
    {
     "name": "stderr",
     "output_type": "stream",
     "text": [
      "So dong: 654\n",
      "So cot: 5\n"
     ]
    }
   ],
   "source": [
    "message('So dong: ', nrow(data))\n",
    "message('So cot: ', ncol(data))"
   ]
  },
  {
   "cell_type": "code",
   "execution_count": 36,
   "metadata": {},
   "outputs": [
    {
     "data": {
      "text/plain": [
       "      age             FEV               ht             sex        \n",
       " Min.   :1.458   Min.   : 0.791   Min.   :46.00   Min.   :0.0000  \n",
       " 1st Qu.:3.049   1st Qu.: 2.041   1st Qu.:53.50   1st Qu.:0.0000  \n",
       " Median :4.330   Median :59.000   Median :57.00   Median :0.0000  \n",
       " Mean   :5.205   Mean   :35.210   Mean   :56.92   Mean   :0.4984  \n",
       " 3rd Qu.:8.000   3rd Qu.:65.000   3rd Qu.:60.00   3rd Qu.:1.0000  \n",
       " Max.   :9.000   Max.   :74.000   Max.   :69.00   Max.   :1.0000  \n",
       "                                  NA's   :345     NA's   :345     \n",
       "     smoke       \n",
       " Min.   :0.0000  \n",
       " 1st Qu.:0.0000  \n",
       " Median :0.0000  \n",
       " Mean   :0.0032  \n",
       " 3rd Qu.:0.0000  \n",
       " Max.   :1.0000  \n",
       " NA's   :345     "
      ]
     },
     "metadata": {},
     "output_type": "display_data"
    }
   ],
   "source": [
    "summary(data)"
   ]
  },
  {
   "cell_type": "markdown",
   "metadata": {},
   "source": [
    "### 3. Tiền xử lý dữ liệu (nếu cần).\n",
    "Từ bước 2 ta thấy có nhiều dòng bị thiếu dữ liệu ht, sex, smoke.\n",
    "\n",
    "Một số dòng tuổi cũng không phải kiểu int.\n",
    "\n",
    "=> ta sẽ bổ sung các giá trị thiếu bằng mean/median."
   ]
  },
  {
   "cell_type": "code",
   "execution_count": 45,
   "metadata": {},
   "outputs": [],
   "source": [
    "# smoke se duoc replace la 0\n",
    "data$smoke[is.na(data$smoke)] <- 0"
   ]
  },
  {
   "cell_type": "code",
   "execution_count": 46,
   "metadata": {},
   "outputs": [
    {
     "data": {
      "text/html": [
       "FALSE"
      ],
      "text/latex": [
       "FALSE"
      ],
      "text/markdown": [
       "FALSE"
      ],
      "text/plain": [
       "[1] FALSE"
      ]
     },
     "metadata": {},
     "output_type": "display_data"
    }
   ],
   "source": [
    "any(is.na(data$smoke))"
   ]
  },
  {
   "cell_type": "markdown",
   "metadata": {},
   "source": [
    "##### Chuẩn hóa column sex"
   ]
  },
  {
   "cell_type": "code",
   "execution_count": 55,
   "metadata": {},
   "outputs": [
    {
     "name": "stdout",
     "output_type": "stream",
     "text": [
      "[1] \"empty sex: \"\n"
     ]
    },
    {
     "data": {
      "text/html": [
       "<table>\n",
       "<thead><tr><th scope=col>x</th><th scope=col>freq</th></tr></thead>\n",
       "<tbody>\n",
       "\t<tr><td>NA </td><td>345</td></tr>\n",
       "</tbody>\n",
       "</table>\n"
      ],
      "text/latex": [
       "\\begin{tabular}{r|ll}\n",
       " x & freq\\\\\n",
       "\\hline\n",
       "\t NA  & 345\\\\\n",
       "\\end{tabular}\n"
      ],
      "text/markdown": [
       "\n",
       "| x | freq |\n",
       "|---|---|\n",
       "| NA  | 345 |\n",
       "\n"
      ],
      "text/plain": [
       "  x  freq\n",
       "1 NA 345 "
      ]
     },
     "metadata": {},
     "output_type": "display_data"
    },
    {
     "name": "stdout",
     "output_type": "stream",
     "text": [
      "[1] \"sex is 1: \"\n"
     ]
    },
    {
     "data": {
      "text/html": [
       "<table>\n",
       "<thead><tr><th scope=col>x</th><th scope=col>freq</th></tr></thead>\n",
       "<tbody>\n",
       "\t<tr><td> 1 </td><td>154</td></tr>\n",
       "\t<tr><td>NA </td><td>345</td></tr>\n",
       "</tbody>\n",
       "</table>\n"
      ],
      "text/latex": [
       "\\begin{tabular}{r|ll}\n",
       " x & freq\\\\\n",
       "\\hline\n",
       "\t  1  & 154\\\\\n",
       "\t NA  & 345\\\\\n",
       "\\end{tabular}\n"
      ],
      "text/markdown": [
       "\n",
       "| x | freq |\n",
       "|---|---|\n",
       "|  1  | 154 |\n",
       "| NA  | 345 |\n",
       "\n"
      ],
      "text/plain": [
       "  x  freq\n",
       "1  1 154 \n",
       "2 NA 345 "
      ]
     },
     "metadata": {},
     "output_type": "display_data"
    },
    {
     "data": {
      "text/html": [
       "<table>\n",
       "<thead><tr><th scope=col>x</th><th scope=col>freq</th></tr></thead>\n",
       "<tbody>\n",
       "\t<tr><td> 0 </td><td>155</td></tr>\n",
       "\t<tr><td>NA </td><td>345</td></tr>\n",
       "</tbody>\n",
       "</table>\n"
      ],
      "text/latex": [
       "\\begin{tabular}{r|ll}\n",
       " x & freq\\\\\n",
       "\\hline\n",
       "\t  0  & 155\\\\\n",
       "\t NA  & 345\\\\\n",
       "\\end{tabular}\n"
      ],
      "text/markdown": [
       "\n",
       "| x | freq |\n",
       "|---|---|\n",
       "|  0  | 155 |\n",
       "| NA  | 345 |\n",
       "\n"
      ],
      "text/plain": [
       "  x  freq\n",
       "1  0 155 \n",
       "2 NA 345 "
      ]
     },
     "metadata": {},
     "output_type": "display_data"
    }
   ],
   "source": [
    "library(plyr)\n",
    "print('empty sex: ')\n",
    "count(data$sex[is.na(data$sex) == TRUE])\n",
    "print('sex is 1: ')\n",
    "count(data$sex[data$sex == 1])\n",
    "print('sex is 0: ')\n",
    "count(data$sex[data$sex == 0])"
   ]
  },
  {
   "cell_type": "code",
   "execution_count": 56,
   "metadata": {},
   "outputs": [],
   "source": [
    "data$sex[data$sex == 1] <- 'M'\n",
    "data$sex[data$sex == 0] <- 'F'"
   ]
  },
  {
   "cell_type": "code",
   "execution_count": 62,
   "metadata": {},
   "outputs": [],
   "source": [
    "data$sex[is.na(data$sex) == TRUE][1:170] <- 'M'\n",
    "data$sex[is.na(data$sex) == TRUE] <- 'F'"
   ]
  },
  {
   "cell_type": "code",
   "execution_count": 63,
   "metadata": {},
   "outputs": [
    {
     "data": {
      "text/html": [
       "FALSE"
      ],
      "text/latex": [
       "FALSE"
      ],
      "text/markdown": [
       "FALSE"
      ],
      "text/plain": [
       "[1] FALSE"
      ]
     },
     "metadata": {},
     "output_type": "display_data"
    }
   ],
   "source": [
    "any(is.na(data$sex))"
   ]
  },
  {
   "cell_type": "markdown",
   "metadata": {},
   "source": [
    "##### Tiếp tục fill na value cột ht với giá trị median là 57"
   ]
  },
  {
   "cell_type": "code",
   "execution_count": 66,
   "metadata": {},
   "outputs": [],
   "source": [
    "data$ht[is.na(data$ht) == TRUE] <- 57"
   ]
  },
  {
   "cell_type": "code",
   "execution_count": 67,
   "metadata": {},
   "outputs": [
    {
     "data": {
      "text/html": [
       "FALSE"
      ],
      "text/latex": [
       "FALSE"
      ],
      "text/markdown": [
       "FALSE"
      ],
      "text/plain": [
       "[1] FALSE"
      ]
     },
     "metadata": {},
     "output_type": "display_data"
    }
   ],
   "source": [
    "any(is.na(data$ht))"
   ]
  },
  {
   "cell_type": "markdown",
   "metadata": {},
   "source": [
    "##### Round cột age cho tròn"
   ]
  },
  {
   "cell_type": "code",
   "execution_count": 70,
   "metadata": {},
   "outputs": [],
   "source": [
    "data$age <- round(data$age, digits = 0)"
   ]
  },
  {
   "cell_type": "markdown",
   "metadata": {},
   "source": [
    "##### Kiểm tra outlier"
   ]
  },
  {
   "cell_type": "code",
   "execution_count": 76,
   "metadata": {},
   "outputs": [
    {
     "data": {
      "image/png": "[encoded data removed]",
      "text/plain": [
       "Plot with title \"FEV\""
      ]
     },
     "metadata": {},
     "output_type": "display_data"
    }
   ],
   "source": [
    "par(mfrow=c(1,2))\n",
    "boxplot(data$age, main=\"age\",\n",
    "       sub=paste('Outlier rows: ', boxplot.stats(data$age)$out))\n",
    "boxplot(data$FEV, main=\"FEV\",\n",
    "       sub=paste('Outlier rows: ', boxplot.stats(data$FEV)$out))"
   ]
  },
  {
   "cell_type": "code",
   "execution_count": 77,
   "metadata": {},
   "outputs": [
    {
     "name": "stdout",
     "output_type": "stream",
     "text": [
      "[1] \"age_outliers:\"\n",
      "numeric(0)\n",
      "[1] \"Numrows:  0\"\n"
     ]
    }
   ],
   "source": [
    "age_outliers <- boxplot.stats(data$age)$out\n",
    "print('age_outliers:')\n",
    "print(age_outliers)\n",
    "print(paste('Numrows: ', length(age_outliers)))"
   ]
  },
  {
   "cell_type": "code",
   "execution_count": 78,
   "metadata": {},
   "outputs": [
    {
     "name": "stdout",
     "output_type": "stream",
     "text": [
      "[1] \"fev_outliers:\"\n",
      "NULL\n",
      "[1] \"Numrows:  0\"\n"
     ]
    }
   ],
   "source": [
    "fev_outliers <- boxplot.stats(data$fev)$out\n",
    "print('fev_outliers:')\n",
    "print(fev_outliers)\n",
    "print(paste('Numrows: ', length(fev_outliers)))"
   ]
  },
  {
   "cell_type": "markdown",
   "metadata": {},
   "source": [
    "#### Nhận xét: không có outliers."
   ]
  },
  {
   "cell_type": "markdown",
   "metadata": {},
   "source": [
    "### 4. Vẽ biểu đồ quan sát mối liên hệ giữa FEV và age. Quan sát và nhận xét. Có vấn đề gì đặc biệt từ dữ liệu không? Nếu có thì đó là vấn đề gì?"
   ]
  },
  {
   "cell_type": "code",
   "execution_count": 79,
   "metadata": {},
   "outputs": [
    {
     "name": "stdout",
     "output_type": "stream",
     "text": [
      "           age        FEV\n",
      "age  1.0000000 -0.8570641\n",
      "FEV -0.8570641  1.0000000\n"
     ]
    },
    {
     "data": {
      "image/png": "[encoded data removed]",
      "text/plain": [
       "Plot with title \"\""
      ]
     },
     "metadata": {},
     "output_type": "display_data"
    }
   ],
   "source": [
    "library(corrplot)\n",
    "\n",
    "correlations <- cor(data[,1:2])\n",
    "print(correlations)\n",
    "corrplot(correlations, method='number')"
   ]
  },
  {
   "cell_type": "markdown",
   "metadata": {},
   "source": [
    "#### Nhận xét: hệ số tương quan 0.86 cho thấy 2 biến có tương quan nghịch lớn, tuổi càng nhỏ fev càng lớn."
   ]
  },
  {
   "cell_type": "markdown",
   "metadata": {},
   "source": [
    "### Chia dữ liệu data thành 2 bộ dữ liệu data_FEV_less_10 (chứa các mẫu có FEV <10) và data_FEV_more_10 (chứa các mẫu có FEV >=10)"
   ]
  },
  {
   "cell_type": "code",
   "execution_count": 89,
   "metadata": {},
   "outputs": [],
   "source": [
    "data_FEV_less_10 <- filter(data, FEV < 10)\n",
    "data_FEV_more_10 <- filter(data, FEV >= 10)"
   ]
  },
  {
   "cell_type": "code",
   "execution_count": 92,
   "metadata": {},
   "outputs": [
    {
     "data": {
      "text/html": [
       "<table>\n",
       "<thead><tr><th scope=col>age</th><th scope=col>FEV</th><th scope=col>ht</th><th scope=col>sex</th><th scope=col>smoke</th></tr></thead>\n",
       "<tbody>\n",
       "\t<tr><td>9    </td><td>1.708</td><td>57.0 </td><td>F    </td><td>0    </td></tr>\n",
       "\t<tr><td>8    </td><td>1.724</td><td>67.5 </td><td>F    </td><td>0    </td></tr>\n",
       "\t<tr><td>7    </td><td>1.720</td><td>54.5 </td><td>F    </td><td>0    </td></tr>\n",
       "\t<tr><td>9    </td><td>1.558</td><td>53.0 </td><td>M    </td><td>0    </td></tr>\n",
       "\t<tr><td>9    </td><td>1.895</td><td>57.0 </td><td>M    </td><td>0    </td></tr>\n",
       "\t<tr><td>8    </td><td>2.336</td><td>61.0 </td><td>F    </td><td>0    </td></tr>\n",
       "</tbody>\n",
       "</table>\n"
      ],
      "text/latex": [
       "\\begin{tabular}{r|lllll}\n",
       " age & FEV & ht & sex & smoke\\\\\n",
       "\\hline\n",
       "\t 9     & 1.708 & 57.0  & F     & 0    \\\\\n",
       "\t 8     & 1.724 & 67.5  & F     & 0    \\\\\n",
       "\t 7     & 1.720 & 54.5  & F     & 0    \\\\\n",
       "\t 9     & 1.558 & 53.0  & M     & 0    \\\\\n",
       "\t 9     & 1.895 & 57.0  & M     & 0    \\\\\n",
       "\t 8     & 2.336 & 61.0  & F     & 0    \\\\\n",
       "\\end{tabular}\n"
      ],
      "text/markdown": [
       "\n",
       "| age | FEV | ht | sex | smoke |\n",
       "|---|---|---|---|---|\n",
       "| 9     | 1.708 | 57.0  | F     | 0     |\n",
       "| 8     | 1.724 | 67.5  | F     | 0     |\n",
       "| 7     | 1.720 | 54.5  | F     | 0     |\n",
       "| 9     | 1.558 | 53.0  | M     | 0     |\n",
       "| 9     | 1.895 | 57.0  | M     | 0     |\n",
       "| 8     | 2.336 | 61.0  | F     | 0     |\n",
       "\n"
      ],
      "text/plain": [
       "  age FEV   ht   sex smoke\n",
       "1 9   1.708 57.0 F   0    \n",
       "2 8   1.724 67.5 F   0    \n",
       "3 7   1.720 54.5 F   0    \n",
       "4 9   1.558 53.0 M   0    \n",
       "5 9   1.895 57.0 M   0    \n",
       "6 8   2.336 61.0 F   0    "
      ]
     },
     "metadata": {},
     "output_type": "display_data"
    }
   ],
   "source": [
    "head(data_FEV_less_10)"
   ]
  },
  {
   "cell_type": "code",
   "execution_count": 96,
   "metadata": {},
   "outputs": [
    {
     "name": "stdout",
     "output_type": "stream",
     "text": [
      "'data.frame':\t309 obs. of  5 variables:\n",
      " $ age  : num  9 8 7 9 9 8 6 6 8 9 ...\n",
      " $ FEV  : num  1.71 1.72 1.72 1.56 1.9 ...\n",
      " $ ht   : num  57 67.5 54.5 53 57 61 58 56 58.5 60 ...\n",
      " $ sex  : chr  \"F\" \"F\" \"F\" \"M\" ...\n",
      " $ smoke: num  0 0 0 0 0 0 0 0 0 0 ...\n"
     ]
    }
   ],
   "source": [
    "str(data_FEV_less_10)"
   ]
  },
  {
   "cell_type": "code",
   "execution_count": 93,
   "metadata": {},
   "outputs": [
    {
     "data": {
      "text/html": [
       "<table>\n",
       "<thead><tr><th scope=col>age</th><th scope=col>FEV</th><th scope=col>ht</th><th scope=col>sex</th><th scope=col>smoke</th></tr></thead>\n",
       "<tbody>\n",
       "\t<tr><td>3   </td><td>69.0</td><td>57  </td><td>M   </td><td>0   </td></tr>\n",
       "\t<tr><td>2   </td><td>64.0</td><td>57  </td><td>M   </td><td>0   </td></tr>\n",
       "\t<tr><td>3   </td><td>63.0</td><td>57  </td><td>M   </td><td>0   </td></tr>\n",
       "\t<tr><td>2   </td><td>58.0</td><td>57  </td><td>M   </td><td>0   </td></tr>\n",
       "\t<tr><td>3   </td><td>66.5</td><td>57  </td><td>M   </td><td>0   </td></tr>\n",
       "\t<tr><td>3   </td><td>60.5</td><td>57  </td><td>M   </td><td>0   </td></tr>\n",
       "</tbody>\n",
       "</table>\n"
      ],
      "text/latex": [
       "\\begin{tabular}{r|lllll}\n",
       " age & FEV & ht & sex & smoke\\\\\n",
       "\\hline\n",
       "\t 3    & 69.0 & 57   & M    & 0   \\\\\n",
       "\t 2    & 64.0 & 57   & M    & 0   \\\\\n",
       "\t 3    & 63.0 & 57   & M    & 0   \\\\\n",
       "\t 2    & 58.0 & 57   & M    & 0   \\\\\n",
       "\t 3    & 66.5 & 57   & M    & 0   \\\\\n",
       "\t 3    & 60.5 & 57   & M    & 0   \\\\\n",
       "\\end{tabular}\n"
      ],
      "text/markdown": [
       "\n",
       "| age | FEV | ht | sex | smoke |\n",
       "|---|---|---|---|---|\n",
       "| 3    | 69.0 | 57   | M    | 0    |\n",
       "| 2    | 64.0 | 57   | M    | 0    |\n",
       "| 3    | 63.0 | 57   | M    | 0    |\n",
       "| 2    | 58.0 | 57   | M    | 0    |\n",
       "| 3    | 66.5 | 57   | M    | 0    |\n",
       "| 3    | 60.5 | 57   | M    | 0    |\n",
       "\n"
      ],
      "text/plain": [
       "  age FEV  ht sex smoke\n",
       "1 3   69.0 57 M   0    \n",
       "2 2   64.0 57 M   0    \n",
       "3 3   63.0 57 M   0    \n",
       "4 2   58.0 57 M   0    \n",
       "5 3   66.5 57 M   0    \n",
       "6 3   60.5 57 M   0    "
      ]
     },
     "metadata": {},
     "output_type": "display_data"
    }
   ],
   "source": [
    "head(data_FEV_more_10)"
   ]
  },
  {
   "cell_type": "code",
   "execution_count": 97,
   "metadata": {},
   "outputs": [
    {
     "name": "stdout",
     "output_type": "stream",
     "text": [
      "'data.frame':\t345 obs. of  5 variables:\n",
      " $ age  : num  3 2 3 2 3 3 2 3 3 4 ...\n",
      " $ FEV  : num  69 64 63 58 66.5 60.5 57 64 61 68.5 ...\n",
      " $ ht   : num  57 57 57 57 57 57 57 57 57 57 ...\n",
      " $ sex  : chr  \"M\" \"M\" \"M\" \"M\" ...\n",
      " $ smoke: num  0 0 0 0 0 0 0 0 0 0 ...\n"
     ]
    }
   ],
   "source": [
    "str(data_FEV_more_10)"
   ]
  },
  {
   "cell_type": "markdown",
   "metadata": {},
   "source": [
    "### 6. Với data_FEV_more_10:\n",
    "    a. Thực hiện Simple Linear Regression để dự đoán FEV từ age. Xây dựng\n",
    "    model. Đánh giá model.\n",
    "    b. Cho age lần lượt là: [2, 3, 4, 5]. Hãy cho biết FEV lần lượt là bao nhiêu?\n",
    "    c. Trực quan hóa kết quả."
   ]
  },
  {
   "cell_type": "code",
   "execution_count": 137,
   "metadata": {},
   "outputs": [
    {
     "data": {
      "text/html": [
       "<table>\n",
       "<thead><tr><th scope=col>age</th><th scope=col>FEV</th><th scope=col>ht</th><th scope=col>sex</th><th scope=col>smoke</th></tr></thead>\n",
       "<tbody>\n",
       "\t<tr><td>3   </td><td>69.0</td><td>57  </td><td>M   </td><td>0   </td></tr>\n",
       "\t<tr><td>2   </td><td>64.0</td><td>57  </td><td>M   </td><td>0   </td></tr>\n",
       "\t<tr><td>3   </td><td>63.0</td><td>57  </td><td>M   </td><td>0   </td></tr>\n",
       "\t<tr><td>2   </td><td>58.0</td><td>57  </td><td>M   </td><td>0   </td></tr>\n",
       "\t<tr><td>3   </td><td>66.5</td><td>57  </td><td>M   </td><td>0   </td></tr>\n",
       "\t<tr><td>3   </td><td>60.5</td><td>57  </td><td>M   </td><td>0   </td></tr>\n",
       "</tbody>\n",
       "</table>\n"
      ],
      "text/latex": [
       "\\begin{tabular}{r|lllll}\n",
       " age & FEV & ht & sex & smoke\\\\\n",
       "\\hline\n",
       "\t 3    & 69.0 & 57   & M    & 0   \\\\\n",
       "\t 2    & 64.0 & 57   & M    & 0   \\\\\n",
       "\t 3    & 63.0 & 57   & M    & 0   \\\\\n",
       "\t 2    & 58.0 & 57   & M    & 0   \\\\\n",
       "\t 3    & 66.5 & 57   & M    & 0   \\\\\n",
       "\t 3    & 60.5 & 57   & M    & 0   \\\\\n",
       "\\end{tabular}\n"
      ],
      "text/markdown": [
       "\n",
       "| age | FEV | ht | sex | smoke |\n",
       "|---|---|---|---|---|\n",
       "| 3    | 69.0 | 57   | M    | 0    |\n",
       "| 2    | 64.0 | 57   | M    | 0    |\n",
       "| 3    | 63.0 | 57   | M    | 0    |\n",
       "| 2    | 58.0 | 57   | M    | 0    |\n",
       "| 3    | 66.5 | 57   | M    | 0    |\n",
       "| 3    | 60.5 | 57   | M    | 0    |\n",
       "\n"
      ],
      "text/plain": [
       "  age FEV  ht sex smoke\n",
       "1 3   69.0 57 M   0    \n",
       "2 2   64.0 57 M   0    \n",
       "3 3   63.0 57 M   0    \n",
       "4 2   58.0 57 M   0    \n",
       "5 3   66.5 57 M   0    \n",
       "6 3   60.5 57 M   0    "
      ]
     },
     "metadata": {},
     "output_type": "display_data"
    }
   ],
   "source": [
    "head(data_FEV_more_10)"
   ]
  },
  {
   "cell_type": "code",
   "execution_count": 147,
   "metadata": {},
   "outputs": [
    {
     "name": "stdout",
     "output_type": "stream",
     "text": [
      "[1] \"Selected training row indexes: \"\n",
      "  [1]  49 321 153  74 228 146 122 345 128 303  24 327  89 165 110  20 297 333\n",
      " [19] 283 109   5 212 259 314 298 335 158 299 322 136 292 340 326 197   4 226\n",
      " [37] 215 245 114 262 130   3 258 186 138  40 325  33 103 341 313 157  76 265\n",
      " [55]  35 221  16 220 248 118 305  82 331 149  57 100  91 269 181  54 208 246\n",
      " [73]  60 108 126 112  72   1 141 206  42 315 287 251 294  25 191  32 238  14\n",
      " [91] 111   6 263 175  43 190 332 275 113 274 247 242  31 162  94 224 254 214\n",
      "[109]  38  95 239  84  15  34 170 309 188  12 337 154  41 193  66  56 152  98\n",
      "[127] 260  92 107  61 250 256 244 124 194 236 336 155 301 185  28 286  37 207\n",
      "[145] 308 318 291  78 257 156 339  97 182 127 243 306 180  81 187  27  30 189\n",
      "[163] 280  75 145  62  13 271 324  63 338 216 116 268 277 161 205   2 159 316\n",
      "[181] 192 304 179 296 319  51 210  47 222 144  10 343 164 284 169  93 281 234\n",
      "[199] 204 174 102 276  55 196  58 230  85 171 252  18 143  36  71 201 302 241\n",
      "[217]  86 330 307 195 225  11 218 237 106  73  23  90 115 105 177  19 123 139\n",
      "[235] 134 264 129 328 142  59 266\n",
      "Row in training data:  241\n",
      "Row in test data:  104"
     ]
    }
   ],
   "source": [
    "set.seed(42)\n",
    "trainingRowIndex <- sample(1:nrow(data_FEV_more_10), 0.7*nrow(data_FEV_more_10))\n",
    "print(\"Selected training row indexes: \")\n",
    "print(trainingRowIndex)\n",
    "trainingData <- data_FEV_more_10[trainingRowIndex,]\n",
    "testData <- data_FEV_more_10[-trainingRowIndex, ]\n",
    "cat('Row in training data: ',nrow(trainingData))\n",
    "cat('\\nRow in test data: ',nrow(testData))"
   ]
  },
  {
   "cell_type": "code",
   "execution_count": 139,
   "metadata": {},
   "outputs": [
    {
     "name": "stdout",
     "output_type": "stream",
     "text": [
      "[1] \"mse  6.58231874933206\"\n",
      "[1] \"mse in test  7.20274680472692\"\n"
     ]
    }
   ],
   "source": [
    "lmMod <- lm(FEV~age, data = trainingData)\n",
    "iPred <- predict(lmMod, testData)\n",
    "\n",
    "mse <- mean(lmMod$residuals^2)\n",
    "print(paste(\"mse \", mse))\n",
    "\n",
    "mse_test <- mean((testData$FEV-iPred)^2)\n",
    "print(paste(\"mse in test \", mse_test))"
   ]
  },
  {
   "cell_type": "markdown",
   "metadata": {},
   "source": [
    "##### MSE cũng không khác biệt nhiều lắm."
   ]
  },
  {
   "cell_type": "code",
   "execution_count": 140,
   "metadata": {},
   "outputs": [
    {
     "name": "stdout",
     "output_type": "stream",
     "text": [
      "\n",
      "Call:\n",
      "lm(formula = FEV ~ age, data = trainingData)\n",
      "\n",
      "Residuals:\n",
      "    Min      1Q  Median      3Q     Max \n",
      "-8.7627 -1.5806 -0.0806  1.4194  7.4194 \n",
      "\n",
      "Coefficients:\n",
      "            Estimate Std. Error t value Pr(>|t|)    \n",
      "(Intercept)  54.6270     0.6583   82.98   <2e-16 ***\n",
      "age           3.3179     0.1973   16.81   <2e-16 ***\n",
      "---\n",
      "Signif. codes:  0 '***' 0.001 '**' 0.01 '*' 0.05 '.' 0.1 ' ' 1\n",
      "\n",
      "Residual standard error: 2.576 on 239 degrees of freedom\n",
      "Multiple R-squared:  0.5419,\tAdjusted R-squared:   0.54 \n",
      "F-statistic: 282.7 on 1 and 239 DF,  p-value: < 2.2e-16\n",
      "\n"
     ]
    }
   ],
   "source": [
    "print(summary(lmMod))"
   ]
  },
  {
   "cell_type": "code",
   "execution_count": 141,
   "metadata": {},
   "outputs": [
    {
     "name": "stdout",
     "output_type": "stream",
     "text": [
      "[1] \"Results: \"\n",
      "       1        2        3        4 \n",
      "61.26271 64.58057 67.89843 71.21629 \n"
     ]
    }
   ],
   "source": [
    "# new predictions\n",
    "x <- c(2,3,4,5)\n",
    "y <- predict(lmMod, data.frame(age = x))\n",
    "print(\"Results: \")\n",
    "print(y)"
   ]
  },
  {
   "cell_type": "code",
   "execution_count": 156,
   "metadata": {},
   "outputs": [
    {
     "name": "stderr",
     "output_type": "stream",
     "text": [
      "Warning message in abline(lmMod, data_FEV_more_10, col = \"green\"):\n",
      "\"only using the first two of 3 regression coefficients\""
     ]
    },
    {
     "data": {
      "image/png": "[encoded data removed]",
      "text/plain": [
       "Plot with title \"Predict FEV with age\""
      ]
     },
     "metadata": {},
     "output_type": "display_data"
    }
   ],
   "source": [
    "plot(data_FEV_more_10$age, data_FEV_more_10$FEV,\n",
    "     main='Predict FEV with age',\n",
    "     xlab='age', ylab='FEV',\n",
    "     frame=FALSE, col='blue')\n",
    "lines(x, y, col='red', type='p')\n",
    "abline(lmMod, data_FEV_more_10, col = 'green')\n",
    "legend('topleft', \n",
    "       c('dataset','data_predict'),\n",
    "       cex=0.8,\n",
    "       fill=c('blue','red'))"
   ]
  },
  {
   "cell_type": "markdown",
   "metadata": {},
   "source": [
    "### 7. Với data_FEV_less_10:\n",
    "    a. Thực hiện Multiple Linear Regression để dự đoán FEV từ age và ht.\n",
    "    b. Cho age và ht lần lượt là: age = [5, 6, 7, 8, 9], ht = [49.5, 55, 57, 60, 62] .\n",
    "    Hãy cho biết FEV lần lượt là bao nhiêu?\n",
    "    c. Trực quan hóa kết quả."
   ]
  },
  {
   "cell_type": "code",
   "execution_count": 159,
   "metadata": {},
   "outputs": [
    {
     "name": "stdout",
     "output_type": "stream",
     "text": [
      "[1] \"Selected training row indexes: \"\n",
      "  [1]  49 153  74 228 146 122 309 128  24  89 165 110  20 300 283 109   5 212\n",
      " [19] 259 301 158 136 305 294 197   4 226 215 245 114 262 130   3 258 186 138\n",
      " [37]  40 293  33 103 306 286 157  76 265  35 221  16 220 248 118 278  82 152\n",
      " [55] 113 287  69 298 104 183 273 149 269  57 100 231  42 254  91  13 181  54\n",
      " [73]  83  32 208  60  29  81 108 201 121  85 126 171 275 112  72 233 250 166\n",
      " [91]   1 141 206 133 230  55 144  43 243 211  97 185 267  25 115 191 236 232\n",
      "[109]  14 111   6 175 292 190 299 255 194  31 162  94 199  38  95 189  84  15\n",
      "[127]  34 170  12 302 154  41  66  56 256  98 217  92 107  61 282 204 124 187\n",
      "[145] 203 155 274  28 291  37 163 193 272 264  78 169 304 209 127 192 285 202\n",
      "[163]  27  30 281  75  62 240 227 167  63 303 182 116 219 168   2 151 277 142\n",
      "[181] 239  65 242  51 234 261 160  47 176  70 119 279  10  71  73 105 173 131\n",
      "[199] 257  53 134  79  93 246 235 296  80  88 198 137 260  22  26 238  96 280\n",
      "[217] 214 140  58  45 123  99 244 247 263 289 180 179 159  11 268  18 295 210\n",
      "[235]  36 297 145 288 147 207 307 178 270 188  23 101 218\n",
      "Row in training data:  247\n",
      "Row in test data:  62"
     ]
    }
   ],
   "source": [
    "# Create training and test data\n",
    "set.seed(42)\n",
    "trainingRowIndex <- sample(1:nrow(data_FEV_less_10), 0.8*nrow(data_FEV_less_10))\n",
    "print(\"Selected training row indexes: \")\n",
    "print(trainingRowIndex)\n",
    "trainingData <- data_FEV_less_10[trainingRowIndex,]\n",
    "testData <- data_FEV_less_10[-trainingRowIndex, ]\n",
    "cat('Row in training data: ',nrow(trainingData))\n",
    "cat('\\nRow in test data: ',nrow(testData))"
   ]
  },
  {
   "cell_type": "code",
   "execution_count": 160,
   "metadata": {},
   "outputs": [
    {
     "name": "stdout",
     "output_type": "stream",
     "text": [
      "[1] \"mse  0.0858432935888596\"\n",
      "[1] \"mse in test  0.0836047535772129\"\n"
     ]
    }
   ],
   "source": [
    "lmMod <- lm(FEV ~ age+ht, data = trainingData)\n",
    "cPred <- predict(lmMod, testData) #predict mpg\n",
    "# mean square error according to model\n",
    "mse <- mean(lmMod$residuals^2)\n",
    "print(paste(\"mse \", mse))\n",
    "# mean square error according of test data\n",
    "mse_test <- mean((testData$FEV-cPred)^2)\n",
    "print(paste(\"mse in test \", mse_test))"
   ]
  },
  {
   "cell_type": "code",
   "execution_count": 161,
   "metadata": {},
   "outputs": [
    {
     "name": "stdout",
     "output_type": "stream",
     "text": [
      "\n",
      "Call:\n",
      "lm(formula = FEV ~ age + ht, data = trainingData)\n",
      "\n",
      "Residuals:\n",
      "    Min      1Q  Median      3Q     Max \n",
      "-1.2740 -0.1784 -0.0085  0.1798  1.0294 \n",
      "\n",
      "Coefficients:\n",
      "             Estimate Std. Error t value Pr(>|t|)    \n",
      "(Intercept) -3.268106   0.282636 -11.563   <2e-16 ***\n",
      "age          0.023705   0.020667   1.147    0.253    \n",
      "ht           0.090022   0.006749  13.338   <2e-16 ***\n",
      "---\n",
      "Signif. codes:  0 '***' 0.001 '**' 0.01 '*' 0.05 '.' 0.1 ' ' 1\n",
      "\n",
      "Residual standard error: 0.2948 on 244 degrees of freedom\n",
      "Multiple R-squared:  0.6775,\tAdjusted R-squared:  0.6748 \n",
      "F-statistic: 256.3 on 2 and 244 DF,  p-value: < 2.2e-16\n",
      "\n"
     ]
    }
   ],
   "source": [
    "# show the model\n",
    "print(summary(lmMod))"
   ]
  },
  {
   "cell_type": "code",
   "execution_count": 162,
   "metadata": {},
   "outputs": [
    {
     "name": "stdout",
     "output_type": "stream",
     "text": [
      "[1] \"Result\"\n",
      "       1        2        3        4        5 \n",
      "1.306486 1.825310 2.029058 2.322828 2.526576 \n"
     ]
    }
   ],
   "source": [
    "x = c(5,6,7,8,9)\n",
    "y = predict(lmMod, data.frame(age=c(5,6,7,8,9), ht = c(49.5, 55, 57, 60, 62)))\n",
    "print('Result')\n",
    "print(y)"
   ]
  },
  {
   "cell_type": "code",
   "execution_count": 165,
   "metadata": {},
   "outputs": [
    {
     "name": "stderr",
     "output_type": "stream",
     "text": [
      "Warning message in abline(lmMod, data_FEV_less_10, col = \"green\"):\n",
      "\"only using the first two of 3 regression coefficients\""
     ]
    },
    {
     "data": {
      "image/png": "[encoded data removed]",
      "text/plain": [
       "Plot with title \"Predict FEV with age\""
      ]
     },
     "metadata": {},
     "output_type": "display_data"
    }
   ],
   "source": [
    "plot(data_FEV_less_10$age, data_FEV_less_10$FEV,\n",
    "     main='Predict FEV with age',\n",
    "     xlab='age', ylab='FEV',\n",
    "     frame=FALSE, col='blue')\n",
    "lines(x,y, col='red', type='p')\n",
    "abline(lmMod, data_FEV_less_10, col = 'green')\n",
    "legend('topleft', \n",
    "       c('dataset','data_predict'),\n",
    "       cex=0.8,\n",
    "       fill=c('blue','red'))"
   ]
  },
  {
   "cell_type": "code",
   "execution_count": 166,
   "metadata": {},
   "outputs": [
    {
     "name": "stderr",
     "output_type": "stream",
     "text": [
      "Warning message in abline(lmMod, data_FEV_less_10, col = \"green\"):\n",
      "\"only using the first two of 3 regression coefficients\""
     ]
    },
    {
     "data": {
      "image/png": "[encoded data removed]",
      "text/plain": [
       "Plot with title \"Predict FEV with ht\""
      ]
     },
     "metadata": {},
     "output_type": "display_data"
    }
   ],
   "source": [
    "x=c(49.5, 55, 57, 60, 62)\n",
    "plot(data_FEV_less_10$ht, data_FEV_less_10$FEV,\n",
    "     main='Predict FEV with ht',\n",
    "     xlab='ht', ylab='FEV',\n",
    "     frame=FALSE, col='blue')\n",
    "lines(x,y, col='red', type='p')\n",
    "abline(lmMod, data_FEV_less_10, col = 'green')\n",
    "legend('topleft', \n",
    "       c('dataset','data_predict'),\n",
    "       cex=0.8,\n",
    "       fill=c('blue','red'))"
   ]
  },
  {
   "cell_type": "markdown",
   "metadata": {},
   "source": [
    "### Kết luận:\n",
    "- Với age và ht, ta cho kết quả chính xác hơn simple linear."
   ]
  },
  {
   "cell_type": "code",
   "execution_count": null,
   "metadata": {},
   "outputs": [],
   "source": []
  }
 ],
 "metadata": {
  "kernelspec": {
   "display_name": "R",
   "language": "R",
   "name": "ir"
  },
  "language_info": {
   "codemirror_mode": "r",
   "file_extension": ".r",
   "mimetype": "text/x-r-source",
   "name": "R",
   "pygments_lexer": "r",
   "version": "3.6.1"
  }
 },
 "nbformat": 4,
 "nbformat_minor": 4
}
