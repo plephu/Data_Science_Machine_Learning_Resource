{
 "cells": [
  {
   "cell_type": "markdown",
   "metadata": {},
   "source": [
    "### 1. Đọc dữ liệu"
   ]
  },
  {
   "cell_type": "code",
   "execution_count": 1,
   "metadata": {},
   "outputs": [],
   "source": [
    "df <- read.csv('Du lieu cung cap/sales-of-shampoo-over-a-three-year.csv')"
   ]
  },
  {
   "cell_type": "markdown",
   "metadata": {},
   "source": [
    "### 2. Xem thông tin chung từ dữ liệu: head(), số dòng, số cột, str()..."
   ]
  },
  {
   "cell_type": "code",
   "execution_count": 2,
   "metadata": {},
   "outputs": [
    {
     "data": {
      "text/html": [
       "<table>\n",
       "<thead><tr><th scope=col>Month</th><th scope=col>Sales.of.shampoo.over.a.three.year.period</th></tr></thead>\n",
       "<tbody>\n",
       "\t<tr><td>Friday, January 1, 2016 </td><td>266.0                   </td></tr>\n",
       "\t<tr><td>Monday, February 1, 2016</td><td>145.9                   </td></tr>\n",
       "\t<tr><td>Tuesday, March 1, 2016  </td><td>183.1                   </td></tr>\n",
       "\t<tr><td>Friday, April 1, 2016   </td><td>119.3                   </td></tr>\n",
       "\t<tr><td>Sunday, May 1, 2016     </td><td>180.3                   </td></tr>\n",
       "\t<tr><td>Wednesday, June 1, 2016 </td><td>168.5                   </td></tr>\n",
       "</tbody>\n",
       "</table>\n"
      ],
      "text/latex": [
       "\\begin{tabular}{r|ll}\n",
       " Month & Sales.of.shampoo.over.a.three.year.period\\\\\n",
       "\\hline\n",
       "\t Friday, January 1, 2016  & 266.0                   \\\\\n",
       "\t Monday, February 1, 2016 & 145.9                   \\\\\n",
       "\t Tuesday, March 1, 2016   & 183.1                   \\\\\n",
       "\t Friday, April 1, 2016    & 119.3                   \\\\\n",
       "\t Sunday, May 1, 2016      & 180.3                   \\\\\n",
       "\t Wednesday, June 1, 2016  & 168.5                   \\\\\n",
       "\\end{tabular}\n"
      ],
      "text/markdown": [
       "\n",
       "| Month | Sales.of.shampoo.over.a.three.year.period |\n",
       "|---|---|\n",
       "| Friday, January 1, 2016  | 266.0                    |\n",
       "| Monday, February 1, 2016 | 145.9                    |\n",
       "| Tuesday, March 1, 2016   | 183.1                    |\n",
       "| Friday, April 1, 2016    | 119.3                    |\n",
       "| Sunday, May 1, 2016      | 180.3                    |\n",
       "| Wednesday, June 1, 2016  | 168.5                    |\n",
       "\n"
      ],
      "text/plain": [
       "  Month                    Sales.of.shampoo.over.a.three.year.period\n",
       "1 Friday, January 1, 2016  266.0                                    \n",
       "2 Monday, February 1, 2016 145.9                                    \n",
       "3 Tuesday, March 1, 2016   183.1                                    \n",
       "4 Friday, April 1, 2016    119.3                                    \n",
       "5 Sunday, May 1, 2016      180.3                                    \n",
       "6 Wednesday, June 1, 2016  168.5                                    "
      ]
     },
     "metadata": {},
     "output_type": "display_data"
    }
   ],
   "source": [
    "head(df)"
   ]
  },
  {
   "cell_type": "code",
   "execution_count": 4,
   "metadata": {},
   "outputs": [
    {
     "name": "stderr",
     "output_type": "stream",
     "text": [
      "So dong: 36\n",
      "So cot: 2\n"
     ]
    }
   ],
   "source": [
    "message('So dong: ', nrow(df))\n",
    "message('So cot: ', ncol(df))"
   ]
  },
  {
   "cell_type": "code",
   "execution_count": 8,
   "metadata": {},
   "outputs": [
    {
     "name": "stdout",
     "output_type": "stream",
     "text": [
      "'data.frame':\t36 obs. of  2 variables:\n",
      " $ Month                                    : Factor w/ 36 levels \"Friday, April 1, 2016\",..: 3 8 29 1 20 34 4 7 27 15 ...\n",
      " $ Sales.of.shampoo.over.a.three.year.period: num  266 146 183 119 180 ...\n",
      "NULL\n"
     ]
    }
   ],
   "source": [
    "print(str(df))"
   ]
  },
  {
   "cell_type": "markdown",
   "metadata": {},
   "source": [
    "### 3.Chuyển dữ liệu này thành Time Series object => in Time Series object."
   ]
  },
  {
   "cell_type": "code",
   "execution_count": 20,
   "metadata": {},
   "outputs": [
    {
     "name": "stderr",
     "output_type": "stream",
     "text": [
      "ERROR while rich displaying an object: Error in repr_matrix_generic(obj, \"\\n%s%s\\n\", sprintf(\"|%%s\\n|%s|\\n\", : formal argument \"cols\" matched by multiple actual arguments\n",
      "\n",
      "Traceback:\n",
      "1. FUN(X[[i]], ...)\n",
      "2. tryCatch(withCallingHandlers({\n",
      " .     if (!mime %in% names(repr::mime2repr)) \n",
      " .         stop(\"No repr_* for mimetype \", mime, \" in repr::mime2repr\")\n",
      " .     rpr <- repr::mime2repr[[mime]](obj)\n",
      " .     if (is.null(rpr)) \n",
      " .         return(NULL)\n",
      " .     prepare_content(is.raw(rpr), rpr)\n",
      " . }, error = error_handler), error = outer_handler)\n",
      "3. tryCatchList(expr, classes, parentenv, handlers)\n",
      "4. tryCatchOne(expr, names, parentenv, handlers[[1L]])\n",
      "5. doTryCatch(return(expr), name, parentenv, handler)\n",
      "6. withCallingHandlers({\n",
      " .     if (!mime %in% names(repr::mime2repr)) \n",
      " .         stop(\"No repr_* for mimetype \", mime, \" in repr::mime2repr\")\n",
      " .     rpr <- repr::mime2repr[[mime]](obj)\n",
      " .     if (is.null(rpr)) \n",
      " .         return(NULL)\n",
      " .     prepare_content(is.raw(rpr), rpr)\n",
      " . }, error = error_handler)\n",
      "7. repr::mime2repr[[mime]](obj)\n",
      "8. repr_markdown.ts(obj)\n",
      "9. repr_ts_generic(obj, repr_markdown.matrix, ...)\n",
      "10. repr_func(m, ..., rows = nrow(m), cols = ncol(m))\n"
     ]
    },
    {
     "data": {
      "text/html": [
       "<table>\n",
       "<thead><tr><th></th><th scope=col>Jan</th><th scope=col>Feb</th><th scope=col>Mar</th><th scope=col>Apr</th><th scope=col>May</th><th scope=col>Jun</th><th scope=col>Jul</th><th scope=col>Aug</th><th scope=col>Sep</th><th scope=col>Oct</th><th scope=col>Nov</th><th scope=col>Dec</th></tr></thead>\n",
       "<tbody>\n",
       "\t<tr><th scope=row>2016</th><td>266.0</td><td>145.9</td><td>183.1</td><td>119.3</td><td>180.3</td><td>168.5</td><td>231.8</td><td>224.5</td><td>192.8</td><td>122.9</td><td>336.5</td><td>185.9</td></tr>\n",
       "\t<tr><th scope=row>2017</th><td>194.3</td><td>149.5</td><td>210.1</td><td>273.3</td><td>191.4</td><td>287.0</td><td>226.0</td><td>303.6</td><td>289.9</td><td>421.6</td><td>264.5</td><td>342.3</td></tr>\n",
       "\t<tr><th scope=row>2018</th><td>339.7</td><td>440.4</td><td>315.9</td><td>439.3</td><td>401.3</td><td>437.4</td><td>575.5</td><td>407.6</td><td>682.0</td><td>475.3</td><td>581.3</td><td>646.9</td></tr>\n",
       "</tbody>\n",
       "</table>\n"
      ],
      "text/latex": [
       "\\begin{tabular}{r|llllllllllll}\n",
       "  & Jan & Feb & Mar & Apr & May & Jun & Jul & Aug & Sep & Oct & Nov & Dec\\\\\n",
       "\\hline\n",
       "\t2016 & 266.0 & 145.9 & 183.1 & 119.3 & 180.3 & 168.5 & 231.8 & 224.5 & 192.8 & 122.9 & 336.5 & 185.9\\\\\n",
       "\t2017 & 194.3 & 149.5 & 210.1 & 273.3 & 191.4 & 287.0 & 226.0 & 303.6 & 289.9 & 421.6 & 264.5 & 342.3\\\\\n",
       "\t2018 & 339.7 & 440.4 & 315.9 & 439.3 & 401.3 & 437.4 & 575.5 & 407.6 & 682.0 & 475.3 & 581.3 & 646.9\\\\\n",
       "\\end{tabular}\n"
      ],
      "text/plain": [
       "     Jan   Feb   Mar   Apr   May   Jun   Jul   Aug   Sep   Oct   Nov   Dec  \n",
       "2016 266.0 145.9 183.1 119.3 180.3 168.5 231.8 224.5 192.8 122.9 336.5 185.9\n",
       "2017 194.3 149.5 210.1 273.3 191.4 287.0 226.0 303.6 289.9 421.6 264.5 342.3\n",
       "2018 339.7 440.4 315.9 439.3 401.3 437.4 575.5 407.6 682.0 475.3 581.3 646.9"
      ]
     },
     "metadata": {},
     "output_type": "display_data"
    }
   ],
   "source": [
    "ts.sham = ts(df$Sales.of.shampoo.over.a.three.year.period, frequency = 12, start=c(2016,1))\n",
    "ts.sham"
   ]
  },
  {
   "cell_type": "markdown",
   "metadata": {},
   "source": [
    "### 4. Vẽ Time Series object vừa tạo."
   ]
  },
  {
   "cell_type": "code",
   "execution_count": 21,
   "metadata": {},
   "outputs": [
    {
     "data": {
      "image/png": "[encoded data removed]",
      "text/plain": [
       "Plot with title \"Shampoo sold from 01/2016 to 12/2018\""
      ]
     },
     "metadata": {},
     "output_type": "display_data"
    }
   ],
   "source": [
    "plot.ts(ts.sham, main='Shampoo sold from 01/2016 to 12/2018', ylab='quantity', xlab='month', col='blue')"
   ]
  },
  {
   "cell_type": "markdown",
   "metadata": {},
   "source": [
    "#### Nhận xét: dữ liệu này có một trend đi lên và hay giảm vào đầu hoặc giữa năm."
   ]
  },
  {
   "cell_type": "markdown",
   "metadata": {},
   "source": [
    "### 5. Thực hiện việc decompostition, nhận xét."
   ]
  },
  {
   "cell_type": "code",
   "execution_count": 12,
   "metadata": {},
   "outputs": [],
   "source": [
    "comp = decompose(ts.sham)"
   ]
  },
  {
   "cell_type": "code",
   "execution_count": 13,
   "metadata": {},
   "outputs": [
    {
     "name": "stderr",
     "output_type": "stream",
     "text": [
      "ERROR while rich displaying an object: Error in repr_matrix_generic(obj, \"\\n%s%s\\n\", sprintf(\"|%%s\\n|%s|\\n\", : formal argument \"cols\" matched by multiple actual arguments\n",
      "\n",
      "Traceback:\n",
      "1. FUN(X[[i]], ...)\n",
      "2. tryCatch(withCallingHandlers({\n",
      " .     if (!mime %in% names(repr::mime2repr)) \n",
      " .         stop(\"No repr_* for mimetype \", mime, \" in repr::mime2repr\")\n",
      " .     rpr <- repr::mime2repr[[mime]](obj)\n",
      " .     if (is.null(rpr)) \n",
      " .         return(NULL)\n",
      " .     prepare_content(is.raw(rpr), rpr)\n",
      " . }, error = error_handler), error = outer_handler)\n",
      "3. tryCatchList(expr, classes, parentenv, handlers)\n",
      "4. tryCatchOne(expr, names, parentenv, handlers[[1L]])\n",
      "5. doTryCatch(return(expr), name, parentenv, handler)\n",
      "6. withCallingHandlers({\n",
      " .     if (!mime %in% names(repr::mime2repr)) \n",
      " .         stop(\"No repr_* for mimetype \", mime, \" in repr::mime2repr\")\n",
      " .     rpr <- repr::mime2repr[[mime]](obj)\n",
      " .     if (is.null(rpr)) \n",
      " .         return(NULL)\n",
      " .     prepare_content(is.raw(rpr), rpr)\n",
      " . }, error = error_handler)\n",
      "7. repr::mime2repr[[mime]](obj)\n",
      "8. repr_markdown.ts(obj)\n",
      "9. repr_ts_generic(obj, repr_markdown.matrix, ...)\n",
      "10. repr_func(m, ..., rows = nrow(m), cols = ncol(m))\n"
     ]
    },
    {
     "data": {
      "text/html": [
       "<table>\n",
       "<thead><tr><th></th><th scope=col>Jan</th><th scope=col>Feb</th><th scope=col>Mar</th><th scope=col>Apr</th><th scope=col>May</th><th scope=col>Jun</th><th scope=col>Jul</th><th scope=col>Aug</th><th scope=col>Sep</th><th scope=col>Oct</th><th scope=col>Nov</th><th scope=col>Dec</th></tr></thead>\n",
       "<tbody>\n",
       "\t<tr><th scope=row>2016</th><td>266.0</td><td>145.9</td><td>183.1</td><td>119.3</td><td>180.3</td><td>168.5</td><td>231.8</td><td>224.5</td><td>192.8</td><td>122.9</td><td>336.5</td><td>185.9</td></tr>\n",
       "\t<tr><th scope=row>2017</th><td>194.3</td><td>149.5</td><td>210.1</td><td>273.3</td><td>191.4</td><td>287.0</td><td>226.0</td><td>303.6</td><td>289.9</td><td>421.6</td><td>264.5</td><td>342.3</td></tr>\n",
       "\t<tr><th scope=row>2018</th><td>339.7</td><td>440.4</td><td>315.9</td><td>439.3</td><td>401.3</td><td>437.4</td><td>575.5</td><td>407.6</td><td>682.0</td><td>475.3</td><td>581.3</td><td>646.9</td></tr>\n",
       "</tbody>\n",
       "</table>\n"
      ],
      "text/latex": [
       "\\begin{tabular}{r|llllllllllll}\n",
       "  & Jan & Feb & Mar & Apr & May & Jun & Jul & Aug & Sep & Oct & Nov & Dec\\\\\n",
       "\\hline\n",
       "\t2016 & 266.0 & 145.9 & 183.1 & 119.3 & 180.3 & 168.5 & 231.8 & 224.5 & 192.8 & 122.9 & 336.5 & 185.9\\\\\n",
       "\t2017 & 194.3 & 149.5 & 210.1 & 273.3 & 191.4 & 287.0 & 226.0 & 303.6 & 289.9 & 421.6 & 264.5 & 342.3\\\\\n",
       "\t2018 & 339.7 & 440.4 & 315.9 & 439.3 & 401.3 & 437.4 & 575.5 & 407.6 & 682.0 & 475.3 & 581.3 & 646.9\\\\\n",
       "\\end{tabular}\n"
      ],
      "text/plain": [
       "     Jan   Feb   Mar   Apr   May   Jun   Jul   Aug   Sep   Oct   Nov   Dec  \n",
       "2016 266.0 145.9 183.1 119.3 180.3 168.5 231.8 224.5 192.8 122.9 336.5 185.9\n",
       "2017 194.3 149.5 210.1 273.3 191.4 287.0 226.0 303.6 289.9 421.6 264.5 342.3\n",
       "2018 339.7 440.4 315.9 439.3 401.3 437.4 575.5 407.6 682.0 475.3 581.3 646.9"
      ]
     },
     "metadata": {},
     "output_type": "display_data"
    }
   ],
   "source": [
    "comp$x"
   ]
  },
  {
   "cell_type": "code",
   "execution_count": 14,
   "metadata": {},
   "outputs": [
    {
     "name": "stderr",
     "output_type": "stream",
     "text": [
      "ERROR while rich displaying an object: Error in repr_matrix_generic(obj, \"\\n%s%s\\n\", sprintf(\"|%%s\\n|%s|\\n\", : formal argument \"cols\" matched by multiple actual arguments\n",
      "\n",
      "Traceback:\n",
      "1. FUN(X[[i]], ...)\n",
      "2. tryCatch(withCallingHandlers({\n",
      " .     if (!mime %in% names(repr::mime2repr)) \n",
      " .         stop(\"No repr_* for mimetype \", mime, \" in repr::mime2repr\")\n",
      " .     rpr <- repr::mime2repr[[mime]](obj)\n",
      " .     if (is.null(rpr)) \n",
      " .         return(NULL)\n",
      " .     prepare_content(is.raw(rpr), rpr)\n",
      " . }, error = error_handler), error = outer_handler)\n",
      "3. tryCatchList(expr, classes, parentenv, handlers)\n",
      "4. tryCatchOne(expr, names, parentenv, handlers[[1L]])\n",
      "5. doTryCatch(return(expr), name, parentenv, handler)\n",
      "6. withCallingHandlers({\n",
      " .     if (!mime %in% names(repr::mime2repr)) \n",
      " .         stop(\"No repr_* for mimetype \", mime, \" in repr::mime2repr\")\n",
      " .     rpr <- repr::mime2repr[[mime]](obj)\n",
      " .     if (is.null(rpr)) \n",
      " .         return(NULL)\n",
      " .     prepare_content(is.raw(rpr), rpr)\n",
      " . }, error = error_handler)\n",
      "7. repr::mime2repr[[mime]](obj)\n",
      "8. repr_markdown.ts(obj)\n",
      "9. repr_ts_generic(obj, repr_markdown.matrix, ...)\n",
      "10. repr_func(m, ..., rows = nrow(m), cols = ncol(m))\n"
     ]
    },
    {
     "data": {
      "text/html": [
       "<table>\n",
       "<thead><tr><th></th><th scope=col>Jan</th><th scope=col>Feb</th><th scope=col>Mar</th><th scope=col>Apr</th><th scope=col>May</th><th scope=col>Jun</th><th scope=col>Jul</th><th scope=col>Aug</th><th scope=col>Sep</th><th scope=col>Oct</th><th scope=col>Nov</th><th scope=col>Dec</th></tr></thead>\n",
       "<tbody>\n",
       "\t<tr><th scope=row>2016</th><td>      NA</td><td>      NA</td><td>      NA</td><td>      NA</td><td>      NA</td><td>      NA</td><td>193.4708</td><td>190.6333</td><td>191.9083</td><td>199.4500</td><td>206.3292</td><td>211.7292</td></tr>\n",
       "\t<tr><th scope=row>2017</th><td>216.4250</td><td>219.4792</td><td>226.8208</td><td>243.3125</td><td>252.7583</td><td>256.2750</td><td>268.8500</td><td>287.0292</td><td>303.5583</td><td>314.8833</td><td>330.5458</td><td>345.5583</td></tr>\n",
       "\t<tr><th scope=row>2018</th><td>366.3875</td><td>385.2833</td><td>405.9542</td><td>424.5292</td><td>439.9667</td><td>465.8583</td><td>      NA</td><td>      NA</td><td>      NA</td><td>      NA</td><td>      NA</td><td>      NA</td></tr>\n",
       "</tbody>\n",
       "</table>\n"
      ],
      "text/latex": [
       "\\begin{tabular}{r|llllllllllll}\n",
       "  & Jan & Feb & Mar & Apr & May & Jun & Jul & Aug & Sep & Oct & Nov & Dec\\\\\n",
       "\\hline\n",
       "\t2016 &       NA &       NA &       NA &       NA &       NA &       NA & 193.4708 & 190.6333 & 191.9083 & 199.4500 & 206.3292 & 211.7292\\\\\n",
       "\t2017 & 216.4250 & 219.4792 & 226.8208 & 243.3125 & 252.7583 & 256.2750 & 268.8500 & 287.0292 & 303.5583 & 314.8833 & 330.5458 & 345.5583\\\\\n",
       "\t2018 & 366.3875 & 385.2833 & 405.9542 & 424.5292 & 439.9667 & 465.8583 &       NA &       NA &       NA &       NA &       NA &       NA\\\\\n",
       "\\end{tabular}\n"
      ],
      "text/plain": [
       "     Jan      Feb      Mar      Apr      May      Jun      Jul      Aug     \n",
       "2016       NA       NA       NA       NA       NA       NA 193.4708 190.6333\n",
       "2017 216.4250 219.4792 226.8208 243.3125 252.7583 256.2750 268.8500 287.0292\n",
       "2018 366.3875 385.2833 405.9542 424.5292 439.9667 465.8583       NA       NA\n",
       "     Sep      Oct      Nov      Dec     \n",
       "2016 191.9083 199.4500 206.3292 211.7292\n",
       "2017 303.5583 314.8833 330.5458 345.5583\n",
       "2018       NA       NA       NA       NA"
      ]
     },
     "metadata": {},
     "output_type": "display_data"
    }
   ],
   "source": [
    "comp$trend"
   ]
  },
  {
   "cell_type": "code",
   "execution_count": 15,
   "metadata": {},
   "outputs": [
    {
     "name": "stderr",
     "output_type": "stream",
     "text": [
      "ERROR while rich displaying an object: Error in repr_matrix_generic(obj, \"\\n%s%s\\n\", sprintf(\"|%%s\\n|%s|\\n\", : formal argument \"cols\" matched by multiple actual arguments\n",
      "\n",
      "Traceback:\n",
      "1. FUN(X[[i]], ...)\n",
      "2. tryCatch(withCallingHandlers({\n",
      " .     if (!mime %in% names(repr::mime2repr)) \n",
      " .         stop(\"No repr_* for mimetype \", mime, \" in repr::mime2repr\")\n",
      " .     rpr <- repr::mime2repr[[mime]](obj)\n",
      " .     if (is.null(rpr)) \n",
      " .         return(NULL)\n",
      " .     prepare_content(is.raw(rpr), rpr)\n",
      " . }, error = error_handler), error = outer_handler)\n",
      "3. tryCatchList(expr, classes, parentenv, handlers)\n",
      "4. tryCatchOne(expr, names, parentenv, handlers[[1L]])\n",
      "5. doTryCatch(return(expr), name, parentenv, handler)\n",
      "6. withCallingHandlers({\n",
      " .     if (!mime %in% names(repr::mime2repr)) \n",
      " .         stop(\"No repr_* for mimetype \", mime, \" in repr::mime2repr\")\n",
      " .     rpr <- repr::mime2repr[[mime]](obj)\n",
      " .     if (is.null(rpr)) \n",
      " .         return(NULL)\n",
      " .     prepare_content(is.raw(rpr), rpr)\n",
      " . }, error = error_handler)\n",
      "7. repr::mime2repr[[mime]](obj)\n",
      "8. repr_markdown.ts(obj)\n",
      "9. repr_ts_generic(obj, repr_markdown.matrix, ...)\n",
      "10. repr_func(m, ..., rows = nrow(m), cols = ncol(m))\n"
     ]
    },
    {
     "data": {
      "text/html": [
       "<table>\n",
       "<thead><tr><th></th><th scope=col>Jan</th><th scope=col>Feb</th><th scope=col>Mar</th><th scope=col>Apr</th><th scope=col>May</th><th scope=col>Jun</th><th scope=col>Jul</th><th scope=col>Aug</th><th scope=col>Sep</th><th scope=col>Oct</th><th scope=col>Nov</th><th scope=col>Dec</th></tr></thead>\n",
       "<tbody>\n",
       "\t<tr><th scope=row>2016</th><td>-19.193924</td><td> -2.218924</td><td>-48.175174</td><td> 27.591493</td><td>-44.800174</td><td>  6.345660</td><td>  2.951910</td><td> 30.431076</td><td> -1.171007</td><td> 20.295660</td><td> 37.274826</td><td> -9.331424</td></tr>\n",
       "\t<tr><th scope=row>2017</th><td>-19.193924</td><td> -2.218924</td><td>-48.175174</td><td> 27.591493</td><td>-44.800174</td><td>  6.345660</td><td>  2.951910</td><td> 30.431076</td><td> -1.171007</td><td> 20.295660</td><td> 37.274826</td><td> -9.331424</td></tr>\n",
       "\t<tr><th scope=row>2018</th><td>-19.193924</td><td> -2.218924</td><td>-48.175174</td><td> 27.591493</td><td>-44.800174</td><td>  6.345660</td><td>  2.951910</td><td> 30.431076</td><td> -1.171007</td><td> 20.295660</td><td> 37.274826</td><td> -9.331424</td></tr>\n",
       "</tbody>\n",
       "</table>\n"
      ],
      "text/latex": [
       "\\begin{tabular}{r|llllllllllll}\n",
       "  & Jan & Feb & Mar & Apr & May & Jun & Jul & Aug & Sep & Oct & Nov & Dec\\\\\n",
       "\\hline\n",
       "\t2016 & -19.193924 &  -2.218924 & -48.175174 &  27.591493 & -44.800174 &   6.345660 &   2.951910 &  30.431076 &  -1.171007 &  20.295660 &  37.274826 &  -9.331424\\\\\n",
       "\t2017 & -19.193924 &  -2.218924 & -48.175174 &  27.591493 & -44.800174 &   6.345660 &   2.951910 &  30.431076 &  -1.171007 &  20.295660 &  37.274826 &  -9.331424\\\\\n",
       "\t2018 & -19.193924 &  -2.218924 & -48.175174 &  27.591493 & -44.800174 &   6.345660 &   2.951910 &  30.431076 &  -1.171007 &  20.295660 &  37.274826 &  -9.331424\\\\\n",
       "\\end{tabular}\n"
      ],
      "text/plain": [
       "     Jan        Feb        Mar        Apr        May        Jun       \n",
       "2016 -19.193924  -2.218924 -48.175174  27.591493 -44.800174   6.345660\n",
       "2017 -19.193924  -2.218924 -48.175174  27.591493 -44.800174   6.345660\n",
       "2018 -19.193924  -2.218924 -48.175174  27.591493 -44.800174   6.345660\n",
       "     Jul        Aug        Sep        Oct        Nov        Dec       \n",
       "2016   2.951910  30.431076  -1.171007  20.295660  37.274826  -9.331424\n",
       "2017   2.951910  30.431076  -1.171007  20.295660  37.274826  -9.331424\n",
       "2018   2.951910  30.431076  -1.171007  20.295660  37.274826  -9.331424"
      ]
     },
     "metadata": {},
     "output_type": "display_data"
    }
   ],
   "source": [
    "comp$seasonal"
   ]
  },
  {
   "cell_type": "code",
   "execution_count": 16,
   "metadata": {},
   "outputs": [
    {
     "name": "stderr",
     "output_type": "stream",
     "text": [
      "ERROR while rich displaying an object: Error in repr_matrix_generic(obj, \"\\n%s%s\\n\", sprintf(\"|%%s\\n|%s|\\n\", : formal argument \"cols\" matched by multiple actual arguments\n",
      "\n",
      "Traceback:\n",
      "1. FUN(X[[i]], ...)\n",
      "2. tryCatch(withCallingHandlers({\n",
      " .     if (!mime %in% names(repr::mime2repr)) \n",
      " .         stop(\"No repr_* for mimetype \", mime, \" in repr::mime2repr\")\n",
      " .     rpr <- repr::mime2repr[[mime]](obj)\n",
      " .     if (is.null(rpr)) \n",
      " .         return(NULL)\n",
      " .     prepare_content(is.raw(rpr), rpr)\n",
      " . }, error = error_handler), error = outer_handler)\n",
      "3. tryCatchList(expr, classes, parentenv, handlers)\n",
      "4. tryCatchOne(expr, names, parentenv, handlers[[1L]])\n",
      "5. doTryCatch(return(expr), name, parentenv, handler)\n",
      "6. withCallingHandlers({\n",
      " .     if (!mime %in% names(repr::mime2repr)) \n",
      " .         stop(\"No repr_* for mimetype \", mime, \" in repr::mime2repr\")\n",
      " .     rpr <- repr::mime2repr[[mime]](obj)\n",
      " .     if (is.null(rpr)) \n",
      " .         return(NULL)\n",
      " .     prepare_content(is.raw(rpr), rpr)\n",
      " . }, error = error_handler)\n",
      "7. repr::mime2repr[[mime]](obj)\n",
      "8. repr_markdown.ts(obj)\n",
      "9. repr_ts_generic(obj, repr_markdown.matrix, ...)\n",
      "10. repr_func(m, ..., rows = nrow(m), cols = ncol(m))\n"
     ]
    },
    {
     "data": {
      "text/html": [
       "<table>\n",
       "<thead><tr><th></th><th scope=col>Jan</th><th scope=col>Feb</th><th scope=col>Mar</th><th scope=col>Apr</th><th scope=col>May</th><th scope=col>Jun</th><th scope=col>Jul</th><th scope=col>Aug</th><th scope=col>Sep</th><th scope=col>Oct</th><th scope=col>Nov</th><th scope=col>Dec</th></tr></thead>\n",
       "<tbody>\n",
       "\t<tr><th scope=row>2016</th><td>         NA</td><td>         NA</td><td>         NA</td><td>         NA</td><td>         NA</td><td>         NA</td><td>  35.377257</td><td>   3.435590</td><td>   2.062674</td><td> -96.845660</td><td>  92.896007</td><td> -16.497743</td></tr>\n",
       "\t<tr><th scope=row>2017</th><td>  -2.931076</td><td> -67.760243</td><td>  31.454340</td><td>   2.396007</td><td> -16.558160</td><td>  24.379340</td><td> -45.801910</td><td> -13.860243</td><td> -12.487326</td><td>  86.421007</td><td>-103.320660</td><td>   6.073090</td></tr>\n",
       "\t<tr><th scope=row>2018</th><td>  -7.493576</td><td>  57.335590</td><td> -41.878993</td><td> -12.820660</td><td>   6.133507</td><td> -34.803993</td><td>         NA</td><td>         NA</td><td>         NA</td><td>         NA</td><td>         NA</td><td>         NA</td></tr>\n",
       "</tbody>\n",
       "</table>\n"
      ],
      "text/latex": [
       "\\begin{tabular}{r|llllllllllll}\n",
       "  & Jan & Feb & Mar & Apr & May & Jun & Jul & Aug & Sep & Oct & Nov & Dec\\\\\n",
       "\\hline\n",
       "\t2016 &          NA &          NA &          NA &          NA &          NA &          NA &   35.377257 &    3.435590 &    2.062674 &  -96.845660 &   92.896007 &  -16.497743\\\\\n",
       "\t2017 &   -2.931076 &  -67.760243 &   31.454340 &    2.396007 &  -16.558160 &   24.379340 &  -45.801910 &  -13.860243 &  -12.487326 &   86.421007 & -103.320660 &    6.073090\\\\\n",
       "\t2018 &   -7.493576 &   57.335590 &  -41.878993 &  -12.820660 &    6.133507 &  -34.803993 &          NA &          NA &          NA &          NA &          NA &          NA\\\\\n",
       "\\end{tabular}\n"
      ],
      "text/plain": [
       "     Jan         Feb         Mar         Apr         May         Jun        \n",
       "2016          NA          NA          NA          NA          NA          NA\n",
       "2017   -2.931076  -67.760243   31.454340    2.396007  -16.558160   24.379340\n",
       "2018   -7.493576   57.335590  -41.878993  -12.820660    6.133507  -34.803993\n",
       "     Jul         Aug         Sep         Oct         Nov         Dec        \n",
       "2016   35.377257    3.435590    2.062674  -96.845660   92.896007  -16.497743\n",
       "2017  -45.801910  -13.860243  -12.487326   86.421007 -103.320660    6.073090\n",
       "2018          NA          NA          NA          NA          NA          NA"
      ]
     },
     "metadata": {},
     "output_type": "display_data"
    }
   ],
   "source": [
    "comp$random"
   ]
  },
  {
   "cell_type": "code",
   "execution_count": 17,
   "metadata": {},
   "outputs": [
    {
     "data": {
      "image/png": "[encoded data removed]",
      "text/plain": [
       "plot without title"
      ]
     },
     "metadata": {},
     "output_type": "display_data"
    }
   ],
   "source": [
    "plot(comp)"
   ]
  },
  {
   "cell_type": "markdown",
   "metadata": {},
   "source": [
    "#### Nhận xét:\n",
    "- Ta thấy dữ liệu này có một xu hướng tăng dài từ tháng 7/2016 đến tháng 6/2018.\n",
    "- Những tháng còn lại dữ liệu cho thấy sự biến động lớn của mỗi tháng nên không thể hình thành trend.\n",
    "- Suy ra: thời tiết có thể ảnh hưởng việc tắm => có yếu tố mùa, có tăng giảm => dùng HES để dự đoán."
   ]
  },
  {
   "cell_type": "markdown",
   "metadata": {},
   "source": [
    "### 6. Thực hiện việc dự báo và vẽ biểu đồ so sánh với thực tiễn."
   ]
  },
  {
   "cell_type": "code",
   "execution_count": 22,
   "metadata": {},
   "outputs": [
    {
     "name": "stderr",
     "output_type": "stream",
     "text": [
      "Registered S3 methods overwritten by 'ggplot2':\n",
      "  method         from \n",
      "  [.quosures     rlang\n",
      "  c.quosures     rlang\n",
      "  print.quosures rlang\n",
      "Registered S3 method overwritten by 'xts':\n",
      "  method     from\n",
      "  as.zoo.xts zoo \n",
      "Registered S3 method overwritten by 'quantmod':\n",
      "  method            from\n",
      "  as.zoo.data.frame zoo \n",
      "Registered S3 methods overwritten by 'forecast':\n",
      "  method             from    \n",
      "  fitted.fracdiff    fracdiff\n",
      "  residuals.fracdiff fracdiff\n"
     ]
    }
   ],
   "source": [
    "library(\"forecast\")"
   ]
  },
  {
   "cell_type": "code",
   "execution_count": 50,
   "metadata": {},
   "outputs": [
    {
     "data": {
      "text/plain": [
       "Holt-Winters exponential smoothing with trend and additive seasonal component.\n",
       "\n",
       "Call:\n",
       "HoltWinters(x = ts.sham)\n",
       "\n",
       "Smoothing parameters:\n",
       " alpha: 0.0462919\n",
       " beta : 1\n",
       " gamma: 0.3092983\n",
       "\n",
       "Coefficients:\n",
       "          [,1]\n",
       "a   581.614100\n",
       "b    25.523251\n",
       "s1   -7.456334\n",
       "s2  -17.598651\n",
       "s3  -26.048267\n",
       "s4   39.317793\n",
       "s5  -42.846783\n",
       "s6   23.775660\n",
       "s7   47.481528\n",
       "s8    2.009811\n",
       "s9   57.587196\n",
       "s10 -27.206978\n",
       "s11  61.163580\n",
       "s12  12.560525"
      ]
     },
     "metadata": {},
     "output_type": "display_data"
    }
   ],
   "source": [
    "forecast.sham = HoltWinters(ts.sham)\n",
    "forecast.sham"
   ]
  },
  {
   "cell_type": "markdown",
   "metadata": {},
   "source": [
    "* alpha không cao cho thấy giá trị hiện tại ko có trọng số cao trong việc dự đoán tương lai.\n",
    "* beta = 1 vì từ phân tích trước dữ liệu này hình thành trend rất mạnh.\n",
    "* gamma = 0.3 cho thấy yếu tố mùa không ảnh hưởng nhiều tới số lượng bán dầu gội nhiều."
   ]
  },
  {
   "cell_type": "code",
   "execution_count": 51,
   "metadata": {},
   "outputs": [
    {
     "data": {
      "image/png": "[encoded data removed]",
      "text/plain": [
       "Plot with title \"Holt-Winters filtering\""
      ]
     },
     "metadata": {},
     "output_type": "display_data"
    }
   ],
   "source": [
    "plot(forecast.sham)"
   ]
  },
  {
   "cell_type": "markdown",
   "metadata": {},
   "source": [
    "* Ta thấy dự báo khá chính xác ở một vài thời điểm đầu năm 2017 đến đầu năm 2018.\n",
    "* Còn lại tuy không dự đoán chính xác số lượng nhưng trend cũng rất đúng, phù hợp với số alpha và beta."
   ]
  },
  {
   "cell_type": "markdown",
   "metadata": {},
   "source": [
    "### 7. Dự đoán lượng sales cho 6 tháng tiếp theo."
   ]
  },
  {
   "cell_type": "code",
   "execution_count": 52,
   "metadata": {},
   "outputs": [
    {
     "data": {
      "text/plain": [
       "         Point Forecast    Lo 80    Hi 80    Lo 95    Hi 95\n",
       "Jan 2019       599.6810 487.5725 711.7895 428.2259 771.1361\n",
       "Feb 2019       615.0620 502.4740 727.6499 442.8736 787.2504\n",
       "Mar 2019       632.1356 518.4763 745.7949 458.3086 805.9625\n",
       "Apr 2019       723.0249 607.4854 838.5644 546.3225 899.7273\n",
       "May 2019       666.3836 547.9661 784.8011 485.2796 847.4875\n",
       "Jun 2019       758.5293 636.0862 880.9723 571.2688 945.7897"
      ]
     },
     "metadata": {},
     "output_type": "display_data"
    }
   ],
   "source": [
    "HES.forecast.new = forecast:::forecast.HoltWinters(forecast.sham, h=6)\n",
    "HES.forecast.new"
   ]
  },
  {
   "cell_type": "markdown",
   "metadata": {},
   "source": [
    "HoltWinters cung cấp giá trị dự đoán và khoảng tin cậy 80 - 95%. Ví dụ: số lượng shampoo tháng 1/2019 là 599.6810, khoảng tin cậy 95% từ 427 đến 771."
   ]
  },
  {
   "cell_type": "code",
   "execution_count": 53,
   "metadata": {},
   "outputs": [
    {
     "data": {
      "image/png": "[encoded data removed]",
      "text/plain": [
       "Plot with title \"Forecasts from HoltWinters\""
      ]
     },
     "metadata": {},
     "output_type": "display_data"
    }
   ],
   "source": [
    "plot(HES.forecast.new)"
   ]
  },
  {
   "cell_type": "markdown",
   "metadata": {},
   "source": [
    "* Dự đoán đầu năm 2019 sẽ giảm nhẹ số lượng bán và tăng dần đến giữa năm 2019."
   ]
  },
  {
   "cell_type": "code",
   "execution_count": null,
   "metadata": {},
   "outputs": [],
   "source": []
  }
 ],
 "metadata": {
  "kernelspec": {
   "display_name": "R",
   "language": "R",
   "name": "ir"
  },
  "language_info": {
   "codemirror_mode": "r",
   "file_extension": ".r",
   "mimetype": "text/x-r-source",
   "name": "R",
   "pygments_lexer": "r",
   "version": "3.6.1"
  }
 },
 "nbformat": 4,
 "nbformat_minor": 4
}
