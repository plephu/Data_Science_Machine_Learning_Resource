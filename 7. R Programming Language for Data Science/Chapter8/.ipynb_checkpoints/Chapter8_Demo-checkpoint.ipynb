{
 "cells": [
  {
   "cell_type": "code",
   "execution_count": 2,
   "id": "63c4cda4-0550-41ce-823b-c9aab6f7e866",
   "metadata": {},
   "outputs": [],
   "source": [
    "students_1 <- data.frame(\"name\" = c('Hellen', 'Jolie','Kiwi','John','Mark','Tom'),\n",
    "                         'age' = c(17,16,17,18,19,16),\n",
    "                         \"mark\" = c(9,9,8,7.5,7.5,8),\n",
    "                         stringAsFactors =FALSE\n",
    "                        )"
   ]
  },
  {
   "cell_type": "code",
   "execution_count": 4,
   "id": "166063f6-8cb3-4e4e-9149-313209ae24a0",
   "metadata": {},
   "outputs": [],
   "source": [
    "name <- c('Hellen', 'Jolie','Kiwi','John','Mark','Tom')\n",
    "age <- c(17,16,17,18,19,16)\n",
    "mark <-c(9,9,8,7.5,7.5,8)\n",
    "students  <- data.frame(name,age,mark,stringsAsFactors = FALSE)"
   ]
  },
  {
   "cell_type": "code",
   "execution_count": 5,
   "id": "f1e62f7d-e7ce-4daa-822b-1ada091ab311",
   "metadata": {},
   "outputs": [
    {
     "name": "stdout",
     "output_type": "stream",
     "text": [
      "'data.frame':\t6 obs. of  3 variables:\n",
      " $ name: chr  \"Hellen\" \"Jolie\" \"Kiwi\" \"John\" ...\n",
      " $ age : num  17 16 17 18 19 16\n",
      " $ mark: num  9 9 8 7.5 7.5 8\n"
     ]
    }
   ],
   "source": [
    "str(students)"
   ]
  },
  {
   "cell_type": "code",
   "execution_count": null,
   "id": "9ce8bbe5-9cd0-40f9-a757-ad14baebace1",
   "metadata": {},
   "outputs": [],
   "source": []
  },
  {
   "cell_type": "code",
   "execution_count": null,
   "id": "71f56b22-1110-4d37-b012-cc01587f8c77",
   "metadata": {},
   "outputs": [],
   "source": []
  },
  {
   "cell_type": "code",
   "execution_count": null,
   "id": "c9d3180f-db7a-42cf-b31d-9eefcdc64575",
   "metadata": {},
   "outputs": [],
   "source": []
  }
 ],
 "metadata": {
  "kernelspec": {
   "display_name": "R",
   "language": "R",
   "name": "ir"
  },
  "language_info": {
   "codemirror_mode": "r",
   "file_extension": ".r",
   "mimetype": "text/x-r-source",
   "name": "R",
   "pygments_lexer": "r",
   "version": "4.3.1"
  }
 },
 "nbformat": 4,
 "nbformat_minor": 5
}
