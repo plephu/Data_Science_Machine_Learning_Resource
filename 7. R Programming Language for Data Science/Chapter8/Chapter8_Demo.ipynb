{
 "cells": [
  {
   "cell_type": "markdown",
   "id": "0117daf0-8685-4146-9b96-1c222a2b1759",
   "metadata": {},
   "source": [
    "# Dataframe"
   ]
  },
  {
   "cell_type": "markdown",
   "id": "d204f05f-8c0f-4698-98b0-8c9abe242318",
   "metadata": {},
   "source": [
    "### Tạo Dataframe"
   ]
  },
  {
   "cell_type": "code",
   "execution_count": 17,
   "id": "63c4cda4-0550-41ce-823b-c9aab6f7e866",
   "metadata": {},
   "outputs": [],
   "source": [
    "students_1 <- data.frame(\"name\" = c('Hellen', 'Jolie','Kiwi','John','Mark','Tom'),\n",
    "                         'age' = c(17,16,17,18,19,16),\n",
    "                         \"mark\" = c(9,9,8,7.5,7.5,8),\n",
    "                         stringsAsFactors =FALSE\n",
    "                        )"
   ]
  },
  {
   "cell_type": "code",
   "execution_count": 4,
   "id": "166063f6-8cb3-4e4e-9149-313209ae24a0",
   "metadata": {},
   "outputs": [],
   "source": [
    "name <- c('Hellen', 'Jolie','Kiwi','John','Mark','Tom')\n",
    "age <- c(17,16,17,18,19,16)\n",
    "mark <-c(9,9,8,7.5,7.5,8)\n",
    "students  <- data.frame(name,age,mark,stringsAsFactors = FALSE)"
   ]
  },
  {
   "cell_type": "markdown",
   "id": "e710f0ec-3764-43f9-9deb-6533cd4be9b7",
   "metadata": {},
   "source": [
    "### Xem cấu trúc Dataframe"
   ]
  },
  {
   "cell_type": "code",
   "execution_count": 5,
   "id": "f1e62f7d-e7ce-4daa-822b-1ada091ab311",
   "metadata": {},
   "outputs": [
    {
     "name": "stdout",
     "output_type": "stream",
     "text": [
      "'data.frame':\t6 obs. of  3 variables:\n",
      " $ name: chr  \"Hellen\" \"Jolie\" \"Kiwi\" \"John\" ...\n",
      " $ age : num  17 16 17 18 19 16\n",
      " $ mark: num  9 9 8 7.5 7.5 8\n"
     ]
    }
   ],
   "source": [
    "str(students)"
   ]
  },
  {
   "cell_type": "code",
   "execution_count": 6,
   "id": "9ce8bbe5-9cd0-40f9-a757-ad14baebace1",
   "metadata": {},
   "outputs": [
    {
     "name": "stdout",
     "output_type": "stream",
     "text": [
      "     name                age             mark      \n",
      " Length:6           Min.   :16.00   Min.   :7.500  \n",
      " Class :character   1st Qu.:16.25   1st Qu.:7.625  \n",
      " Mode  :character   Median :17.00   Median :8.000  \n",
      "                    Mean   :17.17   Mean   :8.167  \n",
      "                    3rd Qu.:17.75   3rd Qu.:8.750  \n",
      "                    Max.   :19.00   Max.   :9.000  \n"
     ]
    }
   ],
   "source": [
    "print(summary(students))"
   ]
  },
  {
   "cell_type": "markdown",
   "id": "319a7fec-70a7-4a18-affd-070336a9854f",
   "metadata": {},
   "source": [
    "### Trích xuất dữ liệu từ dataframe"
   ]
  },
  {
   "cell_type": "code",
   "execution_count": 7,
   "id": "71f56b22-1110-4d37-b012-cc01587f8c77",
   "metadata": {},
   "outputs": [
    {
     "name": "stdout",
     "output_type": "stream",
     "text": [
      "[1] 9.0 9.0 8.0 7.5 7.5 8.0\n"
     ]
    }
   ],
   "source": [
    "print(students$mark)"
   ]
  },
  {
   "cell_type": "code",
   "execution_count": 8,
   "id": "c9d3180f-db7a-42cf-b31d-9eefcdc64575",
   "metadata": {},
   "outputs": [
    {
     "name": "stdout",
     "output_type": "stream",
     "text": [
      "    name age\n",
      "1 Hellen  17\n",
      "2  Jolie  16\n",
      "3   Kiwi  17\n",
      "4   John  18\n",
      "5   Mark  19\n",
      "6    Tom  16\n"
     ]
    }
   ],
   "source": [
    "print(students[1:2],)"
   ]
  },
  {
   "cell_type": "code",
   "execution_count": 9,
   "id": "529f7643-6da9-4cc4-bb23-cac7fb0eb60f",
   "metadata": {},
   "outputs": [
    {
     "name": "stdout",
     "output_type": "stream",
     "text": [
      "  students.age\n",
      "1           17\n",
      "2           16\n",
      "3           17\n",
      "4           18\n",
      "5           19\n",
      "6           16\n"
     ]
    }
   ],
   "source": [
    "print(data.frame(students$age))"
   ]
  },
  {
   "cell_type": "code",
   "execution_count": 11,
   "id": "6a8d6373-935c-42b5-9606-06c23333fd8f",
   "metadata": {},
   "outputs": [
    {
     "name": "stdout",
     "output_type": "stream",
     "text": [
      "  name age\n",
      "3 Kiwi  17\n",
      "5 Mark  19\n"
     ]
    }
   ],
   "source": [
    "print(students[c(3,5), c(1,2)])"
   ]
  },
  {
   "cell_type": "markdown",
   "id": "9acaff9d-2335-4ff4-b177-3dd82191d511",
   "metadata": {},
   "source": [
    "### Mở rộng data frame"
   ]
  },
  {
   "cell_type": "code",
   "execution_count": 14,
   "id": "80d2a17f-6853-47a2-ac73-353cb1b41595",
   "metadata": {},
   "outputs": [],
   "source": [
    "students$class <- c('k256_S7N','k256_S7N','k256_S24','k256_S7N','k256_S24','k256_S7N')"
   ]
  },
  {
   "cell_type": "code",
   "execution_count": 15,
   "id": "abedb825-63c9-46b0-b91a-f31737ceb353",
   "metadata": {},
   "outputs": [
    {
     "data": {
      "text/html": [
       "<table class=\"dataframe\">\n",
       "<caption>A data.frame: 6 × 4</caption>\n",
       "<thead>\n",
       "\t<tr><th scope=col>name</th><th scope=col>age</th><th scope=col>mark</th><th scope=col>class</th></tr>\n",
       "\t<tr><th scope=col>&lt;chr&gt;</th><th scope=col>&lt;dbl&gt;</th><th scope=col>&lt;dbl&gt;</th><th scope=col>&lt;chr&gt;</th></tr>\n",
       "</thead>\n",
       "<tbody>\n",
       "\t<tr><td>Hellen</td><td>17</td><td>9.0</td><td>k256_S7N</td></tr>\n",
       "\t<tr><td>Jolie </td><td>16</td><td>9.0</td><td>k256_S7N</td></tr>\n",
       "\t<tr><td>Kiwi  </td><td>17</td><td>8.0</td><td>k256_S24</td></tr>\n",
       "\t<tr><td>John  </td><td>18</td><td>7.5</td><td>k256_S7N</td></tr>\n",
       "\t<tr><td>Mark  </td><td>19</td><td>7.5</td><td>k256_S24</td></tr>\n",
       "\t<tr><td>Tom   </td><td>16</td><td>8.0</td><td>k256_S7N</td></tr>\n",
       "</tbody>\n",
       "</table>\n"
      ],
      "text/latex": [
       "A data.frame: 6 × 4\n",
       "\\begin{tabular}{llll}\n",
       " name & age & mark & class\\\\\n",
       " <chr> & <dbl> & <dbl> & <chr>\\\\\n",
       "\\hline\n",
       "\t Hellen & 17 & 9.0 & k256\\_S7N\\\\\n",
       "\t Jolie  & 16 & 9.0 & k256\\_S7N\\\\\n",
       "\t Kiwi   & 17 & 8.0 & k256\\_S24\\\\\n",
       "\t John   & 18 & 7.5 & k256\\_S7N\\\\\n",
       "\t Mark   & 19 & 7.5 & k256\\_S24\\\\\n",
       "\t Tom    & 16 & 8.0 & k256\\_S7N\\\\\n",
       "\\end{tabular}\n"
      ],
      "text/markdown": [
       "\n",
       "A data.frame: 6 × 4\n",
       "\n",
       "| name &lt;chr&gt; | age &lt;dbl&gt; | mark &lt;dbl&gt; | class &lt;chr&gt; |\n",
       "|---|---|---|---|\n",
       "| Hellen | 17 | 9.0 | k256_S7N |\n",
       "| Jolie  | 16 | 9.0 | k256_S7N |\n",
       "| Kiwi   | 17 | 8.0 | k256_S24 |\n",
       "| John   | 18 | 7.5 | k256_S7N |\n",
       "| Mark   | 19 | 7.5 | k256_S24 |\n",
       "| Tom    | 16 | 8.0 | k256_S7N |\n",
       "\n"
      ],
      "text/plain": [
       "  name   age mark class   \n",
       "1 Hellen 17  9.0  k256_S7N\n",
       "2 Jolie  16  9.0  k256_S7N\n",
       "3 Kiwi   17  8.0  k256_S24\n",
       "4 John   18  7.5  k256_S7N\n",
       "5 Mark   19  7.5  k256_S24\n",
       "6 Tom    16  8.0  k256_S7N"
      ]
     },
     "metadata": {},
     "output_type": "display_data"
    }
   ],
   "source": [
    "students"
   ]
  },
  {
   "cell_type": "code",
   "execution_count": 18,
   "id": "9f7015d1-4306-4d59-8970-8191c174cf7b",
   "metadata": {},
   "outputs": [
    {
     "data": {
      "text/html": [
       "<table class=\"dataframe\">\n",
       "<caption>A data.frame: 6 × 3</caption>\n",
       "<thead>\n",
       "\t<tr><th scope=col>name</th><th scope=col>age</th><th scope=col>mark</th></tr>\n",
       "\t<tr><th scope=col>&lt;chr&gt;</th><th scope=col>&lt;dbl&gt;</th><th scope=col>&lt;dbl&gt;</th></tr>\n",
       "</thead>\n",
       "<tbody>\n",
       "\t<tr><td>Hellen</td><td>17</td><td>9.0</td></tr>\n",
       "\t<tr><td>Jolie </td><td>16</td><td>9.0</td></tr>\n",
       "\t<tr><td>Kiwi  </td><td>17</td><td>8.0</td></tr>\n",
       "\t<tr><td>John  </td><td>18</td><td>7.5</td></tr>\n",
       "\t<tr><td>Mark  </td><td>19</td><td>7.5</td></tr>\n",
       "\t<tr><td>Tom   </td><td>16</td><td>8.0</td></tr>\n",
       "</tbody>\n",
       "</table>\n"
      ],
      "text/latex": [
       "A data.frame: 6 × 3\n",
       "\\begin{tabular}{lll}\n",
       " name & age & mark\\\\\n",
       " <chr> & <dbl> & <dbl>\\\\\n",
       "\\hline\n",
       "\t Hellen & 17 & 9.0\\\\\n",
       "\t Jolie  & 16 & 9.0\\\\\n",
       "\t Kiwi   & 17 & 8.0\\\\\n",
       "\t John   & 18 & 7.5\\\\\n",
       "\t Mark   & 19 & 7.5\\\\\n",
       "\t Tom    & 16 & 8.0\\\\\n",
       "\\end{tabular}\n"
      ],
      "text/markdown": [
       "\n",
       "A data.frame: 6 × 3\n",
       "\n",
       "| name &lt;chr&gt; | age &lt;dbl&gt; | mark &lt;dbl&gt; |\n",
       "|---|---|---|\n",
       "| Hellen | 17 | 9.0 |\n",
       "| Jolie  | 16 | 9.0 |\n",
       "| Kiwi   | 17 | 8.0 |\n",
       "| John   | 18 | 7.5 |\n",
       "| Mark   | 19 | 7.5 |\n",
       "| Tom    | 16 | 8.0 |\n",
       "\n"
      ],
      "text/plain": [
       "  name   age mark\n",
       "1 Hellen 17  9.0 \n",
       "2 Jolie  16  9.0 \n",
       "3 Kiwi   17  8.0 \n",
       "4 John   18  7.5 \n",
       "5 Mark   19  7.5 \n",
       "6 Tom    16  8.0 "
      ]
     },
     "metadata": {},
     "output_type": "display_data"
    }
   ],
   "source": [
    "students_1"
   ]
  },
  {
   "cell_type": "code",
   "execution_count": 19,
   "id": "0e22e05a-8fcd-46ec-a8c6-c79e22dac580",
   "metadata": {},
   "outputs": [],
   "source": [
    "df_POB <- data.frame(\"POB\" = c('UK','US','EU','UK','US','EU'))\n",
    "students <- cbind(students,df_POB)"
   ]
  },
  {
   "cell_type": "code",
   "execution_count": 20,
   "id": "495d3a48-c074-42a4-94c1-8295f89b79dc",
   "metadata": {},
   "outputs": [
    {
     "data": {
      "text/html": [
       "<table class=\"dataframe\">\n",
       "<caption>A data.frame: 6 × 5</caption>\n",
       "<thead>\n",
       "\t<tr><th scope=col>name</th><th scope=col>age</th><th scope=col>mark</th><th scope=col>class</th><th scope=col>POB</th></tr>\n",
       "\t<tr><th scope=col>&lt;chr&gt;</th><th scope=col>&lt;dbl&gt;</th><th scope=col>&lt;dbl&gt;</th><th scope=col>&lt;chr&gt;</th><th scope=col>&lt;chr&gt;</th></tr>\n",
       "</thead>\n",
       "<tbody>\n",
       "\t<tr><td>Hellen</td><td>17</td><td>9.0</td><td>k256_S7N</td><td>UK</td></tr>\n",
       "\t<tr><td>Jolie </td><td>16</td><td>9.0</td><td>k256_S7N</td><td>US</td></tr>\n",
       "\t<tr><td>Kiwi  </td><td>17</td><td>8.0</td><td>k256_S24</td><td>EU</td></tr>\n",
       "\t<tr><td>John  </td><td>18</td><td>7.5</td><td>k256_S7N</td><td>UK</td></tr>\n",
       "\t<tr><td>Mark  </td><td>19</td><td>7.5</td><td>k256_S24</td><td>US</td></tr>\n",
       "\t<tr><td>Tom   </td><td>16</td><td>8.0</td><td>k256_S7N</td><td>EU</td></tr>\n",
       "</tbody>\n",
       "</table>\n"
      ],
      "text/latex": [
       "A data.frame: 6 × 5\n",
       "\\begin{tabular}{lllll}\n",
       " name & age & mark & class & POB\\\\\n",
       " <chr> & <dbl> & <dbl> & <chr> & <chr>\\\\\n",
       "\\hline\n",
       "\t Hellen & 17 & 9.0 & k256\\_S7N & UK\\\\\n",
       "\t Jolie  & 16 & 9.0 & k256\\_S7N & US\\\\\n",
       "\t Kiwi   & 17 & 8.0 & k256\\_S24 & EU\\\\\n",
       "\t John   & 18 & 7.5 & k256\\_S7N & UK\\\\\n",
       "\t Mark   & 19 & 7.5 & k256\\_S24 & US\\\\\n",
       "\t Tom    & 16 & 8.0 & k256\\_S7N & EU\\\\\n",
       "\\end{tabular}\n"
      ],
      "text/markdown": [
       "\n",
       "A data.frame: 6 × 5\n",
       "\n",
       "| name &lt;chr&gt; | age &lt;dbl&gt; | mark &lt;dbl&gt; | class &lt;chr&gt; | POB &lt;chr&gt; |\n",
       "|---|---|---|---|---|\n",
       "| Hellen | 17 | 9.0 | k256_S7N | UK |\n",
       "| Jolie  | 16 | 9.0 | k256_S7N | US |\n",
       "| Kiwi   | 17 | 8.0 | k256_S24 | EU |\n",
       "| John   | 18 | 7.5 | k256_S7N | UK |\n",
       "| Mark   | 19 | 7.5 | k256_S24 | US |\n",
       "| Tom    | 16 | 8.0 | k256_S7N | EU |\n",
       "\n"
      ],
      "text/plain": [
       "  name   age mark class    POB\n",
       "1 Hellen 17  9.0  k256_S7N UK \n",
       "2 Jolie  16  9.0  k256_S7N US \n",
       "3 Kiwi   17  8.0  k256_S24 EU \n",
       "4 John   18  7.5  k256_S7N UK \n",
       "5 Mark   19  7.5  k256_S24 US \n",
       "6 Tom    16  8.0  k256_S7N EU "
      ]
     },
     "metadata": {},
     "output_type": "display_data"
    }
   ],
   "source": [
    "students"
   ]
  },
  {
   "cell_type": "code",
   "execution_count": 22,
   "id": "cb8fe7d3-7f3d-4c2f-ba4d-c9df765f3298",
   "metadata": {},
   "outputs": [],
   "source": [
    "new_students = data.frame(\"name\" = c('Sunny','Lucy'),\n",
    "                         'age' = c(17,18),\n",
    "                         \"mark\" = c(8,9),\n",
    "                          \"class\" = c('k256_S7N','k256_S24'),\n",
    "                          'POB' = c('EU','UK'),           \n",
    "                         stringsAsFactors =FALSE)"
   ]
  },
  {
   "cell_type": "code",
   "execution_count": 26,
   "id": "5edfa291-405f-4704-a0ed-f4eb3d2a0d36",
   "metadata": {},
   "outputs": [
    {
     "name": "stdout",
     "output_type": "stream",
     "text": [
      "   name age mark    class POB\n",
      "1 Sunny  17    8 k256_S7N  EU\n",
      "2  Lucy  18    9 k256_S24  UK\n"
     ]
    }
   ],
   "source": [
    "print(new_students)"
   ]
  },
  {
   "cell_type": "code",
   "execution_count": 24,
   "id": "542c70f2-91d1-4cf6-9ffd-b3921a553a29",
   "metadata": {},
   "outputs": [],
   "source": [
    "students = rbind(students,new_students)"
   ]
  },
  {
   "cell_type": "code",
   "execution_count": 25,
   "id": "06540b02-4773-415b-b774-584063976430",
   "metadata": {},
   "outputs": [
    {
     "data": {
      "text/html": [
       "<table class=\"dataframe\">\n",
       "<caption>A data.frame: 8 × 5</caption>\n",
       "<thead>\n",
       "\t<tr><th scope=col>name</th><th scope=col>age</th><th scope=col>mark</th><th scope=col>class</th><th scope=col>POB</th></tr>\n",
       "\t<tr><th scope=col>&lt;chr&gt;</th><th scope=col>&lt;dbl&gt;</th><th scope=col>&lt;dbl&gt;</th><th scope=col>&lt;chr&gt;</th><th scope=col>&lt;chr&gt;</th></tr>\n",
       "</thead>\n",
       "<tbody>\n",
       "\t<tr><td>Hellen</td><td>17</td><td>9.0</td><td>k256_S7N</td><td>UK</td></tr>\n",
       "\t<tr><td>Jolie </td><td>16</td><td>9.0</td><td>k256_S7N</td><td>US</td></tr>\n",
       "\t<tr><td>Kiwi  </td><td>17</td><td>8.0</td><td>k256_S24</td><td>EU</td></tr>\n",
       "\t<tr><td>John  </td><td>18</td><td>7.5</td><td>k256_S7N</td><td>UK</td></tr>\n",
       "\t<tr><td>Mark  </td><td>19</td><td>7.5</td><td>k256_S24</td><td>US</td></tr>\n",
       "\t<tr><td>Tom   </td><td>16</td><td>8.0</td><td>k256_S7N</td><td>EU</td></tr>\n",
       "\t<tr><td>Sunny </td><td>17</td><td>8.0</td><td>k256_S7N</td><td>EU</td></tr>\n",
       "\t<tr><td>Lucy  </td><td>18</td><td>9.0</td><td>k256_S24</td><td>UK</td></tr>\n",
       "</tbody>\n",
       "</table>\n"
      ],
      "text/latex": [
       "A data.frame: 8 × 5\n",
       "\\begin{tabular}{lllll}\n",
       " name & age & mark & class & POB\\\\\n",
       " <chr> & <dbl> & <dbl> & <chr> & <chr>\\\\\n",
       "\\hline\n",
       "\t Hellen & 17 & 9.0 & k256\\_S7N & UK\\\\\n",
       "\t Jolie  & 16 & 9.0 & k256\\_S7N & US\\\\\n",
       "\t Kiwi   & 17 & 8.0 & k256\\_S24 & EU\\\\\n",
       "\t John   & 18 & 7.5 & k256\\_S7N & UK\\\\\n",
       "\t Mark   & 19 & 7.5 & k256\\_S24 & US\\\\\n",
       "\t Tom    & 16 & 8.0 & k256\\_S7N & EU\\\\\n",
       "\t Sunny  & 17 & 8.0 & k256\\_S7N & EU\\\\\n",
       "\t Lucy   & 18 & 9.0 & k256\\_S24 & UK\\\\\n",
       "\\end{tabular}\n"
      ],
      "text/markdown": [
       "\n",
       "A data.frame: 8 × 5\n",
       "\n",
       "| name &lt;chr&gt; | age &lt;dbl&gt; | mark &lt;dbl&gt; | class &lt;chr&gt; | POB &lt;chr&gt; |\n",
       "|---|---|---|---|---|\n",
       "| Hellen | 17 | 9.0 | k256_S7N | UK |\n",
       "| Jolie  | 16 | 9.0 | k256_S7N | US |\n",
       "| Kiwi   | 17 | 8.0 | k256_S24 | EU |\n",
       "| John   | 18 | 7.5 | k256_S7N | UK |\n",
       "| Mark   | 19 | 7.5 | k256_S24 | US |\n",
       "| Tom    | 16 | 8.0 | k256_S7N | EU |\n",
       "| Sunny  | 17 | 8.0 | k256_S7N | EU |\n",
       "| Lucy   | 18 | 9.0 | k256_S24 | UK |\n",
       "\n"
      ],
      "text/plain": [
       "  name   age mark class    POB\n",
       "1 Hellen 17  9.0  k256_S7N UK \n",
       "2 Jolie  16  9.0  k256_S7N US \n",
       "3 Kiwi   17  8.0  k256_S24 EU \n",
       "4 John   18  7.5  k256_S7N UK \n",
       "5 Mark   19  7.5  k256_S24 US \n",
       "6 Tom    16  8.0  k256_S7N EU \n",
       "7 Sunny  17  8.0  k256_S7N EU \n",
       "8 Lucy   18  9.0  k256_S24 UK "
      ]
     },
     "metadata": {},
     "output_type": "display_data"
    }
   ],
   "source": [
    "students"
   ]
  },
  {
   "cell_type": "markdown",
   "id": "1d4aebab-3663-4f25-8d6a-0ce481b57f6d",
   "metadata": {},
   "source": [
    "### Thay đổi tên cột"
   ]
  },
  {
   "cell_type": "code",
   "execution_count": 27,
   "id": "e0c87997-a46f-42d3-996f-689eeadf69f6",
   "metadata": {},
   "outputs": [],
   "source": [
    "names(students)[names(students) == 'POB'] = 'Place_of_bith'"
   ]
  },
  {
   "cell_type": "code",
   "execution_count": 28,
   "id": "fc2608c9-084f-4af3-bc32-a72e4a4d40f3",
   "metadata": {},
   "outputs": [
    {
     "data": {
      "text/html": [
       "<table class=\"dataframe\">\n",
       "<caption>A data.frame: 6 × 5</caption>\n",
       "<thead>\n",
       "\t<tr><th></th><th scope=col>name</th><th scope=col>age</th><th scope=col>mark</th><th scope=col>class</th><th scope=col>Place_of_bith</th></tr>\n",
       "\t<tr><th></th><th scope=col>&lt;chr&gt;</th><th scope=col>&lt;dbl&gt;</th><th scope=col>&lt;dbl&gt;</th><th scope=col>&lt;chr&gt;</th><th scope=col>&lt;chr&gt;</th></tr>\n",
       "</thead>\n",
       "<tbody>\n",
       "\t<tr><th scope=row>1</th><td>Hellen</td><td>17</td><td>9.0</td><td>k256_S7N</td><td>UK</td></tr>\n",
       "\t<tr><th scope=row>2</th><td>Jolie </td><td>16</td><td>9.0</td><td>k256_S7N</td><td>US</td></tr>\n",
       "\t<tr><th scope=row>3</th><td>Kiwi  </td><td>17</td><td>8.0</td><td>k256_S24</td><td>EU</td></tr>\n",
       "\t<tr><th scope=row>4</th><td>John  </td><td>18</td><td>7.5</td><td>k256_S7N</td><td>UK</td></tr>\n",
       "\t<tr><th scope=row>5</th><td>Mark  </td><td>19</td><td>7.5</td><td>k256_S24</td><td>US</td></tr>\n",
       "\t<tr><th scope=row>6</th><td>Tom   </td><td>16</td><td>8.0</td><td>k256_S7N</td><td>EU</td></tr>\n",
       "</tbody>\n",
       "</table>\n"
      ],
      "text/latex": [
       "A data.frame: 6 × 5\n",
       "\\begin{tabular}{r|lllll}\n",
       "  & name & age & mark & class & Place\\_of\\_bith\\\\\n",
       "  & <chr> & <dbl> & <dbl> & <chr> & <chr>\\\\\n",
       "\\hline\n",
       "\t1 & Hellen & 17 & 9.0 & k256\\_S7N & UK\\\\\n",
       "\t2 & Jolie  & 16 & 9.0 & k256\\_S7N & US\\\\\n",
       "\t3 & Kiwi   & 17 & 8.0 & k256\\_S24 & EU\\\\\n",
       "\t4 & John   & 18 & 7.5 & k256\\_S7N & UK\\\\\n",
       "\t5 & Mark   & 19 & 7.5 & k256\\_S24 & US\\\\\n",
       "\t6 & Tom    & 16 & 8.0 & k256\\_S7N & EU\\\\\n",
       "\\end{tabular}\n"
      ],
      "text/markdown": [
       "\n",
       "A data.frame: 6 × 5\n",
       "\n",
       "| <!--/--> | name &lt;chr&gt; | age &lt;dbl&gt; | mark &lt;dbl&gt; | class &lt;chr&gt; | Place_of_bith &lt;chr&gt; |\n",
       "|---|---|---|---|---|---|\n",
       "| 1 | Hellen | 17 | 9.0 | k256_S7N | UK |\n",
       "| 2 | Jolie  | 16 | 9.0 | k256_S7N | US |\n",
       "| 3 | Kiwi   | 17 | 8.0 | k256_S24 | EU |\n",
       "| 4 | John   | 18 | 7.5 | k256_S7N | UK |\n",
       "| 5 | Mark   | 19 | 7.5 | k256_S24 | US |\n",
       "| 6 | Tom    | 16 | 8.0 | k256_S7N | EU |\n",
       "\n"
      ],
      "text/plain": [
       "  name   age mark class    Place_of_bith\n",
       "1 Hellen 17  9.0  k256_S7N UK           \n",
       "2 Jolie  16  9.0  k256_S7N US           \n",
       "3 Kiwi   17  8.0  k256_S24 EU           \n",
       "4 John   18  7.5  k256_S7N UK           \n",
       "5 Mark   19  7.5  k256_S24 US           \n",
       "6 Tom    16  8.0  k256_S7N EU           "
      ]
     },
     "metadata": {},
     "output_type": "display_data"
    }
   ],
   "source": [
    "head(students)"
   ]
  },
  {
   "cell_type": "markdown",
   "id": "4289ee58-6d61-4f07-94ec-77f7145c2059",
   "metadata": {},
   "source": [
    "# Tidyverse"
   ]
  },
  {
   "cell_type": "code",
   "execution_count": 30,
   "id": "5b797b8f-2c03-4c03-9659-7f0bb5943c21",
   "metadata": {},
   "outputs": [
    {
     "name": "stderr",
     "output_type": "stream",
     "text": [
      "── \u001b[1mAttaching core tidyverse packages\u001b[22m ──────────────────────────────────────────────────────────────── tidyverse 2.0.0 ──\n",
      "\u001b[32m✔\u001b[39m \u001b[34mdplyr    \u001b[39m 1.1.2     \u001b[32m✔\u001b[39m \u001b[34mreadr    \u001b[39m 2.1.4\n",
      "\u001b[32m✔\u001b[39m \u001b[34mforcats  \u001b[39m 1.0.0     \u001b[32m✔\u001b[39m \u001b[34mstringr  \u001b[39m 1.5.0\n",
      "\u001b[32m✔\u001b[39m \u001b[34mggplot2  \u001b[39m 3.4.2     \u001b[32m✔\u001b[39m \u001b[34mtibble   \u001b[39m 3.2.1\n",
      "\u001b[32m✔\u001b[39m \u001b[34mlubridate\u001b[39m 1.9.2     \u001b[32m✔\u001b[39m \u001b[34mtidyr    \u001b[39m 1.3.0\n",
      "\u001b[32m✔\u001b[39m \u001b[34mpurrr    \u001b[39m 1.0.1     \n",
      "── \u001b[1mConflicts\u001b[22m ────────────────────────────────────────────────────────────────────────────────── tidyverse_conflicts() ──\n",
      "\u001b[31m✖\u001b[39m \u001b[34mdplyr\u001b[39m::\u001b[32mfilter()\u001b[39m masks \u001b[34mstats\u001b[39m::filter()\n",
      "\u001b[31m✖\u001b[39m \u001b[34mdplyr\u001b[39m::\u001b[32mlag()\u001b[39m    masks \u001b[34mstats\u001b[39m::lag()\n",
      "\u001b[36mℹ\u001b[39m Use the conflicted package (\u001b[3m\u001b[34m<http://conflicted.r-lib.org/>\u001b[39m\u001b[23m) to force all conflicts to become errors\n"
     ]
    }
   ],
   "source": [
    "library(tidyverse)"
   ]
  },
  {
   "cell_type": "code",
   "execution_count": 31,
   "id": "04f1f697-5af8-4d47-9fdc-3f9ae878b4bf",
   "metadata": {},
   "outputs": [],
   "source": [
    "pokemon = read.csv('pokemon.csv')\n"
   ]
  },
  {
   "cell_type": "code",
   "execution_count": 32,
   "id": "0d0e435a-8187-4cd6-8da0-6a95b8e8c1a2",
   "metadata": {},
   "outputs": [
    {
     "data": {
      "text/html": [
       "<table class=\"dataframe\">\n",
       "<caption>A data.frame: 6 × 13</caption>\n",
       "<thead>\n",
       "\t<tr><th></th><th scope=col>X.</th><th scope=col>Name</th><th scope=col>Type.1</th><th scope=col>Type.2</th><th scope=col>Total</th><th scope=col>HP</th><th scope=col>Attack</th><th scope=col>Defense</th><th scope=col>Sp..Atk</th><th scope=col>Sp..Def</th><th scope=col>Speed</th><th scope=col>Generation</th><th scope=col>Legendary</th></tr>\n",
       "\t<tr><th></th><th scope=col>&lt;int&gt;</th><th scope=col>&lt;chr&gt;</th><th scope=col>&lt;chr&gt;</th><th scope=col>&lt;chr&gt;</th><th scope=col>&lt;int&gt;</th><th scope=col>&lt;int&gt;</th><th scope=col>&lt;int&gt;</th><th scope=col>&lt;int&gt;</th><th scope=col>&lt;int&gt;</th><th scope=col>&lt;int&gt;</th><th scope=col>&lt;int&gt;</th><th scope=col>&lt;int&gt;</th><th scope=col>&lt;chr&gt;</th></tr>\n",
       "</thead>\n",
       "<tbody>\n",
       "\t<tr><th scope=row>1</th><td>1</td><td>Bulbasaur            </td><td>Grass</td><td>Poison</td><td>318</td><td>45</td><td> 49</td><td> 49</td><td> 65</td><td> 65</td><td>45</td><td>1</td><td>False</td></tr>\n",
       "\t<tr><th scope=row>2</th><td>2</td><td>Ivysaur              </td><td>Grass</td><td>Poison</td><td>405</td><td>60</td><td> 62</td><td> 63</td><td> 80</td><td> 80</td><td>60</td><td>1</td><td>False</td></tr>\n",
       "\t<tr><th scope=row>3</th><td>3</td><td>Venusaur             </td><td>Grass</td><td>Poison</td><td>525</td><td>80</td><td> 82</td><td> 83</td><td>100</td><td>100</td><td>80</td><td>1</td><td>False</td></tr>\n",
       "\t<tr><th scope=row>4</th><td>3</td><td>VenusaurMega Venusaur</td><td>Grass</td><td>Poison</td><td>625</td><td>80</td><td>100</td><td>123</td><td>122</td><td>120</td><td>80</td><td>1</td><td>False</td></tr>\n",
       "\t<tr><th scope=row>5</th><td>4</td><td>Charmander           </td><td>Fire </td><td>      </td><td>309</td><td>39</td><td> 52</td><td> 43</td><td> 60</td><td> 50</td><td>65</td><td>1</td><td>False</td></tr>\n",
       "\t<tr><th scope=row>6</th><td>5</td><td>Charmeleon           </td><td>Fire </td><td>      </td><td>405</td><td>58</td><td> 64</td><td> 58</td><td> 80</td><td> 65</td><td>80</td><td>1</td><td>False</td></tr>\n",
       "</tbody>\n",
       "</table>\n"
      ],
      "text/latex": [
       "A data.frame: 6 × 13\n",
       "\\begin{tabular}{r|lllllllllllll}\n",
       "  & X. & Name & Type.1 & Type.2 & Total & HP & Attack & Defense & Sp..Atk & Sp..Def & Speed & Generation & Legendary\\\\\n",
       "  & <int> & <chr> & <chr> & <chr> & <int> & <int> & <int> & <int> & <int> & <int> & <int> & <int> & <chr>\\\\\n",
       "\\hline\n",
       "\t1 & 1 & Bulbasaur             & Grass & Poison & 318 & 45 &  49 &  49 &  65 &  65 & 45 & 1 & False\\\\\n",
       "\t2 & 2 & Ivysaur               & Grass & Poison & 405 & 60 &  62 &  63 &  80 &  80 & 60 & 1 & False\\\\\n",
       "\t3 & 3 & Venusaur              & Grass & Poison & 525 & 80 &  82 &  83 & 100 & 100 & 80 & 1 & False\\\\\n",
       "\t4 & 3 & VenusaurMega Venusaur & Grass & Poison & 625 & 80 & 100 & 123 & 122 & 120 & 80 & 1 & False\\\\\n",
       "\t5 & 4 & Charmander            & Fire  &        & 309 & 39 &  52 &  43 &  60 &  50 & 65 & 1 & False\\\\\n",
       "\t6 & 5 & Charmeleon            & Fire  &        & 405 & 58 &  64 &  58 &  80 &  65 & 80 & 1 & False\\\\\n",
       "\\end{tabular}\n"
      ],
      "text/markdown": [
       "\n",
       "A data.frame: 6 × 13\n",
       "\n",
       "| <!--/--> | X. &lt;int&gt; | Name &lt;chr&gt; | Type.1 &lt;chr&gt; | Type.2 &lt;chr&gt; | Total &lt;int&gt; | HP &lt;int&gt; | Attack &lt;int&gt; | Defense &lt;int&gt; | Sp..Atk &lt;int&gt; | Sp..Def &lt;int&gt; | Speed &lt;int&gt; | Generation &lt;int&gt; | Legendary &lt;chr&gt; |\n",
       "|---|---|---|---|---|---|---|---|---|---|---|---|---|---|\n",
       "| 1 | 1 | Bulbasaur             | Grass | Poison | 318 | 45 |  49 |  49 |  65 |  65 | 45 | 1 | False |\n",
       "| 2 | 2 | Ivysaur               | Grass | Poison | 405 | 60 |  62 |  63 |  80 |  80 | 60 | 1 | False |\n",
       "| 3 | 3 | Venusaur              | Grass | Poison | 525 | 80 |  82 |  83 | 100 | 100 | 80 | 1 | False |\n",
       "| 4 | 3 | VenusaurMega Venusaur | Grass | Poison | 625 | 80 | 100 | 123 | 122 | 120 | 80 | 1 | False |\n",
       "| 5 | 4 | Charmander            | Fire  | <!----> | 309 | 39 |  52 |  43 |  60 |  50 | 65 | 1 | False |\n",
       "| 6 | 5 | Charmeleon            | Fire  | <!----> | 405 | 58 |  64 |  58 |  80 |  65 | 80 | 1 | False |\n",
       "\n"
      ],
      "text/plain": [
       "  X. Name                  Type.1 Type.2 Total HP Attack Defense Sp..Atk\n",
       "1 1  Bulbasaur             Grass  Poison 318   45  49     49      65    \n",
       "2 2  Ivysaur               Grass  Poison 405   60  62     63      80    \n",
       "3 3  Venusaur              Grass  Poison 525   80  82     83     100    \n",
       "4 3  VenusaurMega Venusaur Grass  Poison 625   80 100    123     122    \n",
       "5 4  Charmander            Fire          309   39  52     43      60    \n",
       "6 5  Charmeleon            Fire          405   58  64     58      80    \n",
       "  Sp..Def Speed Generation Legendary\n",
       "1  65     45    1          False    \n",
       "2  80     60    1          False    \n",
       "3 100     80    1          False    \n",
       "4 120     80    1          False    \n",
       "5  50     65    1          False    \n",
       "6  65     80    1          False    "
      ]
     },
     "metadata": {},
     "output_type": "display_data"
    }
   ],
   "source": [
    "head(pokemon)"
   ]
  },
  {
   "cell_type": "code",
   "execution_count": 33,
   "id": "07a915ee-c473-4a2f-80ec-4ced04d8f65b",
   "metadata": {},
   "outputs": [],
   "source": [
    "pokemon_sub = select(pokemon, c(2,5,7,8))"
   ]
  },
  {
   "cell_type": "code",
   "execution_count": 34,
   "id": "5dffcec3-6f2d-4d27-bc24-f794831afa6c",
   "metadata": {},
   "outputs": [
    {
     "data": {
      "text/html": [
       "<table class=\"dataframe\">\n",
       "<caption>A data.frame: 6 × 4</caption>\n",
       "<thead>\n",
       "\t<tr><th></th><th scope=col>Name</th><th scope=col>Total</th><th scope=col>Attack</th><th scope=col>Defense</th></tr>\n",
       "\t<tr><th></th><th scope=col>&lt;chr&gt;</th><th scope=col>&lt;int&gt;</th><th scope=col>&lt;int&gt;</th><th scope=col>&lt;int&gt;</th></tr>\n",
       "</thead>\n",
       "<tbody>\n",
       "\t<tr><th scope=row>1</th><td>Bulbasaur            </td><td>318</td><td> 49</td><td> 49</td></tr>\n",
       "\t<tr><th scope=row>2</th><td>Ivysaur              </td><td>405</td><td> 62</td><td> 63</td></tr>\n",
       "\t<tr><th scope=row>3</th><td>Venusaur             </td><td>525</td><td> 82</td><td> 83</td></tr>\n",
       "\t<tr><th scope=row>4</th><td>VenusaurMega Venusaur</td><td>625</td><td>100</td><td>123</td></tr>\n",
       "\t<tr><th scope=row>5</th><td>Charmander           </td><td>309</td><td> 52</td><td> 43</td></tr>\n",
       "\t<tr><th scope=row>6</th><td>Charmeleon           </td><td>405</td><td> 64</td><td> 58</td></tr>\n",
       "</tbody>\n",
       "</table>\n"
      ],
      "text/latex": [
       "A data.frame: 6 × 4\n",
       "\\begin{tabular}{r|llll}\n",
       "  & Name & Total & Attack & Defense\\\\\n",
       "  & <chr> & <int> & <int> & <int>\\\\\n",
       "\\hline\n",
       "\t1 & Bulbasaur             & 318 &  49 &  49\\\\\n",
       "\t2 & Ivysaur               & 405 &  62 &  63\\\\\n",
       "\t3 & Venusaur              & 525 &  82 &  83\\\\\n",
       "\t4 & VenusaurMega Venusaur & 625 & 100 & 123\\\\\n",
       "\t5 & Charmander            & 309 &  52 &  43\\\\\n",
       "\t6 & Charmeleon            & 405 &  64 &  58\\\\\n",
       "\\end{tabular}\n"
      ],
      "text/markdown": [
       "\n",
       "A data.frame: 6 × 4\n",
       "\n",
       "| <!--/--> | Name &lt;chr&gt; | Total &lt;int&gt; | Attack &lt;int&gt; | Defense &lt;int&gt; |\n",
       "|---|---|---|---|---|\n",
       "| 1 | Bulbasaur             | 318 |  49 |  49 |\n",
       "| 2 | Ivysaur               | 405 |  62 |  63 |\n",
       "| 3 | Venusaur              | 525 |  82 |  83 |\n",
       "| 4 | VenusaurMega Venusaur | 625 | 100 | 123 |\n",
       "| 5 | Charmander            | 309 |  52 |  43 |\n",
       "| 6 | Charmeleon            | 405 |  64 |  58 |\n",
       "\n"
      ],
      "text/plain": [
       "  Name                  Total Attack Defense\n",
       "1 Bulbasaur             318    49     49    \n",
       "2 Ivysaur               405    62     63    \n",
       "3 Venusaur              525    82     83    \n",
       "4 VenusaurMega Venusaur 625   100    123    \n",
       "5 Charmander            309    52     43    \n",
       "6 Charmeleon            405    64     58    "
      ]
     },
     "metadata": {},
     "output_type": "display_data"
    }
   ],
   "source": [
    "head(pokemon_sub)"
   ]
  },
  {
   "cell_type": "code",
   "execution_count": 35,
   "id": "56d3cc52-c759-4c1a-b356-cede78c8ee9b",
   "metadata": {},
   "outputs": [],
   "source": [
    "pokemon_sub = pokemon %>% select(Name,Total,Attack,Defense)"
   ]
  },
  {
   "cell_type": "code",
   "execution_count": 36,
   "id": "74a0dfe8-2a90-4bf8-9a3d-42509acf8522",
   "metadata": {},
   "outputs": [
    {
     "data": {
      "text/html": [
       "<table class=\"dataframe\">\n",
       "<caption>A data.frame: 6 × 4</caption>\n",
       "<thead>\n",
       "\t<tr><th></th><th scope=col>Name</th><th scope=col>Total</th><th scope=col>Attack</th><th scope=col>Defense</th></tr>\n",
       "\t<tr><th></th><th scope=col>&lt;chr&gt;</th><th scope=col>&lt;int&gt;</th><th scope=col>&lt;int&gt;</th><th scope=col>&lt;int&gt;</th></tr>\n",
       "</thead>\n",
       "<tbody>\n",
       "\t<tr><th scope=row>1</th><td>Bulbasaur            </td><td>318</td><td> 49</td><td> 49</td></tr>\n",
       "\t<tr><th scope=row>2</th><td>Ivysaur              </td><td>405</td><td> 62</td><td> 63</td></tr>\n",
       "\t<tr><th scope=row>3</th><td>Venusaur             </td><td>525</td><td> 82</td><td> 83</td></tr>\n",
       "\t<tr><th scope=row>4</th><td>VenusaurMega Venusaur</td><td>625</td><td>100</td><td>123</td></tr>\n",
       "\t<tr><th scope=row>5</th><td>Charmander           </td><td>309</td><td> 52</td><td> 43</td></tr>\n",
       "\t<tr><th scope=row>6</th><td>Charmeleon           </td><td>405</td><td> 64</td><td> 58</td></tr>\n",
       "</tbody>\n",
       "</table>\n"
      ],
      "text/latex": [
       "A data.frame: 6 × 4\n",
       "\\begin{tabular}{r|llll}\n",
       "  & Name & Total & Attack & Defense\\\\\n",
       "  & <chr> & <int> & <int> & <int>\\\\\n",
       "\\hline\n",
       "\t1 & Bulbasaur             & 318 &  49 &  49\\\\\n",
       "\t2 & Ivysaur               & 405 &  62 &  63\\\\\n",
       "\t3 & Venusaur              & 525 &  82 &  83\\\\\n",
       "\t4 & VenusaurMega Venusaur & 625 & 100 & 123\\\\\n",
       "\t5 & Charmander            & 309 &  52 &  43\\\\\n",
       "\t6 & Charmeleon            & 405 &  64 &  58\\\\\n",
       "\\end{tabular}\n"
      ],
      "text/markdown": [
       "\n",
       "A data.frame: 6 × 4\n",
       "\n",
       "| <!--/--> | Name &lt;chr&gt; | Total &lt;int&gt; | Attack &lt;int&gt; | Defense &lt;int&gt; |\n",
       "|---|---|---|---|---|\n",
       "| 1 | Bulbasaur             | 318 |  49 |  49 |\n",
       "| 2 | Ivysaur               | 405 |  62 |  63 |\n",
       "| 3 | Venusaur              | 525 |  82 |  83 |\n",
       "| 4 | VenusaurMega Venusaur | 625 | 100 | 123 |\n",
       "| 5 | Charmander            | 309 |  52 |  43 |\n",
       "| 6 | Charmeleon            | 405 |  64 |  58 |\n",
       "\n"
      ],
      "text/plain": [
       "  Name                  Total Attack Defense\n",
       "1 Bulbasaur             318    49     49    \n",
       "2 Ivysaur               405    62     63    \n",
       "3 Venusaur              525    82     83    \n",
       "4 VenusaurMega Venusaur 625   100    123    \n",
       "5 Charmander            309    52     43    \n",
       "6 Charmeleon            405    64     58    "
      ]
     },
     "metadata": {},
     "output_type": "display_data"
    }
   ],
   "source": [
    "head(pokemon_sub)"
   ]
  },
  {
   "cell_type": "markdown",
   "id": "5a73ec09-96b9-4a07-9b3c-72e5c2bf008a",
   "metadata": {},
   "source": [
    "### select_if"
   ]
  },
  {
   "cell_type": "code",
   "execution_count": 38,
   "id": "9d506f73-8d75-4e74-a595-bf2e5be8fea0",
   "metadata": {},
   "outputs": [],
   "source": [
    "pokemon_numbers = select_if(pokemon, is.numeric)"
   ]
  },
  {
   "cell_type": "code",
   "execution_count": 39,
   "id": "f908153f-eceb-485c-9827-510e17007eef",
   "metadata": {},
   "outputs": [
    {
     "data": {
      "text/html": [
       "<table class=\"dataframe\">\n",
       "<caption>A data.frame: 6 × 9</caption>\n",
       "<thead>\n",
       "\t<tr><th></th><th scope=col>X.</th><th scope=col>Total</th><th scope=col>HP</th><th scope=col>Attack</th><th scope=col>Defense</th><th scope=col>Sp..Atk</th><th scope=col>Sp..Def</th><th scope=col>Speed</th><th scope=col>Generation</th></tr>\n",
       "\t<tr><th></th><th scope=col>&lt;int&gt;</th><th scope=col>&lt;int&gt;</th><th scope=col>&lt;int&gt;</th><th scope=col>&lt;int&gt;</th><th scope=col>&lt;int&gt;</th><th scope=col>&lt;int&gt;</th><th scope=col>&lt;int&gt;</th><th scope=col>&lt;int&gt;</th><th scope=col>&lt;int&gt;</th></tr>\n",
       "</thead>\n",
       "<tbody>\n",
       "\t<tr><th scope=row>1</th><td>1</td><td>318</td><td>45</td><td> 49</td><td> 49</td><td> 65</td><td> 65</td><td>45</td><td>1</td></tr>\n",
       "\t<tr><th scope=row>2</th><td>2</td><td>405</td><td>60</td><td> 62</td><td> 63</td><td> 80</td><td> 80</td><td>60</td><td>1</td></tr>\n",
       "\t<tr><th scope=row>3</th><td>3</td><td>525</td><td>80</td><td> 82</td><td> 83</td><td>100</td><td>100</td><td>80</td><td>1</td></tr>\n",
       "\t<tr><th scope=row>4</th><td>3</td><td>625</td><td>80</td><td>100</td><td>123</td><td>122</td><td>120</td><td>80</td><td>1</td></tr>\n",
       "\t<tr><th scope=row>5</th><td>4</td><td>309</td><td>39</td><td> 52</td><td> 43</td><td> 60</td><td> 50</td><td>65</td><td>1</td></tr>\n",
       "\t<tr><th scope=row>6</th><td>5</td><td>405</td><td>58</td><td> 64</td><td> 58</td><td> 80</td><td> 65</td><td>80</td><td>1</td></tr>\n",
       "</tbody>\n",
       "</table>\n"
      ],
      "text/latex": [
       "A data.frame: 6 × 9\n",
       "\\begin{tabular}{r|lllllllll}\n",
       "  & X. & Total & HP & Attack & Defense & Sp..Atk & Sp..Def & Speed & Generation\\\\\n",
       "  & <int> & <int> & <int> & <int> & <int> & <int> & <int> & <int> & <int>\\\\\n",
       "\\hline\n",
       "\t1 & 1 & 318 & 45 &  49 &  49 &  65 &  65 & 45 & 1\\\\\n",
       "\t2 & 2 & 405 & 60 &  62 &  63 &  80 &  80 & 60 & 1\\\\\n",
       "\t3 & 3 & 525 & 80 &  82 &  83 & 100 & 100 & 80 & 1\\\\\n",
       "\t4 & 3 & 625 & 80 & 100 & 123 & 122 & 120 & 80 & 1\\\\\n",
       "\t5 & 4 & 309 & 39 &  52 &  43 &  60 &  50 & 65 & 1\\\\\n",
       "\t6 & 5 & 405 & 58 &  64 &  58 &  80 &  65 & 80 & 1\\\\\n",
       "\\end{tabular}\n"
      ],
      "text/markdown": [
       "\n",
       "A data.frame: 6 × 9\n",
       "\n",
       "| <!--/--> | X. &lt;int&gt; | Total &lt;int&gt; | HP &lt;int&gt; | Attack &lt;int&gt; | Defense &lt;int&gt; | Sp..Atk &lt;int&gt; | Sp..Def &lt;int&gt; | Speed &lt;int&gt; | Generation &lt;int&gt; |\n",
       "|---|---|---|---|---|---|---|---|---|---|\n",
       "| 1 | 1 | 318 | 45 |  49 |  49 |  65 |  65 | 45 | 1 |\n",
       "| 2 | 2 | 405 | 60 |  62 |  63 |  80 |  80 | 60 | 1 |\n",
       "| 3 | 3 | 525 | 80 |  82 |  83 | 100 | 100 | 80 | 1 |\n",
       "| 4 | 3 | 625 | 80 | 100 | 123 | 122 | 120 | 80 | 1 |\n",
       "| 5 | 4 | 309 | 39 |  52 |  43 |  60 |  50 | 65 | 1 |\n",
       "| 6 | 5 | 405 | 58 |  64 |  58 |  80 |  65 | 80 | 1 |\n",
       "\n"
      ],
      "text/plain": [
       "  X. Total HP Attack Defense Sp..Atk Sp..Def Speed Generation\n",
       "1 1  318   45  49     49      65      65     45    1         \n",
       "2 2  405   60  62     63      80      80     60    1         \n",
       "3 3  525   80  82     83     100     100     80    1         \n",
       "4 3  625   80 100    123     122     120     80    1         \n",
       "5 4  309   39  52     43      60      50     65    1         \n",
       "6 5  405   58  64     58      80      65     80    1         "
      ]
     },
     "metadata": {},
     "output_type": "display_data"
    }
   ],
   "source": [
    "head(pokemon_numbers)"
   ]
  },
  {
   "cell_type": "markdown",
   "id": "5cf46c31-6f92-47b4-a87c-a65912235c4d",
   "metadata": {},
   "source": [
    "### Filter"
   ]
  },
  {
   "cell_type": "code",
   "execution_count": 41,
   "id": "01b41806-64aa-4d88-b483-531db73df761",
   "metadata": {},
   "outputs": [
    {
     "data": {
      "text/html": [
       "<table class=\"dataframe\">\n",
       "<caption>A data.frame: 6 × 4</caption>\n",
       "<thead>\n",
       "\t<tr><th></th><th scope=col>Name</th><th scope=col>Total</th><th scope=col>Attack</th><th scope=col>Defense</th></tr>\n",
       "\t<tr><th></th><th scope=col>&lt;chr&gt;</th><th scope=col>&lt;int&gt;</th><th scope=col>&lt;int&gt;</th><th scope=col>&lt;int&gt;</th></tr>\n",
       "</thead>\n",
       "<tbody>\n",
       "\t<tr><th scope=row>1</th><td>Venusaur           </td><td>525</td><td> 82</td><td> 83</td></tr>\n",
       "\t<tr><th scope=row>2</th><td>Charizard          </td><td>534</td><td> 84</td><td> 78</td></tr>\n",
       "\t<tr><th scope=row>3</th><td>Blastoise          </td><td>530</td><td> 83</td><td>100</td></tr>\n",
       "\t<tr><th scope=row>4</th><td>PidgeotMega Pidgeot</td><td>579</td><td> 80</td><td> 80</td></tr>\n",
       "\t<tr><th scope=row>5</th><td>Nidoqueen          </td><td>505</td><td> 92</td><td> 87</td></tr>\n",
       "\t<tr><th scope=row>6</th><td>Nidoking           </td><td>505</td><td>102</td><td> 77</td></tr>\n",
       "</tbody>\n",
       "</table>\n"
      ],
      "text/latex": [
       "A data.frame: 6 × 4\n",
       "\\begin{tabular}{r|llll}\n",
       "  & Name & Total & Attack & Defense\\\\\n",
       "  & <chr> & <int> & <int> & <int>\\\\\n",
       "\\hline\n",
       "\t1 & Venusaur            & 525 &  82 &  83\\\\\n",
       "\t2 & Charizard           & 534 &  84 &  78\\\\\n",
       "\t3 & Blastoise           & 530 &  83 & 100\\\\\n",
       "\t4 & PidgeotMega Pidgeot & 579 &  80 &  80\\\\\n",
       "\t5 & Nidoqueen           & 505 &  92 &  87\\\\\n",
       "\t6 & Nidoking            & 505 & 102 &  77\\\\\n",
       "\\end{tabular}\n"
      ],
      "text/markdown": [
       "\n",
       "A data.frame: 6 × 4\n",
       "\n",
       "| <!--/--> | Name &lt;chr&gt; | Total &lt;int&gt; | Attack &lt;int&gt; | Defense &lt;int&gt; |\n",
       "|---|---|---|---|---|\n",
       "| 1 | Venusaur            | 525 |  82 |  83 |\n",
       "| 2 | Charizard           | 534 |  84 |  78 |\n",
       "| 3 | Blastoise           | 530 |  83 | 100 |\n",
       "| 4 | PidgeotMega Pidgeot | 579 |  80 |  80 |\n",
       "| 5 | Nidoqueen           | 505 |  92 |  87 |\n",
       "| 6 | Nidoking            | 505 | 102 |  77 |\n",
       "\n"
      ],
      "text/plain": [
       "  Name                Total Attack Defense\n",
       "1 Venusaur            525    82     83    \n",
       "2 Charizard           534    84     78    \n",
       "3 Blastoise           530    83    100    \n",
       "4 PidgeotMega Pidgeot 579    80     80    \n",
       "5 Nidoqueen           505    92     87    \n",
       "6 Nidoking            505   102     77    "
      ]
     },
     "metadata": {},
     "output_type": "display_data"
    }
   ],
   "source": [
    "pokemon_500_600 = filter(pokemon_sub, Total >= 500, Total <= 600)\n",
    "head(pokemon_500_600)"
   ]
  },
  {
   "cell_type": "markdown",
   "id": "54ec1188-ff6f-48e1-a50f-56b44c3b0724",
   "metadata": {},
   "source": [
    "### Mutate() - Tạo cột mới"
   ]
  },
  {
   "cell_type": "code",
   "execution_count": 42,
   "id": "f2d006e3-f1a8-437a-aa85-9686598305f1",
   "metadata": {},
   "outputs": [],
   "source": [
    "pokemon_sub = mutate(pokemon_sub, Compare = ifelse(Attack > Defense, 1 ,0))"
   ]
  },
  {
   "cell_type": "code",
   "execution_count": 43,
   "id": "50c0e105-2d64-4f29-a9a1-ebb62185ab56",
   "metadata": {},
   "outputs": [
    {
     "data": {
      "text/html": [
       "<table class=\"dataframe\">\n",
       "<caption>A data.frame: 6 × 5</caption>\n",
       "<thead>\n",
       "\t<tr><th></th><th scope=col>Name</th><th scope=col>Total</th><th scope=col>Attack</th><th scope=col>Defense</th><th scope=col>Compare</th></tr>\n",
       "\t<tr><th></th><th scope=col>&lt;chr&gt;</th><th scope=col>&lt;int&gt;</th><th scope=col>&lt;int&gt;</th><th scope=col>&lt;int&gt;</th><th scope=col>&lt;dbl&gt;</th></tr>\n",
       "</thead>\n",
       "<tbody>\n",
       "\t<tr><th scope=row>1</th><td>Bulbasaur            </td><td>318</td><td> 49</td><td> 49</td><td>0</td></tr>\n",
       "\t<tr><th scope=row>2</th><td>Ivysaur              </td><td>405</td><td> 62</td><td> 63</td><td>0</td></tr>\n",
       "\t<tr><th scope=row>3</th><td>Venusaur             </td><td>525</td><td> 82</td><td> 83</td><td>0</td></tr>\n",
       "\t<tr><th scope=row>4</th><td>VenusaurMega Venusaur</td><td>625</td><td>100</td><td>123</td><td>0</td></tr>\n",
       "\t<tr><th scope=row>5</th><td>Charmander           </td><td>309</td><td> 52</td><td> 43</td><td>1</td></tr>\n",
       "\t<tr><th scope=row>6</th><td>Charmeleon           </td><td>405</td><td> 64</td><td> 58</td><td>1</td></tr>\n",
       "</tbody>\n",
       "</table>\n"
      ],
      "text/latex": [
       "A data.frame: 6 × 5\n",
       "\\begin{tabular}{r|lllll}\n",
       "  & Name & Total & Attack & Defense & Compare\\\\\n",
       "  & <chr> & <int> & <int> & <int> & <dbl>\\\\\n",
       "\\hline\n",
       "\t1 & Bulbasaur             & 318 &  49 &  49 & 0\\\\\n",
       "\t2 & Ivysaur               & 405 &  62 &  63 & 0\\\\\n",
       "\t3 & Venusaur              & 525 &  82 &  83 & 0\\\\\n",
       "\t4 & VenusaurMega Venusaur & 625 & 100 & 123 & 0\\\\\n",
       "\t5 & Charmander            & 309 &  52 &  43 & 1\\\\\n",
       "\t6 & Charmeleon            & 405 &  64 &  58 & 1\\\\\n",
       "\\end{tabular}\n"
      ],
      "text/markdown": [
       "\n",
       "A data.frame: 6 × 5\n",
       "\n",
       "| <!--/--> | Name &lt;chr&gt; | Total &lt;int&gt; | Attack &lt;int&gt; | Defense &lt;int&gt; | Compare &lt;dbl&gt; |\n",
       "|---|---|---|---|---|---|\n",
       "| 1 | Bulbasaur             | 318 |  49 |  49 | 0 |\n",
       "| 2 | Ivysaur               | 405 |  62 |  63 | 0 |\n",
       "| 3 | Venusaur              | 525 |  82 |  83 | 0 |\n",
       "| 4 | VenusaurMega Venusaur | 625 | 100 | 123 | 0 |\n",
       "| 5 | Charmander            | 309 |  52 |  43 | 1 |\n",
       "| 6 | Charmeleon            | 405 |  64 |  58 | 1 |\n",
       "\n"
      ],
      "text/plain": [
       "  Name                  Total Attack Defense Compare\n",
       "1 Bulbasaur             318    49     49     0      \n",
       "2 Ivysaur               405    62     63     0      \n",
       "3 Venusaur              525    82     83     0      \n",
       "4 VenusaurMega Venusaur 625   100    123     0      \n",
       "5 Charmander            309    52     43     1      \n",
       "6 Charmeleon            405    64     58     1      "
      ]
     },
     "metadata": {},
     "output_type": "display_data"
    }
   ],
   "source": [
    "head(pokemon_sub)"
   ]
  },
  {
   "cell_type": "markdown",
   "id": "5b5af411-74c2-4471-9e2c-09f49a62e1c6",
   "metadata": {},
   "source": [
    "### Arrange() - sắp xếp"
   ]
  },
  {
   "cell_type": "code",
   "execution_count": 45,
   "id": "9f896166-557a-4063-9ce7-0b5f85df531d",
   "metadata": {},
   "outputs": [
    {
     "data": {
      "text/html": [
       "<table class=\"dataframe\">\n",
       "<caption>A data.frame: 6 × 5</caption>\n",
       "<thead>\n",
       "\t<tr><th></th><th scope=col>Name</th><th scope=col>Total</th><th scope=col>Attack</th><th scope=col>Defense</th><th scope=col>Compare</th></tr>\n",
       "\t<tr><th></th><th scope=col>&lt;chr&gt;</th><th scope=col>&lt;int&gt;</th><th scope=col>&lt;int&gt;</th><th scope=col>&lt;int&gt;</th><th scope=col>&lt;dbl&gt;</th></tr>\n",
       "</thead>\n",
       "<tbody>\n",
       "\t<tr><th scope=row>1</th><td>Sunkern  </td><td>180</td><td>30</td><td>30</td><td>0</td></tr>\n",
       "\t<tr><th scope=row>2</th><td>Azurill  </td><td>190</td><td>20</td><td>40</td><td>0</td></tr>\n",
       "\t<tr><th scope=row>3</th><td>Kricketot</td><td>194</td><td>25</td><td>41</td><td>0</td></tr>\n",
       "\t<tr><th scope=row>4</th><td>Caterpie </td><td>195</td><td>30</td><td>35</td><td>0</td></tr>\n",
       "\t<tr><th scope=row>5</th><td>Weedle   </td><td>195</td><td>35</td><td>30</td><td>1</td></tr>\n",
       "\t<tr><th scope=row>6</th><td>Wurmple  </td><td>195</td><td>45</td><td>35</td><td>1</td></tr>\n",
       "</tbody>\n",
       "</table>\n"
      ],
      "text/latex": [
       "A data.frame: 6 × 5\n",
       "\\begin{tabular}{r|lllll}\n",
       "  & Name & Total & Attack & Defense & Compare\\\\\n",
       "  & <chr> & <int> & <int> & <int> & <dbl>\\\\\n",
       "\\hline\n",
       "\t1 & Sunkern   & 180 & 30 & 30 & 0\\\\\n",
       "\t2 & Azurill   & 190 & 20 & 40 & 0\\\\\n",
       "\t3 & Kricketot & 194 & 25 & 41 & 0\\\\\n",
       "\t4 & Caterpie  & 195 & 30 & 35 & 0\\\\\n",
       "\t5 & Weedle    & 195 & 35 & 30 & 1\\\\\n",
       "\t6 & Wurmple   & 195 & 45 & 35 & 1\\\\\n",
       "\\end{tabular}\n"
      ],
      "text/markdown": [
       "\n",
       "A data.frame: 6 × 5\n",
       "\n",
       "| <!--/--> | Name &lt;chr&gt; | Total &lt;int&gt; | Attack &lt;int&gt; | Defense &lt;int&gt; | Compare &lt;dbl&gt; |\n",
       "|---|---|---|---|---|---|\n",
       "| 1 | Sunkern   | 180 | 30 | 30 | 0 |\n",
       "| 2 | Azurill   | 190 | 20 | 40 | 0 |\n",
       "| 3 | Kricketot | 194 | 25 | 41 | 0 |\n",
       "| 4 | Caterpie  | 195 | 30 | 35 | 0 |\n",
       "| 5 | Weedle    | 195 | 35 | 30 | 1 |\n",
       "| 6 | Wurmple   | 195 | 45 | 35 | 1 |\n",
       "\n"
      ],
      "text/plain": [
       "  Name      Total Attack Defense Compare\n",
       "1 Sunkern   180   30     30      0      \n",
       "2 Azurill   190   20     40      0      \n",
       "3 Kricketot 194   25     41      0      \n",
       "4 Caterpie  195   30     35      0      \n",
       "5 Weedle    195   35     30      1      \n",
       "6 Wurmple   195   45     35      1      "
      ]
     },
     "metadata": {},
     "output_type": "display_data"
    }
   ],
   "source": [
    "head(arrange(pokemon_sub, Total))"
   ]
  },
  {
   "cell_type": "code",
   "execution_count": 46,
   "id": "6644be5a-63ba-48a2-a572-63e0c8701d05",
   "metadata": {},
   "outputs": [
    {
     "data": {
      "text/html": [
       "<table class=\"dataframe\">\n",
       "<caption>A data.frame: 6 × 5</caption>\n",
       "<thead>\n",
       "\t<tr><th></th><th scope=col>Name</th><th scope=col>Total</th><th scope=col>Attack</th><th scope=col>Defense</th><th scope=col>Compare</th></tr>\n",
       "\t<tr><th></th><th scope=col>&lt;chr&gt;</th><th scope=col>&lt;int&gt;</th><th scope=col>&lt;int&gt;</th><th scope=col>&lt;int&gt;</th><th scope=col>&lt;dbl&gt;</th></tr>\n",
       "</thead>\n",
       "<tbody>\n",
       "\t<tr><th scope=row>1</th><td>MewtwoMega Mewtwo X  </td><td>780</td><td>190</td><td>100</td><td>1</td></tr>\n",
       "\t<tr><th scope=row>2</th><td>MewtwoMega Mewtwo Y  </td><td>780</td><td>150</td><td> 70</td><td>1</td></tr>\n",
       "\t<tr><th scope=row>3</th><td>RayquazaMega Rayquaza</td><td>780</td><td>180</td><td>100</td><td>1</td></tr>\n",
       "\t<tr><th scope=row>4</th><td>KyogrePrimal Kyogre  </td><td>770</td><td>150</td><td> 90</td><td>1</td></tr>\n",
       "\t<tr><th scope=row>5</th><td>GroudonPrimal Groudon</td><td>770</td><td>180</td><td>160</td><td>1</td></tr>\n",
       "\t<tr><th scope=row>6</th><td>Arceus               </td><td>720</td><td>120</td><td>120</td><td>0</td></tr>\n",
       "</tbody>\n",
       "</table>\n"
      ],
      "text/latex": [
       "A data.frame: 6 × 5\n",
       "\\begin{tabular}{r|lllll}\n",
       "  & Name & Total & Attack & Defense & Compare\\\\\n",
       "  & <chr> & <int> & <int> & <int> & <dbl>\\\\\n",
       "\\hline\n",
       "\t1 & MewtwoMega Mewtwo X   & 780 & 190 & 100 & 1\\\\\n",
       "\t2 & MewtwoMega Mewtwo Y   & 780 & 150 &  70 & 1\\\\\n",
       "\t3 & RayquazaMega Rayquaza & 780 & 180 & 100 & 1\\\\\n",
       "\t4 & KyogrePrimal Kyogre   & 770 & 150 &  90 & 1\\\\\n",
       "\t5 & GroudonPrimal Groudon & 770 & 180 & 160 & 1\\\\\n",
       "\t6 & Arceus                & 720 & 120 & 120 & 0\\\\\n",
       "\\end{tabular}\n"
      ],
      "text/markdown": [
       "\n",
       "A data.frame: 6 × 5\n",
       "\n",
       "| <!--/--> | Name &lt;chr&gt; | Total &lt;int&gt; | Attack &lt;int&gt; | Defense &lt;int&gt; | Compare &lt;dbl&gt; |\n",
       "|---|---|---|---|---|---|\n",
       "| 1 | MewtwoMega Mewtwo X   | 780 | 190 | 100 | 1 |\n",
       "| 2 | MewtwoMega Mewtwo Y   | 780 | 150 |  70 | 1 |\n",
       "| 3 | RayquazaMega Rayquaza | 780 | 180 | 100 | 1 |\n",
       "| 4 | KyogrePrimal Kyogre   | 770 | 150 |  90 | 1 |\n",
       "| 5 | GroudonPrimal Groudon | 770 | 180 | 160 | 1 |\n",
       "| 6 | Arceus                | 720 | 120 | 120 | 0 |\n",
       "\n"
      ],
      "text/plain": [
       "  Name                  Total Attack Defense Compare\n",
       "1 MewtwoMega Mewtwo X   780   190    100     1      \n",
       "2 MewtwoMega Mewtwo Y   780   150     70     1      \n",
       "3 RayquazaMega Rayquaza 780   180    100     1      \n",
       "4 KyogrePrimal Kyogre   770   150     90     1      \n",
       "5 GroudonPrimal Groudon 770   180    160     1      \n",
       "6 Arceus                720   120    120     0      "
      ]
     },
     "metadata": {},
     "output_type": "display_data"
    }
   ],
   "source": [
    "head(arrange(pokemon_sub, desc(Total)))"
   ]
  },
  {
   "cell_type": "code",
   "execution_count": 47,
   "id": "f93cf1da-0562-4391-b218-b624d7ff168d",
   "metadata": {},
   "outputs": [
    {
     "data": {
      "text/html": [
       "<table class=\"dataframe\">\n",
       "<caption>A data.frame: 6 × 5</caption>\n",
       "<thead>\n",
       "\t<tr><th></th><th scope=col>Name</th><th scope=col>Total</th><th scope=col>Attack</th><th scope=col>Defense</th><th scope=col>Compare</th></tr>\n",
       "\t<tr><th></th><th scope=col>&lt;chr&gt;</th><th scope=col>&lt;int&gt;</th><th scope=col>&lt;int&gt;</th><th scope=col>&lt;int&gt;</th><th scope=col>&lt;dbl&gt;</th></tr>\n",
       "</thead>\n",
       "<tbody>\n",
       "\t<tr><th scope=row>1</th><td>MewtwoMega Mewtwo X  </td><td>780</td><td>190</td><td>100</td><td>1</td></tr>\n",
       "\t<tr><th scope=row>2</th><td>RayquazaMega Rayquaza</td><td>780</td><td>180</td><td>100</td><td>1</td></tr>\n",
       "\t<tr><th scope=row>3</th><td>MewtwoMega Mewtwo Y  </td><td>780</td><td>150</td><td> 70</td><td>1</td></tr>\n",
       "\t<tr><th scope=row>4</th><td>GroudonPrimal Groudon</td><td>770</td><td>180</td><td>160</td><td>1</td></tr>\n",
       "\t<tr><th scope=row>5</th><td>KyogrePrimal Kyogre  </td><td>770</td><td>150</td><td> 90</td><td>1</td></tr>\n",
       "\t<tr><th scope=row>6</th><td>Arceus               </td><td>720</td><td>120</td><td>120</td><td>0</td></tr>\n",
       "</tbody>\n",
       "</table>\n"
      ],
      "text/latex": [
       "A data.frame: 6 × 5\n",
       "\\begin{tabular}{r|lllll}\n",
       "  & Name & Total & Attack & Defense & Compare\\\\\n",
       "  & <chr> & <int> & <int> & <int> & <dbl>\\\\\n",
       "\\hline\n",
       "\t1 & MewtwoMega Mewtwo X   & 780 & 190 & 100 & 1\\\\\n",
       "\t2 & RayquazaMega Rayquaza & 780 & 180 & 100 & 1\\\\\n",
       "\t3 & MewtwoMega Mewtwo Y   & 780 & 150 &  70 & 1\\\\\n",
       "\t4 & GroudonPrimal Groudon & 770 & 180 & 160 & 1\\\\\n",
       "\t5 & KyogrePrimal Kyogre   & 770 & 150 &  90 & 1\\\\\n",
       "\t6 & Arceus                & 720 & 120 & 120 & 0\\\\\n",
       "\\end{tabular}\n"
      ],
      "text/markdown": [
       "\n",
       "A data.frame: 6 × 5\n",
       "\n",
       "| <!--/--> | Name &lt;chr&gt; | Total &lt;int&gt; | Attack &lt;int&gt; | Defense &lt;int&gt; | Compare &lt;dbl&gt; |\n",
       "|---|---|---|---|---|---|\n",
       "| 1 | MewtwoMega Mewtwo X   | 780 | 190 | 100 | 1 |\n",
       "| 2 | RayquazaMega Rayquaza | 780 | 180 | 100 | 1 |\n",
       "| 3 | MewtwoMega Mewtwo Y   | 780 | 150 |  70 | 1 |\n",
       "| 4 | GroudonPrimal Groudon | 770 | 180 | 160 | 1 |\n",
       "| 5 | KyogrePrimal Kyogre   | 770 | 150 |  90 | 1 |\n",
       "| 6 | Arceus                | 720 | 120 | 120 | 0 |\n",
       "\n"
      ],
      "text/plain": [
       "  Name                  Total Attack Defense Compare\n",
       "1 MewtwoMega Mewtwo X   780   190    100     1      \n",
       "2 RayquazaMega Rayquaza 780   180    100     1      \n",
       "3 MewtwoMega Mewtwo Y   780   150     70     1      \n",
       "4 GroudonPrimal Groudon 770   180    160     1      \n",
       "5 KyogrePrimal Kyogre   770   150     90     1      \n",
       "6 Arceus                720   120    120     0      "
      ]
     },
     "metadata": {},
     "output_type": "display_data"
    }
   ],
   "source": [
    "head(arrange(pokemon_sub, desc(Total), desc(Attack)))"
   ]
  },
  {
   "cell_type": "code",
   "execution_count": null,
   "id": "cd823375-c012-405d-8a99-aa59f7c47d94",
   "metadata": {},
   "outputs": [],
   "source": []
  },
  {
   "cell_type": "code",
   "execution_count": 48,
   "id": "6711ad3e-2c81-44e8-83cb-9c79b8817c96",
   "metadata": {},
   "outputs": [],
   "source": [
    "group = group_by(pokemon, Type.1)\n",
    "group_summay = summarize(group,\n",
    "                         count = n(),\n",
    "                         mean.Attack = mean(Attack, na.rm =T),\n",
    "                         median.Attack = median(Attack, na.rm =T),\n",
    "                         mean.Defense = mean(Defense, na.rm =T),\n",
    "                         median.Defense = median(Defense, na.rm =T)\n",
    "                         )\n",
    "                         "
   ]
  },
  {
   "cell_type": "code",
   "execution_count": 49,
   "id": "f3ed8c83-6c9c-4297-8634-97cd219efb37",
   "metadata": {},
   "outputs": [
    {
     "data": {
      "text/html": [
       "<table class=\"dataframe\">\n",
       "<caption>A tibble: 18 × 6</caption>\n",
       "<thead>\n",
       "\t<tr><th scope=col>Type.1</th><th scope=col>count</th><th scope=col>mean.Attack</th><th scope=col>median.Attack</th><th scope=col>mean.Defense</th><th scope=col>median.Defense</th></tr>\n",
       "\t<tr><th scope=col>&lt;chr&gt;</th><th scope=col>&lt;int&gt;</th><th scope=col>&lt;dbl&gt;</th><th scope=col>&lt;dbl&gt;</th><th scope=col>&lt;dbl&gt;</th><th scope=col>&lt;dbl&gt;</th></tr>\n",
       "</thead>\n",
       "<tbody>\n",
       "\t<tr><td>Bug     </td><td> 69</td><td> 70.97101</td><td> 65.0</td><td> 70.72464</td><td> 60.0</td></tr>\n",
       "\t<tr><td>Dark    </td><td> 31</td><td> 88.38710</td><td> 88.0</td><td> 70.22581</td><td> 70.0</td></tr>\n",
       "\t<tr><td>Dragon  </td><td> 32</td><td>112.12500</td><td>113.5</td><td> 86.37500</td><td> 90.0</td></tr>\n",
       "\t<tr><td>Electric</td><td> 44</td><td> 69.09091</td><td> 65.0</td><td> 66.29545</td><td> 65.0</td></tr>\n",
       "\t<tr><td>Fairy   </td><td> 17</td><td> 61.52941</td><td> 52.0</td><td> 65.70588</td><td> 66.0</td></tr>\n",
       "\t<tr><td>Fighting</td><td> 27</td><td> 96.77778</td><td>100.0</td><td> 65.92593</td><td> 70.0</td></tr>\n",
       "\t<tr><td>Fire    </td><td> 52</td><td> 84.76923</td><td> 84.5</td><td> 67.76923</td><td> 64.0</td></tr>\n",
       "\t<tr><td>Flying  </td><td>  4</td><td> 78.75000</td><td> 85.0</td><td> 66.25000</td><td> 75.0</td></tr>\n",
       "\t<tr><td>Ghost   </td><td> 32</td><td> 73.78125</td><td> 66.0</td><td> 81.18750</td><td> 72.5</td></tr>\n",
       "\t<tr><td>Grass   </td><td> 70</td><td> 73.21429</td><td> 70.0</td><td> 70.80000</td><td> 66.0</td></tr>\n",
       "\t<tr><td>Ground  </td><td> 32</td><td> 95.75000</td><td> 85.0</td><td> 84.84375</td><td> 84.5</td></tr>\n",
       "\t<tr><td>Ice     </td><td> 24</td><td> 72.75000</td><td> 67.0</td><td> 71.41667</td><td> 75.0</td></tr>\n",
       "\t<tr><td>Normal  </td><td> 98</td><td> 73.46939</td><td> 70.5</td><td> 59.84694</td><td> 60.0</td></tr>\n",
       "\t<tr><td>Poison  </td><td> 28</td><td> 74.67857</td><td> 74.0</td><td> 68.82143</td><td> 67.0</td></tr>\n",
       "\t<tr><td>Psychic </td><td> 57</td><td> 71.45614</td><td> 57.0</td><td> 67.68421</td><td> 65.0</td></tr>\n",
       "\t<tr><td>Rock    </td><td> 44</td><td> 92.86364</td><td> 95.0</td><td>100.79545</td><td>100.0</td></tr>\n",
       "\t<tr><td>Steel   </td><td> 27</td><td> 92.70370</td><td> 89.0</td><td>126.37037</td><td>120.0</td></tr>\n",
       "\t<tr><td>Water   </td><td>112</td><td> 74.15179</td><td> 72.0</td><td> 72.94643</td><td> 70.0</td></tr>\n",
       "</tbody>\n",
       "</table>\n"
      ],
      "text/latex": [
       "A tibble: 18 × 6\n",
       "\\begin{tabular}{llllll}\n",
       " Type.1 & count & mean.Attack & median.Attack & mean.Defense & median.Defense\\\\\n",
       " <chr> & <int> & <dbl> & <dbl> & <dbl> & <dbl>\\\\\n",
       "\\hline\n",
       "\t Bug      &  69 &  70.97101 &  65.0 &  70.72464 &  60.0\\\\\n",
       "\t Dark     &  31 &  88.38710 &  88.0 &  70.22581 &  70.0\\\\\n",
       "\t Dragon   &  32 & 112.12500 & 113.5 &  86.37500 &  90.0\\\\\n",
       "\t Electric &  44 &  69.09091 &  65.0 &  66.29545 &  65.0\\\\\n",
       "\t Fairy    &  17 &  61.52941 &  52.0 &  65.70588 &  66.0\\\\\n",
       "\t Fighting &  27 &  96.77778 & 100.0 &  65.92593 &  70.0\\\\\n",
       "\t Fire     &  52 &  84.76923 &  84.5 &  67.76923 &  64.0\\\\\n",
       "\t Flying   &   4 &  78.75000 &  85.0 &  66.25000 &  75.0\\\\\n",
       "\t Ghost    &  32 &  73.78125 &  66.0 &  81.18750 &  72.5\\\\\n",
       "\t Grass    &  70 &  73.21429 &  70.0 &  70.80000 &  66.0\\\\\n",
       "\t Ground   &  32 &  95.75000 &  85.0 &  84.84375 &  84.5\\\\\n",
       "\t Ice      &  24 &  72.75000 &  67.0 &  71.41667 &  75.0\\\\\n",
       "\t Normal   &  98 &  73.46939 &  70.5 &  59.84694 &  60.0\\\\\n",
       "\t Poison   &  28 &  74.67857 &  74.0 &  68.82143 &  67.0\\\\\n",
       "\t Psychic  &  57 &  71.45614 &  57.0 &  67.68421 &  65.0\\\\\n",
       "\t Rock     &  44 &  92.86364 &  95.0 & 100.79545 & 100.0\\\\\n",
       "\t Steel    &  27 &  92.70370 &  89.0 & 126.37037 & 120.0\\\\\n",
       "\t Water    & 112 &  74.15179 &  72.0 &  72.94643 &  70.0\\\\\n",
       "\\end{tabular}\n"
      ],
      "text/markdown": [
       "\n",
       "A tibble: 18 × 6\n",
       "\n",
       "| Type.1 &lt;chr&gt; | count &lt;int&gt; | mean.Attack &lt;dbl&gt; | median.Attack &lt;dbl&gt; | mean.Defense &lt;dbl&gt; | median.Defense &lt;dbl&gt; |\n",
       "|---|---|---|---|---|---|\n",
       "| Bug      |  69 |  70.97101 |  65.0 |  70.72464 |  60.0 |\n",
       "| Dark     |  31 |  88.38710 |  88.0 |  70.22581 |  70.0 |\n",
       "| Dragon   |  32 | 112.12500 | 113.5 |  86.37500 |  90.0 |\n",
       "| Electric |  44 |  69.09091 |  65.0 |  66.29545 |  65.0 |\n",
       "| Fairy    |  17 |  61.52941 |  52.0 |  65.70588 |  66.0 |\n",
       "| Fighting |  27 |  96.77778 | 100.0 |  65.92593 |  70.0 |\n",
       "| Fire     |  52 |  84.76923 |  84.5 |  67.76923 |  64.0 |\n",
       "| Flying   |   4 |  78.75000 |  85.0 |  66.25000 |  75.0 |\n",
       "| Ghost    |  32 |  73.78125 |  66.0 |  81.18750 |  72.5 |\n",
       "| Grass    |  70 |  73.21429 |  70.0 |  70.80000 |  66.0 |\n",
       "| Ground   |  32 |  95.75000 |  85.0 |  84.84375 |  84.5 |\n",
       "| Ice      |  24 |  72.75000 |  67.0 |  71.41667 |  75.0 |\n",
       "| Normal   |  98 |  73.46939 |  70.5 |  59.84694 |  60.0 |\n",
       "| Poison   |  28 |  74.67857 |  74.0 |  68.82143 |  67.0 |\n",
       "| Psychic  |  57 |  71.45614 |  57.0 |  67.68421 |  65.0 |\n",
       "| Rock     |  44 |  92.86364 |  95.0 | 100.79545 | 100.0 |\n",
       "| Steel    |  27 |  92.70370 |  89.0 | 126.37037 | 120.0 |\n",
       "| Water    | 112 |  74.15179 |  72.0 |  72.94643 |  70.0 |\n",
       "\n"
      ],
      "text/plain": [
       "   Type.1   count mean.Attack median.Attack mean.Defense median.Defense\n",
       "1  Bug       69    70.97101    65.0          70.72464     60.0         \n",
       "2  Dark      31    88.38710    88.0          70.22581     70.0         \n",
       "3  Dragon    32   112.12500   113.5          86.37500     90.0         \n",
       "4  Electric  44    69.09091    65.0          66.29545     65.0         \n",
       "5  Fairy     17    61.52941    52.0          65.70588     66.0         \n",
       "6  Fighting  27    96.77778   100.0          65.92593     70.0         \n",
       "7  Fire      52    84.76923    84.5          67.76923     64.0         \n",
       "8  Flying     4    78.75000    85.0          66.25000     75.0         \n",
       "9  Ghost     32    73.78125    66.0          81.18750     72.5         \n",
       "10 Grass     70    73.21429    70.0          70.80000     66.0         \n",
       "11 Ground    32    95.75000    85.0          84.84375     84.5         \n",
       "12 Ice       24    72.75000    67.0          71.41667     75.0         \n",
       "13 Normal    98    73.46939    70.5          59.84694     60.0         \n",
       "14 Poison    28    74.67857    74.0          68.82143     67.0         \n",
       "15 Psychic   57    71.45614    57.0          67.68421     65.0         \n",
       "16 Rock      44    92.86364    95.0         100.79545    100.0         \n",
       "17 Steel     27    92.70370    89.0         126.37037    120.0         \n",
       "18 Water    112    74.15179    72.0          72.94643     70.0         "
      ]
     },
     "metadata": {},
     "output_type": "display_data"
    }
   ],
   "source": [
    "group_summay"
   ]
  },
  {
   "cell_type": "code",
   "execution_count": null,
   "id": "cca3cf7b-a70f-403e-8f2e-047be78c2a48",
   "metadata": {},
   "outputs": [],
   "source": []
  },
  {
   "cell_type": "code",
   "execution_count": null,
   "id": "5d24b370-32cb-4743-ad0c-32e4004d6c79",
   "metadata": {},
   "outputs": [],
   "source": []
  },
  {
   "cell_type": "code",
   "execution_count": null,
   "id": "020b1cbd-e2a9-4c19-bb2d-91d6342b41ba",
   "metadata": {},
   "outputs": [],
   "source": []
  }
 ],
 "metadata": {
  "kernelspec": {
   "display_name": "R",
   "language": "R",
   "name": "ir"
  },
  "language_info": {
   "codemirror_mode": "r",
   "file_extension": ".r",
   "mimetype": "text/x-r-source",
   "name": "R",
   "pygments_lexer": "r",
   "version": "4.3.1"
  }
 },
 "nbformat": 4,
 "nbformat_minor": 5
}
