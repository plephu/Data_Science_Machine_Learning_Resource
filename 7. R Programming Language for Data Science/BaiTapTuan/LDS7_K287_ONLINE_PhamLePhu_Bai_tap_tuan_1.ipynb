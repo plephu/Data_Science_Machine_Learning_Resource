{
 "cells": [
  {
   "cell_type": "markdown",
   "metadata": {
    "id": "3KkCxqxNZhdE"
   },
   "source": [
    "# Bài tập tuần 1 \n",
    "## Bài tập số 1:\n",
    "### Viết chương trình cho phép người dùng:\n",
    "- Nhập vào một chuỗi. In chuỗi.\n",
    "- Nhập vào một ký tự. In ký tự.\n",
    "- Tạo chuỗi mới từ chuỗi đã có trong đó tất cả các ký tự đã nhập ở trên đều được in hoa.\n",
    "- Tách chuỗi đã nhập ở đầu bài thành danh sách các phần tử từ.\n",
    "- Nhập vào một từ. In từ.\n",
    "- Tìm xem từ vừa nhập có là phần tử nào trong danh sách phần tử trên hay không? Nếu tìm thấy thì thông báo là \"Found!!!\" ngược lại thì thông báo là \"Not found!!!\"\n",
    "- Nhập vào một từ cần tìm (find) trong chuỗi và một từ mới sẽ thay thế (replace). Thay thế tất cả các từ tìm (find) trong chuỗi bằng từ thay thế (replace)\n"
   ]
  },
  {
   "cell_type": "code",
   "execution_count": 1,
   "metadata": {
    "id": "IcKWoKF8LTPk"
   },
   "outputs": [
    {
     "name": "stdout",
     "output_type": "stream",
     "text": [
      "Nhập chuỗi: Today is a good day\n",
      "[1] \"Today is a good day\"\n"
     ]
    }
   ],
   "source": [
    "str <- readline(prompt = \"Nhập chuỗi: \")\n",
    "print(str)"
   ]
  },
  {
   "cell_type": "code",
   "execution_count": 2,
   "metadata": {},
   "outputs": [
    {
     "name": "stdout",
     "output_type": "stream",
     "text": [
      "Nhập ký tự: g\n",
      "[1] \"g\"\n"
     ]
    }
   ],
   "source": [
    "chr <- readline(prompt = \"Nhập ký tự: \")\n",
    "print(chr)"
   ]
  },
  {
   "cell_type": "code",
   "execution_count": 3,
   "metadata": {},
   "outputs": [
    {
     "name": "stdout",
     "output_type": "stream",
     "text": [
      "[1] \"TODAY IS A GOOD DAY\"\n"
     ]
    }
   ],
   "source": [
    "str_up <- toupper(str)\n",
    "print(str_up)"
   ]
  },
  {
   "cell_type": "code",
   "execution_count": 4,
   "metadata": {},
   "outputs": [
    {
     "name": "stdout",
     "output_type": "stream",
     "text": [
      "[1] \"Today\" \"is\"    \"a\"     \"good\"  \"day\"  \n"
     ]
    }
   ],
   "source": [
    "char_list <- strsplit(str, ' ')\n",
    "word_list <- unlist(char_list)\n",
    "print(word_list)"
   ]
  },
  {
   "cell_type": "code",
   "execution_count": 5,
   "metadata": {},
   "outputs": [
    {
     "name": "stdout",
     "output_type": "stream",
     "text": [
      "Nhập 1 từ: good\n",
      "[1] \"good\"\n"
     ]
    }
   ],
   "source": [
    "wrd <- readline(prompt = \"Nhập 1 từ: \")\n",
    "print(wrd)"
   ]
  },
  {
   "cell_type": "code",
   "execution_count": 6,
   "metadata": {},
   "outputs": [
    {
     "name": "stdout",
     "output_type": "stream",
     "text": [
      "[1] \"FOUND\"\n"
     ]
    }
   ],
   "source": [
    "result <- ifelse(grepl(wrd, str), \"FOUND\", \"NOT FOUND\")\n",
    "print(result)"
   ]
  },
  {
   "cell_type": "code",
   "execution_count": 7,
   "metadata": {},
   "outputs": [
    {
     "name": "stdout",
     "output_type": "stream",
     "text": [
      "Nhập từ cần tìm: good\n",
      "Nhập từ thay thế: well\n",
      "[1] \"Chuỗi sua khi thay thế:  Today is a well day\"\n"
     ]
    }
   ],
   "source": [
    "str_find <- readline(prompt = \"Nhập từ cần tìm: \")\n",
    "str_replace <- readline(prompt = \"Nhập từ thay thế: \")\n",
    "str_new <- gsub(str_find, str_replace, str)\n",
    "print(paste(\"Chuỗi sua khi thay thế: \",str_new))"
   ]
  },
  {
   "cell_type": "markdown",
   "metadata": {
    "id": "7tdvIByoRzaE"
   },
   "source": [
    "## Bài tập số 2:\n",
    "### Viết chương trình cho phép người dùng:\n",
    "- Nhập vào ngày sinh của mình theo định dạng: 2023-mm-dd. \n",
    "- Lấy ngày hiện hành\n",
    "- Hãy in ra một trong 3 nội dung sau tùy kết quả (so với ngày hiện hành):\n",
    "  - Nếu ngày sinh nhật của bạn chưa tới thì \"The next xx days will be your birthday.\"\n",
    "  - Nếu ngày sinh nhật của bạn dã qua thì \"Your birthday has passed xx days.\"\n",
    "  - Nếu hôm nay là sinh nhật của bạn thì \"Happy birthday to you!\" "
   ]
  },
  {
   "cell_type": "code",
   "execution_count": 8,
   "metadata": {
    "id": "uLRpbRftwcH0"
   },
   "outputs": [
    {
     "name": "stdout",
     "output_type": "stream",
     "text": [
      "Nhập ngày sinh: YYYY-mm-dd: 1991-08-14\n"
     ]
    }
   ],
   "source": [
    "birthday <- readline(prompt = \"Nhập ngày sinh: YYYY-mm-dd: \")\n",
    "birthday <- as.Date(birthday, format(\"%Y-%m-%d\"))\n"
   ]
  },
  {
   "cell_type": "code",
   "execution_count": 9,
   "metadata": {},
   "outputs": [
    {
     "data": {
      "text/html": [
       "<time datetime=\"1991-08-14\">1991-08-14</time>"
      ],
      "text/latex": [
       "1991-08-14"
      ],
      "text/markdown": [
       "1991-08-14"
      ],
      "text/plain": [
       "[1] \"1991-08-14\""
      ]
     },
     "metadata": {},
     "output_type": "display_data"
    }
   ],
   "source": [
    "birthday"
   ]
  },
  {
   "cell_type": "code",
   "execution_count": 10,
   "metadata": {},
   "outputs": [
    {
     "data": {
      "text/html": [
       "<time datetime=\"2023-08-14\">2023-08-14</time>"
      ],
      "text/latex": [
       "2023-08-14"
      ],
      "text/markdown": [
       "2023-08-14"
      ],
      "text/plain": [
       "[1] \"2023-08-14\""
      ]
     },
     "metadata": {},
     "output_type": "display_data"
    }
   ],
   "source": [
    "now_date <- Sys.Date()\n",
    "now_date"
   ]
  },
  {
   "cell_type": "code",
   "execution_count": 11,
   "metadata": {},
   "outputs": [
    {
     "data": {
      "text/html": [
       "<time datetime=\"2023-08-14\">2023-08-14</time>"
      ],
      "text/latex": [
       "2023-08-14"
      ],
      "text/markdown": [
       "2023-08-14"
      ],
      "text/plain": [
       "[1] \"2023-08-14\""
      ]
     },
     "metadata": {},
     "output_type": "display_data"
    }
   ],
   "source": [
    "month_day <- format(birthday, \"%m-%d\")\n",
    "year <- format(now_date, \"%Y\")\n",
    "new_date <- as.Date(paste(year, month_day, sep = \"-\"))\n",
    "new_date"
   ]
  },
  {
   "cell_type": "code",
   "execution_count": 12,
   "metadata": {},
   "outputs": [
    {
     "name": "stdout",
     "output_type": "stream",
     "text": [
      "[1] \"Happy birthday to you!\"\n"
     ]
    }
   ],
   "source": [
    "distance <- now_date - new_date\n",
    "if (distance < 0){\n",
    "    print(paste(\"The next\", (-1)*distance, \"days will be your birthday.\"))\n",
    "} else if (distance > 0){\n",
    "    print(paste(\"Your birthday has passed\", distance, \"days.\"))\n",
    "} else {\n",
    "    print(\"Happy birthday to you!\")\n",
    "}\n",
    "    "
   ]
  },
  {
   "cell_type": "markdown",
   "metadata": {
    "id": "VPbVlUR5qmux"
   },
   "source": [
    "## Bài tập số 3:\n",
    "### Viết chương trình cho phép người dùng:\n",
    "- Nhập vào một số n với điều kiện sau: 10<=n<=20. Nếu số người dùng nhập không thỏa điều kiện thì thông báo cho người dùng biết và yêu cầu nhập lại. Nêu thỏa điều kiện thì qua 2.\n",
    "- Tạo một dãy số v1 có n số mà mỗi số là một số ngẫu nhiên từ 1 đến 10. Ví dụ: v1: 5, 5, 5, 9, 9, 8, 5, 9, 9, 10, 7, 7\n",
    "- Viết một function tạo dãy số mới v2 từ dãy số v1 nói trên theo điều kiện sau: phần tử đầu tiên và cuối cùng của v2 bằng v1, các phần tử khác thì v2[i] = v1[i] + v1[i-1] + v1[i+1] nếu cả v1[i-1] và v1[i+1] cùng chẵn hoặc cùng lẻ, ngược lại v2[i] = v1[i]. Ví dụ: v2: 5, 15, 19, 23, 9, 22, 5, 23, 9, 26, 7, 7\n",
    "- Gọi function vừa viết và in kết quả v2.\n",
    "- Viết function Cho biết trong một dãy số có số chính phương nào hay không?\n",
    "- Gọi function vừa viết với input là v2 và in kết quả."
   ]
  },
  {
   "cell_type": "code",
   "execution_count": 13,
   "metadata": {
    "id": "7MtFDCMKtWEl"
   },
   "outputs": [
    {
     "name": "stdout",
     "output_type": "stream",
     "text": [
      "Nhập n (10<=n<=20)3\n"
     ]
    },
    {
     "name": "stderr",
     "output_type": "stream",
     "text": [
      "3\n",
      "\n"
     ]
    },
    {
     "name": "stdout",
     "output_type": "stream",
     "text": [
      "Nhập n (10<=n<=20)4\n"
     ]
    },
    {
     "name": "stderr",
     "output_type": "stream",
     "text": [
      "4\n",
      "\n"
     ]
    },
    {
     "name": "stdout",
     "output_type": "stream",
     "text": [
      "Nhập n (10<=n<=20)15\n"
     ]
    }
   ],
   "source": [
    "repeat{\n",
    "    n <- as.integer(readline(prompt = 'Nhập n (10<=n<=20)'))\n",
    "    if ((10<=n) & (n<=20)){\n",
    "        break\n",
    "    }\n",
    "    message(n)\n",
    "}"
   ]
  },
  {
   "cell_type": "code",
   "execution_count": 14,
   "metadata": {},
   "outputs": [
    {
     "name": "stdout",
     "output_type": "stream",
     "text": [
      " [1]  3  6  7 10  4  2  6 10  5  5\n"
     ]
    }
   ],
   "source": [
    "n <- 10\n",
    "v1 <- sample(1:10, n, replace = TRUE)\n",
    "print(v1)"
   ]
  },
  {
   "cell_type": "code",
   "execution_count": 15,
   "metadata": {},
   "outputs": [],
   "source": [
    "generate_v2 <- function(v1) {\n",
    "  n <- length(v1)\n",
    "  v2 <- numeric(n)  \n",
    "    \n",
    "  v2[1] <- v1[1]\n",
    "  v2[n] <- v1[n]\n",
    "    \n",
    "  for (i in 2:(n - 1)) {\n",
    "    if ((v1[i - 1] %% 2 == 0 && v1[i + 1] %% 2 == 0) || (v1[i - 1] %% 2 != 0 && v1[i + 1] %% 2 != 0)) {\n",
    "      v2[i] <- v1[i] + v1[i - 1] + v1[i + 1]\n",
    "    } else {\n",
    "      v2[i] <- v1[i]\n",
    "    }\n",
    "  }\n",
    "  return(v2)\n",
    "}"
   ]
  },
  {
   "cell_type": "code",
   "execution_count": 16,
   "metadata": {},
   "outputs": [
    {
     "name": "stdout",
     "output_type": "stream",
     "text": [
      " [1]  3 16 23 10 16 12 18 10  5  5\n"
     ]
    }
   ],
   "source": [
    "v2 <- generate_v2(v1)\n",
    "print(v2)"
   ]
  },
  {
   "cell_type": "code",
   "execution_count": 17,
   "metadata": {},
   "outputs": [],
   "source": [
    "has_perfect_square <- function(numbers) {\n",
    "  for (num in numbers) {\n",
    "    sqrt_num <- sqrt(num)\n",
    "    if (sqrt_num == floor(sqrt_num)) {\n",
    "      return(TRUE)\n",
    "    }\n",
    "  }\n",
    "  return(FALSE)\n",
    "}"
   ]
  },
  {
   "cell_type": "code",
   "execution_count": 18,
   "metadata": {},
   "outputs": [
    {
     "name": "stdout",
     "output_type": "stream",
     "text": [
      "[1] \"Có số chính phương trong dãy số.\"\n"
     ]
    }
   ],
   "source": [
    "result <- has_perfect_square(v2)\n",
    "\n",
    "if (result) {\n",
    "  print(\"Có số chính phương trong dãy số.\")\n",
    "} else {\n",
    "  print(\"Không có số chính phương trong dãy số.\")\n",
    "}"
   ]
  },
  {
   "cell_type": "code",
   "execution_count": null,
   "metadata": {},
   "outputs": [],
   "source": []
  }
 ],
 "metadata": {
  "colab": {
   "authorship_tag": "ABX9TyOlGfxFFqsGhU0NKaJWRvgd",
   "provenance": []
  },
  "kernelspec": {
   "display_name": "R",
   "language": "R",
   "name": "ir"
  },
  "language_info": {
   "codemirror_mode": "r",
   "file_extension": ".r",
   "mimetype": "text/x-r-source",
   "name": "R",
   "pygments_lexer": "r",
   "version": "4.3.1"
  }
 },
 "nbformat": 4,
 "nbformat_minor": 1
}
