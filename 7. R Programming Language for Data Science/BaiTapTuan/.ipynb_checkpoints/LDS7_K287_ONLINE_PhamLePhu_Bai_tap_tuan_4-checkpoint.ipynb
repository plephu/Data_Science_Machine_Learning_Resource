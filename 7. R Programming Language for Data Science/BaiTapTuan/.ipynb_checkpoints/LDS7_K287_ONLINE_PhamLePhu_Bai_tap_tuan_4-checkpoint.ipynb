{
 "cells": [
  {
   "cell_type": "markdown",
   "id": "d33fc5d0-2027-4af9-b880-30085a5fef7f",
   "metadata": {},
   "source": [
    "# Chương 12\n"
   ]
  },
  {
   "cell_type": "markdown",
   "id": "28e46c24-6165-492c-a638-61bd82b4ee2a",
   "metadata": {},
   "source": [
    "## Exercise 3: EconomistData"
   ]
  },
  {
   "cell_type": "code",
   "execution_count": 1,
   "id": "2cb5e204-5f1f-4514-b395-de58ad4a5f5a",
   "metadata": {},
   "outputs": [],
   "source": [
    "library('ggplot2')"
   ]
  },
  {
   "cell_type": "code",
   "execution_count": 2,
   "id": "81ec1c6f-a909-4d96-b05f-0c2317c1d438",
   "metadata": {},
   "outputs": [],
   "source": [
    "data <- read.csv('EconomistData.csv')"
   ]
  },
  {
   "cell_type": "code",
   "execution_count": 3,
   "id": "51e34206-56e8-4c00-8a8e-58ccc6096c80",
   "metadata": {},
   "outputs": [
    {
     "data": {
      "text/html": [
       "<table class=\"dataframe\">\n",
       "<caption>A data.frame: 6 × 5</caption>\n",
       "<thead>\n",
       "\t<tr><th></th><th scope=col>Country</th><th scope=col>HDI.Rank</th><th scope=col>HDI</th><th scope=col>CPI</th><th scope=col>Region</th></tr>\n",
       "\t<tr><th></th><th scope=col>&lt;chr&gt;</th><th scope=col>&lt;int&gt;</th><th scope=col>&lt;dbl&gt;</th><th scope=col>&lt;dbl&gt;</th><th scope=col>&lt;chr&gt;</th></tr>\n",
       "</thead>\n",
       "<tbody>\n",
       "\t<tr><th scope=row>1</th><td>Afghanistan</td><td>172</td><td>0.398</td><td>1.5</td><td>Asia Pacific     </td></tr>\n",
       "\t<tr><th scope=row>2</th><td>Albania    </td><td> 70</td><td>0.739</td><td>3.1</td><td>East EU Cemt Asia</td></tr>\n",
       "\t<tr><th scope=row>3</th><td>Algeria    </td><td> 96</td><td>0.698</td><td>2.9</td><td>MENA             </td></tr>\n",
       "\t<tr><th scope=row>4</th><td>Angola     </td><td>148</td><td>0.486</td><td>2.0</td><td>SSA              </td></tr>\n",
       "\t<tr><th scope=row>5</th><td>Argentina  </td><td> 45</td><td>0.797</td><td>3.0</td><td>Americas         </td></tr>\n",
       "\t<tr><th scope=row>6</th><td>Armenia    </td><td> 86</td><td>0.716</td><td>2.6</td><td>East EU Cemt Asia</td></tr>\n",
       "</tbody>\n",
       "</table>\n"
      ],
      "text/latex": [
       "A data.frame: 6 × 5\n",
       "\\begin{tabular}{r|lllll}\n",
       "  & Country & HDI.Rank & HDI & CPI & Region\\\\\n",
       "  & <chr> & <int> & <dbl> & <dbl> & <chr>\\\\\n",
       "\\hline\n",
       "\t1 & Afghanistan & 172 & 0.398 & 1.5 & Asia Pacific     \\\\\n",
       "\t2 & Albania     &  70 & 0.739 & 3.1 & East EU Cemt Asia\\\\\n",
       "\t3 & Algeria     &  96 & 0.698 & 2.9 & MENA             \\\\\n",
       "\t4 & Angola      & 148 & 0.486 & 2.0 & SSA              \\\\\n",
       "\t5 & Argentina   &  45 & 0.797 & 3.0 & Americas         \\\\\n",
       "\t6 & Armenia     &  86 & 0.716 & 2.6 & East EU Cemt Asia\\\\\n",
       "\\end{tabular}\n"
      ],
      "text/markdown": [
       "\n",
       "A data.frame: 6 × 5\n",
       "\n",
       "| <!--/--> | Country &lt;chr&gt; | HDI.Rank &lt;int&gt; | HDI &lt;dbl&gt; | CPI &lt;dbl&gt; | Region &lt;chr&gt; |\n",
       "|---|---|---|---|---|---|\n",
       "| 1 | Afghanistan | 172 | 0.398 | 1.5 | Asia Pacific      |\n",
       "| 2 | Albania     |  70 | 0.739 | 3.1 | East EU Cemt Asia |\n",
       "| 3 | Algeria     |  96 | 0.698 | 2.9 | MENA              |\n",
       "| 4 | Angola      | 148 | 0.486 | 2.0 | SSA               |\n",
       "| 5 | Argentina   |  45 | 0.797 | 3.0 | Americas          |\n",
       "| 6 | Armenia     |  86 | 0.716 | 2.6 | East EU Cemt Asia |\n",
       "\n"
      ],
      "text/plain": [
       "  Country     HDI.Rank HDI   CPI Region           \n",
       "1 Afghanistan 172      0.398 1.5 Asia Pacific     \n",
       "2 Albania      70      0.739 3.1 East EU Cemt Asia\n",
       "3 Algeria      96      0.698 2.9 MENA             \n",
       "4 Angola      148      0.486 2.0 SSA              \n",
       "5 Argentina    45      0.797 3.0 Americas         \n",
       "6 Armenia      86      0.716 2.6 East EU Cemt Asia"
      ]
     },
     "metadata": {},
     "output_type": "display_data"
    }
   ],
   "source": [
    "head(data)"
   ]
  },
  {
   "cell_type": "code",
   "execution_count": 4,
   "id": "02c98ada-56ec-4f36-9e80-dbc5374278db",
   "metadata": {},
   "outputs": [
    {
     "data": {
      "text/plain": [
       "   Country             HDI.Rank           HDI              CPI       \n",
       " Length:173         Min.   :  1.00   Min.   :0.2860   Min.   :1.500  \n",
       " Class :character   1st Qu.: 47.00   1st Qu.:0.5090   1st Qu.:2.500  \n",
       " Mode  :character   Median : 96.00   Median :0.6980   Median :3.200  \n",
       "                    Mean   : 95.28   Mean   :0.6581   Mean   :4.052  \n",
       "                    3rd Qu.:143.00   3rd Qu.:0.7930   3rd Qu.:5.100  \n",
       "                    Max.   :187.00   Max.   :0.9430   Max.   :9.500  \n",
       "    Region         \n",
       " Length:173        \n",
       " Class :character  \n",
       " Mode  :character  \n",
       "                   \n",
       "                   \n",
       "                   "
      ]
     },
     "metadata": {},
     "output_type": "display_data"
    }
   ],
   "source": [
    "summary(data)"
   ]
  },
  {
   "cell_type": "code",
   "execution_count": 5,
   "id": "a30856cd-4ca4-4c21-abb9-064ff85fee03",
   "metadata": {},
   "outputs": [
    {
     "name": "stdout",
     "output_type": "stream",
     "text": [
      "'data.frame':\t173 obs. of  5 variables:\n",
      " $ Country : chr  \"Afghanistan\" \"Albania\" \"Algeria\" \"Angola\" ...\n",
      " $ HDI.Rank: int  172 70 96 148 45 86 2 19 91 53 ...\n",
      " $ HDI     : num  0.398 0.739 0.698 0.486 0.797 0.716 0.929 0.885 0.7 0.771 ...\n",
      " $ CPI     : num  1.5 3.1 2.9 2 3 2.6 8.8 7.8 2.4 7.3 ...\n",
      " $ Region  : chr  \"Asia Pacific\" \"East EU Cemt Asia\" \"MENA\" \"SSA\" ...\n"
     ]
    }
   ],
   "source": [
    "str(data)"
   ]
  },
  {
   "cell_type": "code",
   "execution_count": 6,
   "id": "12c41416-b825-4c42-a2de-eb6e1f0980a5",
   "metadata": {},
   "outputs": [
    {
     "data": {
      "image/png": "[encoded data removed]",
      "text/plain": [
       "plot without title"
      ]
     },
     "metadata": {
      "image/png": {
       "height": 420,
       "width": 420
      }
     },
     "output_type": "display_data"
    }
   ],
   "source": [
    "ggplot(data, aes(x=CPI, y = HDI)) + geom_point(aes(color = Region, size = HDI.Rank))"
   ]
  },
  {
   "cell_type": "code",
   "execution_count": 7,
   "id": "7682d508-aa7e-486e-adef-274b13dd135b",
   "metadata": {},
   "outputs": [
    {
     "name": "stderr",
     "output_type": "stream",
     "text": [
      "\u001b[1m\u001b[22m`geom_smooth()` using formula = 'y ~ x'\n"
     ]
    },
    {
     "data": {
      "image/png": "[encoded data removed]",
      "text/plain": [
       "plot without title"
      ]
     },
     "metadata": {
      "image/png": {
       "height": 420,
       "width": 420
      }
     },
     "output_type": "display_data"
    }
   ],
   "source": [
    "ggplot(data, aes(x=CPI, y = HDI)) + geom_point() + geom_smooth(method = 'lm')"
   ]
  },
  {
   "cell_type": "code",
   "execution_count": null,
   "id": "dd6fe161-edd7-4033-80d4-47d7dcd82ee4",
   "metadata": {},
   "outputs": [],
   "source": []
  },
  {
   "cell_type": "markdown",
   "id": "09e568e7-dc7c-4cd1-952a-05320aab7fad",
   "metadata": {},
   "source": [
    "# Chương 13"
   ]
  },
  {
   "cell_type": "markdown",
   "id": "ec8fc7c1-1bcb-4dfd-92b8-401c0d145aae",
   "metadata": {},
   "source": [
    "## Exercise 1: PimalIndiansDiabetes"
   ]
  },
  {
   "cell_type": "code",
   "execution_count": 8,
   "id": "fa982f03-8621-4593-b55b-afeac8a8ac13",
   "metadata": {},
   "outputs": [
    {
     "name": "stderr",
     "output_type": "stream",
     "text": [
      "Installing package into 'C:/Users/AW/AppData/Local/R/win-library/4.3'\n",
      "(as 'lib' is unspecified)\n",
      "\n"
     ]
    },
    {
     "name": "stdout",
     "output_type": "stream",
     "text": [
      "package 'mlbench' successfully unpacked and MD5 sums checked\n",
      "\n",
      "The downloaded binary packages are in\n",
      "\tC:\\Users\\AW\\AppData\\Local\\Temp\\RtmpQ9dnVc\\downloaded_packages\n"
     ]
    }
   ],
   "source": [
    "install.packages('mlbench')"
   ]
  },
  {
   "cell_type": "code",
   "execution_count": 9,
   "id": "6db47156-a42a-4ff8-932a-e89449dcdc64",
   "metadata": {},
   "outputs": [
    {
     "data": {
      "text/html": [
       "<table class=\"dataframe\">\n",
       "<caption>A data.frame: 10 × 9</caption>\n",
       "<thead>\n",
       "\t<tr><th></th><th scope=col>pregnant</th><th scope=col>glucose</th><th scope=col>pressure</th><th scope=col>triceps</th><th scope=col>insulin</th><th scope=col>mass</th><th scope=col>pedigree</th><th scope=col>age</th><th scope=col>diabetes</th></tr>\n",
       "\t<tr><th></th><th scope=col>&lt;dbl&gt;</th><th scope=col>&lt;dbl&gt;</th><th scope=col>&lt;dbl&gt;</th><th scope=col>&lt;dbl&gt;</th><th scope=col>&lt;dbl&gt;</th><th scope=col>&lt;dbl&gt;</th><th scope=col>&lt;dbl&gt;</th><th scope=col>&lt;dbl&gt;</th><th scope=col>&lt;fct&gt;</th></tr>\n",
       "</thead>\n",
       "<tbody>\n",
       "\t<tr><th scope=row>1</th><td> 6</td><td>148</td><td>72</td><td>35</td><td>  0</td><td>33.6</td><td>0.627</td><td>50</td><td>pos</td></tr>\n",
       "\t<tr><th scope=row>2</th><td> 1</td><td> 85</td><td>66</td><td>29</td><td>  0</td><td>26.6</td><td>0.351</td><td>31</td><td>neg</td></tr>\n",
       "\t<tr><th scope=row>3</th><td> 8</td><td>183</td><td>64</td><td> 0</td><td>  0</td><td>23.3</td><td>0.672</td><td>32</td><td>pos</td></tr>\n",
       "\t<tr><th scope=row>4</th><td> 1</td><td> 89</td><td>66</td><td>23</td><td> 94</td><td>28.1</td><td>0.167</td><td>21</td><td>neg</td></tr>\n",
       "\t<tr><th scope=row>5</th><td> 0</td><td>137</td><td>40</td><td>35</td><td>168</td><td>43.1</td><td>2.288</td><td>33</td><td>pos</td></tr>\n",
       "\t<tr><th scope=row>6</th><td> 5</td><td>116</td><td>74</td><td> 0</td><td>  0</td><td>25.6</td><td>0.201</td><td>30</td><td>neg</td></tr>\n",
       "\t<tr><th scope=row>7</th><td> 3</td><td> 78</td><td>50</td><td>32</td><td> 88</td><td>31.0</td><td>0.248</td><td>26</td><td>pos</td></tr>\n",
       "\t<tr><th scope=row>8</th><td>10</td><td>115</td><td> 0</td><td> 0</td><td>  0</td><td>35.3</td><td>0.134</td><td>29</td><td>neg</td></tr>\n",
       "\t<tr><th scope=row>9</th><td> 2</td><td>197</td><td>70</td><td>45</td><td>543</td><td>30.5</td><td>0.158</td><td>53</td><td>pos</td></tr>\n",
       "\t<tr><th scope=row>10</th><td> 8</td><td>125</td><td>96</td><td> 0</td><td>  0</td><td> 0.0</td><td>0.232</td><td>54</td><td>pos</td></tr>\n",
       "</tbody>\n",
       "</table>\n"
      ],
      "text/latex": [
       "A data.frame: 10 × 9\n",
       "\\begin{tabular}{r|lllllllll}\n",
       "  & pregnant & glucose & pressure & triceps & insulin & mass & pedigree & age & diabetes\\\\\n",
       "  & <dbl> & <dbl> & <dbl> & <dbl> & <dbl> & <dbl> & <dbl> & <dbl> & <fct>\\\\\n",
       "\\hline\n",
       "\t1 &  6 & 148 & 72 & 35 &   0 & 33.6 & 0.627 & 50 & pos\\\\\n",
       "\t2 &  1 &  85 & 66 & 29 &   0 & 26.6 & 0.351 & 31 & neg\\\\\n",
       "\t3 &  8 & 183 & 64 &  0 &   0 & 23.3 & 0.672 & 32 & pos\\\\\n",
       "\t4 &  1 &  89 & 66 & 23 &  94 & 28.1 & 0.167 & 21 & neg\\\\\n",
       "\t5 &  0 & 137 & 40 & 35 & 168 & 43.1 & 2.288 & 33 & pos\\\\\n",
       "\t6 &  5 & 116 & 74 &  0 &   0 & 25.6 & 0.201 & 30 & neg\\\\\n",
       "\t7 &  3 &  78 & 50 & 32 &  88 & 31.0 & 0.248 & 26 & pos\\\\\n",
       "\t8 & 10 & 115 &  0 &  0 &   0 & 35.3 & 0.134 & 29 & neg\\\\\n",
       "\t9 &  2 & 197 & 70 & 45 & 543 & 30.5 & 0.158 & 53 & pos\\\\\n",
       "\t10 &  8 & 125 & 96 &  0 &   0 &  0.0 & 0.232 & 54 & pos\\\\\n",
       "\\end{tabular}\n"
      ],
      "text/markdown": [
       "\n",
       "A data.frame: 10 × 9\n",
       "\n",
       "| <!--/--> | pregnant &lt;dbl&gt; | glucose &lt;dbl&gt; | pressure &lt;dbl&gt; | triceps &lt;dbl&gt; | insulin &lt;dbl&gt; | mass &lt;dbl&gt; | pedigree &lt;dbl&gt; | age &lt;dbl&gt; | diabetes &lt;fct&gt; |\n",
       "|---|---|---|---|---|---|---|---|---|---|\n",
       "| 1 |  6 | 148 | 72 | 35 |   0 | 33.6 | 0.627 | 50 | pos |\n",
       "| 2 |  1 |  85 | 66 | 29 |   0 | 26.6 | 0.351 | 31 | neg |\n",
       "| 3 |  8 | 183 | 64 |  0 |   0 | 23.3 | 0.672 | 32 | pos |\n",
       "| 4 |  1 |  89 | 66 | 23 |  94 | 28.1 | 0.167 | 21 | neg |\n",
       "| 5 |  0 | 137 | 40 | 35 | 168 | 43.1 | 2.288 | 33 | pos |\n",
       "| 6 |  5 | 116 | 74 |  0 |   0 | 25.6 | 0.201 | 30 | neg |\n",
       "| 7 |  3 |  78 | 50 | 32 |  88 | 31.0 | 0.248 | 26 | pos |\n",
       "| 8 | 10 | 115 |  0 |  0 |   0 | 35.3 | 0.134 | 29 | neg |\n",
       "| 9 |  2 | 197 | 70 | 45 | 543 | 30.5 | 0.158 | 53 | pos |\n",
       "| 10 |  8 | 125 | 96 |  0 |   0 |  0.0 | 0.232 | 54 | pos |\n",
       "\n"
      ],
      "text/plain": [
       "   pregnant glucose pressure triceps insulin mass pedigree age diabetes\n",
       "1   6       148     72       35        0     33.6 0.627    50  pos     \n",
       "2   1        85     66       29        0     26.6 0.351    31  neg     \n",
       "3   8       183     64        0        0     23.3 0.672    32  pos     \n",
       "4   1        89     66       23       94     28.1 0.167    21  neg     \n",
       "5   0       137     40       35      168     43.1 2.288    33  pos     \n",
       "6   5       116     74        0        0     25.6 0.201    30  neg     \n",
       "7   3        78     50       32       88     31.0 0.248    26  pos     \n",
       "8  10       115      0        0        0     35.3 0.134    29  neg     \n",
       "9   2       197     70       45      543     30.5 0.158    53  pos     \n",
       "10  8       125     96        0        0      0.0 0.232    54  pos     "
      ]
     },
     "metadata": {},
     "output_type": "display_data"
    }
   ],
   "source": [
    "library(mlbench)\n",
    "data(PimaIndiansDiabetes)\n",
    "head(PimaIndiansDiabetes, n = 10)"
   ]
  },
  {
   "cell_type": "code",
   "execution_count": 10,
   "id": "9785b31f-a7de-4eef-9e2a-ae21e3f92e3c",
   "metadata": {},
   "outputs": [
    {
     "name": "stdout",
     "output_type": "stream",
     "text": [
      "'data.frame':\t768 obs. of  9 variables:\n",
      " $ pregnant: num  6 1 8 1 0 5 3 10 2 8 ...\n",
      " $ glucose : num  148 85 183 89 137 116 78 115 197 125 ...\n",
      " $ pressure: num  72 66 64 66 40 74 50 0 70 96 ...\n",
      " $ triceps : num  35 29 0 23 35 0 32 0 45 0 ...\n",
      " $ insulin : num  0 0 0 94 168 0 88 0 543 0 ...\n",
      " $ mass    : num  33.6 26.6 23.3 28.1 43.1 25.6 31 35.3 30.5 0 ...\n",
      " $ pedigree: num  0.627 0.351 0.672 0.167 2.288 ...\n",
      " $ age     : num  50 31 32 21 33 30 26 29 53 54 ...\n",
      " $ diabetes: Factor w/ 2 levels \"neg\",\"pos\": 2 1 2 1 2 1 2 1 2 2 ...\n"
     ]
    }
   ],
   "source": [
    "str(PimaIndiansDiabetes)"
   ]
  },
  {
   "cell_type": "code",
   "execution_count": 11,
   "id": "fd137414-ef64-4a79-8551-b7ea199b3b19",
   "metadata": {},
   "outputs": [
    {
     "data": {
      "text/plain": [
       "    pregnant         glucose         pressure         triceps     \n",
       " Min.   : 0.000   Min.   :  0.0   Min.   :  0.00   Min.   : 0.00  \n",
       " 1st Qu.: 1.000   1st Qu.: 99.0   1st Qu.: 62.00   1st Qu.: 0.00  \n",
       " Median : 3.000   Median :117.0   Median : 72.00   Median :23.00  \n",
       " Mean   : 3.845   Mean   :120.9   Mean   : 69.11   Mean   :20.54  \n",
       " 3rd Qu.: 6.000   3rd Qu.:140.2   3rd Qu.: 80.00   3rd Qu.:32.00  \n",
       " Max.   :17.000   Max.   :199.0   Max.   :122.00   Max.   :99.00  \n",
       "    insulin           mass          pedigree           age        diabetes \n",
       " Min.   :  0.0   Min.   : 0.00   Min.   :0.0780   Min.   :21.00   neg:500  \n",
       " 1st Qu.:  0.0   1st Qu.:27.30   1st Qu.:0.2437   1st Qu.:24.00   pos:268  \n",
       " Median : 30.5   Median :32.00   Median :0.3725   Median :29.00            \n",
       " Mean   : 79.8   Mean   :31.99   Mean   :0.4719   Mean   :33.24            \n",
       " 3rd Qu.:127.2   3rd Qu.:36.60   3rd Qu.:0.6262   3rd Qu.:41.00            \n",
       " Max.   :846.0   Max.   :67.10   Max.   :2.4200   Max.   :81.00            "
      ]
     },
     "metadata": {},
     "output_type": "display_data"
    }
   ],
   "source": [
    "summary(PimaIndiansDiabetes)"
   ]
  },
  {
   "cell_type": "code",
   "execution_count": 12,
   "id": "60cf5abe-fe28-43ff-accb-a64eddf43712",
   "metadata": {},
   "outputs": [
    {
     "data": {
      "text/html": [
       "<style>\n",
       ".list-inline {list-style: none; margin:0; padding: 0}\n",
       ".list-inline>li {display: inline-block}\n",
       ".list-inline>li:not(:last-child)::after {content: \"\\00b7\"; padding: 0 .5ex}\n",
       "</style>\n",
       "<ol class=list-inline><li>768</li><li>9</li></ol>\n"
      ],
      "text/latex": [
       "\\begin{enumerate*}\n",
       "\\item 768\n",
       "\\item 9\n",
       "\\end{enumerate*}\n"
      ],
      "text/markdown": [
       "1. 768\n",
       "2. 9\n",
       "\n",
       "\n"
      ],
      "text/plain": [
       "[1] 768   9"
      ]
     },
     "metadata": {},
     "output_type": "display_data"
    }
   ],
   "source": [
    "dim(PimaIndiansDiabetes)"
   ]
  },
  {
   "cell_type": "code",
   "execution_count": 13,
   "id": "d32a4a7b-7a44-41a9-888c-c73ed4d15810",
   "metadata": {},
   "outputs": [
    {
     "data": {
      "text/html": [
       "<table class=\"dataframe\">\n",
       "<caption>A matrix: 2 × 2 of type dbl</caption>\n",
       "<thead>\n",
       "\t<tr><th></th><th scope=col>freq</th><th scope=col>percentage</th></tr>\n",
       "</thead>\n",
       "<tbody>\n",
       "\t<tr><th scope=row>neg</th><td>500</td><td>65.10417</td></tr>\n",
       "\t<tr><th scope=row>pos</th><td>268</td><td>34.89583</td></tr>\n",
       "</tbody>\n",
       "</table>\n"
      ],
      "text/latex": [
       "A matrix: 2 × 2 of type dbl\n",
       "\\begin{tabular}{r|ll}\n",
       "  & freq & percentage\\\\\n",
       "\\hline\n",
       "\tneg & 500 & 65.10417\\\\\n",
       "\tpos & 268 & 34.89583\\\\\n",
       "\\end{tabular}\n"
      ],
      "text/markdown": [
       "\n",
       "A matrix: 2 × 2 of type dbl\n",
       "\n",
       "| <!--/--> | freq | percentage |\n",
       "|---|---|---|\n",
       "| neg | 500 | 65.10417 |\n",
       "| pos | 268 | 34.89583 |\n",
       "\n"
      ],
      "text/plain": [
       "    freq percentage\n",
       "neg 500  65.10417  \n",
       "pos 268  34.89583  "
      ]
     },
     "metadata": {},
     "output_type": "display_data"
    }
   ],
   "source": [
    "y <- PimaIndiansDiabetes$diabetes\n",
    "cbind(freq=table(y), percentage = prop.table(table(y))*100)"
   ]
  },
  {
   "cell_type": "code",
   "execution_count": 14,
   "id": "4e13ab46-8c5e-458a-9848-2447af248b0e",
   "metadata": {},
   "outputs": [
    {
     "data": {
      "text/html": [
       "<style>\n",
       ".dl-inline {width: auto; margin:0; padding: 0}\n",
       ".dl-inline>dt, .dl-inline>dd {float: none; width: auto; display: inline-block}\n",
       ".dl-inline>dt::after {content: \":\\0020\"; padding-right: .5ex}\n",
       ".dl-inline>dt:not(:first-of-type) {padding-left: .5ex}\n",
       "</style><dl class=dl-inline><dt>pregnant</dt><dd>3.36957806269887</dd><dt>glucose</dt><dd>31.9726181951362</dd><dt>pressure</dt><dd>19.3558071706448</dd><dt>triceps</dt><dd>15.9522175677276</dd><dt>insulin</dt><dd>115.244002351338</dd><dt>mass</dt><dd>7.88416032037545</dd><dt>pedigree</dt><dd>0.331328595012775</dd><dt>age</dt><dd>11.7602315406787</dd></dl>\n"
      ],
      "text/latex": [
       "\\begin{description*}\n",
       "\\item[pregnant] 3.36957806269887\n",
       "\\item[glucose] 31.9726181951362\n",
       "\\item[pressure] 19.3558071706448\n",
       "\\item[triceps] 15.9522175677276\n",
       "\\item[insulin] 115.244002351338\n",
       "\\item[mass] 7.88416032037545\n",
       "\\item[pedigree] 0.331328595012775\n",
       "\\item[age] 11.7602315406787\n",
       "\\end{description*}\n"
      ],
      "text/markdown": [
       "pregnant\n",
       ":   3.36957806269887glucose\n",
       ":   31.9726181951362pressure\n",
       ":   19.3558071706448triceps\n",
       ":   15.9522175677276insulin\n",
       ":   115.244002351338mass\n",
       ":   7.88416032037545pedigree\n",
       ":   0.331328595012775age\n",
       ":   11.7602315406787\n",
       "\n"
      ],
      "text/plain": [
       "   pregnant     glucose    pressure     triceps     insulin        mass \n",
       "  3.3695781  31.9726182  19.3558072  15.9522176 115.2440024   7.8841603 \n",
       "   pedigree         age \n",
       "  0.3313286  11.7602315 "
      ]
     },
     "metadata": {},
     "output_type": "display_data"
    }
   ],
   "source": [
    "sapply(PimaIndiansDiabetes[,1:8], sd)"
   ]
  },
  {
   "cell_type": "code",
   "execution_count": 15,
   "id": "5bf7c223-9c80-475d-a8bd-ece87a82143c",
   "metadata": {},
   "outputs": [
    {
     "name": "stderr",
     "output_type": "stream",
     "text": [
      "Installing package into 'C:/Users/AW/AppData/Local/R/win-library/4.3'\n",
      "(as 'lib' is unspecified)\n",
      "\n"
     ]
    },
    {
     "name": "stdout",
     "output_type": "stream",
     "text": [
      "package 'e1071' successfully unpacked and MD5 sums checked\n",
      "\n",
      "The downloaded binary packages are in\n",
      "\tC:\\Users\\AW\\AppData\\Local\\Temp\\RtmpQ9dnVc\\downloaded_packages\n"
     ]
    }
   ],
   "source": [
    "install.packages('e1071')"
   ]
  },
  {
   "cell_type": "code",
   "execution_count": 16,
   "id": "d8e33f86-968a-40f6-b576-70b5a0c7b0bc",
   "metadata": {},
   "outputs": [
    {
     "data": {
      "text/html": [
       "<style>\n",
       ".dl-inline {width: auto; margin:0; padding: 0}\n",
       ".dl-inline>dt, .dl-inline>dd {float: none; width: auto; display: inline-block}\n",
       ".dl-inline>dt::after {content: \":\\0020\"; padding-right: .5ex}\n",
       ".dl-inline>dt:not(:first-of-type) {padding-left: .5ex}\n",
       "</style><dl class=dl-inline><dt>pregnant</dt><dd>0.898154872604808</dd><dt>glucose</dt><dd>0.173075366346189</dd><dt>pressure</dt><dd>-1.83641264105356</dd><dt>triceps</dt><dd>0.10894563103235</dd><dt>insulin</dt><dd>2.2633825833595</dd><dt>mass</dt><dd>-0.427307333732463</dd><dt>pedigree</dt><dd>1.91241792381955</dd><dt>age</dt><dd>1.12518804431459</dd></dl>\n"
      ],
      "text/latex": [
       "\\begin{description*}\n",
       "\\item[pregnant] 0.898154872604808\n",
       "\\item[glucose] 0.173075366346189\n",
       "\\item[pressure] -1.83641264105356\n",
       "\\item[triceps] 0.10894563103235\n",
       "\\item[insulin] 2.2633825833595\n",
       "\\item[mass] -0.427307333732463\n",
       "\\item[pedigree] 1.91241792381955\n",
       "\\item[age] 1.12518804431459\n",
       "\\end{description*}\n"
      ],
      "text/markdown": [
       "pregnant\n",
       ":   0.898154872604808glucose\n",
       ":   0.173075366346189pressure\n",
       ":   -1.83641264105356triceps\n",
       ":   0.10894563103235insulin\n",
       ":   2.2633825833595mass\n",
       ":   -0.427307333732463pedigree\n",
       ":   1.91241792381955age\n",
       ":   1.12518804431459\n",
       "\n"
      ],
      "text/plain": [
       "  pregnant    glucose   pressure    triceps    insulin       mass   pedigree \n",
       " 0.8981549  0.1730754 -1.8364126  0.1089456  2.2633826 -0.4273073  1.9124179 \n",
       "       age \n",
       " 1.1251880 "
      ]
     },
     "metadata": {},
     "output_type": "display_data"
    }
   ],
   "source": [
    "library(e1071)\n",
    "skew <- apply(PimaIndiansDiabetes[,1:8], 2, skewness)\n",
    "skew"
   ]
  },
  {
   "cell_type": "code",
   "execution_count": 17,
   "id": "d2856d7c-cada-4e45-ab22-9d66b3a59321",
   "metadata": {},
   "outputs": [
    {
     "data": {
      "text/html": [
       "<style>\n",
       ".dl-inline {width: auto; margin:0; padding: 0}\n",
       ".dl-inline>dt, .dl-inline>dd {float: none; width: auto; display: inline-block}\n",
       ".dl-inline>dt::after {content: \":\\0020\"; padding-right: .5ex}\n",
       ".dl-inline>dt:not(:first-of-type) {padding-left: .5ex}\n",
       "</style><dl class=dl-inline><dt>pregnant</dt><dd>0.142183957122032</dd><dt>glucose</dt><dd>0.619369451373168</dd><dt>pressure</dt><dd>5.11750995409889</dd><dt>triceps</dt><dd>-0.530936920676741</dd><dt>insulin</dt><dd>7.13313491538188</dd><dt>mass</dt><dd>3.2449626779631</dd><dt>pedigree</dt><dd>5.52853885711983</dd><dt>age</dt><dd>0.621726907802014</dd></dl>\n"
      ],
      "text/latex": [
       "\\begin{description*}\n",
       "\\item[pregnant] 0.142183957122032\n",
       "\\item[glucose] 0.619369451373168\n",
       "\\item[pressure] 5.11750995409889\n",
       "\\item[triceps] -0.530936920676741\n",
       "\\item[insulin] 7.13313491538188\n",
       "\\item[mass] 3.2449626779631\n",
       "\\item[pedigree] 5.52853885711983\n",
       "\\item[age] 0.621726907802014\n",
       "\\end{description*}\n"
      ],
      "text/markdown": [
       "pregnant\n",
       ":   0.142183957122032glucose\n",
       ":   0.619369451373168pressure\n",
       ":   5.11750995409889triceps\n",
       ":   -0.530936920676741insulin\n",
       ":   7.13313491538188mass\n",
       ":   3.2449626779631pedigree\n",
       ":   5.52853885711983age\n",
       ":   0.621726907802014\n",
       "\n"
      ],
      "text/plain": [
       "  pregnant    glucose   pressure    triceps    insulin       mass   pedigree \n",
       " 0.1421840  0.6193695  5.1175100 -0.5309369  7.1331349  3.2449627  5.5285389 \n",
       "       age \n",
       " 0.6217269 "
      ]
     },
     "metadata": {},
     "output_type": "display_data"
    }
   ],
   "source": [
    "kur <- apply(PimaIndiansDiabetes[,1:8], 2, kurtosis)\n",
    "kur"
   ]
  },
  {
   "cell_type": "code",
   "execution_count": 18,
   "id": "60731ef1-6eb8-4ddc-9600-cca8dd842e90",
   "metadata": {},
   "outputs": [
    {
     "data": {
      "text/html": [
       "<table class=\"dataframe\">\n",
       "<caption>A matrix: 8 × 8 of type dbl</caption>\n",
       "<thead>\n",
       "\t<tr><th></th><th scope=col>pregnant</th><th scope=col>glucose</th><th scope=col>pressure</th><th scope=col>triceps</th><th scope=col>insulin</th><th scope=col>mass</th><th scope=col>pedigree</th><th scope=col>age</th></tr>\n",
       "</thead>\n",
       "<tbody>\n",
       "\t<tr><th scope=row>pregnant</th><td> 1.00000000</td><td>0.12945867</td><td>0.14128198</td><td>-0.08167177</td><td>-0.07353461</td><td>0.01768309</td><td>-0.03352267</td><td> 0.54434123</td></tr>\n",
       "\t<tr><th scope=row>glucose</th><td> 0.12945867</td><td>1.00000000</td><td>0.15258959</td><td> 0.05732789</td><td> 0.33135711</td><td>0.22107107</td><td> 0.13733730</td><td> 0.26351432</td></tr>\n",
       "\t<tr><th scope=row>pressure</th><td> 0.14128198</td><td>0.15258959</td><td>1.00000000</td><td> 0.20737054</td><td> 0.08893338</td><td>0.28180529</td><td> 0.04126495</td><td> 0.23952795</td></tr>\n",
       "\t<tr><th scope=row>triceps</th><td>-0.08167177</td><td>0.05732789</td><td>0.20737054</td><td> 1.00000000</td><td> 0.43678257</td><td>0.39257320</td><td> 0.18392757</td><td>-0.11397026</td></tr>\n",
       "\t<tr><th scope=row>insulin</th><td>-0.07353461</td><td>0.33135711</td><td>0.08893338</td><td> 0.43678257</td><td> 1.00000000</td><td>0.19785906</td><td> 0.18507093</td><td>-0.04216295</td></tr>\n",
       "\t<tr><th scope=row>mass</th><td> 0.01768309</td><td>0.22107107</td><td>0.28180529</td><td> 0.39257320</td><td> 0.19785906</td><td>1.00000000</td><td> 0.14064695</td><td> 0.03624187</td></tr>\n",
       "\t<tr><th scope=row>pedigree</th><td>-0.03352267</td><td>0.13733730</td><td>0.04126495</td><td> 0.18392757</td><td> 0.18507093</td><td>0.14064695</td><td> 1.00000000</td><td> 0.03356131</td></tr>\n",
       "\t<tr><th scope=row>age</th><td> 0.54434123</td><td>0.26351432</td><td>0.23952795</td><td>-0.11397026</td><td>-0.04216295</td><td>0.03624187</td><td> 0.03356131</td><td> 1.00000000</td></tr>\n",
       "</tbody>\n",
       "</table>\n"
      ],
      "text/latex": [
       "A matrix: 8 × 8 of type dbl\n",
       "\\begin{tabular}{r|llllllll}\n",
       "  & pregnant & glucose & pressure & triceps & insulin & mass & pedigree & age\\\\\n",
       "\\hline\n",
       "\tpregnant &  1.00000000 & 0.12945867 & 0.14128198 & -0.08167177 & -0.07353461 & 0.01768309 & -0.03352267 &  0.54434123\\\\\n",
       "\tglucose &  0.12945867 & 1.00000000 & 0.15258959 &  0.05732789 &  0.33135711 & 0.22107107 &  0.13733730 &  0.26351432\\\\\n",
       "\tpressure &  0.14128198 & 0.15258959 & 1.00000000 &  0.20737054 &  0.08893338 & 0.28180529 &  0.04126495 &  0.23952795\\\\\n",
       "\ttriceps & -0.08167177 & 0.05732789 & 0.20737054 &  1.00000000 &  0.43678257 & 0.39257320 &  0.18392757 & -0.11397026\\\\\n",
       "\tinsulin & -0.07353461 & 0.33135711 & 0.08893338 &  0.43678257 &  1.00000000 & 0.19785906 &  0.18507093 & -0.04216295\\\\\n",
       "\tmass &  0.01768309 & 0.22107107 & 0.28180529 &  0.39257320 &  0.19785906 & 1.00000000 &  0.14064695 &  0.03624187\\\\\n",
       "\tpedigree & -0.03352267 & 0.13733730 & 0.04126495 &  0.18392757 &  0.18507093 & 0.14064695 &  1.00000000 &  0.03356131\\\\\n",
       "\tage &  0.54434123 & 0.26351432 & 0.23952795 & -0.11397026 & -0.04216295 & 0.03624187 &  0.03356131 &  1.00000000\\\\\n",
       "\\end{tabular}\n"
      ],
      "text/markdown": [
       "\n",
       "A matrix: 8 × 8 of type dbl\n",
       "\n",
       "| <!--/--> | pregnant | glucose | pressure | triceps | insulin | mass | pedigree | age |\n",
       "|---|---|---|---|---|---|---|---|---|\n",
       "| pregnant |  1.00000000 | 0.12945867 | 0.14128198 | -0.08167177 | -0.07353461 | 0.01768309 | -0.03352267 |  0.54434123 |\n",
       "| glucose |  0.12945867 | 1.00000000 | 0.15258959 |  0.05732789 |  0.33135711 | 0.22107107 |  0.13733730 |  0.26351432 |\n",
       "| pressure |  0.14128198 | 0.15258959 | 1.00000000 |  0.20737054 |  0.08893338 | 0.28180529 |  0.04126495 |  0.23952795 |\n",
       "| triceps | -0.08167177 | 0.05732789 | 0.20737054 |  1.00000000 |  0.43678257 | 0.39257320 |  0.18392757 | -0.11397026 |\n",
       "| insulin | -0.07353461 | 0.33135711 | 0.08893338 |  0.43678257 |  1.00000000 | 0.19785906 |  0.18507093 | -0.04216295 |\n",
       "| mass |  0.01768309 | 0.22107107 | 0.28180529 |  0.39257320 |  0.19785906 | 1.00000000 |  0.14064695 |  0.03624187 |\n",
       "| pedigree | -0.03352267 | 0.13733730 | 0.04126495 |  0.18392757 |  0.18507093 | 0.14064695 |  1.00000000 |  0.03356131 |\n",
       "| age |  0.54434123 | 0.26351432 | 0.23952795 | -0.11397026 | -0.04216295 | 0.03624187 |  0.03356131 |  1.00000000 |\n",
       "\n"
      ],
      "text/plain": [
       "         pregnant    glucose    pressure   triceps     insulin     mass      \n",
       "pregnant  1.00000000 0.12945867 0.14128198 -0.08167177 -0.07353461 0.01768309\n",
       "glucose   0.12945867 1.00000000 0.15258959  0.05732789  0.33135711 0.22107107\n",
       "pressure  0.14128198 0.15258959 1.00000000  0.20737054  0.08893338 0.28180529\n",
       "triceps  -0.08167177 0.05732789 0.20737054  1.00000000  0.43678257 0.39257320\n",
       "insulin  -0.07353461 0.33135711 0.08893338  0.43678257  1.00000000 0.19785906\n",
       "mass      0.01768309 0.22107107 0.28180529  0.39257320  0.19785906 1.00000000\n",
       "pedigree -0.03352267 0.13733730 0.04126495  0.18392757  0.18507093 0.14064695\n",
       "age       0.54434123 0.26351432 0.23952795 -0.11397026 -0.04216295 0.03624187\n",
       "         pedigree    age        \n",
       "pregnant -0.03352267  0.54434123\n",
       "glucose   0.13733730  0.26351432\n",
       "pressure  0.04126495  0.23952795\n",
       "triceps   0.18392757 -0.11397026\n",
       "insulin   0.18507093 -0.04216295\n",
       "mass      0.14064695  0.03624187\n",
       "pedigree  1.00000000  0.03356131\n",
       "age       0.03356131  1.00000000"
      ]
     },
     "metadata": {},
     "output_type": "display_data"
    }
   ],
   "source": [
    "corr <- cor(PimaIndiansDiabetes[,1:8])\n",
    "corr"
   ]
  },
  {
   "cell_type": "code",
   "execution_count": 19,
   "id": "e1476336-780d-4dd7-8245-3c2f202ed0b9",
   "metadata": {},
   "outputs": [
    {
     "name": "stderr",
     "output_type": "stream",
     "text": [
      "Installing package into 'C:/Users/AW/AppData/Local/R/win-library/4.3'\n",
      "(as 'lib' is unspecified)\n",
      "\n"
     ]
    },
    {
     "name": "stdout",
     "output_type": "stream",
     "text": [
      "package 'corrplot' successfully unpacked and MD5 sums checked\n",
      "\n",
      "The downloaded binary packages are in\n",
      "\tC:\\Users\\AW\\AppData\\Local\\Temp\\RtmpQ9dnVc\\downloaded_packages\n"
     ]
    }
   ],
   "source": [
    "install.packages('corrplot')"
   ]
  },
  {
   "cell_type": "code",
   "execution_count": 20,
   "id": "c24c5140-9963-4066-b3f1-08abba1dddeb",
   "metadata": {},
   "outputs": [
    {
     "name": "stderr",
     "output_type": "stream",
     "text": [
      "corrplot 0.92 loaded\n",
      "\n"
     ]
    },
    {
     "data": {
      "image/png": "[encoded data removed]",
      "text/plain": [
       "Plot with title \"\""
      ]
     },
     "metadata": {
      "image/png": {
       "height": 420,
       "width": 420
      }
     },
     "output_type": "display_data"
    }
   ],
   "source": [
    "library(corrplot)\n",
    "corrplot(corr)"
   ]
  },
  {
   "cell_type": "code",
   "execution_count": 21,
   "id": "53090d1c-cabd-42be-9afa-638ae8486e5d",
   "metadata": {},
   "outputs": [
    {
     "data": {
      "image/png": "[encoded data removed]",
      "text/plain": [
       "plot without title"
      ]
     },
     "metadata": {
      "image/png": {
       "height": 420,
       "width": 420
      }
     },
     "output_type": "display_data"
    }
   ],
   "source": [
    "heatmap(x = corr)"
   ]
  },
  {
   "cell_type": "code",
   "execution_count": 22,
   "id": "c852817a-c5dc-42e3-b8bd-c7ffa98936ac",
   "metadata": {},
   "outputs": [
    {
     "data": {
      "text/html": [
       "<style>\n",
       ".dl-inline {width: auto; margin:0; padding: 0}\n",
       ".dl-inline>dt, .dl-inline>dd {float: none; width: auto; display: inline-block}\n",
       ".dl-inline>dt::after {content: \":\\0020\"; padding-right: .5ex}\n",
       ".dl-inline>dt:not(:first-of-type) {padding-left: .5ex}\n",
       "</style><dl class=dl-inline><dt>5%</dt><dd>21</dd><dt>15%</dt><dd>22</dd><dt>25%</dt><dd>24</dd><dt>50%</dt><dd>29</dd><dt>75%</dt><dd>41</dd><dt>90%</dt><dd>51</dd></dl>\n"
      ],
      "text/latex": [
       "\\begin{description*}\n",
       "\\item[5\\textbackslash{}\\%] 21\n",
       "\\item[15\\textbackslash{}\\%] 22\n",
       "\\item[25\\textbackslash{}\\%] 24\n",
       "\\item[50\\textbackslash{}\\%] 29\n",
       "\\item[75\\textbackslash{}\\%] 41\n",
       "\\item[90\\textbackslash{}\\%] 51\n",
       "\\end{description*}\n"
      ],
      "text/markdown": [
       "5%\n",
       ":   2115%\n",
       ":   2225%\n",
       ":   2450%\n",
       ":   2975%\n",
       ":   4190%\n",
       ":   51\n",
       "\n"
      ],
      "text/plain": [
       " 5% 15% 25% 50% 75% 90% \n",
       " 21  22  24  29  41  51 "
      ]
     },
     "metadata": {},
     "output_type": "display_data"
    }
   ],
   "source": [
    "ages = quantile(PimaIndiansDiabetes$age, c(0.05, 0.15, 0.25, 0.50, 0.75, 0.90))\n",
    "ages"
   ]
  },
  {
   "cell_type": "code",
   "execution_count": 23,
   "id": "debd062f-48e8-4540-bcdb-f30a287694a1",
   "metadata": {},
   "outputs": [
    {
     "data": {
      "image/png": "[encoded data removed]",
      "text/plain": [
       "plot without title"
      ]
     },
     "metadata": {
      "image/png": {
       "height": 420,
       "width": 420
      }
     },
     "output_type": "display_data"
    }
   ],
   "source": [
    "plot(c(0.05, 0.15, 0.25, 0.50, 0.75, 0.90), ages, type='o')"
   ]
  },
  {
   "cell_type": "code",
   "execution_count": null,
   "id": "fa86a1bb-000c-4125-a9f3-fa8f827b799d",
   "metadata": {},
   "outputs": [],
   "source": []
  },
  {
   "cell_type": "markdown",
   "id": "be8f6601-572f-40d8-9df3-1c17d5067bad",
   "metadata": {},
   "source": [
    "# Chương 14"
   ]
  },
  {
   "cell_type": "markdown",
   "id": "de3d3b6f-ebc8-4f91-b82c-7767f818bae6",
   "metadata": {},
   "source": [
    "## Exercise 2: Births"
   ]
  },
  {
   "cell_type": "code",
   "execution_count": 24,
   "id": "62adb7cc-3bf7-4fc4-9cb5-e95cc1232c19",
   "metadata": {},
   "outputs": [
    {
     "name": "stdout",
     "output_type": "stream",
     "text": [
      "  [1] 24.740 25.806 24.364 24.477 23.901 23.175 23.227 21.672 21.870 21.439\n",
      " [11] 21.089 23.709 21.669 21.752 20.761 23.479 23.824 23.105 23.110 21.759\n",
      " [21] 22.073 21.937 20.035 23.590 21.672 22.222 22.123 23.950 23.504 22.238\n",
      " [31] 23.142 21.059 21.573 21.548 20.000 22.424 20.615 21.761 22.874 24.104\n",
      " [41] 23.748 23.262 22.907 21.519 22.025 22.604 20.894 24.677 23.673 25.320\n",
      " [51] 23.583 24.671 24.454 24.122 24.252 22.084 22.991 23.287 23.049 25.076\n",
      " [61] 24.037 24.430 24.667 26.451 25.618 25.014 25.110 22.964 23.981 23.798\n",
      " [71] 22.270 24.775 22.646 23.988 24.737 26.276 25.816 25.210 25.199 23.162\n",
      " [81] 24.707 24.364 22.644 25.565 24.062 25.431 24.635 27.009 26.606 26.268\n",
      " [91] 26.462 25.246 25.180 24.657 23.304 26.982 26.199 27.210 26.122 26.706\n",
      "[101] 26.878 26.152 26.379 24.712 25.688 24.990 24.239 26.721 23.475 24.767\n",
      "[111] 26.219 28.361 28.599 27.914 27.784 25.693 26.881 26.217 24.218 27.914\n",
      "[121] 26.975 28.527 27.139 28.982 28.169 28.056 29.136 26.291 26.987 26.589\n",
      "[131] 24.848 27.543 26.896 28.878 27.390 28.065 28.141 29.048 28.484 26.634\n",
      "[141] 27.735 27.132 24.924 28.963 26.589 27.931 28.009 29.229 28.759 28.405\n",
      "[151] 27.945 25.912 26.619 26.076 25.286 27.660 25.951 26.398 25.565 28.865\n",
      "[161] 30.000 29.261 29.012 26.992 27.897\n"
     ]
    }
   ],
   "source": [
    "births  <- scan('mybirths.dat.txt', skip =  3)\n",
    "print(births)"
   ]
  },
  {
   "cell_type": "code",
   "execution_count": 25,
   "id": "43bb3955-d794-450f-9df7-6c8f2f4e505e",
   "metadata": {
    "jupyter": {
     "source_hidden": true
    },
    "scrolled": true
   },
   "outputs": [
    {
     "name": "stdout",
     "output_type": "stream",
     "text": [
      "[1] \"Births Time Series: \"\n"
     ]
    },
    {
     "data": {
      "text/html": [
       "<table class=\"dataframe\">\n",
       "<caption>A Time Series: 14 × 12</caption>\n",
       "<thead>\n",
       "\t<tr><th></th><th scope=col>Jan</th><th scope=col>Feb</th><th scope=col>Mar</th><th scope=col>Apr</th><th scope=col>May</th><th scope=col>Jun</th><th scope=col>Jul</th><th scope=col>Aug</th><th scope=col>Sep</th><th scope=col>Oct</th><th scope=col>Nov</th><th scope=col>Dec</th></tr>\n",
       "</thead>\n",
       "<tbody>\n",
       "\t<tr><th scope=row>1946</th><td>24.740</td><td>25.806</td><td>24.364</td><td>24.477</td><td>23.901</td><td>23.175</td><td>23.227</td><td>21.672</td><td>21.870</td><td>21.439</td><td>21.089</td><td>23.709</td></tr>\n",
       "\t<tr><th scope=row>1947</th><td>21.669</td><td>21.752</td><td>20.761</td><td>23.479</td><td>23.824</td><td>23.105</td><td>23.110</td><td>21.759</td><td>22.073</td><td>21.937</td><td>20.035</td><td>23.590</td></tr>\n",
       "\t<tr><th scope=row>1948</th><td>21.672</td><td>22.222</td><td>22.123</td><td>23.950</td><td>23.504</td><td>22.238</td><td>23.142</td><td>21.059</td><td>21.573</td><td>21.548</td><td>20.000</td><td>22.424</td></tr>\n",
       "\t<tr><th scope=row>1949</th><td>20.615</td><td>21.761</td><td>22.874</td><td>24.104</td><td>23.748</td><td>23.262</td><td>22.907</td><td>21.519</td><td>22.025</td><td>22.604</td><td>20.894</td><td>24.677</td></tr>\n",
       "\t<tr><th scope=row>1950</th><td>23.673</td><td>25.320</td><td>23.583</td><td>24.671</td><td>24.454</td><td>24.122</td><td>24.252</td><td>22.084</td><td>22.991</td><td>23.287</td><td>23.049</td><td>25.076</td></tr>\n",
       "\t<tr><th scope=row>1951</th><td>24.037</td><td>24.430</td><td>24.667</td><td>26.451</td><td>25.618</td><td>25.014</td><td>25.110</td><td>22.964</td><td>23.981</td><td>23.798</td><td>22.270</td><td>24.775</td></tr>\n",
       "\t<tr><th scope=row>1952</th><td>22.646</td><td>23.988</td><td>24.737</td><td>26.276</td><td>25.816</td><td>25.210</td><td>25.199</td><td>23.162</td><td>24.707</td><td>24.364</td><td>22.644</td><td>25.565</td></tr>\n",
       "\t<tr><th scope=row>1953</th><td>24.062</td><td>25.431</td><td>24.635</td><td>27.009</td><td>26.606</td><td>26.268</td><td>26.462</td><td>25.246</td><td>25.180</td><td>24.657</td><td>23.304</td><td>26.982</td></tr>\n",
       "\t<tr><th scope=row>1954</th><td>26.199</td><td>27.210</td><td>26.122</td><td>26.706</td><td>26.878</td><td>26.152</td><td>26.379</td><td>24.712</td><td>25.688</td><td>24.990</td><td>24.239</td><td>26.721</td></tr>\n",
       "\t<tr><th scope=row>1955</th><td>23.475</td><td>24.767</td><td>26.219</td><td>28.361</td><td>28.599</td><td>27.914</td><td>27.784</td><td>25.693</td><td>26.881</td><td>26.217</td><td>24.218</td><td>27.914</td></tr>\n",
       "\t<tr><th scope=row>1956</th><td>26.975</td><td>28.527</td><td>27.139</td><td>28.982</td><td>28.169</td><td>28.056</td><td>29.136</td><td>26.291</td><td>26.987</td><td>26.589</td><td>24.848</td><td>27.543</td></tr>\n",
       "\t<tr><th scope=row>1957</th><td>26.896</td><td>28.878</td><td>27.390</td><td>28.065</td><td>28.141</td><td>29.048</td><td>28.484</td><td>26.634</td><td>27.735</td><td>27.132</td><td>24.924</td><td>28.963</td></tr>\n",
       "\t<tr><th scope=row>1958</th><td>26.589</td><td>27.931</td><td>28.009</td><td>29.229</td><td>28.759</td><td>28.405</td><td>27.945</td><td>25.912</td><td>26.619</td><td>26.076</td><td>25.286</td><td>27.660</td></tr>\n",
       "\t<tr><th scope=row>1959</th><td>25.951</td><td>26.398</td><td>25.565</td><td>28.865</td><td>30.000</td><td>29.261</td><td>29.012</td><td>26.992</td><td>27.897</td><td>      </td><td>      </td><td>      </td></tr>\n",
       "</tbody>\n",
       "</table>\n"
      ],
      "text/latex": [
       "A Time Series: 14 × 12\n",
       "\\begin{tabular}{r|llllllllllll}\n",
       "  & Jan & Feb & Mar & Apr & May & Jun & Jul & Aug & Sep & Oct & Nov & Dec\\\\\n",
       "\\hline\n",
       "\t1946 & 24.740 & 25.806 & 24.364 & 24.477 & 23.901 & 23.175 & 23.227 & 21.672 & 21.870 & 21.439 & 21.089 & 23.709\\\\\n",
       "\t1947 & 21.669 & 21.752 & 20.761 & 23.479 & 23.824 & 23.105 & 23.110 & 21.759 & 22.073 & 21.937 & 20.035 & 23.590\\\\\n",
       "\t1948 & 21.672 & 22.222 & 22.123 & 23.950 & 23.504 & 22.238 & 23.142 & 21.059 & 21.573 & 21.548 & 20.000 & 22.424\\\\\n",
       "\t1949 & 20.615 & 21.761 & 22.874 & 24.104 & 23.748 & 23.262 & 22.907 & 21.519 & 22.025 & 22.604 & 20.894 & 24.677\\\\\n",
       "\t1950 & 23.673 & 25.320 & 23.583 & 24.671 & 24.454 & 24.122 & 24.252 & 22.084 & 22.991 & 23.287 & 23.049 & 25.076\\\\\n",
       "\t1951 & 24.037 & 24.430 & 24.667 & 26.451 & 25.618 & 25.014 & 25.110 & 22.964 & 23.981 & 23.798 & 22.270 & 24.775\\\\\n",
       "\t1952 & 22.646 & 23.988 & 24.737 & 26.276 & 25.816 & 25.210 & 25.199 & 23.162 & 24.707 & 24.364 & 22.644 & 25.565\\\\\n",
       "\t1953 & 24.062 & 25.431 & 24.635 & 27.009 & 26.606 & 26.268 & 26.462 & 25.246 & 25.180 & 24.657 & 23.304 & 26.982\\\\\n",
       "\t1954 & 26.199 & 27.210 & 26.122 & 26.706 & 26.878 & 26.152 & 26.379 & 24.712 & 25.688 & 24.990 & 24.239 & 26.721\\\\\n",
       "\t1955 & 23.475 & 24.767 & 26.219 & 28.361 & 28.599 & 27.914 & 27.784 & 25.693 & 26.881 & 26.217 & 24.218 & 27.914\\\\\n",
       "\t1956 & 26.975 & 28.527 & 27.139 & 28.982 & 28.169 & 28.056 & 29.136 & 26.291 & 26.987 & 26.589 & 24.848 & 27.543\\\\\n",
       "\t1957 & 26.896 & 28.878 & 27.390 & 28.065 & 28.141 & 29.048 & 28.484 & 26.634 & 27.735 & 27.132 & 24.924 & 28.963\\\\\n",
       "\t1958 & 26.589 & 27.931 & 28.009 & 29.229 & 28.759 & 28.405 & 27.945 & 25.912 & 26.619 & 26.076 & 25.286 & 27.660\\\\\n",
       "\t1959 & 25.951 & 26.398 & 25.565 & 28.865 & 30.000 & 29.261 & 29.012 & 26.992 & 27.897 &        &        &       \\\\\n",
       "\\end{tabular}\n"
      ],
      "text/markdown": [
       "\n",
       "A Time Series: 14 × 12\n",
       "\n",
       "| <!--/--> | Jan | Feb | Mar | Apr | May | Jun | Jul | Aug | Sep | Oct | Nov | Dec |\n",
       "|---|---|---|---|---|---|---|---|---|---|---|---|---|\n",
       "| 1946 | 24.740 | 25.806 | 24.364 | 24.477 | 23.901 | 23.175 | 23.227 | 21.672 | 21.870 | 21.439 | 21.089 | 23.709 |\n",
       "| 1947 | 21.669 | 21.752 | 20.761 | 23.479 | 23.824 | 23.105 | 23.110 | 21.759 | 22.073 | 21.937 | 20.035 | 23.590 |\n",
       "| 1948 | 21.672 | 22.222 | 22.123 | 23.950 | 23.504 | 22.238 | 23.142 | 21.059 | 21.573 | 21.548 | 20.000 | 22.424 |\n",
       "| 1949 | 20.615 | 21.761 | 22.874 | 24.104 | 23.748 | 23.262 | 22.907 | 21.519 | 22.025 | 22.604 | 20.894 | 24.677 |\n",
       "| 1950 | 23.673 | 25.320 | 23.583 | 24.671 | 24.454 | 24.122 | 24.252 | 22.084 | 22.991 | 23.287 | 23.049 | 25.076 |\n",
       "| 1951 | 24.037 | 24.430 | 24.667 | 26.451 | 25.618 | 25.014 | 25.110 | 22.964 | 23.981 | 23.798 | 22.270 | 24.775 |\n",
       "| 1952 | 22.646 | 23.988 | 24.737 | 26.276 | 25.816 | 25.210 | 25.199 | 23.162 | 24.707 | 24.364 | 22.644 | 25.565 |\n",
       "| 1953 | 24.062 | 25.431 | 24.635 | 27.009 | 26.606 | 26.268 | 26.462 | 25.246 | 25.180 | 24.657 | 23.304 | 26.982 |\n",
       "| 1954 | 26.199 | 27.210 | 26.122 | 26.706 | 26.878 | 26.152 | 26.379 | 24.712 | 25.688 | 24.990 | 24.239 | 26.721 |\n",
       "| 1955 | 23.475 | 24.767 | 26.219 | 28.361 | 28.599 | 27.914 | 27.784 | 25.693 | 26.881 | 26.217 | 24.218 | 27.914 |\n",
       "| 1956 | 26.975 | 28.527 | 27.139 | 28.982 | 28.169 | 28.056 | 29.136 | 26.291 | 26.987 | 26.589 | 24.848 | 27.543 |\n",
       "| 1957 | 26.896 | 28.878 | 27.390 | 28.065 | 28.141 | 29.048 | 28.484 | 26.634 | 27.735 | 27.132 | 24.924 | 28.963 |\n",
       "| 1958 | 26.589 | 27.931 | 28.009 | 29.229 | 28.759 | 28.405 | 27.945 | 25.912 | 26.619 | 26.076 | 25.286 | 27.660 |\n",
       "| 1959 | 25.951 | 26.398 | 25.565 | 28.865 | 30.000 | 29.261 | 29.012 | 26.992 | 27.897 | <!----> | <!----> | <!----> |\n",
       "\n"
      ],
      "text/plain": [
       "     Jan    Feb    Mar    Apr    May    Jun    Jul    Aug    Sep    Oct   \n",
       "1946 24.740 25.806 24.364 24.477 23.901 23.175 23.227 21.672 21.870 21.439\n",
       "1947 21.669 21.752 20.761 23.479 23.824 23.105 23.110 21.759 22.073 21.937\n",
       "1948 21.672 22.222 22.123 23.950 23.504 22.238 23.142 21.059 21.573 21.548\n",
       "1949 20.615 21.761 22.874 24.104 23.748 23.262 22.907 21.519 22.025 22.604\n",
       "1950 23.673 25.320 23.583 24.671 24.454 24.122 24.252 22.084 22.991 23.287\n",
       "1951 24.037 24.430 24.667 26.451 25.618 25.014 25.110 22.964 23.981 23.798\n",
       "1952 22.646 23.988 24.737 26.276 25.816 25.210 25.199 23.162 24.707 24.364\n",
       "1953 24.062 25.431 24.635 27.009 26.606 26.268 26.462 25.246 25.180 24.657\n",
       "1954 26.199 27.210 26.122 26.706 26.878 26.152 26.379 24.712 25.688 24.990\n",
       "1955 23.475 24.767 26.219 28.361 28.599 27.914 27.784 25.693 26.881 26.217\n",
       "1956 26.975 28.527 27.139 28.982 28.169 28.056 29.136 26.291 26.987 26.589\n",
       "1957 26.896 28.878 27.390 28.065 28.141 29.048 28.484 26.634 27.735 27.132\n",
       "1958 26.589 27.931 28.009 29.229 28.759 28.405 27.945 25.912 26.619 26.076\n",
       "1959 25.951 26.398 25.565 28.865 30.000 29.261 29.012 26.992 27.897       \n",
       "     Nov    Dec   \n",
       "1946 21.089 23.709\n",
       "1947 20.035 23.590\n",
       "1948 20.000 22.424\n",
       "1949 20.894 24.677\n",
       "1950 23.049 25.076\n",
       "1951 22.270 24.775\n",
       "1952 22.644 25.565\n",
       "1953 23.304 26.982\n",
       "1954 24.239 26.721\n",
       "1955 24.218 27.914\n",
       "1956 24.848 27.543\n",
       "1957 24.924 28.963\n",
       "1958 25.286 27.660\n",
       "1959              "
      ]
     },
     "metadata": {},
     "output_type": "display_data"
    }
   ],
   "source": [
    "print(\"Births Time Series: \")\n",
    "births.timeseries <- ts(births, start = c(1946,1), frequency = 12)\n",
    "\n",
    "births.timeseries"
   ]
  },
  {
   "cell_type": "code",
   "execution_count": 26,
   "id": "9c9c91cb-f671-461c-b7e5-7891c4161eef",
   "metadata": {},
   "outputs": [
    {
     "data": {
      "image/png": "[encoded data removed]",
      "text/plain": [
       "Plot with title \"Births per month in New York city, from January 1946 to December 1959\""
      ]
     },
     "metadata": {
      "image/png": {
       "height": 420,
       "width": 420
      }
     },
     "output_type": "display_data"
    }
   ],
   "source": [
    "plot(births.timeseries, \n",
    "     main = \"Births per month in New York city, from January 1946 to December 1959\",\n",
    "     col = 'red',\n",
    "     xlab = 'Year', ylab = 'Births')"
   ]
  },
  {
   "cell_type": "markdown",
   "id": "83793fc7-5a8a-4356-9587-4c85b3a7fa5f",
   "metadata": {},
   "source": [
    "- Có thể thấy từ biểu đồ này 1 chu kì mang tính mùa và xu hướng năm\n",
    "- Từ năm 1950, số trẻ sinh ra có xu hướng tăng theo năm"
   ]
  },
  {
   "cell_type": "code",
   "execution_count": 27,
   "id": "cda20dd5-4f34-4580-bbd2-655d61c23bf9",
   "metadata": {},
   "outputs": [],
   "source": [
    "comp = decompose(births.timeseries)"
   ]
  },
  {
   "cell_type": "code",
   "execution_count": 28,
   "id": "64afc401-a2e6-4af4-901d-ca3e1ef45142",
   "metadata": {},
   "outputs": [
    {
     "data": {
      "text/html": [
       "<table class=\"dataframe\">\n",
       "<caption>A Time Series: 14 × 12</caption>\n",
       "<thead>\n",
       "\t<tr><th></th><th scope=col>Jan</th><th scope=col>Feb</th><th scope=col>Mar</th><th scope=col>Apr</th><th scope=col>May</th><th scope=col>Jun</th><th scope=col>Jul</th><th scope=col>Aug</th><th scope=col>Sep</th><th scope=col>Oct</th><th scope=col>Nov</th><th scope=col>Dec</th></tr>\n",
       "</thead>\n",
       "<tbody>\n",
       "\t<tr><th scope=row>1946</th><td>24.740</td><td>25.806</td><td>24.364</td><td>24.477</td><td>23.901</td><td>23.175</td><td>23.227</td><td>21.672</td><td>21.870</td><td>21.439</td><td>21.089</td><td>23.709</td></tr>\n",
       "\t<tr><th scope=row>1947</th><td>21.669</td><td>21.752</td><td>20.761</td><td>23.479</td><td>23.824</td><td>23.105</td><td>23.110</td><td>21.759</td><td>22.073</td><td>21.937</td><td>20.035</td><td>23.590</td></tr>\n",
       "\t<tr><th scope=row>1948</th><td>21.672</td><td>22.222</td><td>22.123</td><td>23.950</td><td>23.504</td><td>22.238</td><td>23.142</td><td>21.059</td><td>21.573</td><td>21.548</td><td>20.000</td><td>22.424</td></tr>\n",
       "\t<tr><th scope=row>1949</th><td>20.615</td><td>21.761</td><td>22.874</td><td>24.104</td><td>23.748</td><td>23.262</td><td>22.907</td><td>21.519</td><td>22.025</td><td>22.604</td><td>20.894</td><td>24.677</td></tr>\n",
       "\t<tr><th scope=row>1950</th><td>23.673</td><td>25.320</td><td>23.583</td><td>24.671</td><td>24.454</td><td>24.122</td><td>24.252</td><td>22.084</td><td>22.991</td><td>23.287</td><td>23.049</td><td>25.076</td></tr>\n",
       "\t<tr><th scope=row>1951</th><td>24.037</td><td>24.430</td><td>24.667</td><td>26.451</td><td>25.618</td><td>25.014</td><td>25.110</td><td>22.964</td><td>23.981</td><td>23.798</td><td>22.270</td><td>24.775</td></tr>\n",
       "\t<tr><th scope=row>1952</th><td>22.646</td><td>23.988</td><td>24.737</td><td>26.276</td><td>25.816</td><td>25.210</td><td>25.199</td><td>23.162</td><td>24.707</td><td>24.364</td><td>22.644</td><td>25.565</td></tr>\n",
       "\t<tr><th scope=row>1953</th><td>24.062</td><td>25.431</td><td>24.635</td><td>27.009</td><td>26.606</td><td>26.268</td><td>26.462</td><td>25.246</td><td>25.180</td><td>24.657</td><td>23.304</td><td>26.982</td></tr>\n",
       "\t<tr><th scope=row>1954</th><td>26.199</td><td>27.210</td><td>26.122</td><td>26.706</td><td>26.878</td><td>26.152</td><td>26.379</td><td>24.712</td><td>25.688</td><td>24.990</td><td>24.239</td><td>26.721</td></tr>\n",
       "\t<tr><th scope=row>1955</th><td>23.475</td><td>24.767</td><td>26.219</td><td>28.361</td><td>28.599</td><td>27.914</td><td>27.784</td><td>25.693</td><td>26.881</td><td>26.217</td><td>24.218</td><td>27.914</td></tr>\n",
       "\t<tr><th scope=row>1956</th><td>26.975</td><td>28.527</td><td>27.139</td><td>28.982</td><td>28.169</td><td>28.056</td><td>29.136</td><td>26.291</td><td>26.987</td><td>26.589</td><td>24.848</td><td>27.543</td></tr>\n",
       "\t<tr><th scope=row>1957</th><td>26.896</td><td>28.878</td><td>27.390</td><td>28.065</td><td>28.141</td><td>29.048</td><td>28.484</td><td>26.634</td><td>27.735</td><td>27.132</td><td>24.924</td><td>28.963</td></tr>\n",
       "\t<tr><th scope=row>1958</th><td>26.589</td><td>27.931</td><td>28.009</td><td>29.229</td><td>28.759</td><td>28.405</td><td>27.945</td><td>25.912</td><td>26.619</td><td>26.076</td><td>25.286</td><td>27.660</td></tr>\n",
       "\t<tr><th scope=row>1959</th><td>25.951</td><td>26.398</td><td>25.565</td><td>28.865</td><td>30.000</td><td>29.261</td><td>29.012</td><td>26.992</td><td>27.897</td><td>      </td><td>      </td><td>      </td></tr>\n",
       "</tbody>\n",
       "</table>\n"
      ],
      "text/latex": [
       "A Time Series: 14 × 12\n",
       "\\begin{tabular}{r|llllllllllll}\n",
       "  & Jan & Feb & Mar & Apr & May & Jun & Jul & Aug & Sep & Oct & Nov & Dec\\\\\n",
       "\\hline\n",
       "\t1946 & 24.740 & 25.806 & 24.364 & 24.477 & 23.901 & 23.175 & 23.227 & 21.672 & 21.870 & 21.439 & 21.089 & 23.709\\\\\n",
       "\t1947 & 21.669 & 21.752 & 20.761 & 23.479 & 23.824 & 23.105 & 23.110 & 21.759 & 22.073 & 21.937 & 20.035 & 23.590\\\\\n",
       "\t1948 & 21.672 & 22.222 & 22.123 & 23.950 & 23.504 & 22.238 & 23.142 & 21.059 & 21.573 & 21.548 & 20.000 & 22.424\\\\\n",
       "\t1949 & 20.615 & 21.761 & 22.874 & 24.104 & 23.748 & 23.262 & 22.907 & 21.519 & 22.025 & 22.604 & 20.894 & 24.677\\\\\n",
       "\t1950 & 23.673 & 25.320 & 23.583 & 24.671 & 24.454 & 24.122 & 24.252 & 22.084 & 22.991 & 23.287 & 23.049 & 25.076\\\\\n",
       "\t1951 & 24.037 & 24.430 & 24.667 & 26.451 & 25.618 & 25.014 & 25.110 & 22.964 & 23.981 & 23.798 & 22.270 & 24.775\\\\\n",
       "\t1952 & 22.646 & 23.988 & 24.737 & 26.276 & 25.816 & 25.210 & 25.199 & 23.162 & 24.707 & 24.364 & 22.644 & 25.565\\\\\n",
       "\t1953 & 24.062 & 25.431 & 24.635 & 27.009 & 26.606 & 26.268 & 26.462 & 25.246 & 25.180 & 24.657 & 23.304 & 26.982\\\\\n",
       "\t1954 & 26.199 & 27.210 & 26.122 & 26.706 & 26.878 & 26.152 & 26.379 & 24.712 & 25.688 & 24.990 & 24.239 & 26.721\\\\\n",
       "\t1955 & 23.475 & 24.767 & 26.219 & 28.361 & 28.599 & 27.914 & 27.784 & 25.693 & 26.881 & 26.217 & 24.218 & 27.914\\\\\n",
       "\t1956 & 26.975 & 28.527 & 27.139 & 28.982 & 28.169 & 28.056 & 29.136 & 26.291 & 26.987 & 26.589 & 24.848 & 27.543\\\\\n",
       "\t1957 & 26.896 & 28.878 & 27.390 & 28.065 & 28.141 & 29.048 & 28.484 & 26.634 & 27.735 & 27.132 & 24.924 & 28.963\\\\\n",
       "\t1958 & 26.589 & 27.931 & 28.009 & 29.229 & 28.759 & 28.405 & 27.945 & 25.912 & 26.619 & 26.076 & 25.286 & 27.660\\\\\n",
       "\t1959 & 25.951 & 26.398 & 25.565 & 28.865 & 30.000 & 29.261 & 29.012 & 26.992 & 27.897 &        &        &       \\\\\n",
       "\\end{tabular}\n"
      ],
      "text/markdown": [
       "\n",
       "A Time Series: 14 × 12\n",
       "\n",
       "| <!--/--> | Jan | Feb | Mar | Apr | May | Jun | Jul | Aug | Sep | Oct | Nov | Dec |\n",
       "|---|---|---|---|---|---|---|---|---|---|---|---|---|\n",
       "| 1946 | 24.740 | 25.806 | 24.364 | 24.477 | 23.901 | 23.175 | 23.227 | 21.672 | 21.870 | 21.439 | 21.089 | 23.709 |\n",
       "| 1947 | 21.669 | 21.752 | 20.761 | 23.479 | 23.824 | 23.105 | 23.110 | 21.759 | 22.073 | 21.937 | 20.035 | 23.590 |\n",
       "| 1948 | 21.672 | 22.222 | 22.123 | 23.950 | 23.504 | 22.238 | 23.142 | 21.059 | 21.573 | 21.548 | 20.000 | 22.424 |\n",
       "| 1949 | 20.615 | 21.761 | 22.874 | 24.104 | 23.748 | 23.262 | 22.907 | 21.519 | 22.025 | 22.604 | 20.894 | 24.677 |\n",
       "| 1950 | 23.673 | 25.320 | 23.583 | 24.671 | 24.454 | 24.122 | 24.252 | 22.084 | 22.991 | 23.287 | 23.049 | 25.076 |\n",
       "| 1951 | 24.037 | 24.430 | 24.667 | 26.451 | 25.618 | 25.014 | 25.110 | 22.964 | 23.981 | 23.798 | 22.270 | 24.775 |\n",
       "| 1952 | 22.646 | 23.988 | 24.737 | 26.276 | 25.816 | 25.210 | 25.199 | 23.162 | 24.707 | 24.364 | 22.644 | 25.565 |\n",
       "| 1953 | 24.062 | 25.431 | 24.635 | 27.009 | 26.606 | 26.268 | 26.462 | 25.246 | 25.180 | 24.657 | 23.304 | 26.982 |\n",
       "| 1954 | 26.199 | 27.210 | 26.122 | 26.706 | 26.878 | 26.152 | 26.379 | 24.712 | 25.688 | 24.990 | 24.239 | 26.721 |\n",
       "| 1955 | 23.475 | 24.767 | 26.219 | 28.361 | 28.599 | 27.914 | 27.784 | 25.693 | 26.881 | 26.217 | 24.218 | 27.914 |\n",
       "| 1956 | 26.975 | 28.527 | 27.139 | 28.982 | 28.169 | 28.056 | 29.136 | 26.291 | 26.987 | 26.589 | 24.848 | 27.543 |\n",
       "| 1957 | 26.896 | 28.878 | 27.390 | 28.065 | 28.141 | 29.048 | 28.484 | 26.634 | 27.735 | 27.132 | 24.924 | 28.963 |\n",
       "| 1958 | 26.589 | 27.931 | 28.009 | 29.229 | 28.759 | 28.405 | 27.945 | 25.912 | 26.619 | 26.076 | 25.286 | 27.660 |\n",
       "| 1959 | 25.951 | 26.398 | 25.565 | 28.865 | 30.000 | 29.261 | 29.012 | 26.992 | 27.897 | <!----> | <!----> | <!----> |\n",
       "\n"
      ],
      "text/plain": [
       "     Jan    Feb    Mar    Apr    May    Jun    Jul    Aug    Sep    Oct   \n",
       "1946 24.740 25.806 24.364 24.477 23.901 23.175 23.227 21.672 21.870 21.439\n",
       "1947 21.669 21.752 20.761 23.479 23.824 23.105 23.110 21.759 22.073 21.937\n",
       "1948 21.672 22.222 22.123 23.950 23.504 22.238 23.142 21.059 21.573 21.548\n",
       "1949 20.615 21.761 22.874 24.104 23.748 23.262 22.907 21.519 22.025 22.604\n",
       "1950 23.673 25.320 23.583 24.671 24.454 24.122 24.252 22.084 22.991 23.287\n",
       "1951 24.037 24.430 24.667 26.451 25.618 25.014 25.110 22.964 23.981 23.798\n",
       "1952 22.646 23.988 24.737 26.276 25.816 25.210 25.199 23.162 24.707 24.364\n",
       "1953 24.062 25.431 24.635 27.009 26.606 26.268 26.462 25.246 25.180 24.657\n",
       "1954 26.199 27.210 26.122 26.706 26.878 26.152 26.379 24.712 25.688 24.990\n",
       "1955 23.475 24.767 26.219 28.361 28.599 27.914 27.784 25.693 26.881 26.217\n",
       "1956 26.975 28.527 27.139 28.982 28.169 28.056 29.136 26.291 26.987 26.589\n",
       "1957 26.896 28.878 27.390 28.065 28.141 29.048 28.484 26.634 27.735 27.132\n",
       "1958 26.589 27.931 28.009 29.229 28.759 28.405 27.945 25.912 26.619 26.076\n",
       "1959 25.951 26.398 25.565 28.865 30.000 29.261 29.012 26.992 27.897       \n",
       "     Nov    Dec   \n",
       "1946 21.089 23.709\n",
       "1947 20.035 23.590\n",
       "1948 20.000 22.424\n",
       "1949 20.894 24.677\n",
       "1950 23.049 25.076\n",
       "1951 22.270 24.775\n",
       "1952 22.644 25.565\n",
       "1953 23.304 26.982\n",
       "1954 24.239 26.721\n",
       "1955 24.218 27.914\n",
       "1956 24.848 27.543\n",
       "1957 24.924 28.963\n",
       "1958 25.286 27.660\n",
       "1959              "
      ]
     },
     "metadata": {},
     "output_type": "display_data"
    }
   ],
   "source": [
    "comp$x"
   ]
  },
  {
   "cell_type": "code",
   "execution_count": 29,
   "id": "bc9c799f-316a-45b4-9f56-7f2a204a5d9f",
   "metadata": {},
   "outputs": [
    {
     "data": {
      "text/html": [
       "<table class=\"dataframe\">\n",
       "<caption>A Time Series: 14 × 12</caption>\n",
       "<thead>\n",
       "\t<tr><th></th><th scope=col>Jan</th><th scope=col>Feb</th><th scope=col>Mar</th><th scope=col>Apr</th><th scope=col>May</th><th scope=col>Jun</th><th scope=col>Jul</th><th scope=col>Aug</th><th scope=col>Sep</th><th scope=col>Oct</th><th scope=col>Nov</th><th scope=col>Dec</th></tr>\n",
       "</thead>\n",
       "<tbody>\n",
       "\t<tr><th scope=row>1946</th><td>-0.8204260</td><td> 0.2329041</td><td>-0.1720029</td><td> 1.5139845</td><td> 1.2193943</td><td> 0.7476026</td><td> 0.7564971</td><td>-1.1285125</td><td>-0.3955670</td><td>-0.6959420</td><td>-2.1017080</td><td> 0.8437759</td></tr>\n",
       "\t<tr><th scope=row>1947</th><td>-0.8204260</td><td> 0.2329041</td><td>-0.1720029</td><td> 1.5139845</td><td> 1.2193943</td><td> 0.7476026</td><td> 0.7564971</td><td>-1.1285125</td><td>-0.3955670</td><td>-0.6959420</td><td>-2.1017080</td><td> 0.8437759</td></tr>\n",
       "\t<tr><th scope=row>1948</th><td>-0.8204260</td><td> 0.2329041</td><td>-0.1720029</td><td> 1.5139845</td><td> 1.2193943</td><td> 0.7476026</td><td> 0.7564971</td><td>-1.1285125</td><td>-0.3955670</td><td>-0.6959420</td><td>-2.1017080</td><td> 0.8437759</td></tr>\n",
       "\t<tr><th scope=row>1949</th><td>-0.8204260</td><td> 0.2329041</td><td>-0.1720029</td><td> 1.5139845</td><td> 1.2193943</td><td> 0.7476026</td><td> 0.7564971</td><td>-1.1285125</td><td>-0.3955670</td><td>-0.6959420</td><td>-2.1017080</td><td> 0.8437759</td></tr>\n",
       "\t<tr><th scope=row>1950</th><td>-0.8204260</td><td> 0.2329041</td><td>-0.1720029</td><td> 1.5139845</td><td> 1.2193943</td><td> 0.7476026</td><td> 0.7564971</td><td>-1.1285125</td><td>-0.3955670</td><td>-0.6959420</td><td>-2.1017080</td><td> 0.8437759</td></tr>\n",
       "\t<tr><th scope=row>1951</th><td>-0.8204260</td><td> 0.2329041</td><td>-0.1720029</td><td> 1.5139845</td><td> 1.2193943</td><td> 0.7476026</td><td> 0.7564971</td><td>-1.1285125</td><td>-0.3955670</td><td>-0.6959420</td><td>-2.1017080</td><td> 0.8437759</td></tr>\n",
       "\t<tr><th scope=row>1952</th><td>-0.8204260</td><td> 0.2329041</td><td>-0.1720029</td><td> 1.5139845</td><td> 1.2193943</td><td> 0.7476026</td><td> 0.7564971</td><td>-1.1285125</td><td>-0.3955670</td><td>-0.6959420</td><td>-2.1017080</td><td> 0.8437759</td></tr>\n",
       "\t<tr><th scope=row>1953</th><td>-0.8204260</td><td> 0.2329041</td><td>-0.1720029</td><td> 1.5139845</td><td> 1.2193943</td><td> 0.7476026</td><td> 0.7564971</td><td>-1.1285125</td><td>-0.3955670</td><td>-0.6959420</td><td>-2.1017080</td><td> 0.8437759</td></tr>\n",
       "\t<tr><th scope=row>1954</th><td>-0.8204260</td><td> 0.2329041</td><td>-0.1720029</td><td> 1.5139845</td><td> 1.2193943</td><td> 0.7476026</td><td> 0.7564971</td><td>-1.1285125</td><td>-0.3955670</td><td>-0.6959420</td><td>-2.1017080</td><td> 0.8437759</td></tr>\n",
       "\t<tr><th scope=row>1955</th><td>-0.8204260</td><td> 0.2329041</td><td>-0.1720029</td><td> 1.5139845</td><td> 1.2193943</td><td> 0.7476026</td><td> 0.7564971</td><td>-1.1285125</td><td>-0.3955670</td><td>-0.6959420</td><td>-2.1017080</td><td> 0.8437759</td></tr>\n",
       "\t<tr><th scope=row>1956</th><td>-0.8204260</td><td> 0.2329041</td><td>-0.1720029</td><td> 1.5139845</td><td> 1.2193943</td><td> 0.7476026</td><td> 0.7564971</td><td>-1.1285125</td><td>-0.3955670</td><td>-0.6959420</td><td>-2.1017080</td><td> 0.8437759</td></tr>\n",
       "\t<tr><th scope=row>1957</th><td>-0.8204260</td><td> 0.2329041</td><td>-0.1720029</td><td> 1.5139845</td><td> 1.2193943</td><td> 0.7476026</td><td> 0.7564971</td><td>-1.1285125</td><td>-0.3955670</td><td>-0.6959420</td><td>-2.1017080</td><td> 0.8437759</td></tr>\n",
       "\t<tr><th scope=row>1958</th><td>-0.8204260</td><td> 0.2329041</td><td>-0.1720029</td><td> 1.5139845</td><td> 1.2193943</td><td> 0.7476026</td><td> 0.7564971</td><td>-1.1285125</td><td>-0.3955670</td><td>-0.6959420</td><td>-2.1017080</td><td> 0.8437759</td></tr>\n",
       "\t<tr><th scope=row>1959</th><td>-0.8204260</td><td> 0.2329041</td><td>-0.1720029</td><td> 1.5139845</td><td> 1.2193943</td><td> 0.7476026</td><td> 0.7564971</td><td>-1.1285125</td><td>-0.3955670</td><td>          </td><td>          </td><td>          </td></tr>\n",
       "</tbody>\n",
       "</table>\n"
      ],
      "text/latex": [
       "A Time Series: 14 × 12\n",
       "\\begin{tabular}{r|llllllllllll}\n",
       "  & Jan & Feb & Mar & Apr & May & Jun & Jul & Aug & Sep & Oct & Nov & Dec\\\\\n",
       "\\hline\n",
       "\t1946 & -0.8204260 &  0.2329041 & -0.1720029 &  1.5139845 &  1.2193943 &  0.7476026 &  0.7564971 & -1.1285125 & -0.3955670 & -0.6959420 & -2.1017080 &  0.8437759\\\\\n",
       "\t1947 & -0.8204260 &  0.2329041 & -0.1720029 &  1.5139845 &  1.2193943 &  0.7476026 &  0.7564971 & -1.1285125 & -0.3955670 & -0.6959420 & -2.1017080 &  0.8437759\\\\\n",
       "\t1948 & -0.8204260 &  0.2329041 & -0.1720029 &  1.5139845 &  1.2193943 &  0.7476026 &  0.7564971 & -1.1285125 & -0.3955670 & -0.6959420 & -2.1017080 &  0.8437759\\\\\n",
       "\t1949 & -0.8204260 &  0.2329041 & -0.1720029 &  1.5139845 &  1.2193943 &  0.7476026 &  0.7564971 & -1.1285125 & -0.3955670 & -0.6959420 & -2.1017080 &  0.8437759\\\\\n",
       "\t1950 & -0.8204260 &  0.2329041 & -0.1720029 &  1.5139845 &  1.2193943 &  0.7476026 &  0.7564971 & -1.1285125 & -0.3955670 & -0.6959420 & -2.1017080 &  0.8437759\\\\\n",
       "\t1951 & -0.8204260 &  0.2329041 & -0.1720029 &  1.5139845 &  1.2193943 &  0.7476026 &  0.7564971 & -1.1285125 & -0.3955670 & -0.6959420 & -2.1017080 &  0.8437759\\\\\n",
       "\t1952 & -0.8204260 &  0.2329041 & -0.1720029 &  1.5139845 &  1.2193943 &  0.7476026 &  0.7564971 & -1.1285125 & -0.3955670 & -0.6959420 & -2.1017080 &  0.8437759\\\\\n",
       "\t1953 & -0.8204260 &  0.2329041 & -0.1720029 &  1.5139845 &  1.2193943 &  0.7476026 &  0.7564971 & -1.1285125 & -0.3955670 & -0.6959420 & -2.1017080 &  0.8437759\\\\\n",
       "\t1954 & -0.8204260 &  0.2329041 & -0.1720029 &  1.5139845 &  1.2193943 &  0.7476026 &  0.7564971 & -1.1285125 & -0.3955670 & -0.6959420 & -2.1017080 &  0.8437759\\\\\n",
       "\t1955 & -0.8204260 &  0.2329041 & -0.1720029 &  1.5139845 &  1.2193943 &  0.7476026 &  0.7564971 & -1.1285125 & -0.3955670 & -0.6959420 & -2.1017080 &  0.8437759\\\\\n",
       "\t1956 & -0.8204260 &  0.2329041 & -0.1720029 &  1.5139845 &  1.2193943 &  0.7476026 &  0.7564971 & -1.1285125 & -0.3955670 & -0.6959420 & -2.1017080 &  0.8437759\\\\\n",
       "\t1957 & -0.8204260 &  0.2329041 & -0.1720029 &  1.5139845 &  1.2193943 &  0.7476026 &  0.7564971 & -1.1285125 & -0.3955670 & -0.6959420 & -2.1017080 &  0.8437759\\\\\n",
       "\t1958 & -0.8204260 &  0.2329041 & -0.1720029 &  1.5139845 &  1.2193943 &  0.7476026 &  0.7564971 & -1.1285125 & -0.3955670 & -0.6959420 & -2.1017080 &  0.8437759\\\\\n",
       "\t1959 & -0.8204260 &  0.2329041 & -0.1720029 &  1.5139845 &  1.2193943 &  0.7476026 &  0.7564971 & -1.1285125 & -0.3955670 &            &            &           \\\\\n",
       "\\end{tabular}\n"
      ],
      "text/markdown": [
       "\n",
       "A Time Series: 14 × 12\n",
       "\n",
       "| <!--/--> | Jan | Feb | Mar | Apr | May | Jun | Jul | Aug | Sep | Oct | Nov | Dec |\n",
       "|---|---|---|---|---|---|---|---|---|---|---|---|---|\n",
       "| 1946 | -0.8204260 |  0.2329041 | -0.1720029 |  1.5139845 |  1.2193943 |  0.7476026 |  0.7564971 | -1.1285125 | -0.3955670 | -0.6959420 | -2.1017080 |  0.8437759 |\n",
       "| 1947 | -0.8204260 |  0.2329041 | -0.1720029 |  1.5139845 |  1.2193943 |  0.7476026 |  0.7564971 | -1.1285125 | -0.3955670 | -0.6959420 | -2.1017080 |  0.8437759 |\n",
       "| 1948 | -0.8204260 |  0.2329041 | -0.1720029 |  1.5139845 |  1.2193943 |  0.7476026 |  0.7564971 | -1.1285125 | -0.3955670 | -0.6959420 | -2.1017080 |  0.8437759 |\n",
       "| 1949 | -0.8204260 |  0.2329041 | -0.1720029 |  1.5139845 |  1.2193943 |  0.7476026 |  0.7564971 | -1.1285125 | -0.3955670 | -0.6959420 | -2.1017080 |  0.8437759 |\n",
       "| 1950 | -0.8204260 |  0.2329041 | -0.1720029 |  1.5139845 |  1.2193943 |  0.7476026 |  0.7564971 | -1.1285125 | -0.3955670 | -0.6959420 | -2.1017080 |  0.8437759 |\n",
       "| 1951 | -0.8204260 |  0.2329041 | -0.1720029 |  1.5139845 |  1.2193943 |  0.7476026 |  0.7564971 | -1.1285125 | -0.3955670 | -0.6959420 | -2.1017080 |  0.8437759 |\n",
       "| 1952 | -0.8204260 |  0.2329041 | -0.1720029 |  1.5139845 |  1.2193943 |  0.7476026 |  0.7564971 | -1.1285125 | -0.3955670 | -0.6959420 | -2.1017080 |  0.8437759 |\n",
       "| 1953 | -0.8204260 |  0.2329041 | -0.1720029 |  1.5139845 |  1.2193943 |  0.7476026 |  0.7564971 | -1.1285125 | -0.3955670 | -0.6959420 | -2.1017080 |  0.8437759 |\n",
       "| 1954 | -0.8204260 |  0.2329041 | -0.1720029 |  1.5139845 |  1.2193943 |  0.7476026 |  0.7564971 | -1.1285125 | -0.3955670 | -0.6959420 | -2.1017080 |  0.8437759 |\n",
       "| 1955 | -0.8204260 |  0.2329041 | -0.1720029 |  1.5139845 |  1.2193943 |  0.7476026 |  0.7564971 | -1.1285125 | -0.3955670 | -0.6959420 | -2.1017080 |  0.8437759 |\n",
       "| 1956 | -0.8204260 |  0.2329041 | -0.1720029 |  1.5139845 |  1.2193943 |  0.7476026 |  0.7564971 | -1.1285125 | -0.3955670 | -0.6959420 | -2.1017080 |  0.8437759 |\n",
       "| 1957 | -0.8204260 |  0.2329041 | -0.1720029 |  1.5139845 |  1.2193943 |  0.7476026 |  0.7564971 | -1.1285125 | -0.3955670 | -0.6959420 | -2.1017080 |  0.8437759 |\n",
       "| 1958 | -0.8204260 |  0.2329041 | -0.1720029 |  1.5139845 |  1.2193943 |  0.7476026 |  0.7564971 | -1.1285125 | -0.3955670 | -0.6959420 | -2.1017080 |  0.8437759 |\n",
       "| 1959 | -0.8204260 |  0.2329041 | -0.1720029 |  1.5139845 |  1.2193943 |  0.7476026 |  0.7564971 | -1.1285125 | -0.3955670 | <!----> | <!----> | <!----> |\n",
       "\n"
      ],
      "text/plain": [
       "     Jan        Feb        Mar        Apr        May        Jun       \n",
       "1946 -0.8204260  0.2329041 -0.1720029  1.5139845  1.2193943  0.7476026\n",
       "1947 -0.8204260  0.2329041 -0.1720029  1.5139845  1.2193943  0.7476026\n",
       "1948 -0.8204260  0.2329041 -0.1720029  1.5139845  1.2193943  0.7476026\n",
       "1949 -0.8204260  0.2329041 -0.1720029  1.5139845  1.2193943  0.7476026\n",
       "1950 -0.8204260  0.2329041 -0.1720029  1.5139845  1.2193943  0.7476026\n",
       "1951 -0.8204260  0.2329041 -0.1720029  1.5139845  1.2193943  0.7476026\n",
       "1952 -0.8204260  0.2329041 -0.1720029  1.5139845  1.2193943  0.7476026\n",
       "1953 -0.8204260  0.2329041 -0.1720029  1.5139845  1.2193943  0.7476026\n",
       "1954 -0.8204260  0.2329041 -0.1720029  1.5139845  1.2193943  0.7476026\n",
       "1955 -0.8204260  0.2329041 -0.1720029  1.5139845  1.2193943  0.7476026\n",
       "1956 -0.8204260  0.2329041 -0.1720029  1.5139845  1.2193943  0.7476026\n",
       "1957 -0.8204260  0.2329041 -0.1720029  1.5139845  1.2193943  0.7476026\n",
       "1958 -0.8204260  0.2329041 -0.1720029  1.5139845  1.2193943  0.7476026\n",
       "1959 -0.8204260  0.2329041 -0.1720029  1.5139845  1.2193943  0.7476026\n",
       "     Jul        Aug        Sep        Oct        Nov        Dec       \n",
       "1946  0.7564971 -1.1285125 -0.3955670 -0.6959420 -2.1017080  0.8437759\n",
       "1947  0.7564971 -1.1285125 -0.3955670 -0.6959420 -2.1017080  0.8437759\n",
       "1948  0.7564971 -1.1285125 -0.3955670 -0.6959420 -2.1017080  0.8437759\n",
       "1949  0.7564971 -1.1285125 -0.3955670 -0.6959420 -2.1017080  0.8437759\n",
       "1950  0.7564971 -1.1285125 -0.3955670 -0.6959420 -2.1017080  0.8437759\n",
       "1951  0.7564971 -1.1285125 -0.3955670 -0.6959420 -2.1017080  0.8437759\n",
       "1952  0.7564971 -1.1285125 -0.3955670 -0.6959420 -2.1017080  0.8437759\n",
       "1953  0.7564971 -1.1285125 -0.3955670 -0.6959420 -2.1017080  0.8437759\n",
       "1954  0.7564971 -1.1285125 -0.3955670 -0.6959420 -2.1017080  0.8437759\n",
       "1955  0.7564971 -1.1285125 -0.3955670 -0.6959420 -2.1017080  0.8437759\n",
       "1956  0.7564971 -1.1285125 -0.3955670 -0.6959420 -2.1017080  0.8437759\n",
       "1957  0.7564971 -1.1285125 -0.3955670 -0.6959420 -2.1017080  0.8437759\n",
       "1958  0.7564971 -1.1285125 -0.3955670 -0.6959420 -2.1017080  0.8437759\n",
       "1959  0.7564971 -1.1285125 -0.3955670                                 "
      ]
     },
     "metadata": {},
     "output_type": "display_data"
    }
   ],
   "source": [
    "comp$seasonal"
   ]
  },
  {
   "cell_type": "code",
   "execution_count": 30,
   "id": "4ffa8a8c-ba4b-4393-ab8a-f1d0605b8051",
   "metadata": {},
   "outputs": [
    {
     "data": {
      "text/html": [
       "<table class=\"dataframe\">\n",
       "<caption>A Time Series: 14 × 12</caption>\n",
       "<thead>\n",
       "\t<tr><th></th><th scope=col>Jan</th><th scope=col>Feb</th><th scope=col>Mar</th><th scope=col>Apr</th><th scope=col>May</th><th scope=col>Jun</th><th scope=col>Jul</th><th scope=col>Aug</th><th scope=col>Sep</th><th scope=col>Oct</th><th scope=col>Nov</th><th scope=col>Dec</th></tr>\n",
       "</thead>\n",
       "<tbody>\n",
       "\t<tr><th scope=row>1946</th><td>      NA</td><td>      NA</td><td>      NA</td><td>      NA</td><td>      NA</td><td>      NA</td><td>23.16112</td><td>22.86425</td><td>22.54521</td><td>22.35350</td><td>22.30871</td><td>22.30258</td></tr>\n",
       "\t<tr><th scope=row>1947</th><td>22.29479</td><td>22.29354</td><td>22.30562</td><td>22.33483</td><td>22.31167</td><td>22.26279</td><td>22.25796</td><td>22.27767</td><td>22.35400</td><td>22.43038</td><td>22.43667</td><td>22.38721</td></tr>\n",
       "\t<tr><th scope=row>1948</th><td>22.35242</td><td>22.32458</td><td>22.27458</td><td>22.23754</td><td>22.21988</td><td>22.16983</td><td>22.07721</td><td>22.01396</td><td>22.02604</td><td>22.06375</td><td>22.08033</td><td>22.13317</td></tr>\n",
       "\t<tr><th scope=row>1949</th><td>22.16604</td><td>22.17542</td><td>22.21342</td><td>22.27625</td><td>22.35750</td><td>22.48862</td><td>22.70992</td><td>22.98563</td><td>23.16346</td><td>23.21663</td><td>23.26967</td><td>23.33492</td></tr>\n",
       "\t<tr><th scope=row>1950</th><td>23.42679</td><td>23.50638</td><td>23.57017</td><td>23.63888</td><td>23.75713</td><td>23.86354</td><td>23.89533</td><td>23.87342</td><td>23.88150</td><td>24.00083</td><td>24.12350</td><td>24.20917</td></tr>\n",
       "\t<tr><th scope=row>1951</th><td>24.28208</td><td>24.35450</td><td>24.43242</td><td>24.49496</td><td>24.48379</td><td>24.43879</td><td>24.36829</td><td>24.29192</td><td>24.27642</td><td>24.27204</td><td>24.27300</td><td>24.28942</td></tr>\n",
       "\t<tr><th scope=row>1952</th><td>24.30129</td><td>24.31325</td><td>24.35175</td><td>24.40558</td><td>24.44475</td><td>24.49325</td><td>24.58517</td><td>24.70429</td><td>24.76017</td><td>24.78646</td><td>24.84992</td><td>24.92692</td></tr>\n",
       "\t<tr><th scope=row>1953</th><td>25.02362</td><td>25.16308</td><td>25.26963</td><td>25.30154</td><td>25.34125</td><td>25.42779</td><td>25.57588</td><td>25.73904</td><td>25.87513</td><td>25.92446</td><td>25.92317</td><td>25.92967</td></tr>\n",
       "\t<tr><th scope=row>1954</th><td>25.92137</td><td>25.89567</td><td>25.89458</td><td>25.92963</td><td>25.98246</td><td>26.01054</td><td>25.88617</td><td>25.67087</td><td>25.57312</td><td>25.64612</td><td>25.78679</td><td>25.93192</td></tr>\n",
       "\t<tr><th scope=row>1955</th><td>26.06388</td><td>26.16329</td><td>26.25388</td><td>26.35471</td><td>26.40496</td><td>26.45379</td><td>26.64933</td><td>26.95183</td><td>27.14683</td><td>27.21104</td><td>27.21900</td><td>27.20700</td></tr>\n",
       "\t<tr><th scope=row>1956</th><td>27.26925</td><td>27.35050</td><td>27.37983</td><td>27.39975</td><td>27.44150</td><td>27.45229</td><td>27.43354</td><td>27.44488</td><td>27.46996</td><td>27.44221</td><td>27.40283</td><td>27.44300</td></tr>\n",
       "\t<tr><th scope=row>1957</th><td>27.45717</td><td>27.44429</td><td>27.48975</td><td>27.54354</td><td>27.56933</td><td>27.63167</td><td>27.67804</td><td>27.62579</td><td>27.61212</td><td>27.68642</td><td>27.76067</td><td>27.75963</td></tr>\n",
       "\t<tr><th scope=row>1958</th><td>27.71037</td><td>27.65783</td><td>27.58125</td><td>27.49075</td><td>27.46183</td><td>27.42262</td><td>27.34175</td><td>27.25129</td><td>27.08558</td><td>26.96858</td><td>27.00512</td><td>27.09250</td></tr>\n",
       "\t<tr><th scope=row>1959</th><td>27.17263</td><td>27.26208</td><td>27.36033</td><td>      NA</td><td>      NA</td><td>      NA</td><td>      NA</td><td>      NA</td><td>      NA</td><td>        </td><td>        </td><td>        </td></tr>\n",
       "</tbody>\n",
       "</table>\n"
      ],
      "text/latex": [
       "A Time Series: 14 × 12\n",
       "\\begin{tabular}{r|llllllllllll}\n",
       "  & Jan & Feb & Mar & Apr & May & Jun & Jul & Aug & Sep & Oct & Nov & Dec\\\\\n",
       "\\hline\n",
       "\t1946 &       NA &       NA &       NA &       NA &       NA &       NA & 23.16112 & 22.86425 & 22.54521 & 22.35350 & 22.30871 & 22.30258\\\\\n",
       "\t1947 & 22.29479 & 22.29354 & 22.30562 & 22.33483 & 22.31167 & 22.26279 & 22.25796 & 22.27767 & 22.35400 & 22.43038 & 22.43667 & 22.38721\\\\\n",
       "\t1948 & 22.35242 & 22.32458 & 22.27458 & 22.23754 & 22.21988 & 22.16983 & 22.07721 & 22.01396 & 22.02604 & 22.06375 & 22.08033 & 22.13317\\\\\n",
       "\t1949 & 22.16604 & 22.17542 & 22.21342 & 22.27625 & 22.35750 & 22.48862 & 22.70992 & 22.98563 & 23.16346 & 23.21663 & 23.26967 & 23.33492\\\\\n",
       "\t1950 & 23.42679 & 23.50638 & 23.57017 & 23.63888 & 23.75713 & 23.86354 & 23.89533 & 23.87342 & 23.88150 & 24.00083 & 24.12350 & 24.20917\\\\\n",
       "\t1951 & 24.28208 & 24.35450 & 24.43242 & 24.49496 & 24.48379 & 24.43879 & 24.36829 & 24.29192 & 24.27642 & 24.27204 & 24.27300 & 24.28942\\\\\n",
       "\t1952 & 24.30129 & 24.31325 & 24.35175 & 24.40558 & 24.44475 & 24.49325 & 24.58517 & 24.70429 & 24.76017 & 24.78646 & 24.84992 & 24.92692\\\\\n",
       "\t1953 & 25.02362 & 25.16308 & 25.26963 & 25.30154 & 25.34125 & 25.42779 & 25.57588 & 25.73904 & 25.87513 & 25.92446 & 25.92317 & 25.92967\\\\\n",
       "\t1954 & 25.92137 & 25.89567 & 25.89458 & 25.92963 & 25.98246 & 26.01054 & 25.88617 & 25.67087 & 25.57312 & 25.64612 & 25.78679 & 25.93192\\\\\n",
       "\t1955 & 26.06388 & 26.16329 & 26.25388 & 26.35471 & 26.40496 & 26.45379 & 26.64933 & 26.95183 & 27.14683 & 27.21104 & 27.21900 & 27.20700\\\\\n",
       "\t1956 & 27.26925 & 27.35050 & 27.37983 & 27.39975 & 27.44150 & 27.45229 & 27.43354 & 27.44488 & 27.46996 & 27.44221 & 27.40283 & 27.44300\\\\\n",
       "\t1957 & 27.45717 & 27.44429 & 27.48975 & 27.54354 & 27.56933 & 27.63167 & 27.67804 & 27.62579 & 27.61212 & 27.68642 & 27.76067 & 27.75963\\\\\n",
       "\t1958 & 27.71037 & 27.65783 & 27.58125 & 27.49075 & 27.46183 & 27.42262 & 27.34175 & 27.25129 & 27.08558 & 26.96858 & 27.00512 & 27.09250\\\\\n",
       "\t1959 & 27.17263 & 27.26208 & 27.36033 &       NA &       NA &       NA &       NA &       NA &       NA &          &          &         \\\\\n",
       "\\end{tabular}\n"
      ],
      "text/markdown": [
       "\n",
       "A Time Series: 14 × 12\n",
       "\n",
       "| <!--/--> | Jan | Feb | Mar | Apr | May | Jun | Jul | Aug | Sep | Oct | Nov | Dec |\n",
       "|---|---|---|---|---|---|---|---|---|---|---|---|---|\n",
       "| 1946 |       NA |       NA |       NA |       NA |       NA |       NA | 23.16112 | 22.86425 | 22.54521 | 22.35350 | 22.30871 | 22.30258 |\n",
       "| 1947 | 22.29479 | 22.29354 | 22.30562 | 22.33483 | 22.31167 | 22.26279 | 22.25796 | 22.27767 | 22.35400 | 22.43038 | 22.43667 | 22.38721 |\n",
       "| 1948 | 22.35242 | 22.32458 | 22.27458 | 22.23754 | 22.21988 | 22.16983 | 22.07721 | 22.01396 | 22.02604 | 22.06375 | 22.08033 | 22.13317 |\n",
       "| 1949 | 22.16604 | 22.17542 | 22.21342 | 22.27625 | 22.35750 | 22.48862 | 22.70992 | 22.98563 | 23.16346 | 23.21663 | 23.26967 | 23.33492 |\n",
       "| 1950 | 23.42679 | 23.50638 | 23.57017 | 23.63888 | 23.75713 | 23.86354 | 23.89533 | 23.87342 | 23.88150 | 24.00083 | 24.12350 | 24.20917 |\n",
       "| 1951 | 24.28208 | 24.35450 | 24.43242 | 24.49496 | 24.48379 | 24.43879 | 24.36829 | 24.29192 | 24.27642 | 24.27204 | 24.27300 | 24.28942 |\n",
       "| 1952 | 24.30129 | 24.31325 | 24.35175 | 24.40558 | 24.44475 | 24.49325 | 24.58517 | 24.70429 | 24.76017 | 24.78646 | 24.84992 | 24.92692 |\n",
       "| 1953 | 25.02362 | 25.16308 | 25.26963 | 25.30154 | 25.34125 | 25.42779 | 25.57588 | 25.73904 | 25.87513 | 25.92446 | 25.92317 | 25.92967 |\n",
       "| 1954 | 25.92137 | 25.89567 | 25.89458 | 25.92963 | 25.98246 | 26.01054 | 25.88617 | 25.67087 | 25.57312 | 25.64612 | 25.78679 | 25.93192 |\n",
       "| 1955 | 26.06388 | 26.16329 | 26.25388 | 26.35471 | 26.40496 | 26.45379 | 26.64933 | 26.95183 | 27.14683 | 27.21104 | 27.21900 | 27.20700 |\n",
       "| 1956 | 27.26925 | 27.35050 | 27.37983 | 27.39975 | 27.44150 | 27.45229 | 27.43354 | 27.44488 | 27.46996 | 27.44221 | 27.40283 | 27.44300 |\n",
       "| 1957 | 27.45717 | 27.44429 | 27.48975 | 27.54354 | 27.56933 | 27.63167 | 27.67804 | 27.62579 | 27.61212 | 27.68642 | 27.76067 | 27.75963 |\n",
       "| 1958 | 27.71037 | 27.65783 | 27.58125 | 27.49075 | 27.46183 | 27.42262 | 27.34175 | 27.25129 | 27.08558 | 26.96858 | 27.00512 | 27.09250 |\n",
       "| 1959 | 27.17263 | 27.26208 | 27.36033 |       NA |       NA |       NA |       NA |       NA |       NA | <!----> | <!----> | <!----> |\n",
       "\n"
      ],
      "text/plain": [
       "     Jan      Feb      Mar      Apr      May      Jun      Jul      Aug     \n",
       "1946       NA       NA       NA       NA       NA       NA 23.16112 22.86425\n",
       "1947 22.29479 22.29354 22.30562 22.33483 22.31167 22.26279 22.25796 22.27767\n",
       "1948 22.35242 22.32458 22.27458 22.23754 22.21988 22.16983 22.07721 22.01396\n",
       "1949 22.16604 22.17542 22.21342 22.27625 22.35750 22.48862 22.70992 22.98563\n",
       "1950 23.42679 23.50638 23.57017 23.63888 23.75713 23.86354 23.89533 23.87342\n",
       "1951 24.28208 24.35450 24.43242 24.49496 24.48379 24.43879 24.36829 24.29192\n",
       "1952 24.30129 24.31325 24.35175 24.40558 24.44475 24.49325 24.58517 24.70429\n",
       "1953 25.02362 25.16308 25.26963 25.30154 25.34125 25.42779 25.57588 25.73904\n",
       "1954 25.92137 25.89567 25.89458 25.92963 25.98246 26.01054 25.88617 25.67087\n",
       "1955 26.06388 26.16329 26.25388 26.35471 26.40496 26.45379 26.64933 26.95183\n",
       "1956 27.26925 27.35050 27.37983 27.39975 27.44150 27.45229 27.43354 27.44488\n",
       "1957 27.45717 27.44429 27.48975 27.54354 27.56933 27.63167 27.67804 27.62579\n",
       "1958 27.71037 27.65783 27.58125 27.49075 27.46183 27.42262 27.34175 27.25129\n",
       "1959 27.17263 27.26208 27.36033       NA       NA       NA       NA       NA\n",
       "     Sep      Oct      Nov      Dec     \n",
       "1946 22.54521 22.35350 22.30871 22.30258\n",
       "1947 22.35400 22.43038 22.43667 22.38721\n",
       "1948 22.02604 22.06375 22.08033 22.13317\n",
       "1949 23.16346 23.21663 23.26967 23.33492\n",
       "1950 23.88150 24.00083 24.12350 24.20917\n",
       "1951 24.27642 24.27204 24.27300 24.28942\n",
       "1952 24.76017 24.78646 24.84992 24.92692\n",
       "1953 25.87513 25.92446 25.92317 25.92967\n",
       "1954 25.57312 25.64612 25.78679 25.93192\n",
       "1955 27.14683 27.21104 27.21900 27.20700\n",
       "1956 27.46996 27.44221 27.40283 27.44300\n",
       "1957 27.61212 27.68642 27.76067 27.75963\n",
       "1958 27.08558 26.96858 27.00512 27.09250\n",
       "1959       NA                           "
      ]
     },
     "metadata": {},
     "output_type": "display_data"
    }
   ],
   "source": [
    "comp$trend"
   ]
  },
  {
   "cell_type": "markdown",
   "id": "965bf6cc-e5be-4913-9ffb-354cf68211c9",
   "metadata": {},
   "source": [
    "- Trong phần seasonal, yếu tố seasonal cao nhất là tháng 4 và thấp nhất là tháng 11.\n",
    "- => Tháng có nhiều trẻ sinh nhất là tháng 4, và thấp nhất là tháng 11"
   ]
  },
  {
   "cell_type": "code",
   "execution_count": 31,
   "id": "9be9527e-72f9-465e-8f8d-5b43856e3d3b",
   "metadata": {},
   "outputs": [
    {
     "data": {
      "text/html": [
       "<table class=\"dataframe\">\n",
       "<caption>A Time Series: 14 × 12</caption>\n",
       "<thead>\n",
       "\t<tr><th></th><th scope=col>Jan</th><th scope=col>Feb</th><th scope=col>Mar</th><th scope=col>Apr</th><th scope=col>May</th><th scope=col>Jun</th><th scope=col>Jul</th><th scope=col>Aug</th><th scope=col>Sep</th><th scope=col>Oct</th><th scope=col>Nov</th><th scope=col>Dec</th></tr>\n",
       "</thead>\n",
       "<tbody>\n",
       "\t<tr><th scope=row>1946</th><td>         NA</td><td>         NA</td><td>         NA</td><td>         NA</td><td>         NA</td><td>         NA</td><td>-0.69062208</td><td>-0.06373747</td><td>-0.27964131</td><td>-0.21855798</td><td> 0.88199971</td><td> 0.56264074</td></tr>\n",
       "\t<tr><th scope=row>1947</th><td> 0.19463433</td><td>-0.77444580</td><td>-1.37262208</td><td>-0.36981786</td><td> 0.29293908</td><td> 0.09460575</td><td> 0.09554458</td><td> 0.60984586</td><td> 0.11456702</td><td> 0.20256702</td><td>-0.29995862</td><td> 0.35901574</td></tr>\n",
       "\t<tr><th scope=row>1948</th><td> 0.14000933</td><td>-0.33548747</td><td> 0.02041958</td><td> 0.19847380</td><td> 0.06473075</td><td>-0.67943592</td><td> 0.30829458</td><td> 0.17355420</td><td>-0.05747465</td><td> 0.18019202</td><td> 0.02137471</td><td>-0.55294260</td></tr>\n",
       "\t<tr><th scope=row>1949</th><td>-0.73061567</td><td>-0.64732080</td><td> 0.83258625</td><td> 0.31376547</td><td> 0.17110575</td><td> 0.02577241</td><td>-0.55941375</td><td>-0.33811247</td><td>-0.74289131</td><td> 0.08331702</td><td>-0.27395862</td><td> 0.49830740</td></tr>\n",
       "\t<tr><th scope=row>1950</th><td> 1.06663433</td><td> 1.58072086</td><td> 0.18483625</td><td>-0.48185953</td><td>-0.52251925</td><td>-0.48914425</td><td>-0.39983042</td><td>-0.66090414</td><td>-0.49493298</td><td>-0.01789131</td><td> 1.02720804</td><td> 0.02305740</td></tr>\n",
       "\t<tr><th scope=row>1951</th><td> 0.57534266</td><td>-0.15740414</td><td> 0.40658625</td><td> 0.44205714</td><td>-0.08518592</td><td>-0.17239425</td><td>-0.01478875</td><td>-0.19940414</td><td> 0.10015035</td><td> 0.22190035</td><td> 0.09870804</td><td>-0.35819260</td></tr>\n",
       "\t<tr><th scope=row>1952</th><td>-0.83486567</td><td>-0.55815414</td><td> 0.55725292</td><td> 0.35643214</td><td> 0.15185575</td><td>-0.03085259</td><td>-0.14266375</td><td>-0.41377914</td><td> 0.34240035</td><td> 0.27348369</td><td>-0.10420862</td><td>-0.20569260</td></tr>\n",
       "\t<tr><th scope=row>1953</th><td>-0.14119901</td><td> 0.03501253</td><td>-0.46262208</td><td> 0.19347380</td><td> 0.04535575</td><td> 0.09260575</td><td> 0.12962792</td><td> 0.63547086</td><td>-0.29955798</td><td>-0.57151631</td><td>-0.51745862</td><td> 0.20855740</td></tr>\n",
       "\t<tr><th scope=row>1954</th><td> 1.09805099</td><td> 1.08142920</td><td> 0.39941958</td><td>-0.73760953</td><td>-0.32385259</td><td>-0.60614425</td><td>-0.26366375</td><td> 0.16963753</td><td> 0.51044202</td><td> 0.03981702</td><td> 0.55391638</td><td>-0.05469260</td></tr>\n",
       "\t<tr><th scope=row>1955</th><td>-1.76844901</td><td>-1.62919580</td><td> 0.13712792</td><td> 0.49230714</td><td> 0.97464741</td><td> 0.71260575</td><td> 0.37816958</td><td>-0.13032080</td><td> 0.12973369</td><td>-0.29809965</td><td>-0.89929196</td><td>-0.13677593</td></tr>\n",
       "\t<tr><th scope=row>1956</th><td> 0.52617599</td><td> 0.94359586</td><td>-0.06883042</td><td> 0.06826547</td><td>-0.49189425</td><td>-0.14389425</td><td> 0.94596125</td><td>-0.02536247</td><td>-0.08739131</td><td>-0.15726631</td><td>-0.45312529</td><td>-0.74377593</td></tr>\n",
       "\t<tr><th scope=row>1957</th><td> 0.25925933</td><td> 1.20080420</td><td> 0.07225292</td><td>-0.99252620</td><td>-0.64772759</td><td> 0.66873075</td><td> 0.04946125</td><td> 0.13672086</td><td> 0.51844202</td><td> 0.14152535</td><td>-0.73495862</td><td> 0.35959907</td></tr>\n",
       "\t<tr><th scope=row>1958</th><td>-0.30094901</td><td> 0.04026253</td><td> 0.59975292</td><td> 0.22426547</td><td> 0.07777241</td><td> 0.23477241</td><td>-0.15324708</td><td>-0.21077914</td><td>-0.07101631</td><td>-0.19664131</td><td> 0.38258304</td><td>-0.27627593</td></tr>\n",
       "\t<tr><th scope=row>1959</th><td>-0.40119901</td><td>-1.09698747</td><td>-1.62333042</td><td>         NA</td><td>         NA</td><td>         NA</td><td>         NA</td><td>         NA</td><td>         NA</td><td>           </td><td>           </td><td>           </td></tr>\n",
       "</tbody>\n",
       "</table>\n"
      ],
      "text/latex": [
       "A Time Series: 14 × 12\n",
       "\\begin{tabular}{r|llllllllllll}\n",
       "  & Jan & Feb & Mar & Apr & May & Jun & Jul & Aug & Sep & Oct & Nov & Dec\\\\\n",
       "\\hline\n",
       "\t1946 &          NA &          NA &          NA &          NA &          NA &          NA & -0.69062208 & -0.06373747 & -0.27964131 & -0.21855798 &  0.88199971 &  0.56264074\\\\\n",
       "\t1947 &  0.19463433 & -0.77444580 & -1.37262208 & -0.36981786 &  0.29293908 &  0.09460575 &  0.09554458 &  0.60984586 &  0.11456702 &  0.20256702 & -0.29995862 &  0.35901574\\\\\n",
       "\t1948 &  0.14000933 & -0.33548747 &  0.02041958 &  0.19847380 &  0.06473075 & -0.67943592 &  0.30829458 &  0.17355420 & -0.05747465 &  0.18019202 &  0.02137471 & -0.55294260\\\\\n",
       "\t1949 & -0.73061567 & -0.64732080 &  0.83258625 &  0.31376547 &  0.17110575 &  0.02577241 & -0.55941375 & -0.33811247 & -0.74289131 &  0.08331702 & -0.27395862 &  0.49830740\\\\\n",
       "\t1950 &  1.06663433 &  1.58072086 &  0.18483625 & -0.48185953 & -0.52251925 & -0.48914425 & -0.39983042 & -0.66090414 & -0.49493298 & -0.01789131 &  1.02720804 &  0.02305740\\\\\n",
       "\t1951 &  0.57534266 & -0.15740414 &  0.40658625 &  0.44205714 & -0.08518592 & -0.17239425 & -0.01478875 & -0.19940414 &  0.10015035 &  0.22190035 &  0.09870804 & -0.35819260\\\\\n",
       "\t1952 & -0.83486567 & -0.55815414 &  0.55725292 &  0.35643214 &  0.15185575 & -0.03085259 & -0.14266375 & -0.41377914 &  0.34240035 &  0.27348369 & -0.10420862 & -0.20569260\\\\\n",
       "\t1953 & -0.14119901 &  0.03501253 & -0.46262208 &  0.19347380 &  0.04535575 &  0.09260575 &  0.12962792 &  0.63547086 & -0.29955798 & -0.57151631 & -0.51745862 &  0.20855740\\\\\n",
       "\t1954 &  1.09805099 &  1.08142920 &  0.39941958 & -0.73760953 & -0.32385259 & -0.60614425 & -0.26366375 &  0.16963753 &  0.51044202 &  0.03981702 &  0.55391638 & -0.05469260\\\\\n",
       "\t1955 & -1.76844901 & -1.62919580 &  0.13712792 &  0.49230714 &  0.97464741 &  0.71260575 &  0.37816958 & -0.13032080 &  0.12973369 & -0.29809965 & -0.89929196 & -0.13677593\\\\\n",
       "\t1956 &  0.52617599 &  0.94359586 & -0.06883042 &  0.06826547 & -0.49189425 & -0.14389425 &  0.94596125 & -0.02536247 & -0.08739131 & -0.15726631 & -0.45312529 & -0.74377593\\\\\n",
       "\t1957 &  0.25925933 &  1.20080420 &  0.07225292 & -0.99252620 & -0.64772759 &  0.66873075 &  0.04946125 &  0.13672086 &  0.51844202 &  0.14152535 & -0.73495862 &  0.35959907\\\\\n",
       "\t1958 & -0.30094901 &  0.04026253 &  0.59975292 &  0.22426547 &  0.07777241 &  0.23477241 & -0.15324708 & -0.21077914 & -0.07101631 & -0.19664131 &  0.38258304 & -0.27627593\\\\\n",
       "\t1959 & -0.40119901 & -1.09698747 & -1.62333042 &          NA &          NA &          NA &          NA &          NA &          NA &             &             &            \\\\\n",
       "\\end{tabular}\n"
      ],
      "text/markdown": [
       "\n",
       "A Time Series: 14 × 12\n",
       "\n",
       "| <!--/--> | Jan | Feb | Mar | Apr | May | Jun | Jul | Aug | Sep | Oct | Nov | Dec |\n",
       "|---|---|---|---|---|---|---|---|---|---|---|---|---|\n",
       "| 1946 |          NA |          NA |          NA |          NA |          NA |          NA | -0.69062208 | -0.06373747 | -0.27964131 | -0.21855798 |  0.88199971 |  0.56264074 |\n",
       "| 1947 |  0.19463433 | -0.77444580 | -1.37262208 | -0.36981786 |  0.29293908 |  0.09460575 |  0.09554458 |  0.60984586 |  0.11456702 |  0.20256702 | -0.29995862 |  0.35901574 |\n",
       "| 1948 |  0.14000933 | -0.33548747 |  0.02041958 |  0.19847380 |  0.06473075 | -0.67943592 |  0.30829458 |  0.17355420 | -0.05747465 |  0.18019202 |  0.02137471 | -0.55294260 |\n",
       "| 1949 | -0.73061567 | -0.64732080 |  0.83258625 |  0.31376547 |  0.17110575 |  0.02577241 | -0.55941375 | -0.33811247 | -0.74289131 |  0.08331702 | -0.27395862 |  0.49830740 |\n",
       "| 1950 |  1.06663433 |  1.58072086 |  0.18483625 | -0.48185953 | -0.52251925 | -0.48914425 | -0.39983042 | -0.66090414 | -0.49493298 | -0.01789131 |  1.02720804 |  0.02305740 |\n",
       "| 1951 |  0.57534266 | -0.15740414 |  0.40658625 |  0.44205714 | -0.08518592 | -0.17239425 | -0.01478875 | -0.19940414 |  0.10015035 |  0.22190035 |  0.09870804 | -0.35819260 |\n",
       "| 1952 | -0.83486567 | -0.55815414 |  0.55725292 |  0.35643214 |  0.15185575 | -0.03085259 | -0.14266375 | -0.41377914 |  0.34240035 |  0.27348369 | -0.10420862 | -0.20569260 |\n",
       "| 1953 | -0.14119901 |  0.03501253 | -0.46262208 |  0.19347380 |  0.04535575 |  0.09260575 |  0.12962792 |  0.63547086 | -0.29955798 | -0.57151631 | -0.51745862 |  0.20855740 |\n",
       "| 1954 |  1.09805099 |  1.08142920 |  0.39941958 | -0.73760953 | -0.32385259 | -0.60614425 | -0.26366375 |  0.16963753 |  0.51044202 |  0.03981702 |  0.55391638 | -0.05469260 |\n",
       "| 1955 | -1.76844901 | -1.62919580 |  0.13712792 |  0.49230714 |  0.97464741 |  0.71260575 |  0.37816958 | -0.13032080 |  0.12973369 | -0.29809965 | -0.89929196 | -0.13677593 |\n",
       "| 1956 |  0.52617599 |  0.94359586 | -0.06883042 |  0.06826547 | -0.49189425 | -0.14389425 |  0.94596125 | -0.02536247 | -0.08739131 | -0.15726631 | -0.45312529 | -0.74377593 |\n",
       "| 1957 |  0.25925933 |  1.20080420 |  0.07225292 | -0.99252620 | -0.64772759 |  0.66873075 |  0.04946125 |  0.13672086 |  0.51844202 |  0.14152535 | -0.73495862 |  0.35959907 |\n",
       "| 1958 | -0.30094901 |  0.04026253 |  0.59975292 |  0.22426547 |  0.07777241 |  0.23477241 | -0.15324708 | -0.21077914 | -0.07101631 | -0.19664131 |  0.38258304 | -0.27627593 |\n",
       "| 1959 | -0.40119901 | -1.09698747 | -1.62333042 |          NA |          NA |          NA |          NA |          NA |          NA | <!----> | <!----> | <!----> |\n",
       "\n"
      ],
      "text/plain": [
       "     Jan         Feb         Mar         Apr         May         Jun        \n",
       "1946          NA          NA          NA          NA          NA          NA\n",
       "1947  0.19463433 -0.77444580 -1.37262208 -0.36981786  0.29293908  0.09460575\n",
       "1948  0.14000933 -0.33548747  0.02041958  0.19847380  0.06473075 -0.67943592\n",
       "1949 -0.73061567 -0.64732080  0.83258625  0.31376547  0.17110575  0.02577241\n",
       "1950  1.06663433  1.58072086  0.18483625 -0.48185953 -0.52251925 -0.48914425\n",
       "1951  0.57534266 -0.15740414  0.40658625  0.44205714 -0.08518592 -0.17239425\n",
       "1952 -0.83486567 -0.55815414  0.55725292  0.35643214  0.15185575 -0.03085259\n",
       "1953 -0.14119901  0.03501253 -0.46262208  0.19347380  0.04535575  0.09260575\n",
       "1954  1.09805099  1.08142920  0.39941958 -0.73760953 -0.32385259 -0.60614425\n",
       "1955 -1.76844901 -1.62919580  0.13712792  0.49230714  0.97464741  0.71260575\n",
       "1956  0.52617599  0.94359586 -0.06883042  0.06826547 -0.49189425 -0.14389425\n",
       "1957  0.25925933  1.20080420  0.07225292 -0.99252620 -0.64772759  0.66873075\n",
       "1958 -0.30094901  0.04026253  0.59975292  0.22426547  0.07777241  0.23477241\n",
       "1959 -0.40119901 -1.09698747 -1.62333042          NA          NA          NA\n",
       "     Jul         Aug         Sep         Oct         Nov         Dec        \n",
       "1946 -0.69062208 -0.06373747 -0.27964131 -0.21855798  0.88199971  0.56264074\n",
       "1947  0.09554458  0.60984586  0.11456702  0.20256702 -0.29995862  0.35901574\n",
       "1948  0.30829458  0.17355420 -0.05747465  0.18019202  0.02137471 -0.55294260\n",
       "1949 -0.55941375 -0.33811247 -0.74289131  0.08331702 -0.27395862  0.49830740\n",
       "1950 -0.39983042 -0.66090414 -0.49493298 -0.01789131  1.02720804  0.02305740\n",
       "1951 -0.01478875 -0.19940414  0.10015035  0.22190035  0.09870804 -0.35819260\n",
       "1952 -0.14266375 -0.41377914  0.34240035  0.27348369 -0.10420862 -0.20569260\n",
       "1953  0.12962792  0.63547086 -0.29955798 -0.57151631 -0.51745862  0.20855740\n",
       "1954 -0.26366375  0.16963753  0.51044202  0.03981702  0.55391638 -0.05469260\n",
       "1955  0.37816958 -0.13032080  0.12973369 -0.29809965 -0.89929196 -0.13677593\n",
       "1956  0.94596125 -0.02536247 -0.08739131 -0.15726631 -0.45312529 -0.74377593\n",
       "1957  0.04946125  0.13672086  0.51844202  0.14152535 -0.73495862  0.35959907\n",
       "1958 -0.15324708 -0.21077914 -0.07101631 -0.19664131  0.38258304 -0.27627593\n",
       "1959          NA          NA          NA                                    "
      ]
     },
     "metadata": {},
     "output_type": "display_data"
    }
   ],
   "source": [
    "comp$random"
   ]
  },
  {
   "cell_type": "code",
   "execution_count": 32,
   "id": "648cf1a7-0ee4-4c33-8be3-63889542a515",
   "metadata": {},
   "outputs": [
    {
     "data": {
      "image/png": "[encoded data removed]",
      "text/plain": [
       "plot without title"
      ]
     },
     "metadata": {
      "image/png": {
       "height": 420,
       "width": 420
      }
     },
     "output_type": "display_data"
    }
   ],
   "source": [
    "plot(comp)"
   ]
  },
  {
   "cell_type": "code",
   "execution_count": 33,
   "id": "2a977131-dc16-4e80-8779-5f525333e723",
   "metadata": {},
   "outputs": [
    {
     "name": "stdout",
     "output_type": "stream",
     "text": [
      "Holt-Winters exponential smoothing with trend and additive seasonal component.\n",
      "\n",
      "Call:\n",
      "HoltWinters(x = births.timeseries)\n",
      "\n",
      "Smoothing parameters:\n",
      " alpha: 0.686454\n",
      " beta : 0.008857567\n",
      " gamma: 0.6828562\n",
      "\n",
      "Coefficients:\n",
      "           [,1]\n",
      "a   28.23526659\n",
      "b    0.01404313\n",
      "s1  -0.77365521\n",
      "s2  -2.08404489\n",
      "s3   1.11945752\n",
      "s4  -0.37371601\n",
      "s5   0.83714172\n",
      "s6   0.20710404\n",
      "s7   1.88468799\n",
      "s8   1.59554494\n",
      "s9   0.96254105\n",
      "s10  0.74685563\n",
      "s11 -1.24615200\n",
      "s12 -0.33493561\n"
     ]
    }
   ],
   "source": [
    "births.timeseries.forecasts <- HoltWinters(births.timeseries)\n",
    "print(births.timeseries.forecasts)"
   ]
  },
  {
   "cell_type": "markdown",
   "id": "5f71cbf8-e692-405e-a857-6bf3b8b0303f",
   "metadata": {},
   "source": [
    "- alpha ~ 0.7: khá cao, cho thấy giá trị hiện tại phụ thuộc vào các giá trị gần đây và các giá trị trong quá khứ gần\n",
    "- beta ~ 0: độ dốc của trend không cập nhật trong thời gian qua\n",
    "- gamma ~ 0.7: ảnh hưởng của yếu tố mùa tại thời điểm hiện tại có phụ thuộc vào các giá trị gần"
   ]
  },
  {
   "cell_type": "code",
   "execution_count": 34,
   "id": "0052b697-aeab-4281-8003-a2583cbfcbdc",
   "metadata": {},
   "outputs": [
    {
     "data": {
      "image/png": "[encoded data removed]",
      "text/plain": [
       "Plot with title \"Births: observer vs forecast\""
      ]
     },
     "metadata": {
      "image/png": {
       "height": 420,
       "width": 420
      }
     },
     "output_type": "display_data"
    }
   ],
   "source": [
    "plot(births.timeseries.forecasts,\n",
    "    main = 'Births: observer vs forecast',\n",
    "    xlab='Year', ylab ='Births')"
   ]
  },
  {
   "cell_type": "code",
   "execution_count": 35,
   "id": "a2248872-6cee-409d-b401-94958b686ef9",
   "metadata": {
    "scrolled": true
   },
   "outputs": [
    {
     "name": "stderr",
     "output_type": "stream",
     "text": [
      "Registered S3 method overwritten by 'quantmod':\n",
      "  method            from\n",
      "  as.zoo.data.frame zoo \n",
      "\n"
     ]
    },
    {
     "name": "stdout",
     "output_type": "stream",
     "text": [
      "[1] \"Next 6 months\\\"\"\n",
      "         Point Forecast    Lo 80    Hi 80    Lo 95    Hi 95\n",
      "Oct 1959       27.47565 26.53108 28.42023 26.03105 28.92026\n",
      "Nov 1959       26.17931 25.03033 27.32828 24.42210 27.93651\n",
      "Dec 1959       29.39685 28.07186 30.72185 27.37045 31.42326\n",
      "Jan 1960       27.91772 26.43493 29.40052 25.64998 30.18546\n",
      "Feb 1960       29.14262 27.51491 30.77033 26.65326 31.63199\n",
      "Mar 1960       28.52663 26.76370 30.28956 25.83045 31.22280\n"
     ]
    }
   ],
   "source": [
    "births.timeseries.forecasts2 <- forecast:::forecast.HoltWinters(births.timeseries.forecasts, h=6)\n",
    "print('Next 6 months\"')\n",
    "print(births.timeseries.forecasts2)"
   ]
  },
  {
   "cell_type": "code",
   "execution_count": 36,
   "id": "fae03c24-87e1-40b1-885a-9d950b8fd15f",
   "metadata": {},
   "outputs": [
    {
     "data": {
      "image/png": "[encoded data removed]",
      "text/plain": [
       "Plot with title \"Births: Forecast Next 6 months\""
      ]
     },
     "metadata": {
      "image/png": {
       "height": 420,
       "width": 420
      }
     },
     "output_type": "display_data"
    }
   ],
   "source": [
    "plot(births.timeseries.forecasts2,\n",
    "    main = 'Births: Forecast Next 6 months',\n",
    "    xlab='Year', ylab ='Births')"
   ]
  },
  {
   "cell_type": "code",
   "execution_count": null,
   "id": "0c04cf5c-2a5c-494d-9a98-580645139f36",
   "metadata": {},
   "outputs": [],
   "source": []
  },
  {
   "cell_type": "markdown",
   "id": "afd829c1-b4bf-48b9-9779-d495c81ff41f",
   "metadata": {},
   "source": [
    "# Chương 15"
   ]
  },
  {
   "cell_type": "markdown",
   "id": "79553cac-fe3d-42ff-baba-54f8ea419aae",
   "metadata": {},
   "source": [
    "## Exercise 1: Buying T-shirt - Binominal Distribution"
   ]
  },
  {
   "cell_type": "code",
   "execution_count": 37,
   "id": "0323c675-eac1-45cc-8e55-6cf6523a398c",
   "metadata": {},
   "outputs": [
    {
     "data": {
      "text/html": [
       "0.29647548"
      ],
      "text/latex": [
       "0.29647548"
      ],
      "text/markdown": [
       "0.29647548"
      ],
      "text/plain": [
       "[1] 0.2964755"
      ]
     },
     "metadata": {},
     "output_type": "display_data"
    }
   ],
   "source": [
    "p1 <- dbinom(2, size = 8, prob = 0.3)\n",
    "p1"
   ]
  },
  {
   "cell_type": "code",
   "execution_count": 38,
   "id": "572b42d6-8645-4a08-86d1-ca28d71b03a6",
   "metadata": {},
   "outputs": [
    {
     "data": {
      "text/html": [
       "0.00122472"
      ],
      "text/latex": [
       "0.00122472"
      ],
      "text/markdown": [
       "0.00122472"
      ],
      "text/plain": [
       "[1] 0.00122472"
      ]
     },
     "metadata": {},
     "output_type": "display_data"
    }
   ],
   "source": [
    "p2 <- dbinom(7, size = 8, prob = 0.3)\n",
    "p2"
   ]
  },
  {
   "cell_type": "code",
   "execution_count": 39,
   "id": "dbe23fff-afb5-4c59-b7af-6ce8e6afd989",
   "metadata": {},
   "outputs": [
    {
     "data": {
      "text/html": [
       "0.74470167"
      ],
      "text/latex": [
       "0.74470167"
      ],
      "text/markdown": [
       "0.74470167"
      ],
      "text/plain": [
       "[1] 0.7447017"
      ]
     },
     "metadata": {},
     "output_type": "display_data"
    }
   ],
   "source": [
    "p3 <- pbinom(1, size = 8, prob = 0.3, lower.tail = FALSE)\n",
    "p3"
   ]
  },
  {
   "cell_type": "markdown",
   "id": "3c631a03-0fec-4533-92a0-887f879e9e24",
   "metadata": {},
   "source": [
    "## Exercise 2: Chiều cao - Normal Distribution"
   ]
  },
  {
   "cell_type": "code",
   "execution_count": 40,
   "id": "de140acf-5ee1-4136-9f02-162352d628db",
   "metadata": {},
   "outputs": [
    {
     "name": "stdout",
     "output_type": "stream",
     "text": [
      " [1] 140.0 140.5 141.0 141.5 142.0 142.5 143.0 143.5 144.0 144.5 145.0 145.5\n",
      "[13] 146.0 146.5 147.0 147.5 148.0 148.5 149.0 149.5 150.0 150.5 151.0 151.5\n",
      "[25] 152.0 152.5 153.0 153.5 154.0 154.5 155.0 155.5 156.0 156.5 157.0 157.5\n",
      "[37] 158.0 158.5 159.0 159.5 160.0 160.5 161.0 161.5 162.0 162.5 163.0 163.5\n",
      "[49] 164.0 164.5 165.0 165.5 166.0 166.5 167.0 167.5 168.0 168.5 169.0 169.5\n",
      "[61] 170.0 170.5 171.0 171.5 172.0 172.5 173.0 173.5 174.0 174.5 175.0 175.5\n",
      "[73] 176.0 176.5 177.0 177.5 178.0 178.5 179.0 179.5 180.0\n"
     ]
    }
   ],
   "source": [
    "height <- seq(140, 180, 0.5)\n",
    "print(height)\n",
    "value <- dnorm(height, 156,4.6)"
   ]
  },
  {
   "cell_type": "code",
   "execution_count": 41,
   "id": "4697a79c-a89a-471c-8fd5-3734939c209f",
   "metadata": {},
   "outputs": [
    {
     "data": {
      "image/png": "[encoded data removed]",
      "text/plain": [
       "Plot with title \"Propbability distribution of height in Vietnamese women\""
      ]
     },
     "metadata": {
      "image/png": {
       "height": 420,
       "width": 420
      }
     },
     "output_type": "display_data"
    }
   ],
   "source": [
    "plot(height, value,\n",
    "    type='l',\n",
    "    ylab='f(heght)',\n",
    "    xlab=\"Height\",\n",
    "    main = 'Propbability distribution of height in Vietnamese women')"
   ]
  },
  {
   "cell_type": "code",
   "execution_count": 42,
   "id": "1b5ce1bf-abe0-4908-bcd1-a4b7628ad398",
   "metadata": {},
   "outputs": [
    {
     "data": {
      "text/html": [
       "0.0594234309266334"
      ],
      "text/latex": [
       "0.0594234309266334"
      ],
      "text/markdown": [
       "0.0594234309266334"
      ],
      "text/plain": [
       "[1] 0.05942343"
      ]
     },
     "metadata": {},
     "output_type": "display_data"
    }
   ],
   "source": [
    "dnorm(160, mean = 156, sd = 4.6)"
   ]
  },
  {
   "cell_type": "code",
   "execution_count": null,
   "id": "39477099-3e90-4044-b062-90b418379c27",
   "metadata": {},
   "outputs": [],
   "source": []
  },
  {
   "cell_type": "markdown",
   "id": "477aa91c-cdba-4968-835c-e573abf6da25",
   "metadata": {},
   "source": [
    "# Chương 17"
   ]
  },
  {
   "cell_type": "markdown",
   "id": "f9c7d782-8532-428f-bf33-8e9669588ffa",
   "metadata": {},
   "source": [
    "## Exercise 1: Baseball"
   ]
  },
  {
   "cell_type": "code",
   "execution_count": 43,
   "id": "ace322da-6905-4403-9090-35194b186be7",
   "metadata": {},
   "outputs": [
    {
     "name": "stdout",
     "output_type": "stream",
     "text": [
      "             Name Team       Position Height Weight   Age PosCategory\n",
      "1   Adam_Donachie  BAL        Catcher     74    180 22.99     Catcher\n",
      "2       Paul_Bako  BAL        Catcher     74    215 34.69     Catcher\n",
      "3 Ramon_Hernandez  BAL        Catcher     72    210 30.78     Catcher\n",
      "4    Kevin_Millar  BAL  First_Baseman     72    210 35.43   Infielder\n",
      "5     Chris_Gomez  BAL  First_Baseman     73    188 35.71   Infielder\n",
      "6   Brian_Roberts  BAL Second_Baseman     69    176 29.39   Infielder\n",
      "[1] TRUE\n",
      "[1] \"cols 7\"\n",
      "[1] \"rows 1015\"\n"
     ]
    }
   ],
   "source": [
    "data <- read.csv('baseball.csv')\n",
    "print(head(data))\n",
    "print(is.data.frame(data))\n",
    "print(paste('cols', ncol(data)))\n",
    "print(paste('rows', nrow(data)))"
   ]
  },
  {
   "cell_type": "code",
   "execution_count": 44,
   "id": "9214a23b-1e41-4b90-998f-ae22e76eedab",
   "metadata": {},
   "outputs": [
    {
     "data": {
      "text/plain": [
       "     Name               Team             Position             Height     \n",
       " Length:1015        Length:1015        Length:1015        Min.   :67.00  \n",
       " Class :character   Class :character   Class :character   1st Qu.:72.00  \n",
       " Mode  :character   Mode  :character   Mode  :character   Median :74.00  \n",
       "                                                          Mean   :73.69  \n",
       "                                                          3rd Qu.:75.00  \n",
       "                                                          Max.   :83.00  \n",
       "     Weight           Age        PosCategory       \n",
       " Min.   :150.0   Min.   :20.90   Length:1015       \n",
       " 1st Qu.:186.0   1st Qu.:25.41   Class :character  \n",
       " Median :200.0   Median :27.90   Mode  :character  \n",
       " Mean   :201.3   Mean   :28.71                     \n",
       " 3rd Qu.:215.0   3rd Qu.:31.19                     \n",
       " Max.   :290.0   Max.   :48.52                     "
      ]
     },
     "metadata": {},
     "output_type": "display_data"
    }
   ],
   "source": [
    "summary(data)"
   ]
  },
  {
   "cell_type": "code",
   "execution_count": 45,
   "id": "b44d8792-dc87-4854-8373-1ef5ee26a1cd",
   "metadata": {},
   "outputs": [
    {
     "name": "stdout",
     "output_type": "stream",
     "text": [
      "'data.frame':\t1015 obs. of  7 variables:\n",
      " $ Name       : chr  \"Adam_Donachie\" \"Paul_Bako\" \"Ramon_Hernandez\" \"Kevin_Millar\" ...\n",
      " $ Team       : chr  \"BAL\" \"BAL\" \"BAL\" \"BAL\" ...\n",
      " $ Position   : chr  \"Catcher\" \"Catcher\" \"Catcher\" \"First_Baseman\" ...\n",
      " $ Height     : int  74 74 72 72 73 69 69 71 76 71 ...\n",
      " $ Weight     : int  180 215 210 210 188 176 209 200 231 180 ...\n",
      " $ Age        : num  23 34.7 30.8 35.4 35.7 ...\n",
      " $ PosCategory: chr  \"Catcher\" \"Catcher\" \"Catcher\" \"Infielder\" ...\n"
     ]
    }
   ],
   "source": [
    "str(data)"
   ]
  },
  {
   "cell_type": "code",
   "execution_count": 46,
   "id": "c47b03b9-6dc1-4003-8428-f423e8ea37c6",
   "metadata": {},
   "outputs": [
    {
     "name": "stdout",
     "output_type": "stream",
     "text": [
      "  Height Weight\n",
      "1     74    180\n",
      "2     74    215\n",
      "3     72    210\n",
      "4     72    210\n",
      "5     73    188\n",
      "6     69    176\n"
     ]
    }
   ],
   "source": [
    "baseball <- data[c('Height', 'Weight')]\n",
    "print(head(baseball))"
   ]
  },
  {
   "cell_type": "code",
   "execution_count": 47,
   "id": "68a5a29e-ae6e-4691-aec1-98d9edec435a",
   "metadata": {},
   "outputs": [
    {
     "name": "stdout",
     "output_type": "stream",
     "text": [
      "  Height   Weight\n",
      "1 1.8796 81.64656\n",
      "2 1.8796 97.52228\n",
      "3 1.8288 95.25432\n",
      "4 1.8288 95.25432\n",
      "5 1.8542 85.27530\n",
      "6 1.7526 79.83219\n"
     ]
    }
   ],
   "source": [
    "baseball['Height'] <- baseball['Height']* 0.0254\n",
    "baseball['Weight'] <- baseball['Weight']* 0.453592\n",
    "\n",
    "print(head(baseball))"
   ]
  },
  {
   "cell_type": "code",
   "execution_count": 48,
   "id": "e54c7ed7-5b9b-4aab-9028-9a17ba1307ae",
   "metadata": {},
   "outputs": [
    {
     "data": {
      "image/png": "[encoded data removed]",
      "text/plain": [
       "Plot with title \"Height vs Weight\""
      ]
     },
     "metadata": {
      "image/png": {
       "height": 420,
       "width": 420
      }
     },
     "output_type": "display_data"
    }
   ],
   "source": [
    "scatter.smooth(x=baseball$Height, y = baseball$Weight, main='Height vs Weight')"
   ]
  },
  {
   "cell_type": "code",
   "execution_count": 49,
   "id": "18213d4c-3949-4d1b-b9ae-5442861ee693",
   "metadata": {},
   "outputs": [
    {
     "data": {
      "image/png": "[encoded data removed]",
      "text/plain": [
       "Plot with title \"Weight\""
      ]
     },
     "metadata": {
      "image/png": {
       "height": 420,
       "width": 420
      }
     },
     "output_type": "display_data"
    }
   ],
   "source": [
    "par(mfrow = c(1,2))\n",
    "boxplot(baseball$Height, main = 'Height', sub = paste('Outlier rows:', boxplot.stats(baseball$Height)$out))\n",
    "boxplot(baseball$Weight, main = 'Weight', sub = paste('Outlier rows:', boxplot.stats(baseball$Weight)$out))"
   ]
  },
  {
   "cell_type": "code",
   "execution_count": 50,
   "id": "c268e4d1-b5a3-4039-981e-b2622cb85903",
   "metadata": {},
   "outputs": [
    {
     "name": "stdout",
     "output_type": "stream",
     "text": [
      "[1] 0.5315393\n",
      "[1] \"wt_outlier: \"\n",
      "[1] 117.9339 122.4698 131.5417 126.0986 117.9339 117.9339 117.9339\n",
      "[1] \"ht_outlier: \"\n",
      " [1] 2.0574 2.0320 2.0320 2.0320 2.0320 2.0828 2.0320 2.0574 2.0828 2.1082\n",
      "[11] 1.7018 1.7018\n"
     ]
    }
   ],
   "source": [
    "print(cor(baseball$Height, baseball$Weight))\n",
    "\n",
    "wt_outlier <- c(boxplot.stats(baseball$Weight)$out)\n",
    "print('wt_outlier: ')\n",
    "print(wt_outlier)\n",
    "\n",
    "ht_outlier <- c(boxplot.stats(baseball$Height)$out)\n",
    "print('ht_outlier: ')\n",
    "print(ht_outlier)"
   ]
  },
  {
   "cell_type": "code",
   "execution_count": 51,
   "id": "c39d2534-2ccc-44d0-b742-4837e9ed84ba",
   "metadata": {},
   "outputs": [
    {
     "name": "stdout",
     "output_type": "stream",
     "text": [
      "[1] \"Before drop:  1015\"\n",
      "[1] \"After drop:  998\"\n"
     ]
    }
   ],
   "source": [
    "print(paste('Before drop: ', nrow(baseball)))\n",
    "for (record in wt_outlier){\n",
    "    baseball <- baseball[baseball$Weight != record,]\n",
    "}\n",
    "\n",
    "for (record in ht_outlier){\n",
    "    baseball <- baseball[baseball$Height != record,]\n",
    "}\n",
    "print(paste('After drop: ', nrow(baseball)))"
   ]
  },
  {
   "cell_type": "code",
   "execution_count": 52,
   "id": "11ad435e-0840-4621-ba21-a840973a83d3",
   "metadata": {},
   "outputs": [],
   "source": [
    "set.seed(42)\n",
    "trainingRowIndex <- sample(1:nrow(baseball),  0.7*nrow(baseball))"
   ]
  },
  {
   "cell_type": "code",
   "execution_count": 53,
   "id": "59f055b9-55cd-46a3-8ccd-fdb62982704d",
   "metadata": {},
   "outputs": [],
   "source": [
    "trainingData <- baseball[trainingRowIndex,]\n",
    "testData <- baseball[-trainingRowIndex,]"
   ]
  },
  {
   "cell_type": "code",
   "execution_count": 54,
   "id": "6eca7435-b2e3-4417-a3cc-baa5c7723f1d",
   "metadata": {},
   "outputs": [
    {
     "name": "stdout",
     "output_type": "stream",
     "text": [
      "[1] \"Rows of training data and test data:\"\n",
      "[1] 698\n",
      "[1] 300\n"
     ]
    }
   ],
   "source": [
    "print(\"Rows of training data and test data:\")\n",
    "print(nrow(trainingData))\n",
    "print(nrow(testData))"
   ]
  },
  {
   "cell_type": "code",
   "execution_count": 55,
   "id": "19d1a9b4-cafe-49ec-9f41-b2d52e6093c8",
   "metadata": {},
   "outputs": [],
   "source": [
    "lmMod <- lm(Weight ~ Height, data =trainingData)"
   ]
  },
  {
   "cell_type": "code",
   "execution_count": 56,
   "id": "da1925ac-7aeb-4879-b40d-21e8fccddca9",
   "metadata": {},
   "outputs": [],
   "source": [
    "iPred <- predict(lmMod, testData)"
   ]
  },
  {
   "cell_type": "code",
   "execution_count": 57,
   "id": "ccb08a9a-f373-44cd-a53c-a1ba5bb93fc7",
   "metadata": {},
   "outputs": [
    {
     "name": "stdout",
     "output_type": "stream",
     "text": [
      "[1] \"mse:  62.1665992405895\"\n"
     ]
    }
   ],
   "source": [
    "mse = mean(lmMod$residuals^2)\n",
    "print(paste(\"mse: \", mse))"
   ]
  },
  {
   "cell_type": "code",
   "execution_count": 58,
   "id": "582b487e-905a-4ae7-8db8-af331c8dfc7e",
   "metadata": {},
   "outputs": [
    {
     "name": "stdout",
     "output_type": "stream",
     "text": [
      "[1] \"mse in test:  57.1830374137476\"\n"
     ]
    }
   ],
   "source": [
    "mse_test = mean((testData$Weight - iPred)^2)\n",
    "print(paste('mse in test: ', mse_test))"
   ]
  },
  {
   "cell_type": "code",
   "execution_count": 59,
   "id": "216b97aa-7e22-4e0b-840e-416b91d275fe",
   "metadata": {},
   "outputs": [
    {
     "data": {
      "text/html": [
       "0.224119248610725"
      ],
      "text/latex": [
       "0.224119248610725"
      ],
      "text/markdown": [
       "0.224119248610725"
      ],
      "text/plain": [
       "[1] 0.2241192"
      ]
     },
     "metadata": {},
     "output_type": "display_data"
    }
   ],
   "source": [
    "summary(lmMod)$r.square"
   ]
  },
  {
   "cell_type": "code",
   "execution_count": null,
   "id": "f896d0ab-d9f7-492b-b2a6-b0e27daa2f9d",
   "metadata": {},
   "outputs": [],
   "source": [
    "# R^2 có giá trị thấp, model fits ~ 22% data => không tốt"
   ]
  },
  {
   "cell_type": "code",
   "execution_count": 60,
   "id": "e764ec96-b076-4b95-bb9c-e97a4c1151e0",
   "metadata": {},
   "outputs": [
    {
     "name": "stdout",
     "output_type": "stream",
     "text": [
      "\n",
      "Call:\n",
      "lm(formula = Weight ~ Height, data = trainingData)\n",
      "\n",
      "Residuals:\n",
      "     Min       1Q   Median       3Q      Max \n",
      "-22.8230  -5.6531  -0.1704   5.1062  27.6049 \n",
      "\n",
      "Coefficients:\n",
      "            Estimate Std. Error t value Pr(>|t|)    \n",
      "(Intercept)  -52.482     10.113   -5.19 2.76e-07 ***\n",
      "Height        76.675      5.408   14.18  < 2e-16 ***\n",
      "---\n",
      "Signif. codes:  0 '***' 0.001 '**' 0.01 '*' 0.05 '.' 0.1 ' ' 1\n",
      "\n",
      "Residual standard error: 7.896 on 696 degrees of freedom\n",
      "Multiple R-squared:  0.2241,\tAdjusted R-squared:  0.223 \n",
      "F-statistic:   201 on 1 and 696 DF,  p-value: < 2.2e-16\n",
      "\n"
     ]
    }
   ],
   "source": [
    "print(summary(lmMod))"
   ]
  },
  {
   "cell_type": "code",
   "execution_count": 61,
   "id": "f7112cd8-1037-475d-b82f-a7ae72dbdd10",
   "metadata": {},
   "outputs": [
    {
     "name": "stdout",
     "output_type": "stream",
     "text": [
      "(Intercept)      Height \n",
      "  -52.48233    76.67488 \n"
     ]
    }
   ],
   "source": [
    "print(coef(lmMod))"
   ]
  },
  {
   "cell_type": "code",
   "execution_count": 62,
   "id": "2aef46fa-0c00-46b9-976e-19592e86e6dc",
   "metadata": {},
   "outputs": [
    {
     "name": "stdout",
     "output_type": "stream",
     "text": [
      "[1] \"slope:  76.6748792521468\"\n",
      "[1] \"Intercept:  -52.482332344762\"\n"
     ]
    }
   ],
   "source": [
    "beta_height = coef(lmMod)['Height']\n",
    "print(paste(\"slope: \", beta_height))\n",
    "Intercept <- coef(lmMod)[\"(Intercept)\"]\n",
    "print(paste(\"Intercept: \", Intercept))"
   ]
  },
  {
   "cell_type": "code",
   "execution_count": 63,
   "id": "00972b35-f11d-485c-a3b0-6a769822ed51",
   "metadata": {},
   "outputs": [
    {
     "name": "stdout",
     "output_type": "stream",
     "text": [
      "[1] \"Solution 1 - result: \"\n",
      "[1] 83.61558 87.44932 95.11681\n"
     ]
    }
   ],
   "source": [
    "x <- c(1.775, 1.825, 1.925)\n",
    "y <- Intercept + beta_height * x\n",
    "print(\"Solution 1 - result: \")\n",
    "print(y)"
   ]
  },
  {
   "cell_type": "code",
   "execution_count": 64,
   "id": "953b7a76-c723-4f8d-a32f-e9a4689d1416",
   "metadata": {},
   "outputs": [
    {
     "name": "stdout",
     "output_type": "stream",
     "text": [
      "[1] \"Solution 1 - result: \"\n",
      "       1        2        3 \n",
      "83.61558 87.44932 95.11681 \n"
     ]
    }
   ],
   "source": [
    "y1  <- predict(lmMod, data.frame(Height = x))\n",
    "print(\"Solution 1 - result: \")\n",
    "print(y1)"
   ]
  },
  {
   "cell_type": "code",
   "execution_count": 65,
   "id": "da92aac7-7c88-45ec-84d8-64a4be8e40ae",
   "metadata": {},
   "outputs": [
    {
     "data": {
      "image/png": "[encoded data removed]",
      "text/plain": [
       "Plot with title \"Baseball Linear regression\""
      ]
     },
     "metadata": {
      "image/png": {
       "height": 420,
       "width": 420
      }
     },
     "output_type": "display_data"
    }
   ],
   "source": [
    "# Visualization\n",
    "plot(baseball$Height, baseball$Weight, \n",
    "     main = \"Baseball Linear regression\",\n",
    "     xlab = \"Height\", ylab = \"Weight\",\n",
    "     pch = 19, frame = FALSE, col= 'blue')\n",
    "lines(x, y, col= 'red', type='p')\n",
    "abline(lmMod, baseball, col = \"green\")\n",
    "legend(\"topleft\", \n",
    "       c(\"dataset\", \"data_predict\"), \n",
    "       cex=0.8, \n",
    "       fill = c(\"blue\", \"red\"))"
   ]
  },
  {
   "cell_type": "code",
   "execution_count": null,
   "id": "6f48dc8d-d358-4f44-92c4-e745be8391a6",
   "metadata": {},
   "outputs": [],
   "source": []
  },
  {
   "cell_type": "markdown",
   "id": "61127303-fc37-4322-9181-724f9935de8a",
   "metadata": {},
   "source": [
    "# Chương 18"
   ]
  },
  {
   "cell_type": "markdown",
   "id": "6574e057-612f-49bc-87d3-b82712043e71",
   "metadata": {},
   "source": [
    "## Exercise 1: Diabetes"
   ]
  },
  {
   "cell_type": "code",
   "execution_count": 66,
   "id": "c13be219-2298-4c76-9c47-b4b88c389620",
   "metadata": {},
   "outputs": [],
   "source": [
    "library('corrplot')\n",
    "library('ggplot2')"
   ]
  },
  {
   "cell_type": "code",
   "execution_count": 67,
   "id": "33948ac6-7d9b-4ae6-b2d1-c8f8c5a248db",
   "metadata": {},
   "outputs": [],
   "source": [
    "mydata <- read.csv('diabetes.csv')"
   ]
  },
  {
   "cell_type": "code",
   "execution_count": 68,
   "id": "849d29d1-2b89-460e-9bfc-fb9afe746fec",
   "metadata": {},
   "outputs": [
    {
     "data": {
      "text/html": [
       "<table class=\"dataframe\">\n",
       "<caption>A data.frame: 6 × 9</caption>\n",
       "<thead>\n",
       "\t<tr><th></th><th scope=col>Pregnancies</th><th scope=col>Glucose</th><th scope=col>BloodPressure</th><th scope=col>SkinThickness</th><th scope=col>Insulin</th><th scope=col>BMI</th><th scope=col>DiabetesPedigreeFunction</th><th scope=col>Age</th><th scope=col>Outcome</th></tr>\n",
       "\t<tr><th></th><th scope=col>&lt;int&gt;</th><th scope=col>&lt;int&gt;</th><th scope=col>&lt;int&gt;</th><th scope=col>&lt;int&gt;</th><th scope=col>&lt;int&gt;</th><th scope=col>&lt;dbl&gt;</th><th scope=col>&lt;dbl&gt;</th><th scope=col>&lt;int&gt;</th><th scope=col>&lt;int&gt;</th></tr>\n",
       "</thead>\n",
       "<tbody>\n",
       "\t<tr><th scope=row>1</th><td>6</td><td>148</td><td>72</td><td>35</td><td>  0</td><td>33.6</td><td>0.627</td><td>50</td><td>1</td></tr>\n",
       "\t<tr><th scope=row>2</th><td>1</td><td> 85</td><td>66</td><td>29</td><td>  0</td><td>26.6</td><td>0.351</td><td>31</td><td>0</td></tr>\n",
       "\t<tr><th scope=row>3</th><td>8</td><td>183</td><td>64</td><td> 0</td><td>  0</td><td>23.3</td><td>0.672</td><td>32</td><td>1</td></tr>\n",
       "\t<tr><th scope=row>4</th><td>1</td><td> 89</td><td>66</td><td>23</td><td> 94</td><td>28.1</td><td>0.167</td><td>21</td><td>0</td></tr>\n",
       "\t<tr><th scope=row>5</th><td>0</td><td>137</td><td>40</td><td>35</td><td>168</td><td>43.1</td><td>2.288</td><td>33</td><td>1</td></tr>\n",
       "\t<tr><th scope=row>6</th><td>5</td><td>116</td><td>74</td><td> 0</td><td>  0</td><td>25.6</td><td>0.201</td><td>30</td><td>0</td></tr>\n",
       "</tbody>\n",
       "</table>\n"
      ],
      "text/latex": [
       "A data.frame: 6 × 9\n",
       "\\begin{tabular}{r|lllllllll}\n",
       "  & Pregnancies & Glucose & BloodPressure & SkinThickness & Insulin & BMI & DiabetesPedigreeFunction & Age & Outcome\\\\\n",
       "  & <int> & <int> & <int> & <int> & <int> & <dbl> & <dbl> & <int> & <int>\\\\\n",
       "\\hline\n",
       "\t1 & 6 & 148 & 72 & 35 &   0 & 33.6 & 0.627 & 50 & 1\\\\\n",
       "\t2 & 1 &  85 & 66 & 29 &   0 & 26.6 & 0.351 & 31 & 0\\\\\n",
       "\t3 & 8 & 183 & 64 &  0 &   0 & 23.3 & 0.672 & 32 & 1\\\\\n",
       "\t4 & 1 &  89 & 66 & 23 &  94 & 28.1 & 0.167 & 21 & 0\\\\\n",
       "\t5 & 0 & 137 & 40 & 35 & 168 & 43.1 & 2.288 & 33 & 1\\\\\n",
       "\t6 & 5 & 116 & 74 &  0 &   0 & 25.6 & 0.201 & 30 & 0\\\\\n",
       "\\end{tabular}\n"
      ],
      "text/markdown": [
       "\n",
       "A data.frame: 6 × 9\n",
       "\n",
       "| <!--/--> | Pregnancies &lt;int&gt; | Glucose &lt;int&gt; | BloodPressure &lt;int&gt; | SkinThickness &lt;int&gt; | Insulin &lt;int&gt; | BMI &lt;dbl&gt; | DiabetesPedigreeFunction &lt;dbl&gt; | Age &lt;int&gt; | Outcome &lt;int&gt; |\n",
       "|---|---|---|---|---|---|---|---|---|---|\n",
       "| 1 | 6 | 148 | 72 | 35 |   0 | 33.6 | 0.627 | 50 | 1 |\n",
       "| 2 | 1 |  85 | 66 | 29 |   0 | 26.6 | 0.351 | 31 | 0 |\n",
       "| 3 | 8 | 183 | 64 |  0 |   0 | 23.3 | 0.672 | 32 | 1 |\n",
       "| 4 | 1 |  89 | 66 | 23 |  94 | 28.1 | 0.167 | 21 | 0 |\n",
       "| 5 | 0 | 137 | 40 | 35 | 168 | 43.1 | 2.288 | 33 | 1 |\n",
       "| 6 | 5 | 116 | 74 |  0 |   0 | 25.6 | 0.201 | 30 | 0 |\n",
       "\n"
      ],
      "text/plain": [
       "  Pregnancies Glucose BloodPressure SkinThickness Insulin BMI \n",
       "1 6           148     72            35              0     33.6\n",
       "2 1            85     66            29              0     26.6\n",
       "3 8           183     64             0              0     23.3\n",
       "4 1            89     66            23             94     28.1\n",
       "5 0           137     40            35            168     43.1\n",
       "6 5           116     74             0              0     25.6\n",
       "  DiabetesPedigreeFunction Age Outcome\n",
       "1 0.627                    50  1      \n",
       "2 0.351                    31  0      \n",
       "3 0.672                    32  1      \n",
       "4 0.167                    21  0      \n",
       "5 2.288                    33  1      \n",
       "6 0.201                    30  0      "
      ]
     },
     "metadata": {},
     "output_type": "display_data"
    }
   ],
   "source": [
    "head(mydata)"
   ]
  },
  {
   "cell_type": "code",
   "execution_count": 69,
   "id": "e80ba9d5-290a-4bb9-a70b-5283b7b76f75",
   "metadata": {},
   "outputs": [
    {
     "data": {
      "text/html": [
       "<table class=\"dataframe\">\n",
       "<caption>A data.frame: 6 × 9</caption>\n",
       "<thead>\n",
       "\t<tr><th></th><th scope=col>Pregnancies</th><th scope=col>Glucose</th><th scope=col>BloodPressure</th><th scope=col>SkinThickness</th><th scope=col>Insulin</th><th scope=col>BMI</th><th scope=col>DiabetesPedigreeFunction</th><th scope=col>Age</th><th scope=col>Outcome</th></tr>\n",
       "\t<tr><th></th><th scope=col>&lt;int&gt;</th><th scope=col>&lt;int&gt;</th><th scope=col>&lt;int&gt;</th><th scope=col>&lt;int&gt;</th><th scope=col>&lt;int&gt;</th><th scope=col>&lt;dbl&gt;</th><th scope=col>&lt;dbl&gt;</th><th scope=col>&lt;int&gt;</th><th scope=col>&lt;int&gt;</th></tr>\n",
       "</thead>\n",
       "<tbody>\n",
       "\t<tr><th scope=row>763</th><td> 9</td><td> 89</td><td>62</td><td> 0</td><td>  0</td><td>22.5</td><td>0.142</td><td>33</td><td>0</td></tr>\n",
       "\t<tr><th scope=row>764</th><td>10</td><td>101</td><td>76</td><td>48</td><td>180</td><td>32.9</td><td>0.171</td><td>63</td><td>0</td></tr>\n",
       "\t<tr><th scope=row>765</th><td> 2</td><td>122</td><td>70</td><td>27</td><td>  0</td><td>36.8</td><td>0.340</td><td>27</td><td>0</td></tr>\n",
       "\t<tr><th scope=row>766</th><td> 5</td><td>121</td><td>72</td><td>23</td><td>112</td><td>26.2</td><td>0.245</td><td>30</td><td>0</td></tr>\n",
       "\t<tr><th scope=row>767</th><td> 1</td><td>126</td><td>60</td><td> 0</td><td>  0</td><td>30.1</td><td>0.349</td><td>47</td><td>1</td></tr>\n",
       "\t<tr><th scope=row>768</th><td> 1</td><td> 93</td><td>70</td><td>31</td><td>  0</td><td>30.4</td><td>0.315</td><td>23</td><td>0</td></tr>\n",
       "</tbody>\n",
       "</table>\n"
      ],
      "text/latex": [
       "A data.frame: 6 × 9\n",
       "\\begin{tabular}{r|lllllllll}\n",
       "  & Pregnancies & Glucose & BloodPressure & SkinThickness & Insulin & BMI & DiabetesPedigreeFunction & Age & Outcome\\\\\n",
       "  & <int> & <int> & <int> & <int> & <int> & <dbl> & <dbl> & <int> & <int>\\\\\n",
       "\\hline\n",
       "\t763 &  9 &  89 & 62 &  0 &   0 & 22.5 & 0.142 & 33 & 0\\\\\n",
       "\t764 & 10 & 101 & 76 & 48 & 180 & 32.9 & 0.171 & 63 & 0\\\\\n",
       "\t765 &  2 & 122 & 70 & 27 &   0 & 36.8 & 0.340 & 27 & 0\\\\\n",
       "\t766 &  5 & 121 & 72 & 23 & 112 & 26.2 & 0.245 & 30 & 0\\\\\n",
       "\t767 &  1 & 126 & 60 &  0 &   0 & 30.1 & 0.349 & 47 & 1\\\\\n",
       "\t768 &  1 &  93 & 70 & 31 &   0 & 30.4 & 0.315 & 23 & 0\\\\\n",
       "\\end{tabular}\n"
      ],
      "text/markdown": [
       "\n",
       "A data.frame: 6 × 9\n",
       "\n",
       "| <!--/--> | Pregnancies &lt;int&gt; | Glucose &lt;int&gt; | BloodPressure &lt;int&gt; | SkinThickness &lt;int&gt; | Insulin &lt;int&gt; | BMI &lt;dbl&gt; | DiabetesPedigreeFunction &lt;dbl&gt; | Age &lt;int&gt; | Outcome &lt;int&gt; |\n",
       "|---|---|---|---|---|---|---|---|---|---|\n",
       "| 763 |  9 |  89 | 62 |  0 |   0 | 22.5 | 0.142 | 33 | 0 |\n",
       "| 764 | 10 | 101 | 76 | 48 | 180 | 32.9 | 0.171 | 63 | 0 |\n",
       "| 765 |  2 | 122 | 70 | 27 |   0 | 36.8 | 0.340 | 27 | 0 |\n",
       "| 766 |  5 | 121 | 72 | 23 | 112 | 26.2 | 0.245 | 30 | 0 |\n",
       "| 767 |  1 | 126 | 60 |  0 |   0 | 30.1 | 0.349 | 47 | 1 |\n",
       "| 768 |  1 |  93 | 70 | 31 |   0 | 30.4 | 0.315 | 23 | 0 |\n",
       "\n"
      ],
      "text/plain": [
       "    Pregnancies Glucose BloodPressure SkinThickness Insulin BMI \n",
       "763  9           89     62             0              0     22.5\n",
       "764 10          101     76            48            180     32.9\n",
       "765  2          122     70            27              0     36.8\n",
       "766  5          121     72            23            112     26.2\n",
       "767  1          126     60             0              0     30.1\n",
       "768  1           93     70            31              0     30.4\n",
       "    DiabetesPedigreeFunction Age Outcome\n",
       "763 0.142                    33  0      \n",
       "764 0.171                    63  0      \n",
       "765 0.340                    27  0      \n",
       "766 0.245                    30  0      \n",
       "767 0.349                    47  1      \n",
       "768 0.315                    23  0      "
      ]
     },
     "metadata": {},
     "output_type": "display_data"
    }
   ],
   "source": [
    "tail(mydata)"
   ]
  },
  {
   "cell_type": "code",
   "execution_count": 70,
   "id": "99cd354a-59ae-4460-af33-b19438217b39",
   "metadata": {},
   "outputs": [
    {
     "data": {
      "text/plain": [
       "  Pregnancies        Glucose      BloodPressure    SkinThickness  \n",
       " Min.   : 0.000   Min.   :  0.0   Min.   :  0.00   Min.   : 0.00  \n",
       " 1st Qu.: 1.000   1st Qu.: 99.0   1st Qu.: 62.00   1st Qu.: 0.00  \n",
       " Median : 3.000   Median :117.0   Median : 72.00   Median :23.00  \n",
       " Mean   : 3.845   Mean   :120.9   Mean   : 69.11   Mean   :20.54  \n",
       " 3rd Qu.: 6.000   3rd Qu.:140.2   3rd Qu.: 80.00   3rd Qu.:32.00  \n",
       " Max.   :17.000   Max.   :199.0   Max.   :122.00   Max.   :99.00  \n",
       "    Insulin           BMI        DiabetesPedigreeFunction      Age       \n",
       " Min.   :  0.0   Min.   : 0.00   Min.   :0.0780           Min.   :21.00  \n",
       " 1st Qu.:  0.0   1st Qu.:27.30   1st Qu.:0.2437           1st Qu.:24.00  \n",
       " Median : 30.5   Median :32.00   Median :0.3725           Median :29.00  \n",
       " Mean   : 79.8   Mean   :31.99   Mean   :0.4719           Mean   :33.24  \n",
       " 3rd Qu.:127.2   3rd Qu.:36.60   3rd Qu.:0.6262           3rd Qu.:41.00  \n",
       " Max.   :846.0   Max.   :67.10   Max.   :2.4200           Max.   :81.00  \n",
       "    Outcome     \n",
       " Min.   :0.000  \n",
       " 1st Qu.:0.000  \n",
       " Median :0.000  \n",
       " Mean   :0.349  \n",
       " 3rd Qu.:1.000  \n",
       " Max.   :1.000  "
      ]
     },
     "metadata": {},
     "output_type": "display_data"
    }
   ],
   "source": [
    "summary(mydata)"
   ]
  },
  {
   "cell_type": "code",
   "execution_count": 71,
   "id": "e97dbd87-de4b-4f44-b844-d5c190f03cc1",
   "metadata": {},
   "outputs": [
    {
     "name": "stdout",
     "output_type": "stream",
     "text": [
      "'data.frame':\t768 obs. of  9 variables:\n",
      " $ Pregnancies             : int  6 1 8 1 0 5 3 10 2 8 ...\n",
      " $ Glucose                 : int  148 85 183 89 137 116 78 115 197 125 ...\n",
      " $ BloodPressure           : int  72 66 64 66 40 74 50 0 70 96 ...\n",
      " $ SkinThickness           : int  35 29 0 23 35 0 32 0 45 0 ...\n",
      " $ Insulin                 : int  0 0 0 94 168 0 88 0 543 0 ...\n",
      " $ BMI                     : num  33.6 26.6 23.3 28.1 43.1 25.6 31 35.3 30.5 0 ...\n",
      " $ DiabetesPedigreeFunction: num  0.627 0.351 0.672 0.167 2.288 ...\n",
      " $ Age                     : int  50 31 32 21 33 30 26 29 53 54 ...\n",
      " $ Outcome                 : int  1 0 1 0 1 0 1 0 1 1 ...\n"
     ]
    }
   ],
   "source": [
    "str(mydata)"
   ]
  },
  {
   "cell_type": "code",
   "execution_count": 72,
   "id": "3c26ed36-bdf4-4052-a032-a147238dc62a",
   "metadata": {},
   "outputs": [
    {
     "name": "stdout",
     "output_type": "stream",
     "text": [
      "[1] \"cols 9\"\n",
      "[1] \"rows 768\"\n"
     ]
    }
   ],
   "source": [
    "print(paste('cols', ncol(mydata)))\n",
    "print(paste('rows', nrow(mydata)))"
   ]
  },
  {
   "cell_type": "code",
   "execution_count": 73,
   "id": "a02984eb-3cd2-4bb8-8ade-70f14ef97604",
   "metadata": {},
   "outputs": [
    {
     "name": "stderr",
     "output_type": "stream",
     "text": [
      "Installing package into 'C:/Users/AW/AppData/Local/R/win-library/4.3'\n",
      "(as 'lib' is unspecified)\n",
      "\n"
     ]
    },
    {
     "name": "stdout",
     "output_type": "stream",
     "text": [
      "package 'Amelia' successfully unpacked and MD5 sums checked\n",
      "\n",
      "The downloaded binary packages are in\n",
      "\tC:\\Users\\AW\\AppData\\Local\\Temp\\RtmpQ9dnVc\\downloaded_packages\n"
     ]
    }
   ],
   "source": [
    "install.packages('Amelia')"
   ]
  },
  {
   "cell_type": "code",
   "execution_count": 74,
   "id": "6bc3e30a-23d7-4610-bf20-a6a78cbfc8cd",
   "metadata": {},
   "outputs": [
    {
     "name": "stderr",
     "output_type": "stream",
     "text": [
      "Loading required package: Rcpp\n",
      "\n",
      "## \n",
      "## Amelia II: Multiple Imputation\n",
      "## (Version 1.8.1, built: 2022-11-18)\n",
      "## Copyright (C) 2005-2023 James Honaker, Gary King and Matthew Blackwell\n",
      "## Refer to http://gking.harvard.edu/amelia/ for more information\n",
      "## \n",
      "\n"
     ]
    },
    {
     "data": {
      "image/png": "[encoded data removed]",
      "text/plain": [
       "Plot with title \"Missing values vs observed\""
      ]
     },
     "metadata": {
      "image/png": {
       "height": 420,
       "width": 420
      }
     },
     "output_type": "display_data"
    }
   ],
   "source": [
    "library(Amelia)\n",
    "missmap(mydata, main = 'Missing values vs observed')"
   ]
  },
  {
   "cell_type": "code",
   "execution_count": 75,
   "id": "6b086df1-7312-4293-a20f-e98d96fe214b",
   "metadata": {},
   "outputs": [
    {
     "name": "stdout",
     "output_type": "stream",
     "text": [
      "\n",
      "  0   1 \n",
      "500 268 \n"
     ]
    }
   ],
   "source": [
    "print(table(mydata$Outcome))"
   ]
  },
  {
   "cell_type": "code",
   "execution_count": 76,
   "id": "8d60e984-63e7-43b0-8443-1eeaa70285ff",
   "metadata": {},
   "outputs": [
    {
     "name": "stdout",
     "output_type": "stream",
     "text": [
      "                         Pregnancies    Glucose BloodPressure SkinThickness\n",
      "Pregnancies               1.00000000 0.12945867    0.14128198   -0.08167177\n",
      "Glucose                   0.12945867 1.00000000    0.15258959    0.05732789\n",
      "BloodPressure             0.14128198 0.15258959    1.00000000    0.20737054\n",
      "SkinThickness            -0.08167177 0.05732789    0.20737054    1.00000000\n",
      "Insulin                  -0.07353461 0.33135711    0.08893338    0.43678257\n",
      "BMI                       0.01768309 0.22107107    0.28180529    0.39257320\n",
      "DiabetesPedigreeFunction -0.03352267 0.13733730    0.04126495    0.18392757\n",
      "Age                       0.54434123 0.26351432    0.23952795   -0.11397026\n",
      "Outcome                   0.22189815 0.46658140    0.06506836    0.07475223\n",
      "                             Insulin        BMI DiabetesPedigreeFunction\n",
      "Pregnancies              -0.07353461 0.01768309              -0.03352267\n",
      "Glucose                   0.33135711 0.22107107               0.13733730\n",
      "BloodPressure             0.08893338 0.28180529               0.04126495\n",
      "SkinThickness             0.43678257 0.39257320               0.18392757\n",
      "Insulin                   1.00000000 0.19785906               0.18507093\n",
      "BMI                       0.19785906 1.00000000               0.14064695\n",
      "DiabetesPedigreeFunction  0.18507093 0.14064695               1.00000000\n",
      "Age                      -0.04216295 0.03624187               0.03356131\n",
      "Outcome                   0.13054795 0.29269466               0.17384407\n",
      "                                 Age    Outcome\n",
      "Pregnancies               0.54434123 0.22189815\n",
      "Glucose                   0.26351432 0.46658140\n",
      "BloodPressure             0.23952795 0.06506836\n",
      "SkinThickness            -0.11397026 0.07475223\n",
      "Insulin                  -0.04216295 0.13054795\n",
      "BMI                       0.03624187 0.29269466\n",
      "DiabetesPedigreeFunction  0.03356131 0.17384407\n",
      "Age                       1.00000000 0.23835598\n",
      "Outcome                   0.23835598 1.00000000\n"
     ]
    }
   ],
   "source": [
    "correlation <- cor(mydata[,1:9])\n",
    "print(correlation)"
   ]
  },
  {
   "cell_type": "code",
   "execution_count": 77,
   "id": "006f68b5-253a-495d-a1fe-951018819252",
   "metadata": {},
   "outputs": [
    {
     "data": {
      "image/png": "[encoded data removed]",
      "text/plain": [
       "Plot with title \"\""
      ]
     },
     "metadata": {
      "image/png": {
       "height": 420,
       "width": 420
      }
     },
     "output_type": "display_data"
    }
   ],
   "source": [
    "corrplot(correlation, method =  'circle')"
   ]
  },
  {
   "cell_type": "code",
   "execution_count": 78,
   "id": "04e3763e-66fd-4a2a-a0c0-ef8c148bc6a9",
   "metadata": {},
   "outputs": [
    {
     "name": "stdout",
     "output_type": "stream",
     "text": [
      "[1] \"Rows of training data and test data:\"\n",
      "[1] 538\n",
      "[1] 230\n"
     ]
    }
   ],
   "source": [
    "n = nrow(mydata)\n",
    "trainIndex = sample(1:n, size = round(0.7*n), replace=FALSE)\n",
    "train = mydata[trainIndex ,]\n",
    "test = mydata[-trainIndex ,]\n",
    "print(\"Rows of training data and test data:\")\n",
    "print(nrow(train))\n",
    "print(nrow(test))"
   ]
  },
  {
   "cell_type": "code",
   "execution_count": 79,
   "id": "60324995-c9a9-4390-97f3-142551da429e",
   "metadata": {},
   "outputs": [
    {
     "name": "stdout",
     "output_type": "stream",
     "text": [
      "\n",
      "Call:\n",
      "glm(formula = Outcome ~ ., family = \"binomial\", data = train)\n",
      "\n",
      "Coefficients:\n",
      "                          Estimate Std. Error z value Pr(>|z|)    \n",
      "(Intercept)              -8.072912   0.820568  -9.838  < 2e-16 ***\n",
      "Pregnancies               0.097953   0.036047   2.717  0.00658 ** \n",
      "Glucose                   0.032071   0.004336   7.396 1.40e-13 ***\n",
      "BloodPressure            -0.009572   0.006341  -1.509  0.13118    \n",
      "SkinThickness             0.001658   0.008207   0.202  0.83992    \n",
      "Insulin                  -0.001644   0.001047  -1.570  0.11645    \n",
      "BMI                       0.076713   0.017279   4.440 9.01e-06 ***\n",
      "DiabetesPedigreeFunction  0.927290   0.351504   2.638  0.00834 ** \n",
      "Age                       0.026586   0.010911   2.437  0.01483 *  \n",
      "---\n",
      "Signif. codes:  0 '***' 0.001 '**' 0.01 '*' 0.05 '.' 0.1 ' ' 1\n",
      "\n",
      "(Dispersion parameter for binomial family taken to be 1)\n",
      "\n",
      "    Null deviance: 696.28  on 537  degrees of freedom\n",
      "Residual deviance: 523.31  on 529  degrees of freedom\n",
      "AIC: 541.31\n",
      "\n",
      "Number of Fisher Scoring iterations: 5\n",
      "\n"
     ]
    }
   ],
   "source": [
    "mylogit <- glm(Outcome ~ ., data =train, family = 'binomial')\n",
    "print(summary(mylogit))"
   ]
  },
  {
   "cell_type": "code",
   "execution_count": 80,
   "id": "4b747551-94b6-42ce-b818-2faabf9e8911",
   "metadata": {},
   "outputs": [
    {
     "name": "stdout",
     "output_type": "stream",
     "text": [
      "[1] \"Testdata admit vs predict (10 rows:)\"\n",
      "    testAdmit pred_value.30.40.\n",
      "129         1                 0\n",
      "133         1                 1\n",
      "134         0                 0\n",
      "136         0                 0\n",
      "139         0                 0\n",
      "144         1                 0\n",
      "149         0                 1\n",
      "152         0                 0\n",
      "154         0                 0\n",
      "156         1                 1\n",
      "157         0                 0\n"
     ]
    }
   ],
   "source": [
    "pred = predict(mylogit,\n",
    "              newdata = test,\n",
    "              type = 'response')\n",
    "\n",
    "pred_value <- ifelse(pred > 0.5, 1, 0)\n",
    "print('Testdata admit vs predict (10 rows:)')\n",
    "result <- data.frame(testAdmit = test$Outcome[30:40],pred_value[30:40])\n",
    "print(result)"
   ]
  },
  {
   "cell_type": "code",
   "execution_count": 81,
   "id": "954443f3-2f24-4d80-819a-87a2679876cd",
   "metadata": {},
   "outputs": [
    {
     "name": "stdout",
     "output_type": "stream",
     "text": [
      "129 133 134 136 139 144 149 152 154 156 157 \n",
      "  0   1   0   0   0   0   1   0   0   1   0 \n",
      " [1] 1 1 0 0 0 1 0 0 0 1 0\n"
     ]
    }
   ],
   "source": [
    "print(pred_value[30:40])\n",
    "print(test$Outcome[30:40])"
   ]
  },
  {
   "cell_type": "code",
   "execution_count": 82,
   "id": "2424a467-4b89-4bb7-a5ab-7fb277984b9b",
   "metadata": {},
   "outputs": [
    {
     "name": "stdout",
     "output_type": "stream",
     "text": [
      "[1] \"Accuracy s1: 0.791304347826087\"\n"
     ]
    }
   ],
   "source": [
    "# Solution 1\n",
    "accuracy <- table(pred_value, test[,'Outcome'])\n",
    "accuracy = sum(diag(accuracy))/sum(accuracy)\n",
    "print(paste('Accuracy s1:', accuracy))"
   ]
  },
  {
   "cell_type": "code",
   "execution_count": 83,
   "id": "9373b8c4-a7c0-4815-8382-c1dfb99c7947",
   "metadata": {},
   "outputs": [
    {
     "name": "stdout",
     "output_type": "stream",
     "text": [
      "[1] \"Accuracy s2: 0.791304347826087\"\n"
     ]
    }
   ],
   "source": [
    "# Solution 2 \n",
    "misClasificError <- mean(pred_value!=test$Outcome)\n",
    "print(paste('Accuracy s2:', 1- misClasificError))"
   ]
  },
  {
   "cell_type": "code",
   "execution_count": 84,
   "id": "8e4cda21-5dd8-4672-8bcb-3a5ec5c9b2cd",
   "metadata": {},
   "outputs": [
    {
     "data": {
      "text/plain": [
       "\n",
       "Call:\n",
       "glm(formula = Outcome ~ ., family = \"binomial\", data = train)\n",
       "\n",
       "Coefficients:\n",
       "                          Estimate Std. Error z value Pr(>|z|)    \n",
       "(Intercept)              -8.072912   0.820568  -9.838  < 2e-16 ***\n",
       "Pregnancies               0.097953   0.036047   2.717  0.00658 ** \n",
       "Glucose                   0.032071   0.004336   7.396 1.40e-13 ***\n",
       "BloodPressure            -0.009572   0.006341  -1.509  0.13118    \n",
       "SkinThickness             0.001658   0.008207   0.202  0.83992    \n",
       "Insulin                  -0.001644   0.001047  -1.570  0.11645    \n",
       "BMI                       0.076713   0.017279   4.440 9.01e-06 ***\n",
       "DiabetesPedigreeFunction  0.927290   0.351504   2.638  0.00834 ** \n",
       "Age                       0.026586   0.010911   2.437  0.01483 *  \n",
       "---\n",
       "Signif. codes:  0 '***' 0.001 '**' 0.01 '*' 0.05 '.' 0.1 ' ' 1\n",
       "\n",
       "(Dispersion parameter for binomial family taken to be 1)\n",
       "\n",
       "    Null deviance: 696.28  on 537  degrees of freedom\n",
       "Residual deviance: 523.31  on 529  degrees of freedom\n",
       "AIC: 541.31\n",
       "\n",
       "Number of Fisher Scoring iterations: 5\n"
      ]
     },
     "metadata": {},
     "output_type": "display_data"
    }
   ],
   "source": [
    "summary(mylogit)"
   ]
  },
  {
   "cell_type": "code",
   "execution_count": 85,
   "id": "a177fa4c-7a6c-4a25-8122-589ce650715c",
   "metadata": {},
   "outputs": [
    {
     "name": "stdout",
     "output_type": "stream",
     "text": [
      "[1] \"Pregnancies\"              \"Glucose\"                 \n",
      "[3] \"BloodPressure\"            \"SkinThickness\"           \n",
      "[5] \"Insulin\"                  \"BMI\"                     \n",
      "[7] \"DiabetesPedigreeFunction\" \"Age\"                     \n",
      "[9] \"Outcome\"                 \n"
     ]
    }
   ],
   "source": [
    "print(colnames(test))"
   ]
  },
  {
   "cell_type": "code",
   "execution_count": 86,
   "id": "703911b3-41ad-4133-8ab2-d5df7e9a35c1",
   "metadata": {},
   "outputs": [
    {
     "name": "stdout",
     "output_type": "stream",
     "text": [
      "[1] \"result: \"\n",
      "1 2 3 \n",
      "1 0 0 \n"
     ]
    }
   ],
   "source": [
    "y1 <- predict(mylogit,\n",
    "             newdata = data.frame(Pregnancies = c(8,1,12),\n",
    "                                  Glucose = c(176,100,88),\n",
    "                                  BloodPressure = c(90,66,74),\n",
    "                                  SkinThickness = c(34,15,40),\n",
    "                                  Insulin = c(300,56,54),\n",
    "                                  BMI = c(33.7,23.6, 35.3),\n",
    "                                  DiabetesPedigreeFunction = c(0.467,0.666,0.378),\n",
    "                                  Age = c(58,26,48)),\n",
    "type = 'response')\n",
    "y1 <- ifelse(y1>0.5,1,0)\n",
    "print('result: ')\n",
    "print(y1)\n"
   ]
  },
  {
   "cell_type": "code",
   "execution_count": null,
   "id": "07fadaf5-6d83-4fa8-8bac-37e5e6c78aa5",
   "metadata": {},
   "outputs": [],
   "source": []
  },
  {
   "cell_type": "code",
   "execution_count": null,
   "id": "75ffc13e-e8f7-40d0-9f0a-2a36d90c76aa",
   "metadata": {},
   "outputs": [],
   "source": []
  },
  {
   "cell_type": "code",
   "execution_count": null,
   "id": "50a281e7-d081-4c7a-af54-15e11c35eb18",
   "metadata": {},
   "outputs": [],
   "source": []
  }
 ],
 "metadata": {
  "kernelspec": {
   "display_name": "R",
   "language": "R",
   "name": "ir"
  },
  "language_info": {
   "codemirror_mode": "r",
   "file_extension": ".r",
   "mimetype": "text/x-r-source",
   "name": "R",
   "pygments_lexer": "r",
   "version": "4.3.1"
  }
 },
 "nbformat": 4,
 "nbformat_minor": 5
}
