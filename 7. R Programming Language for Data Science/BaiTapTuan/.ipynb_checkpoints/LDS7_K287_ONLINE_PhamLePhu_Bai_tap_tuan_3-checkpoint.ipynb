{
 "cells": [
  {
   "cell_type": "markdown",
   "id": "692e7b39-9a98-4c88-9a09-08543c389fc0",
   "metadata": {},
   "source": [
    "### Đọc dữ liệu, hiển thị thông tin chung của dữ liệu : head(), tail(), str(), summary() "
   ]
  },
  {
   "cell_type": "code",
   "execution_count": 1,
   "id": "2b37de25-73dc-45f8-9c11-58d82f7166bf",
   "metadata": {},
   "outputs": [],
   "source": [
    "data <- read.csv(\"houses_to_rent.csv\",row.names = 1)"
   ]
  },
  {
   "cell_type": "code",
   "execution_count": 2,
   "id": "d1b9ca8a-a535-4d7a-925d-c246a1be0cb6",
   "metadata": {},
   "outputs": [
    {
     "data": {
      "text/html": [
       "<table class=\"dataframe\">\n",
       "<caption>A data.frame: 6 × 13</caption>\n",
       "<thead>\n",
       "\t<tr><th></th><th scope=col>city</th><th scope=col>area</th><th scope=col>rooms</th><th scope=col>bathroom</th><th scope=col>parking.spaces</th><th scope=col>floor</th><th scope=col>animal</th><th scope=col>furniture</th><th scope=col>hoa</th><th scope=col>rent.amount</th><th scope=col>property.tax</th><th scope=col>fire.insurance</th><th scope=col>total</th></tr>\n",
       "\t<tr><th></th><th scope=col>&lt;int&gt;</th><th scope=col>&lt;int&gt;</th><th scope=col>&lt;int&gt;</th><th scope=col>&lt;int&gt;</th><th scope=col>&lt;int&gt;</th><th scope=col>&lt;int&gt;</th><th scope=col>&lt;chr&gt;</th><th scope=col>&lt;chr&gt;</th><th scope=col>&lt;chr&gt;</th><th scope=col>&lt;chr&gt;</th><th scope=col>&lt;chr&gt;</th><th scope=col>&lt;chr&gt;</th><th scope=col>&lt;chr&gt;</th></tr>\n",
       "</thead>\n",
       "<tbody>\n",
       "\t<tr><th scope=row>0</th><td>1</td><td>240</td><td>3</td><td> 3</td><td>4</td><td>NA</td><td>acept    </td><td>furnished    </td><td>R$0    </td><td>R$8,000</td><td>R$1,000</td><td>R$121</td><td>R$9,121 </td></tr>\n",
       "\t<tr><th scope=row>1</th><td>0</td><td> 64</td><td>2</td><td> 1</td><td>1</td><td>10</td><td>acept    </td><td>not furnished</td><td>R$540  </td><td>R$820  </td><td>R$122  </td><td>R$11 </td><td>R$1,493 </td></tr>\n",
       "\t<tr><th scope=row>2</th><td>1</td><td>443</td><td>5</td><td> 5</td><td>4</td><td> 3</td><td>acept    </td><td>furnished    </td><td>R$4,172</td><td>R$7,000</td><td>R$1,417</td><td>R$89 </td><td>R$12,680</td></tr>\n",
       "\t<tr><th scope=row>3</th><td>1</td><td> 73</td><td>2</td><td>NA</td><td>1</td><td>12</td><td>acept    </td><td>not furnished</td><td>R$700  </td><td>R$1,250</td><td>R$150  </td><td>R$16 </td><td>R$2,116 </td></tr>\n",
       "\t<tr><th scope=row>4</th><td>1</td><td> 19</td><td>1</td><td>NA</td><td>0</td><td>NA</td><td>not acept</td><td>not furnished</td><td>R$0    </td><td>R$1,200</td><td>R$41   </td><td>R$16 </td><td>R$1,257 </td></tr>\n",
       "\t<tr><th scope=row>5</th><td>1</td><td> 13</td><td>1</td><td>NA</td><td>0</td><td> 2</td><td>acept    </td><td>not furnished</td><td>R$0    </td><td>R$2,200</td><td>R$42   </td><td>R$28 </td><td>R$2,270 </td></tr>\n",
       "</tbody>\n",
       "</table>\n"
      ],
      "text/latex": [
       "A data.frame: 6 × 13\n",
       "\\begin{tabular}{r|lllllllllllll}\n",
       "  & city & area & rooms & bathroom & parking.spaces & floor & animal & furniture & hoa & rent.amount & property.tax & fire.insurance & total\\\\\n",
       "  & <int> & <int> & <int> & <int> & <int> & <int> & <chr> & <chr> & <chr> & <chr> & <chr> & <chr> & <chr>\\\\\n",
       "\\hline\n",
       "\t0 & 1 & 240 & 3 &  3 & 4 & NA & acept     & furnished     & R\\$0     & R\\$8,000 & R\\$1,000 & R\\$121 & R\\$9,121 \\\\\n",
       "\t1 & 0 &  64 & 2 &  1 & 1 & 10 & acept     & not furnished & R\\$540   & R\\$820   & R\\$122   & R\\$11  & R\\$1,493 \\\\\n",
       "\t2 & 1 & 443 & 5 &  5 & 4 &  3 & acept     & furnished     & R\\$4,172 & R\\$7,000 & R\\$1,417 & R\\$89  & R\\$12,680\\\\\n",
       "\t3 & 1 &  73 & 2 & NA & 1 & 12 & acept     & not furnished & R\\$700   & R\\$1,250 & R\\$150   & R\\$16  & R\\$2,116 \\\\\n",
       "\t4 & 1 &  19 & 1 & NA & 0 & NA & not acept & not furnished & R\\$0     & R\\$1,200 & R\\$41    & R\\$16  & R\\$1,257 \\\\\n",
       "\t5 & 1 &  13 & 1 & NA & 0 &  2 & acept     & not furnished & R\\$0     & R\\$2,200 & R\\$42    & R\\$28  & R\\$2,270 \\\\\n",
       "\\end{tabular}\n"
      ],
      "text/markdown": [
       "\n",
       "A data.frame: 6 × 13\n",
       "\n",
       "| <!--/--> | city &lt;int&gt; | area &lt;int&gt; | rooms &lt;int&gt; | bathroom &lt;int&gt; | parking.spaces &lt;int&gt; | floor &lt;int&gt; | animal &lt;chr&gt; | furniture &lt;chr&gt; | hoa &lt;chr&gt; | rent.amount &lt;chr&gt; | property.tax &lt;chr&gt; | fire.insurance &lt;chr&gt; | total &lt;chr&gt; |\n",
       "|---|---|---|---|---|---|---|---|---|---|---|---|---|---|\n",
       "| 0 | 1 | 240 | 3 |  3 | 4 | NA | acept     | furnished     | R$0     | R$8,000 | R$1,000 | R$121 | R$9,121  |\n",
       "| 1 | 0 |  64 | 2 |  1 | 1 | 10 | acept     | not furnished | R$540   | R$820   | R$122   | R$11  | R$1,493  |\n",
       "| 2 | 1 | 443 | 5 |  5 | 4 |  3 | acept     | furnished     | R$4,172 | R$7,000 | R$1,417 | R$89  | R$12,680 |\n",
       "| 3 | 1 |  73 | 2 | NA | 1 | 12 | acept     | not furnished | R$700   | R$1,250 | R$150   | R$16  | R$2,116  |\n",
       "| 4 | 1 |  19 | 1 | NA | 0 | NA | not acept | not furnished | R$0     | R$1,200 | R$41    | R$16  | R$1,257  |\n",
       "| 5 | 1 |  13 | 1 | NA | 0 |  2 | acept     | not furnished | R$0     | R$2,200 | R$42    | R$28  | R$2,270  |\n",
       "\n"
      ],
      "text/plain": [
       "  city area rooms bathroom parking.spaces floor animal    furniture     hoa    \n",
       "0 1    240  3      3       4              NA    acept     furnished     R$0    \n",
       "1 0     64  2      1       1              10    acept     not furnished R$540  \n",
       "2 1    443  5      5       4               3    acept     furnished     R$4,172\n",
       "3 1     73  2     NA       1              12    acept     not furnished R$700  \n",
       "4 1     19  1     NA       0              NA    not acept not furnished R$0    \n",
       "5 1     13  1     NA       0               2    acept     not furnished R$0    \n",
       "  rent.amount property.tax fire.insurance total   \n",
       "0 R$8,000     R$1,000      R$121          R$9,121 \n",
       "1 R$820       R$122        R$11           R$1,493 \n",
       "2 R$7,000     R$1,417      R$89           R$12,680\n",
       "3 R$1,250     R$150        R$16           R$2,116 \n",
       "4 R$1,200     R$41         R$16           R$1,257 \n",
       "5 R$2,200     R$42         R$28           R$2,270 "
      ]
     },
     "metadata": {},
     "output_type": "display_data"
    },
    {
     "data": {
      "text/html": [
       "<table class=\"dataframe\">\n",
       "<caption>A data.frame: 6 × 13</caption>\n",
       "<thead>\n",
       "\t<tr><th></th><th scope=col>city</th><th scope=col>area</th><th scope=col>rooms</th><th scope=col>bathroom</th><th scope=col>parking.spaces</th><th scope=col>floor</th><th scope=col>animal</th><th scope=col>furniture</th><th scope=col>hoa</th><th scope=col>rent.amount</th><th scope=col>property.tax</th><th scope=col>fire.insurance</th><th scope=col>total</th></tr>\n",
       "\t<tr><th></th><th scope=col>&lt;int&gt;</th><th scope=col>&lt;int&gt;</th><th scope=col>&lt;int&gt;</th><th scope=col>&lt;int&gt;</th><th scope=col>&lt;int&gt;</th><th scope=col>&lt;int&gt;</th><th scope=col>&lt;chr&gt;</th><th scope=col>&lt;chr&gt;</th><th scope=col>&lt;chr&gt;</th><th scope=col>&lt;chr&gt;</th><th scope=col>&lt;chr&gt;</th><th scope=col>&lt;chr&gt;</th><th scope=col>&lt;chr&gt;</th></tr>\n",
       "</thead>\n",
       "<tbody>\n",
       "\t<tr><th scope=row>6074</th><td>0</td><td> 28</td><td>1</td><td>1</td><td>0</td><td>NA</td><td>not acept</td><td>furnished    </td><td>R$0  </td><td>R$1,390</td><td>R$0  </td><td>R$18</td><td>R$1,408</td></tr>\n",
       "\t<tr><th scope=row>6075</th><td>1</td><td> 50</td><td>2</td><td>1</td><td>1</td><td> 2</td><td>acept    </td><td>not furnished</td><td>R$420</td><td>R$1,150</td><td>R$0  </td><td>R$15</td><td>R$1,585</td></tr>\n",
       "\t<tr><th scope=row>6076</th><td>1</td><td> 84</td><td>2</td><td>2</td><td>1</td><td>16</td><td>not acept</td><td>furnished    </td><td>R$768</td><td>R$2,900</td><td>R$63 </td><td>R$37</td><td>R$3,768</td></tr>\n",
       "\t<tr><th scope=row>6077</th><td>0</td><td> 48</td><td>1</td><td>1</td><td>0</td><td>13</td><td>acept    </td><td>not furnished</td><td>R$250</td><td>R$950  </td><td>R$42 </td><td>R$13</td><td>R$1,255</td></tr>\n",
       "\t<tr><th scope=row>6078</th><td>1</td><td>160</td><td>3</td><td>2</td><td>2</td><td>NA</td><td>not acept</td><td>not furnished</td><td>R$0  </td><td>R$3,500</td><td>R$250</td><td>R$53</td><td>R$3,803</td></tr>\n",
       "\t<tr><th scope=row>6079</th><td>1</td><td> 60</td><td>2</td><td>1</td><td>1</td><td> 4</td><td>acept    </td><td>furnished    </td><td>R$489</td><td>R$1,900</td><td>R$0  </td><td>R$25</td><td>R$2,414</td></tr>\n",
       "</tbody>\n",
       "</table>\n"
      ],
      "text/latex": [
       "A data.frame: 6 × 13\n",
       "\\begin{tabular}{r|lllllllllllll}\n",
       "  & city & area & rooms & bathroom & parking.spaces & floor & animal & furniture & hoa & rent.amount & property.tax & fire.insurance & total\\\\\n",
       "  & <int> & <int> & <int> & <int> & <int> & <int> & <chr> & <chr> & <chr> & <chr> & <chr> & <chr> & <chr>\\\\\n",
       "\\hline\n",
       "\t6074 & 0 &  28 & 1 & 1 & 0 & NA & not acept & furnished     & R\\$0   & R\\$1,390 & R\\$0   & R\\$18 & R\\$1,408\\\\\n",
       "\t6075 & 1 &  50 & 2 & 1 & 1 &  2 & acept     & not furnished & R\\$420 & R\\$1,150 & R\\$0   & R\\$15 & R\\$1,585\\\\\n",
       "\t6076 & 1 &  84 & 2 & 2 & 1 & 16 & not acept & furnished     & R\\$768 & R\\$2,900 & R\\$63  & R\\$37 & R\\$3,768\\\\\n",
       "\t6077 & 0 &  48 & 1 & 1 & 0 & 13 & acept     & not furnished & R\\$250 & R\\$950   & R\\$42  & R\\$13 & R\\$1,255\\\\\n",
       "\t6078 & 1 & 160 & 3 & 2 & 2 & NA & not acept & not furnished & R\\$0   & R\\$3,500 & R\\$250 & R\\$53 & R\\$3,803\\\\\n",
       "\t6079 & 1 &  60 & 2 & 1 & 1 &  4 & acept     & furnished     & R\\$489 & R\\$1,900 & R\\$0   & R\\$25 & R\\$2,414\\\\\n",
       "\\end{tabular}\n"
      ],
      "text/markdown": [
       "\n",
       "A data.frame: 6 × 13\n",
       "\n",
       "| <!--/--> | city &lt;int&gt; | area &lt;int&gt; | rooms &lt;int&gt; | bathroom &lt;int&gt; | parking.spaces &lt;int&gt; | floor &lt;int&gt; | animal &lt;chr&gt; | furniture &lt;chr&gt; | hoa &lt;chr&gt; | rent.amount &lt;chr&gt; | property.tax &lt;chr&gt; | fire.insurance &lt;chr&gt; | total &lt;chr&gt; |\n",
       "|---|---|---|---|---|---|---|---|---|---|---|---|---|---|\n",
       "| 6074 | 0 |  28 | 1 | 1 | 0 | NA | not acept | furnished     | R$0   | R$1,390 | R$0   | R$18 | R$1,408 |\n",
       "| 6075 | 1 |  50 | 2 | 1 | 1 |  2 | acept     | not furnished | R$420 | R$1,150 | R$0   | R$15 | R$1,585 |\n",
       "| 6076 | 1 |  84 | 2 | 2 | 1 | 16 | not acept | furnished     | R$768 | R$2,900 | R$63  | R$37 | R$3,768 |\n",
       "| 6077 | 0 |  48 | 1 | 1 | 0 | 13 | acept     | not furnished | R$250 | R$950   | R$42  | R$13 | R$1,255 |\n",
       "| 6078 | 1 | 160 | 3 | 2 | 2 | NA | not acept | not furnished | R$0   | R$3,500 | R$250 | R$53 | R$3,803 |\n",
       "| 6079 | 1 |  60 | 2 | 1 | 1 |  4 | acept     | furnished     | R$489 | R$1,900 | R$0   | R$25 | R$2,414 |\n",
       "\n"
      ],
      "text/plain": [
       "     city area rooms bathroom parking.spaces floor animal    furniture    \n",
       "6074 0     28  1     1        0              NA    not acept furnished    \n",
       "6075 1     50  2     1        1               2    acept     not furnished\n",
       "6076 1     84  2     2        1              16    not acept furnished    \n",
       "6077 0     48  1     1        0              13    acept     not furnished\n",
       "6078 1    160  3     2        2              NA    not acept not furnished\n",
       "6079 1     60  2     1        1               4    acept     furnished    \n",
       "     hoa   rent.amount property.tax fire.insurance total  \n",
       "6074 R$0   R$1,390     R$0          R$18           R$1,408\n",
       "6075 R$420 R$1,150     R$0          R$15           R$1,585\n",
       "6076 R$768 R$2,900     R$63         R$37           R$3,768\n",
       "6077 R$250 R$950       R$42         R$13           R$1,255\n",
       "6078 R$0   R$3,500     R$250        R$53           R$3,803\n",
       "6079 R$489 R$1,900     R$0          R$25           R$2,414"
      ]
     },
     "metadata": {},
     "output_type": "display_data"
    },
    {
     "name": "stdout",
     "output_type": "stream",
     "text": [
      "'data.frame':\t6080 obs. of  13 variables:\n",
      " $ city          : int  1 0 1 1 1 1 1 1 1 1 ...\n",
      " $ area          : int  240 64 443 73 19 13 55 55 82 32 ...\n",
      " $ rooms         : int  3 2 5 2 1 1 1 2 3 1 ...\n",
      " $ bathroom      : int  3 1 5 NA NA NA NA NA NA NA ...\n",
      " $ parking.spaces: int  4 1 4 1 0 0 1 1 1 1 ...\n",
      " $ floor         : int  NA 10 3 12 NA 2 2 2 3 16 ...\n",
      " $ animal        : chr  \"acept\" \"acept\" \"acept\" \"acept\" ...\n",
      " $ furniture     : chr  \"furnished\" \"not furnished\" \"furnished\" \"not furnished\" ...\n",
      " $ hoa           : chr  \"R$0\" \"R$540\" \"R$4,172\" \"R$700\" ...\n",
      " $ rent.amount   : chr  \"R$8,000\" \"R$820\" \"R$7,000\" \"R$1,250\" ...\n",
      " $ property.tax  : chr  \"R$1,000\" \"R$122\" \"R$1,417\" \"R$150\" ...\n",
      " $ fire.insurance: chr  \"R$121\" \"R$11\" \"R$89\" \"R$16\" ...\n",
      " $ total         : chr  \"R$9,121\" \"R$1,493\" \"R$12,680\" \"R$2,116\" ...\n"
     ]
    },
    {
     "data": {
      "text/plain": [
       "      city             area             rooms           bathroom     \n",
       " Min.   :0.0000   Min.   :   10.0   Min.   : 1.000   Min.   : 1.000  \n",
       " 1st Qu.:1.0000   1st Qu.:   58.0   1st Qu.: 2.000   1st Qu.: 1.000  \n",
       " Median :1.0000   Median :  100.0   Median : 3.000   Median : 2.000  \n",
       " Mean   :0.8633   Mean   :  151.2   Mean   : 2.493   Mean   : 2.347  \n",
       " 3rd Qu.:1.0000   3rd Qu.:  200.0   3rd Qu.: 3.000   3rd Qu.: 3.000  \n",
       " Max.   :1.0000   Max.   :24606.0   Max.   :10.000   Max.   :10.000  \n",
       "                  NA's   :17                         NA's   :121     \n",
       " parking.spaces       floor           animal           furniture        \n",
       " Min.   : 0.000   Min.   : 1.000   Length:6080        Length:6080       \n",
       " 1st Qu.: 1.000   1st Qu.: 3.000   Class :character   Class :character  \n",
       " Median : 1.000   Median : 6.000   Mode  :character   Mode  :character  \n",
       " Mean   : 1.756   Mean   : 7.621                                        \n",
       " 3rd Qu.: 2.000   3rd Qu.:11.000                                        \n",
       " Max.   :12.000   Max.   :99.000                                        \n",
       "                  NA's   :1555                                          \n",
       "     hoa            rent.amount        property.tax       fire.insurance    \n",
       " Length:6080        Length:6080        Length:6080        Length:6080       \n",
       " Class :character   Class :character   Class :character   Class :character  \n",
       " Mode  :character   Mode  :character   Mode  :character   Mode  :character  \n",
       "                                                                            \n",
       "                                                                            \n",
       "                                                                            \n",
       "                                                                            \n",
       "    total          \n",
       " Length:6080       \n",
       " Class :character  \n",
       " Mode  :character  \n",
       "                   \n",
       "                   \n",
       "                   \n",
       "                   "
      ]
     },
     "metadata": {},
     "output_type": "display_data"
    }
   ],
   "source": [
    "head(data)\n",
    "tail(data)\n",
    "str(data)\n",
    "summary(data)"
   ]
  },
  {
   "cell_type": "markdown",
   "id": "2a539182-c69e-46c8-a6ff-2f4243887997",
   "metadata": {},
   "source": [
    "### Cho biết số dòng, số cột của dữ liệu. "
   ]
  },
  {
   "cell_type": "code",
   "execution_count": 3,
   "id": "8c36e133-f118-4339-b78f-fcc9c7510cef",
   "metadata": {},
   "outputs": [
    {
     "name": "stdout",
     "output_type": "stream",
     "text": [
      "[1] \"Số dòng: 6080\"\n",
      "[1] \"Số cột: 13\"\n"
     ]
    }
   ],
   "source": [
    "print(paste(\"Số dòng:\", nrow(data)))\n",
    "print(paste(\"Số cột:\", ncol(data)))"
   ]
  },
  {
   "cell_type": "markdown",
   "id": "bc9440da-0f41-48c4-b848-713d62604b9f",
   "metadata": {},
   "source": [
    "### Cho biết 5 loại rooms xuất hiện nhiều nhất trong dataset "
   ]
  },
  {
   "cell_type": "code",
   "execution_count": 4,
   "id": "600016c9-9b07-411c-9e5c-1ad88b6f1d6d",
   "metadata": {},
   "outputs": [
    {
     "data": {
      "text/plain": [
       "\n",
       "   1    2    3    4    5    6    7    8   10 \n",
       "1398 1621 1994  879  143   22   18    3    2 "
      ]
     },
     "metadata": {},
     "output_type": "display_data"
    }
   ],
   "source": [
    "table(data$rooms)"
   ]
  },
  {
   "cell_type": "code",
   "execution_count": 5,
   "id": "9adc23e8-5e2f-42f9-a633-1ec8b94ebd4d",
   "metadata": {},
   "outputs": [
    {
     "name": "stdout",
     "output_type": "stream",
     "text": [
      "\n",
      "   3    2    1    4    5 \n",
      "1994 1621 1398  879  143 \n"
     ]
    }
   ],
   "source": [
    "top_rooms <- head(sort(table(data$rooms), decreasing = TRUE), 5)\n",
    "print(top_rooms)"
   ]
  },
  {
   "cell_type": "markdown",
   "id": "429cdb8e-eb5c-4c3a-a13e-d2773bbfe867",
   "metadata": {},
   "source": [
    "### Cho biết các cột có dữ liệu bị thiếu (na). Mỗi cột thiếu bao nhiêu giá trị? Tỷ lệ thiếu (lấy 2 số lẻ)"
   ]
  },
  {
   "cell_type": "code",
   "execution_count": 6,
   "id": "9006e36e-c457-41b2-b3b8-6fa3c971f3db",
   "metadata": {},
   "outputs": [
    {
     "data": {
      "text/html": [
       "<style>\n",
       ".list-inline {list-style: none; margin:0; padding: 0}\n",
       ".list-inline>li {display: inline-block}\n",
       ".list-inline>li:not(:last-child)::after {content: \"\\00b7\"; padding: 0 .5ex}\n",
       "</style>\n",
       "<ol class=list-inline><li>'area'</li><li>'bathroom'</li><li>'floor'</li></ol>\n"
      ],
      "text/latex": [
       "\\begin{enumerate*}\n",
       "\\item 'area'\n",
       "\\item 'bathroom'\n",
       "\\item 'floor'\n",
       "\\end{enumerate*}\n"
      ],
      "text/markdown": [
       "1. 'area'\n",
       "2. 'bathroom'\n",
       "3. 'floor'\n",
       "\n",
       "\n"
      ],
      "text/plain": [
       "[1] \"area\"     \"bathroom\" \"floor\"   "
      ]
     },
     "metadata": {},
     "output_type": "display_data"
    },
    {
     "name": "stdout",
     "output_type": "stream",
     "text": [
      "           Column MissingCount MissingRatio\n",
      "area         area           17         0.28\n",
      "bathroom bathroom          121         1.99\n",
      "floor       floor         1555        25.58\n"
     ]
    }
   ],
   "source": [
    "missing_columns <- colnames(data)[colSums(is.na(data)) > 0]\n",
    "missing_count <- colSums(is.na(data))[missing_columns]\n",
    "missing_ratio <- round(missing_count / nrow(data)*100,2)\n",
    "missing_info <- data.frame(Column = missing_columns, MissingCount = missing_count, MissingRatio = missing_ratio)\n",
    "missing_columns\n",
    "print(missing_info)"
   ]
  },
  {
   "cell_type": "markdown",
   "id": "cb64d117-e05a-4ec2-9c6e-c6330960f1c4",
   "metadata": {},
   "source": [
    "### Xóa bỏ các cột property.tax, fire.insurance, total. In head() để xem kết quả. "
   ]
  },
  {
   "cell_type": "code",
   "execution_count": 7,
   "id": "0a545583-1f62-44a7-ad57-f68514f53166",
   "metadata": {},
   "outputs": [
    {
     "data": {
      "text/html": [
       "<table class=\"dataframe\">\n",
       "<caption>A data.frame: 6 × 10</caption>\n",
       "<thead>\n",
       "\t<tr><th></th><th scope=col>city</th><th scope=col>area</th><th scope=col>rooms</th><th scope=col>bathroom</th><th scope=col>parking.spaces</th><th scope=col>floor</th><th scope=col>animal</th><th scope=col>furniture</th><th scope=col>hoa</th><th scope=col>rent.amount</th></tr>\n",
       "\t<tr><th></th><th scope=col>&lt;int&gt;</th><th scope=col>&lt;int&gt;</th><th scope=col>&lt;int&gt;</th><th scope=col>&lt;int&gt;</th><th scope=col>&lt;int&gt;</th><th scope=col>&lt;int&gt;</th><th scope=col>&lt;chr&gt;</th><th scope=col>&lt;chr&gt;</th><th scope=col>&lt;chr&gt;</th><th scope=col>&lt;chr&gt;</th></tr>\n",
       "</thead>\n",
       "<tbody>\n",
       "\t<tr><th scope=row>0</th><td>1</td><td>240</td><td>3</td><td> 3</td><td>4</td><td>NA</td><td>acept    </td><td>furnished    </td><td>R$0    </td><td>R$8,000</td></tr>\n",
       "\t<tr><th scope=row>1</th><td>0</td><td> 64</td><td>2</td><td> 1</td><td>1</td><td>10</td><td>acept    </td><td>not furnished</td><td>R$540  </td><td>R$820  </td></tr>\n",
       "\t<tr><th scope=row>2</th><td>1</td><td>443</td><td>5</td><td> 5</td><td>4</td><td> 3</td><td>acept    </td><td>furnished    </td><td>R$4,172</td><td>R$7,000</td></tr>\n",
       "\t<tr><th scope=row>3</th><td>1</td><td> 73</td><td>2</td><td>NA</td><td>1</td><td>12</td><td>acept    </td><td>not furnished</td><td>R$700  </td><td>R$1,250</td></tr>\n",
       "\t<tr><th scope=row>4</th><td>1</td><td> 19</td><td>1</td><td>NA</td><td>0</td><td>NA</td><td>not acept</td><td>not furnished</td><td>R$0    </td><td>R$1,200</td></tr>\n",
       "\t<tr><th scope=row>5</th><td>1</td><td> 13</td><td>1</td><td>NA</td><td>0</td><td> 2</td><td>acept    </td><td>not furnished</td><td>R$0    </td><td>R$2,200</td></tr>\n",
       "</tbody>\n",
       "</table>\n"
      ],
      "text/latex": [
       "A data.frame: 6 × 10\n",
       "\\begin{tabular}{r|llllllllll}\n",
       "  & city & area & rooms & bathroom & parking.spaces & floor & animal & furniture & hoa & rent.amount\\\\\n",
       "  & <int> & <int> & <int> & <int> & <int> & <int> & <chr> & <chr> & <chr> & <chr>\\\\\n",
       "\\hline\n",
       "\t0 & 1 & 240 & 3 &  3 & 4 & NA & acept     & furnished     & R\\$0     & R\\$8,000\\\\\n",
       "\t1 & 0 &  64 & 2 &  1 & 1 & 10 & acept     & not furnished & R\\$540   & R\\$820  \\\\\n",
       "\t2 & 1 & 443 & 5 &  5 & 4 &  3 & acept     & furnished     & R\\$4,172 & R\\$7,000\\\\\n",
       "\t3 & 1 &  73 & 2 & NA & 1 & 12 & acept     & not furnished & R\\$700   & R\\$1,250\\\\\n",
       "\t4 & 1 &  19 & 1 & NA & 0 & NA & not acept & not furnished & R\\$0     & R\\$1,200\\\\\n",
       "\t5 & 1 &  13 & 1 & NA & 0 &  2 & acept     & not furnished & R\\$0     & R\\$2,200\\\\\n",
       "\\end{tabular}\n"
      ],
      "text/markdown": [
       "\n",
       "A data.frame: 6 × 10\n",
       "\n",
       "| <!--/--> | city &lt;int&gt; | area &lt;int&gt; | rooms &lt;int&gt; | bathroom &lt;int&gt; | parking.spaces &lt;int&gt; | floor &lt;int&gt; | animal &lt;chr&gt; | furniture &lt;chr&gt; | hoa &lt;chr&gt; | rent.amount &lt;chr&gt; |\n",
       "|---|---|---|---|---|---|---|---|---|---|---|\n",
       "| 0 | 1 | 240 | 3 |  3 | 4 | NA | acept     | furnished     | R$0     | R$8,000 |\n",
       "| 1 | 0 |  64 | 2 |  1 | 1 | 10 | acept     | not furnished | R$540   | R$820   |\n",
       "| 2 | 1 | 443 | 5 |  5 | 4 |  3 | acept     | furnished     | R$4,172 | R$7,000 |\n",
       "| 3 | 1 |  73 | 2 | NA | 1 | 12 | acept     | not furnished | R$700   | R$1,250 |\n",
       "| 4 | 1 |  19 | 1 | NA | 0 | NA | not acept | not furnished | R$0     | R$1,200 |\n",
       "| 5 | 1 |  13 | 1 | NA | 0 |  2 | acept     | not furnished | R$0     | R$2,200 |\n",
       "\n"
      ],
      "text/plain": [
       "  city area rooms bathroom parking.spaces floor animal    furniture     hoa    \n",
       "0 1    240  3      3       4              NA    acept     furnished     R$0    \n",
       "1 0     64  2      1       1              10    acept     not furnished R$540  \n",
       "2 1    443  5      5       4               3    acept     furnished     R$4,172\n",
       "3 1     73  2     NA       1              12    acept     not furnished R$700  \n",
       "4 1     19  1     NA       0              NA    not acept not furnished R$0    \n",
       "5 1     13  1     NA       0               2    acept     not furnished R$0    \n",
       "  rent.amount\n",
       "0 R$8,000    \n",
       "1 R$820      \n",
       "2 R$7,000    \n",
       "3 R$1,250    \n",
       "4 R$1,200    \n",
       "5 R$2,200    "
      ]
     },
     "metadata": {},
     "output_type": "display_data"
    }
   ],
   "source": [
    "data <- data[, !(colnames(data) %in% c(\"property.tax\", \"fire.insurance\", \"total\"))]\n",
    "head(data)"
   ]
  },
  {
   "cell_type": "markdown",
   "id": "ec3e3305-2881-4c64-a4ad-b0700f1787d0",
   "metadata": {},
   "source": [
    "### Tạo cột rent_amount từ cột rent.amount"
   ]
  },
  {
   "cell_type": "code",
   "execution_count": 8,
   "id": "0856eacd-969e-49fb-ba1e-6e00ebcc7a65",
   "metadata": {},
   "outputs": [
    {
     "data": {
      "text/html": [
       "<table class=\"dataframe\">\n",
       "<caption>A data.frame: 6 × 11</caption>\n",
       "<thead>\n",
       "\t<tr><th></th><th scope=col>city</th><th scope=col>area</th><th scope=col>rooms</th><th scope=col>bathroom</th><th scope=col>parking.spaces</th><th scope=col>floor</th><th scope=col>animal</th><th scope=col>furniture</th><th scope=col>hoa</th><th scope=col>rent.amount</th><th scope=col>rent_amount</th></tr>\n",
       "\t<tr><th></th><th scope=col>&lt;int&gt;</th><th scope=col>&lt;int&gt;</th><th scope=col>&lt;int&gt;</th><th scope=col>&lt;int&gt;</th><th scope=col>&lt;int&gt;</th><th scope=col>&lt;int&gt;</th><th scope=col>&lt;chr&gt;</th><th scope=col>&lt;chr&gt;</th><th scope=col>&lt;chr&gt;</th><th scope=col>&lt;chr&gt;</th><th scope=col>&lt;dbl&gt;</th></tr>\n",
       "</thead>\n",
       "<tbody>\n",
       "\t<tr><th scope=row>0</th><td>1</td><td>240</td><td>3</td><td> 3</td><td>4</td><td>NA</td><td>acept    </td><td>furnished    </td><td>R$0    </td><td>R$8,000</td><td>8000</td></tr>\n",
       "\t<tr><th scope=row>1</th><td>0</td><td> 64</td><td>2</td><td> 1</td><td>1</td><td>10</td><td>acept    </td><td>not furnished</td><td>R$540  </td><td>R$820  </td><td> 820</td></tr>\n",
       "\t<tr><th scope=row>2</th><td>1</td><td>443</td><td>5</td><td> 5</td><td>4</td><td> 3</td><td>acept    </td><td>furnished    </td><td>R$4,172</td><td>R$7,000</td><td>7000</td></tr>\n",
       "\t<tr><th scope=row>3</th><td>1</td><td> 73</td><td>2</td><td>NA</td><td>1</td><td>12</td><td>acept    </td><td>not furnished</td><td>R$700  </td><td>R$1,250</td><td>1250</td></tr>\n",
       "\t<tr><th scope=row>4</th><td>1</td><td> 19</td><td>1</td><td>NA</td><td>0</td><td>NA</td><td>not acept</td><td>not furnished</td><td>R$0    </td><td>R$1,200</td><td>1200</td></tr>\n",
       "\t<tr><th scope=row>5</th><td>1</td><td> 13</td><td>1</td><td>NA</td><td>0</td><td> 2</td><td>acept    </td><td>not furnished</td><td>R$0    </td><td>R$2,200</td><td>2200</td></tr>\n",
       "</tbody>\n",
       "</table>\n"
      ],
      "text/latex": [
       "A data.frame: 6 × 11\n",
       "\\begin{tabular}{r|lllllllllll}\n",
       "  & city & area & rooms & bathroom & parking.spaces & floor & animal & furniture & hoa & rent.amount & rent\\_amount\\\\\n",
       "  & <int> & <int> & <int> & <int> & <int> & <int> & <chr> & <chr> & <chr> & <chr> & <dbl>\\\\\n",
       "\\hline\n",
       "\t0 & 1 & 240 & 3 &  3 & 4 & NA & acept     & furnished     & R\\$0     & R\\$8,000 & 8000\\\\\n",
       "\t1 & 0 &  64 & 2 &  1 & 1 & 10 & acept     & not furnished & R\\$540   & R\\$820   &  820\\\\\n",
       "\t2 & 1 & 443 & 5 &  5 & 4 &  3 & acept     & furnished     & R\\$4,172 & R\\$7,000 & 7000\\\\\n",
       "\t3 & 1 &  73 & 2 & NA & 1 & 12 & acept     & not furnished & R\\$700   & R\\$1,250 & 1250\\\\\n",
       "\t4 & 1 &  19 & 1 & NA & 0 & NA & not acept & not furnished & R\\$0     & R\\$1,200 & 1200\\\\\n",
       "\t5 & 1 &  13 & 1 & NA & 0 &  2 & acept     & not furnished & R\\$0     & R\\$2,200 & 2200\\\\\n",
       "\\end{tabular}\n"
      ],
      "text/markdown": [
       "\n",
       "A data.frame: 6 × 11\n",
       "\n",
       "| <!--/--> | city &lt;int&gt; | area &lt;int&gt; | rooms &lt;int&gt; | bathroom &lt;int&gt; | parking.spaces &lt;int&gt; | floor &lt;int&gt; | animal &lt;chr&gt; | furniture &lt;chr&gt; | hoa &lt;chr&gt; | rent.amount &lt;chr&gt; | rent_amount &lt;dbl&gt; |\n",
       "|---|---|---|---|---|---|---|---|---|---|---|---|\n",
       "| 0 | 1 | 240 | 3 |  3 | 4 | NA | acept     | furnished     | R$0     | R$8,000 | 8000 |\n",
       "| 1 | 0 |  64 | 2 |  1 | 1 | 10 | acept     | not furnished | R$540   | R$820   |  820 |\n",
       "| 2 | 1 | 443 | 5 |  5 | 4 |  3 | acept     | furnished     | R$4,172 | R$7,000 | 7000 |\n",
       "| 3 | 1 |  73 | 2 | NA | 1 | 12 | acept     | not furnished | R$700   | R$1,250 | 1250 |\n",
       "| 4 | 1 |  19 | 1 | NA | 0 | NA | not acept | not furnished | R$0     | R$1,200 | 1200 |\n",
       "| 5 | 1 |  13 | 1 | NA | 0 |  2 | acept     | not furnished | R$0     | R$2,200 | 2200 |\n",
       "\n"
      ],
      "text/plain": [
       "  city area rooms bathroom parking.spaces floor animal    furniture     hoa    \n",
       "0 1    240  3      3       4              NA    acept     furnished     R$0    \n",
       "1 0     64  2      1       1              10    acept     not furnished R$540  \n",
       "2 1    443  5      5       4               3    acept     furnished     R$4,172\n",
       "3 1     73  2     NA       1              12    acept     not furnished R$700  \n",
       "4 1     19  1     NA       0              NA    not acept not furnished R$0    \n",
       "5 1     13  1     NA       0               2    acept     not furnished R$0    \n",
       "  rent.amount rent_amount\n",
       "0 R$8,000     8000       \n",
       "1 R$820        820       \n",
       "2 R$7,000     7000       \n",
       "3 R$1,250     1250       \n",
       "4 R$1,200     1200       \n",
       "5 R$2,200     2200       "
      ]
     },
     "metadata": {},
     "output_type": "display_data"
    }
   ],
   "source": [
    "data$rent_amount <- as.numeric(gsub(\"[\\\\R$,]\", \"\", data$rent.amount))\n",
    "head(data)"
   ]
  },
  {
   "cell_type": "markdown",
   "id": "dd16caf4-217f-457e-9084-cad49d72f9f8",
   "metadata": {},
   "source": [
    "### Cho biết bao nhiêu nhà có nội thất, bao nhiêu nhà không có nội thất? Trong nhà có nội thất bao nhiêu nhà cho phép nuôi thú, bao nhiêu nhà không? Trong nhà không có nội thất, bao nhiêu nhà cho phép nuôi thú, bao nhiêu nhà không?"
   ]
  },
  {
   "cell_type": "code",
   "execution_count": 9,
   "id": "de0682ff-701b-43ec-8933-cfe82ea45a81",
   "metadata": {},
   "outputs": [
    {
     "name": "stdout",
     "output_type": "stream",
     "text": [
      "Thống kê về nội thất và việc nuôi thú:\n",
      "\n",
      "    furnished not furnished \n",
      "         1582          4498 \n",
      "               \n",
      "                acept not acept\n",
      "  furnished      1130       452\n",
      "  not furnished  3536       962\n"
     ]
    }
   ],
   "source": [
    "furniture_summary <- table(data$furniture)\n",
    "pet_allowed_summary <- table(data$furniture, data$animal)\n",
    "cat(\"Thống kê về nội thất và việc nuôi thú:\\n\")\n",
    "print(furniture_summary)\n",
    "print(pet_allowed_summary)"
   ]
  },
  {
   "cell_type": "markdown",
   "id": "d0dd4bd2-4bcb-46f6-a920-21cd1b92dc7e",
   "metadata": {},
   "source": [
    "### Vẽ boxplot của cột rent_amount theo furniture và nhận xét"
   ]
  },
  {
   "cell_type": "code",
   "execution_count": 10,
   "id": "ab58b479-8ae7-4598-b9e9-a4bdd93f4366",
   "metadata": {},
   "outputs": [],
   "source": [
    "library(plotrix)"
   ]
  },
  {
   "cell_type": "code",
   "execution_count": 19,
   "id": "f598bfcf-3e24-4611-86ef-7bbd2561fb39",
   "metadata": {},
   "outputs": [
    {
     "data": {
      "image/png": "[encoded data removed]",
      "text/plain": [
       "plot without title"
      ]
     },
     "metadata": {
      "image/png": {
       "height": 420,
       "width": 420
      }
     },
     "output_type": "display_data"
    }
   ],
   "source": [
    "# Vẽ boxplot của cột rent_amount theo furniture\n",
    "boxplot(list(data$rent_amount[data$furniture == \"furnished\"], data$rent_amount[data$furniture == \"not furnished\"]), \n",
    "    names = c(\"Furnished\", \"Not Furnished\"), ylab = \"Rent Amount\")"
   ]
  },
  {
   "cell_type": "markdown",
   "id": "464aa67c-4c9c-434b-b7de-cc0ce62540ad",
   "metadata": {},
   "source": [
    "- Nhận xét: Giá nhà có nội thất cao hơn nhà không có nột thất."
   ]
  },
  {
   "cell_type": "markdown",
   "id": "c57f6c5f-e02f-409e-ad88-2bde2a209858",
   "metadata": {},
   "source": [
    "### Cột area có các giá trị na, hãy thay thế các giá trị na bằng giá trị median."
   ]
  },
  {
   "cell_type": "code",
   "execution_count": 32,
   "id": "1e62a616-8dcf-46e5-8658-9dc25a97d5ef",
   "metadata": {},
   "outputs": [
    {
     "data": {
      "text/html": [
       "100"
      ],
      "text/latex": [
       "100"
      ],
      "text/markdown": [
       "100"
      ],
      "text/plain": [
       "[1] 100"
      ]
     },
     "metadata": {},
     "output_type": "display_data"
    }
   ],
   "source": [
    "median_area <- median(data$area, na.rm = TRUE)\n",
    "median_area\n",
    "data$area[is.na(data$area)] <- median_area"
   ]
  },
  {
   "cell_type": "code",
   "execution_count": 36,
   "id": "9483ec64-91ca-4124-a6fb-ddd1da0778b3",
   "metadata": {},
   "outputs": [
    {
     "data": {
      "text/plain": [
       "   Min. 1st Qu.  Median    Mean 3rd Qu.    Max. \n",
       "     10      58     100     151     200   24606 "
      ]
     },
     "metadata": {},
     "output_type": "display_data"
    }
   ],
   "source": [
    "summary(data$area)"
   ]
  },
  {
   "cell_type": "markdown",
   "id": "da354169-e96c-4ad5-bc25-5b24929ffba1",
   "metadata": {},
   "source": [
    "### Vẽ boxplot của cột area và nhận xét. Cột area có outlier không? Nếu có cho biết tổng số mẫu outlier"
   ]
  },
  {
   "cell_type": "code",
   "execution_count": 21,
   "id": "3c6922ff-61b8-4c03-bd3f-693f6a2466f1",
   "metadata": {},
   "outputs": [
    {
     "data": {
      "image/png": "[encoded data removed]",
      "text/plain": [
       "plot without title"
      ]
     },
     "metadata": {
      "image/png": {
       "height": 420,
       "width": 420
      }
     },
     "output_type": "display_data"
    }
   ],
   "source": [
    "boxplot(x = data$area, data = data, names = \"Area\", ylab = \"Area\")"
   ]
  },
  {
   "cell_type": "code",
   "execution_count": 24,
   "id": "1887c8eb-91f3-4d0f-b97d-b251fc125c7f",
   "metadata": {},
   "outputs": [
    {
     "name": "stderr",
     "output_type": "stream",
     "text": [
      "── \u001b[1mAttaching core tidyverse packages\u001b[22m ──────────────────────────────────────────────────────────────── tidyverse 2.0.0 ──\n",
      "\u001b[32m✔\u001b[39m \u001b[34mdplyr    \u001b[39m 1.1.2     \u001b[32m✔\u001b[39m \u001b[34mreadr    \u001b[39m 2.1.4\n",
      "\u001b[32m✔\u001b[39m \u001b[34mforcats  \u001b[39m 1.0.0     \u001b[32m✔\u001b[39m \u001b[34mstringr  \u001b[39m 1.5.0\n",
      "\u001b[32m✔\u001b[39m \u001b[34mggplot2  \u001b[39m 3.4.2     \u001b[32m✔\u001b[39m \u001b[34mtibble   \u001b[39m 3.2.1\n",
      "\u001b[32m✔\u001b[39m \u001b[34mlubridate\u001b[39m 1.9.2     \u001b[32m✔\u001b[39m \u001b[34mtidyr    \u001b[39m 1.3.0\n",
      "\u001b[32m✔\u001b[39m \u001b[34mpurrr    \u001b[39m 1.0.1     \n",
      "── \u001b[1mConflicts\u001b[22m ────────────────────────────────────────────────────────────────────────────────── tidyverse_conflicts() ──\n",
      "\u001b[31m✖\u001b[39m \u001b[34mdplyr\u001b[39m::\u001b[32mfilter()\u001b[39m masks \u001b[34mstats\u001b[39m::filter()\n",
      "\u001b[31m✖\u001b[39m \u001b[34mdplyr\u001b[39m::\u001b[32mlag()\u001b[39m    masks \u001b[34mstats\u001b[39m::lag()\n",
      "\u001b[36mℹ\u001b[39m Use the conflicted package (\u001b[3m\u001b[34m<http://conflicted.r-lib.org/>\u001b[39m\u001b[23m) to force all conflicts to become errors\n"
     ]
    }
   ],
   "source": [
    "library('tidyverse')"
   ]
  },
  {
   "cell_type": "code",
   "execution_count": 80,
   "id": "33efd990-8367-4f2c-8301-b17d1029cccc",
   "metadata": {},
   "outputs": [],
   "source": [
    "find_outliers <- function(data_vector) {\n",
    "  Q1 <- quantile(data_vector, 0.25)\n",
    "  Q3 <- quantile(data_vector, 0.75)\n",
    "  IQR <- Q3 - Q1\n",
    "  \n",
    "  lower_bound <- Q1 - 1.5 * IQR\n",
    "  upper_bound <- Q3 + 1.5 * IQR\n",
    "  \n",
    "  outliers <- data_vector[data_vector < lower_bound | data_vector > upper_bound]\n",
    "  \n",
    "  return(outliers)\n",
    "}"
   ]
  },
  {
   "cell_type": "code",
   "execution_count": 102,
   "id": "f1bfcfe5-9c6b-4bdc-8907-4c74413b760c",
   "metadata": {},
   "outputs": [
    {
     "name": "stdout",
     "output_type": "stream",
     "text": [
      "[1] \"Data with area outlier:  6080\"\n",
      "[1] \"Data without area outlier:  5835\"\n",
      "[1] \"Number of area outlier:  245\"\n"
     ]
    }
   ],
   "source": [
    "outliers <- find_outliers(data$area)\n",
    "print(paste('Data with area outlier: ', nrow(data)))\n",
    "print(paste('Data without area outlier: ', (nrow(data)-length(outliers))))\n",
    "print(paste('Number of area outlier: ', length(outliers)))"
   ]
  },
  {
   "cell_type": "code",
   "execution_count": 27,
   "id": "9e73bc1a-bc2c-4489-956d-2492dab907f4",
   "metadata": {},
   "outputs": [
    {
     "name": "stdout",
     "output_type": "stream",
     "text": [
      "[1] \"Có outlier: TRUE\"\n",
      "[1] \"Tổng số mẫu outlier: 245\"\n"
     ]
    }
   ],
   "source": [
    "outliers <- data %>%\n",
    "  filter(area %in% boxplot.stats(data$area)$out) %>%\n",
    "  nrow()\n",
    "print(paste(\"Có outlier:\", outliers > 0))\n",
    "print(paste(\"Tổng số mẫu outlier:\", outliers))"
   ]
  },
  {
   "cell_type": "markdown",
   "id": "c479eef5-3598-4a92-85d6-52a4211e60cf",
   "metadata": {},
   "source": [
    "### Vẽ biểu đồ thể hiện mối liên hệ của area và rent_amount "
   ]
  },
  {
   "cell_type": "code",
   "execution_count": 31,
   "id": "d6299de1-44a0-46fc-a8e6-a1a82cb9f067",
   "metadata": {},
   "outputs": [
    {
     "data": {
      "image/png": "[encoded data removed]",
      "text/plain": [
       "Plot with title \"Mối liên hệ của area và rent_amount\""
      ]
     },
     "metadata": {
      "image/png": {
       "height": 420,
       "width": 420
      }
     },
     "output_type": "display_data"
    }
   ],
   "source": [
    "plot(data$area,data$rent_amount,main = 'Mối liên hệ của area và rent_amount',xlab = \"Area\", ylab = \"Rent Amount\")"
   ]
  },
  {
   "cell_type": "markdown",
   "id": "4acb2c51-340a-4fc3-890b-75567204b817",
   "metadata": {},
   "source": [
    "### Vẽ pie chart thể hiện % giữa 1 và 0 của cột city"
   ]
  },
  {
   "cell_type": "code",
   "execution_count": 49,
   "id": "1e041abf-5219-4e71-ba64-529ae2322e87",
   "metadata": {},
   "outputs": [
    {
     "data": {
      "text/plain": [
       "\n",
       "   0    1 \n",
       " 831 5249 "
      ]
     },
     "metadata": {},
     "output_type": "display_data"
    }
   ],
   "source": [
    "city_summary <- table(data$city)\n",
    "city_summary"
   ]
  },
  {
   "cell_type": "code",
   "execution_count": 52,
   "id": "300ae62e-a5eb-45d3-96cf-d26d88a3bb01",
   "metadata": {},
   "outputs": [
    {
     "data": {
      "text/html": [
       "<style>\n",
       ".list-inline {list-style: none; margin:0; padding: 0}\n",
       ".list-inline>li {display: inline-block}\n",
       ".list-inline>li:not(:last-child)::after {content: \"\\00b7\"; padding: 0 .5ex}\n",
       "</style>\n",
       "<ol class=list-inline><li>831</li><li>5249</li></ol>\n"
      ],
      "text/latex": [
       "\\begin{enumerate*}\n",
       "\\item 831\n",
       "\\item 5249\n",
       "\\end{enumerate*}\n"
      ],
      "text/markdown": [
       "1. 831\n",
       "2. 5249\n",
       "\n",
       "\n"
      ],
      "text/plain": [
       "[1]  831 5249"
      ]
     },
     "metadata": {},
     "output_type": "display_data"
    }
   ],
   "source": [
    "city_vector <- as.vector(city_summary)\n",
    "city_vector"
   ]
  },
  {
   "cell_type": "code",
   "execution_count": 58,
   "id": "29bc678c-905d-432e-85af-ddd18c5e70a9",
   "metadata": {},
   "outputs": [
    {
     "data": {
      "image/png": "[encoded data removed]",
      "text/plain": [
       "Plot with title \"Percentage of 0/1 City\""
      ]
     },
     "metadata": {
      "image/png": {
       "height": 420,
       "width": 420
      }
     },
     "output_type": "display_data"
    }
   ],
   "source": [
    "pie_percent = round(city_vector * 100/nrow(data), 1)\n",
    "labels = c('0', '1')\n",
    "pie(city_vector, labels = paste(labels, pie_percent, '%'), \n",
    "    main='Percentage of 0/1 City', \n",
    "    col = rainbow(length(city_summary)), \n",
    ")"
   ]
  },
  {
   "cell_type": "markdown",
   "id": "ce0a683c-cf5a-4538-93ac-0e8745630216",
   "metadata": {},
   "source": [
    "- Nhận xét: Tỷ lệ nhà cho thuê chủ yếu tập trung ở city (86.3%) so với vùng khác.\n",
    "- => nhu cầu thuê và cho thuê tập trung ở city."
   ]
  },
  {
   "cell_type": "markdown",
   "id": "ea8911a4-5d32-48a7-95de-0418bc980b2e",
   "metadata": {},
   "source": [
    "### Cho biết rent_amount lớn nhất và bé nhất? Liệt kê những căn nhà có rent_amount lớn nhất và bé nhất"
   ]
  },
  {
   "cell_type": "code",
   "execution_count": null,
   "id": "a32449f7-4125-45ac-9094-7c9f66717402",
   "metadata": {},
   "outputs": [],
   "source": [
    "⦁\tCho biết rent_amount lớn nhất và bé nhất? Liệt kê những căn nhà có rent_amount lớn nhất và bé nhất"
   ]
  },
  {
   "cell_type": "code",
   "execution_count": 62,
   "id": "fedb5179-b8b9-4288-9171-5a9d235c7ffa",
   "metadata": {},
   "outputs": [
    {
     "name": "stdout",
     "output_type": "stream",
     "text": [
      "[1] \"Giá thuê lớn nhất: 45000\"\n",
      "[1] \"Giá thuê bé nhất: 420\"\n",
      "[1] \"Thông tin căn nhà có giá thuê lớn nhất:\"\n",
      "  city area rooms bathroom parking.spaces floor animal     furniture hoa\n",
      "1    1  700     4        7              8    NA  acept not furnished R$0\n",
      "  rent.amount rent_amount\n",
      "1    R$45,000       45000\n",
      "[1] \"Thông tin căn nhà có giá thuê bé nhất:\"\n",
      "  city area rooms bathroom parking.spaces floor animal     furniture   hoa\n",
      "1    0   47     1        1              0     2  acept not furnished R$426\n",
      "  rent.amount rent_amount\n",
      "1       R$420         420\n"
     ]
    }
   ],
   "source": [
    "max_rent <- max(data$rent_amount)\n",
    "min_rent <- min(data$rent_amount)\n",
    "\n",
    "house_with_max_rent <- data %>%\n",
    "  filter(rent_amount == max_rent)\n",
    "\n",
    "house_with_min_rent <- data %>%\n",
    "  filter(rent_amount == min_rent)\n",
    "\n",
    "\n",
    "print(paste(\"Giá thuê lớn nhất:\", max_rent))\n",
    "print(paste(\"Giá thuê bé nhất:\", min_rent))\n",
    "print(\"Thông tin căn nhà có giá thuê lớn nhất:\")\n",
    "print(house_with_max_rent)\n",
    "print(\"Thông tin căn nhà có giá thuê bé nhất:\")\n",
    "print(house_with_min_rent)"
   ]
  },
  {
   "cell_type": "markdown",
   "id": "4e3dbee9-f134-49bb-b8f5-71eb714217b0",
   "metadata": {},
   "source": [
    "### Vẽ biểu đồ thống kê rooms"
   ]
  },
  {
   "cell_type": "code",
   "execution_count": 65,
   "id": "8f8edf49-105f-461b-a80b-7fdfe0bd9178",
   "metadata": {},
   "outputs": [
    {
     "data": {
      "text/html": [
       "<table class=\"dataframe\">\n",
       "<caption>A tibble: 9 × 2</caption>\n",
       "<thead>\n",
       "\t<tr><th scope=col>rooms</th><th scope=col>count</th></tr>\n",
       "\t<tr><th scope=col>&lt;int&gt;</th><th scope=col>&lt;int&gt;</th></tr>\n",
       "</thead>\n",
       "<tbody>\n",
       "\t<tr><td> 1</td><td>1398</td></tr>\n",
       "\t<tr><td> 2</td><td>1621</td></tr>\n",
       "\t<tr><td> 3</td><td>1994</td></tr>\n",
       "\t<tr><td> 4</td><td> 879</td></tr>\n",
       "\t<tr><td> 5</td><td> 143</td></tr>\n",
       "\t<tr><td> 6</td><td>  22</td></tr>\n",
       "\t<tr><td> 7</td><td>  18</td></tr>\n",
       "\t<tr><td> 8</td><td>   3</td></tr>\n",
       "\t<tr><td>10</td><td>   2</td></tr>\n",
       "</tbody>\n",
       "</table>\n"
      ],
      "text/latex": [
       "A tibble: 9 × 2\n",
       "\\begin{tabular}{ll}\n",
       " rooms & count\\\\\n",
       " <int> & <int>\\\\\n",
       "\\hline\n",
       "\t  1 & 1398\\\\\n",
       "\t  2 & 1621\\\\\n",
       "\t  3 & 1994\\\\\n",
       "\t  4 &  879\\\\\n",
       "\t  5 &  143\\\\\n",
       "\t  6 &   22\\\\\n",
       "\t  7 &   18\\\\\n",
       "\t  8 &    3\\\\\n",
       "\t 10 &    2\\\\\n",
       "\\end{tabular}\n"
      ],
      "text/markdown": [
       "\n",
       "A tibble: 9 × 2\n",
       "\n",
       "| rooms &lt;int&gt; | count &lt;int&gt; |\n",
       "|---|---|\n",
       "|  1 | 1398 |\n",
       "|  2 | 1621 |\n",
       "|  3 | 1994 |\n",
       "|  4 |  879 |\n",
       "|  5 |  143 |\n",
       "|  6 |   22 |\n",
       "|  7 |   18 |\n",
       "|  8 |    3 |\n",
       "| 10 |    2 |\n",
       "\n"
      ],
      "text/plain": [
       "  rooms count\n",
       "1  1    1398 \n",
       "2  2    1621 \n",
       "3  3    1994 \n",
       "4  4     879 \n",
       "5  5     143 \n",
       "6  6      22 \n",
       "7  7      18 \n",
       "8  8       3 \n",
       "9 10       2 "
      ]
     },
     "metadata": {},
     "output_type": "display_data"
    }
   ],
   "source": [
    "room_summary <- data %>%\n",
    "  group_by(rooms) %>%\n",
    "  summarise(count = n())\n",
    "room_summary"
   ]
  },
  {
   "cell_type": "code",
   "execution_count": 78,
   "id": "eff65589-c590-4d8d-a223-e01eecc056f8",
   "metadata": {},
   "outputs": [
    {
     "data": {
      "image/png": "[encoded data removed]",
      "text/plain": [
       "plot without title"
      ]
     },
     "metadata": {
      "image/png": {
       "height": 420,
       "width": 420
      }
     },
     "output_type": "display_data"
    }
   ],
   "source": [
    "barplot(height =room_summary$count, names.arg = room_summary$rooms,\n",
    "       xlab = 'rooms', ylab = 'count')"
   ]
  },
  {
   "cell_type": "markdown",
   "id": "10ec5d8b-8c0c-42bd-af3a-8ea22fde08ac",
   "metadata": {},
   "source": [
    "- Nhận xét:\n",
    "  - Phòng có 3 phòng ngủ có số lượng cho thuê nhiều nhất. Tiếp theo là phòng 2 pn, 1 pn có số lượng ít hơn không đáng kể.\n",
    "  - Các phòng có số phòng ngủ 8 9 10 có só lượng rất ít do không có nhu cầu nhiều."
   ]
  }
 ],
 "metadata": {
  "kernelspec": {
   "display_name": "R",
   "language": "R",
   "name": "ir"
  },
  "language_info": {
   "codemirror_mode": "r",
   "file_extension": ".r",
   "mimetype": "text/x-r-source",
   "name": "R",
   "pygments_lexer": "r",
   "version": "4.3.1"
  }
 },
 "nbformat": 4,
 "nbformat_minor": 5
}
