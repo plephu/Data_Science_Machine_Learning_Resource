{
 "cells": [
  {
   "cell_type": "code",
   "execution_count": 1,
   "id": "504bcad4-1ea1-45c4-8458-8e7324cadbdf",
   "metadata": {},
   "outputs": [
    {
     "ename": "ERROR",
     "evalue": "Error in 1/frequency: non-numeric argument to binary operator\n",
     "output_type": "error",
     "traceback": [
      "Error in 1/frequency: non-numeric argument to binary operator\nTraceback:\n",
      "1. ts(data, start, end, frequency)"
     ]
    }
   ],
   "source": []
  },
  {
   "cell_type": "code",
   "execution_count": 2,
   "id": "2280adf0-30b4-4dfd-8963-0ad3194c80eb",
   "metadata": {},
   "outputs": [],
   "source": [
    "rainfall = scan('Chapter14/rain_fall.txt')"
   ]
  },
  {
   "cell_type": "code",
   "execution_count": 3,
   "id": "89b921a9-ccfc-461d-9de9-04e3abd26feb",
   "metadata": {},
   "outputs": [
    {
     "data": {
      "text/html": [
       "<style>\n",
       ".list-inline {list-style: none; margin:0; padding: 0}\n",
       ".list-inline>li {display: inline-block}\n",
       ".list-inline>li:not(:last-child)::after {content: \"\\00b7\"; padding: 0 .5ex}\n",
       "</style>\n",
       "<ol class=list-inline><li>0.7</li><li>16.1</li><li>68.6</li><li>170.4</li><li>106.1</li><li>221.7</li><li>357.3</li><li>314.7</li><li>237.3</li><li>119.4</li><li>36.5</li><li>11.8</li><li>25.6</li><li>12.5</li><li>59.4</li><li>21.6</li><li>74.2</li><li>241.1</li><li>96.8</li><li>354.2</li><li>345.4</li><li>99.7</li><li>158</li><li>31.5</li><li>96.9</li><li>4.2</li><li>24.7</li><li>104.5</li><li>249</li><li>95.1</li><li>280.4</li><li>534.5</li><li>178.5</li><li>45</li><li>9.3</li><li>9</li><li>70.9</li><li>12.3</li><li>112.4</li><li>19.1</li><li>105.4</li><li>212.9</li><li>449.1</li><li>283.2</li><li>266.9</li><li>259.7</li><li>19.4</li><li>47.5</li><li>16.6</li><li>10</li><li>34</li><li>58.8</li><li>209</li><li>188.5</li><li>428.1</li><li>313.4</li><li>229.7</li><li>94.4</li><li>28.2</li><li>84.2</li></ol>\n"
      ],
      "text/latex": [
       "\\begin{enumerate*}\n",
       "\\item 0.7\n",
       "\\item 16.1\n",
       "\\item 68.6\n",
       "\\item 170.4\n",
       "\\item 106.1\n",
       "\\item 221.7\n",
       "\\item 357.3\n",
       "\\item 314.7\n",
       "\\item 237.3\n",
       "\\item 119.4\n",
       "\\item 36.5\n",
       "\\item 11.8\n",
       "\\item 25.6\n",
       "\\item 12.5\n",
       "\\item 59.4\n",
       "\\item 21.6\n",
       "\\item 74.2\n",
       "\\item 241.1\n",
       "\\item 96.8\n",
       "\\item 354.2\n",
       "\\item 345.4\n",
       "\\item 99.7\n",
       "\\item 158\n",
       "\\item 31.5\n",
       "\\item 96.9\n",
       "\\item 4.2\n",
       "\\item 24.7\n",
       "\\item 104.5\n",
       "\\item 249\n",
       "\\item 95.1\n",
       "\\item 280.4\n",
       "\\item 534.5\n",
       "\\item 178.5\n",
       "\\item 45\n",
       "\\item 9.3\n",
       "\\item 9\n",
       "\\item 70.9\n",
       "\\item 12.3\n",
       "\\item 112.4\n",
       "\\item 19.1\n",
       "\\item 105.4\n",
       "\\item 212.9\n",
       "\\item 449.1\n",
       "\\item 283.2\n",
       "\\item 266.9\n",
       "\\item 259.7\n",
       "\\item 19.4\n",
       "\\item 47.5\n",
       "\\item 16.6\n",
       "\\item 10\n",
       "\\item 34\n",
       "\\item 58.8\n",
       "\\item 209\n",
       "\\item 188.5\n",
       "\\item 428.1\n",
       "\\item 313.4\n",
       "\\item 229.7\n",
       "\\item 94.4\n",
       "\\item 28.2\n",
       "\\item 84.2\n",
       "\\end{enumerate*}\n"
      ],
      "text/markdown": [
       "1. 0.7\n",
       "2. 16.1\n",
       "3. 68.6\n",
       "4. 170.4\n",
       "5. 106.1\n",
       "6. 221.7\n",
       "7. 357.3\n",
       "8. 314.7\n",
       "9. 237.3\n",
       "10. 119.4\n",
       "11. 36.5\n",
       "12. 11.8\n",
       "13. 25.6\n",
       "14. 12.5\n",
       "15. 59.4\n",
       "16. 21.6\n",
       "17. 74.2\n",
       "18. 241.1\n",
       "19. 96.8\n",
       "20. 354.2\n",
       "21. 345.4\n",
       "22. 99.7\n",
       "23. 158\n",
       "24. 31.5\n",
       "25. 96.9\n",
       "26. 4.2\n",
       "27. 24.7\n",
       "28. 104.5\n",
       "29. 249\n",
       "30. 95.1\n",
       "31. 280.4\n",
       "32. 534.5\n",
       "33. 178.5\n",
       "34. 45\n",
       "35. 9.3\n",
       "36. 9\n",
       "37. 70.9\n",
       "38. 12.3\n",
       "39. 112.4\n",
       "40. 19.1\n",
       "41. 105.4\n",
       "42. 212.9\n",
       "43. 449.1\n",
       "44. 283.2\n",
       "45. 266.9\n",
       "46. 259.7\n",
       "47. 19.4\n",
       "48. 47.5\n",
       "49. 16.6\n",
       "50. 10\n",
       "51. 34\n",
       "52. 58.8\n",
       "53. 209\n",
       "54. 188.5\n",
       "55. 428.1\n",
       "56. 313.4\n",
       "57. 229.7\n",
       "58. 94.4\n",
       "59. 28.2\n",
       "60. 84.2\n",
       "\n",
       "\n"
      ],
      "text/plain": [
       " [1]   0.7  16.1  68.6 170.4 106.1 221.7 357.3 314.7 237.3 119.4  36.5  11.8\n",
       "[13]  25.6  12.5  59.4  21.6  74.2 241.1  96.8 354.2 345.4  99.7 158.0  31.5\n",
       "[25]  96.9   4.2  24.7 104.5 249.0  95.1 280.4 534.5 178.5  45.0   9.3   9.0\n",
       "[37]  70.9  12.3 112.4  19.1 105.4 212.9 449.1 283.2 266.9 259.7  19.4  47.5\n",
       "[49]  16.6  10.0  34.0  58.8 209.0 188.5 428.1 313.4 229.7  94.4  28.2  84.2"
      ]
     },
     "metadata": {},
     "output_type": "display_data"
    }
   ],
   "source": [
    "rainfall"
   ]
  },
  {
   "cell_type": "code",
   "execution_count": 4,
   "id": "9af9e6ca-7db6-4fb3-ba66-d62dfc5ccae0",
   "metadata": {},
   "outputs": [],
   "source": [
    "ts.rainfall = ts(rainfall, frequency = 12, start = c(2014,1))"
   ]
  },
  {
   "cell_type": "code",
   "execution_count": 5,
   "id": "c01cd38f-14a7-4222-8879-29f9d262baf4",
   "metadata": {},
   "outputs": [
    {
     "data": {
      "text/html": [
       "<table class=\"dataframe\">\n",
       "<caption>A Time Series: 5 × 12</caption>\n",
       "<thead>\n",
       "\t<tr><th></th><th scope=col>Jan</th><th scope=col>Feb</th><th scope=col>Mar</th><th scope=col>Apr</th><th scope=col>May</th><th scope=col>Jun</th><th scope=col>Jul</th><th scope=col>Aug</th><th scope=col>Sep</th><th scope=col>Oct</th><th scope=col>Nov</th><th scope=col>Dec</th></tr>\n",
       "</thead>\n",
       "<tbody>\n",
       "\t<tr><th scope=row>2014</th><td>  0.7</td><td> 16.1</td><td> 68.6</td><td>170.4</td><td>106.1</td><td>221.7</td><td>357.3</td><td>314.7</td><td>237.3</td><td>119.4</td><td> 36.5</td><td> 11.8</td></tr>\n",
       "\t<tr><th scope=row>2015</th><td> 25.6</td><td> 12.5</td><td> 59.4</td><td> 21.6</td><td> 74.2</td><td>241.1</td><td> 96.8</td><td>354.2</td><td>345.4</td><td> 99.7</td><td>158.0</td><td> 31.5</td></tr>\n",
       "\t<tr><th scope=row>2016</th><td> 96.9</td><td>  4.2</td><td> 24.7</td><td>104.5</td><td>249.0</td><td> 95.1</td><td>280.4</td><td>534.5</td><td>178.5</td><td> 45.0</td><td>  9.3</td><td>  9.0</td></tr>\n",
       "\t<tr><th scope=row>2017</th><td> 70.9</td><td> 12.3</td><td>112.4</td><td> 19.1</td><td>105.4</td><td>212.9</td><td>449.1</td><td>283.2</td><td>266.9</td><td>259.7</td><td> 19.4</td><td> 47.5</td></tr>\n",
       "\t<tr><th scope=row>2018</th><td> 16.6</td><td> 10.0</td><td> 34.0</td><td> 58.8</td><td>209.0</td><td>188.5</td><td>428.1</td><td>313.4</td><td>229.7</td><td> 94.4</td><td> 28.2</td><td> 84.2</td></tr>\n",
       "</tbody>\n",
       "</table>\n"
      ],
      "text/latex": [
       "A Time Series: 5 × 12\n",
       "\\begin{tabular}{r|llllllllllll}\n",
       "  & Jan & Feb & Mar & Apr & May & Jun & Jul & Aug & Sep & Oct & Nov & Dec\\\\\n",
       "\\hline\n",
       "\t2014 &   0.7 &  16.1 &  68.6 & 170.4 & 106.1 & 221.7 & 357.3 & 314.7 & 237.3 & 119.4 &  36.5 &  11.8\\\\\n",
       "\t2015 &  25.6 &  12.5 &  59.4 &  21.6 &  74.2 & 241.1 &  96.8 & 354.2 & 345.4 &  99.7 & 158.0 &  31.5\\\\\n",
       "\t2016 &  96.9 &   4.2 &  24.7 & 104.5 & 249.0 &  95.1 & 280.4 & 534.5 & 178.5 &  45.0 &   9.3 &   9.0\\\\\n",
       "\t2017 &  70.9 &  12.3 & 112.4 &  19.1 & 105.4 & 212.9 & 449.1 & 283.2 & 266.9 & 259.7 &  19.4 &  47.5\\\\\n",
       "\t2018 &  16.6 &  10.0 &  34.0 &  58.8 & 209.0 & 188.5 & 428.1 & 313.4 & 229.7 &  94.4 &  28.2 &  84.2\\\\\n",
       "\\end{tabular}\n"
      ],
      "text/markdown": [
       "\n",
       "A Time Series: 5 × 12\n",
       "\n",
       "| <!--/--> | Jan | Feb | Mar | Apr | May | Jun | Jul | Aug | Sep | Oct | Nov | Dec |\n",
       "|---|---|---|---|---|---|---|---|---|---|---|---|---|\n",
       "| 2014 |   0.7 |  16.1 |  68.6 | 170.4 | 106.1 | 221.7 | 357.3 | 314.7 | 237.3 | 119.4 |  36.5 |  11.8 |\n",
       "| 2015 |  25.6 |  12.5 |  59.4 |  21.6 |  74.2 | 241.1 |  96.8 | 354.2 | 345.4 |  99.7 | 158.0 |  31.5 |\n",
       "| 2016 |  96.9 |   4.2 |  24.7 | 104.5 | 249.0 |  95.1 | 280.4 | 534.5 | 178.5 |  45.0 |   9.3 |   9.0 |\n",
       "| 2017 |  70.9 |  12.3 | 112.4 |  19.1 | 105.4 | 212.9 | 449.1 | 283.2 | 266.9 | 259.7 |  19.4 |  47.5 |\n",
       "| 2018 |  16.6 |  10.0 |  34.0 |  58.8 | 209.0 | 188.5 | 428.1 | 313.4 | 229.7 |  94.4 |  28.2 |  84.2 |\n",
       "\n"
      ],
      "text/plain": [
       "     Jan   Feb   Mar   Apr   May   Jun   Jul   Aug   Sep   Oct   Nov   Dec  \n",
       "2014   0.7  16.1  68.6 170.4 106.1 221.7 357.3 314.7 237.3 119.4  36.5  11.8\n",
       "2015  25.6  12.5  59.4  21.6  74.2 241.1  96.8 354.2 345.4  99.7 158.0  31.5\n",
       "2016  96.9   4.2  24.7 104.5 249.0  95.1 280.4 534.5 178.5  45.0   9.3   9.0\n",
       "2017  70.9  12.3 112.4  19.1 105.4 212.9 449.1 283.2 266.9 259.7  19.4  47.5\n",
       "2018  16.6  10.0  34.0  58.8 209.0 188.5 428.1 313.4 229.7  94.4  28.2  84.2"
      ]
     },
     "metadata": {},
     "output_type": "display_data"
    }
   ],
   "source": [
    "ts.rainfall"
   ]
  },
  {
   "cell_type": "code",
   "execution_count": 6,
   "id": "528625b0-825e-4e0f-a83a-9664f95fe911",
   "metadata": {},
   "outputs": [
    {
     "data": {
      "image/png": "[encoded data removed]",
      "text/plain": [
       "Plot with title \"Ha Noi rainfall from 01/2014 to 12/2018\""
      ]
     },
     "metadata": {
      "image/png": {
       "height": 480,
       "width": 720
      }
     },
     "output_type": "display_data"
    }
   ],
   "source": [
    "options(repr.plot.width =12, repr.plot.height =8)\n",
    "plot.ts(ts.rainfall, main = \"Ha Noi rainfall from 01/2014 to 12/2018\",\n",
    "        ylab ='mm', xlab ='month', col = 'blue')"
   ]
  },
  {
   "cell_type": "code",
   "execution_count": 7,
   "id": "a2f61ab1-43f3-44f3-b1fc-9c947268e97c",
   "metadata": {},
   "outputs": [],
   "source": [
    "comp = decompose(ts.rainfall)"
   ]
  },
  {
   "cell_type": "code",
   "execution_count": 8,
   "id": "07ce7956-0476-4e80-baf4-52dff2840185",
   "metadata": {},
   "outputs": [
    {
     "data": {
      "image/png": "[encoded data removed]",
      "text/plain": [
       "plot without title"
      ]
     },
     "metadata": {
      "image/png": {
       "height": 480,
       "width": 720
      }
     },
     "output_type": "display_data"
    }
   ],
   "source": [
    "plot(comp)"
   ]
  },
  {
   "cell_type": "code",
   "execution_count": 9,
   "id": "9b47cb64-0901-4edc-bb9c-abf40dbaedb8",
   "metadata": {},
   "outputs": [
    {
     "data": {
      "text/html": [
       "<table class=\"dataframe\">\n",
       "<caption>A Time Series: 5 × 12</caption>\n",
       "<thead>\n",
       "\t<tr><th></th><th scope=col>Jan</th><th scope=col>Feb</th><th scope=col>Mar</th><th scope=col>Apr</th><th scope=col>May</th><th scope=col>Jun</th><th scope=col>Jul</th><th scope=col>Aug</th><th scope=col>Sep</th><th scope=col>Oct</th><th scope=col>Nov</th><th scope=col>Dec</th></tr>\n",
       "</thead>\n",
       "<tbody>\n",
       "\t<tr><th scope=row>2014</th><td>      NA</td><td>      NA</td><td>      NA</td><td>      NA</td><td>      NA</td><td>      NA</td><td>139.4208</td><td>140.3083</td><td>139.7750</td><td>133.1917</td><td>125.6625</td><td>125.1417</td></tr>\n",
       "\t<tr><th scope=row>2015</th><td>115.0958</td><td>105.8875</td><td>112.0375</td><td>115.7208</td><td>119.9625</td><td>125.8458</td><td>129.6375</td><td>132.2625</td><td>130.4708</td><td>132.4792</td><td>143.2167</td><td>144.4167</td></tr>\n",
       "\t<tr><th scope=row>2016</th><td>145.9833</td><td>161.1458</td><td>161.7042</td><td>152.4708</td><td>143.9958</td><td>136.8625</td><td>134.8417</td><td>134.0958</td><td>138.0875</td><td>138.1833</td><td>128.6417</td><td>127.5667</td></tr>\n",
       "\t<tr><th scope=row>2017</th><td>139.5042</td><td>136.0625</td><td>129.2750</td><td>141.9042</td><td>151.2708</td><td>153.2958</td><td>152.6375</td><td>150.2792</td><td>146.9167</td><td>145.3042</td><td>151.2750</td><td>154.5750</td></tr>\n",
       "\t<tr><th scope=row>2018</th><td>152.6833</td><td>153.0667</td><td>152.7750</td><td>144.3375</td><td>137.8167</td><td>139.7125</td><td>      NA</td><td>      NA</td><td>      NA</td><td>      NA</td><td>      NA</td><td>      NA</td></tr>\n",
       "</tbody>\n",
       "</table>\n"
      ],
      "text/latex": [
       "A Time Series: 5 × 12\n",
       "\\begin{tabular}{r|llllllllllll}\n",
       "  & Jan & Feb & Mar & Apr & May & Jun & Jul & Aug & Sep & Oct & Nov & Dec\\\\\n",
       "\\hline\n",
       "\t2014 &       NA &       NA &       NA &       NA &       NA &       NA & 139.4208 & 140.3083 & 139.7750 & 133.1917 & 125.6625 & 125.1417\\\\\n",
       "\t2015 & 115.0958 & 105.8875 & 112.0375 & 115.7208 & 119.9625 & 125.8458 & 129.6375 & 132.2625 & 130.4708 & 132.4792 & 143.2167 & 144.4167\\\\\n",
       "\t2016 & 145.9833 & 161.1458 & 161.7042 & 152.4708 & 143.9958 & 136.8625 & 134.8417 & 134.0958 & 138.0875 & 138.1833 & 128.6417 & 127.5667\\\\\n",
       "\t2017 & 139.5042 & 136.0625 & 129.2750 & 141.9042 & 151.2708 & 153.2958 & 152.6375 & 150.2792 & 146.9167 & 145.3042 & 151.2750 & 154.5750\\\\\n",
       "\t2018 & 152.6833 & 153.0667 & 152.7750 & 144.3375 & 137.8167 & 139.7125 &       NA &       NA &       NA &       NA &       NA &       NA\\\\\n",
       "\\end{tabular}\n"
      ],
      "text/markdown": [
       "\n",
       "A Time Series: 5 × 12\n",
       "\n",
       "| <!--/--> | Jan | Feb | Mar | Apr | May | Jun | Jul | Aug | Sep | Oct | Nov | Dec |\n",
       "|---|---|---|---|---|---|---|---|---|---|---|---|---|\n",
       "| 2014 |       NA |       NA |       NA |       NA |       NA |       NA | 139.4208 | 140.3083 | 139.7750 | 133.1917 | 125.6625 | 125.1417 |\n",
       "| 2015 | 115.0958 | 105.8875 | 112.0375 | 115.7208 | 119.9625 | 125.8458 | 129.6375 | 132.2625 | 130.4708 | 132.4792 | 143.2167 | 144.4167 |\n",
       "| 2016 | 145.9833 | 161.1458 | 161.7042 | 152.4708 | 143.9958 | 136.8625 | 134.8417 | 134.0958 | 138.0875 | 138.1833 | 128.6417 | 127.5667 |\n",
       "| 2017 | 139.5042 | 136.0625 | 129.2750 | 141.9042 | 151.2708 | 153.2958 | 152.6375 | 150.2792 | 146.9167 | 145.3042 | 151.2750 | 154.5750 |\n",
       "| 2018 | 152.6833 | 153.0667 | 152.7750 | 144.3375 | 137.8167 | 139.7125 |       NA |       NA |       NA |       NA |       NA |       NA |\n",
       "\n"
      ],
      "text/plain": [
       "     Jan      Feb      Mar      Apr      May      Jun      Jul      Aug     \n",
       "2014       NA       NA       NA       NA       NA       NA 139.4208 140.3083\n",
       "2015 115.0958 105.8875 112.0375 115.7208 119.9625 125.8458 129.6375 132.2625\n",
       "2016 145.9833 161.1458 161.7042 152.4708 143.9958 136.8625 134.8417 134.0958\n",
       "2017 139.5042 136.0625 129.2750 141.9042 151.2708 153.2958 152.6375 150.2792\n",
       "2018 152.6833 153.0667 152.7750 144.3375 137.8167 139.7125       NA       NA\n",
       "     Sep      Oct      Nov      Dec     \n",
       "2014 139.7750 133.1917 125.6625 125.1417\n",
       "2015 130.4708 132.4792 143.2167 144.4167\n",
       "2016 138.0875 138.1833 128.6417 127.5667\n",
       "2017 146.9167 145.3042 151.2750 154.5750\n",
       "2018       NA       NA       NA       NA"
      ]
     },
     "metadata": {},
     "output_type": "display_data"
    }
   ],
   "source": [
    "comp$trend"
   ]
  },
  {
   "cell_type": "code",
   "execution_count": 10,
   "id": "ca35259d-a472-4be1-a4cd-997ea79eb14e",
   "metadata": {},
   "outputs": [
    {
     "data": {
      "text/html": [
       "<table class=\"dataframe\">\n",
       "<caption>A Time Series: 5 × 12</caption>\n",
       "<thead>\n",
       "\t<tr><th></th><th scope=col>Jan</th><th scope=col>Feb</th><th scope=col>Mar</th><th scope=col>Apr</th><th scope=col>May</th><th scope=col>Jun</th><th scope=col>Jul</th><th scope=col>Aug</th><th scope=col>Sep</th><th scope=col>Oct</th><th scope=col>Nov</th><th scope=col>Dec</th></tr>\n",
       "</thead>\n",
       "<tbody>\n",
       "\t<tr><th scope=row>2014</th><td> -84.920747</td><td>-128.394705</td><td> -80.426997</td><td> -86.712413</td><td>  22.034462</td><td>  46.366753</td><td> 157.661545</td><td> 233.309462</td><td> 119.108420</td><td>  -5.443663</td><td> -80.503038</td><td>-112.079080</td></tr>\n",
       "\t<tr><th scope=row>2015</th><td> -84.920747</td><td>-128.394705</td><td> -80.426997</td><td> -86.712413</td><td>  22.034462</td><td>  46.366753</td><td> 157.661545</td><td> 233.309462</td><td> 119.108420</td><td>  -5.443663</td><td> -80.503038</td><td>-112.079080</td></tr>\n",
       "\t<tr><th scope=row>2016</th><td> -84.920747</td><td>-128.394705</td><td> -80.426997</td><td> -86.712413</td><td>  22.034462</td><td>  46.366753</td><td> 157.661545</td><td> 233.309462</td><td> 119.108420</td><td>  -5.443663</td><td> -80.503038</td><td>-112.079080</td></tr>\n",
       "\t<tr><th scope=row>2017</th><td> -84.920747</td><td>-128.394705</td><td> -80.426997</td><td> -86.712413</td><td>  22.034462</td><td>  46.366753</td><td> 157.661545</td><td> 233.309462</td><td> 119.108420</td><td>  -5.443663</td><td> -80.503038</td><td>-112.079080</td></tr>\n",
       "\t<tr><th scope=row>2018</th><td> -84.920747</td><td>-128.394705</td><td> -80.426997</td><td> -86.712413</td><td>  22.034462</td><td>  46.366753</td><td> 157.661545</td><td> 233.309462</td><td> 119.108420</td><td>  -5.443663</td><td> -80.503038</td><td>-112.079080</td></tr>\n",
       "</tbody>\n",
       "</table>\n"
      ],
      "text/latex": [
       "A Time Series: 5 × 12\n",
       "\\begin{tabular}{r|llllllllllll}\n",
       "  & Jan & Feb & Mar & Apr & May & Jun & Jul & Aug & Sep & Oct & Nov & Dec\\\\\n",
       "\\hline\n",
       "\t2014 &  -84.920747 & -128.394705 &  -80.426997 &  -86.712413 &   22.034462 &   46.366753 &  157.661545 &  233.309462 &  119.108420 &   -5.443663 &  -80.503038 & -112.079080\\\\\n",
       "\t2015 &  -84.920747 & -128.394705 &  -80.426997 &  -86.712413 &   22.034462 &   46.366753 &  157.661545 &  233.309462 &  119.108420 &   -5.443663 &  -80.503038 & -112.079080\\\\\n",
       "\t2016 &  -84.920747 & -128.394705 &  -80.426997 &  -86.712413 &   22.034462 &   46.366753 &  157.661545 &  233.309462 &  119.108420 &   -5.443663 &  -80.503038 & -112.079080\\\\\n",
       "\t2017 &  -84.920747 & -128.394705 &  -80.426997 &  -86.712413 &   22.034462 &   46.366753 &  157.661545 &  233.309462 &  119.108420 &   -5.443663 &  -80.503038 & -112.079080\\\\\n",
       "\t2018 &  -84.920747 & -128.394705 &  -80.426997 &  -86.712413 &   22.034462 &   46.366753 &  157.661545 &  233.309462 &  119.108420 &   -5.443663 &  -80.503038 & -112.079080\\\\\n",
       "\\end{tabular}\n"
      ],
      "text/markdown": [
       "\n",
       "A Time Series: 5 × 12\n",
       "\n",
       "| <!--/--> | Jan | Feb | Mar | Apr | May | Jun | Jul | Aug | Sep | Oct | Nov | Dec |\n",
       "|---|---|---|---|---|---|---|---|---|---|---|---|---|\n",
       "| 2014 |  -84.920747 | -128.394705 |  -80.426997 |  -86.712413 |   22.034462 |   46.366753 |  157.661545 |  233.309462 |  119.108420 |   -5.443663 |  -80.503038 | -112.079080 |\n",
       "| 2015 |  -84.920747 | -128.394705 |  -80.426997 |  -86.712413 |   22.034462 |   46.366753 |  157.661545 |  233.309462 |  119.108420 |   -5.443663 |  -80.503038 | -112.079080 |\n",
       "| 2016 |  -84.920747 | -128.394705 |  -80.426997 |  -86.712413 |   22.034462 |   46.366753 |  157.661545 |  233.309462 |  119.108420 |   -5.443663 |  -80.503038 | -112.079080 |\n",
       "| 2017 |  -84.920747 | -128.394705 |  -80.426997 |  -86.712413 |   22.034462 |   46.366753 |  157.661545 |  233.309462 |  119.108420 |   -5.443663 |  -80.503038 | -112.079080 |\n",
       "| 2018 |  -84.920747 | -128.394705 |  -80.426997 |  -86.712413 |   22.034462 |   46.366753 |  157.661545 |  233.309462 |  119.108420 |   -5.443663 |  -80.503038 | -112.079080 |\n",
       "\n"
      ],
      "text/plain": [
       "     Jan         Feb         Mar         Apr         May         Jun        \n",
       "2014  -84.920747 -128.394705  -80.426997  -86.712413   22.034462   46.366753\n",
       "2015  -84.920747 -128.394705  -80.426997  -86.712413   22.034462   46.366753\n",
       "2016  -84.920747 -128.394705  -80.426997  -86.712413   22.034462   46.366753\n",
       "2017  -84.920747 -128.394705  -80.426997  -86.712413   22.034462   46.366753\n",
       "2018  -84.920747 -128.394705  -80.426997  -86.712413   22.034462   46.366753\n",
       "     Jul         Aug         Sep         Oct         Nov         Dec        \n",
       "2014  157.661545  233.309462  119.108420   -5.443663  -80.503038 -112.079080\n",
       "2015  157.661545  233.309462  119.108420   -5.443663  -80.503038 -112.079080\n",
       "2016  157.661545  233.309462  119.108420   -5.443663  -80.503038 -112.079080\n",
       "2017  157.661545  233.309462  119.108420   -5.443663  -80.503038 -112.079080\n",
       "2018  157.661545  233.309462  119.108420   -5.443663  -80.503038 -112.079080"
      ]
     },
     "metadata": {},
     "output_type": "display_data"
    }
   ],
   "source": [
    "comp$seasonal"
   ]
  },
  {
   "cell_type": "code",
   "execution_count": 11,
   "id": "c20f1426-0164-4040-a8b6-986176d32476",
   "metadata": {},
   "outputs": [
    {
     "data": {
      "text/html": [
       "<table class=\"dataframe\">\n",
       "<caption>A Time Series: 5 × 12</caption>\n",
       "<thead>\n",
       "\t<tr><th></th><th scope=col>Jan</th><th scope=col>Feb</th><th scope=col>Mar</th><th scope=col>Apr</th><th scope=col>May</th><th scope=col>Jun</th><th scope=col>Jul</th><th scope=col>Aug</th><th scope=col>Sep</th><th scope=col>Oct</th><th scope=col>Nov</th><th scope=col>Dec</th></tr>\n",
       "</thead>\n",
       "<tbody>\n",
       "\t<tr><th scope=row>2014</th><td>          NA</td><td>          NA</td><td>          NA</td><td>          NA</td><td>          NA</td><td>          NA</td><td>  60.2176215</td><td> -58.9177951</td><td> -21.5834201</td><td>  -8.3480035</td><td>  -8.6594618</td><td>  -1.2625868</td></tr>\n",
       "\t<tr><th scope=row>2015</th><td>  -4.5750868</td><td>  35.0072049</td><td>  27.7894965</td><td>  -7.4084201</td><td> -67.7969618</td><td>  68.8874132</td><td>-190.4990451</td><td> -11.3719618</td><td>  95.8207465</td><td> -27.3355035</td><td>  95.2863715</td><td>  -0.8375868</td></tr>\n",
       "\t<tr><th scope=row>2016</th><td>  35.8374132</td><td> -28.5511285</td><td> -56.5771701</td><td>  38.7415799</td><td>  82.9697049</td><td> -88.1292535</td><td> -12.1032118</td><td> 167.0947049</td><td> -78.6959201</td><td> -87.7396701</td><td> -38.8386285</td><td>  -6.4875868</td></tr>\n",
       "\t<tr><th scope=row>2017</th><td>  16.3165799</td><td>   4.6322049</td><td>  63.5519965</td><td> -36.0917535</td><td> -67.9052951</td><td>  13.2374132</td><td> 138.8009549</td><td>-100.3886285</td><td>   0.8749132</td><td> 119.8394965</td><td> -51.3719618</td><td>   5.0040799</td></tr>\n",
       "\t<tr><th scope=row>2018</th><td> -51.1625868</td><td> -14.6719618</td><td> -38.3480035</td><td>   1.1749132</td><td>  49.1488715</td><td>   2.4207465</td><td>          NA</td><td>          NA</td><td>          NA</td><td>          NA</td><td>          NA</td><td>          NA</td></tr>\n",
       "</tbody>\n",
       "</table>\n"
      ],
      "text/latex": [
       "A Time Series: 5 × 12\n",
       "\\begin{tabular}{r|llllllllllll}\n",
       "  & Jan & Feb & Mar & Apr & May & Jun & Jul & Aug & Sep & Oct & Nov & Dec\\\\\n",
       "\\hline\n",
       "\t2014 &           NA &           NA &           NA &           NA &           NA &           NA &   60.2176215 &  -58.9177951 &  -21.5834201 &   -8.3480035 &   -8.6594618 &   -1.2625868\\\\\n",
       "\t2015 &   -4.5750868 &   35.0072049 &   27.7894965 &   -7.4084201 &  -67.7969618 &   68.8874132 & -190.4990451 &  -11.3719618 &   95.8207465 &  -27.3355035 &   95.2863715 &   -0.8375868\\\\\n",
       "\t2016 &   35.8374132 &  -28.5511285 &  -56.5771701 &   38.7415799 &   82.9697049 &  -88.1292535 &  -12.1032118 &  167.0947049 &  -78.6959201 &  -87.7396701 &  -38.8386285 &   -6.4875868\\\\\n",
       "\t2017 &   16.3165799 &    4.6322049 &   63.5519965 &  -36.0917535 &  -67.9052951 &   13.2374132 &  138.8009549 & -100.3886285 &    0.8749132 &  119.8394965 &  -51.3719618 &    5.0040799\\\\\n",
       "\t2018 &  -51.1625868 &  -14.6719618 &  -38.3480035 &    1.1749132 &   49.1488715 &    2.4207465 &           NA &           NA &           NA &           NA &           NA &           NA\\\\\n",
       "\\end{tabular}\n"
      ],
      "text/markdown": [
       "\n",
       "A Time Series: 5 × 12\n",
       "\n",
       "| <!--/--> | Jan | Feb | Mar | Apr | May | Jun | Jul | Aug | Sep | Oct | Nov | Dec |\n",
       "|---|---|---|---|---|---|---|---|---|---|---|---|---|\n",
       "| 2014 |           NA |           NA |           NA |           NA |           NA |           NA |   60.2176215 |  -58.9177951 |  -21.5834201 |   -8.3480035 |   -8.6594618 |   -1.2625868 |\n",
       "| 2015 |   -4.5750868 |   35.0072049 |   27.7894965 |   -7.4084201 |  -67.7969618 |   68.8874132 | -190.4990451 |  -11.3719618 |   95.8207465 |  -27.3355035 |   95.2863715 |   -0.8375868 |\n",
       "| 2016 |   35.8374132 |  -28.5511285 |  -56.5771701 |   38.7415799 |   82.9697049 |  -88.1292535 |  -12.1032118 |  167.0947049 |  -78.6959201 |  -87.7396701 |  -38.8386285 |   -6.4875868 |\n",
       "| 2017 |   16.3165799 |    4.6322049 |   63.5519965 |  -36.0917535 |  -67.9052951 |   13.2374132 |  138.8009549 | -100.3886285 |    0.8749132 |  119.8394965 |  -51.3719618 |    5.0040799 |\n",
       "| 2018 |  -51.1625868 |  -14.6719618 |  -38.3480035 |    1.1749132 |   49.1488715 |    2.4207465 |           NA |           NA |           NA |           NA |           NA |           NA |\n",
       "\n"
      ],
      "text/plain": [
       "     Jan          Feb          Mar          Apr          May         \n",
       "2014           NA           NA           NA           NA           NA\n",
       "2015   -4.5750868   35.0072049   27.7894965   -7.4084201  -67.7969618\n",
       "2016   35.8374132  -28.5511285  -56.5771701   38.7415799   82.9697049\n",
       "2017   16.3165799    4.6322049   63.5519965  -36.0917535  -67.9052951\n",
       "2018  -51.1625868  -14.6719618  -38.3480035    1.1749132   49.1488715\n",
       "     Jun          Jul          Aug          Sep          Oct         \n",
       "2014           NA   60.2176215  -58.9177951  -21.5834201   -8.3480035\n",
       "2015   68.8874132 -190.4990451  -11.3719618   95.8207465  -27.3355035\n",
       "2016  -88.1292535  -12.1032118  167.0947049  -78.6959201  -87.7396701\n",
       "2017   13.2374132  138.8009549 -100.3886285    0.8749132  119.8394965\n",
       "2018    2.4207465           NA           NA           NA           NA\n",
       "     Nov          Dec         \n",
       "2014   -8.6594618   -1.2625868\n",
       "2015   95.2863715   -0.8375868\n",
       "2016  -38.8386285   -6.4875868\n",
       "2017  -51.3719618    5.0040799\n",
       "2018           NA           NA"
      ]
     },
     "metadata": {},
     "output_type": "display_data"
    }
   ],
   "source": [
    "comp$random"
   ]
  },
  {
   "cell_type": "markdown",
   "id": "31e0aba4-bf1f-45f4-beb7-cd28bdf25cc3",
   "metadata": {},
   "source": [
    "## Holt-winters"
   ]
  },
  {
   "cell_type": "code",
   "execution_count": 32,
   "id": "6c43476f-5203-468a-b294-de1b8df350c6",
   "metadata": {},
   "outputs": [],
   "source": [
    "forecast.rainfall = HoltWinters(ts.rainfall, beta = F, gamma =  F)"
   ]
  },
  {
   "cell_type": "code",
   "execution_count": 23,
   "id": "cff957c9-6576-4656-a96f-9a1495902527",
   "metadata": {},
   "outputs": [
    {
     "data": {
      "text/plain": [
       "Holt-Winters exponential smoothing without trend and without seasonal component.\n",
       "\n",
       "Call:\n",
       "HoltWinters(x = ts.rainfall, beta = F, gamma = F)\n",
       "\n",
       "Smoothing parameters:\n",
       " alpha: 0.8286106\n",
       " beta : FALSE\n",
       " gamma: FALSE\n",
       "\n",
       "Coefficients:\n",
       "      [,1]\n",
       "a 77.31102"
      ]
     },
     "metadata": {},
     "output_type": "display_data"
    }
   ],
   "source": [
    "forecast.rainfall"
   ]
  },
  {
   "cell_type": "code",
   "execution_count": 24,
   "id": "50221442-42c0-4563-a9fa-c6832f7b9941",
   "metadata": {},
   "outputs": [
    {
     "data": {
      "text/html": [
       "881132.694466033"
      ],
      "text/latex": [
       "881132.694466033"
      ],
      "text/markdown": [
       "881132.694466033"
      ],
      "text/plain": [
       "[1] 881132.7"
      ]
     },
     "metadata": {},
     "output_type": "display_data"
    }
   ],
   "source": [
    "forecast.rainfall$SSE"
   ]
  },
  {
   "cell_type": "code",
   "execution_count": 25,
   "id": "9bc0e0ac-0548-4f78-88cf-dfb466f5114a",
   "metadata": {},
   "outputs": [
    {
     "data": {
      "image/png": "[encoded data removed]",
      "text/plain": [
       "Plot with title \"Holt-Winters filtering\""
      ]
     },
     "metadata": {
      "image/png": {
       "height": 480,
       "width": 720
      }
     },
     "output_type": "display_data"
    }
   ],
   "source": [
    "plot(forecast.rainfall)"
   ]
  },
  {
   "cell_type": "code",
   "execution_count": 14,
   "id": "d948ccc4-57bf-4be3-96ef-376e171eaab4",
   "metadata": {},
   "outputs": [
    {
     "name": "stderr",
     "output_type": "stream",
     "text": [
      "Warning message:\n",
      "\"package 'forecast' is in use and will not be installed\"\n"
     ]
    }
   ],
   "source": [
    "install.packages('forecast')"
   ]
  },
  {
   "cell_type": "code",
   "execution_count": 17,
   "id": "3ac98391-4a2f-478a-b0ed-c95c123a8fcc",
   "metadata": {},
   "outputs": [],
   "source": [
    "library('forecast')"
   ]
  },
  {
   "cell_type": "code",
   "execution_count": 28,
   "id": "1b880af7-d51d-4eaf-95ec-e94ed21309e0",
   "metadata": {},
   "outputs": [
    {
     "data": {
      "text/plain": [
       "         Point Forecast     Lo 80    Hi 80     Lo 95    Hi 95\n",
       "Jan 2019       77.31102  -80.6344 235.2564 -164.2457 318.8677\n",
       "Feb 2019       77.31102 -127.8111 282.4331 -236.3962 391.0182\n",
       "Mar 2019       77.31102 -166.0065 320.6285 -294.8110 449.4331\n",
       "Apr 2019       77.31102 -198.9710 353.5930 -345.2259 499.8479\n",
       "May 2019       77.31102 -228.4014 383.0234 -390.2358 544.8578"
      ]
     },
     "metadata": {},
     "output_type": "display_data"
    }
   ],
   "source": [
    "forecast.rainfall.new = forecast:::forecast.HoltWinters(forecast.rainfall, h=5)\n",
    "forecast.rainfall.new"
   ]
  },
  {
   "cell_type": "code",
   "execution_count": 29,
   "id": "3aec90b7-b94b-47b4-9d24-f3c338e35fb5",
   "metadata": {},
   "outputs": [
    {
     "ename": "ERROR",
     "evalue": "Error in plot.forecast(forecast.rainfall.new): could not find function \"plot.forecast\"\n",
     "output_type": "error",
     "traceback": [
      "Error in plot.forecast(forecast.rainfall.new): could not find function \"plot.forecast\"\nTraceback:\n"
     ]
    }
   ],
   "source": [
    "plot.forecast(forecast.rainfall.new)"
   ]
  },
  {
   "cell_type": "code",
   "execution_count": 30,
   "id": "27fa5a2b-37fb-483a-81db-88f1cac8f50a",
   "metadata": {},
   "outputs": [
    {
     "data": {
      "image/png": "[encoded data removed]",
      "text/plain": [
       "Plot with title \"Forecasts from HoltWinters\""
      ]
     },
     "metadata": {
      "image/png": {
       "height": 480,
       "width": 720
      }
     },
     "output_type": "display_data"
    }
   ],
   "source": [
    "plot(forecast.rainfall.new)"
   ]
  },
  {
   "cell_type": "code",
   "execution_count": null,
   "id": "423a3266-57f4-4dc0-a3a5-67b63b8dbc31",
   "metadata": {},
   "outputs": [],
   "source": []
  },
  {
   "cell_type": "code",
   "execution_count": 33,
   "id": "c328529d-879f-4368-8df1-a5669b8ca7b6",
   "metadata": {},
   "outputs": [],
   "source": [
    "HES.forecast = HoltWinters(log(ts.rainfall), gamma =  F)"
   ]
  },
  {
   "cell_type": "code",
   "execution_count": 34,
   "id": "959e8c08-0031-44f9-b03e-6f0c3cbbfec4",
   "metadata": {},
   "outputs": [
    {
     "data": {
      "text/plain": [
       "Holt-Winters exponential smoothing with trend and without seasonal component.\n",
       "\n",
       "Call:\n",
       "HoltWinters(x = log(ts.rainfall), gamma = F)\n",
       "\n",
       "Smoothing parameters:\n",
       " alpha: 0.6848052\n",
       " beta : 0.6830466\n",
       " gamma: FALSE\n",
       "\n",
       "Coefficients:\n",
       "        [,1]\n",
       "a  3.8463113\n",
       "b -0.1694587"
      ]
     },
     "metadata": {},
     "output_type": "display_data"
    }
   ],
   "source": [
    "HES.forecast "
   ]
  },
  {
   "cell_type": "code",
   "execution_count": 36,
   "id": "4b68fd6d-d0df-4717-8a83-485cc16572c6",
   "metadata": {},
   "outputs": [
    {
     "data": {
      "text/html": [
       "108.584324593722"
      ],
      "text/latex": [
       "108.584324593722"
      ],
      "text/markdown": [
       "108.584324593722"
      ],
      "text/plain": [
       "[1] 108.5843"
      ]
     },
     "metadata": {},
     "output_type": "display_data"
    }
   ],
   "source": [
    "HES.forecast$SSE"
   ]
  },
  {
   "cell_type": "code",
   "execution_count": 37,
   "id": "e8fa3c36-af5b-4634-8b57-0de04e1e0d32",
   "metadata": {},
   "outputs": [
    {
     "data": {
      "text/html": [
       "1.34526530588903"
      ],
      "text/latex": [
       "1.34526530588903"
      ],
      "text/markdown": [
       "1.34526530588903"
      ],
      "text/plain": [
       "[1] 1.345265"
      ]
     },
     "metadata": {},
     "output_type": "display_data"
    }
   ],
   "source": [
    "(HES.forecast$SSE/length(ts.rainfall))^0.5"
   ]
  },
  {
   "cell_type": "code",
   "execution_count": 38,
   "id": "cd9a39ee-de3a-437a-acf5-b8c501f4422f",
   "metadata": {},
   "outputs": [
    {
     "data": {
      "image/png": "[encoded data removed]",
      "text/plain": [
       "Plot with title \"Holt-Winters filtering\""
      ]
     },
     "metadata": {
      "image/png": {
       "height": 480,
       "width": 720
      }
     },
     "output_type": "display_data"
    }
   ],
   "source": [
    "plot(HES.forecast)"
   ]
  },
  {
   "cell_type": "code",
   "execution_count": 40,
   "id": "1573099b-f792-4b9d-b8ce-0629a4a45030",
   "metadata": {},
   "outputs": [
    {
     "data": {
      "text/html": [
       "1.36111490977853"
      ],
      "text/latex": [
       "1.36111490977853"
      ],
      "text/markdown": [
       "1.36111490977853"
      ],
      "text/plain": [
       "[1] 1.361115"
      ]
     },
     "metadata": {},
     "output_type": "display_data"
    },
    {
     "data": {
      "text/html": [
       "4.30397876466826"
      ],
      "text/latex": [
       "4.30397876466826"
      ],
      "text/markdown": [
       "4.30397876466826"
      ],
      "text/plain": [
       "[1] 4.303979"
      ]
     },
     "metadata": {},
     "output_type": "display_data"
    }
   ],
   "source": [
    "sd(log(ts.rainfall))\n",
    "mean(log(ts.rainfall))"
   ]
  },
  {
   "cell_type": "code",
   "execution_count": 53,
   "id": "34d9f64f-473a-4949-8600-17d19a39549f",
   "metadata": {},
   "outputs": [
    {
     "data": {
      "text/plain": [
       "         Point Forecast      Lo 80     Hi 80      Lo 95     Hi 95\n",
       "Jan 2019       3.676853  1.9150629  5.438642  0.9824277  6.371277\n",
       "Feb 2019       3.507394  0.8190666  6.195721 -0.6040479  7.618836\n",
       "Mar 2019       3.337935 -0.5833061  7.259176 -2.6590857  9.334956\n",
       "Apr 2019       3.168476 -2.2082529  8.545206 -5.0545215 11.391474\n",
       "May 2019       2.999018 -4.0141548 10.012190 -7.7267041 13.724739"
      ]
     },
     "metadata": {},
     "output_type": "display_data"
    }
   ],
   "source": [
    "HES.forecast.new = forecast:::forecast.HoltWinters(HES.forecast, h=5)\n",
    "HES.forecast.new"
   ]
  },
  {
   "cell_type": "code",
   "execution_count": 54,
   "id": "995e76c9-19ef-4915-9a92-c58f4b7e0927",
   "metadata": {},
   "outputs": [
    {
     "data": {
      "image/png": "[encoded data removed]",
      "text/plain": [
       "Plot with title \"Forecasts from HoltWinters\""
      ]
     },
     "metadata": {
      "image/png": {
       "height": 480,
       "width": 720
      }
     },
     "output_type": "display_data"
    }
   ],
   "source": [
    "plot(HES.forecast.new)"
   ]
  },
  {
   "cell_type": "code",
   "execution_count": null,
   "id": "740d970a-a1d7-4164-a91a-cda568e1f7fc",
   "metadata": {},
   "outputs": [],
   "source": []
  },
  {
   "cell_type": "code",
   "execution_count": 43,
   "id": "5c70eb00-9ce3-4837-8d82-66bfd97b255f",
   "metadata": {},
   "outputs": [],
   "source": [
    "y = data.frame(HES.rainfall.new)"
   ]
  },
  {
   "cell_type": "code",
   "execution_count": 44,
   "id": "286b3d27-627b-4d7e-9c4f-f44cdfb11f24",
   "metadata": {},
   "outputs": [],
   "source": [
    "y$Forecast = exp(y$Point.Forecast)"
   ]
  },
  {
   "cell_type": "code",
   "execution_count": 45,
   "id": "e3d9ef61-299e-499a-a36e-2161130c6617",
   "metadata": {},
   "outputs": [
    {
     "data": {
      "text/html": [
       "<table class=\"dataframe\">\n",
       "<caption>A data.frame: 5 × 6</caption>\n",
       "<thead>\n",
       "\t<tr><th></th><th scope=col>Point.Forecast</th><th scope=col>Lo.80</th><th scope=col>Hi.80</th><th scope=col>Lo.95</th><th scope=col>Hi.95</th><th scope=col>Forecast</th></tr>\n",
       "\t<tr><th></th><th scope=col>&lt;dbl&gt;</th><th scope=col>&lt;dbl&gt;</th><th scope=col>&lt;dbl&gt;</th><th scope=col>&lt;dbl&gt;</th><th scope=col>&lt;dbl&gt;</th><th scope=col>&lt;dbl&gt;</th></tr>\n",
       "</thead>\n",
       "<tbody>\n",
       "\t<tr><th scope=row>Jan 2019</th><td>3.676853</td><td> 1.9150629</td><td> 5.438642</td><td> 0.9824277</td><td> 6.371277</td><td>39.52181</td></tr>\n",
       "\t<tr><th scope=row>Feb 2019</th><td>3.507394</td><td> 0.8190666</td><td> 6.195721</td><td>-0.6040479</td><td> 7.618836</td><td>33.36121</td></tr>\n",
       "\t<tr><th scope=row>Mar 2019</th><td>3.337935</td><td>-0.5833061</td><td> 7.259176</td><td>-2.6590857</td><td> 9.334956</td><td>28.16092</td></tr>\n",
       "\t<tr><th scope=row>Apr 2019</th><td>3.168476</td><td>-2.2082529</td><td> 8.545206</td><td>-5.0545215</td><td>11.391474</td><td>23.77124</td></tr>\n",
       "\t<tr><th scope=row>May 2019</th><td>2.999018</td><td>-4.0141548</td><td>10.012190</td><td>-7.7267041</td><td>13.724739</td><td>20.06582</td></tr>\n",
       "</tbody>\n",
       "</table>\n"
      ],
      "text/latex": [
       "A data.frame: 5 × 6\n",
       "\\begin{tabular}{r|llllll}\n",
       "  & Point.Forecast & Lo.80 & Hi.80 & Lo.95 & Hi.95 & Forecast\\\\\n",
       "  & <dbl> & <dbl> & <dbl> & <dbl> & <dbl> & <dbl>\\\\\n",
       "\\hline\n",
       "\tJan 2019 & 3.676853 &  1.9150629 &  5.438642 &  0.9824277 &  6.371277 & 39.52181\\\\\n",
       "\tFeb 2019 & 3.507394 &  0.8190666 &  6.195721 & -0.6040479 &  7.618836 & 33.36121\\\\\n",
       "\tMar 2019 & 3.337935 & -0.5833061 &  7.259176 & -2.6590857 &  9.334956 & 28.16092\\\\\n",
       "\tApr 2019 & 3.168476 & -2.2082529 &  8.545206 & -5.0545215 & 11.391474 & 23.77124\\\\\n",
       "\tMay 2019 & 2.999018 & -4.0141548 & 10.012190 & -7.7267041 & 13.724739 & 20.06582\\\\\n",
       "\\end{tabular}\n"
      ],
      "text/markdown": [
       "\n",
       "A data.frame: 5 × 6\n",
       "\n",
       "| <!--/--> | Point.Forecast &lt;dbl&gt; | Lo.80 &lt;dbl&gt; | Hi.80 &lt;dbl&gt; | Lo.95 &lt;dbl&gt; | Hi.95 &lt;dbl&gt; | Forecast &lt;dbl&gt; |\n",
       "|---|---|---|---|---|---|---|\n",
       "| Jan 2019 | 3.676853 |  1.9150629 |  5.438642 |  0.9824277 |  6.371277 | 39.52181 |\n",
       "| Feb 2019 | 3.507394 |  0.8190666 |  6.195721 | -0.6040479 |  7.618836 | 33.36121 |\n",
       "| Mar 2019 | 3.337935 | -0.5833061 |  7.259176 | -2.6590857 |  9.334956 | 28.16092 |\n",
       "| Apr 2019 | 3.168476 | -2.2082529 |  8.545206 | -5.0545215 | 11.391474 | 23.77124 |\n",
       "| May 2019 | 2.999018 | -4.0141548 | 10.012190 | -7.7267041 | 13.724739 | 20.06582 |\n",
       "\n"
      ],
      "text/plain": [
       "         Point.Forecast Lo.80      Hi.80     Lo.95      Hi.95     Forecast\n",
       "Jan 2019 3.676853        1.9150629  5.438642  0.9824277  6.371277 39.52181\n",
       "Feb 2019 3.507394        0.8190666  6.195721 -0.6040479  7.618836 33.36121\n",
       "Mar 2019 3.337935       -0.5833061  7.259176 -2.6590857  9.334956 28.16092\n",
       "Apr 2019 3.168476       -2.2082529  8.545206 -5.0545215 11.391474 23.77124\n",
       "May 2019 2.999018       -4.0141548 10.012190 -7.7267041 13.724739 20.06582"
      ]
     },
     "metadata": {},
     "output_type": "display_data"
    }
   ],
   "source": [
    "y"
   ]
  },
  {
   "cell_type": "code",
   "execution_count": null,
   "id": "ec9dd9ea-8cc4-4cfe-8256-1e15ea339b96",
   "metadata": {},
   "outputs": [],
   "source": []
  },
  {
   "cell_type": "code",
   "execution_count": 47,
   "id": "22d7b4f9-dced-4e0d-9773-a6c443f797c1",
   "metadata": {},
   "outputs": [],
   "source": [
    "HWES.forecast = HoltWinters(log(ts.rainfall))"
   ]
  },
  {
   "cell_type": "code",
   "execution_count": 48,
   "id": "b133d980-a20b-417a-b446-547eda29754a",
   "metadata": {},
   "outputs": [
    {
     "data": {
      "text/plain": [
       "Holt-Winters exponential smoothing with trend and additive seasonal component.\n",
       "\n",
       "Call:\n",
       "HoltWinters(x = log(ts.rainfall))\n",
       "\n",
       "Smoothing parameters:\n",
       " alpha: 0.008543883\n",
       " beta : 1\n",
       " gamma: 0.09435026\n",
       "\n",
       "Coefficients:\n",
       "           [,1]\n",
       "a    4.47766468\n",
       "b    0.02414736\n",
       "s1  -0.77223112\n",
       "s2  -1.71165645\n",
       "s3  -0.12523136\n",
       "s4  -0.87068073\n",
       "s5   0.34080168\n",
       "s6   1.12211650\n",
       "s7   1.54813501\n",
       "s8   1.43928012\n",
       "s9   1.13742642\n",
       "s10  0.45545767\n",
       "s11 -0.70032052\n",
       "s12 -1.39168999"
      ]
     },
     "metadata": {},
     "output_type": "display_data"
    }
   ],
   "source": [
    "HWES.forecast"
   ]
  },
  {
   "cell_type": "code",
   "execution_count": 63,
   "id": "06ef4fee-2771-484e-b90b-f2da36f45561",
   "metadata": {},
   "outputs": [
    {
     "data": {
      "text/html": [
       "28.131028583343"
      ],
      "text/latex": [
       "28.131028583343"
      ],
      "text/markdown": [
       "28.131028583343"
      ],
      "text/plain": [
       "[1] 28.13103"
      ]
     },
     "metadata": {},
     "output_type": "display_data"
    }
   ],
   "source": [
    "HWES.forecast$SSE"
   ]
  },
  {
   "cell_type": "code",
   "execution_count": 64,
   "id": "1392258d-678e-4b8e-8d77-0ce1b7475cb0",
   "metadata": {},
   "outputs": [
    {
     "data": {
      "text/html": [
       "0.68472657052947"
      ],
      "text/latex": [
       "0.68472657052947"
      ],
      "text/markdown": [
       "0.68472657052947"
      ],
      "text/plain": [
       "[1] 0.6847266"
      ]
     },
     "metadata": {},
     "output_type": "display_data"
    }
   ],
   "source": [
    "(HWES.forecast$SSE/length(ts.rainfall))^0.5"
   ]
  },
  {
   "cell_type": "code",
   "execution_count": 49,
   "id": "442d2bfe-4c22-41e7-b210-9ae323fec6f4",
   "metadata": {},
   "outputs": [
    {
     "data": {
      "image/png": "[encoded data removed]",
      "text/plain": [
       "Plot with title \"Holt-Winters filtering\""
      ]
     },
     "metadata": {
      "image/png": {
       "height": 480,
       "width": 720
      }
     },
     "output_type": "display_data"
    }
   ],
   "source": [
    "plot(HWES.forecast)"
   ]
  },
  {
   "cell_type": "code",
   "execution_count": 55,
   "id": "148d3699-9368-4750-bff3-be2b803d42a6",
   "metadata": {},
   "outputs": [
    {
     "data": {
      "text/plain": [
       "         Point Forecast    Lo 80    Hi 80    Lo 95    Hi 95\n",
       "Jan 2019       3.729581 2.747478 4.711684 2.227584 5.231578\n",
       "Feb 2019       2.814303 1.832057 3.796549 1.312087 4.316519\n",
       "Mar 2019       4.424875 3.442306 5.407444 2.922166 5.927585\n",
       "Apr 2019       3.703573 2.720431 4.686715 2.199987 5.207159\n",
       "May 2019       4.939203 3.955166 5.923240 3.434249 6.444158"
      ]
     },
     "metadata": {},
     "output_type": "display_data"
    }
   ],
   "source": [
    "HWES.forecast.new = forecast:::forecast.HoltWinters(HWES.forecast, h=5)\n",
    "HWES.forecast.new"
   ]
  },
  {
   "cell_type": "code",
   "execution_count": 56,
   "id": "573206ff-bf58-4194-a89f-f40e459ac4a3",
   "metadata": {},
   "outputs": [
    {
     "data": {
      "image/png": "[encoded data removed]",
      "text/plain": [
       "Plot with title \"Forecasts from HoltWinters\""
      ]
     },
     "metadata": {
      "image/png": {
       "height": 480,
       "width": 720
      }
     },
     "output_type": "display_data"
    }
   ],
   "source": [
    "plot(HWES.forecast.new)"
   ]
  },
  {
   "cell_type": "code",
   "execution_count": 58,
   "id": "6c23bd7b-8475-42de-9814-adb0fe9e002f",
   "metadata": {},
   "outputs": [],
   "source": [
    "x= data.frame(HWES.forecast.new)"
   ]
  },
  {
   "cell_type": "code",
   "execution_count": 59,
   "id": "1b2371d4-cbee-439d-9577-84692a99afc5",
   "metadata": {},
   "outputs": [
    {
     "data": {
      "text/html": [
       "<table class=\"dataframe\">\n",
       "<caption>A data.frame: 5 × 5</caption>\n",
       "<thead>\n",
       "\t<tr><th></th><th scope=col>Point.Forecast</th><th scope=col>Lo.80</th><th scope=col>Hi.80</th><th scope=col>Lo.95</th><th scope=col>Hi.95</th></tr>\n",
       "\t<tr><th></th><th scope=col>&lt;dbl&gt;</th><th scope=col>&lt;dbl&gt;</th><th scope=col>&lt;dbl&gt;</th><th scope=col>&lt;dbl&gt;</th><th scope=col>&lt;dbl&gt;</th></tr>\n",
       "</thead>\n",
       "<tbody>\n",
       "\t<tr><th scope=row>Jan 2019</th><td>3.729581</td><td>2.747478</td><td>4.711684</td><td>2.227584</td><td>5.231578</td></tr>\n",
       "\t<tr><th scope=row>Feb 2019</th><td>2.814303</td><td>1.832057</td><td>3.796549</td><td>1.312087</td><td>4.316519</td></tr>\n",
       "\t<tr><th scope=row>Mar 2019</th><td>4.424875</td><td>3.442306</td><td>5.407444</td><td>2.922166</td><td>5.927585</td></tr>\n",
       "\t<tr><th scope=row>Apr 2019</th><td>3.703573</td><td>2.720431</td><td>4.686715</td><td>2.199987</td><td>5.207159</td></tr>\n",
       "\t<tr><th scope=row>May 2019</th><td>4.939203</td><td>3.955166</td><td>5.923240</td><td>3.434249</td><td>6.444158</td></tr>\n",
       "</tbody>\n",
       "</table>\n"
      ],
      "text/latex": [
       "A data.frame: 5 × 5\n",
       "\\begin{tabular}{r|lllll}\n",
       "  & Point.Forecast & Lo.80 & Hi.80 & Lo.95 & Hi.95\\\\\n",
       "  & <dbl> & <dbl> & <dbl> & <dbl> & <dbl>\\\\\n",
       "\\hline\n",
       "\tJan 2019 & 3.729581 & 2.747478 & 4.711684 & 2.227584 & 5.231578\\\\\n",
       "\tFeb 2019 & 2.814303 & 1.832057 & 3.796549 & 1.312087 & 4.316519\\\\\n",
       "\tMar 2019 & 4.424875 & 3.442306 & 5.407444 & 2.922166 & 5.927585\\\\\n",
       "\tApr 2019 & 3.703573 & 2.720431 & 4.686715 & 2.199987 & 5.207159\\\\\n",
       "\tMay 2019 & 4.939203 & 3.955166 & 5.923240 & 3.434249 & 6.444158\\\\\n",
       "\\end{tabular}\n"
      ],
      "text/markdown": [
       "\n",
       "A data.frame: 5 × 5\n",
       "\n",
       "| <!--/--> | Point.Forecast &lt;dbl&gt; | Lo.80 &lt;dbl&gt; | Hi.80 &lt;dbl&gt; | Lo.95 &lt;dbl&gt; | Hi.95 &lt;dbl&gt; |\n",
       "|---|---|---|---|---|---|\n",
       "| Jan 2019 | 3.729581 | 2.747478 | 4.711684 | 2.227584 | 5.231578 |\n",
       "| Feb 2019 | 2.814303 | 1.832057 | 3.796549 | 1.312087 | 4.316519 |\n",
       "| Mar 2019 | 4.424875 | 3.442306 | 5.407444 | 2.922166 | 5.927585 |\n",
       "| Apr 2019 | 3.703573 | 2.720431 | 4.686715 | 2.199987 | 5.207159 |\n",
       "| May 2019 | 4.939203 | 3.955166 | 5.923240 | 3.434249 | 6.444158 |\n",
       "\n"
      ],
      "text/plain": [
       "         Point.Forecast Lo.80    Hi.80    Lo.95    Hi.95   \n",
       "Jan 2019 3.729581       2.747478 4.711684 2.227584 5.231578\n",
       "Feb 2019 2.814303       1.832057 3.796549 1.312087 4.316519\n",
       "Mar 2019 4.424875       3.442306 5.407444 2.922166 5.927585\n",
       "Apr 2019 3.703573       2.720431 4.686715 2.199987 5.207159\n",
       "May 2019 4.939203       3.955166 5.923240 3.434249 6.444158"
      ]
     },
     "metadata": {},
     "output_type": "display_data"
    }
   ],
   "source": [
    "x"
   ]
  },
  {
   "cell_type": "code",
   "execution_count": 61,
   "id": "3937e357-0b3b-4079-ad45-82f710ccc8b2",
   "metadata": {},
   "outputs": [],
   "source": [
    "x$Forecast = exp(x$Point.Forecast)"
   ]
  },
  {
   "cell_type": "code",
   "execution_count": 62,
   "id": "84fe2e17-529d-4fed-a3a1-ccd60adc72c9",
   "metadata": {},
   "outputs": [
    {
     "data": {
      "text/html": [
       "<table class=\"dataframe\">\n",
       "<caption>A data.frame: 5 × 6</caption>\n",
       "<thead>\n",
       "\t<tr><th></th><th scope=col>Point.Forecast</th><th scope=col>Lo.80</th><th scope=col>Hi.80</th><th scope=col>Lo.95</th><th scope=col>Hi.95</th><th scope=col>Forecast</th></tr>\n",
       "\t<tr><th></th><th scope=col>&lt;dbl&gt;</th><th scope=col>&lt;dbl&gt;</th><th scope=col>&lt;dbl&gt;</th><th scope=col>&lt;dbl&gt;</th><th scope=col>&lt;dbl&gt;</th><th scope=col>&lt;dbl&gt;</th></tr>\n",
       "</thead>\n",
       "<tbody>\n",
       "\t<tr><th scope=row>Jan 2019</th><td>3.729581</td><td>2.747478</td><td>4.711684</td><td>2.227584</td><td>5.231578</td><td> 41.66164</td></tr>\n",
       "\t<tr><th scope=row>Feb 2019</th><td>2.814303</td><td>1.832057</td><td>3.796549</td><td>1.312087</td><td>4.316519</td><td> 16.68154</td></tr>\n",
       "\t<tr><th scope=row>Mar 2019</th><td>4.424875</td><td>3.442306</td><td>5.407444</td><td>2.922166</td><td>5.927585</td><td> 83.50240</td></tr>\n",
       "\t<tr><th scope=row>Apr 2019</th><td>3.703573</td><td>2.720431</td><td>4.686715</td><td>2.199987</td><td>5.207159</td><td> 40.59210</td></tr>\n",
       "\t<tr><th scope=row>May 2019</th><td>4.939203</td><td>3.955166</td><td>5.923240</td><td>3.434249</td><td>6.444158</td><td>139.65892</td></tr>\n",
       "</tbody>\n",
       "</table>\n"
      ],
      "text/latex": [
       "A data.frame: 5 × 6\n",
       "\\begin{tabular}{r|llllll}\n",
       "  & Point.Forecast & Lo.80 & Hi.80 & Lo.95 & Hi.95 & Forecast\\\\\n",
       "  & <dbl> & <dbl> & <dbl> & <dbl> & <dbl> & <dbl>\\\\\n",
       "\\hline\n",
       "\tJan 2019 & 3.729581 & 2.747478 & 4.711684 & 2.227584 & 5.231578 &  41.66164\\\\\n",
       "\tFeb 2019 & 2.814303 & 1.832057 & 3.796549 & 1.312087 & 4.316519 &  16.68154\\\\\n",
       "\tMar 2019 & 4.424875 & 3.442306 & 5.407444 & 2.922166 & 5.927585 &  83.50240\\\\\n",
       "\tApr 2019 & 3.703573 & 2.720431 & 4.686715 & 2.199987 & 5.207159 &  40.59210\\\\\n",
       "\tMay 2019 & 4.939203 & 3.955166 & 5.923240 & 3.434249 & 6.444158 & 139.65892\\\\\n",
       "\\end{tabular}\n"
      ],
      "text/markdown": [
       "\n",
       "A data.frame: 5 × 6\n",
       "\n",
       "| <!--/--> | Point.Forecast &lt;dbl&gt; | Lo.80 &lt;dbl&gt; | Hi.80 &lt;dbl&gt; | Lo.95 &lt;dbl&gt; | Hi.95 &lt;dbl&gt; | Forecast &lt;dbl&gt; |\n",
       "|---|---|---|---|---|---|---|\n",
       "| Jan 2019 | 3.729581 | 2.747478 | 4.711684 | 2.227584 | 5.231578 |  41.66164 |\n",
       "| Feb 2019 | 2.814303 | 1.832057 | 3.796549 | 1.312087 | 4.316519 |  16.68154 |\n",
       "| Mar 2019 | 4.424875 | 3.442306 | 5.407444 | 2.922166 | 5.927585 |  83.50240 |\n",
       "| Apr 2019 | 3.703573 | 2.720431 | 4.686715 | 2.199987 | 5.207159 |  40.59210 |\n",
       "| May 2019 | 4.939203 | 3.955166 | 5.923240 | 3.434249 | 6.444158 | 139.65892 |\n",
       "\n"
      ],
      "text/plain": [
       "         Point.Forecast Lo.80    Hi.80    Lo.95    Hi.95    Forecast \n",
       "Jan 2019 3.729581       2.747478 4.711684 2.227584 5.231578  41.66164\n",
       "Feb 2019 2.814303       1.832057 3.796549 1.312087 4.316519  16.68154\n",
       "Mar 2019 4.424875       3.442306 5.407444 2.922166 5.927585  83.50240\n",
       "Apr 2019 3.703573       2.720431 4.686715 2.199987 5.207159  40.59210\n",
       "May 2019 4.939203       3.955166 5.923240 3.434249 6.444158 139.65892"
      ]
     },
     "metadata": {},
     "output_type": "display_data"
    }
   ],
   "source": [
    "x"
   ]
  }
 ],
 "metadata": {
  "kernelspec": {
   "display_name": "R",
   "language": "R",
   "name": "ir"
  },
  "language_info": {
   "codemirror_mode": "r",
   "file_extension": ".r",
   "mimetype": "text/x-r-source",
   "name": "R",
   "pygments_lexer": "r",
   "version": "4.3.1"
  }
 },
 "nbformat": 4,
 "nbformat_minor": 5
}
