{
 "cells": [
  {
   "cell_type": "code",
   "execution_count": 9,
   "id": "986c5d43-e707-4361-ac87-d1b484bedeca",
   "metadata": {},
   "outputs": [],
   "source": [
    "age = c(15,16,15,15,16,25,19,18,15,24,17,18,18,15)"
   ]
  },
  {
   "cell_type": "code",
   "execution_count": 2,
   "id": "22f5daa6-0e3e-46f4-a661-fbca384fce22",
   "metadata": {},
   "outputs": [
    {
     "data": {
      "text/html": [
       "17.5714285714286"
      ],
      "text/latex": [
       "17.5714285714286"
      ],
      "text/markdown": [
       "17.5714285714286"
      ],
      "text/plain": [
       "[1] 17.57143"
      ]
     },
     "metadata": {},
     "output_type": "display_data"
    }
   ],
   "source": [
    "mean(age)"
   ]
  },
  {
   "cell_type": "code",
   "execution_count": 17,
   "id": "31fa6f1a-a2a5-410e-b034-e088ed94e10b",
   "metadata": {},
   "outputs": [],
   "source": [
    "find_mode = function(x){\n",
    "    freq_table = table(x)\n",
    "    max_freq = max(freq_table)\n",
    "    mode_values = names(freq_table[freq_table == max_freq])\n",
    "    return(mode_values)\n",
    "}"
   ]
  },
  {
   "cell_type": "code",
   "execution_count": 18,
   "id": "41b01abf-79d1-4a31-9312-371d58595545",
   "metadata": {},
   "outputs": [
    {
     "name": "stdout",
     "output_type": "stream",
     "text": [
      "[1] 15\n"
     ]
    }
   ],
   "source": [
    "print(as.numeric(find_mode(age)))"
   ]
  },
  {
   "cell_type": "code",
   "execution_count": 3,
   "id": "14b3eb26-195c-4696-9fbb-7c27473d0232",
   "metadata": {},
   "outputs": [],
   "source": [
    "ptp = range(age)"
   ]
  },
  {
   "cell_type": "code",
   "execution_count": 4,
   "id": "551a403b-3ab4-4a74-b5e0-447d2de7c0f9",
   "metadata": {},
   "outputs": [
    {
     "data": {
      "text/html": [
       "<style>\n",
       ".list-inline {list-style: none; margin:0; padding: 0}\n",
       ".list-inline>li {display: inline-block}\n",
       ".list-inline>li:not(:last-child)::after {content: \"\\00b7\"; padding: 0 .5ex}\n",
       "</style>\n",
       "<ol class=list-inline><li>15</li><li>25</li></ol>\n"
      ],
      "text/latex": [
       "\\begin{enumerate*}\n",
       "\\item 15\n",
       "\\item 25\n",
       "\\end{enumerate*}\n"
      ],
      "text/markdown": [
       "1. 15\n",
       "2. 25\n",
       "\n",
       "\n"
      ],
      "text/plain": [
       "[1] 15 25"
      ]
     },
     "metadata": {},
     "output_type": "display_data"
    }
   ],
   "source": [
    "ptp"
   ]
  },
  {
   "cell_type": "code",
   "execution_count": 5,
   "id": "f895d971-b2a3-4608-9d42-55ffebf4e320",
   "metadata": {},
   "outputs": [
    {
     "data": {
      "text/html": [
       "10"
      ],
      "text/latex": [
       "10"
      ],
      "text/markdown": [
       "10"
      ],
      "text/plain": [
       "[1] 10"
      ]
     },
     "metadata": {},
     "output_type": "display_data"
    }
   ],
   "source": [
    "ptp.value = ptp[2] - ptp[1]\n",
    "ptp.value"
   ]
  },
  {
   "cell_type": "code",
   "execution_count": 14,
   "id": "78789db7-5d04-456e-8624-91bdce281e13",
   "metadata": {},
   "outputs": [
    {
     "data": {
      "text/html": [
       "<style>\n",
       ".dl-inline {width: auto; margin:0; padding: 0}\n",
       ".dl-inline>dt, .dl-inline>dd {float: none; width: auto; display: inline-block}\n",
       ".dl-inline>dt::after {content: \":\\0020\"; padding-right: .5ex}\n",
       ".dl-inline>dt:not(:first-of-type) {padding-left: .5ex}\n",
       "</style><dl class=dl-inline><dt>35%</dt><dd>15.55</dd><dt>50%</dt><dd>16.5</dd><dt>98%</dt><dd>24.74</dd></dl>\n"
      ],
      "text/latex": [
       "\\begin{description*}\n",
       "\\item[35\\textbackslash{}\\%] 15.55\n",
       "\\item[50\\textbackslash{}\\%] 16.5\n",
       "\\item[98\\textbackslash{}\\%] 24.74\n",
       "\\end{description*}\n"
      ],
      "text/markdown": [
       "35%\n",
       ":   15.5550%\n",
       ":   16.598%\n",
       ":   24.74\n",
       "\n"
      ],
      "text/plain": [
       "  35%   50%   98% \n",
       "15.55 16.50 24.74 "
      ]
     },
     "metadata": {},
     "output_type": "display_data"
    }
   ],
   "source": [
    "quantile(age, c(0.35,0.5,0.98))"
   ]
  },
  {
   "cell_type": "code",
   "execution_count": 19,
   "id": "dc4f1a69-f2ef-4799-adbd-22d6e3bc9d4c",
   "metadata": {},
   "outputs": [
    {
     "data": {
      "text/html": [
       "<style>\n",
       ".dl-inline {width: auto; margin:0; padding: 0}\n",
       ".dl-inline>dt, .dl-inline>dd {float: none; width: auto; display: inline-block}\n",
       ".dl-inline>dt::after {content: \":\\0020\"; padding-right: .5ex}\n",
       ".dl-inline>dt:not(:first-of-type) {padding-left: .5ex}\n",
       "</style><dl class=dl-inline><dt>0%</dt><dd>15</dd><dt>25%</dt><dd>15</dd><dt>50%</dt><dd>16.5</dd><dt>75%</dt><dd>18</dd><dt>100%</dt><dd>25</dd></dl>\n"
      ],
      "text/latex": [
       "\\begin{description*}\n",
       "\\item[0\\textbackslash{}\\%] 15\n",
       "\\item[25\\textbackslash{}\\%] 15\n",
       "\\item[50\\textbackslash{}\\%] 16.5\n",
       "\\item[75\\textbackslash{}\\%] 18\n",
       "\\item[100\\textbackslash{}\\%] 25\n",
       "\\end{description*}\n"
      ],
      "text/markdown": [
       "0%\n",
       ":   1525%\n",
       ":   1550%\n",
       ":   16.575%\n",
       ":   18100%\n",
       ":   25\n",
       "\n"
      ],
      "text/plain": [
       "  0%  25%  50%  75% 100% \n",
       "15.0 15.0 16.5 18.0 25.0 "
      ]
     },
     "metadata": {},
     "output_type": "display_data"
    }
   ],
   "source": [
    "quantile(age)"
   ]
  },
  {
   "cell_type": "code",
   "execution_count": 20,
   "id": "fa669e37-0343-4be1-bd78-d738c7db175a",
   "metadata": {},
   "outputs": [
    {
     "data": {
      "text/html": [
       "3"
      ],
      "text/latex": [
       "3"
      ],
      "text/markdown": [
       "3"
      ],
      "text/plain": [
       "[1] 3"
      ]
     },
     "metadata": {},
     "output_type": "display_data"
    }
   ],
   "source": [
    "IQR(age)"
   ]
  },
  {
   "cell_type": "code",
   "execution_count": 22,
   "id": "506fb868-dee4-46f9-a833-2d4f7f9f0211",
   "metadata": {},
   "outputs": [
    {
     "data": {
      "text/html": [
       "10.5714285714286"
      ],
      "text/latex": [
       "10.5714285714286"
      ],
      "text/markdown": [
       "10.5714285714286"
      ],
      "text/plain": [
       "[1] 10.57143"
      ]
     },
     "metadata": {},
     "output_type": "display_data"
    }
   ],
   "source": [
    "var(age)"
   ]
  },
  {
   "cell_type": "code",
   "execution_count": 23,
   "id": "8a262fe4-16ad-4335-af5d-bfb48559d7f7",
   "metadata": {},
   "outputs": [
    {
     "data": {
      "text/html": [
       "3.25137333621173"
      ],
      "text/latex": [
       "3.25137333621173"
      ],
      "text/markdown": [
       "3.25137333621173"
      ],
      "text/plain": [
       "[1] 3.251373"
      ]
     },
     "metadata": {},
     "output_type": "display_data"
    }
   ],
   "source": [
    "sd(age)"
   ]
  },
  {
   "cell_type": "code",
   "execution_count": 24,
   "id": "39625759-68c8-4a5b-b067-533ddba08175",
   "metadata": {},
   "outputs": [
    {
     "name": "stderr",
     "output_type": "stream",
     "text": [
      "Installing package into 'C:/Users/phamp/AppData/Local/R/win-library/4.3'\n",
      "(as 'lib' is unspecified)\n",
      "\n"
     ]
    },
    {
     "name": "stdout",
     "output_type": "stream",
     "text": [
      "package 'moments' successfully unpacked and MD5 sums checked\n",
      "\n",
      "The downloaded binary packages are in\n",
      "\tC:\\Users\\phamp\\AppData\\Local\\Temp\\Rtmp2R3ggv\\downloaded_packages\n"
     ]
    }
   ],
   "source": [
    "install.packages('moments')"
   ]
  },
  {
   "cell_type": "code",
   "execution_count": 25,
   "id": "21f2e9c6-ac8f-4ac9-aa8c-9de9a6196598",
   "metadata": {},
   "outputs": [],
   "source": [
    "library('moments')"
   ]
  },
  {
   "cell_type": "code",
   "execution_count": 26,
   "id": "bae6ef8c-4017-4a93-a22b-1346fd3da74a",
   "metadata": {},
   "outputs": [
    {
     "data": {
      "text/html": [
       "1.36048829961259"
      ],
      "text/latex": [
       "1.36048829961259"
      ],
      "text/markdown": [
       "1.36048829961259"
      ],
      "text/plain": [
       "[1] 1.360488"
      ]
     },
     "metadata": {},
     "output_type": "display_data"
    }
   ],
   "source": [
    "skewness(age)"
   ]
  },
  {
   "cell_type": "code",
   "execution_count": 27,
   "id": "8f6e0613-8d61-4626-ac4e-3eee9aaf75b7",
   "metadata": {},
   "outputs": [
    {
     "data": {
      "text/html": [
       "3.69765431511793"
      ],
      "text/latex": [
       "3.69765431511793"
      ],
      "text/markdown": [
       "3.69765431511793"
      ],
      "text/plain": [
       "[1] 3.697654"
      ]
     },
     "metadata": {},
     "output_type": "display_data"
    }
   ],
   "source": [
    "kurtosis(age)"
   ]
  },
  {
   "cell_type": "code",
   "execution_count": 31,
   "id": "340fb98e-285b-4111-9cae-062e82f328d0",
   "metadata": {},
   "outputs": [],
   "source": [
    "years <- c(7,28,23,18,19,15,24,13,2,8,20,21,18,7,2)\n",
    "salary <- c(26075,79370,65726,41983,62308,41154,53610,33697,\n",
    "            22444,32562,43076,56000,58667,22210,20521)"
   ]
  },
  {
   "cell_type": "code",
   "execution_count": 32,
   "id": "61f9e4b6-4cb5-43f0-9e52-923aac22b9c0",
   "metadata": {},
   "outputs": [
    {
     "data": {
      "text/html": [
       "135894.071428571"
      ],
      "text/latex": [
       "135894.071428571"
      ],
      "text/markdown": [
       "135894.071428571"
      ],
      "text/plain": [
       "[1] 135894.1"
      ]
     },
     "metadata": {},
     "output_type": "display_data"
    }
   ],
   "source": [
    "cov(years, salary)"
   ]
  },
  {
   "cell_type": "code",
   "execution_count": 33,
   "id": "cc1c9902-8b3e-4b98-afc4-260f41d9aac3",
   "metadata": {},
   "outputs": [
    {
     "data": {
      "text/html": [
       "0.923665165962887"
      ],
      "text/latex": [
       "0.923665165962887"
      ],
      "text/markdown": [
       "0.923665165962887"
      ],
      "text/plain": [
       "[1] 0.9236652"
      ]
     },
     "metadata": {},
     "output_type": "display_data"
    }
   ],
   "source": [
    "cor(years, salary)"
   ]
  }
 ],
 "metadata": {
  "kernelspec": {
   "display_name": "R",
   "language": "R",
   "name": "ir"
  },
  "language_info": {
   "codemirror_mode": "r",
   "file_extension": ".r",
   "mimetype": "text/x-r-source",
   "name": "R",
   "pygments_lexer": "r",
   "version": "4.3.1"
  }
 },
 "nbformat": 4,
 "nbformat_minor": 5
}
