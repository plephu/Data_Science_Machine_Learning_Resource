{
 "cells": [
  {
   "cell_type": "code",
   "execution_count": 15,
   "id": "5360be2b-e196-4da0-ac55-641ca5fc5ecf",
   "metadata": {},
   "outputs": [],
   "source": [
    "# 1. Đọc dữ liệu cubic_zirconia.csv và đưa vào dataframe zirconia. Xem thông tin dữ liệu với head(), tail(), str(), summary()"
   ]
  },
  {
   "cell_type": "code",
   "execution_count": 16,
   "id": "36e3d7a6-4846-4147-ba6a-db5bba4ad9f2",
   "metadata": {},
   "outputs": [
    {
     "data": {
      "text/html": [
       "<table class=\"dataframe\">\n",
       "<caption>A data.frame: 6 × 11</caption>\n",
       "<thead>\n",
       "\t<tr><th></th><th scope=col>X</th><th scope=col>carat</th><th scope=col>cut</th><th scope=col>color</th><th scope=col>clarity</th><th scope=col>depth</th><th scope=col>table</th><th scope=col>x</th><th scope=col>y</th><th scope=col>z</th><th scope=col>price</th></tr>\n",
       "\t<tr><th></th><th scope=col>&lt;int&gt;</th><th scope=col>&lt;dbl&gt;</th><th scope=col>&lt;chr&gt;</th><th scope=col>&lt;chr&gt;</th><th scope=col>&lt;chr&gt;</th><th scope=col>&lt;dbl&gt;</th><th scope=col>&lt;dbl&gt;</th><th scope=col>&lt;dbl&gt;</th><th scope=col>&lt;dbl&gt;</th><th scope=col>&lt;dbl&gt;</th><th scope=col>&lt;int&gt;</th></tr>\n",
       "</thead>\n",
       "<tbody>\n",
       "\t<tr><th scope=row>1</th><td>1</td><td>0.30</td><td>Ideal    </td><td>E</td><td>SI1 </td><td>62.1</td><td>58</td><td>4.27</td><td>4.29</td><td>2.66</td><td> 499</td></tr>\n",
       "\t<tr><th scope=row>2</th><td>2</td><td>0.33</td><td>Premium  </td><td>G</td><td>IF  </td><td>60.8</td><td>58</td><td>4.42</td><td>4.46</td><td>2.70</td><td> 984</td></tr>\n",
       "\t<tr><th scope=row>3</th><td>3</td><td>0.90</td><td>Very Good</td><td>E</td><td>VVS2</td><td>62.2</td><td>60</td><td>6.04</td><td>6.12</td><td>3.78</td><td>6289</td></tr>\n",
       "\t<tr><th scope=row>4</th><td>4</td><td>0.42</td><td>Ideal    </td><td>F</td><td>VS1 </td><td>61.6</td><td>56</td><td>4.82</td><td>4.80</td><td>2.96</td><td>1082</td></tr>\n",
       "\t<tr><th scope=row>5</th><td>5</td><td>0.31</td><td>Ideal    </td><td>F</td><td>VVS1</td><td>60.4</td><td>59</td><td>4.35</td><td>4.43</td><td>2.65</td><td> 779</td></tr>\n",
       "\t<tr><th scope=row>6</th><td>6</td><td>1.02</td><td>Ideal    </td><td>D</td><td>VS2 </td><td>61.5</td><td>56</td><td>6.46</td><td>6.49</td><td>3.99</td><td>9502</td></tr>\n",
       "</tbody>\n",
       "</table>\n"
      ],
      "text/latex": [
       "A data.frame: 6 × 11\n",
       "\\begin{tabular}{r|lllllllllll}\n",
       "  & X & carat & cut & color & clarity & depth & table & x & y & z & price\\\\\n",
       "  & <int> & <dbl> & <chr> & <chr> & <chr> & <dbl> & <dbl> & <dbl> & <dbl> & <dbl> & <int>\\\\\n",
       "\\hline\n",
       "\t1 & 1 & 0.30 & Ideal     & E & SI1  & 62.1 & 58 & 4.27 & 4.29 & 2.66 &  499\\\\\n",
       "\t2 & 2 & 0.33 & Premium   & G & IF   & 60.8 & 58 & 4.42 & 4.46 & 2.70 &  984\\\\\n",
       "\t3 & 3 & 0.90 & Very Good & E & VVS2 & 62.2 & 60 & 6.04 & 6.12 & 3.78 & 6289\\\\\n",
       "\t4 & 4 & 0.42 & Ideal     & F & VS1  & 61.6 & 56 & 4.82 & 4.80 & 2.96 & 1082\\\\\n",
       "\t5 & 5 & 0.31 & Ideal     & F & VVS1 & 60.4 & 59 & 4.35 & 4.43 & 2.65 &  779\\\\\n",
       "\t6 & 6 & 1.02 & Ideal     & D & VS2  & 61.5 & 56 & 6.46 & 6.49 & 3.99 & 9502\\\\\n",
       "\\end{tabular}\n"
      ],
      "text/markdown": [
       "\n",
       "A data.frame: 6 × 11\n",
       "\n",
       "| <!--/--> | X &lt;int&gt; | carat &lt;dbl&gt; | cut &lt;chr&gt; | color &lt;chr&gt; | clarity &lt;chr&gt; | depth &lt;dbl&gt; | table &lt;dbl&gt; | x &lt;dbl&gt; | y &lt;dbl&gt; | z &lt;dbl&gt; | price &lt;int&gt; |\n",
       "|---|---|---|---|---|---|---|---|---|---|---|---|\n",
       "| 1 | 1 | 0.30 | Ideal     | E | SI1  | 62.1 | 58 | 4.27 | 4.29 | 2.66 |  499 |\n",
       "| 2 | 2 | 0.33 | Premium   | G | IF   | 60.8 | 58 | 4.42 | 4.46 | 2.70 |  984 |\n",
       "| 3 | 3 | 0.90 | Very Good | E | VVS2 | 62.2 | 60 | 6.04 | 6.12 | 3.78 | 6289 |\n",
       "| 4 | 4 | 0.42 | Ideal     | F | VS1  | 61.6 | 56 | 4.82 | 4.80 | 2.96 | 1082 |\n",
       "| 5 | 5 | 0.31 | Ideal     | F | VVS1 | 60.4 | 59 | 4.35 | 4.43 | 2.65 |  779 |\n",
       "| 6 | 6 | 1.02 | Ideal     | D | VS2  | 61.5 | 56 | 6.46 | 6.49 | 3.99 | 9502 |\n",
       "\n"
      ],
      "text/plain": [
       "  X carat cut       color clarity depth table x    y    z    price\n",
       "1 1 0.30  Ideal     E     SI1     62.1  58    4.27 4.29 2.66  499 \n",
       "2 2 0.33  Premium   G     IF      60.8  58    4.42 4.46 2.70  984 \n",
       "3 3 0.90  Very Good E     VVS2    62.2  60    6.04 6.12 3.78 6289 \n",
       "4 4 0.42  Ideal     F     VS1     61.6  56    4.82 4.80 2.96 1082 \n",
       "5 5 0.31  Ideal     F     VVS1    60.4  59    4.35 4.43 2.65  779 \n",
       "6 6 1.02  Ideal     D     VS2     61.5  56    6.46 6.49 3.99 9502 "
      ]
     },
     "metadata": {},
     "output_type": "display_data"
    },
    {
     "data": {
      "text/html": [
       "<table class=\"dataframe\">\n",
       "<caption>A data.frame: 6 × 11</caption>\n",
       "<thead>\n",
       "\t<tr><th></th><th scope=col>X</th><th scope=col>carat</th><th scope=col>cut</th><th scope=col>color</th><th scope=col>clarity</th><th scope=col>depth</th><th scope=col>table</th><th scope=col>x</th><th scope=col>y</th><th scope=col>z</th><th scope=col>price</th></tr>\n",
       "\t<tr><th></th><th scope=col>&lt;int&gt;</th><th scope=col>&lt;dbl&gt;</th><th scope=col>&lt;chr&gt;</th><th scope=col>&lt;chr&gt;</th><th scope=col>&lt;chr&gt;</th><th scope=col>&lt;dbl&gt;</th><th scope=col>&lt;dbl&gt;</th><th scope=col>&lt;dbl&gt;</th><th scope=col>&lt;dbl&gt;</th><th scope=col>&lt;dbl&gt;</th><th scope=col>&lt;int&gt;</th></tr>\n",
       "</thead>\n",
       "<tbody>\n",
       "\t<tr><th scope=row>26962</th><td>26962</td><td>0.25</td><td>Premium  </td><td>F</td><td>VVS2</td><td>62.0</td><td>59</td><td>4.04</td><td>3.99</td><td>2.49</td><td> 740</td></tr>\n",
       "\t<tr><th scope=row>26963</th><td>26963</td><td>1.11</td><td>Premium  </td><td>G</td><td>SI1 </td><td>62.3</td><td>58</td><td>6.61</td><td>6.52</td><td>4.09</td><td>5408</td></tr>\n",
       "\t<tr><th scope=row>26964</th><td>26964</td><td>0.33</td><td>Ideal    </td><td>H</td><td>IF  </td><td>61.9</td><td>55</td><td>4.44</td><td>4.42</td><td>2.74</td><td>1114</td></tr>\n",
       "\t<tr><th scope=row>26965</th><td>26965</td><td>0.51</td><td>Premium  </td><td>E</td><td>VS2 </td><td>61.7</td><td>58</td><td>5.12</td><td>5.15</td><td>3.17</td><td>1656</td></tr>\n",
       "\t<tr><th scope=row>26966</th><td>26966</td><td>0.27</td><td>Very Good</td><td>F</td><td>VVS2</td><td>61.8</td><td>56</td><td>4.19</td><td>4.20</td><td>2.60</td><td> 682</td></tr>\n",
       "\t<tr><th scope=row>26967</th><td>26967</td><td>1.25</td><td>Premium  </td><td>J</td><td>SI1 </td><td>62.0</td><td>58</td><td>6.90</td><td>6.88</td><td>4.27</td><td>5166</td></tr>\n",
       "</tbody>\n",
       "</table>\n"
      ],
      "text/latex": [
       "A data.frame: 6 × 11\n",
       "\\begin{tabular}{r|lllllllllll}\n",
       "  & X & carat & cut & color & clarity & depth & table & x & y & z & price\\\\\n",
       "  & <int> & <dbl> & <chr> & <chr> & <chr> & <dbl> & <dbl> & <dbl> & <dbl> & <dbl> & <int>\\\\\n",
       "\\hline\n",
       "\t26962 & 26962 & 0.25 & Premium   & F & VVS2 & 62.0 & 59 & 4.04 & 3.99 & 2.49 &  740\\\\\n",
       "\t26963 & 26963 & 1.11 & Premium   & G & SI1  & 62.3 & 58 & 6.61 & 6.52 & 4.09 & 5408\\\\\n",
       "\t26964 & 26964 & 0.33 & Ideal     & H & IF   & 61.9 & 55 & 4.44 & 4.42 & 2.74 & 1114\\\\\n",
       "\t26965 & 26965 & 0.51 & Premium   & E & VS2  & 61.7 & 58 & 5.12 & 5.15 & 3.17 & 1656\\\\\n",
       "\t26966 & 26966 & 0.27 & Very Good & F & VVS2 & 61.8 & 56 & 4.19 & 4.20 & 2.60 &  682\\\\\n",
       "\t26967 & 26967 & 1.25 & Premium   & J & SI1  & 62.0 & 58 & 6.90 & 6.88 & 4.27 & 5166\\\\\n",
       "\\end{tabular}\n"
      ],
      "text/markdown": [
       "\n",
       "A data.frame: 6 × 11\n",
       "\n",
       "| <!--/--> | X &lt;int&gt; | carat &lt;dbl&gt; | cut &lt;chr&gt; | color &lt;chr&gt; | clarity &lt;chr&gt; | depth &lt;dbl&gt; | table &lt;dbl&gt; | x &lt;dbl&gt; | y &lt;dbl&gt; | z &lt;dbl&gt; | price &lt;int&gt; |\n",
       "|---|---|---|---|---|---|---|---|---|---|---|---|\n",
       "| 26962 | 26962 | 0.25 | Premium   | F | VVS2 | 62.0 | 59 | 4.04 | 3.99 | 2.49 |  740 |\n",
       "| 26963 | 26963 | 1.11 | Premium   | G | SI1  | 62.3 | 58 | 6.61 | 6.52 | 4.09 | 5408 |\n",
       "| 26964 | 26964 | 0.33 | Ideal     | H | IF   | 61.9 | 55 | 4.44 | 4.42 | 2.74 | 1114 |\n",
       "| 26965 | 26965 | 0.51 | Premium   | E | VS2  | 61.7 | 58 | 5.12 | 5.15 | 3.17 | 1656 |\n",
       "| 26966 | 26966 | 0.27 | Very Good | F | VVS2 | 61.8 | 56 | 4.19 | 4.20 | 2.60 |  682 |\n",
       "| 26967 | 26967 | 1.25 | Premium   | J | SI1  | 62.0 | 58 | 6.90 | 6.88 | 4.27 | 5166 |\n",
       "\n"
      ],
      "text/plain": [
       "      X     carat cut       color clarity depth table x    y    z    price\n",
       "26962 26962 0.25  Premium   F     VVS2    62.0  59    4.04 3.99 2.49  740 \n",
       "26963 26963 1.11  Premium   G     SI1     62.3  58    6.61 6.52 4.09 5408 \n",
       "26964 26964 0.33  Ideal     H     IF      61.9  55    4.44 4.42 2.74 1114 \n",
       "26965 26965 0.51  Premium   E     VS2     61.7  58    5.12 5.15 3.17 1656 \n",
       "26966 26966 0.27  Very Good F     VVS2    61.8  56    4.19 4.20 2.60  682 \n",
       "26967 26967 1.25  Premium   J     SI1     62.0  58    6.90 6.88 4.27 5166 "
      ]
     },
     "metadata": {},
     "output_type": "display_data"
    },
    {
     "name": "stdout",
     "output_type": "stream",
     "text": [
      "'data.frame':\t26967 obs. of  11 variables:\n",
      " $ X      : int  1 2 3 4 5 6 7 8 9 10 ...\n",
      " $ carat  : num  0.3 0.33 0.9 0.42 0.31 1.02 1.01 0.5 1.21 0.35 ...\n",
      " $ cut    : chr  \"Ideal\" \"Premium\" \"Very Good\" \"Ideal\" ...\n",
      " $ color  : chr  \"E\" \"G\" \"E\" \"F\" ...\n",
      " $ clarity: chr  \"SI1\" \"IF\" \"VVS2\" \"VS1\" ...\n",
      " $ depth  : num  62.1 60.8 62.2 61.6 60.4 61.5 63.7 61.5 63.8 60.5 ...\n",
      " $ table  : num  58 58 60 56 59 56 60 62 64 57 ...\n",
      " $ x      : num  4.27 4.42 6.04 4.82 4.35 6.46 6.35 5.09 6.72 4.52 ...\n",
      " $ y      : num  4.29 4.46 6.12 4.8 4.43 6.49 6.3 5.06 6.63 4.6 ...\n",
      " $ z      : num  2.66 2.7 3.78 2.96 2.65 3.99 4.03 3.12 4.26 2.76 ...\n",
      " $ price  : int  499 984 6289 1082 779 9502 4836 1415 5407 706 ...\n"
     ]
    },
    {
     "data": {
      "text/plain": [
       "       X             carat            cut               color          \n",
       " Min.   :    1   Min.   :0.2000   Length:26967       Length:26967      \n",
       " 1st Qu.: 6742   1st Qu.:0.4000   Class :character   Class :character  \n",
       " Median :13484   Median :0.7000   Mode  :character   Mode  :character  \n",
       " Mean   :13484   Mean   :0.7984                                        \n",
       " 3rd Qu.:20226   3rd Qu.:1.0500                                        \n",
       " Max.   :26967   Max.   :4.5000                                        \n",
       "                                                                       \n",
       "   clarity              depth           table             x        \n",
       " Length:26967       Min.   :50.80   Min.   :49.00   Min.   : 0.00  \n",
       " Class :character   1st Qu.:61.00   1st Qu.:56.00   1st Qu.: 4.71  \n",
       " Mode  :character   Median :61.80   Median :57.00   Median : 5.69  \n",
       "                    Mean   :61.75   Mean   :57.46   Mean   : 5.73  \n",
       "                    3rd Qu.:62.50   3rd Qu.:59.00   3rd Qu.: 6.55  \n",
       "                    Max.   :73.60   Max.   :79.00   Max.   :10.23  \n",
       "                    NA's   :697                                    \n",
       "       y                z              price      \n",
       " Min.   : 0.000   Min.   : 0.000   Min.   :  326  \n",
       " 1st Qu.: 4.710   1st Qu.: 2.900   1st Qu.:  945  \n",
       " Median : 5.710   Median : 3.520   Median : 2375  \n",
       " Mean   : 5.734   Mean   : 3.538   Mean   : 3940  \n",
       " 3rd Qu.: 6.540   3rd Qu.: 4.040   3rd Qu.: 5360  \n",
       " Max.   :58.900   Max.   :31.800   Max.   :18818  \n",
       "                                                  "
      ]
     },
     "metadata": {},
     "output_type": "display_data"
    }
   ],
   "source": [
    "zirconia <- read.csv(\"cubic_zirconia.csv\")\n",
    "\n",
    "head(zirconia)   \n",
    "tail(zirconia)  \n",
    "str(zirconia)  \n",
    "summary(zirconia)"
   ]
  },
  {
   "cell_type": "code",
   "execution_count": 17,
   "id": "9ecb1315-803f-40ee-847b-3bc4086ef4a1",
   "metadata": {},
   "outputs": [],
   "source": [
    "# 2. Tạo zirconia_sub từ zirconia chỉ chứa các cột: 'carat', 'cut', 'color', 'clarity', 'depth', 'table', 'price'. Cho biết dữ liệu có bao nhiêu dòng, cột?"
   ]
  },
  {
   "cell_type": "code",
   "execution_count": 18,
   "id": "75ca636a-bb46-4a74-89a4-61f45849fe85",
   "metadata": {},
   "outputs": [],
   "source": [
    "zirconia_sub <- subset(zirconia, select = c('carat', 'cut', 'color', 'clarity', 'depth', 'table', 'price'))"
   ]
  },
  {
   "cell_type": "code",
   "execution_count": 19,
   "id": "475c20bf-cd63-44bc-8cb0-73e4a97bc2ca",
   "metadata": {},
   "outputs": [
    {
     "name": "stdout",
     "output_type": "stream",
     "text": [
      "[1] \"Số dòng: 26967\"\n",
      "[1] \"Số cột: 7\"\n"
     ]
    }
   ],
   "source": [
    "print(paste(\"Số dòng:\", nrow(zirconia_sub)))\n",
    "print(paste(\"Số cột:\", ncol(zirconia_sub)))"
   ]
  },
  {
   "cell_type": "code",
   "execution_count": null,
   "id": "a5728836-070a-4050-a3e0-a8994e94364d",
   "metadata": {},
   "outputs": [],
   "source": [
    "# 3. Trong zirconia_sub dữ liệu thiếu/ null không? Có dữ liệu trùng không ? Nếu có, hãy\n",
    "# xóa bỏ tất cả các dòng có chứa dữ liệu thiếu, dữ liệu trùng. Cho biết dữ liệu lúc này \n",
    "# còn bao nhiêu dòng? In thống kê chung"
   ]
  },
  {
   "cell_type": "code",
   "execution_count": 20,
   "id": "4ae5ec4f-d0b4-4d07-8d24-40d5133bccad",
   "metadata": {},
   "outputs": [
    {
     "data": {
      "text/html": [
       "TRUE"
      ],
      "text/latex": [
       "TRUE"
      ],
      "text/markdown": [
       "TRUE"
      ],
      "text/plain": [
       "[1] TRUE"
      ]
     },
     "metadata": {},
     "output_type": "display_data"
    }
   ],
   "source": [
    "any(is.na(zirconia_sub))"
   ]
  },
  {
   "cell_type": "code",
   "execution_count": 21,
   "id": "65dbca57-84f8-4fe7-b3fe-03887f751127",
   "metadata": {},
   "outputs": [
    {
     "data": {
      "text/html": [
       "TRUE"
      ],
      "text/latex": [
       "TRUE"
      ],
      "text/markdown": [
       "TRUE"
      ],
      "text/plain": [
       "[1] TRUE"
      ]
     },
     "metadata": {},
     "output_type": "display_data"
    }
   ],
   "source": [
    "any(duplicated(zirconia_sub))"
   ]
  },
  {
   "cell_type": "code",
   "execution_count": 22,
   "id": "02f57c7c-9674-4803-83d8-b1225a83e925",
   "metadata": {},
   "outputs": [],
   "source": [
    "zirconia_sub <- zirconia_sub[complete.cases(zirconia_sub) & !duplicated(zirconia_sub), ]"
   ]
  },
  {
   "cell_type": "code",
   "execution_count": 26,
   "id": "34484c83-fb8d-4d20-829c-5929fd5ff6ba",
   "metadata": {},
   "outputs": [
    {
     "name": "stdout",
     "output_type": "stream",
     "text": [
      "[1] \"Số dòng zirconia_sub: 26088\"\n",
      "[1] \"Số cột zirconia_sub: 7\"\n"
     ]
    }
   ],
   "source": [
    "print(paste(\"Số dòng zirconia_sub:\", nrow(zirconia_sub)))\n",
    "print(paste(\"Số cột zirconia_sub:\", ncol(zirconia_sub)))"
   ]
  },
  {
   "cell_type": "code",
   "execution_count": 25,
   "id": "1745c0d1-6aae-43bb-a2e5-2f3c925aec41",
   "metadata": {},
   "outputs": [
    {
     "data": {
      "text/plain": [
       "     carat            cut               color             clarity         \n",
       " Min.   :0.2000   Length:26088       Length:26088       Length:26088      \n",
       " 1st Qu.:0.4000   Class :character   Class :character   Class :character  \n",
       " Median :0.7000   Mode  :character   Mode  :character   Mode  :character  \n",
       " Mean   :0.8001                                                           \n",
       " 3rd Qu.:1.0500                                                           \n",
       " Max.   :4.5000                                                           \n",
       "     depth           table           price        \n",
       " Min.   :50.80   Min.   :49.00   Min.   :  326.0  \n",
       " 1st Qu.:61.00   1st Qu.:56.00   1st Qu.:  954.8  \n",
       " Median :61.80   Median :57.00   Median : 2390.0  \n",
       " Mean   :61.74   Mean   :57.46   Mean   : 3953.0  \n",
       " 3rd Qu.:62.50   3rd Qu.:59.00   3rd Qu.: 5378.8  \n",
       " Max.   :73.60   Max.   :79.00   Max.   :18818.0  "
      ]
     },
     "metadata": {},
     "output_type": "display_data"
    }
   ],
   "source": [
    "summary(zirconia_sub)"
   ]
  },
  {
   "cell_type": "code",
   "execution_count": null,
   "id": "8092b9b3-2969-4f4f-9918-cc1488061634",
   "metadata": {},
   "outputs": [],
   "source": [
    "# 4. Vẽ biểu đồ phân phối tần suất của ‘price’. Nhận xét."
   ]
  },
  {
   "cell_type": "code",
   "execution_count": 27,
   "id": "48330658-80c6-4002-9dd0-8dfde824afcb",
   "metadata": {},
   "outputs": [],
   "source": [
    "library(ggplot2)"
   ]
  },
  {
   "cell_type": "code",
   "execution_count": 28,
   "id": "edfd64a3-822f-4183-802f-8ec982ee2da8",
   "metadata": {},
   "outputs": [
    {
     "data": {
      "image/png": "[encoded data removed]",
      "text/plain": [
       "plot without title"
      ]
     },
     "metadata": {
      "image/png": {
       "height": 420,
       "width": 420
      }
     },
     "output_type": "display_data"
    }
   ],
   "source": [
    "ggplot(zirconia_sub, aes(x = price)) +\n",
    "  geom_histogram(binwidth = 1000, fill = \"blue\", color = \"black\") +\n",
    "  labs(title = \"Phân phối tần suất của 'price'\",\n",
    "       x = \"Price\",\n",
    "       y = \"Tần suất\") +\n",
    "  theme_minimal()"
   ]
  },
  {
   "cell_type": "markdown",
   "id": "1b3d26dc-af12-458e-ae88-1756e91004ed",
   "metadata": {},
   "source": [
    "- Nhận xét: Giá của mẫu đá zirconia phân bố chủ yếu ở mức giá 0 - 5000\n",
    "- Các mẫu đá có giá trị cao có số lượng rất ít."
   ]
  },
  {
   "cell_type": "code",
   "execution_count": null,
   "id": "734b25c0-713f-47a8-8a3e-efe394f4d1b5",
   "metadata": {},
   "outputs": [],
   "source": [
    "# 5. Thực hiện các thống kê cơ bản cho 'depth', 'table', 'price' (mean, median, mode, max, min, range). "
   ]
  },
  {
   "cell_type": "code",
   "execution_count": 36,
   "id": "bee3228e-5a54-4a11-bf5b-c67b7d3f55b5",
   "metadata": {},
   "outputs": [
    {
     "name": "stdout",
     "output_type": "stream",
     "text": [
      "[1] \"Thống kê cho 'depth':\"\n",
      "[1] \"Mean: 61.7438055811101\"\n",
      "[1] \"Median: 61.8\"\n",
      "[1] \"Mode: 62\"\n",
      "[1] \"Max: 73.6\"\n",
      "[1] \"Min: 50.8\"\n",
      "[1] \"Range: 22.8\"\n",
      "\n",
      "[1] \"Thống kê cho 'table':\"\n",
      "[1] \"Mean: 57.4627184912603\"\n",
      "[1] \"Median: 57\"\n",
      "[1] \"Max: 79\"\n",
      "[1] \"Min: 49\"\n",
      "[1] \"Range: 30\"\n",
      "\n",
      "[1] \"Thống kê cho 'price':\"\n",
      "[1] \"Mean: 3953.04818307268\"\n",
      "[1] \"Median: 2390\"\n",
      "[1] \"Max: 18818\"\n",
      "[1] \"Min: 326\"\n",
      "[1] \"Range: 18492\"\n"
     ]
    }
   ],
   "source": [
    "depth_mean <- mean(zirconia_sub$depth)\n",
    "depth_median <- median(zirconia_sub$depth)\n",
    "depth_max <- max(zirconia_sub$depth)\n",
    "depth_min <- min(zirconia_sub$depth)\n",
    "depth_range <- depth_max - depth_min\n",
    "\n",
    "table_mean <- mean(zirconia_sub$table)\n",
    "table_median <- median(zirconia_sub$table)\n",
    "table_max <- max(zirconia_sub$table)\n",
    "table_min <- min(zirconia_sub$table)\n",
    "table_range <- table_max - table_min\n",
    "\n",
    "price_mean <- mean(zirconia_sub$price)\n",
    "price_median <- median(zirconia_sub$price)\n",
    "price_max <- max(zirconia_sub$price)\n",
    "price_min <- min(zirconia_sub$price)\n",
    "price_range <- price_max - price_min\n",
    "\n",
    "depth_mode <- as.numeric(names(sort(table(zirconia_sub$depth), decreasing = TRUE)[1]))\n",
    "\n",
    "# In kết quả\n",
    "print(\"Thống kê cho 'depth':\")\n",
    "print(paste(\"Mean:\", depth_mean))\n",
    "print(paste(\"Median:\", depth_median))\n",
    "print(paste(\"Mode:\", depth_mode))\n",
    "print(paste(\"Max:\", depth_max))\n",
    "print(paste(\"Min:\", depth_min))\n",
    "print(paste(\"Range:\", depth_range))\n",
    "cat(\"\\n\")\n",
    "print(\"Thống kê cho 'table':\")\n",
    "print(paste(\"Mean:\", table_mean))\n",
    "print(paste(\"Median:\", table_median))\n",
    "print(paste(\"Max:\", table_max))\n",
    "print(paste(\"Min:\", table_min))\n",
    "print(paste(\"Range:\", table_range))\n",
    "cat(\"\\n\")\n",
    "print(\"Thống kê cho 'price':\")\n",
    "print(paste(\"Mean:\", price_mean))\n",
    "print(paste(\"Median:\", price_median))\n",
    "print(paste(\"Max:\", price_max))\n",
    "print(paste(\"Min:\", price_min))\n",
    "print(paste(\"Range:\", price_range))\n"
   ]
  },
  {
   "cell_type": "code",
   "execution_count": null,
   "id": "57dfdf0e-8690-4a5b-8700-fa14145d7502",
   "metadata": {},
   "outputs": [],
   "source": [
    "# 6. Cho biết các giá trị ở phân vị thứ 5%, 30%, 60% và 95% của ‘price’. Biểu diễn phân \n",
    "# vị và giá trị tương ứng trên biểu đồ."
   ]
  },
  {
   "cell_type": "code",
   "execution_count": 39,
   "id": "50cb6699-dfcb-40ee-b917-8bc9de9a0320",
   "metadata": {},
   "outputs": [
    {
     "name": "stdout",
     "output_type": "stream",
     "text": [
      "[1] \"5%: 544\"\n",
      "[1] \"30%: 1089\"\n",
      "[1] \"60%: 3459.4\"\n",
      "[1] \"95%: 13217.6\"\n"
     ]
    }
   ],
   "source": [
    "percentiles <- quantile(zirconia_sub$price, probs = c(0.05, 0.30, 0.60, 0.95))\n",
    "\n",
    "print(paste(\"5%:\", percentiles[1]))\n",
    "print(paste(\"30%:\", percentiles[2]))\n",
    "print(paste(\"60%:\", percentiles[3]))\n",
    "print(paste(\"95%:\", percentiles[4]))"
   ]
  },
  {
   "cell_type": "code",
   "execution_count": 40,
   "id": "59faba7e-2674-466e-8586-356fd5f64898",
   "metadata": {},
   "outputs": [
    {
     "data": {
      "image/png": "[encoded data removed]",
      "text/plain": [
       "plot without title"
      ]
     },
     "metadata": {
      "image/png": {
       "height": 420,
       "width": 420
      }
     },
     "output_type": "display_data"
    }
   ],
   "source": [
    "percentile_df <- data.frame(\n",
    "  Percentile = c(\"5%\", \"30%\", \"60%\", \"95%\"),\n",
    "  Price = percentiles\n",
    ")\n",
    "\n",
    "ggplot(percentile_df, aes(x = Percentile, y = Price)) +\n",
    "  geom_bar(stat = \"identity\", fill = \"blue\", width = 0.4) +\n",
    "  labs(title = \"Phân vị của 'price'\",\n",
    "       x = \"Phân vị\",\n",
    "       y = \"Price\") +\n",
    "  theme_minimal()"
   ]
  },
  {
   "cell_type": "code",
   "execution_count": null,
   "id": "d923336c-f7a2-41ae-9051-bd70678e5a3e",
   "metadata": {},
   "outputs": [],
   "source": [
    "# 7. Vẽ boxplot cho ‘price’, ‘carat’. ‘price’, ‘carat’ có outlier hay không? Nếu có thì mỗi \n",
    "# thuộc tính có bao nhiêu outlier? (Biết outlier dưới < Q1 – 1.5 * IQR và outlier trên >\n",
    "# Q3 + 1.5 * IQR)"
   ]
  },
  {
   "cell_type": "code",
   "execution_count": 41,
   "id": "2ff2e6cd-18fb-4d72-9b7d-8621a66896e9",
   "metadata": {},
   "outputs": [
    {
     "data": {
      "image/png": "[encoded data removed]",
      "text/plain": [
       "Plot with title \"Boxplot for Carat\""
      ]
     },
     "metadata": {
      "image/png": {
       "height": 420,
       "width": 420
      }
     },
     "output_type": "display_data"
    }
   ],
   "source": [
    "# Vẽ boxplot cho 'price' và 'carat' trong zirconia_sub\n",
    "par(mfrow = c(1, 2))  # Hiển thị hai biểu đồ cạnh nhau\n",
    "boxplot(zirconia_sub$price, main = \"Boxplot for Price\", ylab = \"Price\", col = \"blue\")\n",
    "boxplot(zirconia_sub$carat, main = \"Boxplot for Carat\", ylab = \"Carat\", col = \"green\")"
   ]
  },
  {
   "cell_type": "code",
   "execution_count": 43,
   "id": "dec0deec-8620-455d-bcd2-ebcb56d3a1e9",
   "metadata": {},
   "outputs": [
    {
     "name": "stdout",
     "output_type": "stream",
     "text": [
      "[1] \"Số lượng outlier cho 'price' trong zirconia_sub: 1717\"\n",
      "[1] \"Số lượng outlier cho 'carat' trong zirconia_sub: 638\"\n"
     ]
    }
   ],
   "source": [
    "q1_price <- quantile(zirconia_sub$price, 0.25)\n",
    "q3_price <- quantile(zirconia_sub$price, 0.75)\n",
    "q1_carat <- quantile(zirconia_sub$carat, 0.25)\n",
    "q3_carat <- quantile(zirconia_sub$carat, 0.75)\n",
    "\n",
    "iqr_price <- q3_price - q1_price\n",
    "iqr_carat <- q3_carat - q1_carat\n",
    "\n",
    "lower_threshold_price <- q1_price - 1.5 * iqr_price\n",
    "upper_threshold_price <- q3_price + 1.5 * iqr_price\n",
    "lower_threshold_carat <- q1_carat - 1.5 * iqr_carat\n",
    "upper_threshold_carat <- q3_carat + 1.5 * iqr_carat\n",
    "\n",
    "outliers_price <- sum(zirconia_sub$price < lower_threshold_price | zirconia_sub$price > upper_threshold_price)\n",
    "outliers_carat <- sum(zirconia_sub$carat < lower_threshold_carat | zirconia_sub$carat > upper_threshold_carat)\n",
    "\n",
    "print(paste(\"Số lượng outlier cho 'price' trong zirconia_sub:\", outliers_price))\n",
    "print(paste(\"Số lượng outlier cho 'carat' trong zirconia_sub:\", outliers_carat))"
   ]
  },
  {
   "cell_type": "code",
   "execution_count": null,
   "id": "91147738-dcbb-48bb-89e4-a1a144141b50",
   "metadata": {},
   "outputs": [],
   "source": [
    "# 8. Vẽ pie chart thống kê mẫu đá theo từng cột ‘cut’, ‘color’. Nhận xét."
   ]
  },
  {
   "cell_type": "code",
   "execution_count": 45,
   "id": "515ffac8-a9bf-4d6a-9ae9-42fbf7c1163e",
   "metadata": {},
   "outputs": [],
   "source": [
    "library(gridExtra)"
   ]
  },
  {
   "cell_type": "code",
   "execution_count": 60,
   "id": "251be64c-aad8-46c9-803e-bd8d1723be8a",
   "metadata": {},
   "outputs": [
    {
     "name": "stderr",
     "output_type": "stream",
     "text": [
      "\u001b[1m\u001b[22mDon't know how to automatically pick scale for object of type \u001b[34m<table>\u001b[39m. Defaulting to continuous.\n",
      "\u001b[1m\u001b[22mDon't know how to automatically pick scale for object of type \u001b[34m<table>\u001b[39m. Defaulting to continuous.\n"
     ]
    },
    {
     "data": {
      "image/png": "[encoded data removed]",
      "text/plain": [
       "plot without title"
      ]
     },
     "metadata": {
      "image/png": {
       "height": 420,
       "width": 420
      }
     },
     "output_type": "display_data"
    },
    {
     "data": {
      "image/png": "[encoded data removed]",
      "text/plain": [
       "plot without title"
      ]
     },
     "metadata": {
      "image/png": {
       "height": 420,
       "width": 420
      }
     },
     "output_type": "display_data"
    }
   ],
   "source": [
    "cut_counts <- table(zirconia_sub$cut)\n",
    "cut_labels <- names(cut_counts)\n",
    "\n",
    "# Biểu đồ pie chart cho 'cut' với tên nhãn\n",
    "pie_chart_cut <- ggplot(data = NULL, aes(x = \"\", y = cut_counts, fill = factor(cut_labels))) +\n",
    "  geom_bar(stat = \"identity\") +\n",
    "  coord_polar(theta = \"y\") +\n",
    "  labs(title = \"Phân phối mẫu theo 'cut'\",\n",
    "       fill = \"Cut\") +\n",
    "  theme_void() +\n",
    "  geom_text(aes(label = cut_labels), position = position_stack(vjust = 0.5))  \n",
    "\n",
    "# Thống kê mẫu theo cột 'color'\n",
    "color_counts <- table(zirconia_sub$color)\n",
    "color_labels <- names(color_counts)\n",
    "\n",
    "# Biểu đồ pie chart cho 'color' với tên nhãn\n",
    "pie_chart_color <- ggplot(data = NULL, aes(x = \"\", y = color_counts, fill = factor(color_labels))) +\n",
    "  geom_bar(stat = \"identity\") +\n",
    "  coord_polar(theta = \"y\") +\n",
    "  labs(title = \"Phân phối mẫu theo 'color'\",\n",
    "       fill = \"Color\") +\n",
    "  theme_void() +\n",
    "  geom_text(aes(label = color_labels), position = position_stack(vjust = 0.5)) \n",
    "\n",
    "print(pie_chart_cut)\n",
    "print(pie_chart_color)"
   ]
  },
  {
   "cell_type": "code",
   "execution_count": 47,
   "id": "113a0108-d1fe-413d-9938-89a4733c7164",
   "metadata": {},
   "outputs": [
    {
     "data": {
      "text/plain": [
       "\n",
       "     Fair      Good     Ideal   Premium Very Good \n",
       "      756      2370     10425      6678      5859 "
      ]
     },
     "metadata": {},
     "output_type": "display_data"
    }
   ],
   "source": [
    "cut_counts"
   ]
  },
  {
   "cell_type": "code",
   "execution_count": 48,
   "id": "5b99745f-cd6e-464a-8814-dce679851bcd",
   "metadata": {},
   "outputs": [
    {
     "data": {
      "text/plain": [
       "\n",
       "   D    E    F    G    H    I    J \n",
       "3239 4755 4579 5487 3964 2667 1397 "
      ]
     },
     "metadata": {},
     "output_type": "display_data"
    }
   ],
   "source": [
    "color_counts"
   ]
  },
  {
   "cell_type": "markdown",
   "id": "1955dd44-9ebd-4374-a85a-8759fbdc8b7e",
   "metadata": {},
   "source": [
    "### Nhận xét: \n",
    "1. Theo 'cut': chất lượng vết cắt của khối zirconia nhiều nhất là Ideal (mức trung bình). Tiếp theo là Premium (chất lượng cao) và Very Good (rất cao). Mẩu đá có vết cắt good (dưới trung bình) và Fair (thấp nhât) chiếm số lượng nhỏ.\n",
    "2. Theo 'colour': số lượng mẫu zirconia có colour D (chất lượng cao nhất) chiếm trên 10%\n",
    "- Mẫu có màu E,F,G,H (chất lượng trung bình) có số lượng gần tương đương, chiếm gần 70% số lượng\n",
    "- Mẫu có màu I, J (chất lượng thấp) có số lượng thấp, nhưng thấp hơn các mẫu khác không đáng kể."
   ]
  },
  {
   "cell_type": "code",
   "execution_count": 61,
   "id": "da2c26c6-e7d5-4ee4-bb35-78e6ce1cf997",
   "metadata": {},
   "outputs": [],
   "source": [
    "# 10. Tính giá trị covariance, correlation giữa ‘price’ và ‘carat’. Nhận xét."
   ]
  },
  {
   "cell_type": "code",
   "execution_count": 62,
   "id": "0a9d0dff-869c-4609-82cd-260d843f1d97",
   "metadata": {},
   "outputs": [
    {
     "name": "stdout",
     "output_type": "stream",
     "text": [
      "[1] \"Covariance giữa 'price' và 'carat': 1769.07919384804\"\n",
      "[1] \"Correlation giữa 'price' và 'carat': 0.921917402957295\"\n"
     ]
    }
   ],
   "source": [
    "covariance <- cov(zirconia_sub$price, zirconia_sub$carat)\n",
    "\n",
    "correlation <- cor(zirconia_sub$price, zirconia_sub$carat)\n",
    "\n",
    "print(paste(\"Covariance giữa 'price' và 'carat':\", covariance))\n",
    "print(paste(\"Correlation giữa 'price' và 'carat':\", correlation))"
   ]
  },
  {
   "cell_type": "markdown",
   "id": "d644c7b4-2185-4536-aa9d-e80b009402e4",
   "metadata": {},
   "source": [
    "### Nhận xét:\n",
    "- Covariance dương, nó cho thấy sự biến thiên đồng thời giữa 'price' và 'carat'.\n",
    "- Correlation cao (0.922), giá trị 'price' và khối lượng 'carat' có mối tương quan tuyến tính mạnh dương, tức là khi giá trị 'price' tăng, khối lượng 'carat' thường tăng, và ngược lại."
   ]
  },
  {
   "cell_type": "code",
   "execution_count": 64,
   "id": "436b7053-1c5d-427d-884e-51bb60965504",
   "metadata": {},
   "outputs": [],
   "source": [
    "# 11. Vẽ biểu đồ thể hiện mối quan hệ giữa 'carat', 'price' theo ‘color’. Nhận xét biểu đồ"
   ]
  },
  {
   "cell_type": "code",
   "execution_count": 65,
   "id": "4ac65179-b425-45dc-bc1a-69a10236adba",
   "metadata": {},
   "outputs": [
    {
     "data": {
      "image/png": "[encoded data removed]",
      "text/plain": [
       "plot without title"
      ]
     },
     "metadata": {
      "image/png": {
       "height": 420,
       "width": 420
      }
     },
     "output_type": "display_data"
    }
   ],
   "source": [
    "scatter_plot <- ggplot(zirconia_sub, aes(x = carat, y = price, color = color)) +\n",
    "  geom_point() +\n",
    "  labs(title = \"Mối quan hệ giữa 'carat' và 'price' theo 'color'\",\n",
    "       x = \"Carat\",\n",
    "       y = \"Price\") +\n",
    "  theme_minimal()\n",
    "\n",
    "print(scatter_plot)"
   ]
  },
  {
   "cell_type": "markdown",
   "id": "37c55aa9-abfe-49f7-8e65-10178d2cb287",
   "metadata": {},
   "source": [
    "### Nhận xét:\n",
    "- Biểu đồ scatter plot cho thấy mối quan hệ giữa 'carat' (khối lượng đá) và 'price' (giá của đá) dựa trên màu sắc của đá ('color').\n",
    "- Dựa vào biểu đồ, có thể thấy có một mối tương quan dương tổng quan giữa 'carat' và 'price'. Tức là khi khối lượng 'carat' tăng, giá trị 'price' cũng  tăng. Tuy nhiên, màu sắc của đá ('color') cũng có ảnh hưởng đến phân phối giá trị 'price'."
   ]
  },
  {
   "cell_type": "code",
   "execution_count": null,
   "id": "29fae4e5-120d-4793-9ab0-ad14953db3b4",
   "metadata": {},
   "outputs": [],
   "source": [
    "# 12. Cho biết số lượng mẫu có giá trị ‘price’>=10000 USD, xác suất để một viên đá có ‘price’>=10000 USD là bao nhiêu? "
   ]
  },
  {
   "cell_type": "code",
   "execution_count": 68,
   "id": "3a8cdb8e-1dd1-4124-8624-bffdd0396503",
   "metadata": {},
   "outputs": [
    {
     "name": "stdout",
     "output_type": "stream",
     "text": [
      "[1] \"Số lượng mẫu có 'price' >= 10,000 USD: 2585\"\n",
      "[1] \"Xác suất để một viên đá có 'price' >= 10,000 USD: 0.0990877031585403\"\n"
     ]
    }
   ],
   "source": [
    "samples_above_10000 <- sum(zirconia_sub$price >= 10000)\n",
    "\n",
    "total_samples <- nrow(zirconia_sub)\n",
    "\n",
    "probability_above_10000 <- samples_above_10000 / total_samples\n",
    "\n",
    "print(paste(\"Số lượng mẫu có 'price' >= 10,000 USD:\", samples_above_10000))\n",
    "print(paste(\"Xác suất để một viên đá có 'price' >= 10,000 USD:\", probability_above_10000))"
   ]
  },
  {
   "cell_type": "code",
   "execution_count": null,
   "id": "a560a245-bab3-4428-a0a9-d6f1161a127b",
   "metadata": {},
   "outputs": [],
   "source": [
    "# 13. Xác suất để một viên đá có color = 'D' và cut = 'Premium' là bao nhiêu?"
   ]
  },
  {
   "cell_type": "code",
   "execution_count": 70,
   "id": "80142140-875e-4a2a-bc13-f64bb778b45c",
   "metadata": {},
   "outputs": [
    {
     "name": "stdout",
     "output_type": "stream",
     "text": [
      "[1] \"Xác suất để một viên đá có 'color' = 'D' và 'cut' = 'Premium': 0.0301287948482061\"\n"
     ]
    }
   ],
   "source": [
    "count_d_and_premium <- sum(zirconia_sub$color == 'D' & zirconia_sub$cut == 'Premium')\n",
    "probability_d_and_premium <- count_d_and_premium / total_samples\n",
    "\n",
    "print(paste(\"Xác suất để một viên đá có 'color' = 'D' và 'cut' = 'Premium':\", probability_d_and_premium))"
   ]
  }
 ],
 "metadata": {
  "kernelspec": {
   "display_name": "R",
   "language": "R",
   "name": "ir"
  },
  "language_info": {
   "codemirror_mode": "r",
   "file_extension": ".r",
   "mimetype": "text/x-r-source",
   "name": "R",
   "pygments_lexer": "r",
   "version": "4.3.1"
  }
 },
 "nbformat": 4,
 "nbformat_minor": 5
}
