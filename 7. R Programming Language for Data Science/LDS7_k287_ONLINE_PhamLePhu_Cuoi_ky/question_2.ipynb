{
 "cells": [
  {
   "cell_type": "code",
   "execution_count": null,
   "id": "7ae35b35-2e6f-4d66-b371-cc172310fff0",
   "metadata": {},
   "outputs": [],
   "source": [
    "# 1. Đọc dữ liệu từ tập tin"
   ]
  },
  {
   "cell_type": "code",
   "execution_count": 2,
   "id": "9e3abdb2-62bd-43b6-97e2-7cb5b6abc6ec",
   "metadata": {},
   "outputs": [],
   "source": [
    "rice_prices <- read.csv(\"Export_rice_prices_5percent_broken_vn.csv\")"
   ]
  },
  {
   "cell_type": "code",
   "execution_count": null,
   "id": "389eedff-5344-4807-a744-a19377d23d9c",
   "metadata": {},
   "outputs": [],
   "source": [
    "# 2. In một số thông tin chung từ dữ liệu: head(), str()..."
   ]
  },
  {
   "cell_type": "code",
   "execution_count": 7,
   "id": "ea47f1cb-b503-47c3-84a3-87c2c88ece91",
   "metadata": {},
   "outputs": [
    {
     "name": "stdout",
     "output_type": "stream",
     "text": [
      "      date  price\n",
      "1 1/1/2004 198.82\n",
      "2 2/1/2004 204.07\n",
      "3 3/1/2004 225.80\n",
      "4 4/1/2004 240.71\n",
      "5 5/1/2004 236.14\n",
      "6 6/1/2004 230.74\n",
      "        date  price\n",
      "220 4/1/2022 402.38\n",
      "221 5/1/2022 406.45\n",
      "222 6/1/2022 411.92\n",
      "223 7/1/2022 411.09\n",
      "224 8/1/2022 395.80\n",
      "225 9/1/2022 391.78\n",
      "     date               price      \n",
      " Length:225         Min.   :198.8  \n",
      " Class :character   1st Qu.:341.0  \n",
      " Mode  :character   Median :386.9  \n",
      "                    Mean   :386.3  \n",
      "                    3rd Qu.:431.1  \n",
      "                    Max.   :780.0  \n",
      "'data.frame':\t225 obs. of  2 variables:\n",
      " $ date : chr  \"1/1/2004\" \"2/1/2004\" \"3/1/2004\" \"4/1/2004\" ...\n",
      " $ price: num  199 204 226 241 236 ...\n",
      "NULL\n"
     ]
    }
   ],
   "source": [
    "print(head(rice_prices))\n",
    "print(tail(rice_prices))\n",
    "print(summary(rice_prices))\n",
    "print(str(rice_prices))"
   ]
  },
  {
   "cell_type": "code",
   "execution_count": null,
   "id": "4840357e-9dc6-4d2f-8c2d-cdeab1414221",
   "metadata": {},
   "outputs": [],
   "source": [
    "# 3. Chuyển dữ liệu này thành Time Series object => in Time Series object"
   ]
  },
  {
   "cell_type": "code",
   "execution_count": 9,
   "id": "cf527ddd-3c68-436f-96a5-cb06209fe26b",
   "metadata": {},
   "outputs": [],
   "source": [
    "rice_ts <- ts(rice_prices$price, frequency = 12, start = c(2004, 1))"
   ]
  },
  {
   "cell_type": "code",
   "execution_count": 10,
   "id": "21902888-e726-44ab-a321-86033240c74f",
   "metadata": {},
   "outputs": [
    {
     "data": {
      "text/html": [
       "<table class=\"dataframe\">\n",
       "<caption>A Time Series: 19 × 12</caption>\n",
       "<thead>\n",
       "\t<tr><th></th><th scope=col>Jan</th><th scope=col>Feb</th><th scope=col>Mar</th><th scope=col>Apr</th><th scope=col>May</th><th scope=col>Jun</th><th scope=col>Jul</th><th scope=col>Aug</th><th scope=col>Sep</th><th scope=col>Oct</th><th scope=col>Nov</th><th scope=col>Dec</th></tr>\n",
       "</thead>\n",
       "<tbody>\n",
       "\t<tr><th scope=row>2004</th><td>198.8200</td><td>204.0700</td><td>225.8000</td><td>240.7100</td><td>236.1400</td><td>230.7400</td><td>228.9600</td><td>232.7200</td><td>224.1700</td><td>222.1400</td><td>233.0700</td><td>238.5100</td></tr>\n",
       "\t<tr><th scope=row>2005</th><td>255.3200</td><td>265.6400</td><td>262.9200</td><td>259.9200</td><td>256.1400</td><td>241.4900</td><td>237.2800</td><td>255.6500</td><td>257.0000</td><td>269.3600</td><td>272.0000</td><td>267.9300</td></tr>\n",
       "\t<tr><th scope=row>2006</th><td>263.8600</td><td>264.2900</td><td>244.8600</td><td>244.2500</td><td>256.2300</td><td>259.4300</td><td>257.4300</td><td>263.6300</td><td>267.7100</td><td>283.2100</td><td>288.1575</td><td>293.1050</td></tr>\n",
       "\t<tr><th scope=row>2007</th><td>298.0525</td><td>303.0000</td><td>304.9300</td><td>302.2500</td><td>300.3600</td><td>302.4900</td><td>302.7100</td><td>310.0000</td><td>315.2500</td><td>323.0000</td><td>320.0000</td><td>385.7143</td></tr>\n",
       "\t<tr><th scope=row>2008</th><td>451.4286</td><td>517.1429</td><td>582.8571</td><td>648.5714</td><td>714.2857</td><td>780.0000</td><td>698.0000</td><td>607.5000</td><td>561.7800</td><td>478.5700</td><td>431.0700</td><td>413.0000</td></tr>\n",
       "\t<tr><th scope=row>2009</th><td>386.7900</td><td>418.0900</td><td>424.0450</td><td>430.0000</td><td>405.1800</td><td>404.2800</td><td>410.2300</td><td>395.7200</td><td>392.8600</td><td>414.1100</td><td>491.6000</td><td>529.9100</td></tr>\n",
       "\t<tr><th scope=row>2010</th><td>485.2800</td><td>421.7800</td><td>392.5700</td><td>371.1700</td><td>368.8200</td><td>358.2200</td><td>357.8600</td><td>422.8600</td><td>457.6800</td><td>477.6800</td><td>508.0300</td><td>528.2900</td></tr>\n",
       "\t<tr><th scope=row>2011</th><td>493.8600</td><td>478.5700</td><td>464.0000</td><td>484.2900</td><td>479.6400</td><td>475.2800</td><td>519.4600</td><td>553.4300</td><td>561.4300</td><td>580.5400</td><td>568.7500</td><td>504.4300</td></tr>\n",
       "\t<tr><th scope=row>2012</th><td>451.4300</td><td>430.4300</td><td>428.7500</td><td>440.7200</td><td>433.2900</td><td>411.9600</td><td>409.2800</td><td>436.4300</td><td>455.1800</td><td>453.7400</td><td>448.3200</td><td>413.7500</td></tr>\n",
       "\t<tr><th scope=row>2013</th><td>401.2400</td><td>401.6400</td><td>401.6100</td><td>390.7600</td><td>386.8500</td><td>385.9300</td><td>387.7400</td><td>399.4400</td><td>362.0000</td><td>376.3200</td><td>395.8800</td><td>419.4100</td></tr>\n",
       "\t<tr><th scope=row>2014</th><td>402.0000</td><td>393.1600</td><td>378.5700</td><td>370.9100</td><td>390.4800</td><td>404.5000</td><td>420.8700</td><td>442.6200</td><td>442.0500</td><td>436.9600</td><td>422.0000</td><td>382.3900</td></tr>\n",
       "\t<tr><th scope=row>2015</th><td>374.4200</td><td>353.5000</td><td>360.7400</td><td>354.0200</td><td>351.0000</td><td>349.0000</td><td>345.7800</td><td>340.1300</td><td>326.4300</td><td>342.4000</td><td>353.6100</td><td>371.0000</td></tr>\n",
       "\t<tr><th scope=row>2016</th><td>364.9100</td><td>360.1300</td><td>360.2000</td><td>371.0000</td><td>377.3100</td><td>372.4600</td><td>361.5700</td><td>347.4600</td><td>342.7300</td><td>336.3900</td><td>338.0000</td><td>341.0000</td></tr>\n",
       "\t<tr><th scope=row>2017</th><td>336.5500</td><td>335.3400</td><td>343.5600</td><td>344.6500</td><td>345.0000</td><td>357.1800</td><td>385.8700</td><td>390.3700</td><td>382.0000</td><td>376.1900</td><td>379.0100</td><td>383.2400</td></tr>\n",
       "\t<tr><th scope=row>2018</th><td>380.9400</td><td>395.4300</td><td>409.9200</td><td>413.4300</td><td>419.0000</td><td>443.1000</td><td>440.6500</td><td>401.5600</td><td>384.6500</td><td>389.8000</td><td>395.7300</td><td>399.5200</td></tr>\n",
       "\t<tr><th scope=row>2019</th><td>396.3100</td><td>367.9500</td><td>342.6200</td><td>341.1100</td><td>350.9400</td><td>358.8200</td><td>360.1600</td><td>362.3900</td><td>350.8500</td><td>325.7900</td><td>328.2400</td><td>337.4300</td></tr>\n",
       "\t<tr><th scope=row>2020</th><td>348.6800</td><td>357.4200</td><td>372.5800</td><td>407.1400</td><td>438.4200</td><td>449.4600</td><td>444.1900</td><td>448.9100</td><td>462.6600</td><td>459.1700</td><td>469.5000</td><td>477.3900</td></tr>\n",
       "\t<tr><th scope=row>2021</th><td>490.9800</td><td>500.4800</td><td>498.3800</td><td>488.1700</td><td>477.7000</td><td>474.0000</td><td>436.1700</td><td>384.4600</td><td>387.3000</td><td>404.4600</td><td>411.4100</td><td>402.6600</td></tr>\n",
       "\t<tr><th scope=row>2022</th><td>395.9400</td><td>384.2100</td><td>391.6700</td><td>402.3800</td><td>406.4500</td><td>411.9200</td><td>411.0900</td><td>395.8000</td><td>391.7800</td><td>        </td><td>        </td><td>        </td></tr>\n",
       "</tbody>\n",
       "</table>\n"
      ],
      "text/latex": [
       "A Time Series: 19 × 12\n",
       "\\begin{tabular}{r|llllllllllll}\n",
       "  & Jan & Feb & Mar & Apr & May & Jun & Jul & Aug & Sep & Oct & Nov & Dec\\\\\n",
       "\\hline\n",
       "\t2004 & 198.8200 & 204.0700 & 225.8000 & 240.7100 & 236.1400 & 230.7400 & 228.9600 & 232.7200 & 224.1700 & 222.1400 & 233.0700 & 238.5100\\\\\n",
       "\t2005 & 255.3200 & 265.6400 & 262.9200 & 259.9200 & 256.1400 & 241.4900 & 237.2800 & 255.6500 & 257.0000 & 269.3600 & 272.0000 & 267.9300\\\\\n",
       "\t2006 & 263.8600 & 264.2900 & 244.8600 & 244.2500 & 256.2300 & 259.4300 & 257.4300 & 263.6300 & 267.7100 & 283.2100 & 288.1575 & 293.1050\\\\\n",
       "\t2007 & 298.0525 & 303.0000 & 304.9300 & 302.2500 & 300.3600 & 302.4900 & 302.7100 & 310.0000 & 315.2500 & 323.0000 & 320.0000 & 385.7143\\\\\n",
       "\t2008 & 451.4286 & 517.1429 & 582.8571 & 648.5714 & 714.2857 & 780.0000 & 698.0000 & 607.5000 & 561.7800 & 478.5700 & 431.0700 & 413.0000\\\\\n",
       "\t2009 & 386.7900 & 418.0900 & 424.0450 & 430.0000 & 405.1800 & 404.2800 & 410.2300 & 395.7200 & 392.8600 & 414.1100 & 491.6000 & 529.9100\\\\\n",
       "\t2010 & 485.2800 & 421.7800 & 392.5700 & 371.1700 & 368.8200 & 358.2200 & 357.8600 & 422.8600 & 457.6800 & 477.6800 & 508.0300 & 528.2900\\\\\n",
       "\t2011 & 493.8600 & 478.5700 & 464.0000 & 484.2900 & 479.6400 & 475.2800 & 519.4600 & 553.4300 & 561.4300 & 580.5400 & 568.7500 & 504.4300\\\\\n",
       "\t2012 & 451.4300 & 430.4300 & 428.7500 & 440.7200 & 433.2900 & 411.9600 & 409.2800 & 436.4300 & 455.1800 & 453.7400 & 448.3200 & 413.7500\\\\\n",
       "\t2013 & 401.2400 & 401.6400 & 401.6100 & 390.7600 & 386.8500 & 385.9300 & 387.7400 & 399.4400 & 362.0000 & 376.3200 & 395.8800 & 419.4100\\\\\n",
       "\t2014 & 402.0000 & 393.1600 & 378.5700 & 370.9100 & 390.4800 & 404.5000 & 420.8700 & 442.6200 & 442.0500 & 436.9600 & 422.0000 & 382.3900\\\\\n",
       "\t2015 & 374.4200 & 353.5000 & 360.7400 & 354.0200 & 351.0000 & 349.0000 & 345.7800 & 340.1300 & 326.4300 & 342.4000 & 353.6100 & 371.0000\\\\\n",
       "\t2016 & 364.9100 & 360.1300 & 360.2000 & 371.0000 & 377.3100 & 372.4600 & 361.5700 & 347.4600 & 342.7300 & 336.3900 & 338.0000 & 341.0000\\\\\n",
       "\t2017 & 336.5500 & 335.3400 & 343.5600 & 344.6500 & 345.0000 & 357.1800 & 385.8700 & 390.3700 & 382.0000 & 376.1900 & 379.0100 & 383.2400\\\\\n",
       "\t2018 & 380.9400 & 395.4300 & 409.9200 & 413.4300 & 419.0000 & 443.1000 & 440.6500 & 401.5600 & 384.6500 & 389.8000 & 395.7300 & 399.5200\\\\\n",
       "\t2019 & 396.3100 & 367.9500 & 342.6200 & 341.1100 & 350.9400 & 358.8200 & 360.1600 & 362.3900 & 350.8500 & 325.7900 & 328.2400 & 337.4300\\\\\n",
       "\t2020 & 348.6800 & 357.4200 & 372.5800 & 407.1400 & 438.4200 & 449.4600 & 444.1900 & 448.9100 & 462.6600 & 459.1700 & 469.5000 & 477.3900\\\\\n",
       "\t2021 & 490.9800 & 500.4800 & 498.3800 & 488.1700 & 477.7000 & 474.0000 & 436.1700 & 384.4600 & 387.3000 & 404.4600 & 411.4100 & 402.6600\\\\\n",
       "\t2022 & 395.9400 & 384.2100 & 391.6700 & 402.3800 & 406.4500 & 411.9200 & 411.0900 & 395.8000 & 391.7800 &          &          &         \\\\\n",
       "\\end{tabular}\n"
      ],
      "text/markdown": [
       "\n",
       "A Time Series: 19 × 12\n",
       "\n",
       "| <!--/--> | Jan | Feb | Mar | Apr | May | Jun | Jul | Aug | Sep | Oct | Nov | Dec |\n",
       "|---|---|---|---|---|---|---|---|---|---|---|---|---|\n",
       "| 2004 | 198.8200 | 204.0700 | 225.8000 | 240.7100 | 236.1400 | 230.7400 | 228.9600 | 232.7200 | 224.1700 | 222.1400 | 233.0700 | 238.5100 |\n",
       "| 2005 | 255.3200 | 265.6400 | 262.9200 | 259.9200 | 256.1400 | 241.4900 | 237.2800 | 255.6500 | 257.0000 | 269.3600 | 272.0000 | 267.9300 |\n",
       "| 2006 | 263.8600 | 264.2900 | 244.8600 | 244.2500 | 256.2300 | 259.4300 | 257.4300 | 263.6300 | 267.7100 | 283.2100 | 288.1575 | 293.1050 |\n",
       "| 2007 | 298.0525 | 303.0000 | 304.9300 | 302.2500 | 300.3600 | 302.4900 | 302.7100 | 310.0000 | 315.2500 | 323.0000 | 320.0000 | 385.7143 |\n",
       "| 2008 | 451.4286 | 517.1429 | 582.8571 | 648.5714 | 714.2857 | 780.0000 | 698.0000 | 607.5000 | 561.7800 | 478.5700 | 431.0700 | 413.0000 |\n",
       "| 2009 | 386.7900 | 418.0900 | 424.0450 | 430.0000 | 405.1800 | 404.2800 | 410.2300 | 395.7200 | 392.8600 | 414.1100 | 491.6000 | 529.9100 |\n",
       "| 2010 | 485.2800 | 421.7800 | 392.5700 | 371.1700 | 368.8200 | 358.2200 | 357.8600 | 422.8600 | 457.6800 | 477.6800 | 508.0300 | 528.2900 |\n",
       "| 2011 | 493.8600 | 478.5700 | 464.0000 | 484.2900 | 479.6400 | 475.2800 | 519.4600 | 553.4300 | 561.4300 | 580.5400 | 568.7500 | 504.4300 |\n",
       "| 2012 | 451.4300 | 430.4300 | 428.7500 | 440.7200 | 433.2900 | 411.9600 | 409.2800 | 436.4300 | 455.1800 | 453.7400 | 448.3200 | 413.7500 |\n",
       "| 2013 | 401.2400 | 401.6400 | 401.6100 | 390.7600 | 386.8500 | 385.9300 | 387.7400 | 399.4400 | 362.0000 | 376.3200 | 395.8800 | 419.4100 |\n",
       "| 2014 | 402.0000 | 393.1600 | 378.5700 | 370.9100 | 390.4800 | 404.5000 | 420.8700 | 442.6200 | 442.0500 | 436.9600 | 422.0000 | 382.3900 |\n",
       "| 2015 | 374.4200 | 353.5000 | 360.7400 | 354.0200 | 351.0000 | 349.0000 | 345.7800 | 340.1300 | 326.4300 | 342.4000 | 353.6100 | 371.0000 |\n",
       "| 2016 | 364.9100 | 360.1300 | 360.2000 | 371.0000 | 377.3100 | 372.4600 | 361.5700 | 347.4600 | 342.7300 | 336.3900 | 338.0000 | 341.0000 |\n",
       "| 2017 | 336.5500 | 335.3400 | 343.5600 | 344.6500 | 345.0000 | 357.1800 | 385.8700 | 390.3700 | 382.0000 | 376.1900 | 379.0100 | 383.2400 |\n",
       "| 2018 | 380.9400 | 395.4300 | 409.9200 | 413.4300 | 419.0000 | 443.1000 | 440.6500 | 401.5600 | 384.6500 | 389.8000 | 395.7300 | 399.5200 |\n",
       "| 2019 | 396.3100 | 367.9500 | 342.6200 | 341.1100 | 350.9400 | 358.8200 | 360.1600 | 362.3900 | 350.8500 | 325.7900 | 328.2400 | 337.4300 |\n",
       "| 2020 | 348.6800 | 357.4200 | 372.5800 | 407.1400 | 438.4200 | 449.4600 | 444.1900 | 448.9100 | 462.6600 | 459.1700 | 469.5000 | 477.3900 |\n",
       "| 2021 | 490.9800 | 500.4800 | 498.3800 | 488.1700 | 477.7000 | 474.0000 | 436.1700 | 384.4600 | 387.3000 | 404.4600 | 411.4100 | 402.6600 |\n",
       "| 2022 | 395.9400 | 384.2100 | 391.6700 | 402.3800 | 406.4500 | 411.9200 | 411.0900 | 395.8000 | 391.7800 | <!----> | <!----> | <!----> |\n",
       "\n"
      ],
      "text/plain": [
       "     Jan      Feb      Mar      Apr      May      Jun      Jul      Aug     \n",
       "2004 198.8200 204.0700 225.8000 240.7100 236.1400 230.7400 228.9600 232.7200\n",
       "2005 255.3200 265.6400 262.9200 259.9200 256.1400 241.4900 237.2800 255.6500\n",
       "2006 263.8600 264.2900 244.8600 244.2500 256.2300 259.4300 257.4300 263.6300\n",
       "2007 298.0525 303.0000 304.9300 302.2500 300.3600 302.4900 302.7100 310.0000\n",
       "2008 451.4286 517.1429 582.8571 648.5714 714.2857 780.0000 698.0000 607.5000\n",
       "2009 386.7900 418.0900 424.0450 430.0000 405.1800 404.2800 410.2300 395.7200\n",
       "2010 485.2800 421.7800 392.5700 371.1700 368.8200 358.2200 357.8600 422.8600\n",
       "2011 493.8600 478.5700 464.0000 484.2900 479.6400 475.2800 519.4600 553.4300\n",
       "2012 451.4300 430.4300 428.7500 440.7200 433.2900 411.9600 409.2800 436.4300\n",
       "2013 401.2400 401.6400 401.6100 390.7600 386.8500 385.9300 387.7400 399.4400\n",
       "2014 402.0000 393.1600 378.5700 370.9100 390.4800 404.5000 420.8700 442.6200\n",
       "2015 374.4200 353.5000 360.7400 354.0200 351.0000 349.0000 345.7800 340.1300\n",
       "2016 364.9100 360.1300 360.2000 371.0000 377.3100 372.4600 361.5700 347.4600\n",
       "2017 336.5500 335.3400 343.5600 344.6500 345.0000 357.1800 385.8700 390.3700\n",
       "2018 380.9400 395.4300 409.9200 413.4300 419.0000 443.1000 440.6500 401.5600\n",
       "2019 396.3100 367.9500 342.6200 341.1100 350.9400 358.8200 360.1600 362.3900\n",
       "2020 348.6800 357.4200 372.5800 407.1400 438.4200 449.4600 444.1900 448.9100\n",
       "2021 490.9800 500.4800 498.3800 488.1700 477.7000 474.0000 436.1700 384.4600\n",
       "2022 395.9400 384.2100 391.6700 402.3800 406.4500 411.9200 411.0900 395.8000\n",
       "     Sep      Oct      Nov      Dec     \n",
       "2004 224.1700 222.1400 233.0700 238.5100\n",
       "2005 257.0000 269.3600 272.0000 267.9300\n",
       "2006 267.7100 283.2100 288.1575 293.1050\n",
       "2007 315.2500 323.0000 320.0000 385.7143\n",
       "2008 561.7800 478.5700 431.0700 413.0000\n",
       "2009 392.8600 414.1100 491.6000 529.9100\n",
       "2010 457.6800 477.6800 508.0300 528.2900\n",
       "2011 561.4300 580.5400 568.7500 504.4300\n",
       "2012 455.1800 453.7400 448.3200 413.7500\n",
       "2013 362.0000 376.3200 395.8800 419.4100\n",
       "2014 442.0500 436.9600 422.0000 382.3900\n",
       "2015 326.4300 342.4000 353.6100 371.0000\n",
       "2016 342.7300 336.3900 338.0000 341.0000\n",
       "2017 382.0000 376.1900 379.0100 383.2400\n",
       "2018 384.6500 389.8000 395.7300 399.5200\n",
       "2019 350.8500 325.7900 328.2400 337.4300\n",
       "2020 462.6600 459.1700 469.5000 477.3900\n",
       "2021 387.3000 404.4600 411.4100 402.6600\n",
       "2022 391.7800                           "
      ]
     },
     "metadata": {},
     "output_type": "display_data"
    }
   ],
   "source": [
    "rice_ts"
   ]
  },
  {
   "cell_type": "code",
   "execution_count": null,
   "id": "c20853d6-fd36-489a-a49c-05a7fd41e6eb",
   "metadata": {},
   "outputs": [],
   "source": [
    "# 4. Vẽ Time Series object vừa tạo"
   ]
  },
  {
   "cell_type": "code",
   "execution_count": 13,
   "id": "3d2954b2-27b0-404d-bbeb-b35e10dc6b8c",
   "metadata": {},
   "outputs": [
    {
     "data": {
      "image/png": "[encoded data removed]",
      "text/plain": [
       "Plot with title \"Giá gạo xuất khẩu của Việt Nam\""
      ]
     },
     "metadata": {
      "image/png": {
       "height": 420,
       "width": 420
      }
     },
     "output_type": "display_data"
    }
   ],
   "source": [
    "plot(rice_ts, main = \"Giá gạo xuất khẩu của Việt Nam\", xlab = \"Time\", ylab = \"Price\")"
   ]
  },
  {
   "cell_type": "code",
   "execution_count": null,
   "id": "a4f1d0c9-653b-4f9d-b05d-709653831ed2",
   "metadata": {},
   "outputs": [],
   "source": [
    "# 5. Thực hiện việc decompostition, trực quan và nhận xét."
   ]
  },
  {
   "cell_type": "code",
   "execution_count": 16,
   "id": "4fd1ebdc-5227-4c29-b1c5-1d329132d880",
   "metadata": {},
   "outputs": [],
   "source": [
    "comp <- decompose(rice_ts)"
   ]
  },
  {
   "cell_type": "code",
   "execution_count": 17,
   "id": "9eb276eb-6c54-4acc-9a6b-c90e1f83df1b",
   "metadata": {},
   "outputs": [
    {
     "data": {
      "image/png": "[encoded data removed]",
      "text/plain": [
       "plot without title"
      ]
     },
     "metadata": {
      "image/png": {
       "height": 420,
       "width": 420
      }
     },
     "output_type": "display_data"
    }
   ],
   "source": [
    "plot(comp)"
   ]
  },
  {
   "cell_type": "code",
   "execution_count": 18,
   "id": "a09710d4-6c12-429c-b3fb-65c5d7db47d1",
   "metadata": {},
   "outputs": [
    {
     "data": {
      "text/html": [
       "<table class=\"dataframe\">\n",
       "<caption>A Time Series: 19 × 12</caption>\n",
       "<thead>\n",
       "\t<tr><th></th><th scope=col>Jan</th><th scope=col>Feb</th><th scope=col>Mar</th><th scope=col>Apr</th><th scope=col>May</th><th scope=col>Jun</th><th scope=col>Jul</th><th scope=col>Aug</th><th scope=col>Sep</th><th scope=col>Oct</th><th scope=col>Nov</th><th scope=col>Dec</th></tr>\n",
       "</thead>\n",
       "<tbody>\n",
       "\t<tr><th scope=row>2004</th><td>198.8200</td><td>204.0700</td><td>225.8000</td><td>240.7100</td><td>236.1400</td><td>230.7400</td><td>228.9600</td><td>232.7200</td><td>224.1700</td><td>222.1400</td><td>233.0700</td><td>238.5100</td></tr>\n",
       "\t<tr><th scope=row>2005</th><td>255.3200</td><td>265.6400</td><td>262.9200</td><td>259.9200</td><td>256.1400</td><td>241.4900</td><td>237.2800</td><td>255.6500</td><td>257.0000</td><td>269.3600</td><td>272.0000</td><td>267.9300</td></tr>\n",
       "\t<tr><th scope=row>2006</th><td>263.8600</td><td>264.2900</td><td>244.8600</td><td>244.2500</td><td>256.2300</td><td>259.4300</td><td>257.4300</td><td>263.6300</td><td>267.7100</td><td>283.2100</td><td>288.1575</td><td>293.1050</td></tr>\n",
       "\t<tr><th scope=row>2007</th><td>298.0525</td><td>303.0000</td><td>304.9300</td><td>302.2500</td><td>300.3600</td><td>302.4900</td><td>302.7100</td><td>310.0000</td><td>315.2500</td><td>323.0000</td><td>320.0000</td><td>385.7143</td></tr>\n",
       "\t<tr><th scope=row>2008</th><td>451.4286</td><td>517.1429</td><td>582.8571</td><td>648.5714</td><td>714.2857</td><td>780.0000</td><td>698.0000</td><td>607.5000</td><td>561.7800</td><td>478.5700</td><td>431.0700</td><td>413.0000</td></tr>\n",
       "\t<tr><th scope=row>2009</th><td>386.7900</td><td>418.0900</td><td>424.0450</td><td>430.0000</td><td>405.1800</td><td>404.2800</td><td>410.2300</td><td>395.7200</td><td>392.8600</td><td>414.1100</td><td>491.6000</td><td>529.9100</td></tr>\n",
       "\t<tr><th scope=row>2010</th><td>485.2800</td><td>421.7800</td><td>392.5700</td><td>371.1700</td><td>368.8200</td><td>358.2200</td><td>357.8600</td><td>422.8600</td><td>457.6800</td><td>477.6800</td><td>508.0300</td><td>528.2900</td></tr>\n",
       "\t<tr><th scope=row>2011</th><td>493.8600</td><td>478.5700</td><td>464.0000</td><td>484.2900</td><td>479.6400</td><td>475.2800</td><td>519.4600</td><td>553.4300</td><td>561.4300</td><td>580.5400</td><td>568.7500</td><td>504.4300</td></tr>\n",
       "\t<tr><th scope=row>2012</th><td>451.4300</td><td>430.4300</td><td>428.7500</td><td>440.7200</td><td>433.2900</td><td>411.9600</td><td>409.2800</td><td>436.4300</td><td>455.1800</td><td>453.7400</td><td>448.3200</td><td>413.7500</td></tr>\n",
       "\t<tr><th scope=row>2013</th><td>401.2400</td><td>401.6400</td><td>401.6100</td><td>390.7600</td><td>386.8500</td><td>385.9300</td><td>387.7400</td><td>399.4400</td><td>362.0000</td><td>376.3200</td><td>395.8800</td><td>419.4100</td></tr>\n",
       "\t<tr><th scope=row>2014</th><td>402.0000</td><td>393.1600</td><td>378.5700</td><td>370.9100</td><td>390.4800</td><td>404.5000</td><td>420.8700</td><td>442.6200</td><td>442.0500</td><td>436.9600</td><td>422.0000</td><td>382.3900</td></tr>\n",
       "\t<tr><th scope=row>2015</th><td>374.4200</td><td>353.5000</td><td>360.7400</td><td>354.0200</td><td>351.0000</td><td>349.0000</td><td>345.7800</td><td>340.1300</td><td>326.4300</td><td>342.4000</td><td>353.6100</td><td>371.0000</td></tr>\n",
       "\t<tr><th scope=row>2016</th><td>364.9100</td><td>360.1300</td><td>360.2000</td><td>371.0000</td><td>377.3100</td><td>372.4600</td><td>361.5700</td><td>347.4600</td><td>342.7300</td><td>336.3900</td><td>338.0000</td><td>341.0000</td></tr>\n",
       "\t<tr><th scope=row>2017</th><td>336.5500</td><td>335.3400</td><td>343.5600</td><td>344.6500</td><td>345.0000</td><td>357.1800</td><td>385.8700</td><td>390.3700</td><td>382.0000</td><td>376.1900</td><td>379.0100</td><td>383.2400</td></tr>\n",
       "\t<tr><th scope=row>2018</th><td>380.9400</td><td>395.4300</td><td>409.9200</td><td>413.4300</td><td>419.0000</td><td>443.1000</td><td>440.6500</td><td>401.5600</td><td>384.6500</td><td>389.8000</td><td>395.7300</td><td>399.5200</td></tr>\n",
       "\t<tr><th scope=row>2019</th><td>396.3100</td><td>367.9500</td><td>342.6200</td><td>341.1100</td><td>350.9400</td><td>358.8200</td><td>360.1600</td><td>362.3900</td><td>350.8500</td><td>325.7900</td><td>328.2400</td><td>337.4300</td></tr>\n",
       "\t<tr><th scope=row>2020</th><td>348.6800</td><td>357.4200</td><td>372.5800</td><td>407.1400</td><td>438.4200</td><td>449.4600</td><td>444.1900</td><td>448.9100</td><td>462.6600</td><td>459.1700</td><td>469.5000</td><td>477.3900</td></tr>\n",
       "\t<tr><th scope=row>2021</th><td>490.9800</td><td>500.4800</td><td>498.3800</td><td>488.1700</td><td>477.7000</td><td>474.0000</td><td>436.1700</td><td>384.4600</td><td>387.3000</td><td>404.4600</td><td>411.4100</td><td>402.6600</td></tr>\n",
       "\t<tr><th scope=row>2022</th><td>395.9400</td><td>384.2100</td><td>391.6700</td><td>402.3800</td><td>406.4500</td><td>411.9200</td><td>411.0900</td><td>395.8000</td><td>391.7800</td><td>        </td><td>        </td><td>        </td></tr>\n",
       "</tbody>\n",
       "</table>\n"
      ],
      "text/latex": [
       "A Time Series: 19 × 12\n",
       "\\begin{tabular}{r|llllllllllll}\n",
       "  & Jan & Feb & Mar & Apr & May & Jun & Jul & Aug & Sep & Oct & Nov & Dec\\\\\n",
       "\\hline\n",
       "\t2004 & 198.8200 & 204.0700 & 225.8000 & 240.7100 & 236.1400 & 230.7400 & 228.9600 & 232.7200 & 224.1700 & 222.1400 & 233.0700 & 238.5100\\\\\n",
       "\t2005 & 255.3200 & 265.6400 & 262.9200 & 259.9200 & 256.1400 & 241.4900 & 237.2800 & 255.6500 & 257.0000 & 269.3600 & 272.0000 & 267.9300\\\\\n",
       "\t2006 & 263.8600 & 264.2900 & 244.8600 & 244.2500 & 256.2300 & 259.4300 & 257.4300 & 263.6300 & 267.7100 & 283.2100 & 288.1575 & 293.1050\\\\\n",
       "\t2007 & 298.0525 & 303.0000 & 304.9300 & 302.2500 & 300.3600 & 302.4900 & 302.7100 & 310.0000 & 315.2500 & 323.0000 & 320.0000 & 385.7143\\\\\n",
       "\t2008 & 451.4286 & 517.1429 & 582.8571 & 648.5714 & 714.2857 & 780.0000 & 698.0000 & 607.5000 & 561.7800 & 478.5700 & 431.0700 & 413.0000\\\\\n",
       "\t2009 & 386.7900 & 418.0900 & 424.0450 & 430.0000 & 405.1800 & 404.2800 & 410.2300 & 395.7200 & 392.8600 & 414.1100 & 491.6000 & 529.9100\\\\\n",
       "\t2010 & 485.2800 & 421.7800 & 392.5700 & 371.1700 & 368.8200 & 358.2200 & 357.8600 & 422.8600 & 457.6800 & 477.6800 & 508.0300 & 528.2900\\\\\n",
       "\t2011 & 493.8600 & 478.5700 & 464.0000 & 484.2900 & 479.6400 & 475.2800 & 519.4600 & 553.4300 & 561.4300 & 580.5400 & 568.7500 & 504.4300\\\\\n",
       "\t2012 & 451.4300 & 430.4300 & 428.7500 & 440.7200 & 433.2900 & 411.9600 & 409.2800 & 436.4300 & 455.1800 & 453.7400 & 448.3200 & 413.7500\\\\\n",
       "\t2013 & 401.2400 & 401.6400 & 401.6100 & 390.7600 & 386.8500 & 385.9300 & 387.7400 & 399.4400 & 362.0000 & 376.3200 & 395.8800 & 419.4100\\\\\n",
       "\t2014 & 402.0000 & 393.1600 & 378.5700 & 370.9100 & 390.4800 & 404.5000 & 420.8700 & 442.6200 & 442.0500 & 436.9600 & 422.0000 & 382.3900\\\\\n",
       "\t2015 & 374.4200 & 353.5000 & 360.7400 & 354.0200 & 351.0000 & 349.0000 & 345.7800 & 340.1300 & 326.4300 & 342.4000 & 353.6100 & 371.0000\\\\\n",
       "\t2016 & 364.9100 & 360.1300 & 360.2000 & 371.0000 & 377.3100 & 372.4600 & 361.5700 & 347.4600 & 342.7300 & 336.3900 & 338.0000 & 341.0000\\\\\n",
       "\t2017 & 336.5500 & 335.3400 & 343.5600 & 344.6500 & 345.0000 & 357.1800 & 385.8700 & 390.3700 & 382.0000 & 376.1900 & 379.0100 & 383.2400\\\\\n",
       "\t2018 & 380.9400 & 395.4300 & 409.9200 & 413.4300 & 419.0000 & 443.1000 & 440.6500 & 401.5600 & 384.6500 & 389.8000 & 395.7300 & 399.5200\\\\\n",
       "\t2019 & 396.3100 & 367.9500 & 342.6200 & 341.1100 & 350.9400 & 358.8200 & 360.1600 & 362.3900 & 350.8500 & 325.7900 & 328.2400 & 337.4300\\\\\n",
       "\t2020 & 348.6800 & 357.4200 & 372.5800 & 407.1400 & 438.4200 & 449.4600 & 444.1900 & 448.9100 & 462.6600 & 459.1700 & 469.5000 & 477.3900\\\\\n",
       "\t2021 & 490.9800 & 500.4800 & 498.3800 & 488.1700 & 477.7000 & 474.0000 & 436.1700 & 384.4600 & 387.3000 & 404.4600 & 411.4100 & 402.6600\\\\\n",
       "\t2022 & 395.9400 & 384.2100 & 391.6700 & 402.3800 & 406.4500 & 411.9200 & 411.0900 & 395.8000 & 391.7800 &          &          &         \\\\\n",
       "\\end{tabular}\n"
      ],
      "text/markdown": [
       "\n",
       "A Time Series: 19 × 12\n",
       "\n",
       "| <!--/--> | Jan | Feb | Mar | Apr | May | Jun | Jul | Aug | Sep | Oct | Nov | Dec |\n",
       "|---|---|---|---|---|---|---|---|---|---|---|---|---|\n",
       "| 2004 | 198.8200 | 204.0700 | 225.8000 | 240.7100 | 236.1400 | 230.7400 | 228.9600 | 232.7200 | 224.1700 | 222.1400 | 233.0700 | 238.5100 |\n",
       "| 2005 | 255.3200 | 265.6400 | 262.9200 | 259.9200 | 256.1400 | 241.4900 | 237.2800 | 255.6500 | 257.0000 | 269.3600 | 272.0000 | 267.9300 |\n",
       "| 2006 | 263.8600 | 264.2900 | 244.8600 | 244.2500 | 256.2300 | 259.4300 | 257.4300 | 263.6300 | 267.7100 | 283.2100 | 288.1575 | 293.1050 |\n",
       "| 2007 | 298.0525 | 303.0000 | 304.9300 | 302.2500 | 300.3600 | 302.4900 | 302.7100 | 310.0000 | 315.2500 | 323.0000 | 320.0000 | 385.7143 |\n",
       "| 2008 | 451.4286 | 517.1429 | 582.8571 | 648.5714 | 714.2857 | 780.0000 | 698.0000 | 607.5000 | 561.7800 | 478.5700 | 431.0700 | 413.0000 |\n",
       "| 2009 | 386.7900 | 418.0900 | 424.0450 | 430.0000 | 405.1800 | 404.2800 | 410.2300 | 395.7200 | 392.8600 | 414.1100 | 491.6000 | 529.9100 |\n",
       "| 2010 | 485.2800 | 421.7800 | 392.5700 | 371.1700 | 368.8200 | 358.2200 | 357.8600 | 422.8600 | 457.6800 | 477.6800 | 508.0300 | 528.2900 |\n",
       "| 2011 | 493.8600 | 478.5700 | 464.0000 | 484.2900 | 479.6400 | 475.2800 | 519.4600 | 553.4300 | 561.4300 | 580.5400 | 568.7500 | 504.4300 |\n",
       "| 2012 | 451.4300 | 430.4300 | 428.7500 | 440.7200 | 433.2900 | 411.9600 | 409.2800 | 436.4300 | 455.1800 | 453.7400 | 448.3200 | 413.7500 |\n",
       "| 2013 | 401.2400 | 401.6400 | 401.6100 | 390.7600 | 386.8500 | 385.9300 | 387.7400 | 399.4400 | 362.0000 | 376.3200 | 395.8800 | 419.4100 |\n",
       "| 2014 | 402.0000 | 393.1600 | 378.5700 | 370.9100 | 390.4800 | 404.5000 | 420.8700 | 442.6200 | 442.0500 | 436.9600 | 422.0000 | 382.3900 |\n",
       "| 2015 | 374.4200 | 353.5000 | 360.7400 | 354.0200 | 351.0000 | 349.0000 | 345.7800 | 340.1300 | 326.4300 | 342.4000 | 353.6100 | 371.0000 |\n",
       "| 2016 | 364.9100 | 360.1300 | 360.2000 | 371.0000 | 377.3100 | 372.4600 | 361.5700 | 347.4600 | 342.7300 | 336.3900 | 338.0000 | 341.0000 |\n",
       "| 2017 | 336.5500 | 335.3400 | 343.5600 | 344.6500 | 345.0000 | 357.1800 | 385.8700 | 390.3700 | 382.0000 | 376.1900 | 379.0100 | 383.2400 |\n",
       "| 2018 | 380.9400 | 395.4300 | 409.9200 | 413.4300 | 419.0000 | 443.1000 | 440.6500 | 401.5600 | 384.6500 | 389.8000 | 395.7300 | 399.5200 |\n",
       "| 2019 | 396.3100 | 367.9500 | 342.6200 | 341.1100 | 350.9400 | 358.8200 | 360.1600 | 362.3900 | 350.8500 | 325.7900 | 328.2400 | 337.4300 |\n",
       "| 2020 | 348.6800 | 357.4200 | 372.5800 | 407.1400 | 438.4200 | 449.4600 | 444.1900 | 448.9100 | 462.6600 | 459.1700 | 469.5000 | 477.3900 |\n",
       "| 2021 | 490.9800 | 500.4800 | 498.3800 | 488.1700 | 477.7000 | 474.0000 | 436.1700 | 384.4600 | 387.3000 | 404.4600 | 411.4100 | 402.6600 |\n",
       "| 2022 | 395.9400 | 384.2100 | 391.6700 | 402.3800 | 406.4500 | 411.9200 | 411.0900 | 395.8000 | 391.7800 | <!----> | <!----> | <!----> |\n",
       "\n"
      ],
      "text/plain": [
       "     Jan      Feb      Mar      Apr      May      Jun      Jul      Aug     \n",
       "2004 198.8200 204.0700 225.8000 240.7100 236.1400 230.7400 228.9600 232.7200\n",
       "2005 255.3200 265.6400 262.9200 259.9200 256.1400 241.4900 237.2800 255.6500\n",
       "2006 263.8600 264.2900 244.8600 244.2500 256.2300 259.4300 257.4300 263.6300\n",
       "2007 298.0525 303.0000 304.9300 302.2500 300.3600 302.4900 302.7100 310.0000\n",
       "2008 451.4286 517.1429 582.8571 648.5714 714.2857 780.0000 698.0000 607.5000\n",
       "2009 386.7900 418.0900 424.0450 430.0000 405.1800 404.2800 410.2300 395.7200\n",
       "2010 485.2800 421.7800 392.5700 371.1700 368.8200 358.2200 357.8600 422.8600\n",
       "2011 493.8600 478.5700 464.0000 484.2900 479.6400 475.2800 519.4600 553.4300\n",
       "2012 451.4300 430.4300 428.7500 440.7200 433.2900 411.9600 409.2800 436.4300\n",
       "2013 401.2400 401.6400 401.6100 390.7600 386.8500 385.9300 387.7400 399.4400\n",
       "2014 402.0000 393.1600 378.5700 370.9100 390.4800 404.5000 420.8700 442.6200\n",
       "2015 374.4200 353.5000 360.7400 354.0200 351.0000 349.0000 345.7800 340.1300\n",
       "2016 364.9100 360.1300 360.2000 371.0000 377.3100 372.4600 361.5700 347.4600\n",
       "2017 336.5500 335.3400 343.5600 344.6500 345.0000 357.1800 385.8700 390.3700\n",
       "2018 380.9400 395.4300 409.9200 413.4300 419.0000 443.1000 440.6500 401.5600\n",
       "2019 396.3100 367.9500 342.6200 341.1100 350.9400 358.8200 360.1600 362.3900\n",
       "2020 348.6800 357.4200 372.5800 407.1400 438.4200 449.4600 444.1900 448.9100\n",
       "2021 490.9800 500.4800 498.3800 488.1700 477.7000 474.0000 436.1700 384.4600\n",
       "2022 395.9400 384.2100 391.6700 402.3800 406.4500 411.9200 411.0900 395.8000\n",
       "     Sep      Oct      Nov      Dec     \n",
       "2004 224.1700 222.1400 233.0700 238.5100\n",
       "2005 257.0000 269.3600 272.0000 267.9300\n",
       "2006 267.7100 283.2100 288.1575 293.1050\n",
       "2007 315.2500 323.0000 320.0000 385.7143\n",
       "2008 561.7800 478.5700 431.0700 413.0000\n",
       "2009 392.8600 414.1100 491.6000 529.9100\n",
       "2010 457.6800 477.6800 508.0300 528.2900\n",
       "2011 561.4300 580.5400 568.7500 504.4300\n",
       "2012 455.1800 453.7400 448.3200 413.7500\n",
       "2013 362.0000 376.3200 395.8800 419.4100\n",
       "2014 442.0500 436.9600 422.0000 382.3900\n",
       "2015 326.4300 342.4000 353.6100 371.0000\n",
       "2016 342.7300 336.3900 338.0000 341.0000\n",
       "2017 382.0000 376.1900 379.0100 383.2400\n",
       "2018 384.6500 389.8000 395.7300 399.5200\n",
       "2019 350.8500 325.7900 328.2400 337.4300\n",
       "2020 462.6600 459.1700 469.5000 477.3900\n",
       "2021 387.3000 404.4600 411.4100 402.6600\n",
       "2022 391.7800                           "
      ]
     },
     "metadata": {},
     "output_type": "display_data"
    }
   ],
   "source": [
    "comp$x"
   ]
  },
  {
   "cell_type": "code",
   "execution_count": 19,
   "id": "bfa578ac-5c43-4e44-95c5-60045ca92d19",
   "metadata": {},
   "outputs": [
    {
     "data": {
      "text/html": [
       "<table class=\"dataframe\">\n",
       "<caption>A Time Series: 19 × 12</caption>\n",
       "<thead>\n",
       "\t<tr><th></th><th scope=col>Jan</th><th scope=col>Feb</th><th scope=col>Mar</th><th scope=col>Apr</th><th scope=col>May</th><th scope=col>Jun</th><th scope=col>Jul</th><th scope=col>Aug</th><th scope=col>Sep</th><th scope=col>Oct</th><th scope=col>Nov</th><th scope=col>Dec</th></tr>\n",
       "</thead>\n",
       "<tbody>\n",
       "\t<tr><th scope=row>2004</th><td>-3.347346</td><td>-5.801344</td><td>-5.645758</td><td>-1.050566</td><td> 3.258657</td><td> 6.945943</td><td> 2.964794</td><td> 1.595396</td><td>-2.624998</td><td>-2.488748</td><td> 2.550974</td><td> 3.642995</td></tr>\n",
       "\t<tr><th scope=row>2005</th><td>-3.347346</td><td>-5.801344</td><td>-5.645758</td><td>-1.050566</td><td> 3.258657</td><td> 6.945943</td><td> 2.964794</td><td> 1.595396</td><td>-2.624998</td><td>-2.488748</td><td> 2.550974</td><td> 3.642995</td></tr>\n",
       "\t<tr><th scope=row>2006</th><td>-3.347346</td><td>-5.801344</td><td>-5.645758</td><td>-1.050566</td><td> 3.258657</td><td> 6.945943</td><td> 2.964794</td><td> 1.595396</td><td>-2.624998</td><td>-2.488748</td><td> 2.550974</td><td> 3.642995</td></tr>\n",
       "\t<tr><th scope=row>2007</th><td>-3.347346</td><td>-5.801344</td><td>-5.645758</td><td>-1.050566</td><td> 3.258657</td><td> 6.945943</td><td> 2.964794</td><td> 1.595396</td><td>-2.624998</td><td>-2.488748</td><td> 2.550974</td><td> 3.642995</td></tr>\n",
       "\t<tr><th scope=row>2008</th><td>-3.347346</td><td>-5.801344</td><td>-5.645758</td><td>-1.050566</td><td> 3.258657</td><td> 6.945943</td><td> 2.964794</td><td> 1.595396</td><td>-2.624998</td><td>-2.488748</td><td> 2.550974</td><td> 3.642995</td></tr>\n",
       "\t<tr><th scope=row>2009</th><td>-3.347346</td><td>-5.801344</td><td>-5.645758</td><td>-1.050566</td><td> 3.258657</td><td> 6.945943</td><td> 2.964794</td><td> 1.595396</td><td>-2.624998</td><td>-2.488748</td><td> 2.550974</td><td> 3.642995</td></tr>\n",
       "\t<tr><th scope=row>2010</th><td>-3.347346</td><td>-5.801344</td><td>-5.645758</td><td>-1.050566</td><td> 3.258657</td><td> 6.945943</td><td> 2.964794</td><td> 1.595396</td><td>-2.624998</td><td>-2.488748</td><td> 2.550974</td><td> 3.642995</td></tr>\n",
       "\t<tr><th scope=row>2011</th><td>-3.347346</td><td>-5.801344</td><td>-5.645758</td><td>-1.050566</td><td> 3.258657</td><td> 6.945943</td><td> 2.964794</td><td> 1.595396</td><td>-2.624998</td><td>-2.488748</td><td> 2.550974</td><td> 3.642995</td></tr>\n",
       "\t<tr><th scope=row>2012</th><td>-3.347346</td><td>-5.801344</td><td>-5.645758</td><td>-1.050566</td><td> 3.258657</td><td> 6.945943</td><td> 2.964794</td><td> 1.595396</td><td>-2.624998</td><td>-2.488748</td><td> 2.550974</td><td> 3.642995</td></tr>\n",
       "\t<tr><th scope=row>2013</th><td>-3.347346</td><td>-5.801344</td><td>-5.645758</td><td>-1.050566</td><td> 3.258657</td><td> 6.945943</td><td> 2.964794</td><td> 1.595396</td><td>-2.624998</td><td>-2.488748</td><td> 2.550974</td><td> 3.642995</td></tr>\n",
       "\t<tr><th scope=row>2014</th><td>-3.347346</td><td>-5.801344</td><td>-5.645758</td><td>-1.050566</td><td> 3.258657</td><td> 6.945943</td><td> 2.964794</td><td> 1.595396</td><td>-2.624998</td><td>-2.488748</td><td> 2.550974</td><td> 3.642995</td></tr>\n",
       "\t<tr><th scope=row>2015</th><td>-3.347346</td><td>-5.801344</td><td>-5.645758</td><td>-1.050566</td><td> 3.258657</td><td> 6.945943</td><td> 2.964794</td><td> 1.595396</td><td>-2.624998</td><td>-2.488748</td><td> 2.550974</td><td> 3.642995</td></tr>\n",
       "\t<tr><th scope=row>2016</th><td>-3.347346</td><td>-5.801344</td><td>-5.645758</td><td>-1.050566</td><td> 3.258657</td><td> 6.945943</td><td> 2.964794</td><td> 1.595396</td><td>-2.624998</td><td>-2.488748</td><td> 2.550974</td><td> 3.642995</td></tr>\n",
       "\t<tr><th scope=row>2017</th><td>-3.347346</td><td>-5.801344</td><td>-5.645758</td><td>-1.050566</td><td> 3.258657</td><td> 6.945943</td><td> 2.964794</td><td> 1.595396</td><td>-2.624998</td><td>-2.488748</td><td> 2.550974</td><td> 3.642995</td></tr>\n",
       "\t<tr><th scope=row>2018</th><td>-3.347346</td><td>-5.801344</td><td>-5.645758</td><td>-1.050566</td><td> 3.258657</td><td> 6.945943</td><td> 2.964794</td><td> 1.595396</td><td>-2.624998</td><td>-2.488748</td><td> 2.550974</td><td> 3.642995</td></tr>\n",
       "\t<tr><th scope=row>2019</th><td>-3.347346</td><td>-5.801344</td><td>-5.645758</td><td>-1.050566</td><td> 3.258657</td><td> 6.945943</td><td> 2.964794</td><td> 1.595396</td><td>-2.624998</td><td>-2.488748</td><td> 2.550974</td><td> 3.642995</td></tr>\n",
       "\t<tr><th scope=row>2020</th><td>-3.347346</td><td>-5.801344</td><td>-5.645758</td><td>-1.050566</td><td> 3.258657</td><td> 6.945943</td><td> 2.964794</td><td> 1.595396</td><td>-2.624998</td><td>-2.488748</td><td> 2.550974</td><td> 3.642995</td></tr>\n",
       "\t<tr><th scope=row>2021</th><td>-3.347346</td><td>-5.801344</td><td>-5.645758</td><td>-1.050566</td><td> 3.258657</td><td> 6.945943</td><td> 2.964794</td><td> 1.595396</td><td>-2.624998</td><td>-2.488748</td><td> 2.550974</td><td> 3.642995</td></tr>\n",
       "\t<tr><th scope=row>2022</th><td>-3.347346</td><td>-5.801344</td><td>-5.645758</td><td>-1.050566</td><td> 3.258657</td><td> 6.945943</td><td> 2.964794</td><td> 1.595396</td><td>-2.624998</td><td>         </td><td>         </td><td>         </td></tr>\n",
       "</tbody>\n",
       "</table>\n"
      ],
      "text/latex": [
       "A Time Series: 19 × 12\n",
       "\\begin{tabular}{r|llllllllllll}\n",
       "  & Jan & Feb & Mar & Apr & May & Jun & Jul & Aug & Sep & Oct & Nov & Dec\\\\\n",
       "\\hline\n",
       "\t2004 & -3.347346 & -5.801344 & -5.645758 & -1.050566 &  3.258657 &  6.945943 &  2.964794 &  1.595396 & -2.624998 & -2.488748 &  2.550974 &  3.642995\\\\\n",
       "\t2005 & -3.347346 & -5.801344 & -5.645758 & -1.050566 &  3.258657 &  6.945943 &  2.964794 &  1.595396 & -2.624998 & -2.488748 &  2.550974 &  3.642995\\\\\n",
       "\t2006 & -3.347346 & -5.801344 & -5.645758 & -1.050566 &  3.258657 &  6.945943 &  2.964794 &  1.595396 & -2.624998 & -2.488748 &  2.550974 &  3.642995\\\\\n",
       "\t2007 & -3.347346 & -5.801344 & -5.645758 & -1.050566 &  3.258657 &  6.945943 &  2.964794 &  1.595396 & -2.624998 & -2.488748 &  2.550974 &  3.642995\\\\\n",
       "\t2008 & -3.347346 & -5.801344 & -5.645758 & -1.050566 &  3.258657 &  6.945943 &  2.964794 &  1.595396 & -2.624998 & -2.488748 &  2.550974 &  3.642995\\\\\n",
       "\t2009 & -3.347346 & -5.801344 & -5.645758 & -1.050566 &  3.258657 &  6.945943 &  2.964794 &  1.595396 & -2.624998 & -2.488748 &  2.550974 &  3.642995\\\\\n",
       "\t2010 & -3.347346 & -5.801344 & -5.645758 & -1.050566 &  3.258657 &  6.945943 &  2.964794 &  1.595396 & -2.624998 & -2.488748 &  2.550974 &  3.642995\\\\\n",
       "\t2011 & -3.347346 & -5.801344 & -5.645758 & -1.050566 &  3.258657 &  6.945943 &  2.964794 &  1.595396 & -2.624998 & -2.488748 &  2.550974 &  3.642995\\\\\n",
       "\t2012 & -3.347346 & -5.801344 & -5.645758 & -1.050566 &  3.258657 &  6.945943 &  2.964794 &  1.595396 & -2.624998 & -2.488748 &  2.550974 &  3.642995\\\\\n",
       "\t2013 & -3.347346 & -5.801344 & -5.645758 & -1.050566 &  3.258657 &  6.945943 &  2.964794 &  1.595396 & -2.624998 & -2.488748 &  2.550974 &  3.642995\\\\\n",
       "\t2014 & -3.347346 & -5.801344 & -5.645758 & -1.050566 &  3.258657 &  6.945943 &  2.964794 &  1.595396 & -2.624998 & -2.488748 &  2.550974 &  3.642995\\\\\n",
       "\t2015 & -3.347346 & -5.801344 & -5.645758 & -1.050566 &  3.258657 &  6.945943 &  2.964794 &  1.595396 & -2.624998 & -2.488748 &  2.550974 &  3.642995\\\\\n",
       "\t2016 & -3.347346 & -5.801344 & -5.645758 & -1.050566 &  3.258657 &  6.945943 &  2.964794 &  1.595396 & -2.624998 & -2.488748 &  2.550974 &  3.642995\\\\\n",
       "\t2017 & -3.347346 & -5.801344 & -5.645758 & -1.050566 &  3.258657 &  6.945943 &  2.964794 &  1.595396 & -2.624998 & -2.488748 &  2.550974 &  3.642995\\\\\n",
       "\t2018 & -3.347346 & -5.801344 & -5.645758 & -1.050566 &  3.258657 &  6.945943 &  2.964794 &  1.595396 & -2.624998 & -2.488748 &  2.550974 &  3.642995\\\\\n",
       "\t2019 & -3.347346 & -5.801344 & -5.645758 & -1.050566 &  3.258657 &  6.945943 &  2.964794 &  1.595396 & -2.624998 & -2.488748 &  2.550974 &  3.642995\\\\\n",
       "\t2020 & -3.347346 & -5.801344 & -5.645758 & -1.050566 &  3.258657 &  6.945943 &  2.964794 &  1.595396 & -2.624998 & -2.488748 &  2.550974 &  3.642995\\\\\n",
       "\t2021 & -3.347346 & -5.801344 & -5.645758 & -1.050566 &  3.258657 &  6.945943 &  2.964794 &  1.595396 & -2.624998 & -2.488748 &  2.550974 &  3.642995\\\\\n",
       "\t2022 & -3.347346 & -5.801344 & -5.645758 & -1.050566 &  3.258657 &  6.945943 &  2.964794 &  1.595396 & -2.624998 &           &           &          \\\\\n",
       "\\end{tabular}\n"
      ],
      "text/markdown": [
       "\n",
       "A Time Series: 19 × 12\n",
       "\n",
       "| <!--/--> | Jan | Feb | Mar | Apr | May | Jun | Jul | Aug | Sep | Oct | Nov | Dec |\n",
       "|---|---|---|---|---|---|---|---|---|---|---|---|---|\n",
       "| 2004 | -3.347346 | -5.801344 | -5.645758 | -1.050566 |  3.258657 |  6.945943 |  2.964794 |  1.595396 | -2.624998 | -2.488748 |  2.550974 |  3.642995 |\n",
       "| 2005 | -3.347346 | -5.801344 | -5.645758 | -1.050566 |  3.258657 |  6.945943 |  2.964794 |  1.595396 | -2.624998 | -2.488748 |  2.550974 |  3.642995 |\n",
       "| 2006 | -3.347346 | -5.801344 | -5.645758 | -1.050566 |  3.258657 |  6.945943 |  2.964794 |  1.595396 | -2.624998 | -2.488748 |  2.550974 |  3.642995 |\n",
       "| 2007 | -3.347346 | -5.801344 | -5.645758 | -1.050566 |  3.258657 |  6.945943 |  2.964794 |  1.595396 | -2.624998 | -2.488748 |  2.550974 |  3.642995 |\n",
       "| 2008 | -3.347346 | -5.801344 | -5.645758 | -1.050566 |  3.258657 |  6.945943 |  2.964794 |  1.595396 | -2.624998 | -2.488748 |  2.550974 |  3.642995 |\n",
       "| 2009 | -3.347346 | -5.801344 | -5.645758 | -1.050566 |  3.258657 |  6.945943 |  2.964794 |  1.595396 | -2.624998 | -2.488748 |  2.550974 |  3.642995 |\n",
       "| 2010 | -3.347346 | -5.801344 | -5.645758 | -1.050566 |  3.258657 |  6.945943 |  2.964794 |  1.595396 | -2.624998 | -2.488748 |  2.550974 |  3.642995 |\n",
       "| 2011 | -3.347346 | -5.801344 | -5.645758 | -1.050566 |  3.258657 |  6.945943 |  2.964794 |  1.595396 | -2.624998 | -2.488748 |  2.550974 |  3.642995 |\n",
       "| 2012 | -3.347346 | -5.801344 | -5.645758 | -1.050566 |  3.258657 |  6.945943 |  2.964794 |  1.595396 | -2.624998 | -2.488748 |  2.550974 |  3.642995 |\n",
       "| 2013 | -3.347346 | -5.801344 | -5.645758 | -1.050566 |  3.258657 |  6.945943 |  2.964794 |  1.595396 | -2.624998 | -2.488748 |  2.550974 |  3.642995 |\n",
       "| 2014 | -3.347346 | -5.801344 | -5.645758 | -1.050566 |  3.258657 |  6.945943 |  2.964794 |  1.595396 | -2.624998 | -2.488748 |  2.550974 |  3.642995 |\n",
       "| 2015 | -3.347346 | -5.801344 | -5.645758 | -1.050566 |  3.258657 |  6.945943 |  2.964794 |  1.595396 | -2.624998 | -2.488748 |  2.550974 |  3.642995 |\n",
       "| 2016 | -3.347346 | -5.801344 | -5.645758 | -1.050566 |  3.258657 |  6.945943 |  2.964794 |  1.595396 | -2.624998 | -2.488748 |  2.550974 |  3.642995 |\n",
       "| 2017 | -3.347346 | -5.801344 | -5.645758 | -1.050566 |  3.258657 |  6.945943 |  2.964794 |  1.595396 | -2.624998 | -2.488748 |  2.550974 |  3.642995 |\n",
       "| 2018 | -3.347346 | -5.801344 | -5.645758 | -1.050566 |  3.258657 |  6.945943 |  2.964794 |  1.595396 | -2.624998 | -2.488748 |  2.550974 |  3.642995 |\n",
       "| 2019 | -3.347346 | -5.801344 | -5.645758 | -1.050566 |  3.258657 |  6.945943 |  2.964794 |  1.595396 | -2.624998 | -2.488748 |  2.550974 |  3.642995 |\n",
       "| 2020 | -3.347346 | -5.801344 | -5.645758 | -1.050566 |  3.258657 |  6.945943 |  2.964794 |  1.595396 | -2.624998 | -2.488748 |  2.550974 |  3.642995 |\n",
       "| 2021 | -3.347346 | -5.801344 | -5.645758 | -1.050566 |  3.258657 |  6.945943 |  2.964794 |  1.595396 | -2.624998 | -2.488748 |  2.550974 |  3.642995 |\n",
       "| 2022 | -3.347346 | -5.801344 | -5.645758 | -1.050566 |  3.258657 |  6.945943 |  2.964794 |  1.595396 | -2.624998 | <!----> | <!----> | <!----> |\n",
       "\n"
      ],
      "text/plain": [
       "     Jan       Feb       Mar       Apr       May       Jun       Jul      \n",
       "2004 -3.347346 -5.801344 -5.645758 -1.050566  3.258657  6.945943  2.964794\n",
       "2005 -3.347346 -5.801344 -5.645758 -1.050566  3.258657  6.945943  2.964794\n",
       "2006 -3.347346 -5.801344 -5.645758 -1.050566  3.258657  6.945943  2.964794\n",
       "2007 -3.347346 -5.801344 -5.645758 -1.050566  3.258657  6.945943  2.964794\n",
       "2008 -3.347346 -5.801344 -5.645758 -1.050566  3.258657  6.945943  2.964794\n",
       "2009 -3.347346 -5.801344 -5.645758 -1.050566  3.258657  6.945943  2.964794\n",
       "2010 -3.347346 -5.801344 -5.645758 -1.050566  3.258657  6.945943  2.964794\n",
       "2011 -3.347346 -5.801344 -5.645758 -1.050566  3.258657  6.945943  2.964794\n",
       "2012 -3.347346 -5.801344 -5.645758 -1.050566  3.258657  6.945943  2.964794\n",
       "2013 -3.347346 -5.801344 -5.645758 -1.050566  3.258657  6.945943  2.964794\n",
       "2014 -3.347346 -5.801344 -5.645758 -1.050566  3.258657  6.945943  2.964794\n",
       "2015 -3.347346 -5.801344 -5.645758 -1.050566  3.258657  6.945943  2.964794\n",
       "2016 -3.347346 -5.801344 -5.645758 -1.050566  3.258657  6.945943  2.964794\n",
       "2017 -3.347346 -5.801344 -5.645758 -1.050566  3.258657  6.945943  2.964794\n",
       "2018 -3.347346 -5.801344 -5.645758 -1.050566  3.258657  6.945943  2.964794\n",
       "2019 -3.347346 -5.801344 -5.645758 -1.050566  3.258657  6.945943  2.964794\n",
       "2020 -3.347346 -5.801344 -5.645758 -1.050566  3.258657  6.945943  2.964794\n",
       "2021 -3.347346 -5.801344 -5.645758 -1.050566  3.258657  6.945943  2.964794\n",
       "2022 -3.347346 -5.801344 -5.645758 -1.050566  3.258657  6.945943  2.964794\n",
       "     Aug       Sep       Oct       Nov       Dec      \n",
       "2004  1.595396 -2.624998 -2.488748  2.550974  3.642995\n",
       "2005  1.595396 -2.624998 -2.488748  2.550974  3.642995\n",
       "2006  1.595396 -2.624998 -2.488748  2.550974  3.642995\n",
       "2007  1.595396 -2.624998 -2.488748  2.550974  3.642995\n",
       "2008  1.595396 -2.624998 -2.488748  2.550974  3.642995\n",
       "2009  1.595396 -2.624998 -2.488748  2.550974  3.642995\n",
       "2010  1.595396 -2.624998 -2.488748  2.550974  3.642995\n",
       "2011  1.595396 -2.624998 -2.488748  2.550974  3.642995\n",
       "2012  1.595396 -2.624998 -2.488748  2.550974  3.642995\n",
       "2013  1.595396 -2.624998 -2.488748  2.550974  3.642995\n",
       "2014  1.595396 -2.624998 -2.488748  2.550974  3.642995\n",
       "2015  1.595396 -2.624998 -2.488748  2.550974  3.642995\n",
       "2016  1.595396 -2.624998 -2.488748  2.550974  3.642995\n",
       "2017  1.595396 -2.624998 -2.488748  2.550974  3.642995\n",
       "2018  1.595396 -2.624998 -2.488748  2.550974  3.642995\n",
       "2019  1.595396 -2.624998 -2.488748  2.550974  3.642995\n",
       "2020  1.595396 -2.624998 -2.488748  2.550974  3.642995\n",
       "2021  1.595396 -2.624998 -2.488748  2.550974  3.642995\n",
       "2022  1.595396 -2.624998                              "
      ]
     },
     "metadata": {},
     "output_type": "display_data"
    }
   ],
   "source": [
    "comp$seasonal"
   ]
  },
  {
   "cell_type": "code",
   "execution_count": 20,
   "id": "39f15a1e-235f-4f0d-866c-d2ab57b7d9fa",
   "metadata": {},
   "outputs": [
    {
     "data": {
      "text/html": [
       "<table class=\"dataframe\">\n",
       "<caption>A Time Series: 19 × 12</caption>\n",
       "<thead>\n",
       "\t<tr><th></th><th scope=col>Jan</th><th scope=col>Feb</th><th scope=col>Mar</th><th scope=col>Apr</th><th scope=col>May</th><th scope=col>Jun</th><th scope=col>Jul</th><th scope=col>Aug</th><th scope=col>Sep</th><th scope=col>Oct</th><th scope=col>Nov</th><th scope=col>Dec</th></tr>\n",
       "</thead>\n",
       "<tbody>\n",
       "\t<tr><th scope=row>2004</th><td>      NA</td><td>      NA</td><td>      NA</td><td>      NA</td><td>      NA</td><td>      NA</td><td>228.6750</td><td>233.5946</td><td>237.7067</td><td>240.0538</td><td>241.6875</td><td>242.9687</td></tr>\n",
       "\t<tr><th scope=row>2005</th><td>243.7633</td><td>245.0654</td><td>247.3887</td><td>250.7242</td><td>254.3137</td><td>257.1617</td><td>258.7433</td><td>259.0429</td><td>258.2342</td><td>256.8288</td><td>256.1796</td><td>256.9308</td></tr>\n",
       "\t<tr><th scope=row>2006</th><td>258.5179</td><td>259.6900</td><td>260.4688</td><td>261.4921</td><td>262.7424</td><td>264.4646</td><td>266.9382</td><td>269.9758</td><td>274.0917</td><td>279.0112</td><td>283.2667</td><td>286.8996</td></tr>\n",
       "\t<tr><th scope=row>2007</th><td>290.5804</td><td>294.3992</td><td>298.3121</td><td>301.9508</td><td>304.9355</td><td>310.1210</td><td>320.3704</td><td>335.6837</td><td>356.1866</td><td>382.1970</td><td>413.8739</td><td>451.0171</td></tr>\n",
       "\t<tr><th scope=row>2008</th><td>487.3837</td><td>516.2500</td><td>538.9179</td><td>555.6721</td><td>566.7821</td><td>572.5469</td><td>570.9905</td><td>564.1701</td><td>553.4257</td><td>537.7014</td><td>515.7148</td><td>487.1804</td></tr>\n",
       "\t<tr><th scope=row>2009</th><td>459.5350</td><td>438.7204</td><td>422.8579</td><td>413.1337</td><td>412.9700</td><td>420.3633</td><td>429.3383</td><td>433.5958</td><td>432.4381</td><td>428.6754</td><td>424.7092</td><td>421.2750</td></tr>\n",
       "\t<tr><th scope=row>2010</th><td>417.1738</td><td>416.1225</td><td>419.9542</td><td>425.3038</td><td>428.6371</td><td>429.2542</td><td>429.5442</td><td>432.2679</td><td>437.6104</td><td>445.3000</td><td>454.6308</td><td>464.1258</td></tr>\n",
       "\t<tr><th scope=row>2011</th><td>475.7367</td><td>487.9104</td><td>497.6737</td><td>506.2825</td><td>513.0983</td><td>514.6342</td><td>511.8721</td><td>508.0983</td><td>504.6238</td><td>501.3396</td><td>497.5929</td><td>493.0233</td></tr>\n",
       "\t<tr><th scope=row>2012</th><td>485.7942</td><td>476.3283</td><td>467.0262</td><td>457.3158</td><td>447.0146</td><td>438.2183</td><td>432.3488</td><td>429.0579</td><td>426.7275</td><td>423.5150</td><td>419.4983</td><td>416.4788</td></tr>\n",
       "\t<tr><th scope=row>2013</th><td>414.4967</td><td>412.0579</td><td>406.6342</td><td>399.5258</td><td>394.1150</td><td>392.1658</td><td>392.4333</td><td>392.1117</td><td>390.7983</td><td>389.0113</td><td>388.3354</td><td>389.2604</td></tr>\n",
       "\t<tr><th scope=row>2014</th><td>391.4146</td><td>394.5942</td><td>399.7287</td><td>405.5908</td><td>409.2058</td><td>408.7517</td><td>406.0600</td><td>403.2583</td><td>400.8629</td><td>399.4162</td><td>397.0675</td><td>393.1100</td></tr>\n",
       "\t<tr><th scope=row>2015</th><td>387.6688</td><td>380.2696</td><td>371.1817</td><td>362.4242</td><td>355.6346</td><td>352.3104</td><td>351.4396</td><td>351.3196</td><td>351.5733</td><td>352.2583</td><td>354.0621</td><td>356.1358</td></tr>\n",
       "\t<tr><th scope=row>2016</th><td>357.7712</td><td>358.7346</td><td>359.7192</td><td>360.1479</td><td>359.2471</td><td>357.3467</td><td>354.9150</td><td>352.7004</td><td>350.9742</td><td>349.1829</td><td>346.7387</td><td>344.7558</td></tr>\n",
       "\t<tr><th scope=row>2017</th><td>345.1317</td><td>347.9321</td><td>351.3562</td><td>354.6508</td><td>358.0179</td><td>361.4867</td><td>365.0962</td><td>369.4496</td><td>374.7183</td><td>380.3492</td><td>386.2983</td><td>392.9617</td></tr>\n",
       "\t<tr><th scope=row>2018</th><td>398.8242</td><td>401.5729</td><td>402.1496</td><td>402.8271</td><td>404.0908</td><td>405.4658</td><td>406.7846</td><td>406.2800</td><td>402.3308</td><td>396.5133</td><td>390.6642</td><td>384.3167</td></tr>\n",
       "\t<tr><th scope=row>2019</th><td>377.4512</td><td>372.4654</td><td>369.4250</td><td>365.3496</td><td>359.8704</td><td>354.4712</td><td>349.8996</td><td>347.4762</td><td>348.2858</td><td>352.2854</td><td>358.6817</td><td>366.1033</td></tr>\n",
       "\t<tr><th scope=row>2020</th><td>373.3812</td><td>380.4875</td><td>388.7513</td><td>398.9675</td><td>410.4108</td><td>422.1283</td><td>433.8892</td><td>445.7792</td><td>456.9817</td><td>465.5996</td><td>470.6125</td><td>473.2717</td></tr>\n",
       "\t<tr><th scope=row>2021</th><td>473.9600</td><td>470.9404</td><td>465.1150</td><td>459.6954</td><td>454.9954</td><td>449.4612</td><td>442.3875</td><td>433.5829</td><td>424.2921</td><td>416.2712</td><td>409.7279</td><td>404.1725</td></tr>\n",
       "\t<tr><th scope=row>2022</th><td>400.5408</td><td>399.9683</td><td>400.6275</td><td>      NA</td><td>      NA</td><td>      NA</td><td>      NA</td><td>      NA</td><td>      NA</td><td>        </td><td>        </td><td>        </td></tr>\n",
       "</tbody>\n",
       "</table>\n"
      ],
      "text/latex": [
       "A Time Series: 19 × 12\n",
       "\\begin{tabular}{r|llllllllllll}\n",
       "  & Jan & Feb & Mar & Apr & May & Jun & Jul & Aug & Sep & Oct & Nov & Dec\\\\\n",
       "\\hline\n",
       "\t2004 &       NA &       NA &       NA &       NA &       NA &       NA & 228.6750 & 233.5946 & 237.7067 & 240.0538 & 241.6875 & 242.9687\\\\\n",
       "\t2005 & 243.7633 & 245.0654 & 247.3887 & 250.7242 & 254.3137 & 257.1617 & 258.7433 & 259.0429 & 258.2342 & 256.8288 & 256.1796 & 256.9308\\\\\n",
       "\t2006 & 258.5179 & 259.6900 & 260.4688 & 261.4921 & 262.7424 & 264.4646 & 266.9382 & 269.9758 & 274.0917 & 279.0112 & 283.2667 & 286.8996\\\\\n",
       "\t2007 & 290.5804 & 294.3992 & 298.3121 & 301.9508 & 304.9355 & 310.1210 & 320.3704 & 335.6837 & 356.1866 & 382.1970 & 413.8739 & 451.0171\\\\\n",
       "\t2008 & 487.3837 & 516.2500 & 538.9179 & 555.6721 & 566.7821 & 572.5469 & 570.9905 & 564.1701 & 553.4257 & 537.7014 & 515.7148 & 487.1804\\\\\n",
       "\t2009 & 459.5350 & 438.7204 & 422.8579 & 413.1337 & 412.9700 & 420.3633 & 429.3383 & 433.5958 & 432.4381 & 428.6754 & 424.7092 & 421.2750\\\\\n",
       "\t2010 & 417.1738 & 416.1225 & 419.9542 & 425.3038 & 428.6371 & 429.2542 & 429.5442 & 432.2679 & 437.6104 & 445.3000 & 454.6308 & 464.1258\\\\\n",
       "\t2011 & 475.7367 & 487.9104 & 497.6737 & 506.2825 & 513.0983 & 514.6342 & 511.8721 & 508.0983 & 504.6238 & 501.3396 & 497.5929 & 493.0233\\\\\n",
       "\t2012 & 485.7942 & 476.3283 & 467.0262 & 457.3158 & 447.0146 & 438.2183 & 432.3488 & 429.0579 & 426.7275 & 423.5150 & 419.4983 & 416.4788\\\\\n",
       "\t2013 & 414.4967 & 412.0579 & 406.6342 & 399.5258 & 394.1150 & 392.1658 & 392.4333 & 392.1117 & 390.7983 & 389.0113 & 388.3354 & 389.2604\\\\\n",
       "\t2014 & 391.4146 & 394.5942 & 399.7287 & 405.5908 & 409.2058 & 408.7517 & 406.0600 & 403.2583 & 400.8629 & 399.4162 & 397.0675 & 393.1100\\\\\n",
       "\t2015 & 387.6688 & 380.2696 & 371.1817 & 362.4242 & 355.6346 & 352.3104 & 351.4396 & 351.3196 & 351.5733 & 352.2583 & 354.0621 & 356.1358\\\\\n",
       "\t2016 & 357.7712 & 358.7346 & 359.7192 & 360.1479 & 359.2471 & 357.3467 & 354.9150 & 352.7004 & 350.9742 & 349.1829 & 346.7387 & 344.7558\\\\\n",
       "\t2017 & 345.1317 & 347.9321 & 351.3562 & 354.6508 & 358.0179 & 361.4867 & 365.0962 & 369.4496 & 374.7183 & 380.3492 & 386.2983 & 392.9617\\\\\n",
       "\t2018 & 398.8242 & 401.5729 & 402.1496 & 402.8271 & 404.0908 & 405.4658 & 406.7846 & 406.2800 & 402.3308 & 396.5133 & 390.6642 & 384.3167\\\\\n",
       "\t2019 & 377.4512 & 372.4654 & 369.4250 & 365.3496 & 359.8704 & 354.4712 & 349.8996 & 347.4762 & 348.2858 & 352.2854 & 358.6817 & 366.1033\\\\\n",
       "\t2020 & 373.3812 & 380.4875 & 388.7513 & 398.9675 & 410.4108 & 422.1283 & 433.8892 & 445.7792 & 456.9817 & 465.5996 & 470.6125 & 473.2717\\\\\n",
       "\t2021 & 473.9600 & 470.9404 & 465.1150 & 459.6954 & 454.9954 & 449.4612 & 442.3875 & 433.5829 & 424.2921 & 416.2712 & 409.7279 & 404.1725\\\\\n",
       "\t2022 & 400.5408 & 399.9683 & 400.6275 &       NA &       NA &       NA &       NA &       NA &       NA &          &          &         \\\\\n",
       "\\end{tabular}\n"
      ],
      "text/markdown": [
       "\n",
       "A Time Series: 19 × 12\n",
       "\n",
       "| <!--/--> | Jan | Feb | Mar | Apr | May | Jun | Jul | Aug | Sep | Oct | Nov | Dec |\n",
       "|---|---|---|---|---|---|---|---|---|---|---|---|---|\n",
       "| 2004 |       NA |       NA |       NA |       NA |       NA |       NA | 228.6750 | 233.5946 | 237.7067 | 240.0538 | 241.6875 | 242.9687 |\n",
       "| 2005 | 243.7633 | 245.0654 | 247.3887 | 250.7242 | 254.3137 | 257.1617 | 258.7433 | 259.0429 | 258.2342 | 256.8288 | 256.1796 | 256.9308 |\n",
       "| 2006 | 258.5179 | 259.6900 | 260.4688 | 261.4921 | 262.7424 | 264.4646 | 266.9382 | 269.9758 | 274.0917 | 279.0112 | 283.2667 | 286.8996 |\n",
       "| 2007 | 290.5804 | 294.3992 | 298.3121 | 301.9508 | 304.9355 | 310.1210 | 320.3704 | 335.6837 | 356.1866 | 382.1970 | 413.8739 | 451.0171 |\n",
       "| 2008 | 487.3837 | 516.2500 | 538.9179 | 555.6721 | 566.7821 | 572.5469 | 570.9905 | 564.1701 | 553.4257 | 537.7014 | 515.7148 | 487.1804 |\n",
       "| 2009 | 459.5350 | 438.7204 | 422.8579 | 413.1337 | 412.9700 | 420.3633 | 429.3383 | 433.5958 | 432.4381 | 428.6754 | 424.7092 | 421.2750 |\n",
       "| 2010 | 417.1738 | 416.1225 | 419.9542 | 425.3038 | 428.6371 | 429.2542 | 429.5442 | 432.2679 | 437.6104 | 445.3000 | 454.6308 | 464.1258 |\n",
       "| 2011 | 475.7367 | 487.9104 | 497.6737 | 506.2825 | 513.0983 | 514.6342 | 511.8721 | 508.0983 | 504.6238 | 501.3396 | 497.5929 | 493.0233 |\n",
       "| 2012 | 485.7942 | 476.3283 | 467.0262 | 457.3158 | 447.0146 | 438.2183 | 432.3488 | 429.0579 | 426.7275 | 423.5150 | 419.4983 | 416.4788 |\n",
       "| 2013 | 414.4967 | 412.0579 | 406.6342 | 399.5258 | 394.1150 | 392.1658 | 392.4333 | 392.1117 | 390.7983 | 389.0113 | 388.3354 | 389.2604 |\n",
       "| 2014 | 391.4146 | 394.5942 | 399.7287 | 405.5908 | 409.2058 | 408.7517 | 406.0600 | 403.2583 | 400.8629 | 399.4162 | 397.0675 | 393.1100 |\n",
       "| 2015 | 387.6688 | 380.2696 | 371.1817 | 362.4242 | 355.6346 | 352.3104 | 351.4396 | 351.3196 | 351.5733 | 352.2583 | 354.0621 | 356.1358 |\n",
       "| 2016 | 357.7712 | 358.7346 | 359.7192 | 360.1479 | 359.2471 | 357.3467 | 354.9150 | 352.7004 | 350.9742 | 349.1829 | 346.7387 | 344.7558 |\n",
       "| 2017 | 345.1317 | 347.9321 | 351.3562 | 354.6508 | 358.0179 | 361.4867 | 365.0962 | 369.4496 | 374.7183 | 380.3492 | 386.2983 | 392.9617 |\n",
       "| 2018 | 398.8242 | 401.5729 | 402.1496 | 402.8271 | 404.0908 | 405.4658 | 406.7846 | 406.2800 | 402.3308 | 396.5133 | 390.6642 | 384.3167 |\n",
       "| 2019 | 377.4512 | 372.4654 | 369.4250 | 365.3496 | 359.8704 | 354.4712 | 349.8996 | 347.4762 | 348.2858 | 352.2854 | 358.6817 | 366.1033 |\n",
       "| 2020 | 373.3812 | 380.4875 | 388.7513 | 398.9675 | 410.4108 | 422.1283 | 433.8892 | 445.7792 | 456.9817 | 465.5996 | 470.6125 | 473.2717 |\n",
       "| 2021 | 473.9600 | 470.9404 | 465.1150 | 459.6954 | 454.9954 | 449.4612 | 442.3875 | 433.5829 | 424.2921 | 416.2712 | 409.7279 | 404.1725 |\n",
       "| 2022 | 400.5408 | 399.9683 | 400.6275 |       NA |       NA |       NA |       NA |       NA |       NA | <!----> | <!----> | <!----> |\n",
       "\n"
      ],
      "text/plain": [
       "     Jan      Feb      Mar      Apr      May      Jun      Jul      Aug     \n",
       "2004       NA       NA       NA       NA       NA       NA 228.6750 233.5946\n",
       "2005 243.7633 245.0654 247.3887 250.7242 254.3137 257.1617 258.7433 259.0429\n",
       "2006 258.5179 259.6900 260.4688 261.4921 262.7424 264.4646 266.9382 269.9758\n",
       "2007 290.5804 294.3992 298.3121 301.9508 304.9355 310.1210 320.3704 335.6837\n",
       "2008 487.3837 516.2500 538.9179 555.6721 566.7821 572.5469 570.9905 564.1701\n",
       "2009 459.5350 438.7204 422.8579 413.1337 412.9700 420.3633 429.3383 433.5958\n",
       "2010 417.1738 416.1225 419.9542 425.3038 428.6371 429.2542 429.5442 432.2679\n",
       "2011 475.7367 487.9104 497.6737 506.2825 513.0983 514.6342 511.8721 508.0983\n",
       "2012 485.7942 476.3283 467.0262 457.3158 447.0146 438.2183 432.3488 429.0579\n",
       "2013 414.4967 412.0579 406.6342 399.5258 394.1150 392.1658 392.4333 392.1117\n",
       "2014 391.4146 394.5942 399.7287 405.5908 409.2058 408.7517 406.0600 403.2583\n",
       "2015 387.6688 380.2696 371.1817 362.4242 355.6346 352.3104 351.4396 351.3196\n",
       "2016 357.7712 358.7346 359.7192 360.1479 359.2471 357.3467 354.9150 352.7004\n",
       "2017 345.1317 347.9321 351.3562 354.6508 358.0179 361.4867 365.0962 369.4496\n",
       "2018 398.8242 401.5729 402.1496 402.8271 404.0908 405.4658 406.7846 406.2800\n",
       "2019 377.4512 372.4654 369.4250 365.3496 359.8704 354.4712 349.8996 347.4762\n",
       "2020 373.3812 380.4875 388.7513 398.9675 410.4108 422.1283 433.8892 445.7792\n",
       "2021 473.9600 470.9404 465.1150 459.6954 454.9954 449.4612 442.3875 433.5829\n",
       "2022 400.5408 399.9683 400.6275       NA       NA       NA       NA       NA\n",
       "     Sep      Oct      Nov      Dec     \n",
       "2004 237.7067 240.0538 241.6875 242.9687\n",
       "2005 258.2342 256.8288 256.1796 256.9308\n",
       "2006 274.0917 279.0112 283.2667 286.8996\n",
       "2007 356.1866 382.1970 413.8739 451.0171\n",
       "2008 553.4257 537.7014 515.7148 487.1804\n",
       "2009 432.4381 428.6754 424.7092 421.2750\n",
       "2010 437.6104 445.3000 454.6308 464.1258\n",
       "2011 504.6238 501.3396 497.5929 493.0233\n",
       "2012 426.7275 423.5150 419.4983 416.4788\n",
       "2013 390.7983 389.0113 388.3354 389.2604\n",
       "2014 400.8629 399.4162 397.0675 393.1100\n",
       "2015 351.5733 352.2583 354.0621 356.1358\n",
       "2016 350.9742 349.1829 346.7387 344.7558\n",
       "2017 374.7183 380.3492 386.2983 392.9617\n",
       "2018 402.3308 396.5133 390.6642 384.3167\n",
       "2019 348.2858 352.2854 358.6817 366.1033\n",
       "2020 456.9817 465.5996 470.6125 473.2717\n",
       "2021 424.2921 416.2712 409.7279 404.1725\n",
       "2022       NA                           "
      ]
     },
     "metadata": {},
     "output_type": "display_data"
    }
   ],
   "source": [
    "comp$trend"
   ]
  },
  {
   "cell_type": "code",
   "execution_count": 21,
   "id": "5c7e6686-40d7-494e-ab67-0067b869f96d",
   "metadata": {},
   "outputs": [
    {
     "data": {
      "text/html": [
       "<table class=\"dataframe\">\n",
       "<caption>A Time Series: 19 × 12</caption>\n",
       "<thead>\n",
       "\t<tr><th></th><th scope=col>Jan</th><th scope=col>Feb</th><th scope=col>Mar</th><th scope=col>Apr</th><th scope=col>May</th><th scope=col>Jun</th><th scope=col>Jul</th><th scope=col>Aug</th><th scope=col>Sep</th><th scope=col>Oct</th><th scope=col>Nov</th><th scope=col>Dec</th></tr>\n",
       "</thead>\n",
       "<tbody>\n",
       "\t<tr><th scope=row>2004</th><td>         NA</td><td>         NA</td><td>         NA</td><td>         NA</td><td>         NA</td><td>         NA</td><td> -2.6797939</td><td> -2.4699791</td><td>-10.9116689</td><td>-15.4250023</td><td>-11.1684745</td><td> -8.1017450</td></tr>\n",
       "\t<tr><th scope=row>2005</th><td> 14.9040123</td><td> 26.3759270</td><td> 21.1770083</td><td> 10.2463993</td><td> -1.4324067</td><td>-22.6176098</td><td>-24.4281273</td><td> -4.9883124</td><td>  1.3908311</td><td> 15.0199977</td><td> 13.2694422</td><td>  7.3561717</td></tr>\n",
       "\t<tr><th scope=row>2006</th><td>  8.6894290</td><td> 10.4013436</td><td> -9.9629917</td><td>-16.1915174</td><td> -9.7710526</td><td>-11.9805265</td><td>-12.4730231</td><td> -7.9412291</td><td> -3.7566689</td><td>  6.6874977</td><td>  2.3398589</td><td>  2.5624217</td></tr>\n",
       "\t<tr><th scope=row>2007</th><td> 10.8194290</td><td> 14.4021770</td><td> 12.2636750</td><td>  1.3497326</td><td> -7.8341776</td><td>-14.5769551</td><td>-20.6251957</td><td>-27.2790862</td><td>-38.3116094</td><td>-56.7082165</td><td>-96.4249030</td><td>-68.9457926</td></tr>\n",
       "\t<tr><th scope=row>2008</th><td>-32.6078330</td><td>  6.6942007</td><td> 49.5849846</td><td> 93.9499112</td><td>144.2449742</td><td>200.5071521</td><td>124.0446704</td><td> 41.7345447</td><td> 10.9793132</td><td>-56.6426213</td><td>-87.1957959</td><td>-77.8234116</td></tr>\n",
       "\t<tr><th scope=row>2009</th><td>-69.3976544</td><td>-14.8290730</td><td>  6.8328417</td><td> 17.9168159</td><td>-11.0486567</td><td>-23.0292765</td><td>-22.0731273</td><td>-39.4712291</td><td>-36.9531273</td><td>-12.0766689</td><td> 64.3398589</td><td>104.9920050</td></tr>\n",
       "\t<tr><th scope=row>2010</th><td> 71.4535956</td><td> 11.4588436</td><td>-21.7384083</td><td>-53.0831841</td><td>-63.0757401</td><td>-77.9801098</td><td>-74.6489606</td><td>-11.0033124</td><td> 22.6945811</td><td> 34.8687477</td><td> 50.8481922</td><td> 60.5211717</td></tr>\n",
       "\t<tr><th scope=row>2011</th><td> 21.4706790</td><td> -3.5390730</td><td>-28.0279917</td><td>-20.9419341</td><td>-36.7169901</td><td>-46.3001098</td><td>  4.6231227</td><td> 43.7362709</td><td> 59.4312477</td><td> 81.6891644</td><td> 68.6061089</td><td>  7.7636717</td></tr>\n",
       "\t<tr><th scope=row>2012</th><td>-31.0168210</td><td>-40.0969897</td><td>-32.6304917</td><td>-15.5452674</td><td>-16.9832401</td><td>-33.2042765</td><td>-26.0335439</td><td>  5.7766876</td><td> 31.0774977</td><td> 32.7137477</td><td> 26.2706922</td><td> -6.3717450</td></tr>\n",
       "\t<tr><th scope=row>2013</th><td> -9.9093210</td><td> -4.6165730</td><td>  0.6215917</td><td> -7.7152674</td><td>-10.5236567</td><td>-13.1817765</td><td> -7.6581273</td><td>  5.7329376</td><td>-26.1733356</td><td>-10.2025023</td><td>  4.9936089</td><td> 26.5065884</td></tr>\n",
       "\t<tr><th scope=row>2014</th><td> 13.9327623</td><td>  4.3671770</td><td>-15.5129917</td><td>-33.6302674</td><td>-21.9844901</td><td>-11.1976098</td><td> 11.8452061</td><td> 37.7662709</td><td> 43.8120811</td><td> 40.0324977</td><td> 22.3815255</td><td>-14.3629950</td></tr>\n",
       "\t<tr><th scope=row>2015</th><td> -9.9014044</td><td>-20.9682397</td><td> -4.7959083</td><td> -7.3536007</td><td> -7.8932401</td><td>-10.2563598</td><td> -8.6243773</td><td>-12.7849791</td><td>-22.5183356</td><td> -7.3695856</td><td> -3.0030578</td><td> 11.2211717</td></tr>\n",
       "\t<tr><th scope=row>2016</th><td> 10.4860956</td><td>  7.1967603</td><td>  6.1265917</td><td> 11.9026493</td><td> 14.8042599</td><td>  8.1673902</td><td>  3.6902061</td><td> -6.8358124</td><td> -5.6191689</td><td>-10.3041689</td><td>-11.2897245</td><td> -7.3988283</td></tr>\n",
       "\t<tr><th scope=row>2017</th><td> -5.2343210</td><td> -6.7907397</td><td> -2.1504917</td><td> -8.9502674</td><td>-16.2765734</td><td>-11.2526098</td><td> 17.8089561</td><td> 19.3250209</td><td>  9.9066644</td><td> -1.6704189</td><td> -9.8393078</td><td>-13.3646616</td></tr>\n",
       "\t<tr><th scope=row>2018</th><td>-14.5368210</td><td> -0.3415730</td><td> 13.4161750</td><td> 11.6534826</td><td> 11.6505099</td><td> 30.6882235</td><td> 30.9006227</td><td> -6.3153958</td><td>-15.0558356</td><td> -4.2245856</td><td>  2.5148589</td><td> 11.5603384</td></tr>\n",
       "\t<tr><th scope=row>2019</th><td> 22.2060956</td><td>  1.2859270</td><td>-21.1592417</td><td>-23.1890174</td><td>-12.1890734</td><td> -2.5971932</td><td>  7.2956227</td><td> 13.3183542</td><td>  5.1891644</td><td>-24.0066689</td><td>-32.9926411</td><td>-32.3163283</td></tr>\n",
       "\t<tr><th scope=row>2020</th><td>-21.3539044</td><td>-17.2661564</td><td>-10.5254917</td><td>  9.2230659</td><td> 24.7505099</td><td> 20.3857235</td><td>  7.3360394</td><td>  1.5354376</td><td>  8.3033311</td><td> -3.9408356</td><td> -3.6634745</td><td>  0.4753384</td></tr>\n",
       "\t<tr><th scope=row>2021</th><td> 20.3673456</td><td> 35.3409270</td><td> 38.9107583</td><td> 29.5251493</td><td> 19.4459266</td><td> 17.5928068</td><td> -9.1822939</td><td>-50.7183124</td><td>-34.3670856</td><td> -9.3225023</td><td> -0.8688911</td><td> -5.1554950</td></tr>\n",
       "\t<tr><th scope=row>2022</th><td> -1.2534877</td><td> -9.9569897</td><td> -3.3117417</td><td>         NA</td><td>         NA</td><td>         NA</td><td>         NA</td><td>         NA</td><td>         NA</td><td>           </td><td>           </td><td>           </td></tr>\n",
       "</tbody>\n",
       "</table>\n"
      ],
      "text/latex": [
       "A Time Series: 19 × 12\n",
       "\\begin{tabular}{r|llllllllllll}\n",
       "  & Jan & Feb & Mar & Apr & May & Jun & Jul & Aug & Sep & Oct & Nov & Dec\\\\\n",
       "\\hline\n",
       "\t2004 &          NA &          NA &          NA &          NA &          NA &          NA &  -2.6797939 &  -2.4699791 & -10.9116689 & -15.4250023 & -11.1684745 &  -8.1017450\\\\\n",
       "\t2005 &  14.9040123 &  26.3759270 &  21.1770083 &  10.2463993 &  -1.4324067 & -22.6176098 & -24.4281273 &  -4.9883124 &   1.3908311 &  15.0199977 &  13.2694422 &   7.3561717\\\\\n",
       "\t2006 &   8.6894290 &  10.4013436 &  -9.9629917 & -16.1915174 &  -9.7710526 & -11.9805265 & -12.4730231 &  -7.9412291 &  -3.7566689 &   6.6874977 &   2.3398589 &   2.5624217\\\\\n",
       "\t2007 &  10.8194290 &  14.4021770 &  12.2636750 &   1.3497326 &  -7.8341776 & -14.5769551 & -20.6251957 & -27.2790862 & -38.3116094 & -56.7082165 & -96.4249030 & -68.9457926\\\\\n",
       "\t2008 & -32.6078330 &   6.6942007 &  49.5849846 &  93.9499112 & 144.2449742 & 200.5071521 & 124.0446704 &  41.7345447 &  10.9793132 & -56.6426213 & -87.1957959 & -77.8234116\\\\\n",
       "\t2009 & -69.3976544 & -14.8290730 &   6.8328417 &  17.9168159 & -11.0486567 & -23.0292765 & -22.0731273 & -39.4712291 & -36.9531273 & -12.0766689 &  64.3398589 & 104.9920050\\\\\n",
       "\t2010 &  71.4535956 &  11.4588436 & -21.7384083 & -53.0831841 & -63.0757401 & -77.9801098 & -74.6489606 & -11.0033124 &  22.6945811 &  34.8687477 &  50.8481922 &  60.5211717\\\\\n",
       "\t2011 &  21.4706790 &  -3.5390730 & -28.0279917 & -20.9419341 & -36.7169901 & -46.3001098 &   4.6231227 &  43.7362709 &  59.4312477 &  81.6891644 &  68.6061089 &   7.7636717\\\\\n",
       "\t2012 & -31.0168210 & -40.0969897 & -32.6304917 & -15.5452674 & -16.9832401 & -33.2042765 & -26.0335439 &   5.7766876 &  31.0774977 &  32.7137477 &  26.2706922 &  -6.3717450\\\\\n",
       "\t2013 &  -9.9093210 &  -4.6165730 &   0.6215917 &  -7.7152674 & -10.5236567 & -13.1817765 &  -7.6581273 &   5.7329376 & -26.1733356 & -10.2025023 &   4.9936089 &  26.5065884\\\\\n",
       "\t2014 &  13.9327623 &   4.3671770 & -15.5129917 & -33.6302674 & -21.9844901 & -11.1976098 &  11.8452061 &  37.7662709 &  43.8120811 &  40.0324977 &  22.3815255 & -14.3629950\\\\\n",
       "\t2015 &  -9.9014044 & -20.9682397 &  -4.7959083 &  -7.3536007 &  -7.8932401 & -10.2563598 &  -8.6243773 & -12.7849791 & -22.5183356 &  -7.3695856 &  -3.0030578 &  11.2211717\\\\\n",
       "\t2016 &  10.4860956 &   7.1967603 &   6.1265917 &  11.9026493 &  14.8042599 &   8.1673902 &   3.6902061 &  -6.8358124 &  -5.6191689 & -10.3041689 & -11.2897245 &  -7.3988283\\\\\n",
       "\t2017 &  -5.2343210 &  -6.7907397 &  -2.1504917 &  -8.9502674 & -16.2765734 & -11.2526098 &  17.8089561 &  19.3250209 &   9.9066644 &  -1.6704189 &  -9.8393078 & -13.3646616\\\\\n",
       "\t2018 & -14.5368210 &  -0.3415730 &  13.4161750 &  11.6534826 &  11.6505099 &  30.6882235 &  30.9006227 &  -6.3153958 & -15.0558356 &  -4.2245856 &   2.5148589 &  11.5603384\\\\\n",
       "\t2019 &  22.2060956 &   1.2859270 & -21.1592417 & -23.1890174 & -12.1890734 &  -2.5971932 &   7.2956227 &  13.3183542 &   5.1891644 & -24.0066689 & -32.9926411 & -32.3163283\\\\\n",
       "\t2020 & -21.3539044 & -17.2661564 & -10.5254917 &   9.2230659 &  24.7505099 &  20.3857235 &   7.3360394 &   1.5354376 &   8.3033311 &  -3.9408356 &  -3.6634745 &   0.4753384\\\\\n",
       "\t2021 &  20.3673456 &  35.3409270 &  38.9107583 &  29.5251493 &  19.4459266 &  17.5928068 &  -9.1822939 & -50.7183124 & -34.3670856 &  -9.3225023 &  -0.8688911 &  -5.1554950\\\\\n",
       "\t2022 &  -1.2534877 &  -9.9569897 &  -3.3117417 &          NA &          NA &          NA &          NA &          NA &          NA &             &             &            \\\\\n",
       "\\end{tabular}\n"
      ],
      "text/markdown": [
       "\n",
       "A Time Series: 19 × 12\n",
       "\n",
       "| <!--/--> | Jan | Feb | Mar | Apr | May | Jun | Jul | Aug | Sep | Oct | Nov | Dec |\n",
       "|---|---|---|---|---|---|---|---|---|---|---|---|---|\n",
       "| 2004 |          NA |          NA |          NA |          NA |          NA |          NA |  -2.6797939 |  -2.4699791 | -10.9116689 | -15.4250023 | -11.1684745 |  -8.1017450 |\n",
       "| 2005 |  14.9040123 |  26.3759270 |  21.1770083 |  10.2463993 |  -1.4324067 | -22.6176098 | -24.4281273 |  -4.9883124 |   1.3908311 |  15.0199977 |  13.2694422 |   7.3561717 |\n",
       "| 2006 |   8.6894290 |  10.4013436 |  -9.9629917 | -16.1915174 |  -9.7710526 | -11.9805265 | -12.4730231 |  -7.9412291 |  -3.7566689 |   6.6874977 |   2.3398589 |   2.5624217 |\n",
       "| 2007 |  10.8194290 |  14.4021770 |  12.2636750 |   1.3497326 |  -7.8341776 | -14.5769551 | -20.6251957 | -27.2790862 | -38.3116094 | -56.7082165 | -96.4249030 | -68.9457926 |\n",
       "| 2008 | -32.6078330 |   6.6942007 |  49.5849846 |  93.9499112 | 144.2449742 | 200.5071521 | 124.0446704 |  41.7345447 |  10.9793132 | -56.6426213 | -87.1957959 | -77.8234116 |\n",
       "| 2009 | -69.3976544 | -14.8290730 |   6.8328417 |  17.9168159 | -11.0486567 | -23.0292765 | -22.0731273 | -39.4712291 | -36.9531273 | -12.0766689 |  64.3398589 | 104.9920050 |\n",
       "| 2010 |  71.4535956 |  11.4588436 | -21.7384083 | -53.0831841 | -63.0757401 | -77.9801098 | -74.6489606 | -11.0033124 |  22.6945811 |  34.8687477 |  50.8481922 |  60.5211717 |\n",
       "| 2011 |  21.4706790 |  -3.5390730 | -28.0279917 | -20.9419341 | -36.7169901 | -46.3001098 |   4.6231227 |  43.7362709 |  59.4312477 |  81.6891644 |  68.6061089 |   7.7636717 |\n",
       "| 2012 | -31.0168210 | -40.0969897 | -32.6304917 | -15.5452674 | -16.9832401 | -33.2042765 | -26.0335439 |   5.7766876 |  31.0774977 |  32.7137477 |  26.2706922 |  -6.3717450 |\n",
       "| 2013 |  -9.9093210 |  -4.6165730 |   0.6215917 |  -7.7152674 | -10.5236567 | -13.1817765 |  -7.6581273 |   5.7329376 | -26.1733356 | -10.2025023 |   4.9936089 |  26.5065884 |\n",
       "| 2014 |  13.9327623 |   4.3671770 | -15.5129917 | -33.6302674 | -21.9844901 | -11.1976098 |  11.8452061 |  37.7662709 |  43.8120811 |  40.0324977 |  22.3815255 | -14.3629950 |\n",
       "| 2015 |  -9.9014044 | -20.9682397 |  -4.7959083 |  -7.3536007 |  -7.8932401 | -10.2563598 |  -8.6243773 | -12.7849791 | -22.5183356 |  -7.3695856 |  -3.0030578 |  11.2211717 |\n",
       "| 2016 |  10.4860956 |   7.1967603 |   6.1265917 |  11.9026493 |  14.8042599 |   8.1673902 |   3.6902061 |  -6.8358124 |  -5.6191689 | -10.3041689 | -11.2897245 |  -7.3988283 |\n",
       "| 2017 |  -5.2343210 |  -6.7907397 |  -2.1504917 |  -8.9502674 | -16.2765734 | -11.2526098 |  17.8089561 |  19.3250209 |   9.9066644 |  -1.6704189 |  -9.8393078 | -13.3646616 |\n",
       "| 2018 | -14.5368210 |  -0.3415730 |  13.4161750 |  11.6534826 |  11.6505099 |  30.6882235 |  30.9006227 |  -6.3153958 | -15.0558356 |  -4.2245856 |   2.5148589 |  11.5603384 |\n",
       "| 2019 |  22.2060956 |   1.2859270 | -21.1592417 | -23.1890174 | -12.1890734 |  -2.5971932 |   7.2956227 |  13.3183542 |   5.1891644 | -24.0066689 | -32.9926411 | -32.3163283 |\n",
       "| 2020 | -21.3539044 | -17.2661564 | -10.5254917 |   9.2230659 |  24.7505099 |  20.3857235 |   7.3360394 |   1.5354376 |   8.3033311 |  -3.9408356 |  -3.6634745 |   0.4753384 |\n",
       "| 2021 |  20.3673456 |  35.3409270 |  38.9107583 |  29.5251493 |  19.4459266 |  17.5928068 |  -9.1822939 | -50.7183124 | -34.3670856 |  -9.3225023 |  -0.8688911 |  -5.1554950 |\n",
       "| 2022 |  -1.2534877 |  -9.9569897 |  -3.3117417 |          NA |          NA |          NA |          NA |          NA |          NA | <!----> | <!----> | <!----> |\n",
       "\n"
      ],
      "text/plain": [
       "     Jan         Feb         Mar         Apr         May         Jun        \n",
       "2004          NA          NA          NA          NA          NA          NA\n",
       "2005  14.9040123  26.3759270  21.1770083  10.2463993  -1.4324067 -22.6176098\n",
       "2006   8.6894290  10.4013436  -9.9629917 -16.1915174  -9.7710526 -11.9805265\n",
       "2007  10.8194290  14.4021770  12.2636750   1.3497326  -7.8341776 -14.5769551\n",
       "2008 -32.6078330   6.6942007  49.5849846  93.9499112 144.2449742 200.5071521\n",
       "2009 -69.3976544 -14.8290730   6.8328417  17.9168159 -11.0486567 -23.0292765\n",
       "2010  71.4535956  11.4588436 -21.7384083 -53.0831841 -63.0757401 -77.9801098\n",
       "2011  21.4706790  -3.5390730 -28.0279917 -20.9419341 -36.7169901 -46.3001098\n",
       "2012 -31.0168210 -40.0969897 -32.6304917 -15.5452674 -16.9832401 -33.2042765\n",
       "2013  -9.9093210  -4.6165730   0.6215917  -7.7152674 -10.5236567 -13.1817765\n",
       "2014  13.9327623   4.3671770 -15.5129917 -33.6302674 -21.9844901 -11.1976098\n",
       "2015  -9.9014044 -20.9682397  -4.7959083  -7.3536007  -7.8932401 -10.2563598\n",
       "2016  10.4860956   7.1967603   6.1265917  11.9026493  14.8042599   8.1673902\n",
       "2017  -5.2343210  -6.7907397  -2.1504917  -8.9502674 -16.2765734 -11.2526098\n",
       "2018 -14.5368210  -0.3415730  13.4161750  11.6534826  11.6505099  30.6882235\n",
       "2019  22.2060956   1.2859270 -21.1592417 -23.1890174 -12.1890734  -2.5971932\n",
       "2020 -21.3539044 -17.2661564 -10.5254917   9.2230659  24.7505099  20.3857235\n",
       "2021  20.3673456  35.3409270  38.9107583  29.5251493  19.4459266  17.5928068\n",
       "2022  -1.2534877  -9.9569897  -3.3117417          NA          NA          NA\n",
       "     Jul         Aug         Sep         Oct         Nov         Dec        \n",
       "2004  -2.6797939  -2.4699791 -10.9116689 -15.4250023 -11.1684745  -8.1017450\n",
       "2005 -24.4281273  -4.9883124   1.3908311  15.0199977  13.2694422   7.3561717\n",
       "2006 -12.4730231  -7.9412291  -3.7566689   6.6874977   2.3398589   2.5624217\n",
       "2007 -20.6251957 -27.2790862 -38.3116094 -56.7082165 -96.4249030 -68.9457926\n",
       "2008 124.0446704  41.7345447  10.9793132 -56.6426213 -87.1957959 -77.8234116\n",
       "2009 -22.0731273 -39.4712291 -36.9531273 -12.0766689  64.3398589 104.9920050\n",
       "2010 -74.6489606 -11.0033124  22.6945811  34.8687477  50.8481922  60.5211717\n",
       "2011   4.6231227  43.7362709  59.4312477  81.6891644  68.6061089   7.7636717\n",
       "2012 -26.0335439   5.7766876  31.0774977  32.7137477  26.2706922  -6.3717450\n",
       "2013  -7.6581273   5.7329376 -26.1733356 -10.2025023   4.9936089  26.5065884\n",
       "2014  11.8452061  37.7662709  43.8120811  40.0324977  22.3815255 -14.3629950\n",
       "2015  -8.6243773 -12.7849791 -22.5183356  -7.3695856  -3.0030578  11.2211717\n",
       "2016   3.6902061  -6.8358124  -5.6191689 -10.3041689 -11.2897245  -7.3988283\n",
       "2017  17.8089561  19.3250209   9.9066644  -1.6704189  -9.8393078 -13.3646616\n",
       "2018  30.9006227  -6.3153958 -15.0558356  -4.2245856   2.5148589  11.5603384\n",
       "2019   7.2956227  13.3183542   5.1891644 -24.0066689 -32.9926411 -32.3163283\n",
       "2020   7.3360394   1.5354376   8.3033311  -3.9408356  -3.6634745   0.4753384\n",
       "2021  -9.1822939 -50.7183124 -34.3670856  -9.3225023  -0.8688911  -5.1554950\n",
       "2022          NA          NA          NA                                    "
      ]
     },
     "metadata": {},
     "output_type": "display_data"
    }
   ],
   "source": [
    "comp$random"
   ]
  },
  {
   "cell_type": "markdown",
   "id": "c6eeff47-63ba-4d27-a69a-d1be4abcdb82",
   "metadata": {},
   "source": [
    "### Nhận xét:\n",
    "- Trong phần seasonal, yếu tố seasonal cao nhất là tháng 6, và thấp nhất là tháng 2. Như vậy, giá gạo cao nhất vào tháng 6, và thấp nhất là tháng 2."
   ]
  },
  {
   "cell_type": "code",
   "execution_count": null,
   "id": "e6129716-be08-4808-b433-35541f5db83d",
   "metadata": {},
   "outputs": [],
   "source": [
    "# 6. Thực hiện việc dự báo và vẽ biểu đồ so sánh với thực tiễn. Nhận xét."
   ]
  },
  {
   "cell_type": "code",
   "execution_count": 35,
   "id": "de5aa662-d67b-47b2-ab7d-869736d447b9",
   "metadata": {},
   "outputs": [],
   "source": [
    "library('forecast')"
   ]
  },
  {
   "cell_type": "code",
   "execution_count": 48,
   "id": "6e06dfc5-7487-418b-84ba-5ddb85e1124b",
   "metadata": {},
   "outputs": [],
   "source": [
    "forecast.rice_ts = HoltWinters(log(rice_ts))"
   ]
  },
  {
   "cell_type": "code",
   "execution_count": 49,
   "id": "da3a9a41-97a1-4035-abbe-fb092976d389",
   "metadata": {},
   "outputs": [
    {
     "data": {
      "text/plain": [
       "Holt-Winters exponential smoothing with trend and additive seasonal component.\n",
       "\n",
       "Call:\n",
       "HoltWinters(x = log(rice_ts))\n",
       "\n",
       "Smoothing parameters:\n",
       " alpha: 0.8969336\n",
       " beta : 0.005227704\n",
       " gamma: 1\n",
       "\n",
       "Coefficients:\n",
       "            [,1]\n",
       "a    6.002882793\n",
       "b    0.004094236\n",
       "s1  -0.042713572\n",
       "s2  -0.040162560\n",
       "s3  -0.040899409\n",
       "s4  -0.036492910\n",
       "s5  -0.018190918\n",
       "s6   0.017568247\n",
       "s7   0.043579927\n",
       "s8   0.047087178\n",
       "s9   0.027527916\n",
       "s10 -0.007854472\n",
       "s11 -0.030011670\n",
       "s12 -0.032182336"
      ]
     },
     "metadata": {},
     "output_type": "display_data"
    }
   ],
   "source": [
    "forecast.rice_ts"
   ]
  },
  {
   "cell_type": "markdown",
   "id": "7944b78a-7c65-477a-9b10-0c78d0131372",
   "metadata": {},
   "source": [
    "- alpha ~ 0.9: cao, cho thấy giá trị hiện tại phụ thuộc vào các giá trị gần đây và các giá trị trong quá khứ gần\n",
    "- beta ~ 0: độ dốc của trend không cập nhật trong thời gian qua\n",
    "- gamma = 1: ảnh hưởng của yếu tố mùa tại thời điểm hiện tại có phụ thuộc vào các giá trị gần"
   ]
  },
  {
   "cell_type": "code",
   "execution_count": 50,
   "id": "765b04e9-e47f-41bd-9225-443f1d37159a",
   "metadata": {},
   "outputs": [
    {
     "data": {
      "text/html": [
       "0.875196487653201"
      ],
      "text/latex": [
       "0.875196487653201"
      ],
      "text/markdown": [
       "0.875196487653201"
      ],
      "text/plain": [
       "[1] 0.8751965"
      ]
     },
     "metadata": {},
     "output_type": "display_data"
    }
   ],
   "source": [
    "forecast.rice_ts$SSE"
   ]
  },
  {
   "cell_type": "code",
   "execution_count": 51,
   "id": "3656e30c-ef0e-4b61-91dc-b520700adeba",
   "metadata": {},
   "outputs": [
    {
     "data": {
      "text/html": [
       "0.0623679578577618"
      ],
      "text/latex": [
       "0.0623679578577618"
      ],
      "text/markdown": [
       "0.0623679578577618"
      ],
      "text/plain": [
       "[1] 0.06236796"
      ]
     },
     "metadata": {},
     "output_type": "display_data"
    }
   ],
   "source": [
    "(forecast.rice_ts$SSE/length(rice_ts))^0.5"
   ]
  },
  {
   "cell_type": "code",
   "execution_count": 52,
   "id": "e2c4b1ae-b94e-4112-bd46-2666f27202c0",
   "metadata": {},
   "outputs": [
    {
     "data": {
      "image/png": "[encoded data removed]",
      "text/plain": [
       "Plot with title \"Holt-Winters filtering\""
      ]
     },
     "metadata": {
      "image/png": {
       "height": 420,
       "width": 420
      }
     },
     "output_type": "display_data"
    }
   ],
   "source": [
    "plot(forecast.rice_ts)"
   ]
  },
  {
   "cell_type": "code",
   "execution_count": 53,
   "id": "2c35f445-eaf2-4d35-b112-652d42a6c8a7",
   "metadata": {},
   "outputs": [
    {
     "data": {
      "image/png": "[encoded data removed]",
      "text/plain": [
       "Plot with title \"Dự báo giá gạo xuất khẩu của Việt Nam\""
      ]
     },
     "metadata": {
      "image/png": {
       "height": 420,
       "width": 420
      }
     },
     "output_type": "display_data"
    }
   ],
   "source": [
    "rice_forecast <- forecast:::forecast.HoltWinters(forecast.rice_ts, h = 12)\n",
    "\n",
    "plot(rice_forecast, main = \"Dự báo giá gạo xuất khẩu của Việt Nam\", xlab = \"Time\", ylab = \"Price\")\n",
    "lines(rice_ts, col = \"blue\")\n",
    "legend(\"topleft\", legend = c(\"Dự báo\", \"Thực tiễn\"), col = c(\"red\", \"blue\"), lty = 1)"
   ]
  },
  {
   "cell_type": "markdown",
   "id": "9da414a6-fd36-4cfc-8984-bb0c38a5038a",
   "metadata": {},
   "source": [
    "### Nhận xét: \n",
    "- Biểu đồ vẽ phần dự đoán màu xanh, còn khoảng tin cậy 80% đến 95% là vùng màu xám\n"
   ]
  },
  {
   "cell_type": "code",
   "execution_count": 54,
   "id": "cacf866e-3368-478c-9155-8537f06505f4",
   "metadata": {},
   "outputs": [],
   "source": [
    "# 7. Dự đoán giá gạo cho 12 tháng tiếp theo."
   ]
  },
  {
   "cell_type": "code",
   "execution_count": 55,
   "id": "74698066-02b0-4668-9ed5-51bfeaae7f75",
   "metadata": {},
   "outputs": [
    {
     "name": "stdout",
     "output_type": "stream",
     "text": [
      "         Point Forecast    Lo 80    Hi 80    Lo 95    Hi 95\n",
      "Oct 2022       5.964263 5.882186 6.046341 5.838737 6.089790\n",
      "Nov 2022       5.970909 5.860396 6.081421 5.801894 6.139923\n",
      "Dec 2022       5.974266 5.841050 6.107482 5.770529 6.178003\n",
      "Jan 2023       5.982767 5.830001 6.135533 5.749131 6.216402\n",
      "Feb 2023       6.005163 5.834910 6.175416 5.744784 6.265543\n",
      "Mar 2023       6.045016 5.858757 6.231276 5.760157 6.329876\n",
      "Apr 2023       6.075122 5.873982 6.276263 5.767504 6.382741\n",
      "May 2023       6.082724 5.867594 6.297854 5.753710 6.411737\n",
      "Jun 2023       6.067259 5.838866 6.295652 5.717962 6.416556\n",
      "Jul 2023       6.035971 5.794921 6.277020 5.667317 6.404624\n",
      "Aug 2023       6.017908 5.764716 6.271099 5.630684 6.405131\n",
      "Sep 2023       6.019831 5.754941 6.284722 5.614717 6.424946\n"
     ]
    }
   ],
   "source": [
    "future_forecast <- forecast:::forecast.HoltWinters(forecast.rice_ts, h = 12)\n",
    "print(future_forecast)"
   ]
  },
  {
   "cell_type": "code",
   "execution_count": 56,
   "id": "f5ee04c4-64cd-4cdb-ac9d-9deda6639b8c",
   "metadata": {},
   "outputs": [
    {
     "data": {
      "text/html": [
       "<table class=\"dataframe\">\n",
       "<caption>A data.frame: 12 × 5</caption>\n",
       "<thead>\n",
       "\t<tr><th></th><th scope=col>Point.Forecast</th><th scope=col>Lo.80</th><th scope=col>Hi.80</th><th scope=col>Lo.95</th><th scope=col>Hi.95</th></tr>\n",
       "\t<tr><th></th><th scope=col>&lt;dbl&gt;</th><th scope=col>&lt;dbl&gt;</th><th scope=col>&lt;dbl&gt;</th><th scope=col>&lt;dbl&gt;</th><th scope=col>&lt;dbl&gt;</th></tr>\n",
       "</thead>\n",
       "<tbody>\n",
       "\t<tr><th scope=row>Oct 2022</th><td>5.964263</td><td>5.882186</td><td>6.046341</td><td>5.838737</td><td>6.089790</td></tr>\n",
       "\t<tr><th scope=row>Nov 2022</th><td>5.970909</td><td>5.860396</td><td>6.081421</td><td>5.801894</td><td>6.139923</td></tr>\n",
       "\t<tr><th scope=row>Dec 2022</th><td>5.974266</td><td>5.841050</td><td>6.107482</td><td>5.770529</td><td>6.178003</td></tr>\n",
       "\t<tr><th scope=row>Jan 2023</th><td>5.982767</td><td>5.830001</td><td>6.135533</td><td>5.749131</td><td>6.216402</td></tr>\n",
       "\t<tr><th scope=row>Feb 2023</th><td>6.005163</td><td>5.834910</td><td>6.175416</td><td>5.744784</td><td>6.265543</td></tr>\n",
       "\t<tr><th scope=row>Mar 2023</th><td>6.045016</td><td>5.858757</td><td>6.231276</td><td>5.760157</td><td>6.329876</td></tr>\n",
       "\t<tr><th scope=row>Apr 2023</th><td>6.075122</td><td>5.873982</td><td>6.276263</td><td>5.767504</td><td>6.382741</td></tr>\n",
       "\t<tr><th scope=row>May 2023</th><td>6.082724</td><td>5.867594</td><td>6.297854</td><td>5.753710</td><td>6.411737</td></tr>\n",
       "\t<tr><th scope=row>Jun 2023</th><td>6.067259</td><td>5.838866</td><td>6.295652</td><td>5.717962</td><td>6.416556</td></tr>\n",
       "\t<tr><th scope=row>Jul 2023</th><td>6.035971</td><td>5.794921</td><td>6.277020</td><td>5.667317</td><td>6.404624</td></tr>\n",
       "\t<tr><th scope=row>Aug 2023</th><td>6.017908</td><td>5.764716</td><td>6.271099</td><td>5.630684</td><td>6.405131</td></tr>\n",
       "\t<tr><th scope=row>Sep 2023</th><td>6.019831</td><td>5.754941</td><td>6.284722</td><td>5.614717</td><td>6.424946</td></tr>\n",
       "</tbody>\n",
       "</table>\n"
      ],
      "text/latex": [
       "A data.frame: 12 × 5\n",
       "\\begin{tabular}{r|lllll}\n",
       "  & Point.Forecast & Lo.80 & Hi.80 & Lo.95 & Hi.95\\\\\n",
       "  & <dbl> & <dbl> & <dbl> & <dbl> & <dbl>\\\\\n",
       "\\hline\n",
       "\tOct 2022 & 5.964263 & 5.882186 & 6.046341 & 5.838737 & 6.089790\\\\\n",
       "\tNov 2022 & 5.970909 & 5.860396 & 6.081421 & 5.801894 & 6.139923\\\\\n",
       "\tDec 2022 & 5.974266 & 5.841050 & 6.107482 & 5.770529 & 6.178003\\\\\n",
       "\tJan 2023 & 5.982767 & 5.830001 & 6.135533 & 5.749131 & 6.216402\\\\\n",
       "\tFeb 2023 & 6.005163 & 5.834910 & 6.175416 & 5.744784 & 6.265543\\\\\n",
       "\tMar 2023 & 6.045016 & 5.858757 & 6.231276 & 5.760157 & 6.329876\\\\\n",
       "\tApr 2023 & 6.075122 & 5.873982 & 6.276263 & 5.767504 & 6.382741\\\\\n",
       "\tMay 2023 & 6.082724 & 5.867594 & 6.297854 & 5.753710 & 6.411737\\\\\n",
       "\tJun 2023 & 6.067259 & 5.838866 & 6.295652 & 5.717962 & 6.416556\\\\\n",
       "\tJul 2023 & 6.035971 & 5.794921 & 6.277020 & 5.667317 & 6.404624\\\\\n",
       "\tAug 2023 & 6.017908 & 5.764716 & 6.271099 & 5.630684 & 6.405131\\\\\n",
       "\tSep 2023 & 6.019831 & 5.754941 & 6.284722 & 5.614717 & 6.424946\\\\\n",
       "\\end{tabular}\n"
      ],
      "text/markdown": [
       "\n",
       "A data.frame: 12 × 5\n",
       "\n",
       "| <!--/--> | Point.Forecast &lt;dbl&gt; | Lo.80 &lt;dbl&gt; | Hi.80 &lt;dbl&gt; | Lo.95 &lt;dbl&gt; | Hi.95 &lt;dbl&gt; |\n",
       "|---|---|---|---|---|---|\n",
       "| Oct 2022 | 5.964263 | 5.882186 | 6.046341 | 5.838737 | 6.089790 |\n",
       "| Nov 2022 | 5.970909 | 5.860396 | 6.081421 | 5.801894 | 6.139923 |\n",
       "| Dec 2022 | 5.974266 | 5.841050 | 6.107482 | 5.770529 | 6.178003 |\n",
       "| Jan 2023 | 5.982767 | 5.830001 | 6.135533 | 5.749131 | 6.216402 |\n",
       "| Feb 2023 | 6.005163 | 5.834910 | 6.175416 | 5.744784 | 6.265543 |\n",
       "| Mar 2023 | 6.045016 | 5.858757 | 6.231276 | 5.760157 | 6.329876 |\n",
       "| Apr 2023 | 6.075122 | 5.873982 | 6.276263 | 5.767504 | 6.382741 |\n",
       "| May 2023 | 6.082724 | 5.867594 | 6.297854 | 5.753710 | 6.411737 |\n",
       "| Jun 2023 | 6.067259 | 5.838866 | 6.295652 | 5.717962 | 6.416556 |\n",
       "| Jul 2023 | 6.035971 | 5.794921 | 6.277020 | 5.667317 | 6.404624 |\n",
       "| Aug 2023 | 6.017908 | 5.764716 | 6.271099 | 5.630684 | 6.405131 |\n",
       "| Sep 2023 | 6.019831 | 5.754941 | 6.284722 | 5.614717 | 6.424946 |\n",
       "\n"
      ],
      "text/plain": [
       "         Point.Forecast Lo.80    Hi.80    Lo.95    Hi.95   \n",
       "Oct 2022 5.964263       5.882186 6.046341 5.838737 6.089790\n",
       "Nov 2022 5.970909       5.860396 6.081421 5.801894 6.139923\n",
       "Dec 2022 5.974266       5.841050 6.107482 5.770529 6.178003\n",
       "Jan 2023 5.982767       5.830001 6.135533 5.749131 6.216402\n",
       "Feb 2023 6.005163       5.834910 6.175416 5.744784 6.265543\n",
       "Mar 2023 6.045016       5.858757 6.231276 5.760157 6.329876\n",
       "Apr 2023 6.075122       5.873982 6.276263 5.767504 6.382741\n",
       "May 2023 6.082724       5.867594 6.297854 5.753710 6.411737\n",
       "Jun 2023 6.067259       5.838866 6.295652 5.717962 6.416556\n",
       "Jul 2023 6.035971       5.794921 6.277020 5.667317 6.404624\n",
       "Aug 2023 6.017908       5.764716 6.271099 5.630684 6.405131\n",
       "Sep 2023 6.019831       5.754941 6.284722 5.614717 6.424946"
      ]
     },
     "metadata": {},
     "output_type": "display_data"
    }
   ],
   "source": [
    "x= data.frame(future_forecast)\n",
    "x"
   ]
  },
  {
   "cell_type": "code",
   "execution_count": 57,
   "id": "6890aca0-13e6-4da7-814b-b5d38a9e35ef",
   "metadata": {},
   "outputs": [],
   "source": [
    "x$Forecast = exp(x$Point.Forecast)"
   ]
  },
  {
   "cell_type": "code",
   "execution_count": 58,
   "id": "6da0cfb9-f01c-4238-b921-59a726ddde9e",
   "metadata": {},
   "outputs": [
    {
     "data": {
      "text/html": [
       "<table class=\"dataframe\">\n",
       "<caption>A data.frame: 12 × 6</caption>\n",
       "<thead>\n",
       "\t<tr><th></th><th scope=col>Point.Forecast</th><th scope=col>Lo.80</th><th scope=col>Hi.80</th><th scope=col>Lo.95</th><th scope=col>Hi.95</th><th scope=col>Forecast</th></tr>\n",
       "\t<tr><th></th><th scope=col>&lt;dbl&gt;</th><th scope=col>&lt;dbl&gt;</th><th scope=col>&lt;dbl&gt;</th><th scope=col>&lt;dbl&gt;</th><th scope=col>&lt;dbl&gt;</th><th scope=col>&lt;dbl&gt;</th></tr>\n",
       "</thead>\n",
       "<tbody>\n",
       "\t<tr><th scope=row>Oct 2022</th><td>5.964263</td><td>5.882186</td><td>6.046341</td><td>5.838737</td><td>6.089790</td><td>389.2662</td></tr>\n",
       "\t<tr><th scope=row>Nov 2022</th><td>5.970909</td><td>5.860396</td><td>6.081421</td><td>5.801894</td><td>6.139923</td><td>391.8616</td></tr>\n",
       "\t<tr><th scope=row>Dec 2022</th><td>5.974266</td><td>5.841050</td><td>6.107482</td><td>5.770529</td><td>6.178003</td><td>393.1794</td></tr>\n",
       "\t<tr><th scope=row>Jan 2023</th><td>5.982767</td><td>5.830001</td><td>6.135533</td><td>5.749131</td><td>6.216402</td><td>396.5360</td></tr>\n",
       "\t<tr><th scope=row>Feb 2023</th><td>6.005163</td><td>5.834910</td><td>6.175416</td><td>5.744784</td><td>6.265543</td><td>405.5171</td></tr>\n",
       "\t<tr><th scope=row>Mar 2023</th><td>6.045016</td><td>5.858757</td><td>6.231276</td><td>5.760157</td><td>6.329876</td><td>422.0047</td></tr>\n",
       "\t<tr><th scope=row>Apr 2023</th><td>6.075122</td><td>5.873982</td><td>6.276263</td><td>5.767504</td><td>6.382741</td><td>434.9027</td></tr>\n",
       "\t<tr><th scope=row>May 2023</th><td>6.082724</td><td>5.867594</td><td>6.297854</td><td>5.753710</td><td>6.411737</td><td>438.2212</td></tr>\n",
       "\t<tr><th scope=row>Jun 2023</th><td>6.067259</td><td>5.838866</td><td>6.295652</td><td>5.717962</td><td>6.416556</td><td>431.4963</td></tr>\n",
       "\t<tr><th scope=row>Jul 2023</th><td>6.035971</td><td>5.794921</td><td>6.277020</td><td>5.667317</td><td>6.404624</td><td>418.2046</td></tr>\n",
       "\t<tr><th scope=row>Aug 2023</th><td>6.017908</td><td>5.764716</td><td>6.271099</td><td>5.630684</td><td>6.405131</td><td>410.7184</td></tr>\n",
       "\t<tr><th scope=row>Sep 2023</th><td>6.019831</td><td>5.754941</td><td>6.284722</td><td>5.614717</td><td>6.424946</td><td>411.5092</td></tr>\n",
       "</tbody>\n",
       "</table>\n"
      ],
      "text/latex": [
       "A data.frame: 12 × 6\n",
       "\\begin{tabular}{r|llllll}\n",
       "  & Point.Forecast & Lo.80 & Hi.80 & Lo.95 & Hi.95 & Forecast\\\\\n",
       "  & <dbl> & <dbl> & <dbl> & <dbl> & <dbl> & <dbl>\\\\\n",
       "\\hline\n",
       "\tOct 2022 & 5.964263 & 5.882186 & 6.046341 & 5.838737 & 6.089790 & 389.2662\\\\\n",
       "\tNov 2022 & 5.970909 & 5.860396 & 6.081421 & 5.801894 & 6.139923 & 391.8616\\\\\n",
       "\tDec 2022 & 5.974266 & 5.841050 & 6.107482 & 5.770529 & 6.178003 & 393.1794\\\\\n",
       "\tJan 2023 & 5.982767 & 5.830001 & 6.135533 & 5.749131 & 6.216402 & 396.5360\\\\\n",
       "\tFeb 2023 & 6.005163 & 5.834910 & 6.175416 & 5.744784 & 6.265543 & 405.5171\\\\\n",
       "\tMar 2023 & 6.045016 & 5.858757 & 6.231276 & 5.760157 & 6.329876 & 422.0047\\\\\n",
       "\tApr 2023 & 6.075122 & 5.873982 & 6.276263 & 5.767504 & 6.382741 & 434.9027\\\\\n",
       "\tMay 2023 & 6.082724 & 5.867594 & 6.297854 & 5.753710 & 6.411737 & 438.2212\\\\\n",
       "\tJun 2023 & 6.067259 & 5.838866 & 6.295652 & 5.717962 & 6.416556 & 431.4963\\\\\n",
       "\tJul 2023 & 6.035971 & 5.794921 & 6.277020 & 5.667317 & 6.404624 & 418.2046\\\\\n",
       "\tAug 2023 & 6.017908 & 5.764716 & 6.271099 & 5.630684 & 6.405131 & 410.7184\\\\\n",
       "\tSep 2023 & 6.019831 & 5.754941 & 6.284722 & 5.614717 & 6.424946 & 411.5092\\\\\n",
       "\\end{tabular}\n"
      ],
      "text/markdown": [
       "\n",
       "A data.frame: 12 × 6\n",
       "\n",
       "| <!--/--> | Point.Forecast &lt;dbl&gt; | Lo.80 &lt;dbl&gt; | Hi.80 &lt;dbl&gt; | Lo.95 &lt;dbl&gt; | Hi.95 &lt;dbl&gt; | Forecast &lt;dbl&gt; |\n",
       "|---|---|---|---|---|---|---|\n",
       "| Oct 2022 | 5.964263 | 5.882186 | 6.046341 | 5.838737 | 6.089790 | 389.2662 |\n",
       "| Nov 2022 | 5.970909 | 5.860396 | 6.081421 | 5.801894 | 6.139923 | 391.8616 |\n",
       "| Dec 2022 | 5.974266 | 5.841050 | 6.107482 | 5.770529 | 6.178003 | 393.1794 |\n",
       "| Jan 2023 | 5.982767 | 5.830001 | 6.135533 | 5.749131 | 6.216402 | 396.5360 |\n",
       "| Feb 2023 | 6.005163 | 5.834910 | 6.175416 | 5.744784 | 6.265543 | 405.5171 |\n",
       "| Mar 2023 | 6.045016 | 5.858757 | 6.231276 | 5.760157 | 6.329876 | 422.0047 |\n",
       "| Apr 2023 | 6.075122 | 5.873982 | 6.276263 | 5.767504 | 6.382741 | 434.9027 |\n",
       "| May 2023 | 6.082724 | 5.867594 | 6.297854 | 5.753710 | 6.411737 | 438.2212 |\n",
       "| Jun 2023 | 6.067259 | 5.838866 | 6.295652 | 5.717962 | 6.416556 | 431.4963 |\n",
       "| Jul 2023 | 6.035971 | 5.794921 | 6.277020 | 5.667317 | 6.404624 | 418.2046 |\n",
       "| Aug 2023 | 6.017908 | 5.764716 | 6.271099 | 5.630684 | 6.405131 | 410.7184 |\n",
       "| Sep 2023 | 6.019831 | 5.754941 | 6.284722 | 5.614717 | 6.424946 | 411.5092 |\n",
       "\n"
      ],
      "text/plain": [
       "         Point.Forecast Lo.80    Hi.80    Lo.95    Hi.95    Forecast\n",
       "Oct 2022 5.964263       5.882186 6.046341 5.838737 6.089790 389.2662\n",
       "Nov 2022 5.970909       5.860396 6.081421 5.801894 6.139923 391.8616\n",
       "Dec 2022 5.974266       5.841050 6.107482 5.770529 6.178003 393.1794\n",
       "Jan 2023 5.982767       5.830001 6.135533 5.749131 6.216402 396.5360\n",
       "Feb 2023 6.005163       5.834910 6.175416 5.744784 6.265543 405.5171\n",
       "Mar 2023 6.045016       5.858757 6.231276 5.760157 6.329876 422.0047\n",
       "Apr 2023 6.075122       5.873982 6.276263 5.767504 6.382741 434.9027\n",
       "May 2023 6.082724       5.867594 6.297854 5.753710 6.411737 438.2212\n",
       "Jun 2023 6.067259       5.838866 6.295652 5.717962 6.416556 431.4963\n",
       "Jul 2023 6.035971       5.794921 6.277020 5.667317 6.404624 418.2046\n",
       "Aug 2023 6.017908       5.764716 6.271099 5.630684 6.405131 410.7184\n",
       "Sep 2023 6.019831       5.754941 6.284722 5.614717 6.424946 411.5092"
      ]
     },
     "metadata": {},
     "output_type": "display_data"
    }
   ],
   "source": [
    "x"
   ]
  }
 ],
 "metadata": {
  "kernelspec": {
   "display_name": "R",
   "language": "R",
   "name": "ir"
  },
  "language_info": {
   "codemirror_mode": "r",
   "file_extension": ".r",
   "mimetype": "text/x-r-source",
   "name": "R",
   "pygments_lexer": "r",
   "version": "4.3.1"
  }
 },
 "nbformat": 4,
 "nbformat_minor": 5
}
