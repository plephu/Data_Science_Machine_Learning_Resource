{
 "cells": [
  {
   "cell_type": "code",
   "execution_count": 1,
   "id": "4e90ea57-8e55-4523-bcce-997cf37df523",
   "metadata": {},
   "outputs": [
    {
     "name": "stderr",
     "output_type": "stream",
     "text": [
      "corrplot 0.92 loaded\n",
      "\n"
     ]
    }
   ],
   "source": [
    "library('corrplot')\n",
    "library('ggplot2')"
   ]
  },
  {
   "cell_type": "code",
   "execution_count": 25,
   "id": "83658e81-8b12-4e93-a8e2-b8122d108fc2",
   "metadata": {},
   "outputs": [],
   "source": [
    "# 1. Đọc dữ liệu và đưa vào dataframe data."
   ]
  },
  {
   "cell_type": "code",
   "execution_count": 2,
   "id": "de54523c-4f51-4020-8592-eab41eefd60a",
   "metadata": {},
   "outputs": [],
   "source": [
    "mydata <- read.csv('mushroom.csv', stringsAsFactors=TRUE)"
   ]
  },
  {
   "cell_type": "code",
   "execution_count": null,
   "id": "551c4a2c-2cb9-4bc9-97df-8eeed05597c7",
   "metadata": {},
   "outputs": [],
   "source": [
    "# 2. In thông tin dữ liệu: head(), số dòng, số cột, summary"
   ]
  },
  {
   "cell_type": "code",
   "execution_count": 3,
   "id": "f4cb1db1-8cdb-4c4c-9a39-6b84fa8192f0",
   "metadata": {},
   "outputs": [
    {
     "data": {
      "text/html": [
       "<table class=\"dataframe\">\n",
       "<caption>A data.frame: 6 × 24</caption>\n",
       "<thead>\n",
       "\t<tr><th></th><th scope=col>X</th><th scope=col>Class</th><th scope=col>cap.shape</th><th scope=col>cap.surface</th><th scope=col>cap.color</th><th scope=col>bruises</th><th scope=col>odor</th><th scope=col>gill.attachment</th><th scope=col>gill.spacing</th><th scope=col>gill.size</th><th scope=col>⋯</th><th scope=col>stalk.surface.below.ring</th><th scope=col>stalk.color.above.ring</th><th scope=col>stalk.color.below.ring</th><th scope=col>veil.type</th><th scope=col>veil.color</th><th scope=col>ring.number</th><th scope=col>ring.type</th><th scope=col>print</th><th scope=col>population</th><th scope=col>habitat</th></tr>\n",
       "\t<tr><th></th><th scope=col>&lt;int&gt;</th><th scope=col>&lt;fct&gt;</th><th scope=col>&lt;fct&gt;</th><th scope=col>&lt;fct&gt;</th><th scope=col>&lt;fct&gt;</th><th scope=col>&lt;fct&gt;</th><th scope=col>&lt;fct&gt;</th><th scope=col>&lt;fct&gt;</th><th scope=col>&lt;fct&gt;</th><th scope=col>&lt;fct&gt;</th><th scope=col>⋯</th><th scope=col>&lt;fct&gt;</th><th scope=col>&lt;fct&gt;</th><th scope=col>&lt;fct&gt;</th><th scope=col>&lt;fct&gt;</th><th scope=col>&lt;fct&gt;</th><th scope=col>&lt;fct&gt;</th><th scope=col>&lt;fct&gt;</th><th scope=col>&lt;fct&gt;</th><th scope=col>&lt;fct&gt;</th><th scope=col>&lt;fct&gt;</th></tr>\n",
       "</thead>\n",
       "<tbody>\n",
       "\t<tr><th scope=row>1</th><td>1</td><td>Poisonous</td><td>x</td><td>s</td><td>n</td><td>t</td><td>None   </td><td>f</td><td>c</td><td>n</td><td>⋯</td><td>s</td><td>w</td><td>w</td><td>p</td><td>w</td><td>o</td><td>p</td><td>Buff     </td><td>s</td><td>u</td></tr>\n",
       "\t<tr><th scope=row>2</th><td>2</td><td>Edible   </td><td>x</td><td>s</td><td>y</td><td>t</td><td>Almonds</td><td>f</td><td>c</td><td>b</td><td>⋯</td><td>s</td><td>w</td><td>w</td><td>p</td><td>w</td><td>o</td><td>p</td><td>Chocolate</td><td>n</td><td>g</td></tr>\n",
       "\t<tr><th scope=row>3</th><td>3</td><td>Edible   </td><td>b</td><td>s</td><td>w</td><td>t</td><td>Fishy  </td><td>f</td><td>c</td><td>b</td><td>⋯</td><td>s</td><td>w</td><td>w</td><td>p</td><td>w</td><td>o</td><td>p</td><td>Chocolate</td><td>n</td><td>m</td></tr>\n",
       "\t<tr><th scope=row>4</th><td>4</td><td>Poisonous</td><td>x</td><td>y</td><td>w</td><td>t</td><td>None   </td><td>f</td><td>c</td><td>n</td><td>⋯</td><td>s</td><td>w</td><td>w</td><td>p</td><td>w</td><td>o</td><td>p</td><td>Buff     </td><td>s</td><td>u</td></tr>\n",
       "\t<tr><th scope=row>5</th><td>5</td><td>Edible   </td><td>x</td><td>s</td><td>g</td><td>f</td><td>Musty  </td><td>f</td><td>w</td><td>b</td><td>⋯</td><td>s</td><td>w</td><td>w</td><td>p</td><td>w</td><td>o</td><td>e</td><td>Chocolate</td><td>a</td><td>g</td></tr>\n",
       "\t<tr><th scope=row>6</th><td>6</td><td>Edible   </td><td>x</td><td>y</td><td>y</td><td>t</td><td>Almonds</td><td>f</td><td>c</td><td>b</td><td>⋯</td><td>s</td><td>w</td><td>w</td><td>p</td><td>w</td><td>o</td><td>p</td><td>Buff     </td><td>n</td><td>g</td></tr>\n",
       "</tbody>\n",
       "</table>\n"
      ],
      "text/latex": [
       "A data.frame: 6 × 24\n",
       "\\begin{tabular}{r|lllllllllllllllllllll}\n",
       "  & X & Class & cap.shape & cap.surface & cap.color & bruises & odor & gill.attachment & gill.spacing & gill.size & ⋯ & stalk.surface.below.ring & stalk.color.above.ring & stalk.color.below.ring & veil.type & veil.color & ring.number & ring.type & print & population & habitat\\\\\n",
       "  & <int> & <fct> & <fct> & <fct> & <fct> & <fct> & <fct> & <fct> & <fct> & <fct> & ⋯ & <fct> & <fct> & <fct> & <fct> & <fct> & <fct> & <fct> & <fct> & <fct> & <fct>\\\\\n",
       "\\hline\n",
       "\t1 & 1 & Poisonous & x & s & n & t & None    & f & c & n & ⋯ & s & w & w & p & w & o & p & Buff      & s & u\\\\\n",
       "\t2 & 2 & Edible    & x & s & y & t & Almonds & f & c & b & ⋯ & s & w & w & p & w & o & p & Chocolate & n & g\\\\\n",
       "\t3 & 3 & Edible    & b & s & w & t & Fishy   & f & c & b & ⋯ & s & w & w & p & w & o & p & Chocolate & n & m\\\\\n",
       "\t4 & 4 & Poisonous & x & y & w & t & None    & f & c & n & ⋯ & s & w & w & p & w & o & p & Buff      & s & u\\\\\n",
       "\t5 & 5 & Edible    & x & s & g & f & Musty   & f & w & b & ⋯ & s & w & w & p & w & o & e & Chocolate & a & g\\\\\n",
       "\t6 & 6 & Edible    & x & y & y & t & Almonds & f & c & b & ⋯ & s & w & w & p & w & o & p & Buff      & n & g\\\\\n",
       "\\end{tabular}\n"
      ],
      "text/markdown": [
       "\n",
       "A data.frame: 6 × 24\n",
       "\n",
       "| <!--/--> | X &lt;int&gt; | Class &lt;fct&gt; | cap.shape &lt;fct&gt; | cap.surface &lt;fct&gt; | cap.color &lt;fct&gt; | bruises &lt;fct&gt; | odor &lt;fct&gt; | gill.attachment &lt;fct&gt; | gill.spacing &lt;fct&gt; | gill.size &lt;fct&gt; | ⋯ ⋯ | stalk.surface.below.ring &lt;fct&gt; | stalk.color.above.ring &lt;fct&gt; | stalk.color.below.ring &lt;fct&gt; | veil.type &lt;fct&gt; | veil.color &lt;fct&gt; | ring.number &lt;fct&gt; | ring.type &lt;fct&gt; | print &lt;fct&gt; | population &lt;fct&gt; | habitat &lt;fct&gt; |\n",
       "|---|---|---|---|---|---|---|---|---|---|---|---|---|---|---|---|---|---|---|---|---|---|\n",
       "| 1 | 1 | Poisonous | x | s | n | t | None    | f | c | n | ⋯ | s | w | w | p | w | o | p | Buff      | s | u |\n",
       "| 2 | 2 | Edible    | x | s | y | t | Almonds | f | c | b | ⋯ | s | w | w | p | w | o | p | Chocolate | n | g |\n",
       "| 3 | 3 | Edible    | b | s | w | t | Fishy   | f | c | b | ⋯ | s | w | w | p | w | o | p | Chocolate | n | m |\n",
       "| 4 | 4 | Poisonous | x | y | w | t | None    | f | c | n | ⋯ | s | w | w | p | w | o | p | Buff      | s | u |\n",
       "| 5 | 5 | Edible    | x | s | g | f | Musty   | f | w | b | ⋯ | s | w | w | p | w | o | e | Chocolate | a | g |\n",
       "| 6 | 6 | Edible    | x | y | y | t | Almonds | f | c | b | ⋯ | s | w | w | p | w | o | p | Buff      | n | g |\n",
       "\n"
      ],
      "text/plain": [
       "  X Class     cap.shape cap.surface cap.color bruises odor    gill.attachment\n",
       "1 1 Poisonous x         s           n         t       None    f              \n",
       "2 2 Edible    x         s           y         t       Almonds f              \n",
       "3 3 Edible    b         s           w         t       Fishy   f              \n",
       "4 4 Poisonous x         y           w         t       None    f              \n",
       "5 5 Edible    x         s           g         f       Musty   f              \n",
       "6 6 Edible    x         y           y         t       Almonds f              \n",
       "  gill.spacing gill.size ⋯ stalk.surface.below.ring stalk.color.above.ring\n",
       "1 c            n         ⋯ s                        w                     \n",
       "2 c            b         ⋯ s                        w                     \n",
       "3 c            b         ⋯ s                        w                     \n",
       "4 c            n         ⋯ s                        w                     \n",
       "5 w            b         ⋯ s                        w                     \n",
       "6 c            b         ⋯ s                        w                     \n",
       "  stalk.color.below.ring veil.type veil.color ring.number ring.type print    \n",
       "1 w                      p         w          o           p         Buff     \n",
       "2 w                      p         w          o           p         Chocolate\n",
       "3 w                      p         w          o           p         Chocolate\n",
       "4 w                      p         w          o           p         Buff     \n",
       "5 w                      p         w          o           e         Chocolate\n",
       "6 w                      p         w          o           p         Buff     \n",
       "  population habitat\n",
       "1 s          u      \n",
       "2 n          g      \n",
       "3 n          m      \n",
       "4 s          u      \n",
       "5 a          g      \n",
       "6 n          g      "
      ]
     },
     "metadata": {},
     "output_type": "display_data"
    }
   ],
   "source": [
    "head(mydata)"
   ]
  },
  {
   "cell_type": "code",
   "execution_count": 4,
   "id": "daea5315-71bd-4b80-a282-f1e810e32a0f",
   "metadata": {},
   "outputs": [
    {
     "data": {
      "text/html": [
       "<table class=\"dataframe\">\n",
       "<caption>A data.frame: 6 × 24</caption>\n",
       "<thead>\n",
       "\t<tr><th></th><th scope=col>X</th><th scope=col>Class</th><th scope=col>cap.shape</th><th scope=col>cap.surface</th><th scope=col>cap.color</th><th scope=col>bruises</th><th scope=col>odor</th><th scope=col>gill.attachment</th><th scope=col>gill.spacing</th><th scope=col>gill.size</th><th scope=col>⋯</th><th scope=col>stalk.surface.below.ring</th><th scope=col>stalk.color.above.ring</th><th scope=col>stalk.color.below.ring</th><th scope=col>veil.type</th><th scope=col>veil.color</th><th scope=col>ring.number</th><th scope=col>ring.type</th><th scope=col>print</th><th scope=col>population</th><th scope=col>habitat</th></tr>\n",
       "\t<tr><th></th><th scope=col>&lt;int&gt;</th><th scope=col>&lt;fct&gt;</th><th scope=col>&lt;fct&gt;</th><th scope=col>&lt;fct&gt;</th><th scope=col>&lt;fct&gt;</th><th scope=col>&lt;fct&gt;</th><th scope=col>&lt;fct&gt;</th><th scope=col>&lt;fct&gt;</th><th scope=col>&lt;fct&gt;</th><th scope=col>&lt;fct&gt;</th><th scope=col>⋯</th><th scope=col>&lt;fct&gt;</th><th scope=col>&lt;fct&gt;</th><th scope=col>&lt;fct&gt;</th><th scope=col>&lt;fct&gt;</th><th scope=col>&lt;fct&gt;</th><th scope=col>&lt;fct&gt;</th><th scope=col>&lt;fct&gt;</th><th scope=col>&lt;fct&gt;</th><th scope=col>&lt;fct&gt;</th><th scope=col>&lt;fct&gt;</th></tr>\n",
       "</thead>\n",
       "<tbody>\n",
       "\t<tr><th scope=row>8119</th><td>8119</td><td>Poisonous</td><td>k</td><td>y</td><td>n</td><td>f</td><td>Creosote</td><td>f</td><td>c</td><td>n</td><td>⋯</td><td>s</td><td>p</td><td>w</td><td>p</td><td>w</td><td>o</td><td>e</td><td>White</td><td>v</td><td>d</td></tr>\n",
       "\t<tr><th scope=row>8120</th><td>8120</td><td>Edible   </td><td>k</td><td>s</td><td>n</td><td>f</td><td>Musty   </td><td>a</td><td>c</td><td>b</td><td>⋯</td><td>s</td><td>o</td><td>o</td><td>p</td><td>o</td><td>o</td><td>p</td><td>Black</td><td>c</td><td>l</td></tr>\n",
       "\t<tr><th scope=row>8121</th><td>8121</td><td>Edible   </td><td>x</td><td>s</td><td>n</td><td>f</td><td>Musty   </td><td>a</td><td>c</td><td>b</td><td>⋯</td><td>s</td><td>o</td><td>o</td><td>p</td><td>n</td><td>o</td><td>p</td><td>Black</td><td>v</td><td>l</td></tr>\n",
       "\t<tr><th scope=row>8122</th><td>8122</td><td>Edible   </td><td>f</td><td>s</td><td>n</td><td>f</td><td>Musty   </td><td>a</td><td>c</td><td>b</td><td>⋯</td><td>s</td><td>o</td><td>o</td><td>p</td><td>o</td><td>o</td><td>p</td><td>Black</td><td>c</td><td>l</td></tr>\n",
       "\t<tr><th scope=row>8123</th><td>8123</td><td>Poisonous</td><td>k</td><td>y</td><td>n</td><td>f</td><td>Spicy   </td><td>f</td><td>c</td><td>n</td><td>⋯</td><td>k</td><td>w</td><td>w</td><td>p</td><td>w</td><td>o</td><td>e</td><td>White</td><td>v</td><td>l</td></tr>\n",
       "\t<tr><th scope=row>8124</th><td>8124</td><td>Edible   </td><td>x</td><td>s</td><td>n</td><td>f</td><td>Musty   </td><td>a</td><td>c</td><td>b</td><td>⋯</td><td>s</td><td>o</td><td>o</td><td>p</td><td>o</td><td>o</td><td>p</td><td>Green</td><td>c</td><td>l</td></tr>\n",
       "</tbody>\n",
       "</table>\n"
      ],
      "text/latex": [
       "A data.frame: 6 × 24\n",
       "\\begin{tabular}{r|lllllllllllllllllllll}\n",
       "  & X & Class & cap.shape & cap.surface & cap.color & bruises & odor & gill.attachment & gill.spacing & gill.size & ⋯ & stalk.surface.below.ring & stalk.color.above.ring & stalk.color.below.ring & veil.type & veil.color & ring.number & ring.type & print & population & habitat\\\\\n",
       "  & <int> & <fct> & <fct> & <fct> & <fct> & <fct> & <fct> & <fct> & <fct> & <fct> & ⋯ & <fct> & <fct> & <fct> & <fct> & <fct> & <fct> & <fct> & <fct> & <fct> & <fct>\\\\\n",
       "\\hline\n",
       "\t8119 & 8119 & Poisonous & k & y & n & f & Creosote & f & c & n & ⋯ & s & p & w & p & w & o & e & White & v & d\\\\\n",
       "\t8120 & 8120 & Edible    & k & s & n & f & Musty    & a & c & b & ⋯ & s & o & o & p & o & o & p & Black & c & l\\\\\n",
       "\t8121 & 8121 & Edible    & x & s & n & f & Musty    & a & c & b & ⋯ & s & o & o & p & n & o & p & Black & v & l\\\\\n",
       "\t8122 & 8122 & Edible    & f & s & n & f & Musty    & a & c & b & ⋯ & s & o & o & p & o & o & p & Black & c & l\\\\\n",
       "\t8123 & 8123 & Poisonous & k & y & n & f & Spicy    & f & c & n & ⋯ & k & w & w & p & w & o & e & White & v & l\\\\\n",
       "\t8124 & 8124 & Edible    & x & s & n & f & Musty    & a & c & b & ⋯ & s & o & o & p & o & o & p & Green & c & l\\\\\n",
       "\\end{tabular}\n"
      ],
      "text/markdown": [
       "\n",
       "A data.frame: 6 × 24\n",
       "\n",
       "| <!--/--> | X &lt;int&gt; | Class &lt;fct&gt; | cap.shape &lt;fct&gt; | cap.surface &lt;fct&gt; | cap.color &lt;fct&gt; | bruises &lt;fct&gt; | odor &lt;fct&gt; | gill.attachment &lt;fct&gt; | gill.spacing &lt;fct&gt; | gill.size &lt;fct&gt; | ⋯ ⋯ | stalk.surface.below.ring &lt;fct&gt; | stalk.color.above.ring &lt;fct&gt; | stalk.color.below.ring &lt;fct&gt; | veil.type &lt;fct&gt; | veil.color &lt;fct&gt; | ring.number &lt;fct&gt; | ring.type &lt;fct&gt; | print &lt;fct&gt; | population &lt;fct&gt; | habitat &lt;fct&gt; |\n",
       "|---|---|---|---|---|---|---|---|---|---|---|---|---|---|---|---|---|---|---|---|---|---|\n",
       "| 8119 | 8119 | Poisonous | k | y | n | f | Creosote | f | c | n | ⋯ | s | p | w | p | w | o | e | White | v | d |\n",
       "| 8120 | 8120 | Edible    | k | s | n | f | Musty    | a | c | b | ⋯ | s | o | o | p | o | o | p | Black | c | l |\n",
       "| 8121 | 8121 | Edible    | x | s | n | f | Musty    | a | c | b | ⋯ | s | o | o | p | n | o | p | Black | v | l |\n",
       "| 8122 | 8122 | Edible    | f | s | n | f | Musty    | a | c | b | ⋯ | s | o | o | p | o | o | p | Black | c | l |\n",
       "| 8123 | 8123 | Poisonous | k | y | n | f | Spicy    | f | c | n | ⋯ | k | w | w | p | w | o | e | White | v | l |\n",
       "| 8124 | 8124 | Edible    | x | s | n | f | Musty    | a | c | b | ⋯ | s | o | o | p | o | o | p | Green | c | l |\n",
       "\n"
      ],
      "text/plain": [
       "     X    Class     cap.shape cap.surface cap.color bruises odor    \n",
       "8119 8119 Poisonous k         y           n         f       Creosote\n",
       "8120 8120 Edible    k         s           n         f       Musty   \n",
       "8121 8121 Edible    x         s           n         f       Musty   \n",
       "8122 8122 Edible    f         s           n         f       Musty   \n",
       "8123 8123 Poisonous k         y           n         f       Spicy   \n",
       "8124 8124 Edible    x         s           n         f       Musty   \n",
       "     gill.attachment gill.spacing gill.size ⋯ stalk.surface.below.ring\n",
       "8119 f               c            n         ⋯ s                       \n",
       "8120 a               c            b         ⋯ s                       \n",
       "8121 a               c            b         ⋯ s                       \n",
       "8122 a               c            b         ⋯ s                       \n",
       "8123 f               c            n         ⋯ k                       \n",
       "8124 a               c            b         ⋯ s                       \n",
       "     stalk.color.above.ring stalk.color.below.ring veil.type veil.color\n",
       "8119 p                      w                      p         w         \n",
       "8120 o                      o                      p         o         \n",
       "8121 o                      o                      p         n         \n",
       "8122 o                      o                      p         o         \n",
       "8123 w                      w                      p         w         \n",
       "8124 o                      o                      p         o         \n",
       "     ring.number ring.type print population habitat\n",
       "8119 o           e         White v          d      \n",
       "8120 o           p         Black c          l      \n",
       "8121 o           p         Black v          l      \n",
       "8122 o           p         Black c          l      \n",
       "8123 o           e         White v          l      \n",
       "8124 o           p         Green c          l      "
      ]
     },
     "metadata": {},
     "output_type": "display_data"
    }
   ],
   "source": [
    "tail(mydata)"
   ]
  },
  {
   "cell_type": "code",
   "execution_count": 5,
   "id": "1fd1d913-612f-47cb-9d8a-d485a21fb109",
   "metadata": {},
   "outputs": [
    {
     "data": {
      "text/plain": [
       "       X              Class      cap.shape cap.surface   cap.color    bruises \n",
       " Min.   :   1   Edible   :4208   b: 452    f:2320      n      :2284   f:4748  \n",
       " 1st Qu.:2032   Poisonous:3916   c:   4    g:   4      g      :1840   t:3376  \n",
       " Median :4062                    f:3152    s:2556      e      :1500           \n",
       " Mean   :4062                    k: 828    y:3244      y      :1072           \n",
       " 3rd Qu.:6093                    s:  32                w      :1040           \n",
       " Max.   :8124                    x:3656                b      : 168           \n",
       "                                                       (Other): 220           \n",
       "       odor      gill.attachment gill.spacing gill.size   gill.color  \n",
       " Musty   :3528   a: 210          c:6812       b:5612    b      :1728  \n",
       " Creosote:2160   f:7914          w:1312       n:2512    p      :1492  \n",
       " Pungent : 576                                          w      :1202  \n",
       " Spicy   : 576                                          n      :1048  \n",
       " Almonds : 400                                          g      : 752  \n",
       " Fishy   : 400                                          h      : 732  \n",
       " (Other) : 484                                          (Other):1170  \n",
       " stalk.shape stalk.root stalk.surface.above.ring stalk.surface.below.ring\n",
       " e:3516      ?:2480     f: 552                   f: 600                  \n",
       " t:4608      b:3776     k:2372                   k:2304                  \n",
       "             c: 556     s:5176                   s:4936                  \n",
       "             e:1120     y:  24                   y: 284                  \n",
       "             r: 192                                                      \n",
       "                                                                         \n",
       "                                                                         \n",
       " stalk.color.above.ring stalk.color.below.ring veil.type veil.color ring.number\n",
       " w      :4464           w      :4384           p:8124    n:  96     n:  36     \n",
       " p      :1872           p      :1872                     o:  96     o:7488     \n",
       " g      : 576           g      : 576                     w:7924     t: 600     \n",
       " n      : 448           n      : 512                     y:   8                \n",
       " b      : 432           b      : 432                                           \n",
       " o      : 192           o      : 192                                           \n",
       " (Other): 140           (Other): 156                                           \n",
       " ring.type       print      population habitat \n",
       " e:2776    White    :2388   a: 384     d:3148  \n",
       " f:  48    Chocolate:1968   c: 340     g:2148  \n",
       " l:1296    Buff     :1872   n: 400     l: 832  \n",
       " n:  36    Brown    :1632   s:1248     m: 292  \n",
       " p:3968    Orange   :  72   v:4040     p:1144  \n",
       "           Black    :  48   y:1712     u: 368  \n",
       "           (Other)  : 144              w: 192  "
      ]
     },
     "metadata": {},
     "output_type": "display_data"
    }
   ],
   "source": [
    "summary(mydata)"
   ]
  },
  {
   "cell_type": "code",
   "execution_count": 6,
   "id": "38b5beee-3b00-4515-a11b-a72ec8e1d0e6",
   "metadata": {},
   "outputs": [
    {
     "name": "stdout",
     "output_type": "stream",
     "text": [
      "'data.frame':\t8124 obs. of  24 variables:\n",
      " $ X                       : int  1 2 3 4 5 6 7 8 9 10 ...\n",
      " $ Class                   : Factor w/ 2 levels \"Edible\",\"Poisonous\": 2 1 1 2 1 1 1 1 2 1 ...\n",
      " $ cap.shape               : Factor w/ 6 levels \"b\",\"c\",\"f\",\"k\",..: 6 6 1 6 6 6 1 1 6 1 ...\n",
      " $ cap.surface             : Factor w/ 4 levels \"f\",\"g\",\"s\",\"y\": 3 3 3 4 3 4 3 4 4 3 ...\n",
      " $ cap.color               : Factor w/ 10 levels \"b\",\"c\",\"e\",\"g\",..: 5 10 9 9 4 10 9 9 9 10 ...\n",
      " $ bruises                 : Factor w/ 2 levels \"f\",\"t\": 2 2 2 2 1 2 2 2 2 2 ...\n",
      " $ odor                    : Factor w/ 9 levels \"Almonds\",\"Anise\",..: 7 1 4 7 6 1 1 4 7 1 ...\n",
      " $ gill.attachment         : Factor w/ 2 levels \"a\",\"f\": 2 2 2 2 2 2 2 2 2 2 ...\n",
      " $ gill.spacing            : Factor w/ 2 levels \"c\",\"w\": 1 1 1 1 2 1 1 1 1 1 ...\n",
      " $ gill.size               : Factor w/ 2 levels \"b\",\"n\": 2 1 1 2 1 1 1 1 2 1 ...\n",
      " $ gill.color              : Factor w/ 12 levels \"b\",\"e\",\"g\",\"h\",..: 5 5 6 6 5 6 3 6 8 3 ...\n",
      " $ stalk.shape             : Factor w/ 2 levels \"e\",\"t\": 1 1 1 1 2 1 1 1 1 1 ...\n",
      " $ stalk.root              : Factor w/ 5 levels \"?\",\"b\",\"c\",\"e\",..: 4 3 3 4 4 3 3 3 4 3 ...\n",
      " $ stalk.surface.above.ring: Factor w/ 4 levels \"f\",\"k\",\"s\",\"y\": 3 3 3 3 3 3 3 3 3 3 ...\n",
      " $ stalk.surface.below.ring: Factor w/ 4 levels \"f\",\"k\",\"s\",\"y\": 3 3 3 3 3 3 3 3 3 3 ...\n",
      " $ stalk.color.above.ring  : Factor w/ 9 levels \"b\",\"c\",\"e\",\"g\",..: 8 8 8 8 8 8 8 8 8 8 ...\n",
      " $ stalk.color.below.ring  : Factor w/ 9 levels \"b\",\"c\",\"e\",\"g\",..: 8 8 8 8 8 8 8 8 8 8 ...\n",
      " $ veil.type               : Factor w/ 1 level \"p\": 1 1 1 1 1 1 1 1 1 1 ...\n",
      " $ veil.color              : Factor w/ 4 levels \"n\",\"o\",\"w\",\"y\": 3 3 3 3 3 3 3 3 3 3 ...\n",
      " $ ring.number             : Factor w/ 3 levels \"n\",\"o\",\"t\": 2 2 2 2 2 2 2 2 2 2 ...\n",
      " $ ring.type               : Factor w/ 5 levels \"e\",\"f\",\"l\",\"n\",..: 5 5 5 5 1 5 5 5 5 5 ...\n",
      " $ print                   : Factor w/ 9 levels \"Black\",\"Brown\",..: 3 4 4 3 4 3 3 4 3 3 ...\n",
      " $ population              : Factor w/ 6 levels \"a\",\"c\",\"n\",\"s\",..: 4 3 3 4 1 3 3 4 5 4 ...\n",
      " $ habitat                 : Factor w/ 7 levels \"d\",\"g\",\"l\",\"m\",..: 6 2 4 6 2 2 4 4 2 4 ...\n"
     ]
    }
   ],
   "source": [
    "str(mydata)"
   ]
  },
  {
   "cell_type": "code",
   "execution_count": 7,
   "id": "8b7e985f-392b-4509-abe3-d68ec90ede18",
   "metadata": {},
   "outputs": [
    {
     "name": "stdout",
     "output_type": "stream",
     "text": [
      "[1] \"cols 24\"\n",
      "[1] \"rows 8124\"\n"
     ]
    }
   ],
   "source": [
    "print(paste('cols', ncol(mydata)))\n",
    "print(paste('rows', nrow(mydata)))"
   ]
  },
  {
   "cell_type": "code",
   "execution_count": 8,
   "id": "277e3567-952c-4e1d-a75c-44f5e121cd20",
   "metadata": {},
   "outputs": [
    {
     "name": "stderr",
     "output_type": "stream",
     "text": [
      "Loading required package: Rcpp\n",
      "\n",
      "## \n",
      "## Amelia II: Multiple Imputation\n",
      "## (Version 1.8.1, built: 2022-11-18)\n",
      "## Copyright (C) 2005-2023 James Honaker, Gary King and Matthew Blackwell\n",
      "## Refer to http://gking.harvard.edu/amelia/ for more information\n",
      "## \n",
      "\n"
     ]
    },
    {
     "data": {
      "image/png": "[encoded data removed]",
      "text/plain": [
       "Plot with title \"Missing values vs observed\""
      ]
     },
     "metadata": {
      "image/png": {
       "height": 420,
       "width": 420
      }
     },
     "output_type": "display_data"
    }
   ],
   "source": [
    "library(Amelia)\n",
    "missmap(mydata, main = 'Missing values vs observed')"
   ]
  },
  {
   "cell_type": "code",
   "execution_count": 9,
   "id": "b3359afe-eeb1-471e-9228-d11074e75a68",
   "metadata": {},
   "outputs": [
    {
     "data": {
      "text/html": [
       "FALSE"
      ],
      "text/latex": [
       "FALSE"
      ],
      "text/markdown": [
       "FALSE"
      ],
      "text/plain": [
       "[1] FALSE"
      ]
     },
     "metadata": {},
     "output_type": "display_data"
    }
   ],
   "source": [
    "any(is.na(mydata))"
   ]
  },
  {
   "cell_type": "markdown",
   "id": "7e82db99-ab4f-4348-9843-621573dca8c4",
   "metadata": {},
   "source": [
    "- Không có dữ liệu rỗng => không cần xử lý\n",
    "- Vì đa số data là dạng chữ => không tính được hệ số tương quan"
   ]
  },
  {
   "cell_type": "code",
   "execution_count": 10,
   "id": "0cfa4f6f-b4fb-43c2-9660-ffb962d66885",
   "metadata": {
    "scrolled": true
   },
   "outputs": [
    {
     "data": {
      "text/html": [
       "<table class=\"dataframe\">\n",
       "<caption>A data.frame: 6 × 22</caption>\n",
       "<thead>\n",
       "\t<tr><th></th><th scope=col>Class</th><th scope=col>cap.shape</th><th scope=col>cap.surface</th><th scope=col>cap.color</th><th scope=col>bruises</th><th scope=col>odor</th><th scope=col>gill.attachment</th><th scope=col>gill.spacing</th><th scope=col>gill.size</th><th scope=col>gill.color</th><th scope=col>⋯</th><th scope=col>stalk.surface.above.ring</th><th scope=col>stalk.surface.below.ring</th><th scope=col>stalk.color.above.ring</th><th scope=col>stalk.color.below.ring</th><th scope=col>veil.color</th><th scope=col>ring.number</th><th scope=col>ring.type</th><th scope=col>print</th><th scope=col>population</th><th scope=col>habitat</th></tr>\n",
       "\t<tr><th></th><th scope=col>&lt;fct&gt;</th><th scope=col>&lt;fct&gt;</th><th scope=col>&lt;fct&gt;</th><th scope=col>&lt;fct&gt;</th><th scope=col>&lt;fct&gt;</th><th scope=col>&lt;fct&gt;</th><th scope=col>&lt;fct&gt;</th><th scope=col>&lt;fct&gt;</th><th scope=col>&lt;fct&gt;</th><th scope=col>&lt;fct&gt;</th><th scope=col>⋯</th><th scope=col>&lt;fct&gt;</th><th scope=col>&lt;fct&gt;</th><th scope=col>&lt;fct&gt;</th><th scope=col>&lt;fct&gt;</th><th scope=col>&lt;fct&gt;</th><th scope=col>&lt;fct&gt;</th><th scope=col>&lt;fct&gt;</th><th scope=col>&lt;fct&gt;</th><th scope=col>&lt;fct&gt;</th><th scope=col>&lt;fct&gt;</th></tr>\n",
       "</thead>\n",
       "<tbody>\n",
       "\t<tr><th scope=row>1</th><td>Poisonous</td><td>x</td><td>s</td><td>n</td><td>t</td><td>None   </td><td>f</td><td>c</td><td>n</td><td>k</td><td>⋯</td><td>s</td><td>s</td><td>w</td><td>w</td><td>w</td><td>o</td><td>p</td><td>Buff     </td><td>s</td><td>u</td></tr>\n",
       "\t<tr><th scope=row>2</th><td>Edible   </td><td>x</td><td>s</td><td>y</td><td>t</td><td>Almonds</td><td>f</td><td>c</td><td>b</td><td>k</td><td>⋯</td><td>s</td><td>s</td><td>w</td><td>w</td><td>w</td><td>o</td><td>p</td><td>Chocolate</td><td>n</td><td>g</td></tr>\n",
       "\t<tr><th scope=row>3</th><td>Edible   </td><td>b</td><td>s</td><td>w</td><td>t</td><td>Fishy  </td><td>f</td><td>c</td><td>b</td><td>n</td><td>⋯</td><td>s</td><td>s</td><td>w</td><td>w</td><td>w</td><td>o</td><td>p</td><td>Chocolate</td><td>n</td><td>m</td></tr>\n",
       "\t<tr><th scope=row>4</th><td>Poisonous</td><td>x</td><td>y</td><td>w</td><td>t</td><td>None   </td><td>f</td><td>c</td><td>n</td><td>n</td><td>⋯</td><td>s</td><td>s</td><td>w</td><td>w</td><td>w</td><td>o</td><td>p</td><td>Buff     </td><td>s</td><td>u</td></tr>\n",
       "\t<tr><th scope=row>5</th><td>Edible   </td><td>x</td><td>s</td><td>g</td><td>f</td><td>Musty  </td><td>f</td><td>w</td><td>b</td><td>k</td><td>⋯</td><td>s</td><td>s</td><td>w</td><td>w</td><td>w</td><td>o</td><td>e</td><td>Chocolate</td><td>a</td><td>g</td></tr>\n",
       "\t<tr><th scope=row>6</th><td>Edible   </td><td>x</td><td>y</td><td>y</td><td>t</td><td>Almonds</td><td>f</td><td>c</td><td>b</td><td>n</td><td>⋯</td><td>s</td><td>s</td><td>w</td><td>w</td><td>w</td><td>o</td><td>p</td><td>Buff     </td><td>n</td><td>g</td></tr>\n",
       "</tbody>\n",
       "</table>\n"
      ],
      "text/latex": [
       "A data.frame: 6 × 22\n",
       "\\begin{tabular}{r|lllllllllllllllllllll}\n",
       "  & Class & cap.shape & cap.surface & cap.color & bruises & odor & gill.attachment & gill.spacing & gill.size & gill.color & ⋯ & stalk.surface.above.ring & stalk.surface.below.ring & stalk.color.above.ring & stalk.color.below.ring & veil.color & ring.number & ring.type & print & population & habitat\\\\\n",
       "  & <fct> & <fct> & <fct> & <fct> & <fct> & <fct> & <fct> & <fct> & <fct> & <fct> & ⋯ & <fct> & <fct> & <fct> & <fct> & <fct> & <fct> & <fct> & <fct> & <fct> & <fct>\\\\\n",
       "\\hline\n",
       "\t1 & Poisonous & x & s & n & t & None    & f & c & n & k & ⋯ & s & s & w & w & w & o & p & Buff      & s & u\\\\\n",
       "\t2 & Edible    & x & s & y & t & Almonds & f & c & b & k & ⋯ & s & s & w & w & w & o & p & Chocolate & n & g\\\\\n",
       "\t3 & Edible    & b & s & w & t & Fishy   & f & c & b & n & ⋯ & s & s & w & w & w & o & p & Chocolate & n & m\\\\\n",
       "\t4 & Poisonous & x & y & w & t & None    & f & c & n & n & ⋯ & s & s & w & w & w & o & p & Buff      & s & u\\\\\n",
       "\t5 & Edible    & x & s & g & f & Musty   & f & w & b & k & ⋯ & s & s & w & w & w & o & e & Chocolate & a & g\\\\\n",
       "\t6 & Edible    & x & y & y & t & Almonds & f & c & b & n & ⋯ & s & s & w & w & w & o & p & Buff      & n & g\\\\\n",
       "\\end{tabular}\n"
      ],
      "text/markdown": [
       "\n",
       "A data.frame: 6 × 22\n",
       "\n",
       "| <!--/--> | Class &lt;fct&gt; | cap.shape &lt;fct&gt; | cap.surface &lt;fct&gt; | cap.color &lt;fct&gt; | bruises &lt;fct&gt; | odor &lt;fct&gt; | gill.attachment &lt;fct&gt; | gill.spacing &lt;fct&gt; | gill.size &lt;fct&gt; | gill.color &lt;fct&gt; | ⋯ ⋯ | stalk.surface.above.ring &lt;fct&gt; | stalk.surface.below.ring &lt;fct&gt; | stalk.color.above.ring &lt;fct&gt; | stalk.color.below.ring &lt;fct&gt; | veil.color &lt;fct&gt; | ring.number &lt;fct&gt; | ring.type &lt;fct&gt; | print &lt;fct&gt; | population &lt;fct&gt; | habitat &lt;fct&gt; |\n",
       "|---|---|---|---|---|---|---|---|---|---|---|---|---|---|---|---|---|---|---|---|---|---|\n",
       "| 1 | Poisonous | x | s | n | t | None    | f | c | n | k | ⋯ | s | s | w | w | w | o | p | Buff      | s | u |\n",
       "| 2 | Edible    | x | s | y | t | Almonds | f | c | b | k | ⋯ | s | s | w | w | w | o | p | Chocolate | n | g |\n",
       "| 3 | Edible    | b | s | w | t | Fishy   | f | c | b | n | ⋯ | s | s | w | w | w | o | p | Chocolate | n | m |\n",
       "| 4 | Poisonous | x | y | w | t | None    | f | c | n | n | ⋯ | s | s | w | w | w | o | p | Buff      | s | u |\n",
       "| 5 | Edible    | x | s | g | f | Musty   | f | w | b | k | ⋯ | s | s | w | w | w | o | e | Chocolate | a | g |\n",
       "| 6 | Edible    | x | y | y | t | Almonds | f | c | b | n | ⋯ | s | s | w | w | w | o | p | Buff      | n | g |\n",
       "\n"
      ],
      "text/plain": [
       "  Class     cap.shape cap.surface cap.color bruises odor    gill.attachment\n",
       "1 Poisonous x         s           n         t       None    f              \n",
       "2 Edible    x         s           y         t       Almonds f              \n",
       "3 Edible    b         s           w         t       Fishy   f              \n",
       "4 Poisonous x         y           w         t       None    f              \n",
       "5 Edible    x         s           g         f       Musty   f              \n",
       "6 Edible    x         y           y         t       Almonds f              \n",
       "  gill.spacing gill.size gill.color ⋯ stalk.surface.above.ring\n",
       "1 c            n         k          ⋯ s                       \n",
       "2 c            b         k          ⋯ s                       \n",
       "3 c            b         n          ⋯ s                       \n",
       "4 c            n         n          ⋯ s                       \n",
       "5 w            b         k          ⋯ s                       \n",
       "6 c            b         n          ⋯ s                       \n",
       "  stalk.surface.below.ring stalk.color.above.ring stalk.color.below.ring\n",
       "1 s                        w                      w                     \n",
       "2 s                        w                      w                     \n",
       "3 s                        w                      w                     \n",
       "4 s                        w                      w                     \n",
       "5 s                        w                      w                     \n",
       "6 s                        w                      w                     \n",
       "  veil.color ring.number ring.type print     population habitat\n",
       "1 w          o           p         Buff      s          u      \n",
       "2 w          o           p         Chocolate n          g      \n",
       "3 w          o           p         Chocolate n          m      \n",
       "4 w          o           p         Buff      s          u      \n",
       "5 w          o           e         Chocolate a          g      \n",
       "6 w          o           p         Buff      n          g      "
      ]
     },
     "metadata": {},
     "output_type": "display_data"
    }
   ],
   "source": [
    "# xoa cot X va veil.type (chi co 1 factor)\n",
    "mydata <- subset(mydata, select = -c(X, veil.type))\n",
    "head(mydata)"
   ]
  },
  {
   "cell_type": "code",
   "execution_count": 11,
   "id": "613c1e73-078e-434b-8790-372873c4f8ad",
   "metadata": {},
   "outputs": [
    {
     "name": "stdout",
     "output_type": "stream",
     "text": [
      "\n",
      "   Edible Poisonous \n",
      "     4208      3916 \n"
     ]
    }
   ],
   "source": [
    "print(table(mydata$Class))"
   ]
  },
  {
   "cell_type": "code",
   "execution_count": 12,
   "id": "744a3273-2a97-4c52-a07a-5c1293f8c39a",
   "metadata": {
    "scrolled": true
   },
   "outputs": [
    {
     "name": "stdout",
     "output_type": "stream",
     "text": [
      "[1] \"Selected training row indexes: \"\n",
      "   [1] 2609 4069 2369 5273 1098 1252 7314  634 2097 5248 5423 6168 3911  356\n",
      "  [15] 5721 4261 6766 7700 6554 3954 1903  899 7465 4697 5403  932  997 2015\n",
      "  [29] 4717 5637 7380 4002  860 3944  259 5434  481 5418 2072 7326  299 3983\n",
      "  [43] 2454 6458 3720 5412  836  982 6290 7789 5468 6341 1540 2274 2552 3427\n",
      "  [57] 3032  727  945 3317 7066  626 4358 6534 4226 1396 5123 4470 7573 2818\n",
      "  [71] 1015 5990 6842 4746 6184  517   33 8066  103 5348 2157 7146 1353 1693\n",
      "  [85] 4172 7124 5897 5611 3619 2781   16 5477 3804 3320 7150 5445  988 7798\n",
      "  [99] 7810   82 6040 6001  914 4421 5742 7528 7095 2344  149 7140 5689  100\n",
      " [113] 5095 2346 2450   91 6925 7349 5174 6995 2336 4816 5878 6204 1309 2897\n",
      " [127] 5740 7113 6521 1877 6782  427 4089 6586 5232 4680 7453  951 1537 5261\n",
      " [141] 5838 1925 7997 4407 2960 4570 2859 1578 6186 4856 1889 1275 3513 8041\n",
      " [155] 4121 1907  703 3616 3921 3310 6670 4719 2310 3576 5039 4395 7614 4005\n",
      " [169] 6864 2417 2560 6902 3441  754 4895 6050 2910 1248 2822 7382 4390  607\n",
      " [183] 7686 2812 2831  546 2474 4567 2236  254  268 4736 3482 2089 7361 7746\n",
      " [197] 6968  664 1122 6681 4444 2155 4413 6078 7182  162  636 2754 1631 5664\n",
      " [211] 3995 5002 5817 4892 6774 3109 1162 7537 3057 2821 5667 4174 4622 3740\n",
      " [225] 3962 3169 6627 2230 3546 1151 3565 5675 7860 3578 3040 4433 4027 4635\n",
      " [239] 5662 3252 7012 2260 1611 4297 5521 4158 1293 8097 1406 3196 7231 8124\n",
      " [253] 4669 7796 5889 4001 4636    2  671 7816 5247 3280  771  741 2317 5132\n",
      " [267]  705  670 5683 4540 1887 6821 7727 5944 3270 4087 7056 5130 3015 7423\n",
      " [281] 1225 5865 1945 7683 6994 4277  751 5404 5884  463 6749 1337 2132 7129\n",
      " [295] 4560 3958 5080  225 3645 1126 2219 4585 3734 8064 6838 6100 5687 3638\n",
      " [309] 3071 1850 1709 7589 3627 1231 1109 1954 4249 3942 7105 6030 6384   49\n",
      " [323] 3211  156 2322 1591 3298 6906 2218 4388 4244 2767 2237 5959 3185 7195\n",
      " [337] 2654 2693 5206 3698 2298 4265 5003 4828 2598 7530 6601 3967 5015 6259\n",
      " [351] 3945 1803 1939 6876 1237 8079 7594 3286  985 2486 5947 4721  542 6843\n",
      " [365] 5589 5996 5013 7110 3631 5225 5322 6232 7538 1975 6535 4494 6412 5813\n",
      " [379] 2867 5642 7289 1625 2085 6850 6307 7586 5915 2094 3359 4955 1488  868\n",
      " [393]  376 2869  280 7078 6900  981 5524  715 5345 7547 6350 1372 1825  605\n",
      " [407] 1828 3373 3936 7526 7062 6828 4032 2813 4743 7759 5893 4255  928  978\n",
      " [421] 2983 4749 5498 3614 1078 2562 6684 6531 7073 1647 3037 8094 6891 3337\n",
      " [435] 5942 7908 3783 2675 4060 3666 1433 4716 2250 2121 3731  335 3118 1271\n",
      " [449] 6275 1174 5181 5140 4778 7522  983 4625 4178 1235 7342 6417   94 2378\n",
      " [463] 5029 7597 5810 6323 2035 3146 2352 7074 5050 5956  473 1370 4925 1255\n",
      " [477] 5486 3188 6870 7155 6252 2707 7494 3820  601 7701 2666 2151  755 3417\n",
      " [491] 1282 4006 7561 1208 4939 1414 1823  197 1678 1216 6890 7756 1217 5545\n",
      " [505] 1930 1073 6604 5142 3841 3819 5497  132 1603 4283 2101 2982 6781 1083\n",
      " [519] 6981 6826 2750 1428 3234 6231  228 2041 1593 5780 6025 5659 1198 3246\n",
      " [533] 4099 7943 2751 6546 6282 4577 1960 4863 3668  821 7013 6086 2717 1774\n",
      " [547]  708 1499 2953 5288 3159 2544 2266 6476 7370  110 1143  619 8067 8006\n",
      " [561]   27 5346  592 1134 1753 7068 4623 2918 3095 1341 5459 6922 7309 4966\n",
      " [575] 7870 4363 5485 3866 3658 7291 2541 5967 3409 5487 2148 1734 3530 1020\n",
      " [589] 6747 1236 8070 4377 1535 6680 1616 3948 6672 5875 3075 7928 5344 7317\n",
      " [603] 4839 6339 7745 6485 8043 1671 4755  925 7717 6314 6519 5806 5981 4254\n",
      " [617] 5739 7085 1251 6698 7527 4194 4916 5333 1333 4523 6827 5886 3098 5217\n",
      " [631] 5237 4742  826 6935 5034 6569 6396 4076 1468 7814 5586 4847 6229 1057\n",
      " [645] 3979 3176 5805 2446 6274 2022 5421 1280 6270  547 6300 1581 3216  237\n",
      " [659] 5256 5369 4861  503 6758 3174 7112   95 6053 3031 5376 2281 4618 2427\n",
      " [673] 5308 1018  331 5083 6039 1185 5334 4367 3140 4924 4711  491  138  712\n",
      " [687] 7391 3036 6499  685 3156 3767 3192 4784    8  864 4201 4272 4237 4199\n",
      " [701] 6674 1895 5461 6277 2591 5432 6676 5842 3175  753 7162 4803 4848 2312\n",
      " [715] 4371 1138 2314 3279 1853 3340  163 5744 1056 3773  566  490 3490 1512\n",
      " [729] 5761 4557 5323 1035  589 4031 3685 2786 2191 7909 7477 2533 6400  346\n",
      " [743] 4785 6556  722 2875 1654  273 5042   39 2029  418 4300 4318 7404 2708\n",
      " [757]  474 7766 4616  668 2999 1390 6241 1720 1582 1365 7975 1010 2232 1634\n",
      " [771] 4414 2117 1450 2316 1283 6522 2066  242 2226 2991 7639 5268 1843 2722\n",
      " [785] 1301  180 7865 3155 5757 6650  747 6127 7685 7208 1816  938 7325 5538\n",
      " [799] 6934  900 3287 3985  236 2423 3732 4787 4391 2569  831 1726 6675 4117\n",
      " [813] 3051 1387  959 2540 4049 2914 2420 3975 3761 3908 4013 6771 3393 3164\n",
      " [827] 5457 4516 6841 8093 3739 7133 5786 4153 1256 4899 1722 3085 6647 3300\n",
      " [841] 4905 2475  348  394 2912 3182 2587 4449 7384 5185 3662 1919 4852   58\n",
      " [855]  480 2588 1003 4607 5408 4457 6302 2419 1701  757 4450 7823 6115 2732\n",
      " [869] 7828 4733 2332  816  530 5270 7292  561 2772 7007 7016   30 7091  943\n",
      " [883] 2106 4774 4929 1950 4271 8072 6044 1065 5473 2758  910 4745 6236  415\n",
      " [897] 7927  454 6124 7822 4593 6411 2491 4041  875 3435 1905 3569 8017 2507\n",
      " [911] 1778 4321 4919 1702 4642 4334 1765 5121 1886 4665 6967 5010 3900 3780\n",
      " [925] 3023   71 5774   10 3555 1991 5189 2904 6310  789   63 1266  489   35\n",
      " [939] 6403 7881 7104  813 3163 3869  487 6442 4113 4578 2580 1457 7896 6220\n",
      " [953] 4056 3046 7509 1750 4574 2739 5578 7447 3178 3207 2584 5887 3906  292\n",
      " [967] 5896 3055 2193 8052 2981 2801 1169 7280 4090  692 5630 4582 7521 6712\n",
      " [981] 4780 5815 6089  750 4675 5284 4135 1505 4796 1272 1829 1878 2436 2333\n",
      " [995] 7577  392 3372 4620 1135 1112 4227 2714 6505 4864 3483 2519 2988  749\n",
      "[1009] 6577 2272 6223 6548 5091 1627 4653 2195 4674 2966 2725 2153 1789 1714\n",
      "[1023] 7481  324 2130 5694 2661 4195 3882 3128  153 4775 4110 1085 3931 8120\n",
      "[1037] 1536 7061 3753 4166 4508 2824 3743 2138 6334 7330 2341 8081 7554 2644\n",
      "[1051] 2059 1883 3825 5447 1464 5292  374 6276 6303 2228 8036  189 1981   65\n",
      "[1065] 4528 4096 4986 3333 1553 5163 2497 6689  594 6211 3582   69 3879 7581\n",
      "[1079]  720 5389 2337 1400 3839 5363 4786 2698 6762 2146 7863 4732 4073 6737\n",
      "[1093] 5839  855 7920 6440 7829 6571 2362 4901 6166 1761 1795 7903 4326 5392\n",
      "[1107] 6218 4123 3016 7670 6409 4707 1762 3750 2530 3760 5790 2777 3166  201\n",
      "[1121]  293 2769 4332 6932 3428  486 3682 3139 3570 1790 1809 6488 2034 7184\n",
      "[1135] 6347 4104 5173 8092 5053 3223 1848  417  444 5240 1555  848 5364 6578\n",
      "[1149] 6005 1802 1482 5011 1014 5197 1879 3180 4008  309  118 5415 3772 3239\n",
      "[1163] 7106 7622 3251 7631 3179 3554 6066 7448 7038 2214 4661 7159 6205 2828\n",
      "[1177] 6645  262 5841 6126 4481 4667 6958 3640 5018 6713 2556 2174  696 7331\n",
      "[1191] 2051  403 3573 6991 5753 1330   84 5343 3086  610 6497 3478 3335 5158\n",
      "[1205]  620 1268 5803 7206 6705 7533 7018 1438 5019  659 5290 6461 5321  406\n",
      "[1219] 1115 1608 4563 1351 3034 1399 1040 1096 5783 4309 3132 7956 6239 3454\n",
      "[1233] 5469 7824 4281  586  980  896 1170 4112 3784 3669 4346 7157 3586 3712\n",
      "[1247] 2529 6492 2975 2794 6326 7255   73 4897 6033 6253  390 3980 1747 3745\n",
      "[1261]  651 1500 4416 7826 2139 3260 4533 4264 7060 1327 5575 5409 5528 6351\n",
      "[1275] 3656 1030 7893 1378  929 1758 7149  101 4351 4773 3291 1819 7945 7156\n",
      "[1289] 7099 3191 2074 6917  825 6528 2843  467 5453 7752 1155 8023 6863 7501\n",
      "[1303] 5450 1697 6667 2990 3693 1479 4132 2574 2629 3769 6740 3315 1239 5422\n",
      "[1317] 4783  249 3523 6082 6759 7281  365 3114 7084 7125 1081 4596 1458 7033\n",
      "[1331] 3690 2472 7625  141  360 6772 3749 1361 6777 5593 5769  424 5596 5523\n",
      "[1345] 7985  353 1420 3585 5331 1133 4133 2455 5183  795 5023 4173 6926 4718\n",
      "[1359] 8107 2100 7366 1259 3534 5250 7626 3000 4810 4546 2229  746 7890  312\n",
      "[1373] 7010 6931 6620 4288 7664 7754 5081 6703 7772 3090 6111 2998 3026 1417\n",
      "[1387] 4221 5448 7235 3848 4835 4488 6666 2890 2978  203 4202 1200 7369 1986\n",
      "[1401] 3295 8110 1738 2678 4462 3187   32  612 4656 7114 7566 1369 7655 7076\n",
      "[1415] 3818 8071   19 4159 1844 2175 1851 5355  298 2949 3181 7352 6161 4538\n",
      "[1429] 4579 4206 6974 7358 5212 6626 4246 1274 1093  216  716 3471 2406 2977\n",
      "[1443] 7721 1687 6818  297 2382 1036 6886 5639 7019 2956 5638 3219 7347  834\n",
      "[1457] 4936 1953 7842 2735 4380 4658  302 4953 5089 5758 6150 6829 5796 3605\n",
      "[1471]  897 4797 2943 6145 6401  527 1754 2715 4498 6704  350 6475 2081 1502\n",
      "[1485] 6694 3444  233 7385 3262 1382  939 4325 1222 6088 2448 1080 7202 7001\n",
      "[1499] 7599 6311 1454  303 3595 6755 7929 6287 5087  239 2131 4077 1012 4695\n",
      "[1513]  119  515 2908 1296 7340 6386 1441 5833 6251 7491 1006 7111 1699 6469\n",
      "[1527] 5660 7394 7360  510 5285 2504 2854 3204 3973 3130 6284  498 2535 3612\n",
      "[1541] 4333 5695 7938 1273 5245 4108 5377 5820 6447 2548 3148 4463 7403 1375\n",
      "[1555] 6385 2865 6977 7401 7153  714 4127 4419 4305 4100 3481 2635  295 2634\n",
      "[1569] 5319 7904 2527 5372 5362 3861 4157 1242 7181 6507 5413 4464 6349 3652\n",
      "[1583] 6131 6319 4727 5952 4937 4855 2509 1989 2948 6746 3210 7654 3459 7138\n",
      "[1597] 2470 1297 4475 6042 1684 6058 4436  652  660 3939 1342 1650    3 4236\n",
      "[1611] 7960 1759 6036 7119  358 5386 2911  102 2113 3626 2874 6636 5539 4109\n",
      "[1625] 3909 1465 5610 4912 4878 5595 1371 4513 4896 6786 4779 2894 7213 4948\n",
      "[1639]  131 4983 3843 3131 5107 3635 4887 1334 6446 3489 6470 2054 1486 6004\n",
      "[1653] 5076 6152 3081 1767 1060 6031 1338 7553  285  719 6845 7830 7374 1425\n",
      "[1667] 5871 4673 1082 1847 3539 4424 6716 7648 2937 4299 6731 1071 4188 3634\n",
      "[1681]  514 5914 1160   92 1744 6359 5623 3621  952  238 1799 5349 3276 1822\n",
      "[1695] 1909 5969 7747 3301 3676 6437 5014  308 3157  767 7261 7666 1793 2091\n",
      "[1709] 5004 7512 4253 1279 4079  558 4544 2177 2264 5169 1987 5309 6418 1773\n",
      "[1723] 3138 5056 7287 5035 6632 3494 6949 6892 3963 6482  927  291 6723  502\n",
      "[1737]   25 5495 1743 2853 7469 6143 4527 6602 5592 3347 5603 1212 8096 4329\n",
      "[1751]  122 4592  793 4071 1804 1419 1516  683  717 7482 2421 1061 5176 1043\n",
      "[1765] 5626 8100 7490 4162 4909  923 5516 1436 6087 2271 1645 4301 3162  112\n",
      "[1779] 3338 4801 2736 2473 5059  504 1729  876  441 7688 4015 2825 2946 5077\n",
      "[1793] 2220 3084 3990 2204 2841 3299  632 7368 2431 1801 6324 4046 4251 1715\n",
      "[1807] 7372 6693 3254 1294 2252  992 2836 1792 5104 1686 2372 4685 5988 1812\n",
      "[1821] 6700 7264 4798 7874 6301 4790 6139 6451 4862 7806  674 7982 2331 1983\n",
      "[1835]  284 1868 1708 6074  912 5463 1964 5874 3787 2514  127 3151 6148 2741\n",
      "[1849] 7204 5681 4263 7662 7951 1357 3292 3884 4942 3671 2118 7341 5047 3550\n",
      "[1863] 6644  142  828 6456 3493 2696 5791 5494 1344 6517  643 3353 1184 3468\n",
      "[1877] 5907 4569 4365 1936 4965 4531 2056 6579 6669 1377 6711 5519 4631 2625\n",
      "[1891]  845 4190 1278 6317 4003 5953 7933 3782 6719  387 6853 8109 5260 1478\n",
      "[1905] 6658  974 1908 4973 2291 6455 1306 7126 6518 3779 1443 7669  164 5441\n",
      "[1919] 4584  509 2156 4290 7953 6996 5312 7677 5051 2375 5433 5570 4643  587\n",
      "[1933] 4604 4731 7272  255 6835 1570 3898  126 5804 6575 2525 5162 4980 5572\n",
      "[1947] 5105 2415 5111 4428 4316 7248 2425 2839 6969 6182 1691 1510 2243 4122\n",
      "[1961] 6156 6744 3889 3056 7593 4042 4443 3806 5672 6947 7963 3873 4576 2215\n",
      "[1975] 6217 3583 7008 1285 2353 1437 1521 4915 6109 7047  147 5177 5722 3281\n",
      "[1989] 5196 4738 1622 4859 7037 4507 7503 3752 8089 4240 7504 5634 2597 5020\n",
      "[2003] 3341 5520 4324 2688 6656 4657 4737 2140  850 3560 7871 4448 7089 1314\n",
      "[2017] 5717 1011  707 7673  788 1779 5680 4205 2126 2895  202 3008 6590 4930\n",
      "[2031]  366 4231 4688 3172  762 6011  791 2418 6246 7899 7348 5977 3212  529\n",
      "[2045] 2532 3596 1319 5484 4007 2190 1041 4141  955 4957 3304 1393 4066 2368\n",
      "[2059] 6096 6543 5352 1288 1935 2987 4886 1460 1099 2303 2805 1938 7118 5208\n",
      "[2073] 3127 6454 4286 1388 8046  476 2971  539  957 6227  116 6641 2796 6500\n",
      "[2087] 1661 7950 7320  497 5908 5440  966 3330 5658 7024 3968  492 4410 1533\n",
      "[2101]  235 3448 3506 1888 7572 6939 2090 1775 6249 7778 8035 2921 5272 5678\n",
      "[2115] 5890 7102 3342  214 7544 7835 5347 5587 2989 5085 3473 7808 7171 2150\n",
      "[2129] 5160 3581 4307 4748 7005 5239 4910 2171 6860 5230 2690 4595 1815 7706\n",
      "[2143] 1421 4171 2286 6043 6235  851 5950 5845 4744 4011 6508 2764   15 6862\n",
      "[2157] 6988 4587 1311 7027  953  847 7334 7028 3802 2412 5646 2037 5801  378\n",
      "[2171] 1473 6899 7976 1227  300 3755 6015 3608 5371 1807 7506 3433 3977 5410\n",
      "[2185] 3910 7288 5401  219 4037 2459 7906  523 4927 1885 5431  323 1534 8038\n",
      "[2199] 1641 6369 7327 2460  663 6183 4739 2299 2447 7310 1072 3521 6473 4411\n",
      "[2213] 6462  524 5365  806 7090 5920  288 7898 1343 2306 5383 7274 4479 4889\n",
      "[2227]  109  571 8022 5255 7513  532 3850 2296  764 5882 4435 2464  372  338\n",
      "[2241]  540 2365 4558 6382 4650 6567 5354 5844 1629 2389 3430 1958 6638 7850\n",
      "[2255] 2439 5700 1845 3105 1859 1258 1053 4514 5529 4740 7607 5501 1077 2626\n",
      "[2269] 2092 5894 6966 5342  368 3244  495 1418 6800  115 2840 5184 6903 3875\n",
      "[2283]  317 2969 5902 2963 2099 6327 5399  321  564 3811 7307  464 2749 5114\n",
      "[2297]  199  603 2564 1524 3997 7131 1284 4870 6321 6219 7764 5668  369 4238\n",
      "[2311] 4621 3803 2803 4095 5561 4541 7959 6355 1685 4043  684 3798 4098 1910\n",
      "[2325] 3633 2962 5144 2402 2659 6897 4137 6695 2350 7634 4893 7306   97 5655\n",
      "[2339] 3724 4781 4634 3813  412 2939  801 1992 2248 4128  990  407 4267 3587\n",
      "[2353] 5518 6340 6651 6171 2217 4317 1569 1630  151  695 6207 2702 6961  396\n",
      "[2367] 7757 5084 3429 5644 3351 2349 2814 8082   50 4412   74 5730 1736 6151\n",
      "[2381] 3928 2851 5749 2082 5686 1751 2719 4451 3922 4933 2496 4543 7418 4854\n",
      "[2395] 8002 2673  565 1332 3356 4566 6972 1550 5194 7715 2643 1318 3816 3423\n",
      "[2409] 3492 6642 4770 7649 5551 2164 6570 4183 7387 7603 3456 7229 2797 3268\n",
      "[2423] 5870 4372  367 5106 2319 7439 5090  889 5710 5963 6933 7173  574 4293\n",
      "[2437] 2976 4078 2922 6610 4287  545 5299 4185 2078 5049 6514 5925 3718 5892\n",
      "[2451]  311 7339 7376 7571 8014 6322 1490 3235 1088 6741 4097  617 7651  167\n",
      "[2465] 5099 6147 1463 6318 6929 2356 5829 1745 8105 5313 2551 3395 5697 2826\n",
      "[2479] 7250  342 5711 2351 3154 7596  935 3303 7809 7322 2111 3123 5203 1527\n",
      "[2493] 2838  975 5765  972 4361 3938  661 2614  537 4606 5361 2255 2457 4998\n",
      "[2507] 5381 4389 6366 5591 8053  608 7777  602 6466 3525 7247 7265 4478 5555\n",
      "[2521] 6272 3988 8086 2046 1100 7856 7755 4469 1599 2929 1107 6468 1560 4535\n",
      "[2535] 4652 7167 2409 4460 3099 1546 5152  541 7693 3799 5968 2055 1147 2518\n",
      "[2549] 1070 3913  689 7488 4580 7430 2622 3593  965 5202 5677 3865 5249 4602\n",
      "[2563] 5725 5358 3197 1881 2665 6019 1310 7591 7846 3715 1711 5905 4807 5989\n",
      "[2577] 8013 1004 2313 3643 7444 7036 2399 2852 2652 7375 6905 4588 4869 6353\n",
      "[2591]  718 6621 5966 2426 5606 6076 4788 4984 1141  294 7819 1179 5701 6552\n",
      "[2605] 6607 3002 6851 2974 1643 5881 6027 5148 5110 6640 2240 4913 4683 6002\n",
      "[2619] 1870 5605  901 3637 4348 3674 4629  713 1032 5802  681 3544 5143 6242\n",
      "[2633] 6540 7663 3053  266  528 4671  465 8074 4154 4804 6110 4617 4813  371\n",
      "[2647] 2044  776 7040 3022 2896 1721 6909  621 3699 7769  158 7359 6392 3460\n",
      "[2661] 5647   59 2923 1564 6421 6122 2166 3202 2001 3374 7944 5119 3324 3147\n",
      "[2675] 7240 7364 5772 3391 2122 3224 2453 1528  908 6653 7514 1303 7249 4968\n",
      "[2689] 5580 3121 7948 2300 4116 6761 4311  949 2247 1197 4761 5116 3072 6634\n",
      "[2703] 2262 1328 4995 6558 7545 4176 2123  655 5876 4609 4626 2656  505 1900\n",
      "[2717] 5571 1620 5009 7999 5824 6343 6370 4867 3984 7367 5537 1876 5930 5215\n",
      "[2731] 7507 3762 1606 5276 1869 6745 2006 4926 2088 3895 7680 3660 4155 4149\n",
      "[2745] 3122 8091 5186 1172 7015  475 4207 6557 4260 7098 1519 3274 4950 3575\n",
      "[2759]  907 7315 3789 5458 1749 3017 2926 5859 7601 1176 6817 5567  383 5734\n",
      "[2773] 3325 7744 6416 6795 1966 3044 4565 3183 7704 5522 7365  903 7177 6325\n",
      "[2787] 7239  544 2484 2539 1727 4106  272 4327 7345 3703 7613 7257 5641 7435\n",
      "[2801] 5983 3860 7632 2049 5226 3566 4291 2571 3357 5359 7588  933 1764 7713\n",
      "[2815] 2206 1583 5220 3672 4676 2411 4147 7139 7130 4114 5674  483 6937 3108\n",
      "[2829] 1106 4396 4092 5330 1618 4163 4180 1979  314 1613 4033 2394 3836 7048\n",
      "[2843] 2067 3514 1017 5052 6170 4959 7705 7086 6120 3758 5853  846 1009 4455\n",
      "[2857]  159 1031 4537 4850 7617 7108 7957 5131 3321 3885    4 2589  598 1808\n",
      "[2871] 5992 4830 7216 4876 8062 7946 6646  289 7276  840 4705 6068 7209  385\n",
      "[2885] 3232  865 2268 5866 4750 5741 1901 1291 2315 5112 1996 6538 6918 1849\n",
      "[2899] 7939  232 1824  829 4693 2120  879  468 4103 2639 5547 1445 3203 4080\n",
      "[2913] 6430 6364 6072 4441 5904 7719 6180  921 3790 2776 1211 3989 6483 7055\n",
      "[2927] 1579 5170 1927 5165 6832 2468 1862 3952 6244    9 5251 1873 4934 7767\n",
      "[2941] 6516  698 3360 4303 6405 5584   81 2234 2759 4048 1403  554 6026 3872\n",
      "[2955] 3679 2713 3883 3077 2173 2932 8039 4556 6956 6024  611 1270 6261 7505\n",
      "[2969] 1619 7972 4129 3868 1723 7434  830 6999 1029 6309 4551 2902 6625   26\n",
      "[2983] 3766 5028 2221 7067 7813 3208 6595 6328 2458 6910 5311 1213 2727 4458\n",
      "[2997] 4425 4990 3589 2799 7064 5857 3345 5795 4051 6344 5982  229 6954 5305\n",
      "[3011] 2951 2705 3826 3630 5360 5809 2687 3361 3600 7779  405 5213 2032 5718\n",
      "[3025] 3998 8018 2857 3716 1466 2686 4177 5066 6873 2187 5917 4422 7123 7812\n",
      "[3039] 2430 2093  389 2440 5280 6256 5262 1780 7901  880 1182 7925 2047 5178\n",
      "[3053] 3349 3864 5927 4152  596 6212 7175 3511 3088 4252 3562 6415 6665 4029\n",
      "[3067] 6283 2620 2554 3509 6329 6754 3907 6901 5128 1601 3726 6877 2445 1854\n",
      "[3081] 7797 3475 4021 7400 6118 4144  679 4952 6879 3591 6134 3834 7416 5012\n",
      "[3095] 2570 4978 7499  174 7172 3030 3933 5210  888 4143 1290  930 6511 4385\n",
      "[3109] 1598 5016 1988 7437 6464 2775 2909 2414 1321 1679  121 6606 4182 5706\n",
      "[3123] 4611 6855 3184 6268 3089 4210 1538 1636 6172 4145 7600 2788 7335 7096\n",
      "[3137] 5145 4009 2807  682 3264 2373 4278 1985 4040  580 3677 4709 3331 4028\n",
      "[3151] 2024 2386 1549 7775 5975 4208 1955 3785 7441 1352 5429 6678 3688 5166\n",
      "[3165] 7221 2384 7541 3041  615   72 5126 1668 1565 3659 7784 8116 5974 1422\n",
      "[3179] 3736 4821 6128 5935 5474 5175 5863 1019 6173 3259 7486 2102 7924 1164\n",
      "[3193] 1435 4228 7714 4093 6144 5281 1496 6587 6091 1893 4400 4819 7428 6709\n",
      "[3207] 5797 6726 8080 2592 1292 3978 2628 1123 3318 1518 2160 7877 5452 5209\n",
      "[3221] 7373  859 6198 6649 6201 2297 7390 4204 6255 2364 1623  699 1308  624\n",
      "[3235] 7880 7872 6883 2515   46 2490 8122 6582 1007 2680 7176 5115  772 4362\n",
      "[3249] 2434 5017 2371 1113 2038 7793 4725  269 7458  381 7151 3556 4526 7279\n",
      "[3263]   53 4020 3880  185 3748 6867 3735 3797  343 7021 6885  563  421 6208\n",
      "[3277] 6348 2973 2763 3024 1705 3692  408 6081 2070 7531 6941 7716 1154 2208\n",
      "[3291] 7707 6814 5693 5716  680  339 7524 5608 2302 2392 1410 4589 4160 7378\n",
      "[3305] 3314 2040  442 2442 4484 1381 5732 5397 7319  435  760 6555 2676  858\n",
      "[3319] 6889 2135 1262 3545  909 4771 8020 4010 2944 4476 1323 6962 6423 3805\n",
      "[3333] 7730 5282 4189 5252 1402 4280 4552  798 2480 7158 5978 4805 3558 3776\n",
      "[3347]  839 1244 7866 5101 4564  240 2301 5751 6765 3115 4941 6406 4583  286\n",
      "[3361] 4891 5822 3915 7690 1156 7542 5265 3214 4885 7659 1223 5025 6502  998\n",
      "[3375] 5724 1980 7668 3793 7888 4509  139 1094 1153 7442 3768 5388 5929  340\n",
      "[3389] 2275 3451 2768 6195 7575 2770 2410 6288 3891 1963 7109 7555 7218 7742\n",
      "[3403] 2086 7053 1261 3858 3846 7083  673 3386 3205  797   62  919  591  154\n",
      "[3417] 4125 7362 4700 3602 6878 2107 3464 6793 7604 6794 2304 2245 7653 3083\n",
      "[3431]  245 5396 3001 3925 6768 2485 2073  583   96 4500 6427  630 1866 2621\n",
      "[3445] 7456 7337  373 1220 7517 2325 5229  862 4974 6065 4812 2694 7445 4765\n",
      "[3459]  649 3840 2154  616 3383 7912 1111 5858 6012 4972 7407 7142 1180 7900\n",
      "[3473] 2899  808 4712  662 2043 6859 1101 6639 2677 2834 6539 7618  411 5998\n",
      "[3487] 3271 3495 7103 2647 1637 1813 1509 7916  290 2536 5283 2731 4175 1064\n",
      "[3501] 3316 3005 8021 5074 7377 1552 2488 4065 7135 3189 5557 6776 7983 4757\n",
      "[3515] 2071 6576 2273 3126 8119 2397 7203 1716 6196 7930  942 4105 6085 7223\n",
      "[3529] 7431  135 2892 6422  920 7160 2668 6112 6075 7214 1324 5781  782 3334\n",
      "[3543] 2771 5669 1316 6099 5984 6424 4682 6970 8113 3639 4209 1165 3419  893\n",
      "[3557] 5612 5855 3572 7660 5910 8090 7994 7057 1148 5228 2681  224 6175 7845\n",
      "[3571] 5836 3362 2256 1857 2495 3497 5489 7025 1432  459 5438 5437 4486 3100\n",
      "[3585] 6163 6738 7751 2510 5136 7188 3250 4762 7127 6142 2348 2062 4832 6820\n",
      "[3599] 1827 1302  690 3365 6710 5129 7443 6444 4991 7455 6294  944  792 3559\n",
      "[3613] 4962 3548  161 7708 6269 4196  766 5726 6959 1672 6425 7722 1781   60\n",
      "[3627] 2009 3064 3930 2433 7245 5932  196 2832 1346 5324 6720 4427 6313 1254\n",
      "[3641] 7623 2674 4059 6057 4168   43  814 6496 4151 2924 2293 2209 7958 2179\n",
      "[3655] 1543 7729 1589  477 3052 4734 1178   38 2520 5720 3424 5078 7894 1532\n",
      "[3669] 7332 1230 2152 1508 1572 1477 3125 6224 1391 7676 5736  890 2980 1095\n",
      "[3683] 2823 5657 5395 2084 4430 8050 6643 5872 5625 5022 3644 2528 1439 4992\n",
      "[3697] 7134 1651  105 4284 6426 2917 6448 2871 4632 5604 8063 1395 2893 5916\n",
      "[3711] 5906  104 2919  414 7405 4524 1312 6742 6498  709  970 4350 6536 7624\n",
      "[3725] 7046 5155 6526 5535  186 4355 3038 1228 5911 5315 3479 4026 4310 7295\n",
      "[3739] 2572  322 2258 6199 4971 4612 1299 6047 2885 2568 2083 3285 4572 5665\n",
      "[3753] 5127 5919  665  450 6264 3890 7556 4764 1347   83 6095 5269 6478 4230\n",
      "[3767] 6652 1157 4248 6107 7425 2284 7609 5862 2477 5154 1558 5167  479 4323\n",
      "[3781] 3526 7914 1993 5924 6103 2444 5798 6281 7848  113 1956 7966 1921 4698\n",
      "[3795]  650 7438 6404 4988 2435 1680 7070 2007 7002 2110 5825 4515 5816 3247\n",
      "[3809] 2002 5936 6524 6874 6844 4977 1214 5223 6225 5622 5958  887 6247 5200\n",
      "[3823] 3012 2338 1091  878 6174  787 6580 6260 2320 4473  773 1784 5690 4756\n",
      "[3837] 4860 6549 4704 6371 7598 1315 7308 4932 2197 4594 5594 5888 5830 1046\n",
      "[3851] 6481 2553  436 5235 2760 2033 5799 4951 3697 5120 1592 2489 6360 6780\n",
      "[3865] 4304 5340 7363 3275  783 6542 1167 5515 7100  222  555 4504 7043 7931\n",
      "[3879] 2005 4996  863 7211 4437 8007  758 1970 4320 1931  597  645 7760 3557\n",
      "[3893] 2276 4282 1852 5759 4866 1597 2048 1221 6501 3450 5031 7388 3472 4975\n",
      "[3907] 1788 2511 5719  768 2594 6071 4140 8101 1249 1331 1667 5394 4397 2267\n",
      "[3921] 4273 2792 1952 7735 2061 1692  447 6060 6955 7990 1210 5061 5462 3535\n",
      "[3935] 2211 2142 6871 5747 6413 2326 1409 6367 1874 3319  774 6965 7256 4741\n",
      "[3949] 5615 5633 8019 6600 4814 4269 1577 6596 2703 1199 2606 5560 6613  430\n",
      "[3963]  434 1624 3650 7436 6441 6882 4499  388 1810 2212 5754 4871  657 6907\n",
      "[3977] 5928 4198 1861  362 5926  184  336  326 2141 2023 5491 6460 2817 6354\n",
      "[3991] 7838 1119 7052 5621  506 6973 6846 6387 7294 3607 1304 4598 7565 3636\n",
      "[4005] 1050 3120 1495 5218 5027 4845 3847 2789 3420 5378 2791 6529 3567 1305\n",
      "[4019] 8077 3025 5652 2379 7026 4696 3425 8011 6683 6373 3966 1604 7595 7000\n",
      "[4033] 8042 1984 4997 6504 2833 7197 1929  209 7493 3713 7120  857 7081 3665\n",
      "[4047] 1491 5999 5138 3097 4405 1150 6545  688 2383 4670  386 7897 2508 3714\n",
      "[4061] 5419 5317  631 3580 4379 1760  453  307 2581  877 6162 7536 2868 2244\n",
      "[4075]  780 6167   47 1103 5509  522 4070 5253 3969 2042 3594 7395 6410 3074\n",
      "[4089] 6016 5692 7128 6609 6834 5508 6503 6537  704 1376 3289 5493 4655 3042\n",
      "[4103] 1039  146 2941 5467 6185 7484 7080 4935 6533 5991 3069 2667 1475 7635\n",
      "[4117]  120 3981 7412 3375 5755 4344 2202 4014 6943 7082 3812 6132 2706 7464\n",
      "[4131]  628  549  675 5939 3004 7833 1904  438 7738 1281 5782 6472 3194 7702\n",
      "[4145] 7995 2105 1947 4169 4692 3394 6194 3838 7285 3385 6591 4012 1863 4243\n",
      "[4159]  861 1529 3950 4044 5873 5559 4999 6190  357  375 5301  244 6480 3029\n",
      "[4173] 5653 6599 5827 4063 2928 6887 1659 6357  409 7461 5221 2416 8056 6773\n",
      "[4187] 4808 3795 1079 4829 7192 4403 1469 7168 2599 7251 2637 1748 6975 7801\n",
      "[4201] 2334 8060 2984 2216 6363 3821 6202 7409 6020 1411  666 2753 3355  482\n",
      "[4215] 6940 3398 2367  733 3577 6393 2845 1817 5336 1833 5565 3870  217  790\n",
      "[4229]  423 7633 2855 5293 2695 6852 2901 8098 6836 3328 2876 6550 7638  456\n",
      "[4243] 4659 5207 4872 3929 5903 1142 4548 1911 3496 6615 6848 4599 5481  136\n",
      "[4257] 2872  296  711 4614 7230 3253  588 5618 4118 5133 7782 5654 7472 6997\n",
      "[4271] 5267 3326 3080 4142 4339 2559 7905 7199 7734 2323 7432 3664  646  693\n",
      "[4285] 6798 4800 7421 1187 2942 4624 1204 1626 2774  885  732 5073 3209 3380\n",
      "[4299] 5994 5246 6153 1638 8103  784 8045 2718 5705 1253 2627 3402  823 4969\n",
      "[4313] 1740 7557 6830 5987 1202 3020  954  210  313 5406 6984 3831 1785 6013\n",
      "[4327] 7389 6297 3756 2958 8027 2403 5044 2740 6869 3892 2036 2064 4648 5766\n",
      "[4341] 4823 1610 4545  967 3467 3894  169 7661 6736 4944 7269 1561 7284 2555\n",
      "[4355] 4402 5164  904 1978 6998 3043 7628  478 3533 4525  962  107 3919 1063\n",
      "[4369] 7694 7803  134 6611 4495 4485 7516 3972 2640 4715 7918 4777 2762 3367\n",
      "[4383] 2880 6930 6306 2178 1595 7154 2309 2235 2829 2800 3941 4877 1976   99\n",
      "[4397] 7682  854  379 5296  964 6960 1796 6222 4426 1867 5707 1229 7773 6687\n",
      "[4411] 4989  905 1090 1233 3487 5064  977 6797  700 7343 1163 3876 3982  934\n",
      "[4425] 7592 5430 2290 4167 6248 5257 7839   18  886 7534 4610 5713 5387 6671\n",
      "[4439] 1542 4022 6254 2265   61   24  207 5065 6622 6792 2669 1289 3227 1384\n",
      "[4453] 5472 4383 2955 6729 4456 5339 4354 7165  520 2449 6812 2965 4874 2025\n",
      "[4467] 7185 5727 1584 7500 1832   93 5205 3856 6904 1263  265  721 4124 4225\n",
      "[4481] 5933 3406 3809 4960 5219 2671 1913 2645 4730 6685 7496 7696 3771 3994\n",
      "[4495] 4467 7977 5082 7244 1694 5921 7041 2793 7551  243 4873 5161 4767 1735\n",
      "[4509] 1695 1934 3689   23  781  137 4846 5287 1733 4242 5100 3288 4343 1520\n",
      "[4523] 6881 5058 7079 6137 5367 3508 2053 7529 7733  437 5414 1995 2595 3706\n",
      "[4537]  653   80 1503  604 3670 7381 1329  701 3540   79 1001 7678  206 1860\n",
      "[4551] 3009 7743 7226 1238  812 6779 4793 5922 4502 2476 2339 2618  996 4664\n",
      "[4565] 7351 4217 4019 1891  726 5756 5021 4082 5848 2087 8123  334 7144 5949\n",
      "[4579] 2689 5748 8055 2128  493 1037 6271 1523 1514  513 6010 5187 1951 4349\n",
      "[4593] 7473  779 2577 6648 6372 6169 6484 3248 6189 2849 1571 3657 4083 4472\n",
      "[4607]  642 2359   88  740 3446 3434 3153 4820 5819 1360 5631 4392 7923 1522\n",
      "[4621] 5124 1350 2785 1766 7546 7616 3039 7044  842 2192 4826 4314  511 1737\n",
      "[4635]  742 4352 3737 6399 6330 5885 6062 3641  796 6305  271 7921 1215 7821\n",
      "[4649] 7242 7298 6407 1689 5867 7532 1152 2632 4039 5670  428 2608 4191 5454\n",
      "[4663] 1670 4613 1924 3687 3457 4921 4094 2285 5427 1566 6014 3161 2649 1183\n",
      "[4677] 6589 2685 1192 7922 6008 1175 3113 5752 6734 4918 2065 1205 5767 5679\n",
      "[4691] 1494 1128  770  319 7805 7763 6079 6067 4776  352 1322 4270 7004 5379\n",
      "[4705] 2728  600 1682 6945 3027 7193 4914 5191 5258 6465 1712 1846 3400 7023\n",
      "[4719] 3897 3935   37 2018 7410 4760 7440  811 6105 2837 6985 3955 7998 5526\n",
      "[4733] 7063 5946  744 5180  579 5590 3953 2565 7886 7519   48 4963 2612 4197\n",
      "[4747] 5294 2169 8095 5449 6291 6123 1673 2345 3710 6192 1798 2251 6295 4600\n",
      "[4761] 2611 2882 4394 6523 2186 5997 6849 5899 3327 5849 5778 6394 2947  961\n",
      "[4775] 3855 3249 2916 5789 4250 3940 6336 3258  575 4510 1652 4302 4512  416\n",
      "[4789] 5563 7049 6921 2198 2986 1730 5037 2888 7459 1016  341 3233  869 5048\n",
      "[4803] 4215 5901 3579 6056 7215 1190 7954 7145 7406 5709 3076 6565 3243 4438\n",
      "[4817]  824 3229 4081 3171 2027 2573 1188 6732 4409 5600 6069 2964 6986 4511\n",
      "[4831] 6617 1277 1145 7271 7535 6304  384 4615 1594 1821 7602 5832 1614 2563\n",
      "[4845] 3485 3788 1456 1383 3404 7580 1397 3655 7275 2347 7497 2124 2374 2670\n",
      "[4859] 2816 6530 7034 6391 7952 1483 3696 8117 1246 1028 2134 4130 7316 1415\n",
      "[4873] 3993 7940 6509  198 1489 5298 5007  625 7457 3888 6623   11 5512   64\n",
      "[4887] 7299 6699 7282 6365 2242 5834 4795 5182 3476 4366 5134 4792 5153 6722\n",
      "[4901]  609  656  333 3946 2889 5171 1092 2239   54 3917 6868  730 5970 7981\n",
      "[4915] 5708  827 4336 3112  192 5055 5581 1755 6631  995 1008   57 4630 6804\n",
      "[4929]  501 1104 4879 3168 6402 5649 5828 5945 2462 7761  448 1797  941 1345\n",
      "[4943] 3035 3313 1447 3142 4534  507 3117 5314 4809 1718 1669 3584 2616 7336\n",
      "[4957] 6989 2704 3528  439 5407 5443 2938 6608 6048 6092 5961 3717  278 6512\n",
      "[4971] 1363 2328 1588 7723 6278 7671 4165 7050 4368 3700 3970 2200 7620 1462\n",
      "[4985] 6980 3992 2873 7278  432 7712 2613 1562 7301 7941 1413 2726 5420 4064\n",
      "[4999] 4641 6438 1982  194 5588  301 5613 3618  702 5879 7630 3924 4890 5456\n",
      "[5013] 5763   40 6034 5883 7869  562 5940 3615  337  906 4139 2400 5731  590\n",
      "[5027] 7568 4418 1084 6061 5316 7792 4517 2207 3106 7241 4994 2709 6234 6916\n",
      "[5041] 5451 2225 7305 5614 7302 6616 2523 7710 7910 2957  111 1545 4023 2683\n",
      "[5055] 5216  258 7117 7873 4045 6618 1997 4735 5072 4880 3152 7549 3730 2263\n",
      "[5069] 1539  946 1055 1968 3255 5607 4865 4439 1218 7219  623 7807 3277 7841\n",
      "[5083] 1818 5328 3048 6320 2385 6662 4706 7724 6133 4536 1206 5199  526 2287\n",
      "[5097]  971 7450 7827  270 2755 1426 7087 4386 2182 3708 7468 4811 7304 1530\n",
      "[5111] 4490 7862 1967  275 1044 6583 6125 4946   90  926 1033 1038 6164 6098\n",
      "[5125] 1674 3272 4229 2068 1325 3014 2395 3903 7786 8069 3623  956 2905 2692\n",
      "[5139] 7051 4827 7991 5598 6146 2954 5385 5306 5063 3503 7393 4378 1448 5548\n",
      "[5153] 8003 1663 3382 2517 7996 1731 3851 3392  641  570 5417 7293 6055 2935\n",
      "[5167] 1336 2308 4699  820 5275 7191 4881 3150  310   87  835 5934 4660 6911\n",
      "[5181]  305 2481 3996 2257 2697  155 7562 5151 5297 7462 3505 1676  211 5762\n",
      "[5195] 1665 2512 3538 6188 4976 3829 5464 6041 7045 6463 8054 1250 6927 7508\n",
      "[5209] 1574 4822  667 1062 3746 1800  706 5629 1649 7222 4468 6308 7054 6358\n",
      "[5223] 7692 1116 7665 4689 3673 5122  543 3322 3134 2610 7543 3376 5093 4328\n",
      "[5237]  462 6733 7017 1339 1373 4571 3571 5320 4837 6630 8049 6191 6028 3397\n",
      "[5251] 5698 1640 4471 6439 6203 3256    1 3828 1752 6129  805 1196 1034 6520\n",
      "[5265] 5777 2327 3775 7642 7559 7859 1644 7636  999  637 5530   77 5310 1120\n",
      "[5279] 4520 2945 7328 6316   68  809 6493 3221 7518 1127 3845 7984 2664 5341\n",
      "[5293] 4017  170 3240 3683 4434 2292 2582 5108 2052 2185 6839  803 4331 3604\n",
      "[5307] 3886 2682 7942 7937 5190 4726 4241  844 6629  260 6445 3695  425 6912\n",
      "[5321] 1918 2441 4115 1431 5850 2181 1842 2765  873 7511 2145 1307 7426 7820\n",
      "[5335]  991 3531 7817 8084 3006 5227 4911 7855  516 4084 1974 7629 1504 5852\n",
      "[5349] 4633 7612 4420  644 1990 7698 3366 3844 8068 8057 1025 3887  377 7574\n",
      "[5363] 2915 3926 1481 7867 3470  471 5350  986 4649 1118 2401 2778 6375 5259\n",
      "[5377] 7794  455 2810  647  458 8111 2020 1962 5088 5368 2870 2361 6686  329\n",
      "[5391]  883 7143 8112 7989 3609  936  281 5764  569 2170 4364 3628 7650 3502\n",
      "[5405] 3563 4530 3694 6432 3622 7658 3893 7815 2655 3238 4054 7419 3447 1394\n",
      "[5419] 1260 1949 5243   14 1219 8059 3867 8085 2847 7460 7947 1195 7290 4452\n",
      "[5433] 5382 2936 5024 3225 3302 3439  729  183 2779 1068 1902 6003 6721 3145\n",
      "[5447] 3135 7094 5951 5068 7196 4423 3542  614 6559 6619 1513 5435 1234 4086\n",
      "[5461] 1621   31 2387 7101  799 6896 3195 6434 2016 5496 5558 8004 5808 2820\n",
      "[5475] 2601 3800 1487 1440 3510 6006 2600 5366 4858 4769 4647 4404 4639 7148\n",
      "[5489] 4085 4561 3902 5696  560 4442 4374 1405 4186 7844 5624 3824 6450 6187\n",
      "[5503] 7402 5488 1207 5502 6315 7009  557 3307 2747 3007 2578 1830 3916  535\n",
      "[5517] 1434  108 1898 4713 6431 1335 5895 6395 5295 2437 5188 3960 6566 8104\n",
      "[5531] 6584  195 4295 3306 6692 4542 4382 7992 6919 8040 3186 6574 1770 6560\n",
      "[5545] 6573   22 4900  382 3421 2249 3028 3058 7641  884 5729 2907 3808 1298\n",
      "[5559] 1320 1835 7739 4387 7610  204 7495 2567 6813  937 2877 2404 5475 4474\n",
      "[5573] 5616   76 7621 2017 4131 1757 5835 6018 6564    7 5214 7277 3905 7840\n",
      "[5587] 7795 1834 1776 6840 4993 5291  429 4497 4701 5837 3874 2137  218 4446\n",
      "[5601] 5891 4831   41 3606 3133 4406 3266 1526  160 4057  852 7558 3047  114\n",
      "[5615] 4768 4672  461  686   42 1547 6987 2586 4654 6114 2129 7980 7883 7121\n",
      "[5629] 1580  521 2795  536 5831 8047 2743 4922 2295  577 6544 5147 7300 7217\n",
      "[5643] 3661 4214 7170 6612 6807 2167 3384 7590 5971 4833 5564 1444 1786 2096\n",
      "[5657] 7058 2205 3165 6193 1681 6140  359 5442 2060 5326  618 2168  748 7847\n",
      "[5671] 1940 2343 5533 5965 5168 2324 5880 1515 2467 7263 2330 8118  800 5411\n",
      "[5685] 7510 5733 2014\n",
      "[1] \"Rows of training data and test data:\"\n",
      "[1] 5687\n",
      "[1] 2437\n"
     ]
    }
   ],
   "source": [
    "set.seed(42)\n",
    "n = nrow(mydata)\n",
    "trainIndex = sample(1:n, size = round(0.7*n), replace=FALSE)\n",
    "print(\"Selected training row indexes: \")\n",
    "print(trainIndex)\n",
    "train = mydata[trainIndex ,]\n",
    "test = mydata[-trainIndex ,]\n",
    "print(\"Rows of training data and test data:\")\n",
    "print(nrow(train))\n",
    "print(nrow(test))"
   ]
  },
  {
   "cell_type": "markdown",
   "id": "30088c66-7d04-4128-854a-a4f920c14c52",
   "metadata": {},
   "source": [
    "## Logistic Regression"
   ]
  },
  {
   "cell_type": "code",
   "execution_count": 13,
   "id": "e56feeca-6fe9-4a3d-b970-4e8191f22d2c",
   "metadata": {
    "scrolled": true
   },
   "outputs": [
    {
     "name": "stderr",
     "output_type": "stream",
     "text": [
      "Warning message:\n",
      "\"glm.fit: algorithm did not converge\"\n"
     ]
    },
    {
     "name": "stdout",
     "output_type": "stream",
     "text": [
      "\n",
      "Call:\n",
      "glm(formula = Class ~ ., family = \"binomial\", data = train)\n",
      "\n",
      "Coefficients: (10 not defined because of singularities)\n",
      "                            Estimate Std. Error z value Pr(>|z|)\n",
      "(Intercept)               -2.657e+01  3.719e+05       0        1\n",
      "cap.shapec                 7.802e-08  2.209e+05       0        1\n",
      "cap.shapef                 1.239e-08  2.825e+04       0        1\n",
      "cap.shapek                -6.274e-08  3.073e+04       0        1\n",
      "cap.shapes                 8.477e-09  9.565e+04       0        1\n",
      "cap.shapex                 6.695e-09  2.706e+04       0        1\n",
      "cap.surfaceg              -4.632e-06  2.730e+05       0        1\n",
      "cap.surfaces              -1.475e-09  1.609e+04       0        1\n",
      "cap.surfacey              -4.195e-09  1.353e+04       0        1\n",
      "cap.colorc                 1.748e-08  9.475e+04       0        1\n",
      "cap.colore                 2.108e-08  4.354e+04       0        1\n",
      "cap.colorg                 2.603e-08  4.172e+04       0        1\n",
      "cap.colorn                 2.470e-08  4.259e+04       0        1\n",
      "cap.colorp                -4.746e-08  5.408e+04       0        1\n",
      "cap.colorr                 3.482e-08  1.436e+05       0        1\n",
      "cap.coloru                 3.453e-08  1.520e+05       0        1\n",
      "cap.colorw                 3.434e-08  4.210e+04       0        1\n",
      "cap.colory                 3.825e-08  4.470e+04       0        1\n",
      "bruisest                   2.657e+01  1.419e+05       0        1\n",
      "odorAnise                  2.657e+01  1.721e+05       0        1\n",
      "odorCreosote              -2.657e+01  4.276e+05       0        1\n",
      "odorFishy                  4.727e-10  3.007e+04       0        1\n",
      "odorFoul                   1.328e+02  6.636e+05       0        1\n",
      "odorMusty                 -7.970e+01  4.123e+05       0        1\n",
      "odorNone                  -5.313e+01  5.112e+05       0        1\n",
      "odorPungent               -2.657e+01  4.283e+05       0        1\n",
      "odorSpicy                 -2.657e+01  4.283e+05       0        1\n",
      "gill.attachmentf          -1.268e-07  1.528e+05       0        1\n",
      "gill.spacingw              1.953e-07  6.277e+04       0        1\n",
      "gill.sizen                -7.970e+01  3.849e+05       0        1\n",
      "gill.colore               -2.657e+01  2.550e+05       0        1\n",
      "gill.colorg               -2.657e+01  2.534e+05       0        1\n",
      "gill.colorh               -2.657e+01  2.530e+05       0        1\n",
      "gill.colork               -2.657e+01  2.537e+05       0        1\n",
      "gill.colorn               -2.657e+01  2.531e+05       0        1\n",
      "gill.coloro               -2.657e+01  2.625e+05       0        1\n",
      "gill.colorp               -2.657e+01  2.527e+05       0        1\n",
      "gill.colorr               -2.657e+01  2.744e+05       0        1\n",
      "gill.coloru               -2.657e+01  2.540e+05       0        1\n",
      "gill.colorw               -2.657e+01  2.521e+05       0        1\n",
      "gill.colory               -2.657e+01  2.602e+05       0        1\n",
      "stalk.shapet              -5.313e+01  2.502e+05       0        1\n",
      "stalk.rootb               -2.657e+01  1.626e+05       0        1\n",
      "stalk.rootc               -1.594e+02  7.763e+05       0        1\n",
      "stalk.roote                2.657e+01  1.499e+05       0        1\n",
      "stalk.rootr               -1.860e+02  6.699e+05       0        1\n",
      "stalk.surface.above.ringk  2.873e-10  3.187e+04       0        1\n",
      "stalk.surface.above.rings -1.212e-09  2.548e+04       0        1\n",
      "stalk.surface.above.ringy  1.125e-06  3.413e+05       0        1\n",
      "stalk.surface.below.ringk  1.031e-07  3.184e+04       0        1\n",
      "stalk.surface.below.rings  6.504e-09  2.547e+04       0        1\n",
      "stalk.surface.below.ringy  2.657e+01  2.079e+05       0        1\n",
      "stalk.color.above.ringc           NA         NA      NA       NA\n",
      "stalk.color.above.ringe   -2.991e-06  6.788e+04       0        1\n",
      "stalk.color.above.ringg   -2.996e-06  3.733e+04       0        1\n",
      "stalk.color.above.ringn    6.007e-08  2.893e+04       0        1\n",
      "stalk.color.above.ringo   -5.313e+01  3.251e+05       0        1\n",
      "stalk.color.above.ringp   -2.996e-06  2.897e+04       0        1\n",
      "stalk.color.above.ringw   -2.995e-06  3.307e+04       0        1\n",
      "stalk.color.above.ringy    1.594e+02  6.596e+05       0        1\n",
      "stalk.color.below.ringc           NA         NA      NA       NA\n",
      "stalk.color.below.ringe   -3.329e-06  6.800e+04       0        1\n",
      "stalk.color.below.ringg   -3.323e-06  3.745e+04       0        1\n",
      "stalk.color.below.ringn    4.456e-08  2.903e+04       0        1\n",
      "stalk.color.below.ringo           NA         NA      NA       NA\n",
      "stalk.color.below.ringp   -3.323e-06  2.922e+04       0        1\n",
      "stalk.color.below.ringw   -3.323e-06  3.329e+04       0        1\n",
      "stalk.color.below.ringy   -1.047e-07  1.455e+05       0        1\n",
      "veil.coloro                2.865e-09  6.029e+04       0        1\n",
      "veil.colorw                       NA         NA      NA       NA\n",
      "veil.colory                       NA         NA      NA       NA\n",
      "ring.numbero               1.328e+02  6.135e+05       0        1\n",
      "ring.numbert                      NA         NA      NA       NA\n",
      "ring.typef                 5.313e+01  3.047e+05       0        1\n",
      "ring.typel                        NA         NA      NA       NA\n",
      "ring.typen                        NA         NA      NA       NA\n",
      "ring.typep                 2.657e+01  1.293e+05       0        1\n",
      "printBrown                        NA         NA      NA       NA\n",
      "printBuff                 -7.148e-10  8.628e+04       0        1\n",
      "printChocolate            -6.808e-10  8.514e+04       0        1\n",
      "printGreen                -5.357e-10  8.230e+04       0        1\n",
      "printOrange                1.328e+02  4.111e+05       0        1\n",
      "printPurple               -2.621e-10  1.203e+05       0        1\n",
      "printWhite                 7.970e+01  3.944e+05       0        1\n",
      "printYellow               -1.771e-09  8.239e+04       0        1\n",
      "populationc               -1.982e-10  7.349e+04       0        1\n",
      "populationn                2.297e-09  4.302e+04       0        1\n",
      "populations                4.263e-10  3.064e+04       0        1\n",
      "populationv               -1.871e-09  4.139e+04       0        1\n",
      "populationy                1.997e-09  4.298e+04       0        1\n",
      "habitatg                  -7.661e-08  2.548e+04       0        1\n",
      "habitatl                   8.353e-08  2.380e+04       0        1\n",
      "habitatm                  -7.686e-08  4.356e+04       0        1\n",
      "habitatp                  -6.249e-08  1.878e+04       0        1\n",
      "habitatu                  -1.466e-07  4.360e+04       0        1\n",
      "habitatw                          NA         NA      NA       NA\n",
      "\n",
      "(Dispersion parameter for binomial family taken to be 1)\n",
      "\n",
      "    Null deviance: 7.8766e+03  on 5686  degrees of freedom\n",
      "Residual deviance: 3.2994e-08  on 5601  degrees of freedom\n",
      "AIC: 172\n",
      "\n",
      "Number of Fisher Scoring iterations: 25\n",
      "\n"
     ]
    }
   ],
   "source": [
    "mylogit <- glm(Class ~ ., data =train, family = 'binomial')\n",
    "print(summary(mylogit))"
   ]
  },
  {
   "cell_type": "code",
   "execution_count": 14,
   "id": "6f9582bb-e0b2-463e-a8a4-3076bf5b2b67",
   "metadata": {},
   "outputs": [
    {
     "name": "stderr",
     "output_type": "stream",
     "text": [
      "Warning message in predict.lm(object, newdata, se.fit, scale = 1, type = if (type == :\n",
      "\"prediction from rank-deficient fit; attr(*, \"non-estim\") has doubtful cases\"\n"
     ]
    },
    {
     "name": "stdout",
     "output_type": "stream",
     "text": [
      "[1] \"Testdata class vs predict\"\n",
      "    testClass pred_value.30.40.\n",
      "124    Edible            Edible\n",
      "125    Edible            Edible\n",
      "128    Edible            Edible\n",
      "129    Edible            Edible\n",
      "130    Edible            Edible\n",
      "133    Edible            Edible\n",
      "140    Edible            Edible\n",
      "143    Edible            Edible\n",
      "144    Edible            Edible\n",
      "145    Edible            Edible\n",
      "148    Edible            Edible\n"
     ]
    }
   ],
   "source": [
    "pred <- predict(mylogit,\n",
    "                newdata = test,\n",
    "                type = 'response')\n",
    "pred_value <- ifelse(pred > 0.5, 'Poisonous', 'Edible')\n",
    "print('Testdata class vs predict')\n",
    "result <- data.frame(testClass = test$Class[30:40],pred_value[30:40])\n",
    "print(result)"
   ]
  },
  {
   "cell_type": "code",
   "execution_count": 15,
   "id": "e2d1be78-f4c5-463c-910f-2adea5c878c6",
   "metadata": {},
   "outputs": [
    {
     "name": "stdout",
     "output_type": "stream",
     "text": [
      "[1] \"Accuracy:  1\"\n"
     ]
    }
   ],
   "source": [
    "misClasificError = mean(pred_value != test$Class)\n",
    "print(paste('Accuracy: ', 1 - misClasificError))"
   ]
  },
  {
   "cell_type": "markdown",
   "id": "04f846e8-4142-4d78-9c66-42b287665cf5",
   "metadata": {},
   "source": [
    "#### Nhận xét: xác suất dự đoán là 100%, có thể vì có nhiều thông tin nên việc dự đoán cho tỉ lệ chính xác cao."
   ]
  },
  {
   "cell_type": "code",
   "execution_count": 16,
   "id": "e11333b3-4a81-4ae0-9b0f-13a68ca6e96a",
   "metadata": {},
   "outputs": [
    {
     "name": "stderr",
     "output_type": "stream",
     "text": [
      "Loading required package: lattice\n",
      "\n"
     ]
    }
   ],
   "source": [
    "library(caret)"
   ]
  },
  {
   "cell_type": "code",
   "execution_count": 17,
   "id": "6800c7ed-1c2e-47e4-bc2d-009a55b35969",
   "metadata": {},
   "outputs": [
    {
     "data": {
      "text/plain": [
       "Confusion Matrix and Statistics\n",
       "\n",
       "           Reference\n",
       "Prediction  Edible Poisonous\n",
       "  Edible      1263         0\n",
       "  Poisonous      0      1174\n",
       "                                     \n",
       "               Accuracy : 1          \n",
       "                 95% CI : (0.9985, 1)\n",
       "    No Information Rate : 0.5183     \n",
       "    P-Value [Acc > NIR] : < 2.2e-16  \n",
       "                                     \n",
       "                  Kappa : 1          \n",
       "                                     \n",
       " Mcnemar's Test P-Value : NA         \n",
       "                                     \n",
       "            Sensitivity : 1.0000     \n",
       "            Specificity : 1.0000     \n",
       "         Pos Pred Value : 1.0000     \n",
       "         Neg Pred Value : 1.0000     \n",
       "             Prevalence : 0.5183     \n",
       "         Detection Rate : 0.5183     \n",
       "   Detection Prevalence : 0.5183     \n",
       "      Balanced Accuracy : 1.0000     \n",
       "                                     \n",
       "       'Positive' Class : Edible     \n",
       "                                     "
      ]
     },
     "metadata": {},
     "output_type": "display_data"
    }
   ],
   "source": [
    "confusionMatrix(as.factor(pred_value),as.factor(test$Class))"
   ]
  },
  {
   "cell_type": "code",
   "execution_count": null,
   "id": "1b8392b4-3f2b-4c00-bd0d-18e60af41cd9",
   "metadata": {},
   "outputs": [],
   "source": []
  },
  {
   "cell_type": "markdown",
   "id": "1dca1b2b-2daa-4184-9221-86c02e13ca57",
   "metadata": {},
   "source": [
    "## Decision Tree"
   ]
  },
  {
   "cell_type": "code",
   "execution_count": 18,
   "id": "8b74e205-886f-462c-b0c0-0cd9ea024028",
   "metadata": {},
   "outputs": [],
   "source": [
    "library(rpart)\n",
    "library(rpart.plot)"
   ]
  },
  {
   "cell_type": "code",
   "execution_count": 19,
   "id": "f2145c1e-7563-47b0-8293-e5bc2a41cf9c",
   "metadata": {},
   "outputs": [
    {
     "name": "stdout",
     "output_type": "stream",
     "text": [
      "n= 5687 \n",
      "\n",
      "node), split, n, loss, yval, (yprob)\n",
      "      * denotes terminal node\n",
      "\n",
      "1) root 5687 2742 Edible (0.51784772 0.48215228)  \n",
      "  2) odor=Almonds,Fishy,Musty 3027   82 Edible (0.97291047 0.02708953)  \n",
      "    4) print=Black,Brown,Buff,Chocolate,Green,Purple,White,Yellow 2982   37 Edible (0.98759222 0.01240778) *\n",
      "    5) print=Orange 45    0 Poisonous (0.00000000 1.00000000) *\n",
      "  3) odor=Anise,Creosote,Foul,None,Pungent,Spicy 2660    0 Poisonous (0.00000000 1.00000000) *\n"
     ]
    }
   ],
   "source": [
    "mushrooms.tree <- rpart(Class ~ ., data = train, method = 'class')\n",
    "print(mushrooms.tree)"
   ]
  },
  {
   "cell_type": "code",
   "execution_count": 20,
   "id": "2ba2acb7-29c4-4284-bd45-6f6854703601",
   "metadata": {},
   "outputs": [
    {
     "data": {
      "image/png": "[encoded data removed]",
      "text/plain": [
       "plot without title"
      ]
     },
     "metadata": {
      "image/png": {
       "height": 420,
       "width": 420
      }
     },
     "output_type": "display_data"
    }
   ],
   "source": [
    "prp(mushrooms.tree, type = 2, extra = 'auto', nn = TRUE, branch =  1, varlen = 0, yesno = 2)"
   ]
  },
  {
   "cell_type": "code",
   "execution_count": 21,
   "id": "c60bc31b-f527-4ba0-bf09-60ecd88e15a4",
   "metadata": {},
   "outputs": [],
   "source": [
    "y_pred = predict(mushrooms.tree, test, type = 'class')"
   ]
  },
  {
   "cell_type": "code",
   "execution_count": 22,
   "id": "258dfb7b-9f5c-436e-a485-8a3e24ba2443",
   "metadata": {},
   "outputs": [
    {
     "data": {
      "text/plain": [
       "           \n",
       "y_pred      Edible Poisonous\n",
       "  Edible      1263        11\n",
       "  Poisonous      0      1163"
      ]
     },
     "metadata": {},
     "output_type": "display_data"
    }
   ],
   "source": [
    "result= table(y_pred, test$Class)\n",
    "result"
   ]
  },
  {
   "cell_type": "code",
   "execution_count": 23,
   "id": "ee340af3-57b1-4b3c-ab01-e41d3c13ab87",
   "metadata": {},
   "outputs": [
    {
     "data": {
      "text/html": [
       "0.99548625359048"
      ],
      "text/latex": [
       "0.99548625359048"
      ],
      "text/markdown": [
       "0.99548625359048"
      ],
      "text/plain": [
       "[1] 0.9954863"
      ]
     },
     "metadata": {},
     "output_type": "display_data"
    }
   ],
   "source": [
    "accuracy = sum(diag(result)/sum(result))\n",
    "accuracy"
   ]
  },
  {
   "cell_type": "code",
   "execution_count": 24,
   "id": "a801a2b6-af82-42fd-9435-a0834c2868eb",
   "metadata": {},
   "outputs": [],
   "source": [
    "#### Nhận xét: Decision Tree có xác suất dự đoán là 99.5%, tỉ lệ chính xác cao."
   ]
  },
  {
   "cell_type": "markdown",
   "id": "343bb547-c277-4cf8-adad-e8abee8290b0",
   "metadata": {},
   "source": [
    "## Kết Luận:\n",
    "- Logistic Regression phù hợp hơn cho bộ dữ liệu này."
   ]
  },
  {
   "cell_type": "code",
   "execution_count": null,
   "id": "6cb9ca50-4fef-45f7-b24c-e713e3afb35f",
   "metadata": {},
   "outputs": [],
   "source": []
  }
 ],
 "metadata": {
  "kernelspec": {
   "display_name": "R",
   "language": "R",
   "name": "ir"
  },
  "language_info": {
   "codemirror_mode": "r",
   "file_extension": ".r",
   "mimetype": "text/x-r-source",
   "name": "R",
   "pygments_lexer": "r",
   "version": "4.3.1"
  }
 },
 "nbformat": 4,
 "nbformat_minor": 5
}
