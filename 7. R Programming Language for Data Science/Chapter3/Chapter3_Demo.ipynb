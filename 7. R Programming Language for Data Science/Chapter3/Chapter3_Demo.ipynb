{
 "cells": [
  {
   "cell_type": "code",
   "execution_count": null,
   "id": "2987c067-d227-44dc-9f47-23bea0cd2dc1",
   "metadata": {},
   "outputs": [],
   "source": []
  },
  {
   "cell_type": "code",
   "execution_count": null,
   "id": "481a3194-3089-4f9e-84ad-f181b8c84a96",
   "metadata": {},
   "outputs": [],
   "source": [
    "y <- switch('color','color' = 'black', 'shape' = 'straight', 'length' = 20)\n",
    "print(y)"
   ]
  },
  {
   "cell_type": "code",
   "execution_count": 8,
   "id": "7a521fee-1a42-4cd6-8fbc-f4490b563618",
   "metadata": {},
   "outputs": [
    {
     "name": "stdin",
     "output_type": "stream",
     "text": [
      "Input number 1:  2\n",
      "Input number 2:  3\n",
      "Input one Arithnetic OPERATOR:  +\n"
     ]
    },
    {
     "name": "stdout",
     "output_type": "stream",
     "text": [
      "[1] \"Sum: 5\"\n"
     ]
    }
   ],
   "source": [
    "number1 <- as.integer(readline(prompt = 'Input number 1: '))\n",
    "number2 <- as.integer(readline(prompt = \"Input number 2: \"))\n",
    "operator <- readline(prompt = \"Input one Arithnetic OPERATOR: \")\n",
    "switch(operator,'+' = print(paste(\"Sum:\", number1 + number2)),\n",
    "       '-' = print(paste(\"Sub:\", number1 - number2)),\n",
    "       '*' = print(paste(\"Mul:\", number1 * number2)),\n",
    "       '/' = print(paste(\"Div:\", number1 / number2)),\n",
    "       print(\"Nothing\"))"
   ]
  },
  {
   "cell_type": "code",
   "execution_count": 2,
   "id": "c9fec030-365e-4585-8a11-12e477aaab31",
   "metadata": {},
   "outputs": [
    {
     "name": "stdin",
     "output_type": "stream",
     "text": [
      "Input number 1: :  20\n"
     ]
    }
   ],
   "source": [
    "number1 <- as.integer(readline(prompt = 'Input number 1: : '))"
   ]
  },
  {
   "cell_type": "code",
   "execution_count": 10,
   "id": "9d959416-cf23-4bff-833f-064a664657e7",
   "metadata": {},
   "outputs": [
    {
     "name": "stdin",
     "output_type": "stream",
     "text": [
      "mark:  7\n"
     ]
    }
   ],
   "source": [
    "mark <- as.integer(readline(prompt = 'mark: '))\n"
   ]
  },
  {
   "cell_type": "code",
   "execution_count": 11,
   "id": "bcadcd48-2a80-4fdf-91dd-65f6e8efd6fd",
   "metadata": {},
   "outputs": [],
   "source": [
    "# Xep loai\n",
    "rank <-''\n",
    "if(mark<5){\n",
    "  rank <- 'Weak'\n",
    "} else if(mark<7){\n",
    "  rank <- 'Average'\n",
    "} else if(mark<8){\n",
    "  rank <- 'Good'\n",
    "} else if(mark < 9){\n",
    "  rank <- 'Excellent'  \n",
    "}else{\n",
    "  rank <- 'Very good'\n",
    "} # 1 if , 3 else if, else\n"
   ]
  },
  {
   "cell_type": "code",
   "execution_count": 12,
   "id": "b2cbd0d0-4d83-4666-91cf-dee1bcff2c40",
   "metadata": {},
   "outputs": [
    {
     "data": {
      "text/html": [
       "'Good'"
      ],
      "text/latex": [
       "'Good'"
      ],
      "text/markdown": [
       "'Good'"
      ],
      "text/plain": [
       "[1] \"Good\""
      ]
     },
     "metadata": {},
     "output_type": "display_data"
    }
   ],
   "source": [
    "rank"
   ]
  },
  {
   "cell_type": "code",
   "execution_count": null,
   "id": "55fd932c-4b9a-4947-a176-8627ae84a118",
   "metadata": {},
   "outputs": [],
   "source": [
    "rank_simple <- ifelse(mark <5,'Weak', ifelse(mark <7,'Average', ifelse(mark <5,'Weak'"
   ]
  }
 ],
 "metadata": {
  "kernelspec": {
   "display_name": "R",
   "language": "R",
   "name": "ir"
  },
  "language_info": {
   "codemirror_mode": "r",
   "file_extension": ".r",
   "mimetype": "text/x-r-source",
   "name": "R",
   "pygments_lexer": "r",
   "version": "4.3.1"
  }
 },
 "nbformat": 4,
 "nbformat_minor": 5
}
