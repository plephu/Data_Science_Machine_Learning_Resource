{
 "cells": [
  {
   "cell_type": "code",
   "execution_count": 2,
   "id": "ea72e7dd-effd-4af4-9ab2-e94e88276bd6",
   "metadata": {},
   "outputs": [
    {
     "name": "stdout",
     "output_type": "stream",
     "text": [
      "  Sepal.Length    Sepal.Width     Petal.Length    Petal.Width   \n",
      " Min.   :4.300   Min.   :2.000   Min.   :1.000   Min.   :0.100  \n",
      " 1st Qu.:5.100   1st Qu.:2.800   1st Qu.:1.600   1st Qu.:0.300  \n",
      " Median :5.800   Median :3.000   Median :4.350   Median :1.300  \n",
      " Mean   :5.843   Mean   :3.057   Mean   :3.758   Mean   :1.199  \n",
      " 3rd Qu.:6.400   3rd Qu.:3.300   3rd Qu.:5.100   3rd Qu.:1.800  \n",
      " Max.   :7.900   Max.   :4.400   Max.   :6.900   Max.   :2.500  \n",
      "       Species  \n",
      " setosa    :50  \n",
      " versicolor:50  \n",
      " virginica :50  \n",
      "                \n",
      "                \n",
      "                \n",
      "  Sepal.Length Sepal.Width Petal.Length Petal.Width Species\n",
      "1          5.1         3.5          1.4         0.2  setosa\n",
      "2          4.9         3.0          1.4         0.2  setosa\n",
      "3          4.7         3.2          1.3         0.2  setosa\n",
      "4          4.6         3.1          1.5         0.2  setosa\n",
      "5          5.0         3.6          1.4         0.2  setosa\n",
      "6          5.4         3.9          1.7         0.4  setosa\n"
     ]
    }
   ],
   "source": [
    "library(rpart)\n",
    "print(summary(iris))\n",
    "print(head(iris))"
   ]
  },
  {
   "cell_type": "code",
   "execution_count": 7,
   "id": "179f819e-8090-4796-9cca-d76f55729e8d",
   "metadata": {},
   "outputs": [
    {
     "name": "stdout",
     "output_type": "stream",
     "text": [
      "[1] \"Selected training row index:\"\n",
      "  [1]  49  65  74 146 122 150 128  47  24  71 100  89 110  20 114 111 131  41\n",
      " [19] 139  27 109   5  84  34  92 104   3  58  97  42 142  30  43  15  22 123\n",
      " [37]   8  36  68  86  18 130 126  69   4  98  50  99  88  87 145  26   6 105\n",
      " [55]   2 124  21  96 115  10  40 129  33 140  73  29  76   9  35  16 107  93\n",
      " [73] 120 138  80  55  90  94  57 121  77  13  53  54  32  60  85  17  44  83\n",
      " [91]  72 135 118 149  48 136  64  38   1 144  14 132  61  81 103\n",
      "[1] \"Rows of training data and test data:\"\n",
      "[1] 105\n",
      "[1] 45\n"
     ]
    }
   ],
   "source": [
    "set.seed(42)\n",
    "n = nrow(iris)\n",
    "trainingRowIndex = sample(1:n, size = round(0.7*n), replace=FALSE)\n",
    "print(\"Selected training row index:\")\n",
    "print(trainingRowIndex)\n",
    "trainingData = iris[trainingRowIndex ,]\n",
    "testData = iris[-trainingRowIndex ,]\n",
    "print(\"Rows of training data and test data:\")\n",
    "print(nrow(trainingData))\n",
    "print(nrow(testData))"
   ]
  },
  {
   "cell_type": "code",
   "execution_count": 10,
   "id": "172120e8-a869-4df1-9621-b9d537cc2a0a",
   "metadata": {},
   "outputs": [
    {
     "name": "stdout",
     "output_type": "stream",
     "text": [
      "n= 105 \n",
      "\n",
      "node), split, n, loss, yval, (yprob)\n",
      "      * denotes terminal node\n",
      "\n",
      "1) root 105 67 setosa (0.36190476 0.33333333 0.30476190)  \n",
      "  2) Petal.Length< 2.35 38  0 setosa (1.00000000 0.00000000 0.00000000) *\n",
      "  3) Petal.Length>=2.35 67 32 versicolor (0.00000000 0.52238806 0.47761194)  \n",
      "    6) Petal.Width< 1.65 37  3 versicolor (0.00000000 0.91891892 0.08108108) *\n",
      "    7) Petal.Width>=1.65 30  1 virginica (0.00000000 0.03333333 0.96666667) *\n"
     ]
    }
   ],
   "source": [
    "iris.tree <- rpart(Species ~ Sepal.Length + Sepal.Width + Petal.Length +  Petal.Width, data = trainingData, method = 'class')\n",
    "print(iris.tree)"
   ]
  },
  {
   "cell_type": "code",
   "execution_count": 12,
   "id": "34208f49-cdca-40e6-af98-7ce386667118",
   "metadata": {},
   "outputs": [],
   "source": [
    "library(rpart.plot)"
   ]
  },
  {
   "cell_type": "code",
   "execution_count": 14,
   "id": "794803a8-7c00-45e5-a5f8-54e39179b655",
   "metadata": {},
   "outputs": [
    {
     "data": {
      "image/png": "[encoded data removed]",
      "text/plain": [
       "plot without title"
      ]
     },
     "metadata": {
      "image/png": {
       "height": 420,
       "width": 420
      }
     },
     "output_type": "display_data"
    }
   ],
   "source": [
    "prp(iris.tree, type = 2, extra = 'auto', nn = TRUE, branch =  1, varlen = 0, yesno = 2)"
   ]
  },
  {
   "cell_type": "code",
   "execution_count": 18,
   "id": "581f69e1-2265-471b-90ce-aaff05df5a24",
   "metadata": {},
   "outputs": [],
   "source": [
    "y_pred = predict(iris.tree, testData, type = 'class')"
   ]
  },
  {
   "cell_type": "code",
   "execution_count": 19,
   "id": "c1fd8759-ca43-42f8-9f30-b17922ebbb99",
   "metadata": {},
   "outputs": [
    {
     "data": {
      "text/plain": [
       "            \n",
       "y_pred       setosa versicolor virginica\n",
       "  setosa         12          0         0\n",
       "  versicolor      0         14         1\n",
       "  virginica       0          1        17"
      ]
     },
     "metadata": {},
     "output_type": "display_data"
    }
   ],
   "source": [
    "result= table(y_pred, testData$Species)\n",
    "result"
   ]
  },
  {
   "cell_type": "code",
   "execution_count": 20,
   "id": "df0d67ec-6c81-42ba-9e8b-dbc7342a9d5c",
   "metadata": {},
   "outputs": [
    {
     "data": {
      "text/html": [
       "0.955555555555555"
      ],
      "text/latex": [
       "0.955555555555555"
      ],
      "text/markdown": [
       "0.955555555555555"
      ],
      "text/plain": [
       "[1] 0.9555556"
      ]
     },
     "metadata": {},
     "output_type": "display_data"
    }
   ],
   "source": [
    "accuracy = sum(diag(result)/sum(result))\n",
    "accuracy"
   ]
  },
  {
   "cell_type": "code",
   "execution_count": 8,
   "id": "b6c73b37-795f-4223-b3c3-98c984230136",
   "metadata": {},
   "outputs": [
    {
     "data": {
      "text/html": [
       "<table class=\"dataframe\">\n",
       "<caption>A data.frame: 4 × 4</caption>\n",
       "<thead>\n",
       "\t<tr><th></th><th scope=col>Sepal.Length</th><th scope=col>Sepal.Width</th><th scope=col>Petal.Length</th><th scope=col>Petal.Width</th></tr>\n",
       "\t<tr><th></th><th scope=col>&lt;dbl&gt;</th><th scope=col>&lt;dbl&gt;</th><th scope=col>&lt;dbl&gt;</th><th scope=col>&lt;dbl&gt;</th></tr>\n",
       "</thead>\n",
       "<tbody>\n",
       "\t<tr><th scope=row>1</th><td>5.1</td><td>3.5</td><td>1.4</td><td>0.2</td></tr>\n",
       "\t<tr><th scope=row>10</th><td>4.9</td><td>3.1</td><td>1.5</td><td>0.1</td></tr>\n",
       "\t<tr><th scope=row>100</th><td>5.7</td><td>2.8</td><td>4.1</td><td>1.3</td></tr>\n",
       "\t<tr><th scope=row>140</th><td>6.9</td><td>3.1</td><td>5.4</td><td>2.1</td></tr>\n",
       "</tbody>\n",
       "</table>\n"
      ],
      "text/latex": [
       "A data.frame: 4 × 4\n",
       "\\begin{tabular}{r|llll}\n",
       "  & Sepal.Length & Sepal.Width & Petal.Length & Petal.Width\\\\\n",
       "  & <dbl> & <dbl> & <dbl> & <dbl>\\\\\n",
       "\\hline\n",
       "\t1 & 5.1 & 3.5 & 1.4 & 0.2\\\\\n",
       "\t10 & 4.9 & 3.1 & 1.5 & 0.1\\\\\n",
       "\t100 & 5.7 & 2.8 & 4.1 & 1.3\\\\\n",
       "\t140 & 6.9 & 3.1 & 5.4 & 2.1\\\\\n",
       "\\end{tabular}\n"
      ],
      "text/markdown": [
       "\n",
       "A data.frame: 4 × 4\n",
       "\n",
       "| <!--/--> | Sepal.Length &lt;dbl&gt; | Sepal.Width &lt;dbl&gt; | Petal.Length &lt;dbl&gt; | Petal.Width &lt;dbl&gt; |\n",
       "|---|---|---|---|---|\n",
       "| 1 | 5.1 | 3.5 | 1.4 | 0.2 |\n",
       "| 10 | 4.9 | 3.1 | 1.5 | 0.1 |\n",
       "| 100 | 5.7 | 2.8 | 4.1 | 1.3 |\n",
       "| 140 | 6.9 | 3.1 | 5.4 | 2.1 |\n",
       "\n"
      ],
      "text/plain": [
       "    Sepal.Length Sepal.Width Petal.Length Petal.Width\n",
       "1   5.1          3.5         1.4          0.2        \n",
       "10  4.9          3.1         1.5          0.1        \n",
       "100 5.7          2.8         4.1          1.3        \n",
       "140 6.9          3.1         5.4          2.1        "
      ]
     },
     "metadata": {},
     "output_type": "display_data"
    }
   ],
   "source": [
    "new_cases = iris[c(1,10,100,140),]\n",
    "new_cases$Species = NULL\n",
    "new_cases"
   ]
  },
  {
   "cell_type": "code",
   "execution_count": 11,
   "id": "2e1497c3-93c8-4161-9200-a8ca47276a05",
   "metadata": {},
   "outputs": [
    {
     "name": "stdout",
     "output_type": "stream",
     "text": [
      "[1] \"New Predictions: \"\n",
      "         1         10        100        140 \n",
      "    setosa     setosa versicolor  virginica \n",
      "Levels: setosa versicolor virginica\n"
     ]
    }
   ],
   "source": [
    "print(\"New Predictions: \")\n",
    "pred_new = predict(iris.tree, new_cases, type = 'class')\n",
    "print(pred_new)"
   ]
  },
  {
   "cell_type": "code",
   "execution_count": 22,
   "id": "432e69c3-ed51-41fe-9dab-8b7143ded771",
   "metadata": {},
   "outputs": [],
   "source": [
    "tree.gre = rpart(Petal.Length ~ Petal.Width, data = trainingData)"
   ]
  },
  {
   "cell_type": "code",
   "execution_count": 23,
   "id": "d117c274-f1e2-4e55-938c-43e7fd3abed7",
   "metadata": {},
   "outputs": [
    {
     "data": {
      "text/plain": [
       "n= 105 \n",
       "\n",
       "node), split, n, deviance, yval\n",
       "      * denotes terminal node\n",
       "\n",
       " 1) root 105 329.5819000 3.619048  \n",
       "   2) Petal.Width< 0.8 38   0.7147368 1.447368 *\n",
       "   3) Petal.Width>=0.8 67  48.0074600 4.850746  \n",
       "     6) Petal.Width< 1.55 33  10.2024200 4.215152  \n",
       "      12) Petal.Width< 1.35 20   3.3400000 3.900000 *\n",
       "      13) Petal.Width>=1.35 13   1.8200000 4.700000 *\n",
       "     7) Petal.Width>=1.55 34  11.5344100 5.467647 *"
      ]
     },
     "metadata": {},
     "output_type": "display_data"
    }
   ],
   "source": [
    "tree.gre"
   ]
  },
  {
   "cell_type": "code",
   "execution_count": 24,
   "id": "b168b39e-a0ab-432c-8bb2-aea4d0187dfc",
   "metadata": {},
   "outputs": [
    {
     "data": {
      "image/png": "[encoded data removed]",
      "text/plain": [
       "plot without title"
      ]
     },
     "metadata": {
      "image/png": {
       "height": 420,
       "width": 420
      }
     },
     "output_type": "display_data"
    }
   ],
   "source": [
    "prp(tree.gre, type = 2, extra = 'auto', nn = TRUE, branch =  1, varlen = 0, yesno = 2)"
   ]
  },
  {
   "cell_type": "code",
   "execution_count": 25,
   "id": "6a652dd0-0db1-4ae1-846f-8deb1532c643",
   "metadata": {},
   "outputs": [],
   "source": [
    "newdf <- data.frame(testData['Petal.Width'])"
   ]
  },
  {
   "cell_type": "code",
   "execution_count": 26,
   "id": "256b0fca-edd9-4aa6-9650-924e0592d441",
   "metadata": {},
   "outputs": [],
   "source": [
    "predictions <- predict(tree.gre, newdf)"
   ]
  },
  {
   "cell_type": "code",
   "execution_count": 27,
   "id": "0bec27e1-e70e-4ecb-8e78-f30c86b6f92f",
   "metadata": {},
   "outputs": [
    {
     "data": {
      "text/html": [
       "0.188750769201277"
      ],
      "text/latex": [
       "0.188750769201277"
      ],
      "text/markdown": [
       "0.188750769201277"
      ],
      "text/plain": [
       "[1] 0.1887508"
      ]
     },
     "metadata": {},
     "output_type": "display_data"
    }
   ],
   "source": [
    "mse <- mean((testData$Petal.Length - predictions)^2)\n",
    "mse"
   ]
  },
  {
   "cell_type": "code",
   "execution_count": 28,
   "id": "a6c9b325-cf9e-4be0-8a8c-3a95f921d5a3",
   "metadata": {},
   "outputs": [],
   "source": [
    "now <- data.frame(Petal.Width = c(0.25,1.25,2.25))"
   ]
  },
  {
   "cell_type": "code",
   "execution_count": 29,
   "id": "b64dc476-2161-44bc-8a7c-acf24045ec2d",
   "metadata": {},
   "outputs": [
    {
     "data": {
      "text/html": [
       "<style>\n",
       ".dl-inline {width: auto; margin:0; padding: 0}\n",
       ".dl-inline>dt, .dl-inline>dd {float: none; width: auto; display: inline-block}\n",
       ".dl-inline>dt::after {content: \":\\0020\"; padding-right: .5ex}\n",
       ".dl-inline>dt:not(:first-of-type) {padding-left: .5ex}\n",
       "</style><dl class=dl-inline><dt>1</dt><dd>1.44736842105263</dd><dt>2</dt><dd>3.9</dd><dt>3</dt><dd>5.46764705882353</dd></dl>\n"
      ],
      "text/latex": [
       "\\begin{description*}\n",
       "\\item[1] 1.44736842105263\n",
       "\\item[2] 3.9\n",
       "\\item[3] 5.46764705882353\n",
       "\\end{description*}\n"
      ],
      "text/markdown": [
       "1\n",
       ":   1.447368421052632\n",
       ":   3.93\n",
       ":   5.46764705882353\n",
       "\n"
      ],
      "text/plain": [
       "       1        2        3 \n",
       "1.447368 3.900000 5.467647 "
      ]
     },
     "metadata": {},
     "output_type": "display_data"
    }
   ],
   "source": [
    "predict_new = predict(tree.gre, now)\n",
    "predict_new"
   ]
  }
 ],
 "metadata": {
  "kernelspec": {
   "display_name": "R",
   "language": "R",
   "name": "ir"
  },
  "language_info": {
   "codemirror_mode": "r",
   "file_extension": ".r",
   "mimetype": "text/x-r-source",
   "name": "R",
   "pygments_lexer": "r",
   "version": "4.3.1"
  }
 },
 "nbformat": 4,
 "nbformat_minor": 5
}
