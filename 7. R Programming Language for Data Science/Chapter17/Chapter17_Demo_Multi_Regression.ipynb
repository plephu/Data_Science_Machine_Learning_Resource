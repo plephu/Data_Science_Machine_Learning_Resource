{
 "cells": [
  {
   "cell_type": "code",
   "execution_count": 3,
   "id": "bfeaba22-60e5-4c4a-a417-561403c1dada",
   "metadata": {},
   "outputs": [
    {
     "data": {
      "text/html": [
       "<table class=\"dataframe\">\n",
       "<caption>A data.frame: 6 × 11</caption>\n",
       "<thead>\n",
       "\t<tr><th></th><th scope=col>mpg</th><th scope=col>cyl</th><th scope=col>disp</th><th scope=col>hp</th><th scope=col>drat</th><th scope=col>wt</th><th scope=col>qsec</th><th scope=col>vs</th><th scope=col>am</th><th scope=col>gear</th><th scope=col>carb</th></tr>\n",
       "\t<tr><th></th><th scope=col>&lt;dbl&gt;</th><th scope=col>&lt;dbl&gt;</th><th scope=col>&lt;dbl&gt;</th><th scope=col>&lt;dbl&gt;</th><th scope=col>&lt;dbl&gt;</th><th scope=col>&lt;dbl&gt;</th><th scope=col>&lt;dbl&gt;</th><th scope=col>&lt;dbl&gt;</th><th scope=col>&lt;dbl&gt;</th><th scope=col>&lt;dbl&gt;</th><th scope=col>&lt;dbl&gt;</th></tr>\n",
       "</thead>\n",
       "<tbody>\n",
       "\t<tr><th scope=row>Mazda RX4</th><td>21.0</td><td>6</td><td>160</td><td>110</td><td>3.90</td><td>2.620</td><td>16.46</td><td>0</td><td>1</td><td>4</td><td>4</td></tr>\n",
       "\t<tr><th scope=row>Mazda RX4 Wag</th><td>21.0</td><td>6</td><td>160</td><td>110</td><td>3.90</td><td>2.875</td><td>17.02</td><td>0</td><td>1</td><td>4</td><td>4</td></tr>\n",
       "\t<tr><th scope=row>Datsun 710</th><td>22.8</td><td>4</td><td>108</td><td> 93</td><td>3.85</td><td>2.320</td><td>18.61</td><td>1</td><td>1</td><td>4</td><td>1</td></tr>\n",
       "\t<tr><th scope=row>Hornet 4 Drive</th><td>21.4</td><td>6</td><td>258</td><td>110</td><td>3.08</td><td>3.215</td><td>19.44</td><td>1</td><td>0</td><td>3</td><td>1</td></tr>\n",
       "\t<tr><th scope=row>Hornet Sportabout</th><td>18.7</td><td>8</td><td>360</td><td>175</td><td>3.15</td><td>3.440</td><td>17.02</td><td>0</td><td>0</td><td>3</td><td>2</td></tr>\n",
       "\t<tr><th scope=row>Valiant</th><td>18.1</td><td>6</td><td>225</td><td>105</td><td>2.76</td><td>3.460</td><td>20.22</td><td>1</td><td>0</td><td>3</td><td>1</td></tr>\n",
       "</tbody>\n",
       "</table>\n"
      ],
      "text/latex": [
       "A data.frame: 6 × 11\n",
       "\\begin{tabular}{r|lllllllllll}\n",
       "  & mpg & cyl & disp & hp & drat & wt & qsec & vs & am & gear & carb\\\\\n",
       "  & <dbl> & <dbl> & <dbl> & <dbl> & <dbl> & <dbl> & <dbl> & <dbl> & <dbl> & <dbl> & <dbl>\\\\\n",
       "\\hline\n",
       "\tMazda RX4 & 21.0 & 6 & 160 & 110 & 3.90 & 2.620 & 16.46 & 0 & 1 & 4 & 4\\\\\n",
       "\tMazda RX4 Wag & 21.0 & 6 & 160 & 110 & 3.90 & 2.875 & 17.02 & 0 & 1 & 4 & 4\\\\\n",
       "\tDatsun 710 & 22.8 & 4 & 108 &  93 & 3.85 & 2.320 & 18.61 & 1 & 1 & 4 & 1\\\\\n",
       "\tHornet 4 Drive & 21.4 & 6 & 258 & 110 & 3.08 & 3.215 & 19.44 & 1 & 0 & 3 & 1\\\\\n",
       "\tHornet Sportabout & 18.7 & 8 & 360 & 175 & 3.15 & 3.440 & 17.02 & 0 & 0 & 3 & 2\\\\\n",
       "\tValiant & 18.1 & 6 & 225 & 105 & 2.76 & 3.460 & 20.22 & 1 & 0 & 3 & 1\\\\\n",
       "\\end{tabular}\n"
      ],
      "text/markdown": [
       "\n",
       "A data.frame: 6 × 11\n",
       "\n",
       "| <!--/--> | mpg &lt;dbl&gt; | cyl &lt;dbl&gt; | disp &lt;dbl&gt; | hp &lt;dbl&gt; | drat &lt;dbl&gt; | wt &lt;dbl&gt; | qsec &lt;dbl&gt; | vs &lt;dbl&gt; | am &lt;dbl&gt; | gear &lt;dbl&gt; | carb &lt;dbl&gt; |\n",
       "|---|---|---|---|---|---|---|---|---|---|---|---|\n",
       "| Mazda RX4 | 21.0 | 6 | 160 | 110 | 3.90 | 2.620 | 16.46 | 0 | 1 | 4 | 4 |\n",
       "| Mazda RX4 Wag | 21.0 | 6 | 160 | 110 | 3.90 | 2.875 | 17.02 | 0 | 1 | 4 | 4 |\n",
       "| Datsun 710 | 22.8 | 4 | 108 |  93 | 3.85 | 2.320 | 18.61 | 1 | 1 | 4 | 1 |\n",
       "| Hornet 4 Drive | 21.4 | 6 | 258 | 110 | 3.08 | 3.215 | 19.44 | 1 | 0 | 3 | 1 |\n",
       "| Hornet Sportabout | 18.7 | 8 | 360 | 175 | 3.15 | 3.440 | 17.02 | 0 | 0 | 3 | 2 |\n",
       "| Valiant | 18.1 | 6 | 225 | 105 | 2.76 | 3.460 | 20.22 | 1 | 0 | 3 | 1 |\n",
       "\n"
      ],
      "text/plain": [
       "                  mpg  cyl disp hp  drat wt    qsec  vs am gear carb\n",
       "Mazda RX4         21.0 6   160  110 3.90 2.620 16.46 0  1  4    4   \n",
       "Mazda RX4 Wag     21.0 6   160  110 3.90 2.875 17.02 0  1  4    4   \n",
       "Datsun 710        22.8 4   108   93 3.85 2.320 18.61 1  1  4    1   \n",
       "Hornet 4 Drive    21.4 6   258  110 3.08 3.215 19.44 1  0  3    1   \n",
       "Hornet Sportabout 18.7 8   360  175 3.15 3.440 17.02 0  0  3    2   \n",
       "Valiant           18.1 6   225  105 2.76 3.460 20.22 1  0  3    1   "
      ]
     },
     "metadata": {},
     "output_type": "display_data"
    },
    {
     "data": {
      "text/html": [
       "<table class=\"dataframe\">\n",
       "<caption>A data.frame: 6 × 4</caption>\n",
       "<thead>\n",
       "\t<tr><th></th><th scope=col>mpg</th><th scope=col>disp</th><th scope=col>hp</th><th scope=col>wt</th></tr>\n",
       "\t<tr><th></th><th scope=col>&lt;dbl&gt;</th><th scope=col>&lt;dbl&gt;</th><th scope=col>&lt;dbl&gt;</th><th scope=col>&lt;dbl&gt;</th></tr>\n",
       "</thead>\n",
       "<tbody>\n",
       "\t<tr><th scope=row>Mazda RX4</th><td>21.0</td><td>160</td><td>110</td><td>2.620</td></tr>\n",
       "\t<tr><th scope=row>Mazda RX4 Wag</th><td>21.0</td><td>160</td><td>110</td><td>2.875</td></tr>\n",
       "\t<tr><th scope=row>Datsun 710</th><td>22.8</td><td>108</td><td> 93</td><td>2.320</td></tr>\n",
       "\t<tr><th scope=row>Hornet 4 Drive</th><td>21.4</td><td>258</td><td>110</td><td>3.215</td></tr>\n",
       "\t<tr><th scope=row>Hornet Sportabout</th><td>18.7</td><td>360</td><td>175</td><td>3.440</td></tr>\n",
       "\t<tr><th scope=row>Valiant</th><td>18.1</td><td>225</td><td>105</td><td>3.460</td></tr>\n",
       "</tbody>\n",
       "</table>\n"
      ],
      "text/latex": [
       "A data.frame: 6 × 4\n",
       "\\begin{tabular}{r|llll}\n",
       "  & mpg & disp & hp & wt\\\\\n",
       "  & <dbl> & <dbl> & <dbl> & <dbl>\\\\\n",
       "\\hline\n",
       "\tMazda RX4 & 21.0 & 160 & 110 & 2.620\\\\\n",
       "\tMazda RX4 Wag & 21.0 & 160 & 110 & 2.875\\\\\n",
       "\tDatsun 710 & 22.8 & 108 &  93 & 2.320\\\\\n",
       "\tHornet 4 Drive & 21.4 & 258 & 110 & 3.215\\\\\n",
       "\tHornet Sportabout & 18.7 & 360 & 175 & 3.440\\\\\n",
       "\tValiant & 18.1 & 225 & 105 & 3.460\\\\\n",
       "\\end{tabular}\n"
      ],
      "text/markdown": [
       "\n",
       "A data.frame: 6 × 4\n",
       "\n",
       "| <!--/--> | mpg &lt;dbl&gt; | disp &lt;dbl&gt; | hp &lt;dbl&gt; | wt &lt;dbl&gt; |\n",
       "|---|---|---|---|---|\n",
       "| Mazda RX4 | 21.0 | 160 | 110 | 2.620 |\n",
       "| Mazda RX4 Wag | 21.0 | 160 | 110 | 2.875 |\n",
       "| Datsun 710 | 22.8 | 108 |  93 | 2.320 |\n",
       "| Hornet 4 Drive | 21.4 | 258 | 110 | 3.215 |\n",
       "| Hornet Sportabout | 18.7 | 360 | 175 | 3.440 |\n",
       "| Valiant | 18.1 | 225 | 105 | 3.460 |\n",
       "\n"
      ],
      "text/plain": [
       "                  mpg  disp hp  wt   \n",
       "Mazda RX4         21.0 160  110 2.620\n",
       "Mazda RX4 Wag     21.0 160  110 2.875\n",
       "Datsun 710        22.8 108   93 2.320\n",
       "Hornet 4 Drive    21.4 258  110 3.215\n",
       "Hornet Sportabout 18.7 360  175 3.440\n",
       "Valiant           18.1 225  105 3.460"
      ]
     },
     "metadata": {},
     "output_type": "display_data"
    }
   ],
   "source": [
    "head(mtcars)\n",
    "input <- mtcars[,c('mpg','disp','hp','wt')]\n",
    "head(input)"
   ]
  },
  {
   "cell_type": "code",
   "execution_count": 5,
   "id": "6814497f-8f1e-49e4-a3bd-86429cb1ebb1",
   "metadata": {},
   "outputs": [
    {
     "data": {
      "image/png": "[encoded data removed]",
      "text/plain": [
       "plot without title"
      ]
     },
     "metadata": {
      "image/png": {
       "height": 420,
       "width": 420
      }
     },
     "output_type": "display_data"
    }
   ],
   "source": [
    "pairs(~mpg+disp+hp+wt, data = input)"
   ]
  },
  {
   "cell_type": "code",
   "execution_count": 6,
   "id": "d8966c6d-5853-446b-8a43-e58ec01a2476",
   "metadata": {},
   "outputs": [
    {
     "name": "stderr",
     "output_type": "stream",
     "text": [
      "Registered S3 method overwritten by 'GGally':\n",
      "  method from   \n",
      "  +.gg   ggplot2\n",
      "\n"
     ]
    }
   ],
   "source": [
    "library('GGally')"
   ]
  },
  {
   "cell_type": "code",
   "execution_count": 7,
   "id": "4ddd4151-1f88-4f15-b84d-b46d4b259f3e",
   "metadata": {},
   "outputs": [
    {
     "data": {
      "image/png": "[encoded data removed]",
      "text/plain": [
       "plot without title"
      ]
     },
     "metadata": {
      "image/png": {
       "height": 420,
       "width": 420
      }
     },
     "output_type": "display_data"
    }
   ],
   "source": [
    "ggcorr(data =  input, label = T)"
   ]
  },
  {
   "cell_type": "code",
   "execution_count": 8,
   "id": "038282d9-bdbc-4136-bec5-291149f2b061",
   "metadata": {},
   "outputs": [
    {
     "data": {
      "image/png": "[encoded data removed]",
      "text/plain": [
       "Plot with title \"wt\""
      ]
     },
     "metadata": {
      "image/png": {
       "height": 420,
       "width": 420
      }
     },
     "output_type": "display_data"
    }
   ],
   "source": [
    "par(mfrow = c(1,4))\n",
    "boxplot(input$mpg, main=\"mpg\")\n",
    "boxplot(input$disp, main=\"disp\")\n",
    "boxplot(input$hp, main=\"hp\")\n",
    "boxplot(input$wt, main=\"wt\")\n"
   ]
  },
  {
   "cell_type": "code",
   "execution_count": 9,
   "id": "6d669026-fb0c-4730-8189-a87411ae703f",
   "metadata": {},
   "outputs": [
    {
     "name": "stdout",
     "output_type": "stream",
     "text": [
      "[1] \"hp_outliers: \"\n",
      "[1] 335\n",
      "[1] \"Numrows:  1\"\n",
      "[1] \"wt_outliers: \"\n",
      "[1] 5.424 5.345\n",
      "[1] \"Numrows: 2\"\n",
      "[1] \"Before drop: 32\"\n",
      "[1] \"After drop: 29\"\n"
     ]
    }
   ],
   "source": [
    "hp_outliers <- boxplot.stats(input$hp)$out\n",
    "print(\"hp_outliers: \")\n",
    "print(hp_outliers)\n",
    "print(paste(\"Numrows: \",sum(input$hp == hp_outliers)))\n",
    "\n",
    "wt_outliers <- c(boxplot.stats(input$wt)$out)\n",
    "print(\"wt_outliers: \")\n",
    "print(wt_outliers)\n",
    "print(paste(\"Numrows:\", sum(input$wt %in% wt_outliers)))\n",
    "\n",
    "#drop rows have outliers\n",
    "print(paste(\"Before drop:\", nrow(input)))\n",
    "\n",
    "input <- input[!(input$hp %in% hp_outliers),] \n",
    "input <- input[!(input$wt %in% wt_outliers),] \n",
    "\n",
    "print(paste(\"After drop:\", nrow(input)))"
   ]
  },
  {
   "cell_type": "code",
   "execution_count": null,
   "id": "1c373acd-8a68-443c-b405-c9a5fe294dc8",
   "metadata": {},
   "outputs": [],
   "source": []
  },
  {
   "cell_type": "code",
   "execution_count": null,
   "id": "a65b5f4d-e5b5-4ac2-bac8-5670c6d39279",
   "metadata": {},
   "outputs": [],
   "source": []
  },
  {
   "cell_type": "code",
   "execution_count": null,
   "id": "ab31c17a-4c20-4839-a3df-1d664788c511",
   "metadata": {},
   "outputs": [],
   "source": []
  },
  {
   "cell_type": "code",
   "execution_count": null,
   "id": "bda6c484-33b4-488f-b0b3-44e9be019f50",
   "metadata": {},
   "outputs": [],
   "source": []
  },
  {
   "cell_type": "code",
   "execution_count": null,
   "id": "22f4909b-9566-4d92-bb7a-0c2b44af623a",
   "metadata": {},
   "outputs": [],
   "source": []
  },
  {
   "cell_type": "code",
   "execution_count": null,
   "id": "7bc752ef-2a5d-4bf0-85dd-90a398799c9f",
   "metadata": {},
   "outputs": [],
   "source": []
  },
  {
   "cell_type": "code",
   "execution_count": null,
   "id": "4e8842a3-e2f9-466c-87ad-7defb9ad9fb3",
   "metadata": {},
   "outputs": [],
   "source": []
  }
 ],
 "metadata": {
  "kernelspec": {
   "display_name": "R",
   "language": "R",
   "name": "ir"
  },
  "language_info": {
   "codemirror_mode": "r",
   "file_extension": ".r",
   "mimetype": "text/x-r-source",
   "name": "R",
   "pygments_lexer": "r",
   "version": "4.3.1"
  }
 },
 "nbformat": 4,
 "nbformat_minor": 5
}
