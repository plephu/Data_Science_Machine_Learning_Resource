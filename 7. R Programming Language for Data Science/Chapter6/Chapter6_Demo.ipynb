{
 "cells": [
  {
   "cell_type": "markdown",
   "id": "ef1829c3-fa64-4a59-ae4a-7ba4ab030562",
   "metadata": {},
   "source": [
    "### Vector"
   ]
  },
  {
   "cell_type": "code",
   "execution_count": null,
   "id": "bf4f1112-7056-468b-97b0-de2090f778d1",
   "metadata": {},
   "outputs": [],
   "source": []
  },
  {
   "cell_type": "code",
   "execution_count": 2,
   "id": "31f18260-4fca-409c-aed0-3033acdbe909",
   "metadata": {},
   "outputs": [],
   "source": [
    "v <- 1:10"
   ]
  },
  {
   "cell_type": "code",
   "execution_count": 4,
   "id": "32b13987-f3fc-4f41-bddf-2ed7e214b074",
   "metadata": {},
   "outputs": [
    {
     "data": {
      "text/html": [
       "<style>\n",
       ".list-inline {list-style: none; margin:0; padding: 0}\n",
       ".list-inline>li {display: inline-block}\n",
       ".list-inline>li:not(:last-child)::after {content: \"\\00b7\"; padding: 0 .5ex}\n",
       "</style>\n",
       "<ol class=list-inline><li>1</li><li>2</li><li>3</li><li>4</li><li>5</li><li>6</li><li>7</li><li>8</li><li>9</li><li>10</li></ol>\n"
      ],
      "text/latex": [
       "\\begin{enumerate*}\n",
       "\\item 1\n",
       "\\item 2\n",
       "\\item 3\n",
       "\\item 4\n",
       "\\item 5\n",
       "\\item 6\n",
       "\\item 7\n",
       "\\item 8\n",
       "\\item 9\n",
       "\\item 10\n",
       "\\end{enumerate*}\n"
      ],
      "text/markdown": [
       "1. 1\n",
       "2. 2\n",
       "3. 3\n",
       "4. 4\n",
       "5. 5\n",
       "6. 6\n",
       "7. 7\n",
       "8. 8\n",
       "9. 9\n",
       "10. 10\n",
       "\n",
       "\n"
      ],
      "text/plain": [
       " [1]  1  2  3  4  5  6  7  8  9 10"
      ]
     },
     "metadata": {},
     "output_type": "display_data"
    }
   ],
   "source": [
    "v"
   ]
  },
  {
   "cell_type": "code",
   "execution_count": 9,
   "id": "755e877f-8d20-46a0-82c4-891ee0606d7c",
   "metadata": {},
   "outputs": [],
   "source": [
    "v <- 1.6:5.6"
   ]
  },
  {
   "cell_type": "code",
   "execution_count": 10,
   "id": "61f8d7a2-0d1c-4805-9822-110703dcae77",
   "metadata": {},
   "outputs": [
    {
     "data": {
      "text/html": [
       "<style>\n",
       ".list-inline {list-style: none; margin:0; padding: 0}\n",
       ".list-inline>li {display: inline-block}\n",
       ".list-inline>li:not(:last-child)::after {content: \"\\00b7\"; padding: 0 .5ex}\n",
       "</style>\n",
       "<ol class=list-inline><li>1.6</li><li>2.6</li><li>3.6</li><li>4.6</li><li>5.6</li></ol>\n"
      ],
      "text/latex": [
       "\\begin{enumerate*}\n",
       "\\item 1.6\n",
       "\\item 2.6\n",
       "\\item 3.6\n",
       "\\item 4.6\n",
       "\\item 5.6\n",
       "\\end{enumerate*}\n"
      ],
      "text/markdown": [
       "1. 1.6\n",
       "2. 2.6\n",
       "3. 3.6\n",
       "4. 4.6\n",
       "5. 5.6\n",
       "\n",
       "\n"
      ],
      "text/plain": [
       "[1] 1.6 2.6 3.6 4.6 5.6"
      ]
     },
     "metadata": {},
     "output_type": "display_data"
    }
   ],
   "source": [
    "v"
   ]
  },
  {
   "cell_type": "code",
   "execution_count": 11,
   "id": "ee87feb5-0f4e-4381-bd4d-72eec877833b",
   "metadata": {},
   "outputs": [],
   "source": [
    "v <- 5.8:11.4"
   ]
  },
  {
   "cell_type": "code",
   "execution_count": 12,
   "id": "a77e2e7e-c6de-41c2-abbe-e3a1f1dd9751",
   "metadata": {},
   "outputs": [
    {
     "data": {
      "text/html": [
       "<style>\n",
       ".list-inline {list-style: none; margin:0; padding: 0}\n",
       ".list-inline>li {display: inline-block}\n",
       ".list-inline>li:not(:last-child)::after {content: \"\\00b7\"; padding: 0 .5ex}\n",
       "</style>\n",
       "<ol class=list-inline><li>5.8</li><li>6.8</li><li>7.8</li><li>8.8</li><li>9.8</li><li>10.8</li></ol>\n"
      ],
      "text/latex": [
       "\\begin{enumerate*}\n",
       "\\item 5.8\n",
       "\\item 6.8\n",
       "\\item 7.8\n",
       "\\item 8.8\n",
       "\\item 9.8\n",
       "\\item 10.8\n",
       "\\end{enumerate*}\n"
      ],
      "text/markdown": [
       "1. 5.8\n",
       "2. 6.8\n",
       "3. 7.8\n",
       "4. 8.8\n",
       "5. 9.8\n",
       "6. 10.8\n",
       "\n",
       "\n"
      ],
      "text/plain": [
       "[1]  5.8  6.8  7.8  8.8  9.8 10.8"
      ]
     },
     "metadata": {},
     "output_type": "display_data"
    }
   ],
   "source": [
    "v"
   ]
  },
  {
   "cell_type": "code",
   "execution_count": 13,
   "id": "ac72e939-a642-4908-9484-7bdd4156946b",
   "metadata": {},
   "outputs": [
    {
     "data": {
      "text/html": [
       "<style>\n",
       ".list-inline {list-style: none; margin:0; padding: 0}\n",
       ".list-inline>li {display: inline-block}\n",
       ".list-inline>li:not(:last-child)::after {content: \"\\00b7\"; padding: 0 .5ex}\n",
       "</style>\n",
       "<ol class=list-inline><li>2</li><li>2.5</li><li>3</li><li>3.5</li><li>4</li><li>4.5</li><li>5</li><li>5.5</li><li>6</li><li>6.5</li><li>7</li><li>7.5</li><li>8</li><li>8.5</li><li>9</li><li>9.5</li><li>10</li></ol>\n"
      ],
      "text/latex": [
       "\\begin{enumerate*}\n",
       "\\item 2\n",
       "\\item 2.5\n",
       "\\item 3\n",
       "\\item 3.5\n",
       "\\item 4\n",
       "\\item 4.5\n",
       "\\item 5\n",
       "\\item 5.5\n",
       "\\item 6\n",
       "\\item 6.5\n",
       "\\item 7\n",
       "\\item 7.5\n",
       "\\item 8\n",
       "\\item 8.5\n",
       "\\item 9\n",
       "\\item 9.5\n",
       "\\item 10\n",
       "\\end{enumerate*}\n"
      ],
      "text/markdown": [
       "1. 2\n",
       "2. 2.5\n",
       "3. 3\n",
       "4. 3.5\n",
       "5. 4\n",
       "6. 4.5\n",
       "7. 5\n",
       "8. 5.5\n",
       "9. 6\n",
       "10. 6.5\n",
       "11. 7\n",
       "12. 7.5\n",
       "13. 8\n",
       "14. 8.5\n",
       "15. 9\n",
       "16. 9.5\n",
       "17. 10\n",
       "\n",
       "\n"
      ],
      "text/plain": [
       " [1]  2.0  2.5  3.0  3.5  4.0  4.5  5.0  5.5  6.0  6.5  7.0  7.5  8.0  8.5  9.0\n",
       "[16]  9.5 10.0"
      ]
     },
     "metadata": {},
     "output_type": "display_data"
    }
   ],
   "source": [
    "v <- seq(2,10, by=0.5)\n",
    "v"
   ]
  },
  {
   "cell_type": "code",
   "execution_count": 14,
   "id": "2321c85c-65ef-4cda-94f1-55739631b876",
   "metadata": {},
   "outputs": [
    {
     "data": {
      "text/html": [
       "<style>\n",
       ".list-inline {list-style: none; margin:0; padding: 0}\n",
       ".list-inline>li {display: inline-block}\n",
       ".list-inline>li:not(:last-child)::after {content: \"\\00b7\"; padding: 0 .5ex}\n",
       "</style>\n",
       "<ol class=list-inline><li>2</li><li>2.1</li><li>2.2</li><li>2.3</li><li>2.4</li><li>2.5</li><li>2.6</li><li>2.7</li><li>2.8</li><li>2.9</li><li>3</li><li>3.1</li><li>3.2</li><li>3.3</li><li>3.4</li><li>3.5</li><li>3.6</li><li>3.7</li><li>3.8</li><li>3.9</li><li>4</li><li>4.1</li><li>4.2</li><li>4.3</li><li>4.4</li><li>4.5</li><li>4.6</li><li>4.7</li><li>4.8</li><li>4.9</li><li>5</li><li>5.1</li><li>5.2</li><li>5.3</li><li>5.4</li><li>5.5</li><li>5.6</li><li>5.7</li><li>5.8</li><li>5.9</li><li>6</li><li>6.1</li><li>6.2</li><li>6.3</li><li>6.4</li><li>6.5</li><li>6.6</li><li>6.7</li><li>6.8</li><li>6.9</li><li>7</li><li>7.1</li><li>7.2</li><li>7.3</li><li>7.4</li><li>7.5</li><li>7.6</li><li>7.7</li><li>7.8</li><li>7.9</li><li>8</li><li>8.1</li><li>8.2</li><li>8.3</li><li>8.4</li><li>8.5</li><li>8.6</li><li>8.7</li><li>8.8</li><li>8.9</li><li>9</li><li>9.1</li><li>9.2</li><li>9.3</li><li>9.4</li><li>9.5</li><li>9.6</li><li>9.7</li><li>9.8</li><li>9.9</li><li>10</li></ol>\n"
      ],
      "text/latex": [
       "\\begin{enumerate*}\n",
       "\\item 2\n",
       "\\item 2.1\n",
       "\\item 2.2\n",
       "\\item 2.3\n",
       "\\item 2.4\n",
       "\\item 2.5\n",
       "\\item 2.6\n",
       "\\item 2.7\n",
       "\\item 2.8\n",
       "\\item 2.9\n",
       "\\item 3\n",
       "\\item 3.1\n",
       "\\item 3.2\n",
       "\\item 3.3\n",
       "\\item 3.4\n",
       "\\item 3.5\n",
       "\\item 3.6\n",
       "\\item 3.7\n",
       "\\item 3.8\n",
       "\\item 3.9\n",
       "\\item 4\n",
       "\\item 4.1\n",
       "\\item 4.2\n",
       "\\item 4.3\n",
       "\\item 4.4\n",
       "\\item 4.5\n",
       "\\item 4.6\n",
       "\\item 4.7\n",
       "\\item 4.8\n",
       "\\item 4.9\n",
       "\\item 5\n",
       "\\item 5.1\n",
       "\\item 5.2\n",
       "\\item 5.3\n",
       "\\item 5.4\n",
       "\\item 5.5\n",
       "\\item 5.6\n",
       "\\item 5.7\n",
       "\\item 5.8\n",
       "\\item 5.9\n",
       "\\item 6\n",
       "\\item 6.1\n",
       "\\item 6.2\n",
       "\\item 6.3\n",
       "\\item 6.4\n",
       "\\item 6.5\n",
       "\\item 6.6\n",
       "\\item 6.7\n",
       "\\item 6.8\n",
       "\\item 6.9\n",
       "\\item 7\n",
       "\\item 7.1\n",
       "\\item 7.2\n",
       "\\item 7.3\n",
       "\\item 7.4\n",
       "\\item 7.5\n",
       "\\item 7.6\n",
       "\\item 7.7\n",
       "\\item 7.8\n",
       "\\item 7.9\n",
       "\\item 8\n",
       "\\item 8.1\n",
       "\\item 8.2\n",
       "\\item 8.3\n",
       "\\item 8.4\n",
       "\\item 8.5\n",
       "\\item 8.6\n",
       "\\item 8.7\n",
       "\\item 8.8\n",
       "\\item 8.9\n",
       "\\item 9\n",
       "\\item 9.1\n",
       "\\item 9.2\n",
       "\\item 9.3\n",
       "\\item 9.4\n",
       "\\item 9.5\n",
       "\\item 9.6\n",
       "\\item 9.7\n",
       "\\item 9.8\n",
       "\\item 9.9\n",
       "\\item 10\n",
       "\\end{enumerate*}\n"
      ],
      "text/markdown": [
       "1. 2\n",
       "2. 2.1\n",
       "3. 2.2\n",
       "4. 2.3\n",
       "5. 2.4\n",
       "6. 2.5\n",
       "7. 2.6\n",
       "8. 2.7\n",
       "9. 2.8\n",
       "10. 2.9\n",
       "11. 3\n",
       "12. 3.1\n",
       "13. 3.2\n",
       "14. 3.3\n",
       "15. 3.4\n",
       "16. 3.5\n",
       "17. 3.6\n",
       "18. 3.7\n",
       "19. 3.8\n",
       "20. 3.9\n",
       "21. 4\n",
       "22. 4.1\n",
       "23. 4.2\n",
       "24. 4.3\n",
       "25. 4.4\n",
       "26. 4.5\n",
       "27. 4.6\n",
       "28. 4.7\n",
       "29. 4.8\n",
       "30. 4.9\n",
       "31. 5\n",
       "32. 5.1\n",
       "33. 5.2\n",
       "34. 5.3\n",
       "35. 5.4\n",
       "36. 5.5\n",
       "37. 5.6\n",
       "38. 5.7\n",
       "39. 5.8\n",
       "40. 5.9\n",
       "41. 6\n",
       "42. 6.1\n",
       "43. 6.2\n",
       "44. 6.3\n",
       "45. 6.4\n",
       "46. 6.5\n",
       "47. 6.6\n",
       "48. 6.7\n",
       "49. 6.8\n",
       "50. 6.9\n",
       "51. 7\n",
       "52. 7.1\n",
       "53. 7.2\n",
       "54. 7.3\n",
       "55. 7.4\n",
       "56. 7.5\n",
       "57. 7.6\n",
       "58. 7.7\n",
       "59. 7.8\n",
       "60. 7.9\n",
       "61. 8\n",
       "62. 8.1\n",
       "63. 8.2\n",
       "64. 8.3\n",
       "65. 8.4\n",
       "66. 8.5\n",
       "67. 8.6\n",
       "68. 8.7\n",
       "69. 8.8\n",
       "70. 8.9\n",
       "71. 9\n",
       "72. 9.1\n",
       "73. 9.2\n",
       "74. 9.3\n",
       "75. 9.4\n",
       "76. 9.5\n",
       "77. 9.6\n",
       "78. 9.7\n",
       "79. 9.8\n",
       "80. 9.9\n",
       "81. 10\n",
       "\n",
       "\n"
      ],
      "text/plain": [
       " [1]  2.0  2.1  2.2  2.3  2.4  2.5  2.6  2.7  2.8  2.9  3.0  3.1  3.2  3.3  3.4\n",
       "[16]  3.5  3.6  3.7  3.8  3.9  4.0  4.1  4.2  4.3  4.4  4.5  4.6  4.7  4.8  4.9\n",
       "[31]  5.0  5.1  5.2  5.3  5.4  5.5  5.6  5.7  5.8  5.9  6.0  6.1  6.2  6.3  6.4\n",
       "[46]  6.5  6.6  6.7  6.8  6.9  7.0  7.1  7.2  7.3  7.4  7.5  7.6  7.7  7.8  7.9\n",
       "[61]  8.0  8.1  8.2  8.3  8.4  8.5  8.6  8.7  8.8  8.9  9.0  9.1  9.2  9.3  9.4\n",
       "[76]  9.5  9.6  9.7  9.8  9.9 10.0"
      ]
     },
     "metadata": {},
     "output_type": "display_data"
    }
   ],
   "source": [
    "v <- seq(2,10, by=0.1)\n",
    "v"
   ]
  },
  {
   "cell_type": "code",
   "execution_count": 16,
   "id": "eaa4e3f0-a542-4eb1-a943-5ca3e23a7b65",
   "metadata": {},
   "outputs": [],
   "source": [
    "v1 <- c(1,2,3,4,5,6,7)\n",
    "v2 <- c(8,9,10,11,12,13,14)"
   ]
  },
  {
   "cell_type": "code",
   "execution_count": 17,
   "id": "5caa7fcf-592a-4b5d-af24-c490c13a81c8",
   "metadata": {},
   "outputs": [
    {
     "data": {
      "text/html": [
       "<style>\n",
       ".list-inline {list-style: none; margin:0; padding: 0}\n",
       ".list-inline>li {display: inline-block}\n",
       ".list-inline>li:not(:last-child)::after {content: \"\\00b7\"; padding: 0 .5ex}\n",
       "</style>\n",
       "<ol class=list-inline><li>9</li><li>11</li><li>13</li><li>15</li><li>17</li><li>19</li><li>21</li></ol>\n"
      ],
      "text/latex": [
       "\\begin{enumerate*}\n",
       "\\item 9\n",
       "\\item 11\n",
       "\\item 13\n",
       "\\item 15\n",
       "\\item 17\n",
       "\\item 19\n",
       "\\item 21\n",
       "\\end{enumerate*}\n"
      ],
      "text/markdown": [
       "1. 9\n",
       "2. 11\n",
       "3. 13\n",
       "4. 15\n",
       "5. 17\n",
       "6. 19\n",
       "7. 21\n",
       "\n",
       "\n"
      ],
      "text/plain": [
       "[1]  9 11 13 15 17 19 21"
      ]
     },
     "metadata": {},
     "output_type": "display_data"
    }
   ],
   "source": [
    "add <- v1 + v2\n",
    "add"
   ]
  },
  {
   "cell_type": "code",
   "execution_count": 18,
   "id": "ffd95cda-858e-4c1b-99ca-32240f5ca478",
   "metadata": {},
   "outputs": [
    {
     "data": {
      "text/html": [
       "<style>\n",
       ".list-inline {list-style: none; margin:0; padding: 0}\n",
       ".list-inline>li {display: inline-block}\n",
       ".list-inline>li:not(:last-child)::after {content: \"\\00b7\"; padding: 0 .5ex}\n",
       "</style>\n",
       "<ol class=list-inline><li>-7</li><li>-7</li><li>-7</li><li>-7</li><li>-7</li><li>-7</li><li>-7</li></ol>\n"
      ],
      "text/latex": [
       "\\begin{enumerate*}\n",
       "\\item -7\n",
       "\\item -7\n",
       "\\item -7\n",
       "\\item -7\n",
       "\\item -7\n",
       "\\item -7\n",
       "\\item -7\n",
       "\\end{enumerate*}\n"
      ],
      "text/markdown": [
       "1. -7\n",
       "2. -7\n",
       "3. -7\n",
       "4. -7\n",
       "5. -7\n",
       "6. -7\n",
       "7. -7\n",
       "\n",
       "\n"
      ],
      "text/plain": [
       "[1] -7 -7 -7 -7 -7 -7 -7"
      ]
     },
     "metadata": {},
     "output_type": "display_data"
    }
   ],
   "source": [
    "sub <- v1 - v2\n",
    "sub"
   ]
  },
  {
   "cell_type": "code",
   "execution_count": 19,
   "id": "0232995c-42eb-498e-8689-b92f1c4c46f7",
   "metadata": {},
   "outputs": [],
   "source": [
    "v1 <- c(1,2,3,4,5,6,7)\n",
    "v2 <- c(8,9)"
   ]
  },
  {
   "cell_type": "code",
   "execution_count": 20,
   "id": "7dd78eee-0077-4942-ab1d-267583007168",
   "metadata": {},
   "outputs": [
    {
     "name": "stderr",
     "output_type": "stream",
     "text": [
      "Warning message in v1 + v2:\n",
      "\"longer object length is not a multiple of shorter object length\"\n"
     ]
    },
    {
     "data": {
      "text/html": [
       "<style>\n",
       ".list-inline {list-style: none; margin:0; padding: 0}\n",
       ".list-inline>li {display: inline-block}\n",
       ".list-inline>li:not(:last-child)::after {content: \"\\00b7\"; padding: 0 .5ex}\n",
       "</style>\n",
       "<ol class=list-inline><li>9</li><li>11</li><li>11</li><li>13</li><li>13</li><li>15</li><li>15</li></ol>\n"
      ],
      "text/latex": [
       "\\begin{enumerate*}\n",
       "\\item 9\n",
       "\\item 11\n",
       "\\item 11\n",
       "\\item 13\n",
       "\\item 13\n",
       "\\item 15\n",
       "\\item 15\n",
       "\\end{enumerate*}\n"
      ],
      "text/markdown": [
       "1. 9\n",
       "2. 11\n",
       "3. 11\n",
       "4. 13\n",
       "5. 13\n",
       "6. 15\n",
       "7. 15\n",
       "\n",
       "\n"
      ],
      "text/plain": [
       "[1]  9 11 11 13 13 15 15"
      ]
     },
     "metadata": {},
     "output_type": "display_data"
    }
   ],
   "source": [
    "add <- v1 + v2\n",
    "add"
   ]
  },
  {
   "cell_type": "code",
   "execution_count": 22,
   "id": "8d3fe420-d231-44e0-8069-01d47cc066a5",
   "metadata": {},
   "outputs": [
    {
     "data": {
      "text/html": [
       "<style>\n",
       ".list-inline {list-style: none; margin:0; padding: 0}\n",
       ".list-inline>li {display: inline-block}\n",
       ".list-inline>li:not(:last-child)::after {content: \"\\00b7\"; padding: 0 .5ex}\n",
       "</style>\n",
       "<ol class=list-inline><li>1</li><li>2</li><li>3</li><li>4</li><li>5</li><li>6</li><li>7</li></ol>\n"
      ],
      "text/latex": [
       "\\begin{enumerate*}\n",
       "\\item 1\n",
       "\\item 2\n",
       "\\item 3\n",
       "\\item 4\n",
       "\\item 5\n",
       "\\item 6\n",
       "\\item 7\n",
       "\\end{enumerate*}\n"
      ],
      "text/markdown": [
       "1. 1\n",
       "2. 2\n",
       "3. 3\n",
       "4. 4\n",
       "5. 5\n",
       "6. 6\n",
       "7. 7\n",
       "\n",
       "\n"
      ],
      "text/plain": [
       "[1] 1 2 3 4 5 6 7"
      ]
     },
     "metadata": {},
     "output_type": "display_data"
    }
   ],
   "source": [
    "sort(v1) "
   ]
  },
  {
   "cell_type": "code",
   "execution_count": 23,
   "id": "6e59ecd0-a42f-40c1-a40d-3c4d774e306e",
   "metadata": {},
   "outputs": [
    {
     "data": {
      "text/html": [
       "<style>\n",
       ".list-inline {list-style: none; margin:0; padding: 0}\n",
       ".list-inline>li {display: inline-block}\n",
       ".list-inline>li:not(:last-child)::after {content: \"\\00b7\"; padding: 0 .5ex}\n",
       "</style>\n",
       "<ol class=list-inline><li>7</li><li>6</li><li>5</li><li>4</li><li>3</li><li>2</li><li>1</li></ol>\n"
      ],
      "text/latex": [
       "\\begin{enumerate*}\n",
       "\\item 7\n",
       "\\item 6\n",
       "\\item 5\n",
       "\\item 4\n",
       "\\item 3\n",
       "\\item 2\n",
       "\\item 1\n",
       "\\end{enumerate*}\n"
      ],
      "text/markdown": [
       "1. 7\n",
       "2. 6\n",
       "3. 5\n",
       "4. 4\n",
       "5. 3\n",
       "6. 2\n",
       "7. 1\n",
       "\n",
       "\n"
      ],
      "text/plain": [
       "[1] 7 6 5 4 3 2 1"
      ]
     },
     "metadata": {},
     "output_type": "display_data"
    }
   ],
   "source": [
    "sort(v1,decreasing = TRUE)"
   ]
  },
  {
   "cell_type": "markdown",
   "id": "c904507d-baec-41f7-9358-9088cf01c6a5",
   "metadata": {},
   "source": [
    "### Factor"
   ]
  },
  {
   "cell_type": "code",
   "execution_count": 24,
   "id": "7a37c316-9ef7-48e1-aa06-9287cabd08e0",
   "metadata": {},
   "outputs": [],
   "source": [
    "gender <- c('Male', 'Female','Male', 'Female','Male', 'Female','Male', 'Female','Male', 'Female','Male', 'Female')"
   ]
  },
  {
   "cell_type": "code",
   "execution_count": 25,
   "id": "d3d36dcb-0ae2-4a0b-87e5-0bde57ce97a8",
   "metadata": {},
   "outputs": [
    {
     "data": {
      "text/html": [
       "FALSE"
      ],
      "text/latex": [
       "FALSE"
      ],
      "text/markdown": [
       "FALSE"
      ],
      "text/plain": [
       "[1] FALSE"
      ]
     },
     "metadata": {},
     "output_type": "display_data"
    }
   ],
   "source": [
    "is.factor(gender)"
   ]
  },
  {
   "cell_type": "code",
   "execution_count": 27,
   "id": "f73079e7-0649-454d-8f3d-a78de9360d3d",
   "metadata": {},
   "outputs": [
    {
     "data": {
      "text/html": [
       "TRUE"
      ],
      "text/latex": [
       "TRUE"
      ],
      "text/markdown": [
       "TRUE"
      ],
      "text/plain": [
       "[1] TRUE"
      ]
     },
     "metadata": {},
     "output_type": "display_data"
    }
   ],
   "source": [
    "factor_gender <- factor(gender)\n",
    "is.factor(factor_gender)"
   ]
  },
  {
   "cell_type": "code",
   "execution_count": 29,
   "id": "a8ef04c2-dab0-43af-828e-5d9f0c439d8e",
   "metadata": {},
   "outputs": [
    {
     "data": {
      "text/html": [
       "<style>\n",
       ".list-inline {list-style: none; margin:0; padding: 0}\n",
       ".list-inline>li {display: inline-block}\n",
       ".list-inline>li:not(:last-child)::after {content: \"\\00b7\"; padding: 0 .5ex}\n",
       "</style>\n",
       "<ol class=list-inline><li>Male</li><li>Female</li><li>Male</li><li>Female</li><li>Male</li><li>Female</li><li>Male</li><li>Female</li><li>Male</li><li>Female</li><li>Male</li><li>Female</li></ol>\n",
       "\n",
       "<details>\n",
       "\t<summary style=display:list-item;cursor:pointer>\n",
       "\t\t<strong>Levels</strong>:\n",
       "\t</summary>\n",
       "\t<style>\n",
       "\t.list-inline {list-style: none; margin:0; padding: 0}\n",
       "\t.list-inline>li {display: inline-block}\n",
       "\t.list-inline>li:not(:last-child)::after {content: \"\\00b7\"; padding: 0 .5ex}\n",
       "\t</style>\n",
       "\t<ol class=list-inline><li>'Female'</li><li>'Male'</li></ol>\n",
       "</details>"
      ],
      "text/latex": [
       "\\begin{enumerate*}\n",
       "\\item Male\n",
       "\\item Female\n",
       "\\item Male\n",
       "\\item Female\n",
       "\\item Male\n",
       "\\item Female\n",
       "\\item Male\n",
       "\\item Female\n",
       "\\item Male\n",
       "\\item Female\n",
       "\\item Male\n",
       "\\item Female\n",
       "\\end{enumerate*}\n",
       "\n",
       "\\emph{Levels}: \\begin{enumerate*}\n",
       "\\item 'Female'\n",
       "\\item 'Male'\n",
       "\\end{enumerate*}\n"
      ],
      "text/markdown": [
       "1. Male\n",
       "2. Female\n",
       "3. Male\n",
       "4. Female\n",
       "5. Male\n",
       "6. Female\n",
       "7. Male\n",
       "8. Female\n",
       "9. Male\n",
       "10. Female\n",
       "11. Male\n",
       "12. Female\n",
       "\n",
       "\n",
       "\n",
       "**Levels**: 1. 'Female'\n",
       "2. 'Male'\n",
       "\n",
       "\n"
      ],
      "text/plain": [
       " [1] Male   Female Male   Female Male   Female Male   Female Male   Female\n",
       "[11] Male   Female\n",
       "Levels: Female Male"
      ]
     },
     "metadata": {},
     "output_type": "display_data"
    }
   ],
   "source": [
    "factor_gender"
   ]
  },
  {
   "cell_type": "code",
   "execution_count": 33,
   "id": "095dea56-1423-472e-932b-14f5e3b9b7bb",
   "metadata": {},
   "outputs": [
    {
     "data": {
      "text/html": [
       "<style>\n",
       ".list-inline {list-style: none; margin:0; padding: 0}\n",
       ".list-inline>li {display: inline-block}\n",
       ".list-inline>li:not(:last-child)::after {content: \"\\00b7\"; padding: 0 .5ex}\n",
       "</style>\n",
       "<ol class=list-inline><li>Male</li><li>Female</li><li>Male</li><li>Female</li><li>Male</li><li>Female</li><li>Male</li><li>Female</li><li>Male</li><li>Female</li><li>Male</li><li>Female</li></ol>\n",
       "\n",
       "<details>\n",
       "\t<summary style=display:list-item;cursor:pointer>\n",
       "\t\t<strong>Levels</strong>:\n",
       "\t</summary>\n",
       "\t<style>\n",
       "\t.list-inline {list-style: none; margin:0; padding: 0}\n",
       "\t.list-inline>li {display: inline-block}\n",
       "\t.list-inline>li:not(:last-child)::after {content: \"\\00b7\"; padding: 0 .5ex}\n",
       "\t</style>\n",
       "\t<ol class=list-inline><li>'Male'</li><li>'Female'</li></ol>\n",
       "</details>"
      ],
      "text/latex": [
       "\\begin{enumerate*}\n",
       "\\item Male\n",
       "\\item Female\n",
       "\\item Male\n",
       "\\item Female\n",
       "\\item Male\n",
       "\\item Female\n",
       "\\item Male\n",
       "\\item Female\n",
       "\\item Male\n",
       "\\item Female\n",
       "\\item Male\n",
       "\\item Female\n",
       "\\end{enumerate*}\n",
       "\n",
       "\\emph{Levels}: \\begin{enumerate*}\n",
       "\\item 'Male'\n",
       "\\item 'Female'\n",
       "\\end{enumerate*}\n"
      ],
      "text/markdown": [
       "1. Male\n",
       "2. Female\n",
       "3. Male\n",
       "4. Female\n",
       "5. Male\n",
       "6. Female\n",
       "7. Male\n",
       "8. Female\n",
       "9. Male\n",
       "10. Female\n",
       "11. Male\n",
       "12. Female\n",
       "\n",
       "\n",
       "\n",
       "**Levels**: 1. 'Male'\n",
       "2. 'Female'\n",
       "\n",
       "\n"
      ],
      "text/plain": [
       " [1] Male   Female Male   Female Male   Female Male   Female Male   Female\n",
       "[11] Male   Female\n",
       "Levels: Male Female"
      ]
     },
     "metadata": {},
     "output_type": "display_data"
    }
   ],
   "source": [
    "new_order_factor <- factor(factor_gender, levels = c('Male', 'Female'))\n",
    "new_order_factor"
   ]
  },
  {
   "cell_type": "code",
   "execution_count": 46,
   "id": "cd874a31-6771-43cc-8db7-d5bdb713824f",
   "metadata": {},
   "outputs": [
    {
     "name": "stdout",
     "output_type": "stream",
     "text": [
      " [1] Red   Red   Red   Red   Red   Green Green Green Green Green Blue  Blue \n",
      "[13] Blue  Blue  Blue \n",
      "Levels: Red Green Blue\n"
     ]
    }
   ],
   "source": [
    "colors_factor <- gl(3,5, labels = c('Red','Green','Blue'))\n",
    "print(colors_factor)"
   ]
  }
 ],
 "metadata": {
  "kernelspec": {
   "display_name": "R",
   "language": "R",
   "name": "ir"
  },
  "language_info": {
   "codemirror_mode": "r",
   "file_extension": ".r",
   "mimetype": "text/x-r-source",
   "name": "R",
   "pygments_lexer": "r",
   "version": "4.3.1"
  }
 },
 "nbformat": 4,
 "nbformat_minor": 5
}
