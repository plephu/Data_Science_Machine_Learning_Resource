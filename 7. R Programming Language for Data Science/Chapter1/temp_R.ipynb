{
  "cells": [
    {
      "cell_type": "markdown",
      "id": "bf7c8bbf",
      "metadata": {
        "id": "bf7c8bbf"
      },
      "source": [
        "# Chương 1: Tổng quan về R"
      ]
    },
    {
      "cell_type": "code",
      "execution_count": null,
      "id": "3a156f81",
      "metadata": {
        "id": "3a156f81",
        "outputId": "19d5b756-6819-46d3-a5e3-24ac191eb26c"
      },
      "outputs": [
        {
          "name": "stdout",
          "output_type": "stream",
          "text": [
            "[1] \"Hello!\"\n"
          ]
        }
      ],
      "source": [
        "print(\"Hello!\")"
      ]
    },
    {
      "cell_type": "code",
      "execution_count": null,
      "id": "1695705c",
      "metadata": {
        "id": "1695705c"
      },
      "outputs": [],
      "source": [
        "a = 5\n",
        "b = 10\n",
        "14 -> c\n",
        "d <- a + b + c"
      ]
    },
    {
      "cell_type": "code",
      "execution_count": null,
      "id": "9522b9ca",
      "metadata": {
        "id": "9522b9ca",
        "outputId": "91e023a5-c8b5-4f0a-d38c-9f341a0ab493"
      },
      "outputs": [
        {
          "name": "stdout",
          "output_type": "stream",
          "text": [
            "[1] 29\n"
          ]
        }
      ],
      "source": [
        "print(d)"
      ]
    }
  ],
  "metadata": {
    "kernelspec": {
      "display_name": "R",
      "language": "R",
      "name": "ir"
    },
    "language_info": {
      "codemirror_mode": "r",
      "file_extension": ".r",
      "mimetype": "text/x-r-source",
      "name": "R",
      "pygments_lexer": "r",
      "version": "4.2.1"
    },
    "colab": {
      "provenance": []
    }
  },
  "nbformat": 4,
  "nbformat_minor": 5
}