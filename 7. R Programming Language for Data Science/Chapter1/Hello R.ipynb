{
 "cells": [
  {
   "cell_type": "code",
   "execution_count": 2,
   "id": "96956511",
   "metadata": {},
   "outputs": [
    {
     "name": "stdout",
     "output_type": "stream",
     "text": [
      "[1] \"Hello class!\"\n",
      "[1] -5\n"
     ]
    }
   ],
   "source": [
    "print(\"Hello class!\")\n",
    "\n",
    "a <- 10\n",
    "b <- 15\n",
    "\n",
    "c <- a-b\n",
    "print(c)"
   ]
  },
  {
   "cell_type": "code",
   "execution_count": null,
   "id": "c4939f95-600c-40dd-8831-71624bca4d1e",
   "metadata": {},
   "outputs": [],
   "source": [
    "if\n",
    "    else if"
   ]
  }
 ],
 "metadata": {
  "kernelspec": {
   "display_name": "R",
   "language": "R",
   "name": "ir"
  },
  "language_info": {
   "codemirror_mode": "r",
   "file_extension": ".r",
   "mimetype": "text/x-r-source",
   "name": "R",
   "pygments_lexer": "r",
   "version": "4.3.1"
  }
 },
 "nbformat": 4,
 "nbformat_minor": 5
}
