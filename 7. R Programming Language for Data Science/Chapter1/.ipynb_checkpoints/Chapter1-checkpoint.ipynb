{
 "cells": [
  {
   "cell_type": "code",
   "execution_count": null,
   "id": "c96ac1ac",
   "metadata": {},
   "outputs": [],
   "source": [
    "a <- 5\n",
    "b <- 7\n",
    "15 -> c\n",
    "d <<  -23\n",
    "18 ->> f\n",
    "\n",
    "g = c + d + f\n",
    "tong <- a + b\n",
    "hieu <- a + b\n",
    "tich <- a + b\n",
    "tong <- a + b\n"
   ]
  }
 ],
 "metadata": {
  "kernelspec": {
   "display_name": "R",
   "language": "R",
   "name": "ir"
  },
  "language_info": {
   "codemirror_mode": "r",
   "file_extension": ".r",
   "mimetype": "text/x-r-source",
   "name": "R",
   "pygments_lexer": "r",
   "version": "4.3.1"
  }
 },
 "nbformat": 4,
 "nbformat_minor": 5
}
