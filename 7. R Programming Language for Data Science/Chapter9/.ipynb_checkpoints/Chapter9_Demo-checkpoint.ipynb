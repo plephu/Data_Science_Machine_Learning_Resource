{
 "cells": [
  {
   "cell_type": "code",
   "execution_count": 1,
   "id": "f8f61477-c15a-48fa-9298-9abc7fe7cccf",
   "metadata": {},
   "outputs": [
    {
     "name": "stdout",
     "output_type": "stream",
     "text": [
      "[1] \"C:/Users/AW/OneDrive/Phu/Python/7. R Programming Language for Data Science/BaiTap/Chapter9\"\n"
     ]
    }
   ],
   "source": [
    "print(getwd())"
   ]
  },
  {
   "cell_type": "code",
   "execution_count": 3,
   "id": "823de703-f879-49c7-afba-c12293581ea7",
   "metadata": {},
   "outputs": [],
   "source": [
    "content = readLines('Du_lieu/license.txt')"
   ]
  },
  {
   "cell_type": "code",
   "execution_count": 4,
   "id": "ee46f047-d981-452a-bbdf-4662e73fc06d",
   "metadata": {},
   "outputs": [
    {
     "name": "stdout",
     "output_type": "stream",
     "text": [
      "[1] \"These data files are derived by splitting up the data set downloaded from:\"\n",
      "[2] \"https://www.ontario.ca/data/ontario-public-schools-enrolment\"              \n",
      "[3] \"under the Open Government License - Ontario:\"                              \n",
      "[4] \"https://www.ontario.ca/page/open-government-licence-ontario\"               \n"
     ]
    }
   ],
   "source": [
    "print(content)"
   ]
  },
  {
   "cell_type": "code",
   "execution_count": 6,
   "id": "8ae1e356-a203-434f-bd04-f62f5ffdd761",
   "metadata": {},
   "outputs": [
    {
     "name": "stdout",
     "output_type": "stream",
     "text": [
      "[1] \"Mùa xuân là Tết trồng cây\"           \n",
      "[2] \"Làm cho đất nước càng ngày càng xuân\"\n",
      "[3] \"\"                                    \n"
     ]
    }
   ],
   "source": [
    "bai_tho = readLines('Du_lieu/bai_tho.txt', encoding = 'UTF-8')\n",
    "print(bai_tho)"
   ]
  },
  {
   "cell_type": "code",
   "execution_count": 7,
   "id": "38f584cb-cfcd-425c-a9b0-eebd8c9162b0",
   "metadata": {},
   "outputs": [
    {
     "name": "stdout",
     "output_type": "stream",
     "text": [
      "[1] 4\n",
      "[1] 74 60 44 59\n"
     ]
    }
   ],
   "source": [
    "print(length(content))\n",
    "print(nchar(content))\n"
   ]
  },
  {
   "cell_type": "code",
   "execution_count": 9,
   "id": "8b87057b-d87d-4ddf-8e24-599ce17c8709",
   "metadata": {},
   "outputs": [
    {
     "name": "stdout",
     "output_type": "stream",
     "text": [
      "[1] 242\n"
     ]
    }
   ],
   "source": [
    "print(file.size('Du_lieu/license.txt'))"
   ]
  },
  {
   "cell_type": "code",
   "execution_count": 10,
   "id": "3809cef5-b150-4fcf-9339-694f095867e2",
   "metadata": {},
   "outputs": [
    {
     "name": "stdout",
     "output_type": "stream",
     "text": [
      " [1] \"These\"                                                       \n",
      " [2] \"data\"                                                        \n",
      " [3] \"files\"                                                       \n",
      " [4] \"are\"                                                         \n",
      " [5] \"derived\"                                                     \n",
      " [6] \"by\"                                                          \n",
      " [7] \"splitting\"                                                   \n",
      " [8] \"up\"                                                          \n",
      " [9] \"the\"                                                         \n",
      "[10] \"data\"                                                        \n",
      "[11] \"set\"                                                         \n",
      "[12] \"downloaded\"                                                  \n",
      "[13] \"from:\"                                                       \n",
      "[14] \"https://www.ontario.ca/data/ontario-public-schools-enrolment\"\n",
      "[15] \"under\"                                                       \n",
      "[16] \"the\"                                                         \n",
      "[17] \"Open\"                                                        \n",
      "[18] \"Government\"                                                  \n",
      "[19] \"License\"                                                     \n",
      "[20] \"-\"                                                           \n",
      "[21] \"Ontario:\"                                                    \n",
      "[22] \"https://www.ontario.ca/page/open-government-licence-ontario\" \n"
     ]
    }
   ],
   "source": [
    "content1 = scan('Du_lieu/license.txt','')\n",
    "print(content1)"
   ]
  },
  {
   "cell_type": "code",
   "execution_count": 18,
   "id": "3164d359-b79e-4996-88c9-5046bd7f899c",
   "metadata": {},
   "outputs": [
    {
     "name": "stdout",
     "output_type": "stream",
     "text": [
      "        V1 V2  V3 V4 V5\n",
      "1     Alex 25 177 57  F\n",
      "2    Lilly 31 163 69  F\n",
      "3     Mark 23 190 83  M\n",
      "4   Oliver 52 179 75  M\n",
      "5   Martha 76 163 70  F\n",
      "6    Lucas 49 183 83  M\n",
      "7 Caroline 26 164 53  F\n"
     ]
    }
   ],
   "source": [
    "df = read.table('Du_lieu/Table0.txt')\n",
    "print(df)"
   ]
  },
  {
   "cell_type": "code",
   "execution_count": 20,
   "id": "0d9519ce-6831-4896-9d82-b2f3ee336c9e",
   "metadata": {},
   "outputs": [
    {
     "name": "stdout",
     "output_type": "stream",
     "text": [
      "        V1 V2  V3 V4 V5\n",
      "1     Alex 25 177 57  F\n",
      "2    Lilly 31 163 69  F\n",
      "5   Martha 76 163 70  F\n",
      "7 Caroline 26 164 53  F\n"
     ]
    }
   ],
   "source": [
    "df_F = df[df$V5 == 'F',]\n",
    "print(df_F)"
   ]
  },
  {
   "cell_type": "code",
   "execution_count": 21,
   "id": "af8780a1-94a0-4220-9099-f17a5af75cbd",
   "metadata": {},
   "outputs": [
    {
     "name": "stdout",
     "output_type": "stream",
     "text": [
      "        V1 V2  V3 V4 V5\n",
      "1     Alex 25 177 57  F\n",
      "2    Lilly 31 163 69  F\n",
      "5   Martha 76 163 70  F\n",
      "7 Caroline 26 164 53  F\n"
     ]
    }
   ],
   "source": [
    "df_F = df[df['V5'] == 'F',]\n",
    "print(df_F)"
   ]
  },
  {
   "cell_type": "code",
   "execution_count": 22,
   "id": "3eefe5c0-92f7-461d-9833-5b9bce0c5ad8",
   "metadata": {},
   "outputs": [
    {
     "name": "stdout",
     "output_type": "stream",
     "text": [
      "[1] \"Hello and welcome\"\n"
     ]
    }
   ],
   "source": [
    "content2 = 'Hello and welcome'\n",
    "file_name = file(description = 'Du_lieu/text.txt', open = 'a', encoding = 'UTF-8')\n",
    "write(content2, file=file_name)\n",
    "content2 =  readLines('Du_lieu/text.txt')\n",
    "print(content2)"
   ]
  },
  {
   "cell_type": "code",
   "execution_count": 24,
   "id": "9fbe5f00-12ca-4c2d-9867-019af94da5ae",
   "metadata": {},
   "outputs": [],
   "source": [
    "write.table(df,file = 'Du_lieu/Table0_new.txt',sep = '\\t')"
   ]
  },
  {
   "cell_type": "markdown",
   "id": "9f720108-5dce-4983-a11b-25a1fc1fec78",
   "metadata": {},
   "source": [
    "### Đọc csv"
   ]
  },
  {
   "cell_type": "code",
   "execution_count": 25,
   "id": "a00feb65-260e-4984-b165-190a8c595c87",
   "metadata": {},
   "outputs": [
    {
     "data": {
      "text/html": [
       "<table class=\"dataframe\">\n",
       "<caption>A data.frame: 8 × 5</caption>\n",
       "<thead>\n",
       "\t<tr><th scope=col>id</th><th scope=col>name</th><th scope=col>salary</th><th scope=col>start_date</th><th scope=col>dept</th></tr>\n",
       "\t<tr><th scope=col>&lt;int&gt;</th><th scope=col>&lt;chr&gt;</th><th scope=col>&lt;dbl&gt;</th><th scope=col>&lt;chr&gt;</th><th scope=col>&lt;chr&gt;</th></tr>\n",
       "</thead>\n",
       "<tbody>\n",
       "\t<tr><td> 1</td><td>Rick    </td><td>623.30</td><td>2012-01-01</td><td>IT        </td></tr>\n",
       "\t<tr><td> 2</td><td>Dan     </td><td>515.20</td><td>2013-09-23</td><td>Operations</td></tr>\n",
       "\t<tr><td> 3</td><td>Michelle</td><td>611.00</td><td>2014-11-15</td><td>IT        </td></tr>\n",
       "\t<tr><td> 4</td><td>Ryan    </td><td>729.00</td><td>2014-05-11</td><td>HR        </td></tr>\n",
       "\t<tr><td>NA</td><td>Gary    </td><td>843.25</td><td>2015-03-27</td><td>Finance   </td></tr>\n",
       "\t<tr><td> 6</td><td>Nina    </td><td>578.00</td><td>2013-05-21</td><td>IT        </td></tr>\n",
       "\t<tr><td> 7</td><td>Simon   </td><td>632.80</td><td>2013-07-30</td><td>Operations</td></tr>\n",
       "\t<tr><td> 8</td><td>Guru    </td><td>722.50</td><td>2014-06-17</td><td>Finance   </td></tr>\n",
       "</tbody>\n",
       "</table>\n"
      ],
      "text/latex": [
       "A data.frame: 8 × 5\n",
       "\\begin{tabular}{lllll}\n",
       " id & name & salary & start\\_date & dept\\\\\n",
       " <int> & <chr> & <dbl> & <chr> & <chr>\\\\\n",
       "\\hline\n",
       "\t  1 & Rick     & 623.30 & 2012-01-01 & IT        \\\\\n",
       "\t  2 & Dan      & 515.20 & 2013-09-23 & Operations\\\\\n",
       "\t  3 & Michelle & 611.00 & 2014-11-15 & IT        \\\\\n",
       "\t  4 & Ryan     & 729.00 & 2014-05-11 & HR        \\\\\n",
       "\t NA & Gary     & 843.25 & 2015-03-27 & Finance   \\\\\n",
       "\t  6 & Nina     & 578.00 & 2013-05-21 & IT        \\\\\n",
       "\t  7 & Simon    & 632.80 & 2013-07-30 & Operations\\\\\n",
       "\t  8 & Guru     & 722.50 & 2014-06-17 & Finance   \\\\\n",
       "\\end{tabular}\n"
      ],
      "text/markdown": [
       "\n",
       "A data.frame: 8 × 5\n",
       "\n",
       "| id &lt;int&gt; | name &lt;chr&gt; | salary &lt;dbl&gt; | start_date &lt;chr&gt; | dept &lt;chr&gt; |\n",
       "|---|---|---|---|---|\n",
       "|  1 | Rick     | 623.30 | 2012-01-01 | IT         |\n",
       "|  2 | Dan      | 515.20 | 2013-09-23 | Operations |\n",
       "|  3 | Michelle | 611.00 | 2014-11-15 | IT         |\n",
       "|  4 | Ryan     | 729.00 | 2014-05-11 | HR         |\n",
       "| NA | Gary     | 843.25 | 2015-03-27 | Finance    |\n",
       "|  6 | Nina     | 578.00 | 2013-05-21 | IT         |\n",
       "|  7 | Simon    | 632.80 | 2013-07-30 | Operations |\n",
       "|  8 | Guru     | 722.50 | 2014-06-17 | Finance    |\n",
       "\n"
      ],
      "text/plain": [
       "  id name     salary start_date dept      \n",
       "1  1 Rick     623.30 2012-01-01 IT        \n",
       "2  2 Dan      515.20 2013-09-23 Operations\n",
       "3  3 Michelle 611.00 2014-11-15 IT        \n",
       "4  4 Ryan     729.00 2014-05-11 HR        \n",
       "5 NA Gary     843.25 2015-03-27 Finance   \n",
       "6  6 Nina     578.00 2013-05-21 IT        \n",
       "7  7 Simon    632.80 2013-07-30 Operations\n",
       "8  8 Guru     722.50 2014-06-17 Finance   "
      ]
     },
     "metadata": {},
     "output_type": "display_data"
    }
   ],
   "source": [
    "data = read.csv('Du_lieu/emp.csv')\n",
    "data"
   ]
  },
  {
   "cell_type": "code",
   "execution_count": 27,
   "id": "430a376c-c479-4e41-935d-0bdc4f3426cf",
   "metadata": {},
   "outputs": [
    {
     "name": "stdout",
     "output_type": "stream",
     "text": [
      "[1] TRUE\n",
      "[1] 5\n",
      "[1] 8\n"
     ]
    }
   ],
   "source": [
    "print(is.data.frame(data))\n",
    "print(ncol(data))\n",
    "print(nrow(data))"
   ]
  },
  {
   "cell_type": "code",
   "execution_count": 31,
   "id": "0b2f154f-f954-4203-b6c3-055c1493c16b",
   "metadata": {},
   "outputs": [
    {
     "name": "stdout",
     "output_type": "stream",
     "text": [
      "[1] \"Max salary:  843.25\"\n",
      "[1] \"Max salary:  656.88125\"\n",
      "[1] \"People have max salary: \"\n",
      "  id name salary start_date    dept\n",
      "5 NA Gary 843.25 2015-03-27 Finance\n"
     ]
    }
   ],
   "source": [
    "print(paste(\"Max salary: \", max(data$salary)))\n",
    "print(paste(\"Max salary: \", mean(data$salary)))\n",
    "print(paste('People have max salary: '))\n",
    "print(subset(data, salary == max(data$salary)))"
   ]
  },
  {
   "cell_type": "markdown",
   "id": "da895157-b142-4c16-b978-f2f766b9b1ce",
   "metadata": {},
   "source": [
    "### Ghi csv file"
   ]
  },
  {
   "cell_type": "code",
   "execution_count": 36,
   "id": "1c80fbec-bd71-4ecf-93d2-af509da7cddd",
   "metadata": {},
   "outputs": [
    {
     "name": "stdout",
     "output_type": "stream",
     "text": [
      "  X id     name salary start_date dept\n",
      "1 1  1     Rick  623.3 2012-01-01   IT\n",
      "2 3  3 Michelle  611.0 2014-11-15   IT\n",
      "3 6  6     Nina  578.0 2013-05-21   IT\n"
     ]
    }
   ],
   "source": [
    "it_emp = subset(data , dept == 'IT')\n",
    "write.csv(it_emp, 'Du_lieu/id_emp.csv')\n",
    "newdata =  read.csv('Du_lieu/id_emp.csv')\n",
    "print(newdata)"
   ]
  },
  {
   "cell_type": "code",
   "execution_count": 37,
   "id": "dbd4e06c-d826-49fd-a2b6-e8b3420d5652",
   "metadata": {},
   "outputs": [
    {
     "name": "stdout",
     "output_type": "stream",
     "text": [
      "  id     name salary start_date dept\n",
      "1  1     Rick  623.3 2012-01-01   IT\n",
      "2  3 Michelle  611.0 2014-11-15   IT\n",
      "3  6     Nina  578.0 2013-05-21   IT\n"
     ]
    }
   ],
   "source": [
    "it_emp = subset(data , dept == 'IT')\n",
    "write.csv(it_emp, 'Du_lieu/id_emp.csv', row.names = FALSE)\n",
    "newdata =  read.csv('Du_lieu/id_emp.csv')\n",
    "print(newdata)"
   ]
  },
  {
   "cell_type": "markdown",
   "id": "14b8f138-cf97-40d4-8b5d-88530260c51b",
   "metadata": {},
   "source": [
    "### Excel file"
   ]
  },
  {
   "cell_type": "code",
   "execution_count": 40,
   "id": "a2f042b0-685c-4110-bb88-c4640b94faca",
   "metadata": {},
   "outputs": [
    {
     "name": "stderr",
     "output_type": "stream",
     "text": [
      "Installing package into 'C:/Users/AW/AppData/Local/R/win-library/4.3'\n",
      "(as 'lib' is unspecified)\n",
      "\n"
     ]
    },
    {
     "name": "stdout",
     "output_type": "stream",
     "text": [
      "package 'openxlsx' successfully unpacked and MD5 sums checked\n",
      "\n",
      "The downloaded binary packages are in\n",
      "\tC:\\Users\\AW\\AppData\\Local\\Temp\\Rtmp8olFEI\\downloaded_packages\n"
     ]
    }
   ],
   "source": [
    "install.packages(\"openxlsx\")"
   ]
  },
  {
   "cell_type": "code",
   "execution_count": 41,
   "id": "109b5bb1-5788-4808-92ec-6bd67d82e049",
   "metadata": {},
   "outputs": [],
   "source": [
    "library(openxlsx)"
   ]
  },
  {
   "cell_type": "code",
   "execution_count": 42,
   "id": "0316a916-5a9b-4262-a38e-2bf4cd042379",
   "metadata": {},
   "outputs": [
    {
     "data": {
      "text/html": [
       "<table class=\"dataframe\">\n",
       "<caption>A data.frame: 8 × 5</caption>\n",
       "<thead>\n",
       "\t<tr><th></th><th scope=col>id</th><th scope=col>name</th><th scope=col>salary</th><th scope=col>start_date</th><th scope=col>dept</th></tr>\n",
       "\t<tr><th></th><th scope=col>&lt;chr&gt;</th><th scope=col>&lt;chr&gt;</th><th scope=col>&lt;dbl&gt;</th><th scope=col>&lt;dbl&gt;</th><th scope=col>&lt;chr&gt;</th></tr>\n",
       "</thead>\n",
       "<tbody>\n",
       "\t<tr><th scope=row>1</th><td>1</td><td>Rick    </td><td>623.30</td><td>40909</td><td>IT        </td></tr>\n",
       "\t<tr><th scope=row>2</th><td>2</td><td>Dan     </td><td>515.20</td><td>41540</td><td>Operations</td></tr>\n",
       "\t<tr><th scope=row>3</th><td>3</td><td>Michelle</td><td>611.00</td><td>41958</td><td>IT        </td></tr>\n",
       "\t<tr><th scope=row>4</th><td>4</td><td>Ryan    </td><td>729.00</td><td>41770</td><td>HR        </td></tr>\n",
       "\t<tr><th scope=row>5</th><td> </td><td>Gary    </td><td>843.25</td><td>42090</td><td>Finance   </td></tr>\n",
       "\t<tr><th scope=row>6</th><td>6</td><td>Nina    </td><td>578.00</td><td>41415</td><td>IT        </td></tr>\n",
       "\t<tr><th scope=row>7</th><td>7</td><td>Simon   </td><td>632.80</td><td>41485</td><td>Operations</td></tr>\n",
       "\t<tr><th scope=row>8</th><td>8</td><td>Guru    </td><td>722.50</td><td>41807</td><td>Finance   </td></tr>\n",
       "</tbody>\n",
       "</table>\n"
      ],
      "text/latex": [
       "A data.frame: 8 × 5\n",
       "\\begin{tabular}{r|lllll}\n",
       "  & id & name & salary & start\\_date & dept\\\\\n",
       "  & <chr> & <chr> & <dbl> & <dbl> & <chr>\\\\\n",
       "\\hline\n",
       "\t1 & 1 & Rick     & 623.30 & 40909 & IT        \\\\\n",
       "\t2 & 2 & Dan      & 515.20 & 41540 & Operations\\\\\n",
       "\t3 & 3 & Michelle & 611.00 & 41958 & IT        \\\\\n",
       "\t4 & 4 & Ryan     & 729.00 & 41770 & HR        \\\\\n",
       "\t5 &   & Gary     & 843.25 & 42090 & Finance   \\\\\n",
       "\t6 & 6 & Nina     & 578.00 & 41415 & IT        \\\\\n",
       "\t7 & 7 & Simon    & 632.80 & 41485 & Operations\\\\\n",
       "\t8 & 8 & Guru     & 722.50 & 41807 & Finance   \\\\\n",
       "\\end{tabular}\n"
      ],
      "text/markdown": [
       "\n",
       "A data.frame: 8 × 5\n",
       "\n",
       "| <!--/--> | id &lt;chr&gt; | name &lt;chr&gt; | salary &lt;dbl&gt; | start_date &lt;dbl&gt; | dept &lt;chr&gt; |\n",
       "|---|---|---|---|---|---|\n",
       "| 1 | 1 | Rick     | 623.30 | 40909 | IT         |\n",
       "| 2 | 2 | Dan      | 515.20 | 41540 | Operations |\n",
       "| 3 | 3 | Michelle | 611.00 | 41958 | IT         |\n",
       "| 4 | 4 | Ryan     | 729.00 | 41770 | HR         |\n",
       "| 5 | <!----> | Gary     | 843.25 | 42090 | Finance    |\n",
       "| 6 | 6 | Nina     | 578.00 | 41415 | IT         |\n",
       "| 7 | 7 | Simon    | 632.80 | 41485 | Operations |\n",
       "| 8 | 8 | Guru     | 722.50 | 41807 | Finance    |\n",
       "\n"
      ],
      "text/plain": [
       "  id name     salary start_date dept      \n",
       "1 1  Rick     623.30 40909      IT        \n",
       "2 2  Dan      515.20 41540      Operations\n",
       "3 3  Michelle 611.00 41958      IT        \n",
       "4 4  Ryan     729.00 41770      HR        \n",
       "5    Gary     843.25 42090      Finance   \n",
       "6 6  Nina     578.00 41415      IT        \n",
       "7 7  Simon    632.80 41485      Operations\n",
       "8 8  Guru     722.50 41807      Finance   "
      ]
     },
     "metadata": {},
     "output_type": "display_data"
    }
   ],
   "source": [
    "data =  read.xlsx('Du_lieu/emp_data.xlsx', sheet = 1)\n",
    "data"
   ]
  },
  {
   "cell_type": "code",
   "execution_count": 43,
   "id": "2eb1c585-d1bb-48a8-b22f-d186f61fb607",
   "metadata": {},
   "outputs": [
    {
     "data": {
      "text/html": [
       "<table class=\"dataframe\">\n",
       "<caption>A data.frame: 8 × 2</caption>\n",
       "<thead>\n",
       "\t<tr><th></th><th scope=col>name</th><th scope=col>city</th></tr>\n",
       "\t<tr><th></th><th scope=col>&lt;chr&gt;</th><th scope=col>&lt;chr&gt;</th></tr>\n",
       "</thead>\n",
       "<tbody>\n",
       "\t<tr><th scope=row>1</th><td>Rick    </td><td>Seattle</td></tr>\n",
       "\t<tr><th scope=row>2</th><td>Dan     </td><td>Tampa  </td></tr>\n",
       "\t<tr><th scope=row>3</th><td>Michelle</td><td>Chicago</td></tr>\n",
       "\t<tr><th scope=row>4</th><td>Ryan    </td><td>Seattle</td></tr>\n",
       "\t<tr><th scope=row>5</th><td>Gary    </td><td>Houston</td></tr>\n",
       "\t<tr><th scope=row>6</th><td>Nina    </td><td>Boston </td></tr>\n",
       "\t<tr><th scope=row>7</th><td>Simon   </td><td>Mumbai </td></tr>\n",
       "\t<tr><th scope=row>8</th><td>Guru    </td><td>Dallas </td></tr>\n",
       "</tbody>\n",
       "</table>\n"
      ],
      "text/latex": [
       "A data.frame: 8 × 2\n",
       "\\begin{tabular}{r|ll}\n",
       "  & name & city\\\\\n",
       "  & <chr> & <chr>\\\\\n",
       "\\hline\n",
       "\t1 & Rick     & Seattle\\\\\n",
       "\t2 & Dan      & Tampa  \\\\\n",
       "\t3 & Michelle & Chicago\\\\\n",
       "\t4 & Ryan     & Seattle\\\\\n",
       "\t5 & Gary     & Houston\\\\\n",
       "\t6 & Nina     & Boston \\\\\n",
       "\t7 & Simon    & Mumbai \\\\\n",
       "\t8 & Guru     & Dallas \\\\\n",
       "\\end{tabular}\n"
      ],
      "text/markdown": [
       "\n",
       "A data.frame: 8 × 2\n",
       "\n",
       "| <!--/--> | name &lt;chr&gt; | city &lt;chr&gt; |\n",
       "|---|---|---|\n",
       "| 1 | Rick     | Seattle |\n",
       "| 2 | Dan      | Tampa   |\n",
       "| 3 | Michelle | Chicago |\n",
       "| 4 | Ryan     | Seattle |\n",
       "| 5 | Gary     | Houston |\n",
       "| 6 | Nina     | Boston  |\n",
       "| 7 | Simon    | Mumbai  |\n",
       "| 8 | Guru     | Dallas  |\n",
       "\n"
      ],
      "text/plain": [
       "  name     city   \n",
       "1 Rick     Seattle\n",
       "2 Dan      Tampa  \n",
       "3 Michelle Chicago\n",
       "4 Ryan     Seattle\n",
       "5 Gary     Houston\n",
       "6 Nina     Boston \n",
       "7 Simon    Mumbai \n",
       "8 Guru     Dallas "
      ]
     },
     "metadata": {},
     "output_type": "display_data"
    }
   ],
   "source": [
    "data_city =  read.xlsx('Du_lieu/emp_data.xlsx', sheet = 'city')\n",
    "data_city"
   ]
  },
  {
   "cell_type": "code",
   "execution_count": 46,
   "id": "223ef06c-3977-40a7-a323-4b9f3ccd9964",
   "metadata": {},
   "outputs": [
    {
     "data": {
      "text/html": [
       "<table class=\"dataframe\">\n",
       "<caption>A data.frame: 3 × 5</caption>\n",
       "<thead>\n",
       "\t<tr><th></th><th scope=col>id</th><th scope=col>name</th><th scope=col>salary</th><th scope=col>start_date</th><th scope=col>dept</th></tr>\n",
       "\t<tr><th></th><th scope=col>&lt;chr&gt;</th><th scope=col>&lt;chr&gt;</th><th scope=col>&lt;dbl&gt;</th><th scope=col>&lt;dbl&gt;</th><th scope=col>&lt;chr&gt;</th></tr>\n",
       "</thead>\n",
       "<tbody>\n",
       "\t<tr><th scope=row>1</th><td>1</td><td>Rick    </td><td>623.3</td><td>40909</td><td>IT</td></tr>\n",
       "\t<tr><th scope=row>3</th><td>3</td><td>Michelle</td><td>611.0</td><td>41958</td><td>IT</td></tr>\n",
       "\t<tr><th scope=row>6</th><td>6</td><td>Nina    </td><td>578.0</td><td>41415</td><td>IT</td></tr>\n",
       "</tbody>\n",
       "</table>\n"
      ],
      "text/latex": [
       "A data.frame: 3 × 5\n",
       "\\begin{tabular}{r|lllll}\n",
       "  & id & name & salary & start\\_date & dept\\\\\n",
       "  & <chr> & <chr> & <dbl> & <dbl> & <chr>\\\\\n",
       "\\hline\n",
       "\t1 & 1 & Rick     & 623.3 & 40909 & IT\\\\\n",
       "\t3 & 3 & Michelle & 611.0 & 41958 & IT\\\\\n",
       "\t6 & 6 & Nina     & 578.0 & 41415 & IT\\\\\n",
       "\\end{tabular}\n"
      ],
      "text/markdown": [
       "\n",
       "A data.frame: 3 × 5\n",
       "\n",
       "| <!--/--> | id &lt;chr&gt; | name &lt;chr&gt; | salary &lt;dbl&gt; | start_date &lt;dbl&gt; | dept &lt;chr&gt; |\n",
       "|---|---|---|---|---|---|\n",
       "| 1 | 1 | Rick     | 623.3 | 40909 | IT |\n",
       "| 3 | 3 | Michelle | 611.0 | 41958 | IT |\n",
       "| 6 | 6 | Nina     | 578.0 | 41415 | IT |\n",
       "\n"
      ],
      "text/plain": [
       "  id name     salary start_date dept\n",
       "1 1  Rick     623.3  40909      IT  \n",
       "3 3  Michelle 611.0  41958      IT  \n",
       "6 6  Nina     578.0  41415      IT  "
      ]
     },
     "metadata": {},
     "output_type": "display_data"
    }
   ],
   "source": [
    "data_IT = subset(data, dept == 'IT')\n",
    "data_IT"
   ]
  },
  {
   "cell_type": "code",
   "execution_count": 47,
   "id": "b390f67a-80b0-41f9-867f-4fbc4664e02d",
   "metadata": {},
   "outputs": [],
   "source": [
    "write.xlsx(data_IT, file =  'Du_lieu/emp_IT.xlsx', sheetName = 'IT', append = FALSE)"
   ]
  },
  {
   "cell_type": "code",
   "execution_count": 50,
   "id": "b15693b9-b523-4bc5-bc3a-23c3cfb034ce",
   "metadata": {},
   "outputs": [
    {
     "data": {
      "text/html": [
       "<table class=\"dataframe\">\n",
       "<caption>A data.frame: 3 × 5</caption>\n",
       "<thead>\n",
       "\t<tr><th></th><th scope=col>id</th><th scope=col>name</th><th scope=col>salary</th><th scope=col>start_date</th><th scope=col>dept</th></tr>\n",
       "\t<tr><th></th><th scope=col>&lt;chr&gt;</th><th scope=col>&lt;chr&gt;</th><th scope=col>&lt;dbl&gt;</th><th scope=col>&lt;dbl&gt;</th><th scope=col>&lt;chr&gt;</th></tr>\n",
       "</thead>\n",
       "<tbody>\n",
       "\t<tr><th scope=row>1</th><td>1</td><td>Rick    </td><td>623.3</td><td>40909</td><td>IT</td></tr>\n",
       "\t<tr><th scope=row>2</th><td>3</td><td>Michelle</td><td>611.0</td><td>41958</td><td>IT</td></tr>\n",
       "\t<tr><th scope=row>3</th><td>6</td><td>Nina    </td><td>578.0</td><td>41415</td><td>IT</td></tr>\n",
       "</tbody>\n",
       "</table>\n"
      ],
      "text/latex": [
       "A data.frame: 3 × 5\n",
       "\\begin{tabular}{r|lllll}\n",
       "  & id & name & salary & start\\_date & dept\\\\\n",
       "  & <chr> & <chr> & <dbl> & <dbl> & <chr>\\\\\n",
       "\\hline\n",
       "\t1 & 1 & Rick     & 623.3 & 40909 & IT\\\\\n",
       "\t2 & 3 & Michelle & 611.0 & 41958 & IT\\\\\n",
       "\t3 & 6 & Nina     & 578.0 & 41415 & IT\\\\\n",
       "\\end{tabular}\n"
      ],
      "text/markdown": [
       "\n",
       "A data.frame: 3 × 5\n",
       "\n",
       "| <!--/--> | id &lt;chr&gt; | name &lt;chr&gt; | salary &lt;dbl&gt; | start_date &lt;dbl&gt; | dept &lt;chr&gt; |\n",
       "|---|---|---|---|---|---|\n",
       "| 1 | 1 | Rick     | 623.3 | 40909 | IT |\n",
       "| 2 | 3 | Michelle | 611.0 | 41958 | IT |\n",
       "| 3 | 6 | Nina     | 578.0 | 41415 | IT |\n",
       "\n"
      ],
      "text/plain": [
       "  id name     salary start_date dept\n",
       "1 1  Rick     623.3  40909      IT  \n",
       "2 3  Michelle 611.0  41958      IT  \n",
       "3 6  Nina     578.0  41415      IT  "
      ]
     },
     "metadata": {},
     "output_type": "display_data"
    }
   ],
   "source": [
    "emp_IT = read.xlsx('Du_lieu/emp_IT.xlsx', sheet = 'IT')\n",
    "emp_IT"
   ]
  },
  {
   "cell_type": "code",
   "execution_count": null,
   "id": "14f0e52d-3e1f-42c3-ba15-225091436d95",
   "metadata": {},
   "outputs": [],
   "source": []
  },
  {
   "cell_type": "code",
   "execution_count": null,
   "id": "58224560-830f-43b1-883b-6b9ef1d631f3",
   "metadata": {},
   "outputs": [],
   "source": []
  },
  {
   "cell_type": "code",
   "execution_count": null,
   "id": "505763c5-e4e2-40ad-a38e-a375821424da",
   "metadata": {},
   "outputs": [],
   "source": []
  }
 ],
 "metadata": {
  "kernelspec": {
   "display_name": "R",
   "language": "R",
   "name": "ir"
  },
  "language_info": {
   "codemirror_mode": "r",
   "file_extension": ".r",
   "mimetype": "text/x-r-source",
   "name": "R",
   "pygments_lexer": "r",
   "version": "4.3.1"
  }
 },
 "nbformat": 4,
 "nbformat_minor": 5
}
